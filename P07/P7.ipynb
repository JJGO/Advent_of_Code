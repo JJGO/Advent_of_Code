{
 "cells": [
  {
   "cell_type": "code",
   "execution_count": 13,
   "metadata": {
    "ExecuteTime": {
     "end_time": "2018-10-19T16:32:23.955032Z",
     "start_time": "2018-10-19T16:32:23.951288Z"
    }
   },
   "outputs": [],
   "source": [
    "with open('input.txt', 'r') as f:\n",
    "    puzzle = f.read().strip()"
   ]
  },
  {
   "cell_type": "code",
   "execution_count": 15,
   "metadata": {
    "ExecuteTime": {
     "end_time": "2018-10-19T16:33:52.458072Z",
     "start_time": "2018-10-19T16:33:52.449494Z"
    }
   },
   "outputs": [],
   "source": [
    "def create_graph(s):\n",
    "    lines = s.split('\\n')\n",
    "    graph = {}\n",
    "    weight = {}\n",
    "    for line in lines:\n",
    "        node, *edges = line.split(' -> ')\n",
    "        if edges != []:\n",
    "            edges = edges[0].split(', ')\n",
    "        node, w = node.split(' ')\n",
    "        weight[node] = int(w.strip('()'))\n",
    "        graph[node] = edges\n",
    "    return graph, weight"
   ]
  },
  {
   "cell_type": "code",
   "execution_count": 5,
   "metadata": {
    "ExecuteTime": {
     "end_time": "2018-10-19T16:31:48.950946Z",
     "start_time": "2018-10-19T16:31:48.948360Z"
    }
   },
   "outputs": [],
   "source": [
    "example=\"\"\"pbga (66)\n",
    "xhth (57)\n",
    "ebii (61)\n",
    "havc (66)\n",
    "ktlj (57)\n",
    "fwft (72) -> ktlj, cntj, xhth\n",
    "qoyq (66)\n",
    "padx (45) -> pbga, havc, qoyq\n",
    "tknk (41) -> ugml, padx, fwft\n",
    "jptl (61)\n",
    "ugml (68) -> gyxo, ebii, jptl\n",
    "gyxo (61)\n",
    "cntj (57)\"\"\""
   ]
  },
  {
   "cell_type": "code",
   "execution_count": 6,
   "metadata": {
    "ExecuteTime": {
     "end_time": "2018-10-19T16:31:49.098259Z",
     "start_time": "2018-10-19T16:31:49.092406Z"
    }
   },
   "outputs": [
    {
     "data": {
      "text/plain": [
       "({'cntj': [],\n",
       "  'ebii': [],\n",
       "  'fwft': ['ktlj', 'cntj', 'xhth'],\n",
       "  'gyxo': [],\n",
       "  'havc': [],\n",
       "  'jptl': [],\n",
       "  'ktlj': [],\n",
       "  'padx': ['pbga', 'havc', 'qoyq'],\n",
       "  'pbga': [],\n",
       "  'qoyq': [],\n",
       "  'tknk': ['ugml', 'padx', 'fwft'],\n",
       "  'ugml': ['gyxo', 'ebii', 'jptl'],\n",
       "  'xhth': []},\n",
       " {'cntj': 57,\n",
       "  'ebii': 61,\n",
       "  'fwft': 72,\n",
       "  'gyxo': 61,\n",
       "  'havc': 66,\n",
       "  'jptl': 61,\n",
       "  'ktlj': 57,\n",
       "  'padx': 45,\n",
       "  'pbga': 66,\n",
       "  'qoyq': 66,\n",
       "  'tknk': 41,\n",
       "  'ugml': 68,\n",
       "  'xhth': 57})"
      ]
     },
     "execution_count": 6,
     "metadata": {},
     "output_type": "execute_result"
    }
   ],
   "source": [
    "G, W = create_graph(example)\n",
    "G, W"
   ]
  },
  {
   "cell_type": "code",
   "execution_count": 7,
   "metadata": {
    "ExecuteTime": {
     "end_time": "2018-10-19T16:32:04.676748Z",
     "start_time": "2018-10-19T16:32:04.669444Z"
    }
   },
   "outputs": [],
   "source": [
    "from collections import defaultdict\n",
    "\n",
    "def reverse(graph):\n",
    "    reverse_graph = defaultdict(list)\n",
    "    for parent, edges in graph.items():\n",
    "        reverse_graph[parent].extend([])\n",
    "        for child in edges:\n",
    "            reverse_graph[child].append(parent)\n",
    "    return dict(reverse_graph)"
   ]
  },
  {
   "cell_type": "code",
   "execution_count": 8,
   "metadata": {
    "ExecuteTime": {
     "end_time": "2018-10-19T16:32:04.856882Z",
     "start_time": "2018-10-19T16:32:04.852904Z"
    }
   },
   "outputs": [
    {
     "data": {
      "text/plain": [
       "{'cntj': ['fwft'],\n",
       " 'ebii': ['ugml'],\n",
       " 'fwft': ['tknk'],\n",
       " 'gyxo': ['ugml'],\n",
       " 'havc': ['padx'],\n",
       " 'jptl': ['ugml'],\n",
       " 'ktlj': ['fwft'],\n",
       " 'padx': ['tknk'],\n",
       " 'pbga': ['padx'],\n",
       " 'qoyq': ['padx'],\n",
       " 'tknk': [],\n",
       " 'ugml': ['tknk'],\n",
       " 'xhth': ['fwft']}"
      ]
     },
     "execution_count": 8,
     "metadata": {},
     "output_type": "execute_result"
    }
   ],
   "source": [
    "reverse(G)"
   ]
  },
  {
   "cell_type": "code",
   "execution_count": 9,
   "metadata": {
    "ExecuteTime": {
     "end_time": "2018-10-19T16:32:05.776848Z",
     "start_time": "2018-10-19T16:32:05.772655Z"
    }
   },
   "outputs": [],
   "source": [
    "def find_parent(G):\n",
    "    node = next(iter(G.keys()))\n",
    "    while len(G[node]) > 0:\n",
    "        node = G[node][0]\n",
    "    return node"
   ]
  },
  {
   "cell_type": "code",
   "execution_count": 10,
   "metadata": {
    "ExecuteTime": {
     "end_time": "2018-10-19T16:32:08.077034Z",
     "start_time": "2018-10-19T16:32:08.072607Z"
    }
   },
   "outputs": [
    {
     "data": {
      "text/plain": [
       "'tknk'"
      ]
     },
     "execution_count": 10,
     "metadata": {},
     "output_type": "execute_result"
    }
   ],
   "source": [
    "find_parent(reverse(G))"
   ]
  },
  {
   "cell_type": "code",
   "execution_count": 14,
   "metadata": {
    "ExecuteTime": {
     "end_time": "2018-10-19T16:32:27.564543Z",
     "start_time": "2018-10-19T16:32:27.521792Z"
    }
   },
   "outputs": [
    {
     "data": {
      "text/plain": [
       "'dtacyn'"
      ]
     },
     "execution_count": 14,
     "metadata": {},
     "output_type": "execute_result"
    }
   ],
   "source": [
    "find_parent(reverse(create_graph(puzzle)[0]))"
   ]
  },
  {
   "cell_type": "markdown",
   "metadata": {},
   "source": [
    "## P7.2"
   ]
  },
  {
   "cell_type": "code",
   "execution_count": 16,
   "metadata": {
    "ExecuteTime": {
     "end_time": "2018-10-19T16:37:21.262512Z",
     "start_time": "2018-10-19T16:37:21.248274Z"
    }
   },
   "outputs": [],
   "source": [
    "def total_weight(graph, weight):\n",
    "    total_weight = {}\n",
    "    def _compute_weight(node):\n",
    "        if node not in total_weight:\n",
    "            w = weight[node]\n",
    "            w += sum( _compute_weight(child) for child in graph[node])\n",
    "            total_weight[node] = w\n",
    "        return total_weight[node]\n",
    "\n",
    "    P = find_parent(reverse(graph))\n",
    "    _compute_weight(P)\n",
    "    \n",
    "    return total_weight\n",
    "    "
   ]
  },
  {
   "cell_type": "code",
   "execution_count": 58,
   "metadata": {
    "ExecuteTime": {
     "end_time": "2018-10-19T17:05:29.290294Z",
     "start_time": "2018-10-19T17:05:29.279790Z"
    }
   },
   "outputs": [],
   "source": [
    "from collections import Counter\n",
    "\n",
    "def find_unbalanced(graph, weight):\n",
    "    parent = find_parent(reverse(graph))\n",
    "    _total_weight = total_weight(graph, weight)\n",
    "\n",
    "    proper_parent_weight = _total_weight[parent]\n",
    "    while True:\n",
    "        children_weights = [_total_weight[child] for child in graph[parent]]\n",
    "        if len(set(children_weights)) > 1:\n",
    "            counts = Counter(children_weights).most_common()\n",
    "            proper_parent_weight = counts[0][0]\n",
    "            parent = [child  for child in graph[parent] if _total_weight[child] != proper_parent_weight]\n",
    "            parent = parent[0]\n",
    "        else:\n",
    "            return proper_parent_weight - sum(children_weights)"
   ]
  },
  {
   "cell_type": "code",
   "execution_count": 61,
   "metadata": {
    "ExecuteTime": {
     "end_time": "2018-10-19T17:06:13.826439Z",
     "start_time": "2018-10-19T17:06:13.820571Z"
    }
   },
   "outputs": [
    {
     "data": {
      "text/plain": [
       "60"
      ]
     },
     "execution_count": 61,
     "metadata": {},
     "output_type": "execute_result"
    }
   ],
   "source": [
    "G, W = create_graph(example)\n",
    "find_unbalanced(G, W)"
   ]
  },
  {
   "cell_type": "code",
   "execution_count": 62,
   "metadata": {
    "ExecuteTime": {
     "end_time": "2018-10-19T17:06:13.955312Z",
     "start_time": "2018-10-19T17:06:13.946724Z"
    }
   },
   "outputs": [
    {
     "data": {
      "text/plain": [
       "521"
      ]
     },
     "execution_count": 62,
     "metadata": {},
     "output_type": "execute_result"
    }
   ],
   "source": [
    "G, W = create_graph(puzzle)\n",
    "find_unbalanced(G, W)"
   ]
  },
  {
   "cell_type": "code",
   "execution_count": null,
   "metadata": {},
   "outputs": [],
   "source": []
  }
 ],
 "metadata": {
  "kernelspec": {
   "display_name": "Python 3",
   "language": "python",
   "name": "python3"
  },
  "language_info": {
   "codemirror_mode": {
    "name": "ipython",
    "version": 3
   },
   "file_extension": ".py",
   "mimetype": "text/x-python",
   "name": "python",
   "nbconvert_exporter": "python",
   "pygments_lexer": "ipython3",
   "version": "3.6.4"
  },
  "toc": {
   "nav_menu": {},
   "number_sections": true,
   "sideBar": true,
   "skip_h1_title": false,
   "title_cell": "Table of Contents",
   "title_sidebar": "Contents",
   "toc_cell": false,
   "toc_position": {},
   "toc_section_display": true,
   "toc_window_display": false
  },
  "varInspector": {
   "cols": {
    "lenName": 16,
    "lenType": 16,
    "lenVar": 40
   },
   "kernels_config": {
    "python": {
     "delete_cmd_postfix": "",
     "delete_cmd_prefix": "del ",
     "library": "var_list.py",
     "varRefreshCmd": "print(var_dic_list())"
    },
    "r": {
     "delete_cmd_postfix": ") ",
     "delete_cmd_prefix": "rm(",
     "library": "var_list.r",
     "varRefreshCmd": "cat(var_dic_list()) "
    }
   },
   "types_to_exclude": [
    "module",
    "function",
    "builtin_function_or_method",
    "instance",
    "_Feature"
   ],
   "window_display": false
  }
 },
 "nbformat": 4,
 "nbformat_minor": 2
}
