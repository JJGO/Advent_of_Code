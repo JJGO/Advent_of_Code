{
 "cells": [
  {
   "cell_type": "code",
   "execution_count": 4,
   "metadata": {},
   "outputs": [],
   "source": [
    "from aocd.models import Puzzle\n",
    "\n",
    "puzzle = Puzzle(year=2023, day=15)\n",
    "\n",
    "def parses(input):\n",
    "    return input.strip().split(',')\n",
    "\n",
    "# import re\n",
    "# def parses(input):\n",
    "#     return [int(re.findall('\\d', line)) for line in nput.strip().split('\\n')]\n",
    "\n",
    "data = parses(puzzle.input_data)"
   ]
  },
  {
   "cell_type": "code",
   "execution_count": 5,
   "metadata": {},
   "outputs": [],
   "source": [
    "sample = parses(\"\"\"rn=1,cm-,qp=3,cm=2,qp-,pc=4,ot=9,ab=5,pc-,pc=6,ot=7\"\"\")"
   ]
  },
  {
   "cell_type": "code",
   "execution_count": 6,
   "metadata": {},
   "outputs": [
    {
     "data": {
      "text/plain": [
       "['rn=1',\n",
       " 'cm-',\n",
       " 'qp=3',\n",
       " 'cm=2',\n",
       " 'qp-',\n",
       " 'pc=4',\n",
       " 'ot=9',\n",
       " 'ab=5',\n",
       " 'pc-',\n",
       " 'pc=6',\n",
       " 'ot=7']"
      ]
     },
     "execution_count": 6,
     "metadata": {},
     "output_type": "execute_result"
    }
   ],
   "source": [
    "sample"
   ]
  },
  {
   "cell_type": "code",
   "execution_count": 18,
   "metadata": {},
   "outputs": [],
   "source": [
    "def hash_(string):\n",
    "    string = string.replace('\\n','')\n",
    "    x = 0\n",
    "    for c in string:\n",
    "        x = ((x+ord(c))*17) % 256\n",
    "    return x"
   ]
  },
  {
   "cell_type": "code",
   "execution_count": 58,
   "metadata": {},
   "outputs": [],
   "source": [
    "from functools import reduce\n",
    "def hash_(string):\n",
    "    string = string.replace('\\n','')\n",
    "    f = lambda x, c: ((x+ord(c))*17) % 256\n",
    "    return reduce(f, string, 0)"
   ]
  },
  {
   "cell_type": "code",
   "execution_count": 59,
   "metadata": {},
   "outputs": [
    {
     "data": {
      "text/plain": [
       "52"
      ]
     },
     "execution_count": 59,
     "metadata": {},
     "output_type": "execute_result"
    }
   ],
   "source": [
    "hash_('HASH')"
   ]
  },
  {
   "cell_type": "code",
   "execution_count": 57,
   "metadata": {},
   "outputs": [],
   "source": [
    "reduce?"
   ]
  },
  {
   "cell_type": "code",
   "execution_count": 19,
   "metadata": {},
   "outputs": [
    {
     "data": {
      "text/plain": [
       "52"
      ]
     },
     "execution_count": 19,
     "metadata": {},
     "output_type": "execute_result"
    }
   ],
   "source": [
    "hash_('HASH')"
   ]
  },
  {
   "cell_type": "code",
   "execution_count": 20,
   "metadata": {},
   "outputs": [],
   "source": [
    "def solve_a(data):\n",
    "    return sum([hash_(s) for s in data])"
   ]
  },
  {
   "cell_type": "code",
   "execution_count": 21,
   "metadata": {},
   "outputs": [
    {
     "data": {
      "text/plain": [
       "1320"
      ]
     },
     "execution_count": 21,
     "metadata": {},
     "output_type": "execute_result"
    }
   ],
   "source": [
    "solve_a(sample)"
   ]
  },
  {
   "cell_type": "code",
   "execution_count": 22,
   "metadata": {},
   "outputs": [
    {
     "data": {
      "text/plain": [
       "516070"
      ]
     },
     "execution_count": 22,
     "metadata": {},
     "output_type": "execute_result"
    }
   ],
   "source": [
    "solve_a(data)"
   ]
  },
  {
   "cell_type": "code",
   "execution_count": null,
   "metadata": {},
   "outputs": [],
   "source": []
  },
  {
   "cell_type": "code",
   "execution_count": 2,
   "metadata": {},
   "outputs": [],
   "source": []
  },
  {
   "cell_type": "markdown",
   "metadata": {},
   "source": [
    "- 256 boxes\n",
    "- Per Box: Several lens slots\n",
    "    - Insert/Remove lenses\n",
    "- Large library ranging from 1-9\n",
    "\n",
    "- Each step: \n",
    "    - label: sequence of letters\n",
    "    - box: HASHMAP(label) -> box \n",
    "    - operation: - or =\n",
    "\n",
    "- `-` steps \n",
    "    1. go to box\n",
    "    2. if present, remove lens with label\n",
    "    \n",
    "- `=` steps (focal length)\n",
    "    1. go to box\n",
    "    2. if label present, replace\n",
    "    3. otherwise insert last\n",
    "    \n",
    "power = (box+1) * slot * focal"
   ]
  },
  {
   "cell_type": "code",
   "execution_count": 24,
   "metadata": {},
   "outputs": [
    {
     "data": {
      "text/plain": [
       "['rn=1',\n",
       " 'cm-',\n",
       " 'qp=3',\n",
       " 'cm=2',\n",
       " 'qp-',\n",
       " 'pc=4',\n",
       " 'ot=9',\n",
       " 'ab=5',\n",
       " 'pc-',\n",
       " 'pc=6',\n",
       " 'ot=7']"
      ]
     },
     "execution_count": 24,
     "metadata": {},
     "output_type": "execute_result"
    }
   ],
   "source": [
    "sample"
   ]
  },
  {
   "cell_type": "code",
   "execution_count": 67,
   "metadata": {},
   "outputs": [],
   "source": [
    "# def solve_b(data):\n",
    "#     boxes = [[] for _ in range(256)]\n",
    "    \n",
    "#     for instruction in data:\n",
    "#         op = 'pop' if '-' in instruction else 'set'\n",
    "#         label, focal = instruction.replace('=','-').split('-')\n",
    "#         box = hash_(label)\n",
    "#         if op == 'pop':\n",
    "#             for j, (l, _) in enumerate(boxes[box]):\n",
    "#                 if l == label:\n",
    "#                     boxes[box].pop(j)\n",
    "#                     break\n",
    "#         if op == 'set':\n",
    "#             focal = int(focal)\n",
    "#             for j, (l, _) in enumerate(boxes[box]):\n",
    "#                 if l == label:\n",
    "#                     boxes[box][j] = (label, focal)\n",
    "#                     break\n",
    "#             else:\n",
    "#                 boxes[box].append((label, focal))\n",
    "\n",
    "#     power = 0\n",
    "#     for i, box in enumerate(boxes):\n",
    "#         for j, (_, focal) in enumerate(box):\n",
    "#             power += (i+1) * (j+1) * focal\n",
    "#     return power\n",
    "            "
   ]
  },
  {
   "cell_type": "code",
   "execution_count": 64,
   "metadata": {},
   "outputs": [],
   "source": [
    "def solve_b(data):\n",
    "    boxes = [[] for _ in range(256)]\n",
    "    \n",
    "    for instruction in data:\n",
    "        op = 'pop' if '-' in instruction else 'set'\n",
    "        label, focal = instruction.replace('=','-').split('-')\n",
    "        box = hash_(label)\n",
    "        for j, (l, _) in enumerate(boxes[box]):\n",
    "            if l == label:\n",
    "                if op == 'pop':\n",
    "                    boxes[box].pop(j)\n",
    "                if op == 'set':\n",
    "                    boxes[box][j] = (label, int(focal))\n",
    "                break\n",
    "        else:\n",
    "            if op == 'set':\n",
    "                boxes[box].append((label, int(focal)))\n",
    "\n",
    "    return sum(\n",
    "        (i+1) * (j+1) * focal\n",
    "        for i, box in enumerate(boxes)\n",
    "        for j, (_, focal) in enumerate(box)\n",
    "    )"
   ]
  },
  {
   "cell_type": "code",
   "execution_count": 65,
   "metadata": {},
   "outputs": [
    {
     "data": {
      "text/plain": [
       "145"
      ]
     },
     "execution_count": 65,
     "metadata": {},
     "output_type": "execute_result"
    }
   ],
   "source": [
    "solve_b(sample)"
   ]
  },
  {
   "cell_type": "code",
   "execution_count": 66,
   "metadata": {},
   "outputs": [
    {
     "data": {
      "text/plain": [
       "244981"
      ]
     },
     "execution_count": 66,
     "metadata": {},
     "output_type": "execute_result"
    }
   ],
   "source": [
    "solve_b(data)"
   ]
  },
  {
   "cell_type": "code",
   "execution_count": null,
   "metadata": {},
   "outputs": [],
   "source": []
  }
 ],
 "metadata": {
  "kernelspec": {
   "display_name": "Python 3 (ipykernel)",
   "language": "python",
   "name": "python3"
  },
  "language_info": {
   "codemirror_mode": {
    "name": "ipython",
    "version": 3
   },
   "file_extension": ".py",
   "mimetype": "text/x-python",
   "name": "python",
   "nbconvert_exporter": "python",
   "pygments_lexer": "ipython3",
   "version": "3.11.4"
  }
 },
 "nbformat": 4,
 "nbformat_minor": 4
}
