{
 "cells": [
  {
   "cell_type": "code",
   "execution_count": 198,
   "metadata": {},
   "outputs": [],
   "source": [
    "from aocd.models import Puzzle\n",
    "\n",
    "puzzle = Puzzle(year=2023, day=17)\n",
    "\n",
    "def parses(input):\n",
    "    return [[int(i) for i in row] for row in input.strip().split('\\n')]\n",
    "\n",
    "# import re\n",
    "# def parses(input):\n",
    "#     return [int(re.findall('\\d', line)) for line in nput.strip().split('\\n')]\n",
    "\n",
    "data = parses(puzzle.input_data)"
   ]
  },
  {
   "cell_type": "code",
   "execution_count": 199,
   "metadata": {},
   "outputs": [],
   "source": [
    "sample = parses(\"\"\"2413432311323\n",
    "3215453535623\n",
    "3255245654254\n",
    "3446585845452\n",
    "4546657867536\n",
    "1438598798454\n",
    "4457876987766\n",
    "3637877979653\n",
    "4654967986887\n",
    "4564679986453\n",
    "1224686865563\n",
    "2546548887735\n",
    "4322674655533\"\"\")"
   ]
  },
  {
   "cell_type": "code",
   "execution_count": 3,
   "metadata": {},
   "outputs": [],
   "source": [
    "from heapq import heappush, heappop\n",
    "DELTAS = {'>': 1j, '<': -1j, '^': -1, 'v': 1, '.': 0}\n",
    "DIRECTIONS = {v:k for k, v in DELTAS.items()}"
   ]
  },
  {
   "cell_type": "code",
   "execution_count": 223,
   "metadata": {},
   "outputs": [],
   "source": [
    "# from heapq import heappush, heappop\n",
    "\n",
    "# def best_path(data, least, most):\n",
    "    \n",
    "#     visited = set()\n",
    "#     N, M = len(data), len(data[0])\n",
    "#     heap =[(None, 0, (0,0),(0,0),0)]\n",
    "    \n",
    "#     while heap:\n",
    "#         _, cost, (i,j), (di,dj), momentum = heappop(heap)\n",
    "        \n",
    "#         if momentum == 0:\n",
    "#             valid_deltas = [(1,0), (0,1)]\n",
    "#         elif momentum < least:\n",
    "#             valid_deltas = [(di,dj)]\n",
    "#         elif momentum < most:\n",
    "#             valid_deltas = [(di,dj), (dj,di), (-dj, -di)]\n",
    "#         else:\n",
    "#             valid_deltas = [(dj,di), (-dj, -di)]\n",
    "        \n",
    "#         for di2, dj2 in valid_deltas:\n",
    "#             i2, j2 = i+di2, j+dj2\n",
    "#             if not (0<=i2<N and 0<=j2<M):\n",
    "#                 continue\n",
    "                \n",
    "#             new_cost = cost + data[i2][j2]\n",
    "#             new_bound = new_cost + abs(N-1-i2) + abs(M-1-j2)\n",
    "#             new_momentum = momentum + 1 if (di,dj) == (di2,dj2) else 1\n",
    "#             new_state = (new_bound, new_cost, (i2,j2), (di2,dj2), new_momentum)\n",
    "            \n",
    "#             if (i2,j2, di2,dj2, new_momentum) not in visited:\n",
    "#                 if (i2,j2) == (N-1, M-1):\n",
    "#                     return new_cost\n",
    "#                 visited.add((i2,j2, di2,dj2, new_momentum))\n",
    "#                 heappush(heap, new_state)"
   ]
  },
  {
   "cell_type": "code",
   "execution_count": 261,
   "metadata": {},
   "outputs": [],
   "source": [
    "from heapq import heappush, heappop\n",
    "\n",
    "def best_path(data, least, most):\n",
    "    \n",
    "    visited = set()\n",
    "    N, M = len(data), len(data[0])\n",
    "    heap =[(0, 0, 0, 0, 1, 0), (0, 0, 0, 0, 1j, 0)]\n",
    "    \n",
    "    map_ = {i+1j*j: data[i][j] for i in range(N) for j in range(M)}\n",
    "\n",
    "    k = 0\n",
    "    while heap:\n",
    "        _, cost, _, pos, delta, momentum = heappop(heap)\n",
    "        \n",
    "        if pos == (N-1)+1j*(M-1):\n",
    "            return cost\n",
    "        if (pos, delta,momentum) in visited:\n",
    "            continue\n",
    "        visited.add((pos,delta,momentum))\n",
    "\n",
    "        if momentum < least:\n",
    "            valid_deltas = [delta]\n",
    "        elif momentum < most:\n",
    "            valid_deltas = [delta, 1j*delta, -1j*delta]\n",
    "        else:\n",
    "            valid_deltas = [1j*delta, -1j*delta]\n",
    "        \n",
    "        for new_delta in valid_deltas:\n",
    "            new_pos = pos + new_delta\n",
    "            if new_pos not in map_: \n",
    "                continue\n",
    "                     \n",
    "            new_cost = cost+map_[new_pos]\n",
    "            new_bound = new_cost + abs(N-1-new_pos.real) + abs(M-1-new_pos.imag)\n",
    "            new_direction = DIRECTIONS[delta]\n",
    "            new_momentum = momentum + 1 if delta == new_delta else 1\n",
    "            new_state = (new_bound, new_cost, (k := k+1), new_pos, new_delta, new_momentum)\n",
    "            \n",
    "            if (new_pos, new_delta) not in visited:\n",
    "                heappush(heap, new_state)\n",
    "                \n",
    "def solve_a(data):\n",
    "    return best_path(data, 1, 3)\n",
    "\n",
    "def solve_b(data):\n",
    "    return best_path(data, 4, 10)"
   ]
  },
  {
   "cell_type": "code",
   "execution_count": 262,
   "metadata": {},
   "outputs": [
    {
     "data": {
      "text/plain": [
       "102"
      ]
     },
     "execution_count": 262,
     "metadata": {},
     "output_type": "execute_result"
    }
   ],
   "source": [
    "best_path(sample, 1, 3)"
   ]
  },
  {
   "cell_type": "code",
   "execution_count": 263,
   "metadata": {},
   "outputs": [
    {
     "name": "stdout",
     "output_type": "stream",
     "text": [
      "CPU times: user 624 ms, sys: 4.05 ms, total: 628 ms\n",
      "Wall time: 633 ms\n"
     ]
    },
    {
     "data": {
      "text/plain": [
       "814"
      ]
     },
     "execution_count": 263,
     "metadata": {},
     "output_type": "execute_result"
    }
   ],
   "source": [
    "%%time\n",
    "best_path(data, 1, 3)"
   ]
  },
  {
   "cell_type": "code",
   "execution_count": 264,
   "metadata": {},
   "outputs": [
    {
     "data": {
      "text/plain": [
       "94"
      ]
     },
     "execution_count": 264,
     "metadata": {},
     "output_type": "execute_result"
    }
   ],
   "source": [
    "best_path(sample, 4, 10)"
   ]
  },
  {
   "cell_type": "code",
   "execution_count": 265,
   "metadata": {},
   "outputs": [
    {
     "name": "stdout",
     "output_type": "stream",
     "text": [
      "CPU times: user 1.92 s, sys: 3.78 ms, total: 1.92 s\n",
      "Wall time: 1.94 s\n"
     ]
    },
    {
     "data": {
      "text/plain": [
       "974"
      ]
     },
     "execution_count": 265,
     "metadata": {},
     "output_type": "execute_result"
    }
   ],
   "source": [
    "%%time\n",
    "best_path(data, 4, 10)"
   ]
  },
  {
   "cell_type": "code",
   "execution_count": null,
   "metadata": {},
   "outputs": [],
   "source": []
  },
  {
   "cell_type": "code",
   "execution_count": 216,
   "metadata": {},
   "outputs": [],
   "source": [
    "from heapq import heappush, heappop\n",
    "\n",
    "def best_path(data, delta_fn):\n",
    "\n",
    "    DELTAS = {'>': 1j, '<': -1j, '^': -1, 'v': 1, '.': 0}\n",
    "    DIRECTIONS = {v:k for k, v in DELTAS.items()}\n",
    "    visited = set()\n",
    "    N, M = len(data), len(data[0])\n",
    "    heap =[(0, 0,(0,0),'.',0)]\n",
    "    \n",
    "    while heap:\n",
    "        _, cost, (i,j), direction, momentum = heappop(heap)\n",
    "        delta = DELTAS[direction]\n",
    "        valid_deltas = delta_fn(delta, momentum)\n",
    "        \n",
    "        for delta in valid_deltas:\n",
    "            new_pos = (i + 1j *j) + delta\n",
    "            i2,j2 = int(new_pos.real), int(new_pos.imag)\n",
    "            if not (0<=i2<N and 0<=j2<M):\n",
    "                continue\n",
    "                \n",
    "            new_cost = cost+data[i2][j2]\n",
    "            new_bound = new_cost + abs(N-1-i2) + abs(M-1-j2)\n",
    "            new_direction = DIRECTIONS[delta]\n",
    "            new_momentum = momentum + 1 if direction == new_direction else 1\n",
    "            new_state = (new_bound, new_cost, (i2,j2), new_direction, new_momentum)\n",
    "            \n",
    "            if new_state[2:] not in visited:\n",
    "                if (i2,j2) == (N-1, M-1):\n",
    "                    return new_state[1]\n",
    "                visited.add(new_state[2:])\n",
    "                heappush(heap, new_state)\n",
    "                \n",
    "def solve_a(data):\n",
    "    def valid_deltas(delta, momentum):\n",
    "        if momentum == 0: return [-1,1,1j,-1j]\n",
    "        if momentum < 3: return [delta, delta*1j, delta*-1j]\n",
    "        else: return [delta*1j, delta*-1j]\n",
    "    return best_path(data, valid_deltas)\n",
    "\n",
    "def solve_b(data):\n",
    "    def valid_deltas(delta, momentum):\n",
    "        if momentum == 0: return [-1,1,1j,-1j]\n",
    "        if momentum < 4: return [delta]\n",
    "        if momentum < 10: return [delta, delta*1j, delta*-1j]\n",
    "        else: return [delta*1j, delta*-1j]\n",
    "    return best_path(data, valid_deltas)"
   ]
  },
  {
   "cell_type": "code",
   "execution_count": 221,
   "metadata": {},
   "outputs": [
    {
     "name": "stdout",
     "output_type": "stream",
     "text": [
      "CPU times: user 427 ms, sys: 2.81 ms, total: 430 ms\n",
      "Wall time: 433 ms\n"
     ]
    },
    {
     "data": {
      "text/plain": [
       "814"
      ]
     },
     "execution_count": 221,
     "metadata": {},
     "output_type": "execute_result"
    }
   ],
   "source": [
    "%%time\n",
    "solve_a(data)"
   ]
  },
  {
   "cell_type": "code",
   "execution_count": 222,
   "metadata": {},
   "outputs": [
    {
     "name": "stdout",
     "output_type": "stream",
     "text": [
      "CPU times: user 1.42 s, sys: 3.91 ms, total: 1.43 s\n",
      "Wall time: 1.44 s\n"
     ]
    },
    {
     "data": {
      "text/plain": [
       "974"
      ]
     },
     "execution_count": 222,
     "metadata": {},
     "output_type": "execute_result"
    }
   ],
   "source": [
    "%%time\n",
    "solve_b(data)"
   ]
  },
  {
   "cell_type": "code",
   "execution_count": null,
   "metadata": {},
   "outputs": [],
   "source": []
  },
  {
   "cell_type": "code",
   "execution_count": null,
   "metadata": {},
   "outputs": [],
   "source": []
  },
  {
   "cell_type": "code",
   "execution_count": 12,
   "metadata": {},
   "outputs": [],
   "source": [
    "import itertools\n",
    "def solve_a(data):\n",
    "    visited = set()\n",
    "    heap =[(0, 0,(0,0),'.',0)]\n",
    "\n",
    "    N, M = len(data), len(data[0])\n",
    "    for k in itertools.count():\n",
    "        _, cost, (i,j), direction, momentum = heappop(heap)\n",
    "        pos = i + 1j *j\n",
    "\n",
    "        delta = DELTAS[direction]\n",
    "        if momentum == 3:\n",
    "            valid_deltas = [delta*1j, delta*-1j]\n",
    "        else:\n",
    "            valid_deltas = [d for d in (1,-1,1j,-1j) if d != -delta]\n",
    "            \n",
    "        for delta in valid_deltas:\n",
    "            new_pos = pos + delta\n",
    "\n",
    "            i2,j2 = int(new_pos.real), int(new_pos.imag)\n",
    "            if not (0<=i2<N and 0<=j2<M):\n",
    "                continue\n",
    "            \n",
    "            \n",
    "            new_cost = cost+data[i2][j2]\n",
    "            new_bound = new_cost + abs(N-1-i2) + abs(M-1-j2)\n",
    "            new_direction = DIRECTIONS[delta]\n",
    "            new_momentum = momentum + 1 if direction == new_direction else 1\n",
    "            \n",
    "                \n",
    "            new_state = (new_bound, new_cost, (i2,j2), new_direction, new_momentum)\n",
    "\n",
    "            if new_state[2:] not in visited:\n",
    "\n",
    "                if (i2,j2) == (N-1, M-1):\n",
    "                    return new_state[1]\n",
    "\n",
    "                visited.add(new_state[2:])\n",
    "                heappush(heap, new_state)\n",
    "#         print(k, heap)\n",
    "#         print()\n",
    "#         if k == 2:\n",
    "#             break"
   ]
  },
  {
   "cell_type": "code",
   "execution_count": 13,
   "metadata": {},
   "outputs": [
    {
     "data": {
      "text/plain": [
       "102"
      ]
     },
     "execution_count": 13,
     "metadata": {},
     "output_type": "execute_result"
    }
   ],
   "source": [
    "solve_a(sample)"
   ]
  },
  {
   "cell_type": "code",
   "execution_count": 14,
   "metadata": {},
   "outputs": [
    {
     "data": {
      "text/plain": [
       "814"
      ]
     },
     "execution_count": 14,
     "metadata": {},
     "output_type": "execute_result"
    }
   ],
   "source": [
    "solve_a(data)"
   ]
  },
  {
   "cell_type": "code",
   "execution_count": 15,
   "metadata": {},
   "outputs": [],
   "source": [
    "import itertools\n",
    "def solve_b(data):\n",
    "    visited = set()\n",
    "    heap =[(0, 0,(0,0),'.',0)]\n",
    "\n",
    "    N, M = len(data), len(data[0])\n",
    "    for k in itertools.count():\n",
    "        _, cost, (i,j), direction, momentum = heappop(heap)\n",
    "        pos = i + 1j *j\n",
    "\n",
    "        delta = DELTAS[direction]\n",
    "        if momentum == 0:\n",
    "            valid_deltas = [1,-1,1j,-1j]\n",
    "        elif momentum < 4:\n",
    "            valid_deltas = [delta]\n",
    "        elif momentum < 10:\n",
    "            valid_deltas = [delta, delta*1j, delta*-1j]\n",
    "        else:\n",
    "            valid_deltas = [delta*1j, delta*-1j]\n",
    "            \n",
    "        for delta in valid_deltas:\n",
    "            new_pos = pos + delta\n",
    "\n",
    "            i2,j2 = int(new_pos.real), int(new_pos.imag)\n",
    "            if not (0<=i2<N and 0<=j2<M):\n",
    "                continue\n",
    "            \n",
    "            \n",
    "            new_cost = cost+data[i2][j2]\n",
    "            new_bound = new_cost + abs(N-1-i2) + abs(M-1-j2)\n",
    "            new_direction = DIRECTIONS[delta]\n",
    "            new_momentum = momentum + 1 if direction == new_direction else 1\n",
    "            \n",
    "                \n",
    "            new_state = (new_bound, new_cost, (i2,j2), new_direction, new_momentum)\n",
    "\n",
    "            if new_state[2:] not in visited:\n",
    "\n",
    "                if (i2,j2) == (N-1, M-1):\n",
    "                    return new_state[1]\n",
    "\n",
    "                visited.add(new_state[2:])\n",
    "                heappush(heap, new_state)\n",
    "#         print(k, heap)\n",
    "#         print()\n",
    "#         if k == 2:\n",
    "#             break"
   ]
  },
  {
   "cell_type": "code",
   "execution_count": 16,
   "metadata": {},
   "outputs": [
    {
     "data": {
      "text/plain": [
       "94"
      ]
     },
     "execution_count": 16,
     "metadata": {},
     "output_type": "execute_result"
    }
   ],
   "source": [
    "solve_b(sample)"
   ]
  },
  {
   "cell_type": "code",
   "execution_count": 17,
   "metadata": {},
   "outputs": [
    {
     "data": {
      "text/plain": [
       "974"
      ]
     },
     "execution_count": 17,
     "metadata": {},
     "output_type": "execute_result"
    }
   ],
   "source": [
    "solve_b(data)"
   ]
  },
  {
   "cell_type": "code",
   "execution_count": null,
   "metadata": {},
   "outputs": [],
   "source": []
  },
  {
   "cell_type": "code",
   "execution_count": 15,
   "metadata": {},
   "outputs": [],
   "source": [
    "def solve_a(data):\n",
    "    pass"
   ]
  },
  {
   "cell_type": "code",
   "execution_count": 2,
   "metadata": {},
   "outputs": [],
   "source": [
    "def solve_b(data):\n",
    "    pass"
   ]
  },
  {
   "cell_type": "code",
   "execution_count": null,
   "metadata": {},
   "outputs": [],
   "source": []
  }
 ],
 "metadata": {
  "kernelspec": {
   "display_name": "Python 3 (ipykernel)",
   "language": "python",
   "name": "python3"
  },
  "language_info": {
   "codemirror_mode": {
    "name": "ipython",
    "version": 3
   },
   "file_extension": ".py",
   "mimetype": "text/x-python",
   "name": "python",
   "nbconvert_exporter": "python",
   "pygments_lexer": "ipython3",
   "version": "3.11.5"
  }
 },
 "nbformat": 4,
 "nbformat_minor": 4
}
