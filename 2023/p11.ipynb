{
 "cells": [
  {
   "cell_type": "code",
   "execution_count": 124,
   "metadata": {},
   "outputs": [],
   "source": [
    "from aocd.models import Puzzle\n",
    "\n",
    "puzzle = Puzzle(year=2023, day=11)\n",
    "\n",
    "def parses(input):\n",
    "    return [['.#'.index(val) for val in row] for row in input.strip().split('\\n')]\n",
    "\n",
    "# import re\n",
    "# def parses(input):\n",
    "#     return [int(re.findall('\\d', line)) for line in nput.strip().split('\\n')]\n",
    "\n",
    "data = parses(puzzle.input_data)"
   ]
  },
  {
   "cell_type": "code",
   "execution_count": 125,
   "metadata": {},
   "outputs": [],
   "source": [
    "sample = parses(\"\"\"...#......\n",
    ".......#..\n",
    "#.........\n",
    "..........\n",
    "......#...\n",
    ".#........\n",
    ".........#\n",
    "..........\n",
    ".......#..\n",
    "#...#.....\"\"\")"
   ]
  },
  {
   "cell_type": "code",
   "execution_count": 126,
   "metadata": {},
   "outputs": [],
   "source": [
    "# def solve_a(data):\n",
    "#     data = np.array(data, dtype=np.uint8)\n",
    "#     N, M = data.shape\n",
    "#     zero_rows = np.argwhere(data.sum(axis=1) == 0).flatten().tolist()\n",
    "#     zero_cols = np.argwhere(data.sum(axis=0) == 0).flatten().tolist()\n",
    "#     new_rows = sorted(list(range(N)) + zero_rows)\n",
    "#     new_cols = sorted(list(range(M)) + zero_cols)\n",
    "#     N2, M2 = len(new_rows), len(new_cols)\n",
    "#     expanded = np.zeros((N2,M2), dtype=np.uint8)\n",
    "\n",
    "#     for i, r in enumerate(new_rows):\n",
    "#         expanded[i] = data[r][new_cols]\n",
    "\n",
    "#     points = np.argwhere(expanded)\n",
    "#     return int(pdist(points, metric='cityblock').sum())"
   ]
  },
  {
   "cell_type": "code",
   "execution_count": 130,
   "metadata": {},
   "outputs": [],
   "source": [
    "def compute_distance(data, expansion_factor):\n",
    "    N, M = len(data), len(data[0])\n",
    "    points = []\n",
    "    row_sums = [0 for _ in range(N)]\n",
    "    col_sums = [0 for _ in range(M)]\n",
    "\n",
    "    for i, row in enumerate(data):\n",
    "        for j, val in enumerate(row):\n",
    "            if val == 1:\n",
    "                points.append((i,j))\n",
    "                row_sums[i] += 1\n",
    "                col_sums[j] += 1\n",
    "\n",
    "    zero_cols = set([j for j, s in enumerate(col_sums) if s == 0])\n",
    "    zero_rows = set([i for i, s in enumerate(row_sums) if s == 0])\n",
    "\n",
    "    row_mapping = {}\n",
    "    current_row = 0\n",
    "    for i in range(N):\n",
    "        if i in zero_rows:\n",
    "            current_row += expansion_factor\n",
    "        else:\n",
    "            row_mapping[i] = current_row\n",
    "            current_row += 1\n",
    "\n",
    "    col_mapping = {}\n",
    "    current_col = 0\n",
    "    for j in range(M):\n",
    "        if j in zero_cols:\n",
    "            current_col += expansion_factor\n",
    "        else:\n",
    "            current_col += 1\n",
    "            col_mapping[j] = current_col\n",
    "\n",
    "    expanded_points = [(row_mapping[i], col_mapping[j]) for i, j in points] \n",
    "\n",
    "    total_dist = 0\n",
    "    for (x,y), (x2,y2) in itertools.combinations(expanded_points, 2):\n",
    "        total_dist += abs(x-x2) + abs(y-y2)\n",
    "\n",
    "    return total_dist"
   ]
  },
  {
   "cell_type": "code",
   "execution_count": null,
   "metadata": {},
   "outputs": [],
   "source": [
    "def empty(data):\n",
    "    "
   ]
  },
  {
   "cell_type": "code",
   "execution_count": 138,
   "metadata": {},
   "outputs": [],
   "source": [
    "def compute_distance(data, expansion_factor):\n",
    "    N, M = len(data), len(data[0])\n",
    "    points = []\n",
    "    row_sums = [0 for _ in range(N)]\n",
    "    col_sums = [0 for _ in range(M)]\n",
    "\n",
    "    for i, row in enumerate(data):\n",
    "        for j, val in enumerate(row):\n",
    "            if val == 1:\n",
    "                points.append((i,j))\n",
    "                row_sums[i] += 1\n",
    "                col_sums[j] += 1\n",
    "\n",
    "    zero_cols = set([j for j, s in enumerate(col_sums) if s == 0])\n",
    "    zero_rows = set([i for i, s in enumerate(row_sums) if s == 0])\n",
    "    \n",
    "    def mapping(zeros, N):\n",
    "        mapping = {}\n",
    "        current = 0\n",
    "        for i in range(N):\n",
    "            if i in zeros:\n",
    "                current += expansion_factor\n",
    "            else:\n",
    "                mapping[i] = current\n",
    "                current += 1\n",
    "        return mapping\n",
    "    \n",
    "    row_mapping = mapping(zero_rows, N)\n",
    "    col_mapping = mapping(zero_cols, N)\n",
    "    expanded_points = [(row_mapping[i], col_mapping[j]) for i, j in points] \n",
    "\n",
    "    total_dist = 0\n",
    "    for (x,y), (x2,y2) in itertools.combinations(expanded_points, 2):\n",
    "        total_dist += abs(x-x2) + abs(y-y2)\n",
    "\n",
    "    return total_dist"
   ]
  },
  {
   "cell_type": "code",
   "execution_count": null,
   "metadata": {},
   "outputs": [],
   "source": []
  },
  {
   "cell_type": "code",
   "execution_count": 147,
   "metadata": {},
   "outputs": [
    {
     "data": {
      "text/plain": [
       "True"
      ]
     },
     "execution_count": 147,
     "metadata": {},
     "output_type": "execute_result"
    }
   ],
   "source": [
    "compute_distance(sample, 2) == 374"
   ]
  },
  {
   "cell_type": "code",
   "execution_count": 146,
   "metadata": {},
   "outputs": [
    {
     "data": {
      "text/plain": [
       "True"
      ]
     },
     "execution_count": 146,
     "metadata": {},
     "output_type": "execute_result"
    }
   ],
   "source": [
    "compute_distance(data, 2) == 9403026"
   ]
  },
  {
   "cell_type": "code",
   "execution_count": 141,
   "metadata": {},
   "outputs": [
    {
     "data": {
      "text/plain": [
       "True"
      ]
     },
     "execution_count": 141,
     "metadata": {},
     "output_type": "execute_result"
    }
   ],
   "source": [
    "assert compute_distance(sample, 10) == 1030\n",
    "assert compute_distance(sample, 100) == 8410\n",
    "assert compute_distance(sample, 1000000) == 82000210\n",
    "\n"
   ]
  },
  {
   "cell_type": "code",
   "execution_count": 137,
   "metadata": {},
   "outputs": [
    {
     "data": {
      "text/plain": [
       "543018317006"
      ]
     },
     "execution_count": 137,
     "metadata": {},
     "output_type": "execute_result"
    }
   ],
   "source": [
    "compute_distance(data, 1000000)"
   ]
  },
  {
   "cell_type": "code",
   "execution_count": null,
   "metadata": {},
   "outputs": [],
   "source": [
    "1000000\n",
    "1000000"
   ]
  },
  {
   "cell_type": "code",
   "execution_count": 119,
   "metadata": {},
   "outputs": [
    {
     "data": {
      "text/plain": [
       "[(0, 5), (1, 10), (2, 1), (5, 9), (6, 2), (7, 13), (10, 10), (11, 1), (11, 6)]"
      ]
     },
     "execution_count": 119,
     "metadata": {},
     "output_type": "execute_result"
    }
   ],
   "source": [
    "points2"
   ]
  },
  {
   "cell_type": "code",
   "execution_count": 120,
   "metadata": {},
   "outputs": [],
   "source": []
  },
  {
   "cell_type": "code",
   "execution_count": 121,
   "metadata": {},
   "outputs": [
    {
     "data": {
      "text/plain": [
       "374"
      ]
     },
     "execution_count": 121,
     "metadata": {},
     "output_type": "execute_result"
    }
   ],
   "source": [
    "total"
   ]
  },
  {
   "cell_type": "code",
   "execution_count": null,
   "metadata": {},
   "outputs": [],
   "source": []
  },
  {
   "cell_type": "code",
   "execution_count": null,
   "metadata": {},
   "outputs": [],
   "source": []
  },
  {
   "cell_type": "code",
   "execution_count": 66,
   "metadata": {},
   "outputs": [],
   "source": [
    "import itertools"
   ]
  },
  {
   "cell_type": "code",
   "execution_count": 69,
   "metadata": {},
   "outputs": [],
   "source": [
    "from scipy.spatial.distance import pdist"
   ]
  },
  {
   "cell_type": "code",
   "execution_count": 78,
   "metadata": {},
   "outputs": [
    {
     "data": {
      "text/plain": [
       "374.0"
      ]
     },
     "execution_count": 78,
     "metadata": {},
     "output_type": "execute_result"
    }
   ],
   "source": []
  },
  {
   "cell_type": "code",
   "execution_count": null,
   "metadata": {},
   "outputs": [],
   "source": []
  },
  {
   "cell_type": "code",
   "execution_count": 60,
   "metadata": {},
   "outputs": [
    {
     "name": "stdout",
     "output_type": "stream",
     "text": [
      "....#........\n",
      ".........#...\n",
      "#............\n",
      ".............\n",
      ".............\n",
      "........#....\n",
      ".#...........\n",
      "............#\n",
      ".............\n",
      ".............\n",
      ".........#...\n",
      "#....#.......\n"
     ]
    }
   ],
   "source": [
    "print('\\n'.join(map(lambda x: ''.join(x),np.where(expanded, '#', '.'))))\n"
   ]
  },
  {
   "cell_type": "code",
   "execution_count": null,
   "metadata": {},
   "outputs": [],
   "source": []
  },
  {
   "cell_type": "code",
   "execution_count": 15,
   "metadata": {},
   "outputs": [],
   "source": [
    "def solve_a(data):\n",
    "    pass"
   ]
  },
  {
   "cell_type": "code",
   "execution_count": 2,
   "metadata": {},
   "outputs": [],
   "source": [
    "def solve_b(data):\n",
    "    pass"
   ]
  },
  {
   "cell_type": "code",
   "execution_count": null,
   "metadata": {},
   "outputs": [],
   "source": []
  }
 ],
 "metadata": {
  "kernelspec": {
   "display_name": "Python 3 (ipykernel)",
   "language": "python",
   "name": "python3"
  },
  "language_info": {
   "codemirror_mode": {
    "name": "ipython",
    "version": 3
   },
   "file_extension": ".py",
   "mimetype": "text/x-python",
   "name": "python",
   "nbconvert_exporter": "python",
   "pygments_lexer": "ipython3",
   "version": "3.11.4"
  }
 },
 "nbformat": 4,
 "nbformat_minor": 4
}
