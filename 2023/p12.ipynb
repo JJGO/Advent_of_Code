{
 "cells": [
  {
   "cell_type": "code",
   "execution_count": 104,
   "metadata": {},
   "outputs": [],
   "source": [
    "from aocd.models import Puzzle\n",
    "\n",
    "puzzle = Puzzle(year=2023, day=12)\n",
    "\n",
    "def parses(input):\n",
    "    rows = []\n",
    "    for line in input.strip().split('\\n'):\n",
    "        conditions, groups = line.split(' ')\n",
    "        groups = tuple([int(n) for n in groups.split(',')])\n",
    "        rows.append((conditions, groups))\n",
    "    return rows\n",
    "# import re\n",
    "# def parses(input):\n",
    "#     return [int(re.findall('\\d', line)) for line in nput.strip().split('\\n')]\n",
    "\n",
    "data = parses(puzzle.input_data)"
   ]
  },
  {
   "cell_type": "code",
   "execution_count": 105,
   "metadata": {},
   "outputs": [],
   "source": [
    "sample = parses(\"\"\"???.### 1,1,3\n",
    ".??..??...?##. 1,1,3\n",
    "?#?#?#?#?#?#?#? 1,3,1,6\n",
    "????.#...#... 4,1,1\n",
    "????.######..#####. 1,6,5\n",
    "?###???????? 3,2,1\"\"\")"
   ]
  },
  {
   "cell_type": "code",
   "execution_count": 106,
   "metadata": {},
   "outputs": [],
   "source": [
    "from functools import lru_cache\n",
    "\n",
    "@lru_cache\n",
    "def num_ways(conditions, groups):\n",
    "#     print(locals())\n",
    "    # if no groups, remainder must be all .\n",
    "    if len(groups) == 0:\n",
    "        return all(c in '.?' for c in conditions)\n",
    "    # if groups, string must be long enough to fit them at least\n",
    "    s = sum(groups) + len(groups) - 1\n",
    "    if len(conditions) < s:\n",
    "        return 0\n",
    "    if sum(c in ('#?') for c in conditions) < sum(groups):\n",
    "        return 0\n",
    "        \n",
    "    \n",
    "    i = 0\n",
    "    while (c := conditions[i]) == '.':\n",
    "        i += 1\n",
    "    g = groups[0]\n",
    "    \n",
    "    if_damaged = 0\n",
    "    if c in '#?':\n",
    "        N = len(conditions)\n",
    "        if all(d in '#?' for d in conditions[i:i+g]) and (i+g == N or conditions[i+g] in '?.'):\n",
    "            if_damaged = num_ways(conditions[i+g+1:], groups[1:])\n",
    "            \n",
    "    if c == '?':\n",
    "        if_op = num_ways(conditions[i+1:], groups)\n",
    "    else:\n",
    "        if_op = 0\n",
    "    \n",
    "    return if_damaged + if_op"
   ]
  },
  {
   "cell_type": "code",
   "execution_count": 93,
   "metadata": {},
   "outputs": [],
   "source": [
    "def solve_a(data):\n",
    "    return sum([num_ways(*row) for row in data])"
   ]
  },
  {
   "cell_type": "code",
   "execution_count": 109,
   "metadata": {},
   "outputs": [
    {
     "data": {
      "text/plain": [
       "21"
      ]
     },
     "execution_count": 109,
     "metadata": {},
     "output_type": "execute_result"
    }
   ],
   "source": [
    "solve_a(sample)"
   ]
  },
  {
   "cell_type": "code",
   "execution_count": null,
   "metadata": {},
   "outputs": [],
   "source": [
    "# solve_a(data)"
   ]
  },
  {
   "cell_type": "code",
   "execution_count": 95,
   "metadata": {},
   "outputs": [
    {
     "data": {
      "text/plain": [
       "7922"
      ]
     },
     "execution_count": 95,
     "metadata": {},
     "output_type": "execute_result"
    }
   ],
   "source": [
    "solve_a(data)"
   ]
  },
  {
   "cell_type": "code",
   "execution_count": 96,
   "metadata": {},
   "outputs": [],
   "source": [
    "def num_ways2(conditions, groups):\n",
    "    conditions = '?'.join([conditions for _ in range(5)])\n",
    "    groups = groups*5\n",
    "    return num_ways(conditions, groups)"
   ]
  },
  {
   "cell_type": "code",
   "execution_count": 101,
   "metadata": {},
   "outputs": [],
   "source": [
    "def solve_b(data):\n",
    "    return sum([num_ways2(*row) for row in data])"
   ]
  },
  {
   "cell_type": "code",
   "execution_count": 107,
   "metadata": {},
   "outputs": [],
   "source": [
    "def solve_b(data):\n",
    "    data = [\n",
    "        ( '?'.join(c for _ in range(5)), g*5) for c, g in data]\n",
    "    return solve_a(data)\n"
   ]
  },
  {
   "cell_type": "code",
   "execution_count": 108,
   "metadata": {},
   "outputs": [
    {
     "data": {
      "text/plain": [
       "525152"
      ]
     },
     "execution_count": 108,
     "metadata": {},
     "output_type": "execute_result"
    }
   ],
   "source": [
    "solve_b(sample)"
   ]
  },
  {
   "cell_type": "code",
   "execution_count": 103,
   "metadata": {},
   "outputs": [
    {
     "data": {
      "text/plain": [
       "18093821750095"
      ]
     },
     "execution_count": 103,
     "metadata": {},
     "output_type": "execute_result"
    }
   ],
   "source": [
    "solve_b(data)"
   ]
  },
  {
   "cell_type": "code",
   "execution_count": null,
   "metadata": {},
   "outputs": [],
   "source": []
  },
  {
   "cell_type": "code",
   "execution_count": 23,
   "metadata": {},
   "outputs": [
    {
     "data": {
      "text/plain": [
       "('???.###', (1, 1, 3))"
      ]
     },
     "execution_count": 23,
     "metadata": {},
     "output_type": "execute_result"
    }
   ],
   "source": [
    "sample[0]"
   ]
  },
  {
   "cell_type": "code",
   "execution_count": null,
   "metadata": {},
   "outputs": [],
   "source": []
  },
  {
   "cell_type": "code",
   "execution_count": 15,
   "metadata": {},
   "outputs": [],
   "source": [
    "def solve_a(data):\n",
    "    pass"
   ]
  },
  {
   "cell_type": "code",
   "execution_count": 2,
   "metadata": {},
   "outputs": [],
   "source": [
    "def solve_b(data):\n",
    "    pass"
   ]
  },
  {
   "cell_type": "code",
   "execution_count": null,
   "metadata": {},
   "outputs": [],
   "source": []
  }
 ],
 "metadata": {
  "kernelspec": {
   "display_name": "Python 3 (ipykernel)",
   "language": "python",
   "name": "python3"
  },
  "language_info": {
   "codemirror_mode": {
    "name": "ipython",
    "version": 3
   },
   "file_extension": ".py",
   "mimetype": "text/x-python",
   "name": "python",
   "nbconvert_exporter": "python",
   "pygments_lexer": "ipython3",
   "version": "3.11.4"
  }
 },
 "nbformat": 4,
 "nbformat_minor": 4
}
