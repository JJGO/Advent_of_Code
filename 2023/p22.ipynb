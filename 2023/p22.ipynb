{
 "cells": [
  {
   "cell_type": "code",
   "execution_count": 144,
   "metadata": {},
   "outputs": [],
   "source": [
    "from aocd.models import Puzzle\n",
    "import re\n",
    "\n",
    "puzzle = Puzzle(year=2023, day=22)\n",
    "\n",
    "def parses(input):\n",
    "    def parse_line(line):\n",
    "        nums = [int(i) for i in re.findall('-?\\d+', line)]\n",
    "        return (tuple(nums[:3]), tuple(nums[3:]))\n",
    "    return [parse_line(line) for line in input.strip().split('\\n')]\n",
    "\n",
    "# import re\n",
    "# def parses(input):\n",
    "#     return [int(re.findall('\\d', line)) for line in nput.strip().split('\\n')]\n",
    "\n",
    "data = parses(puzzle.input_data)"
   ]
  },
  {
   "cell_type": "code",
   "execution_count": 145,
   "metadata": {},
   "outputs": [],
   "source": [
    "sample = parses(\"\"\"1,0,1~1,2,1\n",
    "0,0,2~2,0,2\n",
    "0,2,3~2,2,3\n",
    "0,0,4~0,2,4\n",
    "2,0,5~2,2,5\n",
    "0,1,6~2,1,6\n",
    "1,1,8~1,1,9\"\"\")"
   ]
  },
  {
   "cell_type": "code",
   "execution_count": 146,
   "metadata": {},
   "outputs": [],
   "source": [
    "# data = sample"
   ]
  },
  {
   "cell_type": "code",
   "execution_count": 147,
   "metadata": {},
   "outputs": [],
   "source": [
    "def viz(coords):\n",
    "    P = np.array(coords)\n",
    "    m = P[:,0].min(axis=0)\n",
    "    M = P[:,1].max(axis=0)\n",
    "    X, Y, Z = 1+(M-m)\n",
    "    P -= m\n",
    "    vol = np.zeros((X,Y,Z), dtype=np.uint16)\n",
    "    \n",
    "    for (a,b,c), (d,e,f) in P:\n",
    "        vol[a:d+1,b:e+1, c:f+1] += 1    \n",
    "        \n",
    "    fig, ax = plt.subplots(1,2)\n",
    "    ax[0].imshow(vol.max(axis=0).T[::-1])\n",
    "    ax[1].imshow(vol.max(axis=1).T[::-1])\n",
    "    plt.show()\n",
    "    \n",
    "    return vol\n",
    "\n",
    "def char(i):\n",
    "    return chr(ord('A')+i)"
   ]
  },
  {
   "cell_type": "code",
   "execution_count": 170,
   "metadata": {},
   "outputs": [],
   "source": [
    "from collections import defaultdict\n",
    "from functools import reduce"
   ]
  },
  {
   "cell_type": "code",
   "execution_count": 174,
   "metadata": {},
   "outputs": [],
   "source": [
    "def build_graph(data):\n",
    "    N, M, _ = [1+reduce(max, [p[1][i] for p in data]) for i in range(3)]\n",
    "    heights = np.array([[0 for _ in range(M)] for _ in range(N)], dtype=np.int32)\n",
    "    stack = sorted(data, key=lambda p: -p[0][2])\n",
    "    \n",
    "    bricks = []\n",
    "    by_height = defaultdict(list)\n",
    "    while stack:\n",
    "        ((x0,y0,z0), (x1,y1,z1)) = stack.pop()\n",
    "        h = 1 + heights[x0:x1+1,y0:y1+1].max()\n",
    "        H = h+z1-z0\n",
    "        bricks.append(((x0,y0,h),(x1,y1,H)))\n",
    "        heights[x0:x1+1, y0:y1+1] = H\n",
    "        by_height[H].append(len(bricks)-1)\n",
    "    \n",
    "    below = defaultdict(list)\n",
    "    above = defaultdict(list)\n",
    "    \n",
    "    for i, p in enumerate(bricks):\n",
    "        zmin = p[0][2]\n",
    "        for candidate in by_height[zmin-1]:\n",
    "            inter = np.zeros_like(heights)\n",
    "            (x0,y0,z0), (x1,y1,z1) = p\n",
    "            (x2,y2,z2), (x3,y3,z3) = bricks[candidate]\n",
    "            inter[x0:x1+1, y0:y1+1] += 1\n",
    "            inter[x2:x3+1, y2:y3+1] += 1\n",
    "            if inter.max() == 2:\n",
    "                below[i].append(candidate)\n",
    "                above[candidate].append(i)\n",
    "    return bricks, below, above"
   ]
  },
  {
   "cell_type": "code",
   "execution_count": 175,
   "metadata": {},
   "outputs": [],
   "source": [
    "def solve_a(data):\n",
    "    bricks, below, above = build_graph(data)\n",
    "    can_disintegrate = 0\n",
    "    for i, _ in enumerate(bricks):\n",
    "        for ontop in above[i]:\n",
    "            if len(below[ontop]) == 1:\n",
    "                break\n",
    "        else:\n",
    "            can_disintegrate += 1\n",
    "    return can_disintegrate"
   ]
  },
  {
   "cell_type": "code",
   "execution_count": 188,
   "metadata": {},
   "outputs": [],
   "source": [
    "def solve_b(data):\n",
    "    bricks, below, above = build_graph(data)\n",
    "            \n",
    "    total = 0\n",
    "    for k in range(len(bricks)):\n",
    "        falling = set([k])\n",
    "        for i in range(len(bricks)):\n",
    "            supports = [b in falling for b in below[i]]\n",
    "            if len(supports) > 0 and all(supports):\n",
    "                falling.add(i)\n",
    "        total += len(falling) - 1 \n",
    "    return total"
   ]
  },
  {
   "cell_type": "code",
   "execution_count": null,
   "metadata": {},
   "outputs": [],
   "source": []
  },
  {
   "cell_type": "code",
   "execution_count": 189,
   "metadata": {},
   "outputs": [
    {
     "data": {
      "text/plain": [
       "5"
      ]
     },
     "execution_count": 189,
     "metadata": {},
     "output_type": "execute_result"
    }
   ],
   "source": [
    "solve_a(sample)"
   ]
  },
  {
   "cell_type": "code",
   "execution_count": 190,
   "metadata": {},
   "outputs": [
    {
     "data": {
      "text/plain": [
       "457"
      ]
     },
     "execution_count": 190,
     "metadata": {},
     "output_type": "execute_result"
    }
   ],
   "source": [
    "solve_a(data)"
   ]
  },
  {
   "cell_type": "code",
   "execution_count": 191,
   "metadata": {},
   "outputs": [
    {
     "data": {
      "text/plain": [
       "7"
      ]
     },
     "execution_count": 191,
     "metadata": {},
     "output_type": "execute_result"
    }
   ],
   "source": [
    "solve_b(sample)"
   ]
  },
  {
   "cell_type": "code",
   "execution_count": 192,
   "metadata": {},
   "outputs": [
    {
     "data": {
      "text/plain": [
       "79122"
      ]
     },
     "execution_count": 192,
     "metadata": {},
     "output_type": "execute_result"
    }
   ],
   "source": [
    "solve_b(data)"
   ]
  },
  {
   "cell_type": "code",
   "execution_count": null,
   "metadata": {},
   "outputs": [],
   "source": []
  },
  {
   "cell_type": "code",
   "execution_count": 150,
   "metadata": {},
   "outputs": [],
   "source": [
    "# solve_a(sample)"
   ]
  },
  {
   "cell_type": "code",
   "execution_count": 151,
   "metadata": {},
   "outputs": [
    {
     "data": {
      "text/plain": [
       "457"
      ]
     },
     "execution_count": 151,
     "metadata": {},
     "output_type": "execute_result"
    }
   ],
   "source": [
    "solve_a(data)"
   ]
  },
  {
   "cell_type": "code",
   "execution_count": 159,
   "metadata": {},
   "outputs": [],
   "source": [
    "def solve_b(data):\n",
    "    P = np.array(data)\n",
    "\n",
    "    from functools import reduce\n",
    "    N, M, H = [1+reduce(max, [p[i] for _, p in data]) for i in range(3)]\n",
    "    heights = np.array([[0 for _ in range(M)] for _ in range(N)], dtype=np.int32)\n",
    "    \n",
    "    from collections import namedtuple\n",
    "    heap = [(p[0][2], p) for p in data]\n",
    "    heapify(heap)\n",
    "\n",
    "    new_bricks = []\n",
    "    while heap:\n",
    "        _, ((x0,y0,z0), (x1,y1,z1)) = heappop(heap)\n",
    "        h = 1 + heights[x0:x1+1,y0:y1+1].max()\n",
    "        H = h+z1-z0\n",
    "        new_bricks.append(((x0,y0,h),(x1,y1,H)))\n",
    "        heights[x0:x1+1, y0:y1+1] = H\n",
    "        \n",
    "    by_height = defaultdict(list)\n",
    "    for i, p in enumerate(new_bricks):\n",
    "        zmax = p[1][2]\n",
    "        by_height[zmax].append(i)\n",
    "        \n",
    "    supported_by = defaultdict(list)\n",
    "\n",
    "    for i, p in enumerate(new_bricks):\n",
    "        zmin = p[0][2]\n",
    "        for candidate in by_height[zmin-1]:\n",
    "            inter = np.zeros_like(heights)\n",
    "            (x0,y0,z0), (x1,y1,z1) = p\n",
    "            (x2,y2,z2), (x3,y3,z3) = new_bricks[candidate]\n",
    "            inter[x0:x1+1, y0:y1+1] += 1\n",
    "            inter[x2:x3+1, y2:y3+1] += 1\n",
    "            if inter.max() == 2:\n",
    "                supported_by[i].append(candidate)\n",
    "                \n",
    "    supporting = defaultdict(list)\n",
    "    for brick, supports in supported_by.items():\n",
    "        for support in supports:\n",
    "            supporting[support].append(brick)\n",
    "\n",
    "    can_disintegrate = 0\n",
    "    for i, _ in enumerate(new_bricks):\n",
    "        for ontop in supporting[i]:\n",
    "            if len(supported_by[ontop]) == 1:\n",
    "                break\n",
    "        else:\n",
    "            can_disintegrate += 1\n",
    "            \n",
    "    total = 0\n",
    "    for k in range(len(bricks)):\n",
    "        falling = set([k])\n",
    "\n",
    "        for i in range(len(bricks)):\n",
    "            supports = [b in falling for b in supported_by[i]]\n",
    "            if len(supports) > 0 and all(supports):\n",
    "                falling.add(i)\n",
    "        total += len(falling) - 1 \n",
    "    return total"
   ]
  },
  {
   "cell_type": "code",
   "execution_count": 160,
   "metadata": {},
   "outputs": [
    {
     "data": {
      "text/plain": [
       "79122"
      ]
     },
     "execution_count": 160,
     "metadata": {},
     "output_type": "execute_result"
    }
   ],
   "source": [
    "solve_b(data)"
   ]
  },
  {
   "cell_type": "code",
   "execution_count": 155,
   "metadata": {},
   "outputs": [],
   "source": [
    "# bricks"
   ]
  },
  {
   "cell_type": "code",
   "execution_count": 156,
   "metadata": {},
   "outputs": [],
   "source": [
    "# supported_by"
   ]
  },
  {
   "cell_type": "code",
   "execution_count": 157,
   "metadata": {},
   "outputs": [],
   "source": []
  },
  {
   "cell_type": "code",
   "execution_count": 158,
   "metadata": {},
   "outputs": [
    {
     "data": {
      "text/plain": [
       "79122"
      ]
     },
     "execution_count": 158,
     "metadata": {},
     "output_type": "execute_result"
    }
   ],
   "source": [
    "total"
   ]
  },
  {
   "cell_type": "code",
   "execution_count": null,
   "metadata": {},
   "outputs": [],
   "source": []
  },
  {
   "cell_type": "code",
   "execution_count": 64,
   "metadata": {},
   "outputs": [
    {
     "data": {
      "image/png": "[encoded data removed]",
      "text/plain": [
       "<Figure size 640x480 with 2 Axes>"
      ]
     },
     "metadata": {},
     "output_type": "display_data"
    }
   ],
   "source": []
  },
  {
   "cell_type": "code",
   "execution_count": null,
   "metadata": {},
   "outputs": [],
   "source": []
  },
  {
   "cell_type": "code",
   "execution_count": 15,
   "metadata": {},
   "outputs": [],
   "source": [
    "def solve_a(data):\n",
    "    pass"
   ]
  },
  {
   "cell_type": "code",
   "execution_count": 2,
   "metadata": {},
   "outputs": [],
   "source": [
    "def solve_b(data):\n",
    "    pass"
   ]
  },
  {
   "cell_type": "code",
   "execution_count": null,
   "metadata": {},
   "outputs": [],
   "source": []
  }
 ],
 "metadata": {
  "kernelspec": {
   "display_name": "Python 3 (ipykernel)",
   "language": "python",
   "name": "python3"
  },
  "language_info": {
   "codemirror_mode": {
    "name": "ipython",
    "version": 3
   },
   "file_extension": ".py",
   "mimetype": "text/x-python",
   "name": "python",
   "nbconvert_exporter": "python",
   "pygments_lexer": "ipython3",
   "version": "3.11.4"
  }
 },
 "nbformat": 4,
 "nbformat_minor": 4
}
