{
 "cells": [
  {
   "cell_type": "code",
   "execution_count": 131,
   "metadata": {},
   "outputs": [],
   "source": [
    "from aocd.models import Puzzle\n",
    "\n",
    "puzzle = Puzzle(year=2023, day=5)\n",
    "\n",
    "def get_nums(line):\n",
    "    return [int(i) for i in re.findall('\\d+', line)]\n",
    "\n",
    "def parses(input):\n",
    "    seeds, *maps = input.strip().split('\\n\\n')\n",
    "    seeds = get_nums(seeds)\n",
    "\n",
    "    parsed_maps = []\n",
    "    for map_ in maps:\n",
    "        _, *lines = map_.split('\\n')\n",
    "        parsed_maps.append([get_nums(line) for line in lines])\n",
    "    return seeds, parsed_maps\n",
    "\n",
    "data = parses(puzzle.input_data)"
   ]
  },
  {
   "cell_type": "code",
   "execution_count": 132,
   "metadata": {},
   "outputs": [],
   "source": [
    "sample = parses(\"\"\"seeds: 79 14 55 13\n",
    "\n",
    "seed-to-soil map:\n",
    "50 98 2\n",
    "52 50 48\n",
    "\n",
    "soil-to-fertilizer map:\n",
    "0 15 37\n",
    "37 52 2\n",
    "39 0 15\n",
    "\n",
    "fertilizer-to-water map:\n",
    "49 53 8\n",
    "0 11 42\n",
    "42 0 7\n",
    "57 7 4\n",
    "\n",
    "water-to-light map:\n",
    "88 18 7\n",
    "18 25 70\n",
    "\n",
    "light-to-temperature map:\n",
    "45 77 23\n",
    "81 45 19\n",
    "68 64 13\n",
    "\n",
    "temperature-to-humidity map:\n",
    "0 69 1\n",
    "1 0 69\n",
    "\n",
    "humidity-to-location map:\n",
    "60 56 37\n",
    "56 93 4\"\"\")"
   ]
  },
  {
   "cell_type": "code",
   "execution_count": 152,
   "metadata": {},
   "outputs": [
    {
     "data": {
      "text/plain": [
       "35"
      ]
     },
     "execution_count": 152,
     "metadata": {},
     "output_type": "execute_result"
    }
   ],
   "source": [
    "solve_a(sample)"
   ]
  },
  {
   "cell_type": "code",
   "execution_count": 153,
   "metadata": {},
   "outputs": [
    {
     "data": {
      "text/plain": [
       "510109797"
      ]
     },
     "execution_count": 153,
     "metadata": {},
     "output_type": "execute_result"
    }
   ],
   "source": [
    "solve_a(data)"
   ]
  },
  {
   "cell_type": "code",
   "execution_count": null,
   "metadata": {},
   "outputs": [],
   "source": []
  },
  {
   "cell_type": "code",
   "execution_count": 178,
   "metadata": {},
   "outputs": [],
   "source": [
    "def solve_a(data):\n",
    "    vals, maps = data\n",
    "    maps = [sorted([(src, length, dst) for dst, src, length in map_]) for map_ in maps]\n",
    "    \n",
    "    for map_ in maps:\n",
    "        new_vals = []\n",
    "        for val in vals:\n",
    "            for src, length, dst in map_:\n",
    "                if src <= val < src + length:\n",
    "                    new_vals.append(val-src+dst)\n",
    "                    break\n",
    "            else:\n",
    "                new_vals.append(val)\n",
    "        vals = new_vals\n",
    "    return min(vals)"
   ]
  },
  {
   "cell_type": "code",
   "execution_count": 179,
   "metadata": {},
   "outputs": [
    {
     "data": {
      "text/plain": [
       "35"
      ]
     },
     "execution_count": 179,
     "metadata": {},
     "output_type": "execute_result"
    }
   ],
   "source": []
  },
  {
   "cell_type": "code",
   "execution_count": 155,
   "metadata": {},
   "outputs": [],
   "source": [
    "def solve_a_2(data):\n",
    "    vals, maps = data\n",
    "    vals = sorted(vals)\n",
    "    maps = [sorted([(src, length, dst) for dst, src, length in map_]) for map_ in maps]\n",
    "    \n",
    "    for map_ in maps:\n",
    "        new_vals = []\n",
    "        i = 0\n",
    "        for val in vals:\n",
    "            while i < len(map_):\n",
    "                src, length, dst = map_[i]\n",
    "                if val < src:\n",
    "                    new_vals.append(val)\n",
    "                    break\n",
    "            \n",
    "                if val >= src+length: \n",
    "                    i += 1\n",
    "                    continue\n",
    "                \n",
    "                offset = val - src\n",
    "                new_vals.append(dst + offset)\n",
    "                break\n",
    "        vals = sorted(new_vals)\n",
    "    return min(vals)"
   ]
  },
  {
   "cell_type": "code",
   "execution_count": 140,
   "metadata": {},
   "outputs": [
    {
     "data": {
      "text/plain": [
       "35"
      ]
     },
     "execution_count": 140,
     "metadata": {},
     "output_type": "execute_result"
    }
   ],
   "source": [
    "solve_a(sample)"
   ]
  },
  {
   "cell_type": "code",
   "execution_count": 141,
   "metadata": {},
   "outputs": [
    {
     "data": {
      "text/plain": [
       "510109797"
      ]
     },
     "execution_count": 141,
     "metadata": {},
     "output_type": "execute_result"
    }
   ],
   "source": [
    "solve_a(data)"
   ]
  },
  {
   "cell_type": "code",
   "execution_count": 20,
   "metadata": {},
   "outputs": [],
   "source": [
    "a = [1,2,3,4]"
   ]
  },
  {
   "cell_type": "code",
   "execution_count": 22,
   "metadata": {},
   "outputs": [
    {
     "data": {
      "text/plain": [
       "[(1, 2), (3, 4)]"
      ]
     },
     "execution_count": 22,
     "metadata": {},
     "output_type": "execute_result"
    }
   ],
   "source": [
    "i =iter(a)\n",
    "list(zip(i,i))"
   ]
  },
  {
   "cell_type": "code",
   "execution_count": 24,
   "metadata": {},
   "outputs": [
    {
     "data": {
      "text/plain": [
       "[[50, 98, 2], [52, 50, 48]]"
      ]
     },
     "execution_count": 24,
     "metadata": {},
     "output_type": "execute_result"
    }
   ],
   "source": [
    "sample[1]['seed','soil']"
   ]
  },
  {
   "cell_type": "code",
   "execution_count": null,
   "metadata": {},
   "outputs": [],
   "source": []
  },
  {
   "cell_type": "code",
   "execution_count": 156,
   "metadata": {},
   "outputs": [],
   "source": [
    "def solve_b(data):\n",
    "    vals, maps = data \n",
    "    vals = sorted(zip(vals[::2], vals[1::2]))\n",
    "    maps = [sorted([(src,m,dst) for dst, src, m in map_])\n",
    "            for map_ in maps]\n",
    "    \n",
    "    for map_ in maps:\n",
    "        new_vals = []\n",
    "        for start, n in vals:\n",
    "            for src, m, dst in map_:\n",
    "                if src <= start and start+n <= src+m:\n",
    "                    new_vals.append((dst+start-src, n))\n",
    "                    start, n = start+n, 0\n",
    "                    continue\n",
    "                elif src <= start < src+m:\n",
    "                    new_vals.append((start-src+dst, src+m-start))\n",
    "                    start, n = src+m, n - (src+m-start)\n",
    "                    continue           \n",
    "                elif start <= src < start+n:\n",
    "                    new_vals.append((start,src-start))\n",
    "                    start, n = src, n - (src-start)\n",
    "                    continue\n",
    "            if n > 0:\n",
    "                new_vals.append((start, n))\n",
    "        vals = sorted(new_vals)\n",
    "    return min(vals)[0]"
   ]
  },
  {
   "cell_type": "code",
   "execution_count": 170,
   "metadata": {},
   "outputs": [],
   "source": [
    "# def solve_b(data):\n",
    "#     vals, maps = data\n",
    "#     vals = sorted(zip(vals[::2], vals[1::2]))\n",
    "#     maps = [sorted([(src, length, dst) for dst, src, length in map_]) for map_ in maps]\n",
    "#     print(vals)\n",
    "#     for map_ in maps:\n",
    "#         new_vals = []\n",
    "#         i = 0\n",
    "#         for start, n in vals:\n",
    "#             while i < len(map_):\n",
    "#                 print(new_vals)\n",
    "#                 src, m, dst = map_[i]\n",
    "#                 if start+n < src:\n",
    "#                     new_vals.append((start, start+n))\n",
    "#                     break\n",
    "                \n",
    "#                 if start >= src+m:\n",
    "#                     i += 1\n",
    "#                     continue\n",
    "                \n",
    "#                 if src <= start < src+m:\n",
    "#                     new_vals.append((start-src+dst, src+m-start))\n",
    "#                     start, n = src+m, n - (src+m-start)\n",
    "#                     i += 1\n",
    "#                     continue        \n",
    "                    \n",
    "#                 elif start <= src < start+n:\n",
    "#                     new_vals.append((start,src-start))\n",
    "#                     start, n = src, n - (src-start)\n",
    "#                     i += 1\n",
    "#                     continue\n",
    "                \n",
    "#                 offset = val - src\n",
    "#                 new_vals.append(dst + offset)\n",
    "#                 break\n",
    "#         vals = sorted(new_vals)\n",
    "#     return min(vals)"
   ]
  },
  {
   "cell_type": "code",
   "execution_count": 176,
   "metadata": {},
   "outputs": [],
   "source": [
    "def solve_b(data):\n",
    "    vals, maps = data \n",
    "    vals = sorted(zip(vals[::2], vals[1::2]))\n",
    "    vals = [(i,i+n) for i, n in vals]\n",
    "    maps = [sorted([(src,src+m,dst) for dst, src, m in map_])\n",
    "            for map_ in maps]\n",
    "    \n",
    "    for map_ in maps:\n",
    "        new_vals = []\n",
    "        for s1, e1 in vals:\n",
    "            for s2, e2, dst in map_:\n",
    "                if s2 <= s1 and e1 <= e2:\n",
    "                    # completely inside\n",
    "                    new_vals.append((dst+s1-s2, dst+e1-s2))\n",
    "                    s1 = e1\n",
    "                    continue\n",
    "                elif s2 <= s1 < e2:\n",
    "                    # partially inside\n",
    "                    new_vals.append((dst+s1-s2, dst+e2-s2))\n",
    "                    s1 = e2\n",
    "                    continue           \n",
    "                elif s1 <= s2 < e1:\n",
    "                    # partially outside\n",
    "                    new_vals.append((s1,s2))\n",
    "                    s1 = s2\n",
    "                    continue\n",
    "            if e1-s1 > 0:\n",
    "                new_vals.append((s1, e1))\n",
    "        vals = sorted(new_vals)\n",
    "    return min(vals)[0]"
   ]
  },
  {
   "cell_type": "code",
   "execution_count": 177,
   "metadata": {},
   "outputs": [
    {
     "data": {
      "text/plain": [
       "True"
      ]
     },
     "execution_count": 177,
     "metadata": {},
     "output_type": "execute_result"
    }
   ],
   "source": [
    "solve_b(sample) == 46"
   ]
  },
  {
   "cell_type": "code",
   "execution_count": null,
   "metadata": {},
   "outputs": [],
   "source": []
  },
  {
   "cell_type": "code",
   "execution_count": 175,
   "metadata": {},
   "outputs": [
    {
     "data": {
      "text/plain": [
       "True"
      ]
     },
     "execution_count": 175,
     "metadata": {},
     "output_type": "execute_result"
    }
   ],
   "source": [
    "solve_b(data) == 9622622"
   ]
  },
  {
   "cell_type": "code",
   "execution_count": null,
   "metadata": {},
   "outputs": [],
   "source": []
  },
  {
   "cell_type": "code",
   "execution_count": null,
   "metadata": {},
   "outputs": [],
   "source": []
  },
  {
   "cell_type": "code",
   "execution_count": 85,
   "metadata": {},
   "outputs": [
    {
     "data": {
      "text/plain": [
       "[565778304,\n",
       " 341771914,\n",
       " 1736484943,\n",
       " 907429186,\n",
       " 3928647431,\n",
       " 87620927,\n",
       " 311881326,\n",
       " 149873504,\n",
       " 1588660730,\n",
       " 119852039,\n",
       " 1422681143,\n",
       " 13548942,\n",
       " 1095049712,\n",
       " 216743334,\n",
       " 3671387621,\n",
       " 186617344,\n",
       " 3055786218,\n",
       " 213191880,\n",
       " 2783359478,\n",
       " 44001797]"
      ]
     },
     "execution_count": 85,
     "metadata": {},
     "output_type": "execute_result"
    }
   ],
   "source": [
    "data[0]"
   ]
  },
  {
   "cell_type": "code",
   "execution_count": null,
   "metadata": {},
   "outputs": [],
   "source": []
  },
  {
   "cell_type": "code",
   "execution_count": 43,
   "metadata": {},
   "outputs": [
    {
     "data": {
      "text/plain": [
       "1016546293"
      ]
     },
     "execution_count": 43,
     "metadata": {},
     "output_type": "execute_result"
    }
   ],
   "source": [
    "solve_b(data)"
   ]
  },
  {
   "cell_type": "code",
   "execution_count": 2,
   "metadata": {},
   "outputs": [],
   "source": [
    "def solve_b(data):\n",
    "    pass"
   ]
  },
  {
   "cell_type": "code",
   "execution_count": null,
   "metadata": {},
   "outputs": [],
   "source": []
  }
 ],
 "metadata": {
  "kernelspec": {
   "display_name": "Python 3",
   "language": "python",
   "name": "python3"
  },
  "language_info": {
   "codemirror_mode": {
    "name": "ipython",
    "version": 3
   },
   "file_extension": ".py",
   "mimetype": "text/x-python",
   "name": "python",
   "nbconvert_exporter": "python",
   "pygments_lexer": "ipython3",
   "version": "3.8.8"
  }
 },
 "nbformat": 4,
 "nbformat_minor": 4
}
