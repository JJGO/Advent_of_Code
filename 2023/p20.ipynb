{
 "cells": [
  {
   "cell_type": "code",
   "execution_count": 1,
   "id": "aa51dfc5",
   "metadata": {},
   "outputs": [],
   "source": [
    "from aocd.models import Puzzle\n",
    "\n",
    "puzzle = Puzzle(year=2023, day=20)\n",
    "\n",
    "def parses(input):\n",
    "    def parse_line(line):\n",
    "        mod, dsts = line.split(' -> ')\n",
    "        dsts = dsts.split(', ')\n",
    "        if mod[0] in '%&':\n",
    "            kind = {'%': 'flip', '&': 'conj'}[mod[0]]\n",
    "            mod = mod[1:]\n",
    "        elif mod == 'broadcaster':\n",
    "            kind = 'cast'\n",
    "        return mod, (kind, dsts)\n",
    "    return [parse_line(line) for line in input.strip().split('\\n')]\n",
    "\n",
    "data = parses(puzzle.input_data)"
   ]
  },
  {
   "cell_type": "code",
   "execution_count": 2,
   "id": "e5749d9e",
   "metadata": {},
   "outputs": [],
   "source": [
    "sample = parses(\"\"\"broadcaster -> a, b, c\n",
    "%a -> b\n",
    "%b -> c\n",
    "%c -> inv\n",
    "&inv -> a\n",
    "\"\"\")\n",
    "\n",
    "sample2 = parses(\"\"\"broadcaster -> a\n",
    "%a -> inv, con\n",
    "&inv -> b\n",
    "%b -> con\n",
    "&con -> output\"\"\")"
   ]
  },
  {
   "cell_type": "code",
   "execution_count": 3,
   "id": "5f1a4495",
   "metadata": {},
   "outputs": [],
   "source": []
  },
  {
   "cell_type": "code",
   "execution_count": 8,
   "id": "8566745d",
   "metadata": {},
   "outputs": [],
   "source": [
    "from collections import deque\n",
    "import math\n",
    "import itertools\n",
    "\n",
    "def solve_a(data):\n",
    "    mods = dict(data)\n",
    "\n",
    "    flip_states = {mod: 0 for mod, (kind, _) in data if kind == 'flip'}\n",
    "    conj_memory = {mod: {} for mod, (kind, _) in data if kind == 'conj'}\n",
    "    for mod, (kind, connected) in data:\n",
    "        for dst in connected:\n",
    "            if dst in conj_memory:\n",
    "                conj_memory[dst][mod] = 0\n",
    "\n",
    "    pulses = [0,0]\n",
    "\n",
    "    for i in range(1000):\n",
    "        queue = deque(\n",
    "            [('broadcaster', dst, 0) for dst in mods['broadcaster'][1]]\n",
    "        )\n",
    "        pulses[0] += 1+len(queue) # button + broadcasts\n",
    "\n",
    "        while queue:\n",
    "            src, mod, pulse = queue.popleft()\n",
    "            if mod not in mods:\n",
    "                continue\n",
    "                \n",
    "            kind, connected = mods[mod]\n",
    "            if kind == 'flip':\n",
    "                if pulse == 1: \n",
    "                    continue\n",
    "                flip_states[mod] ^= 1\n",
    "                new_pulse = flip_states[mod]\n",
    "            elif kind == 'conj':\n",
    "                mem = conj_memory[mod]\n",
    "                mem[src] = pulse\n",
    "                new_pulse = 1 ^ all(s==1 for s in mem.values())\n",
    "\n",
    "            for dst in connected:\n",
    "                pulses[new_pulse] += 1\n",
    "                queue.append((mod, dst, new_pulse))\n",
    "                \n",
    "    return math.prod(pulses)"
   ]
  },
  {
   "cell_type": "code",
   "execution_count": 9,
   "id": "f0e7d274",
   "metadata": {},
   "outputs": [
    {
     "data": {
      "text/plain": [
       "True"
      ]
     },
     "execution_count": 9,
     "metadata": {},
     "output_type": "execute_result"
    }
   ],
   "source": [
    "solve_a(sample) == 32000000"
   ]
  },
  {
   "cell_type": "code",
   "execution_count": 10,
   "id": "189ba847",
   "metadata": {},
   "outputs": [
    {
     "data": {
      "text/plain": [
       "True"
      ]
     },
     "execution_count": 10,
     "metadata": {},
     "output_type": "execute_result"
    }
   ],
   "source": [
    "solve_a(sample2) == 11687500"
   ]
  },
  {
   "cell_type": "code",
   "execution_count": 11,
   "id": "504ff6e1",
   "metadata": {},
   "outputs": [],
   "source": []
  },
  {
   "cell_type": "code",
   "execution_count": 31,
   "id": "79a3cfd7",
   "metadata": {},
   "outputs": [],
   "source": [
    "from collections import deque\n",
    "import math\n",
    "import itertools\n",
    "\n",
    "\n",
    "### The puzzle input is structured with 4 separate binary counters that \n",
    "# count up to prime numbers and then reset to zero, thus we just \n",
    "# need to find the periods of the high pulses going into the conjunction\n",
    "# gate before rx\n",
    "def solve_b(data):\n",
    "    mods = dict(data)\n",
    "\n",
    "    flip_states = {mod: 0 for mod, (kind, _) in data if kind == 'flip'}\n",
    "    conj_memory = {mod: {} for mod, (kind, _) in data if kind == 'conj'}\n",
    "    for mod, (kind, connected) in data:\n",
    "        for dst in connected:\n",
    "            if dst in conj_memory:\n",
    "                conj_memory[dst][mod] = 0\n",
    "    \n",
    "    # find the nodes \n",
    "    mods = dict(data)\n",
    "    reverse = {}\n",
    "    for mod, (kind, connected) in data:\n",
    "        for dst in connected:\n",
    "            reverse[dst] = reverse.get(dst, []) + [mod]\n",
    "    prev = reverse['rx'][0]\n",
    "    required = reverse[prev]\n",
    "    \n",
    "    periods = {}\n",
    "\n",
    "    for i in itertools.count(1):\n",
    "        queue = deque(\n",
    "            [('broadcaster', dst, 0) for dst in mods['broadcaster'][1]]\n",
    "        )\n",
    "\n",
    "        while queue:\n",
    "            src, mod, pulse = queue.popleft()\n",
    "            \n",
    "            if mod == prev and pulse == 1:\n",
    "                print(periods)\n",
    "                periods[src] = i\n",
    "                if len(periods) == 4:\n",
    "                    return math.lcm(*periods.values())\n",
    "            \n",
    "            if mod not in mods:\n",
    "                continue\n",
    "\n",
    "            kind, connected = mods[mod]\n",
    "            if kind == 'flip':\n",
    "                if pulse == 1: \n",
    "                    continue\n",
    "                flip_states[mod] ^= 1\n",
    "                new_pulse = flip_states[mod]\n",
    "            elif kind == 'conj':\n",
    "                mem = conj_memory[mod]\n",
    "                mem[src] = pulse\n",
    "                new_pulse = 1 ^ all(s==1 for s in mem.values())\n",
    "\n",
    "            for dst in connected:\n",
    "                queue.append((mod, dst, new_pulse))\n",
    "                \n",
    "    "
   ]
  },
  {
   "cell_type": "code",
   "execution_count": 33,
   "id": "7a592a3f",
   "metadata": {},
   "outputs": [
    {
     "name": "stdout",
     "output_type": "stream",
     "text": [
      "{}\n",
      "{'lt': 3739}\n",
      "{'lt': 3739, 'qh': 3821}\n",
      "{'lt': 3739, 'qh': 3821, 'bq': 3889}\n"
     ]
    },
    {
     "data": {
      "text/plain": [
       "True"
      ]
     },
     "execution_count": 33,
     "metadata": {},
     "output_type": "execute_result"
    }
   ],
   "source": [
    "solve_b(data) == 227411378431763"
   ]
  },
  {
   "cell_type": "code",
   "execution_count": null,
   "id": "ad069c02",
   "metadata": {},
   "outputs": [],
   "source": []
  }
 ],
 "metadata": {
  "kernelspec": {
   "display_name": "Python 3 (ipykernel)",
   "language": "python",
   "name": "python3"
  },
  "language_info": {
   "codemirror_mode": {
    "name": "ipython",
    "version": 3
   },
   "file_extension": ".py",
   "mimetype": "text/x-python",
   "name": "python",
   "nbconvert_exporter": "python",
   "pygments_lexer": "ipython3",
   "version": "3.11.4"
  }
 },
 "nbformat": 4,
 "nbformat_minor": 5
}
