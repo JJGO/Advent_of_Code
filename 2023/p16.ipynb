{
 "cells": [
  {
   "cell_type": "code",
   "execution_count": 6,
   "metadata": {},
   "outputs": [],
   "source": [
    "from aocd.models import Puzzle\n",
    "\n",
    "puzzle = Puzzle(year=2023, day=16)\n",
    "\n",
    "def parses(input):\n",
    "    return [list(row) for row in input.strip().split('\\n')]\n",
    "\n",
    "# import re\n",
    "# def parses(input):\n",
    "#     return [int(re.findall('\\d', line)) for line in nput.strip().split('\\n')]\n",
    "\n",
    "data = parses(puzzle.input_data)"
   ]
  },
  {
   "cell_type": "code",
   "execution_count": 7,
   "metadata": {},
   "outputs": [],
   "source": [
    "sample = parses(r\"\"\".|...\\....\n",
    "|.-.\\.....\n",
    ".....|-...\n",
    "........|.\n",
    "..........\n",
    ".........\\\n",
    "..../.\\\\..\n",
    ".-.-/..|..\n",
    ".|....-|.\\\n",
    "..//.|....\"\"\")"
   ]
  },
  {
   "cell_type": "code",
   "execution_count": 8,
   "metadata": {},
   "outputs": [],
   "source": [
    "REFLECTIONS = {\n",
    "    '-': {\n",
    "        1: [-1j,1j],\n",
    "        -1: [-1j,1j],\n",
    "        1j: [1j],\n",
    "        -1j: [-1j],\n",
    "    },\n",
    "    '|': {\n",
    "        1j: [-1,1],\n",
    "        -1j: [-1,1],\n",
    "        1: [1],\n",
    "        -1: [-1],\n",
    "    },\n",
    "    '/': {\n",
    "        1j: [-1],\n",
    "        -1j: [1],\n",
    "        1: [-1j],\n",
    "        -1: [1j],\n",
    "    },\n",
    "    '\\\\': {\n",
    "        1j: [1],\n",
    "        -1j: [-1],\n",
    "        1: [1j],\n",
    "        -1: [-1j],\n",
    "    },\n",
    "}"
   ]
  },
  {
   "cell_type": "code",
   "execution_count": 9,
   "metadata": {},
   "outputs": [],
   "source": [
    "def viz(visited, stack, mirrors, N, M):\n",
    "    s = [['.' for j in range(M)] for i in range(N)]\n",
    "    for pos, _ in visited:\n",
    "        i, j = int(pos.real), int(pos.imag)\n",
    "        s[i][j] = 'X' \n",
    "#     for pos, mirror in mirrors.items():\n",
    "#         i, j = int(pos.real), int(pos.imag)\n",
    "#         s[i][j] = mirror\n",
    "\n",
    "    for pos, vel in stack:\n",
    "        i, j = int(pos.real), int(pos.imag)\n",
    "        c = dict(zip('^v<>', [-1,1,-1j,1j]))\n",
    "        \n",
    "    print('\\n'.join([''.join(row) for row in s]))\n",
    "    print()"
   ]
  },
  {
   "cell_type": "code",
   "execution_count": 10,
   "metadata": {},
   "outputs": [],
   "source": [
    "def solve_a(data):\n",
    "    N, M = len(data), len(data[0])\n",
    "    mirrors = {}\n",
    "    for i in range(N):\n",
    "        for j in range(M):\n",
    "            if data[i][j] != '.':\n",
    "                mirrors[i+1j*j] = data[i][j]\n",
    "    visited = set()\n",
    "    stack = [(-1j,1j)]\n",
    "    while stack:\n",
    "        pos, vel = stack.pop()\n",
    "        pos += vel\n",
    "        if not (0 <= pos.real < N and 0 <= pos.imag < M):\n",
    "            continue\n",
    "        if pos not in mirrors:\n",
    "            visited.add((pos, vel))\n",
    "            stack.append((pos, vel))\n",
    "        else:\n",
    "            mirror = mirrors[pos]\n",
    "            for new_vel in REFLECTIONS[mirror][vel]:\n",
    "                if (pos, new_vel) not in visited:\n",
    "                    visited.add((pos, new_vel))\n",
    "                    stack.append((pos, new_vel))\n",
    "\n",
    "    energized = len(set(pos for pos, _ in visited))\n",
    "    viz(visited, stack, mirrors, N, M)\n",
    "    return energized"
   ]
  },
  {
   "cell_type": "code",
   "execution_count": 31,
   "metadata": {},
   "outputs": [],
   "source": [
    "def simulate_reflections(data, initial):\n",
    "    N, M = len(data), len(data[0])\n",
    "    mirrors = {}\n",
    "    for i in range(N):\n",
    "        for j in range(M):\n",
    "            if data[i][j] != '.':\n",
    "                mirrors[i+1j*j] = data[i][j]\n",
    "    visited = set()\n",
    "    stack = [initial] # pos, dir\n",
    "    while stack:\n",
    "        pos, vel = stack.pop()\n",
    "        pos += vel\n",
    "        if not (0 <= pos.real < N and 0 <= pos.imag < M):\n",
    "            continue\n",
    "        if pos not in mirrors:\n",
    "            visited.add((pos, vel))\n",
    "            stack.append((pos, vel))\n",
    "        else:\n",
    "            mirror = mirrors[pos]\n",
    "            for new_vel in REFLECTIONS[mirror][vel]:\n",
    "                if (pos, new_vel) not in visited:\n",
    "                    visited.add((pos, new_vel))\n",
    "                    stack.append((pos, new_vel))\n",
    "\n",
    "    energized = len(set(pos for pos, _ in visited))\n",
    "    return energized"
   ]
  },
  {
   "cell_type": "code",
   "execution_count": 32,
   "metadata": {},
   "outputs": [],
   "source": [
    "def solve_a(data):\n",
    "    return simulate_reflections(data, (-1j, 1j))"
   ]
  },
  {
   "cell_type": "code",
   "execution_count": 33,
   "metadata": {},
   "outputs": [],
   "source": [
    "def solve_b(data):\n",
    "    N, M = len(data), len(data[0])\n",
    "    initials = (\n",
    "        [(i-1j,1j) for i in range(N)] +\n",
    "        [(i+M*1j,-1j) for i in range(N)] +\n",
    "        [(-1+j*1j,1) for j in range(M)] +\n",
    "        [(N+j*1j,-1) for j in range(M)] \n",
    "    )\n",
    "    return max(simulate_reflections(data, initial) for initial in initials)"
   ]
  },
  {
   "cell_type": "code",
   "execution_count": 34,
   "metadata": {},
   "outputs": [
    {
     "data": {
      "text/plain": [
       "46"
      ]
     },
     "execution_count": 34,
     "metadata": {},
     "output_type": "execute_result"
    }
   ],
   "source": [
    "solve_a(sample)"
   ]
  },
  {
   "cell_type": "code",
   "execution_count": 35,
   "metadata": {},
   "outputs": [
    {
     "data": {
      "text/plain": [
       "51"
      ]
     },
     "execution_count": 35,
     "metadata": {},
     "output_type": "execute_result"
    }
   ],
   "source": [
    "solve_b(sample)"
   ]
  },
  {
   "cell_type": "code",
   "execution_count": 36,
   "metadata": {},
   "outputs": [
    {
     "data": {
      "text/plain": [
       "7438"
      ]
     },
     "execution_count": 36,
     "metadata": {},
     "output_type": "execute_result"
    }
   ],
   "source": [
    "solve_b(data)"
   ]
  },
  {
   "cell_type": "code",
   "execution_count": null,
   "metadata": {},
   "outputs": [],
   "source": []
  },
  {
   "cell_type": "code",
   "execution_count": 11,
   "metadata": {},
   "outputs": [],
   "source": [
    "# import numpy as np\n",
    "# import matplotlib.pyplot as plt\n",
    "# from matplotlib.collections import LineCollection\n",
    "\n",
    "# x    = np.linspace(0,1, 100)\n",
    "# y    = np.sin(10*np.linspace(0,1, 100))\n",
    "# cols = np.linspace(0,1,len(x))\n",
    "\n",
    "# points = np.array([x, y]).T.reshape(-1, 1, 2)\n",
    "# segments = np.concatenate([points[:-1], points[1:]], axis=1)\n",
    "\n",
    "# fig, ax = plt.subplots()\n",
    "# lc = LineCollection(segments, cmap='viridis')\n",
    "# lc.set_array(cols)\n",
    "# lc.set_linewidth(2)\n",
    "# line = ax.add_collection(lc)\n",
    "# fig.colorbar(line,ax=ax)"
   ]
  },
  {
   "cell_type": "code",
   "execution_count": null,
   "metadata": {},
   "outputs": [],
   "source": []
  },
  {
   "cell_type": "code",
   "execution_count": 12,
   "metadata": {},
   "outputs": [
    {
     "name": "stdout",
     "output_type": "stream",
     "text": [
      "XXXXXX....\n",
      ".X...X....\n",
      ".X...XXXXX\n",
      ".X...XX...\n",
      ".X...XX...\n",
      ".X...XX...\n",
      ".X..XXXX..\n",
      "XXXXXXXX..\n",
      ".XXXXXXX..\n",
      ".X...X.X..\n",
      "\n"
     ]
    },
    {
     "data": {
      "text/plain": [
       "46"
      ]
     },
     "execution_count": 12,
     "metadata": {},
     "output_type": "execute_result"
    }
   ],
   "source": [
    "solve_a(sample)"
   ]
  },
  {
   "cell_type": "code",
   "execution_count": 38,
   "metadata": {},
   "outputs": [
    {
     "name": "stdout",
     "output_type": "stream",
     "text": [
      "X.X.X............X........XXX.........X.......XXXXXXXXXXXXXXXXXXXXXXX....X.XXX........X....X.X................\n",
      "XXXXXXXXXXXXXXXXXXXXXXXXXXXXX.........X...........X..X..XXXXXXXXXXXXXXXXXXXXXXXXXXXXXXX....X.X................\n",
      "X.X.X..XXX.....X.X........XXX.........X...........X..X........XXX...X....X.XXX........XXXXXXXXXX..............\n",
      "X.X.XXXXXXXXXXXXXX........XXX.........X...........X..XX.......XXX...X....X.XXX.............X.X.X..............\n",
      "X.X.X..X.X.XXXXXXXXXXXX...XXX.........X...........X..XX.XXXXXXXXXXXXXXXXXX.XXX.............X.X.X..............\n",
      "X.X.X..X.X.X...XXXXXXXXXXXXXX.........XXXXXXXXXXXXXXXXXXXXXXXXXXXXXXXXXXXX.XXX..XXXXXXXX...XXXXX..............\n",
      "X.X.X..X.X.X...X.XX...X....XX.........X...........X..XX.X.....XXX.X.XX..X..XXX..X......X.....X................\n",
      "X.X.X..XXXXXXXXXXXXXXXXXXXXXXXXXXXXXXXXXXXXXXXXXXXXXXXXXX.....XXX.X.XX..X..XXX..X.....XX.....X................\n",
      "XXXXXXXXXXXXXXXXXXXXXXXXXXXXX.........X...........X..XXXX.....XXX.X.XX..X..XXX..X.....XX.....X................\n",
      "..X.X..XXX.X...XXXX...X....XX.........X........XXXXXXXXXXXXXXXXXXXXXXXXXXXXXXX..X.....XX.....X................\n",
      "..X.X..XXX.X...XX.X...X....XX.........X........X..X..XXXX.....XXX.X.XX..X..XXX..X.....XX.....X................\n",
      "..X.X..XXXXXXXXXXXXXXXXXXXXXXXXXXXXXXXXXXXXXXXXXXXXXXXXXXXXXXXXXX.X.XXXXXXXXXXXXX.....XX.....X................\n",
      "..X.X..XXX.X...XX.X...X....XX....X....X........X..X..XXXX..X..XXXXXXXXXXXXXXXX.XX.....XX.....X................\n",
      "XXXXXXXXXXXXXXXXXXXXXXXXXXXXXXXXXXXXXXXXX......X..X..XXXX..X..XXXXXXX...X...X..XXXXXXXXXXX...X................\n",
      "XXXXXXXXXXXXXXXXXXXXXXXXXXXXX....X....X.X......X..X...XXX.XXXXXXXXXXXXXXXXXXXXXXXXXXXXXXXXXXXXXXXXXXXXXXXXXXXX\n",
      "..X.X..XXX.X...XX.X...XX..XXX....X....X.X......X..X...XXXXXXXXXXXXXXXXXXX...X...X.....XX.X.XXXXXXXXXXXXXXXXXXX\n",
      "..X.X..XXX.X...XX.X...XX..XXX....X....X.X......X..X.XXXXXXXXXXXXXXXXXXXXXXXXX...X.....XX.X.X.X................\n",
      "XXXXXXXXXXXXXXXXXXXXX.XX..XXX..XXXXXXXXXXXXXXXXXXXXXXXXXXXXXXXXXXXXXXXXXXX.XXXXXXXXXXXXXXXXXXX................\n",
      "..X.X..XXX.X...XX.X.X.XX..XXX..X.X....X.X......X..X.X.XXX.XX...X..XXXXXXXXXXXXXXXXXXXXXXXX.X..................\n",
      "..X.X.XXXXXXXXXXXXXXXXXXXXXXXXXXXXXXXXXXXXXXXXXXXXXXX.XXX.XX...X..XXXX...X.XX...X..X..XX.X.X..................\n",
      "..X.X.XXXX.X...XX.X.X.XX..XXX..X.X....X.X......X..X...XXX.XX...X..XXXX...X.XX...XXXXXXXX.X.XXXXXXXXXXXXXXXXXXX\n",
      "XXXXXXXXXX.XXXXXXXXXXXXXXXXXXXXXXX....X.X......X..X...XXX.XX...X..XXXXXXXXXXXXXXXXXXXXX..X..............X.....\n",
      "..X...X.XX.....XX.X.X.XX..XXX..XXX....X.X......X..X...XXX.XX...X...XXX.X.X.XX...XX.X.XX..X..............X....X\n",
      "..X...X.XX.....XX.X.X.XXXXXXX..XXX....X.X......X..X...XXXXXXXXXXXXXXXXXXXXXXXXXXXXXXXXXXXXXX............X....X\n",
      "..X...X.XX.....XX.X.X.XX.XXXX..XXX....X.X......X..X...XXXXXX...X...XXX.X.X.XX...XX.X.XX..X.X............X....X\n",
      "..X...X.XX.....XX.X.X.XX.XXXXXXXXXXXXXXXXXXXXXXXX.X...XXXXXX...X...XXX.X.X.XX...XX.X.XX..X.X............X....X\n",
      "..X...X.XX.....XX.X.X.XX.XXXXXXXXXXXXXXXX......XX.X...XXXXXX...X...XXX.X.X.XX...XX.X.XX..X.X............XX...X\n",
      "..X...XXXXXX...XX.X.X.XX.XXXX..XXX....XXX......XX.X...XXXXXX...X...XXX.X.X.XX...XX.X.XX..X.X............XX...X\n",
      "..X.....XX.X.XXXX.X.X.XX.XXXX..XXX....XXXXXXXXXXXXXXXXXXXXXXXXXXXXXXXXXXXX.XX...XX.X.XX..X.X............XX...X\n",
      "XXXXXXXXXXXXXXXXXXXXXXXX.XXXX..XXX....XXX......XX.X...XXXXXX...X...XXX.XXX.XX...XX.X.XX..X.X............XX...X\n",
      "XXXXXXXXXXXXXXXXXXXXXXXXXXXXXXXXXXXXXXXXX......XX.X...XXXXXX...X...XXX.XXX.XX...XX.X.XX..XXXXXXXXXXXXX..XX...X\n",
      "X.X.....XX.X.X.XX.X.X.XX.XXXX..XXX....XXXXX....XX.X...XXXXXX...X...XXXXXXXXXXXXXXXXXXXXXXXXXXXXXXXXXXXXXXXXXXX\n",
      "X.X.....XX.X.X.XXXXXXXXXXXXXXXXXXX....XXX.X....XX.X...XXXXXX...XXXXXXX.XXX.XX...XX.X.XX.XX...........X..XX...X\n",
      "X.X.....XX.X.X..X.X.X.XXXXXXX.XXXX....XXX.X....XX.X....XXX.XXXXXXXXXXXXXXXXXXXXXXXXXXXXXXXXXXXXXXXXXXXXXXXXXXX\n",
      "XXXX....XX.X.X..X.X.X.X..XXX..XXXX....XXX.X....XX.X....XXX.XX.XXXXXXXXXXXXXXXXXXXXXXXXXXXX...........X..XX...X\n",
      "XXXXXXXXXXXXXXXXXXX.X.X..XXX..XXXX....XXXXXXXX.XX.X....XXXXXXXXXXXXXXXXXXXXXXXXXXXXXXXXXXXXX.........X..XX...X\n",
      "XXXXXXXXXXXXXXXXXXXXXXXXXXXXXXXXXXXXXXXXX.X..X.XX.XXXXXXXXXXXXXXX..XXXXXXXXXXXXXXXXXXXXXXXXXXXXXXXXXXX..XX...X\n",
      ".XXX....XXXXXXXXXXXXXXXXXXXXXXXXXXX...XXXXXXXXXXX..X....XX.XX.XX...X.X.XXX.XXXXXXXXXXXXXX..X............XX...X\n",
      ".XXX....XXXX.X..XXXXXXXXXXXXXXXXXXXXXXXXXXXXXXXXXXXXXXXXXXXXXXXXXXXXXXXXXXXXXXX.XXXX.XX.X..X............XX...X\n",
      ".XXX....XXXXXXXXXXXXXXXXXXXXXXXXXXX...X.X.X..X.X...X....XX.XX.XX...X.X.XXX.X..X.XXXXXXXXXXXXX...........XX...X\n",
      ".XXX.....XXX.X......X.XXXXXXXXXXXXXXXXXXXXXXXXXXXXXXXXXXXXXXXXXXXXXXXXXXXXXXXXXXXXXXXXX.X..XX...........XX..XX\n",
      ".XXX.....XXX.X......XXXXXXXXXXXXXXXXXXXXXXXXXXXX...X....XX.XXXXXXXXXXXXXXXXXXXXXXXXXXXXXXXXXXXXXXXXXXXXXXXXXXX\n",
      ".XXX.....XXX.X........XX.XXX..XX.X....X.X.X..X.....X....XX.XXXXXXXXXXXXXXXXX.....XXX.XX.X..XX...........XX.XXX\n",
      ".XXX.....XXXXX........XX.XXX..XX.X....X.X.X.XXXXXXXXXXXXXX..XXXXXXXXXXXXXXXXXXXXXXXX.XX.X..XX...........XX.XXX\n",
      ".XXX......XX..........XX.XXX.XXXXXXXXXXXXXXXXXXXXXXXXXXXXXXXXXXXXX.X.XXXXXXX.....XXX.XX.X..XX...........XX.XXX\n",
      ".XXX......XX........XXXXXXXXXXXXXXXXXXXXXXXXXXXXXXXXXXXXXXXXXXXXXXXXXXXXXXXXXXXXXXXXXXXXXXXXXXXXXXXXXXXXXXXXXX\n",
      "XXXXXXXXXXXXXXXXXXXXXXXXXXXXXXXXXXXXXXXXXXXXXXXXXXXXXXXXXXXXXXX..X.X.X.XXX.X.....X.X.XX.X..XX...........XX.XXX\n",
      ".XXX..X...XXXXXXXXXXXXXXXXXXXXXX.X..XXXXXXXXX...X..X....X...XXXXXXXXXXXXXXXXXXXXXXXXXXXXXXXXXXXXXXXXXXXXXXXXXX\n",
      ".XXXXXXXXXXXXXXXXXXXXXXXXXXXXXXXXXXXXXXXXXXXXXXXXXXXXXXXXXXXXXX..X.X.X.XXX.X.....X...XX.X..XX...X.......XXXXXX\n",
      "..XXXXXXXXXXXXXXXXXXXXXXXXXXXXXXXXXXXXXXXXXXXXXXXXXXXXXXXXXXXXX..X.X.X.XXX.X.....X.XXXX.X..XX...X......XXX.XXX\n",
      "XXXXXXXXXXXXXXXXXXXXXXXXXXXXXXXXXXXXXXXXX.X.X...X..X....X..XXXXXXXXXXXXXXX.X.....X.XXXXXXXXXXXXXXXXX...X...XXX\n",
      "XXXXXXXXXXXXX.......X.XX.XXX.XXX.X..XXX.XXXXXXXXXXXXXXXXXXXXXXXXXXXXXX.XXX.X.....X....X.X...X...X..X...X...XXX\n",
      "..X...X...XXXXXXXXXXXXXXXXXX.XXX.X..XXX.X.X.X...X..X....X..XXXX.XX.X...XXX.X.....X....X.X...X...X..X...X...XXX\n",
      "..X...X...XX.....X..X.XX.XXX.XXX.X..XXX.X.X.X...XXXXXXXXXXXXXXXXXXXXXXXXXXXXXXXXXXXXXXXXX...X...X..X...X...XXX\n",
      "..X...X...XX.....X..X.XX.XXX.XXX.X..XXXXXXXXXXXXXXXXXXXXXXXXXXX.XX.X...XXX.X.....X....XXX...X...X..X...X...XXX\n",
      ".XXXXXXX..XX.....XXXXXXXXXXXXXXX.X..XXX.X.X........X....XXXXXXXXXXXXXXXXXXXXXXXXXXXXXXXXXXXXXXXXX..X...X...XXX\n",
      ".XX.X.XX..XX........X.XX.XXX.XXX.X..XXX.X.X........X....X.XXXX..XX.X...XXX.X.....X....XXX...X..XX..X...X...XXX\n",
      ".XX.X.XX..XX........X.XX.XXX.XXX.X..XXX.X.X........X....X.XXXXXXXXXXXXXXXXXXXXXXXXXXXXXXXXXXXXXXXXXXXXXXXXXXXX\n",
      ".XX.X.XX..XX........X.XX.XXX.XXX.X..XXX.X.X........X....X.XXXXXXXXXXXXXXXX.X.....X.....XX...X..XX..X...X...X..\n",
      ".XX.X.XX..XX........X.XX.XXXXXXXXXXXXXXXXXXXXXXXXXXXXXXXXXXXXXXXXXXXXXXXXXXXXXXXXXXXXXXXXXXXXXXXXXXXXX.X.XXXXX\n",
      ".XX.X.XX..XX........X.XXXXXX.XXX.X.XXXX.XXXXXXXXXXXXXXXXXXXXXXXXXXXXXXXXXXXX.....X.....XX...X..XX..X.X.X.X....\n",
      ".XXXXXXXXXXXXXXXXXXXX.X..XXX.XXX.X.XXXX.X.X...X....X....XXXXXXXXXXXXXXXXXXXXXXXXXXXXXXXXXXXXXXXXXXXXXXXXXXXXXX\n",
      "XXXXXXXXXXXXXXXXXXXXXXXXXXXXXXXX.X.XXXX.X.X...X....X....X.X.XXX.XX.XX...XX.X.....X.....XX.X.X..XX..X.X.X.X....\n",
      ".XXXX.XX.XXX..........X.XXXX.XX..X.XXXX.X.X...X...XXXXXXXXXXXXXXXXXXXXXXXXXX.....X.....XX.X.X..XX..X.X.X.X....\n",
      ".XX...XX.XXX..........X.XXXX.XXXXXXXXXXXXXXXXXXXXXXXXXXXXXXXXXXXXXXXXXXXXXXXXXXXXXXXXXXXXXXXXXXXXXXXXXXX.X....\n",
      ".XX...XX.XXX..........X.XXXX..X..X.XXXXXXXXXXXXXXXXXXXXXXXXXXXXXXXXXXXXXXXXXXXXXXXXXXXXXXXXXXXXXXXXXXXXXXXXXXX\n",
      ".XX...XX.XXXXXXXXXXXXXXXXXXX..X..X..XXX.X.X...X...XX....XXXXXXXXXXXXXXXXXXXXXXXXXX.....XX.X.X..XX..X.X.X.X....\n",
      "XXXXXXXXXXXXXXXXXXXXXXXXXXXXX.X..XXXXXXXXXXXXXXXXXXXXXXXXXXXXXXXXXXXX...XX.XX..........XX.X.X..XX..X.X.X.X....\n",
      ".XXX...X.XXX.XXXXXXXXXXXXXXXXXXXXXXXXXXXXXXXXXXXXXXXXXXXXXXXXXXXXX.XX...XXXXXXXXXXXXXXXXXXXXXXXXXXXXXXXXXXXXXX\n",
      ".XXX...X.XXX.X........X.X.XXX.X..XX.XXX.X.X.X.X...XX....XXXXXXX..X.XXXXXXXXXXXXXXX.....XX.X.X..XX..X.X.X.X....\n",
      "XXXXXXXX.XXX.X........XXXXXXXXXXXXXXXXX.X.X.X.X...XX....XXXXXXX..X.XXX..XX.XX.X........XX.X.X..XX..X.X.XXXXXXX\n",
      ".XXX.....XXX.X..........X.XXXXXXXXXXXXXXXXX.X.XXXXXXXXXXXXXXXXXXXXXXXX..XX.XX.X........XX.X.X..XX..X.X...X....\n",
      ".XXX.....XXX.X..........X.XXXXXX.XX..XX.XXX.X.....XX....XXXXXXX..XXXXXXXXXXXX.X........XX.X.X..XX..X.X...X....\n",
      ".XXX.....XX..X..........X.XXXXXX.XX..XXXXXXXXXXXX.XXXXXXXXXXXXXXXXXXXXXXXXXXX.X........XX.XXXXXXXXXXXXXXXXXXXX\n",
      ".XXX.....XX..X..........X.XXXXXX.XX.XXXXXXXXXXXXXXXXXXXXXXXXXXXXXXXXXXXXXXXXX.X.......XXXXXXXXXXXXXXXXXXXXXXXX\n",
      ".XXX.....XX..X..........X..XXX.X.XX.XXXXXXX.X..XX.XX.XXXXXXXXXX....X.X..X...X.X.......X.X.X.X..XX..X..........\n",
      "XXXXXXXXXXX..XXXXXXXXXXXXXXXXXXXXXXXXXXXXXXXXX.XX.XX.XXXXXX.XXX....X.X..X...X.X.......X.X.XXXXXXXXXXXXXXXXXXXX\n",
      ".XXXXXXXXXX..X........X.X..XXX.X.XX.XX..XXX.XX.XXXXXXXXXXXXXXXXXXXXXXXXXXXXXXXXXXXXXXXXXXXXXXXXXXX.X..........\n",
      ".XXX.....XX..X......XXXXXXXXXXXXXXXXXXXXXXX.XX.X..XX..X.XXX.XXX....X.X..X...X.X.......X.X.X.X...XX.X..........\n",
      ".XXX.....XX..X......X.XXXXXXXXXXXXXXXXXXXXXXXXXXXXXXXXXXXXXXXXXXXXXXXXXXXXXXXXX.......X.X.X.X...XXXXXXXXXXXXXX\n",
      ".XXX.....XXXXXXXXXXXXXXXXXXXXXXXXXXXXXXXXXXXXXXXXXXXXXXXXXXXXXXXXXXXXXXXX...X.........X.X.X.X...XX.X..X.......\n",
      "XXXXXXXXXXXXXXXXXXXXXXXXXXXXXXXXXXXXXXXXXXXXXX.X..XXXXXXXXXXXXXXXXXXXXXXXXXXXXXXXXXXXXXXXXXXX...XX.X..X.......\n",
      ".XXX.....X...X...XXXX.X.X..XXX.X.X..XX.XXXXXXXXXXXXXXXXXXXXXXXXXXXXXXXXX....X.........X.X.X.....XX.X..X.......\n",
      ".XXX.....X...X...X.XX.XXXXXXXX.X.X..XX.X.XX.XX.X..XX..XXXXX.XXXXXXXXXXXXXXXXXXXXXX....X.X.X.....XX.X..X.......\n",
      ".XXX.....X...X...X.XX.XXX...XX.X.X..XX.XXXXXXXXXXXXXXXXXXXXXXXXXXX...XXXXXXXXXXXXXXXXXXXXXXXXXXXXXXXXXXXXXXXXX\n",
      ".XXX.....X...X...X.XX.XXXXXXXXXXXXXXXXXXXXXXXXXXXXXXXXXXXXXXXXXXXXXXXXXXXXXXX....X....X.X.X.....X..X..X.......\n",
      ".XXX.....X...XXX.X.XX.XXXXXXXXXXXXXXXXXXXXXXXXXXXXXXXXXXXX..XXX..X...X.X.........X....X.X.X.....X..X..X.......\n",
      ".XXXXXXXXXXXXXXXXXXXXXXXXXXXXXXXXXXXXXXXXXXXXXXXXXXXXXXXXXXXXXXXXXXXXXXXXXXXXXX..X....X.X.X.....X..X..X.......\n",
      ".XX......X.....X.X.XX.X.XXXXXX.XXX..XXX..XX.XX.X..X.X.XXXX..XXX..X...X........X.XXXXXXXXXXXXXXXXX..X..X.......\n",
      ".XXXXXXXXXXXXXXXXXXXX.X.X...X..XXX..XXX..XX.XX.X..X.X.XXXX..XXXXXXXXXXXXXXXXXXXXXXX...X.X.X.....X..X..X.......\n",
      "..X......X.....X.XXXX.X.X...X..XXX..XXXXXXXXXXXX..X.X.XXXX..XXX..X...X........X.XXX...X.X.X.....X..X..X.......\n",
      ".XXXXXXXXXXXXXXXXXXXXXXXXXXXXXXXXXXXXXXXXXXXXXXXXXXXXXXXXXXXXXXXXXXXXXXXXXXXXXXXXXX...X.X.X.....X..X..X.......\n",
      ".XX......X.....X.XXXX.X.X...X..XXX..XX..XXXXXXXXXXXXXXXXXXXXXXXXXXXXXXXXXXXXXXXXXXX...X.X.X.....X..X..X.......\n",
      "XXXXXXXXXXXXXXXXXXXXXXXXXXXXXXXXXXXXXXXXXXXXXXXXXXXXXXXXXXXXXXXXXXXXXXXXXXXXX...XXX...X.X.X.....X..X..X.......\n",
      ".XX..X...XXXXXXXXXXXXXXXXXXXXXXXXXXXXXXXXXXXXXXXXXXXXXXXXXXXXXXXXXXXXXXXXXXXX...XXXXXXXXXXXXXXXXX..X..X.......\n",
      ".XX..X.........X.XXXX.X.X...X..XXX...X..XXX.XXXX..X.X.XXXXXXXXXXXXXXXXXXXXXXXXXXX.X...X.X.X........X..X.......\n",
      ".....X.........X.XXXX.X.X...X..XXX...X..XXX...XX..X.X.XX.XX.X.X..X...X..X..XX...X.X...X.X.X........X..X.......\n",
      "XXXXXXXXXXXXXXXXXXXXXXXXXXXXXXXXXXXXXXXXXXXXXXXXXXXXXXXXXXXXXXXXXXXXXXXXXXXXXXXXXXXXXXXXXXXXXXXXXXXXXXX.......\n",
      ".....X.........X.XXXX.X.XXXXXXXXXXXXXXXXXXXXXXXXXXXXXXXX.XX.X.X..X...X..X..XX...X.X...X.X.X...................\n",
      "XXXXXXXXXXXXXXXXXXXXXXXXXXXXXXXXXXXXXX..XX....XX..X.X.X..XX.X.X..X.XXXXXX..XX...X.X...X.X.X...................\n",
      ".....X...........XXXXXXXXXXXXXXXXXXXXXXXXXXXXXXXXXXXXXXXXXX.X.X..X.X.X.....XX...X.X...X.X.X...................\n",
      ".....X...........XXXX.X.X...X..XXX..XX..X.....XX..X.X.X..XX.X.X..X.X.X.....XX...X.X...X.X.X...................\n",
      ".....X...........XXXX.X.X...X..XXX..XXXXXXXXXXXXXXXXXXXXXXXXXXXXXXXXXXXXXXXXX...X.X...X.X.X...................\n",
      ".....X...........XXXXXXXXXXXXXXXXX..X...X.....XX..X.X.X..XX.X.X..X.X.X.....X....X.X...X.X.X...................\n",
      ".....XXXXXXXXXXXXXXXXXXXXXXXXXXXXXXXXXXXXXXXXXXXXXXXXXXXXXXXXXXXXXXX.X.....X....X.X...X.X.X...................\n",
      ".................XX.X.X.X...XX.X.X..X...XXXXXXXX..X.X.X..XX.X.X..XXX.X.....X....X.X...X.X.X...................\n",
      ".................XX.X.X.X...XX.X.X..X.........X...X.X.X..XX.X.X..XXX.X.....X....XXXXXXXXXXX...................\n",
      ".................XXXXXX.X...XXXXXXXXXXXXXXXXXXXXXXXXXXXXXXXXXXX..XXX.X.....X......X...X.X.X...................\n",
      "..................X.X.X.X....X.X.X............X...XXXXXXXXXXXXX..XXXXXXXXXXXXXXXXXX...X.X.X...................\n",
      "..................X.X.X.X....X.X.X............X.....X....XX.XXX..XXX.X.....X..........X.X.X...................\n",
      "\n"
     ]
    },
    {
     "data": {
      "text/plain": [
       "7199"
      ]
     },
     "execution_count": 38,
     "metadata": {},
     "output_type": "execute_result"
    }
   ],
   "source": [
    "solve_a(data)"
   ]
  },
  {
   "cell_type": "code",
   "execution_count": 44,
   "metadata": {},
   "outputs": [],
   "source": [
    "def solve_b(data):\n",
    "    N, M = len(data), len(data[0])\n",
    "    mirrors = {}\n",
    "    for i in range(N):\n",
    "        for j in range(M):\n",
    "            if data[i][j] != '.':\n",
    "                mirrors[i+1j*j] = data[i][j]\n",
    "    \n",
    "    initials = (\n",
    "        [(i-1j,1j) for i in range(N)] +\n",
    "        [(i+M*1j,-1j) for i in range(N)] +\n",
    "        [(-1+j*1j,1) for j in range(M)] +\n",
    "        [(N+j*1j,-1) for j in range(M)] \n",
    "    )\n",
    "    maxenergized = 0\n",
    "    for initial in initials:\n",
    "        visited = set()\n",
    "        stack = [initial]\n",
    "        while stack:\n",
    "            pos, vel = stack.pop()\n",
    "            pos += vel\n",
    "            if not (0 <= pos.real < N and 0 <= pos.imag < M):\n",
    "                continue\n",
    "            if pos not in mirrors:\n",
    "                visited.add((pos, vel))\n",
    "                stack.append((pos, vel))\n",
    "            else:\n",
    "                mirror = mirrors[pos]\n",
    "                for new_vel in REFLECTIONS[mirror][vel]:\n",
    "                    if (pos, new_vel) not in visited:\n",
    "                        visited.add((pos, new_vel))\n",
    "                        stack.append((pos, new_vel))\n",
    "\n",
    "        energized = len(set(pos for pos, _ in visited))\n",
    "        maxenergized = max(maxenergized, energized)\n",
    "    return maxenergized"
   ]
  },
  {
   "cell_type": "code",
   "execution_count": 45,
   "metadata": {},
   "outputs": [
    {
     "data": {
      "text/plain": [
       "51"
      ]
     },
     "execution_count": 45,
     "metadata": {},
     "output_type": "execute_result"
    }
   ],
   "source": [
    "solve_b(sample)"
   ]
  },
  {
   "cell_type": "code",
   "execution_count": 46,
   "metadata": {},
   "outputs": [
    {
     "data": {
      "text/plain": [
       "7438"
      ]
     },
     "execution_count": 46,
     "metadata": {},
     "output_type": "execute_result"
    }
   ],
   "source": [
    "solve_b(data)"
   ]
  },
  {
   "cell_type": "code",
   "execution_count": 41,
   "metadata": {},
   "outputs": [
    {
     "data": {
      "text/plain": [
       "51"
      ]
     },
     "execution_count": 41,
     "metadata": {},
     "output_type": "execute_result"
    }
   ],
   "source": [
    "\"\"\".XXXXX....\n",
    ".X.X.X....\n",
    ".X.X.XXXXX\n",
    ".X.X.XX...\n",
    ".X.X.XX...\n",
    ".X.X.XX...\n",
    ".X.XXXXX..\n",
    "XXXXXXXX..\n",
    ".XXXXXXX..\n",
    ".X...X.X..\"\"\".count('X')"
   ]
  },
  {
   "cell_type": "code",
   "execution_count": 100,
   "metadata": {},
   "outputs": [],
   "source": [
    "# viz(visited, stack, mirrors, N, M)"
   ]
  },
  {
   "cell_type": "code",
   "execution_count": null,
   "metadata": {},
   "outputs": [],
   "source": []
  },
  {
   "cell_type": "code",
   "execution_count": 15,
   "metadata": {},
   "outputs": [],
   "source": [
    "def solve_a(data):\n",
    "    pass"
   ]
  },
  {
   "cell_type": "code",
   "execution_count": 2,
   "metadata": {},
   "outputs": [],
   "source": [
    "def solve_b(data):\n",
    "    pass"
   ]
  },
  {
   "cell_type": "code",
   "execution_count": null,
   "metadata": {},
   "outputs": [],
   "source": []
  }
 ],
 "metadata": {
  "kernelspec": {
   "display_name": "Python 3 (ipykernel)",
   "language": "python",
   "name": "python3"
  },
  "language_info": {
   "codemirror_mode": {
    "name": "ipython",
    "version": 3
   },
   "file_extension": ".py",
   "mimetype": "text/x-python",
   "name": "python",
   "nbconvert_exporter": "python",
   "pygments_lexer": "ipython3",
   "version": "3.11.4"
  }
 },
 "nbformat": 4,
 "nbformat_minor": 4
}
