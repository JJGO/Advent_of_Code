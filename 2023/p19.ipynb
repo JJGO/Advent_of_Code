{
 "cells": [
  {
   "cell_type": "code",
   "execution_count": 95,
   "metadata": {},
   "outputs": [],
   "source": [
    "from aocd.models import Puzzle\n",
    "\n",
    "puzzle = Puzzle(year=2023, day=19)\n",
    "\n",
    "def parse_workflow(line):\n",
    "    name, workflow = line.strip('}').split('{')\n",
    "    *rules, otherwise = workflow.split(',')\n",
    "    mapping = {}\n",
    "    for rule in rules:\n",
    "        cond, dst = rule.split(':')\n",
    "        mapping[cond] = dst\n",
    "    mapping['x>0'] = otherwise # trivially true\n",
    "    return name, mapping\n",
    "\n",
    "def parse_part(line):\n",
    "    return eval(f\"dict({line[1:-1]})\")\n",
    "\n",
    "def parses(input):\n",
    "    workflows, parts = input.strip().split('\\n\\n')\n",
    "    workflows = dict((parse_workflow(line) for line in workflows.split('\\n')))\n",
    "    parts = [parse_part(line) for line in parts.split('\\n')]\n",
    "    return workflows, parts\n",
    "\n",
    "# import re\n",
    "# def parses(input):\n",
    "#     return [int(re.findall('\\d', line)) for line in nput.strip().split('\\n')]\n",
    "\n",
    "data = parses(puzzle.input_data)"
   ]
  },
  {
   "cell_type": "code",
   "execution_count": 96,
   "metadata": {},
   "outputs": [],
   "source": [
    "sample = parses(\"\"\"px{a<2006:qkq,m>2090:A,rfg}\n",
    "pv{a>1716:R,A}\n",
    "lnx{m>1548:A,A}\n",
    "rfg{s<537:gd,x>2440:R,A}\n",
    "qs{s>3448:A,lnx}\n",
    "qkq{x<1416:A,crn}\n",
    "crn{x>2662:A,R}\n",
    "in{s<1351:px,qqz}\n",
    "qqz{s>2770:qs,m<1801:hdj,R}\n",
    "gd{a>3333:R,R}\n",
    "hdj{m>838:A,pv}\n",
    "\n",
    "{x=787,m=2655,a=1222,s=2876}\n",
    "{x=1679,m=44,a=2067,s=496}\n",
    "{x=2036,m=264,a=79,s=2244}\n",
    "{x=2461,m=1339,a=466,s=291}\n",
    "{x=2127,m=1623,a=2188,s=1013}\"\"\")"
   ]
  },
  {
   "cell_type": "code",
   "execution_count": 97,
   "metadata": {},
   "outputs": [
    {
     "data": {
      "text/plain": [
       "({'px': {'a<2006': 'qkq', 'm>2090': 'A', 'x>0': 'rfg'},\n",
       "  'pv': {'a>1716': 'R', 'x>0': 'A'},\n",
       "  'lnx': {'m>1548': 'A', 'x>0': 'A'},\n",
       "  'rfg': {'s<537': 'gd', 'x>2440': 'R', 'x>0': 'A'},\n",
       "  'qs': {'s>3448': 'A', 'x>0': 'lnx'},\n",
       "  'qkq': {'x<1416': 'A', 'x>0': 'crn'},\n",
       "  'crn': {'x>2662': 'A', 'x>0': 'R'},\n",
       "  'in': {'s<1351': 'px', 'x>0': 'qqz'},\n",
       "  'qqz': {'s>2770': 'qs', 'm<1801': 'hdj', 'x>0': 'R'},\n",
       "  'gd': {'a>3333': 'R', 'x>0': 'R'},\n",
       "  'hdj': {'m>838': 'A', 'x>0': 'pv'}},\n",
       " [{'x': 787, 'm': 2655, 'a': 1222, 's': 2876},\n",
       "  {'x': 1679, 'm': 44, 'a': 2067, 's': 496},\n",
       "  {'x': 2036, 'm': 264, 'a': 79, 's': 2244},\n",
       "  {'x': 2461, 'm': 1339, 'a': 466, 's': 291},\n",
       "  {'x': 2127, 'm': 1623, 'a': 2188, 's': 1013}])"
      ]
     },
     "execution_count": 97,
     "metadata": {},
     "output_type": "execute_result"
    }
   ],
   "source": [
    "sample"
   ]
  },
  {
   "cell_type": "code",
   "execution_count": 98,
   "metadata": {},
   "outputs": [],
   "source": [
    "# def solve_a(data):\n",
    "#     workflows, parts = data\n",
    "#     total = 0\n",
    "#     for part in parts:\n",
    "#         w = 'in'\n",
    "#         while w not in 'AR':\n",
    "#             rules, otherwise = workflows[w]\n",
    "#             for rule, dst in rules.items():\n",
    "#                 if eval(rule, None, part):\n",
    "#                     w = dst\n",
    "#                     break\n",
    "#             else:\n",
    "#                 w = otherwise\n",
    "#         if w == 'A':\n",
    "#             total += sum(part.values())\n",
    "#     return total\n",
    "\n",
    "def solve_a(data):\n",
    "    workflows, parts = data\n",
    "    total = 0\n",
    "    for part in parts:\n",
    "        w = 'in'\n",
    "        while w not in 'AR':\n",
    "            rules = workflows[w]\n",
    "            for rule, dst in rules.items():\n",
    "                if eval(rule, None, part):\n",
    "                    w = dst\n",
    "                    break\n",
    "        if w == 'A':\n",
    "            total += sum(part.values())\n",
    "    return total"
   ]
  },
  {
   "cell_type": "code",
   "execution_count": 99,
   "metadata": {},
   "outputs": [
    {
     "data": {
      "text/plain": [
       "True"
      ]
     },
     "execution_count": 99,
     "metadata": {},
     "output_type": "execute_result"
    }
   ],
   "source": [
    "solve_a(sample) == 19114"
   ]
  },
  {
   "cell_type": "code",
   "execution_count": 100,
   "metadata": {},
   "outputs": [
    {
     "data": {
      "text/plain": [
       "331208"
      ]
     },
     "execution_count": 100,
     "metadata": {},
     "output_type": "execute_result"
    }
   ],
   "source": [
    "solve_a(data)"
   ]
  },
  {
   "cell_type": "code",
   "execution_count": 101,
   "metadata": {},
   "outputs": [],
   "source": [
    "import re\n",
    "import math"
   ]
  },
  {
   "cell_type": "code",
   "execution_count": 104,
   "metadata": {},
   "outputs": [],
   "source": [
    "def solve_b(data):\n",
    "    workflows, parts = data\n",
    "    stack = [('in',{c:(1,4001) for c in 'xmas'})]\n",
    "    total = 0\n",
    "\n",
    "    while stack:\n",
    "        node, constraints = stack.pop()\n",
    "        for rule, dst in workflows[node].items():\n",
    "            dim, side, val = re.match('(\\w)([<>])(\\d+)', rule).groups()\n",
    "            val = int(val)\n",
    "            low, high = constraints[dim]\n",
    "            valid = constraints.copy()\n",
    "            invalid = constraints.copy()\n",
    "\n",
    "            if side == '<':\n",
    "                valid[dim] = (low, min(high, val))\n",
    "                invalid[dim] = (max(low, val), high)\n",
    "            elif side == '>':\n",
    "                valid[dim] = (max(low, val+1), high)\n",
    "                invalid[dim] = (low, min(high, val+1))\n",
    "\n",
    "            if valid[dim][0] < valid[dim][1]:\n",
    "                if dst == 'A':\n",
    "                    total += math.prod((high-low for low, high in valid.values()))\n",
    "                elif dst != 'R':\n",
    "                    stack.append((dst, valid))\n",
    "\n",
    "            constraints = invalid\n",
    "            if constraints[dim][0] >= constraints[dim][1]:\n",
    "                break\n",
    "\n",
    "    return total"
   ]
  },
  {
   "cell_type": "code",
   "execution_count": 105,
   "metadata": {},
   "outputs": [
    {
     "data": {
      "text/plain": [
       "True"
      ]
     },
     "execution_count": 105,
     "metadata": {},
     "output_type": "execute_result"
    }
   ],
   "source": [
    "solve_b(sample) == 167409079868000"
   ]
  },
  {
   "cell_type": "code",
   "execution_count": 106,
   "metadata": {},
   "outputs": [
    {
     "data": {
      "text/plain": [
       "121464316215623"
      ]
     },
     "execution_count": 106,
     "metadata": {},
     "output_type": "execute_result"
    }
   ],
   "source": [
    "solve_b(data)"
   ]
  },
  {
   "cell_type": "code",
   "execution_count": null,
   "metadata": {},
   "outputs": [],
   "source": []
  }
 ],
 "metadata": {
  "kernelspec": {
   "display_name": "Python 3 (ipykernel)",
   "language": "python",
   "name": "python3"
  },
  "language_info": {
   "codemirror_mode": {
    "name": "ipython",
    "version": 3
   },
   "file_extension": ".py",
   "mimetype": "text/x-python",
   "name": "python",
   "nbconvert_exporter": "python",
   "pygments_lexer": "ipython3",
   "version": "3.11.4"
  }
 },
 "nbformat": 4,
 "nbformat_minor": 4
}
