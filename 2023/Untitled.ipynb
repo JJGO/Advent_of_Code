{
 "cells": [
  {
   "cell_type": "code",
   "execution_count": 2,
   "id": "14d7cedf",
   "metadata": {},
   "outputs": [],
   "source": [
    "from aocd.models import Puzzle\n",
    "\n",
    "puzzle = Puzzle(year=2023, day=17)\n",
    "\n"
   ]
  },
  {
   "cell_type": "code",
   "execution_count": 9,
   "id": "788c6b45",
   "metadata": {},
   "outputs": [],
   "source": [
    "from heapq import heappop, heappush as push\n",
    "\n",
    "G = {i + j*1j: int(c) for i,r in enumerate(puzzle.input_data.split('\\n'))\n",
    "                      for j,c in enumerate(r.strip())}\n",
    "\n",
    "def f(min, max, end=[*G][-1], x=0):\n",
    "    todo = [(0,0,0,1), (0,0,0,1j)]\n",
    "    seen = set()\n",
    "\n",
    "    while todo:\n",
    "        val, _, pos, dir = heappop(todo)\n",
    "\n",
    "        if (pos==end): return val\n",
    "        if (pos, dir) in seen: continue\n",
    "        seen.add((pos,dir))\n",
    "\n",
    "        for d in 1j/dir, -1j/dir:\n",
    "            for i in range(min, max+1):\n",
    "                if pos+d*i in G:\n",
    "                    v = sum(G[pos+d*j] for j in range(1,i+1))\n",
    "                    push(todo, (val+v, (x:=x+1), pos+d*i, d))"
   ]
  },
  {
   "cell_type": "code",
   "execution_count": 10,
   "id": "9e22cb08",
   "metadata": {},
   "outputs": [
    {
     "name": "stdout",
     "output_type": "stream",
     "text": [
      "CPU times: user 535 ms, sys: 2.89 ms, total: 538 ms\n",
      "Wall time: 541 ms\n"
     ]
    },
    {
     "data": {
      "text/plain": [
       "814"
      ]
     },
     "execution_count": 10,
     "metadata": {},
     "output_type": "execute_result"
    }
   ],
   "source": [
    "%%time\n",
    "f(1, 3)"
   ]
  },
  {
   "cell_type": "code",
   "execution_count": 11,
   "id": "74c1a77e",
   "metadata": {},
   "outputs": [
    {
     "name": "stdout",
     "output_type": "stream",
     "text": [
      "CPU times: user 1.62 s, sys: 2.08 ms, total: 1.62 s\n",
      "Wall time: 1.63 s\n"
     ]
    },
    {
     "data": {
      "text/plain": [
       "974"
      ]
     },
     "execution_count": 11,
     "metadata": {},
     "output_type": "execute_result"
    }
   ],
   "source": [
    "%%time\n",
    "f(4, 10)"
   ]
  },
  {
   "cell_type": "code",
   "execution_count": null,
   "id": "a6fc63ab",
   "metadata": {},
   "outputs": [],
   "source": []
  }
 ],
 "metadata": {
  "kernelspec": {
   "display_name": "Python 3 (ipykernel)",
   "language": "python",
   "name": "python3"
  },
  "language_info": {
   "codemirror_mode": {
    "name": "ipython",
    "version": 3
   },
   "file_extension": ".py",
   "mimetype": "text/x-python",
   "name": "python",
   "nbconvert_exporter": "python",
   "pygments_lexer": "ipython3",
   "version": "3.11.4"
  }
 },
 "nbformat": 4,
 "nbformat_minor": 5
}
