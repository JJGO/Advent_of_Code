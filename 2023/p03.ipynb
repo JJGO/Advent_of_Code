{
 "cells": [
  {
   "cell_type": "code",
   "execution_count": 123,
   "metadata": {},
   "outputs": [],
   "source": [
    "from aocd.models import Puzzle\n",
    "\n",
    "puzzle = Puzzle(year=2023, day=3)\n",
    "\n",
    "def parses(input):\n",
    "    return input.strip().split('\\n')\n",
    "\n",
    "# import re\n",
    "# def parses(input):\n",
    "#     return [int(re.findall('\\d', line)) for line in nput.strip().split('\\n')]\n",
    "\n",
    "data = parses(puzzle.input_data)"
   ]
  },
  {
   "cell_type": "code",
   "execution_count": 124,
   "metadata": {},
   "outputs": [],
   "source": [
    "sample = parses(\"\"\"467..114..\n",
    "...*......\n",
    "..35..633.\n",
    "......#...\n",
    "617*......\n",
    ".....+.58.\n",
    "..592.....\n",
    "......755.\n",
    "...$.*....\n",
    ".664.598..\"\"\")"
   ]
  },
  {
   "cell_type": "code",
   "execution_count": null,
   "metadata": {},
   "outputs": [],
   "source": []
  },
  {
   "cell_type": "code",
   "execution_count": 136,
   "metadata": {},
   "outputs": [],
   "source": [
    "# import re\n",
    "\n",
    "# def solve_a(data):\n",
    "#     symbols = {}\n",
    "#     N, M = len(data), len(data[0])\n",
    "#     for i, row in enumerate(data):\n",
    "#         for j, val in enumerate(row):\n",
    "#             if val not in '0123456789.':\n",
    "#                 for di in (-1,0,1):\n",
    "#                     for dj in (-1,0,1):\n",
    "#                         if 0 <= (i2:=i+di) < N and 0 <= (j2:=j+dj) < M:\n",
    "#                             symbols[i2,j2] = True\n",
    "\n",
    "#     total = 0\n",
    "#     for i, row in enumerate(data):\n",
    "#         for match in re.finditer('\\d+', row):\n",
    "#             for j in range(match.start(), match.end()):\n",
    "#                 if symbols.get((i,j), False):\n",
    "#                     total += int(match.group())\n",
    "#                     break\n",
    "#     return total"
   ]
  },
  {
   "cell_type": "code",
   "execution_count": 137,
   "metadata": {},
   "outputs": [],
   "source": [
    "import re\n",
    "import itertools\n",
    "\n",
    "def solve_a(board):\n",
    "    symbols = {(i,j) for i, row in enumerate(board)\n",
    "                     for j, val in enumerate(row)\n",
    "                     if val not in '0123456789.'}\n",
    "    \n",
    "    total = 0\n",
    "    for i, row in enumerate(board):\n",
    "        for match in re.finditer('\\d+', row):\n",
    "            j, k = match.start(), match.end()\n",
    "            for i2, j2 in itertools.product(range(i-1,i+2), range(j-1,k+1)):\n",
    "                if (i2,j2) in symbols:\n",
    "                    total += int(match.group())\n",
    "                    break\n",
    "    return total"
   ]
  },
  {
   "cell_type": "code",
   "execution_count": 138,
   "metadata": {},
   "outputs": [
    {
     "data": {
      "text/plain": [
       "True"
      ]
     },
     "execution_count": 138,
     "metadata": {},
     "output_type": "execute_result"
    }
   ],
   "source": [
    "solve_a(sample) == 4361"
   ]
  },
  {
   "cell_type": "code",
   "execution_count": 139,
   "metadata": {},
   "outputs": [
    {
     "data": {
      "text/plain": [
       "True"
      ]
     },
     "execution_count": 139,
     "metadata": {},
     "output_type": "execute_result"
    }
   ],
   "source": [
    "solve_a(data) == 529618"
   ]
  },
  {
   "cell_type": "code",
   "execution_count": null,
   "metadata": {},
   "outputs": [],
   "source": []
  },
  {
   "cell_type": "code",
   "execution_count": 129,
   "metadata": {},
   "outputs": [],
   "source": [
    "# import re\n",
    "# import itertools\n",
    "# from collections import defaultdict\n",
    "# import math\n",
    "\n",
    "# def solve_b(data):\n",
    "#     N, M = len(data), len(data[0])\n",
    "    \n",
    "#     gears = {}\n",
    "#     for i, row in enumerate(data):\n",
    "#         for j, val in enumerate(row):\n",
    "#             if val == '*': \n",
    "#                 gears[i,j] = {}\n",
    "    \n",
    "#     for i, row in enumerate(data):\n",
    "#         for match in re.finditer('\\d+', row):\n",
    "#             part = int(match.group())\n",
    "#             for j in range(match.start(), match.end()):\n",
    "#                 for di, dj in itertools.product((-1,0,1), repeat=2):\n",
    "#                     if 0 <= (i2:=i+di) < N and 0 <= (j2:=j+dj) < M:\n",
    "#                         if (i2,j2) in gears:\n",
    "#                             gears[i2,j2][i,match.start()] = part\n",
    "    \n",
    "#     total = 0\n",
    "#     for gear in gears.values():\n",
    "#         parts = gear.values()\n",
    "#         if len(parts) == 2:\n",
    "#             total += math.prod(parts)\n",
    "    \n",
    "#     return total"
   ]
  },
  {
   "cell_type": "code",
   "execution_count": null,
   "metadata": {},
   "outputs": [],
   "source": []
  },
  {
   "cell_type": "code",
   "execution_count": 140,
   "metadata": {},
   "outputs": [],
   "source": [
    "from math import prod\n",
    "\n",
    "def solve_b(board):\n",
    "    \n",
    "    gears = { (i,j): []\n",
    "              for i, row in enumerate(board)\n",
    "              for j, val in enumerate(row)\n",
    "              if val == '*'}\n",
    "    \n",
    "    for i, row in enumerate(board):\n",
    "        for match in re.finditer('\\d+', row):\n",
    "            j, k = match.start(), match.end()\n",
    "            for i2, j2 in itertools.product(range(i-1,i+2), range(j-1,k+1)):\n",
    "                if (i2, j2) in gears:\n",
    "                    gears[i2, j2].append(int(match.group()))\n",
    "\n",
    "    return sum( prod(parts)\n",
    "                for gear, parts in gears.items()\n",
    "                if len(parts) == 2 )"
   ]
  },
  {
   "cell_type": "code",
   "execution_count": 141,
   "metadata": {},
   "outputs": [
    {
     "data": {
      "text/plain": [
       "True"
      ]
     },
     "execution_count": 141,
     "metadata": {},
     "output_type": "execute_result"
    }
   ],
   "source": [
    "solve_b(sample) == 467835"
   ]
  },
  {
   "cell_type": "code",
   "execution_count": 142,
   "metadata": {},
   "outputs": [
    {
     "data": {
      "text/plain": [
       "True"
      ]
     },
     "execution_count": 142,
     "metadata": {},
     "output_type": "execute_result"
    }
   ],
   "source": [
    "solve_b(data) == 77509019"
   ]
  },
  {
   "cell_type": "code",
   "execution_count": null,
   "metadata": {},
   "outputs": [],
   "source": []
  }
 ],
 "metadata": {
  "kernelspec": {
   "display_name": "Python 3",
   "language": "python",
   "name": "python3"
  },
  "language_info": {
   "codemirror_mode": {
    "name": "ipython",
    "version": 3
   },
   "file_extension": ".py",
   "mimetype": "text/x-python",
   "name": "python",
   "nbconvert_exporter": "python",
   "pygments_lexer": "ipython3",
   "version": "3.8.8"
  }
 },
 "nbformat": 4,
 "nbformat_minor": 4
}
