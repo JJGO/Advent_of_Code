{
 "cells": [
  {
   "cell_type": "code",
   "execution_count": 133,
   "metadata": {},
   "outputs": [],
   "source": [
    "from aocd.models import Puzzle\n",
    "\n",
    "puzzle = Puzzle(year=2023, day=23)\n",
    "\n",
    "def parses(input):\n",
    "    return [\n",
    "        ['.#<>^v'.index(c) for c in line]\n",
    "    for line in input.strip().split('\\n')]\n",
    "\n",
    "\n",
    "data = parses(puzzle.input_data)"
   ]
  },
  {
   "cell_type": "code",
   "execution_count": 134,
   "metadata": {},
   "outputs": [],
   "source": [
    "EMPTY, WALL, LEFT, RIGHT, UP, DOWN = range(6)"
   ]
  },
  {
   "cell_type": "code",
   "execution_count": 135,
   "metadata": {},
   "outputs": [],
   "source": [
    "sample = parses(\"\"\"#.#####################\n",
    "#.......#########...###\n",
    "#######.#########.#.###\n",
    "###.....#.>.>.###.#.###\n",
    "###v#####.#v#.###.#.###\n",
    "###.>...#.#.#.....#...#\n",
    "###v###.#.#.#########.#\n",
    "###...#.#.#.......#...#\n",
    "#####.#.#.#######.#.###\n",
    "#.....#.#.#.......#...#\n",
    "#.#####.#.#.#########v#\n",
    "#.#...#...#...###...>.#\n",
    "#.#.#v#######v###.###v#\n",
    "#...#.>.#...>.>.#.###.#\n",
    "#####v#.#.###v#.#.###.#\n",
    "#.....#...#...#.#.#...#\n",
    "#.#########.###.#.#.###\n",
    "#...###...#...#...#.###\n",
    "###.###.#.###v#####v###\n",
    "#...#...#.#.>.>.#.>.###\n",
    "#.###.###.#.###.#.#v###\n",
    "#.....###...###...#...#\n",
    "#####################.#\"\"\")"
   ]
  },
  {
   "cell_type": "code",
   "execution_count": 136,
   "metadata": {},
   "outputs": [],
   "source": [
    "# data = sample"
   ]
  },
  {
   "cell_type": "code",
   "execution_count": 137,
   "metadata": {},
   "outputs": [],
   "source": [
    "def viz(visited):\n",
    "    board = data.copy()\n",
    "    for z in visited:\n",
    "        i, j = int(z.real), int(z.imag)\n",
    "        board[i,j] = 10\n",
    "    plt.imshow(board)\n",
    "    plt.show()"
   ]
  },
  {
   "cell_type": "code",
   "execution_count": 138,
   "metadata": {},
   "outputs": [
    {
     "data": {
      "text/plain": [
       "{((109+113j), (103+83j)): 179,\n",
       " ((109+113j), (111+129j)): 97,\n",
       " ((109+113j), (77+101j)): 187,\n",
       " ((109+113j), (135+107j)): 139,\n",
       " ((11+61j), (9+29j)): 253,\n",
       " ((11+61j), (19+87j)): 269,\n",
       " ((11+61j), (33+55j)): 119,\n",
       " ((33+55j), (39+41j)): 43,\n",
       " ((33+55j), (29+79j)): 127,\n",
       " ((33+55j), (11+61j)): 119,\n",
       " ((33+55j), (57+55j)): 147,\n",
       " ((135+107j), (137+79j)): 145,\n",
       " ((135+107j), (127+131j)): 179,\n",
       " ((135+107j), (109+113j)): 139,\n",
       " ((15+105j), (19+87j)): 137,\n",
       " ((15+105j), (29+127j)): 431,\n",
       " ((15+105j), (37+105j)): 93,\n",
       " ((31+15j), (39+41j)): 197,\n",
       " ((31+15j), (11+17j)): 177,\n",
       " ((31+15j), (59+9j)): 233,\n",
       " ((83+41j), (83+5j)): 207,\n",
       " ((83+41j), (87+57j)): 87,\n",
       " ((83+41j), (61+41j)): 153,\n",
       " ((83+41j), (103+37j)): 91,\n",
       " ((59+9j), (61+41j)): 233,\n",
       " ((59+9j), (31+15j)): 233,\n",
       " ((59+9j), (83+5j)): 131,\n",
       " ((103+37j), (105+11j)): 159,\n",
       " ((103+37j), (109+63j)): 127,\n",
       " ((103+37j), (83+41j)): 91,\n",
       " ((103+37j), (129+39j)): 127,\n",
       " ((67+137j), (55+113j)): 223,\n",
       " ((67+137j), (29+127j)): 203,\n",
       " ((67+137j), (89+135j)): 115,\n",
       " ((57+55j), (61+41j)): 61,\n",
       " ((57+55j), (57+77j)): 101,\n",
       " ((57+55j), (33+55j)): 147,\n",
       " ((57+55j), (87+57j)): 151,\n",
       " ((9+29j), (11+17j)): 65,\n",
       " ((9+29j), (11+61j)): 253,\n",
       " ((9+29j), (39+41j)): 181,\n",
       " ((37+105j), (29+79j)): 173,\n",
       " ((37+105j), (29+127j)): 137,\n",
       " ((37+105j), (15+105j)): 93,\n",
       " ((37+105j), (55+113j)): 85,\n",
       " ((83+5j), (83+41j)): 207,\n",
       " ((83+5j), (59+9j)): 131,\n",
       " ((83+5j), (105+11j)): 151,\n",
       " ((85+89j), (87+57j)): 197,\n",
       " ((85+89j), (77+101j)): 51,\n",
       " ((85+89j), (57+77j)): 183,\n",
       " ((85+89j), (103+83j)): 95,\n",
       " ((103+83j), (109+63j)): 117,\n",
       " ((103+83j), (109+113j)): 179,\n",
       " ((103+83j), (85+89j)): 95,\n",
       " ((103+83j), (137+79j)): 197,\n",
       " ((89+135j), (77+101j)): 189,\n",
       " ((89+135j), (67+137j)): 115,\n",
       " ((89+135j), (111+129j)): 139,\n",
       " ((111+129j), (109+113j)): 97,\n",
       " ((111+129j), (89+135j)): 139,\n",
       " ((111+129j), (127+131j)): 125,\n",
       " ((129+39j), (105+11j)): 511,\n",
       " ((129+39j), (135+55j)): 81,\n",
       " ((129+39j), (103+37j)): 127,\n",
       " ((137+79j), (135+55j)): 121,\n",
       " ((137+79j), (135+107j)): 145,\n",
       " ((137+79j), (103+83j)): 197,\n",
       " ((77+101j), (85+89j)): 51,\n",
       " ((77+101j), (89+135j)): 189,\n",
       " ((77+101j), (55+113j)): 173,\n",
       " ((77+101j), (109+113j)): 187,\n",
       " ((87+57j), (83+41j)): 87,\n",
       " ((87+57j), (85+89j)): 197,\n",
       " ((87+57j), (57+55j)): 151,\n",
       " ((87+57j), (109+63j)): 139,\n",
       " (1j, (11+17j)): 106,\n",
       " ((127+131j), (135+107j)): 179,\n",
       " ((127+131j), (111+129j)): 125,\n",
       " ((127+131j), (140+139j)): 76,\n",
       " ((29+79j), (33+55j)): 127,\n",
       " ((29+79j), (37+105j)): 173,\n",
       " ((29+79j), (19+87j)): 37,\n",
       " ((29+79j), (57+77j)): 153,\n",
       " ((55+113j), (57+77j)): 209,\n",
       " ((55+113j), (67+137j)): 223,\n",
       " ((55+113j), (37+105j)): 85,\n",
       " ((55+113j), (77+101j)): 173,\n",
       " ((105+11j), (103+37j)): 159,\n",
       " ((105+11j), (83+5j)): 151,\n",
       " ((105+11j), (129+39j)): 511,\n",
       " ((19+87j), (11+61j)): 269,\n",
       " ((19+87j), (15+105j)): 137,\n",
       " ((19+87j), (29+79j)): 37,\n",
       " ((29+127j), (37+105j)): 137,\n",
       " ((29+127j), (15+105j)): 431,\n",
       " ((29+127j), (67+137j)): 203,\n",
       " ((57+77j), (57+55j)): 101,\n",
       " ((57+77j), (55+113j)): 209,\n",
       " ((57+77j), (29+79j)): 153,\n",
       " ((57+77j), (85+89j)): 183,\n",
       " ((39+41j), (31+15j)): 197,\n",
       " ((39+41j), (33+55j)): 43,\n",
       " ((39+41j), (9+29j)): 181,\n",
       " ((39+41j), (61+41j)): 149,\n",
       " ((109+63j), (103+37j)): 127,\n",
       " ((109+63j), (103+83j)): 117,\n",
       " ((109+63j), (87+57j)): 139,\n",
       " ((109+63j), (135+55j)): 165,\n",
       " ((135+55j), (129+39j)): 81,\n",
       " ((135+55j), (137+79j)): 121,\n",
       " ((135+55j), (109+63j)): 165,\n",
       " ((140+139j), (127+131j)): 76,\n",
       " ((61+41j), (59+9j)): 233,\n",
       " ((61+41j), (57+55j)): 61,\n",
       " ((61+41j), (39+41j)): 149,\n",
       " ((61+41j), (83+41j)): 153,\n",
       " ((11+17j), (9+29j)): 65,\n",
       " ((11+17j), 1j): 106,\n",
       " ((11+17j), (31+15j)): 177}"
      ]
     },
     "execution_count": 138,
     "metadata": {},
     "output_type": "execute_result"
    }
   ],
   "source": [
    "data = np.array(data, dtype=np.int8)\n",
    "not_wall = np.pad(data != WALL, [(1,1),(1,1)])\n",
    "intersections = (sum([\n",
    "    not_wall[2:,1:-1],\n",
    "    not_wall[:-2,1:-1],\n",
    "    not_wall[1:-1,2:],\n",
    "    not_wall[1:-1,:-2]\n",
    "]) > 2) * not_wall[1:-1,1:-1]\n",
    "intersection_coords = set([i+1j*j for i,j in np.argwhere(intersections)])\n",
    "\n",
    "\n",
    "\n",
    "start = 1j * np.array([i for i, val in enumerate(data[0]) if val == EMPTY]).item()\n",
    "end = len(data)-1 + 1j * np.array([i for i, val in enumerate(data[-1]) if val == EMPTY]).item()\n",
    "\n",
    "intersection_coords |= set([start, end])\n",
    "\n",
    "distances = {}\n",
    "\n",
    "\n",
    "map_ = {i+j*1j: val for i, row in enumerate(data) for j, val in enumerate(row)}\n",
    "for node in intersection_coords:\n",
    "    stack = [(node, 0, 0)]\n",
    "    while stack:\n",
    "        pos, prev_delta, pathlen = stack.pop()\n",
    "        \n",
    "        for delta in [1,-1,1j,-1j]:\n",
    "            new_pos = pos + delta\n",
    "            if new_pos not in map_ or map_[new_pos] == WALL:\n",
    "                continue\n",
    "            if delta == -prev_delta:\n",
    "                continue\n",
    "            if new_pos in intersection_coords:\n",
    "                distances[node, new_pos] = pathlen\n",
    "                continue\n",
    "            stack.append((new_pos, delta, pathlen+1))\n",
    "\n",
    "distances"
   ]
  },
  {
   "cell_type": "code",
   "execution_count": 139,
   "metadata": {},
   "outputs": [],
   "source": [
    "from collections import defaultdict"
   ]
  },
  {
   "cell_type": "code",
   "execution_count": 140,
   "metadata": {},
   "outputs": [],
   "source": [
    "graph = defaultdict(list)\n",
    "for (a, b), dist in distances.items():\n",
    "    graph[a].append((b, dist+1))"
   ]
  },
  {
   "cell_type": "code",
   "execution_count": 144,
   "metadata": {},
   "outputs": [
    {
     "data": {
      "text/plain": [
       "[((127+131j), 77)]"
      ]
     },
     "execution_count": 144,
     "metadata": {},
     "output_type": "execute_result"
    }
   ],
   "source": [
    "graph[end]"
   ]
  },
  {
   "cell_type": "code",
   "execution_count": 147,
   "metadata": {},
   "outputs": [],
   "source": [
    "gate, gate_dist = graph[end][0]"
   ]
  },
  {
   "cell_type": "code",
   "execution_count": 151,
   "metadata": {},
   "outputs": [
    {
     "name": "stdout",
     "output_type": "stream",
     "text": [
      "CPU times: user 11.4 s, sys: 4.35 ms, total: 11.4 s\n",
      "Wall time: 11.5 s\n"
     ]
    },
    {
     "data": {
      "text/plain": [
       "6230"
      ]
     },
     "execution_count": 151,
     "metadata": {},
     "output_type": "execute_result"
    }
   ],
   "source": [
    "%%time\n",
    "# %%time\n",
    "stack = [(start, set([start]), 0)]\n",
    "max_len = 0\n",
    "while stack:\n",
    "    node, visited, pathlen = stack.pop()\n",
    "\n",
    "    for neigh, dist in graph[node]:\n",
    "#         if neigh == end:\n",
    "#             max_len = max(max_len, pathlen+dist)\n",
    "        if neigh == gate:\n",
    "            max_len = max(max_len, pathlen+dist+gate_dist)\n",
    "            continue\n",
    "        if neigh in visited:\n",
    "            continue\n",
    "        stack.append((neigh, visited | set([neigh]), pathlen+dist))\n",
    "max_len"
   ]
  },
  {
   "cell_type": "code",
   "execution_count": null,
   "metadata": {},
   "outputs": [],
   "source": []
  },
  {
   "cell_type": "code",
   "execution_count": null,
   "metadata": {},
   "outputs": [],
   "source": []
  },
  {
   "cell_type": "code",
   "execution_count": 109,
   "metadata": {},
   "outputs": [
    {
     "data": {
      "text/plain": [
       "'ABCDEFGHIJKLMNOPQRSTUVWXYZ'"
      ]
     },
     "execution_count": 109,
     "metadata": {},
     "output_type": "execute_result"
    }
   ],
   "source": [
    "import string\n",
    "string.ascii_uppercase"
   ]
  },
  {
   "cell_type": "code",
   "execution_count": 110,
   "metadata": {},
   "outputs": [
    {
     "data": {
      "text/plain": [
       "<matplotlib.image.AxesImage at 0x2bb714f90>"
      ]
     },
     "execution_count": 110,
     "metadata": {},
     "output_type": "execute_result"
    },
    {
     "data": {
      "image/png": "[encoded data removed]",
      "text/plain": [
       "<Figure size 640x480 with 1 Axes>"
      ]
     },
     "metadata": {},
     "output_type": "display_data"
    }
   ],
   "source": [
    "plt.imshow(data)"
   ]
  },
  {
   "cell_type": "code",
   "execution_count": 112,
   "metadata": {},
   "outputs": [
    {
     "data": {
      "text/plain": [
       "36"
      ]
     },
     "execution_count": 112,
     "metadata": {},
     "output_type": "execute_result"
    }
   ],
   "source": [
    "len(intersection_coords)"
   ]
  },
  {
   "cell_type": "code",
   "execution_count": 164,
   "metadata": {},
   "outputs": [
    {
     "data": {
      "image/svg+xml": [
       "<?xml version=\"1.0\" encoding=\"UTF-8\" standalone=\"no\"?>\n",
       "<!DOCTYPE svg PUBLIC \"-//W3C//DTD SVG 1.1//EN\"\n",
       " \"http://www.w3.org/Graphics/SVG/1.1/DTD/svg11.dtd\">\n",
       "<!-- Generated by graphviz version 9.0.0 (20230911.1827)\n",
       " -->\n",
       "<!-- Pages: 1 -->\n",
       "<svg width=\"741pt\" height=\"502pt\"\n",
       " viewBox=\"0.00 0.00 740.87 501.72\" xmlns=\"http://www.w3.org/2000/svg\" xmlns:xlink=\"http://www.w3.org/1999/xlink\">\n",
       "<g id=\"graph0\" class=\"graph\" transform=\"scale(1 1) rotate(0) translate(4 497.72)\">\n",
       "<polygon fill=\"white\" stroke=\"none\" points=\"-4,4 -4,-497.72 736.87,-497.72 736.87,4 -4,4\"/>\n",
       "<!-- a -->\n",
       "<g id=\"node1\" class=\"node\">\n",
       "<title>a</title>\n",
       "<ellipse fill=\"none\" stroke=\"black\" cx=\"200.94\" cy=\"-163.4\" rx=\"18\" ry=\"18\"/>\n",
       "<text text-anchor=\"middle\" x=\"200.94\" y=\"-158.35\" font-family=\"Times,serif\" font-size=\"14.00\">a</text>\n",
       "</g>\n",
       "<!-- d -->\n",
       "<g id=\"node4\" class=\"node\">\n",
       "<title>d</title>\n",
       "<ellipse fill=\"none\" stroke=\"black\" cx=\"122.61\" cy=\"-193.76\" rx=\"18\" ry=\"18\"/>\n",
       "<text text-anchor=\"middle\" x=\"122.61\" y=\"-188.71\" font-family=\"Times,serif\" font-size=\"14.00\">d</text>\n",
       "</g>\n",
       "<!-- a&#45;&#45;d -->\n",
       "<g id=\"edge4\" class=\"edge\">\n",
       "<title>a&#45;&#45;d</title>\n",
       "<path fill=\"none\" stroke=\"black\" d=\"M183.94,-169.99C170.89,-175.04 152.95,-182 139.85,-187.08\"/>\n",
       "<text text-anchor=\"middle\" x=\"151.77\" y=\"-181.73\" font-family=\"Times,serif\" font-size=\"14.00\">139</text>\n",
       "</g>\n",
       "<!-- p -->\n",
       "<g id=\"node16\" class=\"node\">\n",
       "<title>p</title>\n",
       "<ellipse fill=\"none\" stroke=\"black\" cx=\"226.88\" cy=\"-245.11\" rx=\"18\" ry=\"18\"/>\n",
       "<text text-anchor=\"middle\" x=\"226.88\" y=\"-240.06\" font-family=\"Times,serif\" font-size=\"14.00\">p</text>\n",
       "</g>\n",
       "<!-- a&#45;&#45;p -->\n",
       "<g id=\"edge1\" class=\"edge\">\n",
       "<title>a&#45;&#45;p</title>\n",
       "<path fill=\"none\" stroke=\"black\" d=\"M206.44,-180.73C210.81,-194.5 216.9,-213.69 221.29,-227.53\"/>\n",
       "<text text-anchor=\"middle\" x=\"203.74\" y=\"-207.33\" font-family=\"Times,serif\" font-size=\"14.00\">179</text>\n",
       "</g>\n",
       "<!-- r -->\n",
       "<g id=\"node18\" class=\"node\">\n",
       "<title>r</title>\n",
       "<ellipse fill=\"none\" stroke=\"black\" cx=\"178.55\" cy=\"-82.42\" rx=\"18\" ry=\"18\"/>\n",
       "<text text-anchor=\"middle\" x=\"178.55\" y=\"-77.37\" font-family=\"Times,serif\" font-size=\"14.00\">r</text>\n",
       "</g>\n",
       "<!-- a&#45;&#45;r -->\n",
       "<g id=\"edge2\" class=\"edge\">\n",
       "<title>a&#45;&#45;r</title>\n",
       "<path fill=\"none\" stroke=\"black\" d=\"M196.08,-145.83C192.35,-132.34 187.22,-113.79 183.48,-100.24\"/>\n",
       "<text text-anchor=\"middle\" x=\"183.03\" y=\"-126.23\" font-family=\"Times,serif\" font-size=\"14.00\">97</text>\n",
       "</g>\n",
       "<!-- u -->\n",
       "<g id=\"node21\" class=\"node\">\n",
       "<title>u</title>\n",
       "<ellipse fill=\"none\" stroke=\"black\" cx=\"282.17\" cy=\"-136.22\" rx=\"18\" ry=\"18\"/>\n",
       "<text text-anchor=\"middle\" x=\"282.17\" y=\"-131.17\" font-family=\"Times,serif\" font-size=\"14.00\">u</text>\n",
       "</g>\n",
       "<!-- a&#45;&#45;u -->\n",
       "<g id=\"edge3\" class=\"edge\">\n",
       "<title>a&#45;&#45;u</title>\n",
       "<path fill=\"none\" stroke=\"black\" d=\"M218.16,-157.64C231.86,-153.06 250.93,-146.67 264.69,-142.07\"/>\n",
       "<text text-anchor=\"middle\" x=\"231.3\" y=\"-153.05\" font-family=\"Times,serif\" font-size=\"14.00\">187</text>\n",
       "</g>\n",
       "<!-- b -->\n",
       "<g id=\"node2\" class=\"node\">\n",
       "<title>b</title>\n",
       "<ellipse fill=\"none\" stroke=\"black\" cx=\"579.17\" cy=\"-217.71\" rx=\"18\" ry=\"18\"/>\n",
       "<text text-anchor=\"middle\" x=\"579.17\" y=\"-212.66\" font-family=\"Times,serif\" font-size=\"14.00\">b</text>\n",
       "</g>\n",
       "<!-- c -->\n",
       "<g id=\"node3\" class=\"node\">\n",
       "<title>c</title>\n",
       "<ellipse fill=\"none\" stroke=\"black\" cx=\"501.98\" cy=\"-248.38\" rx=\"18\" ry=\"18\"/>\n",
       "<text text-anchor=\"middle\" x=\"501.98\" y=\"-243.33\" font-family=\"Times,serif\" font-size=\"14.00\">c</text>\n",
       "</g>\n",
       "<!-- b&#45;&#45;c -->\n",
       "<g id=\"edge7\" class=\"edge\">\n",
       "<title>b&#45;&#45;c</title>\n",
       "<path fill=\"none\" stroke=\"black\" d=\"M562.04,-224.52C549.25,-229.6 531.85,-236.52 519.07,-241.6\"/>\n",
       "<text text-anchor=\"middle\" x=\"530.43\" y=\"-236.26\" font-family=\"Times,serif\" font-size=\"14.00\">119</text>\n",
       "</g>\n",
       "<!-- l -->\n",
       "<g id=\"node12\" class=\"node\">\n",
       "<title>l</title>\n",
       "<ellipse fill=\"none\" stroke=\"black\" cx=\"606.27\" cy=\"-300.53\" rx=\"18\" ry=\"18\"/>\n",
       "<text text-anchor=\"middle\" x=\"606.27\" y=\"-295.48\" font-family=\"Times,serif\" font-size=\"14.00\">l</text>\n",
       "</g>\n",
       "<!-- b&#45;&#45;l -->\n",
       "<g id=\"edge5\" class=\"edge\">\n",
       "<title>b&#45;&#45;l</title>\n",
       "<path fill=\"none\" stroke=\"black\" d=\"M584.92,-235.28C589.52,-249.33 595.93,-268.94 600.53,-282.99\"/>\n",
       "<text text-anchor=\"middle\" x=\"582.6\" y=\"-262.33\" font-family=\"Times,serif\" font-size=\"14.00\">253</text>\n",
       "</g>\n",
       "<!-- B -->\n",
       "<g id=\"node28\" class=\"node\">\n",
       "<title>B</title>\n",
       "<ellipse fill=\"none\" stroke=\"black\" cx=\"547.66\" cy=\"-135.03\" rx=\"18\" ry=\"18\"/>\n",
       "<text text-anchor=\"middle\" x=\"547.66\" y=\"-129.98\" font-family=\"Times,serif\" font-size=\"14.00\">B</text>\n",
       "</g>\n",
       "<!-- b&#45;&#45;B -->\n",
       "<g id=\"edge6\" class=\"edge\">\n",
       "<title>b&#45;&#45;B</title>\n",
       "<path fill=\"none\" stroke=\"black\" d=\"M572.64,-200.58C567.24,-186.39 559.59,-166.32 554.18,-152.14\"/>\n",
       "<text text-anchor=\"middle\" x=\"553.29\" y=\"-179.56\" font-family=\"Times,serif\" font-size=\"14.00\">269</text>\n",
       "</g>\n",
       "<!-- k -->\n",
       "<g id=\"node11\" class=\"node\">\n",
       "<title>k</title>\n",
       "<ellipse fill=\"none\" stroke=\"black\" cx=\"419.65\" cy=\"-274.84\" rx=\"18\" ry=\"18\"/>\n",
       "<text text-anchor=\"middle\" x=\"419.65\" y=\"-269.79\" font-family=\"Times,serif\" font-size=\"14.00\">k</text>\n",
       "</g>\n",
       "<!-- c&#45;&#45;k -->\n",
       "<g id=\"edge10\" class=\"edge\">\n",
       "<title>c&#45;&#45;k</title>\n",
       "<path fill=\"none\" stroke=\"black\" d=\"M484.52,-253.99C470.55,-258.48 451.05,-264.75 437.09,-269.23\"/>\n",
       "<text text-anchor=\"middle\" x=\"450.68\" y=\"-264.81\" font-family=\"Times,serif\" font-size=\"14.00\">147</text>\n",
       "</g>\n",
       "<!-- y -->\n",
       "<g id=\"node25\" class=\"node\">\n",
       "<title>y</title>\n",
       "<ellipse fill=\"none\" stroke=\"black\" cx=\"474.19\" cy=\"-167.74\" rx=\"18\" ry=\"18\"/>\n",
       "<text text-anchor=\"middle\" x=\"474.19\" y=\"-162.69\" font-family=\"Times,serif\" font-size=\"14.00\">y</text>\n",
       "</g>\n",
       "<!-- c&#45;&#45;y -->\n",
       "<g id=\"edge9\" class=\"edge\">\n",
       "<title>c&#45;&#45;y</title>\n",
       "<path fill=\"none\" stroke=\"black\" d=\"M496.09,-231.28C491.4,-217.69 484.88,-198.75 480.17,-185.09\"/>\n",
       "<text text-anchor=\"middle\" x=\"478.01\" y=\"-211.39\" font-family=\"Times,serif\" font-size=\"14.00\">127</text>\n",
       "</g>\n",
       "<!-- E -->\n",
       "<g id=\"node31\" class=\"node\">\n",
       "<title>E</title>\n",
       "<ellipse fill=\"none\" stroke=\"black\" cx=\"527.68\" cy=\"-330.14\" rx=\"18\" ry=\"18\"/>\n",
       "<text text-anchor=\"middle\" x=\"527.68\" y=\"-325.09\" font-family=\"Times,serif\" font-size=\"14.00\">E</text>\n",
       "</g>\n",
       "<!-- c&#45;&#45;E -->\n",
       "<g id=\"edge8\" class=\"edge\">\n",
       "<title>c&#45;&#45;E</title>\n",
       "<path fill=\"none\" stroke=\"black\" d=\"M507.43,-265.72C511.76,-279.5 517.8,-298.7 522.15,-312.55\"/>\n",
       "<text text-anchor=\"middle\" x=\"508.04\" y=\"-292.34\" font-family=\"Times,serif\" font-size=\"14.00\">43</text>\n",
       "</g>\n",
       "<!-- t -->\n",
       "<g id=\"node20\" class=\"node\">\n",
       "<title>t</title>\n",
       "<ellipse fill=\"none\" stroke=\"black\" cx=\"149.79\" cy=\"-276.37\" rx=\"18\" ry=\"18\"/>\n",
       "<text text-anchor=\"middle\" x=\"149.79\" y=\"-271.32\" font-family=\"Times,serif\" font-size=\"14.00\">t</text>\n",
       "</g>\n",
       "<!-- d&#45;&#45;t -->\n",
       "<g id=\"edge11\" class=\"edge\">\n",
       "<title>d&#45;&#45;t</title>\n",
       "<path fill=\"none\" stroke=\"black\" d=\"M128.38,-211.28C132.99,-225.3 139.42,-244.86 144.03,-258.88\"/>\n",
       "<text text-anchor=\"middle\" x=\"126.08\" y=\"-238.28\" font-family=\"Times,serif\" font-size=\"14.00\">145</text>\n",
       "</g>\n",
       "<!-- x -->\n",
       "<g id=\"node24\" class=\"node\">\n",
       "<title>x</title>\n",
       "<ellipse fill=\"none\" stroke=\"black\" cx=\"99.11\" cy=\"-112.08\" rx=\"18\" ry=\"18\"/>\n",
       "<text text-anchor=\"middle\" x=\"99.11\" y=\"-107.03\" font-family=\"Times,serif\" font-size=\"14.00\">x</text>\n",
       "</g>\n",
       "<!-- d&#45;&#45;x -->\n",
       "<g id=\"edge12\" class=\"edge\">\n",
       "<title>d&#45;&#45;x</title>\n",
       "<path fill=\"none\" stroke=\"black\" d=\"M117.51,-176.04C113.57,-162.34 108.14,-143.46 104.2,-129.77\"/>\n",
       "<text text-anchor=\"middle\" x=\"100.73\" y=\"-156.1\" font-family=\"Times,serif\" font-size=\"14.00\">179</text>\n",
       "</g>\n",
       "<!-- e -->\n",
       "<g id=\"node5\" class=\"node\">\n",
       "<title>e</title>\n",
       "<ellipse fill=\"none\" stroke=\"black\" cx=\"507.84\" cy=\"-55.04\" rx=\"18\" ry=\"18\"/>\n",
       "<text text-anchor=\"middle\" x=\"507.84\" y=\"-49.99\" font-family=\"Times,serif\" font-size=\"14.00\">e</text>\n",
       "</g>\n",
       "<!-- m -->\n",
       "<g id=\"node13\" class=\"node\">\n",
       "<title>m</title>\n",
       "<ellipse fill=\"none\" stroke=\"black\" cx=\"444.67\" cy=\"-89.19\" rx=\"18.6\" ry=\"18.6\"/>\n",
       "<text text-anchor=\"middle\" x=\"444.67\" y=\"-84.14\" font-family=\"Times,serif\" font-size=\"14.00\">m</text>\n",
       "</g>\n",
       "<!-- e&#45;&#45;m -->\n",
       "<g id=\"edge15\" class=\"edge\">\n",
       "<title>e&#45;&#45;m</title>\n",
       "<path fill=\"none\" stroke=\"black\" d=\"M491.57,-63.83C482.21,-68.89 470.49,-75.23 461.1,-80.3\"/>\n",
       "<text text-anchor=\"middle\" x=\"483.08\" y=\"-75.27\" font-family=\"Times,serif\" font-size=\"14.00\">93</text>\n",
       "</g>\n",
       "<!-- e&#45;&#45;B -->\n",
       "<g id=\"edge13\" class=\"edge\">\n",
       "<title>e&#45;&#45;B</title>\n",
       "<path fill=\"none\" stroke=\"black\" d=\"M515.89,-71.23C522.76,-85.01 532.58,-104.73 539.47,-118.59\"/>\n",
       "<text text-anchor=\"middle\" x=\"517.56\" y=\"-98.11\" font-family=\"Times,serif\" font-size=\"14.00\">137</text>\n",
       "</g>\n",
       "<!-- C -->\n",
       "<g id=\"node29\" class=\"node\">\n",
       "<title>C</title>\n",
       "<ellipse fill=\"none\" stroke=\"black\" cx=\"435.14\" cy=\"-18\" rx=\"18\" ry=\"18\"/>\n",
       "<text text-anchor=\"middle\" x=\"435.14\" y=\"-12.95\" font-family=\"Times,serif\" font-size=\"14.00\">C</text>\n",
       "</g>\n",
       "<!-- e&#45;&#45;C -->\n",
       "<g id=\"edge14\" class=\"edge\">\n",
       "<title>e&#45;&#45;C</title>\n",
       "<path fill=\"none\" stroke=\"black\" d=\"M491.7,-46.82C479.74,-40.72 463.49,-32.45 451.48,-26.33\"/>\n",
       "<text text-anchor=\"middle\" x=\"461.47\" y=\"-39.77\" font-family=\"Times,serif\" font-size=\"14.00\">431</text>\n",
       "</g>\n",
       "<!-- f -->\n",
       "<g id=\"node6\" class=\"node\">\n",
       "<title>f</title>\n",
       "<ellipse fill=\"none\" stroke=\"black\" cx=\"549.23\" cy=\"-411.37\" rx=\"18\" ry=\"18\"/>\n",
       "<text text-anchor=\"middle\" x=\"549.23\" y=\"-406.32\" font-family=\"Times,serif\" font-size=\"14.00\">f</text>\n",
       "</g>\n",
       "<!-- h -->\n",
       "<g id=\"node8\" class=\"node\">\n",
       "<title>h</title>\n",
       "<ellipse fill=\"none\" stroke=\"black\" cx=\"466.39\" cy=\"-437.84\" rx=\"18\" ry=\"18\"/>\n",
       "<text text-anchor=\"middle\" x=\"466.39\" y=\"-432.79\" font-family=\"Times,serif\" font-size=\"14.00\">h</text>\n",
       "</g>\n",
       "<!-- f&#45;&#45;h -->\n",
       "<g id=\"edge18\" class=\"edge\">\n",
       "<title>f&#45;&#45;h</title>\n",
       "<path fill=\"none\" stroke=\"black\" d=\"M531.66,-416.98C517.61,-421.47 497.99,-427.74 483.93,-432.23\"/>\n",
       "<text text-anchor=\"middle\" x=\"497.67\" y=\"-427.8\" font-family=\"Times,serif\" font-size=\"14.00\">233</text>\n",
       "</g>\n",
       "<!-- f&#45;&#45;E -->\n",
       "<g id=\"edge16\" class=\"edge\">\n",
       "<title>f&#45;&#45;E</title>\n",
       "<path fill=\"none\" stroke=\"black\" d=\"M544.56,-393.74C540.97,-380.21 536.03,-361.61 532.42,-348.01\"/>\n",
       "<text text-anchor=\"middle\" x=\"528.37\" y=\"-374.08\" font-family=\"Times,serif\" font-size=\"14.00\">197</text>\n",
       "</g>\n",
       "<!-- J -->\n",
       "<g id=\"node36\" class=\"node\">\n",
       "<title>J</title>\n",
       "<ellipse fill=\"none\" stroke=\"black\" cx=\"629.02\" cy=\"-382.31\" rx=\"18\" ry=\"18\"/>\n",
       "<text text-anchor=\"middle\" x=\"629.02\" y=\"-377.26\" font-family=\"Times,serif\" font-size=\"14.00\">J</text>\n",
       "</g>\n",
       "<!-- f&#45;&#45;J -->\n",
       "<g id=\"edge17\" class=\"edge\">\n",
       "<title>f&#45;&#45;J</title>\n",
       "<path fill=\"none\" stroke=\"black\" d=\"M566.54,-405.06C579.93,-400.19 598.37,-393.48 611.74,-388.61\"/>\n",
       "<text text-anchor=\"middle\" x=\"579.02\" y=\"-400.03\" font-family=\"Times,serif\" font-size=\"14.00\">177</text>\n",
       "</g>\n",
       "<!-- g -->\n",
       "<g id=\"node7\" class=\"node\">\n",
       "<title>g</title>\n",
       "<ellipse fill=\"none\" stroke=\"black\" cx=\"364.77\" cy=\"-381.94\" rx=\"18\" ry=\"18\"/>\n",
       "<text text-anchor=\"middle\" x=\"364.77\" y=\"-376.89\" font-family=\"Times,serif\" font-size=\"14.00\">g</text>\n",
       "</g>\n",
       "<!-- i -->\n",
       "<g id=\"node9\" class=\"node\">\n",
       "<title>i</title>\n",
       "<ellipse fill=\"none\" stroke=\"black\" cx=\"283.94\" cy=\"-404.37\" rx=\"18\" ry=\"18\"/>\n",
       "<text text-anchor=\"middle\" x=\"283.94\" y=\"-399.32\" font-family=\"Times,serif\" font-size=\"14.00\">i</text>\n",
       "</g>\n",
       "<!-- g&#45;&#45;i -->\n",
       "<g id=\"edge22\" class=\"edge\">\n",
       "<title>g&#45;&#45;i</title>\n",
       "<path fill=\"none\" stroke=\"black\" d=\"M347.23,-386.81C333.77,-390.54 315.25,-395.68 301.72,-399.43\"/>\n",
       "<text text-anchor=\"middle\" x=\"317.73\" y=\"-396.32\" font-family=\"Times,serif\" font-size=\"14.00\">91</text>\n",
       "</g>\n",
       "<!-- n -->\n",
       "<g id=\"node14\" class=\"node\">\n",
       "<title>n</title>\n",
       "<ellipse fill=\"none\" stroke=\"black\" cx=\"381.14\" cy=\"-460.81\" rx=\"18\" ry=\"18\"/>\n",
       "<text text-anchor=\"middle\" x=\"381.14\" y=\"-455.76\" font-family=\"Times,serif\" font-size=\"14.00\">n</text>\n",
       "</g>\n",
       "<!-- g&#45;&#45;n -->\n",
       "<g id=\"edge19\" class=\"edge\">\n",
       "<title>g&#45;&#45;n</title>\n",
       "<path fill=\"none\" stroke=\"black\" d=\"M368.49,-399.84C371.15,-412.66 374.72,-429.85 377.39,-442.71\"/>\n",
       "<text text-anchor=\"middle\" x=\"362.81\" y=\"-424.48\" font-family=\"Times,serif\" font-size=\"14.00\">207</text>\n",
       "</g>\n",
       "<!-- v -->\n",
       "<g id=\"node22\" class=\"node\">\n",
       "<title>v</title>\n",
       "<ellipse fill=\"none\" stroke=\"black\" cx=\"337\" cy=\"-300.33\" rx=\"18\" ry=\"18\"/>\n",
       "<text text-anchor=\"middle\" x=\"337\" y=\"-295.28\" font-family=\"Times,serif\" font-size=\"14.00\">v</text>\n",
       "</g>\n",
       "<!-- g&#45;&#45;v -->\n",
       "<g id=\"edge20\" class=\"edge\">\n",
       "<title>g&#45;&#45;v</title>\n",
       "<path fill=\"none\" stroke=\"black\" d=\"M358.88,-364.63C354.17,-350.78 347.59,-331.46 342.88,-317.61\"/>\n",
       "<text text-anchor=\"middle\" x=\"344.13\" y=\"-344.32\" font-family=\"Times,serif\" font-size=\"14.00\">87</text>\n",
       "</g>\n",
       "<!-- I -->\n",
       "<g id=\"node35\" class=\"node\">\n",
       "<title>I</title>\n",
       "<ellipse fill=\"none\" stroke=\"black\" cx=\"446.34\" cy=\"-357.11\" rx=\"18\" ry=\"18\"/>\n",
       "<text text-anchor=\"middle\" x=\"446.34\" y=\"-352.06\" font-family=\"Times,serif\" font-size=\"14.00\">I</text>\n",
       "</g>\n",
       "<!-- g&#45;&#45;I -->\n",
       "<g id=\"edge21\" class=\"edge\">\n",
       "<title>g&#45;&#45;I</title>\n",
       "<path fill=\"none\" stroke=\"black\" d=\"M382.07,-376.67C395.82,-372.49 414.97,-366.66 428.79,-362.45\"/>\n",
       "<text text-anchor=\"middle\" x=\"395.3\" y=\"-372.76\" font-family=\"Times,serif\" font-size=\"14.00\">153</text>\n",
       "</g>\n",
       "<!-- h&#45;&#45;n -->\n",
       "<g id=\"edge24\" class=\"edge\">\n",
       "<title>h&#45;&#45;n</title>\n",
       "<path fill=\"none\" stroke=\"black\" d=\"M448.73,-442.6C434.1,-446.54 413.41,-452.12 398.78,-456.06\"/>\n",
       "<text text-anchor=\"middle\" x=\"413.63\" y=\"-452.53\" font-family=\"Times,serif\" font-size=\"14.00\">131</text>\n",
       "</g>\n",
       "<!-- h&#45;&#45;I -->\n",
       "<g id=\"edge23\" class=\"edge\">\n",
       "<title>h&#45;&#45;I</title>\n",
       "<path fill=\"none\" stroke=\"black\" d=\"M461.94,-419.92C458.62,-406.54 454.1,-388.34 450.78,-374.97\"/>\n",
       "<text text-anchor=\"middle\" x=\"446.24\" y=\"-400.65\" font-family=\"Times,serif\" font-size=\"14.00\">233</text>\n",
       "</g>\n",
       "<!-- s -->\n",
       "<g id=\"node19\" class=\"node\">\n",
       "<title>s</title>\n",
       "<ellipse fill=\"none\" stroke=\"black\" cx=\"220.76\" cy=\"-438.77\" rx=\"18\" ry=\"18\"/>\n",
       "<text text-anchor=\"middle\" x=\"220.76\" y=\"-433.72\" font-family=\"Times,serif\" font-size=\"14.00\">s</text>\n",
       "</g>\n",
       "<!-- i&#45;&#45;s -->\n",
       "<g id=\"edge27\" class=\"edge\">\n",
       "<title>i&#45;&#45;s</title>\n",
       "<path fill=\"none\" stroke=\"black\" d=\"M268,-413.05C258.49,-418.23 246.46,-424.78 236.92,-429.97\"/>\n",
       "<text text-anchor=\"middle\" x=\"252.46\" y=\"-408.21\" font-family=\"Times,serif\" font-size=\"14.00\">127</text>\n",
       "</g>\n",
       "<!-- A -->\n",
       "<g id=\"node27\" class=\"node\">\n",
       "<title>A</title>\n",
       "<ellipse fill=\"none\" stroke=\"black\" cx=\"293.22\" cy=\"-475.72\" rx=\"18\" ry=\"18\"/>\n",
       "<text text-anchor=\"middle\" x=\"293.22\" y=\"-470.67\" font-family=\"Times,serif\" font-size=\"14.00\">A</text>\n",
       "</g>\n",
       "<!-- i&#45;&#45;A -->\n",
       "<g id=\"edge25\" class=\"edge\">\n",
       "<title>i&#45;&#45;A</title>\n",
       "<path fill=\"none\" stroke=\"black\" d=\"M286.28,-422.37C287.68,-433.1 289.45,-446.69 290.85,-457.47\"/>\n",
       "<text text-anchor=\"middle\" x=\"278.44\" y=\"-443.12\" font-family=\"Times,serif\" font-size=\"14.00\">159</text>\n",
       "</g>\n",
       "<!-- F -->\n",
       "<g id=\"node32\" class=\"node\">\n",
       "<title>F</title>\n",
       "<ellipse fill=\"none\" stroke=\"black\" cx=\"254.65\" cy=\"-325.75\" rx=\"18\" ry=\"18\"/>\n",
       "<text text-anchor=\"middle\" x=\"254.65\" y=\"-320.7\" font-family=\"Times,serif\" font-size=\"14.00\">F</text>\n",
       "</g>\n",
       "<!-- i&#45;&#45;F -->\n",
       "<g id=\"edge26\" class=\"edge\">\n",
       "<title>i&#45;&#45;F</title>\n",
       "<path fill=\"none\" stroke=\"black\" d=\"M277.58,-387.31C272.7,-374.21 265.99,-356.21 261.09,-343.05\"/>\n",
       "<text text-anchor=\"middle\" x=\"259.21\" y=\"-368.38\" font-family=\"Times,serif\" font-size=\"14.00\">127</text>\n",
       "</g>\n",
       "<!-- j -->\n",
       "<g id=\"node10\" class=\"node\">\n",
       "<title>j</title>\n",
       "<ellipse fill=\"none\" stroke=\"black\" cx=\"347.01\" cy=\"-32.75\" rx=\"18\" ry=\"18\"/>\n",
       "<text text-anchor=\"middle\" x=\"347.01\" y=\"-27.7\" font-family=\"Times,serif\" font-size=\"14.00\">j</text>\n",
       "</g>\n",
       "<!-- q -->\n",
       "<g id=\"node17\" class=\"node\">\n",
       "<title>q</title>\n",
       "<ellipse fill=\"none\" stroke=\"black\" cx=\"261.55\" cy=\"-55.76\" rx=\"18\" ry=\"18\"/>\n",
       "<text text-anchor=\"middle\" x=\"261.55\" y=\"-50.71\" font-family=\"Times,serif\" font-size=\"14.00\">q</text>\n",
       "</g>\n",
       "<!-- j&#45;&#45;q -->\n",
       "<g id=\"edge30\" class=\"edge\">\n",
       "<title>j&#45;&#45;q</title>\n",
       "<path fill=\"none\" stroke=\"black\" d=\"M329.3,-37.52C314.63,-41.47 293.89,-47.05 279.23,-51\"/>\n",
       "<text text-anchor=\"middle\" x=\"294.14\" y=\"-47.46\" font-family=\"Times,serif\" font-size=\"14.00\">115</text>\n",
       "</g>\n",
       "<!-- z -->\n",
       "<g id=\"node26\" class=\"node\">\n",
       "<title>z</title>\n",
       "<ellipse fill=\"none\" stroke=\"black\" cx=\"363.77\" cy=\"-111.41\" rx=\"18\" ry=\"18\"/>\n",
       "<text text-anchor=\"middle\" x=\"363.77\" y=\"-106.36\" font-family=\"Times,serif\" font-size=\"14.00\">z</text>\n",
       "</g>\n",
       "<!-- j&#45;&#45;z -->\n",
       "<g id=\"edge28\" class=\"edge\">\n",
       "<title>j&#45;&#45;z</title>\n",
       "<path fill=\"none\" stroke=\"black\" d=\"M350.81,-50.6C353.53,-63.38 357.19,-80.53 359.92,-93.36\"/>\n",
       "<text text-anchor=\"middle\" x=\"345.24\" y=\"-75.18\" font-family=\"Times,serif\" font-size=\"14.00\">223</text>\n",
       "</g>\n",
       "<!-- j&#45;&#45;C -->\n",
       "<g id=\"edge29\" class=\"edge\">\n",
       "<title>j&#45;&#45;C</title>\n",
       "<path fill=\"none\" stroke=\"black\" d=\"M364.84,-29.76C380.03,-27.22 401.76,-23.59 417.03,-21.03\"/>\n",
       "<text text-anchor=\"middle\" x=\"380.81\" y=\"-28.6\" font-family=\"Times,serif\" font-size=\"14.00\">203</text>\n",
       "</g>\n",
       "<!-- k&#45;&#45;v -->\n",
       "<g id=\"edge33\" class=\"edge\">\n",
       "<title>k&#45;&#45;v</title>\n",
       "<path fill=\"none\" stroke=\"black\" d=\"M402.13,-280.24C388.1,-284.57 368.52,-290.61 354.5,-294.93\"/>\n",
       "<text text-anchor=\"middle\" x=\"368.19\" y=\"-290.79\" font-family=\"Times,serif\" font-size=\"14.00\">151</text>\n",
       "</g>\n",
       "<!-- D -->\n",
       "<g id=\"node30\" class=\"node\">\n",
       "<title>D</title>\n",
       "<ellipse fill=\"none\" stroke=\"black\" cx=\"391.77\" cy=\"-192.93\" rx=\"18\" ry=\"18\"/>\n",
       "<text text-anchor=\"middle\" x=\"391.77\" y=\"-187.88\" font-family=\"Times,serif\" font-size=\"14.00\">D</text>\n",
       "</g>\n",
       "<!-- k&#45;&#45;D -->\n",
       "<g id=\"edge32\" class=\"edge\">\n",
       "<title>k&#45;&#45;D</title>\n",
       "<path fill=\"none\" stroke=\"black\" d=\"M413.74,-257.47C409.01,-243.57 402.41,-224.17 397.68,-210.28\"/>\n",
       "<text text-anchor=\"middle\" x=\"395.58\" y=\"-237.07\" font-family=\"Times,serif\" font-size=\"14.00\">101</text>\n",
       "</g>\n",
       "<!-- k&#45;&#45;I -->\n",
       "<g id=\"edge31\" class=\"edge\">\n",
       "<title>k&#45;&#45;I</title>\n",
       "<path fill=\"none\" stroke=\"black\" d=\"M425.31,-292.28C429.84,-306.24 436.16,-325.73 440.69,-339.68\"/>\n",
       "<text text-anchor=\"middle\" x=\"426.25\" y=\"-319.18\" font-family=\"Times,serif\" font-size=\"14.00\">61</text>\n",
       "</g>\n",
       "<!-- l&#45;&#45;E -->\n",
       "<g id=\"edge35\" class=\"edge\">\n",
       "<title>l&#45;&#45;E</title>\n",
       "<path fill=\"none\" stroke=\"black\" d=\"M589.22,-306.96C576.13,-311.89 558.12,-318.67 544.97,-323.63\"/>\n",
       "<text text-anchor=\"middle\" x=\"556.97\" y=\"-318.49\" font-family=\"Times,serif\" font-size=\"14.00\">181</text>\n",
       "</g>\n",
       "<!-- l&#45;&#45;J -->\n",
       "<g id=\"edge34\" class=\"edge\">\n",
       "<title>l&#45;&#45;J</title>\n",
       "<path fill=\"none\" stroke=\"black\" d=\"M611.2,-318.28C615.02,-332 620.28,-350.89 624.09,-364.6\"/>\n",
       "<text text-anchor=\"middle\" x=\"610.9\" y=\"-344.64\" font-family=\"Times,serif\" font-size=\"14.00\">65</text>\n",
       "</g>\n",
       "<!-- m&#45;&#45;y -->\n",
       "<g id=\"edge36\" class=\"edge\">\n",
       "<title>m&#45;&#45;y</title>\n",
       "<path fill=\"none\" stroke=\"black\" d=\"M451.37,-107.01C456.27,-120.05 462.88,-137.63 467.72,-150.52\"/>\n",
       "<text text-anchor=\"middle\" x=\"449.42\" y=\"-131.97\" font-family=\"Times,serif\" font-size=\"14.00\">173</text>\n",
       "</g>\n",
       "<!-- m&#45;&#45;z -->\n",
       "<g id=\"edge38\" class=\"edge\">\n",
       "<title>m&#45;&#45;z</title>\n",
       "<path fill=\"none\" stroke=\"black\" d=\"M426.31,-94.23C412.88,-97.92 394.77,-102.89 381.5,-106.54\"/>\n",
       "<text text-anchor=\"middle\" x=\"397.15\" y=\"-103.58\" font-family=\"Times,serif\" font-size=\"14.00\">85</text>\n",
       "</g>\n",
       "<!-- m&#45;&#45;C -->\n",
       "<g id=\"edge37\" class=\"edge\">\n",
       "<title>m&#45;&#45;C</title>\n",
       "<path fill=\"none\" stroke=\"black\" d=\"M442.17,-70.48C440.75,-59.94 439,-46.82 437.59,-36.33\"/>\n",
       "<text text-anchor=\"middle\" x=\"429.75\" y=\"-56.61\" font-family=\"Times,serif\" font-size=\"14.00\">137</text>\n",
       "</g>\n",
       "<!-- n&#45;&#45;A -->\n",
       "<g id=\"edge39\" class=\"edge\">\n",
       "<title>n&#45;&#45;A</title>\n",
       "<path fill=\"none\" stroke=\"black\" d=\"M362.93,-463.9C347.84,-466.46 326.5,-470.07 311.41,-472.63\"/>\n",
       "<text text-anchor=\"middle\" x=\"327.05\" y=\"-471.47\" font-family=\"Times,serif\" font-size=\"14.00\">151</text>\n",
       "</g>\n",
       "<!-- o -->\n",
       "<g id=\"node15\" class=\"node\">\n",
       "<title>o</title>\n",
       "<ellipse fill=\"none\" stroke=\"black\" cx=\"309.12\" cy=\"-218.42\" rx=\"18\" ry=\"18\"/>\n",
       "<text text-anchor=\"middle\" x=\"309.12\" y=\"-213.37\" font-family=\"Times,serif\" font-size=\"14.00\">o</text>\n",
       "</g>\n",
       "<!-- o&#45;&#45;p -->\n",
       "<g id=\"edge43\" class=\"edge\">\n",
       "<title>o&#45;&#45;p</title>\n",
       "<path fill=\"none\" stroke=\"black\" d=\"M291.68,-224.08C277.72,-228.61 258.25,-234.93 244.29,-239.46\"/>\n",
       "<text text-anchor=\"middle\" x=\"261.24\" y=\"-234.97\" font-family=\"Times,serif\" font-size=\"14.00\">95</text>\n",
       "</g>\n",
       "<!-- o&#45;&#45;u -->\n",
       "<g id=\"edge41\" class=\"edge\">\n",
       "<title>o&#45;&#45;u</title>\n",
       "<path fill=\"none\" stroke=\"black\" d=\"M303.41,-200.99C298.84,-187.04 292.45,-167.57 287.88,-153.63\"/>\n",
       "<text text-anchor=\"middle\" x=\"288.9\" y=\"-180.51\" font-family=\"Times,serif\" font-size=\"14.00\">51</text>\n",
       "</g>\n",
       "<!-- o&#45;&#45;v -->\n",
       "<g id=\"edge40\" class=\"edge\">\n",
       "<title>o&#45;&#45;v</title>\n",
       "<path fill=\"none\" stroke=\"black\" d=\"M315.04,-235.79C319.77,-249.69 326.37,-269.09 331.09,-282.98\"/>\n",
       "<text text-anchor=\"middle\" x=\"312.94\" y=\"-262.59\" font-family=\"Times,serif\" font-size=\"14.00\">197</text>\n",
       "</g>\n",
       "<!-- o&#45;&#45;D -->\n",
       "<g id=\"edge42\" class=\"edge\">\n",
       "<title>o&#45;&#45;D</title>\n",
       "<path fill=\"none\" stroke=\"black\" d=\"M326.65,-213.02C340.68,-208.69 360.25,-202.65 374.27,-198.33\"/>\n",
       "<text text-anchor=\"middle\" x=\"340.34\" y=\"-208.87\" font-family=\"Times,serif\" font-size=\"14.00\">183</text>\n",
       "</g>\n",
       "<!-- p&#45;&#45;t -->\n",
       "<g id=\"edge45\" class=\"edge\">\n",
       "<title>p&#45;&#45;t</title>\n",
       "<path fill=\"none\" stroke=\"black\" d=\"M209.77,-252.05C196.99,-257.23 179.61,-264.28 166.85,-269.45\"/>\n",
       "<text text-anchor=\"middle\" x=\"178.18\" y=\"-263.95\" font-family=\"Times,serif\" font-size=\"14.00\">197</text>\n",
       "</g>\n",
       "<!-- p&#45;&#45;F -->\n",
       "<g id=\"edge44\" class=\"edge\">\n",
       "<title>p&#45;&#45;F</title>\n",
       "<path fill=\"none\" stroke=\"black\" d=\"M232.77,-262.21C237.45,-275.81 243.97,-294.74 248.67,-308.4\"/>\n",
       "<text text-anchor=\"middle\" x=\"230.59\" y=\"-288.51\" font-family=\"Times,serif\" font-size=\"14.00\">117</text>\n",
       "</g>\n",
       "<!-- q&#45;&#45;r -->\n",
       "<g id=\"edge47\" class=\"edge\">\n",
       "<title>q&#45;&#45;r</title>\n",
       "<path fill=\"none\" stroke=\"black\" d=\"M243.95,-61.42C229.86,-65.94 210.21,-72.26 196.13,-76.78\"/>\n",
       "<text text-anchor=\"middle\" x=\"209.91\" y=\"-72.3\" font-family=\"Times,serif\" font-size=\"14.00\">139</text>\n",
       "</g>\n",
       "<!-- q&#45;&#45;u -->\n",
       "<g id=\"edge46\" class=\"edge\">\n",
       "<title>q&#45;&#45;u</title>\n",
       "<path fill=\"none\" stroke=\"black\" d=\"M266.13,-73.62C269.54,-86.95 274.19,-105.09 277.61,-118.42\"/>\n",
       "<text text-anchor=\"middle\" x=\"261.74\" y=\"-99.22\" font-family=\"Times,serif\" font-size=\"14.00\">189</text>\n",
       "</g>\n",
       "<!-- r&#45;&#45;x -->\n",
       "<g id=\"edge48\" class=\"edge\">\n",
       "<title>r&#45;&#45;x</title>\n",
       "<path fill=\"none\" stroke=\"black\" d=\"M161.31,-88.86C147.99,-93.83 129.63,-100.69 116.31,-105.66\"/>\n",
       "<text text-anchor=\"middle\" x=\"128.69\" y=\"-100.46\" font-family=\"Times,serif\" font-size=\"14.00\">125</text>\n",
       "</g>\n",
       "<!-- s&#45;&#45;A -->\n",
       "<g id=\"edge49\" class=\"edge\">\n",
       "<title>s&#45;&#45;A</title>\n",
       "<path fill=\"none\" stroke=\"black\" d=\"M237.2,-447.16C249.06,-453.2 265,-461.33 276.84,-467.37\"/>\n",
       "<text text-anchor=\"middle\" x=\"246.9\" y=\"-460.46\" font-family=\"Times,serif\" font-size=\"14.00\">511</text>\n",
       "</g>\n",
       "<!-- G -->\n",
       "<g id=\"node33\" class=\"node\">\n",
       "<title>G</title>\n",
       "<ellipse fill=\"none\" stroke=\"black\" cx=\"181.21\" cy=\"-358.86\" rx=\"18\" ry=\"18\"/>\n",
       "<text text-anchor=\"middle\" x=\"181.21\" y=\"-353.81\" font-family=\"Times,serif\" font-size=\"14.00\">G</text>\n",
       "</g>\n",
       "<!-- s&#45;&#45;G -->\n",
       "<g id=\"edge50\" class=\"edge\">\n",
       "<title>s&#45;&#45;G</title>\n",
       "<path fill=\"none\" stroke=\"black\" d=\"M212.57,-422.22C205.78,-408.5 196.18,-389.1 189.39,-375.4\"/>\n",
       "<text text-anchor=\"middle\" x=\"194.23\" y=\"-402.01\" font-family=\"Times,serif\" font-size=\"14.00\">81</text>\n",
       "</g>\n",
       "<!-- t&#45;&#45;G -->\n",
       "<g id=\"edge51\" class=\"edge\">\n",
       "<title>t&#45;&#45;G</title>\n",
       "<path fill=\"none\" stroke=\"black\" d=\"M156.3,-293.46C161.69,-307.62 169.31,-327.64 174.71,-341.79\"/>\n",
       "<text text-anchor=\"middle\" x=\"155.38\" y=\"-320.83\" font-family=\"Times,serif\" font-size=\"14.00\">121</text>\n",
       "</g>\n",
       "<!-- u&#45;&#45;z -->\n",
       "<g id=\"edge52\" class=\"edge\">\n",
       "<title>u&#45;&#45;z</title>\n",
       "<path fill=\"none\" stroke=\"black\" d=\"M299.48,-130.96C313.23,-126.78 332.39,-120.95 346.21,-116.75\"/>\n",
       "<text text-anchor=\"middle\" x=\"312.72\" y=\"-127.05\" font-family=\"Times,serif\" font-size=\"14.00\">173</text>\n",
       "</g>\n",
       "<!-- v&#45;&#45;F -->\n",
       "<g id=\"edge53\" class=\"edge\">\n",
       "<title>v&#45;&#45;F</title>\n",
       "<path fill=\"none\" stroke=\"black\" d=\"M319.53,-305.72C305.56,-310.04 286.05,-316.06 272.09,-320.37\"/>\n",
       "<text text-anchor=\"middle\" x=\"285.68\" y=\"-316.25\" font-family=\"Times,serif\" font-size=\"14.00\">139</text>\n",
       "</g>\n",
       "<!-- w -->\n",
       "<g id=\"node23\" class=\"node\">\n",
       "<title>w</title>\n",
       "<polygon fill=\"none\" stroke=\"black\" points=\"697.72,-444.62 662.58,-407.87 732.87,-407.87 697.72,-444.62\"/>\n",
       "<text text-anchor=\"middle\" x=\"697.72\" y=\"-415.07\" font-family=\"Times,serif\" font-size=\"14.00\">w</text>\n",
       "</g>\n",
       "<!-- w&#45;&#45;J -->\n",
       "<g id=\"edge54\" class=\"edge\">\n",
       "<title>w&#45;&#45;J</title>\n",
       "<path fill=\"none\" stroke=\"black\" d=\"M674.85,-407.53C665.01,-402.12 653.75,-395.93 644.86,-391.03\"/>\n",
       "<text text-anchor=\"middle\" x=\"649.73\" y=\"-402.48\" font-family=\"Times,serif\" font-size=\"14.00\">106</text>\n",
       "</g>\n",
       "<!-- H -->\n",
       "<g id=\"node34\" class=\"node\">\n",
       "<title>H</title>\n",
       "<polygon fill=\"none\" stroke=\"black\" points=\"27,-99.16 0,-81.16 27,-63.16 54,-81.16 27,-99.16\"/>\n",
       "<text text-anchor=\"middle\" x=\"27\" y=\"-76.11\" font-family=\"Times,serif\" font-size=\"14.00\">H</text>\n",
       "</g>\n",
       "<!-- x&#45;&#45;H -->\n",
       "<g id=\"edge55\" class=\"edge\">\n",
       "<title>x&#45;&#45;H</title>\n",
       "<path fill=\"none\" stroke=\"black\" d=\"M82.38,-104.91C70.82,-99.95 55.48,-93.37 43.88,-88.4\"/>\n",
       "<text text-anchor=\"middle\" x=\"69.88\" y=\"-99.85\" font-family=\"Times,serif\" font-size=\"14.00\">76</text>\n",
       "</g>\n",
       "<!-- y&#45;&#45;B -->\n",
       "<g id=\"edge56\" class=\"edge\">\n",
       "<title>y&#45;&#45;B</title>\n",
       "<path fill=\"none\" stroke=\"black\" d=\"M490.86,-160.32C502.8,-155 518.82,-147.87 530.8,-142.54\"/>\n",
       "<text text-anchor=\"middle\" x=\"504.08\" y=\"-154.63\" font-family=\"Times,serif\" font-size=\"14.00\">37</text>\n",
       "</g>\n",
       "<!-- y&#45;&#45;D -->\n",
       "<g id=\"edge57\" class=\"edge\">\n",
       "<title>y&#45;&#45;D</title>\n",
       "<path fill=\"none\" stroke=\"black\" d=\"M456.71,-173.08C442.73,-177.36 423.21,-183.32 409.23,-187.6\"/>\n",
       "<text text-anchor=\"middle\" x=\"422.84\" y=\"-183.54\" font-family=\"Times,serif\" font-size=\"14.00\">153</text>\n",
       "</g>\n",
       "<!-- z&#45;&#45;D -->\n",
       "<g id=\"edge58\" class=\"edge\">\n",
       "<title>z&#45;&#45;D</title>\n",
       "<path fill=\"none\" stroke=\"black\" d=\"M369.71,-128.7C374.46,-142.53 381.09,-161.84 385.84,-175.67\"/>\n",
       "<text text-anchor=\"middle\" x=\"367.65\" y=\"-155.38\" font-family=\"Times,serif\" font-size=\"14.00\">209</text>\n",
       "</g>\n",
       "<!-- E&#45;&#45;I -->\n",
       "<g id=\"edge59\" class=\"edge\">\n",
       "<title>E&#45;&#45;I</title>\n",
       "<path fill=\"none\" stroke=\"black\" d=\"M510.43,-335.86C496.72,-340.41 477.62,-346.74 463.85,-351.3\"/>\n",
       "<text text-anchor=\"middle\" x=\"477.02\" y=\"-346.78\" font-family=\"Times,serif\" font-size=\"14.00\">149</text>\n",
       "</g>\n",
       "<!-- F&#45;&#45;G -->\n",
       "<g id=\"edge60\" class=\"edge\">\n",
       "<title>F&#45;&#45;G</title>\n",
       "<path fill=\"none\" stroke=\"black\" d=\"M237.98,-333.27C226.05,-338.65 210.04,-345.86 198.06,-351.26\"/>\n",
       "<text text-anchor=\"middle\" x=\"223.08\" y=\"-328.96\" font-family=\"Times,serif\" font-size=\"14.00\">165</text>\n",
       "</g>\n",
       "</g>\n",
       "</svg>\n"
      ],
      "text/plain": [
       "<graphviz.graphs.Graph at 0x2b7129590>"
      ]
     },
     "execution_count": 164,
     "metadata": {},
     "output_type": "execute_result"
    }
   ],
   "source": [
    "from graphviz import Graph\n",
    "\n",
    "def visualize_graph(nodes, distances: dict[str, list[str]], start, end) -> None:\n",
    "    dot = Graph(comment='The Graph', engine='neato')    \n",
    "    # Add nodes and edges to the graph\n",
    "    names = {z:string.ascii_letters[i] for i, z in enumerate(nodes)}\n",
    "    for node in nodes:\n",
    "        shape = 'circle'\n",
    "        if node == start:\n",
    "            shape = 'triangle'\n",
    "        elif node == end:\n",
    "            shape = 'diamond'\n",
    "        dot.node(names[node], shape=shape)\n",
    "    done = set()\n",
    "    for (n, m), dist in distances.items():\n",
    "        if (n,m) not in done:\n",
    "            dot.edge(names[n], names[m], label=str(dist))\n",
    "            done |= set([(n,m),(m,n)])\n",
    "\n",
    "    # Render the graph to a file (e.g., 'graphviz_output') and view it\n",
    "    return dot\n",
    "#     dot.render('graphviz_output', view=True, format='pdf', engine='neato')\n",
    "#     return dot\n",
    "\n",
    "\n",
    "visualize_graph(intersection_coords, distances, start, end)\n"
   ]
  },
  {
   "cell_type": "code",
   "execution_count": null,
   "metadata": {},
   "outputs": [],
   "source": []
  },
  {
   "cell_type": "code",
   "execution_count": 34,
   "metadata": {},
   "outputs": [
    {
     "data": {
      "text/plain": [
       "<matplotlib.image.AxesImage at 0x2b44383d0>"
      ]
     },
     "execution_count": 34,
     "metadata": {},
     "output_type": "execute_result"
    },
    {
     "data": {
      "image/png": "[encoded data removed]",
      "text/plain": [
       "<Figure size 640x480 with 1 Axes>"
      ]
     },
     "metadata": {},
     "output_type": "display_data"
    }
   ],
   "source": [
    "plt.imshow(data + -1 * intersections)a"
   ]
  },
  {
   "cell_type": "code",
   "execution_count": 4,
   "metadata": {},
   "outputs": [
    {
     "data": {
      "text/plain": [
       "<matplotlib.image.AxesImage at 0x299bee850>"
      ]
     },
     "execution_count": 4,
     "metadata": {},
     "output_type": "execute_result"
    },
    {
     "data": {
      "image/png": "[encoded data removed]",
      "text/plain": [
       "<Figure size 1200x1200 with 1 Axes>"
      ]
     },
     "metadata": {},
     "output_type": "display_data"
    }
   ],
   "source": [
    "fig, ax = plt.subplots(1,1,figsize=(12,12))\n",
    "plt.imshow(data) # != 1)"
   ]
  },
  {
   "cell_type": "code",
   "execution_count": null,
   "metadata": {},
   "outputs": [],
   "source": []
  },
  {
   "cell_type": "code",
   "execution_count": 5,
   "metadata": {},
   "outputs": [
    {
     "data": {
      "text/plain": [
       "<matplotlib.image.AxesImage at 0x29b742c90>"
      ]
     },
     "execution_count": 5,
     "metadata": {},
     "output_type": "execute_result"
    },
    {
     "data": {
      "image/png": "[encoded data removed]",
      "text/plain": [
       "<Figure size 640x480 with 1 Axes>"
      ]
     },
     "metadata": {},
     "output_type": "display_data"
    }
   ],
   "source": [
    "plt.imshow(sample)"
   ]
  },
  {
   "cell_type": "code",
   "execution_count": 40,
   "metadata": {},
   "outputs": [],
   "source": [
    "def viz(visited):\n",
    "    board = data.copy()\n",
    "    for z in visited:\n",
    "        i, j = int(z.real), int(z.imag)\n",
    "        board[i,j] = 10\n",
    "    plt.imshow(board)\n",
    "    plt.show()"
   ]
  },
  {
   "cell_type": "code",
   "execution_count": 6,
   "metadata": {},
   "outputs": [],
   "source": [
    "def solve_a(data):\n",
    "    data = np.array(data, dtype=np.uint8)\n",
    "\n",
    "    map_ = {i+j*1j: val for i, row in enumerate(data) for j, val in enumerate(row)}\n",
    "\n",
    "    start = 1j * np.array([i for i, val in enumerate(data[0]) if val == EMPTY]).item()\n",
    "    end = len(data)-1 + 1j * np.array([i for i, val in enumerate(data[-1]) if val == EMPTY]).item()\n",
    "\n",
    "    stack = [(start, set([start]))]\n",
    "    max_len = 0\n",
    "    i = 0\n",
    "    while stack:\n",
    "        i += 1\n",
    "        pos, visited = stack.pop()\n",
    "    #     if i % 10 == 0:\n",
    "    #         viz(visited)\n",
    "\n",
    "        valid_directions = {\n",
    "            EMPTY: [1,-1,1j,-1j],\n",
    "            LEFT: [-1j],\n",
    "            RIGHT: [1j],\n",
    "            UP: [-1],\n",
    "            DOWN: [1]\n",
    "        }[map_[pos]]\n",
    "\n",
    "        for delta in valid_directions:\n",
    "            new_pos = pos + delta\n",
    "            if new_pos not in map_ or map_[new_pos] == WALL or new_pos in visited:\n",
    "                continue\n",
    "            if new_pos == end:\n",
    "    #             print(len(visited))\n",
    "                max_len = max(max_len, len(visited))\n",
    "                continue\n",
    "            stack.append((new_pos, visited | set([new_pos])))\n",
    "\n",
    "    return max_len"
   ]
  },
  {
   "cell_type": "code",
   "execution_count": 7,
   "metadata": {},
   "outputs": [
    {
     "data": {
      "text/plain": [
       "94"
      ]
     },
     "execution_count": 7,
     "metadata": {},
     "output_type": "execute_result"
    }
   ],
   "source": [
    "solve_a(sample)"
   ]
  },
  {
   "cell_type": "code",
   "execution_count": 8,
   "metadata": {},
   "outputs": [
    {
     "data": {
      "text/plain": [
       "1930"
      ]
     },
     "execution_count": 8,
     "metadata": {},
     "output_type": "execute_result"
    }
   ],
   "source": [
    "solve_a(data)"
   ]
  },
  {
   "cell_type": "code",
   "execution_count": 9,
   "metadata": {},
   "outputs": [],
   "source": [
    "def solve_b(data):\n",
    "    data = np.array(data, dtype=np.uint8)\n",
    "\n",
    "    map_ = {i+j*1j: val for i, row in enumerate(data) for j, val in enumerate(row)}\n",
    "\n",
    "    start = 1j * np.array([i for i, val in enumerate(data[0]) if val == EMPTY]).item()\n",
    "    end = len(data)-1 + 1j * np.array([i for i, val in enumerate(data[-1]) if val == EMPTY]).item()\n",
    "\n",
    "    stack = [(start, set([start]))]\n",
    "    max_len = 0\n",
    "    i = 0\n",
    "    while stack:\n",
    "        i += 1\n",
    "        pos, visited = stack.pop()\n",
    "    #     if i % 10 == 0:\n",
    "    #         viz(visited)\n",
    "\n",
    "        for delta in [1,-1,1j,-1j]:\n",
    "            new_pos = pos + delta\n",
    "            if new_pos not in map_ or map_[new_pos] == WALL or new_pos in visited:\n",
    "                continue\n",
    "            if new_pos == end:\n",
    "    #             print(len(visited))\n",
    "                max_len = max(max_len, len(visited))\n",
    "                continue\n",
    "            stack.append((new_pos, visited | set([new_pos])))\n",
    "\n",
    "    return max_len"
   ]
  },
  {
   "cell_type": "code",
   "execution_count": 10,
   "metadata": {},
   "outputs": [
    {
     "data": {
      "text/plain": [
       "154"
      ]
     },
     "execution_count": 10,
     "metadata": {},
     "output_type": "execute_result"
    }
   ],
   "source": [
    "solve_b(sample)"
   ]
  },
  {
   "cell_type": "code",
   "execution_count": null,
   "metadata": {},
   "outputs": [],
   "source": [
    "solve_b(data)"
   ]
  },
  {
   "cell_type": "code",
   "execution_count": null,
   "metadata": {},
   "outputs": [],
   "source": []
  },
  {
   "cell_type": "code",
   "execution_count": 90,
   "metadata": {},
   "outputs": [],
   "source": [
    "from collections import Counter"
   ]
  },
  {
   "cell_type": "code",
   "execution_count": 92,
   "metadata": {},
   "outputs": [
    {
     "data": {
      "text/plain": [
       "Counter({94: 1})"
      ]
     },
     "execution_count": 92,
     "metadata": {},
     "output_type": "execute_result"
    }
   ],
   "source": [
    "Counter([82,94,86,82,74,90,94,]) - Counter([94,90,86,82,82,74])"
   ]
  },
  {
   "cell_type": "code",
   "execution_count": 77,
   "metadata": {},
   "outputs": [
    {
     "data": {
      "text/plain": [
       "0"
      ]
     },
     "execution_count": 77,
     "metadata": {},
     "output_type": "execute_result"
    }
   ],
   "source": [
    "map_[2+3j]"
   ]
  },
  {
   "cell_type": "code",
   "execution_count": 78,
   "metadata": {},
   "outputs": [
    {
     "data": {
      "text/plain": [
       "1"
      ]
     },
     "execution_count": 78,
     "metadata": {},
     "output_type": "execute_result"
    }
   ],
   "source": [
    "data[2,3]"
   ]
  },
  {
   "cell_type": "code",
   "execution_count": 76,
   "metadata": {},
   "outputs": [
    {
     "data": {
      "text/plain": [
       "<matplotlib.image.AxesImage at 0x2ada16cd0>"
      ]
     },
     "execution_count": 76,
     "metadata": {},
     "output_type": "execute_result"
    },
    {
     "data": {
      "image/png": "[encoded data removed]",
      "text/plain": [
       "<Figure size 640x480 with 1 Axes>"
      ]
     },
     "metadata": {},
     "output_type": "display_data"
    }
   ],
   "source": [
    "plt.imshow(data)"
   ]
  },
  {
   "cell_type": "code",
   "execution_count": null,
   "metadata": {},
   "outputs": [],
   "source": []
  },
  {
   "cell_type": "code",
   "execution_count": 15,
   "metadata": {},
   "outputs": [],
   "source": [
    "def solve_a(data):\n",
    "    pass"
   ]
  },
  {
   "cell_type": "code",
   "execution_count": 2,
   "metadata": {},
   "outputs": [],
   "source": [
    "def solve_b(data):\n",
    "    pass"
   ]
  },
  {
   "cell_type": "code",
   "execution_count": null,
   "metadata": {},
   "outputs": [],
   "source": []
  }
 ],
 "metadata": {
  "kernelspec": {
   "display_name": "Python 3 (ipykernel)",
   "language": "python",
   "name": "python3"
  },
  "language_info": {
   "codemirror_mode": {
    "name": "ipython",
    "version": 3
   },
   "file_extension": ".py",
   "mimetype": "text/x-python",
   "name": "python",
   "nbconvert_exporter": "python",
   "pygments_lexer": "ipython3",
   "version": "3.11.4"
  }
 },
 "nbformat": 4,
 "nbformat_minor": 4
}
