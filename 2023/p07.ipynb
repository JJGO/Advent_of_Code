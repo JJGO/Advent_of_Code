{
 "cells": [
  {
   "cell_type": "code",
   "execution_count": 1,
   "metadata": {},
   "outputs": [],
   "source": [
    "from aocd.models import Puzzle\n",
    "\n",
    "puzzle = Puzzle(year=2023, day=7)\n",
    "\n",
    "def parses(input):\n",
    "    return [line.split() for line in input.strip().split('\\n')]\n",
    "\n",
    "# import re\n",
    "# def parses(input):\n",
    "#     return [int(re.findall('\\d', line)) for line in nput.strip().split('\\n')]\n",
    "\n",
    "data = parses(puzzle.input_data)"
   ]
  },
  {
   "cell_type": "code",
   "execution_count": 2,
   "metadata": {},
   "outputs": [],
   "source": [
    "sample = parses(\"\"\"32T3K 765\n",
    "T55J5 684\n",
    "KK677 28\n",
    "KTJJT 220\n",
    "QQQJA 483\"\"\")"
   ]
  },
  {
   "cell_type": "code",
   "execution_count": 3,
   "metadata": {},
   "outputs": [],
   "source": [
    "from collections import Counter\n",
    "\n",
    "def solve_a(data):\n",
    "    vals = []\n",
    "    for cards, bid in data:\n",
    "        for c, r in zip('AKQJT', 'edcba'):\n",
    "            cards = cards.replace(c,r)\n",
    "        f1, f2, *_ = [count for _, count in Counter(cards).most_common()] + [0]\n",
    "        val = (f1, f2, cards, bid)\n",
    "        vals.append(val)\n",
    "        \n",
    "    vals = sorted(vals)\n",
    "    return sum(i*int(bid) for i, (*_, bid) in enumerate(vals, start=1))"
   ]
  },
  {
   "cell_type": "code",
   "execution_count": 4,
   "metadata": {},
   "outputs": [
    {
     "data": {
      "text/plain": [
       "6440"
      ]
     },
     "execution_count": 4,
     "metadata": {},
     "output_type": "execute_result"
    }
   ],
   "source": [
    "solve_a(sample)"
   ]
  },
  {
   "cell_type": "code",
   "execution_count": 5,
   "metadata": {},
   "outputs": [
    {
     "data": {
      "text/plain": [
       "253954294"
      ]
     },
     "execution_count": 5,
     "metadata": {},
     "output_type": "execute_result"
    }
   ],
   "source": [
    "solve_a(data)"
   ]
  },
  {
   "cell_type": "code",
   "execution_count": 24,
   "metadata": {},
   "outputs": [],
   "source": [
    "def solve_b(data):\n",
    "    vals = []\n",
    "    for cards, bid in data:\n",
    "        for c, r in zip('AKQJT', 'edc1a'):\n",
    "            cards = cards.replace(c,r)\n",
    "        f1, f2, *_ = [val for _, val in Counter(cards.replace('1','')).most_common()] + [0,0]\n",
    "        f1 += cards.count('1') # always better to have more of a card\n",
    "        val = (f1, f2, cards, bid)\n",
    "        vals.append(val)\n",
    "        \n",
    "    vals = sorted(vals)\n",
    "    return sum(i*int(bid) for i, (*_, bid) in enumerate(vals, start=1))"
   ]
  },
  {
   "cell_type": "code",
   "execution_count": 26,
   "metadata": {},
   "outputs": [
    {
     "data": {
      "text/plain": [
       "0"
      ]
     },
     "execution_count": 26,
     "metadata": {},
     "output_type": "execute_result"
    }
   ],
   "source": [
    "solve_b(parses(\"\"\"J2222 0\n",
    "JJ234 0\n",
    "JJJ23 0\n",
    "JJJJ2 0\n",
    "JJJJJ 0\"\"\"))"
   ]
  },
  {
   "cell_type": "code",
   "execution_count": 27,
   "metadata": {},
   "outputs": [
    {
     "data": {
      "text/plain": [
       "5905"
      ]
     },
     "execution_count": 27,
     "metadata": {},
     "output_type": "execute_result"
    }
   ],
   "source": [
    "solve_b(sample)"
   ]
  },
  {
   "cell_type": "code",
   "execution_count": 28,
   "metadata": {},
   "outputs": [
    {
     "data": {
      "text/plain": [
       "254837398"
      ]
     },
     "execution_count": 28,
     "metadata": {},
     "output_type": "execute_result"
    }
   ],
   "source": [
    "solve_b(data)"
   ]
  },
  {
   "cell_type": "code",
   "execution_count": null,
   "metadata": {},
   "outputs": [],
   "source": []
  },
  {
   "cell_type": "code",
   "execution_count": null,
   "metadata": {},
   "outputs": [],
   "source": []
  },
  {
   "cell_type": "code",
   "execution_count": 55,
   "metadata": {},
   "outputs": [
    {
     "data": {
      "text/plain": [
       "[0, 0, 0, 1, 0, 0, 1, 0, 1, 2, 0, 0, 1, 0, 1, 2, 0, 1, 2, 3]"
      ]
     },
     "execution_count": 55,
     "metadata": {},
     "output_type": "execute_result"
    }
   ],
   "source": [
    "# Revised example to demonstrate interaction of yield and reduce\n",
    "\n",
    "from functools import reduce\n",
    "\n",
    "# Define a simple generator function\n",
    "def transform(input_gen, transformation_value):\n",
    "    # Perform a transformation on each item yielded by input_gen and yield the result\n",
    "    for item in input_gen:\n",
    "        for item2 in range(item+1):\n",
    "            yield item2 + transformation_value\n",
    "\n",
    "# Define a sequence of transformations\n",
    "transformations = [0,0,0]\n",
    "\n",
    "# Define a starting generator that yields a single value\n",
    "start_gen = (x for x in [3])\n",
    "\n",
    "# Use reduce to apply the generator function cumulatively\n",
    "result_gen = reduce(transform, transformations, start_gen)\n",
    "\n",
    "# Convert the final generator to a list for display\n",
    "result_list = list(result_gen)\n",
    "result_list\n",
    "\n"
   ]
  },
  {
   "cell_type": "code",
   "execution_count": null,
   "metadata": {},
   "outputs": [],
   "source": []
  },
  {
   "cell_type": "code",
   "execution_count": null,
   "metadata": {},
   "outputs": [],
   "source": []
  }
 ],
 "metadata": {
  "kernelspec": {
   "display_name": "Python 3 (ipykernel)",
   "language": "python",
   "name": "python3"
  },
  "language_info": {
   "codemirror_mode": {
    "name": "ipython",
    "version": 3
   },
   "file_extension": ".py",
   "mimetype": "text/x-python",
   "name": "python",
   "nbconvert_exporter": "python",
   "pygments_lexer": "ipython3",
   "version": "3.11.5"
  }
 },
 "nbformat": 4,
 "nbformat_minor": 4
}
