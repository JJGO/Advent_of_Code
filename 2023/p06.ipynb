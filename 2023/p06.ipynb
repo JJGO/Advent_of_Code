{
 "cells": [
  {
   "cell_type": "code",
   "execution_count": 37,
   "metadata": {},
   "outputs": [],
   "source": [
    "from aocd.models import Puzzle\n",
    "\n",
    "puzzle = Puzzle(year=2023, day=6)\n",
    "\n",
    "# def parses(input):\n",
    "#     return input.strip().split('\\n')\n",
    "\n",
    "import re\n",
    "def parses(input):\n",
    "    return [re.findall('\\d+', line) for line in input.strip().split('\\n')]\n",
    "\n",
    "data = parses(puzzle.input_data)"
   ]
  },
  {
   "cell_type": "code",
   "execution_count": 38,
   "metadata": {},
   "outputs": [],
   "source": [
    "sample = parses(\"\"\"Time:      7  15   30\n",
    "Distance:  9  40  200\"\"\")"
   ]
  },
  {
   "cell_type": "code",
   "execution_count": 132,
   "metadata": {},
   "outputs": [],
   "source": [
    "import math\n",
    "def solve(time, record):\n",
    "    # simulate\n",
    "    hold = np.arange(time+1)\n",
    "    dist = (time-hold) * hold\n",
    "    return (dist > record).sum()\n",
    "\n",
    "def solve(time, record):\n",
    "    # quadratic formula\n",
    "    #   x * (T-x) - R > 0\n",
    "    #   -x**2 + Tx - R-1 >= 0\n",
    "    #   x**2 - Tx + R+1 >= 0\n",
    "    a, b, c = 1, -time, record + 1\n",
    "    p, q = -b/(2*a), (b**2-4*a*c)**0.5/(2*a)\n",
    "    x1, x2 = math.floor(p+q), math.ceil(p-q)\n",
    "    return x1-x2+1"
   ]
  },
  {
   "cell_type": "code",
   "execution_count": 133,
   "metadata": {},
   "outputs": [],
   "source": [
    "def solve_a(data):\n",
    "    return math.prod((\n",
    "        solve(int(time), int(record))\n",
    "        for time, record in zip(*data)\n",
    "    ))\n",
    "\n",
    "def solve_b(data):\n",
    "    time, record = [''.join(vals) for vals in data]\n",
    "    return solve(int(time), int(record))"
   ]
  },
  {
   "cell_type": "code",
   "execution_count": 134,
   "metadata": {},
   "outputs": [
    {
     "data": {
      "text/plain": [
       "True"
      ]
     },
     "execution_count": 134,
     "metadata": {},
     "output_type": "execute_result"
    }
   ],
   "source": [
    "solve_a(sample) == 288"
   ]
  },
  {
   "cell_type": "code",
   "execution_count": 135,
   "metadata": {},
   "outputs": [
    {
     "data": {
      "text/plain": [
       "True"
      ]
     },
     "execution_count": 135,
     "metadata": {},
     "output_type": "execute_result"
    }
   ],
   "source": [
    "solve_a(data) == 281600"
   ]
  },
  {
   "cell_type": "code",
   "execution_count": 136,
   "metadata": {},
   "outputs": [
    {
     "data": {
      "text/plain": [
       "True"
      ]
     },
     "execution_count": 136,
     "metadata": {},
     "output_type": "execute_result"
    }
   ],
   "source": [
    "solve_b(sample) == 71503"
   ]
  },
  {
   "cell_type": "code",
   "execution_count": 137,
   "metadata": {},
   "outputs": [
    {
     "data": {
      "text/plain": [
       "True"
      ]
     },
     "execution_count": 137,
     "metadata": {},
     "output_type": "execute_result"
    }
   ],
   "source": [
    "solve_b(data) == 33875953"
   ]
  },
  {
   "cell_type": "code",
   "execution_count": null,
   "metadata": {},
   "outputs": [],
   "source": []
  },
  {
   "cell_type": "code",
   "execution_count": null,
   "metadata": {},
   "outputs": [],
   "source": []
  }
 ],
 "metadata": {
  "kernelspec": {
   "display_name": "Python 3",
   "language": "python",
   "name": "python3"
  },
  "language_info": {
   "codemirror_mode": {
    "name": "ipython",
    "version": 3
   },
   "file_extension": ".py",
   "mimetype": "text/x-python",
   "name": "python",
   "nbconvert_exporter": "python",
   "pygments_lexer": "ipython3",
   "version": "3.8.8"
  }
 },
 "nbformat": 4,
 "nbformat_minor": 4
}
