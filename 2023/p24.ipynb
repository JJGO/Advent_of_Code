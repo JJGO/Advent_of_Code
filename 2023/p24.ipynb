{
 "cells": [
  {
   "cell_type": "code",
   "execution_count": 35,
   "metadata": {},
   "outputs": [],
   "source": [
    "from aocd.models import Puzzle\n",
    "import re\n",
    "\n",
    "puzzle = Puzzle(year=2023, day=24)\n",
    "\n",
    "def parses(input):\n",
    "    def parse_line(line):\n",
    "        nums = [int(i) for i in re.findall('-?\\d+', line)]\n",
    "        return (nums[:3], nums[3:])\n",
    "    return [parse_line(line) for line in input.strip().split('\\n')]\n",
    "\n",
    "data = parses(puzzle.input_data)"
   ]
  },
  {
   "cell_type": "code",
   "execution_count": 36,
   "metadata": {},
   "outputs": [],
   "source": [
    "sample = parses(\"\"\"19, 13, 30 @ -2,  1, -2\n",
    "18, 19, 22 @ -1, -1, -2\n",
    "20, 25, 34 @ -2, -2, -4\n",
    "12, 31, 28 @ -1, -2, -1\n",
    "20, 19, 15 @  1, -5, -3\"\"\")"
   ]
  },
  {
   "cell_type": "code",
   "execution_count": 3,
   "metadata": {},
   "outputs": [],
   "source": [
    "import itertools"
   ]
  },
  {
   "cell_type": "code",
   "execution_count": 7,
   "metadata": {},
   "outputs": [],
   "source": [
    "def intersect(p1,v1,p2,v2):\n",
    "    ##### MATH\n",
    "    # x = ox + vx * t\n",
    "    # y = oy + vy * t\n",
    "\n",
    "    # (x-ox)/vx = (y-oy)/vy\n",
    "\n",
    "    # x/vx - y/vy = ox/vx - oy/vy\n",
    "    # x/vx2 - y/vy2 = ox/vx2 - oy/vy2\n",
    "    A = np.array([\n",
    "        [1/v1[0], -1/v1[1]],\n",
    "        [1/v2[0], -1/v2[1]],\n",
    "    ])\n",
    "    b = np.array([\n",
    "        [p1[0]/v1[0] - p1[1]/v1[1]],\n",
    "        [p2[0]/v2[0] - p2[1]/v2[1]],\n",
    "    ])\n",
    "    if np.linalg.det(A) == 0:\n",
    "        return None, None\n",
    "    return np.linalg.solve(A, b)"
   ]
  },
  {
   "cell_type": "code",
   "execution_count": 8,
   "metadata": {},
   "outputs": [],
   "source": [
    "# x = ox + vx * t\n",
    "# t = (x-ox)/vx"
   ]
  },
  {
   "cell_type": "code",
   "execution_count": 10,
   "metadata": {},
   "outputs": [],
   "source": [
    "def solve_a(data, low=200000000000000, high=400000000000000):\n",
    "\n",
    "    intersections = 0\n",
    "    for (p1, v1), (p2, v2) in itertools.combinations(data, 2):\n",
    "        x, y = intersect(p1,v1,p2,v2)\n",
    "        if x is None:\n",
    "            continue\n",
    "        t1 = (x-p1[0])/v1[0]\n",
    "        t2 = (x-p2[0])/v2[0]\n",
    "        if t1 >= 0 and t2 >= 0:\n",
    "            if low<=x<=high and low <= y <= high:\n",
    "                intersections += 1\n",
    "\n",
    "    return intersections"
   ]
  },
  {
   "cell_type": "code",
   "execution_count": 11,
   "metadata": {},
   "outputs": [
    {
     "data": {
      "text/plain": [
       "2"
      ]
     },
     "execution_count": 11,
     "metadata": {},
     "output_type": "execute_result"
    }
   ],
   "source": [
    "solve_a(sample, 7, 27)"
   ]
  },
  {
   "cell_type": "code",
   "execution_count": 12,
   "metadata": {},
   "outputs": [
    {
     "data": {
      "text/plain": [
       "16050"
      ]
     },
     "execution_count": 12,
     "metadata": {},
     "output_type": "execute_result"
    }
   ],
   "source": [
    "solve_a(data)"
   ]
  },
  {
   "cell_type": "code",
   "execution_count": null,
   "metadata": {},
   "outputs": [],
   "source": [
    "(ox - Ox) / (Vx - vx) =  t"
   ]
  },
  {
   "cell_type": "code",
   "execution_count": null,
   "metadata": {},
   "outputs": [],
   "source": [
    "(ox - Ox) (Vy - vy)  =  (oy - Oy) (Vx - vx) \n",
    "ox Vy - ox vy - Ox Vy + Ox vy = oy Vx"
   ]
  },
  {
   "cell_type": "code",
   "execution_count": null,
   "metadata": {},
   "outputs": [],
   "source": [
    "x = ox + vx * t\n",
    "y = oy + vy * t\n",
    "z = oz + vz * t\n",
    "\n",
    "x = Ox + Vx * t\n",
    "y = Oy + Vy * t\n",
    "z = Oz + Vz * t"
   ]
  },
  {
   "cell_type": "code",
   "execution_count": 103,
   "metadata": {},
   "outputs": [],
   "source": [
    "from z3 import Int, Solver"
   ]
  },
  {
   "cell_type": "code",
   "execution_count": 118,
   "metadata": {},
   "outputs": [],
   "source": [
    "def solve_b(data):\n",
    "    solver = Solver()\n",
    "    Px, Py, Pz = Int('Px'), Int('Py'), Int('Pz')\n",
    "    Vx, Vy, Vz = Int('Vx'), Int('Vy'), Int('Vz')\n",
    "    for i, ((px,py,pz), (vx,vy,vz)) in enumerate(data):\n",
    "        t = Int(f't{i}')\n",
    "        solver.add(Px+Vx*t==px+vx*t)\n",
    "        solver.add(Py+Vy*t==py+vy*t)\n",
    "        solver.add(Pz+Vz*t==pz+vz*t)\n",
    "        solver.add(t >= 0)\n",
    "    assert str(solver.check()) == 'sat'\n",
    "    m = solver.model()\n",
    "#     print(m)\n",
    "    val = (m[Px].as_long() + m[Py].as_long() + m[Pz].as_long())\n",
    "    return val"
   ]
  },
  {
   "cell_type": "code",
   "execution_count": 119,
   "metadata": {},
   "outputs": [
    {
     "data": {
      "text/plain": [
       "47"
      ]
     },
     "execution_count": 119,
     "metadata": {},
     "output_type": "execute_result"
    }
   ],
   "source": [
    "solve_b(sample)"
   ]
  },
  {
   "cell_type": "code",
   "execution_count": 120,
   "metadata": {},
   "outputs": [
    {
     "name": "stdout",
     "output_type": "stream",
     "text": [
      "CPU times: user 2.43 s, sys: 7.49 ms, total: 2.43 s\n",
      "Wall time: 2.46 s\n"
     ]
    },
    {
     "data": {
      "text/plain": [
       "669042940632377"
      ]
     },
     "execution_count": 120,
     "metadata": {},
     "output_type": "execute_result"
    }
   ],
   "source": [
    "%%time\n",
    "solve_b(data)"
   ]
  },
  {
   "cell_type": "code",
   "execution_count": 116,
   "metadata": {},
   "outputs": [
    {
     "name": "stdout",
     "output_type": "stream",
     "text": [
      "CPU times: user 179 ms, sys: 3.26 ms, total: 182 ms\n",
      "Wall time: 183 ms\n"
     ]
    },
    {
     "data": {
      "text/plain": [
       "669042940632377"
      ]
     },
     "execution_count": 116,
     "metadata": {},
     "output_type": "execute_result"
    }
   ],
   "source": [
    "%%time\n",
    "solve_b(data, Real)"
   ]
  },
  {
   "cell_type": "code",
   "execution_count": null,
   "metadata": {},
   "outputs": [],
   "source": []
  },
  {
   "cell_type": "code",
   "execution_count": null,
   "metadata": {},
   "outputs": [],
   "source": [
    "P + V * t_i = P_i + V_i * t_i\n",
    "\n",
    "(P-P_i) - t_i * (V-V_i) = 0\n",
    "\n",
    "P-P_i (parallel-to) V-V_i\n",
    "\n",
    "(P-P_i) X (V-V_i)\n",
    "\n",
    "dpx, dpy, dpz <- P - P_i\n",
    "dvx, dvy, dvz <- V - V_i\n",
    "\n",
    "| i j k |\n",
    "| dpx dpy dpz |\n",
    "| dvx dvy dvz |\n",
    "\n"
   ]
  },
  {
   "cell_type": "code",
   "execution_count": null,
   "metadata": {},
   "outputs": [],
   "source": [
    "(P-P_i) x (V-V_i) = (P-P_j) x (V-V_j)\n",
    "\n",
    "(P x V) - (P x V_i) - (P_i x V) + (P_i x V_i) = (P x V) - (P x V_j) - (P_j x V) + (P_j x V_j)\n",
    "\n",
    "- (P x V_i) - (P_i x V) + (P_i x V_i) = - (P x V_j) - (P_j x V) + (P_j x V_j)"
   ]
  },
  {
   "cell_type": "code",
   "execution_count": null,
   "metadata": {},
   "outputs": [],
   "source": []
  },
  {
   "cell_type": "code",
   "execution_count": null,
   "metadata": {},
   "outputs": [],
   "source": []
  },
  {
   "cell_type": "code",
   "execution_count": null,
   "metadata": {},
   "outputs": [],
   "source": []
  },
  {
   "cell_type": "code",
   "execution_count": null,
   "metadata": {},
   "outputs": [],
   "source": []
  },
  {
   "cell_type": "code",
   "execution_count": 91,
   "metadata": {},
   "outputs": [
    {
     "ename": "SyntaxError",
     "evalue": "invalid syntax (2051995775.py, line 1)",
     "output_type": "error",
     "traceback": [
      "\u001b[0;36m  Cell \u001b[0;32mIn[91], line 1\u001b[0;36m\u001b[0m\n\u001b[0;31m    P-P_i (parallel-to) V-V_i\u001b[0m\n\u001b[0m                        ^\u001b[0m\n\u001b[0;31mSyntaxError\u001b[0m\u001b[0;31m:\u001b[0m invalid syntax\n"
     ]
    }
   ],
   "source": []
  },
  {
   "cell_type": "markdown",
   "metadata": {},
   "source": [
    "# No parallel lines in input"
   ]
  },
  {
   "cell_type": "code",
   "execution_count": null,
   "metadata": {},
   "outputs": [],
   "source": []
  },
  {
   "cell_type": "code",
   "execution_count": 61,
   "metadata": {},
   "outputs": [],
   "source": [
    "import math"
   ]
  },
  {
   "cell_type": "code",
   "execution_count": 87,
   "metadata": {},
   "outputs": [],
   "source": [
    "from collections import defaultdict\n",
    "dups = defaultdict(list)\n",
    "for pos, vel in data:\n",
    "    vx, vy, vz = vel\n",
    "    d = math.gcd(vx,vy,vz) * vx // abs(vx)\n",
    "    v = (vx//d, vy//d, vz//d)\n",
    "    dups[v].append(pos)"
   ]
  },
  {
   "cell_type": "code",
   "execution_count": 88,
   "metadata": {},
   "outputs": [],
   "source": [
    "for vel, pos_list in dups.items():\n",
    "    if len(pos_list) > 1:\n",
    "        print(vel, pos_list)\n",
    "        "
   ]
  },
  {
   "cell_type": "code",
   "execution_count": 89,
   "metadata": {},
   "outputs": [],
   "source": [
    "from toolz import valmap\n",
    "from collections import Counter"
   ]
  },
  {
   "cell_type": "code",
   "execution_count": 90,
   "metadata": {},
   "outputs": [
    {
     "data": {
      "text/plain": [
       "Counter({1: 300})"
      ]
     },
     "execution_count": 90,
     "metadata": {},
     "output_type": "execute_result"
    }
   ],
   "source": [
    "Counter(dict(valmap(len, dups)).values())"
   ]
  },
  {
   "cell_type": "code",
   "execution_count": null,
   "metadata": {},
   "outputs": [],
   "source": []
  },
  {
   "cell_type": "code",
   "execution_count": null,
   "metadata": {},
   "outputs": [],
   "source": [
    "# x = ox + vx * t\n",
    "# x2 = ox2 + vx2 * t\n",
    "# (ox - ox2)/(vx2 - vx) = t"
   ]
  },
  {
   "cell_type": "code",
   "execution_count": null,
   "metadata": {},
   "outputs": [],
   "source": [
    "from fractions import Fraction\n",
    "\n",
    "def intersect(p1,v1,p2,v2):\n",
    "    if v2-v1 == 0:\n",
    "        return None\n",
    "    t = Fraction(p1-p2, -v1+v2)\n",
    "    if t > 0:\n",
    "        return t"
   ]
  },
  {
   "cell_type": "code",
   "execution_count": 27,
   "metadata": {},
   "outputs": [
    {
     "name": "stdout",
     "output_type": "stream",
     "text": [
      "[19, 13, 30] [18, 19, 22] 1 3\n",
      "17 16\n",
      "[19, 13, 30] [20, 25, 34] None 4\n",
      "[19, 13, 30] [12, 31, 28] 7 6\n",
      "5 19\n",
      "[19, 13, 30] [20, 19, 15] None 1\n",
      "[18, 19, 22] [20, 25, 34] 2 6\n",
      "16 13\n",
      "[18, 19, 22] [12, 31, 28] None 12\n",
      "[18, 19, 22] [20, 19, 15] None None\n",
      "[20, 25, 34] [12, 31, 28] 8 None\n",
      "[20, 25, 34] [20, 19, 15] None None\n",
      "[12, 31, 28] [20, 19, 15] None None\n"
     ]
    },
    {
     "data": {
      "text/plain": [
       "2"
      ]
     },
     "execution_count": 27,
     "metadata": {},
     "output_type": "execute_result"
    }
   ],
   "source": [
    "data = sample\n",
    "low, high = 7, 27\n",
    "\n",
    "collisions = 0\n",
    "\n",
    "for (p1, v1), (p2, v2) in itertools.combinations(data, 2):\n",
    "    tx = intersect(p1[0], v1[0], p2[0], v2[0])\n",
    "    ty = intersect(p1[1], v1[1], p2[1], v2[1])\n",
    "    print(p1, p2, tx, ty)\n",
    "    if tx is not None and ty is not None: # and tx == ty:\n",
    "        x = p1[0] + v1[0] * tx\n",
    "        y = p1[1] + v1[1] * ty\n",
    "        if low <= x <= high and low <= y <= high:\n",
    "            collisions += 1\n",
    "            \n",
    "collisions"
   ]
  },
  {
   "cell_type": "code",
   "execution_count": null,
   "metadata": {},
   "outputs": [],
   "source": []
  },
  {
   "cell_type": "code",
   "execution_count": 8,
   "metadata": {},
   "outputs": [
    {
     "data": {
      "text/plain": [
       "[([19, 13, 30], [-2, 1, -2]),\n",
       " ([18, 19, 22], [-1, -1, -2]),\n",
       " ([20, 25, 34], [-2, -2, -4]),\n",
       " ([12, 31, 28], [-1, -2, -1]),\n",
       " ([20, 19, 15], [1, -5, -3])]"
      ]
     },
     "execution_count": 8,
     "metadata": {},
     "output_type": "execute_result"
    }
   ],
   "source": []
  },
  {
   "cell_type": "code",
   "execution_count": 15,
   "metadata": {},
   "outputs": [],
   "source": [
    "def solve_a(data):\n",
    "    pass"
   ]
  },
  {
   "cell_type": "code",
   "execution_count": 2,
   "metadata": {},
   "outputs": [],
   "source": [
    "def solve_b(data):\n",
    "    pass"
   ]
  },
  {
   "cell_type": "code",
   "execution_count": null,
   "metadata": {},
   "outputs": [],
   "source": []
  }
 ],
 "metadata": {
  "kernelspec": {
   "display_name": "Python 3 (ipykernel)",
   "language": "python",
   "name": "python3"
  },
  "language_info": {
   "codemirror_mode": {
    "name": "ipython",
    "version": 3
   },
   "file_extension": ".py",
   "mimetype": "text/x-python",
   "name": "python",
   "nbconvert_exporter": "python",
   "pygments_lexer": "ipython3",
   "version": "3.11.4"
  }
 },
 "nbformat": 4,
 "nbformat_minor": 4
}
