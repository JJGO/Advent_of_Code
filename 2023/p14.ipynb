{
 "cells": [
  {
   "cell_type": "code",
   "execution_count": 1,
   "metadata": {},
   "outputs": [],
   "source": [
    "from aocd.models import Puzzle\n",
    "\n",
    "puzzle = Puzzle(year=2023, day=14)\n",
    "\n",
    "def parses(input):\n",
    "    return [\n",
    "        ['.#O'.index(val) for val in line]\n",
    "        for line in input.strip().split('\\n')\n",
    "    ]\n",
    "\n",
    "# import re\n",
    "# def parses(input):\n",
    "#     return [int(re.findall('\\d', line)) for line in nput.strip().split('\\n')]\n",
    "\n",
    "data = parses(puzzle.input_data)"
   ]
  },
  {
   "cell_type": "code",
   "execution_count": 2,
   "metadata": {},
   "outputs": [],
   "source": [
    "sample = parses(\"\"\"O....#....\n",
    "O.OO#....#\n",
    ".....##...\n",
    "OO.#O....O\n",
    ".O.....O#.\n",
    "O.#..O.#.#\n",
    "..O..#O..O\n",
    ".......O..\n",
    "#....###..\n",
    "#OO..#....\"\"\")"
   ]
  },
  {
   "cell_type": "code",
   "execution_count": 3,
   "metadata": {},
   "outputs": [],
   "source": [
    "EMPTY, WALL, ROCK = 0, 1, 2"
   ]
  },
  {
   "cell_type": "code",
   "execution_count": 4,
   "metadata": {},
   "outputs": [],
   "source": [
    "# A = [\n",
    "#     [0, 1],\n",
    "#     [2, 3]\n",
    "# ]\n",
    "# # transpose\n",
    "# [\n",
    "#     [0, 2],\n",
    "#     [1, 3],\n",
    "# ]\n",
    "# # symmetry\n",
    "# [ \n",
    "#     [1, 3],\n",
    "#     [0, 2]\n",
    "# ]"
   ]
  },
  {
   "cell_type": "code",
   "execution_count": 14,
   "metadata": {},
   "outputs": [],
   "source": [
    "def as_coords(data):\n",
    "    N = len(data)\n",
    "    coords = [[] for _ in range(N)]\n",
    "    for i, row in enumerate(data):\n",
    "        for j, val in enumerate(row):\n",
    "            if val in (ROCK, WALL):\n",
    "                coords[N-1-j].append((i, val))\n",
    "    return coords"
   ]
  },
  {
   "cell_type": "code",
   "execution_count": 15,
   "metadata": {},
   "outputs": [],
   "source": [
    "def visualize(coords):\n",
    "    N = len(coords)\n",
    "    viz = np.zeros((N,N))\n",
    "    for i, row in enumerate(coords):\n",
    "        for j, val in row:\n",
    "            viz[i,j] = val\n",
    "    plt.imshow(viz)"
   ]
  },
  {
   "cell_type": "code",
   "execution_count": 16,
   "metadata": {},
   "outputs": [],
   "source": [
    "def rotate(coords):\n",
    "    N = len(coords)\n",
    "    # i,j -> j, N-1-i\n",
    "    new_coords = [[] for _ in range(N)]\n",
    "    for i, row in enumerate(tilt(coords)):\n",
    "        for j, val in row:\n",
    "            new_coords[j].append((N-1-i, val))\n",
    "    for j in range(N):\n",
    "        new_coords[j] = sorted(new_coords[j])\n",
    "    return new_coords"
   ]
  },
  {
   "cell_type": "code",
   "execution_count": 17,
   "metadata": {},
   "outputs": [],
   "source": [
    "def tilt(coords):\n",
    "    new_coords = []\n",
    "    for row in coords:\n",
    "        last = -1\n",
    "        new_coords.append([])\n",
    "        for k, val in row:\n",
    "            if val == WALL:\n",
    "                last = k\n",
    "            if val == ROCK:\n",
    "                last += 1\n",
    "            new_coords[-1].append((last, val))\n",
    "    return new_coords"
   ]
  },
  {
   "cell_type": "code",
   "execution_count": 18,
   "metadata": {},
   "outputs": [],
   "source": [
    "def coords_repr(coords):\n",
    "    return tuple([(i,j) \n",
    "                  for i, row in enumerate(coords) \n",
    "                  for j, val in row \n",
    "                  if val == ROCK])"
   ]
  },
  {
   "cell_type": "code",
   "execution_count": 19,
   "metadata": {},
   "outputs": [],
   "source": [
    "def load(coords):\n",
    "    total_load = 0\n",
    "    N = len(coords)\n",
    "    for i, row in enumerate(coords):\n",
    "        for j, val in row:\n",
    "            if val == ROCK:\n",
    "                total_load += N-j\n",
    "    return total_load"
   ]
  },
  {
   "cell_type": "code",
   "execution_count": 20,
   "metadata": {},
   "outputs": [],
   "source": [
    "def solve_a(data):\n",
    "    coords = as_coords(data)\n",
    "    return load(tilt(coords))"
   ]
  },
  {
   "cell_type": "code",
   "execution_count": 21,
   "metadata": {},
   "outputs": [
    {
     "data": {
      "text/plain": [
       "True"
      ]
     },
     "execution_count": 21,
     "metadata": {},
     "output_type": "execute_result"
    }
   ],
   "source": [
    "solve_a(sample) == 136"
   ]
  },
  {
   "cell_type": "code",
   "execution_count": 22,
   "metadata": {},
   "outputs": [
    {
     "data": {
      "text/plain": [
       "True"
      ]
     },
     "execution_count": 22,
     "metadata": {},
     "output_type": "execute_result"
    }
   ],
   "source": [
    "solve_a(data) == 103333"
   ]
  },
  {
   "cell_type": "code",
   "execution_count": 41,
   "metadata": {},
   "outputs": [],
   "source": [
    "lu = parses((pathlib.Path.home() / 'Downloads/aoc.txt').open('r').read())"
   ]
  },
  {
   "cell_type": "code",
   "execution_count": 55,
   "metadata": {},
   "outputs": [],
   "source": [
    "import itertools\n",
    "def solve_b(data):\n",
    "    coords = as_coords(data)\n",
    "    seen = {}\n",
    "    loads = [load(coords)]\n",
    "    C = 0\n",
    "    for i in itertools.count(1):\n",
    "        for _ in range(4):\n",
    "            coords = rotate(tilt(coords))\n",
    "        state = coords_repr(coords)\n",
    "        loads.append(load(coords))\n",
    "        if state not in seen:\n",
    "            seen[state] = i\n",
    "        else:\n",
    "            j = seen[state]\n",
    "            period = i-j\n",
    "            offset = j-1\n",
    "            k = (1000000000-offset) % period + offset\n",
    "            print(i,j,k,loads[k])\n",
    "            print(loads[1:])\n",
    "            return loads[k]"
   ]
  },
  {
   "cell_type": "code",
   "execution_count": 45,
   "metadata": {},
   "outputs": [],
   "source": [
    "# visualize(as_coords(data))\n",
    "# plt.show()\n",
    "# visualize(tilt(as_coords(data)))"
   ]
  },
  {
   "cell_type": "code",
   "execution_count": 56,
   "metadata": {},
   "outputs": [],
   "source": [
    "ls = [None, 99711, 99670, 99745, 99902, 100161, 100344, 100567, 100779, 100993, 101146, 101320, 101488, 101635, 101736, 101857, 102018, 102193, 102360, 102582, 102753, 102939, 103092, 103287, 103431, 103592, 103742, 103899, 104015, 104149, 104265, 104372, 104454, 104513, 104590, 104671, 104706, 104767, 104827, 104918, 104963, 105034, 105106, 105183, 105237, 105319, 105437, 105555, 105661, 105758, 105849, 105960, 106063, 106161, 106212, 106255, 106307, 106369, 106417, 106510, 106569, 106599, 106656, 106716, 106754, 106811, 106856, 106915, 106942, 106994, 107038, 107093, 107133, 107187, 107243, 107325, 107388, 107451, 107513, 107558, 107556, 107563, 107571, 107562, 107563, 107579, 107613, 107647, 107667, 107695, 107727, 107768, 107784, 107797, 107803, 107825, 107864, 107913, 107963, 108006, 108044, 108082, 108118, 108175, 108228, 108279, 108322, 108369, 108400, 108430, 108444, 108465, 108481, 108491, 108481, 108472, 108455, 108440, 108424, 108410, 108404, 108425, 108440, 108472, 108481, 108483, 108467, 108460, 108435, 108429, 108405, 108409, 108420, 108445, 108467, 108486, 108478, 108472]"
   ]
  },
  {
   "cell_type": "code",
   "execution_count": 57,
   "metadata": {},
   "outputs": [
    {
     "data": {
      "text/plain": [
       "108404"
      ]
     },
     "execution_count": 57,
     "metadata": {},
     "output_type": "execute_result"
    }
   ],
   "source": [
    "ls[120]"
   ]
  },
  {
   "cell_type": "code",
   "execution_count": 58,
   "metadata": {},
   "outputs": [
    {
     "data": {
      "text/plain": [
       "[108410, 108404, 108425]"
      ]
     },
     "execution_count": 58,
     "metadata": {},
     "output_type": "execute_result"
    }
   ],
   "source": [
    "ls[120-1:120+2]"
   ]
  },
  {
   "cell_type": "code",
   "execution_count": null,
   "metadata": {},
   "outputs": [],
   "source": []
  },
  {
   "cell_type": "code",
   "execution_count": 48,
   "metadata": {},
   "outputs": [
    {
     "name": "stdout",
     "output_type": "stream",
     "text": [
      "137 115 120 108404\n",
      "[99711, 99670, 99745, 99902, 100161, 100344, 100567, 100779, 100993, 101146, 101320, 101488, 101635, 101736, 101857, 102018, 102193, 102360, 102582, 102753, 102939, 103092, 103287, 103431, 103592, 103742, 103899, 104015, 104149, 104265, 104372, 104454, 104513, 104590, 104671, 104706, 104767, 104827, 104918, 104963, 105034, 105106, 105183, 105237, 105319, 105437, 105555, 105661, 105758, 105849, 105960, 106063, 106161, 106212, 106255, 106307, 106369, 106417, 106510, 106569, 106599, 106656, 106716, 106754, 106811, 106856, 106915, 106942, 106994, 107038, 107093, 107133, 107187, 107243, 107325, 107388, 107451, 107513, 107558, 107556, 107563, 107571, 107562, 107563, 107579, 107613, 107647, 107667, 107695, 107727, 107768, 107784, 107797, 107803, 107825, 107864, 107913, 107963, 108006, 108044, 108082, 108118, 108175, 108228, 108279, 108322, 108369, 108400, 108430, 108444, 108465, 108481, 108491, 108481, 108472, 108455, 108440, 108424, 108410, 108404, 108425, 108440, 108472, 108481, 108483, 108467, 108460, 108435, 108429, 108405, 108409, 108420, 108445, 108467, 108486, 108478, 108472]\n"
     ]
    },
    {
     "data": {
      "text/plain": [
       "108404"
      ]
     },
     "execution_count": 48,
     "metadata": {},
     "output_type": "execute_result"
    }
   ],
   "source": [
    "L = solve_b(lu) "
   ]
  },
  {
   "cell_type": "code",
   "execution_count": 49,
   "metadata": {},
   "outputs": [
    {
     "data": {
      "text/plain": [
       "22"
      ]
     },
     "execution_count": 49,
     "metadata": {},
     "output_type": "execute_result"
    }
   ],
   "source": [
    "137-115"
   ]
  },
  {
   "cell_type": "code",
   "execution_count": null,
   "metadata": {},
   "outputs": [],
   "source": []
  },
  {
   "cell_type": "code",
   "execution_count": 34,
   "metadata": {},
   "outputs": [
    {
     "name": "stdout",
     "output_type": "stream",
     "text": [
      "10 3 6 64\n",
      "[87, 69, 69, 69, 65, 64, 65, 63, 68, 69]\n"
     ]
    },
    {
     "data": {
      "text/plain": [
       "64"
      ]
     },
     "execution_count": 34,
     "metadata": {},
     "output_type": "execute_result"
    }
   ],
   "source": [
    "solve_b(sample) "
   ]
  },
  {
   "cell_type": "code",
   "execution_count": 35,
   "metadata": {},
   "outputs": [],
   "source": [
    "# 97241"
   ]
  },
  {
   "cell_type": "code",
   "execution_count": 36,
   "metadata": {},
   "outputs": [
    {
     "name": "stdout",
     "output_type": "stream",
     "text": [
      "135 99 100 97241\n",
      "[95247, 95103, 95024, 94941, 94783, 94724, 94677, 94560, 94518, 94479, 94449, 94461, 94463, 94531, 94601, 94662, 94685, 94724, 94758, 94784, 94836, 94871, 94936, 95014, 95063, 95099, 95137, 95160, 95177, 95252, 95299, 95340, 95404, 95454, 95468, 95525, 95566, 95604, 95660, 95682, 95702, 95725, 95733, 95745, 95779, 95796, 95833, 95881, 95922, 95954, 95993, 96021, 96045, 96052, 96067, 96078, 96118, 96136, 96154, 96195, 96216, 96213, 96234, 96228, 96225, 96225, 96231, 96237, 96279, 96296, 96323, 96355, 96391, 96418, 96474, 96514, 96552, 96590, 96609, 96627, 96663, 96671, 96694, 96748, 96800, 96842, 96918, 96974, 97009, 97039, 97068, 97095, 97140, 97164, 97200, 97249, 97259, 97250, 97250, 97241, 97230, 97185, 97146, 97112, 97074, 97023, 96983, 96955, 96928, 96881, 96851, 96834, 96816, 96785, 96771, 96763, 96764, 96758, 96770, 96786, 96815, 96835, 96856, 96880, 96909, 96927, 96962, 96994, 97044, 97080, 97131, 97189, 97228, 97242, 97250]\n"
     ]
    },
    {
     "data": {
      "text/plain": [
       "97241"
      ]
     },
     "execution_count": 36,
     "metadata": {},
     "output_type": "execute_result"
    }
   ],
   "source": [
    "solve_b(data)"
   ]
  },
  {
   "cell_type": "code",
   "execution_count": null,
   "metadata": {},
   "outputs": [],
   "source": []
  },
  {
   "cell_type": "code",
   "execution_count": null,
   "metadata": {},
   "outputs": [],
   "source": []
  },
  {
   "cell_type": "code",
   "execution_count": 306,
   "metadata": {},
   "outputs": [
    {
     "name": "stdout",
     "output_type": "stream",
     "text": [
      "10 3 6 64\n",
      "[87, 69, 69, 69, 65, 64, 65, 63, 68, 69]\n"
     ]
    },
    {
     "data": {
      "text/plain": [
       "64"
      ]
     },
     "execution_count": 306,
     "metadata": {},
     "output_type": "execute_result"
    }
   ],
   "source": [
    "solve_b(sample)"
   ]
  },
  {
   "cell_type": "code",
   "execution_count": null,
   "metadata": {},
   "outputs": [],
   "source": []
  },
  {
   "cell_type": "code",
   "execution_count": null,
   "metadata": {},
   "outputs": [],
   "source": []
  },
  {
   "cell_type": "code",
   "execution_count": 113,
   "metadata": {},
   "outputs": [
    {
     "data": {
      "text/plain": [
       "4263339194115190544"
      ]
     },
     "execution_count": 113,
     "metadata": {},
     "output_type": "execute_result"
    }
   ],
   "source": [
    "\n",
    "hashcoords(coords)"
   ]
  },
  {
   "cell_type": "code",
   "execution_count": null,
   "metadata": {},
   "outputs": [],
   "source": []
  },
  {
   "cell_type": "code",
   "execution_count": 67,
   "metadata": {},
   "outputs": [
    {
     "data": {
      "image/png": "[encoded data removed]",
      "text/plain": [
       "<Figure size 640x480 with 1 Axes>"
      ]
     },
     "metadata": {},
     "output_type": "display_data"
    }
   ],
   "source": [
    "visualize(coords, N, M)"
   ]
  },
  {
   "cell_type": "code",
   "execution_count": 68,
   "metadata": {},
   "outputs": [
    {
     "data": {
      "image/png": "[encoded data removed]",
      "text/plain": [
       "<Figure size 640x480 with 1 Axes>"
      ]
     },
     "metadata": {},
     "output_type": "display_data"
    }
   ],
   "source": [
    "visualize(tilt(coords), N, M)"
   ]
  },
  {
   "cell_type": "code",
   "execution_count": null,
   "metadata": {},
   "outputs": [],
   "source": []
  },
  {
   "cell_type": "code",
   "execution_count": null,
   "metadata": {},
   "outputs": [],
   "source": [
    "new_coords = [[] for ]"
   ]
  },
  {
   "cell_type": "code",
   "execution_count": null,
   "metadata": {},
   "outputs": [],
   "source": []
  },
  {
   "cell_type": "code",
   "execution_count": 68,
   "metadata": {},
   "outputs": [],
   "source": [
    "from collections import deque\n",
    "def move(row):\n",
    "    empty = deque()\n",
    "    for i, val in enumerate(row):\n",
    "        if val == EMPTY:\n",
    "            empty.append(i)\n",
    "        if val == WALL:\n",
    "            empty.clear()\n",
    "        if val == ROCK:\n",
    "            if empty:\n",
    "                j = empty.popleft()\n",
    "                row[j] = ROCK\n",
    "                row[i] = EMPTY\n",
    "                empty.append(i)\n",
    "    return row"
   ]
  },
  {
   "cell_type": "code",
   "execution_count": 69,
   "metadata": {},
   "outputs": [],
   "source": [
    "def solve_a(data):\n",
    "    \n",
    "    data = np.array(data, dtype=np.uint8)\n",
    "    # plt.imshow(data)\n",
    "    moved =np.apply_along_axis(move, 0, data)\n",
    "    # plt.imshow(moved)\n",
    "\n",
    "    N = len(data)\n",
    "    load = ((moved==ROCK) * np.arange(N,0,-1)[None].T).sum()\n",
    "    return load"
   ]
  },
  {
   "cell_type": "code",
   "execution_count": 70,
   "metadata": {},
   "outputs": [
    {
     "data": {
      "text/plain": [
       "136"
      ]
     },
     "execution_count": 70,
     "metadata": {},
     "output_type": "execute_result"
    }
   ],
   "source": [
    "solve_a(sample)"
   ]
  },
  {
   "cell_type": "code",
   "execution_count": 71,
   "metadata": {},
   "outputs": [
    {
     "data": {
      "text/plain": [
       "103333"
      ]
     },
     "execution_count": 71,
     "metadata": {},
     "output_type": "execute_result"
    }
   ],
   "source": [
    "solve_a(data)"
   ]
  },
  {
   "cell_type": "code",
   "execution_count": 73,
   "metadata": {},
   "outputs": [
    {
     "data": {
      "text/plain": [
       "array([[0, 0],\n",
       "       [0, 1]])"
      ]
     },
     "execution_count": 73,
     "metadata": {},
     "output_type": "execute_result"
    }
   ],
   "source": [
    "np.rot90([[0,1],[0,0]],-1)"
   ]
  },
  {
   "cell_type": "code",
   "execution_count": 91,
   "metadata": {},
   "outputs": [
    {
     "data": {
      "text/plain": [
       "100"
      ]
     },
     "execution_count": 91,
     "metadata": {},
     "output_type": "execute_result"
    }
   ],
   "source": []
  },
  {
   "cell_type": "code",
   "execution_count": 99,
   "metadata": {},
   "outputs": [],
   "source": [
    "import itertools\n",
    "from collections import OrderedDict"
   ]
  },
  {
   "cell_type": "code",
   "execution_count": 100,
   "metadata": {},
   "outputs": [],
   "source": [
    "d = OrderedDict({'a': 1})"
   ]
  },
  {
   "cell_type": "code",
   "execution_count": 101,
   "metadata": {},
   "outputs": [
    {
     "data": {
      "text/plain": [
       "OrderedDict([('a', 1)])"
      ]
     },
     "execution_count": 101,
     "metadata": {},
     "output_type": "execute_result"
    }
   ],
   "source": [
    "d"
   ]
  },
  {
   "cell_type": "code",
   "execution_count": 121,
   "metadata": {},
   "outputs": [],
   "source": [
    "from hashlib import md5"
   ]
  },
  {
   "cell_type": "code",
   "execution_count": 122,
   "metadata": {},
   "outputs": [],
   "source": [
    "x = np.array(sample, dtype=np.uint8)"
   ]
  },
  {
   "cell_type": "code",
   "execution_count": 128,
   "metadata": {},
   "outputs": [
    {
     "data": {
      "text/plain": [
       "'89a57f2c391beadf29a413893b68f5f5'"
      ]
     },
     "execution_count": 128,
     "metadata": {},
     "output_type": "execute_result"
    }
   ],
   "source": []
  },
  {
   "cell_type": "code",
   "execution_count": 148,
   "metadata": {},
   "outputs": [],
   "source": [
    "from collections import Counter"
   ]
  },
  {
   "cell_type": "code",
   "execution_count": 184,
   "metadata": {},
   "outputs": [],
   "source": [
    "def solve_b(data):\n",
    "    steps = 1000000000\n",
    "    data = np.array(data, dtype=np.uint8)\n",
    "    positions = {}\n",
    "    loads = {}\n",
    "    N = len(data)\n",
    "    first = None\n",
    "    C = Counter()\n",
    "    for i in itertools.count(1):\n",
    "        for _ in range(4):\n",
    "            moved = np.apply_along_axis(move, 0, data)\n",
    "            data = np.rot90(moved, -1)\n",
    "#         bs = data.tobytes()\n",
    "        bs = md5(data.tobytes()).hexdigest()\n",
    "#         C[bs] += 1\n",
    "#         print(i, bs)\n",
    "#         if i in (2,9):\n",
    "#             plt.imshow(data)\n",
    "#             plt.show()\n",
    "        if bs not in positions:\n",
    "            positions[bs] = i\n",
    "            loads[i] = ((data==ROCK) * np.arange(N,0,-1)[None].T).sum()\n",
    "#         if i == 14:\n",
    "        else:\n",
    "#             print(C.most_common())\n",
    "#             plt.plot([loads[t] for t in range(i)])\n",
    "#             return\n",
    "            j = positions[bs]\n",
    "            k = (steps - (j-1)) % (i-j) + (j - 1)\n",
    "            return loads[k]"
   ]
  },
  {
   "cell_type": "code",
   "execution_count": 185,
   "metadata": {},
   "outputs": [
    {
     "data": {
      "text/plain": [
       "64"
      ]
     },
     "execution_count": 185,
     "metadata": {},
     "output_type": "execute_result"
    }
   ],
   "source": [
    "solve_b(sample)"
   ]
  },
  {
   "cell_type": "code",
   "execution_count": 186,
   "metadata": {},
   "outputs": [
    {
     "data": {
      "text/plain": [
       "97241"
      ]
     },
     "execution_count": 186,
     "metadata": {},
     "output_type": "execute_result"
    }
   ],
   "source": [
    "solve_b(data)"
   ]
  },
  {
   "cell_type": "code",
   "execution_count": null,
   "metadata": {},
   "outputs": [],
   "source": []
  },
  {
   "cell_type": "code",
   "execution_count": 141,
   "metadata": {},
   "outputs": [
    {
     "name": "stdout",
     "output_type": "stream",
     "text": [
      "0 c2fbce31b526340df988233cf905e0ce\n",
      "1 42babaec086561c5185d39da4e0ae41e\n",
      "2 d267469f737ee9d726c5dcc154fa8c0e\n"
     ]
    },
    {
     "data": {
      "image/png": "[encoded data removed]",
      "text/plain": [
       "<Figure size 640x480 with 1 Axes>"
      ]
     },
     "metadata": {},
     "output_type": "display_data"
    },
    {
     "name": "stdout",
     "output_type": "stream",
     "text": [
      "3 5b73e031d81107d055b1fe60eed6cf3a\n",
      "4 a849a27d5d52c81fe044a54e91fd3d31\n",
      "5 5c6dd5a6b25971fc33c4b05940ccc941\n",
      "6 ba4b1244b146faa70e30e205b400217f\n",
      "7 93aa85c396f4d1f96711792880cdd203\n",
      "8 e350bfce716079a21060187f3c9168f0\n",
      "9 43c69cf775386ac13fa3f70918315259\n"
     ]
    },
    {
     "data": {
      "image/png": "[encoded data removed]",
      "text/plain": [
       "<Figure size 640x480 with 1 Axes>"
      ]
     },
     "metadata": {},
     "output_type": "display_data"
    },
    {
     "name": "stdout",
     "output_type": "stream",
     "text": [
      "10 48c56a0f5409eee7cfa9376a79a72a49\n",
      "11 fd48d81aae135318dba3961cd93ca8b4\n",
      "12 563c9e9a6943dff50757581f80cf2f62\n",
      "13 b38970a5d4056d8f908aa7ae38ac8736\n",
      "14 bd76b8802d4016562758b352754b1a2a\n",
      "15 5a56b041cf839c9afcfac0f9921e769a\n",
      "16 fc650d5418bba13710adfed7d36c0936\n",
      "17 53078ae197e83a83fc910e4519c4cb14\n",
      "18 a7e175f1816fae0482b0647e6c03f86c\n",
      "19 09a857d04ab0534363ae8914f0d48340\n",
      "20 4150b1df4de7498f9b8a2d4c548c5eca\n",
      "21 662cd6f62ef9b184ee87e824b9df3e05\n",
      "22 0de7fb861199f5feaa79c8df200596c5\n",
      "23 49290d66f67336bcaa8af94b615884c2\n",
      "24 f9f4e7a1d8fd80467314181f2f9cf75d\n",
      "25 d7404e3afed5eb4de156b285ccd5c70d\n",
      "26 581917994fa9aa1a25752933afa93a80\n",
      "27 2e799f39b23d1dae049bb4f034dd6624\n",
      "28 8dfcf1a517086db9156549adf892677c\n",
      "29 29a0e494cbc600d248f3a271cea18753\n",
      "30 440cf3c835b1835447a0d4d568f153dc\n",
      "31 65d3f4904a0ffe6107741572e4b96c7e\n",
      "32 f250eb815e04eaa66cfbeed900d4a87a\n",
      "33 5b0c91feb0a533df1e12cb3cbd9df30d\n",
      "34 1efc7928c0211d6d1cbeaf090b4edade\n",
      "35 5d5daf72825507bdacad7a8c34f4a4f7\n",
      "36 f7a9764a98a7dc31fb16d18a73d82ed7\n",
      "37 11755068fcb268a34bc655710539f352\n",
      "38 22ac7b18a49fde574e6521ea12892102\n",
      "39 4354c90d037642a837a6a1830dee2780\n",
      "40 0c9129e2b5bc48c5bb2b69fa0df19f9c\n",
      "41 ba35e9e90e6a7f48059edeb7615872aa\n",
      "42 cfb00c67dbf76a611609aeb59353fa16\n",
      "43 7e0fadb9f3b0bdbc3a8cbf4a0310567a\n",
      "44 a0f7e1a283e0969964681fceaf5bc603\n",
      "45 c07b349e95b1a5f9adae01f218eccca8\n",
      "46 ea27a30b643eecfa9d4002b8b04b8cea\n",
      "47 8d611be8b3bbab6455062658bd991142\n",
      "48 2007c99358ccf5684333827f7431cdfa\n",
      "49 83b007731b692fc3c18f6a0db3174749\n",
      "50 1110e180a7e4930b30030172e592cd0f\n",
      "51 5d7841d8dac597d14f8083311a7c73eb\n",
      "52 5a8a6e39e756916ae917faa9c0e3bc2b\n",
      "53 622b296f6bfe42f8d278487f42ad9014\n",
      "54 c5b3ac59b97c07b6027381290204b055\n",
      "55 2a9f4929991624c26662f162142f6b61\n",
      "56 2f632f1a8f100152599f68ff84e9d237\n",
      "57 8342a4eb343a2b0d55f8b585b4e2ed17\n",
      "58 e7a11ab8e646687a099b3c3daa62bc2a\n",
      "59 dc66eb5f03f3ba5b0ed1b2379e8873a7\n",
      "60 0190e65f46f60026d1a927384feb16ec\n",
      "61 1bec7895dbc8c888a38a345aebde1b67\n",
      "62 e028a5628bb7b43ba045c1398a1fe8da\n",
      "63 d1cead1f9739ef0af8a66d2e2fa45121\n",
      "64 ee862aba6df5f5f8f2ae3649b62231be\n",
      "65 dcea9ae805935076783c6a7dcd5d2680\n",
      "66 3aa771c7d63d1785f638de30af3a7950\n",
      "67 88d89941f6f3de006480ce8023eec0dc\n",
      "68 efda362d8b7b93cddd39630b330171f9\n",
      "69 c6f47fa27d48ce01a4ce4c5ea91b885d\n",
      "70 7d2df02377c93f1dc3baf4c393cb68d5\n",
      "71 aa75b4217b2607c769d601bf4c4181eb\n",
      "72 7b0adc339ac0784e8f3968a0cbadbd99\n",
      "73 ade3f73a0ef3b05e6d0ddc8bd2ea7c32\n",
      "74 efc0fa3ec92e522a77db204ca6fa4da4\n",
      "75 4893d97ff4378be965ab468fddf90e5d\n",
      "76 ee6e1c288495995eecfe1b73c211c0c0\n",
      "77 9ac0ea67574eede16816506d8565ddf8\n",
      "78 2cc89346dce7bf115197400aad104b71\n",
      "79 f79e26be482951b222e5fbbc4adbe189\n",
      "80 10d4fd943a260e34c32040dca9430271\n",
      "81 0a08ad59e40dca3488340b087c99da0c\n",
      "82 f0b4f94d7dcf9acc5ea31e2ea6414e0a\n",
      "83 03cff21ebd34614bfbbde28d93593054\n",
      "84 c28eb49c6e3d6880b83843ae4a762672\n",
      "85 d9b6ecead2697f07a9db554983572109\n",
      "86 adf9cac1a615f310f71b3f25d6e80912\n",
      "87 bdb593f4f1331e9e243d512f265a408a\n",
      "88 60e37c09f32651b9ea13b6782a367af8\n",
      "89 bdb0f0945d8b8a396c52950d1952d4f7\n",
      "90 f2740e05597b5a38429dbc6f3f5ba757\n",
      "91 242e4338c3ec7e99346420bf47db1d6a\n",
      "92 5b519d565b3cdc74ac0e6e01bcabc7c2\n",
      "93 80677a2ac7d3df4e0dbfe3d246315982\n",
      "94 4e1f39ace0659d02bff9a488f6a130a3\n",
      "95 875b5bd93b3f1649f32a4d1346cfcdea\n",
      "96 fe4913e9a52191a32e7f73ef130d2f2a\n",
      "97 fdc14baf5ea47510d7d32f6ba96f1cad\n",
      "98 35079eaad8b18c38fe1def0ddb220290\n",
      "99 52b0257758e75593357596ad88101d54\n",
      "100 386590e620cf0912fd57eb5dc508ee7e\n"
     ]
    },
    {
     "ename": "ZeroDivisionError",
     "evalue": "integer modulo by zero",
     "output_type": "error",
     "traceback": [
      "\u001b[0;31m---------------------------------------------------------------------------\u001b[0m",
      "\u001b[0;31mZeroDivisionError\u001b[0m                         Traceback (most recent call last)",
      "Cell \u001b[0;32mIn[141], line 1\u001b[0m\n\u001b[0;32m----> 1\u001b[0m solve_b(data)\n",
      "Cell \u001b[0;32mIn[139], line 24\u001b[0m, in \u001b[0;36msolve_b\u001b[0;34m(data)\u001b[0m\n\u001b[1;32m     22\u001b[0m plt\u001b[38;5;241m.\u001b[39mplot([loads[t] \u001b[38;5;28;01mfor\u001b[39;00m t \u001b[38;5;129;01min\u001b[39;00m \u001b[38;5;28mrange\u001b[39m(i)])\n\u001b[1;32m     23\u001b[0m j \u001b[38;5;241m=\u001b[39m positions[bs]\n\u001b[0;32m---> 24\u001b[0m k \u001b[38;5;241m=\u001b[39m (steps \u001b[38;5;241m-\u001b[39m j \u001b[38;5;241m+\u001b[39m \u001b[38;5;241m1\u001b[39m) \u001b[38;5;241m%\u001b[39m (i\u001b[38;5;241m-\u001b[39mj)\n",
      "\u001b[0;31mZeroDivisionError\u001b[0m: integer modulo by zero"
     ]
    },
    {
     "data": {
      "image/png": "[encoded data removed]",
      "text/plain": [
       "<Figure size 640x480 with 1 Axes>"
      ]
     },
     "metadata": {},
     "output_type": "display_data"
    }
   ],
   "source": [
    "solve_b(data)"
   ]
  },
  {
   "cell_type": "code",
   "execution_count": null,
   "metadata": {},
   "outputs": [],
   "source": []
  },
  {
   "cell_type": "code",
   "execution_count": 88,
   "metadata": {},
   "outputs": [
    {
     "data": {
      "text/plain": [
       "97241"
      ]
     },
     "execution_count": 88,
     "metadata": {},
     "output_type": "execute_result"
    },
    {
     "data": {
      "image/png": "[encoded data removed]",
      "text/plain": [
       "<Figure size 640x480 with 1 Axes>"
      ]
     },
     "metadata": {},
     "output_type": "display_data"
    }
   ],
   "source": [
    "solve_b(data)"
   ]
  },
  {
   "cell_type": "code",
   "execution_count": null,
   "metadata": {},
   "outputs": [],
   "source": []
  }
 ],
 "metadata": {
  "kernelspec": {
   "display_name": "Python 3 (ipykernel)",
   "language": "python",
   "name": "python3"
  },
  "language_info": {
   "codemirror_mode": {
    "name": "ipython",
    "version": 3
   },
   "file_extension": ".py",
   "mimetype": "text/x-python",
   "name": "python",
   "nbconvert_exporter": "python",
   "pygments_lexer": "ipython3",
   "version": "3.11.4"
  }
 },
 "nbformat": 4,
 "nbformat_minor": 4
}
