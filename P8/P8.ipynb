{
 "cells": [
  {
   "cell_type": "code",
   "execution_count": 4,
   "metadata": {
    "ExecuteTime": {
     "end_time": "2018-10-19T17:09:00.946068Z",
     "start_time": "2018-10-19T17:09:00.942394Z"
    }
   },
   "outputs": [],
   "source": [
    "with open('input.txt', 'r') as f:\n",
    "    puzzle = f.read()"
   ]
  },
  {
   "cell_type": "markdown",
   "metadata": {},
   "source": [
    "## P8.1"
   ]
  },
  {
   "cell_type": "code",
   "execution_count": 5,
   "metadata": {
    "ExecuteTime": {
     "end_time": "2018-10-19T17:09:16.977430Z",
     "start_time": "2018-10-19T17:09:16.975015Z"
    }
   },
   "outputs": [],
   "source": [
    "example = \"\"\"b inc 5 if a > 1\n",
    "a inc 1 if b < 5\n",
    "c dec -10 if a >= 1\n",
    "c inc -20 if c == 10\"\"\""
   ]
  },
  {
   "cell_type": "code",
   "execution_count": 11,
   "metadata": {
    "ExecuteTime": {
     "end_time": "2018-10-19T17:14:47.817445Z",
     "start_time": "2018-10-19T17:14:47.807640Z"
    }
   },
   "outputs": [],
   "source": [
    "def parse_instructions(instructions):\n",
    "    instructions = instructions.strip().split('\\n')\n",
    "    parsed_instructions = []\n",
    "    for instruction in instructions:\n",
    "        op, cond = instruction.split(' if ')\n",
    "        var, op, v = op.split(' ')\n",
    "        v = int(v)\n",
    "        if op == 'dec':\n",
    "            v *= -1\n",
    "        cond_var, cond = cond.split(' ', 1)\n",
    "        parsed_instructions.append((var, v, cond_var, cond))\n",
    "    return parsed_instructions"
   ]
  },
  {
   "cell_type": "code",
   "execution_count": 12,
   "metadata": {
    "ExecuteTime": {
     "end_time": "2018-10-19T17:14:47.966086Z",
     "start_time": "2018-10-19T17:14:47.961325Z"
    }
   },
   "outputs": [
    {
     "data": {
      "text/plain": [
       "[('b', 5, 'a', '> 1'),\n",
       " ('a', 1, 'b', '< 5'),\n",
       " ('c', 10, 'a', '>= 1'),\n",
       " ('c', -20, 'c', '== 10')]"
      ]
     },
     "execution_count": 12,
     "metadata": {},
     "output_type": "execute_result"
    }
   ],
   "source": [
    "parse_instructions(example)"
   ]
  },
  {
   "cell_type": "code",
   "execution_count": 13,
   "metadata": {
    "ExecuteTime": {
     "end_time": "2018-10-19T17:15:32.035016Z",
     "start_time": "2018-10-19T17:15:32.031016Z"
    }
   },
   "outputs": [],
   "source": [
    "from collections import defaultdict"
   ]
  },
  {
   "cell_type": "code",
   "execution_count": 17,
   "metadata": {
    "ExecuteTime": {
     "end_time": "2018-10-19T17:17:11.804279Z",
     "start_time": "2018-10-19T17:17:11.798479Z"
    }
   },
   "outputs": [],
   "source": [
    "def execute_instructions(instructions):\n",
    "    instructions = parse_instructions(instructions)\n",
    "    registers = defaultdict(int)\n",
    "    for var, value, cond_var, cond in instructions:\n",
    "        if eval(f\"registers['{cond_var}'] {cond}\"):\n",
    "            registers[var] += value\n",
    "    return max(registers.values())"
   ]
  },
  {
   "cell_type": "code",
   "execution_count": 18,
   "metadata": {
    "ExecuteTime": {
     "end_time": "2018-10-19T17:17:12.049159Z",
     "start_time": "2018-10-19T17:17:12.045292Z"
    }
   },
   "outputs": [
    {
     "data": {
      "text/plain": [
       "1"
      ]
     },
     "execution_count": 18,
     "metadata": {},
     "output_type": "execute_result"
    }
   ],
   "source": [
    "execute_instructions(example)"
   ]
  },
  {
   "cell_type": "code",
   "execution_count": 19,
   "metadata": {
    "ExecuteTime": {
     "end_time": "2018-10-19T17:17:20.686898Z",
     "start_time": "2018-10-19T17:17:20.672777Z"
    }
   },
   "outputs": [
    {
     "data": {
      "text/plain": [
       "6828"
      ]
     },
     "execution_count": 19,
     "metadata": {},
     "output_type": "execute_result"
    }
   ],
   "source": [
    "execute_instructions(puzzle)"
   ]
  },
  {
   "cell_type": "markdown",
   "metadata": {},
   "source": [
    "## P8.2"
   ]
  },
  {
   "cell_type": "code",
   "execution_count": 20,
   "metadata": {
    "ExecuteTime": {
     "end_time": "2018-10-19T17:18:32.877129Z",
     "start_time": "2018-10-19T17:18:32.870700Z"
    }
   },
   "outputs": [],
   "source": [
    "def execute_instructions_max(instructions):\n",
    "    instructions = parse_instructions(instructions)\n",
    "    registers = defaultdict(int)\n",
    "    max_value = 0\n",
    "    for var, value, cond_var, cond in instructions:\n",
    "        if eval(f\"registers['{cond_var}'] {cond}\"):\n",
    "            registers[var] += value\n",
    "            max_value = max(max_value, registers[var])\n",
    "    return max_value"
   ]
  },
  {
   "cell_type": "code",
   "execution_count": 21,
   "metadata": {
    "ExecuteTime": {
     "end_time": "2018-10-19T17:18:40.434569Z",
     "start_time": "2018-10-19T17:18:40.431123Z"
    }
   },
   "outputs": [
    {
     "data": {
      "text/plain": [
       "10"
      ]
     },
     "execution_count": 21,
     "metadata": {},
     "output_type": "execute_result"
    }
   ],
   "source": [
    "execute_instructions_max(example)"
   ]
  },
  {
   "cell_type": "code",
   "execution_count": 22,
   "metadata": {
    "ExecuteTime": {
     "end_time": "2018-10-19T17:18:44.180739Z",
     "start_time": "2018-10-19T17:18:44.167262Z"
    }
   },
   "outputs": [
    {
     "data": {
      "text/plain": [
       "7234"
      ]
     },
     "execution_count": 22,
     "metadata": {},
     "output_type": "execute_result"
    }
   ],
   "source": [
    "execute_instructions_max(puzzle)"
   ]
  }
 ],
 "metadata": {
  "kernelspec": {
   "display_name": "Python 3",
   "language": "python",
   "name": "python3"
  },
  "language_info": {
   "codemirror_mode": {
    "name": "ipython",
    "version": 3
   },
   "file_extension": ".py",
   "mimetype": "text/x-python",
   "name": "python",
   "nbconvert_exporter": "python",
   "pygments_lexer": "ipython3",
   "version": "3.6.4"
  },
  "toc": {
   "nav_menu": {},
   "number_sections": true,
   "sideBar": true,
   "skip_h1_title": false,
   "title_cell": "Table of Contents",
   "title_sidebar": "Contents",
   "toc_cell": false,
   "toc_position": {},
   "toc_section_display": true,
   "toc_window_display": false
  },
  "varInspector": {
   "cols": {
    "lenName": 16,
    "lenType": 16,
    "lenVar": 40
   },
   "kernels_config": {
    "python": {
     "delete_cmd_postfix": "",
     "delete_cmd_prefix": "del ",
     "library": "var_list.py",
     "varRefreshCmd": "print(var_dic_list())"
    },
    "r": {
     "delete_cmd_postfix": ") ",
     "delete_cmd_prefix": "rm(",
     "library": "var_list.r",
     "varRefreshCmd": "cat(var_dic_list()) "
    }
   },
   "types_to_exclude": [
    "module",
    "function",
    "builtin_function_or_method",
    "instance",
    "_Feature"
   ],
   "window_display": false
  }
 },
 "nbformat": 4,
 "nbformat_minor": 2
}
