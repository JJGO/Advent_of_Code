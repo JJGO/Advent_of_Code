{
 "cells": [
  {
   "cell_type": "code",
   "execution_count": 327,
   "id": "cacea020",
   "metadata": {},
   "outputs": [],
   "source": [
    "from aocd.models import Puzzle\n",
    "\n",
    "puzzle = Puzzle(year=2024, day=15)\n",
    "\n",
    "\n",
    "def parses(data):\n",
    "    return data\n",
    "\n",
    "data = parses(puzzle.input_data)"
   ]
  },
  {
   "cell_type": "code",
   "execution_count": 328,
   "id": "6ff513bb",
   "metadata": {},
   "outputs": [],
   "source": [
    "from collections import namedtuple"
   ]
  },
  {
   "cell_type": "code",
   "execution_count": 349,
   "id": "6d41f24d",
   "metadata": {},
   "outputs": [],
   "source": [
    "class P(namedtuple('Vec2d', ['x', 'y'])):\n",
    "    def __add__(self, other):\n",
    "        return P(self.x+other.x, self.y+other.y)\n",
    "    def __sub__(self, other):\n",
    "        return P(self.x-other.x, self.y-other.y)"
   ]
  },
  {
   "cell_type": "code",
   "execution_count": 350,
   "id": "3a76ec8a",
   "metadata": {},
   "outputs": [],
   "source": [
    "def as_structs(data):\n",
    "    board, moves = data.split('\\n\\n')\n",
    "    board = [list(row) for row in board.split('\\n')]\n",
    "    moves = list(moves.replace('\\n', ''))\n",
    "    wall, boxes, robot = set(), set(), None\n",
    "    for x, row in enumerate(board):\n",
    "        for y, v in enumerate(row):\n",
    "            if v == '#':\n",
    "                wall.add(P(x,y))\n",
    "            if v == 'O' or v == '[':\n",
    "                boxes.add(P(x,y))\n",
    "            if v == '@':\n",
    "                robot = P(x,y)\n",
    "    dirs = {'<': P(0,-1), '>': P(0,1), 'v': P(1,0), '^': P(-1,0)}\n",
    "    moves = [dirs[m] for m in moves]\n",
    "    return wall, boxes, robot, moves"
   ]
  },
  {
   "cell_type": "code",
   "execution_count": 351,
   "id": "72925126",
   "metadata": {},
   "outputs": [],
   "source": [
    "def gps(boxes):\n",
    "    return sum((100*x+y for x,y in boxes))"
   ]
  },
  {
   "cell_type": "code",
   "execution_count": 352,
   "id": "1bf193b2",
   "metadata": {},
   "outputs": [],
   "source": [
    "def solve_a(data):\n",
    "    wall, boxes, robot, moves = as_structs(data)\n",
    "    pos = robot\n",
    "    for m in moves:\n",
    "        if pos + m in wall:\n",
    "            continue\n",
    "        if pos + m not in boxes:\n",
    "            pos += m\n",
    "            continue\n",
    "        box = pos + m\n",
    "        while box in boxes:\n",
    "            box += m\n",
    "        if box in wall:\n",
    "            continue\n",
    "        boxes.add(box)\n",
    "        boxes.remove(pos+m)\n",
    "        pos = pos + m\n",
    "\n",
    "    return gps(boxes)"
   ]
  },
  {
   "cell_type": "code",
   "execution_count": 353,
   "id": "edd8e8b7",
   "metadata": {},
   "outputs": [],
   "source": [
    "sample1 = parses(\"\"\"########\n",
    "#..O.O.#\n",
    "##@.O..#\n",
    "#...O..#\n",
    "#.#.O..#\n",
    "#...O..#\n",
    "#......#\n",
    "########\n",
    "\n",
    "<^^>>>vv<v>>v<<\"\"\")"
   ]
  },
  {
   "cell_type": "code",
   "execution_count": 354,
   "id": "1b65b956",
   "metadata": {},
   "outputs": [],
   "source": [
    "sample2 = parses(\"\"\"##########\n",
    "#..O..O.O#\n",
    "#......O.#\n",
    "#.OO..O.O#\n",
    "#..O@..O.#\n",
    "#O#..O...#\n",
    "#O..O..O.#\n",
    "#.OO.O.OO#\n",
    "#....O...#\n",
    "##########\n",
    "\n",
    "<vv>^<v^>v>^vv^v>v<>v^v<v<^vv<<<^><<><>>v<vvv<>^v^>^<<<><<v<<<v^vv^v>^\n",
    "vvv<<^>^v^^><<>>><>^<<><^vv^^<>vvv<>><^^v>^>vv<>v<<<<v<^v>^<^^>>>^<v<v\n",
    "><>vv>v^v^<>><>>>><^^>vv>v<^^^>>v^v^<^^>v^^>v^<^v>v<>>v^v^<v>v^^<^^vv<\n",
    "<<v<^>>^^^^>>>v^<>vvv^><v<<<>^^^vv^<vvv>^>v<^^^^v<>^>vvvv><>>v^<<^^^^^\n",
    "^><^><>>><>^^<<^^v>>><^<v>^<vv>>v>>>^v><>^v><<<<v>>v<v<v>vvv>^<><<>^><\n",
    "^>><>^v<><^vvv<^^<><v<<<<<><^v<<<><<<^^<v<^^^><^>>^<v^><<<^>>^v<v^v<v^\n",
    ">^>>^v>vv>^<<^v<>><<><<v<<v><>v<^vv<<<>^^v^>^^>>><<^v>>v^v><^^>>^<>vv^\n",
    "<><^^>^^^<><vvvvv^v<v<<>^v<v>v<<^><<><<><<<^^<<<^<<>><<><^^^>^^<>^>v<>\n",
    "^^>vv<^v^v<vv>^<><v<^v>^^^>>>^^vvv^>vvv<>>>^<^>>>>>^<<^v>^vvv<>^<><<v>\n",
    "v^^>>><<^^<>>^v^<v^vv<>v^<<>^<^v^v><^<<<><<^<v><v<>vv>>v><v^<vv<>v^<<^\"\"\")"
   ]
  },
  {
   "cell_type": "code",
   "execution_count": 355,
   "id": "5699f295",
   "metadata": {},
   "outputs": [
    {
     "data": {
      "text/plain": [
       "10092"
      ]
     },
     "execution_count": 355,
     "metadata": {},
     "output_type": "execute_result"
    }
   ],
   "source": [
    "solve_a(sample2)"
   ]
  },
  {
   "cell_type": "code",
   "execution_count": 376,
   "id": "20bf31f0",
   "metadata": {},
   "outputs": [
    {
     "data": {
      "text/plain": [
       "9021"
      ]
     },
     "execution_count": 376,
     "metadata": {},
     "output_type": "execute_result"
    }
   ],
   "source": [
    "solve_b(sample2)"
   ]
  },
  {
   "cell_type": "code",
   "execution_count": null,
   "id": "ff763e51",
   "metadata": {},
   "outputs": [],
   "source": []
  },
  {
   "cell_type": "code",
   "execution_count": 356,
   "id": "a6611aa2",
   "metadata": {},
   "outputs": [],
   "source": [
    "sample3 = parses(\"\"\"#######\n",
    "#...#.#\n",
    "#.....#\n",
    "#..OO@#\n",
    "#..O..#\n",
    "#.....#\n",
    "#######\n",
    "\n",
    "<vv<<^^<<^^\"\"\")"
   ]
  },
  {
   "cell_type": "code",
   "execution_count": 357,
   "id": "34541da8",
   "metadata": {},
   "outputs": [],
   "source": [
    "def scale_up(board):\n",
    "    board = board.replace('#', '##')\n",
    "    board = board.replace('O', '[]')\n",
    "    board = board.replace('.', '..')\n",
    "    board = board.replace('@', '@.')\n",
    "    return board\n"
   ]
  },
  {
   "cell_type": "code",
   "execution_count": 373,
   "id": "26ec45c7",
   "metadata": {},
   "outputs": [],
   "source": [
    "def solve_b(data):\n",
    "    data = scale_up(data)\n",
    "    wall, boxes, robot, moves = as_structs(data)\n",
    "    pos = robot\n",
    "    for m in moves:\n",
    "        newpos = pos + m\n",
    "        if newpos in wall:\n",
    "            # blocked by wall\n",
    "            continue\n",
    "        if newpos not in boxes and (newpos - P(0,1)) not in boxes:\n",
    "            # not blocked by box\n",
    "            pos = newpos\n",
    "            continue\n",
    "            \n",
    "        # blocked by box\n",
    "        box = newpos if newpos in boxes else newpos - P(0,1)\n",
    "        \n",
    "        would_move = set()\n",
    "        @cache\n",
    "        def move(box):\n",
    "            would_move.add(box)\n",
    "            needs_free = {\n",
    "                P(0,1): [box+P(0,2)],\n",
    "                P(0,-1): [box+m],\n",
    "                P(1,0): [box+m, box+m+P(0,1)],\n",
    "                P(-1,0): [box+m, box+m+P(0,1)],\n",
    "            }[m]\n",
    "\n",
    "            for required in needs_free:\n",
    "                if required in wall:\n",
    "                    return False\n",
    "                for other_box in (required, required - P(0,1)):\n",
    "                    if other_box in boxes and not move(other_box):\n",
    "                        return False\n",
    "            return True\n",
    "        \n",
    "        if not move(box):\n",
    "            continue\n",
    "        \n",
    "        boxes = (boxes - would_move) | {b+m for b in would_move}\n",
    "        pos = pos + m\n",
    "\n",
    "    return gps(boxes)"
   ]
  },
  {
   "cell_type": "code",
   "execution_count": 374,
   "id": "ce0ca3a8",
   "metadata": {},
   "outputs": [
    {
     "data": {
      "text/plain": [
       "1381446"
      ]
     },
     "execution_count": 374,
     "metadata": {},
     "output_type": "execute_result"
    }
   ],
   "source": [
    "solve_b(data)"
   ]
  },
  {
   "cell_type": "code",
   "execution_count": null,
   "id": "0cf19054",
   "metadata": {},
   "outputs": [],
   "source": []
  },
  {
   "cell_type": "code",
   "execution_count": null,
   "id": "d4698bef",
   "metadata": {},
   "outputs": [],
   "source": []
  },
  {
   "cell_type": "code",
   "execution_count": null,
   "id": "0462fd93",
   "metadata": {},
   "outputs": [],
   "source": []
  },
  {
   "cell_type": "code",
   "execution_count": null,
   "id": "a055653f",
   "metadata": {},
   "outputs": [],
   "source": []
  },
  {
   "cell_type": "code",
   "execution_count": null,
   "id": "9f1a2b6d",
   "metadata": {},
   "outputs": [],
   "source": []
  },
  {
   "cell_type": "code",
   "execution_count": 153,
   "id": "5ba53d1e",
   "metadata": {},
   "outputs": [
    {
     "name": "stdout",
     "output_type": "stream",
     "text": [
      "50 100\n"
     ]
    }
   ],
   "source": [
    "from aocd.models import Puzzle\n",
    "\n",
    "puzzle = Puzzle(year=2024, day=15)\n",
    "\n",
    "# def parses(data):\n",
    "#     return data.strip().split('\\n')\n",
    "\n",
    "def scale_up(board):\n",
    "    board = board.replace('#', '##')\n",
    "    board = board.replace('O', '[]')\n",
    "    board = board.replace('.', '..')\n",
    "    board = board.replace('@', '@.')\n",
    "    return board\n",
    "\n",
    "def parses(data):\n",
    "    board, moves = data.strip().split('\\n\\n')\n",
    "#     return board, moves\n",
    "\n",
    "#     wall, boxes, robot = set(), set(), None\n",
    "#     for i, row in enumerate(board.split('\\n')):\n",
    "#         for j, v in enumerate(row):\n",
    "#             z = i + 1j*j\n",
    "#             if v == '@':\n",
    "#                 robot = z\n",
    "#             elif v == '#':\n",
    "#                 wall.add(z)\n",
    "#             elif v == 'O':\n",
    "#                 boxes.add(z)\n",
    "    \n",
    "#     tr = {'<': -1j, '>': 1j, 'v': 1, '^': -1}\n",
    "# #     print(repr(moves))\n",
    "#     moves = [tr[m] for m in moves.strip('\\n').replace('\\n','')]\n",
    "#     return (wall, boxes, robot), moves\n",
    "    board = scale_up(board)\n",
    "    \n",
    "    wall, boxes, robot = set(), set(), None\n",
    "    for i, row in enumerate(board.split('\\n')):\n",
    "        for j, v in enumerate(row):\n",
    "            z = i + 1j*j\n",
    "            if v == '@':\n",
    "                robot = z\n",
    "            elif v == '#':\n",
    "                wall.add(z)\n",
    "            elif v == '[':\n",
    "                boxes.add(z)\n",
    "#             elif v == ']':\n",
    "#                 boxes.add(z)\n",
    "    print(i+1,j+1)\n",
    "    tr = {'<': -1j, '>': 1j, 'v': 1, '^': -1}\n",
    "#     print(repr(moves))\n",
    "    moves = [tr[m] for m in moves.strip('\\n').replace('\\n','')]\n",
    "    return (wall, boxes, robot), moves\n",
    "            \n",
    "\n",
    "# import re\n",
    "# def parses(data):\n",
    "#     return [[int(i) for i in re.findall(\"-?\\d+\", line)] for line in data.strip().split('\\n')]\n",
    "\n",
    "data = parses(puzzle.input_data)"
   ]
  },
  {
   "cell_type": "code",
   "execution_count": 203,
   "id": "63d40da0",
   "metadata": {},
   "outputs": [],
   "source": [
    "rev = {v:k for k, v in {'<': -1j, '>': 1j, 'v': 1, '^': -1}.items()}"
   ]
  },
  {
   "cell_type": "code",
   "execution_count": null,
   "id": "ea53c407",
   "metadata": {},
   "outputs": [],
   "source": []
  },
  {
   "cell_type": "code",
   "execution_count": 84,
   "id": "69f62934",
   "metadata": {},
   "outputs": [
    {
     "name": "stdout",
     "output_type": "stream",
     "text": [
      "##############\n",
      "##......##..##\n",
      "##..........##\n",
      "##....[][]@.##\n",
      "##....[]....##\n",
      "##..........##\n",
      "##############\n"
     ]
    }
   ],
   "source": [
    "print(scale_up(\"\"\"#######\n",
    "#...#.#\n",
    "#.....#\n",
    "#..OO@#\n",
    "#..O..#\n",
    "#.....#\n",
    "#######\"\"\"))"
   ]
  },
  {
   "cell_type": "code",
   "execution_count": 88,
   "id": "1d41ec51",
   "metadata": {},
   "outputs": [
    {
     "name": "stdout",
     "output_type": "stream",
     "text": [
      "8 16\n"
     ]
    }
   ],
   "source": [
    "sample1 = parses(\"\"\"########\n",
    "#..O.O.#\n",
    "##@.O..#\n",
    "#...O..#\n",
    "#.#.O..#\n",
    "#...O..#\n",
    "#......#\n",
    "########\n",
    "\n",
    "<^^>>>vv<v>>v<<\"\"\")"
   ]
  },
  {
   "cell_type": "code",
   "execution_count": 103,
   "id": "acf7245e",
   "metadata": {},
   "outputs": [
    {
     "name": "stdout",
     "output_type": "stream",
     "text": [
      "7 14\n"
     ]
    }
   ],
   "source": [
    "sample2 = parses(\"\"\"#######\n",
    "#...#.#\n",
    "#.....#\n",
    "#..OO@#\n",
    "#..O..#\n",
    "#.....#\n",
    "#######\n",
    "\n",
    "<vv<<^^<<^^\"\"\")"
   ]
  },
  {
   "cell_type": "code",
   "execution_count": null,
   "id": "1ff6c907",
   "metadata": {},
   "outputs": [],
   "source": []
  },
  {
   "cell_type": "code",
   "execution_count": 195,
   "id": "51a293fc",
   "metadata": {},
   "outputs": [],
   "source": [
    "def render(wall, boxes, pos):\n",
    "    N = int(max([i.real for i in wall]))+1\n",
    "    M = int(max([j.imag for j in wall]))+1\n",
    "    s = \"\"\n",
    "#     print(N,M)\n",
    "#     print(wall)\n",
    "    for i in range(N):\n",
    "        for j in range(M):\n",
    "            z = i+1j*j\n",
    "            if pos == z:\n",
    "                s += '\\033[91m@\\033[0m'\n",
    "            elif z in wall:\n",
    "                s += '#'\n",
    "            elif z in boxes:\n",
    "                s += '\\033[94m['\n",
    "            elif z-1j in boxes:\n",
    "                s += ']\\033[0m'\n",
    "            else:\n",
    "                s += ' '\n",
    "        s += '\\n'\n",
    "    print(s)"
   ]
  },
  {
   "cell_type": "code",
   "execution_count": 196,
   "id": "ccddfa75",
   "metadata": {},
   "outputs": [],
   "source": [
    "(wall, boxes, robot), moves = copy.deepcopy(sample2)"
   ]
  },
  {
   "cell_type": "code",
   "execution_count": 197,
   "id": "87292c0d",
   "metadata": {},
   "outputs": [
    {
     "name": "stdout",
     "output_type": "stream",
     "text": [
      "##############\n",
      "##      ##  ##\n",
      "##          ##\n",
      "##    \u001b[94m[]\u001b[0m\u001b[94m[]\u001b[0m\u001b[91m@\u001b[0m ##\n",
      "##    \u001b[94m[]\u001b[0m    ##\n",
      "##          ##\n",
      "##############\n",
      "\n"
     ]
    }
   ],
   "source": [
    "render(wall, boxes, robot)"
   ]
  },
  {
   "cell_type": "code",
   "execution_count": null,
   "id": "9f4cb870",
   "metadata": {},
   "outputs": [],
   "source": []
  },
  {
   "cell_type": "code",
   "execution_count": 119,
   "id": "0933730b",
   "metadata": {},
   "outputs": [],
   "source": [
    "from functools import cache"
   ]
  },
  {
   "cell_type": "code",
   "execution_count": 132,
   "id": "b820c345",
   "metadata": {},
   "outputs": [],
   "source": [
    "\n",
    "# def verbose(f):\n",
    "#     def _f(box):\n",
    "#         b = f(box)\n",
    "#         print(box,b)\n",
    "#     return _f"
   ]
  },
  {
   "cell_type": "code",
   "execution_count": 146,
   "id": "de21de8b",
   "metadata": {},
   "outputs": [
    {
     "name": "stdout",
     "output_type": "stream",
     "text": [
      "10 20\n"
     ]
    }
   ],
   "source": [
    "sample3 = parses(\"\"\"##########\n",
    "#..O..O.O#\n",
    "#......O.#\n",
    "#.OO..O.O#\n",
    "#..O@..O.#\n",
    "#O#..O...#\n",
    "#O..O..O.#\n",
    "#.OO.O.OO#\n",
    "#....O...#\n",
    "##########\n",
    "\n",
    "<vv>^<v^>v>^vv^v>v<>v^v<v<^vv<<<^><<><>>v<vvv<>^v^>^<<<><<v<<<v^vv^v>^\n",
    "vvv<<^>^v^^><<>>><>^<<><^vv^^<>vvv<>><^^v>^>vv<>v<<<<v<^v>^<^^>>>^<v<v\n",
    "><>vv>v^v^<>><>>>><^^>vv>v<^^^>>v^v^<^^>v^^>v^<^v>v<>>v^v^<v>v^^<^^vv<\n",
    "<<v<^>>^^^^>>>v^<>vvv^><v<<<>^^^vv^<vvv>^>v<^^^^v<>^>vvvv><>>v^<<^^^^^\n",
    "^><^><>>><>^^<<^^v>>><^<v>^<vv>>v>>>^v><>^v><<<<v>>v<v<v>vvv>^<><<>^><\n",
    "^>><>^v<><^vvv<^^<><v<<<<<><^v<<<><<<^^<v<^^^><^>>^<v^><<<^>>^v<v^v<v^\n",
    ">^>>^v>vv>^<<^v<>><<><<v<<v><>v<^vv<<<>^^v^>^^>>><<^v>>v^v><^^>>^<>vv^\n",
    "<><^^>^^^<><vvvvv^v<v<<>^v<v>v<<^><<><<><<<^^<<<^<<>><<><^^^>^^<>^>v<>\n",
    "^^>vv<^v^v<vv>^<><v<^v>^^^>>>^^vvv^>vvv<>>>^<^>>>>>^<<^v>^vvv<>^<><<v>\n",
    "v^^>>><<^^<>>^v^<v^vv<>v^<<>^<^v^v><^<<<><<^<v><v<>vv>>v><v^<vv<>v^<<^\"\"\")"
   ]
  },
  {
   "cell_type": "code",
   "execution_count": 251,
   "id": "6918cb2a",
   "metadata": {},
   "outputs": [],
   "source": [
    "from functools import cache"
   ]
  },
  {
   "cell_type": "code",
   "execution_count": 262,
   "id": "9a435102",
   "metadata": {},
   "outputs": [],
   "source": [
    "def solve_b(data):\n",
    "    (wall, boxes, robot), moves = copy.deepcopy(data)#     (wall, boxes, robot), moves = copy.deepcopy(sample2)\n",
    "\n",
    "    pos = robot\n",
    "    # render(wall, boxes, pos)\n",
    "    for m in moves:\n",
    "#         print(f'Move {rev[m]}')\n",
    "#         render(wall,boxes,pos)\n",
    "#         print()\n",
    "#         print(len(boxes))\n",
    "        newpos = pos + m\n",
    "        if newpos in wall:\n",
    "#             print('  wall')\n",
    "    #         render(wall, boxes, pos)\n",
    "            continue\n",
    "        if newpos not in boxes and (newpos-1j) not in boxes:\n",
    "#             print(f'  Free {m}')\n",
    "\n",
    "            pos = pos+m\n",
    "    #         render(wall, boxes, pos)\n",
    "            continue\n",
    "\n",
    "        if newpos in boxes:\n",
    "            box = newpos\n",
    "        elif newpos-1j in boxes:\n",
    "            box = newpos-1j\n",
    "        \n",
    "        would_move = []\n",
    "        @cache\n",
    "        def move(box):\n",
    "            would_move.append(box)\n",
    "            if box not in boxes:\n",
    "                raise ValueError\n",
    "            if m == -1j:\n",
    "                if box-1j in wall:\n",
    "                    return False\n",
    "                if box-2j not in boxes or move(box-2j):\n",
    "#                     boxes.remove(box)\n",
    "#                     boxes.add(box-1j)\n",
    "                    return True\n",
    "                return False\n",
    "            if m == 1j:\n",
    "                if box+2j in wall:\n",
    "                    return False\n",
    "                if box+2j not in boxes or move(box+2j):\n",
    "#                     boxes.remove(box)\n",
    "#                     boxes.add(box+1j)\n",
    "                    return True\n",
    "                return False\n",
    "            if m in (1,-1):\n",
    "                if box+m in wall or box+m+1j in wall:\n",
    "#                     print(box, False, 1)\n",
    "                    return False\n",
    "\n",
    "                infront = [box+d for d in (m, m+1j, m-1j) if box+d in boxes]\n",
    "                if all(map(move, infront)):\n",
    "#                     boxes.remove(box)\n",
    "#                     boxes.add(box+m)\n",
    "#                     print(box, True)\n",
    "                    return True\n",
    "\n",
    "#                 print(box, False)\n",
    "                return False\n",
    "\n",
    "#         print(f'Move {rev[m]}')\n",
    "#         render(wall,boxes,pos)\n",
    "#         print()\n",
    "\n",
    "        moves = move(box)\n",
    "        if moves:\n",
    "            for box in would_move:\n",
    "                boxes.remove(box)\n",
    "            for box in would_move:\n",
    "                boxes.add(box+m)\n",
    "#             print('🔥')\n",
    "            pos = pos + m\n",
    "#         render(wall,boxes,pos)\n",
    "#         print(moves)\n",
    "#         print()\n",
    "#         print()\n",
    "        \n",
    "#         else:\n",
    "#             print(pos, '❌')\n",
    "\n",
    "    #     print(f'Move {m}')\n",
    "    #     render(wall, boxes, pos)\n",
    "\n",
    "#     render(wall, boxes, pos)\n",
    "    return gps(boxes)          \n",
    "\n",
    "    #     while newpos in boxes:\n",
    "    #         newpos += m\n",
    "    #     if newpos in wall:\n",
    "    #         continue\n",
    "    #     boxes.add(newpos)\n",
    "    #     pos = pos + m\n",
    "    #     boxes.remove(pos)"
   ]
  },
  {
   "cell_type": "code",
   "execution_count": 263,
   "id": "a16ec84a",
   "metadata": {},
   "outputs": [
    {
     "data": {
      "text/plain": [
       "618"
      ]
     },
     "execution_count": 263,
     "metadata": {},
     "output_type": "execute_result"
    }
   ],
   "source": [
    "solve_b(sample2)"
   ]
  },
  {
   "cell_type": "code",
   "execution_count": null,
   "id": "02492013",
   "metadata": {},
   "outputs": [],
   "source": []
  },
  {
   "cell_type": "code",
   "execution_count": 264,
   "id": "bccb8dff",
   "metadata": {},
   "outputs": [
    {
     "data": {
      "text/plain": [
       "9021"
      ]
     },
     "execution_count": 264,
     "metadata": {},
     "output_type": "execute_result"
    }
   ],
   "source": [
    "solve_b(sample3)"
   ]
  },
  {
   "cell_type": "code",
   "execution_count": null,
   "id": "e04e972a",
   "metadata": {},
   "outputs": [],
   "source": []
  },
  {
   "cell_type": "code",
   "execution_count": 265,
   "id": "4c59767d",
   "metadata": {},
   "outputs": [
    {
     "data": {
      "text/plain": [
       "1381446"
      ]
     },
     "execution_count": 265,
     "metadata": {},
     "output_type": "execute_result"
    }
   ],
   "source": [
    "solve_b(data)"
   ]
  },
  {
   "cell_type": "code",
   "execution_count": null,
   "id": "6aba4e54",
   "metadata": {},
   "outputs": [],
   "source": []
  },
  {
   "cell_type": "code",
   "execution_count": null,
   "id": "e63ca0bb",
   "metadata": {},
   "outputs": [],
   "source": []
  },
  {
   "cell_type": "code",
   "execution_count": 250,
   "id": "ad00dbb7",
   "metadata": {},
   "outputs": [
    {
     "data": {
      "text/plain": [
       "1377424"
      ]
     },
     "execution_count": 250,
     "metadata": {},
     "output_type": "execute_result"
    }
   ],
   "source": [
    "solve_b(data)"
   ]
  },
  {
   "cell_type": "code",
   "execution_count": null,
   "id": "2f28bb7b",
   "metadata": {},
   "outputs": [],
   "source": []
  },
  {
   "cell_type": "code",
   "execution_count": null,
   "id": "3730a75d",
   "metadata": {},
   "outputs": [],
   "source": []
  },
  {
   "cell_type": "code",
   "execution_count": null,
   "id": "9fbc8d0c",
   "metadata": {},
   "outputs": [],
   "source": []
  },
  {
   "cell_type": "code",
   "execution_count": null,
   "id": "216bbbc2",
   "metadata": {},
   "outputs": [],
   "source": []
  },
  {
   "cell_type": "code",
   "execution_count": 29,
   "id": "e6a7f9c6",
   "metadata": {},
   "outputs": [],
   "source": [
    "def gps(boxes):\n",
    "    total = 0\n",
    "    for z in boxes:\n",
    "        x = z.real\n",
    "        y = z.imag\n",
    "        total += 100 * x + y\n",
    "    return int(total)"
   ]
  },
  {
   "cell_type": "code",
   "execution_count": 33,
   "id": "bb284123",
   "metadata": {},
   "outputs": [],
   "source": [
    "import copy"
   ]
  },
  {
   "cell_type": "code",
   "execution_count": 34,
   "id": "3e91b988",
   "metadata": {},
   "outputs": [],
   "source": [
    "def solve_a(data):\n",
    "    (wall, boxes, robot), moves = copy.deepcopy(data)\n",
    "    pos = robot\n",
    "    for m in moves:\n",
    "        newpos = pos + m\n",
    "        if newpos in wall:\n",
    "            continue\n",
    "        if newpos not in boxes:\n",
    "            pos = newpos\n",
    "            continue\n",
    "        while newpos in boxes:\n",
    "            newpos += m\n",
    "        if newpos in wall:\n",
    "            continue\n",
    "        boxes.add(newpos)\n",
    "        pos = pos + m\n",
    "        boxes.remove(pos)\n",
    "    #     boxes.remove(newpos)\n",
    "\n",
    "    return gps(boxes)"
   ]
  },
  {
   "cell_type": "code",
   "execution_count": 35,
   "id": "2a0f3e3b",
   "metadata": {},
   "outputs": [
    {
     "data": {
      "text/plain": [
       "(({(1+0j),\n",
       "   (1+7j),\n",
       "   (2+0j),\n",
       "   (2+1j),\n",
       "   (2+7j),\n",
       "   (3+0j),\n",
       "   (3+7j),\n",
       "   (4+0j),\n",
       "   (4+2j),\n",
       "   (4+7j),\n",
       "   (5+0j),\n",
       "   (5+7j),\n",
       "   (6+0j),\n",
       "   (6+7j),\n",
       "   (7+0j),\n",
       "   (7+1j),\n",
       "   (7+2j),\n",
       "   (7+3j),\n",
       "   (7+4j),\n",
       "   (7+5j),\n",
       "   (7+6j),\n",
       "   (7+7j),\n",
       "   0j,\n",
       "   1j,\n",
       "   2j,\n",
       "   3j,\n",
       "   4j,\n",
       "   5j,\n",
       "   6j,\n",
       "   7j},\n",
       "  {(1+3j), (1+5j), (2+4j), (3+4j), (4+4j), (5+4j)},\n",
       "  (2+2j)),\n",
       " [(-0-1j), -1, -1, 1j, 1j, 1j, 1, 1, (-0-1j), 1, 1j, 1j, 1, (-0-1j), (-0-1j)])"
      ]
     },
     "execution_count": 35,
     "metadata": {},
     "output_type": "execute_result"
    }
   ],
   "source": [
    "sample1"
   ]
  },
  {
   "cell_type": "code",
   "execution_count": 36,
   "id": "409b4a84",
   "metadata": {},
   "outputs": [
    {
     "data": {
      "text/plain": [
       "2028"
      ]
     },
     "execution_count": 36,
     "metadata": {},
     "output_type": "execute_result"
    }
   ],
   "source": [
    "solve_a(sample1)"
   ]
  },
  {
   "cell_type": "code",
   "execution_count": 41,
   "id": "1f7b44f6",
   "metadata": {},
   "outputs": [
    {
     "data": {
      "text/plain": [
       "1360570"
      ]
     },
     "execution_count": 41,
     "metadata": {},
     "output_type": "execute_result"
    }
   ],
   "source": [
    "solve_a(data)"
   ]
  },
  {
   "cell_type": "code",
   "execution_count": null,
   "id": "24a109d4",
   "metadata": {},
   "outputs": [],
   "source": []
  },
  {
   "cell_type": "code",
   "execution_count": null,
   "id": "1d283c44",
   "metadata": {},
   "outputs": [],
   "source": []
  },
  {
   "cell_type": "code",
   "execution_count": 11,
   "id": "8356d2ac",
   "metadata": {},
   "outputs": [
    {
     "data": {
      "text/plain": [
       "(({(1+0j),\n",
       "   (1+7j),\n",
       "   (2+0j),\n",
       "   (2+1j),\n",
       "   (2+7j),\n",
       "   (3+0j),\n",
       "   (3+7j),\n",
       "   (4+0j),\n",
       "   (4+2j),\n",
       "   (4+7j),\n",
       "   (5+0j),\n",
       "   (5+7j),\n",
       "   (6+0j),\n",
       "   (6+7j),\n",
       "   (7+0j),\n",
       "   (7+1j),\n",
       "   (7+2j),\n",
       "   (7+3j),\n",
       "   (7+4j),\n",
       "   (7+5j),\n",
       "   (7+6j),\n",
       "   (7+7j),\n",
       "   0j,\n",
       "   1j,\n",
       "   2j,\n",
       "   3j,\n",
       "   4j,\n",
       "   5j,\n",
       "   6j,\n",
       "   7j},\n",
       "  {(1+3j), (1+5j), (2+4j), (3+4j), (4+4j), (5+4j)},\n",
       "  (2+2j)),\n",
       " [(-0-1j), -1, -1, 1j, 1j, 1j, 1, 1, (-0-1j), 1, 1j, 1j, 1, (-0-1j), (-0-1j)])"
      ]
     },
     "execution_count": 11,
     "metadata": {},
     "output_type": "execute_result"
    }
   ],
   "source": [
    "sample1"
   ]
  },
  {
   "cell_type": "code",
   "execution_count": null,
   "id": "73a83d2d",
   "metadata": {},
   "outputs": [],
   "source": []
  },
  {
   "cell_type": "code",
   "execution_count": null,
   "id": "bd3958a1",
   "metadata": {},
   "outputs": [],
   "source": []
  },
  {
   "cell_type": "code",
   "execution_count": null,
   "id": "8575f52c",
   "metadata": {},
   "outputs": [],
   "source": []
  },
  {
   "cell_type": "code",
   "execution_count": null,
   "id": "f85ee3b3",
   "metadata": {},
   "outputs": [],
   "source": [
    "def solve_a(data):\n",
    "    pass"
   ]
  },
  {
   "cell_type": "code",
   "execution_count": null,
   "id": "d462bc86",
   "metadata": {},
   "outputs": [],
   "source": [
    "solve_a(sample)"
   ]
  },
  {
   "cell_type": "code",
   "execution_count": null,
   "id": "d5db86cf",
   "metadata": {},
   "outputs": [],
   "source": [
    "solve_a(data)"
   ]
  },
  {
   "cell_type": "code",
   "execution_count": null,
   "id": "77083851",
   "metadata": {},
   "outputs": [],
   "source": [
    "def solve_b(data):\n",
    "    pass"
   ]
  },
  {
   "cell_type": "code",
   "execution_count": null,
   "id": "d6e2ea2d",
   "metadata": {},
   "outputs": [],
   "source": [
    "solve_b(sample)"
   ]
  },
  {
   "cell_type": "code",
   "execution_count": null,
   "id": "89dc9c78",
   "metadata": {},
   "outputs": [],
   "source": [
    "solve_b(data)"
   ]
  },
  {
   "cell_type": "code",
   "execution_count": null,
   "id": "adfd1fdf",
   "metadata": {},
   "outputs": [],
   "source": []
  },
  {
   "cell_type": "code",
   "execution_count": null,
   "id": "5c638898",
   "metadata": {},
   "outputs": [],
   "source": []
  }
 ],
 "metadata": {
  "kernelspec": {
   "display_name": "Python 3 (ipykernel)",
   "language": "python",
   "name": "python3"
  },
  "language_info": {
   "codemirror_mode": {
    "name": "ipython",
    "version": 3
   },
   "file_extension": ".py",
   "mimetype": "text/x-python",
   "name": "python",
   "nbconvert_exporter": "python",
   "pygments_lexer": "ipython3",
   "version": "3.11.5"
  }
 },
 "nbformat": 4,
 "nbformat_minor": 5
}
