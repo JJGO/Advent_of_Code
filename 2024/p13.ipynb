{
 "cells": [
  {
   "cell_type": "code",
   "execution_count": 151,
   "id": "dd1aec63",
   "metadata": {},
   "outputs": [],
   "source": [
    "from aocd.models import Puzzle\n",
    "\n",
    "puzzle = Puzzle(year=2024, day=13)\n",
    "\n",
    "from parse import parse\n",
    "\n",
    "pattern = \"\"\"Button A: X+{:d}, Y+{:d}\n",
    "Button B: X+{:d}, Y+{:d}\n",
    "Prize: X={:d}, Y={:d}\"\"\"\n",
    "\n",
    "def parses(data):\n",
    "    return [parse(pattern, line).fixed \n",
    "            for line in data.strip().split('\\n\\n')]\n",
    "\n",
    "data = parses(puzzle.input_data)"
   ]
  },
  {
   "cell_type": "code",
   "execution_count": 152,
   "id": "19635f09",
   "metadata": {},
   "outputs": [],
   "source": [
    "sample = parses(\"\"\"Button A: X+94, Y+34\n",
    "Button B: X+22, Y+67\n",
    "Prize: X=8400, Y=5400\n",
    "\n",
    "Button A: X+26, Y+66\n",
    "Button B: X+67, Y+21\n",
    "Prize: X=12748, Y=12176\n",
    "\n",
    "Button A: X+17, Y+86\n",
    "Button B: X+84, Y+37\n",
    "Prize: X=7870, Y=6450\n",
    "\n",
    "Button A: X+69, Y+23\n",
    "Button B: X+27, Y+71\n",
    "Prize: X=18641, Y=10279\"\"\")"
   ]
  },
  {
   "cell_type": "code",
   "execution_count": null,
   "id": "67827aaf",
   "metadata": {},
   "outputs": [],
   "source": []
  },
  {
   "cell_type": "code",
   "execution_count": null,
   "id": "58136b8a",
   "metadata": {},
   "outputs": [],
   "source": [
    "# a + xb/xa * b = px/xa\n",
    "# a + yb/ya * b = py/ya"
   ]
  },
  {
   "cell_type": "code",
   "execution_count": 222,
   "id": "17f60b7c",
   "metadata": {},
   "outputs": [
    {
     "ename": "NameError",
     "evalue": "name 'px' is not defined",
     "output_type": "error",
     "traceback": [
      "\u001b[0;31m---------------------------------------------------------------------------\u001b[0m",
      "\u001b[0;31mNameError\u001b[0m                                 Traceback (most recent call last)",
      "Cell \u001b[0;32mIn[222], line 1\u001b[0m\n\u001b[0;32m----> 1\u001b[0m a \u001b[38;5;241m=\u001b[39m (px\u001b[38;5;241m/\u001b[39mxb\u001b[38;5;241m-\u001b[39mpy\u001b[38;5;241m/\u001b[39myb) \u001b[38;5;241m/\u001b[39m (xa\u001b[38;5;241m/\u001b[39mxb\u001b[38;5;241m-\u001b[39mya\u001b[38;5;241m/\u001b[39myb)\n\u001b[1;32m      2\u001b[0m b \u001b[38;5;241m=\u001b[39m (px\u001b[38;5;241m/\u001b[39mxa\u001b[38;5;241m-\u001b[39mpy\u001b[38;5;241m/\u001b[39mya) \u001b[38;5;241m/\u001b[39m (xb\u001b[38;5;241m/\u001b[39mxa\u001b[38;5;241m-\u001b[39myb\u001b[38;5;241m/\u001b[39mya)\n",
      "\u001b[0;31mNameError\u001b[0m: name 'px' is not defined"
     ]
    }
   ],
   "source": []
  },
  {
   "cell_type": "code",
   "execution_count": null,
   "id": "0979b8f0",
   "metadata": {},
   "outputs": [],
   "source": [
    "# xa * a + xb * b = px\n",
    "# ya * a + yb * b = py\n",
    "\n",
    "\n",
    "a = (px-xb*b)/xa\n",
    "a = px/xa - xb/xa * b\n",
    "\n",
    " - ya * xb/xa * b = py - ya * px/xa\n",
    "\n",
    "b = (py - ya * px/xa) / (yb - ya * xb/xa)"
   ]
  },
  {
   "cell_type": "code",
   "execution_count": 170,
   "id": "466848a0",
   "metadata": {},
   "outputs": [],
   "source": [
    "A = np.array([[xa,xb],[ya,yb]])\n",
    "b = np.array([px,py])\n",
    "np.linalg.solve(A,b)"
   ]
  },
  {
   "cell_type": "code",
   "execution_count": 216,
   "id": "7a9790d9",
   "metadata": {},
   "outputs": [],
   "source": [
    "def presses(machine, delta=0):\n",
    "    xa, ya, xb, yb, px, py = machine\n",
    "    px, py = px+delta, py+delta\n",
    "    b = (py - ya * px/xa) / (yb - ya * xb/xa)\n",
    "    a = (px-xb*b) / xa\n",
    "    a, b = round(a), round(b)\n",
    "    if (xa * a + xb * b == px) and (ya * a + yb * b == py):\n",
    "        return 3*a+b\n",
    "    return 0"
   ]
  },
  {
   "cell_type": "code",
   "execution_count": 217,
   "id": "6ce10bd2",
   "metadata": {},
   "outputs": [
    {
     "data": {
      "text/plain": [
       "280"
      ]
     },
     "execution_count": 217,
     "metadata": {},
     "output_type": "execute_result"
    }
   ],
   "source": [
    "presses(sample[0])"
   ]
  },
  {
   "cell_type": "code",
   "execution_count": 218,
   "id": "9a57020f",
   "metadata": {},
   "outputs": [],
   "source": [
    "def solve_a(data):\n",
    "    return sum(presses(machine) for machine in data)"
   ]
  },
  {
   "cell_type": "code",
   "execution_count": 219,
   "id": "318547c5",
   "metadata": {},
   "outputs": [
    {
     "data": {
      "text/plain": [
       "35255"
      ]
     },
     "execution_count": 219,
     "metadata": {},
     "output_type": "execute_result"
    }
   ],
   "source": [
    "solve_a(data)"
   ]
  },
  {
   "cell_type": "code",
   "execution_count": 220,
   "id": "a8b11a95",
   "metadata": {},
   "outputs": [],
   "source": [
    "def solve_b(data):\n",
    "    return sum(presses(machine, 10000000000000) for machine in data)"
   ]
  },
  {
   "cell_type": "code",
   "execution_count": 221,
   "id": "fecf22a0",
   "metadata": {},
   "outputs": [
    {
     "data": {
      "text/plain": [
       "87582154060429"
      ]
     },
     "execution_count": 221,
     "metadata": {},
     "output_type": "execute_result"
    }
   ],
   "source": [
    "solve_b(data)"
   ]
  },
  {
   "cell_type": "code",
   "execution_count": null,
   "id": "a9a8a6ad",
   "metadata": {},
   "outputs": [],
   "source": []
  },
  {
   "cell_type": "code",
   "execution_count": null,
   "id": "b1012c49",
   "metadata": {},
   "outputs": [],
   "source": []
  },
  {
   "cell_type": "code",
   "execution_count": null,
   "id": "a8e8a723",
   "metadata": {},
   "outputs": [],
   "source": []
  },
  {
   "cell_type": "code",
   "execution_count": null,
   "id": "29b364a5",
   "metadata": {},
   "outputs": [],
   "source": []
  },
  {
   "cell_type": "code",
   "execution_count": 2,
   "id": "5ba53d1e",
   "metadata": {},
   "outputs": [],
   "source": [
    "from aocd.models import Puzzle\n",
    "\n",
    "puzzle = Puzzle(year=2024, day=13)\n",
    "\n",
    "# def parses(data):\n",
    "#     return data.strip().split('\\n')\n",
    "\n",
    "import re\n",
    "\n",
    "def extract_coords(line):\n",
    "    return [int(i) for i in re.findall(\"-?\\d+\", line)]\n",
    "\n",
    "def parse_group(group):\n",
    "    a, b, prize = group.split('\\n')\n",
    "    return [extract_coords(x) for x in (a,b,prize)]\n",
    "\n",
    "def parses(data):\n",
    "    groups = data.strip().split('\\n\\n')\n",
    "    return [parse_group(g) for g in groups]\n",
    "\n",
    "data = parses(puzzle.input_data)"
   ]
  },
  {
   "cell_type": "code",
   "execution_count": 3,
   "id": "1d41ec51",
   "metadata": {},
   "outputs": [],
   "source": [
    "sample = parses(\"\"\"Button A: X+94, Y+34\n",
    "Button B: X+22, Y+67\n",
    "Prize: X=8400, Y=5400\n",
    "\n",
    "Button A: X+26, Y+66\n",
    "Button B: X+67, Y+21\n",
    "Prize: X=12748, Y=12176\n",
    "\n",
    "Button A: X+17, Y+86\n",
    "Button B: X+84, Y+37\n",
    "Prize: X=7870, Y=6450\n",
    "\n",
    "Button A: X+69, Y+23\n",
    "Button B: X+27, Y+71\n",
    "Prize: X=18641, Y=10279\"\"\")"
   ]
  },
  {
   "cell_type": "code",
   "execution_count": 4,
   "id": "1a9b6bf7",
   "metadata": {},
   "outputs": [
    {
     "data": {
      "text/plain": [
       "[[[94, 34], [22, 67], [8400, 5400]],\n",
       " [[26, 66], [67, 21], [12748, 12176]],\n",
       " [[17, 86], [84, 37], [7870, 6450]],\n",
       " [[69, 23], [27, 71], [18641, 10279]]]"
      ]
     },
     "execution_count": 4,
     "metadata": {},
     "output_type": "execute_result"
    }
   ],
   "source": [
    "sample"
   ]
  },
  {
   "cell_type": "code",
   "execution_count": 5,
   "id": "9c7425c1",
   "metadata": {},
   "outputs": [],
   "source": [
    "import numpy as np"
   ]
  },
  {
   "cell_type": "code",
   "execution_count": 6,
   "id": "0a6000cd",
   "metadata": {},
   "outputs": [],
   "source": [
    "def mincost(a, b, prize):\n",
    "    ax, ay = a\n",
    "    bx, by = b\n",
    "    px, py = prize\n",
    "    mincost = float('inf')\n",
    "    for i in range(min(px//ax,101)):\n",
    "        rest = px - ax*i\n",
    "        if rest % bx == 0:\n",
    "            j = rest // bx\n",
    "            if ax*i+bx*j == px and ay*i+by*j == py:\n",
    "                mincost = min(mincost, 3*i+j)\n",
    "#                 print(i,j)\n",
    "        \n",
    "    for j in range(min(px//bx,101)):\n",
    "        rest = px - bx*j\n",
    "        if rest % ax == 0:\n",
    "            i = rest // ax\n",
    "            if ax*i+bx*j == px and ay*i+by*j == py:\n",
    "                mincost = min(mincost, 3*i+j)\n",
    "#                 print(i,j)\n",
    "    return mincost"
   ]
  },
  {
   "cell_type": "code",
   "execution_count": 7,
   "id": "0f99172a",
   "metadata": {},
   "outputs": [],
   "source": [
    "def solve_a(data):\n",
    "    total = 0\n",
    "    for machine in data:\n",
    "        cost = mincost(*machine)\n",
    "        if cost != float('inf'):\n",
    "            total += cost\n",
    "    return total"
   ]
  },
  {
   "cell_type": "code",
   "execution_count": 8,
   "id": "3772ec7b",
   "metadata": {},
   "outputs": [
    {
     "data": {
      "text/plain": [
       "35255"
      ]
     },
     "execution_count": 8,
     "metadata": {},
     "output_type": "execute_result"
    }
   ],
   "source": [
    "solve_a(data)"
   ]
  },
  {
   "cell_type": "code",
   "execution_count": 9,
   "id": "a54b684b",
   "metadata": {},
   "outputs": [],
   "source": [
    "# solve_optimization()"
   ]
  },
  {
   "cell_type": "code",
   "execution_count": 10,
   "id": "06ea0b3c",
   "metadata": {},
   "outputs": [],
   "source": [
    "from z3 import Int, Optimize, sat\n",
    "\n",
    "def solve_optimization(a, b, p):\n",
    "    xa, ya = a\n",
    "    xb, yb = b\n",
    "    px, py = p\n",
    "    # Create Z3 solver\n",
    "    solver = Optimize()\n",
    "    \n",
    "    # Define variables\n",
    "    a = Int('a')\n",
    "    b = Int('b')\n",
    "    \n",
    "    # Add constraints\n",
    "    solver.add(a * xa + b * xb == px)  # First equation\n",
    "    solver.add(a * ya + b * yb == py)  # Second equation\n",
    "    \n",
    "    # Define objective function to minimize\n",
    "    objective = 3 * a + b\n",
    "    \n",
    "    # Add objective\n",
    "    solver.minimize(objective)\n",
    "    \n",
    "    # Check if problem is satisfiable\n",
    "    if solver.check() == sat:\n",
    "        model = solver.model()\n",
    "        return {\n",
    "            'a': model[a].as_long(),\n",
    "            'b': model[b].as_long(),\n",
    "            'objective_value': 3 * model[a].as_long() + model[b].as_long()\n",
    "        }\n",
    "    else:\n",
    "        return None\n"
   ]
  },
  {
   "cell_type": "code",
   "execution_count": 11,
   "id": "44a29c6f",
   "metadata": {},
   "outputs": [],
   "source": [
    "solve_optimization(*sample[1])"
   ]
  },
  {
   "cell_type": "code",
   "execution_count": 12,
   "id": "ada2d316",
   "metadata": {},
   "outputs": [],
   "source": [
    "def solve_b(data):\n",
    "    total = 0\n",
    "    for machine in data:\n",
    "        a, b, p = machine\n",
    "        px, py = p\n",
    "        px += 10000000000000\n",
    "        py += 10000000000000\n",
    "        cost = solve_optimization(a,b,(px,py))\n",
    "        if cost is not None:\n",
    "            total += cost['objective_value']\n",
    "    return total"
   ]
  },
  {
   "cell_type": "code",
   "execution_count": 13,
   "id": "404c9031",
   "metadata": {},
   "outputs": [
    {
     "data": {
      "text/plain": [
       "87582154060429"
      ]
     },
     "execution_count": 13,
     "metadata": {},
     "output_type": "execute_result"
    }
   ],
   "source": [
    "solve_b(data)"
   ]
  },
  {
   "cell_type": "code",
   "execution_count": 74,
   "id": "903960f2",
   "metadata": {},
   "outputs": [],
   "source": [
    "a,b,p = map(np.array, sample[3])"
   ]
  },
  {
   "cell_type": "code",
   "execution_count": 75,
   "id": "0407084c",
   "metadata": {},
   "outputs": [
    {
     "data": {
      "text/plain": [
       "array([144927536258, 434782608766])"
      ]
     },
     "execution_count": 75,
     "metadata": {},
     "output_type": "execute_result"
    }
   ],
   "source": [
    "10000000000000 // a+b"
   ]
  },
  {
   "cell_type": "code",
   "execution_count": 76,
   "id": "ac54f3d8",
   "metadata": {},
   "outputs": [
    {
     "data": {
      "text/plain": [
       "(array([69, 23]), array([27, 71]), array([18641, 10279]))"
      ]
     },
     "execution_count": 76,
     "metadata": {},
     "output_type": "execute_result"
    }
   ],
   "source": [
    "a,b,p"
   ]
  },
  {
   "cell_type": "code",
   "execution_count": 77,
   "id": "40a8e090",
   "metadata": {},
   "outputs": [
    {
     "name": "stdout",
     "output_type": "stream",
     "text": [
      "22 23\n",
      "44 46\n",
      "66 69\n",
      "88 92\n"
     ]
    }
   ],
   "source": [
    "for i in range(1,100):\n",
    "    for j in range(1,100):\n",
    "        x, y =a*i+b*j\n",
    "        if x == y:\n",
    "            print(i,j)"
   ]
  },
  {
   "cell_type": "code",
   "execution_count": null,
   "id": "665f1669",
   "metadata": {},
   "outputs": [],
   "source": []
  },
  {
   "cell_type": "code",
   "execution_count": 139,
   "id": "f9cfd8c7",
   "metadata": {},
   "outputs": [],
   "source": [
    "def mincost(a,b,p):\n",
    "    ax, ay = a\n",
    "    bx, by = b\n",
    "    px, py = p\n",
    "#     px += 10000000000000\n",
    "#     py += 10000000000000\n",
    "    reachable = {}\n",
    "    \n",
    "    for i in range(1,1000):\n",
    "        for j in range(1,1000):\n",
    "            pos = (ax*i+bx*j, ay*i+by*j)\n",
    "            cost = 3*i+j\n",
    "            if pos not in reachable or cost < reachable[pos]:\n",
    "                reachable[pos] = cost\n",
    "    equal = {pos[0]: cost for pos, cost in reachable.items() if pos[0]==pos[1]}\n",
    "#     print(equal)\n",
    "    mincost = float('inf')\n",
    "    for (x, y), cost in reachable.items():\n",
    "        Dx, Dy = px-x, py-y\n",
    "        if Dx != Dy:\n",
    "            continue\n",
    "        for d, dcost in equal.items():\n",
    "            if Dx % d == 0:\n",
    "                n = Dx // d\n",
    "                mincost = min(mincost, n * dcost + cost)\n",
    "    return mincost"
   ]
  },
  {
   "cell_type": "code",
   "execution_count": 112,
   "id": "8cec7baa",
   "metadata": {},
   "outputs": [],
   "source": [
    "def increase(a,b,p):\n",
    "    px, py = p\n",
    "    px += 10000000000000\n",
    "    py += 10000000000000\n",
    "    return a,b,(px,py)"
   ]
  },
  {
   "cell_type": "code",
   "execution_count": 114,
   "id": "946cdc61",
   "metadata": {},
   "outputs": [
    {
     "name": "stdout",
     "output_type": "stream",
     "text": [
      "{6595: 210, 13190: 420, 19785: 630, 26380: 840}\n"
     ]
    },
    {
     "data": {
      "text/plain": [
       "inf"
      ]
     },
     "execution_count": 114,
     "metadata": {},
     "output_type": "execute_result"
    }
   ],
   "source": [
    "mincost(*increase(*sample[2]))"
   ]
  },
  {
   "cell_type": "code",
   "execution_count": 129,
   "id": "01608495",
   "metadata": {},
   "outputs": [
    {
     "data": {
      "text/plain": [
       "{'a': 118679050709, 'b': 103199174542, 'objective_value': 459236326669}"
      ]
     },
     "execution_count": 129,
     "metadata": {},
     "output_type": "execute_result"
    }
   ],
   "source": [
    "solve_optimization(*increase(*sample[1]))"
   ]
  },
  {
   "cell_type": "code",
   "execution_count": 130,
   "id": "d5c36084",
   "metadata": {},
   "outputs": [
    {
     "data": {
      "text/plain": [
       "459236326669"
      ]
     },
     "execution_count": 130,
     "metadata": {},
     "output_type": "execute_result"
    }
   ],
   "source": [
    "mincost(*increase(*sample[1]))"
   ]
  },
  {
   "cell_type": "code",
   "execution_count": null,
   "id": "1c19df84",
   "metadata": {},
   "outputs": [],
   "source": []
  },
  {
   "cell_type": "code",
   "execution_count": 136,
   "id": "75e9b257",
   "metadata": {},
   "outputs": [
    {
     "data": {
      "text/plain": [
       "87582154060429"
      ]
     },
     "execution_count": 136,
     "metadata": {},
     "output_type": "execute_result"
    }
   ],
   "source": [
    "solve_b(data)"
   ]
  },
  {
   "cell_type": "code",
   "execution_count": 140,
   "id": "264a5d31",
   "metadata": {},
   "outputs": [],
   "source": [
    "def solve_b2(data):\n",
    "    total = 0\n",
    "    for machine in data:\n",
    "        cost = mincost(*increase(*machine))\n",
    "        if cost != float('inf'):\n",
    "            total += cost\n",
    "    return total"
   ]
  },
  {
   "cell_type": "code",
   "execution_count": 141,
   "id": "e4ec3d1c",
   "metadata": {},
   "outputs": [
    {
     "data": {
      "text/plain": [
       "86236933949990"
      ]
     },
     "execution_count": 141,
     "metadata": {},
     "output_type": "execute_result"
    }
   ],
   "source": [
    "solve_b2(data)"
   ]
  },
  {
   "cell_type": "code",
   "execution_count": null,
   "id": "26ca5fa5",
   "metadata": {},
   "outputs": [],
   "source": []
  },
  {
   "cell_type": "code",
   "execution_count": 11,
   "id": "b8e97483",
   "metadata": {},
   "outputs": [
    {
     "data": {
      "text/plain": [
       "{'a': 80, 'b': 40, 'objective_value': 280}"
      ]
     },
     "execution_count": 11,
     "metadata": {},
     "output_type": "execute_result"
    }
   ],
   "source": []
  },
  {
   "cell_type": "code",
   "execution_count": 23,
   "id": "38a2777f",
   "metadata": {},
   "outputs": [],
   "source": [
    "from numba import njit"
   ]
  },
  {
   "cell_type": "code",
   "execution_count": 28,
   "id": "e4a0fadd",
   "metadata": {},
   "outputs": [],
   "source": [
    "@njit\n",
    "def mincost(a, b, prize):\n",
    "    ax, ay = a\n",
    "    bx, by = b\n",
    "    px, py = prize\n",
    "    mincost = float('inf')\n",
    "    for i in range(px//ax):\n",
    "        rest = px - ax*i\n",
    "        if rest % bx == 0:\n",
    "            j = rest // bx\n",
    "            if ax*i+bx*j == px and ay*i+by*j == py:\n",
    "                mincost = min(mincost, 3*i+j)\n",
    "#                 print(i,j)\n",
    "        \n",
    "    for j in range(px//bx):\n",
    "        rest = px - bx*j\n",
    "        if rest % ax == 0:\n",
    "            i = rest // ax\n",
    "            if ax*i+bx*j == px and ay*i+by*j == py:\n",
    "                mincost = min(mincost, 3*i+j)\n",
    "#                 print(i,j)\n",
    "    return mincost"
   ]
  },
  {
   "cell_type": "code",
   "execution_count": null,
   "id": "0aa33726",
   "metadata": {},
   "outputs": [],
   "source": [
    "sample[0]"
   ]
  },
  {
   "cell_type": "code",
   "execution_count": null,
   "id": "abb462fb",
   "metadata": {},
   "outputs": [],
   "source": [
    "mincost(*)"
   ]
  },
  {
   "cell_type": "code",
   "execution_count": 29,
   "id": "6ab0e3de",
   "metadata": {},
   "outputs": [],
   "source": [
    "def solve_bad(data):\n",
    "    total = 0\n",
    "    for machine in data:\n",
    "        a, b, p = machine\n",
    "        px, py = p\n",
    "        px += 10000000000000\n",
    "        py += 10000000000000\n",
    "        cost = mincost(a,b,(px,py))\n",
    "        if cost != float('inf'):\n",
    "            total += cost\n",
    "    return total"
   ]
  },
  {
   "cell_type": "code",
   "execution_count": null,
   "id": "3afd73aa",
   "metadata": {},
   "outputs": [],
   "source": [
    "solve_bad(data)"
   ]
  },
  {
   "cell_type": "code",
   "execution_count": null,
   "id": "741fd0a3",
   "metadata": {},
   "outputs": [],
   "source": []
  },
  {
   "cell_type": "code",
   "execution_count": null,
   "id": "d32cd25c",
   "metadata": {},
   "outputs": [],
   "source": []
  },
  {
   "cell_type": "code",
   "execution_count": 31,
   "id": "02b3e55e",
   "metadata": {},
   "outputs": [
    {
     "data": {
      "text/plain": [
       "200"
      ]
     },
     "execution_count": 31,
     "metadata": {},
     "output_type": "execute_result"
    }
   ],
   "source": [
    "mincost(*sample[2])"
   ]
  },
  {
   "cell_type": "code",
   "execution_count": null,
   "id": "8575f52c",
   "metadata": {},
   "outputs": [],
   "source": []
  },
  {
   "cell_type": "code",
   "execution_count": null,
   "id": "f85ee3b3",
   "metadata": {},
   "outputs": [],
   "source": [
    "def solve_a(data):\n",
    "    pass"
   ]
  },
  {
   "cell_type": "code",
   "execution_count": null,
   "id": "d462bc86",
   "metadata": {},
   "outputs": [],
   "source": [
    "solve_a(sample)"
   ]
  },
  {
   "cell_type": "code",
   "execution_count": null,
   "id": "d5db86cf",
   "metadata": {},
   "outputs": [],
   "source": [
    "solve_a(data)"
   ]
  },
  {
   "cell_type": "code",
   "execution_count": null,
   "id": "77083851",
   "metadata": {},
   "outputs": [],
   "source": [
    "def solve_b(data):\n",
    "    pass"
   ]
  },
  {
   "cell_type": "code",
   "execution_count": null,
   "id": "d6e2ea2d",
   "metadata": {},
   "outputs": [],
   "source": [
    "solve_b(sample)"
   ]
  },
  {
   "cell_type": "code",
   "execution_count": null,
   "id": "89dc9c78",
   "metadata": {},
   "outputs": [],
   "source": [
    "solve_b(data)"
   ]
  },
  {
   "cell_type": "code",
   "execution_count": null,
   "id": "adfd1fdf",
   "metadata": {},
   "outputs": [],
   "source": []
  },
  {
   "cell_type": "code",
   "execution_count": null,
   "id": "5c638898",
   "metadata": {},
   "outputs": [],
   "source": []
  }
 ],
 "metadata": {
  "kernelspec": {
   "display_name": "Python 3 (ipykernel)",
   "language": "python",
   "name": "python3"
  },
  "language_info": {
   "codemirror_mode": {
    "name": "ipython",
    "version": 3
   },
   "file_extension": ".py",
   "mimetype": "text/x-python",
   "name": "python",
   "nbconvert_exporter": "python",
   "pygments_lexer": "ipython3",
   "version": "3.11.5"
  }
 },
 "nbformat": 4,
 "nbformat_minor": 5
}
