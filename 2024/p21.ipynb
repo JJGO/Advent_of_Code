{
 "cells": [
  {
   "cell_type": "code",
   "execution_count": 126,
   "id": "5ba53d1e",
   "metadata": {},
   "outputs": [],
   "source": [
    "from aocd.models import Puzzle\n",
    "\n",
    "puzzle = Puzzle(year=2024, day=21)\n",
    "\n",
    "def parses(data):\n",
    "    return data.strip().split('\\n')\n",
    "\n",
    "# import re\n",
    "# def parses(data):\n",
    "#     return [[int(i) for i in re.findall(\"-?\\d+\", line)] \n",
    "#              for line in data.strip().split('\\n')]\n",
    "\n",
    "data = parses(puzzle.input_data)"
   ]
  },
  {
   "cell_type": "code",
   "execution_count": 219,
   "id": "bac9d5bc",
   "metadata": {},
   "outputs": [],
   "source": [
    "sample = parses(\"\"\"029A\n",
    "980A\n",
    "179A\n",
    "456A\n",
    "379A\"\"\")"
   ]
  },
  {
   "cell_type": "code",
   "execution_count": 73,
   "id": "7233e48f",
   "metadata": {},
   "outputs": [
    {
     "data": {
      "text/plain": [
       "(41713, 37581)"
      ]
     },
     "execution_count": 73,
     "metadata": {},
     "output_type": "execute_result"
    }
   ],
   "source": []
  },
  {
   "cell_type": "code",
   "execution_count": 211,
   "id": "30b97477",
   "metadata": {},
   "outputs": [],
   "source": [
    "from functools import cache\n",
    "\"\"\"\n",
    "In order to solve this problem, it is key we exploit the structure of the setup.\n",
    "\n",
    "- A key realization is that clicking any input on the numpad, requires clicking A on ALL\n",
    "   directional pads, as it requires clicking A on the first robot, whose controlled by the second robot, &c\n",
    "-  This means that each digit can be solved indenpendently. E.g Solving clicking 029A, reduces to solving\n",
    "   1. move from A to 0  = <A\n",
    "   2. move from 0 to 2  = ^A\n",
    "   3. move from 2 to 9  = >^^A\n",
    "   4. move from 0 to A  = vvvA \n",
    "- We can treat the numpad as a \"seed\" sequence and then expand it at every step. See the example above for 029A\n",
    "   \n",
    "- We can empirically find that when moving, there's a priority\n",
    "   0. Same move, e.g. we'll always prefer <<^ to <^<, as repeating a move is simply A. In practice this means \n",
    "      that we ignore any zigzaggy pattern and focus solely on L-shaped moves\n",
    "   1. < moving right is the most expensive move. We want to avoid sequences of the\n",
    "        form A<A, as that \"trip\" can have been better used to click on any other button\n",
    "   2. v similarly, moving down requires two moves from A\n",
    "   3. ^> are equally distant from A\n",
    "   \n",
    "- For part2 the trick is realizing that the order doesn't really matter as rule expansion is purely local.\n",
    "  This is further simplified by the fact that we can assume that when translating a move to have an extra layer \n",
    "  of indirection we can safely assume that it starts with \"A\", since the previous character had to be inputed\n",
    "  by finished with A\n",
    "\"\"\"\n",
    "\n",
    "@cache\n",
    "def moves():\n",
    "    buttons = '^<v>A'\n",
    "    \n",
    "    # This matrix is not arbitrary, on similar operations (e.g. <v vs v<), we choose to prioritize\n",
    "    # the < over the v (and the v over ^>).\n",
    "    move_table = [\n",
    "        ['', 'v<', None, 'v>', '>'],\n",
    "        ['>^', '', '>', None, '>>^'],\n",
    "        [None, '<', '', '>', '^>'],\n",
    "        ['<^', None, '<', '', '^'],\n",
    "        ['<', 'v<<', '<v', 'v', '']\n",
    "    ]\n",
    "\n",
    "    move = {} # dict of (src,dst) -> Moves a robot would have to do\n",
    "    for i, a in enumerate(buttons):\n",
    "        for j, b in enumerate(buttons):\n",
    "            if move_table[i][j] is not None:\n",
    "                move[a,b] = move_table[i][j]+'A'\n",
    "    return move\n",
    "\n",
    "def numpad_seq(src, dst):\n",
    "    numpad = ['789','456','123','X0A']\n",
    "    nums = { v: (i,j)\n",
    "        for i, row in enumerate(numpad)\n",
    "        for j, v in enumerate(row)}\n",
    "    y1, x1 = nums[src]\n",
    "    y2, x2 = nums[dst]\n",
    "    hmoves = '<>'[x2>x1]*abs(x1-x2)\n",
    "    vmoves = '^v'[y2>y1]*abs(y1-y2)\n",
    "    if (src in '741' and dst in '0A'): # can't go forbidden space\n",
    "        return hmoves+vmoves+'A'\n",
    "    if (src in '0A' and dst in '741'): # can't go forbidden space\n",
    "        return vmoves+hmoves+'A'\n",
    "    if hmoves.startswith('<'):\n",
    "        return hmoves+vmoves+'A'\n",
    "    if vmoves.startswith('v'):\n",
    "        return vmoves+hmoves+'A'\n",
    "    return hmoves+vmoves+'A' # doesn't matter\n",
    "\n",
    "def solve_code(code):\n",
    "    total_len = 0\n",
    "    for src, dst in zip('A'+code, code):\n",
    "        seq = numpad_seq(src, dst)\n",
    "        for _ in range(2):\n",
    "            seq = ''.join((moves()[a,b] for a, b in zip('A'+seq, seq)))\n",
    "        total_len += len(seq)\n",
    "    print(total_len, code)\n",
    "    return total_len, int(code[:-1])\n",
    "        \n",
    "def solve_a(data):\n",
    "    return sum((length * num for length, num in map(solve_code, data)))\n"
   ]
  },
  {
   "cell_type": "code",
   "execution_count": 216,
   "id": "5a095de9",
   "metadata": {},
   "outputs": [],
   "source": [
    "\n",
    "### PART 2\n",
    "\n",
    "def as_transitions(seq):\n",
    "    counts = Counter()\n",
    "    for a, b in zip('A'+seq, seq):\n",
    "        counts[a,b] += 1\n",
    "    return counts\n",
    "\n",
    "@cache\n",
    "def move_transitions():\n",
    "    return {k: as_transitions(v) for k, v in moves().items()}\n",
    "\n",
    "def remote(counts):\n",
    "    new_counts = Counter()\n",
    "    for (src, dst), n in counts.items():\n",
    "        for (a, b), m in move_transitions()[src,dst].items():\n",
    "            new_counts[a, b] += n * m\n",
    "    return new_counts\n",
    "    \n",
    "def solve_code_counts(code, n=25):\n",
    "    total_len = 0\n",
    "    for src, dst in zip('A'+code, code):\n",
    "        trs = as_transitions(numpad_seq(src, dst))\n",
    "        for _ in range(n):\n",
    "            trs = remote(trs)\n",
    "        total_len += sum(trs.values())\n",
    "    return total_len, int(code[:-1])\n",
    "\n",
    "def solve_b(data):\n",
    "    return sum((length * num for length, num in map(solve_code_counts, data)))"
   ]
  },
  {
   "cell_type": "code",
   "execution_count": 218,
   "id": "1d8b7917",
   "metadata": {},
   "outputs": [
    {
     "data": {
      "text/plain": [
       "154154076501218"
      ]
     },
     "execution_count": 218,
     "metadata": {},
     "output_type": "execute_result"
    }
   ],
   "source": [
    "solve_b(sample)"
   ]
  },
  {
   "cell_type": "code",
   "execution_count": null,
   "id": "a70d7275",
   "metadata": {},
   "outputs": [],
   "source": [
    "a = pushes(remote_n('v<A', 10))\n",
    "b = pushes(remote_n('<vA', 10))\n",
    "a, b"
   ]
  },
  {
   "cell_type": "code",
   "execution_count": 217,
   "id": "2f7b842a",
   "metadata": {},
   "outputs": [
    {
     "data": {
      "text/plain": [
       "157055032722640"
      ]
     },
     "execution_count": 217,
     "metadata": {},
     "output_type": "execute_result"
    }
   ],
   "source": [
    "solve_b(data)"
   ]
  },
  {
   "cell_type": "code",
   "execution_count": null,
   "id": "1300a3ce",
   "metadata": {},
   "outputs": [],
   "source": []
  },
  {
   "cell_type": "code",
   "execution_count": null,
   "id": "71aff9b4",
   "metadata": {},
   "outputs": [],
   "source": []
  },
  {
   "cell_type": "code",
   "execution_count": 215,
   "id": "af09c1b4",
   "metadata": {},
   "outputs": [
    {
     "data": {
      "text/plain": [
       "(83373109466, 29)"
      ]
     },
     "execution_count": 215,
     "metadata": {},
     "output_type": "execute_result"
    }
   ],
   "source": [
    "solve_code_counts('029A')"
   ]
  },
  {
   "cell_type": "code",
   "execution_count": 180,
   "id": "7fab40a3",
   "metadata": {},
   "outputs": [],
   "source": []
  },
  {
   "cell_type": "code",
   "execution_count": null,
   "id": "78ee7caa",
   "metadata": {},
   "outputs": [],
   "source": []
  },
  {
   "cell_type": "code",
   "execution_count": 160,
   "id": "a3fd6bf4",
   "metadata": {},
   "outputs": [
    {
     "data": {
      "text/plain": [
       "{(0, 0): '7',\n",
       " (0, 1): '8',\n",
       " (0, 2): '9',\n",
       " (1, 0): '4',\n",
       " (1, 1): '5',\n",
       " (1, 2): '6',\n",
       " (2, 0): '1',\n",
       " (2, 1): '2',\n",
       " (2, 2): '3',\n",
       " (3, 0): 'X',\n",
       " (3, 1): '0',\n",
       " (3, 2): 'A'}"
      ]
     },
     "execution_count": 160,
     "metadata": {},
     "output_type": "execute_result"
    }
   ],
   "source": [
    "numpad_seqs(None, None)"
   ]
  },
  {
   "cell_type": "code",
   "execution_count": null,
   "id": "451d4338",
   "metadata": {},
   "outputs": [],
   "source": []
  },
  {
   "cell_type": "code",
   "execution_count": null,
   "id": "87566db0",
   "metadata": {},
   "outputs": [],
   "source": []
  },
  {
   "cell_type": "code",
   "execution_count": null,
   "id": "9792a648",
   "metadata": {},
   "outputs": [],
   "source": [
    "init_seq = []\n",
    "\n",
    "code = '029A'\n",
    "\n",
    "def solve_code(code):\n",
    "    total = 0\n",
    "    for src, dst in zip('A'+code, code):\n",
    "        \n",
    "        seqs = numpad_seqs(src, dst)\n",
    "#         print(seqs)\n",
    "#         print(seqs)\n",
    "        for _ in range(2):\n",
    "            seqs = next_level(seqs)\n",
    "        total += min([len(s) for s, _ in seqs])\n",
    "#         print('🔥')\n",
    "    return total ,int(code[:-1])\n",
    "\n",
    "solve_code('029A')"
   ]
  },
  {
   "cell_type": "code",
   "execution_count": null,
   "id": "4382f506",
   "metadata": {},
   "outputs": [],
   "source": []
  },
  {
   "cell_type": "code",
   "execution_count": 154,
   "id": "352ff0b4",
   "metadata": {},
   "outputs": [
    {
     "data": {
      "text/plain": [
       "Counter({('A', 'v'): 1,\n",
       "         ('v', '<'): 1,\n",
       "         ('<', '<'): 1,\n",
       "         ('<', 'A'): 1,\n",
       "         ('A', '>'): 1,\n",
       "         ('>', '>'): 1,\n",
       "         ('>', '^'): 1,\n",
       "         ('^', 'A'): 1})"
      ]
     },
     "execution_count": 154,
     "metadata": {},
     "output_type": "execute_result"
    }
   ],
   "source": [
    "remote(as_transitions('<A'))"
   ]
  },
  {
   "cell_type": "code",
   "execution_count": null,
   "id": "01bfafe3",
   "metadata": {},
   "outputs": [],
   "source": []
  },
  {
   "cell_type": "code",
   "execution_count": 7,
   "id": "3330f46e",
   "metadata": {},
   "outputs": [],
   "source": [
    "fromto_counts = {}\n",
    "for (src, dst), seq in fromto.items():\n",
    "    counts = Counter()\n",
    "    for a, b in zip('A'+seq, seq):\n",
    "        counts[a,b] += 1\n",
    "    fromto_counts[src, dst] = counts"
   ]
  },
  {
   "cell_type": "code",
   "execution_count": 8,
   "id": "fc105ac5",
   "metadata": {},
   "outputs": [
    {
     "data": {
      "text/plain": [
       "{('^', '^'): Counter({('A', 'A'): 1}),\n",
       " ('^', '<'): Counter({('A', 'v'): 1, ('v', '<'): 1, ('<', 'A'): 1}),\n",
       " ('^', '>'): Counter({('A', 'v'): 1, ('v', '>'): 1, ('>', 'A'): 1}),\n",
       " ('^', 'A'): Counter({('A', '>'): 1, ('>', 'A'): 1}),\n",
       " ('<', '^'): Counter({('A', '>'): 1, ('>', '^'): 1, ('^', 'A'): 1}),\n",
       " ('<', '<'): Counter({('A', 'A'): 1}),\n",
       " ('<', 'v'): Counter({('A', '>'): 1, ('>', 'A'): 1}),\n",
       " ('<',\n",
       "  'A'): Counter({('A', '>'): 1, ('>', '>'): 1, ('>', '^'): 1, ('^', 'A'): 1}),\n",
       " ('v', '<'): Counter({('A', '<'): 1, ('<', 'A'): 1}),\n",
       " ('v', 'v'): Counter({('A', 'A'): 1}),\n",
       " ('v', '>'): Counter({('A', '>'): 1, ('>', 'A'): 1}),\n",
       " ('v', 'A'): Counter({('A', '>'): 1, ('>', '^'): 1, ('^', 'A'): 1}),\n",
       " ('>', '^'): Counter({('A', '<'): 1, ('<', '^'): 1, ('^', 'A'): 1}),\n",
       " ('>', 'v'): Counter({('A', '<'): 1, ('<', 'A'): 1}),\n",
       " ('>', '>'): Counter({('A', 'A'): 1}),\n",
       " ('>', 'A'): Counter({('A', '^'): 1, ('^', 'A'): 1}),\n",
       " ('A', '^'): Counter({('A', '<'): 1, ('<', 'A'): 1}),\n",
       " ('A',\n",
       "  '<'): Counter({('A', 'v'): 1, ('v', '<'): 1, ('<', '<'): 1, ('<', 'A'): 1}),\n",
       " ('A', 'v'): Counter({('A', 'v'): 1, ('v', '<'): 1, ('<', 'A'): 1}),\n",
       " ('A', '>'): Counter({('A', 'v'): 1, ('v', 'A'): 1}),\n",
       " ('A', 'A'): Counter({('A', 'A'): 1})}"
      ]
     },
     "execution_count": 8,
     "metadata": {},
     "output_type": "execute_result"
    }
   ],
   "source": [
    "fromto_counts"
   ]
  },
  {
   "cell_type": "code",
   "execution_count": null,
   "id": "653d06f1",
   "metadata": {},
   "outputs": [],
   "source": []
  },
  {
   "cell_type": "code",
   "execution_count": 13,
   "id": "bb04f990",
   "metadata": {},
   "outputs": [],
   "source": [
    "def remote(counts):\n",
    "    new_counts = Counter()\n",
    "    for (src, dst), n in counts.items():\n",
    "        for (a, b), m in fromto_counts[src,dst].items():\n",
    "            new_counts[a, b] += n * m\n",
    "    return new_counts\n",
    "    "
   ]
  },
  {
   "cell_type": "code",
   "execution_count": 23,
   "id": "bf2bc527",
   "metadata": {},
   "outputs": [
    {
     "data": {
      "text/plain": [
       "16"
      ]
     },
     "execution_count": 23,
     "metadata": {},
     "output_type": "execute_result"
    }
   ],
   "source": [
    "sum(remote(remote(remote(Counter({('A', '>'): 1})))).values())"
   ]
  },
  {
   "cell_type": "code",
   "execution_count": 107,
   "id": "2894a933",
   "metadata": {},
   "outputs": [],
   "source": [
    "def as_transitions(seq):\n",
    "    counts = Counter()\n",
    "    for a, b in zip('A'+seq, seq):\n",
    "        counts[a,b] += 1\n",
    "    return counts"
   ]
  },
  {
   "cell_type": "code",
   "execution_count": 51,
   "id": "d5998a96",
   "metadata": {},
   "outputs": [],
   "source": [
    "def pushes(counts):\n",
    "    return sum(counts.values())"
   ]
  },
  {
   "cell_type": "code",
   "execution_count": null,
   "id": "d8160161",
   "metadata": {},
   "outputs": [],
   "source": [
    "179A"
   ]
  },
  {
   "cell_type": "code",
   "execution_count": 52,
   "id": "d511729c",
   "metadata": {},
   "outputs": [],
   "source": [
    "def remote_n(seq, n):\n",
    "    seq = as_transitions(seq)\n",
    "    for _ in range(n):\n",
    "        seq = remote(seq)\n",
    "    return seq"
   ]
  },
  {
   "cell_type": "code",
   "execution_count": 58,
   "id": "b85467ff",
   "metadata": {},
   "outputs": [
    {
     "data": {
      "text/plain": [
       "(22, 26)"
      ]
     },
     "execution_count": 58,
     "metadata": {},
     "output_type": "execute_result"
    }
   ],
   "source": [
    "a = pushes(remote_n('<<^A', 2))\n",
    "b = pushes(remote_n('^<<A', 2))\n",
    "a, b"
   ]
  },
  {
   "cell_type": "code",
   "execution_count": 125,
   "id": "84231b8c",
   "metadata": {},
   "outputs": [
    {
     "data": {
      "text/plain": [
       "(21, 17)"
      ]
     },
     "execution_count": 125,
     "metadata": {},
     "output_type": "execute_result"
    }
   ],
   "source": [
    "a = pushes(remote_n('>vA', 2))\n",
    "b = pushes(remote_n('v>A', 2))\n",
    "a, b"
   ]
  },
  {
   "cell_type": "code",
   "execution_count": null,
   "id": "e2ad8459",
   "metadata": {},
   "outputs": [],
   "source": []
  },
  {
   "cell_type": "code",
   "execution_count": null,
   "id": "b8d218ba",
   "metadata": {},
   "outputs": [],
   "source": []
  },
  {
   "cell_type": "code",
   "execution_count": 124,
   "id": "efaa9ed7",
   "metadata": {},
   "outputs": [
    {
     "data": {
      "text/plain": [
       "(7, 7)"
      ]
     },
     "execution_count": 124,
     "metadata": {},
     "output_type": "execute_result"
    }
   ],
   "source": [
    "a = pushes(remote_n('>^A', 1))\n",
    "b = pushes(remote_n('^>A', 1))\n",
    "a, b"
   ]
  },
  {
   "cell_type": "code",
   "execution_count": null,
   "id": "3c3d0378",
   "metadata": {},
   "outputs": [],
   "source": []
  },
  {
   "cell_type": "code",
   "execution_count": 49,
   "id": "26657668",
   "metadata": {},
   "outputs": [
    {
     "data": {
      "text/plain": [
       "Counter({('A', '>'): 2,\n",
       "         ('A', 'v'): 1,\n",
       "         ('v', '<'): 1,\n",
       "         ('<', '<'): 1,\n",
       "         ('<', 'A'): 1,\n",
       "         ('A', 'A'): 1,\n",
       "         ('>', '^'): 1,\n",
       "         ('^', 'A'): 1,\n",
       "         ('>', 'A'): 1})"
      ]
     },
     "execution_count": 49,
     "metadata": {},
     "output_type": "execute_result"
    }
   ],
   "source": [
    "as_transitions('<<^A')"
   ]
  },
  {
   "cell_type": "code",
   "execution_count": null,
   "id": "5243be1c",
   "metadata": {},
   "outputs": [],
   "source": []
  },
  {
   "cell_type": "code",
   "execution_count": null,
   "id": "7ab7f757",
   "metadata": {},
   "outputs": [],
   "source": []
  },
  {
   "cell_type": "code",
   "execution_count": null,
   "id": "da7bf07d",
   "metadata": {},
   "outputs": [],
   "source": [
    "codes = {\n",
    "    \n",
    "}"
   ]
  },
  {
   "cell_type": "code",
   "execution_count": null,
   "id": "1693e181",
   "metadata": {},
   "outputs": [],
   "source": []
  },
  {
   "cell_type": "code",
   "execution_count": null,
   "id": "12398ea2",
   "metadata": {},
   "outputs": [],
   "source": []
  },
  {
   "cell_type": "code",
   "execution_count": null,
   "id": "2b00fed8",
   "metadata": {},
   "outputs": [],
   "source": []
  },
  {
   "cell_type": "code",
   "execution_count": null,
   "id": "6fc520fb",
   "metadata": {},
   "outputs": [],
   "source": [
    "'^': "
   ]
  },
  {
   "cell_type": "code",
   "execution_count": null,
   "id": "2eaa59c2",
   "metadata": {},
   "outputs": [],
   "source": []
  },
  {
   "cell_type": "code",
   "execution_count": 95,
   "id": "1d41ec51",
   "metadata": {},
   "outputs": [],
   "source": [
    "sample = parses(\"\"\"029A\n",
    "980A\n",
    "179A\n",
    "456A\n",
    "379A\"\"\")"
   ]
  },
  {
   "cell_type": "code",
   "execution_count": 81,
   "id": "7542db23",
   "metadata": {},
   "outputs": [],
   "source": [
    "def parse_keypad(keypad):\n",
    "    pos = {}\n",
    "    rows = keypad.split(':')\n",
    "    for i, row in enumerate(rows):\n",
    "        for j, v in enumerate(row):\n",
    "            pos[i+j*1j] = v\n",
    "    return pos"
   ]
  },
  {
   "cell_type": "code",
   "execution_count": 82,
   "id": "e86b962a",
   "metadata": {},
   "outputs": [],
   "source": [
    "numeric_keypad = parse_keypad(\"789:456:123:X0A\")\n",
    "directional_keypad = parse_keypad('X^A:<v>')\n",
    "nump, dirp = numeric_keypad.copy(), directional_keypad.copy()"
   ]
  },
  {
   "cell_type": "code",
   "execution_count": null,
   "id": "17502e5b",
   "metadata": {},
   "outputs": [],
   "source": []
  },
  {
   "cell_type": "code",
   "execution_count": 155,
   "id": "8c53406b",
   "metadata": {},
   "outputs": [
    {
     "data": {
      "text/plain": [
       "{0j: '7',\n",
       " 1j: '8',\n",
       " 2j: '9',\n",
       " (1+0j): '4',\n",
       " (1+1j): '5',\n",
       " (1+2j): '6',\n",
       " (2+0j): '1',\n",
       " (2+1j): '2',\n",
       " (2+2j): '3',\n",
       " (3+0j): 'X',\n",
       " (3+1j): '0',\n",
       " (3+2j): 'A'}"
      ]
     },
     "execution_count": 155,
     "metadata": {},
     "output_type": "execute_result"
    }
   ],
   "source": [
    "nump"
   ]
  },
  {
   "cell_type": "code",
   "execution_count": 83,
   "id": "e1fe69e5",
   "metadata": {},
   "outputs": [],
   "source": [
    "rdirp = {v:k for k, v in dirp.items()}\n",
    "rnump = {v:k for k, v in nump.items()}"
   ]
  },
  {
   "cell_type": "code",
   "execution_count": 88,
   "id": "a069b8fd",
   "metadata": {},
   "outputs": [],
   "source": [
    "dirs = {\n",
    "    '>': 1j, #(0,1),\n",
    "    '<': -1j, #(0,-1),\n",
    "    '^': -1, # (-1,0),\n",
    "    'v': 1, #(1,0),\n",
    "}"
   ]
  },
  {
   "cell_type": "code",
   "execution_count": 39,
   "id": "a1009f0e",
   "metadata": {},
   "outputs": [],
   "source": [
    "# def heuristic(state, final):\n",
    "#     ent, num, d1, d2, d3 = state\n",
    "#     missing = len(final)-len(ent)\n",
    "# #     for c in final[missing:]:\n",
    "#     return missing"
   ]
  },
  {
   "cell_type": "code",
   "execution_count": 40,
   "id": "6a5b95ca",
   "metadata": {},
   "outputs": [],
   "source": []
  },
  {
   "cell_type": "code",
   "execution_count": null,
   "id": "cd395e46",
   "metadata": {},
   "outputs": [],
   "source": []
  },
  {
   "cell_type": "code",
   "execution_count": 41,
   "id": "b7519c5f",
   "metadata": {},
   "outputs": [],
   "source": [
    "# from heapq import heappop, heappush\n",
    "# def search(char):\n",
    "#     start_state = (0, keyp['A'], dirp['A'], dirp['A'], dirp['A'])\n",
    "#     heap = [start_state]\n",
    "#     while heap:\n",
    "#         cost, heappop(heap)\n",
    "        "
   ]
  },
  {
   "cell_type": "code",
   "execution_count": null,
   "id": "fd25b06e",
   "metadata": {},
   "outputs": [],
   "source": []
  },
  {
   "cell_type": "code",
   "execution_count": 186,
   "id": "0512f63e",
   "metadata": {},
   "outputs": [],
   "source": []
  },
  {
   "cell_type": "code",
   "execution_count": 187,
   "id": "fac77343",
   "metadata": {},
   "outputs": [],
   "source": []
  },
  {
   "cell_type": "code",
   "execution_count": 332,
   "id": "b113d19b",
   "metadata": {},
   "outputs": [],
   "source": []
  },
  {
   "cell_type": "code",
   "execution_count": 335,
   "id": "0093a6fc",
   "metadata": {},
   "outputs": [],
   "source": [
    "# sanity check\n",
    "for (src, dst), moves in fromto.items():\n",
    "    for seq in moves:\n",
    "        pos = rdirp[src]\n",
    "        for step in seq[:-1]:\n",
    "            pos += dirs[step]\n",
    "        assert seq[-1] == 'A'\n",
    "        assert pos == rdirp[dst]"
   ]
  },
  {
   "cell_type": "code",
   "execution_count": null,
   "id": "828fab01",
   "metadata": {},
   "outputs": [],
   "source": []
  },
  {
   "cell_type": "code",
   "execution_count": 250,
   "id": "a779c495",
   "metadata": {},
   "outputs": [
    {
     "data": {
      "text/plain": [
       "[('v<<A>>^A', 'A')]"
      ]
     },
     "execution_count": 250,
     "metadata": {},
     "output_type": "execute_result"
    }
   ],
   "source": [
    "seqs = [('<A', 'A')]\n",
    "\n",
    "newseqs = []\n",
    "\n",
    "for seq, src in seqs:\n",
    "    options = [fromto[a,b] for a, b in zip(src+seq, seq)]\n",
    "    newseqs += [(''.join(steps), seq[-1]) for steps in itertools.product(*options)]\n",
    "newseqs"
   ]
  },
  {
   "cell_type": "code",
   "execution_count": 251,
   "id": "3df98589",
   "metadata": {},
   "outputs": [],
   "source": [
    "def next_level(seqs):\n",
    "    newseqs = []\n",
    "    for seq, src in seqs:\n",
    "        options = [fromto[a,b] for a, b in zip(src+seq, seq) if (a,b) in fromto]\n",
    "        newseqs += [(''.join(steps), seq[-1]) for steps in itertools.product(*options)]\n",
    "    return newseqs"
   ]
  },
  {
   "cell_type": "code",
   "execution_count": 252,
   "id": "9759bbcc",
   "metadata": {},
   "outputs": [
    {
     "data": {
      "text/plain": [
       "(68, 29)"
      ]
     },
     "execution_count": 252,
     "metadata": {},
     "output_type": "execute_result"
    }
   ],
   "source": [
    "init_seq = []\n",
    "\n",
    "code = '029A'\n",
    "\n",
    "def solve_code(code):\n",
    "    total = 0\n",
    "    for src, dst in zip('A'+code, code):\n",
    "        \n",
    "        seqs = numpad_seqs(src, dst)\n",
    "#         print(seqs)\n",
    "#         print(seqs)\n",
    "        for _ in range(2):\n",
    "            seqs = next_level(seqs)\n",
    "        total += min([len(s) for s, _ in seqs])\n",
    "#         print('🔥')\n",
    "    return total ,int(code[:-1])\n",
    "\n",
    "solve_code('029A')"
   ]
  },
  {
   "cell_type": "code",
   "execution_count": 261,
   "id": "07a51367",
   "metadata": {},
   "outputs": [],
   "source": []
  },
  {
   "cell_type": "code",
   "execution_count": 262,
   "id": "594711fe",
   "metadata": {},
   "outputs": [
    {
     "data": {
      "text/plain": [
       "Counter({('A', '<'): 1, ('<', 'A'): 1})"
      ]
     },
     "execution_count": 262,
     "metadata": {},
     "output_type": "execute_result"
    }
   ],
   "source": [
    "as_transitions('<A', 'A')"
   ]
  },
  {
   "cell_type": "code",
   "execution_count": null,
   "id": "2ffdf34f",
   "metadata": {},
   "outputs": [],
   "source": []
  },
  {
   "cell_type": "code",
   "execution_count": 253,
   "id": "9bd26976",
   "metadata": {},
   "outputs": [],
   "source": [
    "def solve_a(data):\n",
    "    total = 0\n",
    "    for code in data:\n",
    "        a, b = solve_code(code)\n",
    "        print(a,b)\n",
    "        total += a * b\n",
    "    return total"
   ]
  },
  {
   "cell_type": "code",
   "execution_count": 254,
   "id": "cf0558ec",
   "metadata": {},
   "outputs": [
    {
     "name": "stdout",
     "output_type": "stream",
     "text": [
      "68 29\n",
      "60 980\n",
      "68 179\n",
      "64 456\n",
      "64 379\n"
     ]
    },
    {
     "data": {
      "text/plain": [
       "126384"
      ]
     },
     "execution_count": 254,
     "metadata": {},
     "output_type": "execute_result"
    }
   ],
   "source": [
    "solve_a(sample) == 126384, solve_a(data) == 125742"
   ]
  },
  {
   "cell_type": "code",
   "execution_count": 255,
   "id": "6cdb12a6",
   "metadata": {},
   "outputs": [
    {
     "name": "stdout",
     "output_type": "stream",
     "text": [
      "72 279\n",
      "68 286\n",
      "72 508\n",
      "70 463\n",
      "70 246\n"
     ]
    },
    {
     "data": {
      "text/plain": [
       "125742"
      ]
     },
     "execution_count": 255,
     "metadata": {},
     "output_type": "execute_result"
    }
   ],
   "source": []
  },
  {
   "cell_type": "code",
   "execution_count": null,
   "id": "1d157fc6",
   "metadata": {},
   "outputs": [],
   "source": []
  },
  {
   "cell_type": "code",
   "execution_count": null,
   "id": "2795cbac",
   "metadata": {},
   "outputs": [],
   "source": []
  },
  {
   "cell_type": "code",
   "execution_count": 90,
   "id": "c94b18ce",
   "metadata": {},
   "outputs": [],
   "source": [
    "def as_transitions(input):\n",
    "    seq, start = input\n",
    "    trans = Counter()\n",
    "    for src, dst in zip(start+seq, seq):\n",
    "        trans[src,dst] += 1\n",
    "    return trans"
   ]
  },
  {
   "cell_type": "code",
   "execution_count": null,
   "id": "ac679a86",
   "metadata": {},
   "outputs": [],
   "source": [
    "def next_level(seqs):\n",
    "    newseqs = []\n",
    "    for seq, src in seqs:\n",
    "        options = [fromto[a,b] for a, b in zip(src+seq, seq) if (a,b) in fromto]\n",
    "        newseqs += [(''.join(steps), seq[-1]) for steps in itertools.product(*options)]\n",
    "    return newseqs"
   ]
  },
  {
   "cell_type": "code",
   "execution_count": 269,
   "id": "be1cf17d",
   "metadata": {},
   "outputs": [],
   "source": [
    "c = as_transitions(('<A', 'A'))"
   ]
  },
  {
   "cell_type": "code",
   "execution_count": 274,
   "id": "3ee8b92a",
   "metadata": {},
   "outputs": [
    {
     "data": {
      "text/plain": [
       "[('v<<A>>^A', 'A')]"
      ]
     },
     "execution_count": 274,
     "metadata": {},
     "output_type": "execute_result"
    }
   ],
   "source": [
    "next_level([('<A', 'A')])"
   ]
  },
  {
   "cell_type": "code",
   "execution_count": 275,
   "id": "1ad70efe",
   "metadata": {},
   "outputs": [
    {
     "data": {
      "text/plain": [
       "Counter({('A', 'v'): 1,\n",
       "         ('v', '<'): 1,\n",
       "         ('<', '<'): 1,\n",
       "         ('<', 'A'): 1,\n",
       "         ('A', '>'): 1,\n",
       "         ('>', '>'): 1,\n",
       "         ('>', '^'): 1,\n",
       "         ('^', 'A'): 1})"
      ]
     },
     "execution_count": 275,
     "metadata": {},
     "output_type": "execute_result"
    }
   ],
   "source": [
    "as_transitions(('v<<A>>^A', 'A'))"
   ]
  },
  {
   "cell_type": "code",
   "execution_count": null,
   "id": "23bad18d",
   "metadata": {},
   "outputs": [],
   "source": []
  },
  {
   "cell_type": "code",
   "execution_count": 289,
   "id": "e05d74ef",
   "metadata": {},
   "outputs": [],
   "source": []
  },
  {
   "cell_type": "code",
   "execution_count": 290,
   "id": "3b9788a2",
   "metadata": {},
   "outputs": [
    {
     "data": {
      "text/plain": [
       "[Counter({('A', 'v'): 1,\n",
       "          ('v', '<'): 1,\n",
       "          ('<', '<'): 1,\n",
       "          ('<', 'A'): 1,\n",
       "          ('A', '>'): 1,\n",
       "          ('>', '>'): 1,\n",
       "          ('>', '^'): 1,\n",
       "          ('^', 'A'): 1})]"
      ]
     },
     "execution_count": 290,
     "metadata": {},
     "output_type": "execute_result"
    }
   ],
   "source": [
    "next_level_trans([c])"
   ]
  },
  {
   "cell_type": "code",
   "execution_count": 75,
   "id": "cd013d8c",
   "metadata": {},
   "outputs": [],
   "source": [
    "# ONE\n",
    "moves = [\n",
    "    ['', 'v<', None, 'v>', '>'],\n",
    "    ['>^', '', '>', None, '>>^'],\n",
    "    [None, '<', '', '>', '^>'],\n",
    "    ['<^', None, '<', '', '^'],\n",
    "    ['<', 'v<<', '<v', 'v', '']\n",
    "]\n",
    "\n",
    "# # ALL\n",
    "# moves = [\n",
    "#     ['', 'v<', None, 'v>,>v', '>'],\n",
    "#     ['>^', '', '>', None, '>>^'],\n",
    "#     [None, '<', '', '>', '>^,^>'],\n",
    "#     ['<^,^<', None, '<', '', '^'],\n",
    "#     ['<', 'v<<', 'v<,<v', 'v', '']\n",
    "# ]\n",
    "\n",
    "buttons = '^<v>A'\n",
    "\n",
    "fromto = {}\n",
    "for i, a in enumerate(buttons):\n",
    "    for j, b in enumerate(buttons):\n",
    "        seq = moves[i][j]\n",
    "        if seq is None: continue\n",
    "        options = seq.split(',')\n",
    "        fromto[a,b] = [option+'A' for option in options]"
   ]
  },
  {
   "cell_type": "code",
   "execution_count": 102,
   "id": "c8646042",
   "metadata": {},
   "outputs": [
    {
     "data": {
      "text/plain": [
       "(82050061710, 29)"
      ]
     },
     "execution_count": 102,
     "metadata": {},
     "output_type": "execute_result"
    }
   ],
   "source": [
    "def next_level_trans(cs):\n",
    "    newcs = []\n",
    "    for c in cs:\n",
    "        newc = Counter()\n",
    "        for (a, b), count in c.items():\n",
    "            for seq in fromto[a,b]:\n",
    "                for x, y in zip('A'+seq, seq):\n",
    "                    newc[x,y] += count\n",
    "        newcs.append(newc)\n",
    "    return newcs\n",
    "\n",
    "\n",
    "def solve_code(code):\n",
    "    total = 0\n",
    "    for src, dst in zip('A'+code, code):\n",
    "        \n",
    "        seqs = numpad_seqs(src, dst)\n",
    "        seqs = [as_transitions(seq) for seq in seqs]\n",
    "#         print(seqs)\n",
    "#         print(seqs)\n",
    "        for _ in range(25):\n",
    "            seqs = next_level_trans(seqs)\n",
    "            \n",
    "        \n",
    "        mins = float('inf')\n",
    "        for c in seqs:\n",
    "            mins = min(mins, sum(c.values()))\n",
    "        total += mins\n",
    "#         total += min([len(s) for s, _ in seqs])\n",
    "#         print(locals())\n",
    "#         print('🔥')\n",
    "        \n",
    "    return total ,int(code[:-1])\n",
    "\n",
    "solve_code('029A')"
   ]
  },
  {
   "cell_type": "code",
   "execution_count": 103,
   "id": "5d8e7c3a",
   "metadata": {},
   "outputs": [],
   "source": [
    "def solve_b(data):\n",
    "    total = 0\n",
    "    for code in data:\n",
    "        a, b = solve_code(code)\n",
    "#         print(a,b)\n",
    "        total += a * b\n",
    "    return total"
   ]
  },
  {
   "cell_type": "code",
   "execution_count": 104,
   "id": "cc81d749",
   "metadata": {},
   "outputs": [
    {
     "data": {
      "text/plain": [
       "(False, False)"
      ]
     },
     "execution_count": 104,
     "metadata": {},
     "output_type": "execute_result"
    }
   ],
   "source": [
    "solve_b(sample) == 126384, solve_b(data) == 125742"
   ]
  },
  {
   "cell_type": "code",
   "execution_count": 105,
   "id": "495c860f",
   "metadata": {},
   "outputs": [
    {
     "data": {
      "text/plain": [
       "157055032722640"
      ]
     },
     "execution_count": 105,
     "metadata": {},
     "output_type": "execute_result"
    }
   ],
   "source": [
    "solve_b(data)"
   ]
  },
  {
   "cell_type": "code",
   "execution_count": null,
   "id": "33ffa23c",
   "metadata": {},
   "outputs": [],
   "source": []
  },
  {
   "cell_type": "code",
   "execution_count": 100,
   "id": "3e60f1d0",
   "metadata": {},
   "outputs": [
    {
     "data": {
      "text/plain": [
       "125742"
      ]
     },
     "execution_count": 100,
     "metadata": {},
     "output_type": "execute_result"
    }
   ],
   "source": [
    "solve_b(data)"
   ]
  },
  {
   "cell_type": "code",
   "execution_count": null,
   "id": "9b43ee5d",
   "metadata": {},
   "outputs": [],
   "source": []
  },
  {
   "cell_type": "code",
   "execution_count": null,
   "id": "1a9fbd14",
   "metadata": {},
   "outputs": [],
   "source": []
  },
  {
   "cell_type": "code",
   "execution_count": null,
   "id": "c87a4031",
   "metadata": {},
   "outputs": [],
   "source": []
  },
  {
   "cell_type": "code",
   "execution_count": 240,
   "id": "f611962e",
   "metadata": {},
   "outputs": [
    {
     "name": "stdout",
     "output_type": "stream",
     "text": [
      "72 279\n",
      "68 286\n",
      "72 508\n",
      "70 463\n",
      "70 246\n"
     ]
    },
    {
     "data": {
      "text/plain": [
       "125742"
      ]
     },
     "execution_count": 240,
     "metadata": {},
     "output_type": "execute_result"
    }
   ],
   "source": [
    "solve_a(data)"
   ]
  },
  {
   "cell_type": "code",
   "execution_count": null,
   "id": "da865d37",
   "metadata": {},
   "outputs": [],
   "source": []
  },
  {
   "cell_type": "code",
   "execution_count": 185,
   "id": "5881d803",
   "metadata": {},
   "outputs": [
    {
     "data": {
      "text/plain": [
       "['279A', '286A', '508A', '463A', '246A']"
      ]
     },
     "execution_count": 185,
     "metadata": {},
     "output_type": "execute_result"
    }
   ],
   "source": [
    "data"
   ]
  },
  {
   "cell_type": "code",
   "execution_count": null,
   "id": "6dd70d14",
   "metadata": {},
   "outputs": [],
   "source": []
  },
  {
   "cell_type": "code",
   "execution_count": 184,
   "id": "a3682ca7",
   "metadata": {},
   "outputs": [
    {
     "data": {
      "text/plain": [
       "128918"
      ]
     },
     "execution_count": 184,
     "metadata": {},
     "output_type": "execute_result"
    }
   ],
   "source": [
    "solve_a(data)"
   ]
  },
  {
   "cell_type": "code",
   "execution_count": null,
   "id": "9aa1e0c8",
   "metadata": {},
   "outputs": [],
   "source": []
  },
  {
   "cell_type": "code",
   "execution_count": 154,
   "id": "29d2a9dd",
   "metadata": {},
   "outputs": [
    {
     "name": "stdout",
     "output_type": "stream",
     "text": [
      "029A (68, 29)\n",
      "980A (60, 980)\n",
      "179A (64, 179)\n",
      "456A (60, 456)\n",
      "379A (64, 379)\n"
     ]
    }
   ],
   "source": [
    "for code in sample:\n",
    "    print(code, solve_code(code))"
   ]
  },
  {
   "cell_type": "code",
   "execution_count": null,
   "id": "ed7929e8",
   "metadata": {},
   "outputs": [],
   "source": []
  },
  {
   "cell_type": "code",
   "execution_count": 85,
   "id": "be03d6e9",
   "metadata": {},
   "outputs": [],
   "source": [
    "def is_valid(src, moves):\n",
    "    pos = rnump[src]\n",
    "    for dir_ in moves:\n",
    "        pos += dirs[dir_]\n",
    "        if nump[pos] == 'X':\n",
    "            return False\n",
    "    return True"
   ]
  },
  {
   "cell_type": "code",
   "execution_count": 86,
   "id": "d58b9acb",
   "metadata": {},
   "outputs": [],
   "source": [
    "def numpad_seqs(src, dst):\n",
    "    seqs = []\n",
    "    src_pos = rnump[src]\n",
    "    dst_pos = rnump[dst]\n",
    "    hmoves = vmoves = ''\n",
    "    delta = dst_pos-src_pos\n",
    "    if delta.real > 0:\n",
    "        vmoves += 'v' * int(abs(delta.real))\n",
    "    if delta.real < 0:\n",
    "        vmoves += '^' * int(abs(delta.real))\n",
    "    if delta.imag > 0:\n",
    "        hmoves += '>' * int(abs(delta.imag))\n",
    "    if delta.imag < 0:\n",
    "        hmoves += '<' * int(abs(delta.imag))\n",
    "    moves = hmoves + vmoves\n",
    "    \n",
    "    to_return = []\n",
    "    for moves in (hmoves+vmoves, vmoves+hmoves):\n",
    "        if is_valid(src, moves):\n",
    "            to_return.append((moves+'A', 'A'))\n",
    "    return list(set(to_return))\n",
    "    \n",
    "    \n",
    "   \n",
    "# #     return list(set([hmoves+vmoves+'A', vmoves+hmoves+'A']))\n",
    "#     return [(moves+'A', 'A')]"
   ]
  },
  {
   "cell_type": "code",
   "execution_count": 226,
   "id": "596bc2c2",
   "metadata": {},
   "outputs": [
    {
     "data": {
      "text/plain": [
       "[('<', 'A')]"
      ]
     },
     "execution_count": 226,
     "metadata": {},
     "output_type": "execute_result"
    }
   ],
   "source": [
    "numpad_seqs('A', '0')"
   ]
  },
  {
   "cell_type": "code",
   "execution_count": null,
   "id": "4c90ece9",
   "metadata": {},
   "outputs": [],
   "source": []
  },
  {
   "cell_type": "code",
   "execution_count": 160,
   "id": "17e1d574",
   "metadata": {},
   "outputs": [
    {
     "data": {
      "text/plain": [
       "{'X': 0j, '^': 1j, 'A': 2j, '<': (1+0j), 'v': (1+1j), '>': (1+2j)}"
      ]
     },
     "execution_count": 160,
     "metadata": {},
     "output_type": "execute_result"
    }
   ],
   "source": [
    "rdirp"
   ]
  },
  {
   "cell_type": "code",
   "execution_count": null,
   "id": "466fce16",
   "metadata": {},
   "outputs": [],
   "source": []
  },
  {
   "cell_type": "code",
   "execution_count": null,
   "id": "f19b1c46",
   "metadata": {},
   "outputs": [],
   "source": []
  },
  {
   "cell_type": "code",
   "execution_count": null,
   "id": "4355c5df",
   "metadata": {},
   "outputs": [],
   "source": []
  },
  {
   "cell_type": "code",
   "execution_count": 114,
   "id": "7587fb87",
   "metadata": {},
   "outputs": [
    {
     "data": {
      "text/plain": [
       "'^^^<<'"
      ]
     },
     "execution_count": 114,
     "metadata": {},
     "output_type": "execute_result"
    }
   ],
   "source": [
    "moves"
   ]
  },
  {
   "cell_type": "code",
   "execution_count": null,
   "id": "5884cd2a",
   "metadata": {},
   "outputs": [],
   "source": []
  },
  {
   "cell_type": "code",
   "execution_count": null,
   "id": "9191bdd5",
   "metadata": {},
   "outputs": [],
   "source": [
    "seq = "
   ]
  },
  {
   "cell_type": "code",
   "execution_count": null,
   "id": "acc3338d",
   "metadata": {},
   "outputs": [],
   "source": []
  },
  {
   "cell_type": "code",
   "execution_count": null,
   "id": "f85ee3b3",
   "metadata": {},
   "outputs": [],
   "source": [
    "def solve_a(data):\n",
    "    pass"
   ]
  },
  {
   "cell_type": "code",
   "execution_count": null,
   "id": "d462bc86",
   "metadata": {},
   "outputs": [],
   "source": [
    "solve_a(sample)"
   ]
  },
  {
   "cell_type": "code",
   "execution_count": null,
   "id": "d5db86cf",
   "metadata": {},
   "outputs": [],
   "source": [
    "solve_a(data)"
   ]
  },
  {
   "cell_type": "code",
   "execution_count": null,
   "id": "77083851",
   "metadata": {},
   "outputs": [],
   "source": [
    "def solve_b(data):\n",
    "    pass"
   ]
  },
  {
   "cell_type": "code",
   "execution_count": null,
   "id": "d6e2ea2d",
   "metadata": {},
   "outputs": [],
   "source": [
    "solve_b(sample)"
   ]
  },
  {
   "cell_type": "code",
   "execution_count": null,
   "id": "89dc9c78",
   "metadata": {},
   "outputs": [],
   "source": [
    "solve_b(data)"
   ]
  },
  {
   "cell_type": "code",
   "execution_count": null,
   "id": "adfd1fdf",
   "metadata": {},
   "outputs": [],
   "source": []
  },
  {
   "cell_type": "code",
   "execution_count": null,
   "id": "5c638898",
   "metadata": {},
   "outputs": [],
   "source": []
  }
 ],
 "metadata": {
  "kernelspec": {
   "display_name": "Python 3 (ipykernel)",
   "language": "python",
   "name": "python3"
  },
  "language_info": {
   "codemirror_mode": {
    "name": "ipython",
    "version": 3
   },
   "file_extension": ".py",
   "mimetype": "text/x-python",
   "name": "python",
   "nbconvert_exporter": "python",
   "pygments_lexer": "ipython3",
   "version": "3.11.5"
  }
 },
 "nbformat": 4,
 "nbformat_minor": 5
}
