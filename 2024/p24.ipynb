{
 "cells": [
  {
   "cell_type": "code",
   "execution_count": null,
   "id": "4c909b68",
   "metadata": {},
   "outputs": [],
   "source": []
  },
  {
   "cell_type": "code",
   "execution_count": 1,
   "id": "b734416e",
   "metadata": {},
   "outputs": [],
   "source": [
    "import parse"
   ]
  },
  {
   "cell_type": "code",
   "execution_count": null,
   "id": "74d0f88c",
   "metadata": {},
   "outputs": [],
   "source": []
  },
  {
   "cell_type": "code",
   "execution_count": 32,
   "id": "5ba53d1e",
   "metadata": {},
   "outputs": [],
   "source": [
    "from aocd.models import Puzzle\n",
    "\n",
    "puzzle = Puzzle(year=2024, day=24)\n",
    "\n",
    "def parses(data):\n",
    "    \n",
    "    signals, gates = data.strip().split('\\n\\n')\n",
    "    signals = dict([parse.parse('{}: {:d}', line).fixed for line in signals.split('\\n')])\n",
    "    gates = [parse.parse('{} {} {} -> {}', line).fixed for line in gates.split('\\n')] \n",
    "    gates = {c: (op, a, b) for a, op, b, c in gates}\n",
    "    return signals, gates\n",
    "\n",
    "data = parses(puzzle.input_data)"
   ]
  },
  {
   "cell_type": "code",
   "execution_count": null,
   "id": "51177389",
   "metadata": {},
   "outputs": [],
   "source": []
  },
  {
   "cell_type": "code",
   "execution_count": null,
   "id": "5aca38c8",
   "metadata": {},
   "outputs": [],
   "source": []
  },
  {
   "cell_type": "code",
   "execution_count": 12,
   "id": "1d41ec51",
   "metadata": {},
   "outputs": [],
   "source": [
    "sample = parses(\"\"\"x00: 1\n",
    "x01: 1\n",
    "x02: 1\n",
    "y00: 0\n",
    "y01: 1\n",
    "y02: 0\n",
    "\n",
    "x00 AND y00 -> z00\n",
    "x01 XOR y01 -> z01\n",
    "x02 OR y02 -> z02\"\"\")"
   ]
  },
  {
   "cell_type": "code",
   "execution_count": 22,
   "id": "e652d1fb",
   "metadata": {},
   "outputs": [],
   "source": [
    "OPS = {\n",
    "    'AND': lambda x, y: x & y,\n",
    "    'OR': lambda x, y: x | y,\n",
    "    'XOR': lambda x, y: x ^ y,\n",
    "}"
   ]
  },
  {
   "cell_type": "code",
   "execution_count": 376,
   "id": "6dbfa5f6",
   "metadata": {},
   "outputs": [],
   "source": [
    "def solve_a(data):\n",
    "\n",
    "    signals, gates = data\n",
    "    signals, gates = signals.copy(), gates.copy()\n",
    "\n",
    "    changed = True\n",
    "    while changed:\n",
    "        changed = False\n",
    "\n",
    "        for c, (op, a, b) in list(gates.items()):\n",
    "            if a in signals and b in signals:\n",
    "                signals[c] = OPS[op](signals[a], signals[b])\n",
    "                gates.pop(c)\n",
    "                changed = True\n",
    "\n",
    "    num = 0\n",
    "    for k, v in signals.items():\n",
    "        if k.startswith('z') and v == 1:\n",
    "            i = int(k[1:])\n",
    "            num |= (1 << i)\n",
    "    return num"
   ]
  },
  {
   "cell_type": "code",
   "execution_count": 377,
   "id": "8d8682b6",
   "metadata": {},
   "outputs": [
    {
     "data": {
      "text/plain": [
       "4"
      ]
     },
     "execution_count": 377,
     "metadata": {},
     "output_type": "execute_result"
    }
   ],
   "source": [
    "solve_a(sample)"
   ]
  },
  {
   "cell_type": "code",
   "execution_count": 378,
   "id": "826cd6ff",
   "metadata": {},
   "outputs": [],
   "source": [
    "sample2 = parses(\"\"\"x00: 1\n",
    "x01: 0\n",
    "x02: 1\n",
    "x03: 1\n",
    "x04: 0\n",
    "y00: 1\n",
    "y01: 1\n",
    "y02: 1\n",
    "y03: 1\n",
    "y04: 1\n",
    "\n",
    "ntg XOR fgs -> mjb\n",
    "y02 OR x01 -> tnw\n",
    "kwq OR kpj -> z05\n",
    "x00 OR x03 -> fst\n",
    "tgd XOR rvg -> z01\n",
    "vdt OR tnw -> bfw\n",
    "bfw AND frj -> z10\n",
    "ffh OR nrd -> bqk\n",
    "y00 AND y03 -> djm\n",
    "y03 OR y00 -> psh\n",
    "bqk OR frj -> z08\n",
    "tnw OR fst -> frj\n",
    "gnj AND tgd -> z11\n",
    "bfw XOR mjb -> z00\n",
    "x03 OR x00 -> vdt\n",
    "gnj AND wpb -> z02\n",
    "x04 AND y00 -> kjc\n",
    "djm OR pbm -> qhw\n",
    "nrd AND vdt -> hwm\n",
    "kjc AND fst -> rvg\n",
    "y04 OR y02 -> fgs\n",
    "y01 AND x02 -> pbm\n",
    "ntg OR kjc -> kwq\n",
    "psh XOR fgs -> tgd\n",
    "qhw XOR tgd -> z09\n",
    "pbm OR djm -> kpj\n",
    "x03 XOR y03 -> ffh\n",
    "x00 XOR y04 -> ntg\n",
    "bfw OR bqk -> z06\n",
    "nrd XOR fgs -> wpb\n",
    "frj XOR qhw -> z04\n",
    "bqk OR frj -> z07\n",
    "y03 OR x01 -> nrd\n",
    "hwm AND bqk -> z03\n",
    "tgd XOR rvg -> z12\n",
    "tnw OR pbm -> gnj\"\"\")"
   ]
  },
  {
   "cell_type": "code",
   "execution_count": 379,
   "id": "1043c444",
   "metadata": {},
   "outputs": [
    {
     "data": {
      "text/plain": [
       "2024"
      ]
     },
     "execution_count": 379,
     "metadata": {},
     "output_type": "execute_result"
    }
   ],
   "source": [
    "solve_a(sample2)"
   ]
  },
  {
   "cell_type": "code",
   "execution_count": null,
   "id": "077bc6e0",
   "metadata": {},
   "outputs": [],
   "source": []
  },
  {
   "cell_type": "code",
   "execution_count": 33,
   "id": "514e65b8",
   "metadata": {},
   "outputs": [
    {
     "data": {
      "text/plain": [
       "58740594706150"
      ]
     },
     "execution_count": 33,
     "metadata": {},
     "output_type": "execute_result"
    }
   ],
   "source": [
    "solve_a(data)"
   ]
  },
  {
   "cell_type": "code",
   "execution_count": null,
   "id": "f1ad5fd9",
   "metadata": {},
   "outputs": [],
   "source": []
  },
  {
   "cell_type": "code",
   "execution_count": null,
   "id": "b6b5e1b8",
   "metadata": {},
   "outputs": [],
   "source": []
  },
  {
   "cell_type": "code",
   "execution_count": 388,
   "id": "d5f99f18",
   "metadata": {},
   "outputs": [],
   "source": [
    "def solve_b(data):\n",
    "    _, gates = data\n",
    "    wrong = []\n",
    "    highest_z = sorted([g for g in gates if g[0] == 'z'])[-1]\n",
    "    for c, (op, a, b) in sorted(gates.items()):\n",
    "        \n",
    "        valid = True\n",
    "        if c[0] == 'z' and c != highest_z:\n",
    "            i = int(c[1:])\n",
    "            valid &= op == 'XOR'\n",
    "            if c == 'jfw': print(1, valid)\n",
    "            \n",
    "        if op == 'XOR':\n",
    "            # Either output must be a z, or must take in both x and y\n",
    "            valid &= (c[0] == 'z') or (['x','y'] == sorted([a[0], b[0]]))\n",
    "            \n",
    "        if op == \"AND\":\n",
    "            valid  &= (\n",
    "                ['x00', 'y00'] == sorted([a, b]) or\n",
    "                all(op2 == \"OR\" for _, (op2, a2, b2) in gates.items() if c in [a2, b2])\n",
    "            )\n",
    "            \n",
    "        if op in ('OR', 'XOR'):\n",
    "            valid &= all(op2 in ['AND', 'XOR'] for c2, (op2, a2, b2) in gates.items() if c in [a2,b2])\n",
    "            \n",
    "        if not valid:\n",
    "            wrong.append(c)\n",
    "            \n",
    "    return ','.join(sorted(wrong))"
   ]
  },
  {
   "cell_type": "code",
   "execution_count": 389,
   "id": "4754e3e5",
   "metadata": {},
   "outputs": [
    {
     "data": {
      "text/plain": [
       "'cvh,dbb,hbk,kvn,tfn,z14,z18,z23'"
      ]
     },
     "execution_count": 389,
     "metadata": {},
     "output_type": "execute_result"
    }
   ],
   "source": [
    "solve_b(data)"
   ]
  },
  {
   "cell_type": "code",
   "execution_count": 390,
   "id": "ec4ac7ec",
   "metadata": {},
   "outputs": [
    {
     "ename": "NameError",
     "evalue": "name 'cvh' is not defined",
     "output_type": "error",
     "traceback": [
      "\u001b[0;31m---------------------------------------------------------------------------\u001b[0m",
      "\u001b[0;31mNameError\u001b[0m                                 Traceback (most recent call last)",
      "Cell \u001b[0;32mIn[390], line 1\u001b[0m\n\u001b[0;32m----> 1\u001b[0m cvh,dbb,hbk,kvn,tfn,z14,z18,z23\n",
      "\u001b[0;31mNameError\u001b[0m: name 'cvh' is not defined"
     ]
    }
   ],
   "source": [
    "cvh,dbb,hbk,kvn,tfn,z14,z18,z23"
   ]
  },
  {
   "cell_type": "code",
   "execution_count": 385,
   "id": "0380dfaf",
   "metadata": {},
   "outputs": [
    {
     "data": {
      "text/plain": [
       "('AND', 'x00', 'y00')"
      ]
     },
     "execution_count": 385,
     "metadata": {},
     "output_type": "execute_result"
    }
   ],
   "source": [
    "gates['jfw']"
   ]
  },
  {
   "cell_type": "code",
   "execution_count": null,
   "id": "a8aba203",
   "metadata": {},
   "outputs": [],
   "source": []
  },
  {
   "cell_type": "code",
   "execution_count": null,
   "id": "b07da51f",
   "metadata": {},
   "outputs": [],
   "source": []
  },
  {
   "cell_type": "code",
   "execution_count": 383,
   "id": "cef5b09a",
   "metadata": {},
   "outputs": [
    {
     "data": {
      "text/plain": [
       "('OR', 'cjf', 'pfk')"
      ]
     },
     "execution_count": 383,
     "metadata": {},
     "output_type": "execute_result"
    }
   ],
   "source": [
    "gates['z45']"
   ]
  },
  {
   "cell_type": "code",
   "execution_count": null,
   "id": "6446dc85",
   "metadata": {},
   "outputs": [],
   "source": []
  },
  {
   "cell_type": "code",
   "execution_count": 346,
   "id": "d52845c4",
   "metadata": {},
   "outputs": [
    {
     "data": {
      "text/plain": [
       "{'cvh', 'dbb', 'hbk', 'kvn', 'tfn', 'z14', 'z18', 'z23'}"
      ]
     },
     "execution_count": 346,
     "metadata": {},
     "output_type": "execute_result"
    }
   ],
   "source": [
    "sol"
   ]
  },
  {
   "cell_type": "code",
   "execution_count": 357,
   "id": "ec7a5fd0",
   "metadata": {},
   "outputs": [
    {
     "data": {
      "text/plain": [
       "('AND', 'y34', 'x34')"
      ]
     },
     "execution_count": 357,
     "metadata": {},
     "output_type": "execute_result"
    }
   ],
   "source": [
    "gates['cvh']"
   ]
  },
  {
   "cell_type": "code",
   "execution_count": 362,
   "id": "c7e6b9c2",
   "metadata": {},
   "outputs": [
    {
     "data": {
      "text/plain": [
       "('XOR', 'x34', 'y34')"
      ]
     },
     "execution_count": 362,
     "metadata": {},
     "output_type": "execute_result"
    }
   ],
   "source": [
    "gates['tfn']"
   ]
  },
  {
   "cell_type": "code",
   "execution_count": null,
   "id": "729216d0",
   "metadata": {},
   "outputs": [],
   "source": []
  },
  {
   "cell_type": "code",
   "execution_count": null,
   "id": "9b168470",
   "metadata": {},
   "outputs": [],
   "source": []
  },
  {
   "cell_type": "code",
   "execution_count": null,
   "id": "fd9d454e",
   "metadata": {},
   "outputs": [],
   "source": []
  },
  {
   "cell_type": "code",
   "execution_count": null,
   "id": "f3b5d17c",
   "metadata": {},
   "outputs": [],
   "source": []
  },
  {
   "cell_type": "code",
   "execution_count": 35,
   "id": "bc9c03c6",
   "metadata": {},
   "outputs": [
    {
     "data": {
      "text/plain": [
       "222"
      ]
     },
     "execution_count": 35,
     "metadata": {},
     "output_type": "execute_result"
    }
   ],
   "source": [
    "len(data[1])"
   ]
  },
  {
   "cell_type": "code",
   "execution_count": 227,
   "id": "0be4470a",
   "metadata": {},
   "outputs": [],
   "source": [
    "def from_signals(signals, var: str):\n",
    "    num = 0\n",
    "    for k, v in signals.items():\n",
    "        if k.startswith(var) and v == 1:\n",
    "            i = int(k[1:])\n",
    "            num |= (1 << i)\n",
    "    return num"
   ]
  },
  {
   "cell_type": "code",
   "execution_count": 228,
   "id": "4b9617c0",
   "metadata": {},
   "outputs": [],
   "source": [
    "def as_signals(num, name):\n",
    "    i = 0\n",
    "    signals = {}\n",
    "    for _ in range(45):\n",
    "        signals[f'{name}{i:02d}'] = num & 1\n",
    "        i += 1\n",
    "        num >>= 1\n",
    "    return signals"
   ]
  },
  {
   "cell_type": "code",
   "execution_count": 231,
   "id": "4ac66fdd",
   "metadata": {},
   "outputs": [],
   "source": [
    "def simulate(x, y, gates):\n",
    "    gates = gates.copy()\n",
    "    signals = as_signals(x, 'x') | as_signals(y, 'y')\n",
    "    changed = True\n",
    "    while changed:\n",
    "        changed = False\n",
    "\n",
    "        for c, (op, a, b) in list(gates.items()):\n",
    "            if a in signals and b in signals:\n",
    "                signals[c] = OPS[op](signals[a], signals[b])\n",
    "                gates.pop(c)\n",
    "                changed = True\n",
    "    \n",
    "    z = from_signals(signals, 'z')\n",
    "    return z==x+y, signals\n"
   ]
  },
  {
   "cell_type": "code",
   "execution_count": 240,
   "id": "0046fa98",
   "metadata": {},
   "outputs": [],
   "source": [
    "signals, gates = data\n",
    "\n",
    "s2 = simulate(10,10, gates)[1]"
   ]
  },
  {
   "cell_type": "code",
   "execution_count": 241,
   "id": "bbb4c203",
   "metadata": {},
   "outputs": [
    {
     "data": {
      "text/plain": [
       "['ntt', 'sqm', 'ndd', 'z02', 'npm', 'z04']"
      ]
     },
     "execution_count": 241,
     "metadata": {},
     "output_type": "execute_result"
    }
   ],
   "source": [
    "dictdiff(s1, s2)"
   ]
  },
  {
   "cell_type": "code",
   "execution_count": 242,
   "id": "b94011cc",
   "metadata": {},
   "outputs": [],
   "source": [
    "def dictdiff(d1, d2):\n",
    "    return [k for k in d1|d2 if d1.get(k)!=d2.get(k) and k[0] not in ('xy')]"
   ]
  },
  {
   "cell_type": "code",
   "execution_count": 321,
   "id": "65a66a25",
   "metadata": {},
   "outputs": [
    {
     "name": "stdout",
     "output_type": "stream",
     "text": [
      "set()\n",
      "set()\n",
      "set()\n",
      "set()\n",
      "set()\n",
      "set()\n",
      "set()\n",
      "set()\n",
      "set()\n",
      "set()\n",
      "set()\n",
      "set()\n",
      "{'z15', 'rmg', 'hbk', 'cbr', 'scs', 'bfn'}\n",
      "{'z15', 'rmg', 'sjr', 'hbk', 'cbr', 'scs', 'dfb', 'bfn', 'z14', 'wjj'}\n",
      "{'z15', 'rmg', 'bkb', 'sjr', 'hbk', 'cbr', 'scs', 'dfb', 'bfn', 'tck', 'z14', 'wjj'}\n",
      "{'z15', 'rmg', 'bkb', 'sjr', 'hbk', 'cbr', 'scs', 'dfb', 'bfn', 'tck', 'z14', 'wjj'}\n",
      "{'sjr', 'cjv', 'z15', 'dfb', 'bfn', 'tck', 'kvn', 'rmg', 'z19', 'hbk', 'cbr', 'prt', 'z14', 'fgr', 'bkb', 'scs', 'cjb', 'kbh', 'wjj'}\n",
      "{'rmg', 'z15', 'bkb', 'sjr', 'hbk', 'cbr', 'scs', 'prt', 'kbh', 'dfb', 'bfn', 'cjv', 'tck', 'kvn', 'z14', 'wjj'}\n",
      "{'rmg', 'z15', 'bkb', 'sjr', 'hbk', 'cbr', 'srm', 'scs', 'prt', 'kbh', 'dfb', 'bfn', 'cjv', 'tck', 'kvn', 'z14', 'z18', 'wjj'}\n",
      "{'rmg', 'z15', 'bkb', 'sjr', 'hbk', 'cbr', 'srm', 'scs', 'prt', 'kbh', 'dfb', 'bfn', 'cjv', 'tck', 'kvn', 'z14', 'z18', 'wjj'}\n",
      "{'rmg', 'z15', 'bkb', 'sjr', 'hbk', 'cbr', 'srm', 'scs', 'prt', 'kbh', 'dfb', 'bfn', 'cjv', 'tck', 'kvn', 'z14', 'z18', 'wjj'}\n",
      "{'wjj', 'sjr', 'rjm', 'cjv', 'z15', 'dfb', 'bfn', 'tck', 'kvn', 'bkv', 'rmg', 'z24', 'hbk', 'cbr', 'srm', 'prt', 'z14', 'dbb', 'bkb', 'scs', 'dvw', 'bwj', 'kbh', 'z18', 'jbb'}\n",
      "{'z23', 'wjj', 'sjr', 'rjm', 'cjv', 'z15', 'hpj', 'dfb', 'bfn', 'tck', 'kvn', 'bkv', 'rmg', 'z24', 'rpg', 'hbk', 'cbr', 'srm', 'prt', 'z14', 'dbb', 'bkb', 'scs', 'dvw', 'bwj', 'kbh', 'z18', 'jbb'}\n",
      "{'z23', 'wjj', 'sjr', 'cjv', 'z15', 'hpj', 'dfb', 'bfn', 'tck', 'kvn', 'bkv', 'rmg', 'z24', 'rpg', 'hbk', 'cbr', 'srm', 'prt', 'z14', 'dbb', 'bkb', 'scs', 'dvw', 'bwj', 'kbh', 'z18', 'jbb'}\n",
      "{'z23', 'wjj', 'sjr', 'cjv', 'z15', 'hpj', 'dfb', 'bfn', 'tck', 'kvn', 'bkv', 'rmg', 'z24', 'rpg', 'hbk', 'cbr', 'srm', 'prt', 'z14', 'dbb', 'bkb', 'scs', 'dvw', 'bwj', 'kbh', 'z18', 'jbb'}\n",
      "{'z23', 'wjj', 'sjr', 'cjv', 'z15', 'hpj', 'dfb', 'bfn', 'tck', 'kvn', 'bkv', 'rmg', 'z24', 'rpg', 'hbk', 'cbr', 'srm', 'prt', 'z14', 'dbb', 'bkb', 'scs', 'dvw', 'bwj', 'kbh', 'z18', 'jbb'}\n",
      "{'z23', 'wjj', 'sjr', 'cjv', 'z15', 'hpj', 'dfb', 'bfn', 'tck', 'kvn', 'bkv', 'rmg', 'z24', 'rpg', 'hbk', 'cbr', 'srm', 'prt', 'z14', 'dbb', 'bkb', 'scs', 'dvw', 'bwj', 'kbh', 'z18', 'jbb'}\n",
      "{'z23', 'wjj', 'sjr', 'cjv', 'z15', 'hpj', 'dfb', 'bfn', 'tck', 'kvn', 'bkv', 'rmg', 'z24', 'rpg', 'hbk', 'cbr', 'srm', 'prt', 'z14', 'dbb', 'bkb', 'scs', 'dvw', 'bwj', 'kbh', 'z18', 'jbb'}\n",
      "{'z23', 'wjj', 'sjr', 'cjv', 'z15', 'hpj', 'dfb', 'bfn', 'tck', 'kvn', 'bkv', 'rmg', 'z24', 'rpg', 'hbk', 'cbr', 'srm', 'prt', 'z14', 'dbb', 'bkb', 'scs', 'dvw', 'bwj', 'kbh', 'z18', 'jbb'}\n",
      "{'z23', 'wjj', 'sjr', 'cjv', 'z15', 'hpj', 'dfb', 'bfn', 'tck', 'kvn', 'bkv', 'rmg', 'z24', 'rpg', 'hbk', 'cbr', 'srm', 'prt', 'z14', 'dbb', 'bkb', 'scs', 'dvw', 'bwj', 'kbh', 'z18', 'jbb'}\n",
      "{'z23', 'wjj', 'sjr', 'cjv', 'z15', 'hpj', 'dfb', 'bfn', 'tck', 'kvn', 'bkv', 'rmg', 'z24', 'rpg', 'hbk', 'cbr', 'srm', 'prt', 'z14', 'dbb', 'bkb', 'scs', 'dvw', 'bwj', 'kbh', 'z18', 'jbb'}\n",
      "{'z23', 'wjj', 'sjr', 'cjv', 'z15', 'hpj', 'dfb', 'bfn', 'tck', 'kvn', 'bkv', 'rmg', 'z24', 'rpg', 'hbk', 'cbr', 'srm', 'prt', 'z14', 'dbb', 'bkb', 'scs', 'dvw', 'bwj', 'kbh', 'z18', 'jbb'}\n",
      "{'z23', 'wjj', 'sjr', 'cjv', 'z15', 'hpj', 'dfb', 'bfn', 'tck', 'kvn', 'bkv', 'rmg', 'z24', 'rpg', 'hbk', 'cbr', 'srm', 'prt', 'z14', 'dbb', 'bkb', 'scs', 'dvw', 'bwj', 'kbh', 'z18', 'jbb'}\n",
      "{'z23', 'sjr', 'cqv', 'cjv', 'z15', 'hpj', 'dfb', 'bfn', 'tck', 'kvn', 'bkv', 'rmg', 'z24', 'rpg', 'hbk', 'cbr', 'srm', 'cht', 'prt', 'tfn', 'z35', 'z14', 'dbb', 'jbb', 'bkb', 'scs', 'dvw', 'bwj', 'kbh', 'z18', 'wjj'}\n",
      "{'z23', 'sjr', 'cqv', 'cjv', 'z15', 'cvh', 'hpj', 'dfb', 'bfn', 'tck', 'kvn', 'bkv', 'rmg', 'z24', 'rpg', 'hbk', 'cbr', 'srm', 'cht', 'prt', 'tfn', 'z35', 'z14', 'dbb', 'jbb', 'bkb', 'scs', 'dvw', 'bwj', 'kbh', 'jss', 'z18', 'wjj'}\n",
      "{'z23', 'sjr', 'cqv', 'cjv', 'z15', 'cvh', 'hpj', 'dfb', 'bfn', 'tck', 'kvn', 'bkv', 'rmg', 'z24', 'rpg', 'hbk', 'cbr', 'srm', 'cht', 'prt', 'tfn', 'z35', 'z14', 'dbb', 'jbb', 'bkb', 'scs', 'dvw', 'bwj', 'kbh', 'jss', 'z18', 'wjj'}\n",
      "{'z23', 'sjr', 'cqv', 'cjv', 'z15', 'cvh', 'hpj', 'dfb', 'bfn', 'tck', 'kvn', 'bkv', 'rmg', 'z24', 'rpg', 'hbk', 'cbr', 'srm', 'cht', 'prt', 'tfn', 'z35', 'z14', 'dbb', 'jbb', 'bkb', 'scs', 'dvw', 'bwj', 'kbh', 'jss', 'z18', 'wjj'}\n",
      "{'z23', 'sjr', 'cqv', 'cjv', 'z15', 'cvh', 'hpj', 'dfb', 'bfn', 'tck', 'kvn', 'bkv', 'rmg', 'z24', 'rpg', 'hbk', 'cbr', 'srm', 'cht', 'prt', 'tfn', 'z35', 'z14', 'dbb', 'jbb', 'bkb', 'scs', 'dvw', 'bwj', 'kbh', 'jss', 'z18', 'wjj'}\n",
      "{'z23', 'sjr', 'cqv', 'cjv', 'z15', 'cvh', 'hpj', 'dfb', 'bfn', 'tck', 'kvn', 'bkv', 'rmg', 'z24', 'rpg', 'hbk', 'cbr', 'srm', 'cht', 'prt', 'tfn', 'z35', 'z14', 'dbb', 'jbb', 'bkb', 'scs', 'dvw', 'bwj', 'kbh', 'jss', 'z18', 'wjj'}\n",
      "{'z23', 'sjr', 'cqv', 'cjv', 'z15', 'cvh', 'hpj', 'dfb', 'bfn', 'tck', 'kvn', 'bkv', 'rmg', 'z24', 'rpg', 'hbk', 'cbr', 'srm', 'cht', 'prt', 'tfn', 'z35', 'z14', 'dbb', 'jbb', 'bkb', 'scs', 'dvw', 'bwj', 'kbh', 'jss', 'z18', 'wjj'}\n",
      "{'z23', 'sjr', 'cqv', 'cjv', 'z15', 'cvh', 'hpj', 'dfb', 'bfn', 'tck', 'kvn', 'bkv', 'rmg', 'z24', 'rpg', 'hbk', 'cbr', 'srm', 'cht', 'prt', 'tfn', 'z35', 'z14', 'dbb', 'jbb', 'bkb', 'scs', 'dvw', 'bwj', 'kbh', 'jss', 'z18', 'wjj'}\n",
      "{'z23', 'sjr', 'cqv', 'cjv', 'z15', 'cvh', 'hpj', 'dfb', 'bfn', 'tck', 'kvn', 'bkv', 'rmg', 'z24', 'rpg', 'hbk', 'cbr', 'srm', 'cht', 'prt', 'tfn', 'z35', 'z14', 'dbb', 'jbb', 'bkb', 'scs', 'dvw', 'bwj', 'kbh', 'jss', 'z18', 'wjj'}\n",
      "{'z23', 'sjr', 'cqv', 'cjv', 'z15', 'cvh', 'hpj', 'dfb', 'bfn', 'tck', 'kvn', 'bkv', 'rmg', 'z24', 'rpg', 'hbk', 'cbr', 'srm', 'cht', 'prt', 'tfn', 'z35', 'z14', 'dbb', 'jbb', 'bkb', 'scs', 'dvw', 'bwj', 'kbh', 'jss', 'z18', 'wjj'}\n"
     ]
    }
   ],
   "source": [
    "ref_signals = simulate(0,0, gates)[1]\n",
    "\n",
    "correct = set()\n",
    "maybe_incorrect = set()\n",
    "\n",
    "for i in range(43):\n",
    "    ok, signals = simulate(3<<i,1<<i, gates)\n",
    "    changed = set(dictdiff(signals, ref_signals))\n",
    "    if ok:\n",
    "        correct |= changed\n",
    "    else:\n",
    "        maybe_incorrect |= changed\n",
    "    print(maybe_incorrect-correct)"
   ]
  },
  {
   "cell_type": "code",
   "execution_count": 322,
   "id": "c50c5e3a",
   "metadata": {},
   "outputs": [
    {
     "data": {
      "text/plain": [
       "40920"
      ]
     },
     "execution_count": 322,
     "metadata": {},
     "output_type": "execute_result"
    }
   ],
   "source": [
    "from math import comb\n",
    "comb(33,4)"
   ]
  },
  {
   "cell_type": "code",
   "execution_count": 317,
   "id": "619dec2c",
   "metadata": {},
   "outputs": [],
   "source": [
    "incorrect = maybe_incorrect - correct"
   ]
  },
  {
   "cell_type": "code",
   "execution_count": 318,
   "id": "134542d6",
   "metadata": {},
   "outputs": [
    {
     "data": {
      "text/plain": [
       "33"
      ]
     },
     "execution_count": 318,
     "metadata": {},
     "output_type": "execute_result"
    }
   ],
   "source": [
    "len(incorrect)"
   ]
  },
  {
   "cell_type": "code",
   "execution_count": 319,
   "id": "b5cea69a",
   "metadata": {},
   "outputs": [],
   "source": [
    "sol = set(['tfn', 'cvh', 'z18', 'kvn', 'z14', 'hbk', 'z23', 'dbb'])"
   ]
  },
  {
   "cell_type": "code",
   "execution_count": 320,
   "id": "e47c8237",
   "metadata": {},
   "outputs": [
    {
     "data": {
      "text/plain": [
       "set()"
      ]
     },
     "execution_count": 320,
     "metadata": {},
     "output_type": "execute_result"
    }
   ],
   "source": [
    "sol - incorrect"
   ]
  },
  {
   "cell_type": "code",
   "execution_count": null,
   "id": "fc62f092",
   "metadata": {},
   "outputs": [],
   "source": []
  },
  {
   "cell_type": "code",
   "execution_count": null,
   "id": "c6c248b4",
   "metadata": {},
   "outputs": [],
   "source": []
  },
  {
   "cell_type": "code",
   "execution_count": null,
   "id": "3a1f167f",
   "metadata": {},
   "outputs": [],
   "source": []
  },
  {
   "cell_type": "code",
   "execution_count": null,
   "id": "c7a78c70",
   "metadata": {},
   "outputs": [],
   "source": []
  },
  {
   "cell_type": "code",
   "execution_count": 36,
   "id": "27c3ed50",
   "metadata": {},
   "outputs": [],
   "source": [
    "def as_signals(num, name):\n",
    "    i = 0\n",
    "    signals = {}\n",
    "    while num:\n",
    "        signals[f'{name}{i}'] = num & 1\n",
    "        i += 1\n",
    "        num >>= 1\n",
    "    return signals"
   ]
  },
  {
   "cell_type": "code",
   "execution_count": 38,
   "id": "522363b2",
   "metadata": {},
   "outputs": [
    {
     "data": {
      "text/plain": [
       "{'x0': 1, 'x1': 0, 'x2': 1}"
      ]
     },
     "execution_count": 38,
     "metadata": {},
     "output_type": "execute_result"
    }
   ],
   "source": [
    "as_signals(5,'x')"
   ]
  },
  {
   "cell_type": "code",
   "execution_count": 39,
   "id": "f2fb2630",
   "metadata": {},
   "outputs": [],
   "source": [
    "def simulate(data, x, y):\n",
    "\n",
    "    signals, gates = data\n",
    "    signals = {k: 0 for k in signals} | as_signals(x, 'x') | as_signals(y, 'y')\n",
    "    gates = gates.copy()\n",
    "    \n",
    "    changed = True\n",
    "    while changed:\n",
    "        changed = False\n",
    "\n",
    "        for c, (op, a, b) in list(gates.items()):\n",
    "            if a in signals and b in signals:\n",
    "                signals[c] = OPS[op](signals[a], signals[b])\n",
    "                gates.pop(c)\n",
    "                changed = True\n",
    "\n",
    "    num = 0\n",
    "    for k, v in signals.items():\n",
    "        if k.startswith('z') and v == 1:\n",
    "            i = int(k[1:])\n",
    "            num |= (1 << i)\n",
    "    return num"
   ]
  },
  {
   "cell_type": "code",
   "execution_count": 169,
   "id": "d9878800",
   "metadata": {},
   "outputs": [],
   "source": [
    "def translate(data, swaps):\n",
    "    signals, gates = data\n",
    "    signals, gates = signals.copy(), gates.copy()\n",
    "    \n",
    "    for a, b in swaps:\n",
    "        gates[a], gates[b] = gates.pop(b), gates.pop(a)\n",
    "    \n",
    "    names = {}\n",
    "    def rename(orig, new):\n",
    "        if any(c in '0123456789' for c in orig):\n",
    "            return\n",
    "        names[new] = orig\n",
    "        if orig not in gates: \n",
    "            return\n",
    "        gates[new] = gates.pop(orig)\n",
    "        for c, (op, a, b) in gates.items():\n",
    "            a = a if a != orig else new\n",
    "            b = b if b != orig else new\n",
    "            gates[c] = (op, a, b)\n",
    "    \n",
    "    for c, (op, a, b) in list(gates.items()):\n",
    "        if op == 'XOR' and a[0] == 'x' and b[0] == 'y' and a[1:] == b[1:]:\n",
    "            rename(c, f's{a[1:]}')\n",
    "        if op == 'AND' and a[0] == 'x' and b[0] == 'y' and a[1:] == b[1:]:\n",
    "            rename(c, f'a{a[1:]}')\n",
    "            \n",
    "        if op == 'XOR' and b[0] == 'x' and a[0] == 'y' and a[1:] == b[1:]:\n",
    "            rename(c, f's{a[1:]}')\n",
    "        if op == 'AND' and b[0] == 'x' and a[0] == 'y' and a[1:] == b[1:]:\n",
    "            rename(c, f'a{a[1:]}')\n",
    "            \n",
    "    for _ in range(45):\n",
    "        for c, (op, a, b) in list(gates.items()):\n",
    "            if op == 'XOR' and c.startswith('z'):\n",
    "                if a.startswith('s') and c[1:] == a[1:]:\n",
    "                    rename(b, f'c{a[1:]}')\n",
    "                if b.startswith('s') and c[1:] == b[1:]:\n",
    "                    rename(a, f'c{b[1:]}')\n",
    "\n",
    "            if op == 'AND' and a[0] == 'c' and b[0] == 's' and a[1:] == b[1:]:\n",
    "                rename(c, f'b{a[1:]}')\n",
    "#                 i = 1 + int(a[1:])\n",
    "#                 rename(c, f'b{i:02d}')\n",
    "            if op == 'AND' and a[0] == 's' and b[0] == 'c' and a[1:] == b[1:]:\n",
    "                rename(c, f'b{a[1:]}')\n",
    "            \n",
    "            if op == 'OR' and a[0] == 'a' and b[0] == 'b' and a[1:] == b[1:]:\n",
    "                i = 1 + int(a[1:])\n",
    "                rename(c, f'c{i:02d}')\n",
    "            if op == 'OR' and a[0] == 'b' and b[0] == 'a' and a[1:] == b[1:]:\n",
    "                i = 1 + int(a[1:])\n",
    "                rename(c, f'c{i:02d}')\n",
    "                \n",
    "    return gates, names"
   ]
  },
  {
   "cell_type": "code",
   "execution_count": 182,
   "id": "21f1dcc9",
   "metadata": {},
   "outputs": [],
   "source": [
    "gates, names = translate(data, [\n",
    "    ('tfn', 'cvh'), \n",
    "    ('z18', 'kvn'),\n",
    "    ('z14', 'hbk'), \n",
    "    ('z23', 'dbb')\n",
    "])"
   ]
  },
  {
   "cell_type": "code",
   "execution_count": 186,
   "id": "3b0e71af",
   "metadata": {},
   "outputs": [
    {
     "data": {
      "text/plain": [
       "'cvh,dbb,hbk,kvn,tfn,z14,z18,z23'"
      ]
     },
     "execution_count": 186,
     "metadata": {},
     "output_type": "execute_result"
    }
   ],
   "source": [
    "swaps = [\n",
    "    ('tfn', 'cvh'), \n",
    "    ('z18', 'kvn'),\n",
    "    ('z14', 'hbk'), \n",
    "    ('z23', 'dbb')\n",
    "]\n",
    "','.join(sorted([i for pair in swaps for i in pair]))"
   ]
  },
  {
   "cell_type": "code",
   "execution_count": null,
   "id": "5456c804",
   "metadata": {},
   "outputs": [],
   "source": []
  },
  {
   "cell_type": "code",
   "execution_count": null,
   "id": "3d0ed3fc",
   "metadata": {},
   "outputs": [],
   "source": []
  },
  {
   "cell_type": "code",
   "execution_count": 183,
   "id": "bbff9198",
   "metadata": {},
   "outputs": [],
   "source": [
    "have = set()\n",
    "for c, (op, a, b) in gates.items():\n",
    "    a, b = sorted([a,b])\n",
    "    rule = f'{c} = {a} {op} {b}'\n",
    "    have.add(rule)\n",
    "        \n",
    "want = set(['c01 = x00 AND y00', 'z45 = a44 OR b44', 'z00 = x00 XOR y00', 'z01 = a00 XOR s01' ])\n",
    "for i in range(45):\n",
    "    want.add(f'a{i:02d} = x{i:02d} AND y{i:02d}')\n",
    "    want.add(f's{i:02d} = x{i:02d} XOR y{i:02d}')\n",
    "    want.add(f'z{i:02d} = c{i:02d} XOR s{i:02d}')\n",
    "    want.add(f'b{i:02d} = c{i:02d} AND s{i:02d}')\n",
    "    want.add(f'c{i+1:02d} = a{i:02d} OR b{i:02d}')"
   ]
  },
  {
   "cell_type": "code",
   "execution_count": 184,
   "id": "b65b069c",
   "metadata": {},
   "outputs": [
    {
     "data": {
      "text/plain": [
       "['c02 = a01 OR spq', 'spq = a00 AND s01']"
      ]
     },
     "execution_count": 184,
     "metadata": {},
     "output_type": "execute_result"
    }
   ],
   "source": [
    "sorted(have-want)"
   ]
  },
  {
   "cell_type": "code",
   "execution_count": 175,
   "id": "8a4cf001",
   "metadata": {},
   "outputs": [
    {
     "data": {
      "text/plain": [
       "'hbk'"
      ]
     },
     "execution_count": 175,
     "metadata": {},
     "output_type": "execute_result"
    }
   ],
   "source": []
  },
  {
   "cell_type": "code",
   "execution_count": null,
   "id": "6c770a9a",
   "metadata": {},
   "outputs": [],
   "source": []
  },
  {
   "cell_type": "code",
   "execution_count": 157,
   "id": "794f36bc",
   "metadata": {},
   "outputs": [
    {
     "data": {
      "text/plain": [
       "['b33 = c33 AND s33', 'c34 = a33 OR b33']"
      ]
     },
     "execution_count": 157,
     "metadata": {},
     "output_type": "execute_result"
    }
   ],
   "source": [
    "[r for r in have if 'b33' in r]"
   ]
  },
  {
   "cell_type": "code",
   "execution_count": null,
   "id": "18319c54",
   "metadata": {},
   "outputs": [],
   "source": []
  },
  {
   "cell_type": "code",
   "execution_count": 120,
   "id": "d51c13d5",
   "metadata": {},
   "outputs": [
    {
     "data": {
      "text/plain": [
       "[('a01', ('AND', 'x01', 'y01')),\n",
       " ('a02', ('AND', 'y02', 'x02')),\n",
       " ('a03', ('AND', 'y03', 'x03')),\n",
       " ('a04', ('AND', 'x04', 'y04')),\n",
       " ('a05', ('AND', 'y05', 'x05')),\n",
       " ('a06', ('AND', 'x06', 'y06')),\n",
       " ('a07', ('AND', 'x07', 'y07')),\n",
       " ('a08', ('AND', 'x08', 'y08')),\n",
       " ('a09', ('AND', 'x09', 'y09')),\n",
       " ('a10', ('AND', 'x10', 'y10')),\n",
       " ('a11', ('AND', 'y11', 'x11')),\n",
       " ('a12', ('AND', 'y12', 'x12')),\n",
       " ('a13', ('AND', 'y13', 'x13')),\n",
       " ('a14', ('AND', 'y14', 'x14')),\n",
       " ('a15', ('AND', 'y15', 'x15')),\n",
       " ('a16', ('AND', 'y16', 'x16')),\n",
       " ('a17', ('AND', 'x17', 'y17')),\n",
       " ('a18', ('AND', 'y18', 'x18')),\n",
       " ('a19', ('AND', 'x19', 'y19')),\n",
       " ('a20', ('AND', 'y20', 'x20')),\n",
       " ('a21', ('AND', 'y21', 'x21')),\n",
       " ('a22', ('AND', 'y22', 'x22')),\n",
       " ('a23', ('AND', 'x23', 'y23')),\n",
       " ('a24', ('AND', 'y24', 'x24')),\n",
       " ('a25', ('AND', 'x25', 'y25')),\n",
       " ('a26', ('AND', 'x26', 'y26')),\n",
       " ('a27', ('AND', 'y27', 'x27')),\n",
       " ('a28', ('AND', 'y28', 'x28')),\n",
       " ('a29', ('AND', 'y29', 'x29')),\n",
       " ('a30', ('AND', 'x30', 'y30')),\n",
       " ('a31', ('AND', 'y31', 'x31')),\n",
       " ('a32', ('AND', 'x32', 'y32')),\n",
       " ('a33', ('AND', 'y33', 'x33')),\n",
       " ('a34', ('AND', 'y34', 'x34')),\n",
       " ('a35', ('AND', 'y35', 'x35')),\n",
       " ('a36', ('AND', 'x36', 'y36')),\n",
       " ('a37', ('AND', 'y37', 'x37')),\n",
       " ('a38', ('AND', 'y38', 'x38')),\n",
       " ('a39', ('AND', 'y39', 'x39')),\n",
       " ('a40', ('AND', 'y40', 'x40')),\n",
       " ('a41', ('AND', 'y41', 'x41')),\n",
       " ('a42', ('AND', 'x42', 'y42')),\n",
       " ('a43', ('AND', 'y43', 'x43')),\n",
       " ('a44', ('AND', 'x44', 'y44')),\n",
       " ('b02', ('AND', 's01', 'c01')),\n",
       " ('b03', ('AND', 's02', 'c02')),\n",
       " ('b04', ('AND', 's03', 'c03')),\n",
       " ('b05', ('AND', 's04', 'c04')),\n",
       " ('b06', ('AND', 's05', 'c05')),\n",
       " ('b07', ('AND', 'c06', 's06')),\n",
       " ('b08', ('AND', 'c07', 's07')),\n",
       " ('b09', ('AND', 's08', 'c08')),\n",
       " ('b10', ('AND', 's09', 'c09')),\n",
       " ('b11', ('AND', 's10', 'c10')),\n",
       " ('b12', ('AND', 's11', 'c11')),\n",
       " ('b13', ('AND', 'c12', 's12')),\n",
       " ('b14', ('AND', 'c13', 's13')),\n",
       " ('b16', ('AND', 's15', 'c15')),\n",
       " ('b17', ('AND', 'c16', 's16')),\n",
       " ('b18', ('AND', 's17', 'c17')),\n",
       " ('b20', ('AND', 's19', 'c19')),\n",
       " ('b21', ('AND', 'c20', 's20')),\n",
       " ('b22', ('AND', 's21', 'c21')),\n",
       " ('b23', ('AND', 'c22', 's22')),\n",
       " ('b25', ('AND', 'c24', 's24')),\n",
       " ('b26', ('AND', 's25', 'c25')),\n",
       " ('b27', ('AND', 'c26', 's26')),\n",
       " ('b28', ('AND', 'c27', 's27')),\n",
       " ('b29', ('AND', 's28', 'c28')),\n",
       " ('b30', ('AND', 's29', 'c29')),\n",
       " ('b31', ('AND', 's30', 'c30')),\n",
       " ('b32', ('AND', 'c31', 's31')),\n",
       " ('b33', ('AND', 's32', 'c32')),\n",
       " ('b34', ('AND', 's33', 'c33')),\n",
       " ('b36', ('AND', 'c35', 's35')),\n",
       " ('b37', ('AND', 's36', 'c36')),\n",
       " ('b38', ('AND', 'c37', 's37')),\n",
       " ('b39', ('AND', 's38', 'c38')),\n",
       " ('b40', ('AND', 'c39', 's39')),\n",
       " ('b41', ('AND', 's40', 'c40')),\n",
       " ('b42', ('AND', 's41', 'c41')),\n",
       " ('b43', ('AND', 'c42', 's42')),\n",
       " ('b44', ('AND', 'c43', 's43')),\n",
       " ('b45', ('AND', 's44', 'c44')),\n",
       " ('bfn', ('OR', 'a13', 'b14')),\n",
       " ('c01', ('AND', 'x00', 'y00')),\n",
       " ('c02', ('OR', 'a01', 'b02')),\n",
       " ('c03', ('OR', 'b03', 'a02')),\n",
       " ('c04', ('OR', 'b04', 'a03')),\n",
       " ('c05', ('OR', 'a04', 'b05')),\n",
       " ('c06', ('OR', 'b06', 'a05')),\n",
       " ('c07', ('OR', 'b07', 'a06')),\n",
       " ('c08', ('OR', 'a07', 'b08')),\n",
       " ('c09', ('OR', 'b09', 'a08')),\n",
       " ('c10', ('OR', 'b10', 'a09')),\n",
       " ('c11', ('OR', 'a10', 'b11')),\n",
       " ('c12', ('OR', 'b12', 'a11')),\n",
       " ('c13', ('OR', 'b13', 'a12')),\n",
       " ('c15', ('XOR', 's14', 'bfn')),\n",
       " ('c16', ('OR', 'a15', 'b16')),\n",
       " ('c17', ('OR', 'a16', 'b17')),\n",
       " ('c19', ('OR', 'kvn', 'ffb')),\n",
       " ('c20', ('OR', 'a19', 'b20')),\n",
       " ('c21', ('OR', 'a20', 'b21')),\n",
       " ('c22', ('OR', 'a21', 'b22')),\n",
       " ('c24', ('OR', 'a23', 'dbb')),\n",
       " ('c25', ('OR', 'a24', 'b25')),\n",
       " ('c26', ('OR', 'b26', 'a25')),\n",
       " ('c27', ('OR', 'b27', 'a26')),\n",
       " ('c28', ('OR', 'b28', 'a27')),\n",
       " ('c29', ('OR', 'b29', 'a28')),\n",
       " ('c30', ('OR', 'a29', 'b30')),\n",
       " ('c31', ('OR', 'a30', 'b31')),\n",
       " ('c32', ('OR', 'b32', 'a31')),\n",
       " ('c33', ('OR', 'b33', 'a32')),\n",
       " ('c35', ('OR', 's34', 'trj')),\n",
       " ('c36', ('OR', 'b36', 'a35')),\n",
       " ('c37', ('OR', 'b37', 'a36')),\n",
       " ('c38', ('OR', 'a37', 'b38')),\n",
       " ('c39', ('OR', 'b39', 'a38')),\n",
       " ('c40', ('OR', 'b40', 'a39')),\n",
       " ('c41', ('OR', 'b41', 'a40')),\n",
       " ('c42', ('OR', 'b42', 'a41')),\n",
       " ('c43', ('OR', 'a42', 'b43')),\n",
       " ('c44', ('OR', 'b44', 'a43')),\n",
       " ('dbb', ('XOR', 'dvw', 's23')),\n",
       " ('dvw', ('OR', 'b23', 'a22')),\n",
       " ('ffb', ('AND', 'fgr', 's18')),\n",
       " ('fgr', ('OR', 'b18', 'a17')),\n",
       " ('kvn', ('XOR', 's18', 'fgr')),\n",
       " ('mqf', ('OR', 'a33', 'b34')),\n",
       " ('s00', ('XOR', 'x00', 'y00')),\n",
       " ('s01', ('XOR', 'y01', 'x01')),\n",
       " ('s02', ('XOR', 'y02', 'x02')),\n",
       " ('s03', ('XOR', 'x03', 'y03')),\n",
       " ('s04', ('XOR', 'x04', 'y04')),\n",
       " ('s05', ('XOR', 'y05', 'x05')),\n",
       " ('s06', ('XOR', 'y06', 'x06')),\n",
       " ('s07', ('XOR', 'y07', 'x07')),\n",
       " ('s08', ('XOR', 'x08', 'y08')),\n",
       " ('s09', ('XOR', 'y09', 'x09')),\n",
       " ('s10', ('XOR', 'x10', 'y10')),\n",
       " ('s11', ('XOR', 'y11', 'x11')),\n",
       " ('s12', ('XOR', 'y12', 'x12')),\n",
       " ('s13', ('XOR', 'y13', 'x13')),\n",
       " ('s14', ('XOR', 'y14', 'x14')),\n",
       " ('s15', ('XOR', 'x15', 'y15')),\n",
       " ('s16', ('XOR', 'x16', 'y16')),\n",
       " ('s17', ('XOR', 'x17', 'y17')),\n",
       " ('s18', ('XOR', 'x18', 'y18')),\n",
       " ('s19', ('XOR', 'y19', 'x19')),\n",
       " ('s20', ('XOR', 'y20', 'x20')),\n",
       " ('s21', ('XOR', 'x21', 'y21')),\n",
       " ('s22', ('XOR', 'x22', 'y22')),\n",
       " ('s23', ('XOR', 'y23', 'x23')),\n",
       " ('s24', ('XOR', 'y24', 'x24')),\n",
       " ('s25', ('XOR', 'x25', 'y25')),\n",
       " ('s26', ('XOR', 'x26', 'y26')),\n",
       " ('s27', ('XOR', 'x27', 'y27')),\n",
       " ('s28', ('XOR', 'x28', 'y28')),\n",
       " ('s29', ('XOR', 'y29', 'x29')),\n",
       " ('s30', ('XOR', 'y30', 'x30')),\n",
       " ('s31', ('XOR', 'x31', 'y31')),\n",
       " ('s32', ('XOR', 'y32', 'x32')),\n",
       " ('s33', ('XOR', 'x33', 'y33')),\n",
       " ('s34', ('XOR', 'x34', 'y34')),\n",
       " ('s35', ('XOR', 'y35', 'x35')),\n",
       " ('s36', ('XOR', 'x36', 'y36')),\n",
       " ('s37', ('XOR', 'y37', 'x37')),\n",
       " ('s38', ('XOR', 'y38', 'x38')),\n",
       " ('s39', ('XOR', 'y39', 'x39')),\n",
       " ('s40', ('XOR', 'y40', 'x40')),\n",
       " ('s41', ('XOR', 'y41', 'x41')),\n",
       " ('s42', ('XOR', 'y42', 'x42')),\n",
       " ('s43', ('XOR', 'y43', 'x43')),\n",
       " ('s44', ('XOR', 'x44', 'y44')),\n",
       " ('sjr', ('AND', 'bfn', 's14')),\n",
       " ('trj', ('AND', 'mqf', 'a34')),\n",
       " ('z01', ('XOR', 'c01', 's01')),\n",
       " ('z02', ('XOR', 'c02', 's02')),\n",
       " ('z03', ('XOR', 'c03', 's03')),\n",
       " ('z04', ('XOR', 'c04', 's04')),\n",
       " ('z05', ('XOR', 'c05', 's05')),\n",
       " ('z06', ('XOR', 'c06', 's06')),\n",
       " ('z07', ('XOR', 'c07', 's07')),\n",
       " ('z08', ('XOR', 'c08', 's08')),\n",
       " ('z09', ('XOR', 's09', 'c09')),\n",
       " ('z10', ('XOR', 'c10', 's10')),\n",
       " ('z11', ('XOR', 's11', 'c11')),\n",
       " ('z12', ('XOR', 's12', 'c12')),\n",
       " ('z13', ('XOR', 's13', 'c13')),\n",
       " ('z14', ('OR', 'sjr', 'a14')),\n",
       " ('z15', ('XOR', 'c15', 's15')),\n",
       " ('z16', ('XOR', 'c16', 's16')),\n",
       " ('z17', ('XOR', 's17', 'c17')),\n",
       " ('z19', ('XOR', 'c19', 's19')),\n",
       " ('z20', ('XOR', 's20', 'c20')),\n",
       " ('z21', ('XOR', 's21', 'c21')),\n",
       " ('z22', ('XOR', 'c22', 's22')),\n",
       " ('z23', ('AND', 'dvw', 's23')),\n",
       " ('z24', ('XOR', 'c24', 's24')),\n",
       " ('z25', ('XOR', 'c25', 's25')),\n",
       " ('z26', ('XOR', 'c26', 's26')),\n",
       " ('z27', ('XOR', 'c27', 's27')),\n",
       " ('z28', ('XOR', 'c28', 's28')),\n",
       " ('z29', ('XOR', 'c29', 's29')),\n",
       " ('z30', ('XOR', 'c30', 's30')),\n",
       " ('z31', ('XOR', 'c31', 's31')),\n",
       " ('z32', ('XOR', 's32', 'c32')),\n",
       " ('z33', ('XOR', 'c33', 's33')),\n",
       " ('z34', ('XOR', 'mqf', 'a34')),\n",
       " ('z35', ('XOR', 's35', 'c35')),\n",
       " ('z36', ('XOR', 'c36', 's36')),\n",
       " ('z37', ('XOR', 's37', 'c37')),\n",
       " ('z38', ('XOR', 'c38', 's38')),\n",
       " ('z39', ('XOR', 's39', 'c39')),\n",
       " ('z40', ('XOR', 's40', 'c40')),\n",
       " ('z41', ('XOR', 's41', 'c41')),\n",
       " ('z42', ('XOR', 'c42', 's42')),\n",
       " ('z43', ('XOR', 's43', 'c43')),\n",
       " ('z44', ('XOR', 's44', 'c44')),\n",
       " ('z45', ('OR', 'b45', 'a44'))]"
      ]
     },
     "execution_count": 120,
     "metadata": {},
     "output_type": "execute_result"
    }
   ],
   "source": [
    "sorted(gates.items())"
   ]
  },
  {
   "cell_type": "code",
   "execution_count": null,
   "id": "10fb9a05",
   "metadata": {},
   "outputs": [],
   "source": [
    " ('bfn', ('OR', 'a13', 'b14')),\n",
    "    \n",
    " ('dbb', ('XOR', 'dvw', 's23')),\n",
    " ('dvw', ('OR', 'b23', 'a22')),\n",
    "    \n",
    " ('ffb', ('AND', 'fgr', 's18')),\n",
    "\n",
    "('fgr', ('OR', 'b18', 'a17')),\n",
    " ('kvn', ('XOR', 's18', 'fgr')),\n",
    "    \n",
    " ('mqf', ('OR', 'a33', 'b34')),\n",
    "\n",
    " ('z45', ('OR', 'b45', 'a44'))]\n"
   ]
  },
  {
   "cell_type": "code",
   "execution_count": null,
   "id": "4aa069fd",
   "metadata": {},
   "outputs": [],
   "source": [
    "new_gates = {}\n",
    "for c, (op, a, b) in gates.items():\n",
    "    i = "
   ]
  },
  {
   "cell_type": "code",
   "execution_count": null,
   "id": "84801e1d",
   "metadata": {},
   "outputs": [],
   "source": []
  },
  {
   "cell_type": "code",
   "execution_count": null,
   "id": "0efa548c",
   "metadata": {},
   "outputs": [],
   "source": []
  },
  {
   "cell_type": "code",
   "execution_count": null,
   "id": "249d4157",
   "metadata": {},
   "outputs": [],
   "source": []
  },
  {
   "cell_type": "code",
   "execution_count": null,
   "id": "5d3555d1",
   "metadata": {},
   "outputs": [],
   "source": []
  },
  {
   "cell_type": "code",
   "execution_count": 46,
   "id": "1d2c21c0",
   "metadata": {},
   "outputs": [],
   "source": [
    "from functools import cache"
   ]
  },
  {
   "cell_type": "code",
   "execution_count": 63,
   "id": "9019056c",
   "metadata": {},
   "outputs": [],
   "source": [
    "def all_ancestors(data):\n",
    "    signals, gates = data\n",
    "    outputs = {z: None for z in gates if z.startswith('z')}\n",
    "    @cache\n",
    "    def ancestors(signal):\n",
    "        if signal in signals:\n",
    "            return [signal]\n",
    "        _, a, b = gates[signal]\n",
    "        pa = ancestors(a) if a not in outputs else [a]\n",
    "        pb = ancestors(b) if b not in outputs else [b]\n",
    "        return sorted(set(pa + pb))\n",
    "    return {s: ancestors(s) for s in outputs}"
   ]
  },
  {
   "cell_type": "code",
   "execution_count": 89,
   "id": "f10e827a",
   "metadata": {},
   "outputs": [],
   "source": [
    "# all_ancestors(sample2)"
   ]
  },
  {
   "cell_type": "code",
   "execution_count": 65,
   "id": "f934c57c",
   "metadata": {},
   "outputs": [],
   "source": [
    "anc = all_ancestors(data)"
   ]
  },
  {
   "cell_type": "code",
   "execution_count": null,
   "id": "bcc5ebe5",
   "metadata": {},
   "outputs": [],
   "source": []
  },
  {
   "cell_type": "code",
   "execution_count": null,
   "id": "4041153b",
   "metadata": {},
   "outputs": [],
   "source": []
  },
  {
   "cell_type": "code",
   "execution_count": 42,
   "id": "972ac9b8",
   "metadata": {},
   "outputs": [
    {
     "data": {
      "text/plain": [
       "222"
      ]
     },
     "execution_count": 42,
     "metadata": {},
     "output_type": "execute_result"
    }
   ],
   "source": [
    "len(data[1])"
   ]
  },
  {
   "cell_type": "code",
   "execution_count": 43,
   "id": "78701e61",
   "metadata": {},
   "outputs": [
    {
     "data": {
      "text/plain": [
       "24531.0"
      ]
     },
     "execution_count": 43,
     "metadata": {},
     "output_type": "execute_result"
    }
   ],
   "source": [
    "222*(222-1)/2"
   ]
  },
  {
   "cell_type": "code",
   "execution_count": 44,
   "id": "d4e52f87",
   "metadata": {},
   "outputs": [],
   "source": [
    "from math import comb"
   ]
  },
  {
   "cell_type": "code",
   "execution_count": 45,
   "id": "766ffcd6",
   "metadata": {},
   "outputs": [
    {
     "data": {
      "text/plain": [
       "15084938352824340"
      ]
     },
     "execution_count": 45,
     "metadata": {},
     "output_type": "execute_result"
    }
   ],
   "source": [
    "comb(24531, 4)"
   ]
  },
  {
   "cell_type": "code",
   "execution_count": null,
   "id": "2e1ca983",
   "metadata": {},
   "outputs": [],
   "source": []
  },
  {
   "cell_type": "code",
   "execution_count": null,
   "id": "3d61a9fa",
   "metadata": {},
   "outputs": [],
   "source": []
  },
  {
   "cell_type": "code",
   "execution_count": null,
   "id": "6ffd5567",
   "metadata": {},
   "outputs": [],
   "source": []
  },
  {
   "cell_type": "code",
   "execution_count": 41,
   "id": "82449de7",
   "metadata": {},
   "outputs": [
    {
     "data": {
      "text/plain": [
       "0"
      ]
     },
     "execution_count": 41,
     "metadata": {},
     "output_type": "execute_result"
    }
   ],
   "source": [
    "simulate(sample, 0, 0)"
   ]
  },
  {
   "cell_type": "code",
   "execution_count": null,
   "id": "814b85da",
   "metadata": {},
   "outputs": [],
   "source": []
  },
  {
   "cell_type": "code",
   "execution_count": null,
   "id": "98786eef",
   "metadata": {},
   "outputs": [],
   "source": []
  },
  {
   "cell_type": "code",
   "execution_count": 26,
   "id": "9efe5c51",
   "metadata": {},
   "outputs": [
    {
     "data": {
      "text/plain": [
       "4"
      ]
     },
     "execution_count": 26,
     "metadata": {},
     "output_type": "execute_result"
    }
   ],
   "source": [
    "num"
   ]
  },
  {
   "cell_type": "code",
   "execution_count": null,
   "id": "68c047e5",
   "metadata": {},
   "outputs": [],
   "source": []
  },
  {
   "cell_type": "code",
   "execution_count": null,
   "id": "8575f52c",
   "metadata": {},
   "outputs": [],
   "source": []
  },
  {
   "cell_type": "code",
   "execution_count": null,
   "id": "f85ee3b3",
   "metadata": {},
   "outputs": [],
   "source": [
    "def solve_a(data):\n",
    "    pass"
   ]
  },
  {
   "cell_type": "code",
   "execution_count": null,
   "id": "d462bc86",
   "metadata": {},
   "outputs": [],
   "source": [
    "solve_a(sample)"
   ]
  },
  {
   "cell_type": "code",
   "execution_count": null,
   "id": "d5db86cf",
   "metadata": {},
   "outputs": [],
   "source": [
    "solve_a(data)"
   ]
  },
  {
   "cell_type": "code",
   "execution_count": null,
   "id": "77083851",
   "metadata": {},
   "outputs": [],
   "source": [
    "def solve_b(data):\n",
    "    pass"
   ]
  },
  {
   "cell_type": "code",
   "execution_count": null,
   "id": "d6e2ea2d",
   "metadata": {},
   "outputs": [],
   "source": [
    "solve_b(sample)"
   ]
  },
  {
   "cell_type": "code",
   "execution_count": null,
   "id": "89dc9c78",
   "metadata": {},
   "outputs": [],
   "source": [
    "solve_b(data)"
   ]
  },
  {
   "cell_type": "code",
   "execution_count": null,
   "id": "adfd1fdf",
   "metadata": {},
   "outputs": [],
   "source": []
  },
  {
   "cell_type": "code",
   "execution_count": null,
   "id": "5c638898",
   "metadata": {},
   "outputs": [],
   "source": []
  }
 ],
 "metadata": {
  "kernelspec": {
   "display_name": "Python 3 (ipykernel)",
   "language": "python",
   "name": "python3"
  },
  "language_info": {
   "codemirror_mode": {
    "name": "ipython",
    "version": 3
   },
   "file_extension": ".py",
   "mimetype": "text/x-python",
   "name": "python",
   "nbconvert_exporter": "python",
   "pygments_lexer": "ipython3",
   "version": "3.11.5"
  }
 },
 "nbformat": 4,
 "nbformat_minor": 5
}
