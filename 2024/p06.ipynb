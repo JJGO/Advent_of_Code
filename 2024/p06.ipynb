{
 "cells": [
  {
   "cell_type": "code",
   "execution_count": 1,
   "id": "5ba53d1e",
   "metadata": {},
   "outputs": [],
   "source": [
    "from aocd.models import Puzzle\n",
    "\n",
    "puzzle = Puzzle(year=2024, day=6)\n",
    "\n",
    "def parses(input):\n",
    "    return [\n",
    "        list(line) for line in input.strip().split('\\n')\n",
    "    ]\n",
    "\n",
    "# import re\n",
    "# def parses(input):\n",
    "#     return [int(re.findall('\\d', line)) for line in nput.strip().split('\\n')]\n",
    "\n",
    "data = parses(puzzle.input_data)"
   ]
  },
  {
   "cell_type": "code",
   "execution_count": 2,
   "id": "1d41ec51",
   "metadata": {},
   "outputs": [],
   "source": [
    "sample = parses(\"\"\"....#.....\n",
    ".........#\n",
    "..........\n",
    "..#.......\n",
    ".......#..\n",
    "..........\n",
    ".#..^.....\n",
    "........#.\n",
    "#.........\n",
    "......#...\"\"\")"
   ]
  },
  {
   "cell_type": "code",
   "execution_count": 3,
   "id": "488333d7",
   "metadata": {},
   "outputs": [
    {
     "data": {
      "text/plain": [
       "[['.', '.', '.', '.', '#', '.', '.', '.', '.', '.'],\n",
       " ['.', '.', '.', '.', '.', '.', '.', '.', '.', '#'],\n",
       " ['.', '.', '.', '.', '.', '.', '.', '.', '.', '.'],\n",
       " ['.', '.', '#', '.', '.', '.', '.', '.', '.', '.'],\n",
       " ['.', '.', '.', '.', '.', '.', '.', '#', '.', '.'],\n",
       " ['.', '.', '.', '.', '.', '.', '.', '.', '.', '.'],\n",
       " ['.', '#', '.', '.', '^', '.', '.', '.', '.', '.'],\n",
       " ['.', '.', '.', '.', '.', '.', '.', '.', '#', '.'],\n",
       " ['#', '.', '.', '.', '.', '.', '.', '.', '.', '.'],\n",
       " ['.', '.', '.', '.', '.', '.', '#', '.', '.', '.']]"
      ]
     },
     "execution_count": 3,
     "metadata": {},
     "output_type": "execute_result"
    }
   ],
   "source": [
    "sample"
   ]
  },
  {
   "cell_type": "code",
   "execution_count": null,
   "id": "788ec902",
   "metadata": {},
   "outputs": [],
   "source": []
  },
  {
   "cell_type": "code",
   "execution_count": 4,
   "id": "f85ee3b3",
   "metadata": {},
   "outputs": [],
   "source": [
    "def solve_a(data):\n",
    "    \n",
    "    obstacles = set()\n",
    "    valid = set()\n",
    "    guard = None\n",
    "    for i, row in enumerate(data):\n",
    "        for j, v in enumerate(row):\n",
    "            if v == '#':\n",
    "                obstacles.add(i+1j*j)\n",
    "            if v == '.':\n",
    "                valid.add(i+1j*j)\n",
    "\n",
    "            if v == '^':\n",
    "                if guard is not None:\n",
    "                    raise ValueError\n",
    "                guard = i + 1j *j\n",
    "                valid.add(guard)\n",
    "\n",
    "    mov = -1\n",
    "    rot90 = -1j\n",
    "\n",
    "    visited = set([guard])\n",
    "    while True:\n",
    "\n",
    "        nextg = guard + mov\n",
    "        while nextg in obstacles:\n",
    "            mov = mov * rot90\n",
    "            nextg = guard + mov\n",
    "\n",
    "        if nextg not in valid:\n",
    "            break\n",
    "        visited.add(nextg)\n",
    "\n",
    "        guard = nextg\n",
    "        \n",
    "    return len(visited)"
   ]
  },
  {
   "cell_type": "code",
   "execution_count": 5,
   "id": "d462bc86",
   "metadata": {},
   "outputs": [
    {
     "data": {
      "text/plain": [
       "41"
      ]
     },
     "execution_count": 5,
     "metadata": {},
     "output_type": "execute_result"
    }
   ],
   "source": [
    "solve_a(sample)"
   ]
  },
  {
   "cell_type": "code",
   "execution_count": 6,
   "id": "d5db86cf",
   "metadata": {},
   "outputs": [
    {
     "data": {
      "text/plain": [
       "4559"
      ]
     },
     "execution_count": 6,
     "metadata": {},
     "output_type": "execute_result"
    }
   ],
   "source": [
    "solve_a(data)"
   ]
  },
  {
   "cell_type": "code",
   "execution_count": 7,
   "id": "0183adcf",
   "metadata": {},
   "outputs": [],
   "source": [
    "def subsolve(data):\n",
    "    \n",
    "    obstacles = set()\n",
    "    valid = set()\n",
    "    guard = None\n",
    "    for i, row in enumerate(data):\n",
    "        for j, v in enumerate(row):\n",
    "            if v == '#':\n",
    "                obstacles.add(i+1j*j)\n",
    "            if v == '.':\n",
    "                valid.add(i+1j*j)\n",
    "\n",
    "            if v == '^':\n",
    "                if guard is not None:\n",
    "                    raise ValueError\n",
    "                guard = i + 1j *j\n",
    "                valid.add(guard)\n",
    "\n",
    "    mov = -1\n",
    "    rot90 = -1j\n",
    "\n",
    "    visited = set([(guard, mov)])\n",
    "    while True:\n",
    "#         viz(guard, valid, visited, obstacles, len(data), len(data[0]))\n",
    "\n",
    "        nextg = guard + mov\n",
    "        while nextg in obstacles:\n",
    "            mov = mov * rot90\n",
    "            nextg = guard + mov\n",
    "\n",
    "        if nextg not in valid:\n",
    "            return False\n",
    "        if (nextg, mov) in visited:\n",
    "            return True\n",
    "        visited.add((nextg, mov))\n",
    "\n",
    "        guard = nextg\n",
    "        \n",
    "    return len(visited)"
   ]
  },
  {
   "cell_type": "code",
   "execution_count": 8,
   "id": "fccc95d4",
   "metadata": {},
   "outputs": [],
   "source": [
    "# def viz(guard, valid, visited, obstacles, N, M):\n",
    "#     s = ''\n",
    "#     V = set([v for v, _ in visited])\n",
    "#     for i in range(N):\n",
    "#         for j in range(M):\n",
    "#             k = i+j*1j\n",
    "#             if k in V:\n",
    "#                 s += '$'\n",
    "#             elif k in valid:\n",
    "#                 s += '.'\n",
    "#             elif k in obstacles:\n",
    "#                 s += '#'\n",
    "#         s += '\\n'\n",
    "#     print(s)\n",
    "#     print('🔥🔥🔥')"
   ]
  },
  {
   "cell_type": "code",
   "execution_count": 9,
   "id": "6a6ee3d6",
   "metadata": {},
   "outputs": [],
   "source": [
    "sample2 = parses(\"\"\"....#.....\n",
    ".........#\n",
    "..........\n",
    "..#.......\n",
    ".......#..\n",
    "..........\n",
    ".#.#^.....\n",
    "........#.\n",
    "#.........\n",
    "......#...\"\"\")"
   ]
  },
  {
   "cell_type": "code",
   "execution_count": 10,
   "id": "f87dfb5c",
   "metadata": {},
   "outputs": [
    {
     "data": {
      "text/plain": [
       "True"
      ]
     },
     "execution_count": 10,
     "metadata": {},
     "output_type": "execute_result"
    }
   ],
   "source": [
    "subsolve(sample2)"
   ]
  },
  {
   "cell_type": "code",
   "execution_count": null,
   "id": "c6a5dcd3",
   "metadata": {},
   "outputs": [],
   "source": []
  },
  {
   "cell_type": "code",
   "execution_count": 11,
   "id": "478d9683",
   "metadata": {},
   "outputs": [
    {
     "data": {
      "text/plain": [
       "False"
      ]
     },
     "execution_count": 11,
     "metadata": {},
     "output_type": "execute_result"
    }
   ],
   "source": [
    "subsolve(sample)"
   ]
  },
  {
   "cell_type": "code",
   "execution_count": null,
   "id": "643ad808",
   "metadata": {},
   "outputs": [],
   "source": []
  },
  {
   "cell_type": "code",
   "execution_count": 12,
   "id": "77083851",
   "metadata": {},
   "outputs": [],
   "source": [
    "import copy\n",
    "\n",
    "def solve_b(data):\n",
    "    N, M = len(data), len(data[0])\n",
    "    total = 0\n",
    "    for i in range(N):\n",
    "        for j in range(M):\n",
    "            if data[i][j] != '^':\n",
    "                newdata = copy.deepcopy(data)\n",
    "                newdata[i][j] = '#'\n",
    "                total += subsolve(newdata)\n",
    "    return total"
   ]
  },
  {
   "cell_type": "code",
   "execution_count": 13,
   "id": "d6e2ea2d",
   "metadata": {},
   "outputs": [
    {
     "data": {
      "text/plain": [
       "6"
      ]
     },
     "execution_count": 13,
     "metadata": {},
     "output_type": "execute_result"
    }
   ],
   "source": [
    "solve_b(sample)"
   ]
  },
  {
   "cell_type": "code",
   "execution_count": 14,
   "id": "89dc9c78",
   "metadata": {},
   "outputs": [
    {
     "ename": "KeyboardInterrupt",
     "evalue": "",
     "output_type": "error",
     "traceback": [
      "\u001b[0;31m---------------------------------------------------------------------------\u001b[0m",
      "\u001b[0;31mKeyboardInterrupt\u001b[0m                         Traceback (most recent call last)",
      "Cell \u001b[0;32mIn[14], line 1\u001b[0m\n\u001b[0;32m----> 1\u001b[0m \u001b[43msolve_b\u001b[49m\u001b[43m(\u001b[49m\u001b[43mdata\u001b[49m\u001b[43m)\u001b[49m\n",
      "Cell \u001b[0;32mIn[12], line 11\u001b[0m, in \u001b[0;36msolve_b\u001b[0;34m(data)\u001b[0m\n\u001b[1;32m      9\u001b[0m             newdata \u001b[38;5;241m=\u001b[39m copy\u001b[38;5;241m.\u001b[39mdeepcopy(data)\n\u001b[1;32m     10\u001b[0m             newdata[i][j] \u001b[38;5;241m=\u001b[39m \u001b[38;5;124m'\u001b[39m\u001b[38;5;124m#\u001b[39m\u001b[38;5;124m'\u001b[39m\n\u001b[0;32m---> 11\u001b[0m             total \u001b[38;5;241m+\u001b[39m\u001b[38;5;241m=\u001b[39m \u001b[43msubsolve\u001b[49m\u001b[43m(\u001b[49m\u001b[43mnewdata\u001b[49m\u001b[43m)\u001b[49m\n\u001b[1;32m     12\u001b[0m \u001b[38;5;28;01mreturn\u001b[39;00m total\n",
      "Cell \u001b[0;32mIn[7], line 23\u001b[0m, in \u001b[0;36msubsolve\u001b[0;34m(data)\u001b[0m\n\u001b[1;32m     20\u001b[0m     rot90 \u001b[38;5;241m=\u001b[39m \u001b[38;5;241m-\u001b[39m\u001b[38;5;241m1\u001b[39mj\n\u001b[1;32m     22\u001b[0m     visited \u001b[38;5;241m=\u001b[39m \u001b[38;5;28mset\u001b[39m([(guard, mov)])\n\u001b[0;32m---> 23\u001b[0m     \u001b[38;5;28;01mwhile\u001b[39;00m \u001b[38;5;28;01mTrue\u001b[39;00m:\n\u001b[1;32m     24\u001b[0m \u001b[38;5;66;03m#         viz(guard, valid, visited, obstacles, len(data), len(data[0]))\u001b[39;00m\n\u001b[1;32m     26\u001b[0m         nextg \u001b[38;5;241m=\u001b[39m guard \u001b[38;5;241m+\u001b[39m mov\n\u001b[1;32m     27\u001b[0m         \u001b[38;5;28;01mwhile\u001b[39;00m nextg \u001b[38;5;129;01min\u001b[39;00m obstacles:\n",
      "\u001b[0;31mKeyboardInterrupt\u001b[0m: "
     ]
    }
   ],
   "source": [
    "solve_b(data)"
   ]
  },
  {
   "cell_type": "code",
   "execution_count": null,
   "id": "118bb480",
   "metadata": {},
   "outputs": [],
   "source": []
  },
  {
   "cell_type": "code",
   "execution_count": null,
   "id": "f46030f1",
   "metadata": {},
   "outputs": [],
   "source": []
  },
  {
   "cell_type": "code",
   "execution_count": 71,
   "id": "5c638898",
   "metadata": {},
   "outputs": [
    {
     "ename": "ModuleNotFoundError",
     "evalue": "No module named 'concurrenct'",
     "output_type": "error",
     "traceback": [
      "\u001b[0;31m---------------------------------------------------------------------------\u001b[0m",
      "\u001b[0;31mModuleNotFoundError\u001b[0m                       Traceback (most recent call last)",
      "Cell \u001b[0;32mIn[71], line 1\u001b[0m\n\u001b[0;32m----> 1\u001b[0m \u001b[38;5;28;01mfrom\u001b[39;00m \u001b[38;5;21;01mconcurrenct\u001b[39;00m\u001b[38;5;21;01m.\u001b[39;00m\u001b[38;5;21;01mfutures\u001b[39;00m \u001b[38;5;28;01mimport\u001b[39;00m ThreadPoolExecutor\n",
      "\u001b[0;31mModuleNotFoundError\u001b[0m: No module named 'concurrenct'"
     ]
    }
   ],
   "source": [
    "from concurrenct.futures import ProcessPoolExecutor"
   ]
  },
  {
   "cell_type": "code",
   "execution_count": null,
   "id": "6956f594",
   "metadata": {},
   "outputs": [],
   "source": [
    "import copy\n",
    "\n",
    "def task(i,j):\n",
    "    if data[i][j] == '^':\n",
    "        return False\n",
    "    newdata = copy.deepcopy(data)\n",
    "    newdata[i][j] = '#'\n",
    "    treturnsubsolve(newdata)\n",
    "\n",
    "def solve_b(data):\n",
    "    N, M = len(data), len(data[0])\n",
    "    total = 0\n",
    "\n",
    "    \n",
    "    for i, j in itertools.product(range(N), range(M)):\n",
    "         \n",
    "    return total"
   ]
  },
  {
   "cell_type": "code",
   "execution_count": null,
   "id": "e0891c80",
   "metadata": {},
   "outputs": [],
   "source": []
  },
  {
   "cell_type": "code",
   "execution_count": null,
   "id": "2d7e6387",
   "metadata": {},
   "outputs": [],
   "source": []
  },
  {
   "cell_type": "code",
   "execution_count": null,
   "id": "9d94e072",
   "metadata": {},
   "outputs": [],
   "source": []
  },
  {
   "cell_type": "markdown",
   "id": "d292b9d8",
   "metadata": {},
   "source": [
    "# CLEANUP"
   ]
  },
  {
   "cell_type": "code",
   "execution_count": 82,
   "id": "7ade85af",
   "metadata": {},
   "outputs": [],
   "source": [
    "\n",
    "def locations(data):\n",
    "    obstacles = set()\n",
    "    valid = set()\n",
    "    guard = -1\n",
    "    for i, row in enumerate(data):\n",
    "        for j, v in enumerate(row):\n",
    "            if v == \"#\":\n",
    "                obstacles.add(i + 1j * j)\n",
    "            if v == \".\":\n",
    "                valid.add(i + 1j * j)\n",
    "\n",
    "            if v == \"^\":\n",
    "                if guard != -1:\n",
    "                    raise ValueError\n",
    "                guard = i + 1j * j\n",
    "                valid.add(guard)\n",
    "\n",
    "    return obstacles, valid, guard\n",
    "\n",
    "\n",
    "def simulate_path(obstacles, valid, guard):\n",
    "    mov, rot90 = -1, -1j\n",
    "\n",
    "    visited = set([guard])\n",
    "    while True:\n",
    "        nextg = guard + mov\n",
    "        while nextg in obstacles:\n",
    "            mov = mov * rot90\n",
    "            nextg = guard + mov\n",
    "\n",
    "        if nextg not in valid:\n",
    "            break\n",
    "        visited.add(nextg)\n",
    "\n",
    "        guard = nextg\n",
    "\n",
    "    return visited\n",
    "\n",
    "\n",
    "def loops(obstacles, valid, guard):\n",
    "    mov, rot90 = -1, -1j\n",
    "\n",
    "    visited = set([(guard, mov)])\n",
    "    while True:\n",
    "        nextg = guard + mov\n",
    "        while nextg in obstacles:\n",
    "            mov = mov * rot90\n",
    "            nextg = guard + mov\n",
    "\n",
    "        if nextg not in valid:\n",
    "            return False\n",
    "        if (nextg, mov) in visited:\n",
    "            return True\n",
    "        visited.add((nextg, mov))\n",
    "\n",
    "        guard = nextg\n",
    "\n",
    "\n",
    "def solve_a(data):\n",
    "    obstacles, valid, guard = locations(data)\n",
    "    return len(simulate_path(obstacles, valid, guard))\n",
    "\n",
    "\n",
    "def solve_b(data):\n",
    "    obstacles, valid, guard = locations(data)\n",
    "    visited = simulate_path(obstacles, valid, guard)\n",
    "    return sum([\n",
    "        loops(obstacles | {k}, valid, guard)\n",
    "        for k in visited])"
   ]
  },
  {
   "cell_type": "code",
   "execution_count": 83,
   "id": "4179481c",
   "metadata": {},
   "outputs": [
    {
     "name": "stdout",
     "output_type": "stream",
     "text": [
      "41\n",
      "4559\n"
     ]
    }
   ],
   "source": [
    "print(solve_a(sample))\n",
    "print(solve_a(data))"
   ]
  },
  {
   "cell_type": "code",
   "execution_count": 84,
   "id": "885e524d",
   "metadata": {},
   "outputs": [
    {
     "data": {
      "text/plain": [
       "True"
      ]
     },
     "execution_count": 84,
     "metadata": {},
     "output_type": "execute_result"
    }
   ],
   "source": [
    "loops(*locations(sample2))"
   ]
  },
  {
   "cell_type": "code",
   "execution_count": 85,
   "id": "de9a3b5b",
   "metadata": {},
   "outputs": [
    {
     "name": "stdout",
     "output_type": "stream",
     "text": [
      "6\n",
      "1604\n"
     ]
    }
   ],
   "source": [
    "print(solve_b(sample))\n",
    "print(solve_b(data))"
   ]
  },
  {
   "cell_type": "code",
   "execution_count": null,
   "id": "ab695019",
   "metadata": {},
   "outputs": [],
   "source": []
  }
 ],
 "metadata": {
  "kernelspec": {
   "display_name": "Python 3 (ipykernel)",
   "language": "python",
   "name": "python3"
  },
  "language_info": {
   "codemirror_mode": {
    "name": "ipython",
    "version": 3
   },
   "file_extension": ".py",
   "mimetype": "text/x-python",
   "name": "python",
   "nbconvert_exporter": "python",
   "pygments_lexer": "ipython3",
   "version": "3.10.14"
  }
 },
 "nbformat": 4,
 "nbformat_minor": 5
}
