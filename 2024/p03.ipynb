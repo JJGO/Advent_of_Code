{
 "cells": [
  {
   "cell_type": "code",
   "execution_count": 1,
   "id": "a8efb80e",
   "metadata": {},
   "outputs": [],
   "source": [
    "from aocd.models import Puzzle\n",
    "\n",
    "puzzle = Puzzle(year=2024, day=3)\n",
    "\n",
    "def parses(input):\n",
    "    return input\n",
    "\n",
    "# import re\n",
    "# def parses(input):\n",
    "#     return [int(re.findall('\\d', line)) for line in nput.strip().split('\\n')]\n",
    "\n",
    "data = parses(puzzle.input_data)"
   ]
  },
  {
   "cell_type": "code",
   "execution_count": null,
   "id": "885dd1e8",
   "metadata": {},
   "outputs": [],
   "source": []
  },
  {
   "cell_type": "code",
   "execution_count": 3,
   "id": "43bed7c5",
   "metadata": {},
   "outputs": [],
   "source": [
    "sample = parses(\"\"\"xmul(2,4)%&mul[3,7]!@^do_not_mul(5,5)+mul(32,64]then(mul(11,8)mul(8,5))\"\"\")"
   ]
  },
  {
   "cell_type": "code",
   "execution_count": 5,
   "id": "3616b54d",
   "metadata": {},
   "outputs": [
    {
     "data": {
      "text/plain": [
       "[('2', '4'), ('5', '5'), ('11', '8'), ('8', '5')]"
      ]
     },
     "execution_count": 5,
     "metadata": {},
     "output_type": "execute_result"
    }
   ],
   "source": []
  },
  {
   "cell_type": "code",
   "execution_count": null,
   "id": "1668046b",
   "metadata": {},
   "outputs": [],
   "source": []
  },
  {
   "cell_type": "code",
   "execution_count": 8,
   "id": "ed5a27b3",
   "metadata": {},
   "outputs": [],
   "source": [
    "def solve_a(data):\n",
    "    return sum(\n",
    "        int(a)*int(b) for a, b in re.findall('mul\\((\\d+),(\\d+)\\)', data)\n",
    "    )"
   ]
  },
  {
   "cell_type": "code",
   "execution_count": 10,
   "id": "65dea01f",
   "metadata": {},
   "outputs": [
    {
     "data": {
      "text/plain": [
       "174103751"
      ]
     },
     "execution_count": 10,
     "metadata": {},
     "output_type": "execute_result"
    }
   ],
   "source": [
    "solve_a(data)"
   ]
  },
  {
   "cell_type": "code",
   "execution_count": 18,
   "id": "a784ba0d",
   "metadata": {},
   "outputs": [],
   "source": [
    "sample = \"\"\"xmul(2,4)&mul[3,7]!^don't()_mul(5,5)+mul(32,64](mul(11,8)undo()?mul(8,5))\"\"\""
   ]
  },
  {
   "cell_type": "code",
   "execution_count": 19,
   "id": "2ba40832",
   "metadata": {},
   "outputs": [
    {
     "data": {
      "text/plain": [
       "[('mul(2,4)', 'mul(2,4)', '2', '4'),\n",
       " (\"don't()\", '', '', ''),\n",
       " ('mul(5,5)', 'mul(5,5)', '5', '5'),\n",
       " ('mul(11,8)', 'mul(11,8)', '11', '8'),\n",
       " ('do()', '', '', ''),\n",
       " ('mul(8,5)', 'mul(8,5)', '8', '5')]"
      ]
     },
     "execution_count": 19,
     "metadata": {},
     "output_type": "execute_result"
    }
   ],
   "source": []
  },
  {
   "cell_type": "code",
   "execution_count": 20,
   "id": "c45b9447",
   "metadata": {},
   "outputs": [],
   "source": [
    "def solve_b(data):\n",
    "    do = True\n",
    "    acc = 0\n",
    "    for matches in re.findall(\"((mul\\((\\d+),(\\d+)\\))|do\\(\\)|don't\\(\\))\", data):\n",
    "        if \"don't\" in matches[0]:\n",
    "            do = False\n",
    "            continue\n",
    "        if 'do' in matches[0]:\n",
    "            do = True\n",
    "            continue\n",
    "        if do and 'mul' in matches[0]:\n",
    "            *_, a, b = matches\n",
    "            acc += int(a) * int(b)\n",
    "    return acc\n",
    "        \n",
    "        "
   ]
  },
  {
   "cell_type": "code",
   "execution_count": 22,
   "id": "0736e567",
   "metadata": {},
   "outputs": [
    {
     "data": {
      "text/plain": [
       "100411201"
      ]
     },
     "execution_count": 22,
     "metadata": {},
     "output_type": "execute_result"
    }
   ],
   "source": [
    "solve_b(data)"
   ]
  },
  {
   "cell_type": "code",
   "execution_count": null,
   "id": "780ffd43",
   "metadata": {},
   "outputs": [],
   "source": []
  },
  {
   "cell_type": "code",
   "execution_count": null,
   "id": "df078fc5",
   "metadata": {},
   "outputs": [],
   "source": [
    "def solve_a(data):\n",
    "    return sum(\n",
    "        int(a)*int(b) for a, b in re.findall('mul\\((\\d+),(\\d+)\\)', data)\n",
    "    )"
   ]
  },
  {
   "cell_type": "code",
   "execution_count": null,
   "id": "7ba61d2f",
   "metadata": {},
   "outputs": [],
   "source": []
  },
  {
   "cell_type": "code",
   "execution_count": null,
   "id": "0bb2847e",
   "metadata": {},
   "outputs": [],
   "source": []
  }
 ],
 "metadata": {
  "kernelspec": {
   "display_name": "Python 3 (ipykernel)",
   "language": "python",
   "name": "python3"
  },
  "language_info": {
   "codemirror_mode": {
    "name": "ipython",
    "version": 3
   },
   "file_extension": ".py",
   "mimetype": "text/x-python",
   "name": "python",
   "nbconvert_exporter": "python",
   "pygments_lexer": "ipython3",
   "version": "3.11.5"
  }
 },
 "nbformat": 4,
 "nbformat_minor": 5
}
