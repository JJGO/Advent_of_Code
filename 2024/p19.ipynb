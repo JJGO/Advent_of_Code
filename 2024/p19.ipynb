{
 "cells": [
  {
   "cell_type": "code",
   "execution_count": 7,
   "id": "5ba53d1e",
   "metadata": {},
   "outputs": [],
   "source": [
    "from aocd.models import Puzzle\n",
    "\n",
    "puzzle = Puzzle(year=2024, day=19)\n",
    "\n",
    "def parses(data):\n",
    "    patterns, designs =  data.strip().split('\\n\\n')\n",
    "    patterns = patterns.split(', ')\n",
    "    designs = designs.split('\\n')\n",
    "    return patterns, designs\n",
    "# import re\n",
    "# def parses(data):\n",
    "#     return [[int(i) for i in re.findall(\"-?\\d+\", line)] \n",
    "#              for line in data.strip().split('\\n')]\n",
    "\n",
    "data = parses(puzzle.input_data)"
   ]
  },
  {
   "cell_type": "code",
   "execution_count": 8,
   "id": "1d41ec51",
   "metadata": {},
   "outputs": [],
   "source": [
    "sample = parses(\"\"\"r, wr, b, g, bwu, rb, gb, br\n",
    "\n",
    "brwrr\n",
    "bggr\n",
    "gbbr\n",
    "rrbgbr\n",
    "ubwu\n",
    "bwurrg\n",
    "brgr\n",
    "bbrgwb\"\"\")"
   ]
  },
  {
   "cell_type": "code",
   "execution_count": 9,
   "id": "27737595",
   "metadata": {},
   "outputs": [],
   "source": [
    "from functools import cache\n",
    "\n",
    "def solve_a(data):\n",
    "    patterns, designs = data\n",
    "    @cache\n",
    "    def can_make(design):\n",
    "        for pattern in patterns:\n",
    "            if pattern == design:\n",
    "                return True\n",
    "            if not design.startswith(pattern):\n",
    "                continue\n",
    "            tail = design[len(pattern):]\n",
    "            if can_make(tail):\n",
    "                return True\n",
    "        return False\n",
    "            \n",
    "    return sum([can_make(design) for design in designs])"
   ]
  },
  {
   "cell_type": "code",
   "execution_count": 10,
   "id": "9d7126e0",
   "metadata": {},
   "outputs": [
    {
     "data": {
      "text/plain": [
       "6"
      ]
     },
     "execution_count": 10,
     "metadata": {},
     "output_type": "execute_result"
    }
   ],
   "source": [
    "solve_a(sample)"
   ]
  },
  {
   "cell_type": "code",
   "execution_count": 11,
   "id": "06f52a71",
   "metadata": {},
   "outputs": [
    {
     "data": {
      "text/plain": [
       "367"
      ]
     },
     "execution_count": 11,
     "metadata": {},
     "output_type": "execute_result"
    }
   ],
   "source": [
    "solve_a(data)"
   ]
  },
  {
   "cell_type": "code",
   "execution_count": 36,
   "id": "f99fba7e",
   "metadata": {},
   "outputs": [],
   "source": [
    "from functools import cache\n",
    "\n",
    "def solve_b(data):\n",
    "    patterns, designs = data\n",
    "    @cache\n",
    "    def num_ways(design):\n",
    "        total = 0\n",
    "        for pattern in patterns:\n",
    "            if pattern == design:\n",
    "                total += 1\n",
    "                continue\n",
    "            if not design.startswith(pattern):\n",
    "                continue\n",
    "            tail = design[len(pattern):]\n",
    "            total += num_ways(tail)\n",
    "        return total\n",
    "    return sum([num_ways(design) for design in designs])"
   ]
  },
  {
   "cell_type": "code",
   "execution_count": 37,
   "id": "60d545f8",
   "metadata": {},
   "outputs": [
    {
     "data": {
      "text/plain": [
       "16"
      ]
     },
     "execution_count": 37,
     "metadata": {},
     "output_type": "execute_result"
    }
   ],
   "source": [
    "solve_b(sample)"
   ]
  },
  {
   "cell_type": "code",
   "execution_count": 38,
   "id": "b058fc96",
   "metadata": {},
   "outputs": [
    {
     "data": {
      "text/plain": [
       "724388733465031"
      ]
     },
     "execution_count": 38,
     "metadata": {},
     "output_type": "execute_result"
    }
   ],
   "source": [
    "solve_b(data)"
   ]
  },
  {
   "cell_type": "code",
   "execution_count": null,
   "id": "020780c8",
   "metadata": {},
   "outputs": [],
   "source": []
  },
  {
   "cell_type": "code",
   "execution_count": null,
   "id": "8575f52c",
   "metadata": {},
   "outputs": [],
   "source": []
  },
  {
   "cell_type": "code",
   "execution_count": null,
   "id": "f85ee3b3",
   "metadata": {},
   "outputs": [],
   "source": [
    "def solve_a(data):\n",
    "    pass"
   ]
  },
  {
   "cell_type": "code",
   "execution_count": null,
   "id": "d462bc86",
   "metadata": {},
   "outputs": [],
   "source": [
    "solve_a(sample)"
   ]
  },
  {
   "cell_type": "code",
   "execution_count": null,
   "id": "d5db86cf",
   "metadata": {},
   "outputs": [],
   "source": [
    "solve_a(data)"
   ]
  },
  {
   "cell_type": "code",
   "execution_count": null,
   "id": "77083851",
   "metadata": {},
   "outputs": [],
   "source": [
    "def solve_b(data):\n",
    "    pass"
   ]
  },
  {
   "cell_type": "code",
   "execution_count": null,
   "id": "d6e2ea2d",
   "metadata": {},
   "outputs": [],
   "source": [
    "solve_b(sample)"
   ]
  },
  {
   "cell_type": "code",
   "execution_count": null,
   "id": "89dc9c78",
   "metadata": {},
   "outputs": [],
   "source": [
    "solve_b(data)"
   ]
  },
  {
   "cell_type": "code",
   "execution_count": null,
   "id": "adfd1fdf",
   "metadata": {},
   "outputs": [],
   "source": []
  },
  {
   "cell_type": "code",
   "execution_count": null,
   "id": "5c638898",
   "metadata": {},
   "outputs": [],
   "source": []
  }
 ],
 "metadata": {
  "kernelspec": {
   "display_name": "Python 3 (ipykernel)",
   "language": "python",
   "name": "python3"
  },
  "language_info": {
   "codemirror_mode": {
    "name": "ipython",
    "version": 3
   },
   "file_extension": ".py",
   "mimetype": "text/x-python",
   "name": "python",
   "nbconvert_exporter": "python",
   "pygments_lexer": "ipython3",
   "version": "3.11.5"
  }
 },
 "nbformat": 4,
 "nbformat_minor": 5
}
