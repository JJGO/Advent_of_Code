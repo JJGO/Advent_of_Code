{
 "cells": [
  {
   "cell_type": "code",
   "execution_count": 2,
   "id": "5ba53d1e",
   "metadata": {},
   "outputs": [],
   "source": [
    "from aocd.models import Puzzle\n",
    "\n",
    "puzzle = Puzzle(year=2024, day=7)\n",
    "\n",
    "def parses(input):\n",
    "    lines = []\n",
    "    for line in input.strip().split('\\n'):\n",
    "        pre, post = line.split(': ')\n",
    "        pre = int(pre)\n",
    "        post = tuple([int(i) for i in post.split()])\n",
    "        lines.append((pre, post))\n",
    "    return lines\n",
    "\n",
    "# import re\n",
    "# def parses(input):\n",
    "#     return [int(re.findall(\"-?\\d+\", line)) for line in nput.strip().split('\\n')]\n",
    "\n",
    "data = parses(puzzle.input_data)"
   ]
  },
  {
   "cell_type": "code",
   "execution_count": 4,
   "id": "b2087d2e",
   "metadata": {},
   "outputs": [],
   "source": [
    "data = parses(x)"
   ]
  },
  {
   "cell_type": "code",
   "execution_count": 5,
   "id": "1d41ec51",
   "metadata": {},
   "outputs": [],
   "source": [
    "sample = parses(\"\"\"190: 10 19\n",
    "3267: 81 40 27\n",
    "83: 17 5\n",
    "156: 15 6\n",
    "7290: 6 8 6 15\n",
    "161011: 16 10 13\n",
    "192: 17 8 14\n",
    "21037: 9 7 18 13\n",
    "292: 11 6 16 20\"\"\")"
   ]
  },
  {
   "cell_type": "code",
   "execution_count": 6,
   "id": "898aded9",
   "metadata": {},
   "outputs": [],
   "source": [
    "def is_feasible(total, ops):\n",
    "    valid = set([ops[0]])\n",
    "    for op in ops[1:]:\n",
    "        valid = {x+op for x in valid} | {x*op for x in valid}\n",
    "    return total in valid"
   ]
  },
  {
   "cell_type": "code",
   "execution_count": 7,
   "id": "700db810",
   "metadata": {},
   "outputs": [],
   "source": [
    "def is_feasible(total, ops):\n",
    "    valid = set([ops[0]])\n",
    "    for op in ops[1:]:\n",
    "        valid = {x+op for x in valid} | {x*op for x in valid}\n",
    "    return total in valid"
   ]
  },
  {
   "cell_type": "code",
   "execution_count": 8,
   "id": "b5263648",
   "metadata": {},
   "outputs": [],
   "source": [
    "def solve_a(data):\n",
    "    acc = 0\n",
    "    for total, ops in data:\n",
    "        if is_feasible(total, ops):\n",
    "#             print(total)\n",
    "            acc += total\n",
    "    return acc"
   ]
  },
  {
   "cell_type": "code",
   "execution_count": 9,
   "id": "d462bc86",
   "metadata": {},
   "outputs": [
    {
     "data": {
      "text/plain": [
       "3749"
      ]
     },
     "execution_count": 9,
     "metadata": {},
     "output_type": "execute_result"
    }
   ],
   "source": [
    "solve_a(sample)"
   ]
  },
  {
   "cell_type": "code",
   "execution_count": 10,
   "id": "e44421b0",
   "metadata": {},
   "outputs": [
    {
     "data": {
      "text/plain": [
       "2501605301465"
      ]
     },
     "execution_count": 10,
     "metadata": {},
     "output_type": "execute_result"
    }
   ],
   "source": [
    "solve_a(data)"
   ]
  },
  {
   "cell_type": "code",
   "execution_count": 11,
   "id": "757c4474",
   "metadata": {},
   "outputs": [],
   "source": [
    "def is_feasible_b(total, ops):\n",
    "    valid = set([ops[0]])\n",
    "    for op in ops[1:]:\n",
    "        valid = {x+op for x in valid} | {x*op for x in valid} | {int(str(x)+str(op)) for x in valid}\n",
    "    return total in valid"
   ]
  },
  {
   "cell_type": "code",
   "execution_count": null,
   "id": "903b91ee",
   "metadata": {},
   "outputs": [],
   "source": []
  },
  {
   "cell_type": "code",
   "execution_count": 12,
   "id": "77083851",
   "metadata": {},
   "outputs": [],
   "source": [
    "def solve_b(data):\n",
    "    acc = 0\n",
    "    for total, ops in data:\n",
    "        if is_feasible_b(total, ops):\n",
    "#             print(total)\n",
    "            acc += total\n",
    "    return acc"
   ]
  },
  {
   "cell_type": "code",
   "execution_count": 13,
   "id": "d6e2ea2d",
   "metadata": {},
   "outputs": [
    {
     "data": {
      "text/plain": [
       "11387"
      ]
     },
     "execution_count": 13,
     "metadata": {},
     "output_type": "execute_result"
    }
   ],
   "source": [
    "solve_b(sample)"
   ]
  },
  {
   "cell_type": "code",
   "execution_count": 14,
   "id": "89dc9c78",
   "metadata": {},
   "outputs": [
    {
     "data": {
      "text/plain": [
       "44841372855953"
      ]
     },
     "execution_count": 14,
     "metadata": {},
     "output_type": "execute_result"
    }
   ],
   "source": [
    "solve_b(data)"
   ]
  },
  {
   "cell_type": "code",
   "execution_count": 15,
   "id": "adfd1fdf",
   "metadata": {},
   "outputs": [],
   "source": [
    "from itertools import product\n",
    "def is_valid(k, v):\n",
    "    for ops in product('mac', repeat=len(v)-1):\n",
    "        res = v[0]\n",
    "        for i, o in enumerate(ops, 1):\n",
    "            assert o in 'mac'\n",
    "            if o == 'm':\n",
    "                res *= v[i]\n",
    "            elif o == 'a':\n",
    "                res += v[i]\n",
    "            else:\n",
    "                res = int(str(res)+str(v[i]))\n",
    "            if res > k:\n",
    "                break\n",
    "#         else:\n",
    "        if res == k:\n",
    "#             print(ops)\n",
    "            return 1\n",
    "\n",
    "    return 0"
   ]
  },
  {
   "cell_type": "code",
   "execution_count": 16,
   "id": "9afa3b7a",
   "metadata": {},
   "outputs": [],
   "source": [
    "for total, nums in data:\n",
    "    if bool(is_valid(total, nums)) != is_feasible_b(total, nums):\n",
    "        print(total, nums)\n",
    "        break"
   ]
  },
  {
   "cell_type": "code",
   "execution_count": 17,
   "id": "7b4f58e5",
   "metadata": {},
   "outputs": [],
   "source": [
    "total, nums = 4571167, [40, 86, 23, 132, 7]"
   ]
  },
  {
   "cell_type": "code",
   "execution_count": 18,
   "id": "c065c895",
   "metadata": {},
   "outputs": [
    {
     "data": {
      "text/plain": [
       "1"
      ]
     },
     "execution_count": 18,
     "metadata": {},
     "output_type": "execute_result"
    }
   ],
   "source": [
    "is_valid(total, nums)"
   ]
  },
  {
   "cell_type": "code",
   "execution_count": 19,
   "id": "73b73783",
   "metadata": {},
   "outputs": [
    {
     "data": {
      "text/plain": [
       "(457116, 7)"
      ]
     },
     "execution_count": 19,
     "metadata": {},
     "output_type": "execute_result"
    }
   ],
   "source": [
    "(((40*86)+23)*132), 7"
   ]
  },
  {
   "cell_type": "code",
   "execution_count": 20,
   "id": "93720893",
   "metadata": {},
   "outputs": [
    {
     "data": {
      "text/plain": [
       "True"
      ]
     },
     "execution_count": 20,
     "metadata": {},
     "output_type": "execute_result"
    }
   ],
   "source": [
    "is_feasible_b(total, nums)"
   ]
  },
  {
   "cell_type": "code",
   "execution_count": 21,
   "id": "5c638898",
   "metadata": {},
   "outputs": [],
   "source": [
    "def is_possible(total, nums):\n",
    "    if len(nums) == 0:\n",
    "        return False\n",
    "    if len(nums) == 1:\n",
    "        return total == nums[0]\n",
    "    \n",
    "    *prefix, last = nums\n",
    "    \n",
    "    last_s = str(last)\n",
    "    total_s = str(total)\n",
    "    # If last concatenation is not correct, prune path\n",
    "    if total_s[1:].endswith(last_s) and is_possible(int(total_s[:-len(last_s)]), prefix):\n",
    "        return True\n",
    "    \n",
    "    # If last multiplication is not correct, prune path\n",
    "    if total % last == 0 and is_possible(total//last, prefix):\n",
    "        return True\n",
    "    \n",
    "    new_total = total-last\n",
    "    if new_total > 0 and is_possible(new_total, prefix):\n",
    "        return True\n",
    "    \n",
    "    return False"
   ]
  },
  {
   "cell_type": "code",
   "execution_count": 22,
   "id": "30d8b099",
   "metadata": {},
   "outputs": [],
   "source": [
    "# data"
   ]
  },
  {
   "cell_type": "code",
   "execution_count": 23,
   "id": "c4f2e5d5",
   "metadata": {},
   "outputs": [
    {
     "name": "stdout",
     "output_type": "stream",
     "text": [
      "7780812 (8, 204, 1, 59, 366, 16)\n",
      "False\n",
      "--\n",
      "False\n"
     ]
    }
   ],
   "source": [
    "total, nums = data[1]\n",
    "print(total, nums)\n",
    "print(is_feasible_b(total, nums))\n",
    "print('--')\n",
    "print(is_possible(total, nums))"
   ]
  },
  {
   "cell_type": "code",
   "execution_count": 25,
   "id": "df001dc6",
   "metadata": {},
   "outputs": [],
   "source": [
    "# for total, nums in data:\n",
    "#     print(is_feasible_b(total, nums) == is_possible(total, nums))"
   ]
  },
  {
   "cell_type": "code",
   "execution_count": null,
   "id": "b30da6e0",
   "metadata": {},
   "outputs": [],
   "source": []
  },
  {
   "cell_type": "code",
   "execution_count": null,
   "id": "162fd22f",
   "metadata": {},
   "outputs": [],
   "source": []
  }
 ],
 "metadata": {
  "kernelspec": {
   "display_name": "Python 3 (ipykernel)",
   "language": "python",
   "name": "python3"
  },
  "language_info": {
   "codemirror_mode": {
    "name": "ipython",
    "version": 3
   },
   "file_extension": ".py",
   "mimetype": "text/x-python",
   "name": "python",
   "nbconvert_exporter": "python",
   "pygments_lexer": "ipython3",
   "version": "3.10.14"
  }
 },
 "nbformat": 4,
 "nbformat_minor": 5
}
