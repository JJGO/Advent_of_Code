{
 "cells": [
  {
   "cell_type": "code",
   "execution_count": 1,
   "id": "5ba53d1e",
   "metadata": {},
   "outputs": [],
   "source": [
    "from aocd.models import Puzzle\n",
    "\n",
    "puzzle = Puzzle(year=2024, day=11)\n",
    "\n",
    "def parses(data):\n",
    "    data = data.strip() #.split('\\n')\n",
    "    return [int(i) for i in data.split()]\n",
    "\n",
    "# import re\n",
    "# def parses(input):\n",
    "#     return [int(re.findall(\"-?\\d+\", line)) for line in nput.strip().split('\\n')]\n",
    "\n",
    "data = parses(puzzle.input_data)"
   ]
  },
  {
   "cell_type": "code",
   "execution_count": 2,
   "id": "1d41ec51",
   "metadata": {},
   "outputs": [],
   "source": [
    "sample = parses(\"\"\"0 1 10 99 999\"\"\")"
   ]
  },
  {
   "cell_type": "code",
   "execution_count": 3,
   "id": "3e1dc57b",
   "metadata": {},
   "outputs": [
    {
     "data": {
      "text/plain": [
       "[0, 1, 10, 99, 999]"
      ]
     },
     "execution_count": 3,
     "metadata": {},
     "output_type": "execute_result"
    }
   ],
   "source": [
    "sample"
   ]
  },
  {
   "cell_type": "code",
   "execution_count": 24,
   "id": "04a0cde0",
   "metadata": {},
   "outputs": [],
   "source": [
    "def flatten(values):\n",
    "    return [x for xs in values for x in xs]"
   ]
  },
  {
   "cell_type": "code",
   "execution_count": 25,
   "id": "bdd42167",
   "metadata": {},
   "outputs": [],
   "source": [
    "def rule(x):\n",
    "    if x == 0:\n",
    "        return [1]\n",
    "    s = str(x)\n",
    "    if len(s) % 2 == 0:\n",
    "        n = len(s)\n",
    "        return [int(s[:n//2]), int(s[n//2:])]\n",
    "    return [x * 2024]"
   ]
  },
  {
   "cell_type": "code",
   "execution_count": 27,
   "id": "f439058a",
   "metadata": {},
   "outputs": [],
   "source": [
    "def apply(xs):\n",
    "    return flatten([rule(i) for i in xs])"
   ]
  },
  {
   "cell_type": "code",
   "execution_count": 28,
   "id": "7f29ad61",
   "metadata": {},
   "outputs": [
    {
     "data": {
      "text/plain": [
       "[0, 1, 10, 99, 999]"
      ]
     },
     "execution_count": 28,
     "metadata": {},
     "output_type": "execute_result"
    }
   ],
   "source": [
    "sample"
   ]
  },
  {
   "cell_type": "code",
   "execution_count": 29,
   "id": "edb1090a",
   "metadata": {},
   "outputs": [
    {
     "data": {
      "text/plain": [
       "[1, 2024, 1, 0, 9, 9, 2021976]"
      ]
     },
     "execution_count": 29,
     "metadata": {},
     "output_type": "execute_result"
    }
   ],
   "source": [
    "apply(sample)"
   ]
  },
  {
   "cell_type": "code",
   "execution_count": null,
   "id": "83d29f01",
   "metadata": {},
   "outputs": [],
   "source": [
    "sample2 = parses(\"\"\"0 1 10 99 999\"\"\")"
   ]
  },
  {
   "cell_type": "code",
   "execution_count": 30,
   "id": "925a279c",
   "metadata": {},
   "outputs": [],
   "source": [
    "def solve_a(data):\n",
    "    for _ in range(75):\n",
    "        data = apply(data)\n",
    "    return len(data)"
   ]
  },
  {
   "cell_type": "code",
   "execution_count": 31,
   "id": "7a581cce",
   "metadata": {},
   "outputs": [
    {
     "data": {
      "text/plain": [
       "55312"
      ]
     },
     "execution_count": 31,
     "metadata": {},
     "output_type": "execute_result"
    }
   ],
   "source": [
    "solve_a([125, 17])"
   ]
  },
  {
   "cell_type": "code",
   "execution_count": 32,
   "id": "84989fbd",
   "metadata": {},
   "outputs": [
    {
     "data": {
      "text/plain": [
       "213625"
      ]
     },
     "execution_count": 32,
     "metadata": {},
     "output_type": "execute_result"
    }
   ],
   "source": [
    "solve_a(data)"
   ]
  },
  {
   "cell_type": "code",
   "execution_count": null,
   "id": "7bdca13e",
   "metadata": {},
   "outputs": [],
   "source": []
  },
  {
   "cell_type": "code",
   "execution_count": 33,
   "id": "f49898a8",
   "metadata": {},
   "outputs": [],
   "source": [
    "def rule_b(vals):\n",
    "    newvals = Counter()\n",
    "    for n, c in vals.items():\n",
    "        for x in rule(n):\n",
    "            newvals[x] += c\n",
    "    return newvals"
   ]
  },
  {
   "cell_type": "code",
   "execution_count": null,
   "id": "d1db975f",
   "metadata": {},
   "outputs": [],
   "source": []
  },
  {
   "cell_type": "code",
   "execution_count": 42,
   "id": "e6862575",
   "metadata": {},
   "outputs": [],
   "source": [
    "def solve_a(data):\n",
    "    vals = Counter(data)\n",
    "    for _ in range(25):\n",
    "        vals = rule_b(vals)\n",
    "    return sum(vals.values())"
   ]
  },
  {
   "cell_type": "code",
   "execution_count": null,
   "id": "4f97482b",
   "metadata": {},
   "outputs": [],
   "source": []
  },
  {
   "cell_type": "code",
   "execution_count": 43,
   "id": "915e88b0",
   "metadata": {},
   "outputs": [
    {
     "data": {
      "text/plain": [
       "55312"
      ]
     },
     "execution_count": 43,
     "metadata": {},
     "output_type": "execute_result"
    }
   ],
   "source": [
    "solve_a([125,17])"
   ]
  },
  {
   "cell_type": "code",
   "execution_count": null,
   "id": "fa71efa9",
   "metadata": {},
   "outputs": [],
   "source": []
  },
  {
   "cell_type": "code",
   "execution_count": 46,
   "id": "9f218e45",
   "metadata": {},
   "outputs": [],
   "source": [
    "def solve_a(data):\n",
    "    vals = Counter(data)\n",
    "    for _ in range(75):\n",
    "        vals = rule_b(vals)\n",
    "    return sum(vals.values())"
   ]
  },
  {
   "cell_type": "code",
   "execution_count": 47,
   "id": "4e9be9a9",
   "metadata": {},
   "outputs": [
    {
     "data": {
      "text/plain": [
       "252442982856820"
      ]
     },
     "execution_count": 47,
     "metadata": {},
     "output_type": "execute_result"
    }
   ],
   "source": [
    "solve_a(data)"
   ]
  },
  {
   "cell_type": "code",
   "execution_count": null,
   "id": "c5eb5970",
   "metadata": {},
   "outputs": [],
   "source": []
  },
  {
   "cell_type": "code",
   "execution_count": null,
   "id": "4e31f3d8",
   "metadata": {},
   "outputs": [],
   "source": []
  },
  {
   "cell_type": "code",
   "execution_count": 9,
   "id": "58056ec3",
   "metadata": {},
   "outputs": [
    {
     "data": {
      "text/plain": [
       "[0, 1, 10, 99, 999]"
      ]
     },
     "execution_count": 9,
     "metadata": {},
     "output_type": "execute_result"
    }
   ],
   "source": [
    "sample"
   ]
  },
  {
   "cell_type": "code",
   "execution_count": null,
   "id": "6dea26eb",
   "metadata": {},
   "outputs": [],
   "source": [
    "def solve_a():\n",
    "    "
   ]
  },
  {
   "cell_type": "code",
   "execution_count": null,
   "id": "8575f52c",
   "metadata": {},
   "outputs": [],
   "source": []
  },
  {
   "cell_type": "code",
   "execution_count": null,
   "id": "f85ee3b3",
   "metadata": {},
   "outputs": [],
   "source": [
    "def solve_a(data):\n",
    "    pass"
   ]
  },
  {
   "cell_type": "code",
   "execution_count": null,
   "id": "d462bc86",
   "metadata": {},
   "outputs": [],
   "source": [
    "solve_a(sample)"
   ]
  },
  {
   "cell_type": "code",
   "execution_count": null,
   "id": "d5db86cf",
   "metadata": {},
   "outputs": [],
   "source": [
    "solve_a(data)"
   ]
  },
  {
   "cell_type": "code",
   "execution_count": null,
   "id": "77083851",
   "metadata": {},
   "outputs": [],
   "source": [
    "def solve_b(data):\n",
    "    pass"
   ]
  },
  {
   "cell_type": "code",
   "execution_count": null,
   "id": "d6e2ea2d",
   "metadata": {},
   "outputs": [],
   "source": [
    "solve_b(sample)"
   ]
  },
  {
   "cell_type": "code",
   "execution_count": null,
   "id": "89dc9c78",
   "metadata": {},
   "outputs": [],
   "source": [
    "solve_b(data)"
   ]
  },
  {
   "cell_type": "code",
   "execution_count": null,
   "id": "adfd1fdf",
   "metadata": {},
   "outputs": [],
   "source": []
  },
  {
   "cell_type": "code",
   "execution_count": null,
   "id": "5c638898",
   "metadata": {},
   "outputs": [],
   "source": []
  }
 ],
 "metadata": {
  "kernelspec": {
   "display_name": "Python 3 (ipykernel)",
   "language": "python",
   "name": "python3"
  },
  "language_info": {
   "codemirror_mode": {
    "name": "ipython",
    "version": 3
   },
   "file_extension": ".py",
   "mimetype": "text/x-python",
   "name": "python",
   "nbconvert_exporter": "python",
   "pygments_lexer": "ipython3",
   "version": "3.11.5"
  }
 },
 "nbformat": 4,
 "nbformat_minor": 5
}
