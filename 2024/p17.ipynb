{
 "cells": [
  {
   "cell_type": "code",
   "execution_count": 19,
   "id": "5ba53d1e",
   "metadata": {},
   "outputs": [],
   "source": [
    "from aocd.models import Puzzle\n",
    "\n",
    "puzzle = Puzzle(year=2024, day=17)\n",
    "\n",
    "def parses(data):\n",
    "    registers, program =  data.strip().split('\\n\\n')\n",
    "    registers = [int(r.split(': ')[-1]) for r in registers.split('\\n')]\n",
    "    program = [int(i) for i in program.strip().split(': ')[-1].split(',')]\n",
    "    return registers, program\n",
    "    \n",
    "\n",
    "data = parses(puzzle.input_data)"
   ]
  },
  {
   "cell_type": "code",
   "execution_count": 67,
   "id": "1d41ec51",
   "metadata": {},
   "outputs": [],
   "source": [
    "sample = parses(\"\"\"Register A: 729\n",
    "Register B: 0\n",
    "Register C: 0\n",
    "\n",
    "Program: 0,1,5,4,3,0\"\"\")"
   ]
  },
  {
   "cell_type": "code",
   "execution_count": 79,
   "id": "c462bec5",
   "metadata": {},
   "outputs": [],
   "source": [
    "from parse import parse\n",
    "\n",
    "template = \"\"\"Register A: {:d}\n",
    "Register B: {:d}\n",
    "Register C: {:d}\n",
    "\n",
    "Program: {}\"\"\"\n",
    "\n",
    "def parses(data):\n",
    "    a, b, c, program = parse(template, data).fixed\n",
    "    program = [int(x) for x in program.split(\",\")]\n",
    "    return (a, b, c), program\n",
    "\n",
    "def run_computer(registers, program):\n",
    "    a, b, c = registers\n",
    "    ip = 0\n",
    "    output = []\n",
    "    \n",
    "    def combo(op):\n",
    "        if op <= 3:\n",
    "            return op\n",
    "        if op <= 6:\n",
    "            return [a,b,c][op-4]\n",
    "        raise ValueError(\"Invalid combo operand 7\")\n",
    "        \n",
    "    while ip < len(program) - 1:\n",
    "        op, val = program[ip:ip + 2]\n",
    "        \n",
    "        if op == 0:  # adv\n",
    "            a = a >> combo(val)\n",
    "        elif op == 1:  # bxl\n",
    "            b ^= val  \n",
    "        elif op == 2:  # bst\n",
    "            b = combo(val) & 7\n",
    "        elif op == 3:  # jnz\n",
    "            ip = val if a else ip + 2\n",
    "        elif op == 4:  # bxc\n",
    "            b ^= c\n",
    "        elif op == 5:  # out\n",
    "            output.append(combo(val) & 7)\n",
    "        elif op == 6:  # bdv\n",
    "            b = a >> combo(val)\n",
    "        elif op == 7:  # cdv  \n",
    "            c = a >> combo(val)\n",
    "        if op != 3: # no jump\n",
    "            ip += 2\n",
    "            \n",
    "    return output\n",
    "\n",
    "def solve_a(data):\n",
    "    return ','.join(str(x) for x in run_computer(*data))"
   ]
  },
  {
   "cell_type": "code",
   "execution_count": 80,
   "id": "3719adb9",
   "metadata": {},
   "outputs": [],
   "source": []
  },
  {
   "cell_type": "code",
   "execution_count": 83,
   "id": "36c5ef9b",
   "metadata": {},
   "outputs": [
    {
     "data": {
      "text/plain": [
       "'4,6,3,5,6,3,5,2,1,0'"
      ]
     },
     "execution_count": 83,
     "metadata": {},
     "output_type": "execute_result"
    }
   ],
   "source": [
    "solve_a(sample)"
   ]
  },
  {
   "cell_type": "code",
   "execution_count": null,
   "id": "ddbaac2b",
   "metadata": {},
   "outputs": [],
   "source": []
  },
  {
   "cell_type": "code",
   "execution_count": 110,
   "id": "448aaad2",
   "metadata": {},
   "outputs": [],
   "source": [
    "def solve_b(data):\n",
    "    _, program = data\n",
    "    \n",
    "    def to_decimal(seq):\n",
    "        return sum(d * (8 ** i) for i, d in enumerate(reversed(seq)))\n",
    "\n",
    "    # Search for solution using backtracking\n",
    "    stack = [[i] for i in range(8)]\n",
    "    \n",
    "    while stack:\n",
    "        seq = stack.pop()\n",
    "        a = to_decimal(seq)\n",
    "        output = run_computer((a, 0, 0), program)\n",
    "        \n",
    "        if output == program:\n",
    "            return a\n",
    "        \n",
    "        # If current output matches target suffix, extend sequence\n",
    "        n = len(output)\n",
    "        if output[-n:] == program[-n:]:\n",
    "            # reversed is important so we dfs smaller numbers first\n",
    "            for i in reversed(range(8)): \n",
    "                stack.append(seq + [i])"
   ]
  },
  {
   "cell_type": "code",
   "execution_count": 111,
   "id": "34d9ec8d",
   "metadata": {},
   "outputs": [],
   "source": [
    "sample_b = parses(\"\"\"Register A: 2024\n",
    "Register B: 0\n",
    "Register C: 0\n",
    "\n",
    "Program: 0,3,5,4,3,0\"\"\")"
   ]
  },
  {
   "cell_type": "code",
   "execution_count": 112,
   "id": "5580e441",
   "metadata": {},
   "outputs": [
    {
     "data": {
      "text/plain": [
       "117440"
      ]
     },
     "execution_count": 112,
     "metadata": {},
     "output_type": "execute_result"
    }
   ],
   "source": [
    "solve_b(sample_b)"
   ]
  },
  {
   "cell_type": "code",
   "execution_count": 113,
   "id": "f527490e",
   "metadata": {},
   "outputs": [
    {
     "data": {
      "text/plain": [
       "202991746427434"
      ]
     },
     "execution_count": 113,
     "metadata": {},
     "output_type": "execute_result"
    }
   ],
   "source": [
    "solve_b(data)"
   ]
  },
  {
   "cell_type": "code",
   "execution_count": null,
   "id": "c3856a16",
   "metadata": {},
   "outputs": [],
   "source": []
  },
  {
   "cell_type": "code",
   "execution_count": 92,
   "id": "a4813423",
   "metadata": {},
   "outputs": [
    {
     "data": {
      "text/plain": [
       "'0o345300'"
      ]
     },
     "execution_count": 92,
     "metadata": {},
     "output_type": "execute_result"
    }
   ],
   "source": [
    "oct(117440)"
   ]
  },
  {
   "cell_type": "code",
   "execution_count": null,
   "id": "ec9a7614",
   "metadata": {},
   "outputs": [],
   "source": []
  },
  {
   "cell_type": "code",
   "execution_count": 88,
   "id": "b95fd9a2",
   "metadata": {},
   "outputs": [
    {
     "data": {
      "text/plain": [
       "202991746427434"
      ]
     },
     "execution_count": 88,
     "metadata": {},
     "output_type": "execute_result"
    }
   ],
   "source": [
    "solve_b(data)"
   ]
  },
  {
   "cell_type": "code",
   "execution_count": 89,
   "id": "bb2493b8",
   "metadata": {},
   "outputs": [
    {
     "data": {
      "text/plain": [
       "((729, 0, 0), [0, 1, 5, 4, 3, 0])"
      ]
     },
     "execution_count": 89,
     "metadata": {},
     "output_type": "execute_result"
    }
   ],
   "source": [
    "sample"
   ]
  },
  {
   "cell_type": "code",
   "execution_count": null,
   "id": "9c2a5cdd",
   "metadata": {},
   "outputs": [],
   "source": [
    " "
   ]
  },
  {
   "cell_type": "code",
   "execution_count": 87,
   "id": "8dc043b1",
   "metadata": {},
   "outputs": [
    {
     "ename": "KeyboardInterrupt",
     "evalue": "",
     "output_type": "error",
     "traceback": [
      "\u001b[0;31m---------------------------------------------------------------------------\u001b[0m",
      "\u001b[0;31mKeyboardInterrupt\u001b[0m                         Traceback (most recent call last)",
      "Cell \u001b[0;32mIn[87], line 1\u001b[0m\n\u001b[0;32m----> 1\u001b[0m solve_b(sample)\n",
      "Cell \u001b[0;32mIn[86], line 16\u001b[0m, in \u001b[0;36msolve_b\u001b[0;34m(data)\u001b[0m\n\u001b[1;32m     14\u001b[0m \u001b[38;5;28;01mwhile\u001b[39;00m stack:\n\u001b[1;32m     15\u001b[0m     seq \u001b[38;5;241m=\u001b[39m stack\u001b[38;5;241m.\u001b[39mpop()\n\u001b[0;32m---> 16\u001b[0m     a \u001b[38;5;241m=\u001b[39m to_decimal(seq)\n\u001b[1;32m     17\u001b[0m     output \u001b[38;5;241m=\u001b[39m run_computer((a, \u001b[38;5;241m0\u001b[39m, \u001b[38;5;241m0\u001b[39m), program)\n\u001b[1;32m     19\u001b[0m     \u001b[38;5;28;01mif\u001b[39;00m output \u001b[38;5;241m==\u001b[39m target:\n",
      "Cell \u001b[0;32mIn[86], line 8\u001b[0m, in \u001b[0;36msolve_b.<locals>.to_decimal\u001b[0;34m(seq)\u001b[0m\n\u001b[1;32m      7\u001b[0m \u001b[38;5;28;01mdef\u001b[39;00m \u001b[38;5;21mto_decimal\u001b[39m(seq):\n\u001b[0;32m----> 8\u001b[0m     \u001b[38;5;28;01mreturn\u001b[39;00m \u001b[38;5;28msum\u001b[39m(d \u001b[38;5;241m*\u001b[39m (\u001b[38;5;241m8\u001b[39m \u001b[38;5;241m*\u001b[39m\u001b[38;5;241m*\u001b[39m i) \u001b[38;5;28;01mfor\u001b[39;00m i, d \u001b[38;5;129;01min\u001b[39;00m \u001b[38;5;28menumerate\u001b[39m(\u001b[38;5;28mreversed\u001b[39m(seq)))\n",
      "Cell \u001b[0;32mIn[86], line 8\u001b[0m, in \u001b[0;36m<genexpr>\u001b[0;34m(.0)\u001b[0m\n\u001b[1;32m      7\u001b[0m \u001b[38;5;28;01mdef\u001b[39;00m \u001b[38;5;21mto_decimal\u001b[39m(seq):\n\u001b[0;32m----> 8\u001b[0m     \u001b[38;5;28;01mreturn\u001b[39;00m \u001b[38;5;28msum\u001b[39m(d \u001b[38;5;241m*\u001b[39m (\u001b[38;5;241m8\u001b[39m \u001b[38;5;241m*\u001b[39m\u001b[38;5;241m*\u001b[39m i) \u001b[38;5;28;01mfor\u001b[39;00m i, d \u001b[38;5;129;01min\u001b[39;00m \u001b[38;5;28menumerate\u001b[39m(\u001b[38;5;28mreversed\u001b[39m(seq)))\n",
      "\u001b[0;31mKeyboardInterrupt\u001b[0m: "
     ]
    }
   ],
   "source": [
    "solve_b(sample)"
   ]
  },
  {
   "cell_type": "code",
   "execution_count": null,
   "id": "e2986f34",
   "metadata": {},
   "outputs": [],
   "source": []
  },
  {
   "cell_type": "code",
   "execution_count": null,
   "id": "33783795",
   "metadata": {},
   "outputs": [],
   "source": []
  },
  {
   "cell_type": "code",
   "execution_count": null,
   "id": "c2cfd0d8",
   "metadata": {},
   "outputs": [],
   "source": []
  },
  {
   "cell_type": "code",
   "execution_count": null,
   "id": "a44899f0",
   "metadata": {},
   "outputs": [],
   "source": []
  },
  {
   "cell_type": "code",
   "execution_count": null,
   "id": "f39fe17b",
   "metadata": {},
   "outputs": [],
   "source": []
  },
  {
   "cell_type": "code",
   "execution_count": null,
   "id": "008b9083",
   "metadata": {},
   "outputs": [],
   "source": []
  },
  {
   "cell_type": "code",
   "execution_count": null,
   "id": "950bf9f0",
   "metadata": {},
   "outputs": [],
   "source": []
  },
  {
   "cell_type": "code",
   "execution_count": null,
   "id": "1950fc1d",
   "metadata": {},
   "outputs": [],
   "source": [
    "class ThreeBitComputer:\n",
    "    def __init__(self, register_a=0, register_b=0, register_c=0):\n",
    "        self.registers = {'A': register_a, 'B': register_b, 'C': register_c}\n",
    "        self.instruction_pointer = 0\n",
    "        self.output = []\n",
    "        \n",
    "    def get_combo_value(self, operand):\n",
    "        \"\"\"Resolve combo operand value according to rules\"\"\"\n",
    "        if operand <= 3:\n",
    "            return operand\n",
    "        elif operand == 4:\n",
    "            return self.registers['A']\n",
    "        elif operand == 5:\n",
    "            return self.registers['B']\n",
    "        elif operand == 6:\n",
    "            return self.registers['C']\n",
    "        else:  # operand == 7\n",
    "            raise ValueError(\"Invalid combo operand 7\")\n",
    "\n",
    "    def execute_instruction(self, opcode, operand):\n",
    "        \"\"\"Execute a single instruction based on opcode\"\"\"\n",
    "        if opcode == 0:  # adv\n",
    "            power = self.get_combo_value(operand)\n",
    "            self.registers['A'] = self.registers['A'] // (2 ** power)\n",
    "            return True\n",
    "            \n",
    "        elif opcode == 1:  # bxl\n",
    "            self.registers['B'] ^= operand\n",
    "            return True\n",
    "            \n",
    "        elif opcode == 2:  # bst\n",
    "            self.registers['B'] = self.get_combo_value(operand) % 8\n",
    "            return True\n",
    "            \n",
    "        elif opcode == 3:  # jnz\n",
    "            if self.registers['A'] != 0:\n",
    "                self.instruction_pointer = operand\n",
    "                return False\n",
    "            return True\n",
    "            \n",
    "        elif opcode == 4:  # bxc\n",
    "            self.registers['B'] ^= self.registers['C']\n",
    "            return True\n",
    "            \n",
    "        elif opcode == 5:  # out\n",
    "            value = self.get_combo_value(operand) % 8\n",
    "            self.output.append(str(value))\n",
    "            return True\n",
    "            \n",
    "        elif opcode == 6:  # bdv\n",
    "            power = self.get_combo_value(operand)\n",
    "            self.registers['B'] = self.registers['A'] // (2 ** power)\n",
    "            return True\n",
    "            \n",
    "        elif opcode == 7:  # cdv\n",
    "            power = self.get_combo_value(operand)\n",
    "            self.registers['C'] = self.registers['A'] // (2 ** power)\n",
    "            return True\n",
    "            \n",
    "        else:\n",
    "            raise ValueError(f\"Invalid opcode: {opcode}\")\n",
    "\n",
    "    def run_program(self, program):\n",
    "        \"\"\"Run a program (list of integers) until halt\"\"\"\n",
    "        # Convert string program to list of integers if needed\n",
    "        if isinstance(program, str):\n",
    "            program = [int(x.strip()) for x in program.split(',')]\n",
    "            \n",
    "        while self.instruction_pointer < len(program) - 1:\n",
    "            opcode = program[self.instruction_pointer]\n",
    "            operand = program[self.instruction_pointer + 1]\n",
    "            \n",
    "            # Execute instruction and check if we should advance instruction pointer\n",
    "            should_advance = self.execute_instruction(opcode, operand)\n",
    "            \n",
    "            if should_advance:\n",
    "                self.instruction_pointer += 2\n",
    "                \n",
    "        return ','.join(self.output)\n",
    "\n",
    "# Example usage\n",
    "def run_example(data):\n",
    "    (register_a, register_b, register_c), program = data\n",
    "    computer = ThreeBitComputer(register_a, register_b, register_c)\n",
    "    result = computer.run_program(program)\n",
    "    print(f\"Output: {result}\")\n",
    "    return result\n",
    "\n",
    "# # Test the examples from the problem\n",
    "# if __name__ == \"__main__\":\n",
    "#     # Test case from the problem\n",
    "#     test_result = run_example(729, 0, 0, \"0,1,5,4,3,0\")\n",
    "#     print(f\"Test case output: {test_result}\")\n",
    "#     assert test_result == \"4,6,3,5,6,3,5,2,1,0\", \"Test case failed!\"\n",
    "    \n",
    "#     # Additional test cases from the problem description\n",
    "#     computer = ThreeBitComputer(10, 0, 0)\n",
    "#     assert computer.run_program(\"5,0,5,1,5,4\") == \"0,1,2\"\n",
    "    \n",
    "#     computer = ThreeBitComputer(2024, 0, 0)\n",
    "#     assert computer.run_program(\"0,1,5,4,3,0\") == \"4,2,5,6,7,7,7,7,3,1,0\""
   ]
  },
  {
   "cell_type": "code",
   "execution_count": null,
   "id": "cb6469dd",
   "metadata": {},
   "outputs": [],
   "source": []
  },
  {
   "cell_type": "code",
   "execution_count": null,
   "id": "7605099a",
   "metadata": {},
   "outputs": [],
   "source": []
  },
  {
   "cell_type": "code",
   "execution_count": null,
   "id": "0416f7c7",
   "metadata": {},
   "outputs": [],
   "source": []
  },
  {
   "cell_type": "code",
   "execution_count": null,
   "id": "1c1aa7a0",
   "metadata": {},
   "outputs": [],
   "source": []
  },
  {
   "cell_type": "code",
   "execution_count": null,
   "id": "d1630210",
   "metadata": {},
   "outputs": [],
   "source": []
  },
  {
   "cell_type": "code",
   "execution_count": null,
   "id": "de54e893",
   "metadata": {},
   "outputs": [],
   "source": []
  },
  {
   "cell_type": "code",
   "execution_count": null,
   "id": "f85ee3b3",
   "metadata": {},
   "outputs": [],
   "source": [
    "def solve_a(data):\n",
    "    pass"
   ]
  },
  {
   "cell_type": "code",
   "execution_count": null,
   "id": "d462bc86",
   "metadata": {},
   "outputs": [],
   "source": [
    "solve_a(sample)"
   ]
  },
  {
   "cell_type": "code",
   "execution_count": null,
   "id": "d5db86cf",
   "metadata": {},
   "outputs": [],
   "source": [
    "solve_a(data)"
   ]
  },
  {
   "cell_type": "code",
   "execution_count": null,
   "id": "77083851",
   "metadata": {},
   "outputs": [],
   "source": [
    "def solve_b(data):\n",
    "    pass"
   ]
  },
  {
   "cell_type": "code",
   "execution_count": null,
   "id": "d6e2ea2d",
   "metadata": {},
   "outputs": [],
   "source": [
    "solve_b(sample)"
   ]
  },
  {
   "cell_type": "code",
   "execution_count": null,
   "id": "89dc9c78",
   "metadata": {},
   "outputs": [],
   "source": [
    "solve_b(data)"
   ]
  },
  {
   "cell_type": "code",
   "execution_count": null,
   "id": "adfd1fdf",
   "metadata": {},
   "outputs": [],
   "source": []
  },
  {
   "cell_type": "code",
   "execution_count": 22,
   "id": "5c638898",
   "metadata": {},
   "outputs": [],
   "source": [
    "class ThreeBitComputer:\n",
    "    def __init__(self, register_a=0, register_b=0, register_c=0):\n",
    "        self.registers = {'A': register_a, 'B': register_b, 'C': register_c}\n",
    "        self.instruction_pointer = 0\n",
    "        self.output = []\n",
    "        \n",
    "    def get_combo_value(self, operand):\n",
    "        \"\"\"Resolve combo operand value according to rules\"\"\"\n",
    "        if operand <= 3:\n",
    "            return operand\n",
    "        elif operand == 4:\n",
    "            return self.registers['A']\n",
    "        elif operand == 5:\n",
    "            return self.registers['B']\n",
    "        elif operand == 6:\n",
    "            return self.registers['C']\n",
    "        else:  # operand == 7\n",
    "            raise ValueError(\"Invalid combo operand 7\")\n",
    "\n",
    "    def execute_instruction(self, opcode, operand):\n",
    "        \"\"\"Execute a single instruction based on opcode\"\"\"\n",
    "        if opcode == 0:  # adv\n",
    "            power = self.get_combo_value(operand)\n",
    "            self.registers['A'] = self.registers['A'] // (2 ** power)\n",
    "            return True\n",
    "            \n",
    "        elif opcode == 1:  # bxl\n",
    "            self.registers['B'] ^= operand\n",
    "            return True\n",
    "            \n",
    "        elif opcode == 2:  # bst\n",
    "            self.registers['B'] = self.get_combo_value(operand) % 8\n",
    "            return True\n",
    "            \n",
    "        elif opcode == 3:  # jnz\n",
    "            if self.registers['A'] != 0:\n",
    "                self.instruction_pointer = operand\n",
    "                return False\n",
    "            return True\n",
    "            \n",
    "        elif opcode == 4:  # bxc\n",
    "            self.registers['B'] ^= self.registers['C']\n",
    "            return True\n",
    "            \n",
    "        elif opcode == 5:  # out\n",
    "            value = self.get_combo_value(operand) % 8\n",
    "            self.output.append(str(value))\n",
    "            return True\n",
    "            \n",
    "        elif opcode == 6:  # bdv\n",
    "            power = self.get_combo_value(operand)\n",
    "            self.registers['B'] = self.registers['A'] // (2 ** power)\n",
    "            return True\n",
    "            \n",
    "        elif opcode == 7:  # cdv\n",
    "            power = self.get_combo_value(operand)\n",
    "            self.registers['C'] = self.registers['A'] // (2 ** power)\n",
    "            return True\n",
    "            \n",
    "        else:\n",
    "            raise ValueError(f\"Invalid opcode: {opcode}\")\n",
    "\n",
    "    def run_program(self, program):\n",
    "        \"\"\"Run a program (list of integers) until halt\"\"\"\n",
    "        # Convert string program to list of integers if needed\n",
    "        if isinstance(program, str):\n",
    "            program = [int(x.strip()) for x in program.split(',')]\n",
    "            \n",
    "        while self.instruction_pointer < len(program) - 1:\n",
    "            opcode = program[self.instruction_pointer]\n",
    "            operand = program[self.instruction_pointer + 1]\n",
    "            \n",
    "            # Execute instruction and check if we should advance instruction pointer\n",
    "            should_advance = self.execute_instruction(opcode, operand)\n",
    "            \n",
    "            if should_advance:\n",
    "                self.instruction_pointer += 2\n",
    "                \n",
    "        return ','.join(self.output)\n",
    "\n",
    "# Example usage\n",
    "def run_example(data):\n",
    "    (register_a, register_b, register_c), program = data\n",
    "    computer = ThreeBitComputer(register_a, register_b, register_c)\n",
    "    result = computer.run_program(program)\n",
    "    print(f\"Output: {result}\")\n",
    "    return result\n",
    "\n",
    "# # Test the examples from the problem\n",
    "# if __name__ == \"__main__\":\n",
    "#     # Test case from the problem\n",
    "#     test_result = run_example(729, 0, 0, \"0,1,5,4,3,0\")\n",
    "#     print(f\"Test case output: {test_result}\")\n",
    "#     assert test_result == \"4,6,3,5,6,3,5,2,1,0\", \"Test case failed!\"\n",
    "    \n",
    "#     # Additional test cases from the problem description\n",
    "#     computer = ThreeBitComputer(10, 0, 0)\n",
    "#     assert computer.run_program(\"5,0,5,1,5,4\") == \"0,1,2\"\n",
    "    \n",
    "#     computer = ThreeBitComputer(2024, 0, 0)\n",
    "#     assert computer.run_program(\"0,1,5,4,3,0\") == \"4,2,5,6,7,7,7,7,3,1,0\""
   ]
  },
  {
   "cell_type": "code",
   "execution_count": 1,
   "id": "4603fcae",
   "metadata": {},
   "outputs": [],
   "source": [
    "class ThreeBitComputer:\n",
    "    def __init__(self, register_a=0, register_b=0, register_c=0):\n",
    "        self.registers = {'A': register_a, 'B': register_b, 'C': register_c}\n",
    "        self.instruction_pointer = 0\n",
    "        self.output = []\n",
    "        \n",
    "    def get_combo_value(self, operand):\n",
    "        \"\"\"Resolve combo operand value according to rules\"\"\"\n",
    "        if operand <= 3:\n",
    "            return operand\n",
    "        elif operand == 4:\n",
    "            return self.registers['A']\n",
    "        elif operand == 5:\n",
    "            return self.registers['B']\n",
    "        elif operand == 6:\n",
    "            return self.registers['C']\n",
    "        else:  # operand == 7\n",
    "            raise ValueError(\"Invalid combo operand 7\")\n",
    "\n",
    "    def execute_instruction(self, opcode, operand, target_program):\n",
    "        \"\"\"Execute a single instruction based on opcode, with early exit for mismatches\"\"\"\n",
    "        if opcode == 0:  # adv\n",
    "            power = self.get_combo_value(operand)\n",
    "            self.registers['A'] = self.registers['A'] // (2 ** power)\n",
    "            return True\n",
    "            \n",
    "        elif opcode == 1:  # bxl\n",
    "            self.registers['B'] ^= operand\n",
    "            return True\n",
    "            \n",
    "        elif opcode == 2:  # bst\n",
    "            self.registers['B'] = self.get_combo_value(operand) % 8\n",
    "            return True\n",
    "            \n",
    "        elif opcode == 3:  # jnz\n",
    "            if self.registers['A'] != 0:\n",
    "                self.instruction_pointer = operand\n",
    "                return False\n",
    "            return True\n",
    "            \n",
    "        elif opcode == 4:  # bxc\n",
    "            self.registers['B'] ^= self.registers['C']\n",
    "            return True\n",
    "            \n",
    "        elif opcode == 5:  # out\n",
    "            value = self.get_combo_value(operand) % 8\n",
    "            # Early exit if output doesn't match program\n",
    "            if len(self.output) >= len(target_program):\n",
    "                return None  # Signal to stop - too many outputs\n",
    "            if value != target_program[len(self.output)]:\n",
    "                return None  # Signal to stop - wrong output\n",
    "            self.output.append(value)\n",
    "            return True\n",
    "            \n",
    "        elif opcode == 6:  # bdv\n",
    "            power = self.get_combo_value(operand)\n",
    "            self.registers['B'] = self.registers['A'] // (2 ** power)\n",
    "            return True\n",
    "            \n",
    "        elif opcode == 7:  # cdv\n",
    "            power = self.get_combo_value(operand)\n",
    "            self.registers['C'] = self.registers['A'] // (2 ** power)\n",
    "            return True\n",
    "            \n",
    "        else:\n",
    "            raise ValueError(f\"Invalid opcode: {opcode}\")\n",
    "\n",
    "    def run_program(self, program, check_self_output=False):\n",
    "        \"\"\"Run a program (list of integers) until halt\"\"\"\n",
    "        # Convert string program to list of integers if needed\n",
    "        if isinstance(program, str):\n",
    "            program = [int(x.strip()) for x in program.split(',')]\n",
    "            \n",
    "        target_program = program if check_self_output else None\n",
    "            \n",
    "        while self.instruction_pointer < len(program) - 1:\n",
    "            opcode = program[self.instruction_pointer]\n",
    "            operand = program[self.instruction_pointer + 1]\n",
    "            \n",
    "            # Execute instruction and check if we should advance instruction pointer\n",
    "            should_advance = self.execute_instruction(opcode, operand, target_program)\n",
    "            \n",
    "            if should_advance is None:  # Early exit signal\n",
    "                return False\n",
    "                \n",
    "            if should_advance:\n",
    "                self.instruction_pointer += 2\n",
    "        \n",
    "        if check_self_output:\n",
    "            return len(self.output) == len(program) and all(a == b for a, b in zip(self.output, program))\n",
    "        return ','.join(map(str, self.output))\n",
    "\n",
    "def find_lowest_self_output_a(program, start=1, step=1, verbose=False):\n",
    "    \"\"\"Find lowest value of A that makes the program output itself\"\"\"\n",
    "    if isinstance(program, str):\n",
    "        program = [int(x.strip()) for x in program.split(',')]\n",
    "    \n",
    "    a = start\n",
    "    count = 0\n",
    "    while True:\n",
    "        computer = ThreeBitComputer(register_a=a, register_b=0, register_c=0)\n",
    "        if computer.run_program(program, check_self_output=True):\n",
    "            return a\n",
    "        \n",
    "        count += 1\n",
    "        if count % 10000 == 0 and verbose:\n",
    "            print(f\"Tried A={a}\")\n",
    "        \n",
    "        a += step\n",
    "\n",
    "# Test with the example from the problem\n",
    "if __name__ == \"__main__\":\n",
    "    test_program = \"2,4,1,1,7,5,4,4,1,4,0,3,5,5,3,0\"\n",
    "    result = find_lowest_self_output_a(test_program, verbose=True)\n",
    "    print(f\"\\nFound solution: A={result}\")\n",
    "    \n",
    "    # Verify the solution\n",
    "    computer = ThreeBitComputer(register_a=result, register_b=0, register_c=0)\n",
    "    output = computer.run_program(test_program)\n",
    "    print(f\"Program: {test_program}\")\n",
    "    print(f\"Output: {output}\")\n",
    "    assert output == test_program.replace(\" \", \"\"), \"Solution verification failed!\""
   ]
  },
  {
   "cell_type": "code",
   "execution_count": null,
   "id": "9cb9a0a4",
   "metadata": {},
   "outputs": [],
   "source": []
  },
  {
   "cell_type": "code",
   "execution_count": null,
   "id": "f4d90778",
   "metadata": {},
   "outputs": [],
   "source": []
  },
  {
   "cell_type": "code",
   "execution_count": 25,
   "id": "121871f8",
   "metadata": {},
   "outputs": [
    {
     "name": "stdout",
     "output_type": "stream",
     "text": [
      "Output: 4,6,3,5,6,3,5,2,1,0\n"
     ]
    },
    {
     "data": {
      "text/plain": [
       "'4,6,3,5,6,3,5,2,1,0'"
      ]
     },
     "execution_count": 25,
     "metadata": {},
     "output_type": "execute_result"
    }
   ],
   "source": [
    "\n",
    "run_example(sample)"
   ]
  },
  {
   "cell_type": "code",
   "execution_count": 26,
   "id": "3fe0d115",
   "metadata": {},
   "outputs": [
    {
     "name": "stdout",
     "output_type": "stream",
     "text": [
      "Output: 7,4,2,0,5,0,5,3,7\n"
     ]
    },
    {
     "data": {
      "text/plain": [
       "'7,4,2,0,5,0,5,3,7'"
      ]
     },
     "execution_count": 26,
     "metadata": {},
     "output_type": "execute_result"
    }
   ],
   "source": [
    "run_example(data)"
   ]
  },
  {
   "cell_type": "code",
   "execution_count": null,
   "id": "73b4468f",
   "metadata": {},
   "outputs": [],
   "source": [
    "data"
   ]
  }
 ],
 "metadata": {
  "kernelspec": {
   "display_name": "Python 3 (ipykernel)",
   "language": "python",
   "name": "python3"
  },
  "language_info": {
   "codemirror_mode": {
    "name": "ipython",
    "version": 3
   },
   "file_extension": ".py",
   "mimetype": "text/x-python",
   "name": "python",
   "nbconvert_exporter": "python",
   "pygments_lexer": "ipython3",
   "version": "3.11.5"
  }
 },
 "nbformat": 4,
 "nbformat_minor": 5
}
