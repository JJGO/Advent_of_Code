{
 "cells": [
  {
   "cell_type": "code",
   "execution_count": 12,
   "id": "53dd1dd0",
   "metadata": {},
   "outputs": [],
   "source": [
    "from aocd.models import Puzzle\n",
    "\n",
    "puzzle = Puzzle(year=2024, day=1)\n",
    "\n",
    "def parses(input):\n",
    "    return [ tuple(map(int,line.split('   ')))\n",
    "        for line in input.strip().split('\\n')\n",
    "    ]\n",
    "\n",
    "\n",
    "# import re\n",
    "# def parses(input):\n",
    "#     return [int(re.findall('\\d', line)) for line in nput.strip().split('\\n')]\n",
    "\n",
    "data = parses(puzzle.input_data)"
   ]
  },
  {
   "cell_type": "code",
   "execution_count": null,
   "id": "cf3b28b0",
   "metadata": {},
   "outputs": [],
   "source": []
  },
  {
   "cell_type": "code",
   "execution_count": 14,
   "id": "2c5c098a",
   "metadata": {},
   "outputs": [],
   "source": [
    "sample = parses(\"\"\"3   4\n",
    "4   3\n",
    "2   5\n",
    "1   3\n",
    "3   9\n",
    "3   3\"\"\")"
   ]
  },
  {
   "cell_type": "code",
   "execution_count": 22,
   "id": "dad5ed36",
   "metadata": {},
   "outputs": [
    {
     "data": {
      "text/plain": [
       "[(3, 4), (4, 3), (2, 5), (1, 3), (3, 9), (3, 3)]"
      ]
     },
     "execution_count": 22,
     "metadata": {},
     "output_type": "execute_result"
    }
   ],
   "source": [
    "sample"
   ]
  },
  {
   "cell_type": "code",
   "execution_count": null,
   "id": "d2bfdb9e",
   "metadata": {},
   "outputs": [],
   "source": []
  },
  {
   "cell_type": "code",
   "execution_count": 15,
   "id": "d610455c",
   "metadata": {},
   "outputs": [],
   "source": [
    "def solve_a(data):\n",
    "    A, B = zip(*data)\n",
    "    A = sorted(A)\n",
    "    B = sorted(B)\n",
    "    return sum(abs(a-b) for a, b in zip(A,B))"
   ]
  },
  {
   "cell_type": "code",
   "execution_count": 24,
   "id": "ea083394",
   "metadata": {},
   "outputs": [
    {
     "data": {
      "text/plain": [
       "11"
      ]
     },
     "execution_count": 24,
     "metadata": {},
     "output_type": "execute_result"
    }
   ],
   "source": [
    "solve_a(sample)"
   ]
  },
  {
   "cell_type": "code",
   "execution_count": 17,
   "id": "6a450828",
   "metadata": {},
   "outputs": [
    {
     "data": {
      "text/plain": [
       "2192892"
      ]
     },
     "execution_count": 17,
     "metadata": {},
     "output_type": "execute_result"
    }
   ],
   "source": [
    "solve_a(data)"
   ]
  },
  {
   "cell_type": "code",
   "execution_count": 18,
   "id": "f4bc97b1",
   "metadata": {},
   "outputs": [],
   "source": [
    "def solve_b(data):\n",
    "    A, B = zip(*data)\n",
    "    Cb = Counter(B)\n",
    "    return sum(a*Cb[a] for a in A)"
   ]
  },
  {
   "cell_type": "code",
   "execution_count": 25,
   "id": "2eb940a2",
   "metadata": {},
   "outputs": [
    {
     "data": {
      "text/plain": [
       "31"
      ]
     },
     "execution_count": 25,
     "metadata": {},
     "output_type": "execute_result"
    }
   ],
   "source": [
    "solve_b(sample)"
   ]
  },
  {
   "cell_type": "code",
   "execution_count": 20,
   "id": "750e8051",
   "metadata": {},
   "outputs": [
    {
     "data": {
      "text/plain": [
       "22962826"
      ]
     },
     "execution_count": 20,
     "metadata": {},
     "output_type": "execute_result"
    }
   ],
   "source": [
    "solve_b(data)"
   ]
  },
  {
   "cell_type": "code",
   "execution_count": null,
   "id": "edb8872c",
   "metadata": {},
   "outputs": [],
   "source": []
  }
 ],
 "metadata": {
  "kernelspec": {
   "display_name": "Python 3 (ipykernel)",
   "language": "python",
   "name": "python3"
  },
  "language_info": {
   "codemirror_mode": {
    "name": "ipython",
    "version": 3
   },
   "file_extension": ".py",
   "mimetype": "text/x-python",
   "name": "python",
   "nbconvert_exporter": "python",
   "pygments_lexer": "ipython3",
   "version": "3.11.5"
  }
 },
 "nbformat": 4,
 "nbformat_minor": 5
}
