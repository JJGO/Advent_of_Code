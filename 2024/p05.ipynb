{
 "cells": [
  {
   "cell_type": "code",
   "execution_count": 7,
   "id": "5ba53d1e",
   "metadata": {},
   "outputs": [],
   "source": [
    "from aocd.models import Puzzle\n",
    "\n",
    "puzzle = Puzzle(year=2024, day=5)\n",
    "\n",
    "def parses(input):\n",
    "    pre, post = input.split('\\n\\n')\n",
    "    rules = [[int(k) for k in line.split('|')]\n",
    "        for line in pre.split('\\n')]\n",
    "    pages = [[int(k) for k in line.split(',')]\n",
    "        for line in post.split('\\n')]\n",
    "    return rules, pages\n",
    "\n",
    "data = parses(puzzle.input_data)"
   ]
  },
  {
   "cell_type": "code",
   "execution_count": 8,
   "id": "1d41ec51",
   "metadata": {},
   "outputs": [],
   "source": [
    "sample = parses(\"\"\"47|53\n",
    "97|13\n",
    "97|61\n",
    "97|47\n",
    "75|29\n",
    "61|13\n",
    "75|53\n",
    "29|13\n",
    "97|29\n",
    "53|29\n",
    "61|53\n",
    "97|53\n",
    "61|29\n",
    "47|13\n",
    "75|47\n",
    "97|75\n",
    "47|61\n",
    "75|61\n",
    "47|29\n",
    "75|13\n",
    "53|13\n",
    "\n",
    "75,47,61,53,29\n",
    "97,61,53,29,13\n",
    "75,29,13\n",
    "75,97,47,61,53\n",
    "61,13,29\n",
    "97,13,75,29,47\"\"\")"
   ]
  },
  {
   "cell_type": "code",
   "execution_count": 9,
   "id": "8575f52c",
   "metadata": {},
   "outputs": [
    {
     "data": {
      "text/plain": [
       "([[47, 53],\n",
       "  [97, 13],\n",
       "  [97, 61],\n",
       "  [97, 47],\n",
       "  [75, 29],\n",
       "  [61, 13],\n",
       "  [75, 53],\n",
       "  [29, 13],\n",
       "  [97, 29],\n",
       "  [53, 29],\n",
       "  [61, 53],\n",
       "  [97, 53],\n",
       "  [61, 29],\n",
       "  [47, 13],\n",
       "  [75, 47],\n",
       "  [97, 75],\n",
       "  [47, 61],\n",
       "  [75, 61],\n",
       "  [47, 29],\n",
       "  [75, 13],\n",
       "  [53, 13]],\n",
       " [[75, 47, 61, 53, 29],\n",
       "  [97, 61, 53, 29, 13],\n",
       "  [75, 29, 13],\n",
       "  [75, 97, 47, 61, 53],\n",
       "  [61, 13, 29],\n",
       "  [97, 13, 75, 29, 47]])"
      ]
     },
     "execution_count": 9,
     "metadata": {},
     "output_type": "execute_result"
    }
   ],
   "source": [
    "sample"
   ]
  },
  {
   "cell_type": "code",
   "execution_count": null,
   "id": "9e9fcf28",
   "metadata": {},
   "outputs": [],
   "source": [
    "0,1,2\n",
    "\n",
    "3//2"
   ]
  },
  {
   "cell_type": "code",
   "execution_count": null,
   "id": "4895e91b",
   "metadata": {},
   "outputs": [],
   "source": []
  },
  {
   "cell_type": "code",
   "execution_count": 54,
   "id": "38733877",
   "metadata": {},
   "outputs": [],
   "source": [
    "def solve_a(data):\n",
    "    rules, updates = data\n",
    "    total = 0\n",
    "    \n",
    "    follow = defaultdict(list)\n",
    "    for x, y in rules:\n",
    "        follow[x].append(y)\n",
    "        \n",
    "    for update in updates:\n",
    "        order = {p:i for i, p in enumerate(update)}\n",
    "        if all(\n",
    "            order[page] < order[other]\n",
    "            for page in update\n",
    "            for other in follow[page]\n",
    "            if other in update\n",
    "        ):\n",
    "            total += update[len(update)//2]\n",
    "    return total"
   ]
  },
  {
   "cell_type": "code",
   "execution_count": 55,
   "id": "2876351c",
   "metadata": {},
   "outputs": [
    {
     "data": {
      "text/plain": [
       "143"
      ]
     },
     "execution_count": 55,
     "metadata": {},
     "output_type": "execute_result"
    }
   ],
   "source": [
    "solve_a(sample)"
   ]
  },
  {
   "cell_type": "code",
   "execution_count": 56,
   "id": "53c39afb",
   "metadata": {},
   "outputs": [
    {
     "data": {
      "text/plain": [
       "123"
      ]
     },
     "execution_count": 56,
     "metadata": {},
     "output_type": "execute_result"
    }
   ],
   "source": [
    "solve_b(sample)"
   ]
  },
  {
   "cell_type": "code",
   "execution_count": null,
   "id": "ec45564b",
   "metadata": {},
   "outputs": [],
   "source": []
  },
  {
   "cell_type": "code",
   "execution_count": 45,
   "id": "47764f01",
   "metadata": {},
   "outputs": [],
   "source": [
    "from functools import cmp_to_key"
   ]
  },
  {
   "cell_type": "code",
   "execution_count": 58,
   "id": "42552123",
   "metadata": {},
   "outputs": [],
   "source": [
    "def solve_b(data):\n",
    "    rules, updates = data\n",
    "    total = 0\n",
    "    \n",
    "    follow = defaultdict(list)\n",
    "    for x, y in rules:\n",
    "        follow[x].append(y)\n",
    "        \n",
    "    def cmp(p, q):\n",
    "        if q in follow[p]:\n",
    "            return -1\n",
    "        if p in follow[q]:\n",
    "            return 1\n",
    "        return 0\n",
    "        \n",
    "    for update in updates:\n",
    "        order = defaultdict(lambda: float('inf')) | {p:i for i, p in enumerate(update)}\n",
    "        if not all(\n",
    "            order[page] < order[other]\n",
    "            for page in update\n",
    "            for other in follow[page]\n",
    "        ):\n",
    "            update = sorted(update, key=cmp_to_key(cmp))\n",
    "            total += update[len(update)//2]\n",
    "    return total"
   ]
  },
  {
   "cell_type": "code",
   "execution_count": 59,
   "id": "a64fba87",
   "metadata": {},
   "outputs": [
    {
     "data": {
      "text/plain": [
       "123"
      ]
     },
     "execution_count": 59,
     "metadata": {},
     "output_type": "execute_result"
    }
   ],
   "source": [
    "solve_b(sample)"
   ]
  },
  {
   "cell_type": "code",
   "execution_count": 60,
   "id": "12219b77",
   "metadata": {},
   "outputs": [
    {
     "data": {
      "text/plain": [
       "4145"
      ]
     },
     "execution_count": 60,
     "metadata": {},
     "output_type": "execute_result"
    }
   ],
   "source": [
    "solve_b(data)"
   ]
  },
  {
   "cell_type": "code",
   "execution_count": null,
   "id": "ea572376",
   "metadata": {},
   "outputs": [],
   "source": []
  },
  {
   "cell_type": "code",
   "execution_count": 48,
   "id": "77083851",
   "metadata": {},
   "outputs": [],
   "source": []
  },
  {
   "cell_type": "code",
   "execution_count": 49,
   "id": "d6e2ea2d",
   "metadata": {},
   "outputs": [
    {
     "data": {
      "text/plain": [
       "123"
      ]
     },
     "execution_count": 49,
     "metadata": {},
     "output_type": "execute_result"
    }
   ],
   "source": [
    "solve_b(sample)"
   ]
  },
  {
   "cell_type": "code",
   "execution_count": 50,
   "id": "89dc9c78",
   "metadata": {},
   "outputs": [
    {
     "data": {
      "text/plain": [
       "4145"
      ]
     },
     "execution_count": 50,
     "metadata": {},
     "output_type": "execute_result"
    }
   ],
   "source": [
    "solve_b(data)"
   ]
  },
  {
   "cell_type": "code",
   "execution_count": null,
   "id": "adfd1fdf",
   "metadata": {},
   "outputs": [],
   "source": [
    "def solve_b(data):\n",
    "    A, B = data\n",
    "    order = defaultdict(list)\n",
    "    for x, y in A:\n",
    "        order[x].append(y)\n",
    "    correct = 0\n",
    "#     print(order)\n",
    "\n",
    "    def cmp(p, q):\n",
    "        if q in order[p]:a\n",
    "            return -1\n",
    "        if p in order[q]:\n",
    "            return 1\n",
    "        return 0\n",
    "    acc = 0\n",
    "    for pages in B:\n",
    "        seen = []\n",
    "        valid = True\n",
    "        for i, p in enumerate(pages):\n",
    "            for q in order[p]:\n",
    "                if q in pages:\n",
    "                    if q not in pages[i+1:]:\n",
    "                        valid=False\n",
    "                    \n",
    "        if not valid:\n",
    "            s = sorted(pages, key=cmp_to_key(cmp))\n",
    "            m = s[len(s)//2]\n",
    "            acc += m\n",
    "    return acc\n",
    "        \n",
    "    "
   ]
  },
  {
   "cell_type": "code",
   "execution_count": null,
   "id": "5c638898",
   "metadata": {},
   "outputs": [],
   "source": []
  }
 ],
 "metadata": {
  "kernelspec": {
   "display_name": "Python 3 (ipykernel)",
   "language": "python",
   "name": "python3"
  },
  "language_info": {
   "codemirror_mode": {
    "name": "ipython",
    "version": 3
   },
   "file_extension": ".py",
   "mimetype": "text/x-python",
   "name": "python",
   "nbconvert_exporter": "python",
   "pygments_lexer": "ipython3",
   "version": "3.11.5"
  }
 },
 "nbformat": 4,
 "nbformat_minor": 5
}
