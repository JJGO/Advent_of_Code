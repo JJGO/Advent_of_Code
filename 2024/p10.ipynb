{
 "cells": [
  {
   "cell_type": "code",
   "execution_count": 1,
   "id": "5ba53d1e",
   "metadata": {},
   "outputs": [],
   "source": [
    "from aocd.models import Puzzle\n",
    "\n",
    "puzzle = Puzzle(year=2024, day=10)\n",
    "\n",
    "def parses(data):\n",
    "    board = {}\n",
    "    lines = data.strip().split('\\n')\n",
    "    for i, row in enumerate(lines):\n",
    "        for j, val in enumerate(row):\n",
    "            if val != '.':\n",
    "                board[i,j] = int(val)\n",
    "    return board\n",
    "# import re\n",
    "# def parses(input):\n",
    "#     return [int(re.findall(\"-?\\d+\", line)) for line in nput.strip().split('\\n')]\n",
    "\n",
    "data = parses(puzzle.input_data)"
   ]
  },
  {
   "cell_type": "code",
   "execution_count": 2,
   "id": "1d41ec51",
   "metadata": {},
   "outputs": [],
   "source": [
    "sample = parses(\"\"\"...0...\n",
    "...1...\n",
    "...2...\n",
    "6543456\n",
    "7.....7\n",
    "8.....8\n",
    "9.....9\"\"\")"
   ]
  },
  {
   "cell_type": "code",
   "execution_count": 16,
   "id": "b7d6926f",
   "metadata": {},
   "outputs": [],
   "source": [
    "def find_trails(start, board):\n",
    "#     print('S', start)\n",
    "    stack = [(*start, 0)]\n",
    "    ntrails = 0\n",
    "    nines = set()\n",
    "    while stack:\n",
    "        i, j, n = stack.pop()\n",
    "        for di, dj in [(0,1),(0,-1),(1,0),(-1,0)]:\n",
    "            i2, j2 = i+di, j+dj\n",
    "            if (i2,j2) in board:\n",
    "                n2 = board[i2,j2]\n",
    "                if n2 == 9 and n == 8:\n",
    "                    nines.add((i2,j2))\n",
    "#                     if (i2,j2) == (3,4):\n",
    "#                         print('+', i, j)\n",
    "#                     ntrails += 1\n",
    "                elif n2 == n+1:\n",
    "                    stack.append((i2,j2,n+1))\n",
    "#     return ntrails\n",
    "#     print(nines)\n",
    "    return len(nines)\n",
    "                \n",
    "    \n",
    "         "
   ]
  },
  {
   "cell_type": "code",
   "execution_count": 17,
   "id": "2f70f2f0",
   "metadata": {},
   "outputs": [],
   "source": [
    "sample2 = parses(\"\"\"10..9..\n",
    "2...8..\n",
    "3...7..\n",
    "4567654\n",
    "...8..3\n",
    "...9..2\n",
    ".....01\n",
    "\"\"\")"
   ]
  },
  {
   "cell_type": "code",
   "execution_count": 23,
   "id": "24ee196e",
   "metadata": {},
   "outputs": [],
   "source": [
    "def solve_a(board):\n",
    "    total = 0\n",
    "    for (i, j), n in board.items():\n",
    "        if n == 0:\n",
    "            x = find_trails((i,j), board)\n",
    "#             print(x)\n",
    "            total += x\n",
    "    return total"
   ]
  },
  {
   "cell_type": "code",
   "execution_count": 24,
   "id": "a3158277",
   "metadata": {},
   "outputs": [
    {
     "data": {
      "text/plain": [
       "3"
      ]
     },
     "execution_count": 24,
     "metadata": {},
     "output_type": "execute_result"
    }
   ],
   "source": [
    "solve_a(sample2)"
   ]
  },
  {
   "cell_type": "code",
   "execution_count": 25,
   "id": "a98ead37",
   "metadata": {},
   "outputs": [],
   "source": [
    "sample3 = parses(\"\"\"89010123\n",
    "78121874\n",
    "87430965\n",
    "96549874\n",
    "45678903\n",
    "32019012\n",
    "01329801\n",
    "10456732\"\"\")"
   ]
  },
  {
   "cell_type": "code",
   "execution_count": 26,
   "id": "7e009371",
   "metadata": {},
   "outputs": [],
   "source": [
    "sample4 = parses(\"\"\"89919123\n",
    "78121874\n",
    "87439965\n",
    "96549874\n",
    "45678993\n",
    "32019912\n",
    "91329891\n",
    "19456732\"\"\")"
   ]
  },
  {
   "cell_type": "code",
   "execution_count": 27,
   "id": "28892e33",
   "metadata": {},
   "outputs": [
    {
     "data": {
      "text/plain": [
       "36"
      ]
     },
     "execution_count": 27,
     "metadata": {},
     "output_type": "execute_result"
    }
   ],
   "source": [
    "solve_a(sample3)"
   ]
  },
  {
   "cell_type": "code",
   "execution_count": 28,
   "id": "f2147136",
   "metadata": {},
   "outputs": [
    {
     "data": {
      "text/plain": [
       "674"
      ]
     },
     "execution_count": 28,
     "metadata": {},
     "output_type": "execute_result"
    }
   ],
   "source": [
    "solve_a(data)"
   ]
  },
  {
   "cell_type": "code",
   "execution_count": null,
   "id": "e6a33178",
   "metadata": {},
   "outputs": [],
   "source": []
  },
  {
   "cell_type": "code",
   "execution_count": 26,
   "id": "98095225",
   "metadata": {},
   "outputs": [
    {
     "data": {
      "text/plain": [
       "2"
      ]
     },
     "execution_count": 26,
     "metadata": {},
     "output_type": "execute_result"
    }
   ],
   "source": [
    "find_trails((0,3), sample)"
   ]
  },
  {
   "cell_type": "code",
   "execution_count": 29,
   "id": "40ed931b",
   "metadata": {},
   "outputs": [],
   "source": [
    "def find_trails(start, board):\n",
    "#     print('S', start)\n",
    "    stack = [(*start, 0)]\n",
    "    ntrails = 0\n",
    "    nines = set()\n",
    "    while stack:\n",
    "        i, j, n = stack.pop()\n",
    "        for di, dj in [(0,1),(0,-1),(1,0),(-1,0)]:\n",
    "            i2, j2 = i+di, j+dj\n",
    "            if (i2,j2) in board:\n",
    "                n2 = board[i2,j2]\n",
    "                if n2 == 9 and n == 8:\n",
    "#                     nines.add((i2,j2))\n",
    "                    ntrails += 1\n",
    "#                     if (i2,j2) == (3,4):\n",
    "#                         print('+', i, j)\n",
    "#                     ntrails += 1\n",
    "                elif n2 == n+1:\n",
    "                    stack.append((i2,j2,n+1))\n",
    "    return ntrails\n",
    "#     print(nines)\n",
    "#     return len(nines)\n",
    "#                 \n",
    "    \n",
    "         "
   ]
  },
  {
   "cell_type": "code",
   "execution_count": 30,
   "id": "ed09dd7d",
   "metadata": {},
   "outputs": [],
   "source": [
    "def solve_a(board):\n",
    "    total = 0\n",
    "    for (i, j), n in board.items():\n",
    "        if n == 0:\n",
    "            x = find_trails((i,j), board)\n",
    "#             print(x)\n",
    "            total += x\n",
    "    return total"
   ]
  },
  {
   "cell_type": "code",
   "execution_count": 31,
   "id": "6d801aeb",
   "metadata": {},
   "outputs": [
    {
     "data": {
      "text/plain": [
       "81"
      ]
     },
     "execution_count": 31,
     "metadata": {},
     "output_type": "execute_result"
    }
   ],
   "source": [
    "solve_a(sample3)"
   ]
  },
  {
   "cell_type": "code",
   "execution_count": 32,
   "id": "86972a19",
   "metadata": {},
   "outputs": [
    {
     "data": {
      "text/plain": [
       "1372"
      ]
     },
     "execution_count": 32,
     "metadata": {},
     "output_type": "execute_result"
    }
   ],
   "source": [
    "solve_a(data)"
   ]
  },
  {
   "cell_type": "code",
   "execution_count": null,
   "id": "955a5460",
   "metadata": {},
   "outputs": [],
   "source": []
  },
  {
   "cell_type": "code",
   "execution_count": null,
   "id": "3e8c8422",
   "metadata": {},
   "outputs": [],
   "source": [
    "for i, j"
   ]
  },
  {
   "cell_type": "code",
   "execution_count": null,
   "id": "a83566d3",
   "metadata": {},
   "outputs": [],
   "source": []
  },
  {
   "cell_type": "code",
   "execution_count": null,
   "id": "f85ee3b3",
   "metadata": {},
   "outputs": [],
   "source": [
    "def solve_a(data):\n",
    "    pass"
   ]
  },
  {
   "cell_type": "code",
   "execution_count": null,
   "id": "d462bc86",
   "metadata": {},
   "outputs": [],
   "source": [
    "solve_a(sample)"
   ]
  },
  {
   "cell_type": "code",
   "execution_count": null,
   "id": "d5db86cf",
   "metadata": {},
   "outputs": [],
   "source": [
    "solve_a(data)"
   ]
  },
  {
   "cell_type": "code",
   "execution_count": null,
   "id": "77083851",
   "metadata": {},
   "outputs": [],
   "source": [
    "def solve_b(data):\n",
    "    pass"
   ]
  },
  {
   "cell_type": "code",
   "execution_count": null,
   "id": "d6e2ea2d",
   "metadata": {},
   "outputs": [],
   "source": [
    "solve_b(sample)"
   ]
  },
  {
   "cell_type": "code",
   "execution_count": null,
   "id": "89dc9c78",
   "metadata": {},
   "outputs": [],
   "source": [
    "solve_b(data)"
   ]
  },
  {
   "cell_type": "code",
   "execution_count": null,
   "id": "adfd1fdf",
   "metadata": {},
   "outputs": [],
   "source": []
  },
  {
   "cell_type": "code",
   "execution_count": null,
   "id": "5c638898",
   "metadata": {},
   "outputs": [],
   "source": []
  }
 ],
 "metadata": {
  "kernelspec": {
   "display_name": "Python 3 (ipykernel)",
   "language": "python",
   "name": "python3"
  },
  "language_info": {
   "codemirror_mode": {
    "name": "ipython",
    "version": 3
   },
   "file_extension": ".py",
   "mimetype": "text/x-python",
   "name": "python",
   "nbconvert_exporter": "python",
   "pygments_lexer": "ipython3",
   "version": "3.11.5"
  }
 },
 "nbformat": 4,
 "nbformat_minor": 5
}
