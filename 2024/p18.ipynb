{
 "cells": [
  {
   "cell_type": "code",
   "execution_count": 83,
   "id": "5ba53d1e",
   "metadata": {},
   "outputs": [],
   "source": [
    "from aocd.models import Puzzle\n",
    "\n",
    "puzzle = Puzzle(year=2024, day=18)\n",
    "\n",
    "def parses(data):\n",
    "    walls = []\n",
    "    for line in data.strip().split('\\n'):\n",
    "        x, y = line.split(',')\n",
    "        walls.append((int(x), int(y)))\n",
    "    return walls\n",
    "\n",
    "# import re\n",
    "# def parses(data):\n",
    "#     return [[int(i) for i in re.findall(\"-?\\d+\", line)] \n",
    "#              for line in data.strip().split('\\n')]\n",
    "\n",
    "# def parses(data):\n",
    "#     return data\n",
    "\n",
    "data = parses(puzzle.input_data)"
   ]
  },
  {
   "cell_type": "code",
   "execution_count": 84,
   "id": "1d41ec51",
   "metadata": {},
   "outputs": [],
   "source": [
    "sample = parses(\"\"\"5,4\n",
    "4,2\n",
    "4,5\n",
    "3,0\n",
    "2,1\n",
    "6,3\n",
    "2,4\n",
    "1,5\n",
    "0,6\n",
    "3,3\n",
    "2,6\n",
    "5,1\n",
    "1,2\n",
    "5,5\n",
    "2,5\n",
    "6,5\n",
    "1,4\n",
    "0,4\n",
    "6,4\n",
    "1,1\n",
    "6,1\n",
    "1,0\n",
    "0,5\n",
    "1,6\n",
    "2,0\"\"\")"
   ]
  },
  {
   "cell_type": "code",
   "execution_count": 85,
   "id": "b3454012",
   "metadata": {},
   "outputs": [],
   "source": [
    "# sample"
   ]
  },
  {
   "cell_type": "code",
   "execution_count": 86,
   "id": "bd49a645",
   "metadata": {},
   "outputs": [],
   "source": [
    "from heapq import heappush, heappop"
   ]
  },
  {
   "cell_type": "code",
   "execution_count": 156,
   "id": "51831cb4",
   "metadata": {},
   "outputs": [],
   "source": [
    "def shortest_path(data, N=70):\n",
    "    walls = set(data)\n",
    "\n",
    "    def heuristic(x,y):\n",
    "        return abs(x-N) + abs(y-N)\n",
    "        \n",
    "    heap = [(heuristic(0,0),0,0,0)]\n",
    "    visited = set()\n",
    "    \n",
    "    while heap:\n",
    "        _, cost, x, y = heappop(heap)\n",
    "        if (x, y) == (N, N):\n",
    "            return cost\n",
    "        if (x, y) in visited:\n",
    "            continue\n",
    "        visited.add((x,y))\n",
    "        for dx, dy in [(1,0),(-1,0),(0,1),(0,-1)]:\n",
    "            x2, y2 = x+dx, y+dy\n",
    "            if (0 <= x2 <= N and\n",
    "                0 <= y2 <= N and\n",
    "                (x2,y2) not in walls and\n",
    "                (x2,y2) not in visited):\n",
    "                heappush(heap, (cost+1+heuristic(x2,y2), cost+1, x2, y2))        \n",
    "    \n",
    "def solve_a(data, N=70, steps=1024):\n",
    "    return shortest_path(data[:steps], N=N)"
   ]
  },
  {
   "cell_type": "code",
   "execution_count": 157,
   "id": "825d5da9",
   "metadata": {},
   "outputs": [
    {
     "data": {
      "text/plain": [
       "22"
      ]
     },
     "execution_count": 157,
     "metadata": {},
     "output_type": "execute_result"
    }
   ],
   "source": [
    "solve_a(sample, N=6, steps=12)"
   ]
  },
  {
   "cell_type": "code",
   "execution_count": null,
   "id": "9484691f",
   "metadata": {},
   "outputs": [],
   "source": []
  },
  {
   "cell_type": "code",
   "execution_count": 158,
   "id": "54a2e531",
   "metadata": {},
   "outputs": [
    {
     "data": {
      "text/plain": [
       "374"
      ]
     },
     "execution_count": 158,
     "metadata": {},
     "output_type": "execute_result"
    }
   ],
   "source": [
    "solve_a(data, N=70)"
   ]
  },
  {
   "cell_type": "code",
   "execution_count": null,
   "id": "9b5ac0f3",
   "metadata": {},
   "outputs": [],
   "source": []
  },
  {
   "cell_type": "code",
   "execution_count": 146,
   "id": "dffe8154",
   "metadata": {},
   "outputs": [],
   "source": [
    "def solve_b(data, N=70):\n",
    "    a, b = 0, len(data)\n",
    "    # binary search\n",
    "    while b-a > 1:\n",
    "        m = (a+b)//2\n",
    "        \n",
    "        s = shortest_path(data[:m], N=N)\n",
    "        if s is None: # not feasible\n",
    "            b = m\n",
    "        else:\n",
    "            a = m\n",
    "    x, y = data[b-1] # [:b] has points 0...b-1\n",
    "    return f'{x},{y}'"
   ]
  },
  {
   "cell_type": "code",
   "execution_count": 147,
   "id": "3a6ab8ee",
   "metadata": {},
   "outputs": [
    {
     "data": {
      "text/plain": [
       "'6,1'"
      ]
     },
     "execution_count": 147,
     "metadata": {},
     "output_type": "execute_result"
    }
   ],
   "source": [
    "solve_b(sample, 6)"
   ]
  },
  {
   "cell_type": "code",
   "execution_count": 148,
   "id": "98ed1186",
   "metadata": {},
   "outputs": [
    {
     "data": {
      "text/plain": [
       "'30,12'"
      ]
     },
     "execution_count": 148,
     "metadata": {},
     "output_type": "execute_result"
    }
   ],
   "source": [
    "solve_b(data)"
   ]
  },
  {
   "cell_type": "code",
   "execution_count": null,
   "id": "79fb0e35",
   "metadata": {},
   "outputs": [],
   "source": []
  },
  {
   "cell_type": "code",
   "execution_count": 126,
   "id": "8158f8d9",
   "metadata": {},
   "outputs": [
    {
     "data": {
      "text/plain": [
       "[(5, 4),\n",
       " (4, 2),\n",
       " (4, 5),\n",
       " (3, 0),\n",
       " (2, 1),\n",
       " (6, 3),\n",
       " (2, 4),\n",
       " (1, 5),\n",
       " (0, 6),\n",
       " (3, 3),\n",
       " (2, 6),\n",
       " (5, 1),\n",
       " (1, 2),\n",
       " (5, 5),\n",
       " (2, 5),\n",
       " (6, 5),\n",
       " (1, 4),\n",
       " (0, 4),\n",
       " (6, 4),\n",
       " (1, 1),\n",
       " (6, 1),\n",
       " (1, 0),\n",
       " (0, 5),\n",
       " (1, 6),\n",
       " (2, 0)]"
      ]
     },
     "execution_count": 126,
     "metadata": {},
     "output_type": "execute_result"
    }
   ],
   "source": [
    "sample"
   ]
  },
  {
   "cell_type": "code",
   "execution_count": null,
   "id": "50e5ded0",
   "metadata": {},
   "outputs": [],
   "source": []
  },
  {
   "cell_type": "code",
   "execution_count": null,
   "id": "eb536bd0",
   "metadata": {},
   "outputs": [],
   "source": []
  },
  {
   "cell_type": "code",
   "execution_count": null,
   "id": "8b5bb85f",
   "metadata": {},
   "outputs": [],
   "source": []
  },
  {
   "cell_type": "code",
   "execution_count": null,
   "id": "a2c17e6e",
   "metadata": {},
   "outputs": [],
   "source": []
  },
  {
   "cell_type": "code",
   "execution_count": null,
   "id": "52ea6698",
   "metadata": {},
   "outputs": [],
   "source": []
  },
  {
   "cell_type": "code",
   "execution_count": null,
   "id": "ab3118f5",
   "metadata": {},
   "outputs": [],
   "source": []
  },
  {
   "cell_type": "code",
   "execution_count": null,
   "id": "785e0b66",
   "metadata": {},
   "outputs": [],
   "source": []
  },
  {
   "cell_type": "code",
   "execution_count": null,
   "id": "42d86bdf",
   "metadata": {},
   "outputs": [],
   "source": []
  },
  {
   "cell_type": "code",
   "execution_count": null,
   "id": "98d29116",
   "metadata": {},
   "outputs": [],
   "source": []
  },
  {
   "cell_type": "code",
   "execution_count": null,
   "id": "a5a8b8e4",
   "metadata": {},
   "outputs": [],
   "source": []
  },
  {
   "cell_type": "code",
   "execution_count": null,
   "id": "88731814",
   "metadata": {},
   "outputs": [],
   "source": []
  },
  {
   "cell_type": "code",
   "execution_count": null,
   "id": "835f0e05",
   "metadata": {},
   "outputs": [],
   "source": []
  },
  {
   "cell_type": "code",
   "execution_count": null,
   "id": "23134873",
   "metadata": {},
   "outputs": [],
   "source": []
  },
  {
   "cell_type": "code",
   "execution_count": null,
   "id": "addb0a60",
   "metadata": {},
   "outputs": [],
   "source": []
  },
  {
   "cell_type": "code",
   "execution_count": null,
   "id": "5e5807ea",
   "metadata": {},
   "outputs": [],
   "source": []
  },
  {
   "cell_type": "code",
   "execution_count": null,
   "id": "c86543db",
   "metadata": {},
   "outputs": [],
   "source": []
  },
  {
   "cell_type": "code",
   "execution_count": null,
   "id": "6c1e1bba",
   "metadata": {},
   "outputs": [],
   "source": []
  },
  {
   "cell_type": "code",
   "execution_count": null,
   "id": "ae08780d",
   "metadata": {},
   "outputs": [],
   "source": []
  },
  {
   "cell_type": "code",
   "execution_count": 10,
   "id": "27974b67",
   "metadata": {},
   "outputs": [],
   "source": [
    "from collections import deque\n",
    "import heapq\n",
    "\n",
    "def parse_input(input_text):\n",
    "    \"\"\"Parse input text into list of coordinates.\"\"\"\n",
    "    coordinates = []\n",
    "    for line in input_text.strip().split('\\n'):\n",
    "        if line:\n",
    "            x, y = map(int, line.split(','))\n",
    "            coordinates.append((x, y))\n",
    "    return coordinates\n",
    "\n",
    "def create_grid(size, corrupted):\n",
    "    \"\"\"Create grid with corrupted positions marked.\"\"\"\n",
    "    grid = [[False] * size for _ in range(size)]\n",
    "    for x, y in corrupted:\n",
    "        if 0 <= x < size and 0 <= y < size:\n",
    "            grid[y][x] = True\n",
    "    return grid\n",
    "\n",
    "def find_shortest_path(grid):\n",
    "    \"\"\"Find shortest path from (0,0) to (target,target) using A* search.\"\"\"\n",
    "    size = len(grid)\n",
    "    target = (size - 1, size - 1)\n",
    "    \n",
    "    def manhattan_distance(pos):\n",
    "        return abs(pos[0] - target[0]) + abs(pos[1] - target[1])\n",
    "    \n",
    "    # Priority queue for A* search\n",
    "    queue = [(manhattan_distance((0, 0)), 0, (0, 0))]  # (f_score, g_score, position)\n",
    "    visited = set()\n",
    "    \n",
    "    directions = [(0, 1), (1, 0), (0, -1), (-1, 0)]  # right, down, left, up\n",
    "    \n",
    "    while queue:\n",
    "        f_score, g_score, current = heapq.heappop(queue)\n",
    "        \n",
    "        if current == target:\n",
    "            return g_score\n",
    "            \n",
    "        if current in visited:\n",
    "            continue\n",
    "            \n",
    "        visited.add(current)\n",
    "        \n",
    "        for dx, dy in directions:\n",
    "            new_x = current[0] + dx\n",
    "            new_y = current[1] + dy\n",
    "            \n",
    "            if (0 <= new_x < size and 0 <= new_y < size and \n",
    "                not grid[new_y][new_x] and \n",
    "                (new_x, new_y) not in visited):\n",
    "                \n",
    "                new_g = g_score + 1\n",
    "                new_f = new_g + manhattan_distance((new_x, new_y))\n",
    "                heapq.heappush(queue, (new_f, new_g, (new_x, new_y)))\n",
    "    \n",
    "    return None  # No path found\n",
    "\n",
    "def solve_puzzle(input_text, grid_size=71, num_bytes=1024):\n",
    "    \"\"\"Main function to solve the puzzle.\"\"\"\n",
    "    coordinates = parse_input(input_text)\n",
    "    # Take only first 1024 bytes\n",
    "    corrupted = coordinates[:num_bytes]\n",
    "    grid = create_grid(grid_size, corrupted)\n",
    "    \n",
    "    # Find shortest path\n",
    "    shortest_path = find_shortest_path(grid)\n",
    "    return shortest_path\n",
    "\n",
    "# # Function to visualize grid (for debugging)\n",
    "# def visualize_grid(grid):\n",
    "#     for row in grid:\n",
    "#         print(''.join('#' if cell else '.' for cell in row))"
   ]
  },
  {
   "cell_type": "code",
   "execution_count": null,
   "id": "e12a7cdc",
   "metadata": {},
   "outputs": [],
   "source": []
  },
  {
   "cell_type": "code",
   "execution_count": null,
   "id": "87378a91",
   "metadata": {},
   "outputs": [],
   "source": []
  },
  {
   "cell_type": "code",
   "execution_count": 33,
   "id": "9ed87a1a",
   "metadata": {},
   "outputs": [
    {
     "name": "stdout",
     "output_type": "stream",
     "text": [
      "Part 1: 140\n",
      "Part 2: 30,12\n"
     ]
    }
   ],
   "source": [
    "from collections import deque\n",
    "from typing import List, Tuple, Set\n",
    "\n",
    "def parse_input(input_text: str) -> List[Tuple[int, int]]:\n",
    "    \"\"\"Parse the input text into a list of (x,y) coordinates.\"\"\"\n",
    "    coordinates = []\n",
    "    for line in input_text.strip().split('\\n'):\n",
    "        if line:\n",
    "            x, y = map(int, line.split(','))\n",
    "            coordinates.append((x, y))\n",
    "    return coordinates\n",
    "\n",
    "def get_corrupted_cells(coordinates: List[Tuple[int, int]], num_bytes: int) -> Set[Tuple[int, int]]:\n",
    "    \"\"\"Get the set of corrupted cells after num_bytes have fallen.\"\"\"\n",
    "    return set(coordinates[:num_bytes])\n",
    "\n",
    "def is_valid_position(pos: Tuple[int, int], grid_size: int, corrupted: Set[Tuple[int, int]]) -> bool:\n",
    "    \"\"\"Check if a position is valid (within bounds and not corrupted).\"\"\"\n",
    "    x, y = pos\n",
    "    return (0 <= x <= grid_size and \n",
    "            0 <= y <= grid_size and \n",
    "            (x, y) not in corrupted)\n",
    "\n",
    "def find_shortest_path(grid_size: int, corrupted: Set[Tuple[int, int]]) -> int:\n",
    "    \"\"\"Find shortest path from (0,0) to (grid_size,grid_size) avoiding corrupted cells.\"\"\"\n",
    "    if (0, 0) in corrupted or (grid_size, grid_size) in corrupted:\n",
    "        return float('inf')\n",
    "    \n",
    "    start = (0, 0)\n",
    "    end = (grid_size, grid_size)\n",
    "    queue = deque([(start, 0)])  # (position, steps)\n",
    "    visited = {start}\n",
    "    directions = [(0, 1), (1, 0), (0, -1), (-1, 0)]\n",
    "    \n",
    "    while queue:\n",
    "        (x, y), steps = queue.popleft()\n",
    "        \n",
    "        if (x, y) == end:\n",
    "            return steps\n",
    "            \n",
    "        for dx, dy in directions:\n",
    "            next_pos = (x + dx, y + dy)\n",
    "            if (next_pos not in visited and \n",
    "                is_valid_position(next_pos, grid_size, corrupted)):\n",
    "                visited.add(next_pos)\n",
    "                queue.append((next_pos, steps + 1))\n",
    "    \n",
    "    return float('inf')\n",
    "\n",
    "def find_blocking_byte(input_text: str, grid_size: int = 70) -> Tuple[int, int]:\n",
    "    \"\"\"Find the first byte that blocks all paths to the exit.\"\"\"\n",
    "    coordinates = parse_input(input_text)\n",
    "    \n",
    "    # Try each byte one by one until we find one that blocks all paths\n",
    "    for i in range(len(coordinates)):\n",
    "        corrupted = get_corrupted_cells(coordinates, i + 1)\n",
    "        path_length = find_shortest_path(grid_size, corrupted)\n",
    "        \n",
    "        if path_length == float('inf'):\n",
    "            # This byte blocked all paths - return its coordinates\n",
    "            return coordinates[i]\n",
    "    \n",
    "    return (-1, -1)  # No blocking byte found\n",
    "\n",
    "def solve_part1(input_text: str, grid_size: int = 70) -> int:\n",
    "    \"\"\"Solve part 1 - find minimum steps needed.\"\"\"\n",
    "    coordinates = parse_input(input_text)\n",
    "    \n",
    "    # Binary search to find the minimum number of steps\n",
    "    left = 0\n",
    "    right = 1024  # First kilobyte\n",
    "    best_steps = float('inf')\n",
    "    \n",
    "    while left <= right:\n",
    "        mid = (left + right) // 2\n",
    "        corrupted = get_corrupted_cells(coordinates, mid)\n",
    "        steps = find_shortest_path(grid_size, corrupted)\n",
    "        \n",
    "        if steps < float('inf'):\n",
    "            best_steps = min(best_steps, steps)\n",
    "            right = mid - 1\n",
    "        else:\n",
    "            left = mid + 1\n",
    "    \n",
    "    return best_steps if best_steps < float('inf') else -1\n",
    "\n",
    "def solve_part2(input_text: str, grid_size: int = 70) -> str:\n",
    "    \"\"\"Solve part 2 - find coordinates of first blocking byte.\"\"\"\n",
    "    x, y = find_blocking_byte(input_text, grid_size)\n",
    "    return f\"{x},{y}\"\n",
    "\n",
    "# Example usage:\n",
    "example_input = \"\"\"\n",
    "5,4\n",
    "4,2\n",
    "4,5\n",
    "3,0\n",
    "2,1\n",
    "6,3\n",
    "2,4\n",
    "1,5\n",
    "0,6\n",
    "3,3\n",
    "2,6\n",
    "5,1\n",
    "1,2\n",
    "5,5\n",
    "2,5\n",
    "6,5\n",
    "1,4\n",
    "0,4\n",
    "6,4\n",
    "1,1\n",
    "6,1\n",
    "1,0\n",
    "0,5\n",
    "1,6\n",
    "2,0\n",
    "\"\"\"\n",
    "\n",
    "# Test both parts with example\n",
    "print(\"Part 1:\", solve_part1(puzzle.input_data, grid_size=70))  # Should print 22\n",
    "print(\"Part 2:\", solve_part2(puzzle.input_data, grid_size=70))  # Should print 6,1"
   ]
  },
  {
   "cell_type": "code",
   "execution_count": null,
   "id": "b1091cb8",
   "metadata": {},
   "outputs": [],
   "source": []
  },
  {
   "cell_type": "code",
   "execution_count": null,
   "id": "fdd410c9",
   "metadata": {},
   "outputs": [],
   "source": []
  },
  {
   "cell_type": "code",
   "execution_count": null,
   "id": "e7062779",
   "metadata": {},
   "outputs": [],
   "source": []
  },
  {
   "cell_type": "code",
   "execution_count": null,
   "id": "d06985bb",
   "metadata": {},
   "outputs": [],
   "source": []
  },
  {
   "cell_type": "code",
   "execution_count": null,
   "id": "1731db96",
   "metadata": {},
   "outputs": [],
   "source": []
  },
  {
   "cell_type": "code",
   "execution_count": 12,
   "id": "a4372cb2",
   "metadata": {},
   "outputs": [
    {
     "data": {
      "text/plain": [
       "374"
      ]
     },
     "execution_count": 12,
     "metadata": {},
     "output_type": "execute_result"
    }
   ],
   "source": [
    "solve_puzzle(puzzle.inputaa_data)"
   ]
  },
  {
   "cell_type": "code",
   "execution_count": null,
   "id": "b865e149",
   "metadata": {},
   "outputs": [],
   "source": []
  },
  {
   "cell_type": "code",
   "execution_count": null,
   "id": "8d3e8f6c",
   "metadata": {},
   "outputs": [],
   "source": []
  },
  {
   "cell_type": "code",
   "execution_count": 17,
   "id": "b6373878",
   "metadata": {},
   "outputs": [],
   "source": []
  },
  {
   "cell_type": "code",
   "execution_count": 18,
   "id": "15eb35db",
   "metadata": {},
   "outputs": [
    {
     "name": "stdout",
     "output_type": "stream",
     "text": [
      "Example result: 1,6\n"
     ]
    }
   ],
   "source": [
    "test_example()"
   ]
  },
  {
   "cell_type": "code",
   "execution_count": null,
   "id": "feb472b1",
   "metadata": {},
   "outputs": [],
   "source": []
  },
  {
   "cell_type": "code",
   "execution_count": null,
   "id": "131f079b",
   "metadata": {},
   "outputs": [],
   "source": [
    "def parse_coordinates(input_text):\n",
    "    \"\"\"Parse input text into list of coordinates.\"\"\"\n",
    "    coordinates = []\n",
    "    for line in input_text.strip().split('\\n'):\n",
    "        if line.strip():  # Skip empty lines\n",
    "            x, y = map(int, line.strip().split(','))\n",
    "            coordinates.append((x, y))\n",
    "    return coordinates\n",
    "\n",
    "def is_path_possible(blocked_positions, size):\n",
    "    \"\"\"Check if path exists from (0,0) to (size-1,size-1) using BFS.\"\"\"\n",
    "    if (0, 0) in blocked_positions or (size-1, size-1) in blocked_positions:\n",
    "        return False\n",
    "        \n",
    "    queue = [(0, 0)]\n",
    "    visited = {(0, 0)}\n",
    "    \n",
    "    while queue:\n",
    "        x, y = queue.pop(0)\n",
    "        \n",
    "        if (x, y) == (size-1, size-1):\n",
    "            return True\n",
    "            \n",
    "        # Try all four directions\n",
    "        for dx, dy in [(0, 1), (1, 0), (0, -1), (-1, 0)]:\n",
    "            new_x, new_y = x + dx, y + dy\n",
    "            \n",
    "            if (0 <= new_x < size and \n",
    "                0 <= new_y < size and \n",
    "                (new_x, new_y) not in blocked_positions and \n",
    "                (new_x, new_y) not in visited):\n",
    "                visited.add((new_x, new_y))\n",
    "                queue.append((new_x, new_y))\n",
    "                \n",
    "    return False\n",
    "\n",
    "def find_blocking_coordinate(input_text, size=7):\n",
    "    \"\"\"Find first coordinate that makes path impossible.\"\"\"\n",
    "    coordinates = parse_coordinates(input_text)\n",
    "    blocked = set()\n",
    "    \n",
    "    for i, coord in enumerate(coordinates):\n",
    "        blocked.add(coord)\n",
    "        if not is_path_possible(blocked, size):\n",
    "            return coord\n",
    "            \n",
    "    return None\n",
    "\n",
    "# Test with example\n",
    "example = \"\"\"5,4\n",
    "4,2\n",
    "4,5\n",
    "3,0\n",
    "2,1\n",
    "6,3\n",
    "2,4\n",
    "1,5\n",
    "0,6\n",
    "3,3\n",
    "2,6\n",
    "5,1\n",
    "1,2\n",
    "5,5\n",
    "2,5\n",
    "6,5\n",
    "1,4\n",
    "0,4\n",
    "6,4\n",
    "1,1\n",
    "6,1\n",
    "1,0\n",
    "0,5\n",
    "1,6\n",
    "2,0\"\"\"\n",
    "\n",
    "def test():\n",
    "    result = find_blocking_coordinate(example, 7)\n",
    "    if result:\n",
    "        print(f\"Blocking coordinate: {result[0]},{result[1]}\")\n",
    "    else:\n",
    "        print(\"No blocking coordinate found\")"
   ]
  },
  {
   "cell_type": "code",
   "execution_count": null,
   "id": "8575f52c",
   "metadata": {},
   "outputs": [],
   "source": []
  },
  {
   "cell_type": "code",
   "execution_count": null,
   "id": "f85ee3b3",
   "metadata": {},
   "outputs": [],
   "source": [
    "def solve_a(data):\n",
    "    pass"
   ]
  },
  {
   "cell_type": "code",
   "execution_count": null,
   "id": "d462bc86",
   "metadata": {},
   "outputs": [],
   "source": [
    "solve_a(sample)"
   ]
  },
  {
   "cell_type": "code",
   "execution_count": null,
   "id": "d5db86cf",
   "metadata": {},
   "outputs": [],
   "source": [
    "solve_a(data)"
   ]
  },
  {
   "cell_type": "code",
   "execution_count": null,
   "id": "77083851",
   "metadata": {},
   "outputs": [],
   "source": [
    "def solve_b(data):\n",
    "    pass"
   ]
  },
  {
   "cell_type": "code",
   "execution_count": null,
   "id": "d6e2ea2d",
   "metadata": {},
   "outputs": [],
   "source": [
    "solve_b(sample)"
   ]
  },
  {
   "cell_type": "code",
   "execution_count": null,
   "id": "89dc9c78",
   "metadata": {},
   "outputs": [],
   "source": [
    "solve_b(data)"
   ]
  },
  {
   "cell_type": "code",
   "execution_count": null,
   "id": "adfd1fdf",
   "metadata": {},
   "outputs": [],
   "source": []
  },
  {
   "cell_type": "code",
   "execution_count": 29,
   "id": "5c638898",
   "metadata": {},
   "outputs": [],
   "source": [
    "def parse_coordinates(input_text):\n",
    "    \"\"\"Parse input text into list of coordinates.\"\"\"\n",
    "    coordinates = []\n",
    "    for line in input_text.strip().split('\\n'):\n",
    "        if line.strip():  # Skip empty lines\n",
    "            x, y = map(int, line.strip().split(','))\n",
    "            coordinates.append((x, y))\n",
    "    return coordinates\n",
    "\n",
    "def is_path_possible(blocked_positions, size):\n",
    "    \"\"\"Check if path exists from (0,0) to (size-1,size-1) using BFS.\"\"\"\n",
    "    if (0, 0) in blocked_positions or (size-1, size-1) in blocked_positions:\n",
    "        return False\n",
    "        \n",
    "    queue = [(0, 0)]\n",
    "    visited = {(0, 0)}\n",
    "    \n",
    "    while queue:\n",
    "        x, y = queue.pop(0)\n",
    "        \n",
    "        if (x, y) == (size-1, size-1):\n",
    "            return True\n",
    "            \n",
    "        # Try all four directions\n",
    "        for dx, dy in [(0, 1), (1, 0), (0, -1), (-1, 0)]:\n",
    "            new_x, new_y = x + dx, y + dy\n",
    "            \n",
    "            if (0 <= new_x < size and \n",
    "                0 <= new_y < size and \n",
    "                (new_x, new_y) not in blocked_positions and \n",
    "                (new_x, new_y) not in visited):\n",
    "                visited.add((new_x, new_y))\n",
    "                queue.append((new_x, new_y))\n",
    "                \n",
    "    return False\n",
    "\n",
    "def find_blocking_coordinate(input_text, size=7):\n",
    "    \"\"\"Find first coordinate that makes path impossible.\"\"\"\n",
    "    coordinates = parse_coordinates(input_text)\n",
    "    blocked = set()\n",
    "    \n",
    "    for i, coord in enumerate(coordinates):\n",
    "        blocked.add(coord)\n",
    "        if not is_path_possible(blocked, size):\n",
    "            return coord\n",
    "            \n",
    "    return None\n",
    "\n",
    "# Test with example\n",
    "example = \"\"\"5,4\n",
    "4,2\n",
    "4,5\n",
    "3,0\n",
    "2,1\n",
    "6,3\n",
    "2,4\n",
    "1,5\n",
    "0,6\n",
    "3,3\n",
    "2,6\n",
    "5,1\n",
    "1,2\n",
    "5,5\n",
    "2,5\n",
    "6,5\n",
    "1,4\n",
    "0,4\n",
    "6,4\n",
    "1,1\n",
    "6,1\n",
    "1,0\n",
    "0,5\n",
    "1,6\n",
    "2,0\"\"\"\n",
    "\n",
    "def test():\n",
    "    result = find_blocking_coordinate(puzzle.input_data, 70)\n",
    "    if result:\n",
    "        print(f\"Blocking coordinate: {result[0]},{result[1]}\")\n",
    "    else:\n",
    "        print(\"No blocking coordinate found\")"
   ]
  },
  {
   "cell_type": "code",
   "execution_count": 30,
   "id": "4c397e2a",
   "metadata": {},
   "outputs": [
    {
     "name": "stdout",
     "output_type": "stream",
     "text": [
      "Blocking coordinate: 69,69\n"
     ]
    }
   ],
   "source": [
    "test()"
   ]
  },
  {
   "cell_type": "code",
   "execution_count": null,
   "id": "bb72c89b",
   "metadata": {},
   "outputs": [],
   "source": []
  }
 ],
 "metadata": {
  "kernelspec": {
   "display_name": "Python 3 (ipykernel)",
   "language": "python",
   "name": "python3"
  },
  "language_info": {
   "codemirror_mode": {
    "name": "ipython",
    "version": 3
   },
   "file_extension": ".py",
   "mimetype": "text/x-python",
   "name": "python",
   "nbconvert_exporter": "python",
   "pygments_lexer": "ipython3",
   "version": "3.11.5"
  }
 },
 "nbformat": 4,
 "nbformat_minor": 5
}
