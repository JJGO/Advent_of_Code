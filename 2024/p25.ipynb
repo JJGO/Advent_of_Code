{
 "cells": [
  {
   "cell_type": "code",
   "execution_count": null,
   "id": "0e1bcd6c",
   "metadata": {},
   "outputs": [],
   "source": []
  },
  {
   "cell_type": "code",
   "execution_count": 7,
   "id": "9e63a717",
   "metadata": {},
   "outputs": [],
   "source": [
    "from aocd.models import Puzzle\n",
    "\n",
    "puzzle = Puzzle(year=2024, day=25)\n",
    "\n",
    "def parses(data):\n",
    "    blocks = data.strip().split('\\n\\n')\n",
    "    keys, locks = [], []\n",
    "    for block in blocks:\n",
    "        coords = set([(i,j) for i, row in enumerate(block.split('\\n')) \n",
    "                     for j, v in enumerate(row) if v == '#'])\n",
    "        if (0,0) in coords:\n",
    "            locks.append(coords)\n",
    "        else:\n",
    "            keys.append(coords)\n",
    "    return locks, keys\n",
    "\n",
    "data = parses(puzzle.input_data)"
   ]
  },
  {
   "cell_type": "code",
   "execution_count": 8,
   "id": "4496f854",
   "metadata": {},
   "outputs": [],
   "source": [
    "sample = parses(\"\"\"#####\n",
    ".####\n",
    ".####\n",
    ".####\n",
    ".#.#.\n",
    ".#...\n",
    ".....\n",
    "\n",
    "#####\n",
    "##.##\n",
    ".#.##\n",
    "...##\n",
    "...#.\n",
    "...#.\n",
    ".....\n",
    "\n",
    ".....\n",
    "#....\n",
    "#....\n",
    "#...#\n",
    "#.#.#\n",
    "#.###\n",
    "#####\n",
    "\n",
    ".....\n",
    ".....\n",
    "#.#..\n",
    "###..\n",
    "###.#\n",
    "###.#\n",
    "#####\n",
    "\n",
    ".....\n",
    ".....\n",
    ".....\n",
    "#....\n",
    "#.#..\n",
    "#.#.#\n",
    "#####\"\"\")"
   ]
  },
  {
   "cell_type": "code",
   "execution_count": null,
   "id": "c402a3c5",
   "metadata": {},
   "outputs": [],
   "source": []
  },
  {
   "cell_type": "code",
   "execution_count": 11,
   "id": "1eebd64e",
   "metadata": {},
   "outputs": [],
   "source": [
    "def solve_a(data):\n",
    "    locks, keys = data\n",
    "    return sum([\n",
    "        len(key&lock) == 0\n",
    "        for key, lock in itertools.product(locks, keys)\n",
    "    ])"
   ]
  },
  {
   "cell_type": "code",
   "execution_count": 12,
   "id": "abf692e5",
   "metadata": {},
   "outputs": [
    {
     "data": {
      "text/plain": [
       "3136"
      ]
     },
     "execution_count": 12,
     "metadata": {},
     "output_type": "execute_result"
    }
   ],
   "source": [
    "solve_a(data)"
   ]
  },
  {
   "cell_type": "code",
   "execution_count": null,
   "id": "378f914a",
   "metadata": {},
   "outputs": [],
   "source": []
  },
  {
   "cell_type": "code",
   "execution_count": null,
   "id": "867f2c51",
   "metadata": {},
   "outputs": [],
   "source": []
  },
  {
   "cell_type": "code",
   "execution_count": null,
   "id": "94a9bc57",
   "metadata": {},
   "outputs": [],
   "source": []
  },
  {
   "cell_type": "code",
   "execution_count": 10,
   "id": "5ba53d1e",
   "metadata": {},
   "outputs": [],
   "source": [
    "from aocd.models import Puzzle\n",
    "\n",
    "puzzle = Puzzle(year=2024, day=25)\n",
    "\n",
    "def parses(data):\n",
    "    blocks = data.strip().split('\\n\\n')\n",
    "    keys = []\n",
    "    locks = []\n",
    "    for block in blocks:\n",
    "        block = np.array([[v=='#' for v in row] for row in block.split('\\n')])\n",
    "        if block[0].sum() == 5:\n",
    "            locks.append(block[1:].sum(0))\n",
    "        elif block[-1].sum() == 5:\n",
    "            keys.append(block[:-1].sum(0))\n",
    "    assert len(blocks) == len(locks)+len(keys)\n",
    "    return np.array(locks), np.array(keys)\n",
    "\n",
    "# import re\n",
    "# def parses(data):\n",
    "#     return [[int(i) for i in re.findall(\"-?\\d+\", line)] \n",
    "#              for line in data.strip().split('\\n')]\n",
    "\n",
    "data = parses(puzzle.input_data)"
   ]
  },
  {
   "cell_type": "code",
   "execution_count": 12,
   "id": "552d3f7e",
   "metadata": {},
   "outputs": [],
   "source": [
    "a, b = data"
   ]
  },
  {
   "cell_type": "code",
   "execution_count": 14,
   "id": "e7a9abb4",
   "metadata": {},
   "outputs": [],
   "source": [
    "sample = parses(\"\"\"#####\n",
    ".####\n",
    ".####\n",
    ".####\n",
    ".#.#.\n",
    ".#...\n",
    ".....\n",
    "\n",
    "#####\n",
    "##.##\n",
    ".#.##\n",
    "...##\n",
    "...#.\n",
    "...#.\n",
    ".....\n",
    "\n",
    ".....\n",
    "#....\n",
    "#....\n",
    "#...#\n",
    "#.#.#\n",
    "#.###\n",
    "#####\n",
    "\n",
    ".....\n",
    ".....\n",
    "#.#..\n",
    "###..\n",
    "###.#\n",
    "###.#\n",
    "#####\n",
    "\n",
    ".....\n",
    ".....\n",
    ".....\n",
    "#....\n",
    "#.#..\n",
    "#.#.#\n",
    "#####\"\"\")"
   ]
  },
  {
   "cell_type": "code",
   "execution_count": 16,
   "id": "84f52b89",
   "metadata": {},
   "outputs": [],
   "source": [
    "locks, keys = sample"
   ]
  },
  {
   "cell_type": "code",
   "execution_count": 26,
   "id": "a2ca2a0a",
   "metadata": {},
   "outputs": [
    {
     "data": {
      "text/plain": [
       "3"
      ]
     },
     "execution_count": 26,
     "metadata": {},
     "output_type": "execute_result"
    }
   ],
   "source": [
    "(~((locks[:,None]+keys[None,:]) > 5).any(axis=2)).sum()"
   ]
  },
  {
   "cell_type": "code",
   "execution_count": null,
   "id": "6686e4c2",
   "metadata": {},
   "outputs": [],
   "source": []
  },
  {
   "cell_type": "code",
   "execution_count": null,
   "id": "2ee7a29b",
   "metadata": {},
   "outputs": [],
   "source": []
  },
  {
   "cell_type": "code",
   "execution_count": 29,
   "id": "f17f10d4",
   "metadata": {},
   "outputs": [],
   "source": [
    "def solve_a(data):\n",
    "    locks, keys = data\n",
    "    return (~((locks[:,None]+keys[None,:]) > 5).any(axis=2)).sum()"
   ]
  },
  {
   "cell_type": "code",
   "execution_count": 30,
   "id": "be665ec5",
   "metadata": {},
   "outputs": [
    {
     "data": {
      "text/plain": [
       "3136"
      ]
     },
     "execution_count": 30,
     "metadata": {},
     "output_type": "execute_result"
    }
   ],
   "source": [
    "solve_a(data)"
   ]
  },
  {
   "cell_type": "code",
   "execution_count": null,
   "id": "02793dbe",
   "metadata": {},
   "outputs": [],
   "source": []
  },
  {
   "cell_type": "code",
   "execution_count": null,
   "id": "693efbc7",
   "metadata": {},
   "outputs": [],
   "source": []
  },
  {
   "cell_type": "code",
   "execution_count": null,
   "id": "1d41ec51",
   "metadata": {},
   "outputs": [],
   "source": [
    "sample = parses(\"\"\"\"\"\")"
   ]
  },
  {
   "cell_type": "code",
   "execution_count": null,
   "id": "8575f52c",
   "metadata": {},
   "outputs": [],
   "source": []
  },
  {
   "cell_type": "code",
   "execution_count": null,
   "id": "f85ee3b3",
   "metadata": {},
   "outputs": [],
   "source": [
    "def solve_a(data):\n",
    "    pass"
   ]
  },
  {
   "cell_type": "code",
   "execution_count": null,
   "id": "d462bc86",
   "metadata": {},
   "outputs": [],
   "source": [
    "solve_a(sample)"
   ]
  },
  {
   "cell_type": "code",
   "execution_count": null,
   "id": "d5db86cf",
   "metadata": {},
   "outputs": [],
   "source": [
    "solve_a(data)"
   ]
  },
  {
   "cell_type": "code",
   "execution_count": null,
   "id": "77083851",
   "metadata": {},
   "outputs": [],
   "source": [
    "def solve_b(data):\n",
    "    pass"
   ]
  },
  {
   "cell_type": "code",
   "execution_count": null,
   "id": "d6e2ea2d",
   "metadata": {},
   "outputs": [],
   "source": [
    "solve_b(sample)"
   ]
  },
  {
   "cell_type": "code",
   "execution_count": null,
   "id": "89dc9c78",
   "metadata": {},
   "outputs": [],
   "source": [
    "solve_b(data)"
   ]
  },
  {
   "cell_type": "code",
   "execution_count": null,
   "id": "adfd1fdf",
   "metadata": {},
   "outputs": [],
   "source": []
  },
  {
   "cell_type": "code",
   "execution_count": null,
   "id": "5c638898",
   "metadata": {},
   "outputs": [],
   "source": []
  }
 ],
 "metadata": {
  "kernelspec": {
   "display_name": "Python 3 (ipykernel)",
   "language": "python",
   "name": "python3"
  },
  "language_info": {
   "codemirror_mode": {
    "name": "ipython",
    "version": 3
   },
   "file_extension": ".py",
   "mimetype": "text/x-python",
   "name": "python",
   "nbconvert_exporter": "python",
   "pygments_lexer": "ipython3",
   "version": "3.11.5"
  }
 },
 "nbformat": 4,
 "nbformat_minor": 5
}
