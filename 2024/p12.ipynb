{
 "cells": [
  {
   "cell_type": "code",
   "execution_count": 1,
   "id": "5ba53d1e",
   "metadata": {},
   "outputs": [],
   "source": [
    "from aocd.models import Puzzle\n",
    "\n",
    "puzzle = Puzzle(year=2024, day=12)\n",
    "\n",
    "def parses(data):\n",
    "    data = [list(line) for line in data.strip().split('\\n')]\n",
    "    return {\n",
    "        (i,j): val \n",
    "        for i, row in enumerate(data)\n",
    "        for j, val in enumerate(row)\n",
    "    }\n",
    "\n",
    "data = parses(puzzle.input_data)"
   ]
  },
  {
   "cell_type": "code",
   "execution_count": 2,
   "id": "7b9f77fc",
   "metadata": {},
   "outputs": [],
   "source": [
    "sample = parses(\"\"\"AAAA\n",
    "BBCD\n",
    "BBCC\n",
    "EEEC \"\"\")"
   ]
  },
  {
   "cell_type": "code",
   "execution_count": 51,
   "id": "2fa2eba9",
   "metadata": {},
   "outputs": [],
   "source": [
    "def find_region(start, board):\n",
    "    stack = [start]\n",
    "    visited = set([start])\n",
    "    while stack:\n",
    "        i, j = stack.pop()\n",
    "        for di, dj in [(1,0),(-1,0),(0,1),(0,-1)]:\n",
    "            neigh = i+di, j+dj\n",
    "            if neigh in board and board[neigh] == board[start]:\n",
    "                if neigh not in visited:\n",
    "                    visited.add(neigh)\n",
    "                    stack.append(neigh)\n",
    "    return visited\n",
    "\n",
    "def find_sides(visited, board):\n",
    "    sides = {}\n",
    "    for i, j in visited:\n",
    "        for di, dj in [(1,0),(-1,0),(0,1),(0,-1)]:\n",
    "            neigh = i+di, j+dj\n",
    "            if (neigh not in board) or (neigh not in visited):\n",
    "                sides.setdefault((i,j), [])\n",
    "                sides[i,j].append((di,dj))\n",
    "    if len(visited) > 1:\n",
    "        sides = {k: v for k, v in sides.items() if len(v) < 4}\n",
    "    return sides\n",
    "\n",
    "def deduplicate_sides(sides):\n",
    "    # We only count each side once by counting the \"leftmost\" coordinate of each edge.\n",
    "    # Leftmost is relative to the orientation, so we code it as a rotation\n",
    "    unique_sides = {}\n",
    "    for i, j in sides:\n",
    "        for di, dj in sides[i,j]:\n",
    "            neigh = i-dj, j+di # rot90\n",
    "            if neigh in sides and (di,dj) in sides[neigh]:\n",
    "                continue\n",
    "            unique_sides.setdefault((i,j), [])\n",
    "            unique_sides[i,j].append((di, dj))\n",
    "    return unique_sides"
   ]
  },
  {
   "cell_type": "code",
   "execution_count": 91,
   "id": "516628bd",
   "metadata": {},
   "outputs": [],
   "source": [
    "sample = parses(\"\"\"\n",
    "AAA\n",
    "AXA\n",
    "AXA\n",
    "AAA\"\"\")"
   ]
  },
  {
   "cell_type": "code",
   "execution_count": 99,
   "id": "cb39b7ad",
   "metadata": {},
   "outputs": [],
   "source": [
    "board = sample\n",
    "region = find_region((0,0), board)\n",
    "sides = find_sides(region, board)"
   ]
  },
  {
   "cell_type": "code",
   "execution_count": 117,
   "id": "014c2b26",
   "metadata": {},
   "outputs": [
    {
     "data": {
      "text/plain": [
       "8"
      ]
     },
     "execution_count": 117,
     "metadata": {},
     "output_type": "execute_result"
    }
   ],
   "source": [
    "count_corners(sides)"
   ]
  },
  {
   "cell_type": "code",
   "execution_count": null,
   "id": "9e93172e",
   "metadata": {},
   "outputs": [],
   "source": []
  },
  {
   "cell_type": "code",
   "execution_count": 119,
   "id": "974b12b7",
   "metadata": {},
   "outputs": [],
   "source": [
    "def count_corners(sides):\n",
    "    corners = 0\n",
    "    for i, j in sides:\n",
    "        for di, dj in sides[i,j]:\n",
    "            di2, dj2 = -dj, di\n",
    "            # convex\n",
    "            if (di2, dj2) in sides[i,j]:\n",
    "                corners += 1\n",
    "            # concave\n",
    "            i2, j2 = i+di-di2, j+dj-dj2\n",
    "            if (i2,j2) in sides and (di2,dj2) in sides[i2,j2]:\n",
    "                corners += 1\n",
    "    return corners"
   ]
  },
  {
   "cell_type": "code",
   "execution_count": null,
   "id": "b7051053",
   "metadata": {},
   "outputs": [],
   "source": []
  },
  {
   "cell_type": "code",
   "execution_count": null,
   "id": "7c12fa3c",
   "metadata": {},
   "outputs": [],
   "source": []
  },
  {
   "cell_type": "code",
   "execution_count": 122,
   "id": "458f0c55",
   "metadata": {},
   "outputs": [],
   "source": [
    "def cost(board, bulk):\n",
    "    visited = set()\n",
    "    cost = 0\n",
    "    for pos in board:\n",
    "        if pos not in visited:\n",
    "            region = find_region(pos, board)\n",
    "            area = len(region)\n",
    "            sides = find_sides(region, board)\n",
    "            if bulk:\n",
    "                perim = count_corners(sides)\n",
    "            else:\n",
    "                perim = sum([len(edges) for edges in sides.values()])\n",
    "            \n",
    "            \n",
    "            visited |= region\n",
    "            cost += area * perim\n",
    "    return cost\n",
    "\n",
    "def solve_a(data):\n",
    "    return cost(data, bulk=False)\n",
    "\n",
    "def solve_b(data):\n",
    "    return cost(data, bulk=True)"
   ]
  },
  {
   "cell_type": "code",
   "execution_count": 123,
   "id": "6f9cb6a0",
   "metadata": {},
   "outputs": [
    {
     "data": {
      "text/plain": [
       "212"
      ]
     },
     "execution_count": 123,
     "metadata": {},
     "output_type": "execute_result"
    }
   ],
   "source": [
    "solve_a(sample)"
   ]
  },
  {
   "cell_type": "code",
   "execution_count": 124,
   "id": "599554b7",
   "metadata": {},
   "outputs": [
    {
     "data": {
      "text/plain": [
       "88"
      ]
     },
     "execution_count": 124,
     "metadata": {},
     "output_type": "execute_result"
    }
   ],
   "source": [
    "solve_b(sample)"
   ]
  },
  {
   "cell_type": "code",
   "execution_count": null,
   "id": "957eaa1e",
   "metadata": {},
   "outputs": [],
   "source": []
  },
  {
   "cell_type": "code",
   "execution_count": 142,
   "id": "9f4bc82f",
   "metadata": {},
   "outputs": [],
   "source": [
    "v = region((0,0), sample)"
   ]
  },
  {
   "cell_type": "code",
   "execution_count": 143,
   "id": "0be0a50d",
   "metadata": {},
   "outputs": [
    {
     "data": {
      "text/plain": [
       "{(0, 1): [(1, 1), (-1, 1)],\n",
       " (0, 2): [(1, 2), (-1, 2)],\n",
       " (0, 3): [(1, 3), (-1, 3), (0, 4)],\n",
       " (0, 0): [(1, 0), (-1, 0), (0, -1)]}"
      ]
     },
     "execution_count": 143,
     "metadata": {},
     "output_type": "execute_result"
    }
   ],
   "source": [
    "s = find_sides(v, sample)"
   ]
  },
  {
   "cell_type": "code",
   "execution_count": null,
   "id": "7ffde61e",
   "metadata": {},
   "outputs": [],
   "source": []
  },
  {
   "cell_type": "code",
   "execution_count": null,
   "id": "216f6956",
   "metadata": {},
   "outputs": [],
   "source": []
  },
  {
   "cell_type": "code",
   "execution_count": null,
   "id": "4a084a34",
   "metadata": {},
   "outputs": [],
   "source": []
  },
  {
   "cell_type": "code",
   "execution_count": null,
   "id": "13b231ee",
   "metadata": {},
   "outputs": [],
   "source": [
    "def solve_b(data):\n",
    "    visited = set()\n",
    "    cost = 0\n",
    "    for pos in board:\n",
    "        if pos not in visited:\n",
    "            region = find_region(pos, board)\n",
    "            sides = find_sides(region, board)\n",
    "            perim = sum([len(edges) for edges in sides.items()])\n",
    "            visited |= region\n",
    "            cost += area * perim\n",
    "    return cost"
   ]
  },
  {
   "cell_type": "code",
   "execution_count": null,
   "id": "db3d9bf1",
   "metadata": {},
   "outputs": [],
   "source": []
  },
  {
   "cell_type": "code",
   "execution_count": null,
   "id": "388f712f",
   "metadata": {},
   "outputs": [],
   "source": [
    "def deduplicate_sides(visited, board)"
   ]
  },
  {
   "cell_type": "code",
   "execution_count": null,
   "id": "10283199",
   "metadata": {},
   "outputs": [],
   "source": []
  },
  {
   "cell_type": "code",
   "execution_count": null,
   "id": "fd56bcd0",
   "metadata": {},
   "outputs": [],
   "source": []
  },
  {
   "cell_type": "code",
   "execution_count": null,
   "id": "bfba2ba9",
   "metadata": {},
   "outputs": [],
   "source": [
    "def fence(start, board):\n",
    "    stack = [start]\n",
    "#     print(stack)\n",
    "    visited = set([start])\n",
    "    while stack:\n",
    "        pos = stack.pop()\n",
    "        for neigh in (pos+1, pos-1, pos+1j, pos-1j):\n",
    "            if neigh in board and neigh not in visited:\n",
    "                if board[neigh] == board[start]:\n",
    "                    visited.add(neigh)\n",
    "                    stack.append(neigh)\n",
    "    area = len(visited)\n",
    "#     print(visited, area)\n",
    "    if len(visited) == 1:\n",
    "        return 1, 4, visited\n",
    "    sides = Counter()\n",
    "#     print(visited)\n",
    "    for pos in visited:\n",
    "        for neigh in (pos+1, pos-1, pos+1j, pos-1j):\n",
    "            sides[pos] += (neigh not in visited) or (neigh not in board)\n",
    "#     print(sides)\n",
    "    perim = sum(c for c in sides.values() if c != 4)\n",
    "    return area, perim, visited"
   ]
  },
  {
   "cell_type": "code",
   "execution_count": null,
   "id": "2b1cae55",
   "metadata": {},
   "outputs": [],
   "source": []
  },
  {
   "cell_type": "code",
   "execution_count": null,
   "id": "52adc34f",
   "metadata": {},
   "outputs": [],
   "source": []
  },
  {
   "cell_type": "code",
   "execution_count": null,
   "id": "c5658427",
   "metadata": {},
   "outputs": [],
   "source": []
  },
  {
   "cell_type": "code",
   "execution_count": null,
   "id": "5ae953ad",
   "metadata": {},
   "outputs": [],
   "source": []
  },
  {
   "cell_type": "code",
   "execution_count": null,
   "id": "6d1908ea",
   "metadata": {},
   "outputs": [],
   "source": []
  },
  {
   "cell_type": "code",
   "execution_count": null,
   "id": "1106f724",
   "metadata": {},
   "outputs": [],
   "source": [
    "from aocd.models import Puzzle\n",
    "\n",
    "puzzle = Puzzle(year=2024, day=12)\n",
    "\n",
    "def parses(data):\n",
    "    return [list(line) for line in data.strip().split('\\n')]\n",
    "\n",
    "# import re\n",
    "# def parses(input):\n",
    "#     return [int(re.findall(\"-?\\d+\", line)) for line in nput.strip().split('\\n')]\n",
    "\n",
    "data = parses(puzzle.input_data)"
   ]
  },
  {
   "cell_type": "code",
   "execution_count": 47,
   "id": "9bf9ef06",
   "metadata": {},
   "outputs": [],
   "source": [
    "def build_board(data):\n",
    "    board = {}\n",
    "    for i, row in enumerate(data):\n",
    "        for j, val in enumerate(row):\n",
    "            board[i+1j*j] = val\n",
    "    return board"
   ]
  },
  {
   "cell_type": "code",
   "execution_count": 82,
   "id": "10a38897",
   "metadata": {},
   "outputs": [],
   "source": [
    "def fence(start, board):\n",
    "    stack = [start]\n",
    "#     print(stack)\n",
    "    visited = set([start])\n",
    "    while stack:\n",
    "        pos = stack.pop()\n",
    "        for neigh in (pos+1, pos-1, pos+1j, pos-1j):\n",
    "            if neigh in board and neigh not in visited:\n",
    "                if board[neigh] == board[start]:\n",
    "                    visited.add(neigh)\n",
    "                    stack.append(neigh)\n",
    "    area = len(visited)\n",
    "#     print(visited, area)\n",
    "    if len(visited) == 1:\n",
    "        return 1, 4, visited\n",
    "    sides = Counter()\n",
    "#     print(visited)\n",
    "    for pos in visited:\n",
    "        for neigh in (pos+1, pos-1, pos+1j, pos-1j):\n",
    "            sides[pos] += (neigh not in visited) or (neigh not in board)\n",
    "#     print(sides)\n",
    "    perim = sum(c for c in sides.values() if c != 4)\n",
    "    return area, perim, visited"
   ]
  },
  {
   "cell_type": "code",
   "execution_count": 85,
   "id": "0279737a",
   "metadata": {},
   "outputs": [],
   "source": [
    "def solve_a(data):\n",
    "    board = build_board(data)\n",
    "    visited = set()\n",
    "    cost = 0\n",
    "    for pos in board:\n",
    "        if pos not in visited:\n",
    "            area, perim, new = fence(pos, board)\n",
    "            visited |= new\n",
    "#             print(board[pos], area, perim)\n",
    "            cost += area * perim\n",
    "    return cost"
   ]
  },
  {
   "cell_type": "code",
   "execution_count": 86,
   "id": "5135e598",
   "metadata": {},
   "outputs": [
    {
     "data": {
      "text/plain": [
       "140"
      ]
     },
     "execution_count": 86,
     "metadata": {},
     "output_type": "execute_result"
    }
   ],
   "source": [
    "solve_a(sample)"
   ]
  },
  {
   "cell_type": "code",
   "execution_count": 87,
   "id": "5f15578c",
   "metadata": {},
   "outputs": [
    {
     "data": {
      "text/plain": [
       "1461806"
      ]
     },
     "execution_count": 87,
     "metadata": {},
     "output_type": "execute_result"
    }
   ],
   "source": [
    "solve_a(data)"
   ]
  },
  {
   "cell_type": "code",
   "execution_count": 116,
   "id": "b0aea365",
   "metadata": {},
   "outputs": [],
   "source": [
    "# def get_perim(start, board):\n",
    "#     stack = [start]\n",
    "# #     print(stack)\n",
    "#     visited = set([start])\n",
    "#     while stack:\n",
    "#         pos = stack.pop()\n",
    "#         for neigh in (pos+1, pos-1, pos+1j, pos-1j):\n",
    "#             if neigh in board and neigh not in visited:\n",
    "#                 if board[neigh] == board[start]:\n",
    "#                     visited.add(neigh)\n",
    "#                     stack.append(neigh)\n",
    "#     area = len(visited)\n",
    "# #     print(visited, area)\n",
    "#     if len(visited) == 1:\n",
    "#         return 1, 4, visited\n",
    "#     sides = Counter()\n",
    "# #     print(visited)\n",
    "#     for pos in visited:\n",
    "#         for neigh in (pos+1, pos-1, pos+1j, pos-1j):\n",
    "#             sides[pos] += (neigh not in visited) or (neigh not in board)\n",
    "# #     print(sides)\n",
    "#     perim = sum(c for c in sides.values() if c != 4)\n",
    "#     return area, sides, visited\n",
    "# #     return area, perim, visited"
   ]
  },
  {
   "cell_type": "code",
   "execution_count": null,
   "id": "cad4ab01",
   "metadata": {},
   "outputs": [],
   "source": []
  },
  {
   "cell_type": "code",
   "execution_count": 120,
   "id": "a88da45e",
   "metadata": {},
   "outputs": [],
   "source": [
    "def fence_b(start, board):\n",
    "    stack = [start]\n",
    "#     print(stack)\n",
    "    visited = set([start])\n",
    "    while stack:\n",
    "        pos = stack.pop()\n",
    "        for neigh in (pos+1, pos-1, pos+1j, pos-1j):\n",
    "            if neigh in board and neigh not in visited:\n",
    "                if board[neigh] == board[start]:\n",
    "                    visited.add(neigh)\n",
    "                    stack.append(neigh)\n",
    "    area = len(visited)\n",
    "#     print(visited, area)\n",
    "    if len(visited) == 1:\n",
    "        return 1, 4, visited\n",
    "\n",
    "    sides = defaultdict(list)\n",
    "#     print(visited)\n",
    "    for pos in visited:\n",
    "        for delta in (1,-1,1j,-1j):\n",
    "            neigh = pos + delta\n",
    "            if (neigh not in visited) or (neigh not in board):\n",
    "                sides[pos].append(delta)\n",
    "\n",
    "    if len(visited) == 1:\n",
    "        return 1, 4, visited\n",
    "    \n",
    "    sides = defaultdict(list) |{k:v for k, v in sides.items() if len(v) < 4}\n",
    "    total_perim = sum([len(v) for v in sides.values()])\n",
    "    subs = 0\n",
    "#     print(sides)\n",
    "    real_sides = 0\n",
    "\n",
    "         \n",
    "    for pos in list(sides):\n",
    "        \n",
    "#         for side, neigh in [\n",
    "#             (1, pos+1j),\n",
    "#             (-1, pos-1j),\n",
    "#             (1j, pos-1),\n",
    "#             (-1j, pos+1),\n",
    "#         ]:\n",
    "        for side in [1,-1,1j,-1j]:\n",
    "            neigh = pos + 1j * side\n",
    "            if side in sides[pos]:\n",
    "                if neigh in sides and side in sides[neigh]:\n",
    "                    continue\n",
    "                real_sides += 1\n",
    "\n",
    "    return area, real_sides, visited"
   ]
  },
  {
   "cell_type": "code",
   "execution_count": 121,
   "id": "d5ff757f",
   "metadata": {},
   "outputs": [
    {
     "data": {
      "text/plain": [
       "4"
      ]
     },
     "execution_count": 121,
     "metadata": {},
     "output_type": "execute_result"
    }
   ],
   "source": [
    "get_perim(3, build_board(sample))"
   ]
  },
  {
   "cell_type": "code",
   "execution_count": 122,
   "id": "0e7bd18a",
   "metadata": {},
   "outputs": [],
   "source": [
    "def solve_b(data):\n",
    "    board = build_board(data)\n",
    "    visited = set()\n",
    "    cost = 0\n",
    "    for pos in board:\n",
    "        if pos not in visited:\n",
    "            area, perim, new = fence_b(pos, board)\n",
    "            visited |= new\n",
    "#             print(board[pos], area, perim)\n",
    "            cost += area * perim\n",
    "    return cost"
   ]
  },
  {
   "cell_type": "code",
   "execution_count": 123,
   "id": "dcacfdbd",
   "metadata": {},
   "outputs": [
    {
     "data": {
      "text/plain": [
       "887932"
      ]
     },
     "execution_count": 123,
     "metadata": {},
     "output_type": "execute_result"
    }
   ],
   "source": [
    "solve_b(data)"
   ]
  },
  {
   "cell_type": "code",
   "execution_count": null,
   "id": "d5c4c4cb",
   "metadata": {},
   "outputs": [],
   "source": []
  },
  {
   "cell_type": "code",
   "execution_count": 101,
   "id": "43ee3592",
   "metadata": {},
   "outputs": [
    {
     "data": {
      "text/plain": [
       "{0j: 'A',\n",
       " 1j: 'A',\n",
       " 2j: 'A',\n",
       " 3j: 'A',\n",
       " (1+0j): 'B',\n",
       " (1+1j): 'B',\n",
       " (1+2j): 'C',\n",
       " (1+3j): 'D',\n",
       " (2+0j): 'B',\n",
       " (2+1j): 'B',\n",
       " (2+2j): 'C',\n",
       " (2+3j): 'C',\n",
       " (3+0j): 'E',\n",
       " (3+1j): 'E',\n",
       " (3+2j): 'E',\n",
       " (3+3j): 'C'}"
      ]
     },
     "execution_count": 101,
     "metadata": {},
     "output_type": "execute_result"
    }
   ],
   "source": [
    "build_board(sample)"
   ]
  },
  {
   "cell_type": "code",
   "execution_count": null,
   "id": "77ed527e",
   "metadata": {},
   "outputs": [],
   "source": []
  },
  {
   "cell_type": "code",
   "execution_count": 50,
   "id": "b8e065b2",
   "metadata": {},
   "outputs": [
    {
     "data": {
      "text/plain": [
       "(3, 8, {(3+0j), (3+1j), (3+2j)})"
      ]
     },
     "execution_count": 50,
     "metadata": {},
     "output_type": "execute_result"
    }
   ],
   "source": [
    "dfs(3, board)"
   ]
  },
  {
   "cell_type": "code",
   "execution_count": null,
   "id": "43fa5986",
   "metadata": {},
   "outputs": [],
   "source": []
  },
  {
   "cell_type": "code",
   "execution_count": null,
   "id": "9d91468e",
   "metadata": {},
   "outputs": [],
   "source": [
    "def fence(board)"
   ]
  },
  {
   "cell_type": "code",
   "execution_count": null,
   "id": "fd4b674e",
   "metadata": {},
   "outputs": [],
   "source": []
  },
  {
   "cell_type": "code",
   "execution_count": null,
   "id": "1d41ec51",
   "metadata": {},
   "outputs": [],
   "source": []
  },
  {
   "cell_type": "code",
   "execution_count": null,
   "id": "6de69cfc",
   "metadata": {},
   "outputs": [],
   "source": []
  },
  {
   "cell_type": "code",
   "execution_count": null,
   "id": "8575f52c",
   "metadata": {},
   "outputs": [],
   "source": []
  },
  {
   "cell_type": "code",
   "execution_count": null,
   "id": "f85ee3b3",
   "metadata": {},
   "outputs": [],
   "source": [
    "def solve_a(data):\n",
    "    pass"
   ]
  },
  {
   "cell_type": "code",
   "execution_count": null,
   "id": "d462bc86",
   "metadata": {},
   "outputs": [],
   "source": [
    "solve_a(sample)"
   ]
  },
  {
   "cell_type": "code",
   "execution_count": null,
   "id": "d5db86cf",
   "metadata": {},
   "outputs": [],
   "source": [
    "solve_a(data)"
   ]
  },
  {
   "cell_type": "code",
   "execution_count": null,
   "id": "77083851",
   "metadata": {},
   "outputs": [],
   "source": [
    "def solve_b(data):\n",
    "    pass"
   ]
  },
  {
   "cell_type": "code",
   "execution_count": null,
   "id": "d6e2ea2d",
   "metadata": {},
   "outputs": [],
   "source": [
    "solve_b(sample)"
   ]
  },
  {
   "cell_type": "code",
   "execution_count": null,
   "id": "89dc9c78",
   "metadata": {},
   "outputs": [],
   "source": [
    "solve_b(data)"
   ]
  },
  {
   "cell_type": "code",
   "execution_count": null,
   "id": "adfd1fdf",
   "metadata": {},
   "outputs": [],
   "source": []
  },
  {
   "cell_type": "code",
   "execution_count": null,
   "id": "5c638898",
   "metadata": {},
   "outputs": [],
   "source": []
  }
 ],
 "metadata": {
  "kernelspec": {
   "display_name": "Python 3 (ipykernel)",
   "language": "python",
   "name": "python3"
  },
  "language_info": {
   "codemirror_mode": {
    "name": "ipython",
    "version": 3
   },
   "file_extension": ".py",
   "mimetype": "text/x-python",
   "name": "python",
   "nbconvert_exporter": "python",
   "pygments_lexer": "ipython3",
   "version": "3.11.5"
  }
 },
 "nbformat": 4,
 "nbformat_minor": 5
}
