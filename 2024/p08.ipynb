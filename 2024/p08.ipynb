{
 "cells": [
  {
   "cell_type": "code",
   "execution_count": 7,
   "id": "5ba53d1e",
   "metadata": {},
   "outputs": [],
   "source": [
    "from aocd.models import Puzzle\n",
    "\n",
    "puzzle = Puzzle(year=2024, day=8)\n",
    "\n",
    "def parses(data):\n",
    "    data = data.strip().split('\\n')\n",
    "    N, M = len(data), len(data[0])\n",
    "    \n",
    "    antennas = defaultdict(list)\n",
    "    for i, row in enumerate(data):\n",
    "        for j, v in enumerate(row):\n",
    "            if v != '.':\n",
    "                antennas[v].append((i+1j*j))\n",
    "    return (N,M), antennas\n",
    "\n",
    "data = parses(puzzle.input_data)"
   ]
  },
  {
   "cell_type": "code",
   "execution_count": 34,
   "id": "1d41ec51",
   "metadata": {},
   "outputs": [],
   "source": [
    "sample = parses(\"\"\"............\n",
    "........0...\n",
    ".....0......\n",
    ".......0....\n",
    "....0.......\n",
    "......A.....\n",
    "............\n",
    "............\n",
    "........A...\n",
    ".........A..\n",
    "............\n",
    "............\"\"\")"
   ]
  },
  {
   "cell_type": "code",
   "execution_count": 35,
   "id": "c8ddf4dc",
   "metadata": {},
   "outputs": [
    {
     "data": {
      "text/plain": [
       "((12, 12),\n",
       " defaultdict(list,\n",
       "             {'0': [(1+8j), (2+5j), (3+7j), (4+4j)],\n",
       "              'A': [(5+6j), (8+8j), (9+9j)]}))"
      ]
     },
     "execution_count": 35,
     "metadata": {},
     "output_type": "execute_result"
    }
   ],
   "source": [
    "sample"
   ]
  },
  {
   "cell_type": "code",
   "execution_count": 36,
   "id": "be8c096b",
   "metadata": {},
   "outputs": [],
   "source": [
    "import itertools"
   ]
  },
  {
   "cell_type": "code",
   "execution_count": 41,
   "id": "f5e144d4",
   "metadata": {},
   "outputs": [],
   "source": [
    "def antinodes(locations, N, M):\n",
    "    alocs = set()\n",
    "    for a, b in itertools.combinations(locations, 2):\n",
    "        d = (a-b)\n",
    "        locs = [a+d, a-d, b+d, b-d]\n",
    "        locs = [z for z in locs if (0<= z.real < N) and ( 0 <= z.imag < M)]\n",
    "        alocs |= set(locs)\n",
    "    return alocs - set(locations)"
   ]
  },
  {
   "cell_type": "code",
   "execution_count": 42,
   "id": "f85ee3b3",
   "metadata": {},
   "outputs": [],
   "source": [
    "def solve_a(data):\n",
    "    (N, M), grouped_locs = data\n",
    "    all_locs = set()\n",
    "    for k, locs in grouped_locs.items():\n",
    "        all_locs |= antinodes(locs, N, M)\n",
    "    return len(all_locs)"
   ]
  },
  {
   "cell_type": "code",
   "execution_count": 43,
   "id": "31df8115",
   "metadata": {},
   "outputs": [
    {
     "data": {
      "text/plain": [
       "14"
      ]
     },
     "execution_count": 43,
     "metadata": {},
     "output_type": "execute_result"
    }
   ],
   "source": [
    "solve_a(sample)"
   ]
  },
  {
   "cell_type": "code",
   "execution_count": 44,
   "id": "e0d9cc90",
   "metadata": {},
   "outputs": [
    {
     "data": {
      "text/plain": [
       "308"
      ]
     },
     "execution_count": 44,
     "metadata": {},
     "output_type": "execute_result"
    }
   ],
   "source": [
    "solve_a(data)"
   ]
  },
  {
   "cell_type": "code",
   "execution_count": null,
   "id": "e777156e",
   "metadata": {},
   "outputs": [],
   "source": []
  },
  {
   "cell_type": "code",
   "execution_count": 18,
   "id": "3732ba8b",
   "metadata": {},
   "outputs": [],
   "source": [
    "sample = parses(\"\"\"T....#....\n",
    "...T......\n",
    ".T....#...\n",
    ".........#\n",
    "..#.......\n",
    "..........\n",
    "...#......\n",
    "..........\n",
    "....#.....\n",
    "..........\"\"\".replace('#','.'))"
   ]
  },
  {
   "cell_type": "code",
   "execution_count": 19,
   "id": "630f7346",
   "metadata": {},
   "outputs": [
    {
     "data": {
      "text/plain": [
       "((10, 10), defaultdict(list, {'T': [0j, (1+3j), (2+1j)]}))"
      ]
     },
     "execution_count": 19,
     "metadata": {},
     "output_type": "execute_result"
    }
   ],
   "source": [
    "sample"
   ]
  },
  {
   "cell_type": "code",
   "execution_count": 65,
   "id": "7fe92446",
   "metadata": {},
   "outputs": [],
   "source": [
    "sample = parses(\"\"\"............\n",
    "........0...\n",
    ".....0......\n",
    ".......0....\n",
    "....0.......\n",
    "......A.....\n",
    "............\n",
    "............\n",
    "........A...\n",
    ".........A..\n",
    "............\n",
    "............\"\"\")"
   ]
  },
  {
   "cell_type": "code",
   "execution_count": 68,
   "id": "a7fc9a28",
   "metadata": {},
   "outputs": [],
   "source": [
    "def antinodes_b(locations, N, M):\n",
    "    alocs = set()\n",
    "    for a, b in itertools.combinations(locations, 2):\n",
    "        alocs.add([a, b])\n",
    "        d = a-b\n",
    "        for z, dz in [(a+d, d), (a-d, -d)]:\n",
    "            while (0<= z.real < N) and ( 0 <= z.imag < M):\n",
    "                alocs.add(z)\n",
    "                z += dz\n",
    "    return alocs"
   ]
  },
  {
   "cell_type": "code",
   "execution_count": 71,
   "id": "4ccfed43",
   "metadata": {},
   "outputs": [],
   "source": [
    "def solve_b(data):\n",
    "    (N, M), dlocs = data\n",
    "    all_locs = set()\n",
    "    for k, locs in dlocs.items():\n",
    "        x = antinodes_b(locs, N, M)\n",
    "        all_locs |= set(x)\n",
    "    return len(all_locs)"
   ]
  },
  {
   "cell_type": "code",
   "execution_count": 72,
   "id": "d6e2ea2d",
   "metadata": {},
   "outputs": [
    {
     "data": {
      "text/plain": [
       "34"
      ]
     },
     "execution_count": 72,
     "metadata": {},
     "output_type": "execute_result"
    }
   ],
   "source": [
    "solve_b(sample)"
   ]
  },
  {
   "cell_type": "code",
   "execution_count": null,
   "id": "3c608a5a",
   "metadata": {},
   "outputs": [],
   "source": []
  },
  {
   "cell_type": "code",
   "execution_count": 73,
   "id": "89dc9c78",
   "metadata": {},
   "outputs": [
    {
     "data": {
      "text/plain": [
       "1147"
      ]
     },
     "execution_count": 73,
     "metadata": {},
     "output_type": "execute_result"
    }
   ],
   "source": [
    "solve_b(data)"
   ]
  },
  {
   "cell_type": "code",
   "execution_count": null,
   "id": "adfd1fdf",
   "metadata": {},
   "outputs": [],
   "source": []
  },
  {
   "cell_type": "code",
   "execution_count": null,
   "id": "5c638898",
   "metadata": {},
   "outputs": [],
   "source": []
  }
 ],
 "metadata": {
  "kernelspec": {
   "display_name": "Python 3 (ipykernel)",
   "language": "python",
   "name": "python3"
  },
  "language_info": {
   "codemirror_mode": {
    "name": "ipython",
    "version": 3
   },
   "file_extension": ".py",
   "mimetype": "text/x-python",
   "name": "python",
   "nbconvert_exporter": "python",
   "pygments_lexer": "ipython3",
   "version": "3.11.5"
  }
 },
 "nbformat": 4,
 "nbformat_minor": 5
}
