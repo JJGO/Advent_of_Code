{
 "cells": [
  {
   "cell_type": "code",
   "execution_count": 63,
   "id": "5ba53d1e",
   "metadata": {},
   "outputs": [],
   "source": [
    "from aocd.models import Puzzle\n",
    "\n",
    "puzzle = Puzzle(year=2024, day=20)\n",
    "\n",
    "def parses(data):\n",
    "    lines = data.strip().split('\\n')\n",
    "    start, end, walls = None, None, set()\n",
    "    for i, row in enumerate(lines):\n",
    "        for j, val in enumerate(row):\n",
    "            if val == '#':\n",
    "                walls.add((i,j))\n",
    "            elif val == 'S':\n",
    "                assert start is None\n",
    "                start = (i,j)\n",
    "            elif val == 'E':\n",
    "                assert end is None\n",
    "                end = (i,j)\n",
    "    N, M = len(lines), len(lines[0])\n",
    "    return start, end, walls\n",
    "\n",
    "# import re\n",
    "# def parses(data):\n",
    "#     return [[int(i) for i in re.findall(\"-?\\d+\", line)] \n",
    "#              for line in data.strip().split('\\n')]\n",
    "\n",
    "data = parses(puzzle.input_data)"
   ]
  },
  {
   "cell_type": "code",
   "execution_count": 64,
   "id": "1d41ec51",
   "metadata": {},
   "outputs": [],
   "source": [
    "sample = parses(\"\"\"###############\n",
    "#...#...#.....#\n",
    "#.#.#.#.#.###.#\n",
    "#S#...#.#.#...#\n",
    "#######.#.#.###\n",
    "#######.#.#...#\n",
    "#######.#.###.#\n",
    "###..E#...#...#\n",
    "###.#######.###\n",
    "#...###...#...#\n",
    "#.#####.#.###.#\n",
    "#.#...#.#.#...#\n",
    "#.#.#.#.#.#.###\n",
    "#...#...#...###\n",
    "###############\"\"\")"
   ]
  },
  {
   "cell_type": "code",
   "execution_count": 69,
   "id": "ca0374db",
   "metadata": {},
   "outputs": [],
   "source": [
    "def solve(data, cheatlength):\n",
    "    start, end, walls = data\n",
    "    pos = start\n",
    "    cost = {start: 0}\n",
    "    \n",
    "    while pos != end:\n",
    "        for delta in [(1,0),(-1,0),(0,1),(0,-1)]:\n",
    "            newpos = (pos[0]+delta[0], pos[1]+delta[1])\n",
    "            if newpos not in walls and newpos not in cost:\n",
    "                cost[newpos] = cost[pos] + 1\n",
    "                pos = newpos\n",
    "                break\n",
    "    shortcuts = {}\n",
    "    for a, b in itertools.combinations(cost,2):\n",
    "        dist = abs(a[0]-b[0]) + abs(a[1]-b[1])\n",
    "        if dist <= cheatlength:\n",
    "            shortcut = cost[b] - (cost[a] + dist)\n",
    "            shortcuts[a,b] = shortcut\n",
    "    return sum([1 for v in shortcuts.values() if v >= 100])"
   ]
  },
  {
   "cell_type": "code",
   "execution_count": 75,
   "id": "2a6c4f2f",
   "metadata": {},
   "outputs": [],
   "source": [
    "def solve_a(data):\n",
    "    return solve(data, 20)"
   ]
  },
  {
   "cell_type": "code",
   "execution_count": 77,
   "id": "01b4de58",
   "metadata": {},
   "outputs": [
    {
     "name": "stdout",
     "output_type": "stream",
     "text": [
      "CPU times: user 2.74 s, sys: 52.2 ms, total: 2.79 s\n",
      "Wall time: 2.79 s\n"
     ]
    },
    {
     "data": {
      "text/plain": [
       "1005856"
      ]
     },
     "execution_count": 77,
     "metadata": {},
     "output_type": "execute_result"
    }
   ],
   "source": [
    "%%time\n",
    "solve_a(data)"
   ]
  },
  {
   "cell_type": "code",
   "execution_count": null,
   "id": "418abfa3",
   "metadata": {},
   "outputs": [],
   "source": []
  },
  {
   "cell_type": "code",
   "execution_count": null,
   "id": "94e81b3c",
   "metadata": {},
   "outputs": [],
   "source": []
  },
  {
   "cell_type": "code",
   "execution_count": 85,
   "id": "7856b0b4",
   "metadata": {},
   "outputs": [],
   "source": [
    "def solve_a(data):\n",
    "    start, end, walls = data\n",
    "    pos = start\n",
    "    cost = {start: 0}\n",
    "    cheat_candidates = set()\n",
    "    i = 0\n",
    "\n",
    "    while pos != end:\n",
    "        for delta in [(1,0),(-1,0),(0,1),(0,-1)]:\n",
    "            newpos = (pos[0]+delta[0], pos[1]+delta[1])\n",
    "            if newpos in walls:\n",
    "                cheat_candidates.add((pos,delta))\n",
    "            elif newpos not in cost:\n",
    "                nextpos = newpos\n",
    "        cost[nextpos] = cost[pos] + 1\n",
    "        pos = nextpos\n",
    "    \n",
    "    gcheats = defaultdict(int)\n",
    "\n",
    "    for pos, delta in cheat_candidates:\n",
    "        cheatpos = (pos[0]+2*delta[0], pos[1]+2*delta[1])\n",
    "        if cheatpos in cost:\n",
    "            shortcut = cost[cheatpos] - cost[pos] - 2\n",
    "            if shortcut > 0:\n",
    "                gcheats[shortcut] += 1\n",
    "#     sorted([(v,k) for k, v in gcheats.items()], key=lambda x: x[1])\n",
    "    return sum([v for k, v in gcheats.items() if k >= 100])"
   ]
  },
  {
   "cell_type": "code",
   "execution_count": 86,
   "id": "3b13ac91",
   "metadata": {},
   "outputs": [
    {
     "data": {
      "text/plain": [
       "0"
      ]
     },
     "execution_count": 86,
     "metadata": {},
     "output_type": "execute_result"
    }
   ],
   "source": [
    "solve_a(sample)"
   ]
  },
  {
   "cell_type": "code",
   "execution_count": 87,
   "id": "6aab8da9",
   "metadata": {},
   "outputs": [
    {
     "name": "stdout",
     "output_type": "stream",
     "text": [
      "CPU times: user 29.4 ms, sys: 756 µs, total: 30.2 ms\n",
      "Wall time: 30.9 ms\n"
     ]
    },
    {
     "data": {
      "text/plain": [
       "1358"
      ]
     },
     "execution_count": 87,
     "metadata": {},
     "output_type": "execute_result"
    }
   ],
   "source": [
    "%%time\n",
    "solve_a(data)"
   ]
  },
  {
   "cell_type": "code",
   "execution_count": null,
   "id": "0889a5d2",
   "metadata": {},
   "outputs": [],
   "source": []
  },
  {
   "cell_type": "code",
   "execution_count": 83,
   "id": "9d7dde39",
   "metadata": {},
   "outputs": [],
   "source": [
    "def solve_b(data):\n",
    "    start, end, walls = data\n",
    "    N = 1+max(i for i, _ in walls)\n",
    "    M = 1+max(i for _, i in walls)\n",
    "    pos = start\n",
    "    cost = {start: 0}\n",
    "    cheat_candidates = set()\n",
    "\n",
    "    while pos != end:\n",
    "        for delta in [(1,0),(-1,0),(0,1),(0,-1)]:\n",
    "            newpos = (pos[0]+delta[0], pos[1]+delta[1])\n",
    "            if newpos in walls:\n",
    "                cheat_candidates.add(pos)\n",
    "            elif newpos not in cost:\n",
    "                nextpos = newpos\n",
    "        cost[nextpos] = cost[pos] + 1\n",
    "        pos = nextpos\n",
    "    shortcuts = {}\n",
    "    for pos in cheat_candidates:\n",
    "        stack = [pos]\n",
    "        visited = set(stack)\n",
    "        while stack:\n",
    "            endpos = stack.pop()\n",
    "\n",
    "            dist = abs(pos[0]-endpos[0]) + abs(pos[1]-endpos[1])\n",
    "            if endpos in cost:\n",
    "                shortcut = cost[endpos] - cost[pos] - dist\n",
    "                if shortcut > 0:\n",
    "                    shortcuts[pos,endpos] = shortcut\n",
    "\n",
    "\n",
    "            if dist < 20:\n",
    "                for delta in [(1,0),(-1,0),(0,1),(0,-1)]:\n",
    "                    x, y = (endpos[0]+delta[0], endpos[1]+delta[1])\n",
    "                    if 0 <= x < N and 0 <= y < M:\n",
    "                        if (x,y) not in visited:\n",
    "                            stack.append((x,y))\n",
    "                            visited.add((x,y))\n",
    "    gshortcuts = Counter(shortcuts.values())\n",
    "    return sum([v for k, v in gshortcuts.items() if k >= 100])"
   ]
  },
  {
   "cell_type": "code",
   "execution_count": 84,
   "id": "7eae6094",
   "metadata": {},
   "outputs": [
    {
     "name": "stdout",
     "output_type": "stream",
     "text": [
      "CPU times: user 4.38 s, sys: 96.9 ms, total: 4.47 s\n",
      "Wall time: 4.57 s\n"
     ]
    },
    {
     "data": {
      "text/plain": [
       "1005856"
      ]
     },
     "execution_count": 84,
     "metadata": {},
     "output_type": "execute_result"
    }
   ],
   "source": [
    "%%time\n",
    "solve_b(data)"
   ]
  },
  {
   "cell_type": "code",
   "execution_count": 62,
   "id": "79293881",
   "metadata": {},
   "outputs": [
    {
     "data": {
      "text/plain": [
       "0"
      ]
     },
     "execution_count": 62,
     "metadata": {},
     "output_type": "execute_result"
    }
   ],
   "source": [
    "solve_b(sample)"
   ]
  },
  {
   "cell_type": "code",
   "execution_count": 36,
   "id": "b720fd73",
   "metadata": {},
   "outputs": [],
   "source": []
  },
  {
   "cell_type": "code",
   "execution_count": 38,
   "id": "6ef0cd76",
   "metadata": {},
   "outputs": [],
   "source": []
  },
  {
   "cell_type": "code",
   "execution_count": 42,
   "id": "cb2aab1b",
   "metadata": {},
   "outputs": [
    {
     "data": {
      "text/plain": [
       "[(32, 50),\n",
       " (31, 52),\n",
       " (29, 54),\n",
       " (39, 56),\n",
       " (25, 58),\n",
       " (23, 60),\n",
       " (20, 62),\n",
       " (19, 64),\n",
       " (12, 66),\n",
       " (14, 68),\n",
       " (12, 70),\n",
       " (22, 72),\n",
       " (4, 74),\n",
       " (3, 76)]"
      ]
     },
     "execution_count": 42,
     "metadata": {},
     "output_type": "execute_result"
    }
   ],
   "source": [
    "# sorted([(v,k) for k, v in gshortcuts.items() if k >= 50], key=lambda x: x[1])\n",
    "\n",
    "sum()"
   ]
  },
  {
   "cell_type": "code",
   "execution_count": null,
   "id": "83dde9c7",
   "metadata": {},
   "outputs": [],
   "source": []
  },
  {
   "cell_type": "code",
   "execution_count": null,
   "id": "e6a90cc8",
   "metadata": {},
   "outputs": [],
   "source": []
  },
  {
   "cell_type": "code",
   "execution_count": null,
   "id": "d50b9f62",
   "metadata": {},
   "outputs": [],
   "source": [
    "\n",
    "gcheats = defaultdict(int)\n",
    "\n",
    "stack = [(pos,pos) for pos in cheat_candidates]\n",
    "\n",
    "visited = set()\n",
    "\n",
    "while stack:\n",
    "    spos, epos = stack.pop()\n",
    "    \n",
    "    if (spos, epos) in visited:\n",
    "        continue\n",
    "    visited.add(spos, epos)\n",
    "    \n",
    "    if abs(spos[0]-epos[0]) + abs(spos[1]-epos[1]) < 20:\n",
    "        \n",
    "        \n",
    "\n",
    "for pos in cheat_candidates:\n",
    "    \n",
    "    \n",
    "    cheatpos = (pos[0]+2*delta[0], pos[1]+2*delta[1])\n",
    "    if cheatpos in cost:\n",
    "        shortcut = cost[cheatpos] - cost[pos] - 2\n",
    "        if shortcut > 0:\n",
    "            gcheats[shortcut] += 1\n",
    "#     sorted([(v,k) for k, v in gcheats.items()], key=lambda x: x[1])\n",
    "return sum([v for k, v in gcheats.items() if k >= 100])"
   ]
  },
  {
   "cell_type": "code",
   "execution_count": null,
   "id": "580e9dd6",
   "metadata": {},
   "outputs": [],
   "source": []
  },
  {
   "cell_type": "code",
   "execution_count": 28,
   "id": "ceff7acd",
   "metadata": {},
   "outputs": [
    {
     "data": {
      "text/plain": [
       "0"
      ]
     },
     "execution_count": 28,
     "metadata": {},
     "output_type": "execute_result"
    }
   ],
   "source": [
    "sum([v for k, v in gcheats.items() if k >= 100])"
   ]
  },
  {
   "cell_type": "code",
   "execution_count": null,
   "id": "79411d33",
   "metadata": {},
   "outputs": [],
   "source": []
  },
  {
   "cell_type": "code",
   "execution_count": null,
   "id": "6aab6ab9",
   "metadata": {},
   "outputs": [],
   "source": []
  },
  {
   "cell_type": "code",
   "execution_count": null,
   "id": "905e0f82",
   "metadata": {},
   "outputs": [],
   "source": [
    "def sol"
   ]
  },
  {
   "cell_type": "code",
   "execution_count": 8,
   "id": "8575f52c",
   "metadata": {},
   "outputs": [
    {
     "data": {
      "text/plain": [
       "((3, 1),\n",
       " (7, 5),\n",
       " {(0, 0),\n",
       "  (0, 1),\n",
       "  (0, 2),\n",
       "  (0, 3),\n",
       "  (0, 4),\n",
       "  (0, 5),\n",
       "  (0, 6),\n",
       "  (0, 7),\n",
       "  (0, 8),\n",
       "  (0, 9),\n",
       "  (0, 10),\n",
       "  (0, 11),\n",
       "  (0, 12),\n",
       "  (0, 13),\n",
       "  (0, 14),\n",
       "  (1, 0),\n",
       "  (1, 4),\n",
       "  (1, 8),\n",
       "  (1, 14),\n",
       "  (2, 0),\n",
       "  (2, 2),\n",
       "  (2, 4),\n",
       "  (2, 6),\n",
       "  (2, 8),\n",
       "  (2, 10),\n",
       "  (2, 11),\n",
       "  (2, 12),\n",
       "  (2, 14),\n",
       "  (3, 0),\n",
       "  (3, 2),\n",
       "  (3, 6),\n",
       "  (3, 8),\n",
       "  (3, 10),\n",
       "  (3, 14),\n",
       "  (4, 0),\n",
       "  (4, 1),\n",
       "  (4, 2),\n",
       "  (4, 3),\n",
       "  (4, 4),\n",
       "  (4, 5),\n",
       "  (4, 6),\n",
       "  (4, 8),\n",
       "  (4, 10),\n",
       "  (4, 12),\n",
       "  (4, 13),\n",
       "  (4, 14),\n",
       "  (5, 0),\n",
       "  (5, 1),\n",
       "  (5, 2),\n",
       "  (5, 3),\n",
       "  (5, 4),\n",
       "  (5, 5),\n",
       "  (5, 6),\n",
       "  (5, 8),\n",
       "  (5, 10),\n",
       "  (5, 14),\n",
       "  (6, 0),\n",
       "  (6, 1),\n",
       "  (6, 2),\n",
       "  (6, 3),\n",
       "  (6, 4),\n",
       "  (6, 5),\n",
       "  (6, 6),\n",
       "  (6, 8),\n",
       "  (6, 10),\n",
       "  (6, 11),\n",
       "  (6, 12),\n",
       "  (6, 14),\n",
       "  (7, 0),\n",
       "  (7, 1),\n",
       "  (7, 2),\n",
       "  (7, 6),\n",
       "  (7, 10),\n",
       "  (7, 14),\n",
       "  (8, 0),\n",
       "  (8, 1),\n",
       "  (8, 2),\n",
       "  (8, 4),\n",
       "  (8, 5),\n",
       "  (8, 6),\n",
       "  (8, 7),\n",
       "  (8, 8),\n",
       "  (8, 9),\n",
       "  (8, 10),\n",
       "  (8, 12),\n",
       "  (8, 13),\n",
       "  (8, 14),\n",
       "  (9, 0),\n",
       "  (9, 4),\n",
       "  (9, 5),\n",
       "  (9, 6),\n",
       "  (9, 10),\n",
       "  (9, 14),\n",
       "  (10, 0),\n",
       "  (10, 2),\n",
       "  (10, 3),\n",
       "  (10, 4),\n",
       "  (10, 5),\n",
       "  (10, 6),\n",
       "  (10, 8),\n",
       "  (10, 10),\n",
       "  (10, 11),\n",
       "  (10, 12),\n",
       "  (10, 14),\n",
       "  (11, 0),\n",
       "  (11, 2),\n",
       "  (11, 6),\n",
       "  (11, 8),\n",
       "  (11, 10),\n",
       "  (11, 14),\n",
       "  (12, 0),\n",
       "  (12, 2),\n",
       "  (12, 4),\n",
       "  (12, 6),\n",
       "  (12, 8),\n",
       "  (12, 10),\n",
       "  (12, 12),\n",
       "  (12, 13),\n",
       "  (12, 14),\n",
       "  (13, 0),\n",
       "  (13, 4),\n",
       "  (13, 8),\n",
       "  (13, 12),\n",
       "  (13, 13),\n",
       "  (13, 14),\n",
       "  (14, 0),\n",
       "  (14, 1),\n",
       "  (14, 2),\n",
       "  (14, 3),\n",
       "  (14, 4),\n",
       "  (14, 5),\n",
       "  (14, 6),\n",
       "  (14, 7),\n",
       "  (14, 8),\n",
       "  (14, 9),\n",
       "  (14, 10),\n",
       "  (14, 11),\n",
       "  (14, 12),\n",
       "  (14, 13),\n",
       "  (14, 14)})"
      ]
     },
     "execution_count": 8,
     "metadata": {},
     "output_type": "execute_result"
    }
   ],
   "source": [
    "# sample\n"
   ]
  },
  {
   "cell_type": "code",
   "execution_count": null,
   "id": "a1ecb654",
   "metadata": {},
   "outputs": [],
   "source": []
  },
  {
   "cell_type": "code",
   "execution_count": null,
   "id": "f85ee3b3",
   "metadata": {},
   "outputs": [],
   "source": [
    "def solve_a(data):\n",
    "    pass"
   ]
  },
  {
   "cell_type": "code",
   "execution_count": null,
   "id": "d462bc86",
   "metadata": {},
   "outputs": [],
   "source": [
    "solve_a(sample)"
   ]
  },
  {
   "cell_type": "code",
   "execution_count": null,
   "id": "d5db86cf",
   "metadata": {},
   "outputs": [],
   "source": [
    "solve_a(data)"
   ]
  },
  {
   "cell_type": "code",
   "execution_count": null,
   "id": "77083851",
   "metadata": {},
   "outputs": [],
   "source": [
    "def solve_b(data):\n",
    "    pass"
   ]
  },
  {
   "cell_type": "code",
   "execution_count": null,
   "id": "d6e2ea2d",
   "metadata": {},
   "outputs": [],
   "source": [
    "solve_b(sample)"
   ]
  },
  {
   "cell_type": "code",
   "execution_count": null,
   "id": "89dc9c78",
   "metadata": {},
   "outputs": [],
   "source": [
    "solve_b(data)"
   ]
  },
  {
   "cell_type": "code",
   "execution_count": null,
   "id": "adfd1fdf",
   "metadata": {},
   "outputs": [],
   "source": []
  },
  {
   "cell_type": "code",
   "execution_count": null,
   "id": "5c638898",
   "metadata": {},
   "outputs": [],
   "source": []
  }
 ],
 "metadata": {
  "kernelspec": {
   "display_name": "Python 3 (ipykernel)",
   "language": "python",
   "name": "python3"
  },
  "language_info": {
   "codemirror_mode": {
    "name": "ipython",
    "version": 3
   },
   "file_extension": ".py",
   "mimetype": "text/x-python",
   "name": "python",
   "nbconvert_exporter": "python",
   "pygments_lexer": "ipython3",
   "version": "3.11.5"
  }
 },
 "nbformat": 4,
 "nbformat_minor": 5
}
