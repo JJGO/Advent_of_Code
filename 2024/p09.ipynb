{
 "cells": [
  {
   "cell_type": "code",
   "execution_count": 27,
   "id": "5ba53d1e",
   "metadata": {},
   "outputs": [],
   "source": [
    "from aocd.models import Puzzle\n",
    "\n",
    "puzzle = Puzzle(year=2024, day=9)\n",
    "\n",
    "def parses(data):\n",
    "    return [(size, k//2 if k%2 == 0 else None) \n",
    "            for k, size in enumerate(map(int,data))]\n",
    "\n",
    "# import re\n",
    "# def parses(input):\n",
    "#     return [int(re.findall(\"-?\\d+\", line)) for line in nput.strip().split('\\n')]\n",
    "\n",
    "data = parses(puzzle.input_data)"
   ]
  },
  {
   "cell_type": "code",
   "execution_count": 28,
   "id": "1d41ec51",
   "metadata": {},
   "outputs": [],
   "source": [
    "sample = parses(\"\"\"2333133121414131402\"\"\")"
   ]
  },
  {
   "cell_type": "code",
   "execution_count": 29,
   "id": "eb575e00",
   "metadata": {},
   "outputs": [],
   "source": [
    "sample2 = parses(\"\"\"12345\"\"\")"
   ]
  },
  {
   "cell_type": "code",
   "execution_count": 66,
   "id": "7ed5e477",
   "metadata": {},
   "outputs": [],
   "source": [
    "hdata = parses(open('p09-hard-input.txt', 'r').read().strip())"
   ]
  },
  {
   "cell_type": "code",
   "execution_count": 74,
   "id": "bdb5b26c",
   "metadata": {},
   "outputs": [
    {
     "data": {
      "text/plain": [
       "True"
      ]
     },
     "execution_count": 74,
     "metadata": {},
     "output_type": "execute_result"
    }
   ],
   "source": [
    "solve_a(hdata) == 63614979355824"
   ]
  },
  {
   "cell_type": "code",
   "execution_count": 76,
   "id": "504a2641",
   "metadata": {},
   "outputs": [
    {
     "name": "stdout",
     "output_type": "stream",
     "text": [
      "CPU times: user 4.06 s, sys: 63.4 ms, total: 4.13 s\n",
      "Wall time: 4.13 s\n"
     ]
    },
    {
     "data": {
      "text/plain": [
       "True"
      ]
     },
     "execution_count": 76,
     "metadata": {},
     "output_type": "execute_result"
    }
   ],
   "source": [
    "%%time\n",
    "solve_b(hdata) == 97898222299196"
   ]
  },
  {
   "cell_type": "code",
   "execution_count": 72,
   "id": "f03db798",
   "metadata": {},
   "outputs": [],
   "source": [
    "h2data = parses(open('p09-harder-input.txt', 'r').read().strip())"
   ]
  },
  {
   "cell_type": "code",
   "execution_count": 77,
   "id": "4b21f89f",
   "metadata": {},
   "outputs": [
    {
     "name": "stdout",
     "output_type": "stream",
     "text": [
      "CPU times: user 47.2 s, sys: 594 ms, total: 47.8 s\n",
      "Wall time: 47.8 s\n"
     ]
    },
    {
     "data": {
      "text/plain": [
       "True"
      ]
     },
     "execution_count": 77,
     "metadata": {},
     "output_type": "execute_result"
    }
   ],
   "source": [
    "%%time \n",
    "solve_b(h2data) == 5799706413896802"
   ]
  },
  {
   "cell_type": "code",
   "execution_count": null,
   "id": "09542ebc",
   "metadata": {},
   "outputs": [],
   "source": []
  },
  {
   "cell_type": "code",
   "execution_count": null,
   "id": "7729256c",
   "metadata": {},
   "outputs": [],
   "source": []
  },
  {
   "cell_type": "code",
   "execution_count": 30,
   "id": "577e7a38",
   "metadata": {},
   "outputs": [],
   "source": [
    "def checksum(disk):\n",
    "    return sum(fileid*sum(range(i,i+l)) for i,l,fileid in disk)"
   ]
  },
  {
   "cell_type": "code",
   "execution_count": 31,
   "id": "0cf3c092",
   "metadata": {},
   "outputs": [],
   "source": [
    "def render(disk):\n",
    "    s = ''\n",
    "    for size, fileid in disk:\n",
    "        s += (str(fileid) if fileid is not None else '.') * size\n",
    "    return s"
   ]
  },
  {
   "cell_type": "code",
   "execution_count": 32,
   "id": "ebf04ba0",
   "metadata": {},
   "outputs": [],
   "source": [
    "def checksum(disk):\n",
    "    i, cksum = 0, 0\n",
    "    for size, fileid in disk:\n",
    "        if fileid is not None:\n",
    "            a, b = i, i+size-1\n",
    "            cksum += fileid * (a+b)*(b-a+1)//2\n",
    "        i += size\n",
    "    return cksum"
   ]
  },
  {
   "cell_type": "code",
   "execution_count": 62,
   "id": "b0f290ba",
   "metadata": {},
   "outputs": [],
   "source": [
    "def solve_a(data):\n",
    "    disk = data.copy()\n",
    "    i, j = 0, len(disk) - 1\n",
    "    compact_disk = []\n",
    "    while i <= j:\n",
    "        compact_disk.append(disk[i])\n",
    "        free, _ = disk[i+1]\n",
    "        while free > 0:\n",
    "            if i >= j:\n",
    "                break\n",
    "            size, fileid = disk[j]\n",
    "            to_move = min(free, size)\n",
    "            compact_disk.append((to_move, fileid))\n",
    "            rem = size - to_move\n",
    "            free -= to_move\n",
    "            if rem > 0:\n",
    "                disk[j] = (rem, fileid)\n",
    "            else:\n",
    "                j -= 2\n",
    "        i += 2\n",
    "\n",
    "    i, cksum = 0, 0\n",
    "    for size, fileid in compact_disk:\n",
    "        if fileid is not None:\n",
    "            cksum += fileid * range_sum(i, i+size)\n",
    "        i += size\n",
    "    return cksum\n",
    "        \n",
    "        "
   ]
  },
  {
   "cell_type": "code",
   "execution_count": 63,
   "id": "bf13f0fe",
   "metadata": {},
   "outputs": [
    {
     "data": {
      "text/plain": [
       "1928"
      ]
     },
     "execution_count": 63,
     "metadata": {},
     "output_type": "execute_result"
    }
   ],
   "source": [
    "solve_a(sample)"
   ]
  },
  {
   "cell_type": "code",
   "execution_count": 64,
   "id": "1d5dede9",
   "metadata": {},
   "outputs": [
    {
     "data": {
      "text/plain": [
       "6341711060162"
      ]
     },
     "execution_count": 64,
     "metadata": {},
     "output_type": "execute_result"
    }
   ],
   "source": [
    "solve_a(data)"
   ]
  },
  {
   "cell_type": "code",
   "execution_count": null,
   "id": "08fb137e",
   "metadata": {},
   "outputs": [],
   "source": []
  },
  {
   "cell_type": "code",
   "execution_count": 41,
   "id": "9477aef1",
   "metadata": {},
   "outputs": [
    {
     "data": {
      "text/plain": [
       "[(2, 0),\n",
       " (3, None),\n",
       " (3, 1),\n",
       " (3, None),\n",
       " (1, 2),\n",
       " (3, None),\n",
       " (3, 3),\n",
       " (1, None),\n",
       " (2, 4),\n",
       " (1, None),\n",
       " (4, 5),\n",
       " (1, None),\n",
       " (4, 6),\n",
       " (1, None),\n",
       " (3, 7),\n",
       " (1, None),\n",
       " (4, 8),\n",
       " (0, None),\n",
       " (2, 9)]"
      ]
     },
     "execution_count": 41,
     "metadata": {},
     "output_type": "execute_result"
    }
   ],
   "source": [
    "sample"
   ]
  },
  {
   "cell_type": "code",
   "execution_count": 43,
   "id": "b1bc5697",
   "metadata": {},
   "outputs": [],
   "source": [
    "def range_sum(a, b):\n",
    "    return (a+(b-1))*((b-1)-a+1)//2"
   ]
  },
  {
   "cell_type": "code",
   "execution_count": 54,
   "id": "d7f19397",
   "metadata": {},
   "outputs": [],
   "source": [
    "def solve_b(data):\n",
    "    files, holes = {}, []\n",
    "    last = 0\n",
    "    for size, fileid in data:\n",
    "        if fileid is None: \n",
    "            holes.append((last, size))\n",
    "        else:\n",
    "            files[fileid] = (last, size)\n",
    "        last += size\n",
    "    holes = holes[::-1]\n",
    "    \n",
    "    fileid = max(files)\n",
    "    while fileid > 0:\n",
    "        loc, size = files[fileid]\n",
    "        j = len(holes)-1\n",
    "        while j >= 0:\n",
    "            freeloc, free = holes[j]\n",
    "            if freeloc >= loc:\n",
    "                break # to the right\n",
    "            if size <= free:\n",
    "                files[fileid] = (freeloc, size)\n",
    "                remainder = free-size\n",
    "                if remainder > 0:\n",
    "                    holes[j] = (freeloc+size, remainder)\n",
    "                else:\n",
    "                    holes.pop(j)\n",
    "                break\n",
    "            j -= 1\n",
    "        fileid -= 1\n",
    "    return sum(fileid*range_sum(i,i+size) for fileid, (i, size) in files.items())    "
   ]
  },
  {
   "cell_type": "code",
   "execution_count": null,
   "id": "e4dac6cf",
   "metadata": {},
   "outputs": [],
   "source": []
  },
  {
   "cell_type": "code",
   "execution_count": 78,
   "id": "d0b55223",
   "metadata": {},
   "outputs": [],
   "source": [
    "def solve_b(data):\n",
    "    files, holes = {}, []\n",
    "    last = 0\n",
    "    for size, fileid in data:\n",
    "        if fileid is None: \n",
    "            holes.append((last, size))\n",
    "        else:\n",
    "            files[fileid] = (last, size)\n",
    "        last += size\n",
    "    holes = holes[::-1]\n",
    "    \n",
    "    fileid = max(files)\n",
    "    while fileid > 0:\n",
    "        loc, size = files[fileid]\n",
    "        j = len(holes)-1\n",
    "        while j >= 0:\n",
    "            freeloc, free = holes[j]\n",
    "            if freeloc >= loc:\n",
    "                break # to the right\n",
    "            if size <= free:\n",
    "                files[fileid] = (freeloc, size)\n",
    "                remainder = free-size\n",
    "                if remainder > 0:\n",
    "                    holes[j] = (freeloc+size, remainder)\n",
    "                else:\n",
    "                    holes.pop(j)\n",
    "                break\n",
    "            j -= 1\n",
    "        fileid -= 1\n",
    "    return sum(fileid*range_sum(i,i+size) for fileid, (i, size) in files.items())    "
   ]
  },
  {
   "cell_type": "code",
   "execution_count": null,
   "id": "6d57703b",
   "metadata": {},
   "outputs": [],
   "source": []
  },
  {
   "cell_type": "code",
   "execution_count": 79,
   "id": "4da00aca",
   "metadata": {},
   "outputs": [
    {
     "data": {
      "text/plain": [
       "2858"
      ]
     },
     "execution_count": 79,
     "metadata": {},
     "output_type": "execute_result"
    }
   ],
   "source": [
    "solve_b(sample)"
   ]
  },
  {
   "cell_type": "code",
   "execution_count": 81,
   "id": "4ca2522b",
   "metadata": {},
   "outputs": [
    {
     "name": "stdout",
     "output_type": "stream",
     "text": [
      "CPU times: user 175 ms, sys: 5.4 ms, total: 181 ms\n",
      "Wall time: 180 ms\n"
     ]
    },
    {
     "data": {
      "text/plain": [
       "6377400869326"
      ]
     },
     "execution_count": 81,
     "metadata": {},
     "output_type": "execute_result"
    }
   ],
   "source": [
    "%%time\n",
    "solve_b(data)"
   ]
  },
  {
   "cell_type": "code",
   "execution_count": null,
   "id": "3f2c8415",
   "metadata": {},
   "outputs": [],
   "source": []
  },
  {
   "cell_type": "code",
   "execution_count": 48,
   "id": "03863838",
   "metadata": {},
   "outputs": [],
   "source": [
    "def solve_a(data):\n",
    "    disk = []\n",
    "    last = 0\n",
    "    i = 0\n",
    "    for k, size in enumerate(data):\n",
    "        fileid = k // 2 if k % 2 == 0 else None\n",
    "        disk.append((i, size, fileid))\n",
    "        i += size\n",
    "        \n",
    "    i, j = 0, len(disk)-1\n",
    "    compact_disk = []\n",
    "    last = 0\n",
    "    while i < j:\n",
    "        compact_disk.append(disk[i])\n",
    "        last += compact_disk[-1][1]\n",
    "        _, free, _ = disk[i+1]\n",
    "        while free > 0:\n",
    "            loc, to_move, fileid = disk[j]\n",
    "            if to_move <= free:\n",
    "                j -= 2\n",
    "            else:\n",
    "                to_move = free\n",
    "                disk[j] = (loc, to_move-free, fileid)\n",
    "            free -= to_move\n",
    "            compact_disk.append((last, to_move, fileid))\n",
    "            last += compact_disk[-1][1]\n",
    "        i += 2\n",
    "#     return checksum(compact_disk)\n",
    "    return compact_disk\n",
    "    "
   ]
  },
  {
   "cell_type": "code",
   "execution_count": null,
   "id": "923b41e9",
   "metadata": {},
   "outputs": [],
   "source": []
  },
  {
   "cell_type": "code",
   "execution_count": 50,
   "id": "6572bb0f",
   "metadata": {},
   "outputs": [
    {
     "data": {
      "text/plain": [
       "'00.............................................................................................................................................'"
      ]
     },
     "execution_count": 50,
     "metadata": {},
     "output_type": "execute_result"
    }
   ],
   "source": [
    "render(solve_a(sample))"
   ]
  },
  {
   "cell_type": "code",
   "execution_count": 49,
   "id": "46e06772",
   "metadata": {},
   "outputs": [
    {
     "data": {
      "text/plain": [
       "[(0, 2, 0),\n",
       " (2, 2, 9),\n",
       " (4, 1, 8),\n",
       " (5, 3, 1),\n",
       " (8, 0, 8),\n",
       " (8, 3, 7),\n",
       " (11, 1, 2),\n",
       " (12, 3, 6),\n",
       " (15, 3, 3),\n",
       " (18, 0, 6),\n",
       " (18, 1, 5),\n",
       " (19, 2, 4),\n",
       " (21, 0, 5),\n",
       " (21, 1, 4)]"
      ]
     },
     "execution_count": 49,
     "metadata": {},
     "output_type": "execute_result"
    }
   ],
   "source": [
    "solve_a(sample)"
   ]
  },
  {
   "cell_type": "code",
   "execution_count": null,
   "id": "511ca24a",
   "metadata": {},
   "outputs": [],
   "source": []
  },
  {
   "cell_type": "code",
   "execution_count": 5,
   "id": "40991112",
   "metadata": {},
   "outputs": [],
   "source": [
    "def solve_a(data):\n",
    "    files = data[::2]\n",
    "    spaces = data[1::2]\n",
    "    S = []\n",
    "    k = 0\n",
    "    d = []\n",
    "    for i, f in enumerate(files):\n",
    "        d.append((k,k+f,i))\n",
    "        S += [i]*f\n",
    "        k += f\n",
    "        if i < len(spaces):\n",
    "            s = spaces[i]\n",
    "#             k += s\n",
    "            S += ['.']*s\n",
    "\n",
    "    i = 0\n",
    "    j = len(S) - 1\n",
    "    while True: \n",
    "        while S[j] == '.':\n",
    "            j -= 1\n",
    "        while S[i] != '.':\n",
    "            i += 1\n",
    "        if i < j:\n",
    "            S[i], S[j] = S[j], S[i]\n",
    "        else:\n",
    "            break\n",
    "#     return ''.join(map(str,S))\n",
    "    k = S.index('.')\n",
    "    assert all([S[jj]=='.' for jj in range(k, len(S))])\n",
    "    S =  S[:k]\n",
    "    \n",
    "    return sum([int(i)*j for j, i in enumerate(S)])\n",
    "    "
   ]
  },
  {
   "cell_type": "code",
   "execution_count": 6,
   "id": "05450132",
   "metadata": {},
   "outputs": [
    {
     "data": {
      "text/plain": [
       "60"
      ]
     },
     "execution_count": 6,
     "metadata": {},
     "output_type": "execute_result"
    }
   ],
   "source": [
    "solve_a(parses(\"12345\"))"
   ]
  },
  {
   "cell_type": "code",
   "execution_count": 7,
   "id": "c8af0aaf",
   "metadata": {},
   "outputs": [
    {
     "data": {
      "text/plain": [
       "1928"
      ]
     },
     "execution_count": 7,
     "metadata": {},
     "output_type": "execute_result"
    }
   ],
   "source": [
    "solve_a(parses(\"\"\"2333133121414131402\"\"\"))"
   ]
  },
  {
   "cell_type": "code",
   "execution_count": 8,
   "id": "2dd48542",
   "metadata": {},
   "outputs": [],
   "source": [
    "# files, spaces"
   ]
  },
  {
   "cell_type": "code",
   "execution_count": 15,
   "id": "48aa0dde",
   "metadata": {},
   "outputs": [],
   "source": [
    "def render(disk):\n",
    "    s = \"\"\n",
    "    last = 0\n",
    "    for i, j, k in disk:\n",
    "        if last < i:\n",
    "            s += '.'*(i-last)\n",
    "        s += (j-i)*str(k)\n",
    "        last = j\n",
    "    return s"
   ]
  },
  {
   "cell_type": "code",
   "execution_count": 22,
   "id": "f7cc105e",
   "metadata": {},
   "outputs": [],
   "source": [
    "def solve_b(data):\n",
    "\n",
    "    i = 0\n",
    "    d = []\n",
    "\n",
    "    files = data[::2]\n",
    "    spaces = data[1::2] + [0]\n",
    "    for k, f in enumerate(files):\n",
    "        d.append((i,i+f,k))\n",
    "        s = spaces[k]\n",
    "        i += s + f\n",
    "\n",
    "    disk = d\n",
    "    \n",
    "    def move(disk, l):\n",
    "        cdisk = [(i,j,k) for i,j,k in disk if k != l]\n",
    "\n",
    "        i2, j2, k2 = [(i,j,k) for i,j,k in disk if k == l][0]\n",
    "\n",
    "        last = 0\n",
    "        for x, (i,j,k) in enumerate(cdisk):\n",
    "            if i >= i2:\n",
    "                break\n",
    "            if j2-i2 <= i - last:\n",
    "                return cdisk[:x] + [(last,last+j2-i2,l)] + cdisk[x:]\n",
    "            last = j\n",
    "        return disk\n",
    "\n",
    "#     print(sorted([x for _, _, x in disk], reverse=True))\n",
    "    for k in sorted([x for _, _, x in disk], reverse=True):\n",
    "        print(render(disk))\n",
    "        disk = move(disk, k)\n",
    "        \n",
    "    \n",
    "    tot = 0\n",
    "    for i, j, k in disk:\n",
    "        tot += k * sum(range(i,j))\n",
    "    return tot"
   ]
  },
  {
   "cell_type": "code",
   "execution_count": 23,
   "id": "896eaa12",
   "metadata": {},
   "outputs": [
    {
     "name": "stdout",
     "output_type": "stream",
     "text": [
      "00...111...2...333.44.5555.6666.777.888899\n",
      "0099.111...2...333.44.5555.6666.777.8888\n",
      "0099.111...2...333.44.5555.6666.777.8888\n",
      "0099.1117772...333.44.5555.6666.....8888\n",
      "0099.1117772...333.44.5555.6666.....8888\n",
      "0099.1117772...333.44.5555.6666.....8888\n",
      "0099.111777244.333....5555.6666.....8888\n",
      "0099.111777244.333....5555.6666.....8888\n",
      "00992111777.44.333....5555.6666.....8888\n",
      "00992111777.44.333....5555.6666.....8888\n"
     ]
    },
    {
     "data": {
      "text/plain": [
       "2858"
      ]
     },
     "execution_count": 23,
     "metadata": {},
     "output_type": "execute_result"
    }
   ],
   "source": [
    "solve_b(sample)"
   ]
  },
  {
   "cell_type": "code",
   "execution_count": null,
   "id": "e3575f5f",
   "metadata": {},
   "outputs": [],
   "source": []
  },
  {
   "cell_type": "code",
   "execution_count": 12,
   "id": "76af4e09",
   "metadata": {},
   "outputs": [
    {
     "data": {
      "text/plain": [
       "6377400873201"
      ]
     },
     "execution_count": 12,
     "metadata": {},
     "output_type": "execute_result"
    }
   ],
   "source": [
    "solve_b(data)"
   ]
  },
  {
   "cell_type": "code",
   "execution_count": null,
   "id": "a47097ef",
   "metadata": {},
   "outputs": [],
   "source": []
  },
  {
   "cell_type": "code",
   "execution_count": 79,
   "id": "8de973f5",
   "metadata": {},
   "outputs": [],
   "source": [
    "def render2(disk):\n",
    "    return render(sorted([(i,i+l,k) for k, (i,l) in disk.items()]))"
   ]
  },
  {
   "cell_type": "code",
   "execution_count": 32,
   "id": "1cab67a6",
   "metadata": {},
   "outputs": [],
   "source": [
    "def solve_b(data):\n",
    "    files = data[::2]\n",
    "    spaces = data[1::2] + [0]\n",
    "\n",
    "    holes = []\n",
    "    disk = {}\n",
    "\n",
    "    last = 0\n",
    "    for k, l in enumerate(files): \n",
    "        disk[k] = (last, l)\n",
    "        s = spaces[k]\n",
    "        if s > 0:\n",
    "            holes.append((last+l, s))\n",
    "        last += l + s\n",
    "#     print(disk)\n",
    "        \n",
    "    for k in sorted(disk, reverse=True):\n",
    "        i, l = disk[k]    \n",
    "        for n, (j, l2) in enumerate(holes):\n",
    "            if j >= i:\n",
    "                break\n",
    "            if l2 >= l:\n",
    "                s = l2 - l\n",
    "                disk[k] = (j, l)\n",
    "                holes[n] = (j+l, s)\n",
    "                break\n",
    "\n",
    "    tot = 0\n",
    "    for k, (i, l) in disk.items():\n",
    "        j = i + l\n",
    "        tot += k * sum(range(i,j))\n",
    "    return tot"
   ]
  },
  {
   "cell_type": "code",
   "execution_count": 33,
   "id": "349dd7c6",
   "metadata": {},
   "outputs": [
    {
     "data": {
      "text/plain": [
       "2858"
      ]
     },
     "execution_count": 33,
     "metadata": {},
     "output_type": "execute_result"
    }
   ],
   "source": [
    "solve_b(sample)"
   ]
  },
  {
   "cell_type": "code",
   "execution_count": 34,
   "id": "cc909081",
   "metadata": {},
   "outputs": [
    {
     "data": {
      "text/plain": [
       "6377400869326"
      ]
     },
     "execution_count": 34,
     "metadata": {},
     "output_type": "execute_result"
    }
   ],
   "source": [
    "solve_b(data)"
   ]
  },
  {
   "cell_type": "code",
   "execution_count": null,
   "id": "67f54827",
   "metadata": {},
   "outputs": [],
   "source": []
  },
  {
   "cell_type": "code",
   "execution_count": null,
   "id": "3498eec2",
   "metadata": {},
   "outputs": [],
   "source": []
  },
  {
   "cell_type": "code",
   "execution_count": null,
   "id": "108acce0",
   "metadata": {},
   "outputs": [],
   "source": []
  },
  {
   "cell_type": "code",
   "execution_count": 423,
   "id": "b12d1778",
   "metadata": {},
   "outputs": [
    {
     "data": {
      "text/plain": [
       "'00...111...2...333.44.5555.6666.777.888899'"
      ]
     },
     "execution_count": 423,
     "metadata": {},
     "output_type": "execute_result"
    }
   ],
   "source": [
    "render(disk)"
   ]
  },
  {
   "cell_type": "code",
   "execution_count": 426,
   "id": "8b5ee5b6",
   "metadata": {},
   "outputs": [
    {
     "data": {
      "text/plain": [
       "'0099.1117772...333.44.5555.6666.....8888'"
      ]
     },
     "execution_count": 426,
     "metadata": {},
     "output_type": "execute_result"
    }
   ],
   "source": [
    "render(move(move(disk, 9),7))"
   ]
  },
  {
   "cell_type": "code",
   "execution_count": null,
   "id": "d9a8c04a",
   "metadata": {},
   "outputs": [],
   "source": []
  },
  {
   "cell_type": "code",
   "execution_count": null,
   "id": "07f02863",
   "metadata": {},
   "outputs": [],
   "source": []
  },
  {
   "cell_type": "code",
   "execution_count": 265,
   "id": "a7e744e7",
   "metadata": {},
   "outputs": [],
   "source": [
    "data = sample2\n",
    "x = iter(data+[0])\n",
    "# for k, (i, j) in enumerate(zip(x,x)):\n",
    "#     print(k,i,j)\n",
    "k = 0\n",
    "d = []\n",
    "\n",
    "files = data[::2]\n",
    "spaces = data[1::2]\n",
    "maxl = float('-inf')\n",
    "for i, f in enumerate(files):\n",
    "    d.append((k,k+f,i))\n",
    "    maxl = max(maxl, k+f)\n",
    "    if i < len(spaces):\n",
    "        s = spaces[i]\n",
    "        k += s"
   ]
  },
  {
   "cell_type": "code",
   "execution_count": 91,
   "id": "784b8bd2",
   "metadata": {},
   "outputs": [
    {
     "data": {
      "text/plain": [
       "11"
      ]
     },
     "execution_count": 91,
     "metadata": {},
     "output_type": "execute_result"
    }
   ],
   "source": [
    "maxl"
   ]
  },
  {
   "cell_type": "code",
   "execution_count": 92,
   "id": "85d00797",
   "metadata": {},
   "outputs": [],
   "source": [
    "import copy"
   ]
  },
  {
   "cell_type": "code",
   "execution_count": 123,
   "id": "84f689e6",
   "metadata": {},
   "outputs": [
    {
     "name": "stdout",
     "output_type": "stream",
     "text": [
      "+ 0 1 0\n",
      "+ 2 5 1\n",
      "2 0\n",
      "[(0, 1, 0), (2, 5, 1), (6, 11, 2)]\n"
     ]
    }
   ],
   "source": [
    "last = 0\n",
    "newd = []\n",
    "d2 = copy.deepcopy(d)\n",
    "for i, j, k in d:\n",
    "    print('+',i,j,k)\n",
    "    if i > maxl:\n",
    "        print(i, maxl)\n",
    "        break\n",
    "    while last < i:\n",
    "        print('-')\n",
    "        if not d2:\n",
    "            break\n",
    "        i2, j2, k2 = d2.pop()\n",
    "        l = min(j2-i2, j-last)\n",
    "        print(l)\n",
    "        newd.append((last, last+l, k2))\n",
    "        i3, j3, k3 = i2, j2-l, k2\n",
    "        if i3 != j3:\n",
    "            d2.append((i3,j3,k3))\n",
    "        maxl = min(j3, maxl)\n",
    "    newd.append((i,j,k))\n",
    "    last = j-1\n",
    "print(d2)"
   ]
  },
  {
   "cell_type": "code",
   "execution_count": 124,
   "id": "379f8761",
   "metadata": {},
   "outputs": [
    {
     "data": {
      "text/plain": [
       "[(0, 1, 0)]"
      ]
     },
     "execution_count": 124,
     "metadata": {},
     "output_type": "execute_result"
    }
   ],
   "source": [
    "newd"
   ]
  },
  {
   "cell_type": "code",
   "execution_count": null,
   "id": "dee1e537",
   "metadata": {},
   "outputs": [],
   "source": []
  },
  {
   "cell_type": "code",
   "execution_count": null,
   "id": "51e47473",
   "metadata": {},
   "outputs": [],
   "source": []
  },
  {
   "cell_type": "code",
   "execution_count": null,
   "id": "adcd102d",
   "metadata": {},
   "outputs": [],
   "source": []
  },
  {
   "cell_type": "code",
   "execution_count": null,
   "id": "659d0d45",
   "metadata": {},
   "outputs": [],
   "source": []
  },
  {
   "cell_type": "code",
   "execution_count": 98,
   "id": "4db71997",
   "metadata": {},
   "outputs": [],
   "source": [
    "def render(d):\n",
    "    s = ''\n",
    "    for i, j, k in d:\n",
    "        s += (j-i) * str(k)\n",
    "    return s"
   ]
  },
  {
   "cell_type": "code",
   "execution_count": 99,
   "id": "efef8220",
   "metadata": {},
   "outputs": [
    {
     "data": {
      "text/plain": [
       "[(0, 1, 0), (2, 5, 1), (6, 11, 2)]"
      ]
     },
     "execution_count": 99,
     "metadata": {},
     "output_type": "execute_result"
    }
   ],
   "source": [
    "d2"
   ]
  },
  {
   "cell_type": "code",
   "execution_count": 100,
   "id": "7436c397",
   "metadata": {},
   "outputs": [
    {
     "data": {
      "text/plain": [
       "'011122222'"
      ]
     },
     "execution_count": 100,
     "metadata": {},
     "output_type": "execute_result"
    }
   ],
   "source": [
    "render(d)"
   ]
  },
  {
   "cell_type": "code",
   "execution_count": 101,
   "id": "0cf4e790",
   "metadata": {},
   "outputs": [
    {
     "data": {
      "text/plain": [
       "[(0, 1, 0)]"
      ]
     },
     "execution_count": 101,
     "metadata": {},
     "output_type": "execute_result"
    }
   ],
   "source": [
    "newd"
   ]
  },
  {
   "cell_type": "code",
   "execution_count": 102,
   "id": "76ffc932",
   "metadata": {},
   "outputs": [
    {
     "data": {
      "text/plain": [
       "'0'"
      ]
     },
     "execution_count": 102,
     "metadata": {},
     "output_type": "execute_result"
    }
   ],
   "source": [
    "render(newd)"
   ]
  },
  {
   "cell_type": "code",
   "execution_count": null,
   "id": "e41affc5",
   "metadata": {},
   "outputs": [],
   "source": []
  },
  {
   "cell_type": "code",
   "execution_count": null,
   "id": "52e57b90",
   "metadata": {},
   "outputs": [],
   "source": [
    "compact = {}\n",
    "\n",
    "for "
   ]
  },
  {
   "cell_type": "code",
   "execution_count": null,
   "id": "e0f253a1",
   "metadata": {},
   "outputs": [],
   "source": []
  },
  {
   "cell_type": "code",
   "execution_count": null,
   "id": "f85ee3b3",
   "metadata": {},
   "outputs": [],
   "source": [
    "def solve_a(data):\n",
    "    pass"
   ]
  },
  {
   "cell_type": "code",
   "execution_count": null,
   "id": "d462bc86",
   "metadata": {},
   "outputs": [],
   "source": [
    "solve_a(sample)"
   ]
  },
  {
   "cell_type": "code",
   "execution_count": null,
   "id": "d5db86cf",
   "metadata": {},
   "outputs": [],
   "source": [
    "solve_a(data)"
   ]
  },
  {
   "cell_type": "code",
   "execution_count": null,
   "id": "06ffdcbe",
   "metadata": {},
   "outputs": [],
   "source": []
  },
  {
   "cell_type": "code",
   "execution_count": null,
   "id": "d21d28fe",
   "metadata": {},
   "outputs": [],
   "source": []
  },
  {
   "cell_type": "code",
   "execution_count": null,
   "id": "3ecdf5e5",
   "metadata": {},
   "outputs": [],
   "source": []
  },
  {
   "cell_type": "code",
   "execution_count": null,
   "id": "4ed73f49",
   "metadata": {},
   "outputs": [],
   "source": []
  },
  {
   "cell_type": "code",
   "execution_count": null,
   "id": "77083851",
   "metadata": {},
   "outputs": [],
   "source": [
    "def solve_b(data):\n",
    "    pass"
   ]
  },
  {
   "cell_type": "code",
   "execution_count": null,
   "id": "d6e2ea2d",
   "metadata": {},
   "outputs": [],
   "source": [
    "solve_b(sample)"
   ]
  },
  {
   "cell_type": "code",
   "execution_count": null,
   "id": "89dc9c78",
   "metadata": {},
   "outputs": [],
   "source": [
    "solve_b(data)"
   ]
  },
  {
   "cell_type": "code",
   "execution_count": null,
   "id": "adfd1fdf",
   "metadata": {},
   "outputs": [],
   "source": []
  },
  {
   "cell_type": "code",
   "execution_count": null,
   "id": "5c638898",
   "metadata": {},
   "outputs": [],
   "source": []
  }
 ],
 "metadata": {
  "kernelspec": {
   "display_name": "Python 3 (ipykernel)",
   "language": "python",
   "name": "python3"
  },
  "language_info": {
   "codemirror_mode": {
    "name": "ipython",
    "version": 3
   },
   "file_extension": ".py",
   "mimetype": "text/x-python",
   "name": "python",
   "nbconvert_exporter": "python",
   "pygments_lexer": "ipython3",
   "version": "3.11.5"
  }
 },
 "nbformat": 4,
 "nbformat_minor": 5
}
