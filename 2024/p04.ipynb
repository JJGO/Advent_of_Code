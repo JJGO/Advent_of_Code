{
 "cells": [
  {
   "cell_type": "code",
   "execution_count": 3,
   "id": "5ba53d1e",
   "metadata": {},
   "outputs": [],
   "source": [
    "from aocd.models import Puzzle\n",
    "\n",
    "puzzle = Puzzle(year=2024, day=4)\n",
    "\n",
    "def parses(input):\n",
    "    return input.strip().split('\\n')\n",
    "\n",
    "# import re\n",
    "# def parses(input):z\n",
    "#     return [int(re.findall(r\"-?\\d+\", line))) for line in nput.strip().split('\\n')]\n",
    "\n",
    "data = parses(puzzle.input_data)"
   ]
  },
  {
   "cell_type": "code",
   "execution_count": 4,
   "id": "d97b5ab8",
   "metadata": {},
   "outputs": [],
   "source": [
    "sample = parses(\"\"\"MMMSXXMASM\n",
    "MSAMXMSMSA\n",
    "AMXSXMAAMM\n",
    "MSAMASMSMX\n",
    "XMASAMXAMM\n",
    "XXAMMXXAMA\n",
    "SMSMSASXSS\n",
    "SAXAMASAAA\n",
    "MAMMMXMMMM\n",
    "MXMXAXMASX\"\"\")"
   ]
  },
  {
   "cell_type": "code",
   "execution_count": null,
   "id": "9acab8d4",
   "metadata": {},
   "outputs": [],
   "source": []
  },
  {
   "cell_type": "code",
   "execution_count": 5,
   "id": "1d41ec51",
   "metadata": {},
   "outputs": [],
   "source": [
    "def solve_a(data):\n",
    "    total = 0\n",
    "    N, M = len(data), len(data[0])\n",
    "    for i, row in enumerate(data):\n",
    "        for j, v in enumerate(row):\n",
    "            for di, dj in itertools.product([-1,0,1], repeat=2):\n",
    "                correct = 0\n",
    "                for k, c in enumerate('XMAS'):\n",
    "                    i2, j2 = i+di*k, j+dj*k\n",
    "                    if 0 <= i2 < N and 0 <= j2 < M and data[i2][j2] == c:\n",
    "                        correct += 1\n",
    "                if correct == 4 :\n",
    "                    total += 1\n",
    "    return total"
   ]
  },
  {
   "cell_type": "code",
   "execution_count": 6,
   "id": "08c78b27",
   "metadata": {},
   "outputs": [
    {
     "data": {
      "text/plain": [
       "18"
      ]
     },
     "execution_count": 6,
     "metadata": {},
     "output_type": "execute_result"
    }
   ],
   "source": [
    "solve_a(sample)"
   ]
  },
  {
   "cell_type": "code",
   "execution_count": 7,
   "id": "2a3587d3",
   "metadata": {},
   "outputs": [
    {
     "data": {
      "text/plain": [
       "2397"
      ]
     },
     "execution_count": 7,
     "metadata": {},
     "output_type": "execute_result"
    }
   ],
   "source": [
    "solve_a(data)"
   ]
  },
  {
   "cell_type": "code",
   "execution_count": null,
   "id": "871b6f08",
   "metadata": {},
   "outputs": [],
   "source": []
  },
  {
   "cell_type": "code",
   "execution_count": 8,
   "id": "526b5439",
   "metadata": {},
   "outputs": [],
   "source": [
    "def solve_b(data):\n",
    "    total = 0\n",
    "    N, M = len(data), len(data[0])\n",
    "    for i, row in enumerate(data):\n",
    "        for j, v in enumerate(row):\n",
    "            if v != 'A':\n",
    "                continue\n",
    "            if i-1 < 0 or i+1 >=N or j-1 < 0 or j+1 >=M:\n",
    "                continue\n",
    "            \n",
    "            cs = []\n",
    "            for i2,j2 in [(i,j),  (i-1,j-1), (i+1,j-1), (i+1,j+1), (i-1,j+1)]:\n",
    "                cs.append(data[i2][j2])\n",
    "\n",
    "            if sorted(cs) != list('AMMSS'):\n",
    "                continue\n",
    "            \n",
    "            if data[i-1][j-1] == data[i+1][j+1]:\n",
    "                continue\n",
    "#             print(i,j)\n",
    "\n",
    "            total += 1\n",
    "            \n",
    "    return total\n",
    "#             seqs = [\n",
    "#                [(i,j),(i+1,j),(i+2,j),(i+3,j),],\n",
    "#                [(i,j),(i,j+1),(i,j+2),(i,j+3),],\n",
    "#                [(i,j),(i-1,j),(i-2,j),(i-3,j),],\n",
    "#                [(i,j),(i,j-1),(i,j-22),(i,j+3),],\n",
    "#             ]"
   ]
  },
  {
   "cell_type": "code",
   "execution_count": 9,
   "id": "8575f52c",
   "metadata": {},
   "outputs": [
    {
     "data": {
      "text/plain": [
       "9"
      ]
     },
     "execution_count": 9,
     "metadata": {},
     "output_type": "execute_result"
    }
   ],
   "source": [
    "solve_b(sample)"
   ]
  },
  {
   "cell_type": "code",
   "execution_count": 10,
   "id": "652da6ec",
   "metadata": {},
   "outputs": [
    {
     "data": {
      "text/plain": [
       "1824"
      ]
     },
     "execution_count": 10,
     "metadata": {},
     "output_type": "execute_result"
    }
   ],
   "source": [
    "solve_b(data)"
   ]
  },
  {
   "cell_type": "code",
   "execution_count": null,
   "id": "108a3efd",
   "metadata": {},
   "outputs": [],
   "source": []
  }
 ],
 "metadata": {
  "kernelspec": {
   "display_name": "Python 3 (ipykernel)",
   "language": "python",
   "name": "python3"
  },
  "language_info": {
   "codemirror_mode": {
    "name": "ipython",
    "version": 3
   },
   "file_extension": ".py",
   "mimetype": "text/x-python",
   "name": "python",
   "nbconvert_exporter": "python",
   "pygments_lexer": "ipython3",
   "version": "3.11.5"
  }
 },
 "nbformat": 4,
 "nbformat_minor": 5
}
