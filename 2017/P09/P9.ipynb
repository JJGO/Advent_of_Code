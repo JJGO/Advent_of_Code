{
 "cells": [
  {
   "cell_type": "code",
   "execution_count": 58,
   "metadata": {
    "ExecuteTime": {
     "end_time": "2018-10-22T01:35:58.007276Z",
     "start_time": "2018-10-22T01:35:57.999656Z"
    }
   },
   "outputs": [],
   "source": [
    "with open('input.txt', 'r') as f:\n",
    "    puzzle = f.read()"
   ]
  },
  {
   "cell_type": "code",
   "execution_count": 97,
   "metadata": {
    "ExecuteTime": {
     "end_time": "2018-10-22T01:43:33.371958Z",
     "start_time": "2018-10-22T01:43:33.368351Z"
    }
   },
   "outputs": [],
   "source": [
    "## P9.2"
   ]
  },
  {
   "cell_type": "code",
   "execution_count": 10,
   "metadata": {
    "ExecuteTime": {
     "end_time": "2018-10-22T01:21:39.572821Z",
     "start_time": "2018-10-22T01:21:39.564128Z"
    }
   },
   "outputs": [],
   "source": [
    "def clean_exclamation(s):\n",
    "    s = list(s)\n",
    "    for i in range(len(s)):\n",
    "        if s[i] == \"!\":\n",
    "            s[i] = '_'\n",
    "            s[i+1] = '_'\n",
    "    return s"
   ]
  },
  {
   "cell_type": "code",
   "execution_count": 75,
   "metadata": {
    "ExecuteTime": {
     "end_time": "2018-10-22T01:40:05.283341Z",
     "start_time": "2018-10-22T01:40:05.270666Z"
    }
   },
   "outputs": [],
   "source": [
    "def score_groups(s):\n",
    "    s = clean_exclamation(s)\n",
    "    score = 0\n",
    "    level = 0\n",
    "    i = 0\n",
    "    while i < len(s):\n",
    "        if s[i] == '{':\n",
    "            level += 1\n",
    "        elif s[i] == '}':\n",
    "            score += level\n",
    "            level -= 1\n",
    "        elif s[i] == '<':\n",
    "            while s[i] != '>':\n",
    "                i += 1\n",
    "        i += 1\n",
    "    return score"
   ]
  },
  {
   "cell_type": "code",
   "execution_count": 76,
   "metadata": {
    "ExecuteTime": {
     "end_time": "2018-10-22T01:40:12.197859Z",
     "start_time": "2018-10-22T01:40:12.192768Z"
    }
   },
   "outputs": [
    {
     "data": {
      "text/plain": [
       "6"
      ]
     },
     "execution_count": 76,
     "metadata": {},
     "output_type": "execute_result"
    }
   ],
   "source": [
    "score_groups('{{{}}}')"
   ]
  },
  {
   "cell_type": "code",
   "execution_count": 77,
   "metadata": {
    "ExecuteTime": {
     "end_time": "2018-10-22T01:40:12.228667Z",
     "start_time": "2018-10-22T01:40:12.223518Z"
    }
   },
   "outputs": [
    {
     "data": {
      "text/plain": [
       "16"
      ]
     },
     "execution_count": 77,
     "metadata": {},
     "output_type": "execute_result"
    }
   ],
   "source": [
    "score_groups('{{{},{},{{}}}}')"
   ]
  },
  {
   "cell_type": "code",
   "execution_count": 78,
   "metadata": {
    "ExecuteTime": {
     "end_time": "2018-10-22T01:40:12.403088Z",
     "start_time": "2018-10-22T01:40:12.392387Z"
    }
   },
   "outputs": [
    {
     "data": {
      "text/plain": [
       "17390"
      ]
     },
     "execution_count": 78,
     "metadata": {},
     "output_type": "execute_result"
    }
   ],
   "source": [
    "score_groups(puzzle)"
   ]
  },
  {
   "cell_type": "markdown",
   "metadata": {},
   "source": [
    "## P9.2 Count garbage"
   ]
  },
  {
   "cell_type": "code",
   "execution_count": 93,
   "metadata": {
    "ExecuteTime": {
     "end_time": "2018-10-22T01:43:10.808573Z",
     "start_time": "2018-10-22T01:43:10.799836Z"
    }
   },
   "outputs": [],
   "source": [
    "def count_garbage(s):\n",
    "    s = clean_exclamation(s)\n",
    "    i = 0\n",
    "    garbage = 0\n",
    "    while i < len(s):\n",
    "        if s[i] == '<':\n",
    "            i += 1\n",
    "            while s[i] != '>':\n",
    "                if s[i] != '_':\n",
    "                    garbage += 1\n",
    "                i += 1\n",
    "        i += 1\n",
    "    return garbage"
   ]
  },
  {
   "cell_type": "code",
   "execution_count": 94,
   "metadata": {
    "ExecuteTime": {
     "end_time": "2018-10-22T01:43:10.954549Z",
     "start_time": "2018-10-22T01:43:10.950583Z"
    }
   },
   "outputs": [
    {
     "data": {
      "text/plain": [
       "10"
      ]
     },
     "execution_count": 94,
     "metadata": {},
     "output_type": "execute_result"
    }
   ],
   "source": [
    "count_garbage('<{o\"i!a,<{i<a>')"
   ]
  },
  {
   "cell_type": "code",
   "execution_count": 95,
   "metadata": {
    "ExecuteTime": {
     "end_time": "2018-10-22T01:43:11.157146Z",
     "start_time": "2018-10-22T01:43:11.152637Z"
    }
   },
   "outputs": [
    {
     "data": {
      "text/plain": [
       "0"
      ]
     },
     "execution_count": 95,
     "metadata": {},
     "output_type": "execute_result"
    }
   ],
   "source": [
    "count_garbage('<!!!>>')"
   ]
  },
  {
   "cell_type": "code",
   "execution_count": 96,
   "metadata": {
    "ExecuteTime": {
     "end_time": "2018-10-22T01:43:17.905488Z",
     "start_time": "2018-10-22T01:43:17.894649Z"
    }
   },
   "outputs": [
    {
     "data": {
      "text/plain": [
       "7825"
      ]
     },
     "execution_count": 96,
     "metadata": {},
     "output_type": "execute_result"
    }
   ],
   "source": [
    "count_garbage(puzzle)"
   ]
  },
  {
   "cell_type": "code",
   "execution_count": null,
   "metadata": {},
   "outputs": [],
   "source": []
  }
 ],
 "metadata": {
  "kernelspec": {
   "display_name": "Python 3",
   "language": "python",
   "name": "python3"
  },
  "language_info": {
   "codemirror_mode": {
    "name": "ipython",
    "version": 3
   },
   "file_extension": ".py",
   "mimetype": "text/x-python",
   "name": "python",
   "nbconvert_exporter": "python",
   "pygments_lexer": "ipython3",
   "version": "3.6.4"
  },
  "toc": {
   "nav_menu": {},
   "number_sections": true,
   "sideBar": true,
   "skip_h1_title": false,
   "title_cell": "Table of Contents",
   "title_sidebar": "Contents",
   "toc_cell": false,
   "toc_position": {},
   "toc_section_display": true,
   "toc_window_display": false
  },
  "varInspector": {
   "cols": {
    "lenName": 16,
    "lenType": 16,
    "lenVar": 40
   },
   "kernels_config": {
    "python": {
     "delete_cmd_postfix": "",
     "delete_cmd_prefix": "del ",
     "library": "var_list.py",
     "varRefreshCmd": "print(var_dic_list())"
    },
    "r": {
     "delete_cmd_postfix": ") ",
     "delete_cmd_prefix": "rm(",
     "library": "var_list.r",
     "varRefreshCmd": "cat(var_dic_list()) "
    }
   },
   "types_to_exclude": [
    "module",
    "function",
    "builtin_function_or_method",
    "instance",
    "_Feature"
   ],
   "window_display": false
  }
 },
 "nbformat": 4,
 "nbformat_minor": 2
}
