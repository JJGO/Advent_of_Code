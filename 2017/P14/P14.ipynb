{
 "cells": [
  {
   "cell_type": "code",
   "execution_count": 50,
   "metadata": {
    "ExecuteTime": {
     "end_time": "2018-10-27T00:21:17.848332Z",
     "start_time": "2018-10-27T00:21:17.845678Z"
    }
   },
   "outputs": [],
   "source": [
    "from functools import reduce\n",
    "import numpy as np"
   ]
  },
  {
   "cell_type": "code",
   "execution_count": 51,
   "metadata": {
    "ExecuteTime": {
     "end_time": "2018-10-27T00:21:18.127397Z",
     "start_time": "2018-10-27T00:21:18.121246Z"
    }
   },
   "outputs": [],
   "source": [
    "def memoize(f):\n",
    "    memo = {}\n",
    "    def helper(x):\n",
    "        if x not in memo:            \n",
    "            memo[x] = f(x)\n",
    "        return memo[x]\n",
    "    return helper"
   ]
  },
  {
   "cell_type": "code",
   "execution_count": 52,
   "metadata": {
    "ExecuteTime": {
     "end_time": "2018-10-27T00:21:18.383256Z",
     "start_time": "2018-10-27T00:21:18.373825Z"
    }
   },
   "outputs": [],
   "source": [
    "def swap(array, start, length):\n",
    "    N = len(array)\n",
    "    end = (start + length - 1) % N\n",
    "    for i in range(length//2):\n",
    "        j = (start + i) % N\n",
    "        k = (end - i) % N\n",
    "        array[j], array[k] = array[k], array[j]\n",
    "    return array"
   ]
  },
  {
   "cell_type": "code",
   "execution_count": 53,
   "metadata": {
    "ExecuteTime": {
     "end_time": "2018-10-27T00:21:19.355568Z",
     "start_time": "2018-10-27T00:21:19.352680Z"
    }
   },
   "outputs": [],
   "source": [
    "def str_to_255(s):\n",
    "    return [ord(i) for i in s]"
   ]
  },
  {
   "cell_type": "code",
   "execution_count": 54,
   "metadata": {
    "ExecuteTime": {
     "end_time": "2018-10-27T00:21:20.923918Z",
     "start_time": "2018-10-27T00:21:20.906104Z"
    }
   },
   "outputs": [],
   "source": [
    "def knot_hash(string):\n",
    "    seq = str_to_255(string)\n",
    "    array = list(range(256))\n",
    "    suffix = [17, 31, 73, 47, 23]\n",
    "    seq += suffix\n",
    "\n",
    "    skip = 0 \n",
    "    pos = 0\n",
    "    \n",
    "    for i in range(64):\n",
    "        for size in seq:\n",
    "            swap(array, pos, size)\n",
    "            pos += size + skip\n",
    "            skip += 1\n",
    "    \n",
    "    xors = [reduce(lambda a,b: a^b, array[16*i:16*(i+1)]) for i in range(16)]\n",
    "    out = \"\".join(f\"{x:08b}\" for x in xors)\n",
    "    return out\n",
    "    "
   ]
  },
  {
   "cell_type": "code",
   "execution_count": 55,
   "metadata": {
    "ExecuteTime": {
     "end_time": "2018-10-27T00:21:21.532104Z",
     "start_time": "2018-10-27T00:21:21.523832Z"
    }
   },
   "outputs": [],
   "source": [
    "@memoize\n",
    "def disk(seed):\n",
    "    disk = np.zeros((128,128), dtype=int)\n",
    "    for i in range(128):\n",
    "        s = f'{seed}-{i}'\n",
    "        h = knot_hash(s)\n",
    "        disk[i] = np.array([int(i) for i in h])\n",
    "    return disk"
   ]
  },
  {
   "cell_type": "code",
   "execution_count": 57,
   "metadata": {
    "ExecuteTime": {
     "end_time": "2018-10-27T00:21:39.118656Z",
     "start_time": "2018-10-27T00:21:39.114727Z"
    }
   },
   "outputs": [],
   "source": [
    "def count_squares(seed):\n",
    "    return np.sum(disk(seed))"
   ]
  },
  {
   "cell_type": "code",
   "execution_count": 60,
   "metadata": {
    "ExecuteTime": {
     "end_time": "2018-10-27T00:21:45.516988Z",
     "start_time": "2018-10-27T00:21:45.512614Z"
    }
   },
   "outputs": [
    {
     "data": {
      "text/plain": [
       "8108"
      ]
     },
     "execution_count": 60,
     "metadata": {},
     "output_type": "execute_result"
    }
   ],
   "source": [
    "count_squares('flqrgnkx')"
   ]
  },
  {
   "cell_type": "code",
   "execution_count": 61,
   "metadata": {
    "ExecuteTime": {
     "end_time": "2018-10-27T00:21:45.675259Z",
     "start_time": "2018-10-27T00:21:45.670572Z"
    }
   },
   "outputs": [
    {
     "data": {
      "text/plain": [
       "8292"
      ]
     },
     "execution_count": 61,
     "metadata": {},
     "output_type": "execute_result"
    }
   ],
   "source": [
    "count_squares('ugkiagan')"
   ]
  },
  {
   "cell_type": "markdown",
   "metadata": {},
   "source": [
    "## P14.2"
   ]
  },
  {
   "cell_type": "code",
   "execution_count": 114,
   "metadata": {
    "ExecuteTime": {
     "end_time": "2018-10-27T00:51:20.620242Z",
     "start_time": "2018-10-27T00:51:20.616892Z"
    }
   },
   "outputs": [],
   "source": [
    "# def diagonal_generator(N):\n",
    "#     N -= 1\n",
    "#     i = 0\n",
    "#     while True:\n",
    "#         k = max(0,i-N)\n",
    "#         if k >= i+1-k:\n",
    "#             return\n",
    "#         for j in range(k,i+1-k):\n",
    "#             yield (j, i-j)\n",
    "#         i += 1"
   ]
  },
  {
   "cell_type": "code",
   "execution_count": 115,
   "metadata": {
    "ExecuteTime": {
     "end_time": "2018-10-27T00:51:22.218799Z",
     "start_time": "2018-10-27T00:51:22.216334Z"
    }
   },
   "outputs": [],
   "source": [
    "# list(diagonal_generator(4))"
   ]
  },
  {
   "cell_type": "code",
   "execution_count": 109,
   "metadata": {
    "ExecuteTime": {
     "end_time": "2018-10-27T00:47:41.864781Z",
     "start_time": "2018-10-27T00:47:41.862038Z"
    }
   },
   "outputs": [],
   "source": [
    "import itertools"
   ]
  },
  {
   "cell_type": "code",
   "execution_count": 111,
   "metadata": {
    "ExecuteTime": {
     "end_time": "2018-10-27T00:50:24.348729Z",
     "start_time": "2018-10-27T00:50:24.335466Z"
    }
   },
   "outputs": [],
   "source": [
    "def connected_components(graph):\n",
    "    components = []\n",
    "    i = 0\n",
    "    visited = set()\n",
    "    for node in graph:\n",
    "        if node in visited:\n",
    "            continue\n",
    "        else:\n",
    "            components.append(set())\n",
    "            queue = list(graph[node])\n",
    "            components[-1].add(node)\n",
    "            while len(queue) > 0:\n",
    "                node = queue.pop(0)\n",
    "                visited.add(node)\n",
    "                queue.extend([c for c in graph[node] if c not in visited])\n",
    "                if node not in components[-1]:\n",
    "                    components[-1].add(node)\n",
    "    return components"
   ]
  },
  {
   "cell_type": "code",
   "execution_count": 129,
   "metadata": {
    "ExecuteTime": {
     "end_time": "2018-10-27T00:53:51.062457Z",
     "start_time": "2018-10-27T00:53:51.057805Z"
    }
   },
   "outputs": [
    {
     "data": {
      "text/plain": [
       "array([[  0,   0],\n",
       "       [  0,   1],\n",
       "       [  0,   3],\n",
       "       ...,\n",
       "       [127, 124],\n",
       "       [127, 125],\n",
       "       [127, 126]])"
      ]
     },
     "execution_count": 129,
     "metadata": {},
     "output_type": "execute_result"
    }
   ],
   "source": [
    "np.argwhere(disk('flqrgnkx'))"
   ]
  },
  {
   "cell_type": "code",
   "execution_count": 134,
   "metadata": {
    "ExecuteTime": {
     "end_time": "2018-10-27T00:55:11.845058Z",
     "start_time": "2018-10-27T00:55:11.833009Z"
    }
   },
   "outputs": [],
   "source": [
    "def disk_regions(disk):\n",
    "    graph = {}\n",
    "    for x,y in np.argwhere(disk):\n",
    "        graph[(x,y)] = []\n",
    "        for dx, dy in [(0,1), (0,-1), (1,0), (-1,0)]:\n",
    "            if 0 <= x+dx < 128 and 0 <= y+dy < 128 and disk[x+dx,y+dy] == 1:\n",
    "                graph[(x,y)].append((x+dx,y+dy))\n",
    "\n",
    "    cc = connected_components(graph)\n",
    "    return len(cc)\n",
    "            "
   ]
  },
  {
   "cell_type": "code",
   "execution_count": 135,
   "metadata": {
    "ExecuteTime": {
     "end_time": "2018-10-27T00:55:14.954543Z",
     "start_time": "2018-10-27T00:55:13.930733Z"
    }
   },
   "outputs": [
    {
     "data": {
      "text/plain": [
       "1242"
      ]
     },
     "execution_count": 135,
     "metadata": {},
     "output_type": "execute_result"
    }
   ],
   "source": [
    "disk_regions(disk('flqrgnkx'))"
   ]
  },
  {
   "cell_type": "code",
   "execution_count": 136,
   "metadata": {
    "ExecuteTime": {
     "end_time": "2018-10-27T00:55:37.241133Z",
     "start_time": "2018-10-27T00:55:34.591369Z"
    }
   },
   "outputs": [
    {
     "data": {
      "text/plain": [
       "1069"
      ]
     },
     "execution_count": 136,
     "metadata": {},
     "output_type": "execute_result"
    }
   ],
   "source": [
    "disk_regions(disk('ugkiagan'))"
   ]
  },
  {
   "cell_type": "code",
   "execution_count": null,
   "metadata": {},
   "outputs": [],
   "source": []
  }
 ],
 "metadata": {
  "kernelspec": {
   "display_name": "Python 3",
   "language": "python",
   "name": "python3"
  },
  "language_info": {
   "codemirror_mode": {
    "name": "ipython",
    "version": 3
   },
   "file_extension": ".py",
   "mimetype": "text/x-python",
   "name": "python",
   "nbconvert_exporter": "python",
   "pygments_lexer": "ipython3",
   "version": "3.6.4"
  },
  "toc": {
   "nav_menu": {},
   "number_sections": true,
   "sideBar": true,
   "skip_h1_title": false,
   "title_cell": "Table of Contents",
   "title_sidebar": "Contents",
   "toc_cell": false,
   "toc_position": {},
   "toc_section_display": true,
   "toc_window_display": false
  },
  "varInspector": {
   "cols": {
    "lenName": 16,
    "lenType": 16,
    "lenVar": 40
   },
   "kernels_config": {
    "python": {
     "delete_cmd_postfix": "",
     "delete_cmd_prefix": "del ",
     "library": "var_list.py",
     "varRefreshCmd": "print(var_dic_list())"
    },
    "r": {
     "delete_cmd_postfix": ") ",
     "delete_cmd_prefix": "rm(",
     "library": "var_list.r",
     "varRefreshCmd": "cat(var_dic_list()) "
    }
   },
   "types_to_exclude": [
    "module",
    "function",
    "builtin_function_or_method",
    "instance",
    "_Feature"
   ],
   "window_display": false
  }
 },
 "nbformat": 4,
 "nbformat_minor": 2
}
