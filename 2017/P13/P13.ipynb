{
 "cells": [
  {
   "cell_type": "code",
   "execution_count": 4,
   "metadata": {
    "ExecuteTime": {
     "end_time": "2018-10-22T21:32:19.780724Z",
     "start_time": "2018-10-22T21:32:19.777248Z"
    }
   },
   "outputs": [],
   "source": [
    "with open('input.txt', 'r') as f:\n",
    "    puzzle = f.read().strip()"
   ]
  },
  {
   "cell_type": "markdown",
   "metadata": {},
   "source": [
    "## P13.1"
   ]
  },
  {
   "cell_type": "code",
   "execution_count": 5,
   "metadata": {
    "ExecuteTime": {
     "end_time": "2018-10-22T21:32:49.404482Z",
     "start_time": "2018-10-22T21:32:49.400561Z"
    }
   },
   "outputs": [],
   "source": [
    "example = \"\"\"0: 3\n",
    "1: 2\n",
    "4: 4\n",
    "6: 4\"\"\""
   ]
  },
  {
   "cell_type": "code",
   "execution_count": 44,
   "metadata": {
    "ExecuteTime": {
     "end_time": "2018-10-22T21:52:26.509053Z",
     "start_time": "2018-10-22T21:52:26.502852Z"
    }
   },
   "outputs": [],
   "source": [
    "def parse_input(s):\n",
    "    lines = s.split('\\n')\n",
    "    firewall = []\n",
    "    for line in lines:\n",
    "        depth, rang = line.split(': ')\n",
    "        depth, rang = int(depth), int(rang)\n",
    "        firewall.append((depth, rang))\n",
    "    return firewall"
   ]
  },
  {
   "cell_type": "code",
   "execution_count": 45,
   "metadata": {
    "ExecuteTime": {
     "end_time": "2018-10-22T21:52:42.995719Z",
     "start_time": "2018-10-22T21:52:42.992382Z"
    }
   },
   "outputs": [],
   "source": [
    "example = parse_input(example)\n",
    "puzzle = parse_input(puzzle)"
   ]
  },
  {
   "cell_type": "code",
   "execution_count": 46,
   "metadata": {
    "ExecuteTime": {
     "end_time": "2018-10-22T21:52:45.673286Z",
     "start_time": "2018-10-22T21:52:45.666477Z"
    }
   },
   "outputs": [],
   "source": [
    "def severity(firewall, delay=0):\n",
    "    sev = 0\n",
    "    for depth, rang in firewall:\n",
    "        i = rang-1\n",
    "        pos = abs((i+depth+delay) % (2*i) - i)\n",
    "        if pos == 0:\n",
    "            sev += depth*rang\n",
    "    return sev "
   ]
  },
  {
   "cell_type": "code",
   "execution_count": 47,
   "metadata": {
    "ExecuteTime": {
     "end_time": "2018-10-22T21:52:46.321875Z",
     "start_time": "2018-10-22T21:52:46.316119Z"
    }
   },
   "outputs": [
    {
     "data": {
      "text/plain": [
       "24"
      ]
     },
     "execution_count": 47,
     "metadata": {},
     "output_type": "execute_result"
    }
   ],
   "source": [
    "severity(example)"
   ]
  },
  {
   "cell_type": "code",
   "execution_count": 48,
   "metadata": {
    "ExecuteTime": {
     "end_time": "2018-10-22T21:52:47.441256Z",
     "start_time": "2018-10-22T21:52:47.436386Z"
    }
   },
   "outputs": [
    {
     "data": {
      "text/plain": [
       "648"
      ]
     },
     "execution_count": 48,
     "metadata": {},
     "output_type": "execute_result"
    }
   ],
   "source": [
    "severity(puzzle)"
   ]
  },
  {
   "cell_type": "markdown",
   "metadata": {},
   "source": [
    "## P13.2"
   ]
  },
  {
   "cell_type": "code",
   "execution_count": 55,
   "metadata": {
    "ExecuteTime": {
     "end_time": "2018-10-22T21:54:43.069770Z",
     "start_time": "2018-10-22T21:54:43.064636Z"
    }
   },
   "outputs": [],
   "source": [
    "def caught(firewall, delay=0):\n",
    "    sev = 0\n",
    "    for depth, rang in firewall:\n",
    "        i = rang-1\n",
    "        pos = abs((i+depth+delay) % (2*i) - i)\n",
    "        if pos == 0:\n",
    "            return False\n",
    "    return True"
   ]
  },
  {
   "cell_type": "code",
   "execution_count": 56,
   "metadata": {
    "ExecuteTime": {
     "end_time": "2018-10-22T21:54:43.247172Z",
     "start_time": "2018-10-22T21:54:43.242337Z"
    }
   },
   "outputs": [],
   "source": [
    "def find_delay(firewall):\n",
    "    delay = 0\n",
    "    while not caught(firewall, delay):\n",
    "        delay += 1\n",
    "    return delay"
   ]
  },
  {
   "cell_type": "code",
   "execution_count": 57,
   "metadata": {
    "ExecuteTime": {
     "end_time": "2018-10-22T21:54:43.383846Z",
     "start_time": "2018-10-22T21:54:43.374882Z"
    }
   },
   "outputs": [
    {
     "data": {
      "text/plain": [
       "10"
      ]
     },
     "execution_count": 57,
     "metadata": {},
     "output_type": "execute_result"
    }
   ],
   "source": [
    "find_delay(example)"
   ]
  },
  {
   "cell_type": "code",
   "execution_count": 58,
   "metadata": {
    "ExecuteTime": {
     "end_time": "2018-10-22T21:54:54.066329Z",
     "start_time": "2018-10-22T21:54:51.227658Z"
    }
   },
   "outputs": [
    {
     "data": {
      "text/plain": [
       "3933124"
      ]
     },
     "execution_count": 58,
     "metadata": {},
     "output_type": "execute_result"
    }
   ],
   "source": [
    "find_delay(puzzle)"
   ]
  },
  {
   "cell_type": "code",
   "execution_count": null,
   "metadata": {},
   "outputs": [],
   "source": []
  }
 ],
 "metadata": {
  "kernelspec": {
   "display_name": "Python 3",
   "language": "python",
   "name": "python3"
  },
  "language_info": {
   "codemirror_mode": {
    "name": "ipython",
    "version": 3
   },
   "file_extension": ".py",
   "mimetype": "text/x-python",
   "name": "python",
   "nbconvert_exporter": "python",
   "pygments_lexer": "ipython3",
   "version": "3.6.4"
  },
  "toc": {
   "nav_menu": {},
   "number_sections": true,
   "sideBar": true,
   "skip_h1_title": false,
   "title_cell": "Table of Contents",
   "title_sidebar": "Contents",
   "toc_cell": false,
   "toc_position": {},
   "toc_section_display": true,
   "toc_window_display": false
  },
  "varInspector": {
   "cols": {
    "lenName": 16,
    "lenType": 16,
    "lenVar": 40
   },
   "kernels_config": {
    "python": {
     "delete_cmd_postfix": "",
     "delete_cmd_prefix": "del ",
     "library": "var_list.py",
     "varRefreshCmd": "print(var_dic_list())"
    },
    "r": {
     "delete_cmd_postfix": ") ",
     "delete_cmd_prefix": "rm(",
     "library": "var_list.r",
     "varRefreshCmd": "cat(var_dic_list()) "
    }
   },
   "types_to_exclude": [
    "module",
    "function",
    "builtin_function_or_method",
    "instance",
    "_Feature"
   ],
   "window_display": false
  }
 },
 "nbformat": 4,
 "nbformat_minor": 2
}
