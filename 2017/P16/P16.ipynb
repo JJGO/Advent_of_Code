{
 "cells": [
  {
   "cell_type": "code",
   "execution_count": 91,
   "metadata": {
    "ExecuteTime": {
     "end_time": "2018-11-08T16:48:42.554165Z",
     "start_time": "2018-11-08T16:48:42.552068Z"
    }
   },
   "outputs": [],
   "source": [
    "import string"
   ]
  },
  {
   "cell_type": "code",
   "execution_count": 92,
   "metadata": {
    "ExecuteTime": {
     "end_time": "2018-11-08T16:48:42.696952Z",
     "start_time": "2018-11-08T16:48:42.693371Z"
    }
   },
   "outputs": [],
   "source": [
    "with open('input.txt', 'r') as f:\n",
    "    puzzle = f.read().strip()"
   ]
  },
  {
   "cell_type": "code",
   "execution_count": 93,
   "metadata": {
    "ExecuteTime": {
     "end_time": "2018-11-08T16:48:42.827671Z",
     "start_time": "2018-11-08T16:48:42.825453Z"
    }
   },
   "outputs": [],
   "source": [
    "example = 's1,x3/4,pe/b'"
   ]
  },
  {
   "cell_type": "code",
   "execution_count": 94,
   "metadata": {
    "ExecuteTime": {
     "end_time": "2018-11-08T16:48:42.983832Z",
     "start_time": "2018-11-08T16:48:42.967394Z"
    }
   },
   "outputs": [],
   "source": [
    "def parse_input(instructions):\n",
    "    ops = []\n",
    "    for op in instructions.split(','):\n",
    "        if op[0] == 's':\n",
    "            n = int(op[1:])\n",
    "            ops.append(('s', n))\n",
    "        elif op[0] == 'x':\n",
    "            i, j = op[1:].split('/')\n",
    "            i, j = int(i), int(j)\n",
    "            ops.append(('x', i, j))\n",
    "        elif op[0] == 'p':\n",
    "            a, b = op[1:].split('/')\n",
    "            ops.append(('p', a, b))\n",
    "        else:\n",
    "            raise ValueError(f\"OP {op[0]} not defined\")\n",
    "    return ops"
   ]
  },
  {
   "cell_type": "code",
   "execution_count": 95,
   "metadata": {
    "ExecuteTime": {
     "end_time": "2018-11-08T16:48:43.126930Z",
     "start_time": "2018-11-08T16:48:43.114852Z"
    }
   },
   "outputs": [],
   "source": [
    "example = parse_input(example)\n",
    "puzzle = parse_input(puzzle)\n",
    "\n",
    "example_s = \"abcde\"\n",
    "puzzle_s = string.ascii_lowercase[:16]"
   ]
  },
  {
   "cell_type": "code",
   "execution_count": null,
   "metadata": {},
   "outputs": [],
   "source": []
  },
  {
   "cell_type": "code",
   "execution_count": 96,
   "metadata": {
    "ExecuteTime": {
     "end_time": "2018-11-08T16:48:43.827209Z",
     "start_time": "2018-11-08T16:48:43.812370Z"
    }
   },
   "outputs": [],
   "source": [
    "def execute_ops(s, ops):\n",
    "    s = list(s)\n",
    "    for op in ops:\n",
    "        if op[0] == 's':\n",
    "            n = op[1]\n",
    "            s = s[-n:]+s[:len(s)-n]\n",
    "        elif op[0] == 'x':\n",
    "            i, j = op[1:]\n",
    "            s[i], s[j] = s[j], s[i]\n",
    "        elif op[0] == 'p':\n",
    "            a, b = op[1:]\n",
    "            i = s.index(a)\n",
    "            j = s.index(b)\n",
    "            s[i], s[j] = s[j], s[i]\n",
    "    return \"\".join(s)"
   ]
  },
  {
   "cell_type": "code",
   "execution_count": 97,
   "metadata": {
    "ExecuteTime": {
     "end_time": "2018-11-08T16:48:44.103640Z",
     "start_time": "2018-11-08T16:48:44.098571Z"
    }
   },
   "outputs": [
    {
     "data": {
      "text/plain": [
       "'baedc'"
      ]
     },
     "execution_count": 97,
     "metadata": {},
     "output_type": "execute_result"
    }
   ],
   "source": [
    "execute_ops(example_s, example)"
   ]
  },
  {
   "cell_type": "code",
   "execution_count": 98,
   "metadata": {
    "ExecuteTime": {
     "end_time": "2018-11-08T16:48:44.496944Z",
     "start_time": "2018-11-08T16:48:44.492917Z"
    }
   },
   "outputs": [
    {
     "data": {
      "text/plain": [
       "'bcdeabcdea'"
      ]
     },
     "execution_count": 98,
     "metadata": {},
     "output_type": "execute_result"
    }
   ],
   "source": [
    "execute_ops('abcde', parse_input('s4,s0'))"
   ]
  },
  {
   "cell_type": "code",
   "execution_count": 151,
   "metadata": {
    "ExecuteTime": {
     "end_time": "2018-11-08T17:10:20.558229Z",
     "start_time": "2018-11-08T17:10:20.549419Z"
    }
   },
   "outputs": [
    {
     "data": {
      "text/plain": [
       "'bkgcdefiholnpmja'"
      ]
     },
     "execution_count": 151,
     "metadata": {},
     "output_type": "execute_result"
    }
   ],
   "source": [
    "execute_ops(puzzle_s, puzzle)"
   ]
  },
  {
   "cell_type": "code",
   "execution_count": null,
   "metadata": {},
   "outputs": [],
   "source": []
  },
  {
   "cell_type": "markdown",
   "metadata": {},
   "source": [
    "## Part 2"
   ]
  },
  {
   "cell_type": "code",
   "execution_count": 171,
   "metadata": {
    "ExecuteTime": {
     "end_time": "2018-11-08T17:27:30.972048Z",
     "start_time": "2018-11-08T17:27:30.964665Z"
    }
   },
   "outputs": [],
   "source": [
    "def execute_ops_repeated(s, ops, N):\n",
    "    original = s\n",
    "    for i in range(N):\n",
    "        s = execute_ops(s, ops)\n",
    "        if s == original:\n",
    "            mod = i + 1\n",
    "    s = original\n",
    "    for i in range(N % mod):\n",
    "        s = execute_ops(s, ops)\n",
    "    return s"
   ]
  },
  {
   "cell_type": "code",
   "execution_count": 172,
   "metadata": {
    "ExecuteTime": {
     "end_time": "2018-11-08T17:28:03.306825Z",
     "start_time": "2018-11-08T17:27:43.039010Z"
    }
   },
   "outputs": [
    {
     "ename": "KeyboardInterrupt",
     "evalue": "",
     "output_type": "error",
     "traceback": [
      "\u001b[0;31m---------------------------------------------------------------------------\u001b[0m",
      "\u001b[0;31mKeyboardInterrupt\u001b[0m                         Traceback (most recent call last)",
      "\u001b[0;32m<ipython-input-172-97f8e3fb048d>\u001b[0m in \u001b[0;36m<module>\u001b[0;34m()\u001b[0m\n\u001b[0;32m----> 1\u001b[0;31m \u001b[0mexecute_ops_repeated\u001b[0m\u001b[0;34m(\u001b[0m\u001b[0mpuzzle_s\u001b[0m\u001b[0;34m,\u001b[0m \u001b[0mpuzzle\u001b[0m\u001b[0;34m,\u001b[0m \u001b[0;36m1000000000\u001b[0m\u001b[0;34m)\u001b[0m\u001b[0;34m\u001b[0m\u001b[0m\n\u001b[0m",
      "\u001b[0;32m<ipython-input-171-61a14a1278d5>\u001b[0m in \u001b[0;36mexecute_ops_repeated\u001b[0;34m(s, ops, N)\u001b[0m\n\u001b[1;32m      2\u001b[0m     \u001b[0moriginal\u001b[0m \u001b[0;34m=\u001b[0m \u001b[0ms\u001b[0m\u001b[0;34m\u001b[0m\u001b[0m\n\u001b[1;32m      3\u001b[0m     \u001b[0;32mfor\u001b[0m \u001b[0mi\u001b[0m \u001b[0;32min\u001b[0m \u001b[0mrange\u001b[0m\u001b[0;34m(\u001b[0m\u001b[0mN\u001b[0m\u001b[0;34m)\u001b[0m\u001b[0;34m:\u001b[0m\u001b[0;34m\u001b[0m\u001b[0m\n\u001b[0;32m----> 4\u001b[0;31m         \u001b[0ms\u001b[0m \u001b[0;34m=\u001b[0m \u001b[0mexecute_ops\u001b[0m\u001b[0;34m(\u001b[0m\u001b[0ms\u001b[0m\u001b[0;34m,\u001b[0m \u001b[0mops\u001b[0m\u001b[0;34m)\u001b[0m\u001b[0;34m\u001b[0m\u001b[0m\n\u001b[0m\u001b[1;32m      5\u001b[0m         \u001b[0;32mif\u001b[0m \u001b[0ms\u001b[0m \u001b[0;34m==\u001b[0m \u001b[0moriginal\u001b[0m\u001b[0;34m:\u001b[0m\u001b[0;34m\u001b[0m\u001b[0m\n\u001b[1;32m      6\u001b[0m             \u001b[0mmod\u001b[0m \u001b[0;34m=\u001b[0m \u001b[0mi\u001b[0m \u001b[0;34m+\u001b[0m \u001b[0;36m1\u001b[0m\u001b[0;34m\u001b[0m\u001b[0m\n",
      "\u001b[0;32m<ipython-input-96-4c4762837125>\u001b[0m in \u001b[0;36mexecute_ops\u001b[0;34m(s, ops)\u001b[0m\n\u001b[1;32m     10\u001b[0m         \u001b[0;32melif\u001b[0m \u001b[0mop\u001b[0m\u001b[0;34m[\u001b[0m\u001b[0;36m0\u001b[0m\u001b[0;34m]\u001b[0m \u001b[0;34m==\u001b[0m \u001b[0;34m'p'\u001b[0m\u001b[0;34m:\u001b[0m\u001b[0;34m\u001b[0m\u001b[0m\n\u001b[1;32m     11\u001b[0m             \u001b[0ma\u001b[0m\u001b[0;34m,\u001b[0m \u001b[0mb\u001b[0m \u001b[0;34m=\u001b[0m \u001b[0mop\u001b[0m\u001b[0;34m[\u001b[0m\u001b[0;36m1\u001b[0m\u001b[0;34m:\u001b[0m\u001b[0;34m]\u001b[0m\u001b[0;34m\u001b[0m\u001b[0m\n\u001b[0;32m---> 12\u001b[0;31m             \u001b[0mi\u001b[0m \u001b[0;34m=\u001b[0m \u001b[0ms\u001b[0m\u001b[0;34m.\u001b[0m\u001b[0mindex\u001b[0m\u001b[0;34m(\u001b[0m\u001b[0ma\u001b[0m\u001b[0;34m)\u001b[0m\u001b[0;34m\u001b[0m\u001b[0m\n\u001b[0m\u001b[1;32m     13\u001b[0m             \u001b[0mj\u001b[0m \u001b[0;34m=\u001b[0m \u001b[0ms\u001b[0m\u001b[0;34m.\u001b[0m\u001b[0mindex\u001b[0m\u001b[0;34m(\u001b[0m\u001b[0mb\u001b[0m\u001b[0;34m)\u001b[0m\u001b[0;34m\u001b[0m\u001b[0m\n\u001b[1;32m     14\u001b[0m             \u001b[0ms\u001b[0m\u001b[0;34m[\u001b[0m\u001b[0mi\u001b[0m\u001b[0;34m]\u001b[0m\u001b[0;34m,\u001b[0m \u001b[0ms\u001b[0m\u001b[0;34m[\u001b[0m\u001b[0mj\u001b[0m\u001b[0;34m]\u001b[0m \u001b[0;34m=\u001b[0m \u001b[0ms\u001b[0m\u001b[0;34m[\u001b[0m\u001b[0mj\u001b[0m\u001b[0;34m]\u001b[0m\u001b[0;34m,\u001b[0m \u001b[0ms\u001b[0m\u001b[0;34m[\u001b[0m\u001b[0mi\u001b[0m\u001b[0;34m]\u001b[0m\u001b[0;34m\u001b[0m\u001b[0m\n",
      "\u001b[0;31mKeyboardInterrupt\u001b[0m: "
     ]
    }
   ],
   "source": [
    "execute_ops_repeated(puzzle_s, puzzle, 1000000000)"
   ]
  },
  {
   "cell_type": "code",
   "execution_count": null,
   "metadata": {},
   "outputs": [],
   "source": []
  },
  {
   "cell_type": "code",
   "execution_count": 152,
   "metadata": {
    "ExecuteTime": {
     "end_time": "2018-11-08T17:11:25.321996Z",
     "start_time": "2018-11-08T17:11:25.318148Z"
    }
   },
   "outputs": [],
   "source": [
    "def find_permutation(original, permuted):\n",
    "    return [original.index(i) for i in permuted]"
   ]
  },
  {
   "cell_type": "code",
   "execution_count": 167,
   "metadata": {
    "ExecuteTime": {
     "end_time": "2018-11-08T17:14:12.725295Z",
     "start_time": "2018-11-08T17:14:12.720530Z"
    }
   },
   "outputs": [],
   "source": [
    "def apply_permutation(original, permutation):\n",
    "    return [original[i] for i in permutation]\n"
   ]
  },
  {
   "cell_type": "code",
   "execution_count": 168,
   "metadata": {
    "ExecuteTime": {
     "end_time": "2018-11-08T17:14:13.509820Z",
     "start_time": "2018-11-08T17:14:13.503026Z"
    }
   },
   "outputs": [],
   "source": [
    "def repeated_permutation(original, permutation, times):\n",
    "    # Like repeated squaring\n",
    "    # Start with identity permutation\n",
    "    permuted = list(original)\n",
    "    while times > 0:\n",
    "        if times % 2 == 1:\n",
    "            permuted = apply_permutation(permuted, permutation)\n",
    "        permutation = apply_permutation(permutation, permutation)\n",
    "        times //= 2\n",
    "    return permuted"
   ]
  },
  {
   "cell_type": "code",
   "execution_count": 169,
   "metadata": {
    "ExecuteTime": {
     "end_time": "2018-11-08T17:14:13.659696Z",
     "start_time": "2018-11-08T17:14:13.655423Z"
    }
   },
   "outputs": [
    {
     "data": {
      "text/plain": [
       "'abcde'"
      ]
     },
     "execution_count": 169,
     "metadata": {},
     "output_type": "execute_result"
    }
   ],
   "source": [
    "p = find_permutation(example_s, execute_ops(example_s, example))\n",
    "\"\".join(repeated_permutation(example_s, p, 2))"
   ]
  },
  {
   "cell_type": "code",
   "execution_count": 170,
   "metadata": {
    "ExecuteTime": {
     "end_time": "2018-11-08T17:14:19.930774Z",
     "start_time": "2018-11-08T17:14:19.925762Z"
    }
   },
   "outputs": [
    {
     "data": {
      "text/plain": [
       "[1, 0, 4, 3, 2]"
      ]
     },
     "execution_count": 170,
     "metadata": {},
     "output_type": "execute_result"
    }
   ],
   "source": [
    "p"
   ]
  },
  {
   "cell_type": "code",
   "execution_count": null,
   "metadata": {},
   "outputs": [],
   "source": [
    "p = find_permutation(puzzle_s, execute_ops(puzzle_s, puzzle))\n",
    "\"\".join(repeated_permutation(puzzle_s, p, 1000000000))"
   ]
  },
  {
   "cell_type": "code",
   "execution_count": 138,
   "metadata": {
    "ExecuteTime": {
     "end_time": "2018-11-08T17:04:41.102586Z",
     "start_time": "2018-11-08T17:04:41.098372Z"
    }
   },
   "outputs": [
    {
     "name": "stdout",
     "output_type": "stream",
     "text": [
      "01234\n",
      "12340\n",
      "23401\n",
      "34012\n",
      "40123\n",
      "01234\n",
      "12340\n",
      "23401\n",
      "34012\n",
      "40123\n",
      "01234\n",
      "12340\n",
      "23401\n",
      "34012\n",
      "40123\n",
      "01234\n",
      "12340\n",
      "23401\n",
      "34012\n",
      "40123\n"
     ]
    }
   ],
   "source": [
    "for i in range(20):\n",
    "    print(\"\".join(repeated_permutation(\"01234\", [1,2,3,4,0], i)))"
   ]
  },
  {
   "cell_type": "code",
   "execution_count": null,
   "metadata": {},
   "outputs": [],
   "source": []
  }
 ],
 "metadata": {
  "kernelspec": {
   "display_name": "Python 3",
   "language": "python",
   "name": "python3"
  },
  "language_info": {
   "codemirror_mode": {
    "name": "ipython",
    "version": 3
   },
   "file_extension": ".py",
   "mimetype": "text/x-python",
   "name": "python",
   "nbconvert_exporter": "python",
   "pygments_lexer": "ipython3",
   "version": "3.6.4"
  },
  "toc": {
   "nav_menu": {},
   "number_sections": true,
   "sideBar": true,
   "skip_h1_title": false,
   "title_cell": "Table of Contents",
   "title_sidebar": "Contents",
   "toc_cell": false,
   "toc_position": {},
   "toc_section_display": true,
   "toc_window_display": false
  },
  "varInspector": {
   "cols": {
    "lenName": 16,
    "lenType": 16,
    "lenVar": 40
   },
   "kernels_config": {
    "python": {
     "delete_cmd_postfix": "",
     "delete_cmd_prefix": "del ",
     "library": "var_list.py",
     "varRefreshCmd": "print(var_dic_list())"
    },
    "r": {
     "delete_cmd_postfix": ") ",
     "delete_cmd_prefix": "rm(",
     "library": "var_list.r",
     "varRefreshCmd": "cat(var_dic_list()) "
    }
   },
   "types_to_exclude": [
    "module",
    "function",
    "builtin_function_or_method",
    "instance",
    "_Feature"
   ],
   "window_display": false
  }
 },
 "nbformat": 4,
 "nbformat_minor": 2
}
