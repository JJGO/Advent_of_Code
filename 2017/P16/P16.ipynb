{
 "cells": [
  {
   "cell_type": "code",
   "execution_count": 20,
   "metadata": {
    "ExecuteTime": {
     "end_time": "2018-10-22T01:56:30.144010Z",
     "start_time": "2018-10-22T01:56:30.139713Z"
    }
   },
   "outputs": [],
   "source": [
    "with open('input.txt', 'r') as f:\n",
    "    puzzle = f.read().strip()"
   ]
  },
  {
   "cell_type": "code",
   "execution_count": 3,
   "metadata": {
    "ExecuteTime": {
     "end_time": "2018-10-22T01:50:40.170382Z",
     "start_time": "2018-10-22T01:50:40.166495Z"
    }
   },
   "outputs": [],
   "source": [
    "import string"
   ]
  },
  {
   "cell_type": "code",
   "execution_count": 25,
   "metadata": {
    "ExecuteTime": {
     "end_time": "2018-10-22T01:57:06.330201Z",
     "start_time": "2018-10-22T01:57:06.324914Z"
    }
   },
   "outputs": [
    {
     "data": {
      "text/plain": [
       "'abcdefghijklmnop'"
      ]
     },
     "execution_count": 25,
     "metadata": {},
     "output_type": "execute_result"
    }
   ],
   "source": [
    "s = string.ascii_lowercase[:16]\n",
    "s"
   ]
  },
  {
   "cell_type": "code",
   "execution_count": 22,
   "metadata": {
    "ExecuteTime": {
     "end_time": "2018-10-22T01:56:35.238841Z",
     "start_time": "2018-10-22T01:56:35.220606Z"
    }
   },
   "outputs": [],
   "source": [
    "def execute_ops(s, ops):\n",
    "    s = list(s)\n",
    "    if ',' in ops:\n",
    "        ops = ops.split(',')\n",
    "    for op in ops:\n",
    "        if op[0] == 's':\n",
    "            n = int(op[1])\n",
    "            s = s[-n:]+s[:-n]\n",
    "        elif op[0] == 'x':\n",
    "            i,j = op[1:].split('/')\n",
    "            i,j = int(i), int(j)\n",
    "            s[i], s[j] = s[j], s[i]\n",
    "        elif op[0] == 'p':\n",
    "            a,b = op[1:].split('/')\n",
    "            i = s.index(a)\n",
    "            j = s.index(b)\n",
    "            s[i], s[j] = s[j], s[i]\n",
    "    return \"\".join(s)"
   ]
  },
  {
   "cell_type": "code",
   "execution_count": 26,
   "metadata": {
    "ExecuteTime": {
     "end_time": "2018-10-22T01:57:08.903979Z",
     "start_time": "2018-10-22T01:57:08.899594Z"
    }
   },
   "outputs": [
    {
     "data": {
      "text/plain": [
       "'baedc'"
      ]
     },
     "execution_count": 26,
     "metadata": {},
     "output_type": "execute_result"
    }
   ],
   "source": [
    "execute_ops('abcde', 's1,x3/4,pe/b')"
   ]
  },
  {
   "cell_type": "code",
   "execution_count": 27,
   "metadata": {
    "ExecuteTime": {
     "end_time": "2018-10-22T01:57:09.340866Z",
     "start_time": "2018-10-22T01:57:09.323980Z"
    }
   },
   "outputs": [
    {
     "data": {
      "text/plain": [
       "'cdbejhmpnkaloigf'"
      ]
     },
     "execution_count": 27,
     "metadata": {},
     "output_type": "execute_result"
    }
   ],
   "source": [
    "execute_ops(s, puzzle)"
   ]
  },
  {
   "cell_type": "code",
   "execution_count": null,
   "metadata": {},
   "outputs": [],
   "source": []
  }
 ],
 "metadata": {
  "kernelspec": {
   "display_name": "Python 3",
   "language": "python",
   "name": "python3"
  },
  "language_info": {
   "codemirror_mode": {
    "name": "ipython",
    "version": 3
   },
   "file_extension": ".py",
   "mimetype": "text/x-python",
   "name": "python",
   "nbconvert_exporter": "python",
   "pygments_lexer": "ipython3",
   "version": "3.6.4"
  },
  "toc": {
   "nav_menu": {},
   "number_sections": true,
   "sideBar": true,
   "skip_h1_title": false,
   "title_cell": "Table of Contents",
   "title_sidebar": "Contents",
   "toc_cell": false,
   "toc_position": {},
   "toc_section_display": true,
   "toc_window_display": false
  },
  "varInspector": {
   "cols": {
    "lenName": 16,
    "lenType": 16,
    "lenVar": 40
   },
   "kernels_config": {
    "python": {
     "delete_cmd_postfix": "",
     "delete_cmd_prefix": "del ",
     "library": "var_list.py",
     "varRefreshCmd": "print(var_dic_list())"
    },
    "r": {
     "delete_cmd_postfix": ") ",
     "delete_cmd_prefix": "rm(",
     "library": "var_list.r",
     "varRefreshCmd": "cat(var_dic_list()) "
    }
   },
   "types_to_exclude": [
    "module",
    "function",
    "builtin_function_or_method",
    "instance",
    "_Feature"
   ],
   "window_display": false
  }
 },
 "nbformat": 4,
 "nbformat_minor": 2
}
