{
 "cells": [
  {
   "cell_type": "code",
   "execution_count": 20,
   "metadata": {
    "ExecuteTime": {
     "end_time": "2018-10-19T12:52:15.361943Z",
     "start_time": "2018-10-19T12:52:15.357639Z"
    }
   },
   "outputs": [],
   "source": [
    "with open('input.txt', 'r') as f:\n",
    "    puzzle = f.read().strip().split('\\t')"
   ]
  },
  {
   "cell_type": "markdown",
   "metadata": {},
   "source": [
    "## P6.1"
   ]
  },
  {
   "cell_type": "code",
   "execution_count": 10,
   "metadata": {
    "ExecuteTime": {
     "end_time": "2018-10-19T12:48:01.637847Z",
     "start_time": "2018-10-19T12:48:01.635665Z"
    }
   },
   "outputs": [],
   "source": [
    "import numpy as np"
   ]
  },
  {
   "cell_type": "code",
   "execution_count": 11,
   "metadata": {
    "ExecuteTime": {
     "end_time": "2018-10-19T12:48:02.283206Z",
     "start_time": "2018-10-19T12:48:02.278144Z"
    },
    "scrolled": true
   },
   "outputs": [
    {
     "data": {
      "text/plain": [
       "['14',\n",
       " '0',\n",
       " '15',\n",
       " '12',\n",
       " '11',\n",
       " '11',\n",
       " '3',\n",
       " '5',\n",
       " '1',\n",
       " '6',\n",
       " '8',\n",
       " '4',\n",
       " '9',\n",
       " '1',\n",
       " '8',\n",
       " '4']"
      ]
     },
     "execution_count": 11,
     "metadata": {},
     "output_type": "execute_result"
    }
   ],
   "source": [
    "puzzle"
   ]
  },
  {
   "cell_type": "code",
   "execution_count": 22,
   "metadata": {
    "ExecuteTime": {
     "end_time": "2018-10-19T12:52:25.053493Z",
     "start_time": "2018-10-19T12:52:25.040822Z"
    }
   },
   "outputs": [],
   "source": [
    "def reallocate(banks):\n",
    "    seen = set()\n",
    "    banks = [int(i) for i in banks]\n",
    "    while True:\n",
    "        i = np.argmax(banks)\n",
    "        n = banks[i]\n",
    "        banks[i] = 0\n",
    "        for j in range(i+1,i+1+n):\n",
    "            banks[j%len(banks)] += 1\n",
    "        state = tuple(banks)\n",
    "#         print(state)\n",
    "        if state not in seen:\n",
    "            seen.add(state)\n",
    "        else:\n",
    "            return len(seen) + 1"
   ]
  },
  {
   "cell_type": "code",
   "execution_count": 23,
   "metadata": {
    "ExecuteTime": {
     "end_time": "2018-10-19T12:52:25.191193Z",
     "start_time": "2018-10-19T12:52:25.186000Z"
    }
   },
   "outputs": [
    {
     "data": {
      "text/plain": [
       "5"
      ]
     },
     "execution_count": 23,
     "metadata": {},
     "output_type": "execute_result"
    }
   ],
   "source": [
    "reallocate([0,2,7,0])"
   ]
  },
  {
   "cell_type": "code",
   "execution_count": 24,
   "metadata": {
    "ExecuteTime": {
     "end_time": "2018-10-19T12:52:25.486624Z",
     "start_time": "2018-10-19T12:52:25.362368Z"
    }
   },
   "outputs": [
    {
     "data": {
      "text/plain": [
       "11137"
      ]
     },
     "execution_count": 24,
     "metadata": {},
     "output_type": "execute_result"
    }
   ],
   "source": [
    "reallocate(puzzle)"
   ]
  },
  {
   "cell_type": "markdown",
   "metadata": {},
   "source": [
    "## P6.2"
   ]
  },
  {
   "cell_type": "code",
   "execution_count": 27,
   "metadata": {
    "ExecuteTime": {
     "end_time": "2018-10-19T12:54:45.563773Z",
     "start_time": "2018-10-19T12:54:45.549613Z"
    }
   },
   "outputs": [],
   "source": [
    "def reallocate_size(banks):\n",
    "    seen = {}\n",
    "    k = 0\n",
    "    banks = [int(i) for i in banks]\n",
    "    while True:\n",
    "        i = np.argmax(banks)\n",
    "        n = banks[i]\n",
    "        banks[i] = 0\n",
    "        for j in range(i+1,i+1+n):\n",
    "            banks[j%len(banks)] += 1\n",
    "        state = tuple(banks)\n",
    "#         print(state)\n",
    "        if state not in seen:\n",
    "            k += 1\n",
    "            seen[state] = k\n",
    "        else:\n",
    "            return len(seen) - seen[state] + 1"
   ]
  },
  {
   "cell_type": "code",
   "execution_count": 28,
   "metadata": {
    "ExecuteTime": {
     "end_time": "2018-10-19T12:54:45.701584Z",
     "start_time": "2018-10-19T12:54:45.697137Z"
    }
   },
   "outputs": [
    {
     "data": {
      "text/plain": [
       "4"
      ]
     },
     "execution_count": 28,
     "metadata": {},
     "output_type": "execute_result"
    }
   ],
   "source": [
    "reallocate_size([0,2,7,0])"
   ]
  },
  {
   "cell_type": "code",
   "execution_count": 29,
   "metadata": {
    "ExecuteTime": {
     "end_time": "2018-10-19T12:54:58.647463Z",
     "start_time": "2018-10-19T12:54:58.520918Z"
    }
   },
   "outputs": [
    {
     "data": {
      "text/plain": [
       "1037"
      ]
     },
     "execution_count": 29,
     "metadata": {},
     "output_type": "execute_result"
    }
   ],
   "source": [
    "reallocate_size(puzzle)"
   ]
  },
  {
   "cell_type": "code",
   "execution_count": null,
   "metadata": {},
   "outputs": [],
   "source": []
  }
 ],
 "metadata": {
  "kernelspec": {
   "display_name": "Python 3",
   "language": "python",
   "name": "python3"
  },
  "language_info": {
   "codemirror_mode": {
    "name": "ipython",
    "version": 3
   },
   "file_extension": ".py",
   "mimetype": "text/x-python",
   "name": "python",
   "nbconvert_exporter": "python",
   "pygments_lexer": "ipython3",
   "version": "3.6.4"
  },
  "toc": {
   "nav_menu": {},
   "number_sections": true,
   "sideBar": true,
   "skip_h1_title": false,
   "title_cell": "Table of Contents",
   "title_sidebar": "Contents",
   "toc_cell": false,
   "toc_position": {},
   "toc_section_display": true,
   "toc_window_display": false
  },
  "varInspector": {
   "cols": {
    "lenName": 16,
    "lenType": 16,
    "lenVar": 40
   },
   "kernels_config": {
    "python": {
     "delete_cmd_postfix": "",
     "delete_cmd_prefix": "del ",
     "library": "var_list.py",
     "varRefreshCmd": "print(var_dic_list())"
    },
    "r": {
     "delete_cmd_postfix": ") ",
     "delete_cmd_prefix": "rm(",
     "library": "var_list.r",
     "varRefreshCmd": "cat(var_dic_list()) "
    }
   },
   "types_to_exclude": [
    "module",
    "function",
    "builtin_function_or_method",
    "instance",
    "_Feature"
   ],
   "window_display": false
  }
 },
 "nbformat": 4,
 "nbformat_minor": 2
}
