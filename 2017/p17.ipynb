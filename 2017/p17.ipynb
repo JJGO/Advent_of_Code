{
 "cells": [
  {
   "cell_type": "code",
   "execution_count": 31,
   "id": "f70db4d8",
   "metadata": {},
   "outputs": [],
   "source": [
    "from aocd.models import Puzzle\n",
    "\n",
    "def parses(text):\n",
    "    return int(text)\n",
    "\n",
    "puzzle = Puzzle(year=2017, day=17)\n",
    "data = parses(puzzle.input_data)"
   ]
  },
  {
   "cell_type": "code",
   "execution_count": 32,
   "id": "bef122d5",
   "metadata": {},
   "outputs": [
    {
     "name": "stdout",
     "output_type": "stream",
     "text": [
      "304\n"
     ]
    }
   ],
   "source": [
    "print(data)"
   ]
  },
  {
   "cell_type": "code",
   "execution_count": 33,
   "id": "32008a23",
   "metadata": {},
   "outputs": [],
   "source": [
    "from collections import deque"
   ]
  },
  {
   "cell_type": "code",
   "execution_count": 34,
   "id": "dd7bc200",
   "metadata": {},
   "outputs": [],
   "source": [
    "def solve_a(steps):\n",
    "    buffer = deque([0])\n",
    "    p = 0\n",
    "    for n in range(1,2018):\n",
    "        buffer.rotate(-left)\n",
    "        p = (p + steps+1) % len(buffer)\n",
    "        if p == 0:\n",
    "            p = len(buffer)\n",
    "        buffer.insert(p, n)\n",
    "    return buffer[p+1]"
   ]
  },
  {
   "cell_type": "code",
   "execution_count": 35,
   "id": "7aa75387",
   "metadata": {},
   "outputs": [],
   "source": [
    "def solve_a(steps, n=2017):\n",
    "    d = {0:0}\n",
    "    p = 0\n",
    "    for n in range(1,n+1):\n",
    "        for _ in range((steps+1) % n):\n",
    "            p = d[p]\n",
    "        d[p], d[n] = n, d[p]\n",
    "    return d[2017]"
   ]
  },
  {
   "cell_type": "code",
   "execution_count": 36,
   "id": "f216fdbe",
   "metadata": {},
   "outputs": [
    {
     "data": {
      "text/plain": [
       "638"
      ]
     },
     "execution_count": 36,
     "metadata": {},
     "output_type": "execute_result"
    }
   ],
   "source": [
    "solve_a(3)"
   ]
  },
  {
   "cell_type": "code",
   "execution_count": 37,
   "id": "d24df6c6",
   "metadata": {},
   "outputs": [
    {
     "data": {
      "text/plain": [
       "1173"
      ]
     },
     "execution_count": 37,
     "metadata": {},
     "output_type": "execute_result"
    }
   ],
   "source": [
    "solve_a(data)"
   ]
  },
  {
   "cell_type": "code",
   "execution_count": 67,
   "id": "bd496551",
   "metadata": {},
   "outputs": [],
   "source": [
    "from numba import njit"
   ]
  },
  {
   "cell_type": "code",
   "execution_count": 38,
   "id": "426c9578",
   "metadata": {},
   "outputs": [],
   "source": [
    "# @njit\n",
    "# def solve_b(steps, n=2017):\n",
    "#     d = [0] * 50_000_000\n",
    "#     p = 0\n",
    "#     for n in range(1,n+1):\n",
    "#         for _ in range((steps+1) % n):\n",
    "#             p = d[p]\n",
    "#         tmp = d[p]\n",
    "#         d[p] = n\n",
    "#         d[n] = tmp\n",
    "#         l = [0]\n",
    "#         for _ in range(n):\n",
    "#             l.append(d[l[-1]])\n",
    "#     return d[0]"
   ]
  },
  {
   "cell_type": "code",
   "execution_count": 39,
   "id": "e4cbf7c7",
   "metadata": {},
   "outputs": [],
   "source": [
    "# solve_b(3)"
   ]
  },
  {
   "cell_type": "code",
   "execution_count": 40,
   "id": "34548c3c",
   "metadata": {},
   "outputs": [],
   "source": [
    "# solve_b(304)"
   ]
  },
  {
   "cell_type": "code",
   "execution_count": null,
   "id": "189b4f11",
   "metadata": {},
   "outputs": [],
   "source": [
    "solve_b(304, 50_000_000)"
   ]
  },
  {
   "cell_type": "code",
   "execution_count": 26,
   "id": "0d5295ea",
   "metadata": {},
   "outputs": [],
   "source": [
    "from numba import njit"
   ]
  },
  {
   "cell_type": "code",
   "execution_count": 29,
   "id": "49f925fd",
   "metadata": {},
   "outputs": [],
   "source": [
    "@njit\n",
    "def solve_b(steps, n=2017):\n",
    "    after0 = 0\n",
    "    p = 0\n",
    "    for n in range(1,n+1):\n",
    "        p = (p + steps+1) % n\n",
    "        if p == 0:\n",
    "            after0 = n \n",
    "#         print(n, after0)\n",
    "    return after0"
   ]
  },
  {
   "cell_type": "code",
   "execution_count": 30,
   "id": "80b00ee6",
   "metadata": {},
   "outputs": [
    {
     "data": {
      "text/plain": [
       "1930815"
      ]
     },
     "execution_count": 30,
     "metadata": {},
     "output_type": "execute_result"
    }
   ],
   "source": [
    "solve_b(304, 50_000_000)"
   ]
  },
  {
   "cell_type": "code",
   "execution_count": null,
   "id": "42aa368f",
   "metadata": {},
   "outputs": [],
   "source": []
  }
 ],
 "metadata": {
  "kernelspec": {
   "display_name": "Python 3",
   "language": "python",
   "name": "python3"
  },
  "language_info": {
   "codemirror_mode": {
    "name": "ipython",
    "version": 3
   },
   "file_extension": ".py",
   "mimetype": "text/x-python",
   "name": "python",
   "nbconvert_exporter": "python",
   "pygments_lexer": "ipython3",
   "version": "3.8.8"
  }
 },
 "nbformat": 4,
 "nbformat_minor": 5
}
