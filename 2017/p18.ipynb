{
 "cells": [
  {
   "cell_type": "code",
   "execution_count": 30,
   "id": "304d90f0",
   "metadata": {},
   "outputs": [],
   "source": [
    "from aocd.models import Puzzle\n",
    "\n",
    "def parses(text):\n",
    "    return [line.split() for line in text.strip().split('\\n')]\n",
    "\n",
    "puzzle = Puzzle(year=2017, day=18)\n",
    "data = parses(puzzle.input_data)"
   ]
  },
  {
   "cell_type": "code",
   "execution_count": 31,
   "id": "f270ee64",
   "metadata": {},
   "outputs": [],
   "source": [
    "import string"
   ]
  },
  {
   "cell_type": "code",
   "execution_count": 50,
   "id": "e37eb296",
   "metadata": {},
   "outputs": [],
   "source": [
    "def solve_a(program):\n",
    "    regs = defaultdict(int)\n",
    "    stack = []\n",
    "    ip = 0\n",
    "    while True:\n",
    "        instr, *args = program[ip]\n",
    "        ip += 1\n",
    "        if instr == 'snd':\n",
    "            stack.append(regs[args[0]])\n",
    "            continue\n",
    "        elif instr == 'rcv':\n",
    "            if int(regs[args[0]]) != 0:\n",
    "                return int(stack[-1])\n",
    "            continue\n",
    "        a, b = args\n",
    "        b = regs[b] if b.isalpha() else int(b)\n",
    "        if instr == 'jgz':\n",
    "            if regs[a]:\n",
    "                ip += (b-1)\n",
    "            continue\n",
    "        elif instr == 'set':\n",
    "            regs[a] = b\n",
    "        elif instr == 'add':\n",
    "            regs[a] += b\n",
    "        elif instr == 'mul':\n",
    "            regs[a] *= b\n",
    "        elif instr == 'mod':\n",
    "            regs[a] %= b\n"
   ]
  },
  {
   "cell_type": "code",
   "execution_count": 51,
   "id": "89de61dd",
   "metadata": {},
   "outputs": [],
   "source": [
    "sample = parses(\"\"\"set a 1\n",
    "add a 2\n",
    "mul a a\n",
    "mod a 5\n",
    "snd a\n",
    "set a 0\n",
    "rcv a\n",
    "jgz a -1\n",
    "set a 1\n",
    "jgz a -2\"\"\")"
   ]
  },
  {
   "cell_type": "code",
   "execution_count": 52,
   "id": "3b1002c3",
   "metadata": {},
   "outputs": [
    {
     "data": {
      "text/plain": [
       "4"
      ]
     },
     "execution_count": 52,
     "metadata": {},
     "output_type": "execute_result"
    }
   ],
   "source": [
    "solve_a(sample)"
   ]
  },
  {
   "cell_type": "code",
   "execution_count": 53,
   "id": "e87d3582",
   "metadata": {},
   "outputs": [
    {
     "data": {
      "text/plain": [
       "8600"
      ]
     },
     "execution_count": 53,
     "metadata": {},
     "output_type": "execute_result"
    }
   ],
   "source": [
    "solve_a(data)"
   ]
  },
  {
   "cell_type": "code",
   "execution_count": 57,
   "id": "8ccf4869",
   "metadata": {},
   "outputs": [],
   "source": [
    "from collections import deque"
   ]
  },
  {
   "cell_type": "code",
   "execution_count": 146,
   "id": "2e7b84c1",
   "metadata": {},
   "outputs": [],
   "source": [
    "def solve_b(program):\n",
    "    vals = [0, 0]\n",
    "    def run_replica(program, qin, qout, id_):\n",
    "        regs = defaultdict(int)\n",
    "        regs['p'] = id_\n",
    "        ip = 0\n",
    "        while True:\n",
    "            instr, *args = program[ip]\n",
    "            a = args[0]\n",
    "            A = regs[a] if a.isalpha() else int(a)\n",
    "            if len(args) > 1:\n",
    "                b = args[1]\n",
    "                B = regs[b] if b.isalpha() else int(b)\n",
    "            ip += 1\n",
    "            if instr == 'snd':\n",
    "                vals[id_] += 1\n",
    "                qout.append(A)\n",
    "                continue\n",
    "            elif instr == 'rcv':\n",
    "                if len(qin) > 0:\n",
    "                    regs[a] = qin.popleft()\n",
    "                    continue\n",
    "                else:\n",
    "                    ip -= 1\n",
    "                    yield\n",
    "            if instr == 'jgz':\n",
    "                if A > 0:\n",
    "                    ip += (B-1)\n",
    "                    continue\n",
    "            elif instr == 'set':\n",
    "                regs[a] = B\n",
    "            elif instr == 'add':\n",
    "                regs[a] += B\n",
    "            elif instr == 'mul':\n",
    "                regs[a] *= B\n",
    "            elif instr == 'mod':\n",
    "                regs[a] %= B\n",
    "\n",
    "    q0, q1 = deque(), deque()\n",
    "    r0 = run_replica(program, q0, q1, 0)\n",
    "    r1 = run_replica(program, q1, q0, 1)\n",
    "    \n",
    "    while True:\n",
    "        next(r0)\n",
    "        next(r1)\n",
    "        if len(q0) == 0 and len(q1) == 0:\n",
    "            return vals[1]"
   ]
  },
  {
   "cell_type": "code",
   "execution_count": 147,
   "id": "bf3c96a9",
   "metadata": {},
   "outputs": [
    {
     "data": {
      "text/plain": [
       "True"
      ]
     },
     "execution_count": 147,
     "metadata": {},
     "output_type": "execute_result"
    }
   ],
   "source": [
    "'a'.isalpha()"
   ]
  },
  {
   "cell_type": "code",
   "execution_count": 148,
   "id": "aad50ef3",
   "metadata": {},
   "outputs": [],
   "source": [
    "sample = parses(\"\"\"snd 1\n",
    "snd 2\n",
    "snd p\n",
    "rcv a\n",
    "rcv b\n",
    "rcv c\n",
    "rcv d\n",
    "\"\"\")"
   ]
  },
  {
   "cell_type": "code",
   "execution_count": 149,
   "id": "fa34b355",
   "metadata": {},
   "outputs": [
    {
     "data": {
      "text/plain": [
       "3"
      ]
     },
     "execution_count": 149,
     "metadata": {},
     "output_type": "execute_result"
    }
   ],
   "source": [
    "solve_b(sample)"
   ]
  },
  {
   "cell_type": "code",
   "execution_count": 150,
   "id": "fd0835f4",
   "metadata": {},
   "outputs": [
    {
     "data": {
      "text/plain": [
       "7239"
      ]
     },
     "execution_count": 150,
     "metadata": {},
     "output_type": "execute_result"
    }
   ],
   "source": [
    "solve_b(data)"
   ]
  },
  {
   "cell_type": "code",
   "execution_count": null,
   "id": "978fccbc",
   "metadata": {},
   "outputs": [],
   "source": []
  },
  {
   "cell_type": "code",
   "execution_count": null,
   "id": "524f7f5a",
   "metadata": {},
   "outputs": [],
   "source": []
  }
 ],
 "metadata": {
  "kernelspec": {
   "display_name": "Python 3",
   "language": "python",
   "name": "python3"
  },
  "language_info": {
   "codemirror_mode": {
    "name": "ipython",
    "version": 3
   },
   "file_extension": ".py",
   "mimetype": "text/x-python",
   "name": "python",
   "nbconvert_exporter": "python",
   "pygments_lexer": "ipython3",
   "version": "3.8.8"
  }
 },
 "nbformat": 4,
 "nbformat_minor": 5
}
