{
 "cells": [
  {
   "cell_type": "code",
   "execution_count": 8,
   "id": "a9f26da0",
   "metadata": {},
   "outputs": [],
   "source": [
    "import parse"
   ]
  },
  {
   "cell_type": "code",
   "execution_count": 9,
   "id": "adb46b68",
   "metadata": {},
   "outputs": [],
   "source": [
    "from aocd.models import Puzzle\n",
    "\n",
    "def parses(text):\n",
    "    return [parse.parse('{:d}/{:d}', line).fixed for line in text.strip().split('\\n')]\n",
    "\n",
    "puzzle = Puzzle(year=2017, day=24)\n",
    "data = parses(puzzle.input_data)"
   ]
  },
  {
   "cell_type": "code",
   "execution_count": 11,
   "id": "5d112dfe",
   "metadata": {},
   "outputs": [],
   "source": [
    "sample = parses(\"\"\"0/2\n",
    "2/2\n",
    "2/3\n",
    "3/4\n",
    "3/5\n",
    "0/1\n",
    "10/1\n",
    "9/10\"\"\")"
   ]
  },
  {
   "cell_type": "code",
   "execution_count": null,
   "id": "9ec80268",
   "metadata": {},
   "outputs": [],
   "source": []
  },
  {
   "cell_type": "code",
   "execution_count": 20,
   "id": "3bfc4ee2",
   "metadata": {},
   "outputs": [],
   "source": [
    "def solve(data, part='a'):\n",
    "    graph = defaultdict(list)\n",
    "    \n",
    "    for src, dst in data:\n",
    "        graph[src].append(dst)\n",
    "        graph[dst].append(src)\n",
    "            \n",
    "    stack = [(0,0,0,set())]\n",
    "    max_ = 0 if part == 'a' else (0,0)\n",
    "    \n",
    "    while stack:\n",
    "        val, length, src, visited = stack.pop()\n",
    "        deadend = True\n",
    "        for dst in graph[src]:\n",
    "            edge = (min(src,dst), max(src,dst))\n",
    "            if edge not in visited:\n",
    "                new_visited = visited | set([edge])\n",
    "                new_val = val + src + dst\n",
    "                stack.append((new_val, length+1, dst, new_visited))\n",
    "                deadend = False\n",
    "        if deadend:\n",
    "            val = val if part == 'a' else (length, val)\n",
    "            max_ = max(max_, val)\n",
    "    return max_ if part == 'a' else max_[1]"
   ]
  },
  {
   "cell_type": "code",
   "execution_count": 21,
   "id": "7235d20d",
   "metadata": {},
   "outputs": [
    {
     "data": {
      "text/plain": [
       "1511"
      ]
     },
     "execution_count": 21,
     "metadata": {},
     "output_type": "execute_result"
    }
   ],
   "source": [
    "solve(data, 'a')"
   ]
  },
  {
   "cell_type": "code",
   "execution_count": 22,
   "id": "c124f798",
   "metadata": {},
   "outputs": [
    {
     "data": {
      "text/plain": [
       "1471"
      ]
     },
     "execution_count": 22,
     "metadata": {},
     "output_type": "execute_result"
    }
   ],
   "source": [
    "solve(data, 'b')"
   ]
  },
  {
   "cell_type": "code",
   "execution_count": null,
   "id": "c9cb9942",
   "metadata": {},
   "outputs": [],
   "source": []
  },
  {
   "cell_type": "code",
   "execution_count": 12,
   "id": "d2b2a9e0",
   "metadata": {},
   "outputs": [],
   "source": [
    "def solve_a(data):\n",
    "    graph = defaultdict(list)\n",
    "    \n",
    "    for src, dst in data:\n",
    "        graph[src].append(dst)\n",
    "        graph[dst].append(src)\n",
    "        \n",
    "#     print(graph)\n",
    "    \n",
    "    heap = [(0,0,set())]\n",
    "    max_ = 0\n",
    "    \n",
    "    while heap:\n",
    "        val, src, visited = heap.pop() #heappop(heap)\n",
    "#         print(val, visited)\n",
    "        deadend = True\n",
    "        for dst in graph[src]:\n",
    "            edge = (min(src,dst), max(src,dst))\n",
    "            if edge not in visited:\n",
    "                new_visited = visited | set([edge])\n",
    "                new_val = val + src + dst\n",
    "                heap.append((new_val, dst, new_visited))\n",
    "                deadend = False\n",
    "        if deadend:\n",
    "#             print(visited)\n",
    "            max_ = max(max_, val)\n",
    "    return max_"
   ]
  },
  {
   "cell_type": "code",
   "execution_count": 13,
   "id": "80284b37",
   "metadata": {},
   "outputs": [
    {
     "data": {
      "text/plain": [
       "31"
      ]
     },
     "execution_count": 13,
     "metadata": {},
     "output_type": "execute_result"
    }
   ],
   "source": [
    "solve_a(sample)"
   ]
  },
  {
   "cell_type": "code",
   "execution_count": 14,
   "id": "c75842ce",
   "metadata": {},
   "outputs": [
    {
     "data": {
      "text/plain": [
       "1511"
      ]
     },
     "execution_count": 14,
     "metadata": {},
     "output_type": "execute_result"
    }
   ],
   "source": [
    "solve_a(data)"
   ]
  },
  {
   "cell_type": "code",
   "execution_count": 15,
   "id": "9c8698a7",
   "metadata": {},
   "outputs": [],
   "source": [
    "def solve_b(data):\n",
    "    graph = defaultdict(list)\n",
    "    \n",
    "    for src, dst in data:\n",
    "        graph[src].append(dst)\n",
    "        graph[dst].append(src)\n",
    "        \n",
    "#     print(graph)\n",
    "    \n",
    "    heap = [(0,0,0,set())]\n",
    "    max_ = (0,0)\n",
    "    \n",
    "    while heap:\n",
    "        val, length, src, visited = heap.pop() #heappop(heap)\n",
    "#         print(val, visited)\n",
    "        deadend = True\n",
    "        for dst in graph[src]:\n",
    "            edge = (min(src,dst), max(src,dst))\n",
    "            if edge not in visited:\n",
    "                new_visited = visited | set([edge])\n",
    "                new_val = val + src + dst\n",
    "                heap.append((new_val, length+1, dst, new_visited))\n",
    "                deadend = False\n",
    "        if deadend:\n",
    "#             print(visited)\n",
    "            max_ = max(max_, (length, val))\n",
    "    return max_[1]"
   ]
  },
  {
   "cell_type": "code",
   "execution_count": 39,
   "id": "41f30440",
   "metadata": {},
   "outputs": [
    {
     "data": {
      "text/plain": [
       "19"
      ]
     },
     "execution_count": 39,
     "metadata": {},
     "output_type": "execute_result"
    }
   ],
   "source": [
    "solve_b(sample)"
   ]
  },
  {
   "cell_type": "code",
   "execution_count": 40,
   "id": "e5404ea2",
   "metadata": {},
   "outputs": [
    {
     "data": {
      "text/plain": [
       "1471"
      ]
     },
     "execution_count": 40,
     "metadata": {},
     "output_type": "execute_result"
    }
   ],
   "source": [
    "solve_b(data)"
   ]
  },
  {
   "cell_type": "code",
   "execution_count": null,
   "id": "c8fa13d8",
   "metadata": {},
   "outputs": [],
   "source": []
  },
  {
   "cell_type": "code",
   "execution_count": null,
   "id": "6eac5f70",
   "metadata": {},
   "outputs": [],
   "source": []
  },
  {
   "cell_type": "code",
   "execution_count": null,
   "id": "385ce96d",
   "metadata": {},
   "outputs": [],
   "source": []
  },
  {
   "cell_type": "code",
   "execution_count": null,
   "id": "f294224b",
   "metadata": {},
   "outputs": [],
   "source": []
  },
  {
   "cell_type": "code",
   "execution_count": 5,
   "id": "f6d058dd",
   "metadata": {},
   "outputs": [],
   "source": [
    "def gen_bridges(bridge, components):\n",
    "    bridge = bridge or [(0, 0)]\n",
    "    cur = bridge[-1][1]\n",
    "    for b in components[cur]:\n",
    "        if not ((cur, b) in bridge or (b, cur) in bridge):\n",
    "            new = bridge+[(cur, b)]\n",
    "            yield new\n",
    "            yield from gen_bridges(new, components)\n",
    "\n",
    "def parse_components(input):\n",
    "    components = defaultdict(set)\n",
    "    for l in input.strip().splitlines():\n",
    "        a, b = [int(x) for x in l.split('/')]\n",
    "        components[a].add(b)\n",
    "        components[b].add(a)\n",
    "    return components\n",
    "\n",
    "def solve(input):\n",
    "    components = parse_components(input)\n",
    "    mx = []\n",
    "    for bridge in gen_bridges(None, components):\n",
    "        mx.append((len(bridge), sum(a+b for a, b in bridge)))\n",
    "    return mx\n",
    "\n",
    "solution = solve(puzzle.input_data)\n",
    "part1 = sorted(solution, key=lambda x: x[1])[-1][1]\n",
    "part2 = sorted(solution)[-1][1]"
   ]
  },
  {
   "cell_type": "code",
   "execution_count": 6,
   "id": "1b50f167",
   "metadata": {},
   "outputs": [
    {
     "data": {
      "text/plain": [
       "1511"
      ]
     },
     "execution_count": 6,
     "metadata": {},
     "output_type": "execute_result"
    }
   ],
   "source": [
    "part1"
   ]
  },
  {
   "cell_type": "code",
   "execution_count": 7,
   "id": "7faa414d",
   "metadata": {},
   "outputs": [
    {
     "data": {
      "text/plain": [
       "1471"
      ]
     },
     "execution_count": 7,
     "metadata": {},
     "output_type": "execute_result"
    }
   ],
   "source": [
    "part2"
   ]
  },
  {
   "cell_type": "code",
   "execution_count": null,
   "id": "de05bbe9",
   "metadata": {},
   "outputs": [],
   "source": []
  }
 ],
 "metadata": {
  "kernelspec": {
   "display_name": "Python 3",
   "language": "python",
   "name": "python3"
  },
  "language_info": {
   "codemirror_mode": {
    "name": "ipython",
    "version": 3
   },
   "file_extension": ".py",
   "mimetype": "text/x-python",
   "name": "python",
   "nbconvert_exporter": "python",
   "pygments_lexer": "ipython3",
   "version": "3.8.8"
  }
 },
 "nbformat": 4,
 "nbformat_minor": 5
}
