{
 "cells": [
  {
   "cell_type": "code",
   "execution_count": 61,
   "metadata": {
    "ExecuteTime": {
     "end_time": "2018-10-26T20:36:54.442013Z",
     "start_time": "2018-10-26T20:36:54.437004Z"
    }
   },
   "outputs": [],
   "source": [
    "with open('input.txt', 'r') as f:\n",
    "    puzzle = f.read().strip()\n",
    "    puzzle_n = [int(i) for i in puzzle.split(',')]"
   ]
  },
  {
   "cell_type": "code",
   "execution_count": 52,
   "metadata": {
    "ExecuteTime": {
     "end_time": "2018-10-26T20:35:14.747359Z",
     "start_time": "2018-10-26T20:35:14.738255Z"
    }
   },
   "outputs": [],
   "source": [
    "def swap(array, start, length):\n",
    "    N = len(array)\n",
    "    end = (start + length - 1) % N\n",
    "    for i in range(length//2):\n",
    "        j = (start + i) % N\n",
    "        k = (end - i) % N\n",
    "        array[j], array[k] = array[k], array[j]\n",
    "    return array"
   ]
  },
  {
   "cell_type": "code",
   "execution_count": 53,
   "metadata": {
    "ExecuteTime": {
     "end_time": "2018-10-26T20:35:14.918862Z",
     "start_time": "2018-10-26T20:35:14.914840Z"
    }
   },
   "outputs": [
    {
     "data": {
      "text/plain": [
       "[1, 0, 4, 3, 2]"
      ]
     },
     "execution_count": 53,
     "metadata": {},
     "output_type": "execute_result"
    }
   ],
   "source": [
    "swap(list(range(5)), 1,5)"
   ]
  },
  {
   "cell_type": "code",
   "execution_count": 58,
   "metadata": {
    "ExecuteTime": {
     "end_time": "2018-10-26T20:36:14.721340Z",
     "start_time": "2018-10-26T20:36:14.714168Z"
    }
   },
   "outputs": [],
   "source": [
    "def single_knot_hash(N, seq):\n",
    "    skip = 0 \n",
    "    pos = 0\n",
    "    array = list(range(N))\n",
    "    for size in seq:\n",
    "        swap(array, pos, size)\n",
    "        pos += size + skip\n",
    "        skip += 1\n",
    "    return array[0]*array[1]\n",
    "    "
   ]
  },
  {
   "cell_type": "code",
   "execution_count": 59,
   "metadata": {
    "ExecuteTime": {
     "end_time": "2018-10-26T20:36:15.861552Z",
     "start_time": "2018-10-26T20:36:15.856903Z"
    }
   },
   "outputs": [
    {
     "data": {
      "text/plain": [
       "12"
      ]
     },
     "execution_count": 59,
     "metadata": {},
     "output_type": "execute_result"
    }
   ],
   "source": [
    "single_knot_hash(5, [3,4,1,5])"
   ]
  },
  {
   "cell_type": "code",
   "execution_count": 62,
   "metadata": {
    "ExecuteTime": {
     "end_time": "2018-10-26T20:36:59.091190Z",
     "start_time": "2018-10-26T20:36:59.086590Z"
    }
   },
   "outputs": [
    {
     "data": {
      "text/plain": [
       "23715"
      ]
     },
     "execution_count": 62,
     "metadata": {},
     "output_type": "execute_result"
    }
   ],
   "source": [
    "single_knot_hash(256, puzzle_n)"
   ]
  },
  {
   "cell_type": "markdown",
   "metadata": {},
   "source": [
    "## P10.2"
   ]
  },
  {
   "cell_type": "code",
   "execution_count": 63,
   "metadata": {
    "ExecuteTime": {
     "end_time": "2018-10-26T20:37:39.087641Z",
     "start_time": "2018-10-26T20:37:39.084164Z"
    }
   },
   "outputs": [],
   "source": [
    "def str_to_255(s):\n",
    "    return [ord(i) for i in s]"
   ]
  },
  {
   "cell_type": "code",
   "execution_count": 65,
   "metadata": {
    "ExecuteTime": {
     "end_time": "2018-10-26T20:37:58.337375Z",
     "start_time": "2018-10-26T20:37:58.332140Z"
    }
   },
   "outputs": [
    {
     "data": {
      "text/plain": [
       "[49, 44, 50, 44, 51]"
      ]
     },
     "execution_count": 65,
     "metadata": {},
     "output_type": "execute_result"
    }
   ],
   "source": [
    "str_to_255('1,2,3')"
   ]
  },
  {
   "cell_type": "code",
   "execution_count": 67,
   "metadata": {
    "ExecuteTime": {
     "end_time": "2018-10-26T20:41:22.375909Z",
     "start_time": "2018-10-26T20:41:22.368764Z"
    }
   },
   "outputs": [],
   "source": [
    "def single_round(array, seq):\n",
    "    skip = 0 \n",
    "    pos = 0\n",
    "    for size in seq:\n",
    "        swap(array, pos, size)\n",
    "        pos += size + skip\n",
    "        skip += 1\n",
    "    return array"
   ]
  },
  {
   "cell_type": "code",
   "execution_count": 69,
   "metadata": {
    "ExecuteTime": {
     "end_time": "2018-10-26T20:42:33.609097Z",
     "start_time": "2018-10-26T20:42:33.606844Z"
    }
   },
   "outputs": [],
   "source": [
    "from functools import reduce"
   ]
  },
  {
   "cell_type": "code",
   "execution_count": 98,
   "metadata": {
    "ExecuteTime": {
     "end_time": "2018-10-26T20:54:16.924966Z",
     "start_time": "2018-10-26T20:54:16.911497Z"
    }
   },
   "outputs": [],
   "source": [
    "def knot_hash(string):\n",
    "    seq = str_to_255(string)\n",
    "    array = list(range(256))\n",
    "    suffix = [17, 31, 73, 47, 23]\n",
    "    seq += suffix\n",
    "\n",
    "    skip = 0 \n",
    "    pos = 0\n",
    "    \n",
    "    for i in range(64):\n",
    "        for size in seq:\n",
    "            swap(array, pos, size)\n",
    "            pos += size + skip\n",
    "            skip += 1\n",
    "    \n",
    "    xors = [reduce(lambda a,b: a^b, array[16*i:16*(i+1)]) for i in range(16)]\n",
    "    out = \"\".join(f\"{x:02x}\" for x in xors)\n",
    "\n",
    "    return out\n",
    "    "
   ]
  },
  {
   "cell_type": "code",
   "execution_count": 99,
   "metadata": {
    "ExecuteTime": {
     "end_time": "2018-10-26T20:54:17.403286Z",
     "start_time": "2018-10-26T20:54:17.398350Z"
    }
   },
   "outputs": [
    {
     "name": "stdout",
     "output_type": "stream",
     "text": [
      "[17, 31, 73, 47, 23]\n",
      "[16, 15, 14, 13, 12, 11, 10, 9, 8, 7, 6, 5, 4, 3, 2, 1, 0, 47, 46, 45, 44, 43, 42, 41, 40, 39, 38, 37, 36, 35, 34, 33, 32, 31, 30, 29, 28, 27, 26, 25, 24, 23, 22, 21, 20, 19, 18, 17, 48, 121, 120, 119, 118, 117, 116, 115, 114, 113, 112, 111, 110, 109, 108, 107, 106, 105, 104, 103, 102, 101, 100, 99, 98, 97, 96, 95, 94, 93, 92, 91, 90, 89, 88, 87, 86, 85, 84, 83, 82, 81, 80, 79, 78, 77, 76, 75, 74, 73, 72, 71, 70, 69, 68, 67, 66, 65, 64, 63, 62, 61, 60, 59, 58, 57, 56, 55, 54, 53, 52, 51, 50, 49, 122, 123, 170, 169, 168, 167, 166, 165, 164, 163, 162, 161, 160, 159, 158, 157, 156, 155, 154, 153, 152, 151, 150, 149, 148, 147, 146, 145, 144, 143, 142, 141, 140, 139, 138, 137, 136, 135, 134, 133, 132, 131, 130, 129, 128, 127, 126, 125, 124, 171, 172, 173, 196, 195, 194, 193, 192, 191, 190, 189, 188, 187, 186, 185, 184, 183, 182, 181, 180, 179, 178, 177, 176, 175, 174, 197, 198, 199, 200, 201, 202, 203, 204, 205, 206, 207, 208, 209, 210, 211, 212, 213, 214, 215, 216, 217, 218, 219, 220, 221, 222, 223, 224, 225, 226, 227, 228, 229, 230, 231, 232, 233, 234, 235, 236, 237, 238, 239, 240, 241, 242, 243, 244, 245, 246, 247, 248, 249, 250, 251, 252, 253, 254, 255]\n"
     ]
    },
    {
     "data": {
      "text/plain": [
       "'1020305a3010700630102a7076000000'"
      ]
     },
     "execution_count": 99,
     "metadata": {},
     "output_type": "execute_result"
    }
   ],
   "source": [
    "knot_hash(\"\")"
   ]
  },
  {
   "cell_type": "code",
   "execution_count": null,
   "metadata": {},
   "outputs": [],
   "source": []
  },
  {
   "cell_type": "code",
   "execution_count": 89,
   "metadata": {
    "ExecuteTime": {
     "end_time": "2018-10-26T20:49:05.811441Z",
     "start_time": "2018-10-26T20:49:05.800702Z"
    }
   },
   "outputs": [
    {
     "data": {
      "text/plain": [
       "'00'"
      ]
     },
     "execution_count": 89,
     "metadata": {},
     "output_type": "execute_result"
    }
   ],
   "source": [
    "a = 0 \n",
    "f\"{0:02x}\""
   ]
  },
  {
   "cell_type": "code",
   "execution_count": null,
   "metadata": {},
   "outputs": [],
   "source": []
  },
  {
   "cell_type": "code",
   "execution_count": null,
   "metadata": {},
   "outputs": [],
   "source": []
  }
 ],
 "metadata": {
  "kernelspec": {
   "display_name": "Python 3",
   "language": "python",
   "name": "python3"
  },
  "language_info": {
   "codemirror_mode": {
    "name": "ipython",
    "version": 3
   },
   "file_extension": ".py",
   "mimetype": "text/x-python",
   "name": "python",
   "nbconvert_exporter": "python",
   "pygments_lexer": "ipython3",
   "version": "3.6.4"
  },
  "toc": {
   "nav_menu": {},
   "number_sections": true,
   "sideBar": true,
   "skip_h1_title": false,
   "title_cell": "Table of Contents",
   "title_sidebar": "Contents",
   "toc_cell": false,
   "toc_position": {},
   "toc_section_display": true,
   "toc_window_display": false
  },
  "varInspector": {
   "cols": {
    "lenName": 16,
    "lenType": 16,
    "lenVar": 40
   },
   "kernels_config": {
    "python": {
     "delete_cmd_postfix": "",
     "delete_cmd_prefix": "del ",
     "library": "var_list.py",
     "varRefreshCmd": "print(var_dic_list())"
    },
    "r": {
     "delete_cmd_postfix": ") ",
     "delete_cmd_prefix": "rm(",
     "library": "var_list.r",
     "varRefreshCmd": "cat(var_dic_list()) "
    }
   },
   "types_to_exclude": [
    "module",
    "function",
    "builtin_function_or_method",
    "instance",
    "_Feature"
   ],
   "window_display": false
  }
 },
 "nbformat": 4,
 "nbformat_minor": 2
}
