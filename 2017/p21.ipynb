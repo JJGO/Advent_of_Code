{
 "cells": [
  {
   "cell_type": "code",
   "execution_count": 4,
   "id": "baa936fc",
   "metadata": {},
   "outputs": [],
   "source": [
    "from aocd.models import Puzzle\n",
    "\n",
    "def parses(text):\n",
    "    def parse_arr(s):\n",
    "        arr = []\n",
    "        for row in s.split('/'):\n",
    "            arr.append([v == '#' for v in row])\n",
    "        return np.array(arr, dtype=np.uint8)\n",
    "    lines = [line.split(' => ') for line in text.strip().split('\\n')]\n",
    "    return [(parse_arr(i), parse_arr(j)) for i, j in lines]\n",
    "\n",
    "puzzle = Puzzle(year=2017, day=21)\n",
    "data = parses(puzzle.input_data)"
   ]
  },
  {
   "cell_type": "code",
   "execution_count": 5,
   "id": "a514dbfa",
   "metadata": {},
   "outputs": [],
   "source": [
    "    sample = parses(\"\"\"../.# => ##./#../...\n",
    "    .#./..#/### => #..#/..../..../#..#\"\"\")"
   ]
  },
  {
   "cell_type": "code",
   "execution_count": 6,
   "id": "d034bb07",
   "metadata": {},
   "outputs": [],
   "source": [
    "def transformations(arr):\n",
    "    orientations = []\n",
    "    for x in (arr, np.fliplr(arr)):\n",
    "        for k in range(4):\n",
    "            orientations.append(np.rot90(x, k))\n",
    "    return orientations\n",
    "\n",
    "def rothash(arr):\n",
    "    return sum([hash(t.tobytes()) for t in transformations(arr)])"
   ]
  },
  {
   "cell_type": "code",
   "execution_count": 12,
   "id": "50d17e41",
   "metadata": {},
   "outputs": [],
   "source": [
    "from einops import rearrange"
   ]
  },
  {
   "cell_type": "code",
   "execution_count": 13,
   "id": "bd780fc6",
   "metadata": {},
   "outputs": [],
   "source": [
    "def solve_a(data, steps):\n",
    "    mapping = {}\n",
    "    tile = np.array([[0,1,0],[0,0,1],[1,1,1]], dtype=np.uint8)\n",
    "    \n",
    "    for a, b in data:\n",
    "        mapping[rothash(a)] = b\n",
    "    \n",
    "    for i in range(steps):\n",
    "        N = len(tile)\n",
    "        k = 2 if N % 2 == 0 else 3\n",
    "        tiles = rearrange(tile, '(h h1) (w w1) -> h w h1 w1', h1=k, w1=k)\n",
    "        transformed_tiles = np.array([[mapping[rothash(tile)] for tile in row] for row in tiles])\n",
    "        tile = rearrange(transformed_tiles, 'h w h1 w1 -> (h h1) (w w1)')\n",
    "#         print(tile.sum())\n",
    "        print(tile.shape)\n",
    "#         render(tile)\n",
    "    \n",
    "    return tile.sum()"
   ]
  },
  {
   "cell_type": "code",
   "execution_count": null,
   "id": "9e91406c",
   "metadata": {},
   "outputs": [],
   "source": []
  },
  {
   "cell_type": "code",
   "execution_count": 14,
   "id": "e5e1028d",
   "metadata": {},
   "outputs": [],
   "source": [
    "def render(arr):\n",
    "    s = ''\n",
    "    for row in arr:\n",
    "        for x in row:\n",
    "            s += '#' if x else '.'\n",
    "        s += '\\n'\n",
    "    print(s)"
   ]
  },
  {
   "cell_type": "code",
   "execution_count": 15,
   "id": "8897026b",
   "metadata": {},
   "outputs": [
    {
     "name": "stdout",
     "output_type": "stream",
     "text": [
      "(4, 4)\n",
      "(6, 6)\n"
     ]
    },
    {
     "data": {
      "text/plain": [
       "12"
      ]
     },
     "execution_count": 15,
     "metadata": {},
     "output_type": "execute_result"
    }
   ],
   "source": [
    "solve_a(sample, 2)"
   ]
  },
  {
   "cell_type": "code",
   "execution_count": 17,
   "id": "123c9258",
   "metadata": {},
   "outputs": [
    {
     "name": "stdout",
     "output_type": "stream",
     "text": [
      "(4, 4)\n",
      "(6, 6)\n",
      "(9, 9)\n",
      "(12, 12)\n",
      "(18, 18)\n",
      "(27, 27)\n"
     ]
    },
    {
     "data": {
      "text/plain": [
       "299"
      ]
     },
     "execution_count": 17,
     "metadata": {},
     "output_type": "execute_result"
    }
   ],
   "source": [
    "solve_a(data, 6)"
   ]
  },
  {
   "cell_type": "code",
   "execution_count": 71,
   "id": "8c29d24e",
   "metadata": {},
   "outputs": [],
   "source": [
    "def solve_b(data, steps):\n",
    "    assert steps % 3 == 0\n",
    "    mapping = {}\n",
    "    \n",
    "    for a, b in data:\n",
    "        mapping[rothash(a)] = b\n",
    "        \n",
    "    counts = {}\n",
    "    sums = {}\n",
    "    for tile, _ in data:\n",
    "        if tile.shape == (3,3):\n",
    "            sums[rothash(tile)] = int(tile.sum())\n",
    "            tile_4x4 = mapping[rothash(tile)]\n",
    "            tiles_4_2x2 = rearrange(tile_4x4, '(h h1) (w w1) -> h w h1 w1', h1=2, w1=2)\n",
    "            tiles_4_3x3 = np.array([[mapping[rothash(tile)] for tile in row] for row in tiles_4_2x2])\n",
    "            tile_6x6 = rearrange(tiles_4_3x3, 'h w h1 w1 -> (h h1) (w w1)')\n",
    "            tiles_9_2x2 = rearrange(tile_6x6, '(h h1) (w w1) -> h w h1 w1', h1=2, w1=2)\n",
    "            tiles_9_3x3 = np.array([[mapping[rothash(tile)] for tile in row] for row in tiles_9_2x2])\n",
    "            counts[rothash(tile)] = Counter([rothash(t) for t in tiles_9_3x3.reshape(-1, 3, 3)])\n",
    "    \n",
    "    tile = np.array([[0,1,0],[0,0,1],[1,1,1]], dtype=np.uint8)\n",
    "    state = {rothash(tile): 1}\n",
    "    for i in range(steps//3):\n",
    "        new_state = defaultdict(int)\n",
    "        for tile, n in state.items():\n",
    "            for new_tile, m in counts[tile].items():\n",
    "                new_state[new_tile] += n * m\n",
    "        state = new_state\n",
    "    return sum([sums[t] * n for t, n in state.items()])"
   ]
  },
  {
   "cell_type": "code",
   "execution_count": 73,
   "id": "b10bc519",
   "metadata": {},
   "outputs": [
    {
     "data": {
      "text/plain": [
       "1984683"
      ]
     },
     "execution_count": 73,
     "metadata": {},
     "output_type": "execute_result"
    }
   ],
   "source": [
    "solve_b(data, 18)"
   ]
  },
  {
   "cell_type": "code",
   "execution_count": 48,
   "id": "443e4d7e",
   "metadata": {},
   "outputs": [
    {
     "data": {
      "text/plain": [
       "6.0"
      ]
     },
     "execution_count": 48,
     "metadata": {},
     "output_type": "execute_result"
    }
   ],
   "source": [
    "sum([1,2,3.])"
   ]
  },
  {
   "cell_type": "code",
   "execution_count": 101,
   "id": "aa57f9d9",
   "metadata": {},
   "outputs": [],
   "source": [
    "# for i in range(4):\n",
    "#     print(sum(sorted([hash(r.tobytes()) for r in transformations(np.rot90(x,i))])))"
   ]
  },
  {
   "cell_type": "code",
   "execution_count": 78,
   "id": "035c300b",
   "metadata": {},
   "outputs": [],
   "source": [
    "x = sample[0][1]"
   ]
  },
  {
   "cell_type": "code",
   "execution_count": 80,
   "id": "6fe77dd9",
   "metadata": {},
   "outputs": [],
   "source": [
    "# transformations(x)"
   ]
  },
  {
   "cell_type": "code",
   "execution_count": 61,
   "id": "9da26f83",
   "metadata": {},
   "outputs": [
    {
     "data": {
      "text/plain": [
       "array([[False, False],\n",
       "       [False,  True]])"
      ]
     },
     "execution_count": 61,
     "metadata": {},
     "output_type": "execute_result"
    }
   ],
   "source": [
    "sample[0][0]"
   ]
  },
  {
   "cell_type": "code",
   "execution_count": 62,
   "id": "3567beb5",
   "metadata": {},
   "outputs": [
    {
     "data": {
      "text/plain": [
       "array([[False, False],\n",
       "       [False,  True]])"
      ]
     },
     "execution_count": 62,
     "metadata": {},
     "output_type": "execute_result"
    }
   ],
   "source": [
    "np.rot90(sample[0][0], 0)"
   ]
  },
  {
   "cell_type": "code",
   "execution_count": 93,
   "id": "d83d61de",
   "metadata": {},
   "outputs": [
    {
     "data": {
      "text/plain": [
       "-4528512049455049600"
      ]
     },
     "execution_count": 93,
     "metadata": {},
     "output_type": "execute_result"
    }
   ],
   "source": [
    "rothash(np.rot90(x, 0))"
   ]
  },
  {
   "cell_type": "code",
   "execution_count": 94,
   "id": "d66ad9f5",
   "metadata": {},
   "outputs": [
    {
     "data": {
      "text/plain": [
       "-29083207993740643328"
      ]
     },
     "execution_count": 94,
     "metadata": {},
     "output_type": "execute_result"
    }
   ],
   "source": [
    "rothash(np.rot90(x, 1))"
   ]
  },
  {
   "cell_type": "code",
   "execution_count": 49,
   "id": "aacda7d3",
   "metadata": {},
   "outputs": [
    {
     "data": {
      "text/plain": [
       "[array([[False, False],\n",
       "        [False,  True]]),\n",
       " array([[False,  True],\n",
       "        [False, False]]),\n",
       " array([[ True, False],\n",
       "        [False, False]]),\n",
       " array([[False, False],\n",
       "        [ True, False]]),\n",
       " array([[False, False],\n",
       "        [ True, False]]),\n",
       " array([[False, False],\n",
       "        [False,  True]]),\n",
       " array([[False,  True],\n",
       "        [False, False]]),\n",
       " array([[ True, False],\n",
       "        [False, False]])]"
      ]
     },
     "execution_count": 49,
     "metadata": {},
     "output_type": "execute_result"
    }
   ],
   "source": [
    "orientations(sample[0][0])"
   ]
  },
  {
   "cell_type": "code",
   "execution_count": null,
   "id": "0c230adc",
   "metadata": {},
   "outputs": [],
   "source": []
  },
  {
   "cell_type": "code",
   "execution_count": 34,
   "id": "488ccb1a",
   "metadata": {},
   "outputs": [],
   "source": [
    "# class Tile:\n",
    "    \n",
    "#     def __init__(self, arr):\n",
    "#         self.arr = arr\n",
    "#         self.hash = self.compute_hash(self)\n",
    "        \n",
    "#     @property\n",
    "#     def orientations(self):\n",
    "#         orientations = []\n",
    "#         for x in (self.arr, np.fliplr(self.arr)):\n",
    "#             for k in range(3):\n",
    "#                 orientations.append(np.rot90(x, k))\n",
    "#         return orientations\n",
    "    \n",
    "#     def compute_hash(self):\n",
    "#         return hash((Tile._render(o) for o in self.orientations))\n",
    "\n",
    "#     @staticmethod\n",
    "#     def fromstr(s):\n",
    "#         arr = [[i]]\n",
    "#         return Tile(np.array(arr, dtype=bool))\n",
    "    \n",
    "#     def render(self):\n",
    "#         return Tile._render(self.arr)\n",
    "    \n",
    "#     @staticmethod\n",
    "#     def _render(arr):\n",
    "#         s = \"\"\n",
    "#         for row in arr:\n",
    "#             for val in row:\n",
    "#                 s += '.#'[val]\n",
    "#             s += '\\n'\n",
    "#         return s\n",
    "        \n",
    "#     def __hash__(self):\n",
    "#         return self.compute_hash()        "
   ]
  },
  {
   "cell_type": "code",
   "execution_count": null,
   "id": "ee352a4c",
   "metadata": {},
   "outputs": [],
   "source": []
  }
 ],
 "metadata": {
  "kernelspec": {
   "display_name": "Python 3",
   "language": "python",
   "name": "python3"
  },
  "language_info": {
   "codemirror_mode": {
    "name": "ipython",
    "version": 3
   },
   "file_extension": ".py",
   "mimetype": "text/x-python",
   "name": "python",
   "nbconvert_exporter": "python",
   "pygments_lexer": "ipython3",
   "version": "3.8.8"
  }
 },
 "nbformat": 4,
 "nbformat_minor": 5
}
