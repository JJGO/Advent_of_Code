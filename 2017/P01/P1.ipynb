{
 "cells": [
  {
   "cell_type": "code",
   "execution_count": 27,
   "metadata": {
    "ExecuteTime": {
     "end_time": "2018-10-18T20:22:03.678666Z",
     "start_time": "2018-10-18T20:22:03.674927Z"
    }
   },
   "outputs": [],
   "source": [
    "with open('input.txt', 'r') as f:\n",
    "    puzzle = f.read().strip()"
   ]
  },
  {
   "cell_type": "markdown",
   "metadata": {},
   "source": [
    "## P1.1"
   ]
  },
  {
   "cell_type": "code",
   "execution_count": 5,
   "metadata": {
    "ExecuteTime": {
     "end_time": "2018-10-18T20:14:35.550877Z",
     "start_time": "2018-10-18T20:14:35.547317Z"
    }
   },
   "outputs": [],
   "source": [
    "def captcha(s):\n",
    "    s = s + s[0]\n",
    "    return sum( int(i) if i == j else 0 for i,j in zip(s,s[1:]))"
   ]
  },
  {
   "cell_type": "code",
   "execution_count": 15,
   "metadata": {
    "ExecuteTime": {
     "end_time": "2018-10-18T20:17:34.057927Z",
     "start_time": "2018-10-18T20:17:34.053479Z"
    }
   },
   "outputs": [
    {
     "name": "stdout",
     "output_type": "stream",
     "text": [
      "1122 3\n",
      "1111 4\n",
      "1234 0\n",
      "91212129 9\n"
     ]
    }
   ],
   "source": [
    "for s in [\"1122\", \"1111\", \"1234\", \"91212129\"]:\n",
    "    print(s, captcha(s))"
   ]
  },
  {
   "cell_type": "code",
   "execution_count": 25,
   "metadata": {
    "ExecuteTime": {
     "end_time": "2018-10-18T20:21:48.053320Z",
     "start_time": "2018-10-18T20:21:48.047444Z"
    }
   },
   "outputs": [
    {
     "data": {
      "text/plain": [
       "1216"
      ]
     },
     "execution_count": 25,
     "metadata": {},
     "output_type": "execute_result"
    }
   ],
   "source": [
    "\n",
    "captcha(puzzle)"
   ]
  },
  {
   "cell_type": "markdown",
   "metadata": {},
   "source": [
    "## P1.2"
   ]
  },
  {
   "cell_type": "code",
   "execution_count": 28,
   "metadata": {
    "ExecuteTime": {
     "end_time": "2018-10-18T20:22:37.290228Z",
     "start_time": "2018-10-18T20:22:37.286076Z"
    }
   },
   "outputs": [],
   "source": [
    "def captcha2(s):\n",
    "    op = (s+s)[len(s)//2:]\n",
    "    return sum( int(i) if i == j else 0 for i,j in zip(s,op))"
   ]
  },
  {
   "cell_type": "code",
   "execution_count": 29,
   "metadata": {
    "ExecuteTime": {
     "end_time": "2018-10-18T20:22:37.846668Z",
     "start_time": "2018-10-18T20:22:37.840839Z"
    }
   },
   "outputs": [
    {
     "name": "stdout",
     "output_type": "stream",
     "text": [
      "1212 6\n",
      "1221 0\n",
      "123425 4\n",
      "123123 12\n",
      "12131415 4\n"
     ]
    }
   ],
   "source": [
    "for s in [\"1212\", \"1221\", \"123425\", \"123123\", \"12131415\"]:\n",
    "    print(s, captcha2(s))"
   ]
  },
  {
   "cell_type": "code",
   "execution_count": 30,
   "metadata": {
    "ExecuteTime": {
     "end_time": "2018-10-18T20:22:38.336027Z",
     "start_time": "2018-10-18T20:22:38.331315Z"
    }
   },
   "outputs": [
    {
     "data": {
      "text/plain": [
       "1072"
      ]
     },
     "execution_count": 30,
     "metadata": {},
     "output_type": "execute_result"
    }
   ],
   "source": [
    "captcha2(puzzle)"
   ]
  },
  {
   "cell_type": "code",
   "execution_count": null,
   "metadata": {},
   "outputs": [],
   "source": []
  }
 ],
 "metadata": {
  "kernelspec": {
   "display_name": "Python 3",
   "language": "python",
   "name": "python3"
  },
  "language_info": {
   "codemirror_mode": {
    "name": "ipython",
    "version": 3
   },
   "file_extension": ".py",
   "mimetype": "text/x-python",
   "name": "python",
   "nbconvert_exporter": "python",
   "pygments_lexer": "ipython3",
   "version": "3.6.4"
  },
  "toc": {
   "nav_menu": {},
   "number_sections": true,
   "sideBar": true,
   "skip_h1_title": false,
   "title_cell": "Table of Contents",
   "title_sidebar": "Contents",
   "toc_cell": false,
   "toc_position": {},
   "toc_section_display": true,
   "toc_window_display": false
  },
  "varInspector": {
   "cols": {
    "lenName": 16,
    "lenType": 16,
    "lenVar": 40
   },
   "kernels_config": {
    "python": {
     "delete_cmd_postfix": "",
     "delete_cmd_prefix": "del ",
     "library": "var_list.py",
     "varRefreshCmd": "print(var_dic_list())"
    },
    "r": {
     "delete_cmd_postfix": ") ",
     "delete_cmd_prefix": "rm(",
     "library": "var_list.r",
     "varRefreshCmd": "cat(var_dic_list()) "
    }
   },
   "types_to_exclude": [
    "module",
    "function",
    "builtin_function_or_method",
    "instance",
    "_Feature"
   ],
   "window_display": false
  }
 },
 "nbformat": 4,
 "nbformat_minor": 2
}
