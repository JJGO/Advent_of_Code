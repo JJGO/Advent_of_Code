{
 "cells": [
  {
   "cell_type": "code",
   "execution_count": 4,
   "id": "a9f26da0",
   "metadata": {},
   "outputs": [],
   "source": [
    "import parse"
   ]
  },
  {
   "cell_type": "code",
   "execution_count": 20,
   "id": "adb46b68",
   "metadata": {},
   "outputs": [],
   "source": [
    "from aocd.models import Puzzle\n",
    "\n",
    "\n",
    "\n",
    "def parses(text):\n",
    "    \n",
    "    initial = parse.search('Begin in state {}.', text).fixed[0]\n",
    "    steps = parse.search('Perform a diagnostic checksum after {:d} steps.', text).fixed[0]\n",
    "    DIRS = {'right': 1, 'left': -1}\n",
    "    states = {}\n",
    "    for block in text.split('\\n\\n')[1:]:\n",
    "        lines = block.split('\\n')\n",
    "        s = lines[0][-2]\n",
    "        \n",
    "        v0 = int(lines[2].strip('.').split(' ')[-1])\n",
    "        m0 = DIRS[lines[3].strip('.').split(' ')[-1]]\n",
    "        to0 = lines[4].strip('.').split(' ')[-1]\n",
    "        \n",
    "        v1 = int(lines[6].strip('.').split(' ')[-1])\n",
    "        m1 = DIRS[lines[7].strip('.').split(' ')[-1]]\n",
    "        to1 = lines[8].strip('.').split(' ')[-1]\n",
    "        \n",
    "        states[s] = [(v0, m0, to0), (v1, m1, to1)]\n",
    "    return initial, states, steps\n",
    "    \n",
    "\n",
    "puzzle = Puzzle(year=2017, day=25)\n",
    "data = parses(puzzle.input_data)"
   ]
  },
  {
   "cell_type": "code",
   "execution_count": 21,
   "id": "85b0eb7e",
   "metadata": {},
   "outputs": [],
   "source": [
    "sample = parses(\"\"\"Begin in state A.\n",
    "Perform a diagnostic checksum after 6 steps.\n",
    "\n",
    "In state A:\n",
    "  If the current value is 0:\n",
    "    - Write the value 1.\n",
    "    - Move one slot to the right.\n",
    "    - Continue with state B.\n",
    "  If the current value is 1:\n",
    "    - Write the value 0.\n",
    "    - Move one slot to the left.\n",
    "    - Continue with state B.\n",
    "\n",
    "In state B:\n",
    "  If the current value is 0:\n",
    "    - Write the value 1.\n",
    "    - Move one slot to the left.\n",
    "    - Continue with state A.\n",
    "  If the current value is 1:\n",
    "    - Write the value 1.\n",
    "    - Move one slot to the right.\n",
    "    - Continue with state A.\"\"\")"
   ]
  },
  {
   "cell_type": "code",
   "execution_count": 22,
   "id": "7df99ce4",
   "metadata": {},
   "outputs": [
    {
     "data": {
      "text/plain": [
       "('A', {'A': [(1, 1, 'B'), (0, -1, 'B')], 'B': [(1, -1, 'A'), (1, 1, 'A')]}, 6)"
      ]
     },
     "execution_count": 22,
     "metadata": {},
     "output_type": "execute_result"
    }
   ],
   "source": [
    "sample"
   ]
  },
  {
   "cell_type": "code",
   "execution_count": 23,
   "id": "db57106d",
   "metadata": {},
   "outputs": [],
   "source": [
    "def solve_a(data):\n",
    "    initial, states, steps = data\n",
    "    tape = defaultdict(int)\n",
    "    pos = 0\n",
    "    current = initial\n",
    "    for _ in range(steps):\n",
    "        val, move, current = states[current][tape[pos]]\n",
    "        tape[pos] = val\n",
    "        pos += move\n",
    "    return sum(tape.values())"
   ]
  },
  {
   "cell_type": "code",
   "execution_count": 24,
   "id": "e0b2eeea",
   "metadata": {},
   "outputs": [
    {
     "data": {
      "text/plain": [
       "3"
      ]
     },
     "execution_count": 24,
     "metadata": {},
     "output_type": "execute_result"
    }
   ],
   "source": [
    "solve_a(sample)"
   ]
  },
  {
   "cell_type": "code",
   "execution_count": 19,
   "id": "d6b722b8",
   "metadata": {},
   "outputs": [
    {
     "data": {
      "text/plain": [
       "2725"
      ]
     },
     "execution_count": 19,
     "metadata": {},
     "output_type": "execute_result"
    }
   ],
   "source": [
    "solve_a(data)"
   ]
  },
  {
   "cell_type": "code",
   "execution_count": null,
   "id": "47a5af42",
   "metadata": {},
   "outputs": [],
   "source": []
  },
  {
   "cell_type": "code",
   "execution_count": 3,
   "id": "0f6cca59",
   "metadata": {},
   "outputs": [
    {
     "name": "stdout",
     "output_type": "stream",
     "text": [
      "Begin in state A.\n",
      "Perform a diagnostic checksum after 12368930 steps.\n",
      "\n",
      "In state A:\n",
      "  If the current value is 0:\n",
      "    - Write the value 1.\n",
      "    - Move one slot to the right.\n",
      "    - Continue with state B.\n",
      "  If the current value is 1:\n",
      "    - Write the value 0.\n",
      "    - Move one slot to the right.\n",
      "    - Continue with state C.\n",
      "\n",
      "In state B:\n",
      "  If the current value is 0:\n",
      "    - Write the value 0.\n",
      "    - Move one slot to the left.\n",
      "    - Continue with state A.\n",
      "  If the current value is 1:\n",
      "    - Write the value 0.\n",
      "    - Move one slot to the right.\n",
      "    - Continue with state D.\n",
      "\n",
      "In state C:\n",
      "  If the current value is 0:\n",
      "    - Write the value 1.\n",
      "    - Move one slot to the right.\n",
      "    - Continue with state D.\n",
      "  If the current value is 1:\n",
      "    - Write the value 1.\n",
      "    - Move one slot to the right.\n",
      "    - Continue with state A.\n",
      "\n",
      "In state D:\n",
      "  If the current value is 0:\n",
      "    - Write the value 1.\n",
      "    - Move one slot to the left.\n",
      "    - Continue with state E.\n",
      "  If the current value is 1:\n",
      "    - Write the value 0.\n",
      "    - Move one slot to the left.\n",
      "    - Continue with state D.\n",
      "\n",
      "In state E:\n",
      "  If the current value is 0:\n",
      "    - Write the value 1.\n",
      "    - Move one slot to the right.\n",
      "    - Continue with state F.\n",
      "  If the current value is 1:\n",
      "    - Write the value 1.\n",
      "    - Move one slot to the left.\n",
      "    - Continue with state B.\n",
      "\n",
      "In state F:\n",
      "  If the current value is 0:\n",
      "    - Write the value 1.\n",
      "    - Move one slot to the right.\n",
      "    - Continue with state A.\n",
      "  If the current value is 1:\n",
      "    - Write the value 1.\n",
      "    - Move one slot to the right.\n",
      "    - Continue with state E.\n"
     ]
    }
   ],
   "source": [
    "print(data)"
   ]
  },
  {
   "cell_type": "code",
   "execution_count": 14,
   "id": "5d112dfe",
   "metadata": {},
   "outputs": [],
   "source": [
    "sample = parses(\"\"\"Begin in state A.\n",
    "Perform a diagnostic checksum after 6 steps.\n",
    "\n",
    "In state A:\n",
    "  If the current value is 0:\n",
    "    - Write the value 1.\n",
    "    - Move one slot to the right.\n",
    "    - Continue with state B.\n",
    "  If the current value is 1:\n",
    "    - Write the value 0.\n",
    "    - Move one slot to the left.\n",
    "    - Continue with state B.\n",
    "\n",
    "In state B:\n",
    "  If the current value is 0:\n",
    "    - Write the value 1.\n",
    "    - Move one slot to the left.\n",
    "    - Continue with state A.\n",
    "  If the current value is 1:\n",
    "    - Write the value 1.\n",
    "    - Move one slot to the right.\n",
    "    - Continue with state A.\"\"\")"
   ]
  },
  {
   "cell_type": "code",
   "execution_count": 35,
   "id": "d2b2a9e0",
   "metadata": {},
   "outputs": [],
   "source": [
    "def solve_a(data):\n",
    "    graph = defaultdict(list)\n",
    "    \n",
    "    for src, dst in data:\n",
    "        graph[src].append(dst)\n",
    "        graph[dst].append(src)\n",
    "        \n",
    "#     print(graph)\n",
    "    \n",
    "    heap = [(0,0,set())]\n",
    "    max_ = 0\n",
    "    \n",
    "    while heap:\n",
    "        val, src, visited = heap.pop() #heappop(heap)\n",
    "#         print(val, visited)\n",
    "        deadend = True\n",
    "        for dst in graph[src]:\n",
    "            edge = (min(src,dst), max(src,dst))\n",
    "            if edge not in visited:\n",
    "                new_visited = visited | set([edge])\n",
    "                new_val = val + src + dst\n",
    "                heap.append((new_val, dst, new_visited))\n",
    "                deadend = False\n",
    "        if deadend:\n",
    "#             print(visited)\n",
    "            max_ = max(max_, val)\n",
    "    return max_"
   ]
  },
  {
   "cell_type": "code",
   "execution_count": 36,
   "id": "80284b37",
   "metadata": {},
   "outputs": [
    {
     "data": {
      "text/plain": [
       "31"
      ]
     },
     "execution_count": 36,
     "metadata": {},
     "output_type": "execute_result"
    }
   ],
   "source": [
    "solve_a(sample)"
   ]
  },
  {
   "cell_type": "code",
   "execution_count": 37,
   "id": "c75842ce",
   "metadata": {},
   "outputs": [
    {
     "data": {
      "text/plain": [
       "1511"
      ]
     },
     "execution_count": 37,
     "metadata": {},
     "output_type": "execute_result"
    }
   ],
   "source": [
    "solve_a(data)"
   ]
  },
  {
   "cell_type": "code",
   "execution_count": 38,
   "id": "9c8698a7",
   "metadata": {},
   "outputs": [],
   "source": [
    "def solve_b(data):\n",
    "    graph = defaultdict(list)\n",
    "    \n",
    "    for src, dst in data:\n",
    "        graph[src].append(dst)\n",
    "        graph[dst].append(src)\n",
    "        \n",
    "#     print(graph)\n",
    "    \n",
    "    heap = [(0,0,0,set())]\n",
    "    max_ = (0,0)\n",
    "    \n",
    "    while heap:\n",
    "        val, length, src, visited = heap.pop() #heappop(heap)\n",
    "#         print(val, visited)\n",
    "        deadend = True\n",
    "        for dst in graph[src]:\n",
    "            edge = (min(src,dst), max(src,dst))\n",
    "            if edge not in visited:\n",
    "                new_visited = visited | set([edge])\n",
    "                new_val = val + src + dst\n",
    "                heap.append((new_val, length+1, dst, new_visited))\n",
    "                deadend = False\n",
    "        if deadend:\n",
    "#             print(visited)\n",
    "            max_ = max(max_, (length, val))\n",
    "    return max_[1]"
   ]
  },
  {
   "cell_type": "code",
   "execution_count": 39,
   "id": "41f30440",
   "metadata": {},
   "outputs": [
    {
     "data": {
      "text/plain": [
       "19"
      ]
     },
     "execution_count": 39,
     "metadata": {},
     "output_type": "execute_result"
    }
   ],
   "source": [
    "solve_b(sample)"
   ]
  },
  {
   "cell_type": "code",
   "execution_count": 40,
   "id": "e5404ea2",
   "metadata": {},
   "outputs": [
    {
     "data": {
      "text/plain": [
       "1471"
      ]
     },
     "execution_count": 40,
     "metadata": {},
     "output_type": "execute_result"
    }
   ],
   "source": [
    "solve_b(data)"
   ]
  },
  {
   "cell_type": "code",
   "execution_count": null,
   "id": "c8fa13d8",
   "metadata": {},
   "outputs": [],
   "source": []
  },
  {
   "cell_type": "code",
   "execution_count": null,
   "id": "f294224b",
   "metadata": {},
   "outputs": [],
   "source": []
  },
  {
   "cell_type": "code",
   "execution_count": 41,
   "id": "f6d058dd",
   "metadata": {},
   "outputs": [],
   "source": [
    "def gen_bridges(bridge, components):\n",
    "    bridge = bridge or [(0, 0)]\n",
    "    cur = bridge[-1][1]\n",
    "    for b in components[cur]:\n",
    "        if not ((cur, b) in bridge or (b, cur) in bridge):\n",
    "            new = bridge+[(cur, b)]\n",
    "            yield new\n",
    "            yield from gen_bridges(new, components)\n",
    "\n",
    "def parse_components(input):\n",
    "    components = defaultdict(set)\n",
    "    for l in input.strip().splitlines():\n",
    "        a, b = [int(x) for x in l.split('/')]\n",
    "        components[a].add(b)\n",
    "        components[b].add(a)\n",
    "    return components\n",
    "\n",
    "def solve(input):\n",
    "    components = parse_components(input)\n",
    "    mx = []\n",
    "    for bridge in gen_bridges(None, components):\n",
    "        mx.append((len(bridge), sum(a+b for a, b in bridge)))\n",
    "    return mx\n",
    "\n",
    "solution = solve(puzzle.input_data)\n",
    "                                                         part1 = sorted(solution, key=lambda x: x[1])[-1][1]\n",
    "part2 = sorted(solution)[-1][1]"
   ]
  },
  {
   "cell_type": "code",
   "execution_count": 42,
   "id": "1b50f167",
   "metadata": {},
   "outputs": [
    {
     "data": {
      "text/plain": [
       "1511"
      ]
     },
     "execution_count": 42,
     "metadata": {},
     "output_type": "execute_result"
    }
   ],
   "source": [
    "part1"
   ]
  },
  {
   "cell_type": "code",
   "execution_count": 43,
   "id": "7faa414d",
   "metadata": {},
   "outputs": [
    {
     "data": {
      "text/plain": [
       "1471"
      ]
     },
     "execution_count": 43,
     "metadata": {},
     "output_type": "execute_result"
    }
   ],
   "source": [
    "part2"
   ]
  },
  {
   "cell_type": "code",
   "execution_count": null,
   "id": "de05bbe9",
   "metadata": {},
   "outputs": [],
   "source": []
  }
 ],
 "metadata": {
  "kernelspec": {
   "display_name": "Python 3",
   "language": "python",
   "name": "python3"
  },
  "language_info": {
   "codemirror_mode": {
    "name": "ipython",
    "version": 3
   },
   "file_extension": ".py",
   "mimetype": "text/x-python",
   "name": "python",
   "nbconvert_exporter": "python",
   "pygments_lexer": "ipython3",
   "version": "3.8.8"
  }
 },
 "nbformat": 4,
 "nbformat_minor": 5
}
