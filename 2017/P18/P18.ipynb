{
 "cells": [
  {
   "cell_type": "code",
   "execution_count": 1,
   "metadata": {
    "ExecuteTime": {
     "end_time": "2018-10-27T01:25:28.180348Z",
     "start_time": "2018-10-27T01:25:28.177014Z"
    }
   },
   "outputs": [],
   "source": [
    "with open('input.txt', 'r') as f:\n",
    "    puzzle = f.read().strip()"
   ]
  },
  {
   "cell_type": "code",
   "execution_count": 2,
   "metadata": {
    "ExecuteTime": {
     "end_time": "2018-10-27T01:25:32.219855Z",
     "start_time": "2018-10-27T01:25:32.216069Z"
    }
   },
   "outputs": [],
   "source": [
    "example = \"\"\"set a 1\n",
    "add a 2\n",
    "mul a a\n",
    "mod a 5\n",
    "snd a\n",
    "set a 0\n",
    "rcv a\n",
    "jgz a -1\n",
    "set a 1\n",
    "jgz a -2\"\"\""
   ]
  },
  {
   "cell_type": "code",
   "execution_count": 3,
   "metadata": {
    "ExecuteTime": {
     "end_time": "2018-10-27T01:29:13.896469Z",
     "start_time": "2018-10-27T01:29:13.892741Z"
    }
   },
   "outputs": [],
   "source": [
    "from collections import defaultdict"
   ]
  },
  {
   "cell_type": "code",
   "execution_count": 11,
   "metadata": {
    "ExecuteTime": {
     "end_time": "2018-10-27T01:37:30.178506Z",
     "start_time": "2018-10-27T01:37:30.128771Z"
    }
   },
   "outputs": [],
   "source": [
    "def execute(instructions):\n",
    "\n",
    "    instructions = [i.split(' ') for i in instructions.split('\\n')]\n",
    "    registers = defaultdict(int)\n",
    "    \n",
    "    def parse_op(val):\n",
    "        try:\n",
    "            return int(val)\n",
    "        except:\n",
    "            return registers[val]\n",
    "    \n",
    "    program_counter = 0\n",
    "    last_sound = -1\n",
    "    \n",
    "    while True:\n",
    "        \n",
    "        opcode, *ops = instructions[program_counter]\n",
    "        \n",
    "        if opcode == 'snd':\n",
    "            last_sound = registers[ops[0]]\n",
    "        elif opcode == 'set':\n",
    "            registers[ops[0]] = parse_op(ops[1])\n",
    "        elif opcode == 'add':\n",
    "            registers[ops[0]] += parse_op(ops[1])\n",
    "        elif opcode == 'mul':\n",
    "            registers[ops[0]] *= parse_op(ops[1])\n",
    "        elif opcode == 'mod':\n",
    "            registers[ops[0]] %= parse_op(ops[1])\n",
    "        elif opcode == 'add':\n",
    "            registers[ops[0]] += parse_op(ops[1])\n",
    "        elif opcode == 'rcv':\n",
    "            if registers[ops[0]] > 0:\n",
    "                return last_sound\n",
    "        elif opcode == 'jgz':\n",
    "            if registers[ops[0]] > 0:\n",
    "                program_counter += int(ops[1])\n",
    "                continue\n",
    "        else:\n",
    "            raise ValueError(f\"Invalid op {opcode}\")\n",
    "        program_counter += 1"
   ]
  },
  {
   "cell_type": "code",
   "execution_count": 12,
   "metadata": {
    "ExecuteTime": {
     "end_time": "2018-10-27T01:37:31.544329Z",
     "start_time": "2018-10-27T01:37:31.539654Z"
    }
   },
   "outputs": [
    {
     "data": {
      "text/plain": [
       "4"
      ]
     },
     "execution_count": 12,
     "metadata": {},
     "output_type": "execute_result"
    }
   ],
   "source": [
    "execute(example)"
   ]
  },
  {
   "cell_type": "code",
   "execution_count": 13,
   "metadata": {
    "ExecuteTime": {
     "end_time": "2018-10-27T01:37:39.095855Z",
     "start_time": "2018-10-27T01:37:39.090386Z"
    }
   },
   "outputs": [
    {
     "data": {
      "text/plain": [
       "8600"
      ]
     },
     "execution_count": 13,
     "metadata": {},
     "output_type": "execute_result"
    }
   ],
   "source": [
    "execute(puzzle)"
   ]
  },
  {
   "cell_type": "code",
   "execution_count": null,
   "metadata": {},
   "outputs": [],
   "source": []
  }
 ],
 "metadata": {
  "kernelspec": {
   "display_name": "Python 3",
   "language": "python",
   "name": "python3"
  },
  "language_info": {
   "codemirror_mode": {
    "name": "ipython",
    "version": 3
   },
   "file_extension": ".py",
   "mimetype": "text/x-python",
   "name": "python",
   "nbconvert_exporter": "python",
   "pygments_lexer": "ipython3",
   "version": "3.6.4"
  },
  "toc": {
   "nav_menu": {},
   "number_sections": true,
   "sideBar": true,
   "skip_h1_title": false,
   "title_cell": "Table of Contents",
   "title_sidebar": "Contents",
   "toc_cell": false,
   "toc_position": {},
   "toc_section_display": true,
   "toc_window_display": false
  },
  "varInspector": {
   "cols": {
    "lenName": 16,
    "lenType": 16,
    "lenVar": 40
   },
   "kernels_config": {
    "python": {
     "delete_cmd_postfix": "",
     "delete_cmd_prefix": "del ",
     "library": "var_list.py",
     "varRefreshCmd": "print(var_dic_list())"
    },
    "r": {
     "delete_cmd_postfix": ") ",
     "delete_cmd_prefix": "rm(",
     "library": "var_list.r",
     "varRefreshCmd": "cat(var_dic_list()) "
    }
   },
   "types_to_exclude": [
    "module",
    "function",
    "builtin_function_or_method",
    "instance",
    "_Feature"
   ],
   "window_display": false
  }
 },
 "nbformat": 4,
 "nbformat_minor": 2
}
