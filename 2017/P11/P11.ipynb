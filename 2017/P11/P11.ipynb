{
 "cells": [
  {
   "cell_type": "code",
   "execution_count": 1,
   "metadata": {
    "ExecuteTime": {
     "end_time": "2018-10-19T17:33:08.248167Z",
     "start_time": "2018-10-19T17:33:08.047916Z"
    }
   },
   "outputs": [],
   "source": [
    "!mkdir P11"
   ]
  },
  {
   "cell_type": "code",
   "execution_count": 2,
   "metadata": {
    "ExecuteTime": {
     "end_time": "2018-10-19T17:33:23.049201Z",
     "start_time": "2018-10-19T17:33:22.849973Z"
    }
   },
   "outputs": [],
   "source": [
    "!mv /Users/josejavier/Downloads/input.txt P11"
   ]
  },
  {
   "cell_type": "code",
   "execution_count": 3,
   "metadata": {
    "ExecuteTime": {
     "end_time": "2018-10-19T17:33:49.190802Z",
     "start_time": "2018-10-19T17:33:49.187214Z"
    }
   },
   "outputs": [],
   "source": [
    "with open('input.txt', 'r') as f:\n",
    "    puzzle = f.read().strip()"
   ]
  },
  {
   "cell_type": "code",
   "execution_count": 5,
   "metadata": {
    "ExecuteTime": {
     "end_time": "2018-10-19T17:36:00.563271Z",
     "start_time": "2018-10-19T17:36:00.561047Z"
    }
   },
   "outputs": [],
   "source": [
    "import numpy as np"
   ]
  },
  {
   "cell_type": "code",
   "execution_count": 10,
   "metadata": {
    "ExecuteTime": {
     "end_time": "2018-10-19T17:38:48.803044Z",
     "start_time": "2018-10-19T17:38:48.790433Z"
    }
   },
   "outputs": [],
   "source": [
    "def hex_distance(seq):\n",
    "    directions = {\n",
    "        'n': np.array([1,-1,0]),\n",
    "        's': np.array([-1,1,0]),\n",
    "        'nw': np.array([1,0,-1]),\n",
    "        'se': np.array([-1,0,1]),\n",
    "        'ne': np.array([0,-1,1]),\n",
    "        'sw': np.array([0,1,-1]),\n",
    "    }\n",
    "    pos = np.array([0,0,0])\n",
    "    for d in seq.split(','):\n",
    "        pos += directions[d]\n",
    "    return np.sum(np.abs(pos))//2"
   ]
  },
  {
   "cell_type": "code",
   "execution_count": 16,
   "metadata": {
    "ExecuteTime": {
     "end_time": "2018-10-19T17:40:38.840762Z",
     "start_time": "2018-10-19T17:40:38.838169Z"
    }
   },
   "outputs": [],
   "source": [
    "examples = [\n",
    "    'ne,ne,ne',\n",
    "    'ne,ne,sw,sw',\n",
    "    'ne,ne,s,s',\n",
    "    'se,sw,se,sw,sw'\n",
    "]"
   ]
  },
  {
   "cell_type": "code",
   "execution_count": 17,
   "metadata": {
    "ExecuteTime": {
     "end_time": "2018-10-19T17:40:39.108535Z",
     "start_time": "2018-10-19T17:40:39.103277Z"
    }
   },
   "outputs": [
    {
     "name": "stdout",
     "output_type": "stream",
     "text": [
      "ne,ne,ne 3\n",
      "ne,ne,sw,sw 0\n",
      "ne,ne,s,s 2\n",
      "se,sw,se,sw,sw 3\n"
     ]
    }
   ],
   "source": [
    "for example in examples:\n",
    "    print(example, hex_distance(example))"
   ]
  },
  {
   "cell_type": "code",
   "execution_count": 12,
   "metadata": {
    "ExecuteTime": {
     "end_time": "2018-10-19T17:38:57.731286Z",
     "start_time": "2018-10-19T17:38:57.716739Z"
    }
   },
   "outputs": [
    {
     "data": {
      "text/plain": [
       "696"
      ]
     },
     "execution_count": 12,
     "metadata": {},
     "output_type": "execute_result"
    }
   ],
   "source": [
    "hex_distance(puzzle)"
   ]
  },
  {
   "cell_type": "code",
   "execution_count": 15,
   "metadata": {
    "ExecuteTime": {
     "end_time": "2018-10-19T17:40:29.488524Z",
     "start_time": "2018-10-19T17:40:29.476724Z"
    }
   },
   "outputs": [],
   "source": [
    "def max_hex_distance(seq):\n",
    "    directions = {\n",
    "        'n': np.array([1,-1,0]),\n",
    "        's': np.array([-1,1,0]),\n",
    "        'nw': np.array([1,0,-1]),\n",
    "        'se': np.array([-1,0,1]),\n",
    "        'ne': np.array([0,-1,1]),\n",
    "        'sw': np.array([0,1,-1]),\n",
    "    }\n",
    "    pos = np.array([0,0,0])\n",
    "    max_dist = 0\n",
    "    for d in seq.split(','):\n",
    "        pos += directions[d]\n",
    "        max_dist = max(max_dist, np.sum(np.abs(pos))//2)\n",
    "    return max_dist"
   ]
  },
  {
   "cell_type": "code",
   "execution_count": 18,
   "metadata": {
    "ExecuteTime": {
     "end_time": "2018-10-19T17:40:46.997542Z",
     "start_time": "2018-10-19T17:40:46.992990Z"
    }
   },
   "outputs": [
    {
     "name": "stdout",
     "output_type": "stream",
     "text": [
      "ne,ne,ne 3\n",
      "ne,ne,sw,sw 2\n",
      "ne,ne,s,s 2\n",
      "se,sw,se,sw,sw 3\n"
     ]
    }
   ],
   "source": [
    "for example in examples:\n",
    "    print(example, max_hex_distance(example))"
   ]
  },
  {
   "cell_type": "code",
   "execution_count": 19,
   "metadata": {
    "ExecuteTime": {
     "end_time": "2018-10-19T17:40:54.497554Z",
     "start_time": "2018-10-19T17:40:54.443113Z"
    }
   },
   "outputs": [
    {
     "data": {
      "text/plain": [
       "1461"
      ]
     },
     "execution_count": 19,
     "metadata": {},
     "output_type": "execute_result"
    }
   ],
   "source": [
    "max_hex_distance(puzzle)"
   ]
  },
  {
   "cell_type": "code",
   "execution_count": null,
   "metadata": {},
   "outputs": [],
   "source": []
  }
 ],
 "metadata": {
  "kernelspec": {
   "display_name": "Python 3",
   "language": "python",
   "name": "python3"
  },
  "language_info": {
   "codemirror_mode": {
    "name": "ipython",
    "version": 3
   },
   "file_extension": ".py",
   "mimetype": "text/x-python",
   "name": "python",
   "nbconvert_exporter": "python",
   "pygments_lexer": "ipython3",
   "version": "3.6.4"
  },
  "toc": {
   "nav_menu": {},
   "number_sections": true,
   "sideBar": true,
   "skip_h1_title": false,
   "title_cell": "Table of Contents",
   "title_sidebar": "Contents",
   "toc_cell": false,
   "toc_position": {},
   "toc_section_display": true,
   "toc_window_display": false
  },
  "varInspector": {
   "cols": {
    "lenName": 16,
    "lenType": 16,
    "lenVar": 40
   },
   "kernels_config": {
    "python": {
     "delete_cmd_postfix": "",
     "delete_cmd_prefix": "del ",
     "library": "var_list.py",
     "varRefreshCmd": "print(var_dic_list())"
    },
    "r": {
     "delete_cmd_postfix": ") ",
     "delete_cmd_prefix": "rm(",
     "library": "var_list.r",
     "varRefreshCmd": "cat(var_dic_list()) "
    }
   },
   "types_to_exclude": [
    "module",
    "function",
    "builtin_function_or_method",
    "instance",
    "_Feature"
   ],
   "window_display": false
  }
 },
 "nbformat": 4,
 "nbformat_minor": 2
}
