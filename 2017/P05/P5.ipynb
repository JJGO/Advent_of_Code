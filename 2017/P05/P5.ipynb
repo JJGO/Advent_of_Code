{
 "cells": [
  {
   "cell_type": "code",
   "execution_count": 24,
   "metadata": {
    "ExecuteTime": {
     "end_time": "2018-10-19T01:18:12.429730Z",
     "start_time": "2018-10-19T01:18:12.426117Z"
    }
   },
   "outputs": [],
   "source": [
    "with open('input.txt') as f:\n",
    "    s = f.read()"
   ]
  },
  {
   "cell_type": "markdown",
   "metadata": {},
   "source": [
    "## P5.1"
   ]
  },
  {
   "cell_type": "code",
   "execution_count": 25,
   "metadata": {
    "ExecuteTime": {
     "end_time": "2018-10-19T01:18:12.769745Z",
     "start_time": "2018-10-19T01:18:12.765078Z"
    }
   },
   "outputs": [],
   "source": [
    "jumps = [int(i) for i in s.split('\\n')[:-1]]"
   ]
  },
  {
   "cell_type": "code",
   "execution_count": 26,
   "metadata": {
    "ExecuteTime": {
     "end_time": "2018-10-19T01:18:12.966369Z",
     "start_time": "2018-10-19T01:18:12.959367Z"
    }
   },
   "outputs": [],
   "source": [
    "def trampoline(jumps):\n",
    "    jumps = jumps[:]\n",
    "    i = 0\n",
    "    n = 0\n",
    "    while 0 <= i < len(jumps):\n",
    "        j = jumps[i]\n",
    "        jumps[i] += 1\n",
    "        i += j\n",
    "        n += 1\n",
    "    return n"
   ]
  },
  {
   "cell_type": "code",
   "execution_count": 27,
   "metadata": {
    "ExecuteTime": {
     "end_time": "2018-10-19T01:18:13.161440Z",
     "start_time": "2018-10-19T01:18:13.157160Z"
    }
   },
   "outputs": [],
   "source": [
    "example = [0,3,0,1,-3]"
   ]
  },
  {
   "cell_type": "code",
   "execution_count": 28,
   "metadata": {
    "ExecuteTime": {
     "end_time": "2018-10-19T01:18:13.371978Z",
     "start_time": "2018-10-19T01:18:13.367285Z"
    }
   },
   "outputs": [
    {
     "data": {
      "text/plain": [
       "5"
      ]
     },
     "execution_count": 28,
     "metadata": {},
     "output_type": "execute_result"
    }
   ],
   "source": [
    "trampoline(example)"
   ]
  },
  {
   "cell_type": "code",
   "execution_count": 29,
   "metadata": {
    "ExecuteTime": {
     "end_time": "2018-10-19T01:18:13.716351Z",
     "start_time": "2018-10-19T01:18:13.608879Z"
    }
   },
   "outputs": [
    {
     "data": {
      "text/plain": [
       "356945"
      ]
     },
     "execution_count": 29,
     "metadata": {},
     "output_type": "execute_result"
    }
   ],
   "source": [
    "trampoline(jumps)"
   ]
  },
  {
   "cell_type": "markdown",
   "metadata": {},
   "source": [
    "## P5.2"
   ]
  },
  {
   "cell_type": "code",
   "execution_count": 30,
   "metadata": {
    "ExecuteTime": {
     "end_time": "2018-10-19T01:18:14.534830Z",
     "start_time": "2018-10-19T01:18:14.526546Z"
    }
   },
   "outputs": [],
   "source": [
    "def trampoline2(jumps):\n",
    "    jumps = jumps[:]\n",
    "    i = 0\n",
    "    n = 0\n",
    "    while 0 <= i < len(jumps):\n",
    "        j = jumps[i]\n",
    "        if j < 3:\n",
    "            jumps[i] += 1\n",
    "        else:\n",
    "            jumps[i] -= 1\n",
    "        i += j\n",
    "        n += 1\n",
    "    return n"
   ]
  },
  {
   "cell_type": "code",
   "execution_count": 31,
   "metadata": {
    "ExecuteTime": {
     "end_time": "2018-10-19T01:18:15.266201Z",
     "start_time": "2018-10-19T01:18:15.261699Z"
    }
   },
   "outputs": [
    {
     "data": {
      "text/plain": [
       "10"
      ]
     },
     "execution_count": 31,
     "metadata": {},
     "output_type": "execute_result"
    }
   ],
   "source": [
    "trampoline2(example)"
   ]
  },
  {
   "cell_type": "code",
   "execution_count": 32,
   "metadata": {
    "ExecuteTime": {
     "end_time": "2018-10-19T01:18:32.063190Z",
     "start_time": "2018-10-19T01:18:24.441706Z"
    }
   },
   "outputs": [
    {
     "data": {
      "text/plain": [
       "28372145"
      ]
     },
     "execution_count": 32,
     "metadata": {},
     "output_type": "execute_result"
    }
   ],
   "source": [
    "trampoline2(jumps)"
   ]
  },
  {
   "cell_type": "code",
   "execution_count": null,
   "metadata": {},
   "outputs": [],
   "source": []
  }
 ],
 "metadata": {
  "kernelspec": {
   "display_name": "Python 3",
   "language": "python",
   "name": "python3"
  },
  "language_info": {
   "codemirror_mode": {
    "name": "ipython",
    "version": 3
   },
   "file_extension": ".py",
   "mimetype": "text/x-python",
   "name": "python",
   "nbconvert_exporter": "python",
   "pygments_lexer": "ipython3",
   "version": "3.6.4"
  },
  "toc": {
   "nav_menu": {},
   "number_sections": true,
   "sideBar": true,
   "skip_h1_title": false,
   "title_cell": "Table of Contents",
   "title_sidebar": "Contents",
   "toc_cell": false,
   "toc_position": {},
   "toc_section_display": true,
   "toc_window_display": false
  },
  "varInspector": {
   "cols": {
    "lenName": 16,
    "lenType": 16,
    "lenVar": 40
   },
   "kernels_config": {
    "python": {
     "delete_cmd_postfix": "",
     "delete_cmd_prefix": "del ",
     "library": "var_list.py",
     "varRefreshCmd": "print(var_dic_list())"
    },
    "r": {
     "delete_cmd_postfix": ") ",
     "delete_cmd_prefix": "rm(",
     "library": "var_list.r",
     "varRefreshCmd": "cat(var_dic_list()) "
    }
   },
   "types_to_exclude": [
    "module",
    "function",
    "builtin_function_or_method",
    "instance",
    "_Feature"
   ],
   "window_display": false
  }
 },
 "nbformat": 4,
 "nbformat_minor": 2
}
