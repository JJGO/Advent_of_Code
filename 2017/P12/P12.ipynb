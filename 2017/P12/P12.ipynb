{
 "cells": [
  {
   "cell_type": "code",
   "execution_count": 3,
   "metadata": {
    "ExecuteTime": {
     "end_time": "2018-10-22T18:42:26.667785Z",
     "start_time": "2018-10-22T18:42:26.663658Z"
    }
   },
   "outputs": [],
   "source": [
    "with open('input.txt', 'r') as f:\n",
    "    puzzle = f.read().strip()"
   ]
  },
  {
   "cell_type": "markdown",
   "metadata": {},
   "source": [
    "## P12.1"
   ]
  },
  {
   "cell_type": "code",
   "execution_count": 7,
   "metadata": {
    "ExecuteTime": {
     "end_time": "2018-10-22T18:47:10.675018Z",
     "start_time": "2018-10-22T18:47:10.669470Z"
    }
   },
   "outputs": [],
   "source": [
    "def parse_input(s):\n",
    "    graph = {}\n",
    "    for line in s.split('\\n'):\n",
    "        node, children = line.strip().split(' <-> ')\n",
    "        children = children.split(', ')\n",
    "        graph[node] = children\n",
    "    return graph"
   ]
  },
  {
   "cell_type": "code",
   "execution_count": 28,
   "metadata": {
    "ExecuteTime": {
     "end_time": "2018-10-22T19:00:20.085091Z",
     "start_time": "2018-10-22T19:00:20.082480Z"
    }
   },
   "outputs": [],
   "source": [
    "example = parse_input(\"\"\"0 <-> 2\n",
    "1 <-> 1\n",
    "2 <-> 0, 3, 4\n",
    "3 <-> 2, 4\n",
    "4 <-> 2, 3, 6\n",
    "5 <-> 6\n",
    "6 <-> 4, 5\"\"\")"
   ]
  },
  {
   "cell_type": "code",
   "execution_count": 29,
   "metadata": {
    "ExecuteTime": {
     "end_time": "2018-10-22T19:00:28.800495Z",
     "start_time": "2018-10-22T19:00:28.795312Z"
    }
   },
   "outputs": [],
   "source": [
    "puzzle = parse_input(puzzle)"
   ]
  },
  {
   "cell_type": "code",
   "execution_count": null,
   "metadata": {},
   "outputs": [],
   "source": [
    "from collections import defaultdict"
   ]
  },
  {
   "cell_type": "code",
   "execution_count": 47,
   "metadata": {
    "ExecuteTime": {
     "end_time": "2018-10-22T19:09:25.833780Z",
     "start_time": "2018-10-22T19:09:25.819900Z"
    }
   },
   "outputs": [],
   "source": [
    "def connected_components(graph):\n",
    "    components = []\n",
    "    i = 0\n",
    "    visited = set()\n",
    "    for node in graph:\n",
    "        if node in visited:\n",
    "            continue\n",
    "        else:\n",
    "            components.append(set())\n",
    "            queue = list(graph[node])\n",
    "            components[-1].add(node)\n",
    "            while len(queue) > 0:\n",
    "                node = queue.pop(0)\n",
    "                visited.add(node)\n",
    "                queue.extend([c for c in graph[node] if c not in visited])\n",
    "                if node not in components[-1]:\n",
    "                    components[-1].add(node)\n",
    "    return components"
   ]
  },
  {
   "cell_type": "code",
   "execution_count": 48,
   "metadata": {
    "ExecuteTime": {
     "end_time": "2018-10-22T19:09:25.995583Z",
     "start_time": "2018-10-22T19:09:25.989617Z"
    }
   },
   "outputs": [
    {
     "data": {
      "text/plain": [
       "[{'0', '2', '3', '4', '5', '6'}, {'1'}]"
      ]
     },
     "execution_count": 48,
     "metadata": {},
     "output_type": "execute_result"
    }
   ],
   "source": [
    "connected_components(example)"
   ]
  },
  {
   "cell_type": "code",
   "execution_count": 49,
   "metadata": {
    "ExecuteTime": {
     "end_time": "2018-10-22T19:10:05.053169Z",
     "start_time": "2018-10-22T19:10:05.050214Z"
    }
   },
   "outputs": [],
   "source": [
    "def count_connected_to(graph, node):\n",
    "    cc = connected_components(graph)\n",
    "    return sum([len(v) if node in v else 0 for v in cc])"
   ]
  },
  {
   "cell_type": "code",
   "execution_count": 50,
   "metadata": {
    "ExecuteTime": {
     "end_time": "2018-10-22T19:10:05.796347Z",
     "start_time": "2018-10-22T19:10:05.791640Z"
    }
   },
   "outputs": [
    {
     "data": {
      "text/plain": [
       "6"
      ]
     },
     "execution_count": 50,
     "metadata": {},
     "output_type": "execute_result"
    }
   ],
   "source": [
    "count_connected_to(example, '0')"
   ]
  },
  {
   "cell_type": "code",
   "execution_count": 51,
   "metadata": {
    "ExecuteTime": {
     "end_time": "2018-10-22T19:10:06.456827Z",
     "start_time": "2018-10-22T19:10:06.447888Z"
    }
   },
   "outputs": [
    {
     "data": {
      "text/plain": [
       "145"
      ]
     },
     "execution_count": 51,
     "metadata": {},
     "output_type": "execute_result"
    }
   ],
   "source": [
    "count_connected_to(puzzle, '0')"
   ]
  },
  {
   "cell_type": "markdown",
   "metadata": {},
   "source": [
    "## P12.2"
   ]
  },
  {
   "cell_type": "code",
   "execution_count": 53,
   "metadata": {
    "ExecuteTime": {
     "end_time": "2018-10-22T19:10:21.644391Z",
     "start_time": "2018-10-22T19:10:21.640788Z"
    }
   },
   "outputs": [
    {
     "data": {
      "text/plain": [
       "2"
      ]
     },
     "execution_count": 53,
     "metadata": {},
     "output_type": "execute_result"
    }
   ],
   "source": [
    "len(connected_components(example))"
   ]
  },
  {
   "cell_type": "code",
   "execution_count": 52,
   "metadata": {
    "ExecuteTime": {
     "end_time": "2018-10-22T19:10:11.958939Z",
     "start_time": "2018-10-22T19:10:11.952224Z"
    }
   },
   "outputs": [
    {
     "data": {
      "text/plain": [
       "207"
      ]
     },
     "execution_count": 52,
     "metadata": {},
     "output_type": "execute_result"
    }
   ],
   "source": [
    "len(connected_components(puzzle))"
   ]
  },
  {
   "cell_type": "code",
   "execution_count": null,
   "metadata": {},
   "outputs": [],
   "source": []
  }
 ],
 "metadata": {
  "kernelspec": {
   "display_name": "Python 3",
   "language": "python",
   "name": "python3"
  },
  "language_info": {
   "codemirror_mode": {
    "name": "ipython",
    "version": 3
   },
   "file_extension": ".py",
   "mimetype": "text/x-python",
   "name": "python",
   "nbconvert_exporter": "python",
   "pygments_lexer": "ipython3",
   "version": "3.6.4"
  },
  "toc": {
   "nav_menu": {},
   "number_sections": true,
   "sideBar": true,
   "skip_h1_title": false,
   "title_cell": "Table of Contents",
   "title_sidebar": "Contents",
   "toc_cell": false,
   "toc_position": {},
   "toc_section_display": true,
   "toc_window_display": false
  },
  "varInspector": {
   "cols": {
    "lenName": 16,
    "lenType": 16,
    "lenVar": 40
   },
   "kernels_config": {
    "python": {
     "delete_cmd_postfix": "",
     "delete_cmd_prefix": "del ",
     "library": "var_list.py",
     "varRefreshCmd": "print(var_dic_list())"
    },
    "r": {
     "delete_cmd_postfix": ") ",
     "delete_cmd_prefix": "rm(",
     "library": "var_list.r",
     "varRefreshCmd": "cat(var_dic_list()) "
    }
   },
   "types_to_exclude": [
    "module",
    "function",
    "builtin_function_or_method",
    "instance",
    "_Feature"
   ],
   "window_display": false
  }
 },
 "nbformat": 4,
 "nbformat_minor": 2
}
