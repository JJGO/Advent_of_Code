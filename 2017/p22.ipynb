{
 "cells": [
  {
   "cell_type": "code",
   "execution_count": 12,
   "id": "304d90f0",
   "metadata": {},
   "outputs": [],
   "source": [
    "from aocd.models import Puzzle\n",
    "\n",
    "def parses(text):\n",
    "    data = text.strip().split('\\n')\n",
    "    N, M = len(data), len(data[0])\n",
    "    return [(i-M//2,j-N//2) for j, row in enumerate(data) for i, v in enumerate(row) if v == '#']\n",
    "\n",
    "puzzle = Puzzle(year=2017, day=22)\n",
    "data = parses(puzzle.input_data)"
   ]
  },
  {
   "cell_type": "code",
   "execution_count": 13,
   "id": "e37eb296",
   "metadata": {},
   "outputs": [],
   "source": [
    "sample = parses(\"\"\"..#\n",
    "#..\n",
    "...\"\"\")"
   ]
  },
  {
   "cell_type": "code",
   "execution_count": 14,
   "id": "271a05ba",
   "metadata": {},
   "outputs": [
    {
     "data": {
      "text/plain": [
       "[(1, -1), (-1, 0)]"
      ]
     },
     "execution_count": 14,
     "metadata": {},
     "output_type": "execute_result"
    }
   ],
   "source": [
    "sample"
   ]
  },
  {
   "cell_type": "code",
   "execution_count": 55,
   "id": "78eb6740",
   "metadata": {},
   "outputs": [],
   "source": [
    "def render(data, pos):\n",
    "    xmin = int(min(z.real for z in data))\n",
    "    xmax = int(max(z.real for z in data))\n",
    "    ymin = int(min(z.imag for z in data))\n",
    "    ymax = int(max(z.imag for z in data))\n",
    "    s = ''\n",
    "    for y in range(ymin, ymax+1):\n",
    "        for x in range(xmin, xmax+1):\n",
    "            z = x + 1j*y\n",
    "            s += '.#'[z in data]  + ' '\n",
    "            if z == pos:\n",
    "                s = s[:-3] + '[' + s[-2] + ']'\n",
    "        s+='\\n'\n",
    "    print(s)"
   ]
  },
  {
   "cell_type": "code",
   "execution_count": 64,
   "id": "e87d3582",
   "metadata": {},
   "outputs": [],
   "source": [
    "def solve_a(data, steps=10_000):\n",
    "    infected = set(i+1j*j for i,j in data)\n",
    "    infections = 0\n",
    "    pos = 0\n",
    "    direction = -1j\n",
    "    for _ in range(steps):\n",
    "        if pos in infected:\n",
    "            direction *= 1j\n",
    "            infected.remove(pos)\n",
    "        else:\n",
    "            direction *= -1j\n",
    "            infected.add(pos)\n",
    "            infections += 1\n",
    "        pos += direction\n",
    "#     render(infected, pos)\n",
    "    return infections"
   ]
  },
  {
   "cell_type": "code",
   "execution_count": 65,
   "id": "50e3ed39",
   "metadata": {},
   "outputs": [
    {
     "data": {
      "text/plain": [
       "41"
      ]
     },
     "execution_count": 65,
     "metadata": {},
     "output_type": "execute_result"
    }
   ],
   "source": [
    "solve_a(sample, 70)"
   ]
  },
  {
   "cell_type": "code",
   "execution_count": 49,
   "id": "f3057a53",
   "metadata": {},
   "outputs": [
    {
     "data": {
      "text/plain": [
       "5322"
      ]
     },
     "execution_count": 49,
     "metadata": {},
     "output_type": "execute_result"
    }
   ],
   "source": [
    "solve_a(data)"
   ]
  },
  {
   "cell_type": "code",
   "execution_count": null,
   "id": "34bc8826",
   "metadata": {},
   "outputs": [],
   "source": [
    "10_000_000"
   ]
  },
  {
   "cell_type": "code",
   "execution_count": null,
   "id": "71fc1a16",
   "metadata": {},
   "outputs": [],
   "source": []
  },
  {
   "cell_type": "code",
   "execution_count": 83,
   "id": "373231e6",
   "metadata": {},
   "outputs": [],
   "source": [
    "def render(data, pos):\n",
    "    xmin = int(min(z.real for z in data))\n",
    "    xmax = int(max(z.real for z in data))\n",
    "    ymin = int(min(z.imag for z in data))\n",
    "    ymax = int(max(z.imag for z in data))\n",
    "    s = ''\n",
    "    for y in range(ymin, ymax+1):\n",
    "        s += ' '\n",
    "        for x in range(xmin, xmax+1):\n",
    "            z = x + 1j*y\n",
    "            s += '.W#F'[data[z]]  + ' '\n",
    "            if z == pos:\n",
    "                s = s[:-3] + '[' + s[-2] + ']'\n",
    "        s+='\\n'\n",
    "    print(s)"
   ]
  },
  {
   "cell_type": "code",
   "execution_count": 88,
   "id": "6754c77c",
   "metadata": {},
   "outputs": [],
   "source": [
    "def solve_b(data, steps=10_000_000):\n",
    "    CLEAN, WEAK, INFECT, FLAG = 0, 1, 2, 3\n",
    "    state = defaultdict(int)\n",
    "    state.update({i+1j*j: INFECT for i,j in data})\n",
    "    infections = 0\n",
    "    pos = 0\n",
    "    direction = -1j\n",
    "    for _ in range(steps):\n",
    "        direction *= [-1j, 1, 1j, -1][state[pos]]\n",
    "        infections += state[pos] == WEAK\n",
    "        state[pos] = (state[pos] + 1) % 4\n",
    "        pos += direction     \n",
    "    return infections"
   ]
  },
  {
   "cell_type": "code",
   "execution_count": 89,
   "id": "58121b99",
   "metadata": {},
   "outputs": [
    {
     "data": {
      "text/plain": [
       "2511944"
      ]
     },
     "execution_count": 89,
     "metadata": {},
     "output_type": "execute_result"
    }
   ],
   "source": [
    "solve_b(sample)"
   ]
  },
  {
   "cell_type": "code",
   "execution_count": 90,
   "id": "dc95eada",
   "metadata": {},
   "outputs": [
    {
     "data": {
      "text/plain": [
       "2512079"
      ]
     },
     "execution_count": 90,
     "metadata": {},
     "output_type": "execute_result"
    }
   ],
   "source": [
    "solve_b(data)"
   ]
  },
  {
   "cell_type": "code",
   "execution_count": null,
   "id": "c3d9e731",
   "metadata": {},
   "outputs": [],
   "source": []
  }
 ],
 "metadata": {
  "kernelspec": {
   "display_name": "Python 3",
   "language": "python",
   "name": "python3"
  },
  "language_info": {
   "codemirror_mode": {
    "name": "ipython",
    "version": 3
   },
   "file_extension": ".py",
   "mimetype": "text/x-python",
   "name": "python",
   "nbconvert_exporter": "python",
   "pygments_lexer": "ipython3",
   "version": "3.8.8"
  }
 },
 "nbformat": 4,
 "nbformat_minor": 5
}
