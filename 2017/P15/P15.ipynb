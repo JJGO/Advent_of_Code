{
 "cells": [
  {
   "cell_type": "code",
   "execution_count": 2,
   "metadata": {
    "ExecuteTime": {
     "end_time": "2018-10-27T01:00:53.183839Z",
     "start_time": "2018-10-27T01:00:53.181408Z"
    }
   },
   "outputs": [],
   "source": [
    "import itertools"
   ]
  },
  {
   "cell_type": "code",
   "execution_count": 9,
   "metadata": {
    "ExecuteTime": {
     "end_time": "2018-10-27T01:06:26.904824Z",
     "start_time": "2018-10-27T01:06:26.901643Z"
    }
   },
   "outputs": [],
   "source": [
    "FACTORS = (16807, 48271)\n",
    "MOD = 2147483647"
   ]
  },
  {
   "cell_type": "code",
   "execution_count": 45,
   "metadata": {
    "ExecuteTime": {
     "end_time": "2018-10-27T01:11:06.499464Z",
     "start_time": "2018-10-27T01:11:06.492056Z"
    }
   },
   "outputs": [],
   "source": [
    "def judge(seeds, factors=FACTORS, mod = MOD, N=40e6):\n",
    "    count = 0\n",
    "    A, B = seeds\n",
    "    fA, fB = factors\n",
    "    for i in range(int(N)):\n",
    "        A = (A * fA ) % MOD\n",
    "        B = (B * fB ) % MOD\n",
    "        if A & 0xffff == B & 0xffff:\n",
    "            count += 1\n",
    "    return count"
   ]
  },
  {
   "cell_type": "code",
   "execution_count": 41,
   "metadata": {
    "ExecuteTime": {
     "end_time": "2018-10-27T01:09:31.417577Z",
     "start_time": "2018-10-27T01:09:31.413368Z"
    }
   },
   "outputs": [],
   "source": [
    "example = (65, 8921)\n",
    "puzzle = (277, 349)"
   ]
  },
  {
   "cell_type": "code",
   "execution_count": 42,
   "metadata": {
    "ExecuteTime": {
     "end_time": "2018-10-27T01:09:54.384526Z",
     "start_time": "2018-10-27T01:09:31.810770Z"
    }
   },
   "outputs": [
    {
     "data": {
      "text/plain": [
       "588"
      ]
     },
     "execution_count": 42,
     "metadata": {},
     "output_type": "execute_result"
    }
   ],
   "source": [
    "judge(example)"
   ]
  },
  {
   "cell_type": "code",
   "execution_count": 44,
   "metadata": {
    "ExecuteTime": {
     "end_time": "2018-10-27T01:10:22.910180Z",
     "start_time": "2018-10-27T01:10:00.201155Z"
    }
   },
   "outputs": [
    {
     "data": {
      "text/plain": [
       "592"
      ]
     },
     "execution_count": 44,
     "metadata": {},
     "output_type": "execute_result"
    }
   ],
   "source": [
    "judge(puzzle)"
   ]
  },
  {
   "cell_type": "markdown",
   "metadata": {},
   "source": [
    "## P15.2"
   ]
  },
  {
   "cell_type": "code",
   "execution_count": 59,
   "metadata": {
    "ExecuteTime": {
     "end_time": "2018-10-27T01:19:33.656396Z",
     "start_time": "2018-10-27T01:19:33.650962Z"
    }
   },
   "outputs": [],
   "source": [
    "def generator(seed, factor, mod, power_of_two):\n",
    "    value = seed\n",
    "    test = power_of_two-1\n",
    "    while True:\n",
    "        value = (value * factor) % mod\n",
    "        if value & test == 0:\n",
    "            yield value"
   ]
  },
  {
   "cell_type": "code",
   "execution_count": 66,
   "metadata": {
    "ExecuteTime": {
     "end_time": "2018-10-27T01:20:04.336412Z",
     "start_time": "2018-10-27T01:20:04.323723Z"
    }
   },
   "outputs": [],
   "source": [
    "def judge_filter(seeds, filters, factors=FACTORS, mod=MOD, N=5e6):\n",
    "    count = 0\n",
    "    A, B = seeds\n",
    "    fA, fB = factors\n",
    "    pA, pB = filters\n",
    "    \n",
    "    genA = generator(A, fA, mod, pA)\n",
    "    genB = generator(B, fB, mod, pB)\n",
    "    \n",
    "    for A,B in itertools.islice(zip(genA,genB), int(N)):\n",
    "        if A & 0xffff == B & 0xffff:\n",
    "            count += 1\n",
    "    return count"
   ]
  },
  {
   "cell_type": "code",
   "execution_count": 67,
   "metadata": {
    "ExecuteTime": {
     "end_time": "2018-10-27T01:20:08.992051Z",
     "start_time": "2018-10-27T01:20:08.985617Z"
    }
   },
   "outputs": [
    {
     "data": {
      "text/plain": [
       "1"
      ]
     },
     "execution_count": 67,
     "metadata": {},
     "output_type": "execute_result"
    }
   ],
   "source": [
    "judge_filter(example, (4,8), N=1057)"
   ]
  },
  {
   "cell_type": "code",
   "execution_count": 68,
   "metadata": {
    "ExecuteTime": {
     "end_time": "2018-10-27T01:20:32.199942Z",
     "start_time": "2018-10-27T01:20:14.122808Z"
    }
   },
   "outputs": [
    {
     "data": {
      "text/plain": [
       "309"
      ]
     },
     "execution_count": 68,
     "metadata": {},
     "output_type": "execute_result"
    }
   ],
   "source": [
    "judge_filter(example, (4,8))"
   ]
  },
  {
   "cell_type": "code",
   "execution_count": 69,
   "metadata": {
    "ExecuteTime": {
     "end_time": "2018-10-27T01:20:50.129748Z",
     "start_time": "2018-10-27T01:20:32.224953Z"
    }
   },
   "outputs": [
    {
     "data": {
      "text/plain": [
       "320"
      ]
     },
     "execution_count": 69,
     "metadata": {},
     "output_type": "execute_result"
    }
   ],
   "source": [
    "judge_filter(puzzle, (4,8))"
   ]
  },
  {
   "cell_type": "code",
   "execution_count": null,
   "metadata": {},
   "outputs": [],
   "source": []
  }
 ],
 "metadata": {
  "kernelspec": {
   "display_name": "Python 3",
   "language": "python",
   "name": "python3"
  },
  "language_info": {
   "codemirror_mode": {
    "name": "ipython",
    "version": 3
   },
   "file_extension": ".py",
   "mimetype": "text/x-python",
   "name": "python",
   "nbconvert_exporter": "python",
   "pygments_lexer": "ipython3",
   "version": "3.6.4"
  },
  "toc": {
   "nav_menu": {},
   "number_sections": true,
   "sideBar": true,
   "skip_h1_title": false,
   "title_cell": "Table of Contents",
   "title_sidebar": "Contents",
   "toc_cell": false,
   "toc_position": {},
   "toc_section_display": true,
   "toc_window_display": false
  },
  "varInspector": {
   "cols": {
    "lenName": 16,
    "lenType": 16,
    "lenVar": 40
   },
   "kernels_config": {
    "python": {
     "delete_cmd_postfix": "",
     "delete_cmd_prefix": "del ",
     "library": "var_list.py",
     "varRefreshCmd": "print(var_dic_list())"
    },
    "r": {
     "delete_cmd_postfix": ") ",
     "delete_cmd_prefix": "rm(",
     "library": "var_list.r",
     "varRefreshCmd": "cat(var_dic_list()) "
    }
   },
   "types_to_exclude": [
    "module",
    "function",
    "builtin_function_or_method",
    "instance",
    "_Feature"
   ],
   "window_display": false
  }
 },
 "nbformat": 4,
 "nbformat_minor": 2
}
