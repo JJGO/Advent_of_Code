{
 "cells": [
  {
   "cell_type": "code",
   "execution_count": 1,
   "metadata": {
    "ExecuteTime": {
     "end_time": "2018-10-31T23:42:30.117792Z",
     "start_time": "2018-10-31T23:42:30.113345Z"
    }
   },
   "outputs": [],
   "source": [
    "example = \"\"\"p=< 3,0,0>, v=< 2,0,0>, a=<-1,0,0>\n",
    "p=< 4,0,0>, v=< 0,0,0>, a=<-2,0,0>\"\"\""
   ]
  },
  {
   "cell_type": "code",
   "execution_count": 2,
   "metadata": {
    "ExecuteTime": {
     "end_time": "2018-10-31T23:42:53.205245Z",
     "start_time": "2018-10-31T23:42:53.193943Z"
    }
   },
   "outputs": [],
   "source": [
    "with open('input.txt', 'r') as f:\n",
    "    puzzle = f.read().strip()"
   ]
  },
  {
   "cell_type": "code",
   "execution_count": 3,
   "metadata": {
    "ExecuteTime": {
     "end_time": "2018-10-31T23:45:39.635290Z",
     "start_time": "2018-10-31T23:45:39.633228Z"
    }
   },
   "outputs": [],
   "source": [
    "import numpy as np"
   ]
  },
  {
   "cell_type": "code",
   "execution_count": 4,
   "metadata": {
    "ExecuteTime": {
     "end_time": "2018-10-31T23:45:45.167946Z",
     "start_time": "2018-10-31T23:45:45.158890Z"
    }
   },
   "outputs": [],
   "source": [
    "def parse_input(text):\n",
    "    particles = []\n",
    "    for line in text.split('\\n'):\n",
    "        particle = []\n",
    "        for component in line.split(', '):\n",
    "            array = component[3:-1].split(',')\n",
    "            array = [int(i) for i in array]\n",
    "            particle.append(array)\n",
    "        particles.append(particle)\n",
    "    return np.array(particles)"
   ]
  },
  {
   "cell_type": "code",
   "execution_count": 8,
   "metadata": {
    "ExecuteTime": {
     "end_time": "2018-10-31T23:46:25.743015Z",
     "start_time": "2018-10-31T23:46:25.733996Z"
    }
   },
   "outputs": [],
   "source": [
    "example = parse_input(example)\n",
    "puzzle = parse_input(puzzle)"
   ]
  },
  {
   "cell_type": "code",
   "execution_count": 71,
   "metadata": {
    "ExecuteTime": {
     "end_time": "2018-10-31T23:58:31.059487Z",
     "start_time": "2018-10-31T23:58:31.052303Z"
    }
   },
   "outputs": [],
   "source": [
    "def slowest(particles):\n",
    "    # big O\n",
    "    mod_acc = np.linalg.norm(particles[:,2,:], axis=1)\n",
    "    min_acc = np.min(mod_acc)\n",
    "    p_min_acc = np.where(mod_acc == min_acc)[0]\n",
    "    mod_vel = np.linalg.norm(particles[p_min_acc,1:],axis=1)\n",
    "    min_vel = np.min(mod_vel)\n",
    "    return p_min_acc[np.where(mod_vel == min_vel)[0]][0]\n"
   ]
  },
  {
   "cell_type": "code",
   "execution_count": 72,
   "metadata": {
    "ExecuteTime": {
     "end_time": "2018-10-31T23:58:38.971852Z",
     "start_time": "2018-10-31T23:58:38.967711Z"
    }
   },
   "outputs": [
    {
     "data": {
      "text/plain": [
       "0"
      ]
     },
     "execution_count": 72,
     "metadata": {},
     "output_type": "execute_result"
    }
   ],
   "source": [
    "slowest(example)"
   ]
  },
  {
   "cell_type": "code",
   "execution_count": 68,
   "metadata": {
    "ExecuteTime": {
     "end_time": "2018-10-31T23:57:23.477766Z",
     "start_time": "2018-10-31T23:57:23.471225Z"
    }
   },
   "outputs": [
    {
     "data": {
      "text/plain": [
       "344"
      ]
     },
     "execution_count": 68,
     "metadata": {},
     "output_type": "execute_result"
    }
   ],
   "source": [
    "slowest(puzzle)"
   ]
  },
  {
   "cell_type": "code",
   "execution_count": 73,
   "metadata": {
    "ExecuteTime": {
     "end_time": "2018-11-01T00:07:12.119385Z",
     "start_time": "2018-11-01T00:07:12.117029Z"
    }
   },
   "outputs": [],
   "source": [
    "from collections import Counter"
   ]
  },
  {
   "cell_type": "code",
   "execution_count": 77,
   "metadata": {
    "ExecuteTime": {
     "end_time": "2018-11-01T00:08:11.789865Z",
     "start_time": "2018-11-01T00:08:11.784637Z"
    }
   },
   "outputs": [
    {
     "data": {
      "text/plain": [
       "[((1, 2, 3), 2), ((1, 2, 4), 1)]"
      ]
     },
     "execution_count": 77,
     "metadata": {},
     "output_type": "execute_result"
    }
   ],
   "source": [
    "Counter([(1,2,3),(1,2,4),(1,2,3)]).most_common()"
   ]
  },
  {
   "cell_type": "code",
   "execution_count": 78,
   "metadata": {
    "ExecuteTime": {
     "end_time": "2018-11-01T02:17:33.869148Z",
     "start_time": "2018-11-01T02:17:33.866633Z"
    }
   },
   "outputs": [],
   "source": [
    "example_collision = \"\"\"p=<-6,0,0>, v=< 3,0,0>, a=< 0,0,0>\n",
    "p=<-4,0,0>, v=< 2,0,0>, a=< 0,0,0>\n",
    "p=<-2,0,0>, v=< 1,0,0>, a=< 0,0,0>\n",
    "p=< 3,0,0>, v=<-1,0,0>, a=< 0,0,0>\"\"\""
   ]
  },
  {
   "cell_type": "code",
   "execution_count": 80,
   "metadata": {
    "ExecuteTime": {
     "end_time": "2018-11-01T02:17:49.966152Z",
     "start_time": "2018-11-01T02:17:49.963829Z"
    }
   },
   "outputs": [],
   "source": [
    "example_collision = parse_input(example_collision)"
   ]
  },
  {
   "cell_type": "code",
   "execution_count": 109,
   "metadata": {
    "ExecuteTime": {
     "end_time": "2018-11-01T02:22:50.481649Z",
     "start_time": "2018-11-01T02:22:50.468287Z"
    }
   },
   "outputs": [],
   "source": [
    "def simulate(particles, N=100):\n",
    "    particles = particles.copy()\n",
    "    for i in range(100):\n",
    "        particles[:,1] += particles[:,2]\n",
    "        particles[:,0] += particles[:,1]\n",
    "        \n",
    "        count = Counter([tuple(p) for p in  particles[:,0]])\n",
    "        for p, c in count.most_common():\n",
    "            if c == 1:\n",
    "                break\n",
    "            print(\"collision\", c, p)\n",
    "            collision = np.all(particles[:,0] == np.array(list(p)), axis=1)\n",
    "            particles = particles[~collision]\n",
    "    return len(particles)"
   ]
  },
  {
   "cell_type": "code",
   "execution_count": 110,
   "metadata": {
    "ExecuteTime": {
     "end_time": "2018-11-01T02:22:50.863339Z",
     "start_time": "2018-11-01T02:22:50.856177Z"
    }
   },
   "outputs": [
    {
     "name": "stdout",
     "output_type": "stream",
     "text": [
      "collision 3 (0, 0, 0)\n"
     ]
    },
    {
     "data": {
      "text/plain": [
       "1"
      ]
     },
     "execution_count": 110,
     "metadata": {},
     "output_type": "execute_result"
    }
   ],
   "source": [
    "simulate(example_collision)"
   ]
  },
  {
   "cell_type": "code",
   "execution_count": 111,
   "metadata": {
    "ExecuteTime": {
     "end_time": "2018-11-01T02:22:53.385350Z",
     "start_time": "2018-11-01T02:22:53.229835Z"
    }
   },
   "outputs": [
    {
     "name": "stdout",
     "output_type": "stream",
     "text": [
      "collision 9 (-12, -44, 7)\n",
      "collision 6 (44, 1, 3)\n",
      "collision 6 (-5, -1, -50)\n",
      "collision 5 (-23, -16, 7)\n",
      "collision 9 (-7, 49, -2)\n",
      "collision 7 (-13, -10, -33)\n",
      "collision 4 (23, -38, 43)\n",
      "collision 4 (-31, 2, -7)\n",
      "collision 3 (-5, -9, -24)\n",
      "collision 5 (-5, -28, 26)\n",
      "collision 5 (-5, -24, 27)\n",
      "collision 5 (18, 42, 14)\n",
      "collision 5 (46, 36, 20)\n",
      "collision 6 (-85, 19, 26)\n",
      "collision 4 (25, 20, -1)\n",
      "collision 2 (-41, 20, -22)\n",
      "collision 9 (0, -1, 29)\n",
      "collision 2 (4, -17, 17)\n",
      "collision 9 (12, -10, -17)\n",
      "collision 7 (25, -16, 37)\n",
      "collision 6 (-6, 37, 16)\n",
      "collision 8 (-33, 2, -39)\n",
      "collision 7 (39, 0, 47)\n",
      "collision 6 (-15, -22, 38)\n",
      "collision 6 (13, -16, -59)\n",
      "collision 4 (30, 16, -53)\n",
      "collision 3 (58, 29, -32)\n",
      "collision 9 (24, -1, -11)\n",
      "collision 5 (4, 67, -24)\n",
      "collision 5 (10, 2, -6)\n",
      "collision 4 (16, -2, 1)\n",
      "collision 4 (-30, -4, -4)\n",
      "collision 6 (-1, 32, 38)\n",
      "collision 6 (57, 63, 18)\n",
      "collision 4 (14, -1, -35)\n",
      "collision 9 (-7, -2, 18)\n",
      "collision 8 (-3, -12, 18)\n",
      "collision 6 (21, -21, 10)\n",
      "collision 6 (26, -2, 9)\n",
      "collision 7 (50, 32, 11)\n",
      "collision 6 (-2, 21, -4)\n",
      "collision 2 (21, 11, -10)\n",
      "collision 10 (45, -17, -41)\n",
      "collision 7 (84, -37, 45)\n",
      "collision 10 (31, 24, -17)\n",
      "collision 9 (18, 18, 40)\n",
      "collision 8 (-80, 20, 11)\n",
      "collision 2 (-58, 16, -1)\n",
      "collision 10 (2, -27, -36)\n",
      "collision 4 (-33, 73, 30)\n",
      "collision 3 (-16, -22, -28)\n",
      "collision 2 (-28, -70, 1)\n",
      "collision 9 (-20, -15, -17)\n",
      "collision 8 (-4, -9, 17)\n",
      "collision 5 (33, -6, -22)\n",
      "collision 10 (1, -21, 33)\n",
      "collision 5 (14, 26, 10)\n",
      "collision 2 (22, -21, 19)\n",
      "collision 10 (-23, -9, 36)\n",
      "collision 9 (-24, -29, -35)\n",
      "collision 8 (15, 3, 73)\n",
      "collision 6 (-16, -58, -28)\n",
      "collision 10 (3, 52, 18)\n",
      "collision 5 (24, 13, -25)\n",
      "collision 3 (6, -4, -8)\n",
      "collision 2 (22, -27, -1)\n",
      "collision 5 (3, -2, 21)\n",
      "collision 2 (40, 1, -37)\n",
      "collision 10 (56, -12, 45)\n",
      "collision 8 (-17, -39, 16)\n",
      "collision 5 (58, 62, 36)\n",
      "collision 5 (39, 48, -67)\n",
      "collision 10 (-11, -16, -18)\n",
      "collision 6 (5, 1, -15)\n",
      "collision 8 (16, 6, 21)\n",
      "collision 8 (2, -4, 9)\n",
      "collision 7 (1, 10, 27)\n",
      "collision 10 (-4, 32, -45)\n",
      "collision 10 (33, -4, 31)\n",
      "collision 9 (-35, -22, -3)\n",
      "collision 9 (-8, -11, -2)\n",
      "collision 7 (16, 32, 27)\n",
      "collision 6 (12, -2, 5)\n",
      "collision 4 (-14, -11, -2)\n",
      "collision 3 (66, 25, -1)\n",
      "collision 2 (-39, -59, -12)\n",
      "collision 9 (22, 7, -3)\n",
      "collision 7 (-6, -2, -11)\n",
      "collision 5 (21, -34, 23)\n",
      "collision 4 (-8, 0, 17)\n",
      "collision 5 (33, 17, -8)\n",
      "collision 2 (41, 35, 25)\n",
      "collision 4 (-34, 8, 14)\n",
      "collision 10 (-12, -21, 2)\n",
      "collision 9 (-28, 22, -7)\n",
      "collision 6 (29, -38, -2)\n",
      "collision 5 (-28, 10, 41)\n"
     ]
    },
    {
     "data": {
      "text/plain": [
       "404"
      ]
     },
     "execution_count": 111,
     "metadata": {},
     "output_type": "execute_result"
    }
   ],
   "source": [
    "simulate(puzzle)"
   ]
  },
  {
   "cell_type": "code",
   "execution_count": null,
   "metadata": {},
   "outputs": [],
   "source": []
  }
 ],
 "metadata": {
  "kernelspec": {
   "display_name": "Python 3",
   "language": "python",
   "name": "python3"
  },
  "language_info": {
   "codemirror_mode": {
    "name": "ipython",
    "version": 3
   },
   "file_extension": ".py",
   "mimetype": "text/x-python",
   "name": "python",
   "nbconvert_exporter": "python",
   "pygments_lexer": "ipython3",
   "version": "3.6.4"
  },
  "toc": {
   "nav_menu": {},
   "number_sections": true,
   "sideBar": true,
   "skip_h1_title": false,
   "title_cell": "Table of Contents",
   "title_sidebar": "Contents",
   "toc_cell": false,
   "toc_position": {},
   "toc_section_display": true,
   "toc_window_display": false
  },
  "varInspector": {
   "cols": {
    "lenName": 16,
    "lenType": 16,
    "lenVar": 40
   },
   "kernels_config": {
    "python": {
     "delete_cmd_postfix": "",
     "delete_cmd_prefix": "del ",
     "library": "var_list.py",
     "varRefreshCmd": "print(var_dic_list())"
    },
    "r": {
     "delete_cmd_postfix": ") ",
     "delete_cmd_prefix": "rm(",
     "library": "var_list.r",
     "varRefreshCmd": "cat(var_dic_list()) "
    }
   },
   "types_to_exclude": [
    "module",
    "function",
    "builtin_function_or_method",
    "instance",
    "_Feature"
   ],
   "window_display": false
  }
 },
 "nbformat": 4,
 "nbformat_minor": 2
}
