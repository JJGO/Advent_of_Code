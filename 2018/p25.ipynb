{
 "cells": [
  {
   "cell_type": "code",
   "execution_count": 1,
   "id": "e63b3a6b",
   "metadata": {},
   "outputs": [],
   "source": [
    "import parse"
   ]
  },
  {
   "cell_type": "code",
   "execution_count": 7,
   "id": "3affa01f",
   "metadata": {},
   "outputs": [],
   "source": [
    "from aocd.models import Puzzle\n",
    "\n",
    "puzzle = Puzzle(year=2018, day=25)\n",
    "\n",
    "def parses(data):\n",
    "    return np.array([[int(i) for i in line.split(',')] for line in data.strip().split('\\n')])\n",
    "#     return np.array(pos), np.array(r)\n",
    "\n",
    "data = parses(puzzle.input_data)"
   ]
  },
  {
   "cell_type": "code",
   "execution_count": 63,
   "id": "86a4db8a",
   "metadata": {},
   "outputs": [],
   "source": [
    "samples = [\n",
    "(parses(\"\"\" 0,0,0,0\n",
    "3,0,0,0\n",
    "0,3,0,0\n",
    "0,0,3,0\n",
    "0,0,0,3\n",
    "0,0,0,6\n",
    "9,0,0,0\n",
    "12,0,0,0\n",
    "\"\"\"),2),\n",
    "(parses(\"\"\" 0,0,0,0\n",
    "3,0,0,0\n",
    "0,3,0,0\n",
    "0,0,3,0\n",
    "0,0,0,3\n",
    "0,0,0,6\n",
    "6,0,0,0\n",
    "9,0,0,0\n",
    "12,0,0,0\n",
    "\"\"\"),1),\n",
    "(parses(\"\"\"-1,2,2,0\n",
    "0,0,2,-2\n",
    "0,0,0,-2\n",
    "-1,2,0,0\n",
    "-2,-2,-2,2\n",
    "3,0,2,-1\n",
    "-1,3,2,2\n",
    "-1,0,-1,0\n",
    "0,2,1,-2\n",
    "3,0,0,0\"\"\"), 4),\n",
    "(parses(\"\"\"1,-1,0,1\n",
    "2,0,-1,0\n",
    "3,2,-1,0\n",
    "0,0,3,1\n",
    "0,0,-1,-1\n",
    "2,3,-2,0\n",
    "-2,2,0,0\n",
    "2,-2,0,-1\n",
    "1,-1,0,-1\n",
    "3,2,0,2\"\"\"), 3),\n",
    "(parses(\"\"\"1,-1,-1,-2\n",
    "-2,-2,0,1\n",
    "0,2,1,3\n",
    "-2,3,-2,1\n",
    "0,2,3,-2\n",
    "-1,-1,1,-2\n",
    "0,-2,-1,0\n",
    "-2,2,3,-1\n",
    "1,2,2,0\n",
    "-1,-2,0,-2\"\"\"), 8),\n",
    "]"
   ]
  },
  {
   "cell_type": "code",
   "execution_count": 38,
   "id": "7842e9b6",
   "metadata": {},
   "outputs": [],
   "source": [
    "from scipy.spatial.distance import cdist"
   ]
  },
  {
   "cell_type": "code",
   "execution_count": 123,
   "id": "59bb625c",
   "metadata": {},
   "outputs": [],
   "source": [
    "\n",
    "def constellations(stars):\n",
    "    distances = cdist(stars, stars, metric='cityblock')\n",
    "    graph = defaultdict(list)\n",
    "    for i, j in np.argwhere(distances <= 3):\n",
    "        if i != j:\n",
    "            graph[i].append(j)\n",
    "    constellations = 0\n",
    "    visited = set()\n",
    "    for n, _ in enumerate(stars):\n",
    "        if n not in visited:\n",
    "            visited.add(n)\n",
    "            constellations += 1\n",
    "            stack = [n]\n",
    "            while stack:\n",
    "                m = stack.pop()\n",
    "                for child in graph[m]:\n",
    "                    if child not in visited:\n",
    "                        visited.add(child)\n",
    "                        stack.append(child)\n",
    "    return constellations\n",
    "        "
   ]
  },
  {
   "cell_type": "code",
   "execution_count": 124,
   "id": "c8c6baba",
   "metadata": {},
   "outputs": [
    {
     "name": "stdout",
     "output_type": "stream",
     "text": [
      "2 2\n",
      "1 1\n",
      "4 4\n",
      "3 3\n",
      "8 8\n"
     ]
    }
   ],
   "source": [
    "for s, sol in samples:\n",
    "    print(constellations(s), sol)"
   ]
  },
  {
   "cell_type": "code",
   "execution_count": 119,
   "id": "c24dd265",
   "metadata": {},
   "outputs": [
    {
     "data": {
      "text/plain": [
       "370"
      ]
     },
     "execution_count": 119,
     "metadata": {},
     "output_type": "execute_result"
    }
   ],
   "source": [
    "len(constellations(data))"
   ]
  },
  {
   "cell_type": "code",
   "execution_count": null,
   "id": "511ae616",
   "metadata": {},
   "outputs": [],
   "source": []
  }
 ],
 "metadata": {
  "kernelspec": {
   "display_name": "Python 3",
   "language": "python",
   "name": "python3"
  },
  "language_info": {
   "codemirror_mode": {
    "name": "ipython",
    "version": 3
   },
   "file_extension": ".py",
   "mimetype": "text/x-python",
   "name": "python",
   "nbconvert_exporter": "python",
   "pygments_lexer": "ipython3",
   "version": "3.8.8"
  }
 },
 "nbformat": 4,
 "nbformat_minor": 5
}
