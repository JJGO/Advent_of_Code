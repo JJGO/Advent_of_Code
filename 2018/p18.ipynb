{
 "cells": [
  {
   "cell_type": "code",
   "execution_count": 199,
   "metadata": {},
   "outputs": [],
   "source": [
    "from aocd.models import Puzzle\n",
    "\n",
    "puzzle = Puzzle(year=2018, day=18)\n",
    "\n",
    "def parses(data):\n",
    "    # 0=open, 1=trees, 2=lumber\n",
    "    data = data.replace('.', '0').replace('|', '1').replace('#','2')\n",
    "    return [[int(i) for i in line] for line in data.strip().split('\\n')]\n",
    "    \n",
    "data = parses(puzzle.input_data)"
   ]
  },
  {
   "cell_type": "code",
   "execution_count": 169,
   "metadata": {},
   "outputs": [],
   "source": [
    "sample = parses(\"\"\".#.#...|#.\n",
    ".....#|##|\n",
    ".|..|...#.\n",
    "..|#.....#\n",
    "#.#|||#|#|\n",
    "...#.||...\n",
    ".|....|...\n",
    "||...#|.#|\n",
    "|.||||..|.\n",
    "...#.|..|.\"\"\")"
   ]
  },
  {
   "cell_type": "code",
   "execution_count": 170,
   "metadata": {},
   "outputs": [
    {
     "data": {
      "text/plain": [
       "[[0, 2, 0, 2, 0, 0, 0, 1, 2, 0],\n",
       " [0, 0, 0, 0, 0, 2, 1, 2, 2, 1],\n",
       " [0, 1, 0, 0, 1, 0, 0, 0, 2, 0],\n",
       " [0, 0, 1, 2, 0, 0, 0, 0, 0, 2],\n",
       " [2, 0, 2, 1, 1, 1, 2, 1, 2, 1],\n",
       " [0, 0, 0, 2, 0, 1, 1, 0, 0, 0],\n",
       " [0, 1, 0, 0, 0, 0, 1, 0, 0, 0],\n",
       " [1, 1, 0, 0, 0, 2, 1, 0, 2, 1],\n",
       " [1, 0, 1, 1, 1, 1, 0, 0, 1, 0],\n",
       " [0, 0, 0, 2, 0, 1, 0, 0, 1, 0]]"
      ]
     },
     "execution_count": 170,
     "metadata": {},
     "output_type": "execute_result"
    }
   ],
   "source": [
    "sample"
   ]
  },
  {
   "cell_type": "code",
   "execution_count": 184,
   "metadata": {},
   "outputs": [],
   "source": [
    "def render(area):   \n",
    "    N, M = area.shape\n",
    "    for i in range(N):\n",
    "        line = \"\"\n",
    "        units = []\n",
    "        for j in range(M):\n",
    "            c = ['.', '|', '#'][area[i,j]]\n",
    "            line += c\n",
    "        line = line + '    ' + ', '.join(units)\n",
    "        print(line)"
   ]
  },
  {
   "cell_type": "code",
   "execution_count": 230,
   "metadata": {},
   "outputs": [],
   "source": [
    "def slow_run_step(area):\n",
    "    new_area = area.copy()\n",
    "    N, M = area.shape\n",
    "    for i in range(N):\n",
    "        for j in range(M):\n",
    "            counts = [0,0,0]\n",
    "            for di, dj in itertools.product([-1,0,1], repeat=2):\n",
    "                if di == 0 and dj == 0:\n",
    "                    continue\n",
    "                if 0 <= i+di < N and 0 <= j+dj < M:\n",
    "                    counts[area[i+di,j+dj]] += 1\n",
    "            if area[i,j] == 0 and counts[1] >= 3:\n",
    "                new_area[i,j] = 1\n",
    "            elif area[i,j] == 1 and counts[2] >= 3:\n",
    "                new_area[i,j] = 2\n",
    "            elif area[i,j] == 2 and (counts[1] < 1 or counts[2] < 1):\n",
    "                new_area[i,j] = 0\n",
    "    return new_area"
   ]
  },
  {
   "cell_type": "code",
   "execution_count": 231,
   "metadata": {},
   "outputs": [],
   "source": [
    "def run_step(area):\n",
    "    new_area = area.copy()\n",
    "    neigh_slices = list(itertools.product([slice(None,-2), slice(1,-1), slice(2,None)], repeat=2))\n",
    "    neigh_slices.pop(4) # Remove the center\n",
    "    p_area = np.pad(area, 1, constant_values=0)\n",
    "    neigh_trees = np.sum([p_area[s] == 1 for s in neigh_slices], axis=0)\n",
    "    neigh_lumber = np.sum([p_area[s] == 2 for s in neigh_slices], axis=0)\n",
    "    new_area[(area == 0) & (neigh_trees >= 3)] = 1\n",
    "    new_area[(area == 1) & (neigh_lumber >= 3)] = 2\n",
    "    new_area[(area == 2) & ((neigh_trees < 1) | (neigh_lumber < 1))] = 0\n",
    "    return new_area"
   ]
  },
  {
   "cell_type": "code",
   "execution_count": 228,
   "metadata": {},
   "outputs": [
    {
     "name": "stdout",
     "output_type": "stream",
     "text": [
      "13.9 ms ± 573 µs per loop (mean ± std. dev. of 7 runs, 100 loops each)\n"
     ]
    }
   ],
   "source": [
    "%%timeit\n",
    "area = np.array(data)\n",
    "run_step(area)"
   ]
  },
  {
   "cell_type": "code",
   "execution_count": 229,
   "metadata": {},
   "outputs": [
    {
     "name": "stdout",
     "output_type": "stream",
     "text": [
      "524 µs ± 23.5 µs per loop (mean ± std. dev. of 7 runs, 1000 loops each)\n"
     ]
    }
   ],
   "source": [
    "%%timeit\n",
    "area = np.array(data)\n",
    "np_run_step(area)"
   ]
  },
  {
   "cell_type": "code",
   "execution_count": 235,
   "metadata": {},
   "outputs": [],
   "source": [
    "def solve_a(area, mins):\n",
    "    area = np.array(area)\n",
    "    for k in range(mins):\n",
    "        area = run_step(area)\n",
    "    return (area == 1).sum() * (area == 2).sum()"
   ]
  },
  {
   "cell_type": "code",
   "execution_count": 236,
   "metadata": {},
   "outputs": [
    {
     "data": {
      "text/plain": [
       "1147"
      ]
     },
     "execution_count": 236,
     "metadata": {},
     "output_type": "execute_result"
    }
   ],
   "source": [
    "solve_a(sample, 10)"
   ]
  },
  {
   "cell_type": "code",
   "execution_count": 233,
   "metadata": {},
   "outputs": [],
   "source": [
    "def solve_b(area):\n",
    "    seen = {}\n",
    "    area = np.array(area)\n",
    "    for k in itertools.count():\n",
    "        area = run_step(area)\n",
    "        \n",
    "        h = hash(\"|\".join(\"\".join([str(c) for c in line]) for line in area))\n",
    "        if h in seen:\n",
    "            cycle_len = k - seen[h][0]\n",
    "            mod_min = (1_000_000_000-k-1) % cycle_len\n",
    "            return solve_a(area, mod_min)\n",
    "        value = (area == 1).sum() * (area == 2).sum()\n",
    "        seen[h] = (k, value)"
   ]
  },
  {
   "cell_type": "code",
   "execution_count": 234,
   "metadata": {},
   "outputs": [
    {
     "data": {
      "text/plain": [
       "207998"
      ]
     },
     "execution_count": 234,
     "metadata": {},
     "output_type": "execute_result"
    }
   ],
   "source": [
    "solve_b(data)"
   ]
  }
 ],
 "metadata": {
  "kernelspec": {
   "display_name": "Python 3",
   "language": "python",
   "name": "python3"
  },
  "language_info": {
   "codemirror_mode": {
    "name": "ipython",
    "version": 3
   },
   "file_extension": ".py",
   "mimetype": "text/x-python",
   "name": "python",
   "nbconvert_exporter": "python",
   "pygments_lexer": "ipython3",
   "version": "3.8.8"
  }
 },
 "nbformat": 4,
 "nbformat_minor": 4
}
