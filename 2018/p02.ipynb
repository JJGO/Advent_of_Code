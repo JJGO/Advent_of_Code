{
 "cells": [
  {
   "cell_type": "code",
   "execution_count": 9,
   "metadata": {},
   "outputs": [],
   "source": [
    "from aocd.models import Puzzle\n",
    "\n",
    "puzzle = Puzzle(year=2018, day=2)\n",
    "\n",
    "def parses(input):\n",
    "    return [x for x in input.strip().split('\\n')]\n",
    "\n",
    "data = parses(puzzle.input_data)"
   ]
  },
  {
   "cell_type": "code",
   "execution_count": 10,
   "metadata": {},
   "outputs": [],
   "source": [
    "import itertools\n",
    "from collections import Counter"
   ]
  },
  {
   "cell_type": "code",
   "execution_count": 11,
   "metadata": {},
   "outputs": [],
   "source": [
    "def checksum(words):\n",
    "    c2, c3 = 0, 0\n",
    "    for w in words:\n",
    "        c = Counter(w)\n",
    "        c2 += any(i == 2 for i in c.values())\n",
    "        c3 += any(i == 3 for i in c.values())\n",
    "    return c2 * c3"
   ]
  },
  {
   "cell_type": "code",
   "execution_count": 12,
   "metadata": {},
   "outputs": [],
   "source": [
    "sampleA = [    \n",
    "    'abcdef',\n",
    "    'bababc',\n",
    "    'abbcde',\n",
    "    'abcccd',\n",
    "    'aabcdd',\n",
    "    'abcdee',\n",
    "    'ababab',\n",
    "    ]\n",
    "assert checksum(sampleA) == 12"
   ]
  },
  {
   "cell_type": "code",
   "execution_count": 13,
   "metadata": {},
   "outputs": [],
   "source": [
    "puzzle.answer_a = checksum(data)"
   ]
  },
  {
   "cell_type": "code",
   "execution_count": 14,
   "metadata": {},
   "outputs": [],
   "source": [
    "def prototype(words):\n",
    "    for a, b in itertools.combinations(words, 2):\n",
    "        if sum(c!=d for c,d in zip(a,b)) == 1:\n",
    "            return \"\".join(c for c,d in zip(a,b) if c == d)\n"
   ]
  },
  {
   "cell_type": "code",
   "execution_count": 15,
   "metadata": {},
   "outputs": [],
   "source": [
    "sampleB = [\n",
    "    \"abcde\",\n",
    "    \"fghij\",\n",
    "    \"klmno\",\n",
    "    \"pqrst\",\n",
    "    \"fguij\",\n",
    "    \"axcye\",\n",
    "    \"wvxyz\",\n",
    "]\n",
    "assert prototype(sampleB) == 'fgij'"
   ]
  },
  {
   "cell_type": "code",
   "execution_count": 16,
   "metadata": {},
   "outputs": [
    {
     "data": {
      "text/plain": [
       "'prtkqyluiusocwvaezjmhmfgx'"
      ]
     },
     "execution_count": 16,
     "metadata": {},
     "output_type": "execute_result"
    }
   ],
   "source": [
    "prototype(data)"
   ]
  },
  {
   "cell_type": "code",
   "execution_count": 17,
   "metadata": {},
   "outputs": [],
   "source": [
    "puzzle.answer_b = prototype(data)"
   ]
  },
  {
   "cell_type": "code",
   "execution_count": null,
   "metadata": {},
   "outputs": [],
   "source": []
  }
 ],
 "metadata": {
  "kernelspec": {
   "display_name": "Python 3",
   "language": "python",
   "name": "python3"
  },
  "language_info": {
   "codemirror_mode": {
    "name": "ipython",
    "version": 3
   },
   "file_extension": ".py",
   "mimetype": "text/x-python",
   "name": "python",
   "nbconvert_exporter": "python",
   "pygments_lexer": "ipython3",
   "version": "3.8.3"
  }
 },
 "nbformat": 4,
 "nbformat_minor": 4
}
