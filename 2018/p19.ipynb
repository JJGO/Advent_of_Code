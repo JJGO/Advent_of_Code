{
 "cells": [
  {
   "cell_type": "code",
   "execution_count": 1,
   "metadata": {},
   "outputs": [],
   "source": [
    "from p16 import ops"
   ]
  },
  {
   "cell_type": "code",
   "execution_count": 2,
   "metadata": {},
   "outputs": [],
   "source": [
    "from aocd.models import Puzzle\n",
    "\n",
    "puzzle = Puzzle(year=2018, day=19)\n",
    "\n",
    "def parses(data):\n",
    "    ip_reg, *program = data.strip().split('\\n')\n",
    "    ip_reg = int(ip_reg[-1])\n",
    "    program = [line.split(' ') for line in program]\n",
    "    program = [(op, [int(i) for i in args]) for op, *args in program]\n",
    "    return ip_reg, program\n",
    "    \n",
    "data = parses(puzzle.input_data)"
   ]
  },
  {
   "cell_type": "code",
   "execution_count": 3,
   "metadata": {},
   "outputs": [],
   "source": [
    "sample = parses(\"\"\"#ip 0\n",
    "seti 5 0 1\n",
    "seti 6 0 2\n",
    "addi 0 1 0\n",
    "addr 1 2 3\n",
    "setr 1 0 0\n",
    "seti 8 0 4\n",
    "seti 9 0 5\"\"\")"
   ]
  },
  {
   "cell_type": "code",
   "execution_count": 4,
   "metadata": {},
   "outputs": [
    {
     "data": {
      "text/plain": [
       "(0,\n",
       " [('seti', [5, 0, 1]),\n",
       "  ('seti', [6, 0, 2]),\n",
       "  ('addi', [0, 1, 0]),\n",
       "  ('addr', [1, 2, 3]),\n",
       "  ('setr', [1, 0, 0]),\n",
       "  ('seti', [8, 0, 4]),\n",
       "  ('seti', [9, 0, 5])])"
      ]
     },
     "execution_count": 4,
     "metadata": {},
     "output_type": "execute_result"
    }
   ],
   "source": [
    "sample"
   ]
  },
  {
   "cell_type": "code",
   "execution_count": 5,
   "metadata": {},
   "outputs": [
    {
     "data": {
      "text/plain": [
       "(3,\n",
       " [('addi', [3, 16, 3]),\n",
       "  ('seti', [1, 2, 5]),\n",
       "  ('seti', [1, 3, 2]),\n",
       "  ('mulr', [5, 2, 1]),\n",
       "  ('eqrr', [1, 4, 1]),\n",
       "  ('addr', [1, 3, 3]),\n",
       "  ('addi', [3, 1, 3]),\n",
       "  ('addr', [5, 0, 0]),\n",
       "  ('addi', [2, 1, 2]),\n",
       "  ('gtrr', [2, 4, 1]),\n",
       "  ('addr', [3, 1, 3]),\n",
       "  ('seti', [2, 5, 3]),\n",
       "  ('addi', [5, 1, 5]),\n",
       "  ('gtrr', [5, 4, 1]),\n",
       "  ('addr', [1, 3, 3]),\n",
       "  ('seti', [1, 2, 3]),\n",
       "  ('mulr', [3, 3, 3]),\n",
       "  ('addi', [4, 2, 4]),\n",
       "  ('mulr', [4, 4, 4]),\n",
       "  ('mulr', [3, 4, 4]),\n",
       "  ('muli', [4, 11, 4]),\n",
       "  ('addi', [1, 6, 1]),\n",
       "  ('mulr', [1, 3, 1]),\n",
       "  ('addi', [1, 21, 1]),\n",
       "  ('addr', [4, 1, 4]),\n",
       "  ('addr', [3, 0, 3]),\n",
       "  ('seti', [0, 3, 3]),\n",
       "  ('setr', [3, 4, 1]),\n",
       "  ('mulr', [1, 3, 1]),\n",
       "  ('addr', [3, 1, 1]),\n",
       "  ('mulr', [3, 1, 1]),\n",
       "  ('muli', [1, 14, 1]),\n",
       "  ('mulr', [1, 3, 1]),\n",
       "  ('addr', [4, 1, 4]),\n",
       "  ('seti', [0, 3, 0]),\n",
       "  ('seti', [0, 7, 3])])"
      ]
     },
     "execution_count": 5,
     "metadata": {},
     "output_type": "execute_result"
    }
   ],
   "source": []
  },
  {
   "cell_type": "code",
   "execution_count": 135,
   "metadata": {},
   "outputs": [],
   "source": [
    "def solve_a(data):\n",
    "    ip_reg, program = data\n",
    "    ip = 0\n",
    "    N = len(program)\n",
    "    reg = [0]*6\n",
    "    while ip < N:\n",
    "        opcode, args = program[ip]\n",
    "        reg[ip_reg] = ip\n",
    "        ops[opcode](reg, *args)\n",
    "        ip = reg[ip_reg] + 1\n",
    "    return reg[0]"
   ]
  },
  {
   "cell_type": "code",
   "execution_count": 136,
   "metadata": {},
   "outputs": [
    {
     "data": {
      "text/plain": [
       "6"
      ]
     },
     "execution_count": 136,
     "metadata": {},
     "output_type": "execute_result"
    }
   ],
   "source": [
    "solve_a(sample)"
   ]
  },
  {
   "cell_type": "code",
   "execution_count": 139,
   "metadata": {},
   "outputs": [],
   "source": [
    "def solve_b(data, reg0=1):\n",
    "    \"\"\"\n",
    "    Tricky problem, it can be solved rather analitically\n",
    "    I'm unsure how the input changes but the rough idea is as follows:\n",
    "\n",
    "    After disassembling the code it can be simplified down to\n",
    "    r4 = 989 if r0 == 0 else 10551389\n",
    "    for r5 in range(r4):\n",
    "        for r2 in range(r4):\n",
    "            if i*j == r4:\n",
    "                r0 += r5\n",
    "\n",
    "    which for large numbers is still unwieldy to simulate.\n",
    "    However we can easily solve it by realizing that we are just\n",
    "    computing the sum of factors/divisors of r4\n",
    "    \"\"\"\n",
    "\n",
    "    ip_reg, program = data\n",
    "    ip = 0\n",
    "    reg = [reg0] + [0]*5\n",
    "    while ip != 3:\n",
    "        opcode, args = program[ip]\n",
    "        reg[ip_reg] = ip\n",
    "        ops[opcode](reg, *args)\n",
    "        ip = reg[ip_reg] + 1\n",
    "    loop_reg = program[13][1][1] # Loop register\n",
    "    N = reg[loop_reg]\n",
    "    return sum(divisors(N))\n"
   ]
  },
  {
   "cell_type": "code",
   "execution_count": 140,
   "metadata": {},
   "outputs": [
    {
     "data": {
      "text/plain": [
       "1056"
      ]
     },
     "execution_count": 140,
     "metadata": {},
     "output_type": "execute_result"
    }
   ],
   "source": [
    "solve_b(data, 0)"
   ]
  },
  {
   "cell_type": "code",
   "execution_count": 141,
   "metadata": {},
   "outputs": [
    {
     "data": {
      "text/plain": [
       "10915260"
      ]
     },
     "execution_count": 141,
     "metadata": {},
     "output_type": "execute_result"
    }
   ],
   "source": [
    "solve_b(data, 1)"
   ]
  },
  {
   "cell_type": "code",
   "execution_count": null,
   "metadata": {},
   "outputs": [],
   "source": []
  },
  {
   "cell_type": "code",
   "execution_count": null,
   "metadata": {},
   "outputs": [],
   "source": [
    "addi 3 16 3\n",
    "seti 1 2 5\n",
    "seti 1 3 2\n",
    "mulr 5 2 1\n",
    "eqrr 1 4 1\n",
    "addr 1 3 3\n",
    "addi 3 1 3\n",
    "addr 5 0 0\n",
    "addi 2 1 2\n",
    "gtrr 2 4 1\n",
    "addr 3 1 3\n",
    "seti 2 5 3\n",
    "addi 5 1 5\n",
    "gtrr 5 4 1\n",
    "addr 1 3 3\n",
    "seti 1 2 3\n",
    "mulr 3 3 3\n",
    "addi 4 2 4\n",
    "mulr 4 4 4\n",
    "mulr 3 4 4\n",
    "muli 4 11 4\n",
    "addi 1 6 1\n",
    "mulr 1 3 1\n",
    "addi 1 21 1\n",
    "addr 4 1 4\n",
    "addr 3 0 3\n",
    "seti 0 3 3\n",
    "setr 3 4 1\n",
    "mulr 1 3 1\n",
    "addr 3 1 1\n",
    "mulr 3 1 1\n",
    "muli 1 14 1\n",
    "mulr 1 3 1\n",
    "addr 4 1 4\n",
    "seti 0 3 0\n",
    "seti 0 7 3\n"
   ]
  },
  {
   "cell_type": "code",
   "execution_count": 87,
   "metadata": {},
   "outputs": [
    {
     "data": {
      "text/plain": [
       "[1,\n",
       " 1,\n",
       " 989,\n",
       " 978121,\n",
       " 978121,\n",
       " 978121,\n",
       " 978117,\n",
       " 4,\n",
       " 978121,\n",
       " 978121,\n",
       " 978121,\n",
       " 977132,\n",
       " 989,\n",
       " 989,\n",
       " 989,\n",
       " 988,\n",
       " 1,\n",
       " 1,\n",
       " 1,\n",
       " 1,\n",
       " 1,\n",
       " 1,\n",
       " 1,\n",
       " 1,\n",
       " 1,\n",
       " 1,\n",
       " 1,\n",
       " 0,\n",
       " 0,\n",
       " 0,\n",
       " 0,\n",
       " 0,\n",
       " 0,\n",
       " 0,\n",
       " 0,\n",
       " 0]"
      ]
     },
     "execution_count": 87,
     "metadata": {},
     "output_type": "execute_result"
    }
   ],
   "source": [
    "solve_a(data)"
   ]
  },
  {
   "cell_type": "code",
   "execution_count": 123,
   "metadata": {},
   "outputs": [],
   "source": [
    "def solve_b(data, i=0):\n",
    "    ip_reg, program = data\n",
    "    ip = 0\n",
    "    N = len(program)\n",
    "    reg = [i] + [0]*5\n",
    "    regs = []\n",
    "#     while ip < N:\n",
    "    c = [0 for _ in program]\n",
    "    j = 0\n",
    "    for i in range(7828936):\n",
    "        opcode, args = program[ip]\n",
    "        c[ip] += 1\n",
    "#         print(ip, opcode, args)\n",
    "#         print(f'ip={ip} {reg} {opcode} {args}', end=' ')\n",
    "        reg[ip_reg] = ip\n",
    "        ops[opcode](reg, *args)\n",
    "        ip = reg[ip_reg] + 1\n",
    "        if ip == 3:\n",
    "            j += 1\n",
    "            if j % 1_000:\n",
    "                regs.append(reg[::])\n",
    "    print(reg)\n",
    "    print(c)\n",
    "    return regs"
   ]
  },
  {
   "cell_type": "code",
   "execution_count": 124,
   "metadata": {},
   "outputs": [
    {
     "name": "stdout",
     "output_type": "stream",
     "text": [
      "[1, 1, 989, 978121, 978121, 978121, 978117, 4, 978121, 978121, 978121, 977132, 989, 989, 989, 988, 1, 1, 1, 1, 1, 1, 1, 1, 1, 1, 1, 0, 0, 0, 0, 0, 0, 0, 0, 0]\n",
      "[1, 1, 1, 978615, 978615, 978615, 978614, 0, 978614, 978614, 978614, 978614, 0, 0, 0, 0, 0, 1, 1, 1, 1, 1, 1, 1, 1, 1, 0, 1, 1, 1, 1, 1, 1, 1, 1, 1]\n"
     ]
    }
   ],
   "source": [
    "regsA = np.array(solve_b(data, 0)).T\n",
    "regsB = np.array(solve_b(data, 1)).T"
   ]
  },
  {
   "cell_type": "code",
   "execution_count": 125,
   "metadata": {},
   "outputs": [
    {
     "data": {
      "image/png": "[encoded data removed]",
      "text/plain": [
       "<Figure size 1512x1008 with 6 Axes>"
      ]
     },
     "metadata": {},
     "output_type": "display_data"
    }
   ],
   "source": [
    "fig, ax = plt.subplots(2,3,figsize=(21,14))\n",
    "\n",
    "for i, reg in enumerate(regs):\n",
    "    ax[divmod(i,3)].plot(regsA[i], 'o-')\n",
    "    ax[divmod(i,3)].plot(regsB[i], 'o-')\n",
    "    ax[divmod(i,3)].set(title=f'R{i}')"
   ]
  },
  {
   "cell_type": "code",
   "execution_count": 133,
   "metadata": {},
   "outputs": [],
   "source": [
    "from sympy import factorint, divisors"
   ]
  },
  {
   "cell_type": "code",
   "execution_count": 134,
   "metadata": {},
   "outputs": [
    {
     "data": {
      "text/plain": [
       "[1, 29, 363841, 10551389]"
      ]
     },
     "execution_count": 134,
     "metadata": {},
     "output_type": "execute_result"
    }
   ],
   "source": [
    "divisors(10551389)"
   ]
  },
  {
   "cell_type": "code",
   "execution_count": 128,
   "metadata": {},
   "outputs": [
    {
     "data": {
      "text/plain": [
       "{23: 1, 43: 1}"
      ]
     },
     "execution_count": 128,
     "metadata": {},
     "output_type": "execute_result"
    }
   ],
   "source": [
    "factorint(989)"
   ]
  },
  {
   "cell_type": "code",
   "execution_count": 129,
   "metadata": {},
   "outputs": [
    {
     "data": {
      "text/plain": [
       "1055"
      ]
     },
     "execution_count": 129,
     "metadata": {},
     "output_type": "execute_result"
    }
   ],
   "source": [
    "989+23+43"
   ]
  },
  {
   "cell_type": "code",
   "execution_count": 130,
   "metadata": {},
   "outputs": [
    {
     "data": {
      "text/plain": [
       "{29: 1, 363841: 1}"
      ]
     },
     "execution_count": 130,
     "metadata": {},
     "output_type": "execute_result"
    }
   ],
   "source": [
    "factorint(ttps://www.wolframalpha.com/input/?i=sum+of+factors+{)"
   ]
  },
  {
   "cell_type": "code",
   "execution_count": 131,
   "metadata": {},
   "outputs": [
    {
     "data": {
      "text/plain": [
       "10915260"
      ]
     },
     "execution_count": 131,
     "metadata": {},
     "output_type": "execute_result"
    }
   ],
   "source": [
    "10551389+363841+29+1"
   ]
  },
  {
   "cell_type": "code",
   "execution_count": null,
   "metadata": {},
   "outputs": [],
   "source": [
    "def test(N):\n",
    "    for r5 in range(N):\n",
    "        if 989 % r5 == 0:\n",
    "    "
   ]
  },
  {
   "cell_type": "code",
   "execution_count": null,
   "metadata": {},
   "outputs": [],
   "source": []
  },
  {
   "cell_type": "code",
   "execution_count": 71,
   "metadata": {},
   "outputs": [
    {
     "data": {
      "text/plain": [
       "array([[  0,   0,   0,   0,   0,   0,   0,   0,   0,   0,   0,   0,   0,\n",
       "          0,   0,   0,   0,   0,   0,   0,   0,   0,   0,   0,   0,   0,\n",
       "          0,   0,   0,   0,   0,   0,   0,   0,   0,   0,   0,   0,   0,\n",
       "          0,   0,   0,   0,   0,   0,   0,   0,   0,   0,   0,   0,   0,\n",
       "          0,   0,   0,   0,   0,   0,   0,   0,   0,   0,   0,   0,   0,\n",
       "          0,   0,   0,   0,   0,   0,   0,   0,   0,   0,   0,   0,   0,\n",
       "          0,   0,   0,   0,   0,   0,   0,   0,   0,   0,   0,   0,   0,\n",
       "          0,   0,   0,   0,   0,   0,   0,   0,   0],\n",
       "       [  0,   0,   0,   0,   0,   6, 132, 153, 153, 153, 153, 153, 153,\n",
       "          1,   0,   0,   0,   0,   0,   0,   0,   2,   0,   0,   0,   0,\n",
       "          0,   0,   0,   3,   0,   0,   0,   0,   0,   0,   0,   4,   0,\n",
       "          0,   0,   0,   0,   0,   0,   5,   0,   0,   0,   0,   0,   0,\n",
       "          0,   6,   0,   0,   0,   0,   0,   0,   0,   7,   0,   0,   0,\n",
       "          0,   0,   0,   0,   8,   0,   0,   0,   0,   0,   0,   0,   9,\n",
       "          0,   0,   0,   0,   0,   0,   0,  10,   0,   0,   0,   0,   0,\n",
       "          0,   0,  11,   0,   0,   0,   0,   0,   0],\n",
       "       [  0,   0,   0,   0,   0,   0,   0,   0,   0,   0,   0,   0,   1,\n",
       "          1,   1,   1,   1,   2,   2,   2,   2,   2,   2,   2,   2,   3,\n",
       "          3,   3,   3,   3,   3,   3,   3,   4,   4,   4,   4,   4,   4,\n",
       "          4,   4,   5,   5,   5,   5,   5,   5,   5,   5,   6,   6,   6,\n",
       "          6,   6,   6,   6,   6,   7,   7,   7,   7,   7,   7,   7,   7,\n",
       "          8,   8,   8,   8,   8,   8,   8,   8,   9,   9,   9,   9,   9,\n",
       "          9,   9,   9,  10,  10,  10,  10,  10,  10,  10,  10,  11,  11,\n",
       "         11,  11,  11,  11,  11,  11,  12,  12,  12],\n",
       "       [ 16,  17,  18,  19,  20,  21,  22,  23,  24,  25,   0,   1,   2,\n",
       "          3,   4,   5,   7,   8,   9,  10,   2,   3,   4,   5,   7,   8,\n",
       "          9,  10,   2,   3,   4,   5,   7,   8,   9,  10,   2,   3,   4,\n",
       "          5,   7,   8,   9,  10,   2,   3,   4,   5,   7,   8,   9,  10,\n",
       "          2,   3,   4,   5,   7,   8,   9,  10,   2,   3,   4,   5,   7,\n",
       "          8,   9,  10,   2,   3,   4,   5,   7,   8,   9,  10,   2,   3,\n",
       "          4,   5,   7,   8,   9,  10,   2,   3,   4,   5,   7,   8,   9,\n",
       "         10,   2,   3,   4,   5,   7,   8,   9,  10],\n",
       "       [  0,   2,   4,  76, 836, 836, 836, 836, 989, 989, 989, 989, 989,\n",
       "        989, 989, 989, 989, 989, 989, 989, 989, 989, 989, 989, 989, 989,\n",
       "        989, 989, 989, 989, 989, 989, 989, 989, 989, 989, 989, 989, 989,\n",
       "        989, 989, 989, 989, 989, 989, 989, 989, 989, 989, 989, 989, 989,\n",
       "        989, 989, 989, 989, 989, 989, 989, 989, 989, 989, 989, 989, 989,\n",
       "        989, 989, 989, 989, 989, 989, 989, 989, 989, 989, 989, 989, 989,\n",
       "        989, 989, 989, 989, 989, 989, 989, 989, 989, 989, 989, 989, 989,\n",
       "        989, 989, 989, 989, 989, 989, 989, 989, 989],\n",
       "       [  0,   0,   0,   0,   0,   0,   0,   0,   0,   0,   0,   1,   1,\n",
       "          1,   1,   1,   1,   1,   1,   1,   1,   1,   1,   1,   1,   1,\n",
       "          1,   1,   1,   1,   1,   1,   1,   1,   1,   1,   1,   1,   1,\n",
       "          1,   1,   1,   1,   1,   1,   1,   1,   1,   1,   1,   1,   1,\n",
       "          1,   1,   1,   1,   1,   1,   1,   1,   1,   1,   1,   1,   1,\n",
       "          1,   1,   1,   1,   1,   1,   1,   1,   1,   1,   1,   1,   1,\n",
       "          1,   1,   1,   1,   1,   1,   1,   1,   1,   1,   1,   1,   1,\n",
       "          1,   1,   1,   1,   1,   1,   1,   1,   1]])"
      ]
     },
     "execution_count": 71,
     "metadata": {},
     "output_type": "execute_result"
    }
   ],
   "source": [
    "regs"
   ]
  },
  {
   "cell_type": "code",
   "execution_count": null,
   "metadata": {},
   "outputs": [],
   "source": [
    "3 mulr [5, 2, 1]\n",
    "4 eqrr [1, 4, 1]\n",
    "5 addr [1, 3, 3]\n",
    "6 addi [3, 1, 3]\n",
    "8 addi [2, 1, 2]\n",
    "9 gtrr [2, 4, 1]\n",
    "10 addr [3, 1, 3]\n",
    "11 seti [2, 5, 3]"
   ]
  }
 ],
 "metadata": {
  "kernelspec": {
   "display_name": "Python 3",
   "language": "python",
   "name": "python3"
  },
  "language_info": {
   "codemirror_mode": {
    "name": "ipython",
    "version": 3
   },
   "file_extension": ".py",
   "mimetype": "text/x-python",
   "name": "python",
   "nbconvert_exporter": "python",
   "pygments_lexer": "ipython3",
   "version": "3.8.8"
  }
 },
 "nbformat": 4,
 "nbformat_minor": 4
}
