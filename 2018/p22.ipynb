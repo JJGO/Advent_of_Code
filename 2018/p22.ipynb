{
 "cells": [
  {
   "cell_type": "code",
   "execution_count": 5,
   "metadata": {},
   "outputs": [],
   "source": [
    "import parse"
   ]
  },
  {
   "cell_type": "code",
   "execution_count": null,
   "metadata": {},
   "outputs": [],
   "source": []
  },
  {
   "cell_type": "code",
   "execution_count": 16,
   "metadata": {},
   "outputs": [
    {
     "data": {
      "text/plain": [
       "'depth: 11820\\ntarget: 7,782'"
      ]
     },
     "execution_count": 16,
     "metadata": {},
     "output_type": "execute_result"
    }
   ],
   "source": [
    "puzzle.input_data"
   ]
  },
  {
   "cell_type": "code",
   "execution_count": 193,
   "metadata": {},
   "outputs": [],
   "source": [
    "from aocd.models import Puzzle\n",
    "\n",
    "puzzle = Puzzle(year=2018, day=22)\n",
    "\n",
    "def parses(text):\n",
    "    depth, target = text.split('\\n')\n",
    "    depth = int(text.split()[1])\n",
    "    target = parse.search('{:d},{:d}', target).fixed\n",
    "    return depth, target\n",
    "\n",
    "data = parses(puzzle.input_data)"
   ]
  },
  {
   "cell_type": "code",
   "execution_count": 194,
   "metadata": {},
   "outputs": [],
   "source": [
    "sample = parses(\"\"\"depth: 510\n",
    "target: 10,10\"\"\")"
   ]
  },
  {
   "cell_type": "code",
   "execution_count": 51,
   "metadata": {},
   "outputs": [],
   "source": [
    "def solve_a(data):\n",
    "    depth, (W, H) = data\n",
    "    erosion = np.zeros((W+1,H+1), dtype=np.int32)\n",
    "    for y in range(H+1):\n",
    "        for x in range(W+1):\n",
    "            if y == 0:\n",
    "                erosion[x,0] = (x*16807 + depth) % 20183\n",
    "            elif x == 0:\n",
    "                erosion[0,y] = (y*48271 + depth) % 20183\n",
    "            else:\n",
    "                erosion[x,y] = (erosion[x-1,y] * erosion[x,y-1] + depth) % 20183\n",
    "    erosion[W,H] = erosion[0,0] = 0\n",
    "    cave = erosion % 3\n",
    "    return cave.sum()"
   ]
  },
  {
   "cell_type": "code",
   "execution_count": 205,
   "metadata": {},
   "outputs": [],
   "source": [
    "# from enum import IntEnum\n",
    "# class Region(IntEnum):\n",
    "#     Rocky = 0\n",
    "#     Wet = 1\n",
    "#     Narrow = 2\n",
    "        \n",
    "class Cave:\n",
    "    \n",
    "    def __init__(self, depth, target):\n",
    "        self.depth = depth\n",
    "        self._erosion = {}\n",
    "        self.target = target\n",
    "    \n",
    "    def __getitem__(self, pos):\n",
    "        if pos == self.target: # or pos == (0,0):\n",
    "            return 0\n",
    "        return self.erosion(*pos) % 3\n",
    "    \n",
    "    def erosion(self, x, y):\n",
    "        if (x,y) not in self._erosion:\n",
    "            if y == 0:\n",
    "                gi = x * 16807\n",
    "            elif x == 0:\n",
    "                gi = y * 48271\n",
    "            else:\n",
    "                gi = self.erosion(x-1,y) * self.erosion(x,y-1)\n",
    "            self._erosion[x,y] = (gi + self.depth) % 20183\n",
    "        return self._erosion[x,y]"
   ]
  },
  {
   "cell_type": "code",
   "execution_count": 206,
   "metadata": {},
   "outputs": [],
   "source": [
    "def solve_a(data):\n",
    "    depth, (H, W) = data\n",
    "    cave = Cave(depth, (H, W))\n",
    "    return sum(cave[i,j] for i in range(H+1) for j in range(W+1))"
   ]
  },
  {
   "cell_type": "code",
   "execution_count": 207,
   "metadata": {},
   "outputs": [
    {
     "data": {
      "text/plain": [
       "114"
      ]
     },
     "execution_count": 207,
     "metadata": {},
     "output_type": "execute_result"
    }
   ],
   "source": [
    "solve_a(sample)"
   ]
  },
  {
   "cell_type": "code",
   "execution_count": 208,
   "metadata": {},
   "outputs": [],
   "source": [
    "def render(cave):\n",
    "    W, H = cave.shape\n",
    "    s = \"\"\n",
    "    for y in range(H):\n",
    "        for x in range(W):\n",
    "            s += \".=|\"[cave[x,y]]\n",
    "        s += '\\n'\n",
    "    print(s)"
   ]
  },
  {
   "cell_type": "code",
   "execution_count": 209,
   "metadata": {},
   "outputs": [
    {
     "data": {
      "text/plain": [
       "6318"
      ]
     },
     "execution_count": 209,
     "metadata": {},
     "output_type": "execute_result"
    }
   ],
   "source": [
    "solve_a(data)"
   ]
  },
  {
   "cell_type": "code",
   "execution_count": null,
   "metadata": {},
   "outputs": [],
   "source": []
  },
  {
   "cell_type": "code",
   "execution_count": 210,
   "metadata": {},
   "outputs": [
    {
     "data": {
      "text/plain": [
       "114"
      ]
     },
     "execution_count": 210,
     "metadata": {},
     "output_type": "execute_result"
    }
   ],
   "source": [
    "solve_a(sample)"
   ]
  },
  {
   "cell_type": "code",
   "execution_count": 211,
   "metadata": {},
   "outputs": [
    {
     "data": {
      "text/plain": [
       "6318"
      ]
     },
     "execution_count": 211,
     "metadata": {},
     "output_type": "execute_result"
    }
   ],
   "source": [
    "solve_a(data)"
   ]
  },
  {
   "cell_type": "code",
   "execution_count": null,
   "metadata": {},
   "outputs": [],
   "source": []
  },
  {
   "cell_type": "code",
   "execution_count": 212,
   "metadata": {},
   "outputs": [],
   "source": [
    "\n",
    "    \n",
    "# class Equip(IntEnum):\n",
    "#     Neither = 0\n",
    "#     Torch = 1\n",
    "#     Climbing = 2\n",
    "    \n",
    "# valid_equipment = {\n",
    "#     Region.Rocky: (Equip.Torch, Equip.Climbing),\n",
    "#     Region.Wet: (Equip.Neither, Equip.Climbing),\n",
    "#     Region.Narrow: (Equip.Neither, Equip.Torch),\n",
    "# }\n",
    "\n",
    "\n"
   ]
  },
  {
   "cell_type": "code",
   "execution_count": null,
   "metadata": {},
   "outputs": [],
   "source": []
  },
  {
   "cell_type": "code",
   "execution_count": 229,
   "metadata": {},
   "outputs": [],
   "source": [
    "# from heapq import heappush, heappop\n",
    "# def solve_b(data):\n",
    "#     depth, target = data\n",
    "#     cave = Cave(depth, target)\n",
    "#     heap = [(0,(0,0), Equip.Torch)]\n",
    "#     visited = set()\n",
    "    \n",
    "#     while True:\n",
    "#         T, (x,y), equip = heappop(heap)\n",
    "#         if (x,y) == target and equip == Equip.Torch:\n",
    "#             return T\n",
    "#         if (x,y,equip) in visited:\n",
    "#             continue\n",
    "#         visited.add((x,y,equip))\n",
    "        \n",
    "#         for equip2 in valid_equipment[cave[x,y]]:\n",
    "#             if (x,y,equip2) not in visited:\n",
    "#                 heappush(heap, (T+7, (x,y), equip2))\n",
    "        \n",
    "#         for x2, y2 in [(x-1,y), (x+1,y), (x,y-1), (x,y+1)]:\n",
    "#             if (x2 >= 0 and y2 >= 0 and \n",
    "#                 equip in valid_equipment[cave[x2,y2]] and\n",
    "#                 (x2,y2,equip) not in visited):\n",
    "#                 heappush(heap, (T+1,(x2,y2),equip))\n",
    "                "
   ]
  },
  {
   "cell_type": "code",
   "execution_count": 216,
   "metadata": {},
   "outputs": [],
   "source": [
    "# solve_b(data)"
   ]
  },
  {
   "cell_type": "code",
   "execution_count": 226,
   "metadata": {},
   "outputs": [],
   "source": [
    "\n",
    "\n",
    "from heapq import heappush, heappop\n",
    "# Note if we let\n",
    "# rocky=0, wet=1, narrow=2\n",
    "# neither=0, torch=1, climbing=2\n",
    "# then equipment is valid iff equip != region\n",
    "# A* algorithm\n",
    "def fastsolve_b(data):\n",
    "    depth, target = data\n",
    "    X, Y = target\n",
    "    cave = Cave(depth, target)\n",
    "    heap = [(X+Y,0,(0,0),1)] \n",
    "    visited = set()\n",
    "    \n",
    "    while True:\n",
    "        # Heap of heuristic, time, position, equipment\n",
    "        C, T, (x,y), equip = heappop(heap)\n",
    "        if (x,y,equip) in visited:\n",
    "            continue\n",
    "        if (x,y) == target and equip == 1:\n",
    "            return T\n",
    "        visited.add((x,y,equip))\n",
    "        \n",
    "        for equip2 in range(3):\n",
    "            if equip2 != cave[x,y] and (x,y,equip2) not in visited:\n",
    "                heappush(heap, (C+7, T+7, (x,y), equip2))\n",
    "        \n",
    "        for x2, y2 in [(x-1,y), (x+1,y), (x,y-1), (x,y+1)]:\n",
    "            if (x2 >= 0 and y2 >= 0 and equip != cave[x2,y2] and\n",
    "                (x2,y2,equip) not in visited):\n",
    "                C2 = T+1 + abs(X-x2) + abs(Y-y2)\n",
    "                heappush(heap, (C2,T+1,(x2,y2),equip))\n",
    "                "
   ]
  },
  {
   "cell_type": "code",
   "execution_count": 227,
   "metadata": {},
   "outputs": [
    {
     "data": {
      "text/plain": [
       "45"
      ]
     },
     "execution_count": 227,
     "metadata": {},
     "output_type": "execute_result"
    }
   ],
   "source": [
    "solve_b(sample)"
   ]
  },
  {
   "cell_type": "code",
   "execution_count": 189,
   "metadata": {},
   "outputs": [
    {
     "name": "stdout",
     "output_type": "stream",
     "text": [
      "13.3 s ± 337 ms per loop (mean ± std. dev. of 7 runs, 1 loop each)\n"
     ]
    }
   ],
   "source": [
    "# %%timeit\n",
    "# solve_b(data)"
   ]
  },
  {
   "cell_type": "code",
   "execution_count": 228,
   "metadata": {},
   "outputs": [
    {
     "name": "stdout",
     "output_type": "stream",
     "text": [
      "1.92 s ± 67.2 ms per loop (mean ± std. dev. of 7 runs, 1 loop each)\n"
     ]
    }
   ],
   "source": [
    "%%timeit\n",
    "fastsolve_b(data)"
   ]
  },
  {
   "cell_type": "code",
   "execution_count": null,
   "metadata": {},
   "outputs": [],
   "source": []
  },
  {
   "cell_type": "code",
   "execution_count": null,
   "metadata": {},
   "outputs": [],
   "source": []
  },
  {
   "cell_type": "code",
   "execution_count": null,
   "metadata": {},
   "outputs": [],
   "source": []
  }
 ],
 "metadata": {
  "kernelspec": {
   "display_name": "Python 3",
   "language": "python",
   "name": "python3"
  },
  "language_info": {
   "codemirror_mode": {
    "name": "ipython",
    "version": 3
   },
   "file_extension": ".py",
   "mimetype": "text/x-python",
   "name": "python",
   "nbconvert_exporter": "python",
   "pygments_lexer": "ipython3",
   "version": "3.8.8"
  }
 },
 "nbformat": 4,
 "nbformat_minor": 4
}
