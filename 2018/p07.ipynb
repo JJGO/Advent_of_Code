{
 "cells": [
  {
   "cell_type": "code",
   "execution_count": 68,
   "metadata": {},
   "outputs": [],
   "source": [
    "from aocd.models import Puzzle\n",
    "\n",
    "puzzle = Puzzle(year=2018, day=7)\n",
    "\n",
    "def parses(input):\n",
    "    vals = []\n",
    "    for line in input.strip().split('\\n'):\n",
    "        vs = parse.parse('Step {} must be finished before step {} can begin.', line).fixed\n",
    "        vals.append((vs[0], vs[1]))\n",
    "    return vals\n",
    "\n",
    "data = parses(puzzle.input_data)"
   ]
  },
  {
   "cell_type": "code",
   "execution_count": 114,
   "metadata": {},
   "outputs": [
    {
     "data": {
      "text/plain": [
       "[<span title=\"Just some oak and some pine and a handful of Norsemen.\">Some assembly required.</span>]"
      ]
     },
     "execution_count": 114,
     "metadata": {},
     "output_type": "execute_result"
    }
   ],
   "source": [
    "puzzle.easter_eggs"
   ]
  },
  {
   "cell_type": "code",
   "execution_count": 69,
   "metadata": {},
   "outputs": [
    {
     "data": {
      "text/plain": [
       "[('A', 'I'),\n",
       " ('M', 'Q'),\n",
       " ('B', 'S'),\n",
       " ('G', 'N'),\n",
       " ('Y', 'R'),\n",
       " ('E', 'H'),\n",
       " ('K', 'L'),\n",
       " ('H', 'Z'),\n",
       " ('C', 'P'),\n",
       " ('W', 'U'),\n",
       " ('V', 'L'),\n",
       " ('O', 'N'),\n",
       " ('U', 'I'),\n",
       " ('D', 'P'),\n",
       " ('Q', 'L'),\n",
       " ('F', 'Z'),\n",
       " ('L', 'N'),\n",
       " ('P', 'S'),\n",
       " ('I', 'S'),\n",
       " ('S', 'R'),\n",
       " ('T', 'N'),\n",
       " ('N', 'X'),\n",
       " ('Z', 'J'),\n",
       " ('R', 'J'),\n",
       " ('J', 'X'),\n",
       " ('E', 'I'),\n",
       " ('T', 'R'),\n",
       " ('I', 'N'),\n",
       " ('K', 'C'),\n",
       " ('B', 'D'),\n",
       " ('K', 'T'),\n",
       " ('E', 'P'),\n",
       " ('F', 'I'),\n",
       " ('O', 'U'),\n",
       " ('I', 'J'),\n",
       " ('S', 'Z'),\n",
       " ('L', 'J'),\n",
       " ('F', 'T'),\n",
       " ('F', 'P'),\n",
       " ('I', 'T'),\n",
       " ('G', 'S'),\n",
       " ('V', 'U'),\n",
       " ('F', 'R'),\n",
       " ('L', 'R'),\n",
       " ('Y', 'D'),\n",
       " ('M', 'E'),\n",
       " ('U', 'L'),\n",
       " ('C', 'D'),\n",
       " ('W', 'N'),\n",
       " ('S', 'N'),\n",
       " ('O', 'S'),\n",
       " ('B', 'T'),\n",
       " ('V', 'T'),\n",
       " ('S', 'X'),\n",
       " ('V', 'P'),\n",
       " ('F', 'L'),\n",
       " ('P', 'R'),\n",
       " ('D', 'N'),\n",
       " ('C', 'L'),\n",
       " ('O', 'Q'),\n",
       " ('N', 'Z'),\n",
       " ('Y', 'L'),\n",
       " ('B', 'K'),\n",
       " ('P', 'Z'),\n",
       " ('V', 'Z'),\n",
       " ('U', 'J'),\n",
       " ('Q', 'S'),\n",
       " ('H', 'F'),\n",
       " ('E', 'O'),\n",
       " ('D', 'F'),\n",
       " ('D', 'X'),\n",
       " ('L', 'S'),\n",
       " ('Z', 'R'),\n",
       " ('K', 'X'),\n",
       " ('M', 'V'),\n",
       " ('A', 'M'),\n",
       " ('B', 'W'),\n",
       " ('A', 'P'),\n",
       " ('W', 'Q'),\n",
       " ('R', 'X'),\n",
       " ('M', 'H'),\n",
       " ('F', 'S'),\n",
       " ('K', 'Q'),\n",
       " ('Y', 'Q'),\n",
       " ('W', 'S'),\n",
       " ('Q', 'T'),\n",
       " ('K', 'H'),\n",
       " ('K', 'D'),\n",
       " ('E', 'T'),\n",
       " ('Y', 'E'),\n",
       " ('A', 'O'),\n",
       " ('G', 'E'),\n",
       " ('C', 'O'),\n",
       " ('G', 'H'),\n",
       " ('Y', 'I'),\n",
       " ('V', 'S'),\n",
       " ('B', 'R'),\n",
       " ('B', 'X'),\n",
       " ('V', 'I'),\n",
       " ('N', 'J'),\n",
       " ('H', 'I')]"
      ]
     },
     "execution_count": 69,
     "metadata": {},
     "output_type": "execute_result"
    }
   ],
   "source": [
    "data"
   ]
  },
  {
   "cell_type": "code",
   "execution_count": 70,
   "metadata": {},
   "outputs": [],
   "source": [
    "sample = parses(\"\"\"Step C must be finished before step A can begin.\n",
    "Step C must be finished before step F can begin.\n",
    "Step A must be finished before step B can begin.\n",
    "Step A must be finished before step D can begin.\n",
    "Step B must be finished before step E can begin.\n",
    "Step D must be finished before step E can begin.\n",
    "Step F must be finished before step E can begin.\n",
    "\"\"\")"
   ]
  },
  {
   "cell_type": "code",
   "execution_count": 71,
   "metadata": {},
   "outputs": [
    {
     "data": {
      "text/plain": [
       "[('C', 'A'),\n",
       " ('C', 'F'),\n",
       " ('A', 'B'),\n",
       " ('A', 'D'),\n",
       " ('B', 'E'),\n",
       " ('D', 'E'),\n",
       " ('F', 'E')]"
      ]
     },
     "execution_count": 71,
     "metadata": {},
     "output_type": "execute_result"
    }
   ],
   "source": [
    "sample"
   ]
  },
  {
   "cell_type": "code",
   "execution_count": null,
   "metadata": {},
   "outputs": [],
   "source": []
  },
  {
   "cell_type": "code",
   "execution_count": 72,
   "metadata": {},
   "outputs": [],
   "source": [
    "def topsort(steps):\n",
    "    graph = defaultdict(list)\n",
    "    n_incoming = defaultdict(int)\n",
    "    for before, after in steps:\n",
    "        graph[before].append(after)\n",
    "        n_incoming[after] += 1\n",
    "        n_incoming[before]\n",
    "    no_incoming = sorted([k for k, v in n_incoming.items() if v == 0])\n",
    "    \n",
    "    top_order = []\n",
    "    while len(no_incoming) > 0:\n",
    "        node = no_incoming.pop(0)\n",
    "        top_order.append(node)\n",
    "        for child in graph[node]:\n",
    "            n_incoming[child] -= 1\n",
    "            if n_incoming[child] == 0:\n",
    "                no_incoming.append(child)\n",
    "        no_incoming.sort()\n",
    "    return \"\".join(top_order)"
   ]
  },
  {
   "cell_type": "code",
   "execution_count": 73,
   "metadata": {},
   "outputs": [],
   "source": [
    "assert topsort(sample) == 'CABDFE'"
   ]
  },
  {
   "cell_type": "code",
   "execution_count": 74,
   "metadata": {},
   "outputs": [
    {
     "data": {
      "text/plain": [
       "'ABGKCMVWYDEHFOPQUILSTNZRJX'"
      ]
     },
     "execution_count": 74,
     "metadata": {},
     "output_type": "execute_result"
    }
   ],
   "source": [
    "topsort(data)"
   ]
  },
  {
   "cell_type": "code",
   "execution_count": 75,
   "metadata": {},
   "outputs": [],
   "source": [
    "puzzle.answer_a = topsort(data)"
   ]
  },
  {
   "cell_type": "code",
   "execution_count": 80,
   "metadata": {},
   "outputs": [
    {
     "data": {
      "text/plain": [
       "'ABGKCMVWYDEHFOPQUILSTNZRJX'"
      ]
     },
     "execution_count": 80,
     "metadata": {},
     "output_type": "execute_result"
    }
   ],
   "source": [
    "from networkx import DiGraph, lexicographical_topological_sort as lt_sort\n",
    "\n",
    "\"\".join(lt_sort(DiGraph((data))))"
   ]
  },
  {
   "cell_type": "code",
   "execution_count": null,
   "metadata": {},
   "outputs": [],
   "source": []
  },
  {
   "cell_type": "code",
   "execution_count": 110,
   "metadata": {},
   "outputs": [],
   "source": [
    "def mintime(steps, maxworkers=5, baseT=60):\n",
    "    graph = defaultdict(list)\n",
    "    n_incoming = defaultdict(int)\n",
    "    for before, after in steps:\n",
    "        graph[before].append(after)\n",
    "        n_incoming[after] += 1\n",
    "        n_incoming[before]\n",
    "    ready = sorted([k for k, v in n_incoming.items() if v == 0])\n",
    "    times = {k: ord(k)-ord('A')+1+baseT for k in n_incoming}\n",
    "\n",
    "    time = 0\n",
    "    completed = 0\n",
    "    workers = [(None, None) for _ in range(maxworkers)]\n",
    "    \n",
    "    while True:\n",
    "        for i, (task, eta) in enumerate(workers):\n",
    "            if task is not None and (eta == time):\n",
    "                completed += 1\n",
    "                for child in graph[task]:\n",
    "                    n_incoming[child] -= 1\n",
    "                    if n_incoming[child] == 0:\n",
    "                        ready.append(child)\n",
    "                        ready.sort()\n",
    "                workers[i] = (None, None)\n",
    "\n",
    "        for i, (task, eta) in enumerate(workers):            \n",
    "            if task is None and len(ready) > 0:\n",
    "                task = ready.pop(0)\n",
    "                eta = time + times[task]\n",
    "                workers[i] = (task, eta)\n",
    "        if completed == len(times):\n",
    "            break\n",
    "        time = min(eta for _, eta in workers if eta)\n",
    "        \n",
    "    return time"
   ]
  },
  {
   "cell_type": "code",
   "execution_count": null,
   "metadata": {},
   "outputs": [],
   "source": []
  },
  {
   "cell_type": "code",
   "execution_count": null,
   "metadata": {},
   "outputs": [],
   "source": []
  },
  {
   "cell_type": "code",
   "execution_count": 111,
   "metadata": {},
   "outputs": [],
   "source": [
    "assert mintime(sample, 2, 0) == 15"
   ]
  },
  {
   "cell_type": "code",
   "execution_count": 112,
   "metadata": {},
   "outputs": [
    {
     "data": {
      "text/plain": [
       "898"
      ]
     },
     "execution_count": 112,
     "metadata": {},
     "output_type": "execute_result"
    }
   ],
   "source": [
    "mintime(data)"
   ]
  },
  {
   "cell_type": "code",
   "execution_count": 113,
   "metadata": {},
   "outputs": [],
   "source": [
    "puzzle.answer_b = mintime(data)"
   ]
  },
  {
   "cell_type": "code",
   "execution_count": null,
   "metadata": {},
   "outputs": [],
   "source": []
  }
 ],
 "metadata": {
  "kernelspec": {
   "display_name": "Python 3",
   "language": "python",
   "name": "python3"
  },
  "language_info": {
   "codemirror_mode": {
    "name": "ipython",
    "version": 3
   },
   "file_extension": ".py",
   "mimetype": "text/x-python",
   "name": "python",
   "nbconvert_exporter": "python",
   "pygments_lexer": "ipython3",
   "version": "3.8.3"
  }
 },
 "nbformat": 4,
 "nbformat_minor": 4
}
