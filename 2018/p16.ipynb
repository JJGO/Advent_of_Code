{
 "cells": [
  {
   "cell_type": "code",
   "execution_count": 39,
   "metadata": {},
   "outputs": [],
   "source": [
    "from aocd.models import Puzzle\n",
    "\n",
    "puzzle = Puzzle(year=2018, day=16)\n",
    "\n",
    "def parses(data):\n",
    "    trace, program = data.strip().split('\\n'*4)\n",
    "    trace = [[[int(i) for i in re.findall(r\"-?\\d+\", line)] for line in t.split('\\n')]\n",
    "             for t in trace.split('\\n\\n')]\n",
    "    program = [[int(i) for i in line.split(' ')] for line in program.split('\\n')]\n",
    "    return trace, program\n",
    "\n",
    "data = parses(puzzle.input_data)"
   ]
  },
  {
   "cell_type": "code",
   "execution_count": 40,
   "metadata": {},
   "outputs": [],
   "source": [
    "import operator\n",
    "def build_opr(bin_op):\n",
    "    def _op(reg, a, b, c):\n",
    "        reg[c] = bin_op(reg[a], reg[b])\n",
    "    return _op\n",
    "\n",
    "def build_opi(bin_op):\n",
    "    def _op(reg, a, b, c):\n",
    "        reg[c] = bin_op(reg[a], b)\n",
    "    return _op\n",
    "    \n",
    "def setr(reg, a, _, c):\n",
    "    reg[c] = reg[a]\n",
    "    \n",
    "def seti(reg, a, _, c):\n",
    "    reg[c] = a\n",
    "    \n",
    "def gtir(reg, a, b, c):\n",
    "    reg[c] = int(a > reg[b])\n",
    "\n",
    "def gtri(reg, a, b, c):\n",
    "    reg[c] = int(reg[a] > b)\n",
    "    \n",
    "def gtrr(reg, a, b, c):\n",
    "    reg[c] = int(reg[a] > reg[b])\n",
    "\n",
    "def eqir(reg, a, b, c):\n",
    "    reg[c] = int(a == reg[b])\n",
    "\n",
    "def eqri(reg, a, b, c):\n",
    "    reg[c] = int(reg[a] == b)\n",
    "    \n",
    "def eqrr(reg, a, b, c):\n",
    "    reg[c] = int(reg[a] == reg[b])\n",
    "    \n",
    "ops = {\n",
    "    'addr': build_opr(operator.add),\n",
    "    'addi': build_opi(operator.add),\n",
    "\n",
    "    'mulr': build_opr(operator.mul),\n",
    "    'muli': build_opi(operator.mul),\n",
    "\n",
    "    'borr': build_opr(operator.or_),\n",
    "    'bori': build_opi(operator.or_),\n",
    "    \n",
    "    'barr': build_opr(operator.and_),\n",
    "    'bari': build_opi(operator.and_),\n",
    "\n",
    "    'setr': setr,\n",
    "    'seti': seti,\n",
    "    \n",
    "    \"gtir\": gtir,\n",
    "    \"gtri\": gtri,\n",
    "    \"gtrr\": gtrr,\n",
    "    \n",
    "    \"eqir\": eqir,\n",
    "    \"eqri\": eqri,\n",
    "    \"eqrr\": eqrr,\n",
    "}"
   ]
  },
  {
   "cell_type": "code",
   "execution_count": 41,
   "metadata": {},
   "outputs": [],
   "source": [
    "before, (code, *args), after = [[3, 2, 1, 1], [9, 2, 1, 2], [3, 2, 2, 1]]"
   ]
  },
  {
   "cell_type": "code",
   "execution_count": 67,
   "metadata": {},
   "outputs": [],
   "source": [
    "def solve_a(data):\n",
    "    trace, _ = data\n",
    "    total = 0\n",
    "    for before, (code, *args), after in trace:\n",
    "        valid_ops = set()\n",
    "        for op, op_fn in ops.items():\n",
    "            reg = before.copy()\n",
    "            op_fn(reg, *args)\n",
    "            if reg == after:\n",
    "                valid_ops.add(op)\n",
    "        total += len(valid_ops) >= 3\n",
    "    return total"
   ]
  },
  {
   "cell_type": "code",
   "execution_count": 68,
   "metadata": {},
   "outputs": [
    {
     "data": {
      "text/plain": [
       "612"
      ]
     },
     "execution_count": 68,
     "metadata": {},
     "output_type": "execute_result"
    }
   ],
   "source": [
    "solve_a(data)"
   ]
  },
  {
   "cell_type": "code",
   "execution_count": 69,
   "metadata": {},
   "outputs": [],
   "source": [
    "def get_mapping(trace):\n",
    "    mapping = {i: set(ops) for i in range(16)}\n",
    "    for before, (code, *args), after in trace:\n",
    "        valid_ops = set()\n",
    "        for op, op_fn in ops.items():\n",
    "            reg = before.copy()\n",
    "            op_fn(reg, *args)\n",
    "            if reg == after:\n",
    "                valid_ops.add(op)\n",
    "        mapping[code] &= valid_ops\n",
    "        \n",
    "    while any(len(v) > 1 for v in mapping.values()):\n",
    "        solved = reduce(operator.or_, [v for v in mapping.values() if len(v) == 1])\n",
    "        mapping.update({k: v-solved for k, v in mapping.items() if len(v) > 1})\n",
    "    mapping = {k: list(v)[0] for k, v in mapping.items()}\n",
    "    return mapping\n",
    "\n",
    "def run_program(mapping, program):\n",
    "    reg = [0, 0, 0, 0]\n",
    "    for code, *args in program:\n",
    "        ops[mapping[code]](reg, *args)\n",
    "    return reg\n",
    "\n",
    "def solve_b(data):\n",
    "    trace, program = data\n",
    "    mapping = get_mapping(trace)\n",
    "    reg = run_program(mapping, program)\n",
    "    return reg[0]"
   ]
  },
  {
   "cell_type": "code",
   "execution_count": 74,
   "metadata": {},
   "outputs": [
    {
     "data": {
      "text/plain": [
       "485"
      ]
     },
     "execution_count": 74,
     "metadata": {},
     "output_type": "execute_result"
    }
   ],
   "source": [
    "solve_b(data)"
   ]
  },
  {
   "cell_type": "code",
   "execution_count": null,
   "metadata": {},
   "outputs": [],
   "source": []
  }
 ],
 "metadata": {
  "kernelspec": {
   "display_name": "Python 3",
   "language": "python",
   "name": "python3"
  },
  "language_info": {
   "codemirror_mode": {
    "name": "ipython",
    "version": 3
   },
   "file_extension": ".py",
   "mimetype": "text/x-python",
   "name": "python",
   "nbconvert_exporter": "python",
   "pygments_lexer": "ipython3",
   "version": "3.8.8"
  }
 },
 "nbformat": 4,
 "nbformat_minor": 4
}
