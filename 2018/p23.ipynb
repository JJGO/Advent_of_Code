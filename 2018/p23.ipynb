{
 "cells": [
  {
   "cell_type": "code",
   "execution_count": 3,
   "metadata": {},
   "outputs": [],
   "source": [
    "import parse"
   ]
  },
  {
   "cell_type": "code",
   "execution_count": 4,
   "metadata": {},
   "outputs": [],
   "source": [
    "from aocd.models import Puzzle\n",
    "\n",
    "puzzle = Puzzle(year=2018, day=23)\n",
    "\n",
    "def parses(data):\n",
    "    pos = [i.fixed for i in parse.findall('{:d},{:d},{:d}',data)]\n",
    "    r = [i.fixed[0] for i in parse.findall('r={:d}',data)]\n",
    "    return np.array(pos), np.array(r)\n",
    "\n",
    "data = parses(puzzle.input_data)"
   ]
  },
  {
   "cell_type": "code",
   "execution_count": 5,
   "metadata": {},
   "outputs": [],
   "source": [
    "sample = parses(\"\"\"pos=<0,0,0>, r=4\n",
    "pos=<1,0,0>, r=1\n",
    "pos=<4,0,0>, r=3\n",
    "pos=<0,2,0>, r=1\n",
    "pos=<0,5,0>, r=3\n",
    "pos=<0,0,3>, r=1\n",
    "pos=<1,1,1>, r=1\n",
    "pos=<1,1,2>, r=1\n",
    "pos=<1,3,1>, r=1\"\"\")"
   ]
  },
  {
   "cell_type": "code",
   "execution_count": 6,
   "metadata": {},
   "outputs": [],
   "source": [
    "def solve_a(data):\n",
    "    pos, r = data\n",
    "    i = np.argmax(r)\n",
    "    distances = (abs(pos-pos[i])).sum(axis=1)\n",
    "    return (distances <= r[i]).sum()"
   ]
  },
  {
   "cell_type": "code",
   "execution_count": 7,
   "metadata": {},
   "outputs": [
    {
     "data": {
      "text/plain": [
       "7"
      ]
     },
     "execution_count": 7,
     "metadata": {},
     "output_type": "execute_result"
    }
   ],
   "source": [
    "solve_a(sample)"
   ]
  },
  {
   "cell_type": "code",
   "execution_count": 8,
   "metadata": {},
   "outputs": [
    {
     "data": {
      "text/plain": [
       "889"
      ]
     },
     "execution_count": 8,
     "metadata": {},
     "output_type": "execute_result"
    }
   ],
   "source": [
    "solve_a(data)"
   ]
  },
  {
   "cell_type": "code",
   "execution_count": 9,
   "metadata": {},
   "outputs": [],
   "source": [
    "from scipy.spatial.distance import cdist"
   ]
  },
  {
   "cell_type": "code",
   "execution_count": 10,
   "metadata": {},
   "outputs": [
    {
     "data": {
      "text/plain": [
       "(array([[0, 0, 0],\n",
       "        [1, 0, 0],\n",
       "        [4, 0, 0],\n",
       "        [0, 2, 0],\n",
       "        [0, 5, 0],\n",
       "        [0, 0, 3],\n",
       "        [1, 1, 1],\n",
       "        [1, 1, 2],\n",
       "        [1, 3, 1]]),\n",
       " array([4, 1, 3, 1, 3, 1, 1, 1, 1]))"
      ]
     },
     "execution_count": 10,
     "metadata": {},
     "output_type": "execute_result"
    }
   ],
   "source": [
    "sample"
   ]
  },
  {
   "cell_type": "markdown",
   "metadata": {},
   "source": [
    "# Part 2"
   ]
  },
  {
   "cell_type": "code",
   "execution_count": 11,
   "metadata": {},
   "outputs": [],
   "source": [
    "sample = parses(\"\"\"pos=<10,12,12>, r=2\n",
    "pos=<12,14,12>, r=2\n",
    "pos=<16,12,12>, r=4\n",
    "pos=<14,14,14>, r=6\n",
    "pos=<50,50,50>, r=200\n",
    "pos=<10,10,10>, r=5\"\"\")"
   ]
  },
  {
   "cell_type": "code",
   "execution_count": 12,
   "metadata": {},
   "outputs": [],
   "source": [
    "p, r = sample"
   ]
  },
  {
   "cell_type": "code",
   "execution_count": 16,
   "metadata": {},
   "outputs": [],
   "source": [
    "a, b = p.sum(1) - r, p.sum(1) + r"
   ]
  },
  {
   "cell_type": "code",
   "execution_count": 18,
   "metadata": {},
   "outputs": [
    {
     "data": {
      "text/plain": [
       "(array([ 32,  36,  36,  36, -50,  25]), array([ 36,  40,  44,  48, 350,  35]))"
      ]
     },
     "execution_count": 18,
     "metadata": {},
     "output_type": "execute_result"
    }
   ],
   "source": [
    "a,b"
   ]
  },
  {
   "cell_type": "code",
   "execution_count": 57,
   "metadata": {},
   "outputs": [],
   "source": [
    "import networkx as nx"
   ]
  },
  {
   "cell_type": "code",
   "execution_count": 61,
   "metadata": {},
   "outputs": [
    {
     "data": {
      "text/plain": [
       "array([[ -1,   4,   6,   8, 202,   7],\n",
       "       [  4,  -1,   6,   8, 202,   7],\n",
       "       [  6,   6,  -1,  10, 204,   9],\n",
       "       [  8,   8,  10,  -1, 206,  11],\n",
       "       [202, 202, 204, 206,  -1, 205],\n",
       "       [  7,   7,   9,  11, 205,  -1]])"
      ]
     },
     "execution_count": 61,
     "metadata": {},
     "output_type": "execute_result"
    }
   ],
   "source": []
  },
  {
   "cell_type": "code",
   "execution_count": null,
   "metadata": {},
   "outputs": [],
   "source": []
  },
  {
   "cell_type": "code",
   "execution_count": 62,
   "metadata": {},
   "outputs": [],
   "source": [
    "# overlap ^= np.eye(9, dtype=bool)"
   ]
  },
  {
   "cell_type": "code",
   "execution_count": 63,
   "metadata": {},
   "outputs": [
    {
     "data": {
      "text/plain": [
       "<matplotlib.image.AxesImage at 0x7fbc76401ee0>"
      ]
     },
     "execution_count": 63,
     "metadata": {},
     "output_type": "execute_result"
    },
    {
     "data": {
      "image/png": "[encoded data removed]",
      "text/plain": [
       "<Figure size 460.8x403.2 with 1 Axes>"
      ]
     },
     "metadata": {},
     "output_type": "display_data"
    }
   ],
   "source": [
    "plt.imshow(overlap)"
   ]
  },
  {
   "cell_type": "code",
   "execution_count": 69,
   "metadata": {},
   "outputs": [],
   "source": [
    "G = nx.Graph()"
   ]
  },
  {
   "cell_type": "code",
   "execution_count": 76,
   "metadata": {},
   "outputs": [],
   "source": [
    "G.add_edge(1,0)"
   ]
  },
  {
   "cell_type": "code",
   "execution_count": 77,
   "metadata": {},
   "outputs": [
    {
     "data": {
      "text/plain": [
       "EdgeView([(0, 1)])"
      ]
     },
     "execution_count": 77,
     "metadata": {},
     "output_type": "execute_result"
    }
   ],
   "source": [
    "G.edges"
   ]
  },
  {
   "cell_type": "code",
   "execution_count": 78,
   "metadata": {},
   "outputs": [
    {
     "data": {
      "text/plain": [
       "True"
      ]
     },
     "execution_count": 78,
     "metadata": {},
     "output_type": "execute_result"
    }
   ],
   "source": [
    "(1,0) in G.edges"
   ]
  },
  {
   "cell_type": "code",
   "execution_count": 80,
   "metadata": {},
   "outputs": [],
   "source": [
    "for u, v in np.argwhere(overlap):\n",
    "    G.add_edge(u,v)"
   ]
  },
  {
   "cell_type": "code",
   "execution_count": 86,
   "metadata": {},
   "outputs": [],
   "source": [
    "from networkx.algorithms.clique import find_cliques"
   ]
  },
  {
   "cell_type": "code",
   "execution_count": 91,
   "metadata": {},
   "outputs": [],
   "source": []
  },
  {
   "cell_type": "code",
   "execution_count": null,
   "metadata": {},
   "outputs": [],
   "source": []
  },
  {
   "cell_type": "code",
   "execution_count": 64,
   "metadata": {},
   "outputs": [],
   "source": [
    "def solve_b(data):\n",
    "    import networkx as nx\n",
    "    from networkx.algorithms.clique import find_cliques\n",
    "    # 1. Computes graph of overlaps and searches for max-clique\n",
    "    # 2. Given points in max_clique, it computes\n",
    "    points, radii = data\n",
    "    distances = cdist(points, points, metric='cityblock')\n",
    "    max_dist = np.sum(np.meshgrid(radii,radii), axis=0)\n",
    "    np.fill_diagonal(max_dist,-1)\n",
    "    G = nx.Graph()\n",
    "    for u, v in np.argwhere(distances <= max_dist):\n",
    "        G.add_edge(u,v)\n",
    "    max_clique = max(find_cliques(G), key=len)\n",
    "    margin = abs(points[max_clique]).sum(1) - radii[max_clique]\n",
    "    return max(margin)"
   ]
  },
  {
   "cell_type": "code",
   "execution_count": 65,
   "metadata": {},
   "outputs": [
    {
     "data": {
      "text/plain": [
       "36"
      ]
     },
     "execution_count": 65,
     "metadata": {},
     "output_type": "execute_result"
    }
   ],
   "source": [
    "solve_b(sample)"
   ]
  },
  {
   "cell_type": "code",
   "execution_count": 21,
   "metadata": {},
   "outputs": [
    {
     "data": {
      "text/plain": [
       "[1, 3]"
      ]
     },
     "execution_count": 21,
     "metadata": {},
     "output_type": "execute_result"
    }
   ],
   "source": [
    "x = [2,1,3]\n",
    "x.remove(2)\n",
    "x"
   ]
  },
  {
   "cell_type": "code",
   "execution_count": null,
   "metadata": {},
   "outputs": [],
   "source": []
  },
  {
   "cell_type": "code",
   "execution_count": 60,
   "metadata": {},
   "outputs": [],
   "source": [
    "\n",
    "def solve_b_intervals(data):\n",
    "    # Cheeky fast solution that does not find the point but just its magnitude\n",
    "    # Each point,radius can be encoded as an interval of magnitudes as \n",
    "    # (L1(point)-r, L1(point)+r). We can compute the intersection of all\n",
    "    # the intervals and if its non-empty the start of the interval is our solution\n",
    "\n",
    "    # Since using all points is unfeasible, we can just try removing points and check\n",
    "    # whether they get us closer to a feasible interval using a heap to ensure we \n",
    "    # check the most promising interval\n",
    "    from heapq import heappush, heappop    \n",
    "    points, radii = data\n",
    "    lows, highs = abs(points).sum(1)-radii, abs(points).sum(1)+radii\n",
    "    low, high = lows.max(), highs.min()\n",
    "    violation = low-high\n",
    "    if violation <= 0:\n",
    "        return low\n",
    "    heap = [(violation,list(range(len(points))))]\n",
    "    while True:\n",
    "        violation, i = heappop(heap)\n",
    "        for n in i:\n",
    "            j = i.copy()\n",
    "            j.remove(n)\n",
    "            low2, high2 = lows[j].max(), highs[j].min()\n",
    "            violation2 = low2 - high2\n",
    "            if violation2 <= 0:\n",
    "                return low2\n",
    "            elif violation2 < violation:\n",
    "                heappush(heap, (violation2,j))\n"
   ]
  },
  {
   "cell_type": "code",
   "execution_count": 61,
   "metadata": {},
   "outputs": [
    {
     "data": {
      "text/plain": [
       "160646364"
      ]
     },
     "execution_count": 61,
     "metadata": {},
     "output_type": "execute_result"
    }
   ],
   "source": [
    "solve_b_intervals(data)"
   ]
  },
  {
   "cell_type": "code",
   "execution_count": null,
   "metadata": {},
   "outputs": [],
   "source": [
    "160646364"
   ]
  },
  {
   "cell_type": "code",
   "execution_count": 81,
   "metadata": {},
   "outputs": [],
   "source": [
    "def solve_b_smtsolver(data):\n",
    "    points, radii = data\n",
    "    points, radii = points.tolist(), radii.tolist()\n",
    "    from z3 import Int, If, Optimize, Sum\n",
    "    abs = lambda x: If(x >= 0,x,-x)\n",
    "    x, y, z = Int('x'), Int('y'), Int('z')\n",
    "\n",
    "    opt = Optimize()\n",
    "    \n",
    "    def manhattan(p1, p2):\n",
    "        return sum(abs(x1-x2) for x1,x2 in zip(p1,p2))\n",
    "    X = (x, y, z)\n",
    "    total_inrange = Sum([If(manhattan(X, p) <= r, 1, 0) \n",
    "                         for i, (p, r) in enumerate(zip(points, radii))])\n",
    "    origin_distance = manhattan(X, (0,0,0))\n",
    "    c1 = opt.maximize(total_inrange)\n",
    "    c2 = opt.minimize(origin_distance)\n",
    "    if opt.check():\n",
    "        return opt.lower(c2).as_long()"
   ]
  },
  {
   "cell_type": "code",
   "execution_count": 83,
   "metadata": {},
   "outputs": [
    {
     "data": {
      "text/plain": [
       "160646364"
      ]
     },
     "execution_count": 83,
     "metadata": {},
     "output_type": "execute_result"
    }
   ],
   "source": [
    "solve_b_smtsolver(data)"
   ]
  },
  {
   "cell_type": "code",
   "execution_count": null,
   "metadata": {},
   "outputs": [],
   "source": []
  },
  {
   "cell_type": "code",
   "execution_count": 241,
   "metadata": {},
   "outputs": [],
   "source": []
  },
  {
   "cell_type": "code",
   "execution_count": 257,
   "metadata": {},
   "outputs": [],
   "source": []
  },
  {
   "cell_type": "code",
   "execution_count": 258,
   "metadata": {},
   "outputs": [
    {
     "data": {
      "text/plain": [
       "160646364"
      ]
     },
     "execution_count": 258,
     "metadata": {},
     "output_type": "execute_result"
    }
   ],
   "source": [
    "solve_b_octree(data)"
   ]
  },
  {
   "cell_type": "code",
   "execution_count": 190,
   "metadata": {},
   "outputs": [
    {
     "data": {
      "text/plain": [
       "(array([[10, 12, 12],\n",
       "        [12, 14, 12],\n",
       "        [16, 12, 12],\n",
       "        [14, 14, 14],\n",
       "        [50, 50, 50],\n",
       "        [10, 10, 10]]),\n",
       " array([  2,   2,   4,   6, 200,   5]))"
      ]
     },
     "execution_count": 190,
     "metadata": {},
     "output_type": "execute_result"
    }
   ],
   "source": [
    "sample"
   ]
  },
  {
   "cell_type": "code",
   "execution_count": null,
   "metadata": {},
   "outputs": [],
   "source": [
    "160646364\n",
    "307450855"
   ]
  },
  {
   "cell_type": "code",
   "execution_count": null,
   "metadata": {},
   "outputs": [],
   "source": [
    "# def intersect(p1, p2, r1, r2):\n",
    "#     assert abs(p1-p2).abs <= r1 + r2\n",
    "#     slack = abs(p1-p2).sum()\n",
    "\n",
    "# solve_b(sample)\n",
    "\n",
    "# import torch\n",
    "# from torch import nn\n",
    "# from torch.optim import SGD, Adam\n",
    "\n",
    "# mc = solve_b(data)\n",
    "\n",
    "# points = torch.Tensor(data[0][mc])\n",
    "# r = torch.Tensor(data[1][mc])\n",
    "\n",
    "\n",
    "\n",
    "# # x = nn.Parameter(torch.Tensor([0,0,0]))\n",
    "# # x = nn.Parameter(torch.Tensor([56721516., 49483604., 54441240.]))\n",
    "# optim = SGD([x], lr=0.03, momentum=0.9)\n",
    "\n",
    "# for i in range(1_000_000):\n",
    "#     optim.zero_grad()\n",
    "#     loss_error = torch.max(abs(x-points).sum(1) - r, torch.zeros_like(r)).sum()\n",
    "#     loss_origin = torch.sum(x)\n",
    "#     loss = loss_error + 1* loss_origin #+ torch.frac(x).abs().sum())\n",
    "#     loss.backward()\n",
    "#     optim.step()\n",
    "#     if i % 1000 == 0:\n",
    "#         print(loss_error.item(), loss_origin.item())\n",
    "\n",
    "# torch.max(abs(x-points).sum(1) - r, torch.zeros_like(r)) #.sum()\n",
    "\n",
    "\n",
    "\n",
    "# x\n",
    "\n",
    "# torch.round(x)\n",
    "\n",
    "# torch.round(x)\n",
    "\n",
    "\n",
    "\n",
    "# solve_b(data)\n",
    "\n",
    "# import math\n",
    "\n",
    "# x\n",
    "\n",
    "# a,b,c = np.array([56721516, 49483604, 54441236])\n",
    "\n",
    "# N = 100\n",
    "# p = data[0][mc]\n",
    "# r = data[1][mc]\n",
    "\n",
    "# for x in range(a-N,a+N):\n",
    "#     for y in range(b-N,b+N):\n",
    "#         for z in range(c-N,c+N):\n",
    "#             candidate = np.array([x,y,z])\n",
    "#             if (abs(p - candidate).sum(1) <= r).all():\n",
    "#                 print(candidate)\n",
    "\n",
    "# p - candidate)\n",
    "\n",
    "# candidate \n",
    "\n",
    "\n",
    "\n"
   ]
  }
 ],
 "metadata": {
  "kernelspec": {
   "display_name": "Python 3",
   "language": "python",
   "name": "python3"
  },
  "language_info": {
   "codemirror_mode": {
    "name": "ipython",
    "version": 3
   },
   "file_extension": ".py",
   "mimetype": "text/x-python",
   "name": "python",
   "nbconvert_exporter": "python",
   "pygments_lexer": "ipython3",
   "version": "3.8.8"
  }
 },
 "nbformat": 4,
 "nbformat_minor": 4
}
