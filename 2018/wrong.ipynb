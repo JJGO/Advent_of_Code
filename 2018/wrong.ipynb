{
 "cells": [
  {
   "cell_type": "code",
   "execution_count": 4,
   "id": "cc06f0b4",
   "metadata": {},
   "outputs": [
    {
     "name": "stdout",
     "output_type": "stream",
     "text": [
      "( 0 [] defaultdict(<class 'int'>, {})\n",
      "N 1 [(5000, 5000)] defaultdict(<class 'int'>, {})\n",
      "| 1 [(5000, 5000)] defaultdict(<class 'int'>, {(5000, 4999): 1, (5000, 5000): 0})\n",
      "S 1 [(5000, 5000)] defaultdict(<class 'int'>, {(5000, 4999): 1, (5000, 5000): 0})\n",
      "| 1 [(5000, 5000)] defaultdict(<class 'int'>, {(5000, 4999): 1, (5000, 5000): 0, (5000, 5001): 1})\n",
      ") 1 [(5000, 5000)] defaultdict(<class 'int'>, {(5000, 4999): 1, (5000, 5000): 0, (5000, 5001): 1})\n",
      "( 0 [] defaultdict(<class 'int'>, {(5000, 4999): 1, (5000, 5000): 0, (5000, 5001): 1})\n",
      "E 1 [(5000, 5000)] defaultdict(<class 'int'>, {(5000, 4999): 1, (5000, 5000): 0, (5000, 5001): 1})\n",
      "| 1 [(5000, 5000)] defaultdict(<class 'int'>, {(5000, 4999): 1, (5000, 5000): 0, (5000, 5001): 1, (5001, 5000): 1})\n",
      "W 1 [(5000, 5000)] defaultdict(<class 'int'>, {(5000, 4999): 1, (5000, 5000): 0, (5000, 5001): 1, (5001, 5000): 1})\n",
      "| 1 [(5000, 5000)] defaultdict(<class 'int'>, {(5000, 4999): 1, (5000, 5000): 0, (5000, 5001): 1, (5001, 5000): 1, (4999, 5000): 1})\n",
      "1\n",
      "0\n"
     ]
    }
   ],
   "source": [
    "from collections import *\n",
    "import itertools\n",
    "import random\n",
    "import sys\n",
    "import re\n",
    "\n",
    "# f = open(\"20.txt\").read().strip(\"\\n\")\n",
    "\n",
    "f = '^(N|S|)(E|W|)'\n",
    "\n",
    "d = {\n",
    "    \"N\": (0, -1),\n",
    "    \"E\": (1, 0),\n",
    "    \"S\": (0, 1),\n",
    "    \"W\": (-1, 0)\n",
    "}\n",
    "\n",
    "positions = []\n",
    "x, y = 5000, 5000\n",
    "m = defaultdict(set)\n",
    "prev_x, prev_y = x, y\n",
    "distances = defaultdict(int)\n",
    "dist = 0\n",
    "for c in f[1:-1]:\n",
    "    print(c, len(positions), positions, distances)\n",
    "    if c == \"(\":\n",
    "        positions.append((x, y))\n",
    "    elif c == \")\":\n",
    "        x, y = positions.pop()\n",
    "    elif c == \"|\":\n",
    "        x, y = positions[-1]\n",
    "    else:\n",
    "        dx, dy = d[c]\n",
    "        x += dx\n",
    "        y += dy\n",
    "        m[(x, y)].add((prev_x, prev_y))\n",
    "        if distances[(x, y)] != 0:\n",
    "            distances[(x, y)] = min(distances[(x, y)], distances[(prev_x, prev_y)]+1)\n",
    "        else:\n",
    "            distances[(x, y)] = distances[(prev_x, prev_y)]+1\n",
    "\n",
    "\n",
    "\n",
    "\n",
    "\n",
    "    prev_x, prev_y = x, y\n",
    "\n",
    "print(max(distances.values()))\n",
    "print(len([x for x in distances.values() if x >= 1000]))"
   ]
  },
  {
   "cell_type": "code",
   "execution_count": 5,
   "id": "00a1850f",
   "metadata": {},
   "outputs": [
    {
     "data": {
      "text/plain": [
       "5"
      ]
     },
     "execution_count": 5,
     "metadata": {},
     "output_type": "execute_result"
    }
   ],
   "source": [
    "len(distances)"
   ]
  },
  {
   "cell_type": "code",
   "execution_count": null,
   "id": "48c042e0",
   "metadata": {},
   "outputs": [],
   "source": []
  }
 ],
 "metadata": {
  "kernelspec": {
   "display_name": "Python 3",
   "language": "python",
   "name": "python3"
  },
  "language_info": {
   "codemirror_mode": {
    "name": "ipython",
    "version": 3
   },
   "file_extension": ".py",
   "mimetype": "text/x-python",
   "name": "python",
   "nbconvert_exporter": "python",
   "pygments_lexer": "ipython3",
   "version": "3.8.8"
  }
 },
 "nbformat": 4,
 "nbformat_minor": 5
}
