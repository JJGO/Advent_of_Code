{
 "cells": [
  {
   "cell_type": "code",
   "execution_count": 5,
   "metadata": {
    "ExecuteTime": {
     "end_time": "2018-12-12T03:36:11.444732Z",
     "start_time": "2018-12-12T03:36:11.441426Z"
    }
   },
   "outputs": [],
   "source": [
    "example = [\n",
    "    \"abcdef\",\n",
    "    \"bababc\",\n",
    "    \"abbcde\",\n",
    "    \"abcccd\",\n",
    "    \"aabcdd\",\n",
    "    \"abcdee\",\n",
    "    \"ababab\",\n",
    "]"
   ]
  },
  {
   "cell_type": "code",
   "execution_count": 37,
   "metadata": {
    "ExecuteTime": {
     "end_time": "2018-12-12T03:49:24.453787Z",
     "start_time": "2018-12-12T03:49:24.449819Z"
    }
   },
   "outputs": [],
   "source": [
    "with open('input.txt','r') as f:\n",
    "    puzzle = f.read().strip().split('\\n')"
   ]
  },
  {
   "cell_type": "code",
   "execution_count": 7,
   "metadata": {
    "ExecuteTime": {
     "end_time": "2018-12-12T03:36:11.736562Z",
     "start_time": "2018-12-12T03:36:11.729579Z"
    }
   },
   "outputs": [],
   "source": [
    "from collections import defaultdict\n",
    "\n",
    "def count(col):\n",
    "    counter = defaultdict(int)\n",
    "    for i in col:\n",
    "        counter[i] += 1\n",
    "    return counter"
   ]
  },
  {
   "cell_type": "code",
   "execution_count": 11,
   "metadata": {
    "ExecuteTime": {
     "end_time": "2018-12-12T03:37:20.295259Z",
     "start_time": "2018-12-12T03:37:20.291022Z"
    }
   },
   "outputs": [
    {
     "data": {
      "text/plain": [
       "defaultdict(int, {1: 1, 2: 1, 3: 1})"
      ]
     },
     "execution_count": 11,
     "metadata": {},
     "output_type": "execute_result"
    }
   ],
   "source": [
    "count(count(example[1]).values())"
   ]
  },
  {
   "cell_type": "code",
   "execution_count": 18,
   "metadata": {
    "ExecuteTime": {
     "end_time": "2018-12-12T03:40:36.755810Z",
     "start_time": "2018-12-12T03:40:36.749340Z"
    }
   },
   "outputs": [],
   "source": [
    "def checksum(values):\n",
    "    twice, thrice = 0,0\n",
    "    for v in values:\n",
    "        counts = count(count(v).values())\n",
    "        twice += bool(counts[2])\n",
    "        thrice += bool(counts[3])\n",
    "    return twice * thrice"
   ]
  },
  {
   "cell_type": "code",
   "execution_count": 19,
   "metadata": {
    "ExecuteTime": {
     "end_time": "2018-12-12T03:40:37.203032Z",
     "start_time": "2018-12-12T03:40:37.198305Z"
    }
   },
   "outputs": [
    {
     "data": {
      "text/plain": [
       "12"
      ]
     },
     "execution_count": 19,
     "metadata": {},
     "output_type": "execute_result"
    }
   ],
   "source": [
    "checksum(example)"
   ]
  },
  {
   "cell_type": "code",
   "execution_count": 21,
   "metadata": {
    "ExecuteTime": {
     "end_time": "2018-12-12T03:40:51.076551Z",
     "start_time": "2018-12-12T03:40:51.069209Z"
    }
   },
   "outputs": [
    {
     "data": {
      "text/plain": [
       "6723"
      ]
     },
     "execution_count": 21,
     "metadata": {},
     "output_type": "execute_result"
    }
   ],
   "source": [
    "checksum(puzzle)"
   ]
  },
  {
   "cell_type": "code",
   "execution_count": 22,
   "metadata": {
    "ExecuteTime": {
     "end_time": "2018-12-12T03:41:33.419778Z",
     "start_time": "2018-12-12T03:41:33.414952Z"
    }
   },
   "outputs": [],
   "source": [
    "example = [\n",
    "    \"abcde\",\n",
    "    \"fghij\",\n",
    "    \"klmno\",\n",
    "    \"pqrst\",\n",
    "    \"fguij\",\n",
    "    \"axcye\",\n",
    "    \"wvxyz\",\n",
    "]"
   ]
  },
  {
   "cell_type": "code",
   "execution_count": 33,
   "metadata": {
    "ExecuteTime": {
     "end_time": "2018-12-12T03:48:53.376634Z",
     "start_time": "2018-12-12T03:48:53.364271Z"
    }
   },
   "outputs": [],
   "source": [
    "def find_close(values):\n",
    "    \n",
    "    for j, u in enumerate(values):\n",
    "        for v in values[j+1:]:\n",
    "            diff = -1\n",
    "            for i, l in enumerate(u):\n",
    "                if u[i] != v[i]:\n",
    "                    if diff >= 0:\n",
    "                        diff = -1\n",
    "                        break\n",
    "                    else:\n",
    "                        diff = i\n",
    "            if diff >= 0:\n",
    "                print(u,v,j,i)\n",
    "                return u[:diff]+u[diff+1:]"
   ]
  },
  {
   "cell_type": "code",
   "execution_count": 34,
   "metadata": {
    "ExecuteTime": {
     "end_time": "2018-12-12T03:48:53.540230Z",
     "start_time": "2018-12-12T03:48:53.535152Z"
    }
   },
   "outputs": [
    {
     "name": "stdout",
     "output_type": "stream",
     "text": [
      "fghij fguij 1 4\n"
     ]
    },
    {
     "data": {
      "text/plain": [
       "'fgij'"
      ]
     },
     "execution_count": 34,
     "metadata": {},
     "output_type": "execute_result"
    }
   ],
   "source": [
    "find_close(example)"
   ]
  },
  {
   "cell_type": "code",
   "execution_count": 38,
   "metadata": {
    "ExecuteTime": {
     "end_time": "2018-12-12T03:49:26.374531Z",
     "start_time": "2018-12-12T03:49:26.348804Z"
    }
   },
   "outputs": [
    {
     "name": "stdout",
     "output_type": "stream",
     "text": [
      "prtkqyluiusocwvaezjmhmfbgx prtkqyluiusocwvaezjmhmfngx 87 25\n"
     ]
    },
    {
     "data": {
      "text/plain": [
       "'prtkqyluiusocwvaezjmhmfgx'"
      ]
     },
     "execution_count": 38,
     "metadata": {},
     "output_type": "execute_result"
    }
   ],
   "source": [
    "find_close(puzzle)"
   ]
  },
  {
   "cell_type": "code",
   "execution_count": null,
   "metadata": {},
   "outputs": [],
   "source": []
  }
 ],
 "metadata": {
  "kernelspec": {
   "display_name": "Python 3",
   "language": "python",
   "name": "python3"
  },
  "language_info": {
   "codemirror_mode": {
    "name": "ipython",
    "version": 3
   },
   "file_extension": ".py",
   "mimetype": "text/x-python",
   "name": "python",
   "nbconvert_exporter": "python",
   "pygments_lexer": "ipython3",
   "version": "3.6.4"
  },
  "toc": {
   "nav_menu": {},
   "number_sections": true,
   "sideBar": true,
   "skip_h1_title": false,
   "title_cell": "Table of Contents",
   "title_sidebar": "Contents",
   "toc_cell": false,
   "toc_position": {},
   "toc_section_display": true,
   "toc_window_display": false
  },
  "varInspector": {
   "cols": {
    "lenName": 16,
    "lenType": 16,
    "lenVar": 40
   },
   "kernels_config": {
    "python": {
     "delete_cmd_postfix": "",
     "delete_cmd_prefix": "del ",
     "library": "var_list.py",
     "varRefreshCmd": "print(var_dic_list())"
    },
    "r": {
     "delete_cmd_postfix": ") ",
     "delete_cmd_prefix": "rm(",
     "library": "var_list.r",
     "varRefreshCmd": "cat(var_dic_list()) "
    }
   },
   "types_to_exclude": [
    "module",
    "function",
    "builtin_function_or_method",
    "instance",
    "_Feature"
   ],
   "window_display": false
  }
 },
 "nbformat": 4,
 "nbformat_minor": 2
}
