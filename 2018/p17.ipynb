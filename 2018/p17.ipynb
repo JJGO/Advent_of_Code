{
 "cells": [
  {
   "cell_type": "code",
   "execution_count": 3,
   "id": "e6100c3b",
   "metadata": {},
   "outputs": [],
   "source": [
    "from aocd.models import Puzzle\n",
    "\n",
    "puzzle = Puzzle(year=2018, day=17)\n",
    "\n",
    "def parses(data):\n",
    "    return [parse.parse('{}={:d}, {}={:d}..{:d}', line).fixed \n",
    "            for line in data.strip().split('\\n')]\n",
    "\n",
    "data = parses(puzzle.input_data)"
   ]
  },
  {
   "cell_type": "code",
   "execution_count": 4,
   "id": "67c34189",
   "metadata": {},
   "outputs": [],
   "source": [
    "sample = parses(\"\"\"x=495, y=2..7\n",
    "y=7, x=495..501\n",
    "x=501, y=3..7\n",
    "x=498, y=2..4\n",
    "x=506, y=1..2\n",
    "x=498, y=10..13\n",
    "x=504, y=10..13\n",
    "y=13, x=498..504\"\"\")"
   ]
  },
  {
   "cell_type": "code",
   "execution_count": 5,
   "id": "4e540335",
   "metadata": {},
   "outputs": [],
   "source": [
    "def render(scan,x,y,maxy=None):\n",
    "    scan = scan.copy()\n",
    "    scan[x,y] = 4\n",
    "    minx = min(x for x,y in scan)\n",
    "    maxx = max(x for x,y in scan)\n",
    "    miny = min(y for x,y in scan)\n",
    "    if maxy is None:\n",
    "        maxy = max(y for x,y in scan)\n",
    "    s = \"\"\n",
    "    for y in range(miny,maxy+1):\n",
    "        for x in range(minx,maxx+1):\n",
    "            s += ' #~|X'[scan[x,y]]\n",
    "        s += '\\n'\n",
    "    print(s)"
   ]
  },
  {
   "cell_type": "code",
   "execution_count": 6,
   "id": "44149468",
   "metadata": {},
   "outputs": [],
   "source": []
  },
  {
   "cell_type": "code",
   "execution_count": 41,
   "id": "2b6c014a",
   "metadata": {},
   "outputs": [],
   "source": [
    "def solve_a(data):\n",
    "    scan = defaultdict(int)\n",
    "    SAND, CLAY, WATER, RUNNING = 0, 1, 2, 3\n",
    "    \n",
    "    for a, n, b, m1, m2 in data:\n",
    "        for m in range(m1,m2+1):\n",
    "            if a == 'x':\n",
    "                scan[n,m] = CLAY\n",
    "            else:\n",
    "                scan[m,n] = CLAY\n",
    "\n",
    "    stack = [(500,0)]\n",
    "    ymax = max(y for x,y in scan)\n",
    "    ymin = min(y for x,y in scan)\n",
    "    history = []\n",
    "\n",
    "    while stack:\n",
    "        x, y = stack.pop()\n",
    "        scan[x,y] = RUNNING\n",
    "        \n",
    "        if y >= ymax or scan[x,y+1] == RUNNING:\n",
    "            continue\n",
    "        \n",
    "        if scan[x,y+1] == SAND and y+1 <= ymax:\n",
    "            stack.append((x,y+1))\n",
    "            continue\n",
    "        \n",
    "        down = []\n",
    "        if scan[x,y+1] in [CLAY, WATER]:\n",
    "            new = []\n",
    "            still = True\n",
    "            for side in (1,-1):\n",
    "                for x2 in itertools.count(x+side,side):\n",
    "                    if scan[x2,y] in [CLAY, WATER]:\n",
    "                        break\n",
    "                    \n",
    "                    if scan[x2,y+1] == RUNNING:\n",
    "                        still = False\n",
    "                        break\n",
    "                    \n",
    "                    scan[x2,y] = RUNNING\n",
    "                    new.append((x2,y))\n",
    "                    if scan[x2,y+1] == SAND and y+1 <= ymax:\n",
    "                        down.append((x2,y+1))\n",
    "                        still = False\n",
    "                        break\n",
    "            if still:\n",
    "                for x2, y in new:\n",
    "                    scan[x2,y] = WATER\n",
    "            \n",
    "        \n",
    "        if still:\n",
    "            scan[x,y] = WATER\n",
    "            if scan[x,y-1] == RUNNING:\n",
    "                stack.append((x,y-1))\n",
    "        if down:\n",
    "            stack.append((x,y))\n",
    "            stack.extend(down)\n",
    "#     render(scan,x,y) #,maxy=50)\n",
    "#     print('-----------------------------------------'*2, '-----------------------------------------'*2)\n",
    "    return sum(1 for x,y in scan if scan[x,y] in [WATER, RUNNING] and ymin <= y <= ymax) \n",
    "#     return scan"
   ]
  },
  {
   "cell_type": "code",
   "execution_count": 48,
   "id": "70a43926",
   "metadata": {},
   "outputs": [],
   "source": [
    "def fill(data):\n",
    "    # Fully iterative solution\n",
    "    scan = defaultdict(int)\n",
    "    SAND, CLAY, WATER, RUNNING = 0, 1, 2, 3\n",
    "    \n",
    "    # Parse into map dictionary\n",
    "    for a, n, b, m1, m2 in data:\n",
    "        for m in range(m1,m2+1):\n",
    "            if a == 'x':\n",
    "                scan[n,m] = CLAY\n",
    "            else:\n",
    "                scan[m,n] = CLAY\n",
    "    \n",
    "    # Start at prespecified source\n",
    "    stack = [(500,0)]\n",
    "    ymax, ymin = max(y for x,y in scan), min(y for x,y in scan)\n",
    "\n",
    "    while stack:\n",
    "        x, y = stack.pop()\n",
    "        scan[x,y] = RUNNING\n",
    "        below = (x,y+1)\n",
    "        \n",
    "        # Out of bounds or already explored\n",
    "        if y >= ymax or scan[below] == RUNNING:\n",
    "            continue\n",
    "        \n",
    "        # Continue downwards\n",
    "        if scan[below] == SAND:\n",
    "            stack.append(below)\n",
    "            continue\n",
    "        \n",
    "        children = []\n",
    "        filled = [(x,y)]\n",
    "        still = True # assume we'll hit a wall\n",
    "        for side in (1, -1):\n",
    "            for x2 in itertools.count(x+side, side):\n",
    "                if scan[x2,y] == CLAY:\n",
    "                    break # Hit a wall\n",
    "                scan[x2,y] = RUNNING\n",
    "                filled.append((x2,y))\n",
    "    \n",
    "                below2 = (x2,y+1)\n",
    "                if scan[below2] == SAND:\n",
    "                    children.append(below2)\n",
    "                \n",
    "                if scan[below2] in [SAND, RUNNING]:\n",
    "                    still = False\n",
    "                    break\n",
    "        \n",
    "        if still:\n",
    "            for x2, y in filled:\n",
    "                scan[x2,y] = WATER\n",
    "            above = (x,y-1)\n",
    "            if scan[above] == RUNNING:\n",
    "                stack.append(above)\n",
    "        if children:\n",
    "            # Keep in stack, but priotize children\n",
    "            stack.append((x,y))\n",
    "            stack.extend(children)\n",
    "    sum_still = sum(1 for x,y in scan if scan[x,y] == WATER and ymin <= y <= ymax)\n",
    "    sum_running = sum(1 for x,y in scan if scan[x,y] == RUNNING and ymin <= y <= ymax)\n",
    "    return sum_still, sum_running\n",
    "\n",
    "def solve_a(data):\n",
    "    return sum(fill(data))\n",
    "\n",
    "def solve_b(data):\n",
    "    return fill(data)[0]"
   ]
  },
  {
   "cell_type": "code",
   "execution_count": 49,
   "id": "417df713",
   "metadata": {},
   "outputs": [
    {
     "data": {
      "text/plain": [
       "57"
      ]
     },
     "execution_count": 49,
     "metadata": {},
     "output_type": "execute_result"
    }
   ],
   "source": [
    "solve_a(sample)"
   ]
  },
  {
   "cell_type": "code",
   "execution_count": 50,
   "id": "b1cf87c9",
   "metadata": {},
   "outputs": [
    {
     "data": {
      "text/plain": [
       "37649"
      ]
     },
     "execution_count": 50,
     "metadata": {},
     "output_type": "execute_result"
    }
   ],
   "source": [
    "solve_a(data)"
   ]
  },
  {
   "cell_type": "code",
   "execution_count": 51,
   "id": "fbec2f4e",
   "metadata": {},
   "outputs": [
    {
     "data": {
      "text/plain": [
       "29"
      ]
     },
     "execution_count": 51,
     "metadata": {},
     "output_type": "execute_result"
    }
   ],
   "source": [
    "solve_b(sample)"
   ]
  },
  {
   "cell_type": "code",
   "execution_count": 52,
   "id": "f93e1915",
   "metadata": {},
   "outputs": [
    {
     "data": {
      "text/plain": [
       "30112"
      ]
     },
     "execution_count": 52,
     "metadata": {},
     "output_type": "execute_result"
    }
   ],
   "source": [
    "solve_b(data)"
   ]
  },
  {
   "cell_type": "code",
   "execution_count": null,
   "id": "2af0264b",
   "metadata": {},
   "outputs": [],
   "source": [
    "# render(*H[-1], 13)"
   ]
  },
  {
   "cell_type": "code",
   "execution_count": null,
   "id": "19f8bd65",
   "metadata": {},
   "outputs": [],
   "source": [
    "render(solve_a(data), 500, 0)"
   ]
  },
  {
   "cell_type": "code",
   "execution_count": null,
   "id": "b5b823b0",
   "metadata": {},
   "outputs": [],
   "source": [
    "render(*H[-1])"
   ]
  },
  {
   "cell_type": "code",
   "execution_count": null,
   "id": "b5e4c482",
   "metadata": {},
   "outputs": [],
   "source": [
    "# render(*H[-1])"
   ]
  },
  {
   "cell_type": "code",
   "execution_count": 16,
   "id": "16cd3b7f",
   "metadata": {},
   "outputs": [],
   "source": [
    "_, scan = solve_a(data)"
   ]
  },
  {
   "cell_type": "code",
   "execution_count": 18,
   "id": "ae2b6f37",
   "metadata": {},
   "outputs": [],
   "source": [
    "mysettled = set( pos for pos, val in scan.items() if val == 2)\n",
    "myflowing = set( pos for pos, val in scan.items() if val == 3)"
   ]
  },
  {
   "cell_type": "code",
   "execution_count": 25,
   "id": "f9ed29ce",
   "metadata": {},
   "outputs": [],
   "source": [
    "refsettled = set([pt for pt in settled if ymin <= pt[1] <= ymax])\n",
    "refflowing = set([pt for pt in flowing if ymin <= pt[1] <= ymax])"
   ]
  },
  {
   "cell_type": "code",
   "execution_count": 27,
   "id": "83574f0f",
   "metadata": {},
   "outputs": [
    {
     "data": {
      "text/plain": [
       "set()"
      ]
     },
     "execution_count": 27,
     "metadata": {},
     "output_type": "execute_result"
    }
   ],
   "source": [
    "mysettled - refsettled"
   ]
  },
  {
   "cell_type": "code",
   "execution_count": 28,
   "id": "22c4ee41",
   "metadata": {},
   "outputs": [
    {
     "data": {
      "text/plain": [
       "{(500, 0), (500, 1), (500, 2), (500, 3), (500, 4), (500, 5)}"
      ]
     },
     "execution_count": 28,
     "metadata": {},
     "output_type": "execute_result"
    }
   ],
   "source": [
    "myflowing - refflowing"
   ]
  },
  {
   "cell_type": "code",
   "execution_count": 21,
   "id": "759ffbac",
   "metadata": {},
   "outputs": [
    {
     "data": {
      "text/plain": [
       "37655"
      ]
     },
     "execution_count": 21,
     "metadata": {},
     "output_type": "execute_result"
    }
   ],
   "source": [
    "len(mysettled) + len(myflowing)"
   ]
  },
  {
   "cell_type": "code",
   "execution_count": 13,
   "id": "c39c7b79",
   "metadata": {},
   "outputs": [
    {
     "data": {
      "text/plain": [
       "37649"
      ]
     },
     "execution_count": 13,
     "metadata": {},
     "output_type": "execute_result"
    }
   ],
   "source": [
    "37649"
   ]
  },
  {
   "cell_type": "code",
   "execution_count": 24,
   "id": "31497c8a",
   "metadata": {},
   "outputs": [
    {
     "data": {
      "text/plain": [
       "67767"
      ]
     },
     "execution_count": 24,
     "metadata": {},
     "output_type": "execute_result"
    }
   ],
   "source": [
    "len(settled)+len(flowing)"
   ]
  },
  {
   "cell_type": "code",
   "execution_count": 23,
   "id": "53751b31",
   "metadata": {},
   "outputs": [
    {
     "name": "stdout",
     "output_type": "stream",
     "text": [
      "part 1: 37649\n"
     ]
    }
   ],
   "source": [
    "import collections\n",
    "\n",
    "clay = collections.defaultdict(bool)\n",
    "\n",
    "for line in puzzle.input_data.strip().split('\\n'):\n",
    "    a, brange = line.split(',')\n",
    "    if a[0] == 'x':\n",
    "        x = int(a.split('=')[1])\n",
    "        y1, y2 = map(int, brange.split('=')[1].split('..'))\n",
    "\n",
    "        for y in range(y1, y2 + 1):\n",
    "            clay[(x, y)] = True\n",
    "    else:\n",
    "        y = int(a.split('=')[1])\n",
    "        x1, x2 = map(int, brange.split('=')[1].split('..'))\n",
    "\n",
    "        for x in range(x1, x2 + 1):\n",
    "            clay[(x, y)] = True\n",
    "\n",
    "ymin, ymax = min(clay, key=lambda p: p[1])[1], max(clay, key=lambda p: p[1])[1]\n",
    "\n",
    "settled = set()\n",
    "flowing = set()\n",
    "\n",
    "def fill(pt, direction=(0, 1)):\n",
    "    flowing.add(pt)\n",
    "\n",
    "    below = (pt[0], pt[1] + 1)\n",
    "\n",
    "    if not clay[below] and below not in flowing and 1 <= below[1] <= ymax:\n",
    "        fill(below)\n",
    "\n",
    "    if not clay[below] and below not in settled:\n",
    "        return False\n",
    "\n",
    "    left = (pt[0] - 1, pt[1])\n",
    "    right = (pt[0] + 1, pt[1])\n",
    "\n",
    "    left_filled = clay[left] or left not in flowing and fill(left, direction=(-1, 0))\n",
    "    right_filled = clay[right] or right not in flowing and fill(right, direction=(1, 0))\n",
    "\n",
    "    if direction == (0, 1) and left_filled and right_filled:\n",
    "        settled.add(pt)\n",
    "\n",
    "        while left in flowing:\n",
    "            settled.add(left)\n",
    "            left = (left[0] - 1, left[1])\n",
    "\n",
    "        while right in flowing:\n",
    "            settled.add(right)\n",
    "            right = (right[0] + 1, right[1])\n",
    "\n",
    "    return direction == (-1, 0) and (left_filled or clay[left]) or \\\n",
    "        direction == (1, 0) and (right_filled or clay[right])\n",
    "\n",
    "fill((500, 0))\n",
    "\n",
    "print('part 1:', len([pt for pt in flowing | settled if ymin <= pt[1] <= ymax]))\n",
    "# print('part 2:', len([pt for pt in settled if ymin <= pt[1] <= ymax]))"
   ]
  },
  {
   "cell_type": "code",
   "execution_count": null,
   "id": "c870af7b",
   "metadata": {},
   "outputs": [],
   "source": []
  }
 ],
 "metadata": {
  "kernelspec": {
   "display_name": "Python 3",
   "language": "python",
   "name": "python3"
  },
  "language_info": {
   "codemirror_mode": {
    "name": "ipython",
    "version": 3
   },
   "file_extension": ".py",
   "mimetype": "text/x-python",
   "name": "python",
   "nbconvert_exporter": "python",
   "pygments_lexer": "ipython3",
   "version": "3.8.8"
  }
 },
 "nbformat": 4,
 "nbformat_minor": 5
}
