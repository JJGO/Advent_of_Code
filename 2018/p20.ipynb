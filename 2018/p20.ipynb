{
 "cells": [
  {
   "cell_type": "code",
   "execution_count": 1,
   "metadata": {},
   "outputs": [],
   "source": [
    "import parse"
   ]
  },
  {
   "cell_type": "code",
   "execution_count": 2,
   "metadata": {},
   "outputs": [],
   "source": [
    "from aocd.models import Puzzle\n",
    "\n",
    "puzzle = Puzzle(year=2018, day=20)\n",
    "\n",
    "def parses(data):\n",
    "    return data\n",
    "\n",
    "data = parses(puzzle.input_data)"
   ]
  },
  {
   "cell_type": "code",
   "execution_count": 55,
   "metadata": {},
   "outputs": [],
   "source": [
    "from collections import namedtuple\n",
    "BasePoint = namedtuple(\"BasePoint\", \"x, y\")"
   ]
  },
  {
   "cell_type": "code",
   "execution_count": 56,
   "metadata": {},
   "outputs": [],
   "source": [
    "class Point(BasePoint):\n",
    "    \n",
    "    def __add__(self, other):\n",
    "        return Point(self.x+other.x, self.y+other.y)"
   ]
  },
  {
   "cell_type": "code",
   "execution_count": 133,
   "metadata": {},
   "outputs": [],
   "source": [
    "def build_graph(regex):\n",
    "    regex = regex.strip('^$')\n",
    "    graph = defaultdict(set)\n",
    "    start_stack = []\n",
    "    end_stack =  []\n",
    "    # non-deterministic postion list\n",
    "    current_pos = set([Point(0,0)])\n",
    "    moves = {'N':Point(-1,0), \n",
    "             'S':Point(1,0),\n",
    "             'E':Point(0,1),\n",
    "             'W':Point(0,-1)}\n",
    "    for c in regex:\n",
    "        if m := moves.get(c, None):\n",
    "            for p in current_pos:\n",
    "                graph[p].add(p+m)\n",
    "                graph[p+m].add(p)\n",
    "            current_pos = set(p+m for p in current_pos)\n",
    "        elif c == '(':\n",
    "            start_stack.append(current_pos.copy())\n",
    "            end_stack.append(set())\n",
    "        elif c == '|':\n",
    "            end_stack[-1] |= current_pos\n",
    "            current_pos = start_stack[-1].copy()\n",
    "        elif c == ')':\n",
    "            start_stack.pop()\n",
    "            end_stack[-1] |= current_pos\n",
    "            current_pos = end_stack.pop()\n",
    "    return graph"
   ]
  },
  {
   "cell_type": "code",
   "execution_count": 134,
   "metadata": {},
   "outputs": [
    {
     "data": {
      "text/plain": [
       "defaultdict(set,\n",
       "            {Point(x=0, y=0): {Point(x=0, y=-1)},\n",
       "             Point(x=0, y=-1): {Point(x=-1, y=-1), Point(x=0, y=0)},\n",
       "             Point(x=-1, y=-1): {Point(x=-1, y=0), Point(x=0, y=-1)},\n",
       "             Point(x=-1, y=0): {Point(x=-1, y=-1)}})"
      ]
     },
     "execution_count": 134,
     "metadata": {},
     "output_type": "execute_result"
    }
   ],
   "source": [
    "build_graph('^WNE$')"
   ]
  },
  {
   "cell_type": "code",
   "execution_count": 135,
   "metadata": {},
   "outputs": [
    {
     "data": {
      "text/plain": [
       "defaultdict(set,\n",
       "            {Point(x=0, y=0): {Point(x=-1, y=0)},\n",
       "             Point(x=-1, y=0): {Point(x=-1, y=-1),\n",
       "              Point(x=-1, y=1),\n",
       "              Point(x=0, y=0)},\n",
       "             Point(x=-1, y=1): {Point(x=-2, y=1), Point(x=-1, y=0)},\n",
       "             Point(x=-1, y=-1): {Point(x=-2, y=-1), Point(x=-1, y=0)},\n",
       "             Point(x=-2, y=1): {Point(x=-1, y=1)},\n",
       "             Point(x=-2, y=-1): {Point(x=-1, y=-1)}})"
      ]
     },
     "execution_count": 135,
     "metadata": {},
     "output_type": "execute_result"
    }
   ],
   "source": [
    "build_graph('^N(E|W)N$')"
   ]
  },
  {
   "cell_type": "code",
   "execution_count": 136,
   "metadata": {},
   "outputs": [],
   "source": [
    "def render(graph, chars='#|-.'):\n",
    "    A, B, C, D = chars\n",
    "    xs = [n.x for n in graph]\n",
    "    ys = [n.y for n in graph]\n",
    "    s = A * (2*(max(ys)-min(ys)+1)+1) + '\\n'\n",
    "    for x in range(min(xs), max(xs)+1):\n",
    "        s += A\n",
    "        for y in range(min(ys), max(ys)+1):\n",
    "            z = Point(x,y)\n",
    "            c = 'X' if z == (0,0) else D\n",
    "            s += c if z in graph else A\n",
    "            s += B if z+Point(0,1) in graph[z] else A\n",
    "        s += '\\n' + A\n",
    "        for y in range(min(ys), max(ys)+1):\n",
    "            z = Point(x,y)\n",
    "            s += C if z+Point(1,0) in graph[z] else A\n",
    "            s += A\n",
    "        s += '\\n'\n",
    "    print(s)"
   ]
  },
  {
   "cell_type": "code",
   "execution_count": 137,
   "metadata": {},
   "outputs": [
    {
     "name": "stdout",
     "output_type": "stream",
     "text": [
      "#####\n",
      "#.|.#\n",
      "#-###\n",
      "#.|X#\n",
      "#####\n",
      "\n"
     ]
    }
   ],
   "source": [
    "render(build_graph('WNE'))"
   ]
  },
  {
   "cell_type": "code",
   "execution_count": 138,
   "metadata": {},
   "outputs": [
    {
     "name": "stdout",
     "output_type": "stream",
     "text": [
      "#######\n",
      "#.###.#\n",
      "#-###-#\n",
      "#.|.|.#\n",
      "###-###\n",
      "###X###\n",
      "#######\n",
      "\n"
     ]
    }
   ],
   "source": [
    "render(build_graph('N(E|W)N'))"
   ]
  },
  {
   "cell_type": "code",
   "execution_count": 139,
   "metadata": {},
   "outputs": [
    {
     "name": "stdout",
     "output_type": "stream",
     "text": [
      "#########\n",
      "#.|.|.|.#\n",
      "#-#######\n",
      "#.|.|.|.#\n",
      "#-#####-#\n",
      "#.#.#X|.#\n",
      "#-#-#####\n",
      "#.|.|.|.#\n",
      "#########\n",
      "\n"
     ]
    }
   ],
   "source": [
    "render(build_graph('^ENWWW(NEEE|SSE(EE|N))$'))"
   ]
  },
  {
   "cell_type": "code",
   "execution_count": 140,
   "metadata": {},
   "outputs": [
    {
     "name": "stdout",
     "output_type": "stream",
     "text": [
      "###########\n",
      "#.|.#.|.#.#\n",
      "#-###-#-#-#\n",
      "#.|.|.#.#.#\n",
      "#-#####-#-#\n",
      "#.#.#X|.#.#\n",
      "#-#-#####-#\n",
      "#.#.|.|.|.#\n",
      "#-###-###-#\n",
      "#.|.|.#.|.#\n",
      "###########\n",
      "\n"
     ]
    }
   ],
   "source": [
    "render(build_graph('^ENNWSWW(NEWS|)SSSEEN(WNSE|)EE(SWEN|)NNN$'))"
   ]
  },
  {
   "cell_type": "code",
   "execution_count": 141,
   "metadata": {},
   "outputs": [
    {
     "name": "stdout",
     "output_type": "stream",
     "text": [
      "#####\n",
      "#.|.#\n",
      "#-###\n",
      "#.|X#\n",
      "#####\n",
      "\n",
      "None\n"
     ]
    }
   ],
   "source": [
    "print(render(build_graph('WNE')))"
   ]
  },
  {
   "cell_type": "code",
   "execution_count": null,
   "metadata": {},
   "outputs": [],
   "source": []
  },
  {
   "cell_type": "code",
   "execution_count": 149,
   "metadata": {},
   "outputs": [],
   "source": [
    "from heapq import heappop, heappush\n",
    "def dijkstra(graph):\n",
    "    distances = {}\n",
    "    heap = [(0, Point(0,0))]\n",
    "    while heap:\n",
    "        d, pos = heappop(heap)\n",
    "        if pos in distances:\n",
    "            continue\n",
    "        distances[pos] = d\n",
    "        for neighbor in graph[pos]:\n",
    "            if neighbor not in distances:\n",
    "                heappush(heap, (d+1, neighbor))\n",
    "    return distances"
   ]
  },
  {
   "cell_type": "code",
   "execution_count": null,
   "metadata": {},
   "outputs": [],
   "source": [
    "def solve_a(data):\n",
    "    distances = dijkstra(build_graph(data))\n",
    "    return max(distances.values())\n",
    "\n",
    "def solve_b(data):\n",
    "    distances = dijkstra(build_graph(data))\n",
    "    return sum(1 for v in distances.values() if v >= 1000)\n"
   ]
  },
  {
   "cell_type": "code",
   "execution_count": 151,
   "metadata": {},
   "outputs": [
    {
     "data": {
      "text/plain": [
       "7956"
      ]
     },
     "execution_count": 151,
     "metadata": {},
     "output_type": "execute_result"
    }
   ],
   "source": [
    "solve_b(data)"
   ]
  },
  {
   "cell_type": "code",
   "execution_count": 143,
   "metadata": {},
   "outputs": [
    {
     "data": {
      "text/plain": [
       "23"
      ]
     },
     "execution_count": 143,
     "metadata": {},
     "output_type": "execute_result"
    }
   ],
   "source": [
    "dijkstra(build_graph('^ESSWWN(E|NNENN(EESS(WNSE|)SSS|WWWSSSSE(SW|NNNE)))$'))"
   ]
  },
  {
   "cell_type": "code",
   "execution_count": 144,
   "metadata": {},
   "outputs": [
    {
     "data": {
      "text/plain": [
       "31"
      ]
     },
     "execution_count": 144,
     "metadata": {},
     "output_type": "execute_result"
    }
   ],
   "source": [
    "dijkstra(build_graph('^WSSEESWWWNW(S|NENNEEEENN(ESSSSW(NWSW|SSEN)|WSWWN(E|WWS(E|SS))))$'))"
   ]
  },
  {
   "cell_type": "code",
   "execution_count": 148,
   "metadata": {},
   "outputs": [
    {
     "data": {
      "text/plain": [
       "3465"
      ]
     },
     "execution_count": 148,
     "metadata": {},
     "output_type": "execute_result"
    }
   ],
   "source": [
    "dijkstra(build_graph(data))"
   ]
  }
 ],
 "metadata": {
  "kernelspec": {
   "display_name": "Python 3",
   "language": "python",
   "name": "python3"
  },
  "language_info": {
   "codemirror_mode": {
    "name": "ipython",
    "version": 3
   },
   "file_extension": ".py",
   "mimetype": "text/x-python",
   "name": "python",
   "nbconvert_exporter": "python",
   "pygments_lexer": "ipython3",
   "version": "3.8.8"
  }
 },
 "nbformat": 4,
 "nbformat_minor": 4
}
