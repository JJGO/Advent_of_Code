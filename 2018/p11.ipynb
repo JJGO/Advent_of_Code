{
 "cells": [
  {
   "cell_type": "code",
   "execution_count": 1,
   "metadata": {},
   "outputs": [],
   "source": [
    "from aocd.models import Puzzle\n",
    "\n",
    "puzzle = Puzzle(year=2018, day=11)\n",
    "\n",
    "def parses(input):\n",
    "    return int(input)\n",
    "\n",
    "data = parses(puzzle.input_data)"
   ]
  },
  {
   "cell_type": "code",
   "execution_count": 73,
   "metadata": {},
   "outputs": [],
   "source": [
    "# def power(serial):\n",
    "#     serial = int(serial)\n",
    "#     x = y = np.arange(300, dtype=np.int64)\n",
    "#     x, y = np.meshgrid(x,y)\n",
    "#     rack = (x + 10)\n",
    "#     power = rack * y + serial\n",
    "#     power *= rack\n",
    "#     power = -5 + (power // 100) % 10\n",
    "#     kernel = np.ones((3,3))\n",
    "#     pow33 = convolve2d(power, kernel, mode='valid')\n",
    "#     i, j = np.unravel_index(pow33.argmax(), pow33.shape)\n",
    "#     return \",\".join(map(str, (j,i)))\n",
    "\n",
    "# power(18)\n",
    "\n",
    "# import jax.numpy as np\n",
    "# from jax.scipy.signal import convolve2d\n",
    "\n",
    "# x = y = np.arange(300, dtype=np.int64)\n",
    "\n",
    "\n",
    "# def anypower(serial):\n",
    "#     serial = int(serial)\n",
    "#     x = y = np.arange(300, dtype=np.int32)\n",
    "#     x, y = np.meshgrid(x,y)\n",
    "#     rack = (x + 10)\n",
    "#     power = rack * y + serial\n",
    "#     power *= rack\n",
    "#     power = -5 + (power // 100) % 10\n",
    "#     maxpows = []\n",
    "#     for k in tqdm(range(1,301)):\n",
    "#         kernel = np.ones((k,k))\n",
    "#         pow33 = convolve2d(power, kernel, mode='valid')\n",
    "#         i, j = np.unravel_index(pow33.argmax(), pow33.shape)\n",
    "#         maxpows.append((pow33.max(), i, j, k))\n",
    "#     i,j,k = max(maxpows)[1:]\n",
    "#     return \",\".join(map(str, (j,i,k)))"
   ]
  },
  {
   "cell_type": "code",
   "execution_count": 77,
   "metadata": {},
   "outputs": [],
   "source": [
    "def power(serial, part='a'):\n",
    "    serial = int(serial)\n",
    "    x = y = np.arange(300, dtype=np.int32)\n",
    "    y, x = np.meshgrid(x, y)\n",
    "    rack = (x + 10)\n",
    "    power = rack * y + serial\n",
    "    power = -5 + (power*rack // 100) % 10\n",
    "        \n",
    "    dp = np.zeros((301,301), dtype=np.int32)\n",
    "    for i in range(1,301):\n",
    "        for j in range(1,301):\n",
    "            dp[i,j] = power[i-1,j-1] + dp[i-1,j] + dp[i,j-1] - dp[i-1,j-1]\n",
    "    \n",
    "    def convolve(k):\n",
    "        max_ = float('-inf')\n",
    "        where = None\n",
    "        for i in range(301-k):\n",
    "            for j in range(301-k):\n",
    "                val = dp[i+k,j+k] - dp[i+k,j] - dp[i,j+k] + dp[i,j]\n",
    "                if val > max_:\n",
    "                    max_ = val\n",
    "                    where = (i,j)\n",
    "        return (max_, *where)\n",
    "    \n",
    "    if part == 'a':\n",
    "        m, i, j = convolve(3)\n",
    "        return f'{i},{j}'\n",
    "    else:\n",
    "        _, i, j, k = max( convolve(k) + (k,) for k in range(1,301))\n",
    "        return f'{i},{j},{k}'"
   ]
  },
  {
   "cell_type": "code",
   "execution_count": 81,
   "metadata": {},
   "outputs": [],
   "source": [
    "assert power(18, 'a') == '33,45'\n",
    "assert power(42, 'a') == '21,61'"
   ]
  },
  {
   "cell_type": "code",
   "execution_count": 83,
   "metadata": {},
   "outputs": [],
   "source": [
    "puzzle.answer_a = power(data, 'a')"
   ]
  },
  {
   "cell_type": "code",
   "execution_count": 79,
   "metadata": {},
   "outputs": [],
   "source": [
    "assert power(18, 'b') == '90,269,16'\n",
    "assert power(42, 'b') == '232,251,12'"
   ]
  },
  {
   "cell_type": "code",
   "execution_count": 82,
   "metadata": {},
   "outputs": [],
   "source": [
    "puzzle.answer_b = power(data, 'b')"
   ]
  },
  {
   "cell_type": "code",
   "execution_count": null,
   "metadata": {},
   "outputs": [],
   "source": []
  }
 ],
 "metadata": {
  "kernelspec": {
   "display_name": "Python 3",
   "language": "python",
   "name": "python3"
  },
  "language_info": {
   "codemirror_mode": {
    "name": "ipython",
    "version": 3
   },
   "file_extension": ".py",
   "mimetype": "text/x-python",
   "name": "python",
   "nbconvert_exporter": "python",
   "pygments_lexer": "ipython3",
   "version": "3.8.3"
  }
 },
 "nbformat": 4,
 "nbformat_minor": 4
}
