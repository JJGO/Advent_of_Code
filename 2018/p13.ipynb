{
 "cells": [
  {
   "cell_type": "code",
   "execution_count": 15,
   "metadata": {},
   "outputs": [],
   "source": [
    "from aocd.models import Puzzle\n",
    "\n",
    "puzzle = Puzzle(year=2018, day=13)\n",
    "\n",
    "def parses(input):\n",
    "    return np.array([list(line) for line in input.split('\\n')])\n",
    "\n",
    "data = parses(puzzle.input_data)"
   ]
  },
  {
   "cell_type": "code",
   "execution_count": 18,
   "metadata": {},
   "outputs": [
    {
     "data": {
      "text/plain": [
       "array([['/', '-', '-', ..., ' ', ' ', ' '],\n",
       "       ['|', ' ', ' ', ..., ' ', ' ', ' '],\n",
       "       ['|', ' ', ' ', ..., ' ', ' ', ' '],\n",
       "       ...,\n",
       "       [' ', ' ', ' ', ..., ' ', ' ', ' '],\n",
       "       [' ', ' ', ' ', ..., ' ', ' ', ' '],\n",
       "       [' ', ' ', ' ', ..., ' ', ' ', ' ']], dtype='<U1')"
      ]
     },
     "execution_count": 18,
     "metadata": {},
     "output_type": "execute_result"
    }
   ],
   "source": [
    "data"
   ]
  },
  {
   "cell_type": "code",
   "execution_count": 168,
   "metadata": {},
   "outputs": [],
   "source": [
    "sample = parses(r\"\"\"/->-\\        \n",
    "|   |  /----\\\n",
    "| /-+--+-\\  |\n",
    "| | |  | v  |\n",
    "\\-+-/  \\-+--/\n",
    "  \\------/   \"\"\")"
   ]
  },
  {
   "cell_type": "code",
   "execution_count": 169,
   "metadata": {},
   "outputs": [],
   "source": [
    "def first_collision(data):\n",
    "    loc = data.copy()\n",
    "\n",
    "    carts = newcarts = []\n",
    "    occupied = set()\n",
    "    for marker, vel in zip('<>^v', [(0,-1),(0,1),(-1,0),(1,0)]):\n",
    "        x, y = np.where(loc == marker)\n",
    "\n",
    "        if len(x) > 0:\n",
    "            for i, j in zip(x, y):\n",
    "                carts.append((i,j,*vel,0))\n",
    "                occupied.add((i,j))\n",
    "            loc[i,j] = '-' if marker in '<>' else '|'\n",
    "\n",
    "\n",
    "\n",
    "    while True:\n",
    "        carts = sorted(newcarts)\n",
    "        newcarts = []\n",
    "        for x, y, vx, vy, n in carts:\n",
    "            occupied.remove((x,y))\n",
    "            x, y = x+vx, y+vy\n",
    "            if (x, y) in occupied:\n",
    "                return f'{y},{x}'\n",
    "            if loc[x,y] == '\\\\':\n",
    "                vx, vy = vy, vx\n",
    "            elif loc[x,y] == '/':\n",
    "                vx, vy = -vy, -vx\n",
    "            elif loc[x,y] == '+':\n",
    "                if n == 0:\n",
    "                    a = 1 if vy == 0 else -1\n",
    "                    vx, vy = a*vy, a*vx            \n",
    "                elif n == 2:\n",
    "                    a = 1 if vx == 0 else -1\n",
    "                    vx, vy = a*vy, a*vx\n",
    "                n = (n+1) % 3\n",
    "            occupied.add((x,y))\n",
    "            newcarts.append([x,y,vx,vy,n])"
   ]
  },
  {
   "cell_type": "code",
   "execution_count": 170,
   "metadata": {},
   "outputs": [
    {
     "data": {
      "text/plain": [
       "'7,3'"
      ]
     },
     "execution_count": 170,
     "metadata": {},
     "output_type": "execute_result"
    }
   ],
   "source": [
    "first_collision(sample)"
   ]
  },
  {
   "cell_type": "code",
   "execution_count": 115,
   "metadata": {},
   "outputs": [
    {
     "data": {
      "text/plain": [
       "'79,128'"
      ]
     },
     "execution_count": 115,
     "metadata": {},
     "output_type": "execute_result"
    }
   ],
   "source": [
    "first_collision(data)"
   ]
  },
  {
   "cell_type": "code",
   "execution_count": 163,
   "metadata": {},
   "outputs": [],
   "source": [
    "def all_collisions(data):\n",
    "    loc = data.copy()\n",
    "\n",
    "    carts = newcarts = []\n",
    "    occupied = set()\n",
    "    for marker, vel in zip('<>^v', [(0,-1),(0,1),(-1,0),(1,0)]):\n",
    "        x, y = np.where(loc == marker)\n",
    "\n",
    "        if len(x) > 0:\n",
    "            for i, j in zip(x, y):\n",
    "                carts.append((i,j,*vel,0))\n",
    "                occupied.add((i,j))\n",
    "            loc[i,j] = '-' if marker in '<>' else '|'\n",
    "\n",
    "\n",
    "\n",
    "    while True:\n",
    "        carts = sorted(newcarts)\n",
    "        newcarts = []\n",
    "        for x, y, vx, vy, n in carts:\n",
    "            if (x, y) in occupied:\n",
    "                occupied.remove((x,y))\n",
    "                x, y = x+vx, y+vy\n",
    "                if (x, y) in occupied:\n",
    "                    occupied.remove((x,y))\n",
    "                    continue\n",
    "                if loc[x,y] == '\\\\':\n",
    "                    vx, vy = vy, vx\n",
    "                elif loc[x,y] == '/':\n",
    "                    vx, vy = -vy, -vx\n",
    "                elif loc[x,y] == '+':\n",
    "                    if n == 0:\n",
    "                        a = 1 if vy == 0 else -1\n",
    "                        vx, vy = a*vy, a*vx            \n",
    "                    elif n == 2:\n",
    "                        a = 1 if vx == 0 else -1\n",
    "                        vx, vy = a*vy, a*vx\n",
    "                    n = (n+1) % 3\n",
    "                occupied.add((x,y))\n",
    "                newcarts.append([x,y,vx,vy,n])\n",
    "        if len(occupied) == 1:\n",
    "            x, y = list(occupied)[0]\n",
    "            return f'{y},{x}'\n",
    "        newcarts = [c for c in newcarts if (c[0], c[1]) in occupied]"
   ]
  },
  {
   "cell_type": "code",
   "execution_count": 165,
   "metadata": {},
   "outputs": [
    {
     "data": {
      "text/plain": [
       "'6,4'"
      ]
     },
     "execution_count": 165,
     "metadata": {},
     "output_type": "execute_result"
    }
   ],
   "source": [
    "all_collisions(sample)"
   ]
  },
  {
   "cell_type": "code",
   "execution_count": 166,
   "metadata": {},
   "outputs": [],
   "source": [
    "sample = parses(r\"\"\"/>-<\\  \n",
    "|   |  \n",
    "| /<+-\\\n",
    "| | | v\n",
    "\\>+</ |\n",
    "  |   ^\n",
    "  \\<->/\"\"\")"
   ]
  },
  {
   "cell_type": "code",
   "execution_count": 167,
   "metadata": {},
   "outputs": [
    {
     "data": {
      "text/plain": [
       "'3,42'"
      ]
     },
     "execution_count": 167,
     "metadata": {},
     "output_type": "execute_result"
    }
   ],
   "source": [
    "all_collisions(data)"
   ]
  },
  {
   "cell_type": "code",
   "execution_count": null,
   "metadata": {},
   "outputs": [],
   "source": []
  }
 ],
 "metadata": {
  "kernelspec": {
   "display_name": "Python 3",
   "language": "python",
   "name": "python3"
  },
  "language_info": {
   "codemirror_mode": {
    "name": "ipython",
    "version": 3
   },
   "file_extension": ".py",
   "mimetype": "text/x-python",
   "name": "python",
   "nbconvert_exporter": "python",
   "pygments_lexer": "ipython3",
   "version": "3.8.3"
  }
 },
 "nbformat": 4,
 "nbformat_minor": 4
}
