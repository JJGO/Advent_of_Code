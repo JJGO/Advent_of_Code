{
 "cells": [
  {
   "cell_type": "code",
   "execution_count": 51,
   "metadata": {},
   "outputs": [],
   "source": [
    "from parse import parse\n",
    "from aocd.models import Puzzle\n",
    "\n",
    "puzzle = Puzzle(year=2018, day=4)\n",
    "\n",
    "def parses(input):\n",
    "    nights = []\n",
    "    start = None\n",
    "    for line in sorted(input.strip().split('\\n')): \n",
    "        v = parse(\"[{} {}:{min:d}] {action}\", line).named\n",
    "        if 'Guard' in v['action']:\n",
    "            v = parse('Guard #{id:d} begins shift', v['action'])\n",
    "            nights.append([v['id'], []])\n",
    "        elif 'falls' in v['action']:\n",
    "            start = v['min']\n",
    "        else:\n",
    "            nights[-1][-1].append((start, v['min']))\n",
    "    return nights\n",
    "\n",
    "data = parses(puzzle.input_data)"
   ]
  },
  {
   "cell_type": "code",
   "execution_count": 61,
   "metadata": {},
   "outputs": [
    {
     "data": {
      "text/plain": [
       "[<span title=\"Yes, 'sneaked'. 'Snuck' didn't appear in English until the 1800s.\">sneaked</span>]"
      ]
     },
     "execution_count": 61,
     "metadata": {},
     "output_type": "execute_result"
    }
   ],
   "source": [
    "puzzle.easter_eggs"
   ]
  },
  {
   "cell_type": "code",
   "execution_count": 52,
   "metadata": {},
   "outputs": [],
   "source": [
    "sample = parses(\"\"\"[1518-11-01 00:00] Guard #10 begins shift\n",
    "[1518-11-01 00:05] falls asleep\n",
    "[1518-11-01 00:25] wakes up\n",
    "[1518-11-01 00:30] falls asleep\n",
    "[1518-11-01 00:55] wakes up\n",
    "[1518-11-01 23:58] Guard #99 begins shift\n",
    "[1518-11-02 00:40] falls asleep\n",
    "[1518-11-02 00:50] wakes up\n",
    "[1518-11-03 00:05] Guard #10 begins shift\n",
    "[1518-11-03 00:24] falls asleep\n",
    "[1518-11-03 00:29] wakes up\n",
    "[1518-11-04 00:02] Guard #99 begins shift\n",
    "[1518-11-04 00:36] falls asleep\n",
    "[1518-11-04 00:46] wakes up\n",
    "[1518-11-05 00:03] Guard #99 begins shift\n",
    "[1518-11-05 00:45] falls asleep\n",
    "[1518-11-05 00:55] wakes up\"\"\")"
   ]
  },
  {
   "cell_type": "code",
   "execution_count": 53,
   "metadata": {},
   "outputs": [],
   "source": [
    "from collections import defaultdict"
   ]
  },
  {
   "cell_type": "code",
   "execution_count": 54,
   "metadata": {},
   "outputs": [],
   "source": [
    "def analyze(nights):\n",
    "    # Which guard sleeps the most?\n",
    "    guards = defaultdict(int)\n",
    "    for g, vals in nights:\n",
    "        guards[g] += sum(end-start for start, end in vals)\n",
    "    gid = max(guards, key=guards.get)\n",
    "    # for that guard, break down by minute and do argmax\n",
    "    minutes = np.zeros(60)\n",
    "    for g, vals in nights:\n",
    "        if g == gid:\n",
    "            for start, end in vals:\n",
    "                minutes[start:end] += 1\n",
    "    m = np.argmax(minutes)\n",
    "    return gid * m"
   ]
  },
  {
   "cell_type": "code",
   "execution_count": 56,
   "metadata": {},
   "outputs": [],
   "source": [
    "assert analyze(sample) == 240"
   ]
  },
  {
   "cell_type": "code",
   "execution_count": 55,
   "metadata": {},
   "outputs": [
    {
     "data": {
      "text/plain": [
       "87681"
      ]
     },
     "execution_count": 55,
     "metadata": {},
     "output_type": "execute_result"
    }
   ],
   "source": [
    "analyze(data)"
   ]
  },
  {
   "cell_type": "code",
   "execution_count": 46,
   "metadata": {},
   "outputs": [
    {
     "name": "stdout",
     "output_type": "stream",
     "text": [
      "Part a already solved with same answer: 87681\n"
     ]
    }
   ],
   "source": [
    "puzzle.answer_a = analyze(data)"
   ]
  },
  {
   "cell_type": "code",
   "execution_count": 58,
   "metadata": {},
   "outputs": [],
   "source": [
    "def analyze2(nights):\n",
    "    # Compute times asleep for each minute as array for each guard\n",
    "    minutes = defaultdict(lambda: np.zeros(60))\n",
    "    for g, vals in nights:\n",
    "        for start, end in vals:\n",
    "            minutes[g][start:end] += 1\n",
    "    # Compute (max times asleep, minute when happened) for each guard\n",
    "    minute = {(g, np.argmax(v)): np.max(v) for g, v in minutes.items()}\n",
    "    # argmax to get gid and minute value\n",
    "    gid, m = max(minute, key=minute.get)\n",
    "    return m * gid\n"
   ]
  },
  {
   "cell_type": "code",
   "execution_count": 59,
   "metadata": {},
   "outputs": [],
   "source": [
    "assert analyze2(sample) == 4455"
   ]
  },
  {
   "cell_type": "code",
   "execution_count": 60,
   "metadata": {},
   "outputs": [
    {
     "name": "stdout",
     "output_type": "stream",
     "text": [
      "Part b already solved with same answer: 136461\n"
     ]
    }
   ],
   "source": [
    "puzzle.answer_b = analyze2(data)"
   ]
  },
  {
   "cell_type": "code",
   "execution_count": null,
   "metadata": {},
   "outputs": [],
   "source": []
  }
 ],
 "metadata": {
  "kernelspec": {
   "display_name": "Python 3",
   "language": "python",
   "name": "python3"
  },
  "language_info": {
   "codemirror_mode": {
    "name": "ipython",
    "version": 3
   },
   "file_extension": ".py",
   "mimetype": "text/x-python",
   "name": "python",
   "nbconvert_exporter": "python",
   "pygments_lexer": "ipython3",
   "version": "3.8.3"
  }
 },
 "nbformat": 4,
 "nbformat_minor": 4
}
