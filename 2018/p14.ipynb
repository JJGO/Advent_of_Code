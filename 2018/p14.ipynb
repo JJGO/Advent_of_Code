{
 "cells": [
  {
   "cell_type": "code",
   "execution_count": 78,
   "metadata": {},
   "outputs": [],
   "source": [
    "from aocd.models import Puzzle\n",
    "\n",
    "puzzle = Puzzle(year=2018, day=14)\n",
    "\n",
    "data = puzzle.input_data"
   ]
  },
  {
   "cell_type": "code",
   "execution_count": 79,
   "metadata": {},
   "outputs": [],
   "source": [
    "samplesA = [    \n",
    "    (9, '5158916779'),\n",
    "    (5, '0124515891'),\n",
    "    (18, '9251071085'),\n",
    "    (2018, '5941429882'),\n",
    "]"
   ]
  },
  {
   "cell_type": "code",
   "execution_count": 86,
   "metadata": {},
   "outputs": [],
   "source": [
    "def scoreboard(prefixlen):\n",
    "    prefixlen = int(prefixlen)\n",
    "    sb = [3, 7]\n",
    "    e1, e2 = 0, 1\n",
    "    while len(sb) < prefixlen + 10:\n",
    "        s = sb[e1] + sb[e2]\n",
    "        sb.extend(divmod(s,10) if s >= 10 else [s])\n",
    "        e1 = (1+e1+sb[e1]) % len(sb)\n",
    "        e2 = (1+e2+sb[e2]) % len(sb)\n",
    "    return \"\".join(map(str,sb[prefixlen:prefixlen+10]))"
   ]
  },
  {
   "cell_type": "code",
   "execution_count": 87,
   "metadata": {},
   "outputs": [],
   "source": [
    "for n, sol in samplesA:\n",
    "    assert scoreboard(n) == sol"
   ]
  },
  {
   "cell_type": "code",
   "execution_count": 88,
   "metadata": {},
   "outputs": [
    {
     "data": {
      "text/plain": [
       "'3138510102'"
      ]
     },
     "execution_count": 88,
     "metadata": {},
     "output_type": "execute_result"
    }
   ],
   "source": [
    "scoreboard(data)"
   ]
  },
  {
   "cell_type": "code",
   "execution_count": null,
   "metadata": {},
   "outputs": [],
   "source": [
    "samplesB = [\n",
    "    ('51589', 9),\n",
    "    ('01245', 5),\n",
    "    ('92510', 18),\n",
    "    ('59414', 2018),\n",
    "]"
   ]
  },
  {
   "cell_type": "code",
   "execution_count": 83,
   "metadata": {},
   "outputs": [],
   "source": [
    "def until(pattern):\n",
    "    pattern = [int(i) for i in pattern]\n",
    "    sb = [3, 7]\n",
    "    e1, e2 = 0, 1\n",
    "    while True:\n",
    "        s = sb[e1] + sb[e2]\n",
    "        for recipe in (divmod(s,10) if s >= 10 else [s]):\n",
    "            sb.append(recipe)\n",
    "            if sb[-len(pattern):] == pattern:\n",
    "                return len(sb)-len(pattern)\n",
    "        e1 = (1+e1+sb[e1]) % len(sb)\n",
    "        e2 = (1+e2+sb[e2]) % len(sb)\n"
   ]
  },
  {
   "cell_type": "code",
   "execution_count": 84,
   "metadata": {},
   "outputs": [],
   "source": [
    "for n, sol in samplesB:\n",
    "    assert until(n) == sol"
   ]
  },
  {
   "cell_type": "code",
   "execution_count": 85,
   "metadata": {},
   "outputs": [
    {
     "data": {
      "text/plain": [
       "'637061'"
      ]
     },
     "execution_count": 85,
     "metadata": {},
     "output_type": "execute_result"
    }
   ],
   "source": [
    "data"
   ]
  },
  {
   "cell_type": "code",
   "execution_count": 74,
   "metadata": {},
   "outputs": [
    {
     "name": "stdout",
     "output_type": "stream",
     "text": [
      "14.423076868057251\n"
     ]
    }
   ],
   "source": [
    "import time\n",
    "start = time.time()\n",
    "until(data)\n",
    "print(time.time() - start)"
   ]
  },
  {
   "cell_type": "code",
   "execution_count": 34,
   "metadata": {},
   "outputs": [
    {
     "data": {
      "text/plain": [
       "5"
      ]
     },
     "execution_count": 34,
     "metadata": {},
     "output_type": "execute_result"
    }
   ],
   "source": [
    "until('01245')"
   ]
  }
 ],
 "metadata": {
  "kernelspec": {
   "display_name": "Python 3",
   "language": "python",
   "name": "python3"
  },
  "language_info": {
   "codemirror_mode": {
    "name": "ipython",
    "version": 3
   },
   "file_extension": ".py",
   "mimetype": "text/x-python",
   "name": "python",
   "nbconvert_exporter": "python",
   "pygments_lexer": "ipython3",
   "version": "3.8.3"
  }
 },
 "nbformat": 4,
 "nbformat_minor": 4
}
