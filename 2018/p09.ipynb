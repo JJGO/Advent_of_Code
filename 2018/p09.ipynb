{
 "cells": [
  {
   "cell_type": "code",
   "execution_count": 94,
   "metadata": {},
   "outputs": [],
   "source": [
    "from aocd.models import Puzzle\n",
    "\n",
    "puzzle = Puzzle(year=2018, day=9)\n",
    "\n",
    "def parses(input):\n",
    "    return parse.parse('{:d} players; last marble is worth {:d} points', input.strip()).fixed\n",
    "\n",
    "data = parses(puzzle.input_data)"
   ]
  },
  {
   "cell_type": "code",
   "execution_count": 95,
   "metadata": {},
   "outputs": [
    {
     "data": {
      "text/plain": [
       "(452, 71250)"
      ]
     },
     "execution_count": 95,
     "metadata": {},
     "output_type": "execute_result"
    }
   ],
   "source": [
    "data"
   ]
  },
  {
   "cell_type": "code",
   "execution_count": 59,
   "metadata": {},
   "outputs": [],
   "source": [
    "samples = [\n",
    "    (parses('10 players; last marble is worth 1618 points'), 8317),\n",
    "    (parses('13 players; last marble is worth 7999 points'), 146373),\n",
    "    (parses('17 players; last marble is worth 1104 points'), 2764),\n",
    "    (parses('21 players; last marble is worth 6111 points'), 54718),\n",
    "    (parses('30 players; last marble is worth 5807 points'), 37305),\n",
    "]"
   ]
  },
  {
   "cell_type": "code",
   "execution_count": 60,
   "metadata": {},
   "outputs": [],
   "source": [
    "def slow_play(nplayers, nmarbles):\n",
    "    circle = [0,2,1]\n",
    "    player = len(circle) % nplayers\n",
    "    pos = 1\n",
    "    scores = [0 for _ in range(nplayers)]\n",
    "    for m in range(3, nmarbles+1):\n",
    "        if m % 23 == 0:\n",
    "            pos = (pos - 7) % len(circle)\n",
    "            scores[player] += m + circle.pop(pos)\n",
    "\n",
    "        else:\n",
    "            pos = (pos + 2) % len(circle)\n",
    "            if pos == 0:\n",
    "                circle.append(m)\n",
    "                pos = len(circle) -1 \n",
    "            else:\n",
    "                circle.insert(pos, m)\n",
    "        \n",
    "        player = (player + 1) % nplayers\n",
    "    return max(scores)"
   ]
  },
  {
   "cell_type": "code",
   "execution_count": 61,
   "metadata": {},
   "outputs": [],
   "source": [
    "for sample, sol in samples:\n",
    "    assert slow_play(*sample) == sol"
   ]
  },
  {
   "cell_type": "code",
   "execution_count": 62,
   "metadata": {},
   "outputs": [],
   "source": [
    "puzzle.answer_a = slow_play(*data)"
   ]
  },
  {
   "cell_type": "code",
   "execution_count": 63,
   "metadata": {},
   "outputs": [
    {
     "data": {
      "text/plain": [
       "[452, 71250]"
      ]
     },
     "execution_count": 63,
     "metadata": {},
     "output_type": "execute_result"
    }
   ],
   "source": [
    "data"
   ]
  },
  {
   "cell_type": "code",
   "execution_count": 38,
   "metadata": {},
   "outputs": [],
   "source": [
    "class ListNode:\n",
    "    \n",
    "    def __init__(self, val, left=None, right=None):\n",
    "        self.val = val\n",
    "        self.left = left\n",
    "        self.right = right\n",
    "        "
   ]
  },
  {
   "cell_type": "code",
   "execution_count": 47,
   "metadata": {},
   "outputs": [],
   "source": [
    "def play(nplayers, nmarbles):\n",
    "    \n",
    "    cur = ListNode(0)\n",
    "    cur.left = cur.right = cur\n",
    "    player = 0\n",
    "\n",
    "    scores = [0 for _ in range(nplayers)]\n",
    "\n",
    "    for m in range(1, nmarbles+1):\n",
    "        if m % 23 == 0:\n",
    "            for _ in range(7):\n",
    "                cur = cur.left\n",
    "            scores[player] += m + cur.val\n",
    "            l, r =  cur.left, cur.right\n",
    "            cur.left.right, cur.right.left = r, l\n",
    "            cur = cur.right\n",
    "        else:\n",
    "            prev = cur.right\n",
    "            cur = ListNode(m, prev, prev.right)\n",
    "            prev.right.left = cur\n",
    "            prev.right = cur\n",
    "        \n",
    "        player = (player + 1) % nplayers\n",
    "        \n",
    "    return max(scores)"
   ]
  },
  {
   "cell_type": "code",
   "execution_count": 48,
   "metadata": {},
   "outputs": [
    {
     "data": {
      "text/plain": [
       "32"
      ]
     },
     "execution_count": 48,
     "metadata": {},
     "output_type": "execute_result"
    }
   ],
   "source": [
    "play(9,25)"
   ]
  },
  {
   "cell_type": "code",
   "execution_count": null,
   "metadata": {},
   "outputs": [],
   "source": []
  },
  {
   "cell_type": "code",
   "execution_count": 49,
   "metadata": {},
   "outputs": [
    {
     "name": "stdout",
     "output_type": "stream",
     "text": [
      "8317 8317\n",
      "146373 146373\n",
      "2764 2764\n",
      "54718 54718\n",
      "37305 37305\n"
     ]
    }
   ],
   "source": [
    "for sample, sol in samples:\n",
    "    print(play(*sample) , sol)"
   ]
  },
  {
   "cell_type": "code",
   "execution_count": 50,
   "metadata": {},
   "outputs": [
    {
     "data": {
      "text/plain": [
       "3212081616"
      ]
     },
     "execution_count": 50,
     "metadata": {},
     "output_type": "execute_result"
    }
   ],
   "source": [
    "play(452, 71250_00)"
   ]
  },
  {
   "cell_type": "code",
   "execution_count": 88,
   "metadata": {},
   "outputs": [],
   "source": [
    "# Why manually implemenmt LL when deque exists?"
   ]
  },
  {
   "cell_type": "code",
   "execution_count": 89,
   "metadata": {},
   "outputs": [],
   "source": [
    "from collections import deque\n",
    "def play(nplayers, nmarbles):\n",
    "    circle = deque([0])\n",
    "    scores = defaultdict(int)\n",
    "    for m in range(1, nmarbles+1):\n",
    "        if m % 23 == 0:\n",
    "            circle.rotate(7)\n",
    "            scores[m % nplayers] += circle.popleft() + m\n",
    "        else:\n",
    "            circle.rotate(-2)\n",
    "            circle.appendleft(m)\n",
    "    return max(scores.values())"
   ]
  },
  {
   "cell_type": "code",
   "execution_count": 90,
   "metadata": {},
   "outputs": [
    {
     "data": {
      "text/plain": [
       "32"
      ]
     },
     "execution_count": 90,
     "metadata": {},
     "output_type": "execute_result"
    }
   ],
   "source": [
    "play(9, 25)"
   ]
  },
  {
   "cell_type": "code",
   "execution_count": 91,
   "metadata": {},
   "outputs": [
    {
     "name": "stdout",
     "output_type": "stream",
     "text": [
      "8317 8317\n",
      "146373 146373\n",
      "2764 2764\n",
      "54718 54718\n",
      "37305 37305\n"
     ]
    }
   ],
   "source": [
    "for sample, sol in samples:\n",
    "    print(play(*sample), sol)"
   ]
  },
  {
   "cell_type": "code",
   "execution_count": 92,
   "metadata": {},
   "outputs": [
    {
     "data": {
      "text/plain": [
       "3212081616"
      ]
     },
     "execution_count": 92,
     "metadata": {},
     "output_type": "execute_result"
    }
   ],
   "source": [
    "play(452, 71250_00)"
   ]
  }
 ],
 "metadata": {
  "kernelspec": {
   "display_name": "Python 3",
   "language": "python",
   "name": "python3"
  },
  "language_info": {
   "codemirror_mode": {
    "name": "ipython",
    "version": 3
   },
   "file_extension": ".py",
   "mimetype": "text/x-python",
   "name": "python",
   "nbconvert_exporter": "python",
   "pygments_lexer": "ipython3",
   "version": "3.8.3"
  }
 },
 "nbformat": 4,
 "nbformat_minor": 4
}
