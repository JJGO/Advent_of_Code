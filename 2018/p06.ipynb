{
 "cells": [
  {
   "cell_type": "code",
   "execution_count": 22,
   "metadata": {},
   "outputs": [],
   "source": [
    "from aocd.models import Puzzle\n",
    "\n",
    "puzzle = Puzzle(year=2018, day=6)\n",
    "\n",
    "def parses(input):\n",
    "#     return [[int(i) for i in re.findall(r'-?\\d+', line)] for line in input.split('\\n')]\n",
    "    return [tuple([int(i) for i in re.findall(r'-?\\d+', line)]) for line in input.split('\\n')]\n",
    "\n",
    "data = parses(puzzle.input_data)"
   ]
  },
  {
   "cell_type": "code",
   "execution_count": 23,
   "metadata": {},
   "outputs": [
    {
     "data": {
      "text/plain": [
       "'355, 246\\n259, 215\\n166, 247\\n280, 341\\n54, 91\\n314, 209\\n256, 272\\n149, 313\\n217, 274\\n299, 144\\n355, 73\\n70, 101\\n266, 327\\n51, 228\\n274, 123\\n342, 232\\n97, 100\\n58, 157\\n130, 185\\n135, 322\\n306, 165\\n335, 84\\n268, 234\\n173, 255\\n316, 75\\n79, 196\\n152, 71\\n205, 261\\n275, 342\\n164, 95\\n343, 147\\n83, 268\\n74, 175\\n225, 130\\n354, 278\\n123, 206\\n166, 166\\n155, 176\\n282, 238\\n107, 295\\n82, 92\\n325, 299\\n87, 287\\n90, 246\\n159, 174\\n295, 298\\n260, 120\\n203, 160\\n72, 197\\n182, 296'"
      ]
     },
     "execution_count": 23,
     "metadata": {},
     "output_type": "execute_result"
    }
   ],
   "source": [
    "puzzle.input_data"
   ]
  },
  {
   "cell_type": "code",
   "execution_count": 2,
   "metadata": {},
   "outputs": [
    {
     "data": {
      "text/plain": [
       "[<span title=\"Why is the situation always critical? Why can't the situation just be boring for once?\">Situation critical</span>]"
      ]
     },
     "execution_count": 2,
     "metadata": {},
     "output_type": "execute_result"
    }
   ],
   "source": [
    "puzzle.easter_eggs"
   ]
  },
  {
   "cell_type": "code",
   "execution_count": 19,
   "metadata": {},
   "outputs": [
    {
     "data": {
      "text/plain": [
       "[(355, 246),\n",
       " (259, 215),\n",
       " (166, 247),\n",
       " (280, 341),\n",
       " (54, 91),\n",
       " (314, 209),\n",
       " (256, 272),\n",
       " (149, 313),\n",
       " (217, 274),\n",
       " (299, 144),\n",
       " (355, 73),\n",
       " (70, 101),\n",
       " (266, 327),\n",
       " (51, 228),\n",
       " (274, 123),\n",
       " (342, 232),\n",
       " (97, 100),\n",
       " (58, 157),\n",
       " (130, 185),\n",
       " (135, 322),\n",
       " (306, 165),\n",
       " (335, 84),\n",
       " (268, 234),\n",
       " (173, 255),\n",
       " (316, 75),\n",
       " (79, 196),\n",
       " (152, 71),\n",
       " (205, 261),\n",
       " (275, 342),\n",
       " (164, 95),\n",
       " (343, 147),\n",
       " (83, 268),\n",
       " (74, 175),\n",
       " (225, 130),\n",
       " (354, 278),\n",
       " (123, 206),\n",
       " (166, 166),\n",
       " (155, 176),\n",
       " (282, 238),\n",
       " (107, 295),\n",
       " (82, 92),\n",
       " (325, 299),\n",
       " (87, 287),\n",
       " (90, 246),\n",
       " (159, 174),\n",
       " (295, 298),\n",
       " (260, 120),\n",
       " (203, 160),\n",
       " (72, 197),\n",
       " (182, 296)]"
      ]
     },
     "execution_count": 19,
     "metadata": {},
     "output_type": "execute_result"
    }
   ],
   "source": [
    "data"
   ]
  },
  {
   "cell_type": "code",
   "execution_count": 4,
   "metadata": {},
   "outputs": [],
   "source": [
    "sample = parses(\"\"\"1, 1\n",
    "1, 6\n",
    "8, 3\n",
    "3, 4\n",
    "5, 5\n",
    "8, 9\"\"\")"
   ]
  },
  {
   "cell_type": "code",
   "execution_count": 7,
   "metadata": {},
   "outputs": [],
   "source": [
    "from scipy.spatial import distance\n",
    "from scipy.spatial import ConvexHull, convex_hull_plot_2d"
   ]
  },
  {
   "cell_type": "code",
   "execution_count": 66,
   "metadata": {},
   "outputs": [],
   "source": [
    "def findinternal(points):\n",
    "    xpoints = np.array(points, dtype=np.int32)\n",
    "    hull = ConvexHull(points=xpoints)\n",
    "    maxH, maxW = xpoints.max(axis=0)\n",
    "    minH, minW = xpoints.min(axis=0)\n",
    "    xs = np.arange(minH,maxH+1)\n",
    "    ys = np.arange(minW,maxW+1)    \n",
    "    zs = np.stack(np.meshgrid(xs, ys)).reshape(2,-1).T\n",
    "    ds = distance.cdist(zs, points, metric='cityblock').astype(np.int32)\n",
    "    ismin = ds == ds.min(1)[:,None]\n",
    "    ismin = ismin[ismin.sum(1) == 1] # points closest to single\n",
    "    areas = ismin[ismin[:,hull.vertices].sum(1) == 0].sum(0) # internal points\n",
    "    return areas.max()"
   ]
  },
  {
   "cell_type": "code",
   "execution_count": 67,
   "metadata": {},
   "outputs": [],
   "source": [
    "assert findinternal(sample) == 17"
   ]
  },
  {
   "cell_type": "code",
   "execution_count": null,
   "metadata": {},
   "outputs": [],
   "source": []
  },
  {
   "cell_type": "code",
   "execution_count": 26,
   "metadata": {},
   "outputs": [
    {
     "name": "stderr",
     "output_type": "stream",
     "text": [
      "IOPub data rate exceeded.\n",
      "The notebook server will temporarily stop sending output\n",
      "to the client in order to avoid crashing it.\n",
      "To change this limit, set the config variable\n",
      "`--NotebookApp.iopub_data_rate_limit`.\n",
      "\n",
      "Current values:\n",
      "NotebookApp.iopub_data_rate_limit=1000000.0 (bytes/sec)\n",
      "NotebookApp.rate_limit_window=3.0 (secs)\n",
      "\n"
     ]
    },
    {
     "data": {
      "text/plain": [
       "3238"
      ]
     },
     "execution_count": 26,
     "metadata": {},
     "output_type": "execute_result"
    }
   ],
   "source": [
    "findinternal(data)"
   ]
  },
  {
   "cell_type": "code",
   "execution_count": 11,
   "metadata": {},
   "outputs": [],
   "source": [
    "puzzle.answer_a = findinternal(data)\n"
   ]
  },
  {
   "cell_type": "code",
   "execution_count": 16,
   "metadata": {},
   "outputs": [],
   "source": [
    "def safe(points, maxdist):\n",
    "    xpoints = np.array(points)\n",
    "    maxH, maxW = xpoints.max(axis=0) + maxdist // len(points)\n",
    "    minH, minW = xpoints.min(axis=0) - maxdist // len(points)    \n",
    "    xs = np.arange(minH,maxH+1)\n",
    "    ys = np.arange(minW,maxW+1)    \n",
    "    zs = np.stack(np.meshgrid(xs, ys)).reshape(2,-1).T\n",
    "    ds = distance.cdist(zs, points, metric='cityblock').sum(axis=1)\n",
    "    return (ds < maxdist).sum()"
   ]
  },
  {
   "cell_type": "code",
   "execution_count": 20,
   "metadata": {},
   "outputs": [],
   "source": [
    "assert safe(sample, 32) == 16"
   ]
  },
  {
   "cell_type": "code",
   "execution_count": 18,
   "metadata": {},
   "outputs": [
    {
     "data": {
      "text/plain": [
       "45046"
      ]
     },
     "execution_count": 18,
     "metadata": {},
     "output_type": "execute_result"
    }
   ],
   "source": [
    "safe(data, 10_000)"
   ]
  },
  {
   "cell_type": "code",
   "execution_count": null,
   "metadata": {},
   "outputs": [],
   "source": [
    "puzzle.answer_b = safe(data, 10_000)\n"
   ]
  }
 ],
 "metadata": {
  "kernelspec": {
   "display_name": "Python 3",
   "language": "python",
   "name": "python3"
  },
  "language_info": {
   "codemirror_mode": {
    "name": "ipython",
    "version": 3
   },
   "file_extension": ".py",
   "mimetype": "text/x-python",
   "name": "python",
   "nbconvert_exporter": "python",
   "pygments_lexer": "ipython3",
   "version": "3.8.3"
  }
 },
 "nbformat": 4,
 "nbformat_minor": 4
}
