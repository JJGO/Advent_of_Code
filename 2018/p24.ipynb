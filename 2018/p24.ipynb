{
 "cells": [
  {
   "cell_type": "code",
   "execution_count": 39,
   "id": "e63b3a6b",
   "metadata": {},
   "outputs": [],
   "source": [
    "import parse"
   ]
  },
  {
   "cell_type": "code",
   "execution_count": 252,
   "id": "3affa01f",
   "metadata": {},
   "outputs": [],
   "source": [
    "from aocd.models import Puzzle\n",
    "\n",
    "puzzle = Puzzle(year=2018, day=24)\n",
    "\n",
    "def parse_line(line):\n",
    "    fmt = '{units:d} units each with {hp:d} hit points{conditions}with an attack that does {attack:d} {damage} damage at initiative {initiative:d}'\n",
    "    parsed =  parse.parse(fmt, line).named\n",
    "    for condition in parsed.pop('conditions').strip('() ').split('; '):\n",
    "        if condition != '':\n",
    "            kind, states = condition.split(' to ')\n",
    "            states = states.split(', ')\n",
    "            parsed[kind] = tuple(states)\n",
    "    return parsed\n",
    "\n",
    "def parses(data):\n",
    "    armies = data.split('\\n\\n')\n",
    "    armies = [[parse_line(line) for line in army.split('\\n')[1:]] for army in armies]\n",
    "    return armies \n",
    "\n",
    "data = parses(puzzle.input_data)"
   ]
  },
  {
   "cell_type": "code",
   "execution_count": 253,
   "id": "66ac6056",
   "metadata": {},
   "outputs": [],
   "source": [
    "sample = parses(\"\"\"Immune System:\n",
    "17 units each with 5390 hit points (weak to radiation, bludgeoning) with an attack that does 4507 fire damage at initiative 2\n",
    "989 units each with 1274 hit points (immune to fire; weak to bludgeoning, slashing) with an attack that does 25 slashing damage at initiative 3\n",
    "\n",
    "Infection:\n",
    "801 units each with 4706 hit points (weak to radiation) with an attack that does 116 bludgeoning damage at initiative 1\n",
    "4485 units each with 2961 hit points (immune to radiation; weak to fire, cold) with an attack that does 12 slashing damage at initiative 4\"\"\")"
   ]
  },
  {
   "cell_type": "code",
   "execution_count": 353,
   "id": "86a4db8a",
   "metadata": {},
   "outputs": [],
   "source": [
    "from dataclasses import dataclass\n",
    "from typing import List, Optional, Tuple\n",
    "from enum import Enum\n",
    "\n",
    "@dataclass\n",
    "class Group:\n",
    "    units: int\n",
    "    hp: int\n",
    "    attack: int\n",
    "    damage: str\n",
    "    initiative: int\n",
    "    idx: int\n",
    "    army: str = \"\"\n",
    "    weak: Tuple[str] = tuple()\n",
    "    immune: Tuple[str] = tuple()\n",
    "    \n",
    "    def __repr__(self):\n",
    "        return f'{self.army.title()}({self.idx})'\n",
    "    \n",
    "    def __hash__(self):\n",
    "        return hash((self.army, self.idx))\n",
    "        \n",
    "    @property\n",
    "    def power(self):\n",
    "        return self.units * self.attack\n",
    "    \n",
    "    def damage_to(self, other):\n",
    "        if self.army == other.army:\n",
    "            return 0\n",
    "        if self.damage in other.immune:\n",
    "            return 0\n",
    "        dmg = self.power \n",
    "        if self.damage in other.weak:\n",
    "            dmg *= 2\n",
    "        return dmg\n",
    "    \n",
    "    def selection_order(self):\n",
    "        return (self.power, self.initiative)\n",
    "    \n",
    "    def target_order(self, other):\n",
    "        return (self.damage_to(other), other.power, other.initiative)\n",
    "    \n",
    "    def attack_order(self):\n",
    "        return self.initiative\n",
    "    \n",
    "    def deal_damage(self, other):\n",
    "        if self.units > 0 and other.units > 0:\n",
    "            dmg = self.damage_to(other)\n",
    "            other.units = max(0, other.units-dmg//other.hp)\n",
    "        "
   ]
  },
  {
   "cell_type": "code",
   "execution_count": 354,
   "id": "77f20983",
   "metadata": {},
   "outputs": [],
   "source": [
    "def combat(data, immune_boost=0):\n",
    "    army1, army2 = data\n",
    "    immune = [Group(**vals,army='immune', idx=i+1) for i, vals in enumerate(army1)]\n",
    "    infection = [Group(**vals,army='infection', idx=i+1) for i, vals in enumerate(army2)]\n",
    "    \n",
    "    for grp in immune:\n",
    "        grp.attack += immune_boost\n",
    "    \n",
    "    while len(immune) != 0 and len(infection) != 0:\n",
    "        before_units = [grp.units for grp in immune+infection]\n",
    "        # Target selection\n",
    "        targeting = {}\n",
    "        targeted = set()\n",
    "        enemies = {'immune': infection, 'infection': immune}\n",
    "    \n",
    "        for grp in sorted(infection+immune, reverse=True, key=Group.selection_order):\n",
    "            targets = [x for x in enemies[grp.army] if x not in targeted]\n",
    "            if targets:\n",
    "                target = max(targets, key=grp.target_order)\n",
    "                if (dmg := grp.damage_to(target)) > 0:\n",
    "                    targeting[grp] = target\n",
    "                    targeted.add(target)\n",
    "\n",
    "        # Combat\n",
    "        for grp in sorted(infection+immune, reverse=True, key=Group.attack_order):\n",
    "            if (target := targeting.get(grp, None)):\n",
    "                before = target.units\n",
    "                grp.deal_damage(target)\n",
    "\n",
    "        # Remove dead units\n",
    "        immune = [grp for grp in immune if grp.units > 0]\n",
    "        infection = [grp for grp in infection if grp.units > 0]\n",
    "        \n",
    "        # Check stalemate\n",
    "        after_units = [grp.units for grp in immune+infection]\n",
    "        if before_units == after_units:\n",
    "            break\n",
    "                \n",
    "    return immune, infection"
   ]
  },
  {
   "cell_type": "code",
   "execution_count": 355,
   "id": "05606906",
   "metadata": {},
   "outputs": [],
   "source": [
    "def solve_a(data):\n",
    "    immune, infection = data\n",
    "    return sum(grp.units for grp in immune+infection)"
   ]
  },
  {
   "cell_type": "code",
   "execution_count": 356,
   "id": "7b6c659d",
   "metadata": {},
   "outputs": [],
   "source": [
    "def solve_b(data):\n",
    "\n",
    "    for boost in itertools.count(1):\n",
    "        print(boost)\n",
    "        immune, infection = combat(data, boost)\n",
    "        if len(immune) > 0 and len(infection) == 0:\n",
    "            break\n",
    "    print(boost)\n",
    "    return sum(grp.units for grp in immune)"
   ]
  },
  {
   "cell_type": "code",
   "execution_count": 350,
   "id": "8dc94201",
   "metadata": {},
   "outputs": [],
   "source": [
    "def solve_b(data):\n",
    "    left, right = 0, 10_000\n",
    "    while right-left > 1:\n",
    "        mid = (left+right)//2\n",
    "        immune, infection = combat(data, mid)\n",
    "        if len(infection) > 0:\n",
    "            left = mid\n",
    "        else:\n",
    "            right = mid\n",
    "    immune, infection = combat(data, right)\n",
    "    return sum(grp.units for grp in immune)"
   ]
  },
  {
   "cell_type": "code",
   "execution_count": 351,
   "id": "00f4e98b",
   "metadata": {},
   "outputs": [
    {
     "data": {
      "text/plain": [
       "51"
      ]
     },
     "execution_count": 351,
     "metadata": {},
     "output_type": "execute_result"
    }
   ],
   "source": [
    "solve_b(sample)"
   ]
  },
  {
   "cell_type": "code",
   "execution_count": 352,
   "id": "03508cba",
   "metadata": {},
   "outputs": [
    {
     "data": {
      "text/plain": [
       "862"
      ]
     },
     "execution_count": 352,
     "metadata": {},
     "output_type": "execute_result"
    }
   ],
   "source": [
    "solve_b(data)"
   ]
  },
  {
   "cell_type": "code",
   "execution_count": 342,
   "id": "04f04fd8",
   "metadata": {},
   "outputs": [
    {
     "data": {
      "text/plain": [
       "([Immune(6), Immune(10)], [Infection(2)])"
      ]
     },
     "execution_count": 342,
     "metadata": {},
     "output_type": "execute_result"
    }
   ],
   "source": [
    "combat(data, immune_boost=46)"
   ]
  },
  {
   "cell_type": "code",
   "execution_count": null,
   "id": "21b77cc9",
   "metadata": {},
   "outputs": [],
   "source": []
  },
  {
   "cell_type": "code",
   "execution_count": 230,
   "id": "9eda2ef5",
   "metadata": {},
   "outputs": [
    {
     "data": {
      "text/plain": [
       "([Immune(2)], [Infection(1), Infection(2)])"
      ]
     },
     "execution_count": 230,
     "metadata": {},
     "output_type": "execute_result"
    }
   ],
   "source": [
    "immune, infection"
   ]
  },
  {
   "cell_type": "code",
   "execution_count": 194,
   "id": "3b4cbd30",
   "metadata": {},
   "outputs": [
    {
     "name": "stdout",
     "output_type": "stream",
     "text": [
      "Group(units=797, hp=4706, attack=116, damage='bludgeoning', initiative=1, idx=1, army='infection', weak=('radiation',), immune=())\n",
      "Group(units=4485, hp=2961, attack=12, damage='slashing', initiative=4, idx=2, army='infection', weak=('fire', 'cold'), immune=('radiation',))\n",
      "Group(units=0, hp=5390, attack=4507, damage='fire', initiative=2, idx=1, army='immune', weak=('radiation', 'bludgeoning'), immune=())\n",
      "Group(units=905, hp=1274, attack=25, damage='slashing', initiative=3, idx=2, army='immune', weak=('bludgeoning', 'slashing'), immune=('fire',))\n"
     ]
    }
   ],
   "source": [
    "for grp in infection+immune:\n",
    "    print(grp)"
   ]
  },
  {
   "cell_type": "code",
   "execution_count": 195,
   "id": "ae10abb1",
   "metadata": {},
   "outputs": [],
   "source": [
    "def target_selection(groups):\n",
    "    targeting = {}\n",
    "    targeted = {}\n",
    "    \n",
    "    for grp in sorted(groups, reverse=True, key=Group.target_order):\n",
    "        print(grp)\n",
    "        "
   ]
  },
  {
   "cell_type": "code",
   "execution_count": 79,
   "id": "15f7e235",
   "metadata": {},
   "outputs": [
    {
     "data": {
      "text/plain": [
       "[True, True, False]"
      ]
     },
     "execution_count": 79,
     "metadata": {},
     "output_type": "execute_result"
    }
   ],
   "source": [
    "sorted([True, False, True], reverse=True)"
   ]
  },
  {
   "cell_type": "code",
   "execution_count": 53,
   "id": "8f838275",
   "metadata": {},
   "outputs": [],
   "source": []
  },
  {
   "cell_type": "code",
   "execution_count": 54,
   "id": "59bb625c",
   "metadata": {},
   "outputs": [
    {
     "data": {
      "text/plain": [
       "[[{'units': 17,\n",
       "   'hp': 5390,\n",
       "   'damage': 4507,\n",
       "   'dmg_type': 'fire',\n",
       "   'initiative': 2,\n",
       "   'weak': ['radiation', 'bludgeoning']},\n",
       "  {'units': 989,\n",
       "   'hp': 1274,\n",
       "   'damage': 25,\n",
       "   'dmg_type': 'slashing',\n",
       "   'initiative': 3,\n",
       "   'immune': ['fire'],\n",
       "   'weak': ['bludgeoning', 'slashing']}],\n",
       " [{'units': 801,\n",
       "   'hp': 4706,\n",
       "   'damage': 116,\n",
       "   'dmg_type': 'bludgeoning',\n",
       "   'initiative': 1,\n",
       "   'weak': ['radiation']},\n",
       "  {'units': 4485,\n",
       "   'hp': 2961,\n",
       "   'damage': 12,\n",
       "   'dmg_type': 'slashing',\n",
       "   'initiative': 4,\n",
       "   'immune': ['radiation'],\n",
       "   'weak': ['fire', 'cold']}]]"
      ]
     },
     "execution_count": 54,
     "metadata": {},
     "output_type": "execute_result"
    }
   ],
   "source": [
    "sample"
   ]
  },
  {
   "cell_type": "code",
   "execution_count": 36,
   "id": "c8c6baba",
   "metadata": {},
   "outputs": [],
   "source": [
    "conditions = _['conditions']\n",
    "cs = {}\n"
   ]
  },
  {
   "cell_type": "code",
   "execution_count": 37,
   "id": "fde8f6ce",
   "metadata": {},
   "outputs": [
    {
     "data": {
      "text/plain": [
       "{'weak': ['radiation', 'bludgeoning']}"
      ]
     },
     "execution_count": 37,
     "metadata": {},
     "output_type": "execute_result"
    }
   ],
   "source": [
    "cs"
   ]
  },
  {
   "cell_type": "code",
   "execution_count": null,
   "id": "c28ff7d2",
   "metadata": {},
   "outputs": [],
   "source": []
  }
 ],
 "metadata": {
  "kernelspec": {
   "display_name": "Python 3",
   "language": "python",
   "name": "python3"
  },
  "language_info": {
   "codemirror_mode": {
    "name": "ipython",
    "version": 3
   },
   "file_extension": ".py",
   "mimetype": "text/x-python",
   "name": "python",
   "nbconvert_exporter": "python",
   "pygments_lexer": "ipython3",
   "version": "3.8.8"
  }
 },
 "nbformat": 4,
 "nbformat_minor": 5
}
