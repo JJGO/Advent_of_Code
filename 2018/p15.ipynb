{
 "cells": [
  {
   "cell_type": "code",
   "execution_count": 193,
   "metadata": {},
   "outputs": [],
   "source": [
    "from aocd.models import Puzzle\n",
    "\n",
    "puzzle = Puzzle(year=2018, day=15)\n",
    "\n",
    "def parses(data):\n",
    "    data = np.array([list(line) for line in data.strip().split('\\n')])\n",
    "    goblins = {tuple(pos): 200 for pos in np.argwhere(data == 'G').tolist()}\n",
    "    elves = {tuple(pos): 200 for pos in np.argwhere(data == 'E').tolist()}\n",
    "    wall = data == '#'\n",
    "    return goblins, elves, wall\n",
    "\n",
    "data = puzzle.input_data"
   ]
  },
  {
   "cell_type": "code",
   "execution_count": 194,
   "metadata": {},
   "outputs": [
    {
     "name": "stdout",
     "output_type": "stream",
     "text": [
      "################################\n",
      "####################.###########\n",
      "###################..##..#######\n",
      "###################.###..#######\n",
      "###################.###.########\n",
      "##################G.###.########\n",
      "##..############.#..##..########\n",
      "#...#####.####.....##...########\n",
      "#G.....##..###.#.GG#...G.....G##\n",
      "#...G....G.G##.....#.#.......###\n",
      "##..............G............###\n",
      "#......GG.....G............#####\n",
      "#####.........#####.......E..###\n",
      "#####.....G..#######.......#####\n",
      "#####.......#########......###.#\n",
      "######......#########..........#\n",
      "#####.....G.#########..........#\n",
      "##.....#...G#########......#...#\n",
      "###.#....G..#########G.........#\n",
      "##..###......#######E..........#\n",
      "##..###...G...#####E..E.....E..#\n",
      "###..##...............E.#.E....#\n",
      "###..##..##E...###......##..####\n",
      "##..G...###....###......########\n",
      "##......###E....##....##########\n",
      "###...#####..E..###...##########\n",
      "##....####......####.###########\n",
      "####..#####.....##...###########\n",
      "############..####....##########\n",
      "############.#####....##########\n",
      "##########...#####.#.###########\n",
      "################################\n"
     ]
    }
   ],
   "source": [
    "print(data)"
   ]
  },
  {
   "cell_type": "code",
   "execution_count": null,
   "metadata": {},
   "outputs": [],
   "source": []
  },
  {
   "cell_type": "code",
   "execution_count": 195,
   "metadata": {},
   "outputs": [],
   "source": [
    "sample = parses(\"\"\"#######\n",
    "#.G...#\n",
    "#...EG#\n",
    "#.#.#G#\n",
    "#..G#E#\n",
    "#.....#\n",
    "#######\"\"\")"
   ]
  },
  {
   "cell_type": "code",
   "execution_count": 196,
   "metadata": {},
   "outputs": [],
   "source": [
    "def render(goblins, elves, wall):\n",
    "    N, M = wall.shape\n",
    "    \n",
    "    for i in range(N):\n",
    "        line = \"\"\n",
    "        units = []\n",
    "        for j in range(M):\n",
    "            c = '#' if wall[i,j] else '.'\n",
    "            if (i,j) in elves:\n",
    "                c = 'E'\n",
    "                units.append(f'E({elves[(i,j)]})')\n",
    "            elif (i,j) in goblins:\n",
    "                c = 'G'\n",
    "                units.append(f'G({goblins[(i,j)]})')\n",
    "            line += c\n",
    "        line = line + '    ' + ', '.join(units)\n",
    "        print(line)"
   ]
  },
  {
   "cell_type": "code",
   "execution_count": 197,
   "metadata": {},
   "outputs": [],
   "source": [
    "from collections import deque "
   ]
  },
  {
   "cell_type": "code",
   "execution_count": 205,
   "metadata": {},
   "outputs": [],
   "source": []
  },
  {
   "cell_type": "code",
   "execution_count": 247,
   "metadata": {},
   "outputs": [],
   "source": [
    "def solve_a(data):\n",
    "    goblins, elves, wall = parses(data)\n",
    "    for r in itertools.count():\n",
    "        killed = set()\n",
    "        for unit in sorted([*goblins, *elves]):\n",
    "            # X is first dimension so in the render is \"vertical\"\n",
    "            is_goblin = unit in goblins\n",
    "            if unit not in killed:\n",
    "                enemies = elves if is_goblin else goblins\n",
    "                allies = goblins if is_goblin else elves\n",
    "                if len(enemies) == 0:\n",
    "#                     print(enemies, allies)\n",
    "                    return r * sum(allies.values())\n",
    "                x, y = unit\n",
    "                enemies_in_range = sorted([ (enemies[x2,y2], i, x2, y2)\n",
    "                    for i, (x2, y2) in enumerate([(x-1,y),(x,y-1),(x,y+1),(x+1,y)]) \n",
    "                    if (x2,y2) in enemies])\n",
    "\n",
    "                if len(enemies_in_range) == 0:\n",
    "                    # move\n",
    "                    visited = set()\n",
    "                    tovisit = [\n",
    "                        (1, x-1,y, x-1,y),\n",
    "                        (1, x,y-1, x,y-1),\n",
    "                        (1, x,y+1, x,y+1),\n",
    "                        (1, x+1,y, x+1,y),\n",
    "                    ]\n",
    "                    # We don't need to find all potential in-range points, just\n",
    "                    # the closest and first in reading order will suffice\n",
    "                    # The heap tracks (distance, RO in-range targer, RO first-step)\n",
    "                    heapify(tovisit)\n",
    "                    while tovisit:\n",
    "                        d, x2, y2, nx, ny = heappop(tovisit)\n",
    "                        if wall[x2,y2] or (x2,y2) in allies:\n",
    "                            continue\n",
    "                        for x2, y2 in [(x2-1,y2),(x2,y2-1),(x2,y2+1),(x2+1,y2)]:\n",
    "                            if (x2,y2) not in visited:\n",
    "                                if (x2,y2) in enemies:\n",
    "#                                     print('GE'[is_elf],(x,y), 'moves', (nx,ny))\n",
    "                                    allies[nx,ny] = allies.pop((x,y))\n",
    "                                    x,y = nx, ny\n",
    "                                    tovisit = []\n",
    "                                    break\n",
    "                                visited.add((x2,y2))\n",
    "                                heappush(tovisit, (d+1,x2,y2,nx,ny))\n",
    "\n",
    "                enemies_in_range = sorted([ (enemies[x2,y2], i, x2, y2)\n",
    "                    for i, (x2, y2) in enumerate([(x-1,y),(x,y-1),(x,y+1),(x+1,y)]) \n",
    "                    if (x2,y2) in enemies])\n",
    "\n",
    "                if len(enemies_in_range) > 0:\n",
    "                    h, _, x2, y2 = enemies_in_range[0]\n",
    "#                     print('GE'[is_elf],(x,y), 'strikes', (x2,y2))\n",
    "\n",
    "                    if h > 3:\n",
    "                        enemies[(x2,y2)] -= 3\n",
    "                    else:\n",
    "                        enemies.pop((x2,y2))\n",
    "                        killed.add((x2,y2))\n",
    "#         print(f'After {r+1} rounds')\n",
    "#         render(goblins, elves, wall)\n",
    "#         print()"
   ]
  },
  {
   "cell_type": "code",
   "execution_count": 248,
   "metadata": {},
   "outputs": [
    {
     "data": {
      "text/plain": [
       "10234"
      ]
     },
     "execution_count": 248,
     "metadata": {},
     "output_type": "execute_result"
    }
   ],
   "source": [
    "solve_a(\"\"\"#######\n",
    "#######\n",
    "#.E..G#\n",
    "#.#####\n",
    "#G#####\n",
    "#######\n",
    "#######\"\"\")\n",
    "# In this first case, the Elf should move to the right."
   ]
  },
  {
   "cell_type": "code",
   "execution_count": 249,
   "metadata": {},
   "outputs": [
    {
     "data": {
      "text/plain": [
       "9933"
      ]
     },
     "execution_count": 249,
     "metadata": {},
     "output_type": "execute_result"
    }
   ],
   "source": [
    "solve_a(\"\"\"####\n",
    "#GG#\n",
    "#.E#\n",
    "####\"\"\")\n",
    "# With this input, the elf should begin by attacking the goblin directly above him."
   ]
  },
  {
   "cell_type": "code",
   "execution_count": 250,
   "metadata": {},
   "outputs": [
    {
     "data": {
      "text/plain": [
       "10234"
      ]
     },
     "execution_count": 250,
     "metadata": {},
     "output_type": "execute_result"
    }
   ],
   "source": [
    "solve_a(\"\"\"########\n",
    "#..E..G#\n",
    "#G######\n",
    "########\"\"\")\n",
    "# For this input, the elf should move to the left."
   ]
  },
  {
   "cell_type": "code",
   "execution_count": 251,
   "metadata": {},
   "outputs": [],
   "source": [
    "sample = \"\"\"#######\n",
    "#.G...#\n",
    "#...EG#\n",
    "#.#.#G#\n",
    "#..G#E#\n",
    "#.....#\n",
    "#######\"\"\""
   ]
  },
  {
   "cell_type": "code",
   "execution_count": 252,
   "metadata": {},
   "outputs": [
    {
     "data": {
      "text/plain": [
       "True"
      ]
     },
     "execution_count": 252,
     "metadata": {},
     "output_type": "execute_result"
    }
   ],
   "source": [
    "solve_a(sample) == 27730"
   ]
  },
  {
   "cell_type": "code",
   "execution_count": 253,
   "metadata": {},
   "outputs": [],
   "source": [
    "samples = [\n",
    "\"\"\"#######\n",
    "#G..#E#\n",
    "#E#E.E#\n",
    "#G.##.#\n",
    "#...#E#\n",
    "#...E.#\n",
    "#######\"\"\",\n",
    "\"\"\"\n",
    "#######\n",
    "#E..EG#\n",
    "#.#G.E#\n",
    "#E.##E#\n",
    "#G..#.#\n",
    "#..E#.#\n",
    "#######\"\"\",\n",
    "\"\"\"#######\n",
    "#E.G#.#\n",
    "#.#G..#\n",
    "#G.#.G#\n",
    "#G..#.#\n",
    "#...E.#\n",
    "#######\"\"\",\n",
    "\"\"\"#######\n",
    "#.E...#\n",
    "#.#..G#\n",
    "#.###.#\n",
    "#E#G#G#\n",
    "#...#G#\n",
    "#######\"\"\",\n",
    "\"\"\"#########\n",
    "#G......#\n",
    "#.E.#...#\n",
    "#..##..G#\n",
    "#...##..#\n",
    "#...#...#\n",
    "#.G...G.#\n",
    "#.....G.#\n",
    "#########\"\"\",\n",
    "]\n",
    "solutions = [36334, 39514, 27755, 28944, 18740]\n",
    "\n",
    "for s, sol in zip(samples, solutions):\n",
    "    assert solve_a(s) == sol"
   ]
  },
  {
   "cell_type": "code",
   "execution_count": 255,
   "metadata": {},
   "outputs": [
    {
     "data": {
      "text/plain": [
       "239010"
      ]
     },
     "execution_count": 255,
     "metadata": {},
     "output_type": "execute_result"
    }
   ],
   "source": [
    "solve_a(data)"
   ]
  },
  {
   "cell_type": "code",
   "execution_count": 256,
   "metadata": {},
   "outputs": [
    {
     "data": {
      "text/plain": [
       "True"
      ]
     },
     "execution_count": 256,
     "metadata": {},
     "output_type": "execute_result"
    }
   ],
   "source": [
    "solve_a(\"\"\"################################\n",
    "###############.##...###########\n",
    "##############..#...G.#..#######\n",
    "##############.............#####\n",
    "###############....G....G......#\n",
    "##########..........#..........#\n",
    "##########................##..##\n",
    "######...##..G...G.......####..#\n",
    "####..G..#G...............####.#\n",
    "#######......G....G.....G#####E#\n",
    "#######.................E.######\n",
    "########..G...............######\n",
    "######....G...#####E...G....####\n",
    "######..G..G.#######........####\n",
    "###.........#########.......E.##\n",
    "###..#..#...#########...E.....##\n",
    "######......#########.......####\n",
    "#####...G...#########.....######\n",
    "#####G......#########.....######\n",
    "#...#G..G....#######......######\n",
    "###...##......#####.......######\n",
    "####..##..G........E...E..######\n",
    "#####.####.....######...########\n",
    "###########..#...####...E.######\n",
    "###############...####..#...####\n",
    "###############...###...#.E.####\n",
    "#####################.#E....####\n",
    "#####################.#...######\n",
    "###################...##.#######\n",
    "##################..############\n",
    "##################...###########\n",
    "################################\"\"\") == 229798"
   ]
  },
  {
   "cell_type": "code",
   "execution_count": 261,
   "metadata": {},
   "outputs": [],
   "source": [
    "def simulate(data, extra_power):\n",
    "    goblins, elves, wall = parses(data)\n",
    "    for r in itertools.count():\n",
    "        killed = set()\n",
    "        for unit in sorted([*goblins, *elves]):\n",
    "            # X is first dimension so in the render is \"vertical\"\n",
    "            is_goblin = unit in goblins\n",
    "            if unit not in killed:\n",
    "                enemies = elves if is_goblin else goblins\n",
    "                allies = goblins if is_goblin else elves\n",
    "                if len(enemies) == 0:\n",
    "#                     print(enemies, allies)\n",
    "                    return r * sum(allies.values())\n",
    "                x, y = unit\n",
    "                enemies_in_range = sorted([ (enemies[x2,y2], i, x2, y2)\n",
    "                    for i, (x2, y2) in enumerate([(x-1,y),(x,y-1),(x,y+1),(x+1,y)]) \n",
    "                    if (x2,y2) in enemies])\n",
    "\n",
    "                if len(enemies_in_range) == 0:\n",
    "                    # move\n",
    "                    visited = set()\n",
    "                    tovisit = [\n",
    "                        (1, x-1,y, x-1,y),\n",
    "                        (1, x,y-1, x,y-1),\n",
    "                        (1, x,y+1, x,y+1),\n",
    "                        (1, x+1,y, x+1,y),\n",
    "                    ]\n",
    "                    # We don't need to find all potential in-range points, just\n",
    "                    # the closest and first in reading order will suffice\n",
    "                    # The heap tracks (distance, RO in-range targer, RO first-step)\n",
    "                    heapify(tovisit)\n",
    "                    while tovisit:\n",
    "                        d, x2, y2, nx, ny = heappop(tovisit)\n",
    "                        if wall[x2,y2] or (x2,y2) in allies:\n",
    "                            continue\n",
    "                        for x2, y2 in [(x2-1,y2),(x2,y2-1),(x2,y2+1),(x2+1,y2)]:\n",
    "                            if (x2,y2) not in visited:\n",
    "                                if (x2,y2) in enemies:\n",
    "#                                     print('GE'[is_elf],(x,y), 'moves', (nx,ny))\n",
    "                                    allies[nx,ny] = allies.pop((x,y))\n",
    "                                    x,y = nx, ny\n",
    "                                    tovisit = []\n",
    "                                    break\n",
    "                                visited.add((x2,y2))\n",
    "                                heappush(tovisit, (d+1,x2,y2,nx,ny))\n",
    "\n",
    "                enemies_in_range = sorted([ (enemies[x2,y2], i, x2, y2)\n",
    "                    for i, (x2, y2) in enumerate([(x-1,y),(x,y-1),(x,y+1),(x+1,y)]) \n",
    "                    if (x2,y2) in enemies])\n",
    "\n",
    "                if len(enemies_in_range) > 0:\n",
    "                    h, _, x2, y2 = enemies_in_range[0]\n",
    "#                     print('GE'[is_elf],(x,y), 'strikes', (x2,y2))\n",
    "                    power = 3 if is_goblin else 3 + extra_power\n",
    "\n",
    "                    if h > power:\n",
    "                        enemies[(x2,y2)] -= power\n",
    "                    else:\n",
    "                        if (x2,y2) in elves:\n",
    "                            return None\n",
    "                        enemies.pop((x2,y2))\n",
    "                        killed.add((x2,y2))\n",
    "#         print(f'After {r+1} rounds')\n",
    "#         render(goblins, elves, wall)\n",
    "#         print()"
   ]
  },
  {
   "cell_type": "code",
   "execution_count": 287,
   "metadata": {},
   "outputs": [],
   "source": [
    "\n",
    "\n",
    "def solve_b(data):\n",
    "    left = 0\n",
    "    right = 200\n",
    "    if (res := simulate(data, 0)) is not None:\n",
    "        return res\n",
    "    assert simulate(data, r) is not None\n",
    "    while right-left > 1:\n",
    "        mid = (left+right)//2\n",
    "        res = simulate(data, mid)\n",
    "        if res is None:\n",
    "            left = mid\n",
    "        else:\n",
    "            right = mid\n",
    "    print(right)\n",
    "    return simulate(data, right)\n",
    "    \n",
    "        "
   ]
  },
  {
   "cell_type": "code",
   "execution_count": 288,
   "metadata": {},
   "outputs": [],
   "source": [
    "samples2 = [sample, *samples[1:]]\n",
    "solutions2 = [4988, 31284, 3478, 6474, 1140]"
   ]
  },
  {
   "cell_type": "code",
   "execution_count": 289,
   "metadata": {},
   "outputs": [
    {
     "name": "stdout",
     "output_type": "stream",
     "text": [
      "12\n",
      "4988 4988\n",
      "1\n",
      "31284 31284\n",
      "12\n",
      "3478 3478\n",
      "9\n",
      "6474 6474\n",
      "31\n",
      "1140 1140\n"
     ]
    }
   ],
   "source": [
    "for s, sol in zip(samples2, solutions2):\n",
    "    print(solve_b(s), sol)"
   ]
  },
  {
   "cell_type": "code",
   "execution_count": 291,
   "metadata": {},
   "outputs": [
    {
     "name": "stdout",
     "output_type": "stream",
     "text": [
      "13\n"
     ]
    },
    {
     "data": {
      "text/plain": [
       "62468"
      ]
     },
     "execution_count": 291,
     "metadata": {},
     "output_type": "execute_result"
    }
   ],
   "source": [
    "solve_b(data)"
   ]
  },
  {
   "cell_type": "code",
   "execution_count": null,
   "metadata": {},
   "outputs": [],
   "source": []
  }
 ],
 "metadata": {
  "kernelspec": {
   "display_name": "Python 3",
   "language": "python",
   "name": "python3"
  },
  "language_info": {
   "codemirror_mode": {
    "name": "ipython",
    "version": 3
   },
   "file_extension": ".py",
   "mimetype": "text/x-python",
   "name": "python",
   "nbconvert_exporter": "python",
   "pygments_lexer": "ipython3",
   "version": "3.8.8"
  }
 },
 "nbformat": 4,
 "nbformat_minor": 4
}
