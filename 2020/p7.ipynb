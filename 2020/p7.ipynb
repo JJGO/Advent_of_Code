{
 "cells": [
  {
   "cell_type": "code",
   "execution_count": 36,
   "metadata": {},
   "outputs": [],
   "source": [
    "data = \"\"\"light red bags contain 1 bright white bag, 2 muted yellow bags.\n",
    "dark orange bags contain 3 bright white bags, 4 muted yellow bags.\n",
    "bright white bags contain 1 shiny gold bag.\n",
    "muted yellow bags contain 2 shiny gold bags, 9 faded blue bags.\n",
    "shiny gold bags contain 1 dark olive bag, 2 vibrant plum bags.\n",
    "dark olive bags contain 3 faded blue bags, 4 dotted black bags.\n",
    "vibrant plum bags contain 5 faded blue bags, 6 dotted black bags.\n",
    "faded blue bags contain no other bags.\n",
    "dotted black bags contain no other bags.\"\"\""
   ]
  },
  {
   "cell_type": "code",
   "execution_count": 16,
   "metadata": {},
   "outputs": [],
   "source": [
    "def parse(data):\n",
    "    contains = {}\n",
    "    for line in data.strip().split('\\n'):\n",
    "        pre, post = line.split(' bags contain ')\n",
    "        if post == 'no other bags.':\n",
    "            post = []\n",
    "        else:\n",
    "            post = [ (int(x[0]), \" \".join(x[2:].split(' ')[:-1])) for x in post.strip('.').split(', ')]\n",
    "        contains[pre] = post\n",
    "    return contains"
   ]
  },
  {
   "cell_type": "code",
   "execution_count": 20,
   "metadata": {},
   "outputs": [
    {
     "data": {
      "text/plain": [
       "{'light red': [(1, 'bright white'), (2, 'muted yellow')],\n",
       " 'dark orange': [(3, 'bright white'), (4, 'muted yellow')],\n",
       " 'bright white': [(1, 'shiny gold')],\n",
       " 'muted yellow': [(2, 'shiny gold'), (9, 'faded blue')],\n",
       " 'shiny gold': [(1, 'dark olive'), (2, 'vibrant plum')],\n",
       " 'dark olive': [(3, 'faded blue'), (4, 'dotted black')],\n",
       " 'vibrant plum': [(5, 'faded blue'), (6, 'dotted black')],\n",
       " 'faded blue': [],\n",
       " 'dotted black': []}"
      ]
     },
     "execution_count": 20,
     "metadata": {},
     "output_type": "execute_result"
    }
   ],
   "source": [
    "parse(data)"
   ]
  },
  {
   "cell_type": "code",
   "execution_count": 22,
   "metadata": {},
   "outputs": [],
   "source": [
    "from collections import defaultdict"
   ]
  },
  {
   "cell_type": "markdown",
   "metadata": {},
   "source": [
    "Topological sort"
   ]
  },
  {
   "cell_type": "code",
   "execution_count": 23,
   "metadata": {},
   "outputs": [],
   "source": [
    "# def to_graph(contains):\n",
    "#     graph = defaultdict(list)\n",
    "#     pointed_by = defaultdict(int)\n",
    "#     for src, dsts in contains:\n",
    "#         for _, dst in dsts:\n",
    "#             graph[dst].append(src)\n",
    "#         graph[src]\n",
    "    "
   ]
  },
  {
   "cell_type": "code",
   "execution_count": 30,
   "metadata": {},
   "outputs": [],
   "source": [
    "def bags_with_shiny(contain):\n",
    "#     contain = {k: [v for _,v in contain[k]] for k in contain}\n",
    "    can_contain = defaultdict(list)\n",
    "    for k in contain:\n",
    "        for _, b in contain[k]:\n",
    "            can_contain[b].append(k)\n",
    "    stack = can_contain.pop('shiny gold')\n",
    "    seen = set(['shiny gold'])\n",
    "    while len(stack) > 0:\n",
    "        color = stack.pop()\n",
    "        if color not in seen:\n",
    "            seen.add(color)\n",
    "            stack.extend(can_contain.pop(color, []))\n",
    "    return len(seen)-1\n",
    "        \n",
    "        "
   ]
  },
  {
   "cell_type": "code",
   "execution_count": 31,
   "metadata": {},
   "outputs": [
    {
     "data": {
      "text/plain": [
       "4"
      ]
     },
     "execution_count": 31,
     "metadata": {},
     "output_type": "execute_result"
    }
   ],
   "source": [
    "bags_with_shiny(parse(data))"
   ]
  },
  {
   "cell_type": "code",
   "execution_count": 49,
   "metadata": {},
   "outputs": [],
   "source": [
    "with open('7.txt', 'r') as f:\n",
    "    data = f.read()"
   ]
  },
  {
   "cell_type": "code",
   "execution_count": 33,
   "metadata": {},
   "outputs": [
    {
     "data": {
      "text/plain": [
       "164"
      ]
     },
     "execution_count": 33,
     "metadata": {},
     "output_type": "execute_result"
    }
   ],
   "source": [
    "bags_with_shiny(parse(data))"
   ]
  },
  {
   "cell_type": "code",
   "execution_count": null,
   "metadata": {},
   "outputs": [],
   "source": []
  },
  {
   "cell_type": "code",
   "execution_count": 51,
   "metadata": {},
   "outputs": [],
   "source": [
    "def bags_within_shiny(contain):\n",
    "    cache = {}\n",
    "    def nbags(color):\n",
    "        if color not in cache:\n",
    "            cache[color] = 1+sum(nbags(c)*n for n, c in contain[color])\n",
    "        return cache[color]\n",
    "    return nbags('shiny gold')-1"
   ]
  },
  {
   "cell_type": "code",
   "execution_count": 45,
   "metadata": {},
   "outputs": [
    {
     "name": "stdout",
     "output_type": "stream",
     "text": [
      "{'light red': [(1, 'bright white'), (2, 'muted yellow')], 'dark orange': [(3, 'bright white'), (4, 'muted yellow')], 'bright white': [(1, 'shiny gold')], 'muted yellow': [(2, 'shiny gold'), (9, 'faded blue')], 'shiny gold': [(1, 'dark olive'), (2, 'vibrant plum')], 'dark olive': [(3, 'faded blue'), (4, 'dotted black')], 'vibrant plum': [(5, 'faded blue'), (6, 'dotted black')], 'faded blue': [], 'dotted black': []}\n"
     ]
    },
    {
     "data": {
      "text/plain": [
       "32"
      ]
     },
     "execution_count": 45,
     "metadata": {},
     "output_type": "execute_result"
    }
   ],
   "source": [
    "bags_within_shiny(parse(data))"
   ]
  },
  {
   "cell_type": "code",
   "execution_count": 46,
   "metadata": {},
   "outputs": [],
   "source": [
    "data = \"\"\"shiny gold bags contain 2 dark red bags.\n",
    "dark red bags contain 2 dark orange bags.\n",
    "dark orange bags contain 2 dark yellow bags.\n",
    "dark yellow bags contain 2 dark green bags.\n",
    "dark green bags contain 2 dark blue bags.\n",
    "dark blue bags contain 2 dark violet bags.\n",
    "dark violet bags contain no other bags.\"\"\""
   ]
  },
  {
   "cell_type": "code",
   "execution_count": 48,
   "metadata": {},
   "outputs": [
    {
     "name": "stdout",
     "output_type": "stream",
     "text": [
      "{'shiny gold': [(2, 'dark red')], 'dark red': [(2, 'dark orange')], 'dark orange': [(2, 'dark yellow')], 'dark yellow': [(2, 'dark green')], 'dark green': [(2, 'dark blue')], 'dark blue': [(2, 'dark violet')], 'dark violet': []}\n"
     ]
    },
    {
     "data": {
      "text/plain": [
       "126"
      ]
     },
     "execution_count": 48,
     "metadata": {},
     "output_type": "execute_result"
    }
   ],
   "source": [
    "bags_within_shiny(parse(data))"
   ]
  },
  {
   "cell_type": "code",
   "execution_count": 52,
   "metadata": {},
   "outputs": [
    {
     "data": {
      "text/plain": [
       "7872"
      ]
     },
     "execution_count": 52,
     "metadata": {},
     "output_type": "execute_result"
    }
   ],
   "source": [
    "bags_within_shiny(parse(data))"
   ]
  },
  {
   "cell_type": "code",
   "execution_count": null,
   "metadata": {},
   "outputs": [],
   "source": []
  }
 ],
 "metadata": {
  "kernelspec": {
   "display_name": "Python 3",
   "language": "python",
   "name": "python3"
  },
  "language_info": {
   "codemirror_mode": {
    "name": "ipython",
    "version": 3
   },
   "file_extension": ".py",
   "mimetype": "text/x-python",
   "name": "python",
   "nbconvert_exporter": "python",
   "pygments_lexer": "ipython3",
   "version": "3.8.3"
  }
 },
 "nbformat": 4,
 "nbformat_minor": 4
}
