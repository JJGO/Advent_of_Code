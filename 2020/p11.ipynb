{
 "cells": [
  {
   "cell_type": "code",
   "execution_count": 80,
   "metadata": {},
   "outputs": [],
   "source": []
  },
  {
   "cell_type": "code",
   "execution_count": 2,
   "metadata": {},
   "outputs": [],
   "source": []
  },
  {
   "cell_type": "code",
   "execution_count": 99,
   "metadata": {},
   "outputs": [],
   "source": [
    "def parse(data):\n",
    "    return np.array([[0 if x == '.' else 1 for x in line] for line in data.strip().split('\\n')])"
   ]
  },
  {
   "cell_type": "code",
   "execution_count": 8,
   "metadata": {},
   "outputs": [],
   "source": [
    "seating = parse(data)\n"
   ]
  },
  {
   "cell_type": "code",
   "execution_count": 10,
   "metadata": {},
   "outputs": [],
   "source": [
    "from scipy.signal import convolve2d"
   ]
  },
  {
   "cell_type": "code",
   "execution_count": 88,
   "metadata": {},
   "outputs": [],
   "source": [
    "def print_seating(seating, occupied):\n",
    "    vals = seating + 2*occupied\n",
    "    s = [[ ('.','L','?','#')[i] for i in line ] for line in vals]\n",
    "    s = \"\\n\".join([\"\".join(line) for line in s])\n",
    "    print(s)\n",
    "    print()"
   ]
  },
  {
   "cell_type": "code",
   "execution_count": 151,
   "metadata": {},
   "outputs": [],
   "source": [
    "def simulate(seating):\n",
    "    occupied = np.zeros_like(seating)\n",
    "    prev_hash = None\n",
    "    while True:\n",
    "        rule1 = np.array([[1,1,1],[1,1,1],[1,1,1]])\n",
    "        rule2 = np.array([[1,1,1],[1,10,1],[1,1,1]])\n",
    "        filled = convolve2d(rule1, occupied)[1:-1,1:-1] == 0\n",
    "        emptied = convolve2d(rule2, occupied)[1:-1,1:-1] >= 14\n",
    "        occupied[filled] = 1\n",
    "        occupied[emptied] = 0\n",
    "        occupied *= seating\n",
    "        h = hash(occupied.tobytes())\n",
    "        if h == prev_hash:\n",
    "            return np.sum(occupied)\n",
    "        prev_hash = h\n"
   ]
  },
  {
   "cell_type": "code",
   "execution_count": 152,
   "metadata": {},
   "outputs": [
    {
     "data": {
      "text/plain": [
       "37"
      ]
     },
     "execution_count": 152,
     "metadata": {},
     "output_type": "execute_result"
    }
   ],
   "source": [
    "data = \"\"\"L.LL.LL.LL\n",
    "LLLLLLL.LL\n",
    "L.L.L..L..\n",
    "LLLL.LL.LL\n",
    "L.LL.LL.LL\n",
    "L.LLLLL.LL\n",
    "..L.L.....\n",
    "LLLLLLLLLL\n",
    "L.LLLLLL.L\n",
    "L.LLLLL.LL\n",
    "\"\"\"\n",
    "seating = parse(data)\n",
    "simulate(seating)"
   ]
  },
  {
   "cell_type": "code",
   "execution_count": 153,
   "metadata": {},
   "outputs": [
    {
     "data": {
      "text/plain": [
       "2277"
      ]
     },
     "execution_count": 153,
     "metadata": {},
     "output_type": "execute_result"
    }
   ],
   "source": [
    "with open('11.txt', 'r') as f:\n",
    "    seating = parse(f.read())\n",
    "simulate(seating)"
   ]
  },
  {
   "cell_type": "code",
   "execution_count": 146,
   "metadata": {},
   "outputs": [],
   "source": [
    "from collections import defaultdict\n",
    "def find_neighbors(seating):\n",
    "#     neighbors = [[[] for _ in row] for row in seating]\n",
    "    neighbors = defaultdict(list)\n",
    "\n",
    "    N, M = seating.shape\n",
    "    for i in range(N):\n",
    "        for j in range(M):\n",
    "            if seating[i,j] == 1:\n",
    "                for di, dj in [(1,0),(0,1),(1,1),(1,-1)]:\n",
    "                    for k in range(1,min(N,M)):\n",
    "                        ii, jj = i+k*di, j+k*dj\n",
    "#                         print((i,j),(ii,jj))\n",
    "                        if not ( 0 <= ii < N and 0 <= jj < M):\n",
    "                            break\n",
    "                        if seating[ii,jj] == 1:\n",
    "                            neighbors[(i,j)].append((ii,jj))\n",
    "                            neighbors[(ii,jj)].append((i,j))\n",
    "                            break\n",
    "    return neighbors"
   ]
  },
  {
   "cell_type": "code",
   "execution_count": 168,
   "metadata": {},
   "outputs": [],
   "source": [
    "data = \"\"\"L.LL.LL.LL\n",
    "LLLLLLL.LL\n",
    "L.L.L..L..\n",
    "LLLL.LL.LL\n",
    "L.LL.LL.LL\n",
    "L.LLLLL.LL\n",
    "..L.L.....\n",
    "LLLLLLLLLL\n",
    "L.LLLLLL.L\n",
    "L.LLLLL.LL\n",
    "\"\"\"\n"
   ]
  },
  {
   "cell_type": "code",
   "execution_count": 174,
   "metadata": {},
   "outputs": [],
   "source": [
    "def simulate(seating):\n",
    "    occupied = np.zeros_like(seating)\n",
    "    neighbors = find_neighbors(seating)\n",
    "    prev_hash = None\n",
    "    N, M = occupied.shape\n",
    "    while True:\n",
    "        new_occupied = occupied.copy()\n",
    "        for (i,j), ns in neighbors.items():\n",
    "            \n",
    "            if occupied[i,j] == 0:\n",
    "                if all(occupied[ii,jj] == 0 for ii, jj in ns):\n",
    "                    new_occupied[i,j] = 1\n",
    "            else:\n",
    "                if sum(occupied[ii,jj] for ii, jj in ns) >= 5:\n",
    "                    new_occupied[i,j] = 0\n",
    "        occupied = new_occupied\n",
    "#         print_seating(seating, occupied)\n",
    "        h = hash(occupied.tobytes())\n",
    "        if h == prev_hash:\n",
    "            return occupied.sum()\n",
    "        prev_hash = h"
   ]
  },
  {
   "cell_type": "code",
   "execution_count": 175,
   "metadata": {},
   "outputs": [
    {
     "data": {
      "text/plain": [
       "26"
      ]
     },
     "execution_count": 175,
     "metadata": {},
     "output_type": "execute_result"
    }
   ],
   "source": [
    "seating = parse(data)\n",
    "simulate(seating)"
   ]
  },
  {
   "cell_type": "code",
   "execution_count": 176,
   "metadata": {},
   "outputs": [
    {
     "data": {
      "text/plain": [
       "2066"
      ]
     },
     "execution_count": 176,
     "metadata": {},
     "output_type": "execute_result"
    }
   ],
   "source": [
    "with open('11.txt', 'r') as f:\n",
    "    seating = parse(f.read())\n",
    "simulate(seating)"
   ]
  },
  {
   "cell_type": "code",
   "execution_count": null,
   "metadata": {},
   "outputs": [],
   "source": []
  }
 ],
 "metadata": {
  "kernelspec": {
   "display_name": "Python 3",
   "language": "python",
   "name": "python3"
  },
  "language_info": {
   "codemirror_mode": {
    "name": "ipython",
    "version": 3
   },
   "file_extension": ".py",
   "mimetype": "text/x-python",
   "name": "python",
   "nbconvert_exporter": "python",
   "pygments_lexer": "ipython3",
   "version": "3.8.3"
  }
 },
 "nbformat": 4,
 "nbformat_minor": 4
}
