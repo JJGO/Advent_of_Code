{
 "cells": [
  {
   "cell_type": "code",
   "execution_count": 1,
   "metadata": {},
   "outputs": [],
   "source": [
    "with open('4.txt', 'r') as f:\n",
    "    s = f.read()"
   ]
  },
  {
   "cell_type": "code",
   "execution_count": 2,
   "metadata": {},
   "outputs": [],
   "source": []
  },
  {
   "cell_type": "code",
   "execution_count": 16,
   "metadata": {},
   "outputs": [],
   "source": [
    "def count_valid(s):\n",
    "    candidates = s.split('\\n\\n')\n",
    "    candidates = [c.replace('\\n', ' ').split(' ') for c in candidates]\n",
    "    valid = 0\n",
    "    for c in candidates:\n",
    "        c_fields = set(entry[:3] for entry in c)\n",
    "        if len(c_fields & valid_fields) == 7:\n",
    "            valid += 1\n",
    "    return valid"
   ]
  },
  {
   "cell_type": "code",
   "execution_count": 21,
   "metadata": {},
   "outputs": [
    {
     "data": {
      "text/plain": [
       "{1, 2}"
      ]
     },
     "execution_count": 21,
     "metadata": {},
     "output_type": "execute_result"
    }
   ],
   "source": [
    "set([1,2,3]) & set({1:0, 2:0, 4:5})"
   ]
  },
  {
   "cell_type": "code",
   "execution_count": 70,
   "metadata": {},
   "outputs": [],
   "source": [
    "def count_valid_2(s):\n",
    "    candidates = s.split('\\n\\n')\n",
    "    candidates = [c.replace('\\n', ' ').split(' ') for c in candidates]\n",
    "    valid = 0\n",
    "    for c in candidates:\n",
    "        c_fields = {entry[:3]: entry[4:] for entry in c}\n",
    "        if len(set(c_fields) & valid_fields) == 7:\n",
    "#             print(c)\n",
    "            if not (1920 <= int(c_fields['byr']) <= 2002):\n",
    "                continue\n",
    "            if not (2010 <= int(c_fields['iyr']) <= 2020):\n",
    "                continue\n",
    "            if not (2020 <= int(c_fields['eyr']) <= 2030):\n",
    "                continue\n",
    "            if not c_fields['hgt'][-2:] in ('cm', 'in'):\n",
    "                continue\n",
    "            if c_fields['hgt'][-2:] == 'cm':\n",
    "                if not (150 <= int(c_fields['hgt'][:-2]) <= 193):\n",
    "                    continue\n",
    "            else:\n",
    "                if not  (59 <= int(c_fields['hgt'][:-2]) <= 76):\n",
    "                    continue\n",
    "            if not (len(c_fields['hcl']) == 7 and c_fields['hcl'][0] == '#' and all(i in \"0123456789abcdef\" for i in c_fields['hcl'][1:])):\n",
    "                continue\n",
    "            if not (c_fields['ecl'] in ['amb', 'blu', 'brn', 'gry', 'grn', 'hzl', 'oth']):\n",
    "                continue\n",
    "            if not (len(c_fields['pid']) == 9 and all(i in \"0123456789\" for i in c_fields['pid'] )):\n",
    "                continue\n",
    "\n",
    "            valid += 1\n",
    "    return valid"
   ]
  },
  {
   "cell_type": "code",
   "execution_count": 76,
   "metadata": {},
   "outputs": [],
   "source": [
    "from collections import defaultdict"
   ]
  },
  {
   "cell_type": "code",
   "execution_count": 90,
   "metadata": {},
   "outputs": [],
   "source": [
    "def conditions(c_fields):\n",
    "    yield len(set(c_fields) & valid_fields) == 7\n",
    "    yield 1920 <= int(c_fields['byr']) <= 2002\n",
    "    yield 2010 <= int(c_fields['iyr']) <= 2020\n",
    "    yield 2020 <= int(c_fields['eyr']) <= 2030\n",
    "    yield c_fields['hgt'][-2:] in ('cm', 'in')\n",
    "    yield (c_fields['hgt'][-2:] == 'cm' and (150 <= int(c_fields['hgt'][:-2]) <= 193)) or \\\n",
    "          (c_fields['hgt'][-2:] == 'in' and (59 <= int(c_fields['hgt'][:-2]) <= 76))\n",
    "    yield (len(c_fields['hcl']) == 7 and c_fields['hcl'][0] == '#' and all(i in \"0123456789abcdef\" for i in c_fields['hcl'][1:]))\n",
    "    yield c_fields['ecl'] in ['amb', 'blu', 'brn', 'gry', 'grn', 'hzl', 'oth']\n",
    "    yield len(c_fields['pid']) == 9 and all(i in \"0123456789\" for i in c_fields['pid'] )"
   ]
  },
  {
   "cell_type": "code",
   "execution_count": 94,
   "metadata": {},
   "outputs": [],
   "source": [
    "def count_valid_2(s):\n",
    "    candidates = s.split('\\n\\n')\n",
    "    candidates = [c.replace('\\n', ' ').split(' ') for c in candidates]\n",
    "    candidates = [{entry[:3]: entry[4:] for entry in c} for c in candidates]\n",
    "    return sum(all(conditions(fields)) for fields in candidates)"
   ]
  },
  {
   "cell_type": "code",
   "execution_count": 95,
   "metadata": {},
   "outputs": [
    {
     "data": {
      "text/plain": [
       "137"
      ]
     },
     "execution_count": 95,
     "metadata": {},
     "output_type": "execute_result"
    }
   ],
   "source": [
    "count_valid_2(s)"
   ]
  },
  {
   "cell_type": "code",
   "execution_count": null,
   "metadata": {},
   "outputs": [],
   "source": []
  },
  {
   "cell_type": "code",
   "execution_count": 18,
   "metadata": {},
   "outputs": [
    {
     "data": {
      "text/plain": [
       "2"
      ]
     },
     "execution_count": 18,
     "metadata": {},
     "output_type": "execute_result"
    }
   ],
   "source": [
    "count_valid(\"\"\"ecl:gry pid:860033327 eyr:2020 hcl:#fffffd\n",
    "byr:1937 iyr:2017 cid:147 hgt:183cm\n",
    "\n",
    "iyr:2013 ecl:amb cid:350 eyr:2023 pid:028048884\n",
    "hcl:#cfa07d byr:1929\n",
    "\n",
    "hcl:#ae17e1 iyr:2013\n",
    "eyr:2024\n",
    "ecl:brn pid:760753108 byr:1931\n",
    "hgt:179cm\n",
    "\n",
    "hcl:#cfa07d eyr:2025 pid:166559648\n",
    "iyr:2011 ecl:brn hgt:59in\"\"\")"
   ]
  },
  {
   "cell_type": "code",
   "execution_count": 10,
   "metadata": {},
   "outputs": [],
   "source": [
    "valid_fields = set([\n",
    "    'byr', # (Birth Year)\n",
    "    'iyr', # (Issue Year)\n",
    "    'eyr', # (Expiration Year)\n",
    "    'hgt', # (Height)\n",
    "    'hcl', # (Hair Color)\n",
    "    'ecl', # (Eye Color)\n",
    "    'pid', # (Passport ID)\n",
    "])"
   ]
  },
  {
   "cell_type": "code",
   "execution_count": 12,
   "metadata": {},
   "outputs": [],
   "source": []
  },
  {
   "cell_type": "code",
   "execution_count": null,
   "metadata": {},
   "outputs": [],
   "source": []
  },
  {
   "cell_type": "code",
   "execution_count": null,
   "metadata": {},
   "outputs": [],
   "source": []
  }
 ],
 "metadata": {
  "kernelspec": {
   "display_name": "Python 3",
   "language": "python",
   "name": "python3"
  },
  "language_info": {
   "codemirror_mode": {
    "name": "ipython",
    "version": 3
   },
   "file_extension": ".py",
   "mimetype": "text/x-python",
   "name": "python",
   "nbconvert_exporter": "python",
   "pygments_lexer": "ipython3",
   "version": "3.8.3"
  }
 },
 "nbformat": 4,
 "nbformat_minor": 4
}
