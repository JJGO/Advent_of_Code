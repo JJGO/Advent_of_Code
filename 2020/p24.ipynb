{
 "cells": [
  {
   "cell_type": "code",
   "execution_count": 109,
   "metadata": {},
   "outputs": [],
   "source": [
    "with open('24.txt', 'r') as f:\n",
    "    data = f.read()"
   ]
  },
  {
   "cell_type": "code",
   "execution_count": 101,
   "metadata": {},
   "outputs": [],
   "source": [
    "data = \"\"\"sesenwnenenewseeswwswswwnenewsewsw\n",
    "neeenesenwnwwswnenewnwwsewnenwseswesw\n",
    "seswneswswsenwwnwse\n",
    "nwnwneseeswswnenewneswwnewseswneseene\n",
    "swweswneswnenwsewnwneneseenw\n",
    "eesenwseswswnenwswnwnwsewwnwsene\n",
    "sewnenenenesenwsewnenwwwse\n",
    "wenwwweseeeweswwwnwwe\n",
    "wsweesenenewnwwnwsenewsenwwsesesenwne\n",
    "neeswseenwwswnwswswnw\n",
    "nenwswwsewswnenenewsenwsenwnesesenew\n",
    "enewnwewneswsewnwswenweswnenwsenwsw\n",
    "sweneswneswneneenwnewenewwneswswnese\n",
    "swwesenesewenwneswnwwneseswwne\n",
    "enesenwswwswneneswsenwnewswseenwsese\n",
    "wnwnesenesenenwwnenwsewesewsesesew\n",
    "nenewswnwewswnenesenwnesewesw\n",
    "eneswnwswnwsenenwnwnwwseeswneewsenese\n",
    "neswnwewnwnwseenwseesewsenwsweewe\n",
    "wseweeenwnesenwwwswnew\n",
    "\"\"\""
   ]
  },
  {
   "cell_type": "code",
   "execution_count": 7,
   "metadata": {},
   "outputs": [],
   "source": [
    "def parse(data):\n",
    "    coords = []\n",
    "    for line in data.strip().split('\\n'):\n",
    "        coord = []\n",
    "        i = 0\n",
    "        while i < len(line):\n",
    "            if line[i] in \"ns\":\n",
    "                coord.append(line[i:i+2])\n",
    "                i += 2\n",
    "            else:\n",
    "                coord.append(line[i])\n",
    "                i += 1\n",
    "        coords.append(coord)\n",
    "    return coords"
   ]
  },
  {
   "cell_type": "code",
   "execution_count": 20,
   "metadata": {},
   "outputs": [],
   "source": [
    "from collections import defaultdict"
   ]
  },
  {
   "cell_type": "code",
   "execution_count": 31,
   "metadata": {},
   "outputs": [],
   "source": [
    "def part1(cards):\n",
    "    base = {\n",
    "        'e': np.array([+1,-1,0]),\n",
    "        'ne': np.array([+1,0,-1]),\n",
    "        'nw': np.array([0,+1,-1])\n",
    "    }\n",
    "    base['w'] = -base['e']\n",
    "    base['se'] = -base['nw']\n",
    "    base['sw'] = -base['ne']\n",
    "    counts = defaultdict(int)\n",
    "    for cs in cards:\n",
    "        acc = np.array([0,0,0])\n",
    "        for c in cs:\n",
    "            acc += base[c]\n",
    "        counts[tuple(acc)] += 1\n",
    "    print(counts)\n",
    "    return sum(1 for count in counts.values() if count & 1 == 1)"
   ]
  },
  {
   "cell_type": "code",
   "execution_count": 32,
   "metadata": {},
   "outputs": [
    {
     "name": "stdout",
     "output_type": "stream",
     "text": [
      "defaultdict(<class 'int'>, {(-3, 1, 2): 1, (1, 2, -3): 2, (-3, 0, 3): 1, (2, 0, -2): 2, (1, 1, -2): 2, (-1, 1, 0): 2, (-2, 2, 0): 1, (0, 1, -1): 1, (-2, 1, 1): 1, (0, 2, -2): 2, (3, 0, -3): 1, (0, -2, 2): 1, (0, 0, 0): 1, (2, -2, 0): 1, (-1, 2, -1): 1})\n"
     ]
    },
    {
     "data": {
      "text/plain": [
       "10"
      ]
     },
     "execution_count": 32,
     "metadata": {},
     "output_type": "execute_result"
    }
   ],
   "source": [
    "part1(parse(data))"
   ]
  },
  {
   "cell_type": "code",
   "execution_count": 58,
   "metadata": {},
   "outputs": [],
   "source": [
    "from numba import njit, jit"
   ]
  },
  {
   "cell_type": "code",
   "execution_count": 61,
   "metadata": {},
   "outputs": [],
   "source": [
    "def conway(cards, steps):\n",
    "    base = {\n",
    "        'e': np.array([+1,-1,0]),\n",
    "        'ne': np.array([+1,0,-1]),\n",
    "        'nw': np.array([0,+1,-1])\n",
    "    }\n",
    "    base['w'] = -base['e']\n",
    "    base['se'] = -base['nw']\n",
    "    base['sw'] = -base['ne']\n",
    "    counts = defaultdict(int)\n",
    "    for cs in cards:\n",
    "        acc = np.array([0,0,0])\n",
    "        for c in cs:\n",
    "            acc += base[c]\n",
    "        counts[tuple(acc)] += 1\n",
    "    coords = np.array([np.array(cs) for cs, count in counts.items() if count & 1 ==1])\n",
    "    min_dim = coords.min(axis=0) - 2\n",
    "    max_dim = coords.max(axis=0) + 2\n",
    "    X, Y, _ = max_dim - min_dim\n",
    "    state = np.zeros((X,Y))\n",
    "    ox, oy, _ = min_dim\n",
    "    for x, y, _ in coords:\n",
    "        state[x-ox,y-oy] = True\n",
    "    ds = [(0,+1),(0,-1),(+1,0),(-1,0),(+1,-1),(-1,+1)]\n",
    "    for i in range(steps):\n",
    "        print(i, state.sum())\n",
    "        state = np.pad(state, [(1,1),(1,1)], mode='constant', constant_values=False)\n",
    "        new_state = state.copy()\n",
    "        X, Y = state.shape\n",
    "        for x in range(1,X-1):\n",
    "            for y in range(1,Y-1):\n",
    "                neighs = sum([state[x+dx,y+dy] for dx, dy in ds])\n",
    "                if state[x,y] and (neighs == 0 or neighs > 2):\n",
    "                    new_state[x,y] = False\n",
    "                elif (not state[x,y]) and neighs == 2:\n",
    "                    new_state[x,y] = True\n",
    "        state = new_state\n",
    "    return state.sum()"
   ]
  },
  {
   "cell_type": "code",
   "execution_count": 64,
   "metadata": {},
   "outputs": [
    {
     "data": {
      "text/plain": [
       "{1, 2, 3, 4, 5}"
      ]
     },
     "execution_count": 64,
     "metadata": {},
     "output_type": "execute_result"
    }
   ],
   "source": [
    "set([1,2,3]) | set([4,5])"
   ]
  },
  {
   "cell_type": "code",
   "execution_count": 112,
   "metadata": {},
   "outputs": [
    {
     "data": {
      "text/plain": [
       "4242"
      ]
     },
     "execution_count": 112,
     "metadata": {},
     "output_type": "execute_result"
    }
   ],
   "source": [
    "conway(parse(data), 100)"
   ]
  },
  {
   "cell_type": "code",
   "execution_count": 119,
   "metadata": {},
   "outputs": [],
   "source": [
    "def conway(cards, steps):\n",
    "    base = {\n",
    "        'e': 1-1j,\n",
    "        'ne': 1,\n",
    "        'nw': 1j\n",
    "    }\n",
    "    base['w'] = -base['e']\n",
    "    base['se'] = -base['nw']\n",
    "    base['sw'] = -base['ne']\n",
    "    counts = defaultdict(int)\n",
    "    for cs in cards:\n",
    "        acc = 0\n",
    "        for c in cs:\n",
    "            acc += base[c]\n",
    "        counts[acc] += 1\n",
    "    ds = [1,-1,1j,-1j,1-1j,-1+1j]\n",
    "    blacks = set(cs for cs, count in counts.items() if count & 1 == 1)\n",
    "    for i in range(steps):\n",
    "        new_blacks = set()\n",
    "        whites = defaultdict(int)\n",
    "        for x in blacks:\n",
    "            neighs = 0\n",
    "            for d in ds:\n",
    "                whites[x+d] += 1\n",
    "                neighs += (x+d) in blacks\n",
    "            if neighs == 1 or neighs == 2:\n",
    "                new_blacks.add(x)\n",
    "        new_blacks.update([w for w,c in whites.items() if c==2])\n",
    "        blacks = new_blacks\n",
    "        \n",
    "    return len(blacks)"
   ]
  },
  {
   "cell_type": "code",
   "execution_count": 120,
   "metadata": {},
   "outputs": [
    {
     "data": {
      "text/plain": [
       "4242"
      ]
     },
     "execution_count": 120,
     "metadata": {},
     "output_type": "execute_result"
    }
   ],
   "source": [
    "conway(parse(data), 100)"
   ]
  },
  {
   "cell_type": "code",
   "execution_count": null,
   "metadata": {},
   "outputs": [],
   "source": []
  }
 ],
 "metadata": {
  "kernelspec": {
   "display_name": "Python 3",
   "language": "python",
   "name": "python3"
  },
  "language_info": {
   "codemirror_mode": {
    "name": "ipython",
    "version": 3
   },
   "file_extension": ".py",
   "mimetype": "text/x-python",
   "name": "python",
   "nbconvert_exporter": "python",
   "pygments_lexer": "ipython3",
   "version": "3.8.3"
  }
 },
 "nbformat": 4,
 "nbformat_minor": 4
}
