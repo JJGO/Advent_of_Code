{
 "cells": [
  {
   "cell_type": "code",
   "execution_count": 42,
   "metadata": {},
   "outputs": [],
   "source": [
    "with open('12.txt', 'r') as f:\n",
    "    data = f.read()"
   ]
  },
  {
   "cell_type": "code",
   "execution_count": 3,
   "metadata": {},
   "outputs": [],
   "source": [
    "def parse(data):\n",
    "    lines = data.strip().split('\\n')\n",
    "    return [ (v[0], int(v[1:])) for v in lines]"
   ]
  },
  {
   "cell_type": "code",
   "execution_count": 33,
   "metadata": {},
   "outputs": [],
   "source": [
    "data = \"\"\"F10\n",
    "N3\n",
    "F7\n",
    "R90\n",
    "F11\n",
    "\"\"\""
   ]
  },
  {
   "cell_type": "code",
   "execution_count": 12,
   "metadata": {},
   "outputs": [],
   "source": [
    "from collections import Counter"
   ]
  },
  {
   "cell_type": "code",
   "execution_count": 13,
   "metadata": {},
   "outputs": [
    {
     "data": {
      "text/plain": [
       "Counter({('R', 90): 69,\n",
       "         ('L', 90): 63,\n",
       "         ('L', 180): 19,\n",
       "         ('R', 180): 26,\n",
       "         ('L', 270): 5,\n",
       "         ('R', 270): 7})"
      ]
     },
     "execution_count": 13,
     "metadata": {},
     "output_type": "execute_result"
    }
   ],
   "source": [
    "Counter(filter(lambda x: x[0] in \"LR\", parse(data)))"
   ]
  },
  {
   "cell_type": "code",
   "execution_count": 29,
   "metadata": {},
   "outputs": [],
   "source": [
    "def move(instructions):\n",
    "    pos = 0\n",
    "    direction = 1\n",
    "    cardinals = {'N':1j, 'S':-1j, 'E': 1, 'W': -1}\n",
    "    turns = {'L': 1j, 'R': -1j}\n",
    "    for a, n in instructions:\n",
    "        if a in \"NSWE\":\n",
    "            pos += cardinals[a] * n\n",
    "        elif a == 'F':\n",
    "            pos += direction * n\n",
    "        else:\n",
    "            direction *= turns[a]**(n//90)\n",
    "#         print(pos, direction)\n",
    "    return int(abs(pos.real) + abs(pos.imag))\n",
    "            "
   ]
  },
  {
   "cell_type": "code",
   "execution_count": 30,
   "metadata": {},
   "outputs": [
    {
     "data": {
      "text/plain": [
       "879"
      ]
     },
     "execution_count": 30,
     "metadata": {},
     "output_type": "execute_result"
    }
   ],
   "source": [
    "move(parse(data))"
   ]
  },
  {
   "cell_type": "code",
   "execution_count": 44,
   "metadata": {},
   "outputs": [],
   "source": [
    "def move_waypoint(instructions):\n",
    "    pos = 0\n",
    "    waypoint = 10+1j\n",
    "    cardinals = {'N':1j, 'S':-1j, 'E': 1, 'W': -1}\n",
    "    turns = {'L': 1j, 'R': -1j}\n",
    "    for a, n in instructions:\n",
    "        if a in \"NSWE\":\n",
    "            waypoint += cardinals[a] * n\n",
    "        elif a == 'F':\n",
    "            pos += waypoint * n\n",
    "        else:\n",
    "            waypoint *= turns[a]**(n//90)\n",
    "#         print(pos, waypoint)\n",
    "    return int(abs(pos.real) + abs(pos.imag))\n",
    "                "
   ]
  },
  {
   "cell_type": "code",
   "execution_count": 45,
   "metadata": {},
   "outputs": [
    {
     "data": {
      "text/plain": [
       "18107"
      ]
     },
     "execution_count": 45,
     "metadata": {},
     "output_type": "execute_result"
    }
   ],
   "source": [
    "move_waypoint(parse(data))"
   ]
  },
  {
   "cell_type": "code",
   "execution_count": null,
   "metadata": {},
   "outputs": [],
   "source": []
  }
 ],
 "metadata": {
  "kernelspec": {
   "display_name": "Python 3",
   "language": "python",
   "name": "python3"
  },
  "language_info": {
   "codemirror_mode": {
    "name": "ipython",
    "version": 3
   },
   "file_extension": ".py",
   "mimetype": "text/x-python",
   "name": "python",
   "nbconvert_exporter": "python",
   "pygments_lexer": "ipython3",
   "version": "3.8.3"
  }
 },
 "nbformat": 4,
 "nbformat_minor": 4
}
