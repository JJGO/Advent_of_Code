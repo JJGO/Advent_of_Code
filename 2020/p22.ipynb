{
 "cells": [
  {
   "cell_type": "code",
   "execution_count": 15,
   "metadata": {},
   "outputs": [],
   "source": []
  },
  {
   "cell_type": "code",
   "execution_count": 41,
   "metadata": {},
   "outputs": [],
   "source": [
    "def parse_player(data):\n",
    "    lines = data.split('\\n')\n",
    "    assert lines[0].startswith(\"Player \")\n",
    "    return tuple([int(l) for l in lines[1:]])\n",
    "    \n",
    "def parse(data):\n",
    "    p1, p2 = data.split('\\n\\n')\n",
    "    return (parse_player(p1), parse_player(p2))\n",
    "\n",
    "def score(deck):\n",
    "    return sum((i+1)*n for i, n in enumerate(reversed(deck)))\n",
    "    \n",
    "from collections import deque\n",
    "def run_game(decks):\n",
    "    d1, d2 = decks\n",
    "    d1 = deque(d1)\n",
    "    d2 = deque(d2)\n",
    "    while len(d1)*len(d2) > 0:\n",
    "        c1, c2 = d1.popleft(), d2.popleft()\n",
    "        if c1 > c2:\n",
    "            d1.append(c1)\n",
    "            d1.append(c2)\n",
    "        else:\n",
    "            d2.append(c2)\n",
    "            d2.append(c1)\n",
    "    return score(d1) if len(d1) > 0 else score(d2)"
   ]
  },
  {
   "cell_type": "code",
   "execution_count": 14,
   "metadata": {},
   "outputs": [
    {
     "data": {
      "text/plain": [
       "306"
      ]
     },
     "execution_count": 14,
     "metadata": {},
     "output_type": "execute_result"
    }
   ],
   "source": [
    "data = \"\"\"Player 1:\n",
    "9\n",
    "2\n",
    "6\n",
    "3\n",
    "1\n",
    "\n",
    "Player 2:\n",
    "5\n",
    "8\n",
    "4\n",
    "7\n",
    "10\"\"\"\n",
    "decks = parse(data)\n",
    "run_game(decks)"
   ]
  },
  {
   "cell_type": "code",
   "execution_count": 17,
   "metadata": {},
   "outputs": [
    {
     "data": {
      "text/plain": [
       "32489"
      ]
     },
     "execution_count": 17,
     "metadata": {},
     "output_type": "execute_result"
    }
   ],
   "source": [
    "with open('22.txt', 'r') as f:\n",
    "    data = f.read().strip()\n",
    "decks = parse(data)\n",
    "run_game(decks)"
   ]
  },
  {
   "cell_type": "code",
   "execution_count": 162,
   "metadata": {},
   "outputs": [],
   "source": [
    "def run_rec_game(decks):\n",
    "#     print(\"Starting game ===============================\")\n",
    "    memory = set()\n",
    "    d1, d2 = decks\n",
    "    d1 = deque(d1)\n",
    "    d2 = deque(d2)\n",
    "    while len(d1)*len(d2) > 0:\n",
    "        h = hash((tuple(d1),tuple(d2)))\n",
    "        if h in memory:\n",
    "            return 1, score(d1)\n",
    "        memory.add(h)\n",
    "        c1, c2 = d1.popleft(), d2.popleft()\n",
    "#         print(list(d1))\n",
    "#         print(list(d2))\n",
    "#         print()\n",
    "        if c1 <= len(d1) and c2 <= len(d2):\n",
    "            winner, _ = run_rec_game((tuple(d1)[:c1], tuple(d2)[:c2]))\n",
    "            if winner == 1:\n",
    "                d1.append(c1)\n",
    "                d1.append(c2)\n",
    "            else:\n",
    "                d2.append(c2)\n",
    "                d2.append(c1)\n",
    "        else:\n",
    "            if c1 > c2:\n",
    "                d1.append(c1)\n",
    "                d1.append(c2)\n",
    "            else:\n",
    "                d2.append(c2)\n",
    "                d2.append(c1)\n",
    "    if len(d1) > 0:\n",
    "        return 1, score(d1)\n",
    "    else:\n",
    "        return 2, score(d2)\n",
    "    "
   ]
  },
  {
   "cell_type": "code",
   "execution_count": 163,
   "metadata": {},
   "outputs": [],
   "source": [
    "winner_cache = {}\n",
    "\n",
    "def run_rec_game(decks):\n",
    "#     print(decks)\n",
    "    if decks in winner_cache:\n",
    "        return winner_cache[decks]\n",
    "#     print(\"Starting game ===============================\")\n",
    "    memory = set()\n",
    "    d1, d2 = decks\n",
    "    d1 = deque(d1)\n",
    "    d2 = deque(d2)\n",
    "    while len(d1)*len(d2) > 0:\n",
    "        h = hash(tuple(d1)+tuple(d2))\n",
    "        if h in memory:\n",
    "            winner = 1\n",
    "            sc = score(d1)\n",
    "            break\n",
    "        memory.add(h)\n",
    "        c1, c2 = d1.popleft(), d2.popleft()\n",
    "#         print(list(d1))\n",
    "#         print(list(d2))\n",
    "#         print()\n",
    "        if c1 <= len(d1) and c2 <= len(d2):\n",
    "            winner, _ = run_rec_game((tuple(d1)[:c1], tuple(d2)[:c2]))\n",
    "            if winner == 1:\n",
    "                d1.append(c1)\n",
    "                d1.append(c2)\n",
    "            else:\n",
    "                d2.append(c2)\n",
    "                d2.append(c1)\n",
    "        else:\n",
    "            if c1 > c2:\n",
    "                d1.append(c1)\n",
    "                d1.append(c2)\n",
    "            else:\n",
    "                d2.append(c2)\n",
    "                d2.append(c1)\n",
    "    if len(d1) > 0:\n",
    "        winner, sc = 1, score(d1)\n",
    "    else:\n",
    "        winner, sc = 2, score(d2)\n",
    "    \n",
    "    for x in memory:\n",
    "        winner_cache[x] = (winner, sc)\n",
    "    return winner, sc\n",
    "    "
   ]
  },
  {
   "cell_type": "code",
   "execution_count": null,
   "metadata": {},
   "outputs": [],
   "source": []
  },
  {
   "cell_type": "code",
   "execution_count": null,
   "metadata": {},
   "outputs": [],
   "source": []
  },
  {
   "cell_type": "code",
   "execution_count": 164,
   "metadata": {},
   "outputs": [
    {
     "data": {
      "text/plain": [
       "(2, 291)"
      ]
     },
     "execution_count": 164,
     "metadata": {},
     "output_type": "execute_result"
    }
   ],
   "source": [
    "data = \"\"\"Player 1:\n",
    "9\n",
    "2\n",
    "6\n",
    "3\n",
    "1\n",
    "\n",
    "Player 2:\n",
    "5\n",
    "8\n",
    "4\n",
    "7\n",
    "10\"\"\"\n",
    "decks = parse(data)\n",
    "run_rec_game(decks)"
   ]
  },
  {
   "cell_type": "code",
   "execution_count": 165,
   "metadata": {},
   "outputs": [
    {
     "data": {
      "text/plain": [
       "(1, 32473)"
      ]
     },
     "execution_count": 165,
     "metadata": {},
     "output_type": "execute_result"
    }
   ],
   "source": [
    "with open('22.txt', 'r') as f:\n",
    "    data = f.read().strip()\n",
    "decks = parse(data)\n",
    "run_rec_game(decks)"
   ]
  },
  {
   "cell_type": "code",
   "execution_count": null,
   "metadata": {},
   "outputs": [],
   "source": []
  }
 ],
 "metadata": {
  "kernelspec": {
   "display_name": "Python 3",
   "language": "python",
   "name": "python3"
  },
  "language_info": {
   "codemirror_mode": {
    "name": "ipython",
    "version": 3
   },
   "file_extension": ".py",
   "mimetype": "text/x-python",
   "name": "python",
   "nbconvert_exporter": "python",
   "pygments_lexer": "ipython3",
   "version": "3.8.3"
  }
 },
 "nbformat": 4,
 "nbformat_minor": 4
}
