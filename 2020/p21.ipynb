{
 "cells": [
  {
   "cell_type": "code",
   "execution_count": 104,
   "metadata": {},
   "outputs": [],
   "source": [
    "with open('21.txt', 'r') as f:\n",
    "    data = f.read()"
   ]
  },
  {
   "cell_type": "code",
   "execution_count": 101,
   "metadata": {},
   "outputs": [],
   "source": [
    "data = \"\"\"mxmxvkd kfcds sqjhc nhms (contains dairy, fish)\n",
    "trh fvjkl sbzzf mxmxvkd (contains dairy)\n",
    "sqjhc fvjkl (contains soy)\n",
    "sqjhc mxmxvkd sbzzf (contains fish)\n",
    "\"\"\""
   ]
  },
  {
   "cell_type": "code",
   "execution_count": 86,
   "metadata": {},
   "outputs": [],
   "source": [
    "def parse(data):\n",
    "    lines = data.strip().split('\\n')\n",
    "    products = [line.split(' (contains ') for line in lines]\n",
    "    products = [\n",
    "        (ingredients.split(' '), \n",
    "         allergens.strip(')').split(', '))\n",
    "        for ingredients, allergens in products\n",
    "    ]\n",
    "    return products"
   ]
  },
  {
   "cell_type": "code",
   "execution_count": 4,
   "metadata": {},
   "outputs": [
    {
     "data": {
      "text/plain": [
       "[(['mxmxvkd', 'kfcds', 'sqjhc', 'nhms'], ['dairy', 'fish']),\n",
       " (['trh', 'fvjkl', 'sbzzf', 'mxmxvkd'], ['dairy']),\n",
       " (['sqjhc', 'fvjkl'], ['soy']),\n",
       " (['sqjhc', 'mxmxvkd', 'sbzzf'], ['fish'])]"
      ]
     },
     "execution_count": 4,
     "metadata": {},
     "output_type": "execute_result"
    }
   ],
   "source": [
    "parse(data)"
   ]
  },
  {
   "cell_type": "markdown",
   "metadata": {},
   "source": [
    "* Each allergen is found in exactly one ingredient\n",
    "* Each ingredient contains zero or one allergen (Allergens aren't always marked)"
   ]
  },
  {
   "cell_type": "code",
   "execution_count": 89,
   "metadata": {},
   "outputs": [],
   "source": [
    "from collections import Counter"
   ]
  },
  {
   "cell_type": "code",
   "execution_count": 95,
   "metadata": {},
   "outputs": [],
   "source": [
    "def non_allergens(products):\n",
    "    candidates = {}\n",
    "    all_ingredients = set()\n",
    "    times = Counter()\n",
    "    for ingredients, allergens in products:\n",
    "        all_ingredients.update(ingredients)\n",
    "        times.update(ingredients)\n",
    "        for allergen in allergens:\n",
    "#             print('>', allergen)\n",
    "            if allergen not in candidates:\n",
    "                candidates[allergen] = set(ingredients)\n",
    "            else:\n",
    "                candidates[allergen] &= set(ingredients)\n",
    "\n",
    "    stack = [allergen for allergen in candidates if len(candidates[allergen]) == 1]\n",
    "    undecided = set(a for a in candidates if a not in stack)\n",
    "    while len(stack) > 0:\n",
    "        allergen = stack.pop()\n",
    "        assert len(candidates[allergen]) == 1\n",
    "        ingredient = list(candidates[allergen])[0]\n",
    "        print(ingredient)\n",
    "        decided = []\n",
    "        for a in undecided:\n",
    "            if ingredient in candidates[a]:\n",
    "                candidates[a].remove(ingredient)\n",
    "                if len(candidates[a]) == 1:\n",
    "                    stack.append(a)\n",
    "                    decided.append(a)\n",
    "        for a in decided:\n",
    "            undecided.remove(a)\n",
    "    print(candidates)\n",
    "    print(len(all_ingredients))\n",
    "    ingrediente_candidates = reduce(operator.or_, candidates.values())\n",
    "    return sum(times[ingredient] for ingredient in all_ingredients if ingredient not in ingrediente_candidates)"
   ]
  },
  {
   "cell_type": "code",
   "execution_count": 98,
   "metadata": {},
   "outputs": [
    {
     "name": "stdout",
     "output_type": "stream",
     "text": [
      "txdmlzd\n",
      "mptbpz\n",
      "vlblq\n",
      "xbnmzr\n",
      "glf\n",
      "mtnh\n",
      "cxsvdm\n",
      "rsbxb\n",
      "{'soy': {'mtnh'}, 'fish': {'rsbxb'}, 'eggs': {'glf'}, 'wheat': {'mptbpz'}, 'dairy': {'cxsvdm'}, 'peanuts': {'txdmlzd'}, 'sesame': {'vlblq'}, 'nuts': {'xbnmzr'}}\n",
      "200\n"
     ]
    },
    {
     "data": {
      "text/plain": [
       "'cxsvdm,glf,rsbxb,xbnmzr,txdmlzd,vlblq,mtnh,mptbpz'"
      ]
     },
     "execution_count": 98,
     "metadata": {},
     "output_type": "execute_result"
    }
   ],
   "source": [
    "non_allergens(parse(data))"
   ]
  },
  {
   "cell_type": "code",
   "execution_count": 105,
   "metadata": {},
   "outputs": [],
   "source": [
    "def dangerous(products):\n",
    "    candidates = {}\n",
    "    all_ingredients = set()\n",
    "    times = Counter()\n",
    "    for ingredients, allergens in products:\n",
    "        all_ingredients.update(ingredients)\n",
    "        times.update(ingredients)\n",
    "        for allergen in allergens:\n",
    "#             print('>', allergen)\n",
    "            if allergen not in candidates:\n",
    "                candidates[allergen] = set(ingredients)\n",
    "            else:\n",
    "                candidates[allergen] &= set(ingredients)\n",
    "\n",
    "    stack = [allergen for allergen in candidates if len(candidates[allergen]) == 1]\n",
    "    undecided = set(a for a in candidates if a not in stack)\n",
    "    while len(stack) > 0:\n",
    "        allergen = stack.pop()\n",
    "        assert len(candidates[allergen]) == 1\n",
    "        ingredient = list(candidates[allergen])[0]\n",
    "        print(ingredient)\n",
    "        decided = []\n",
    "        for a in undecided:\n",
    "            if ingredient in candidates[a]:\n",
    "                candidates[a].remove(ingredient)\n",
    "                if len(candidates[a]) == 1:\n",
    "                    stack.append(a)\n",
    "                    decided.append(a)\n",
    "        for a in decided:\n",
    "            undecided.remove(a)\n",
    "    print(candidates)\n",
    "    print(len(all_ingredients))\n",
    "    return \",\".join(list(candidates[i])[0] for i in sorted(candidates))"
   ]
  },
  {
   "cell_type": "code",
   "execution_count": 106,
   "metadata": {},
   "outputs": [
    {
     "name": "stdout",
     "output_type": "stream",
     "text": [
      "txdmlzd\n",
      "mptbpz\n",
      "vlblq\n",
      "xbnmzr\n",
      "glf\n",
      "mtnh\n",
      "cxsvdm\n",
      "rsbxb\n",
      "{'soy': {'mtnh'}, 'fish': {'rsbxb'}, 'eggs': {'glf'}, 'wheat': {'mptbpz'}, 'dairy': {'cxsvdm'}, 'peanuts': {'txdmlzd'}, 'sesame': {'vlblq'}, 'nuts': {'xbnmzr'}}\n",
      "200\n"
     ]
    },
    {
     "data": {
      "text/plain": [
       "'cxsvdm,glf,rsbxb,xbnmzr,txdmlzd,vlblq,mtnh,mptbpz'"
      ]
     },
     "execution_count": 106,
     "metadata": {},
     "output_type": "execute_result"
    }
   ],
   "source": [
    "dangerous(parse(data))"
   ]
  },
  {
   "cell_type": "code",
   "execution_count": null,
   "metadata": {},
   "outputs": [],
   "source": []
  }
 ],
 "metadata": {
  "kernelspec": {
   "display_name": "Python 3",
   "language": "python",
   "name": "python3"
  },
  "language_info": {
   "codemirror_mode": {
    "name": "ipython",
    "version": 3
   },
   "file_extension": ".py",
   "mimetype": "text/x-python",
   "name": "python",
   "nbconvert_exporter": "python",
   "pygments_lexer": "ipython3",
   "version": "3.8.3"
  }
 },
 "nbformat": 4,
 "nbformat_minor": 4
}
