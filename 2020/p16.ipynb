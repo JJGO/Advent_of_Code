{
 "cells": [
  {
   "cell_type": "code",
   "execution_count": 86,
   "metadata": {},
   "outputs": [],
   "source": [
    "with open('16.txt', 'r') as f:\n",
    "    data = f.read()"
   ]
  },
  {
   "cell_type": "code",
   "execution_count": 79,
   "metadata": {},
   "outputs": [],
   "source": [
    "data = \"\"\"class: 1-3 or 5-7\n",
    "row: 6-11 or 33-44\n",
    "seat: 13-40 or 45-50\n",
    "\n",
    "your ticket:\n",
    "7,1,14\n",
    "\n",
    "nearby tickets:\n",
    "7,3,47\n",
    "40,4,50\n",
    "55,2,20\n",
    "38,6,12\"\"\""
   ]
  },
  {
   "cell_type": "code",
   "execution_count": 27,
   "metadata": {},
   "outputs": [],
   "source": [
    "def parse(data):\n",
    "    fields, mine, nearby = data.strip().split('\\n\\n')\n",
    "    ranges = {}\n",
    "    for field in fields.split('\\n'):\n",
    "        i = field.index(':')\n",
    "        name = field[:i]\n",
    "        rs = [parts.split('-') for parts in field[i+2:].split(' or ')]\n",
    "        ranges[name] = [int(i) for r in rs for i in r]\n",
    "    mine = [int(i) for i in mine.split('\\n')[1].split(',')]\n",
    "    \n",
    "    nearby = nearby.split('\\n')[1:]\n",
    "    nearby = [[int(i) for i in n.split(',')] for n in nearby]\n",
    "    \n",
    "    return ranges, mine, nearby\n",
    "    "
   ]
  },
  {
   "cell_type": "code",
   "execution_count": 28,
   "metadata": {},
   "outputs": [
    {
     "data": {
      "text/plain": [
       "({'class': [1, 3, 5, 7], 'row': [6, 11, 33, 44], 'seat': [13, 40, 45, 50]},\n",
       " [7, 1, 14],\n",
       " [[7, 3, 47], [40, 4, 50], [55, 2, 20], [38, 6, 12]])"
      ]
     },
     "execution_count": 28,
     "metadata": {},
     "output_type": "execute_result"
    }
   ],
   "source": [
    "parse(data)"
   ]
  },
  {
   "cell_type": "code",
   "execution_count": 29,
   "metadata": {},
   "outputs": [],
   "source": [
    "def find_invalid(ranges, mine, nearby):\n",
    "    error_rate = 0\n",
    "    for ticket in nearby:\n",
    "        for entry in ticket:\n",
    "            for from1, to1, from2, to2 in ranges.values():\n",
    "                if (from1 <= entry <= to1) or (from2 <= entry <= to2):\n",
    "                    break\n",
    "            else:\n",
    "                error_rate += entry\n",
    "    return error_rate\n",
    "    \n",
    "#     def _valid(vals, x):\n",
    "#         from1,to1,from2,to2 = vals\n",
    "#         return (from1 <= x <= to1) or (from2 <= x <= to2)"
   ]
  },
  {
   "cell_type": "code",
   "execution_count": 32,
   "metadata": {},
   "outputs": [
    {
     "data": {
      "text/plain": [
       "23122"
      ]
     },
     "execution_count": 32,
     "metadata": {},
     "output_type": "execute_result"
    }
   ],
   "source": [
    "find_invalid(*parse(data))"
   ]
  },
  {
   "cell_type": "code",
   "execution_count": 34,
   "metadata": {},
   "outputs": [
    {
     "ename": "ValueError",
     "evalue": "The truth value of an array with more than one element is ambiguous. Use a.any() or a.all()",
     "output_type": "error",
     "traceback": [
      "\u001b[0;31m---------------------------------------------------------------------------\u001b[0m",
      "\u001b[0;31mValueError\u001b[0m                                Traceback (most recent call last)",
      "\u001b[0;32m<ipython-input-34-332f9178ced1>\u001b[0m in \u001b[0;36m<module>\u001b[0;34m\u001b[0m\n\u001b[0;32m----> 1\u001b[0;31m \u001b[0;36m1\u001b[0m \u001b[0;34m<\u001b[0m \u001b[0mnp\u001b[0m\u001b[0;34m.\u001b[0m\u001b[0marray\u001b[0m\u001b[0;34m(\u001b[0m\u001b[0;34m[\u001b[0m\u001b[0;36m1\u001b[0m\u001b[0;34m,\u001b[0m\u001b[0;36m2\u001b[0m\u001b[0;34m,\u001b[0m\u001b[0;36m3\u001b[0m\u001b[0;34m]\u001b[0m\u001b[0;34m)\u001b[0m \u001b[0;34m<\u001b[0m \u001b[0;36m3\u001b[0m\u001b[0;34m\u001b[0m\u001b[0;34m\u001b[0m\u001b[0m\n\u001b[0m",
      "\u001b[0;31mValueError\u001b[0m: The truth value of an array with more than one element is ambiguous. Use a.any() or a.all()"
     ]
    }
   ],
   "source": [
    "1 < np.array([1,2,3]) < 3"
   ]
  },
  {
   "cell_type": "code",
   "execution_count": 87,
   "metadata": {},
   "outputs": [],
   "source": [
    "def find_permutation(ranges, mine, nearby):\n",
    "    # Filter invalid\n",
    "    invalid = set()\n",
    "    for i, ticket in enumerate(nearby):\n",
    "        for entry in ticket:\n",
    "            for from1, to1, from2, to2 in ranges.values():\n",
    "                if (from1 <= entry <= to1) or (from2 <= entry <= to2):\n",
    "                    break\n",
    "            else:\n",
    "                invalid.add(i)\n",
    "    nearby = [ticket for i, ticket in enumerate(nearby) if i not in invalid]\n",
    "    nearby = np.array(nearby)\n",
    "    N = len(ranges)\n",
    "    M = len(mine)\n",
    "    field_matches_column = np.zeros((N,M),dtype=bool)\n",
    "    fields = [field for field in ranges]\n",
    "    \n",
    "    for i, field in enumerate(fields):\n",
    "        for j in range(M):\n",
    "            from1, to1, from2, to2 = ranges[field]\n",
    "            valid = np.all(np.logical_or(\n",
    "                np.logical_and(from1 <= nearby[:,j], nearby[:,j] <= to1),\n",
    "                np.logical_and(from2 <= nearby[:,j], nearby[:,j] <= to2),\n",
    "            ))\n",
    "            field_matches_column[i,j] = valid\n",
    "    \n",
    "    mapping = {}\n",
    "    for _ in range(N):\n",
    "        possibilities = field_matches_column.sum(axis=1)\n",
    "        i = list(possibilities).index(1)\n",
    "        j = list(field_matches_column[i,:]).index(True)\n",
    "        field_matches_column[:,j] = False\n",
    "        mapping[fields[i]] = j\n",
    "    print(mapping)\n",
    "    return np.prod([mine[mapping[f]] for f in fields if f.startswith('departure')])\n",
    "#     print(np.argwhere(possibilites==1)[0][0])\n",
    "           "
   ]
  },
  {
   "cell_type": "code",
   "execution_count": 111,
   "metadata": {},
   "outputs": [],
   "source": [
    "def find_permutation(ranges, mine, nearby):\n",
    "    # Filter invalid\n",
    "    invalid = set()\n",
    "    for i, ticket in enumerate(nearby):\n",
    "        for entry in ticket:\n",
    "            for from1, to1, from2, to2 in ranges.values():\n",
    "                if (from1 <= entry <= to1) or (from2 <= entry <= to2):\n",
    "                    break\n",
    "            else:\n",
    "                invalid.add(i)\n",
    "    nearby = [ticket for i, ticket in enumerate(nearby) if i not in invalid]\n",
    "    nearby = np.array(nearby)\n",
    "    N = len(ranges)\n",
    "    M = len(mine)\n",
    "    field_matches_column = np.zeros((N,M),dtype=bool)\n",
    "    fields = [field for field in ranges]\n",
    "    \n",
    "    for i, field in enumerate(fields):\n",
    "        for j in range(M):\n",
    "            from1, to1, from2, to2 = ranges[field]\n",
    "            valid = np.all(np.logical_or(\n",
    "                np.logical_and(from1 <= nearby[:,j], nearby[:,j] <= to1),\n",
    "                np.logical_and(from2 <= nearby[:,j], nearby[:,j] <= to2),\n",
    "            ))\n",
    "            field_matches_column[i,j] = valid\n",
    "    \n",
    "    mapping = {}\n",
    "    for _ in range(N):\n",
    "        possibilities = field_matches_column.sum(axis=1)\n",
    "        i = list(possibilities).index(1)\n",
    "        j = list(field_matches_column[i,:]).index(True)\n",
    "        field_matches_column[:,j] = False\n",
    "        mapping[fields[i]] = j\n",
    "    print(mapping)\n",
    "    return np.prod([mine[mapping[f]] for f in fields if f.startswith('departure')])\n",
    "#     print(np.argwhere(possibilites==1)[0][0])\n",
    "           "
   ]
  },
  {
   "cell_type": "code",
   "execution_count": 112,
   "metadata": {},
   "outputs": [],
   "source": [
    "def find_permutation(ranges, mine, nearby):\n",
    "    # Filter invalid\n",
    "    invalid = set()\n",
    "    for i, ticket in enumerate(nearby):\n",
    "        for entry in ticket:\n",
    "            for from1, to1, from2, to2 in ranges.values():\n",
    "                if (from1 <= entry <= to1) or (from2 <= entry <= to2):\n",
    "                    break\n",
    "            else:\n",
    "                invalid.add(i)\n",
    "    nearby = [ticket for i, ticket in enumerate(nearby) if i not in invalid]\n",
    "    nearby = np.array(nearby)\n",
    "    N = len(ranges)\n",
    "    M = len(mine)\n",
    "    field_matches_column = np.zeros((N,M),dtype=bool)\n",
    "    fields = [field for field in ranges]\n",
    "    \n",
    "    for i, field in enumerate(fields):\n",
    "        for j in range(M):\n",
    "            from1, to1, from2, to2 = ranges[field]\n",
    "            valid = np.all(np.logical_or(\n",
    "                np.logical_and(from1 <= nearby[:,j], nearby[:,j] <= to1),\n",
    "                np.logical_and(from2 <= nearby[:,j], nearby[:,j] <= to2),\n",
    "            ))\n",
    "            field_matches_column[i,j] = valid\n",
    "    \n",
    "    mapping = {}\n",
    "#     plt.imshow(field_matches_column.astype(int));plt.show()\n",
    "    field_order = np.argsort(field_matches_column.sum(axis=1))\n",
    "    field_matches_column = field_matches_column[field_order,:]\n",
    "#     plt.imshow(field_matches_column.astype(int));plt.show()\n",
    "    column_order = np.argsort(field_matches_column.sum(axis=0))\n",
    "    field_matches_column = field_matches_column[:,column_order]\n",
    "#     plt.imshow(field_matches_column.astype(int));plt.show()\n",
    "    print(field_order)\n",
    "    print(column_order)\n",
    "    mapping = {fields[i]:j for i,j in zip(field_order, reversed(column_order))}\n",
    "    print(mapping)\n",
    "    return np.prod([mine[mapping[f]] for f in fields if f.startswith('departure')])\n",
    "#     print(np.argwhere(possibilites==1)[0][0])\n",
    "           "
   ]
  },
  {
   "cell_type": "code",
   "execution_count": 113,
   "metadata": {},
   "outputs": [
    {
     "name": "stdout",
     "output_type": "stream",
     "text": [
      "[15 19 13 16 18  3  2  1  5  4  0  7 12  8  6 17 10 11 14  9]\n",
      "[13  8 18  5  0 15 10 16  3  1 14  6 19  2  4 12  7 17  9 11]\n",
      "{'seat': 11, 'zone': 9, 'route': 17, 'train': 7, 'wagon': 12, 'departure track': 4, 'departure platform': 2, 'departure station': 19, 'departure time': 6, 'departure date': 14, 'departure location': 1, 'arrival station': 3, 'price': 16, 'arrival platform': 10, 'arrival location': 15, 'type': 0, 'class': 5, 'duration': 18, 'row': 8, 'arrival track': 13}\n"
     ]
    },
    {
     "data": {
      "text/plain": [
       "362974212989"
      ]
     },
     "execution_count": 113,
     "metadata": {},
     "output_type": "execute_result"
    }
   ],
   "source": [
    "find_permutation(*parse(data))"
   ]
  },
  {
   "cell_type": "code",
   "execution_count": 64,
   "metadata": {},
   "outputs": [
    {
     "data": {
      "text/plain": [
       "[1, 2, 3, 4, 5, 6, 7, 8, 9, 10, 11, 12, 13, 14, 15, 16, 17, 18, 19, 20]"
      ]
     },
     "execution_count": 64,
     "metadata": {},
     "output_type": "execute_result"
    }
   ],
   "source": [
    "sorted([11, 8, 7, 6, 10, 9, 15, 12, 14, 20, 17, 18, 13, 3, 19, 1, 4, 16, 5, 2])"
   ]
  },
  {
   "cell_type": "code",
   "execution_count": 65,
   "metadata": {},
   "outputs": [
    {
     "data": {
      "text/plain": [
       "8"
      ]
     },
     "execution_count": 65,
     "metadata": {},
     "output_type": "execute_result"
    }
   ],
   "source": [
    "[11, 8, 7, 6, 10, 9, 15, 12, 14, 20, 17, 18, 13, 3, 19, 1, 4, 16, 5, 2][1]"
   ]
  },
  {
   "cell_type": "code",
   "execution_count": null,
   "metadata": {},
   "outputs": [],
   "source": []
  }
 ],
 "metadata": {
  "kernelspec": {
   "display_name": "Python 3",
   "language": "python",
   "name": "python3"
  },
  "language_info": {
   "codemirror_mode": {
    "name": "ipython",
    "version": 3
   },
   "file_extension": ".py",
   "mimetype": "text/x-python",
   "name": "python",
   "nbconvert_exporter": "python",
   "pygments_lexer": "ipython3",
   "version": "3.8.3"
  }
 },
 "nbformat": 4,
 "nbformat_minor": 4
}
