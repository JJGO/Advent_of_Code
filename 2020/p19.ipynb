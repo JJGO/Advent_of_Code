{
 "cells": [
  {
   "cell_type": "code",
   "execution_count": 185,
   "metadata": {},
   "outputs": [],
   "source": [
    "with open('19.txt', 'r') as f:\n",
    "    data = f.read()"
   ]
  },
  {
   "cell_type": "code",
   "execution_count": 28,
   "metadata": {},
   "outputs": [],
   "source": [
    "def parse(data):\n",
    "    rules, msgs = data.strip().split('\\n\\n')\n",
    "    msgs = msgs.split('\\n')\n",
    "    rules = [r.split(\": \") for r in rules.split('\\n')]\n",
    "    rules = {a:b for a,b in rules}\n",
    "    return rules, msgs"
   ]
  },
  {
   "cell_type": "code",
   "execution_count": 29,
   "metadata": {},
   "outputs": [],
   "source": [
    "data = \"\"\"0: 4 1 5\n",
    "1: 2 3 | 3 2\n",
    "2: 4 4 | 5 5\n",
    "3: 4 5 | 5 4\n",
    "4: \"a\"\n",
    "5: \"b\"\n",
    "\n",
    "ababbb\n",
    "bababa\n",
    "abbbab\n",
    "aaabbb\n",
    "aaaabbb\"\"\""
   ]
  },
  {
   "cell_type": "code",
   "execution_count": 30,
   "metadata": {},
   "outputs": [
    {
     "data": {
      "text/plain": [
       "({'0': '4 1 5',\n",
       "  '1': '2 3 | 3 2',\n",
       "  '2': '4 4 | 5 5',\n",
       "  '3': '4 5 | 5 4',\n",
       "  '4': '\"a\"',\n",
       "  '5': '\"b\"'},\n",
       " ['ababbb', 'bababa', 'abbbab', 'aaabbb', 'aaaabbb'])"
      ]
     },
     "execution_count": 30,
     "metadata": {},
     "output_type": "execute_result"
    }
   ],
   "source": [
    "parse(data)"
   ]
  },
  {
   "cell_type": "code",
   "execution_count": 31,
   "metadata": {},
   "outputs": [],
   "source": [
    "import re"
   ]
  },
  {
   "cell_type": "code",
   "execution_count": 40,
   "metadata": {},
   "outputs": [],
   "source": [
    "def match_rules(rules, msgs):\n",
    "    regex = {}\n",
    "    def expand_rule(i):\n",
    "        if i not in regex:\n",
    "            r = rules[i]\n",
    "            if '\"' in r:\n",
    "                r = r.strip('\"')\n",
    "            else:\n",
    "                options = r.split(' | ')\n",
    "                options = [\"\".join(expand_rule(j) for j in op.split(' ')) for op in options]\n",
    "                if len(options) == 2:\n",
    "                    r = f\"({options[0]}|{options[1]})\"\n",
    "                else:\n",
    "                    r = options[0]\n",
    "            regex[i] = r\n",
    "        return regex[i]\n",
    "    pattern = re.compile(f\"^{expand_rule('0')}$\")\n",
    "    print(pattern)\n",
    "    return sum(bool(pattern.match(m)) for m in msgs)"
   ]
  },
  {
   "cell_type": "code",
   "execution_count": 43,
   "metadata": {},
   "outputs": [
    {
     "name": "stdout",
     "output_type": "stream",
     "text": [
      "re.compile('^(b((a(a(b(a(ba|bb)|b(ba|ab))|a((aa|bb)a|aab))|b(a(aa|ba)(b|a)|b(a(bb|a(b|a))|baa)))|b(a(a(b(ba|bb)|a(aa|ba))|b(aab|aba))|b(b(b(aa|ba)|a(ba|a(b|a)))|a(ab|bb)a)))b|((b((abb|(ba|ab)a)a|((ba|(b|a)b)b|(b)\n"
     ]
    },
    {
     "data": {
      "text/plain": [
       "126"
      ]
     },
     "execution_count": 43,
     "metadata": {},
     "output_type": "execute_result"
    }
   ],
   "source": [
    "match_rules(*parse(data))"
   ]
  },
  {
   "cell_type": "code",
   "execution_count": 175,
   "metadata": {},
   "outputs": [],
   "source": [
    "data = \"\"\"42: 9 14 | 10 1\n",
    "9: 14 27 | 1 26\n",
    "10: 23 14 | 28 1\n",
    "1: \"a\"\n",
    "11: 42 31\n",
    "5: 1 14 | 15 1\n",
    "19: 14 1 | 14 14\n",
    "12: 24 14 | 19 1\n",
    "16: 15 1 | 14 14\n",
    "31: 14 17 | 1 13\n",
    "6: 14 14 | 1 14\n",
    "2: 1 24 | 14 4\n",
    "0: 8 11\n",
    "13: 14 3 | 1 12\n",
    "15: 1 | 14\n",
    "17: 14 2 | 1 7\n",
    "23: 25 1 | 22 14\n",
    "28: 16 1\n",
    "4: 1 1\n",
    "20: 14 14 | 1 15\n",
    "3: 5 14 | 16 1\n",
    "27: 1 6 | 14 18\n",
    "14: \"b\"\n",
    "21: 14 1 | 1 14\n",
    "25: 1 1 | 1 14\n",
    "22: 14 14\n",
    "8: 42\n",
    "26: 14 22 | 1 20\n",
    "18: 15 15\n",
    "7: 14 5 | 1 21\n",
    "24: 14 1\n",
    "\n",
    "abbbbbabbbaaaababbaabbbbabababbbabbbbbbabaaaa\n",
    "bbabbbbaabaabba\n",
    "babbbbaabbbbbabbbbbbaabaaabaaa\n",
    "aaabbbbbbaaaabaababaabababbabaaabbababababaaa\n",
    "bbbbbbbaaaabbbbaaabbabaaa\n",
    "bbbababbbbaaaaaaaabbababaaababaabab\n",
    "ababaaaaaabaaab\n",
    "ababaaaaabbbaba\n",
    "baabbaaaabbaaaababbaababb\n",
    "abbbbabbbbaaaababbbbbbaaaababb\n",
    "aaaaabbaabaaaaababaa\n",
    "aaaabbaaaabbaaa\n",
    "aaaabbaabbaaaaaaabbbabbbaaabbaabaaa\n",
    "babaaabbbaaabaababbaabababaaab\n",
    "aabbbbbaabbbaaaaaabbbbbababaaaaabbaaabba\"\"\""
   ]
  },
  {
   "cell_type": "code",
   "execution_count": null,
   "metadata": {},
   "outputs": [],
   "source": []
  },
  {
   "cell_type": "code",
   "execution_count": 186,
   "metadata": {},
   "outputs": [],
   "source": [
    "def match_rules(rules, msgs, max_depth):\n",
    "    regex = {}\n",
    "    def expand_rule(i):\n",
    "        if i not in regex:\n",
    "            r = rules[i]\n",
    "            if '\"' in r:\n",
    "                r = r.strip('\"')\n",
    "            else:\n",
    "                options = r.split(' | ')\n",
    "                options = [\"\".join(expand_rule(j) for j in op.split(' ')) for op in options]\n",
    "                if len(options) == 2:\n",
    "                    r = f\"({options[0]}|{options[1]})\"\n",
    "                else:\n",
    "                    r = options[0]\n",
    "            regex[i] = r\n",
    "        return regex[i]\n",
    "    expand_rule('0')\n",
    "    regex['0'] = f\"({regex['42']})+({regex['31']})+\"        \n",
    "    pattern = re.compile(f\"^{regex['0']}$\")\n",
    "    candidates = [m for m in msgs if pattern.match(m)]\n",
    "    total = 0\n",
    "    for d in range(1, max_depth+1):\n",
    "        if len(candidates) == 0:\n",
    "            break\n",
    "\n",
    "        regex['0'] = f\"({regex['42']})+\" # 8 part\n",
    "        regex['0'] += f\"({regex['42']}){{{d}}}({regex['31']}){{{d}}}\" # 11 part\n",
    "        pattern = re.compile(f\"^{regex['0']}$\")\n",
    "        unmatched = []\n",
    "        for c in candidates:\n",
    "            if pattern.match(c):\n",
    "                total += 1\n",
    "            else:\n",
    "                unmatched.append(c)\n",
    "        candidates = unmatched\n",
    "        \n",
    "    return total\n",
    "#     print(pattern)\n",
    "#     return sum(bool(pattern.match(m)) for m in msgs)"
   ]
  },
  {
   "cell_type": "code",
   "execution_count": 187,
   "metadata": {},
   "outputs": [
    {
     "data": {
      "text/plain": [
       "282"
      ]
     },
     "execution_count": 187,
     "metadata": {},
     "output_type": "execute_result"
    }
   ],
   "source": [
    "match_rules(*parse(data), 10)"
   ]
  },
  {
   "cell_type": "code",
   "execution_count": 54,
   "metadata": {},
   "outputs": [],
   "source": []
  },
  {
   "cell_type": "markdown",
   "metadata": {},
   "source": [
    "# CFG solution using pyformlang"
   ]
  },
  {
   "cell_type": "code",
   "execution_count": 123,
   "metadata": {},
   "outputs": [],
   "source": [
    "from pyformlang.cfg import Production, Variable, Terminal, CFG\n",
    "def build_cfg(rules):\n",
    "    variables = {v: Variable(v) for v in rules}\n",
    "    terminals = {t: Terminal(t) for t in [x.strip('\"') for x in rules.values() if '\"' in x]}\n",
    "    productions = []\n",
    "    for v, rule in rules.items():\n",
    "        if '\"' in rule:\n",
    "            p = Production(variables[v], [terminals[rule.strip('\"')]])\n",
    "            productions.append(p)\n",
    "        else:\n",
    "            for part in rule.split(' | '):\n",
    "                body = [variables[v] for v in part.split(' ')] \n",
    "                p = Production(variables[v], body)\n",
    "                productions.append(p)\n",
    "    cfg = CFG(\n",
    "        list(variables.values()),\n",
    "        list(terminals.values()),\n",
    "        variables['0'],\n",
    "        productions\n",
    "    )\n",
    "    return cfg, terminals\n",
    "    "
   ]
  },
  {
   "cell_type": "code",
   "execution_count": 109,
   "metadata": {},
   "outputs": [],
   "source": [
    "def match_rules(rules, msgs):\n",
    "    cfg, terminals = build_cfg(rules)\n",
    "    return sum(cfg.contains([terminals[c] for c in msg]) for msg in msgs)"
   ]
  },
  {
   "cell_type": "code",
   "execution_count": null,
   "metadata": {},
   "outputs": [],
   "source": []
  },
  {
   "cell_type": "code",
   "execution_count": 110,
   "metadata": {},
   "outputs": [
    {
     "data": {
      "text/plain": [
       "[Terminal(b),\n",
       " Terminal(b),\n",
       " Terminal(a),\n",
       " Terminal(b),\n",
       " Terminal(b),\n",
       " Terminal(b),\n",
       " Terminal(b),\n",
       " Terminal(a),\n",
       " Terminal(a),\n",
       " Terminal(b),\n",
       " Terminal(a),\n",
       " Terminal(a),\n",
       " Terminal(b),\n",
       " Terminal(b),\n",
       " Terminal(a)]"
      ]
     },
     "execution_count": 110,
     "metadata": {},
     "output_type": "execute_result"
    }
   ],
   "source": [
    "[a if x == 'a' else b for x in \"bbabbbbaabaabba\"]"
   ]
  },
  {
   "cell_type": "code",
   "execution_count": 111,
   "metadata": {},
   "outputs": [
    {
     "data": {
      "text/plain": [
       "False"
      ]
     },
     "execution_count": 111,
     "metadata": {},
     "output_type": "execute_result"
    }
   ],
   "source": [
    "cfg.contains([a if x == 'a' else b for x in \"ababaaaaaabaaab\"])"
   ]
  },
  {
   "cell_type": "code",
   "execution_count": 113,
   "metadata": {},
   "outputs": [
    {
     "data": {
      "text/plain": [
       "3"
      ]
     },
     "execution_count": 113,
     "metadata": {},
     "output_type": "execute_result"
    }
   ],
   "source": [
    "match_rules(*parse(data))"
   ]
  },
  {
   "cell_type": "code",
   "execution_count": 114,
   "metadata": {},
   "outputs": [],
   "source": [
    "pda = cfg.to_pda()"
   ]
  },
  {
   "cell_type": "code",
   "execution_count": 69,
   "metadata": {},
   "outputs": [
    {
     "data": {
      "text/plain": [
       "{State(q)}"
      ]
     },
     "execution_count": 69,
     "metadata": {},
     "output_type": "execute_result"
    }
   ],
   "source": [
    "pda.state"
   ]
  },
  {
   "cell_type": "code",
   "execution_count": null,
   "metadata": {},
   "outputs": [],
   "source": []
  },
  {
   "cell_type": "code",
   "execution_count": 70,
   "metadata": {},
   "outputs": [
    {
     "data": {
      "text/plain": [
       "False"
      ]
     },
     "execution_count": 70,
     "metadata": {},
     "output_type": "execute_result"
    }
   ],
   "source": [
    "cfg.contains('a')"
   ]
  },
  {
   "cell_type": "code",
   "execution_count": 119,
   "metadata": {},
   "outputs": [],
   "source": [
    "def parse2(data):\n",
    "    data = data.replace('8: 42', '8: 42 | 42 8').replace('11: 42 31', '11: 42 31 | 42 11 31')\n",
    "    return parse(data)"
   ]
  },
  {
   "cell_type": "code",
   "execution_count": 122,
   "metadata": {},
   "outputs": [
    {
     "data": {
      "text/plain": [
       "282"
      ]
     },
     "execution_count": 122,
     "metadata": {},
     "output_type": "execute_result"
    }
   ],
   "source": [
    "match_rules(*parse2(data))"
   ]
  },
  {
   "cell_type": "code",
   "execution_count": null,
   "metadata": {},
   "outputs": [],
   "source": []
  }
 ],
 "metadata": {
  "kernelspec": {
   "display_name": "Python 3",
   "language": "python",
   "name": "python3"
  },
  "language_info": {
   "codemirror_mode": {
    "name": "ipython",
    "version": 3
   },
   "file_extension": ".py",
   "mimetype": "text/x-python",
   "name": "python",
   "nbconvert_exporter": "python",
   "pygments_lexer": "ipython3",
   "version": "3.8.3"
  }
 },
 "nbformat": 4,
 "nbformat_minor": 4
}
