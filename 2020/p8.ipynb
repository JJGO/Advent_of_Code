{
 "cells": [
  {
   "cell_type": "code",
   "execution_count": 10,
   "metadata": {},
   "outputs": [],
   "source": [
    "s = \"\"\"nop +0\n",
    "acc +1\n",
    "jmp +4\n",
    "acc +3\n",
    "jmp -3\n",
    "acc -99\n",
    "acc +1\n",
    "jmp -4\n",
    "acc +6\n",
    "\"\"\""
   ]
  },
  {
   "cell_type": "code",
   "execution_count": 1,
   "metadata": {},
   "outputs": [],
   "source": [
    "def parse_input(s):\n",
    "    instructions = []\n",
    "    for line in s.strip().split('\\n'):\n",
    "        op, n = line.split(' ')\n",
    "        instructions.append([op, int(n)])\n",
    "    return instructions\n",
    "    "
   ]
  },
  {
   "cell_type": "code",
   "execution_count": 2,
   "metadata": {},
   "outputs": [],
   "source": [
    "def simulate(instructions):\n",
    "    acc = 0\n",
    "    visited = set()\n",
    "    i = 0\n",
    "    while i not in visited:\n",
    "        visited.add(i)\n",
    "        op, n = instructions[i]\n",
    "        if op == 'nop':\n",
    "            i +=1 \n",
    "        elif op == 'acc':\n",
    "            acc += n\n",
    "            i += 1\n",
    "        elif op == 'jmp':\n",
    "            i += n\n",
    "    return acc"
   ]
  },
  {
   "cell_type": "code",
   "execution_count": 5,
   "metadata": {},
   "outputs": [
    {
     "data": {
      "text/plain": [
       "5"
      ]
     },
     "execution_count": 5,
     "metadata": {},
     "output_type": "execute_result"
    }
   ],
   "source": [
    "simulate(parse_input(s))"
   ]
  },
  {
   "cell_type": "code",
   "execution_count": 16,
   "metadata": {},
   "outputs": [],
   "source": [
    "with open('8.txt', 'r') as f:\n",
    "    s = f.read()"
   ]
  },
  {
   "cell_type": "code",
   "execution_count": 7,
   "metadata": {},
   "outputs": [
    {
     "data": {
      "text/plain": [
       "1654"
      ]
     },
     "execution_count": 7,
     "metadata": {},
     "output_type": "execute_result"
    }
   ],
   "source": [
    "simulate(parse_input(s))"
   ]
  },
  {
   "cell_type": "code",
   "execution_count": 8,
   "metadata": {},
   "outputs": [],
   "source": [
    "def find_candidates(instructions):\n",
    "    acc = 0\n",
    "    visited = set()\n",
    "    i = 0\n",
    "    candidates = []\n",
    "    while i not in visited:\n",
    "        visited.add(i)\n",
    "        op, n = instructions[i]\n",
    "        if op == 'nop':\n",
    "            candidates.append(i)\n",
    "            i +=1 \n",
    "        elif op == 'acc':\n",
    "            acc += n\n",
    "            i += 1\n",
    "        elif op == 'jmp':\n",
    "            candidates .append(i)\n",
    "            i += n\n",
    "    return candidates"
   ]
  },
  {
   "cell_type": "code",
   "execution_count": 11,
   "metadata": {},
   "outputs": [
    {
     "data": {
      "text/plain": [
       "[0, 2, 7, 4]"
      ]
     },
     "execution_count": 11,
     "metadata": {},
     "output_type": "execute_result"
    }
   ],
   "source": [
    "find_candidates(parse_input(s))"
   ]
  },
  {
   "cell_type": "code",
   "execution_count": 13,
   "metadata": {},
   "outputs": [],
   "source": [
    "def simulate_fix(instructions, fix):\n",
    "    acc = 0\n",
    "    visited = set()\n",
    "    i = 0\n",
    "    while i not in visited and i < len(instructions):\n",
    "        \n",
    "        visited.add(i)\n",
    "        op, n = instructions[i]\n",
    "        if i == fix:\n",
    "            op = 'nop' if op == 'jmp' else 'jmp'\n",
    "        if op == 'nop':\n",
    "            i +=1 \n",
    "        elif op == 'acc':\n",
    "            acc += n\n",
    "            i += 1\n",
    "        elif op == 'jmp':\n",
    "            i += n\n",
    "    if i == len(instructions):\n",
    "        return acc\n",
    "    return None"
   ]
  },
  {
   "cell_type": "code",
   "execution_count": 14,
   "metadata": {},
   "outputs": [],
   "source": [
    "def good_run(instructions):\n",
    "    candidates = find_candidates(instructions)\n",
    "    for fix in candidates:\n",
    "        acc = simulate_fix(instructions, fix)\n",
    "        if acc is not None:\n",
    "            return acc\n",
    "    assert False"
   ]
  },
  {
   "cell_type": "code",
   "execution_count": 17,
   "metadata": {},
   "outputs": [
    {
     "data": {
      "text/plain": [
       "833"
      ]
     },
     "execution_count": 17,
     "metadata": {},
     "output_type": "execute_result"
    }
   ],
   "source": [
    "good_run(parse_input(s))"
   ]
  },
  {
   "cell_type": "code",
   "execution_count": null,
   "metadata": {},
   "outputs": [],
   "source": []
  }
 ],
 "metadata": {
  "kernelspec": {
   "display_name": "Python 3",
   "language": "python",
   "name": "python3"
  },
  "language_info": {
   "codemirror_mode": {
    "name": "ipython",
    "version": 3
   },
   "file_extension": ".py",
   "mimetype": "text/x-python",
   "name": "python",
   "nbconvert_exporter": "python",
   "pygments_lexer": "ipython3",
   "version": "3.8.3"
  }
 },
 "nbformat": 4,
 "nbformat_minor": 4
}
