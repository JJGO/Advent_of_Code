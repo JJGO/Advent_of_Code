{
 "cells": [
  {
   "cell_type": "code",
   "execution_count": 98,
   "metadata": {},
   "outputs": [],
   "source": [
    "with open('17.txt', 'r') as f:\n",
    "    data = f.read()"
   ]
  },
  {
   "cell_type": "code",
   "execution_count": 89,
   "metadata": {},
   "outputs": [],
   "source": [
    "data = \"\"\".#.\n",
    "..#\n",
    "###\"\"\""
   ]
  },
  {
   "cell_type": "code",
   "execution_count": 5,
   "metadata": {},
   "outputs": [],
   "source": [
    "def parse(data):\n",
    "    return np.array([[1 if c == '#' else 0 for c in line] for line in data.strip().split('\\n')], dtype=bool)"
   ]
  },
  {
   "cell_type": "code",
   "execution_count": 25,
   "metadata": {},
   "outputs": [],
   "source": [
    "def prints(state):\n",
    "    for matrix in state:\n",
    "        print(\"\\n\".join([\"\".join(\"#\" if c else \".\" for c in line) for line in matrix]))\n",
    "        print()"
   ]
  },
  {
   "cell_type": "code",
   "execution_count": 92,
   "metadata": {},
   "outputs": [],
   "source": [
    "def run_conway(init, steps):\n",
    "    state = init\n",
    "    state = np.stack([np.zeros_like(state), state, np.zeros_like(state)])\n",
    "    state = np.pad(state, [(1,1),(1,1),(1,1)], mode='constant', constant_values=False)\n",
    "    for _ in range(steps):\n",
    "        \n",
    "        state = np.pad(state, [(1,1),(1,1),(1,1)], mode='constant', constant_values=False)\n",
    "        new_state = np.zeros_like(state)\n",
    "        Z, X, Y = state.shape\n",
    "        for k in range(1,Z-1):\n",
    "            for i in range(1,X-1):\n",
    "                for j in range(1,Y-1):\n",
    "                    neighs = state[k-1:k+2,i-1:i+2,j-1:j+2].sum() - int(state[k,i,j])\n",
    "#                     print(neighs, state[k,i,j])\n",
    "                    if state[k,i,j]:\n",
    "                        new_state[k,i,j] = neighs in (2,3)\n",
    "                    elif not state[k,i,j] and neighs == 3:\n",
    "                        new_state[k,i,j] = True\n",
    "        state = new_state\n",
    "#         prints(state)\n",
    "#         print(\"=========================================\")\n",
    "    return state.sum()\n",
    "                    "
   ]
  },
  {
   "cell_type": "code",
   "execution_count": 93,
   "metadata": {},
   "outputs": [
    {
     "data": {
      "text/plain": [
       "112"
      ]
     },
     "execution_count": 93,
     "metadata": {},
     "output_type": "execute_result"
    }
   ],
   "source": [
    "run_conway(parse(data), 6)"
   ]
  },
  {
   "cell_type": "code",
   "execution_count": 96,
   "metadata": {},
   "outputs": [],
   "source": [
    "def run_conway(init, steps):\n",
    "    state = init\n",
    "    state = np.stack([np.zeros_like(state), state, np.zeros_like(state)])\n",
    "    state = np.stack([np.zeros_like(state), state, np.zeros_like(state)])\n",
    "    state = np.pad(state, [(1,1),(1,1),(1,1),(1,1)], mode='constant', constant_values=False)\n",
    "    for _ in range(steps):\n",
    "        \n",
    "        state = np.pad(state, [(1,1),(1,1),(1,1),(1,1)], mode='constant', constant_values=False)\n",
    "        new_state = np.zeros_like(state)\n",
    "        W, Z, X, Y = state.shape\n",
    "        for l in range(1,W-1):\n",
    "            for k in range(1,Z-1):\n",
    "                for i in range(1,X-1):\n",
    "                    for j in range(1,Y-1):\n",
    "                        neighs = state[l-1:l+2,k-1:k+2,i-1:i+2,j-1:j+2].sum() - int(state[l,k,i,j])\n",
    "    #                     print(neighs, state[k,i,j])\n",
    "                        if state[l,k,i,j]:\n",
    "                            new_state[l,k,i,j] = neighs in (2,3)\n",
    "                        elif not state[l,k,i,j] and neighs == 3:\n",
    "                            new_state[l,k,i,j] = True\n",
    "        state = new_state\n",
    "#         prints(state)\n",
    "#         print(\"=========================================\")\n",
    "    return state.sum()\n",
    "                    "
   ]
  },
  {
   "cell_type": "code",
   "execution_count": 97,
   "metadata": {},
   "outputs": [
    {
     "data": {
      "text/plain": [
       "848"
      ]
     },
     "execution_count": 97,
     "metadata": {},
     "output_type": "execute_result"
    }
   ],
   "source": [
    "run_conway(parse(data), 6)"
   ]
  },
  {
   "cell_type": "code",
   "execution_count": 99,
   "metadata": {},
   "outputs": [
    {
     "data": {
      "text/plain": [
       "1980"
      ]
     },
     "execution_count": 99,
     "metadata": {},
     "output_type": "execute_result"
    }
   ],
   "source": [
    "run_conway(parse(data), 6)"
   ]
  },
  {
   "cell_type": "code",
   "execution_count": null,
   "metadata": {},
   "outputs": [],
   "source": []
  }
 ],
 "metadata": {
  "kernelspec": {
   "display_name": "Python 3",
   "language": "python",
   "name": "python3"
  },
  "language_info": {
   "codemirror_mode": {
    "name": "ipython",
    "version": 3
   },
   "file_extension": ".py",
   "mimetype": "text/x-python",
   "name": "python",
   "nbconvert_exporter": "python",
   "pygments_lexer": "ipython3",
   "version": "3.8.3"
  }
 },
 "nbformat": 4,
 "nbformat_minor": 4
}
