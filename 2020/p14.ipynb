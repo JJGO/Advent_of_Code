{
 "cells": [
  {
   "cell_type": "code",
   "execution_count": 49,
   "metadata": {},
   "outputs": [],
   "source": [
    "with open('14.txt', 'r') as f:\n",
    "    data = f.read()"
   ]
  },
  {
   "cell_type": "code",
   "execution_count": 2,
   "metadata": {},
   "outputs": [],
   "source": [
    "def parse(data):\n",
    "    instructions = data.strip().split('\\n')\n",
    "    instructions = [ins.split(' = ') for ins in instructions]\n",
    "    return instructions"
   ]
  },
  {
   "cell_type": "code",
   "execution_count": 3,
   "metadata": {},
   "outputs": [],
   "source": [
    "def run(instructions):\n",
    "    mem = {}\n",
    "    or_mask, and_mask = None, None\n",
    "    for ins, val in instructions:\n",
    "        if ins == 'mask':\n",
    "            or_mask = int(val.replace('X', \"0\"), 2)\n",
    "            and_mask = int(val.replace('X', \"1\"), 2)\n",
    "        else:\n",
    "            addr = int(ins[len(\"mem[\"):-1])\n",
    "            mem[addr] = (int(val) | or_mask) & and_mask\n",
    "    return sum(v for v in mem.values())"
   ]
  },
  {
   "cell_type": "code",
   "execution_count": 4,
   "metadata": {},
   "outputs": [],
   "source": [
    "data = \"\"\"mask = XXXXXXXXXXXXXXXXXXXXXXXXXXXXX1XXXX0X\n",
    "mem[8] = 11\n",
    "mem[7] = 101\n",
    "mem[8] = 0\"\"\""
   ]
  },
  {
   "cell_type": "code",
   "execution_count": 7,
   "metadata": {},
   "outputs": [
    {
     "data": {
      "text/plain": [
       "12408060320841"
      ]
     },
     "execution_count": 7,
     "metadata": {},
     "output_type": "execute_result"
    }
   ],
   "source": [
    "run(parse(data))"
   ]
  },
  {
   "cell_type": "code",
   "execution_count": null,
   "metadata": {},
   "outputs": [],
   "source": [
    "def run(instructions):\n",
    "    mem = {}\n",
    "    or_mask, and_mask = None, None\n",
    "    for ins, val in instructions:\n",
    "        if ins == 'mask':\n",
    "            or_mask = int(val.replace('X', \"0\"), 2)\n",
    "            and_mask = int(val.replace('X', \"1\"), 2)\n",
    "        else:\n",
    "            addr = int(ins[len(\"mem[\"):-1])\n",
    "            mem[addr] = (int(val) | or_mask) & and_mask\n",
    "    return sum(v for v in mem.values())"
   ]
  },
  {
   "cell_type": "code",
   "execution_count": 12,
   "metadata": {},
   "outputs": [],
   "source": [
    "from collections import Counter"
   ]
  },
  {
   "cell_type": "code",
   "execution_count": 16,
   "metadata": {},
   "outputs": [],
   "source": [
    "c = Counter([line.count('X') for line in data.strip().split('\\n') if line.startswith('mask')])"
   ]
  },
  {
   "cell_type": "code",
   "execution_count": 17,
   "metadata": {},
   "outputs": [
    {
     "data": {
      "text/plain": [
       "Counter({4: 26, 6: 15, 9: 16, 5: 11, 7: 21, 8: 11})"
      ]
     },
     "execution_count": 17,
     "metadata": {},
     "output_type": "execute_result"
    }
   ],
   "source": [
    "c"
   ]
  },
  {
   "cell_type": "code",
   "execution_count": 18,
   "metadata": {},
   "outputs": [
    {
     "data": {
      "text/plain": [
       "15424"
      ]
     },
     "execution_count": 18,
     "metadata": {},
     "output_type": "execute_result"
    }
   ],
   "source": [
    "sum([2**i*n for i,n in c.items()])"
   ]
  },
  {
   "cell_type": "code",
   "execution_count": 19,
   "metadata": {},
   "outputs": [
    {
     "data": {
      "text/plain": [
       "0"
      ]
     },
     "execution_count": 19,
     "metadata": {},
     "output_type": "execute_result"
    }
   ],
   "source": [
    "\"X01X0X\".index('X')"
   ]
  },
  {
   "cell_type": "code",
   "execution_count": 39,
   "metadata": {},
   "outputs": [],
   "source": [
    "from itertools import chain, combinations\n",
    "\n",
    "def powerset(iterable):\n",
    "    \"powerset([1,2,3]) --> () (1,) (2,) (3,) (1,2) (1,3) (2,3) (1,2,3)\"\n",
    "    s = list(iterable)\n",
    "    return chain.from_iterable(combinations(s, r) for r in range(len(s)+1))"
   ]
  },
  {
   "cell_type": "code",
   "execution_count": 46,
   "metadata": {},
   "outputs": [],
   "source": [
    "def run(instructions):\n",
    "    mem = {}\n",
    "    or_mask, and_mask = None, None\n",
    "    for ins, val in instructions:\n",
    "        if ins == 'mask':\n",
    "            or_mask = int(val.replace('X', '0'), 2)\n",
    "            and_mask = int(val.replace('0','1').replace('X', '0'), 2)\n",
    "            offsets = [2**(len(val)-i-1) for i, v in enumerate(val) if v == 'X']\n",
    "        else:\n",
    "            addr = int(ins[len(\"mem[\"):-1])\n",
    "            base = (addr | or_mask) & and_mask\n",
    "            for s in powerset(offsets):\n",
    "                mem[base+sum(s)] = int(val)\n",
    "\n",
    "    return sum(v for v in mem.values())"
   ]
  },
  {
   "cell_type": "code",
   "execution_count": 47,
   "metadata": {},
   "outputs": [],
   "source": [
    "data= \"\"\"mask = 000000000000000000000000000000X1001X\n",
    "mem[42] = 100\n",
    "mask = 00000000000000000000000000000000X0XX\n",
    "mem[26] = 1\"\"\""
   ]
  },
  {
   "cell_type": "code",
   "execution_count": 50,
   "metadata": {},
   "outputs": [
    {
     "data": {
      "text/plain": [
       "4466434626828"
      ]
     },
     "execution_count": 50,
     "metadata": {},
     "output_type": "execute_result"
    }
   ],
   "source": [
    "run(parse(data))"
   ]
  },
  {
   "cell_type": "code",
   "execution_count": null,
   "metadata": {},
   "outputs": [],
   "source": []
  }
 ],
 "metadata": {
  "kernelspec": {
   "display_name": "Python 3",
   "language": "python",
   "name": "python3"
  },
  "language_info": {
   "codemirror_mode": {
    "name": "ipython",
    "version": 3
   },
   "file_extension": ".py",
   "mimetype": "text/x-python",
   "name": "python",
   "nbconvert_exporter": "python",
   "pygments_lexer": "ipython3",
   "version": "3.8.3"
  }
 },
 "nbformat": 4,
 "nbformat_minor": 4
}
