{
 "cells": [
  {
   "cell_type": "code",
   "execution_count": 4,
   "metadata": {},
   "outputs": [],
   "source": [
    "with open('18.txt', 'r') as f:\n",
    "    data = f.read()"
   ]
  },
  {
   "cell_type": "code",
   "execution_count": null,
   "metadata": {},
   "outputs": [],
   "source": [
    "def parse(expression):\n",
    "    "
   ]
  },
  {
   "cell_type": "code",
   "execution_count": 2,
   "metadata": {},
   "outputs": [],
   "source": [
    "import operator"
   ]
  },
  {
   "cell_type": "code",
   "execution_count": 43,
   "metadata": {},
   "outputs": [],
   "source": [
    "class Operation:\n",
    "    OPS = {\n",
    "        '+': operator.add,\n",
    "        '*': operator.mul\n",
    "    }\n",
    "    \n",
    "    def __init__(self, left, right, operation):\n",
    "        self.op = self.OPS[operation]\n",
    "        self.left = left\n",
    "        self.right = right\n",
    "        \n",
    "    def eval(self):\n",
    "        return self.op(self.left.eval(), self.right.eval())\n",
    "    \n",
    "    def __repr__(self):\n",
    "        return f\"{self.op.__name__}({self.left}, {self.right})\"\n",
    "    \n",
    "class Value:\n",
    "    def __init__(self, val):\n",
    "        self.val = val\n",
    "    def eval(self):\n",
    "        return self.val\n",
    "    def __repr__(self):\n",
    "        return str(self.val)"
   ]
  },
  {
   "cell_type": "code",
   "execution_count": 52,
   "metadata": {},
   "outputs": [],
   "source": [
    "def find_matching_paren(expr, i):\n",
    "    j = i + 1\n",
    "    unmatched = 0\n",
    "    while True:\n",
    "        if expr[j] == '(':\n",
    "            unmatched += 1\n",
    "        elif expr[j] == ')':\n",
    "            if unmatched == 0:\n",
    "                return j\n",
    "            unmatched -= 1\n",
    "        j += 1"
   ]
  },
  {
   "cell_type": "code",
   "execution_count": 56,
   "metadata": {},
   "outputs": [],
   "source": [
    "def parse_value(expr, i):\n",
    "    if expr[i] == '(':\n",
    "        j = find_matching_paren(expr, i)\n",
    "        ops = parse(expr[i+1:j]) \n",
    "        return ops, j+1\n",
    "    j = i\n",
    "    while  j < len(expr) and expr[j] != ' ':\n",
    "        j += 1\n",
    "    return Value(int(expr[i:j])), j\n",
    "    \n",
    "def parse(expr):\n",
    "    acc, i = parse_value(expr, 0)\n",
    "    while i < len(expr):\n",
    "        op = expr[i+1]\n",
    "        val, j = parse_value(expr, i+3)\n",
    "        acc = Operation(acc, val, op)\n",
    "        i = j\n",
    "    return acc"
   ]
  },
  {
   "cell_type": "code",
   "execution_count": null,
   "metadata": {},
   "outputs": [],
   "source": []
  },
  {
   "cell_type": "code",
   "execution_count": 57,
   "metadata": {},
   "outputs": [
    {
     "data": {
      "text/plain": [
       "71"
      ]
     },
     "execution_count": 57,
     "metadata": {},
     "output_type": "execute_result"
    }
   ],
   "source": [
    "expr = \"1 + 2 * 3 + 4 * 5 + 6\"\n",
    "parse(expr).eval()"
   ]
  },
  {
   "cell_type": "code",
   "execution_count": 58,
   "metadata": {},
   "outputs": [
    {
     "data": {
      "text/plain": [
       "51"
      ]
     },
     "execution_count": 58,
     "metadata": {},
     "output_type": "execute_result"
    }
   ],
   "source": [
    "expr = \"1 + (2 * 3) + (4 * (5 + 6))\"\n",
    "parse(expr).eval()"
   ]
  },
  {
   "cell_type": "code",
   "execution_count": 59,
   "metadata": {},
   "outputs": [
    {
     "data": {
      "text/plain": [
       "13632"
      ]
     },
     "execution_count": 59,
     "metadata": {},
     "output_type": "execute_result"
    }
   ],
   "source": [
    "expr = \"((2 + 4 * 9) * (6 + 9 * 8 + 6) + 6) + 2 + 4 * 2\"\n",
    "parse(expr).eval()"
   ]
  },
  {
   "cell_type": "code",
   "execution_count": 60,
   "metadata": {},
   "outputs": [
    {
     "data": {
      "text/plain": [
       "13976444272545"
      ]
     },
     "execution_count": 60,
     "metadata": {},
     "output_type": "execute_result"
    }
   ],
   "source": [
    "sum(parse(line).eval() for line in data.strip().split('\\n'))"
   ]
  },
  {
   "cell_type": "code",
   "execution_count": null,
   "metadata": {},
   "outputs": [],
   "source": []
  },
  {
   "cell_type": "code",
   "execution_count": 63,
   "metadata": {},
   "outputs": [],
   "source": []
  },
  {
   "cell_type": "code",
   "execution_count": 71,
   "metadata": {},
   "outputs": [],
   "source": [
    "import re\n",
    "class N:\n",
    "    def __init__(self, val):\n",
    "        self.val = val\n",
    "    def __add__(self, other):\n",
    "        return N(self.val * other.val)\n",
    "    def __mul__(self, other):\n",
    "        return N(self.val + other.val)\n",
    "\n",
    "def weird_eval(expr):\n",
    "    expr = expr.replace('+','&').replace('*','+').replace('&','*')\n",
    "    expr = re.sub(r'(\\d+)', 'N(\\g<1>)', expr)\n",
    "    return eval(expr).val"
   ]
  },
  {
   "cell_type": "code",
   "execution_count": 76,
   "metadata": {},
   "outputs": [
    {
     "data": {
      "text/plain": [
       "23340"
      ]
     },
     "execution_count": 76,
     "metadata": {},
     "output_type": "execute_result"
    }
   ],
   "source": [
    "weird_eval(\"1 + (2 * 3) + (4 * (5 + 6))\")\n",
    "weird_eval(\"2 * 3 + (4 * 5)\")\n",
    "weird_eval(\"5 + (8 * 3 + 9 + 3 * 4 * 3)\")\n",
    "weird_eval(\"5 * 9 * (7 * 3 * 3 + 9 * 3 + (8 + 6 * 4))\")\n",
    "weird_eval(\"((2 + 4 * 9) * (6 + 9 * 8 + 6) + 6) + 2 + 4 * 2\")"
   ]
  },
  {
   "cell_type": "code",
   "execution_count": 77,
   "metadata": {},
   "outputs": [
    {
     "data": {
      "text/plain": [
       "88500956630893"
      ]
     },
     "execution_count": 77,
     "metadata": {},
     "output_type": "execute_result"
    }
   ],
   "source": [
    "sum(weird_eval(line) for line in data.strip().split('\\n'))"
   ]
  },
  {
   "cell_type": "code",
   "execution_count": 82,
   "metadata": {},
   "outputs": [],
   "source": [
    "# Part 1\n",
    "import re\n",
    "class M:\n",
    "    def __init__(self, val):\n",
    "        self.val = val\n",
    "    def __add__(self, other):\n",
    "        return M(self.val + other.val)\n",
    "    def __sub__(self, other):\n",
    "        return M(self.val * other.val)\n",
    "\n",
    "def weird_eval1(expr):\n",
    "    expr = expr.replace('*','-')\n",
    "    expr = re.sub(r'(\\d+)', 'M(\\g<1>)', expr)\n",
    "    return eval(expr).val"
   ]
  },
  {
   "cell_type": "code",
   "execution_count": 83,
   "metadata": {},
   "outputs": [
    {
     "data": {
      "text/plain": [
       "13632"
      ]
     },
     "execution_count": 83,
     "metadata": {},
     "output_type": "execute_result"
    }
   ],
   "source": [
    "weird_eval1(\"1 + (2 * 3) + (4 * (5 + 6))\")\n",
    "weird_eval1(\"2 * 3 + (4 * 5)\")\n",
    "weird_eval1(\"5 + (8 * 3 + 9 + 3 * 4 * 3)\")\n",
    "weird_eval1(\"5 * 9 * (7 * 3 * 3 + 9 * 3 + (8 + 6 * 4))\")\n",
    "weird_eval1(\"((2 + 4 * 9) * (6 + 9 * 8 + 6) + 6) + 2 + 4 * 2\")"
   ]
  },
  {
   "cell_type": "code",
   "execution_count": null,
   "metadata": {},
   "outputs": [],
   "source": []
  }
 ],
 "metadata": {
  "kernelspec": {
   "display_name": "Python 3",
   "language": "python",
   "name": "python3"
  },
  "language_info": {
   "codemirror_mode": {
    "name": "ipython",
    "version": 3
   },
   "file_extension": ".py",
   "mimetype": "text/x-python",
   "name": "python",
   "nbconvert_exporter": "python",
   "pygments_lexer": "ipython3",
   "version": "3.8.3"
  }
 },
 "nbformat": 4,
 "nbformat_minor": 4
}
