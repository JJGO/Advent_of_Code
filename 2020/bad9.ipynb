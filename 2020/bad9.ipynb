{
 "cells": [
  {
   "cell_type": "code",
   "execution_count": 1,
   "metadata": {},
   "outputs": [],
   "source": [
    "with open('9.txt', 'r') as f:\n",
    "    vals = [int(i) for i in f.read().strip().split('\\n')]"
   ]
  },
  {
   "cell_type": "code",
   "execution_count": 2,
   "metadata": {},
   "outputs": [],
   "source": [
    "vals= [\n",
    "35,\n",
    "20,\n",
    "15,\n",
    "25,\n",
    "47,\n",
    "40,\n",
    "62,\n",
    "55,\n",
    "65,\n",
    "95,\n",
    "102,\n",
    "117,\n",
    "150,\n",
    "182,\n",
    "127,\n",
    "219,\n",
    "299,\n",
    "277,\n",
    "309,\n",
    "576,]"
   ]
  },
  {
   "cell_type": "code",
   "execution_count": null,
   "metadata": {},
   "outputs": [],
   "source": [
    "from collections import defaultdict"
   ]
  },
  {
   "cell_type": "code",
   "execution_count": null,
   "metadata": {},
   "outputs": [],
   "source": [
    "def find(vals, window):\n",
    "    current = defaultdict(int)\n",
    "    for v in vals[:window]:\n",
    "        current[v] += 1\n",
    "    queue = list(current)\n",
    "    for v in vals[window:]:\n",
    "        for x in current:\n",
    "            if v-x in current:\n",
    "                if v-x != x:\n",
    "                    break\n",
    "                else:\n",
    "                    if current[x] > 1:\n",
    "                        break\n",
    "        else:\n",
    "            return x\n",
    "        current[]\n",
    "            "
   ]
  }
 ],
 "metadata": {
  "kernelspec": {
   "display_name": "Python 3",
   "language": "python",
   "name": "python3"
  },
  "language_info": {
   "codemirror_mode": {
    "name": "ipython",
    "version": 3
   },
   "file_extension": ".py",
   "mimetype": "text/x-python",
   "name": "python",
   "nbconvert_exporter": "python",
   "pygments_lexer": "ipython3",
   "version": "3.8.3"
  }
 },
 "nbformat": 4,
 "nbformat_minor": 4
}
