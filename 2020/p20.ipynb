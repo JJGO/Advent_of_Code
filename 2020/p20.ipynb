{
 "cells": [
  {
   "cell_type": "code",
   "execution_count": 370,
   "metadata": {},
   "outputs": [],
   "source": [
    "with open('20.txt', 'r') as f:\n",
    "    data = f.read()"
   ]
  },
  {
   "cell_type": "code",
   "execution_count": 357,
   "metadata": {},
   "outputs": [],
   "source": [
    "with open('s20.txt', 'r') as f:\n",
    "    data = f.read()"
   ]
  },
  {
   "cell_type": "code",
   "execution_count": 4,
   "metadata": {},
   "outputs": [],
   "source": [
    "def parse(data):\n",
    "    tiles = {}\n",
    "    for tile in data.strip().split('\\n\\n'):\n",
    "        lines = tile.split('\\n')\n",
    "        tile_id = int(lines[0][len(\"Tile \"):-1])\n",
    "        tile = np.array([[1 if c == '#' else 0 for c in line] for line in lines[1:]])\n",
    "        tiles[tile_id] = tile\n",
    "    return tiles"
   ]
  },
  {
   "cell_type": "code",
   "execution_count": 9,
   "metadata": {},
   "outputs": [],
   "source": [
    "tiles = parse(data)"
   ]
  },
  {
   "cell_type": "code",
   "execution_count": 7,
   "metadata": {},
   "outputs": [],
   "source": [
    "def tobin(vals):\n",
    "    acc = 0\n",
    "    for v in vals:\n",
    "        acc *= 2\n",
    "        acc += v\n",
    "    return acc"
   ]
  },
  {
   "cell_type": "code",
   "execution_count": 67,
   "metadata": {},
   "outputs": [],
   "source": [
    "def compute_borders(tile):\n",
    "    borders = [\n",
    "        tobin(tile[0,:].flatten()),\n",
    "        tobin(tile[-1,:].flatten()),\n",
    "        tobin(tile[:,0].flatten()),\n",
    "        tobin(tile[:,-1].flatten()),\n",
    "    ]\n",
    "    tile = np.fliplr(np.flipud(tile))\n",
    "    borders += [\n",
    "        tobin(tile[0,:].flatten()),\n",
    "        tobin(tile[-1,:].flatten()),\n",
    "        tobin(tile[:,0].flatten()),\n",
    "        tobin(tile[:,-1].flatten()),\n",
    "    ]\n",
    "    return borders\n"
   ]
  },
  {
   "cell_type": "code",
   "execution_count": 48,
   "metadata": {},
   "outputs": [],
   "source": [
    "t = next(iter(tiles.values()))"
   ]
  },
  {
   "cell_type": "code",
   "execution_count": 55,
   "metadata": {},
   "outputs": [],
   "source": [
    "from collections import Counter, defaultdict"
   ]
  },
  {
   "cell_type": "code",
   "execution_count": 64,
   "metadata": {},
   "outputs": [],
   "source": [
    "def find_corners(tiles):\n",
    "    borders = {i:compute_borders(t) for i, t in tiles.items()}\n",
    "    counts = Counter(b for bs in borders.values() for b in bs)\n",
    "    pieces = defaultdict(list)\n",
    "    for i in tiles:\n",
    "        perimeter = sum(counts[b] for b in borders[i])\n",
    "        pieces[perimeter].append(i)\n",
    "    low = next(iter(sorted(pieces)))\n",
    "    return np.prod(pieces[low])"
   ]
  },
  {
   "cell_type": "code",
   "execution_count": 65,
   "metadata": {},
   "outputs": [
    {
     "data": {
      "text/plain": [
       "19955159604613"
      ]
     },
     "execution_count": 65,
     "metadata": {},
     "output_type": "execute_result"
    }
   ],
   "source": [
    "find_corners(parse(data))"
   ]
  },
  {
   "cell_type": "code",
   "execution_count": null,
   "metadata": {},
   "outputs": [],
   "source": []
  },
  {
   "cell_type": "markdown",
   "metadata": {},
   "source": [
    "# Rewrite for actually assembling the puzzle    "
   ]
  },
  {
   "cell_type": "markdown",
   "metadata": {},
   "source": [
    "We are working on D4 symmetry group so there are 8 orientations and 8 borders per tile. Borders need to be compared clockwise so rotation does not modify them."
   ]
  },
  {
   "cell_type": "code",
   "execution_count": 68,
   "metadata": {},
   "outputs": [],
   "source": [
    "def tobin(vals):\n",
    "    acc = 0\n",
    "    for v in vals:\n",
    "        acc *= 2\n",
    "        acc += v\n",
    "    return acc"
   ]
  },
  {
   "cell_type": "code",
   "execution_count": 72,
   "metadata": {},
   "outputs": [],
   "source": [
    "x = np.arange(12).reshape(3,4)"
   ]
  },
  {
   "cell_type": "code",
   "execution_count": 73,
   "metadata": {},
   "outputs": [
    {
     "data": {
      "text/plain": [
       "array([[ 0,  1,  2,  3],\n",
       "       [ 4,  5,  6,  7],\n",
       "       [ 8,  9, 10, 11]])"
      ]
     },
     "execution_count": 73,
     "metadata": {},
     "output_type": "execute_result"
    }
   ],
   "source": [
    "x"
   ]
  },
  {
   "cell_type": "code",
   "execution_count": 75,
   "metadata": {},
   "outputs": [
    {
     "data": {
      "text/plain": [
       "array([11, 10,  9,  8])"
      ]
     },
     "execution_count": 75,
     "metadata": {},
     "output_type": "execute_result"
    }
   ],
   "source": [
    "x[-1,::-1].flatten()"
   ]
  },
  {
   "cell_type": "code",
   "execution_count": 264,
   "metadata": {},
   "outputs": [],
   "source": [
    "class Tile:\n",
    "    \n",
    "    def __init__(self, mosaic):\n",
    "        self.mosaic = mosaic\n",
    "\n",
    "    def borders(self):\n",
    "        x = self.mosaic\n",
    "        return [\n",
    "            \"\".join(map(str,(x[:,-1].flatten()))),\n",
    "            \"\".join(map(str,(x[0,:].flatten()))),\n",
    "            \"\".join(map(str,(x[::-1,0].flatten()))),\n",
    "            \"\".join(map(str,(x[-1,::-1].flatten()))),\n",
    "        ]\n",
    "        \n",
    "    def all_borders(self):\n",
    "        return self.borders() + self.mirror().borders()\n",
    "        \n",
    "    def mirror(self):\n",
    "        return Tile(np.fliplr(self.mosaic))\n",
    "        \n",
    "    def trim(self):\n",
    "        return self.mosaic[1:-1,1:-1]\n",
    "        \n",
    "    def rotate(self, times):\n",
    "        return Tile(np.rot90(self.mosaic, k=times))\n",
    "    \n",
    "    def orient(self, border, direction):\n",
    "        delta = direction - self.borders().index(border)\n",
    "        delta %= 4\n",
    "        rotated = self.rotate(delta)\n",
    "        assert rotated.borders()[direction] == border\n",
    "        return rotated"
   ]
  },
  {
   "cell_type": "markdown",
   "metadata": {},
   "source": [
    "Despite assembling being possible from a corner and then going left to right, top to bottom; detecting when a right is no longer possible, I'm deciding to do it in a DFS  based manner because it sounds interesting :) and could be applied to any shape"
   ]
  },
  {
   "cell_type": "code",
   "execution_count": 265,
   "metadata": {},
   "outputs": [],
   "source": [
    "from pylot.util.color import printc"
   ]
  },
  {
   "cell_type": "code",
   "execution_count": 266,
   "metadata": {},
   "outputs": [],
   "source": [
    "from collections import deque"
   ]
  },
  {
   "cell_type": "code",
   "execution_count": 389,
   "metadata": {},
   "outputs": [],
   "source": [
    "def assemble(tiles):\n",
    "    tiles = {i: Tile(tile) for i, tile in tiles.items()}\n",
    "    mirror_tiles = {-i: tile.mirror() for i, tile in tiles.items()}\n",
    "    tiles = {**tiles, **mirror_tiles}\n",
    "    borders = [b for tile in tiles.values() for b in tile.borders()]\n",
    "\n",
    "    init = next(iter(tiles))\n",
    "    init_tile = tiles[init]\n",
    "    stack = deque([(init,0,i,b) for i, b in enumerate(init_tile.borders())])\n",
    "    puzzle = {0: init_tile} # In the center goes the init_tile with default orientation\n",
    "    \n",
    "    border2tile = defaultdict(list)\n",
    "    for i, tile in tiles.items():\n",
    "        for b in tile.borders():\n",
    "            border2tile[b].append(i)\n",
    "    \n",
    "    joined_borders = set()\n",
    "    while len(stack) > 0:\n",
    "        uid, pos, side, border = stack.popleft()\n",
    "        if border in joined_borders or len(border2tile[border]) == 1:\n",
    "            continue\n",
    "\n",
    "        opposite_side = (side + 2) % 4\n",
    "        opposite_border = border[::-1]\n",
    "    \n",
    "        adjacent = [i for i in border2tile[opposite_border] if i != -uid]\n",
    "        assert len(adjacent) == 1\n",
    "        adjacent = adjacent[0]\n",
    "        matching_tile = tiles[adjacent].orient(opposite_border, opposite_side)\n",
    "        pos = pos + 1j**side\n",
    "        if pos in puzzle:\n",
    "            continue\n",
    "        puzzle[pos] = matching_tile\n",
    "        \n",
    "        joined_borders.add(border)\n",
    "        joined_borders.add(opposite_border)\n",
    "\n",
    "        for s, b in enumerate(matching_tile.borders()):\n",
    "            if len(border2tile[b]) > 1:\n",
    "                stack.append((adjacent, pos, s, b))\n",
    "\n",
    "    # Finish assembly\n",
    "    xs = [int(i.real) for i in puzzle]\n",
    "    ys = [int(i.imag) for i in puzzle]\n",
    "    xmin, xmax, ymin, ymax = min(xs), max(xs), min(ys), max(ys)\n",
    "    return np.vstack([\n",
    "        np.hstack([puzzle[x+y*1j].trim() for x in range(xmin,xmax+1)])\n",
    "        for y in reversed(range(ymin,ymax+1))\n",
    "    ])"
   ]
  },
  {
   "cell_type": "code",
   "execution_count": 390,
   "metadata": {},
   "outputs": [],
   "source": [
    "chart = assemble(parse(data))"
   ]
  },
  {
   "cell_type": "code",
   "execution_count": 392,
   "metadata": {},
   "outputs": [
    {
     "data": {
      "text/plain": [
       "<matplotlib.image.AxesImage at 0x7f8a90a6da30>"
      ]
     },
     "execution_count": 392,
     "metadata": {},
     "output_type": "execute_result"
    },
    {
     "data": {
      "image/png": "[encoded data removed]",
      "text/plain": [
       "<Figure size 1440x720 with 2 Axes>"
      ]
     },
     "metadata": {},
     "output_type": "display_data"
    }
   ],
   "source": [
    "with open('t20.txt') as f:\n",
    "    target = f.read().strip()\n",
    "target = np.array([[1 if c == '#' else 0 for c in line] for line in target.split('\\n')])\n",
    "\n",
    "\n",
    "fig, ax = plt.subplots(1,2,figsize=(20,10))\n",
    "ax[0].imshow(target)\n",
    "ax[1].imshow(np.fliplr(np.rot90(chart, k=2)))"
   ]
  },
  {
   "cell_type": "code",
   "execution_count": 393,
   "metadata": {},
   "outputs": [],
   "source": [
    "MONSTER = \"\"\"                  # \n",
    "#    ##    ##    ###\n",
    " #  #  #  #  #  #   \"\"\""
   ]
  },
  {
   "cell_type": "code",
   "execution_count": 394,
   "metadata": {},
   "outputs": [],
   "source": [
    "# print(\"\\n\".join([\"\".join(['#' if v==1 else '.' for v in row]) \n",
    "#     for row in np.rot90(chart,k=1)]))"
   ]
  },
  {
   "cell_type": "code",
   "execution_count": 395,
   "metadata": {},
   "outputs": [],
   "source": [
    "from scipy.signal import convolve2d"
   ]
  },
  {
   "cell_type": "code",
   "execution_count": 396,
   "metadata": {},
   "outputs": [],
   "source": [
    "def find_monster(chart):\n",
    "    monster = np.array([[1 if c == '#' else 0 for c in line] for line in MONSTER.split('\\n')])\n",
    "    monster_size = monster.sum()\n",
    "    monsters = [np.rot90(monster, k=k) for k in range(4)]\n",
    "    monsters += [np.fliplr(m) for m in monsters]\n",
    "    roughness = sum( (convolve2d(chart, monster) == monster_size).sum() for monster in monsters)\n",
    "    return chart.sum() - roughness * monster_size"
   ]
  },
  {
   "cell_type": "code",
   "execution_count": 400,
   "metadata": {},
   "outputs": [
    {
     "data": {
      "text/plain": [
       "1639"
      ]
     },
     "execution_count": 400,
     "metadata": {},
     "output_type": "execute_result"
    }
   ],
   "source": [
    "find_monster(chart)"
   ]
  },
  {
   "cell_type": "code",
   "execution_count": 401,
   "metadata": {},
   "outputs": [
    {
     "data": {
      "text/plain": [
       "1639"
      ]
     },
     "execution_count": 401,
     "metadata": {},
     "output_type": "execute_result"
    }
   ],
   "source": [
    "find_monster(assemble(parse(data)))"
   ]
  },
  {
   "cell_type": "code",
   "execution_count": null,
   "metadata": {},
   "outputs": [],
   "source": []
  }
 ],
 "metadata": {
  "kernelspec": {
   "display_name": "Python 3",
   "language": "python",
   "name": "python3"
  },
  "language_info": {
   "codemirror_mode": {
    "name": "ipython",
    "version": 3
   },
   "file_extension": ".py",
   "mimetype": "text/x-python",
   "name": "python",
   "nbconvert_exporter": "python",
   "pygments_lexer": "ipython3",
   "version": "3.8.3"
  }
 },
 "nbformat": 4,
 "nbformat_minor": 4
}
