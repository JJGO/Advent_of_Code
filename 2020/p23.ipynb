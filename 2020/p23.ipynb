{
 "cells": [
  {
   "cell_type": "code",
   "execution_count": null,
   "metadata": {},
   "outputs": [],
   "source": []
  },
  {
   "cell_type": "code",
   "execution_count": 4,
   "metadata": {},
   "outputs": [],
   "source": [
    "data = \"389125467\""
   ]
  },
  {
   "cell_type": "code",
   "execution_count": 5,
   "metadata": {},
   "outputs": [],
   "source": [
    "def repr_cups(succ, start):\n",
    "    vals = [start]\n",
    "    i = succ[start]\n",
    "    while i != start:\n",
    "        vals.append(i)\n",
    "        i = succ[i]\n",
    "    return \"\".join([str(i+1) for i in vals])"
   ]
  },
  {
   "cell_type": "code",
   "execution_count": 6,
   "metadata": {},
   "outputs": [],
   "source": [
    "# def crab_cups(data, n_iter):\n",
    "#     cups = [int(n)-1 for n in data]\n",
    "#     N = len(cups)\n",
    "#     current = cups[0]\n",
    "#     succ = cups[1:]+cups[:1]\n",
    "#     pred = cups[-1:]+cups[:-1]\n",
    "#     succ = {c: s for c, s in zip(cups, succ)}\n",
    "#     succ = {c: p for c, p in zip(cups, prev)}\n",
    "    \n",
    "#     for _ in range(n_iter):\n",
    "#         moved = []\n",
    "#         p = current\n",
    "#         for _ in range(3):\n",
    "#             moved.append(succ[p])\n",
    "#             p = moved[-1]\n",
    "#         dest = (current - 1) % N\n",
    "#         while dest in moved:\n",
    "#             dest = (dest - 1) % N\n",
    "#         print(\"> \", current, moved, dest)\n",
    "#         succ[current], succ[dest], succ[moved[-1]] = succ[moved[-1]], moved[0], succ[dest]\n",
    "        \n",
    "#         succ[current] = succ[moved[-1]]\n",
    "#         succ[dest] = moved[0]\n",
    "#         succ[moved[-1]] = succ[dest]\n",
    "#         pred[moved[0]] = dest\n",
    "#         succ[pred[dest]] = \n",
    "        \n",
    "        \n",
    "#         current = succ[current]\n",
    "#         print(current+1)\n",
    "#         print_cups(succ, current)\n",
    "        "
   ]
  },
  {
   "cell_type": "code",
   "execution_count": 7,
   "metadata": {},
   "outputs": [],
   "source": [
    "def crab_cups(data, n_iter):\n",
    "    cups = [int(n)-1 for n in data]\n",
    "    N = len(cups)\n",
    "    current = cups[0]\n",
    "    succ = np.zeros(N, dtype=np.uint8)\n",
    "    for c, s in zip(cups, cups[1:]+cups[:1]):\n",
    "        succ[c] = s\n",
    "    \n",
    "    for _ in range(n_iter):\n",
    "        moved = []\n",
    "        p = current\n",
    "        for _ in range(3):\n",
    "            moved.append(succ[p])\n",
    "            p = moved[-1]\n",
    "        dest = (current - 1) % N\n",
    "        while dest in moved:\n",
    "            dest = (dest - 1) % N\n",
    "        succ[current], succ[dest], succ[moved[-1]] = succ[moved[-1]], moved[0], succ[dest]\n",
    "        current = succ[current]\n",
    "    return int(repr_cups(succ, 0)[1:])\n",
    "        "
   ]
  },
  {
   "cell_type": "code",
   "execution_count": 8,
   "metadata": {},
   "outputs": [
    {
     "data": {
      "text/plain": [
       "67384529"
      ]
     },
     "execution_count": 8,
     "metadata": {},
     "output_type": "execute_result"
    }
   ],
   "source": [
    "crab_cups(data, 100)"
   ]
  },
  {
   "cell_type": "code",
   "execution_count": 6,
   "metadata": {},
   "outputs": [
    {
     "data": {
      "text/plain": [
       "24798635"
      ]
     },
     "execution_count": 6,
     "metadata": {},
     "output_type": "execute_result"
    }
   ],
   "source": [
    "crab_cups(\"362981754\", 100)"
   ]
  },
  {
   "cell_type": "code",
   "execution_count": 186,
   "metadata": {},
   "outputs": [],
   "source": [
    "from numba import njit, jit"
   ]
  },
  {
   "cell_type": "code",
   "execution_count": 187,
   "metadata": {},
   "outputs": [],
   "source": [
    "def parse(data):\n",
    "    cups = np.array([int(n)-1 for n in data])\n",
    "    return cups"
   ]
  },
  {
   "cell_type": "code",
   "execution_count": 193,
   "metadata": {},
   "outputs": [],
   "source": [
    "@njit\n",
    "def crab_cups_hard(cups, n_iter, N):\n",
    "    current = cups[0]\n",
    "    succ = np.arange(1,N+1, dtype=np.uint32)\n",
    "    for c, s in zip(cups, np.roll(cups,-1)):\n",
    "        succ[c] = s\n",
    "    if len(cups) < N:\n",
    "        succ[-1], succ[cups[-1]] = cups[0], len(cups)\n",
    "\n",
    "    for _ in range(n_iter):\n",
    "        moved = []\n",
    "        p = current\n",
    "        for _ in range(3):\n",
    "            moved.append(succ[p])\n",
    "            p = moved[-1]\n",
    "        dest = (current - 1) % N\n",
    "        while dest in moved:\n",
    "            dest = (dest - 1) % N\n",
    "        succ[current], succ[dest], succ[moved[-1]] = succ[moved[-1]], moved[0], succ[dest]\n",
    "        current = succ[current]\n",
    "    return (succ[0]+1)*(succ[succ[0]]+1)"
   ]
  },
  {
   "cell_type": "code",
   "execution_count": 194,
   "metadata": {},
   "outputs": [],
   "source": [
    "import time"
   ]
  },
  {
   "cell_type": "code",
   "execution_count": 195,
   "metadata": {},
   "outputs": [
    {
     "name": "stdout",
     "output_type": "stream",
     "text": [
      "5.863401889801025\n",
      "5.85166597366333\n",
      "5.733330965042114\n",
      "5.925648927688599\n",
      "6.277633190155029\n",
      "6.69622278213501\n",
      "7.493098974227905\n",
      "7.261867046356201\n",
      "6.46 s ± 653 ms per loop (mean ± std. dev. of 7 runs, 1 loop each)\n"
     ]
    }
   ],
   "source": [
    "%%timeit\n",
    "t0 = time.time()\n",
    "crab_cups_hard(parse(\"389125467\"), int(1e7), int(1e6))\n",
    "print(time.time()-t0)"
   ]
  },
  {
   "cell_type": "code",
   "execution_count": 191,
   "metadata": {},
   "outputs": [
    {
     "data": {
      "text/plain": [
       "12757828710"
      ]
     },
     "execution_count": 191,
     "metadata": {},
     "output_type": "execute_result"
    }
   ],
   "source": [
    "crab_cups_hard(parse(\"362981754\"), int(1e7), int(1e6))"
   ]
  },
  {
   "cell_type": "code",
   "execution_count": 164,
   "metadata": {},
   "outputs": [
    {
     "name": "stdout",
     "output_type": "stream",
     "text": [
      "163035127721\n",
      "12.864352941513062\n"
     ]
    }
   ],
   "source": [
    "from time import time\n",
    "\n",
    "my_input = \"215694783\"\n",
    "example = \"389125467\"\n",
    "\n",
    "def play(cups, iterations):\n",
    "    max_ = max(cups)\n",
    "    circle = [0] * (max_+1) # thank you /u/setapoux/\n",
    "    for i in range(len(cups)-1):\n",
    "        circle[cups[i]] = cups[i+1]\n",
    "    circle[cups[-1]] = cups[0]\n",
    "    current = circle[cups[-1]]\n",
    "\n",
    "    for _ in range(iterations):\n",
    "        picked_up = []\n",
    "        next_ = current\n",
    "        for _ in range(3):\n",
    "            next_ = circle[next_]\n",
    "            picked_up.append(next_)\n",
    "\n",
    "        destination = current\n",
    "        while True:\n",
    "            destination -= 1\n",
    "            if destination < 1:\n",
    "                destination = int(max_)\n",
    "            if destination not in picked_up:\n",
    "                break\n",
    "\n",
    "        temp = circle[picked_up[-1]]\n",
    "        circle[picked_up[-1]] = circle[destination]\n",
    "        circle[destination] = picked_up[0]\n",
    "        circle[current] = temp\n",
    "\n",
    "        current = temp # thank you /u/setapoux/\n",
    "\n",
    "    a = circle[1]\n",
    "    b = circle[a]\n",
    "    print(a*b)\n",
    "\n",
    "import time\n",
    "t0 = time.time()\n",
    "play(list(map(int, list(my_input))) + list(range(10, int(1e6)+1)), int(1e7))\n",
    "print(time.time()-t0)"
   ]
  },
  {
   "cell_type": "code",
   "execution_count": null,
   "metadata": {},
   "outputs": [],
   "source": []
  }
 ],
 "metadata": {
  "kernelspec": {
   "display_name": "Python 3",
   "language": "python",
   "name": "python3"
  },
  "language_info": {
   "codemirror_mode": {
    "name": "ipython",
    "version": 3
   },
   "file_extension": ".py",
   "mimetype": "text/x-python",
   "name": "python",
   "nbconvert_exporter": "python",
   "pygments_lexer": "ipython3",
   "version": "3.8.3"
  }
 },
 "nbformat": 4,
 "nbformat_minor": 4
}
