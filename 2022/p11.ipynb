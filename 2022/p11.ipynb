{
 "cells": [
  {
   "cell_type": "code",
   "execution_count": 166,
   "metadata": {},
   "outputs": [],
   "source": [
    "from aocd.models import Puzzle\n",
    "\n",
    "puzzle = Puzzle(year=2022, day=11)\n",
    "\n",
    "def parses(input):\n",
    "    blocks = input.strip().split('\\n\\n')\n",
    "    monkeys = [ parse.parse(\n",
    "\"\"\"Monkey {:d}:\n",
    "  Starting items: {}\n",
    "  Operation: new = {}\n",
    "  Test: divisible by {:d}\n",
    "    If true: throw to monkey {:d}\n",
    "    If false: throw to monkey {:d}\"\"\",\n",
    "        block\n",
    "    ).fixed\n",
    "    for block in blocks]\n",
    "    \n",
    "    def parse_op(op):\n",
    "        if op == 'old * old':\n",
    "            return lambda x: x*x\n",
    "        elif op.startswith('old * '):\n",
    "            return lambda x: x * int(op.split()[-1])\n",
    "        elif op.startswith('old + '):\n",
    "            return lambda x: x + int(op.split()[-1])\n",
    "    \n",
    "    return [(\n",
    "        [int(i) for i in starting.split(', ')],\n",
    "        (parse_op(op), div, (m_false, m_true)),\n",
    "    )\n",
    "     for n, starting, op, div, m_true, m_false in monkeys]\n",
    "\n",
    "data = parses(puzzle.input_data)"
   ]
  },
  {
   "cell_type": "code",
   "execution_count": 168,
   "metadata": {},
   "outputs": [],
   "source": [
    "sample = parses(\"\"\"Monkey 0:\n",
    "  Starting items: 79, 98\n",
    "  Operation: new = old * 19\n",
    "  Test: divisible by 23\n",
    "    If true: throw to monkey 2\n",
    "    If false: throw to monkey 3\n",
    "\n",
    "Monkey 1:\n",
    "  Starting items: 54, 65, 75, 74\n",
    "  Operation: new = old + 6\n",
    "  Test: divisible by 19\n",
    "    If true: throw to monkey 2\n",
    "    If false: throw to monkey 0\n",
    "\n",
    "Monkey 2:\n",
    "  Starting items: 79, 60, 97\n",
    "  Operation: new = old * old\n",
    "  Test: divisible by 13\n",
    "    If true: throw to monkey 1\n",
    "    If false: throw to monkey 3\n",
    "\n",
    "Monkey 3:\n",
    "  Starting items: 74\n",
    "  Operation: new = old + 3\n",
    "  Test: divisible by 17\n",
    "    If true: throw to monkey 0\n",
    "    If false: throw to monkey 1\n",
    "\"\"\")"
   ]
  },
  {
   "cell_type": "code",
   "execution_count": 170,
   "metadata": {},
   "outputs": [],
   "source": [
    "import copy"
   ]
  },
  {
   "cell_type": "code",
   "execution_count": 174,
   "metadata": {},
   "outputs": [],
   "source": [
    "def solve_a(data):\n",
    "    state = copy.deepcopy(data)\n",
    "    times = [0 for _ in state]\n",
    "    for _ in range(20):\n",
    "        for i, (holding, logic) in enumerate(state):\n",
    "            op, div, targets = logic\n",
    "            times[i] += len(holding)\n",
    "            for worry in holding:\n",
    "                worry = op(worry) // 3\n",
    "                throw = targets[worry % div == 0]\n",
    "                state[throw][0].append(worry)\n",
    "            state[i] = [], logic\n",
    "    *_, a, b = sorted(times)\n",
    "    return a * b"
   ]
  },
  {
   "cell_type": "code",
   "execution_count": 175,
   "metadata": {},
   "outputs": [
    {
     "data": {
      "text/plain": [
       "10605"
      ]
     },
     "execution_count": 175,
     "metadata": {},
     "output_type": "execute_result"
    }
   ],
   "source": [
    "solve_a(sample)"
   ]
  },
  {
   "cell_type": "code",
   "execution_count": 176,
   "metadata": {},
   "outputs": [
    {
     "data": {
      "text/plain": [
       "56595"
      ]
     },
     "execution_count": 176,
     "metadata": {},
     "output_type": "execute_result"
    }
   ],
   "source": [
    "solve_a(data)"
   ]
  },
  {
   "cell_type": "code",
   "execution_count": 180,
   "metadata": {},
   "outputs": [],
   "source": [
    "def solve_b(data):\n",
    "    state = copy.deepcopy(data)\n",
    "    times = [0 for _ in state]\n",
    "    # poor man's lcm, divs are prime anyway\n",
    "    MOD = math.prod([div for _, (_, div, _) in state]) \n",
    "    for _ in range(10_000):\n",
    "        for i, (holding, logic) in enumerate(state):\n",
    "            op, div, targets = logic\n",
    "            times[i] += len(holding)\n",
    "            for worry in holding:\n",
    "                worry = op(worry) % MOD\n",
    "                throw = targets[worry % div == 0]\n",
    "                state[throw][0].append(worry)\n",
    "            state[i] = [], logic\n",
    "    *_, a, b = sorted(times)\n",
    "    return a * b"
   ]
  },
  {
   "cell_type": "code",
   "execution_count": 181,
   "metadata": {},
   "outputs": [
    {
     "data": {
      "text/plain": [
       "2713310158"
      ]
     },
     "execution_count": 181,
     "metadata": {},
     "output_type": "execute_result"
    }
   ],
   "source": [
    "solve_b(sample)"
   ]
  },
  {
   "cell_type": "code",
   "execution_count": 182,
   "metadata": {},
   "outputs": [
    {
     "data": {
      "text/plain": [
       "15693274740"
      ]
     },
     "execution_count": 182,
     "metadata": {},
     "output_type": "execute_result"
    }
   ],
   "source": [
    "solve_b(data)"
   ]
  },
  {
   "cell_type": "code",
   "execution_count": null,
   "metadata": {},
   "outputs": [],
   "source": []
  },
  {
   "cell_type": "code",
   "execution_count": null,
   "metadata": {},
   "outputs": [],
   "source": []
  },
  {
   "cell_type": "code",
   "execution_count": 117,
   "metadata": {},
   "outputs": [
    {
     "data": {
      "text/plain": [
       "13140"
      ]
     },
     "execution_count": 117,
     "metadata": {},
     "output_type": "execute_result"
    }
   ],
   "source": [
    "solve_a(sample)"
   ]
  },
  {
   "cell_type": "code",
   "execution_count": 118,
   "metadata": {},
   "outputs": [
    {
     "data": {
      "text/plain": [
       "13140"
      ]
     },
     "execution_count": 118,
     "metadata": {},
     "output_type": "execute_result"
    }
   ],
   "source": [
    "solve_a(sample)"
   ]
  },
  {
   "cell_type": "code",
   "execution_count": 104,
   "metadata": {},
   "outputs": [
    {
     "ename": "TypeError",
     "evalue": "parse() missing 1 required positional argument: 'string'",
     "output_type": "error",
     "traceback": [
      "\u001b[0;31m---------------------------------------------------------------------------\u001b[0m",
      "\u001b[0;31mTypeError\u001b[0m                                 Traceback (most recent call last)",
      "\u001b[0;32m<ipython-input-104-35df408bd4b8>\u001b[0m in \u001b[0;36m<module>\u001b[0;34m\u001b[0m\n\u001b[0;32m----> 1\u001b[0;31m parse.parse(\n\u001b[0m\u001b[1;32m      2\u001b[0m     \u001b[0;34m'Monkey 0:\\n  Starting items: 79, 98\\n  Operation: new = old * 19\\n  Test: divisible by 23\\n    If true: throw to monkey 2\\n    If false: throw to monkey 3'\u001b[0m\u001b[0;34m\u001b[0m\u001b[0;34m\u001b[0m\u001b[0m\n\u001b[1;32m      3\u001b[0m \u001b[0;34m'Monkey {num:d}\\n  Starting items: {items:}\\n  Operation: new = {op:}\\n  Test: divisible by {div:d}\\n    If true: throw to monkey {monk_true:d}\\n    If false: throw to monkey {monk_false:d}'\u001b[0m\u001b[0;34m\u001b[0m\u001b[0;34m\u001b[0m\u001b[0m\n\u001b[1;32m      4\u001b[0m ).fixed\n",
      "\u001b[0;31mTypeError\u001b[0m: parse() missing 1 required positional argument: 'string'"
     ]
    }
   ],
   "source": [
    "parse.parse(\n",
    "    'Monkey 0:\\n  Starting items: 79, 98\\n  Operation: new = old * 19\\n  Test: divisible by 23\\n    If true: throw to monkey 2\\n    If false: throw to monkey 3'\n",
    "'Monkey {num:d}\\n  Starting items: {items:}\\n  Operation: new = {op:}\\n  Test: divisible by {div:d}\\n    If true: throw to monkey {monk_true:d}\\n    If false: throw to monkey {monk_false:d}'\n",
    ").fixed"
   ]
  },
  {
   "cell_type": "code",
   "execution_count": null,
   "metadata": {},
   "outputs": [],
   "source": []
  }
 ],
 "metadata": {
  "kernelspec": {
   "display_name": "Python 3",
   "language": "python",
   "name": "python3"
  },
  "language_info": {
   "codemirror_mode": {
    "name": "ipython",
    "version": 3
   },
   "file_extension": ".py",
   "mimetype": "text/x-python",
   "name": "python",
   "nbconvert_exporter": "python",
   "pygments_lexer": "ipython3",
   "version": "3.8.8"
  }
 },
 "nbformat": 4,
 "nbformat_minor": 4
}
