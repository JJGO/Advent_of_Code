{
 "cells": [
  {
   "cell_type": "code",
   "execution_count": 72,
   "metadata": {},
   "outputs": [],
   "source": [
    "from aocd.models import Puzzle\n",
    "\n",
    "puzzle = Puzzle(year=2022, day=2)\n",
    "\n",
    "def parses(input):\n",
    "    return [tuple(line.split()) for line in input.strip().split('\\n')]\n",
    "\n",
    "data = parses(puzzle.input_data)"
   ]
  },
  {
   "cell_type": "code",
   "execution_count": 73,
   "metadata": {},
   "outputs": [],
   "source": [
    "sample = parses(\"\"\"A Y\n",
    "B X\n",
    "C Z\"\"\")"
   ]
  },
  {
   "cell_type": "code",
   "execution_count": 74,
   "metadata": {},
   "outputs": [],
   "source": [
    "# 0:Rock, 1:Paper, 2:Scissors\n",
    "def as_ints(data):\n",
    "    return [(\n",
    "        ord(x)-ord('A'),\n",
    "        ord(y)-ord('X')\n",
    "        ) for x, y in data]"
   ]
  },
  {
   "cell_type": "code",
   "execution_count": 75,
   "metadata": {},
   "outputs": [],
   "source": [
    "def solve_a(data):\n",
    "    data = as_ints(data)\n",
    "    # mine-other mod 3 -> 0:draw, 1:win, 2:lose\n",
    "    return sum((\n",
    "        (1+mine) + [3,6,0][mine-other % 3]\n",
    "        for other, mine in data))"
   ]
  },
  {
   "cell_type": "code",
   "execution_count": 76,
   "metadata": {},
   "outputs": [
    {
     "data": {
      "text/plain": [
       "15"
      ]
     },
     "execution_count": 76,
     "metadata": {},
     "output_type": "execute_result"
    }
   ],
   "source": [
    "solve_a(sample)"
   ]
  },
  {
   "cell_type": "code",
   "execution_count": 77,
   "metadata": {},
   "outputs": [
    {
     "data": {
      "text/plain": [
       "13682"
      ]
     },
     "execution_count": 77,
     "metadata": {},
     "output_type": "execute_result"
    }
   ],
   "source": [
    "solve_a(data)"
   ]
  },
  {
   "cell_type": "code",
   "execution_count": 87,
   "metadata": {},
   "outputs": [],
   "source": [
    "def solve_b(data):\n",
    "    data = as_ints(data)\n",
    "    # outcome + 2 mod 3 == mine - other mod 3\n",
    "    # mine = (2+outcome+other) mod 3\n",
    "    return sum((\n",
    "        (1+((outcome+2+other) % 3)) + [0,3,6][outcome]\n",
    "        for other, outcome in data))"
   ]
  },
  {
   "cell_type": "code",
   "execution_count": 88,
   "metadata": {},
   "outputs": [
    {
     "data": {
      "text/plain": [
       "12"
      ]
     },
     "execution_count": 88,
     "metadata": {},
     "output_type": "execute_result"
    }
   ],
   "source": [
    "solve_b(sample)"
   ]
  },
  {
   "cell_type": "code",
   "execution_count": 89,
   "metadata": {},
   "outputs": [
    {
     "data": {
      "text/plain": [
       "12881"
      ]
     },
     "execution_count": 89,
     "metadata": {},
     "output_type": "execute_result"
    }
   ],
   "source": [
    "solve_b(data)"
   ]
  },
  {
   "cell_type": "code",
   "execution_count": null,
   "metadata": {},
   "outputs": [],
   "source": []
  }
 ],
 "metadata": {
  "kernelspec": {
   "display_name": "Python 3 (ipykernel)",
   "language": "python",
   "name": "python3"
  },
  "language_info": {
   "codemirror_mode": {
    "name": "ipython",
    "version": 3
   },
   "file_extension": ".py",
   "mimetype": "text/x-python",
   "name": "python",
   "nbconvert_exporter": "python",
   "pygments_lexer": "ipython3",
   "version": "3.9.7"
  }
 },
 "nbformat": 4,
 "nbformat_minor": 4
}
