{
 "cells": [
  {
   "cell_type": "code",
   "execution_count": 38,
   "id": "bcccfc41",
   "metadata": {},
   "outputs": [],
   "source": [
    "from aocd.models import Puzzle\n",
    "\n",
    "puzzle = Puzzle(year=2022, day=18)\n",
    "\n",
    "def parses(input):\n",
    "    return [tuple([int(i) for i in line.split(',')]) \n",
    "            for line in input.strip().split('\\n')]\n",
    "        \n",
    "data = parses(puzzle.input_data)"
   ]
  },
  {
   "cell_type": "code",
   "execution_count": 150,
   "id": "c9810682",
   "metadata": {},
   "outputs": [],
   "source": [
    "sample = parses(\"\"\"2,2,2\n",
    "1,2,2\n",
    "3,2,2\n",
    "2,1,2\n",
    "2,3,2\n",
    "2,2,1\n",
    "2,2,3\n",
    "2,2,4\n",
    "2,2,6\n",
    "1,2,5\n",
    "3,2,5\n",
    "2,1,5\n",
    "2,3,5\n",
    "\"\"\")"
   ]
  },
  {
   "cell_type": "code",
   "execution_count": 151,
   "id": "c38c6e54",
   "metadata": {},
   "outputs": [],
   "source": [
    "def neighbors(x, y, z):\n",
    "    return [(x+1,y,z),(x-1,y,z),(x,y+1,z),(x,y-1,z),(x,y,z+1),(x,y,z-1)]"
   ]
  },
  {
   "cell_type": "code",
   "execution_count": 152,
   "id": "70ab5d07",
   "metadata": {},
   "outputs": [],
   "source": [
    "def solve_a(data):\n",
    "    total = 0\n",
    "    seen = set()\n",
    "    for point in data:\n",
    "        total += sum(1 if n not in seen else -1 for n in neighbors(*point))\n",
    "        seen.add(point)\n",
    "    return total"
   ]
  },
  {
   "cell_type": "code",
   "execution_count": 153,
   "id": "ca62acd0",
   "metadata": {},
   "outputs": [
    {
     "data": {
      "text/plain": [
       "64"
      ]
     },
     "execution_count": 153,
     "metadata": {},
     "output_type": "execute_result"
    }
   ],
   "source": [
    "solve_a(sample)"
   ]
  },
  {
   "cell_type": "code",
   "execution_count": 154,
   "id": "c5326525",
   "metadata": {},
   "outputs": [
    {
     "data": {
      "text/plain": [
       "3396"
      ]
     },
     "execution_count": 154,
     "metadata": {},
     "output_type": "execute_result"
    }
   ],
   "source": [
    "solve_a(data)"
   ]
  },
  {
   "cell_type": "code",
   "execution_count": 43,
   "id": "21f1a09d",
   "metadata": {},
   "outputs": [
    {
     "data": {
      "text/plain": [
       "2176"
      ]
     },
     "execution_count": 43,
     "metadata": {},
     "output_type": "execute_result"
    }
   ],
   "source": [
    "len(data)"
   ]
  },
  {
   "cell_type": "code",
   "execution_count": 143,
   "id": "21ced39a",
   "metadata": {},
   "outputs": [],
   "source": [
    "import itertools"
   ]
  },
  {
   "cell_type": "code",
   "execution_count": 146,
   "id": "0fc268cd",
   "metadata": {},
   "outputs": [],
   "source": [
    "def solve_b(data):\n",
    "    # solution that actually finds the interior points\n",
    "    # in practice, this is not necessary\n",
    "    mins = [min(axis) for axis in zip(*data)]\n",
    "    maxs = [max(axis) for axis in zip(*data)]\n",
    "    rock = set(data)\n",
    "    inside = set()\n",
    "    outside = set()\n",
    "    \n",
    "    points = list(itertools.product(*(range(a,b+1) for a,b in zip(mins,maxs))))\n",
    "    for point in points:\n",
    "        if all(point not in place for place in (inside, outside, rock)) :\n",
    "            stack = [point]\n",
    "            visited = set([point])\n",
    "            is_outside = False\n",
    "            while stack and (not is_outside):\n",
    "                point = stack.pop()\n",
    "                for neighbor in neighbors(*point):\n",
    "                    out_of_bounds = any(w < min_ for w, min_ in zip(neighbor, mins)) or any(w > max_ for w, max_ in zip(neighbor, maxs))\n",
    "                    if neighbor in outside or out_of_bounds:\n",
    "                        is_outside = True\n",
    "                    elif neighbor not in rock and neighbor not in visited:\n",
    "                        visited.add(neighbor)\n",
    "                        stack.append(neighbor)\n",
    "            if is_outside:\n",
    "                outside |= visited\n",
    "            else:\n",
    "                inside |= visited\n",
    "\n",
    "    # Exterior surface are is all surface area - surface area of air pockets\n",
    "    return solve_a(rock) - solve_a(inside)"
   ]
  },
  {
   "cell_type": "code",
   "execution_count": 145,
   "id": "186fc44b",
   "metadata": {},
   "outputs": [
    {
     "data": {
      "text/plain": [
       "2044"
      ]
     },
     "execution_count": 145,
     "metadata": {},
     "output_type": "execute_result"
    }
   ],
   "source": [
    "solve_b(data)"
   ]
  },
  {
   "cell_type": "code",
   "execution_count": 147,
   "id": "71d00146",
   "metadata": {},
   "outputs": [],
   "source": [
    "def solve_b(data):\n",
    "    surface = 0\n",
    "    mins = tuple([min(axis)-1 for axis in zip(*data)])\n",
    "    maxs = tuple([max(axis)+1 for axis in zip(*data)])\n",
    "    rock = set(data)\n",
    "    stack = [mins]\n",
    "    visited = set(stack)\n",
    "    while stack:\n",
    "        point = stack.pop()\n",
    "        for neighbor in neighbors(*point):\n",
    "            if all( min_ <= c <= max_ for c, min_, max_ in zip(neighbor, mins, maxs)):\n",
    "                if neighbor in rock:\n",
    "                    surface += 1\n",
    "                elif neighbor not in visited:\n",
    "                    visited.add(neighbor)\n",
    "                    stack.append(neighbor)\n",
    "    return surface"
   ]
  },
  {
   "cell_type": "code",
   "execution_count": null,
   "id": "e321cf6c",
   "metadata": {},
   "outputs": [],
   "source": []
  },
  {
   "cell_type": "code",
   "execution_count": 148,
   "id": "a2dd3d23",
   "metadata": {},
   "outputs": [
    {
     "data": {
      "text/plain": [
       "58"
      ]
     },
     "execution_count": 148,
     "metadata": {},
     "output_type": "execute_result"
    }
   ],
   "source": [
    "solve_b(sample)"
   ]
  },
  {
   "cell_type": "code",
   "execution_count": 149,
   "id": "6a62e44c",
   "metadata": {},
   "outputs": [
    {
     "data": {
      "text/plain": [
       "2044"
      ]
     },
     "execution_count": 149,
     "metadata": {},
     "output_type": "execute_result"
    }
   ],
   "source": [
    "solve_b(data)"
   ]
  },
  {
   "cell_type": "code",
   "execution_count": null,
   "id": "4c10c0ea",
   "metadata": {},
   "outputs": [],
   "source": []
  }
 ],
 "metadata": {
  "kernelspec": {
   "display_name": "Python 3",
   "language": "python",
   "name": "python3"
  },
  "language_info": {
   "codemirror_mode": {
    "name": "ipython",
    "version": 3
   },
   "file_extension": ".py",
   "mimetype": "text/x-python",
   "name": "python",
   "nbconvert_exporter": "python",
   "pygments_lexer": "ipython3",
   "version": "3.8.8"
  }
 },
 "nbformat": 4,
 "nbformat_minor": 5
}
