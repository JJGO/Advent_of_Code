{
 "cells": [
  {
   "cell_type": "code",
   "execution_count": 1,
   "id": "d20d375b",
   "metadata": {},
   "outputs": [],
   "source": [
    "from aocd.models import Puzzle\n",
    "\n",
    "puzzle = Puzzle(year=2019, day=1)\n",
    "\n",
    "def parses(input):\n",
    "    return [int(line) for line in input.strip().split('\\n')]\n",
    "        \n",
    "data = parses(puzzle.input_data)"
   ]
  },
  {
   "cell_type": "code",
   "execution_count": 4,
   "id": "f47fd928",
   "metadata": {},
   "outputs": [],
   "source": [
    "def solve_a(data):\n",
    "    return sum([i//3-2 for i in data])"
   ]
  },
  {
   "cell_type": "code",
   "execution_count": 5,
   "id": "47a57622",
   "metadata": {},
   "outputs": [
    {
     "data": {
      "text/plain": [
       "3425624"
      ]
     },
     "execution_count": 5,
     "metadata": {},
     "output_type": "execute_result"
    }
   ],
   "source": [
    "solve_a(data)"
   ]
  },
  {
   "cell_type": "code",
   "execution_count": 6,
   "id": "5a7f97ce",
   "metadata": {},
   "outputs": [],
   "source": [
    "def solve_b(data):\n",
    "    total = 0\n",
    "    for mass in data:\n",
    "        while (fuel := mass // 3 - 2) > 0:\n",
    "            total += fuel\n",
    "            mass = fuel\n",
    "    return total"
   ]
  },
  {
   "cell_type": "code",
   "execution_count": 9,
   "id": "bf011d65",
   "metadata": {},
   "outputs": [
    {
     "data": {
      "text/plain": [
       "5135558"
      ]
     },
     "execution_count": 9,
     "metadata": {},
     "output_type": "execute_result"
    }
   ],
   "source": [
    "solve_b(data)"
   ]
  },
  {
   "cell_type": "code",
   "execution_count": null,
   "id": "60d7eb92",
   "metadata": {},
   "outputs": [],
   "source": []
  },
  {
   "cell_type": "code",
   "execution_count": 10,
   "id": "d3808465",
   "metadata": {},
   "outputs": [],
   "source": [
    "from aocd.models import Puzzle\n",
    "\n",
    "puzzle = Puzzle(year=2019, day=2)\n",
    "\n",
    "def parses(input):\n",
    "    return [int(i) for i in input.strip().split(',')]\n",
    "        \n",
    "data = parses(puzzle.input_data)"
   ]
  },
  {
   "cell_type": "code",
   "execution_count": 11,
   "id": "9a7507dd",
   "metadata": {},
   "outputs": [],
   "source": [
    "sample = parses(\"1,9,10,3,2,3,11,0,99,30,40,50\")"
   ]
  },
  {
   "cell_type": "code",
   "execution_count": 28,
   "id": "3a9e5014",
   "metadata": {},
   "outputs": [],
   "source": [
    "def solve_a(data):\n",
    "    data = data.copy()\n",
    "    data[1] = 12\n",
    "    data[2] = 2\n",
    "    i = 0\n",
    "    while True:\n",
    "        opcode = data[i]\n",
    "        if opcode == 99:\n",
    "            break\n",
    "        elif opcode in (1,2):\n",
    "            p, q, r = data[i+1:i+4]\n",
    "            a, b = data[p], data[q]\n",
    "            res = a+b if opcode == 1 else a*b\n",
    "            data[r] = res\n",
    "            i += 4\n",
    "    return data[0]\n",
    "            "
   ]
  },
  {
   "cell_type": "code",
   "execution_count": 29,
   "id": "1cf4cf6f",
   "metadata": {},
   "outputs": [
    {
     "data": {
      "text/plain": [
       "181"
      ]
     },
     "execution_count": 29,
     "metadata": {},
     "output_type": "execute_result"
    }
   ],
   "source": [
    "len(data)"
   ]
  },
  {
   "cell_type": "code",
   "execution_count": 30,
   "id": "b68dc28c",
   "metadata": {},
   "outputs": [
    {
     "data": {
      "text/plain": [
       "3654868"
      ]
     },
     "execution_count": 30,
     "metadata": {},
     "output_type": "execute_result"
    }
   ],
   "source": [
    "solve_a(data)"
   ]
  },
  {
   "cell_type": "code",
   "execution_count": null,
   "id": "103c36dd",
   "metadata": {},
   "outputs": [],
   "source": []
  }
 ],
 "metadata": {
  "kernelspec": {
   "display_name": "Python 3",
   "language": "python",
   "name": "python3"
  },
  "language_info": {
   "codemirror_mode": {
    "name": "ipython",
    "version": 3
   },
   "file_extension": ".py",
   "mimetype": "text/x-python",
   "name": "python",
   "nbconvert_exporter": "python",
   "pygments_lexer": "ipython3",
   "version": "3.8.8"
  }
 },
 "nbformat": 4,
 "nbformat_minor": 5
}
