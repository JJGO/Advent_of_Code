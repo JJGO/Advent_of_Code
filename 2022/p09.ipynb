{
 "cells": [
  {
   "cell_type": "code",
   "execution_count": 8,
   "metadata": {},
   "outputs": [],
   "source": [
    "from aocd.models import Puzzle\n",
    "\n",
    "puzzle = Puzzle(year=2022, day=9)\n",
    "\n",
    "def parses(input):\n",
    "    data = [ line.split(' ') for line in input.strip().split('\\n')]\n",
    "    return [(d, int(i)) for d, i in data]\n",
    "\n",
    "data = parses(puzzle.input_data)"
   ]
  },
  {
   "cell_type": "code",
   "execution_count": 116,
   "metadata": {},
   "outputs": [
    {
     "data": {
      "text/plain": [
       "1.4142135623730951"
      ]
     },
     "execution_count": 116,
     "metadata": {},
     "output_type": "execute_result"
    }
   ],
   "source": [
    "abs(1+1j)"
   ]
  },
  {
   "cell_type": "code",
   "execution_count": 154,
   "metadata": {},
   "outputs": [],
   "source": [
    "36"
   ]
  },
  {
   "cell_type": "code",
   "execution_count": 147,
   "metadata": {},
   "outputs": [],
   "source": [
    "def sign(x):\n",
    "    return complex(\n",
    "        (x.real > 0) - (x.real < 0),\n",
    "        (x.imag > 0) - (x.imag < 0)\n",
    "    )\n",
    "\n",
    "def solve_a(data):\n",
    "    moves = {'R': 1, 'L':-1, 'U':1j, 'D':-1j}\n",
    "    visited = set()\n",
    "    H, T = 0, 0\n",
    "    for direction, times in data:\n",
    "        for _ in range(times):\n",
    "            H += moves[direction]\n",
    "            if abs(H-T) >= 2:\n",
    "                T += sign(H-T)\n",
    "            visited.add(T)\n",
    "    return len(visited)"
   ]
  },
  {
   "cell_type": "code",
   "execution_count": 148,
   "metadata": {},
   "outputs": [
    {
     "data": {
      "text/plain": [
       "13"
      ]
     },
     "execution_count": 148,
     "metadata": {},
     "output_type": "execute_result"
    }
   ],
   "source": [
    "solve_a(sample)"
   ]
  },
  {
   "cell_type": "code",
   "execution_count": 153,
   "metadata": {},
   "outputs": [
    {
     "data": {
      "text/plain": [
       "6464"
      ]
     },
     "execution_count": 153,
     "metadata": {},
     "output_type": "execute_result"
    }
   ],
   "source": [
    "solve_a(data)"
   ]
  },
  {
   "cell_type": "code",
   "execution_count": 149,
   "metadata": {},
   "outputs": [],
   "source": [
    "def solve_b(data):\n",
    "    moves = {'R': 1, 'L':-1, 'U':1j, 'D':-1j}\n",
    "    visited = set()\n",
    "    rope = [0 for _ in range(10)]\n",
    "    for direction, times in data:\n",
    "        for _ in range(times):\n",
    "            rope[0] += moves[direction]\n",
    "            for i in range(1,10):\n",
    "                if abs(rope[i-1]-rope[i]) >= 2:\n",
    "                    rope[i] += sign(rope[i-1]-rope[i])\n",
    "            visited.add(rope[-1])\n",
    "    return len(visited)"
   ]
  },
  {
   "cell_type": "code",
   "execution_count": 150,
   "metadata": {},
   "outputs": [
    {
     "data": {
      "text/plain": [
       "1"
      ]
     },
     "execution_count": 150,
     "metadata": {},
     "output_type": "execute_result"
    }
   ],
   "source": [
    "solve_b(sample)"
   ]
  },
  {
   "cell_type": "code",
   "execution_count": 151,
   "metadata": {},
   "outputs": [
    {
     "data": {
      "text/plain": [
       "36"
      ]
     },
     "execution_count": 151,
     "metadata": {},
     "output_type": "execute_result"
    }
   ],
   "source": [
    "solve_b(sample2)"
   ]
  },
  {
   "cell_type": "code",
   "execution_count": 152,
   "metadata": {},
   "outputs": [
    {
     "data": {
      "text/plain": [
       "2604"
      ]
     },
     "execution_count": 152,
     "metadata": {},
     "output_type": "execute_result"
    }
   ],
   "source": [
    "solve_b(data)"
   ]
  },
  {
   "cell_type": "code",
   "execution_count": null,
   "metadata": {},
   "outputs": [],
   "source": []
  },
  {
   "cell_type": "code",
   "execution_count": 143,
   "metadata": {},
   "outputs": [],
   "source": [
    "def solve_a(data):\n",
    "    H, T = np.array([0,0]), np.array([0,0])\n",
    "    moves = {\n",
    "        'R': np.array([1,0]),\n",
    "        'L': np.array([-1,0]),\n",
    "        'U': np.array([0,1]),\n",
    "        'D': np.array([0,-1]),\n",
    "    }\n",
    "    visited = set([(0,0)])\n",
    "    for direction, times in data:\n",
    "        for _ in range(times):\n",
    "            H += moves[direction]\n",
    "            if ((H-T)**2).sum() >= 4:\n",
    "                T += np.sign(H-T)\n",
    "            visited.add(tuple(T.tolist()))\n",
    "    return len(visited)"
   ]
  },
  {
   "cell_type": "code",
   "execution_count": 144,
   "metadata": {},
   "outputs": [
    {
     "name": "stdout",
     "output_type": "stream",
     "text": [
      "--\n",
      "(1+0j) 0j\n",
      "(2+0j) (1+0j)\n",
      "(3+0j) (2+0j)\n",
      "(4+0j) (3+0j)\n",
      "--\n",
      "(4+1j) (3+0j)\n",
      "(4+2j) (4+1j)\n",
      "(4+3j) (4+2j)\n",
      "(4+4j) (4+3j)\n",
      "--\n",
      "(3+4j) (4+3j)\n",
      "(2+4j) (3+4j)\n",
      "(1+4j) (2+4j)\n",
      "--\n",
      "(1+3j) (2+4j)\n",
      "--\n",
      "(2+3j) (2+4j)\n",
      "(3+3j) (2+4j)\n",
      "(4+3j) (3+3j)\n",
      "(5+3j) (4+3j)\n",
      "--\n",
      "(5+2j) (4+3j)\n",
      "--\n",
      "(4+2j) (4+3j)\n",
      "(3+2j) (4+3j)\n",
      "(2+2j) (3+2j)\n",
      "(1+2j) (2+2j)\n",
      "2j (1+2j)\n",
      "--\n",
      "(1+2j) (1+2j)\n",
      "(2+2j) (1+2j)\n"
     ]
    },
    {
     "data": {
      "text/plain": [
       "13"
      ]
     },
     "execution_count": 144,
     "metadata": {},
     "output_type": "execute_result"
    }
   ],
   "source": [
    "solve_a(sample)"
   ]
  },
  {
   "cell_type": "code",
   "execution_count": null,
   "metadata": {},
   "outputs": [],
   "source": [
    "# def visualize_pos(visited):\n",
    "#     X = max(i for i, j in visited) + 1\n",
    "#     Y = max(j for i, j in visited)  + 1\n",
    "#     M = np.zeros((X,Y), dtype=bool)\n",
    "#     for i,j in visited:\n",
    "#         M[i,j] = True\n",
    "#     M = np.rot90(np.where(visualize_pos(solve_a(sample)), '#', '.'))    \n",
    "    "
   ]
  },
  {
   "cell_type": "code",
   "execution_count": 105,
   "metadata": {},
   "outputs": [],
   "source": [
    "def solve_b(data):\n",
    "    rope = [np.array([0,0]) for _ in range(10)]\n",
    "    \n",
    "    moves = {\n",
    "        'R': np.array([1,0]),\n",
    "        'L': np.array([-1,0]),\n",
    "        'U': np.array([0,1]),\n",
    "        'D': np.array([0,-1]),\n",
    "    }\n",
    "    visited = set([(0,0)])\n",
    "    for direction, times in data:\n",
    "        for _ in range(times):\n",
    "            rope[0] += moves[direction]\n",
    "            for i in range(1,10):\n",
    "                if ((rope[i]-rope[i-1])**2).sum() >= 4:\n",
    "                    rope[i] += np.sign(rope[i-1]-rope[i])\n",
    "            visited.add(tuple(rope[-1].tolist()))\n",
    "#             visualize_rope(rope)\n",
    "    return len(visited)"
   ]
  },
  {
   "cell_type": "code",
   "execution_count": 106,
   "metadata": {},
   "outputs": [],
   "source": [
    "# def visualize_rope(rope):\n",
    "#     maxX, maxY = np.stack(rope).max(axis=0) +1 \n",
    "#     minX, minY = np.stack(rope).min(axis=0)\n",
    "    \n",
    "#     maxX, maxY = 15,15\n",
    "#     minX, minY = -15,-15\n",
    "#     M = np.full((maxX-minX, maxY-minY), '.', dtype=str)\n",
    "#     for i, (x, y) in enumerate(rope):\n",
    "#         if M[x-minX,y-minY] == '.':\n",
    "#             M[x-minX,y-minY] = str(i) if i > 0 else 'H'\n",
    "#     M = np.rot90(M)\n",
    "#     print(\"\\n\".join(''.join(row.tolist()) for row in M))\n",
    "#     print('---------')\n",
    "        \n",
    "    \n",
    "    "
   ]
  },
  {
   "cell_type": "code",
   "execution_count": 108,
   "metadata": {},
   "outputs": [
    {
     "data": {
      "text/plain": [
       "1"
      ]
     },
     "execution_count": 108,
     "metadata": {},
     "output_type": "execute_result"
    }
   ],
   "source": [
    "solve_b(sample)"
   ]
  },
  {
   "cell_type": "code",
   "execution_count": 109,
   "metadata": {},
   "outputs": [],
   "source": [
    "sample2 = parses(\"\"\"R 5\n",
    "U 8\n",
    "L 8\n",
    "D 3\n",
    "R 17\n",
    "D 10\n",
    "L 25\n",
    "U 20\"\"\")"
   ]
  },
  {
   "cell_type": "code",
   "execution_count": 110,
   "metadata": {},
   "outputs": [
    {
     "data": {
      "text/plain": [
       "36"
      ]
     },
     "execution_count": 110,
     "metadata": {},
     "output_type": "execute_result"
    }
   ],
   "source": [
    "solve_b(sample2)"
   ]
  },
  {
   "cell_type": "code",
   "execution_count": 111,
   "metadata": {},
   "outputs": [
    {
     "data": {
      "text/plain": [
       "2604"
      ]
     },
     "execution_count": 111,
     "metadata": {},
     "output_type": "execute_result"
    }
   ],
   "source": [
    "solve_b(data)"
   ]
  },
  {
   "cell_type": "code",
   "execution_count": 53,
   "metadata": {},
   "outputs": [
    {
     "name": "stdout",
     "output_type": "stream",
     "text": [
      "R 4\n",
      "[1 0] [0 0]\n",
      "[2 0] [1 0]\n",
      "[3 0] [2 0]\n",
      "[4 0] [3 0]\n",
      "U 4\n",
      "[4 1] [3 0]\n",
      "[4 2] [4 1]\n",
      "[4 3] [4 2]\n",
      "[4 4] [4 3]\n",
      "L 3\n",
      "[3 4] [4 3]\n",
      "[2 4] [3 4]\n",
      "[1 4] [2 4]\n",
      "D 1\n",
      "[1 3] [2 4]\n",
      "R 4\n",
      "[2 3] [2 4]\n",
      "[3 3] [2 4]\n",
      "[4 3] [3 3]\n",
      "[5 3] [4 3]\n",
      "D 1\n",
      "[5 2] [4 3]\n",
      "L 5\n",
      "[4 2] [4 3]\n",
      "[3 2] [4 3]\n",
      "[2 2] [3 2]\n",
      "[1 2] [2 2]\n",
      "[0 2] [1 2]\n",
      "R 2\n",
      "[1 2] [1 2]\n",
      "[2 2] [1 2]\n"
     ]
    },
    {
     "data": {
      "text/plain": [
       "array([['.', '.', '#', '#', '.'],\n",
       "       ['.', '.', '.', '#', '#'],\n",
       "       ['.', '#', '#', '#', '#'],\n",
       "       ['.', '.', '.', '.', '#'],\n",
       "       ['#', '#', '#', '#', '.']], dtype='<U1')"
      ]
     },
     "execution_count": 53,
     "metadata": {},
     "output_type": "execute_result"
    }
   ],
   "source": []
  }
 ],
 "metadata": {
  "kernelspec": {
   "display_name": "Python 3",
   "language": "python",
   "name": "python3"
  },
  "language_info": {
   "codemirror_mode": {
    "name": "ipython",
    "version": 3
   },
   "file_extension": ".py",
   "mimetype": "text/x-python",
   "name": "python",
   "nbconvert_exporter": "python",
   "pygments_lexer": "ipython3",
   "version": "3.8.8"
  }
 },
 "nbformat": 4,
 "nbformat_minor": 4
}
