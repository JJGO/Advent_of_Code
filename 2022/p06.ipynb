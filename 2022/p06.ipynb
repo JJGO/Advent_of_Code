{
 "cells": [
  {
   "cell_type": "code",
   "execution_count": 4,
   "metadata": {},
   "outputs": [],
   "source": [
    "from aocd.models import Puzzle\n",
    "\n",
    "puzzle = Puzzle(year=2022, day=6)\n",
    "\n",
    "def parses(input):\n",
    "    return input.strip()\n",
    "\n",
    "data = parses(puzzle.input_data)"
   ]
  },
  {
   "cell_type": "code",
   "execution_count": 5,
   "metadata": {},
   "outputs": [],
   "source": [
    "def solve_a(data):\n",
    "    for i in range(4, len(data)):\n",
    "        if len(set(data[i-4:i])) == 4:\n",
    "            return i"
   ]
  },
  {
   "cell_type": "code",
   "execution_count": 28,
   "metadata": {},
   "outputs": [],
   "source": [
    "samples = [\n",
    "    ('mjqjpqmgbljsphdztnvjfqwrcgsmlb', 4, 19),\n",
    "    ('bvwbjplbgvbhsrlpgdmjqwftvncz', 5, 23),\n",
    "    ('nppdvjthqldpwncqszvftbrmjlhg', 6, 23),\n",
    "    ('nznrnfrfntjfmvfwmzdfjlvtqnbhcprsg', 10, 29),\n",
    "    ('zcfzfwzzqfrljwzlrfnpqdbhtmscgvjw', 11, 26),\n",
    "]"
   ]
  },
  {
   "cell_type": "code",
   "execution_count": 9,
   "metadata": {},
   "outputs": [
    {
     "name": "stdout",
     "output_type": "stream",
     "text": [
      "7 4\n",
      "5 5\n",
      "6 6\n",
      "10 10\n",
      "11 11\n"
     ]
    }
   ],
   "source": [
    "for sample, sol in samples:\n",
    "    print(solve_a(sample), sol)"
   ]
  },
  {
   "cell_type": "code",
   "execution_count": 13,
   "metadata": {},
   "outputs": [],
   "source": [
    "def solve_b(data):\n",
    "    for i in range(14, len(data)):\n",
    "        if len(set(data[i-14:i])) == 14:\n",
    "            return i"
   ]
  },
  {
   "cell_type": "code",
   "execution_count": 14,
   "metadata": {},
   "outputs": [
    {
     "name": "stdout",
     "output_type": "stream",
     "text": [
      "19 4\n",
      "23 5\n",
      "23 6\n",
      "29 10\n",
      "26 11\n"
     ]
    }
   ],
   "source": [
    "for sample, sol in samples:\n",
    "    print(solve_b(sample), sol)"
   ]
  },
  {
   "cell_type": "code",
   "execution_count": 24,
   "metadata": {},
   "outputs": [],
   "source": [
    "from collections import deque, Counter\n",
    "def solve_n(data, n=4):\n",
    "    counts = Counter(data[:n])\n",
    "    queue = deque(data[:n])\n",
    "    for k in range(n,len(data)):\n",
    "        print(counts)\n",
    "        if len(counts) == n:\n",
    "            return k\n",
    "        i = data[k]\n",
    "        counts[i] += 1\n",
    "        queue.append(i)\n",
    "        j = queue.popleft()\n",
    "        counts[j] -= 1\n",
    "        if counts[j] == 0:\n",
    "            counts.pop(j)\n"
   ]
  },
  {
   "cell_type": "code",
   "execution_count": 27,
   "metadata": {},
   "outputs": [
    {
     "name": "stdout",
     "output_type": "stream",
     "text": [
      "Counter({'z': 2, 'c': 1, 'f': 1})\n",
      "Counter({'f': 2, 'z': 1, 'c': 1})\n",
      "Counter({'f': 2, 'z': 1, 'w': 1})\n",
      "Counter({'z': 2, 'f': 1, 'w': 1})\n",
      "Counter({'z': 2, 'f': 1, 'w': 1})\n",
      "Counter({'z': 2, 'w': 1, 'q': 1})\n",
      "Counter({'z': 2, 'q': 1, 'f': 1})\n",
      "Counter({'z': 1, 'q': 1, 'f': 1, 'r': 1})\n"
     ]
    },
    {
     "data": {
      "text/plain": [
       "11"
      ]
     },
     "execution_count": 27,
     "metadata": {},
     "output_type": "execute_result"
    }
   ],
   "source": [
    "solve_n(samples[-1][0])"
   ]
  },
  {
   "cell_type": "code",
   "execution_count": null,
   "metadata": {},
   "outputs": [],
   "source": []
  }
 ],
 "metadata": {
  "kernelspec": {
   "display_name": "Python 3 (ipykernel)",
   "language": "python",
   "name": "python3"
  },
  "language_info": {
   "codemirror_mode": {
    "name": "ipython",
    "version": 3
   },
   "file_extension": ".py",
   "mimetype": "text/x-python",
   "name": "python",
   "nbconvert_exporter": "python",
   "pygments_lexer": "ipython3",
   "version": "3.9.7"
  }
 },
 "nbformat": 4,
 "nbformat_minor": 4
}
