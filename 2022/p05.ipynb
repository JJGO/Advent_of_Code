{
 "cells": [
  {
   "cell_type": "code",
   "execution_count": 51,
   "metadata": {},
   "outputs": [],
   "source": [
    "from aocd.models import Puzzle\n",
    "\n",
    "puzzle = Puzzle(year=2022, day=5)\n",
    "\n",
    "def parses(input):\n",
    "    stacks, moves = input.strip('\\n').split('\\n\\n')\n",
    "    moves = [parse.parse('move {:d} from {:d} to {:d}', line).fixed \n",
    "             for line in moves.split('\\n')]\n",
    "\n",
    "    stacks = [list(line[1::4]) for line in stacks.split('\\n')[:-1]]\n",
    "    stacks = [\n",
    "        [stacks[-i][j] for i in range(1,len(stacks)+1) if stacks[-i][j] != ' ']\n",
    "        for j in range(len(stacks[0]))\n",
    "    ]\n",
    "    return stacks, moves\n",
    "data = parses(puzzle.input_data)"
   ]
  },
  {
   "cell_type": "code",
   "execution_count": 52,
   "metadata": {},
   "outputs": [],
   "source": [
    "sample = parses(\"\"\"    [D]    \n",
    "[N] [C]    \n",
    "[Z] [M] [P]\n",
    " 1   2   3 \n",
    "\n",
    "move 1 from 2 to 1\n",
    "move 3 from 1 to 3\n",
    "move 2 from 2 to 1\n",
    "move 1 from 1 to 2\"\"\")"
   ]
  },
  {
   "cell_type": "code",
   "execution_count": 53,
   "metadata": {},
   "outputs": [],
   "source": [
    "def solve_a(data):\n",
    "    stacks, moves = data\n",
    "    stacks = [s.copy() for s in stacks]\n",
    "    for n, src, dst in moves:\n",
    "        src -= 1\n",
    "        dst -= 1\n",
    "        for _ in range(n):\n",
    "            stacks[dst].append(stacks[src].pop())\n",
    "    return \"\".join([s[-1] for s in stacks])"
   ]
  },
  {
   "cell_type": "code",
   "execution_count": 54,
   "metadata": {},
   "outputs": [
    {
     "data": {
      "text/plain": [
       "'CMZ'"
      ]
     },
     "execution_count": 54,
     "metadata": {},
     "output_type": "execute_result"
    }
   ],
   "source": [
    "solve_a(sample)"
   ]
  },
  {
   "cell_type": "code",
   "execution_count": 55,
   "metadata": {},
   "outputs": [
    {
     "data": {
      "text/plain": [
       "'RTGWZTHLD'"
      ]
     },
     "execution_count": 55,
     "metadata": {},
     "output_type": "execute_result"
    }
   ],
   "source": [
    "solve_a(data)"
   ]
  },
  {
   "cell_type": "code",
   "execution_count": 64,
   "metadata": {},
   "outputs": [],
   "source": [
    "def solve_b(data):\n",
    "    stacks, moves = data\n",
    "    stacks = [s.copy() for s in stacks]\n",
    "    for n, src, dst in moves:\n",
    "        src -= 1\n",
    "        dst -= 1\n",
    "        stacks[src], tail = stacks[src][:-n], stacks[src][-n:]\n",
    "        stacks[dst].extend(tail)\n",
    "    return \"\".join([s[-1] for s in stacks])"
   ]
  },
  {
   "cell_type": "code",
   "execution_count": 65,
   "metadata": {},
   "outputs": [
    {
     "data": {
      "text/plain": [
       "'MCD'"
      ]
     },
     "execution_count": 65,
     "metadata": {},
     "output_type": "execute_result"
    }
   ],
   "source": [
    "solve_b(sample)"
   ]
  },
  {
   "cell_type": "code",
   "execution_count": 66,
   "metadata": {},
   "outputs": [
    {
     "data": {
      "text/plain": [
       "'STHGRZZFR'"
      ]
     },
     "execution_count": 66,
     "metadata": {},
     "output_type": "execute_result"
    }
   ],
   "source": [
    "solve_b(data)"
   ]
  },
  {
   "cell_type": "code",
   "execution_count": null,
   "metadata": {},
   "outputs": [],
   "source": []
  }
 ],
 "metadata": {
  "kernelspec": {
   "display_name": "Python 3 (ipykernel)",
   "language": "python",
   "name": "python3"
  },
  "language_info": {
   "codemirror_mode": {
    "name": "ipython",
    "version": 3
   },
   "file_extension": ".py",
   "mimetype": "text/x-python",
   "name": "python",
   "nbconvert_exporter": "python",
   "pygments_lexer": "ipython3",
   "version": "3.9.7"
  }
 },
 "nbformat": 4,
 "nbformat_minor": 4
}
