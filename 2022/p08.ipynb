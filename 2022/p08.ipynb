{
 "cells": [
  {
   "cell_type": "code",
   "execution_count": 7,
   "metadata": {},
   "outputs": [],
   "source": [
    "from aocd.models import Puzzle\n",
    "\n",
    "puzzle = Puzzle(year=2022, day=8)\n",
    "\n",
    "def parses(input):\n",
    "    data =  list(map(list,input.strip().split('\\n')))\n",
    "    return np.array([[int(i) for i in row]  for row in data])\n",
    "\n",
    "data = parses(puzzle.input_data)"
   ]
  },
  {
   "cell_type": "code",
   "execution_count": 8,
   "metadata": {},
   "outputs": [],
   "source": [
    "\n",
    "sample = parses(\"\"\"30373\n",
    "25512\n",
    "65332\n",
    "33549\n",
    "35390\"\"\")"
   ]
  },
  {
   "cell_type": "code",
   "execution_count": 9,
   "metadata": {},
   "outputs": [
    {
     "data": {
      "text/plain": [
       "array([[3, 0, 3, 7, 3],\n",
       "       [2, 5, 5, 1, 2],\n",
       "       [6, 5, 3, 3, 2],\n",
       "       [3, 3, 5, 4, 9],\n",
       "       [3, 5, 3, 9, 0]])"
      ]
     },
     "execution_count": 9,
     "metadata": {},
     "output_type": "execute_result"
    }
   ],
   "source": [
    "sample"
   ]
  },
  {
   "cell_type": "code",
   "execution_count": 29,
   "metadata": {},
   "outputs": [],
   "source": [
    "def visible(row):\n",
    "    cum_max = np.concatenate(([-1], np.maximum.accumulate(row)[:-1]))\n",
    "    return row > cum_max\n",
    "\n",
    "def solve_a(data):\n",
    "    return np.logical_or.reduce([\n",
    "        np.rot90(np.apply_along_axis(visible, 1, np.rot90(data, i)), -i)\n",
    "        for i in range(4)\n",
    "    ]).sum()"
   ]
  },
  {
   "cell_type": "code",
   "execution_count": 30,
   "metadata": {},
   "outputs": [
    {
     "data": {
      "text/plain": [
       "21"
      ]
     },
     "execution_count": 30,
     "metadata": {},
     "output_type": "execute_result"
    }
   ],
   "source": [
    "solve_a(sample)"
   ]
  },
  {
   "cell_type": "code",
   "execution_count": 15,
   "metadata": {},
   "outputs": [],
   "source": [
    "def scenic_score(row):\n",
    "    score = np.zeros_like(row)\n",
    "    for i, v in enumerate(row):\n",
    "        for w in row[i+1:]:\n",
    "            score[i] += 1\n",
    "            if w >= v:\n",
    "                break\n",
    "    return score\n",
    "\n",
    "def solve_b(data):\n",
    "    return np.multiply.reduce([\n",
    "        np.rot90(np.apply_along_axis(scenic_score, 1, np.rot90(data, i)), -i)\n",
    "        for i in range(4)\n",
    "    ]).max()"
   ]
  },
  {
   "cell_type": "code",
   "execution_count": null,
   "metadata": {},
   "outputs": [],
   "source": [
    "solve_b(sample)"
   ]
  },
  {
   "cell_type": "code",
   "execution_count": 28,
   "metadata": {},
   "outputs": [
    {
     "data": {
      "text/plain": [
       "440640"
      ]
     },
     "execution_count": 28,
     "metadata": {},
     "output_type": "execute_result"
    }
   ],
   "source": [
    "solve_b(data)"
   ]
  },
  {
   "cell_type": "code",
   "execution_count": null,
   "metadata": {},
   "outputs": [],
   "source": []
  },
  {
   "cell_type": "code",
   "execution_count": 44,
   "metadata": {},
   "outputs": [],
   "source": [
    "def visibleTL(data):\n",
    "    visible = set()\n",
    "    highest_left = [-1 for _ in data]\n",
    "    highest_top = [-1 for _ in data[0]]\n",
    "    for i, row in enumerate(data):\n",
    "        for j, val in enumerate(row):\n",
    "            if val > highest_left[i]:\n",
    "                visible.add((i,j))\n",
    "            if val > highest_top[j]:\n",
    "                visible.add((i,j))\n",
    "            highest_left[i] = max(val, highest_left[i])\n",
    "            highest_top[j] = max(val, highest_top[j])\n",
    "    return visible"
   ]
  },
  {
   "cell_type": "code",
   "execution_count": 45,
   "metadata": {},
   "outputs": [],
   "source": [
    "def solve_a(data):\n",
    "    top_left = visibleTL(data)\n",
    "    N, M = data.shape\n",
    "    bottom_down = set([ (N-1-i, M-1-j) for i, j in  visibleTL(np.rot90(data,2))])\n",
    "    visible = top_left | bottom_down\n",
    "    return visible"
   ]
  },
  {
   "cell_type": "code",
   "execution_count": 46,
   "metadata": {},
   "outputs": [],
   "source": []
  },
  {
   "cell_type": "code",
   "execution_count": 73,
   "metadata": {},
   "outputs": [],
   "source": [
    "def solve_b(data):\n",
    "    def scenic(data):\n",
    "        scenic = np.zeros_like(data)\n",
    "        for i, row in enumerate(data):\n",
    "            for j, val in enumerate(row):\n",
    "                si = sj = 0\n",
    "                for i2 in range(i-1,-1,-1):\n",
    "                    si += 1\n",
    "                    if data[i2][j] >= val:\n",
    "                        break\n",
    "                for j2 in range(j-1,-1,-1):\n",
    "                    sj += 1\n",
    "                    if data[i][j2] >= val:\n",
    "                        break\n",
    "\n",
    "\n",
    "                scenic[i,j] = si*sj\n",
    "        return scenic\n",
    "\n",
    "    total_scenic = scenic(data) * np.rot90(scenic(np.rot90(data, 2)) ,2)\n",
    "    return np.max(total_scenic)"
   ]
  },
  {
   "cell_type": "code",
   "execution_count": 74,
   "metadata": {},
   "outputs": [
    {
     "data": {
      "text/plain": [
       "8"
      ]
     },
     "execution_count": 74,
     "metadata": {},
     "output_type": "execute_result"
    }
   ],
   "source": [
    "solve_b(sample)"
   ]
  },
  {
   "cell_type": "code",
   "execution_count": 75,
   "metadata": {},
   "outputs": [
    {
     "data": {
      "text/plain": [
       "440640"
      ]
     },
     "execution_count": 75,
     "metadata": {},
     "output_type": "execute_result"
    }
   ],
   "source": [
    "solve_b(data)"
   ]
  },
  {
   "cell_type": "code",
   "execution_count": 51,
   "metadata": {},
   "outputs": [
    {
     "data": {
      "text/plain": [
       "21"
      ]
     },
     "execution_count": 51,
     "metadata": {},
     "output_type": "execute_result"
    }
   ],
   "source": [
    "len(solve_a(sample))"
   ]
  },
  {
   "cell_type": "code",
   "execution_count": 52,
   "metadata": {},
   "outputs": [
    {
     "data": {
      "text/plain": [
       "1787"
      ]
     },
     "execution_count": 52,
     "metadata": {},
     "output_type": "execute_result"
    }
   ],
   "source": [
    "len(solve_a(data))"
   ]
  }
 ],
 "metadata": {
  "kernelspec": {
   "display_name": "Python 3",
   "language": "python",
   "name": "python3"
  },
  "language_info": {
   "codemirror_mode": {
    "name": "ipython",
    "version": 3
   },
   "file_extension": ".py",
   "mimetype": "text/x-python",
   "name": "python",
   "nbconvert_exporter": "python",
   "pygments_lexer": "ipython3",
   "version": "3.8.8"
  }
 },
 "nbformat": 4,
 "nbformat_minor": 4
}
