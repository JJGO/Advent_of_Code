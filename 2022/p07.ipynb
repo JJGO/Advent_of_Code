{
 "cells": [
  {
   "cell_type": "code",
   "execution_count": 3,
   "metadata": {},
   "outputs": [],
   "source": [
    "from aocd.models import Puzzle\n",
    "\n",
    "puzzle = Puzzle(year=2022, day=7)\n",
    "\n",
    "def parses(input):\n",
    "    commands = [grp for grp in input.strip().split('$ ')]\n",
    "    \n",
    "    hierarchy = {'/': {}}\n",
    "    pwd = hierarchy\n",
    "    \n",
    "    stack = []\n",
    "    for command in commands:\n",
    "        if command == '':\n",
    "            continue\n",
    "        cmd, *output = command.strip().split('\\n')\n",
    "        if cmd == 'cd ..':\n",
    "            pwd = stack.pop()\n",
    "        elif cmd.startswith('cd'):\n",
    "            _, arg = cmd.split(' ')\n",
    "            stack.append(pwd)\n",
    "            pwd = pwd.setdefault(arg, {})\n",
    "        elif cmd == 'ls':\n",
    "            for line in output:\n",
    "                size, file = line.split(' ')\n",
    "                pwd[file] = {} if size == 'dir' else int(size)\n",
    "        else:\n",
    "            print(command)\n",
    "            raise ValueError()\n",
    "    return hierarchy\n",
    "\n",
    "\n",
    "data = parses(puzzle.input_data)"
   ]
  },
  {
   "cell_type": "code",
   "execution_count": 4,
   "metadata": {},
   "outputs": [],
   "source": [
    "\n",
    "sample = parses(\"\"\"$ cd /\n",
    "$ ls\n",
    "dir a\n",
    "14848514 b.txt\n",
    "8504156 c.dat\n",
    "dir d\n",
    "$ cd a\n",
    "$ ls\n",
    "dir e\n",
    "29116 f\n",
    "2557 g\n",
    "62596 h.lst\n",
    "$ cd e\n",
    "$ ls\n",
    "584 i\n",
    "$ cd ..\n",
    "$ cd ..\n",
    "$ cd d\n",
    "$ ls\n",
    "4060174 j\n",
    "8033020 d.log\n",
    "5626152 d.ext\n",
    "7214296 k\n",
    "\"\"\")"
   ]
  },
  {
   "cell_type": "code",
   "execution_count": 5,
   "metadata": {},
   "outputs": [
    {
     "data": {
      "text/plain": [
       "{'/': {'a': {'e': {'i': 584}, 'f': 29116, 'g': 2557, 'h.lst': 62596},\n",
       "  'b.txt': 14848514,\n",
       "  'c.dat': 8504156,\n",
       "  'd': {'j': 4060174, 'd.log': 8033020, 'd.ext': 5626152, 'k': 7214296}}}"
      ]
     },
     "execution_count": 5,
     "metadata": {},
     "output_type": "execute_result"
    }
   ],
   "source": [
    "sample"
   ]
  },
  {
   "cell_type": "code",
   "execution_count": 11,
   "metadata": {},
   "outputs": [],
   "source": [
    "def sizes(root):\n",
    "    all_sizes = []\n",
    "    def _helper(node):\n",
    "        size = 0\n",
    "        for file, content in node.items():\n",
    "            if isinstance(content, int):\n",
    "                size += content\n",
    "            elif isinstance(content, dict):\n",
    "                size += _helper(content)\n",
    "        all_sizes.append(size)\n",
    "        return size\n",
    "    _helper(root)\n",
    "    return all_sizes"
   ]
  },
  {
   "cell_type": "code",
   "execution_count": 13,
   "metadata": {},
   "outputs": [],
   "source": [
    "def solve_a(data):\n",
    "    return sum(s for s in sizes(data) if s <= 100_000)"
   ]
  },
  {
   "cell_type": "code",
   "execution_count": 26,
   "metadata": {},
   "outputs": [
    {
     "data": {
      "text/plain": [
       "95437"
      ]
     },
     "execution_count": 26,
     "metadata": {},
     "output_type": "execute_result"
    }
   ],
   "source": [
    "solve_a(sample)"
   ]
  },
  {
   "cell_type": "code",
   "execution_count": 27,
   "metadata": {},
   "outputs": [
    {
     "data": {
      "text/plain": [
       "1582412"
      ]
     },
     "execution_count": 27,
     "metadata": {},
     "output_type": "execute_result"
    }
   ],
   "source": [
    "solve_a(data)"
   ]
  },
  {
   "cell_type": "code",
   "execution_count": 23,
   "metadata": {},
   "outputs": [],
   "source": [
    "def solve_b(data):\n",
    "    sizes_ = sizes(data)\n",
    "    current_free = 70000000 - sizes_[-1]\n",
    "    return min(s for s in sizes_ if (current_free + s) >= 30000000)"
   ]
  },
  {
   "cell_type": "code",
   "execution_count": 24,
   "metadata": {},
   "outputs": [
    {
     "data": {
      "text/plain": [
       "24933642"
      ]
     },
     "execution_count": 24,
     "metadata": {},
     "output_type": "execute_result"
    }
   ],
   "source": [
    "solve_b(sample)"
   ]
  },
  {
   "cell_type": "code",
   "execution_count": 25,
   "metadata": {},
   "outputs": [
    {
     "data": {
      "text/plain": [
       "3696336"
      ]
     },
     "execution_count": 25,
     "metadata": {},
     "output_type": "execute_result"
    }
   ],
   "source": [
    "solve_b(data)"
   ]
  },
  {
   "cell_type": "code",
   "execution_count": null,
   "metadata": {},
   "outputs": [],
   "source": []
  },
  {
   "cell_type": "code",
   "execution_count": 47,
   "metadata": {},
   "outputs": [],
   "source": [
    "def solve_a(data):\n",
    "    def small_dirs(root):\n",
    "        total_size = 0\n",
    "        small_size = 0\n",
    "        for file, content in root.items():\n",
    "            if isinstance(content, int):\n",
    "                total_size += content\n",
    "            elif isinstance(content, dict):\n",
    "                sub_size, sub_small = small_dirs(content)\n",
    "                total_size += sub_size\n",
    "                small_size += sub_small\n",
    "        small_size += total_size * (total_size < 100_000)\n",
    "        return total_size, small_size\n",
    "    return small_dirs(data)[1]\n",
    "        "
   ]
  },
  {
   "cell_type": "code",
   "execution_count": 14,
   "metadata": {},
   "outputs": [
    {
     "data": {
      "text/plain": [
       "95437"
      ]
     },
     "execution_count": 14,
     "metadata": {},
     "output_type": "execute_result"
    }
   ],
   "source": []
  },
  {
   "cell_type": "code",
   "execution_count": 15,
   "metadata": {},
   "outputs": [
    {
     "data": {
      "text/plain": [
       "1582412"
      ]
     },
     "execution_count": 15,
     "metadata": {},
     "output_type": "execute_result"
    }
   ],
   "source": []
  },
  {
   "cell_type": "code",
   "execution_count": 53,
   "metadata": {},
   "outputs": [],
   "source": [
    "def solve_b(data):\n",
    "    sizes = []\n",
    "    def compute_size(root):\n",
    "        total_size = 0\n",
    "        for file, content in root.items():\n",
    "            if isinstance(content, int):\n",
    "                total_size += content\n",
    "            elif isinstance(content, dict):\n",
    "                total_size += compute_size(content)\n",
    "        sizes.append(total_size)\n",
    "        return total_size\n",
    "    total_size = compute_size(data)\n",
    "    current_free = 70000000 - total_size\n",
    "    min_free = 30000000 - current_free\n",
    "    return sorted(i for i in sizes if i >= min_free)[0]\n",
    "        "
   ]
  },
  {
   "cell_type": "code",
   "execution_count": 20,
   "metadata": {},
   "outputs": [
    {
     "data": {
      "text/plain": [
       "24933642"
      ]
     },
     "execution_count": 20,
     "metadata": {},
     "output_type": "execute_result"
    }
   ],
   "source": []
  },
  {
   "cell_type": "code",
   "execution_count": 21,
   "metadata": {},
   "outputs": [
    {
     "data": {
      "text/plain": [
       "3696336"
      ]
     },
     "execution_count": 21,
     "metadata": {},
     "output_type": "execute_result"
    }
   ],
   "source": []
  },
  {
   "cell_type": "code",
   "execution_count": null,
   "metadata": {},
   "outputs": [],
   "source": []
  }
 ],
 "metadata": {
  "kernelspec": {
   "display_name": "Python 3",
   "language": "python",
   "name": "python3"
  },
  "language_info": {
   "codemirror_mode": {
    "name": "ipython",
    "version": 3
   },
   "file_extension": ".py",
   "mimetype": "text/x-python",
   "name": "python",
   "nbconvert_exporter": "python",
   "pygments_lexer": "ipython3",
   "version": "3.8.8"
  }
 },
 "nbformat": 4,
 "nbformat_minor": 4
}
