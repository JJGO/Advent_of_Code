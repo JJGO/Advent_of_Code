{
 "cells": [
  {
   "cell_type": "code",
   "execution_count": 1,
   "id": "193de6f2",
   "metadata": {},
   "outputs": [],
   "source": [
    "from aocd.models import Puzzle\n",
    "\n",
    "puzzle = Puzzle(year=2022, day=17)\n",
    "\n",
    "def parses(input):\n",
    "    return input\n",
    "        \n",
    "data = parses(puzzle.input_data)"
   ]
  },
  {
   "cell_type": "code",
   "execution_count": null,
   "id": "83e41d13",
   "metadata": {},
   "outputs": [],
   "source": []
  },
  {
   "cell_type": "code",
   "execution_count": 2,
   "id": "756585f5",
   "metadata": {},
   "outputs": [],
   "source": [
    "# def render(piece):\n",
    "#     matrix = [[' ' for i in range(5)] for j in range(5)]\n",
    "#     for x, y in pieces[piece]:\n",
    "#         matrix[x][y] = '@'\n",
    "#     matrix = np.rot90(matrix)\n",
    "#     print('\\n'.join([''.join(row) for row in matrix]))\n",
    "# render('L')    "
   ]
  },
  {
   "cell_type": "code",
   "execution_count": 3,
   "id": "617ca1f2",
   "metadata": {},
   "outputs": [],
   "source": [
    "sample = '>>><<><>><<<>><>>><<<>>><<<><<<>><>><<>>'"
   ]
  },
  {
   "cell_type": "code",
   "execution_count": 4,
   "id": "1fcb55b5",
   "metadata": {},
   "outputs": [],
   "source": [
    "from PIL import Image\n",
    "def visualize(chamber, piece_loc, zoom=20):\n",
    "    chamber = chamber.copy()\n",
    "    chamber[tuple(piece_loc.T)] = 1\n",
    "    chamber = 255 * np.rot90(chamber)\n",
    "    chamber = np.repeat(chamber, zoom, axis=0)\n",
    "    chamber = np.repeat(chamber, zoom, axis=1)\n",
    "    chamber[:,::zoom] = 128\n",
    "    chamber[::zoom,:] = 128\n",
    "    im = Image.fromarray(chamber)\n",
    "    return im\n"
   ]
  },
  {
   "cell_type": "code",
   "execution_count": 8,
   "id": "6a6cfad3",
   "metadata": {},
   "outputs": [],
   "source": [
    "def solve_a(data, steps=2022):\n",
    "    pieces = {\n",
    "        '-': [(i,0) for i in range(4)],\n",
    "        '+': [(0,1),(1,0),(1,1),(1,2),(2,1)],\n",
    "        'L': [(0,0),(1,0),(2,0),(2,1),(2,2)],\n",
    "        '|': [(0,i) for i in range(4)],\n",
    "        'o': [(0,0),(0,1),(1,0),(1,1)],\n",
    "    }\n",
    "\n",
    "    piece_order = \"-+L|o\"\n",
    "\n",
    "    height = {'-': 1, '+': 3, 'L': 3, '|': 4, 'o': 2}\n",
    "\n",
    "    chamber = np.zeros((7,1), dtype=np.uint8)\n",
    "    maxy = -1\n",
    "    \n",
    "    j = 0\n",
    "    DOWN = np.array([0,-1])\n",
    "    LEFT = np.array([-1,0])\n",
    "    RIGHT = np.array([+1,0])\n",
    "\n",
    "    for i in range(steps):\n",
    "        piece_type = piece_order[i%len(piece_order)]\n",
    "        piece = pieces[piece_type]\n",
    "        \n",
    "        x, y = 2, 4 + maxy\n",
    "\n",
    "        # pad if needed\n",
    "        chamber_height = chamber.shape[1]\n",
    "        if y + height[piece_type] >= chamber_height:\n",
    "            pad = np.zeros((7,y-+height[piece_type]+chamber_height+1), np.uint8)\n",
    "            chamber = np.hstack([chamber, pad])\n",
    "\n",
    "        loc = np.array([x,y]) + np.array(piece)\n",
    "        \n",
    "#         display(visualize(chamber, loc))\n",
    "\n",
    "        while True:\n",
    "            jet = {'<': LEFT, '>': RIGHT}[data[j]]\n",
    "            j = (j+1) % len(data)\n",
    "            \n",
    "            new_loc = loc + jet\n",
    "            \n",
    "            if new_loc[:,0].min() >= 0 and new_loc[:,0].max() < 7 and (chamber[tuple(new_loc.T)] == 0).all():\n",
    "                loc = new_loc\n",
    "            \n",
    "            new_loc = loc + DOWN\n",
    "            \n",
    "            if new_loc[:,1].min() >= 0 and (chamber[tuple(new_loc.T)] == 0).all():\n",
    "                loc = new_loc\n",
    "            else:\n",
    "                chamber[tuple(loc.T)] = 1\n",
    "                maxy = max(maxy, loc[:,1].max())\n",
    "                break\n",
    "\n",
    "    return 1+maxy\n",
    "                "
   ]
  },
  {
   "cell_type": "code",
   "execution_count": 9,
   "id": "fcdd3a21",
   "metadata": {},
   "outputs": [
    {
     "data": {
      "text/plain": [
       "3068"
      ]
     },
     "execution_count": 9,
     "metadata": {},
     "output_type": "execute_result"
    }
   ],
   "source": [
    "solve_a(sample)"
   ]
  },
  {
   "cell_type": "code",
   "execution_count": 10,
   "id": "f8bbeae2",
   "metadata": {},
   "outputs": [
    {
     "data": {
      "text/plain": [
       "3090"
      ]
     },
     "execution_count": 10,
     "metadata": {},
     "output_type": "execute_result"
    }
   ],
   "source": [
    "solve_a(data)"
   ]
  },
  {
   "cell_type": "code",
   "execution_count": null,
   "id": "ae1cc7cb",
   "metadata": {},
   "outputs": [],
   "source": []
  },
  {
   "cell_type": "code",
   "execution_count": 95,
   "id": "9221e402",
   "metadata": {},
   "outputs": [],
   "source": [
    "def simulate(data, steps):\n",
    "    # constants\n",
    "    pieces = { # relative coords wrt bottom-left corner\n",
    "        '-': np.array([(i,0) for i in range(4)]),\n",
    "        '+': np.array([(0,1),(1,0),(1,1),(1,2),(2,1)]),\n",
    "        'L': np.array([(0,0),(1,0),(2,0),(2,1),(2,2)]),\n",
    "        '|': np.array([(0,i) for i in range(4)]),\n",
    "        'o': np.array([(0,0),(0,1),(1,0),(1,1)]),\n",
    "    }\n",
    "    piece_order = \"-+L|o\"\n",
    "    height = {'-': 1, '+': 3, 'L': 3, '|': 4, 'o': 2}\n",
    "\n",
    "    # state\n",
    "    chamber = np.zeros((7,1), dtype=np.uint8)\n",
    "    maxy = -1\n",
    "    \n",
    "    j = 0\n",
    "    DOWN, LEFT, RIGHT = np.array([0,-1]), np.array([-1,0]), np.array([+1,0])\n",
    "    # \n",
    "    maxy_increments = []\n",
    "    for i in range(steps):\n",
    "        piece_type = piece_order[i%len(piece_order)]\n",
    "        piece = pieces[piece_type]\n",
    "        \n",
    "        x, y = 2, 4 + maxy # as per the rules\n",
    "\n",
    "        # pad if needed\n",
    "        maxh = chamber.shape[1]\n",
    "        h = height[piece_type]\n",
    "        if y + h  >= maxh:\n",
    "            pad = np.zeros((7,y-h+maxh+1), np.uint8)\n",
    "            chamber = np.hstack([chamber, pad])\n",
    "\n",
    "        # absolute location\n",
    "        loc = np.array([x,y]) + piece\n",
    "        \n",
    "        while True:\n",
    "            jet = {'<': LEFT, '>': RIGHT}[data[j]]\n",
    "            j = (j+1) % len(data) # increment mod length\n",
    "            \n",
    "            new_loc = loc + jet\n",
    "            \n",
    "            # if possible move sideways\n",
    "            if new_loc[:,0].min() >= 0 and new_loc[:,0].max() < 7 and (chamber[tuple(new_loc.T)] == 0).all():\n",
    "                loc = new_loc\n",
    "            \n",
    "            new_loc = loc + DOWN\n",
    "            \n",
    "            # if possible move down\n",
    "            if new_loc[:,1].min() >= 0 and (chamber[tuple(new_loc.T)] == 0).all():\n",
    "                loc = new_loc\n",
    "            else:\n",
    "                # cannot move down\n",
    "                chamber[tuple(loc.T)] = 1\n",
    "                prev_maxy = maxy\n",
    "                maxy = max(maxy, loc[:,1].max())\n",
    "                maxy_increments.append(maxy-prev_maxy)\n",
    "                break\n",
    "\n",
    "    return np.array(maxy_increments)\n",
    "                "
   ]
  },
  {
   "cell_type": "code",
   "execution_count": 147,
   "id": "c555de9d",
   "metadata": {},
   "outputs": [],
   "source": [
    "def solve_a(data):\n",
    "    return np.sum(simulate(data, steps=2022))"
   ]
  },
  {
   "cell_type": "code",
   "execution_count": 148,
   "id": "1f2a6171",
   "metadata": {},
   "outputs": [
    {
     "data": {
      "text/plain": [
       "3068"
      ]
     },
     "execution_count": 148,
     "metadata": {},
     "output_type": "execute_result"
    }
   ],
   "source": [
    "solve_a(sample)"
   ]
  },
  {
   "cell_type": "code",
   "execution_count": 149,
   "id": "2ca954fb",
   "metadata": {},
   "outputs": [
    {
     "data": {
      "text/plain": [
       "3090"
      ]
     },
     "execution_count": 149,
     "metadata": {},
     "output_type": "execute_result"
    }
   ],
   "source": [
    "solve_a(data)"
   ]
  },
  {
   "cell_type": "code",
   "execution_count": 171,
   "id": "317ec63b",
   "metadata": {},
   "outputs": [],
   "source": [
    "def solve_b(data):\n",
    "    # Idea is to ignore the board state altogether and just focus on what\n",
    "    # we know must repeat (as per the question): the max_y increments\n",
    "    # There will be a loop in the increments, we just need to find the period\n",
    "    # Fourier analysis seems tempting but it's actually simpler to just \n",
    "    # do boolean cross correlation and pick offsets with high similarity\n",
    "    maxy_incs = simulate(data, steps=10_000)\n",
    "    \n",
    "    def similarity(x):\n",
    "        return np.array([(x[:-i] == x[i:]).sum() for i in range(1,len(x))])\n",
    "    \n",
    "    # correlate signal with shifted version and pick indices of high agreement\n",
    "    s = similarity(maxy_incs)\n",
    "    high_similarity = np.argwhere(s > len(s)/2).T[0]\n",
    "    periods = np.diff(high_similarity) \n",
    "    # Check period uniqueness\n",
    "    assert len(set(periods.tolist())) == 1\n",
    "    period = periods[0]\n",
    "    # there's a prefix that does not repeat, afterwards it repeats\n",
    "    # luckily (or likely because of puzzle building constraints),\n",
    "    # the prefix is the same length\n",
    "    assert (maxy_incs[period:2*period] == maxy_incs[2*period:3*period]).all()\n",
    "    inc_period = maxy_incs[period:2*period]\n",
    "    # Compute maxy_increment sum via modular arithmetic\n",
    "    step = 1_000_000_000_000\n",
    "    initial_inc = np.sum(maxy_incs[:period]) # prefix is different\n",
    "    q, r = divmod(step, period)\n",
    "    return initial_inc + (q-1) * inc_period.sum() + inc_period[:r].sum()"
   ]
  },
  {
   "cell_type": "code",
   "execution_count": 172,
   "id": "99ca270f",
   "metadata": {},
   "outputs": [
    {
     "data": {
      "text/plain": [
       "True"
      ]
     },
     "execution_count": 172,
     "metadata": {},
     "output_type": "execute_result"
    }
   ],
   "source": [
    "solve_b(sample) == 1514285714288"
   ]
  },
  {
   "cell_type": "code",
   "execution_count": 173,
   "id": "cfae6b67",
   "metadata": {},
   "outputs": [
    {
     "data": {
      "text/plain": [
       "1530057803453"
      ]
     },
     "execution_count": 173,
     "metadata": {},
     "output_type": "execute_result"
    }
   ],
   "source": [
    "solve_b(data)"
   ]
  },
  {
   "cell_type": "code",
   "execution_count": 144,
   "id": "7f4c058c",
   "metadata": {},
   "outputs": [
    {
     "data": {
      "text/plain": [
       "1530057803453"
      ]
     },
     "execution_count": 144,
     "metadata": {},
     "output_type": "execute_result"
    }
   ],
   "source": []
  },
  {
   "cell_type": "code",
   "execution_count": null,
   "id": "6cb38161",
   "metadata": {},
   "outputs": [],
   "source": []
  },
  {
   "cell_type": "code",
   "execution_count": 133,
   "id": "65724362",
   "metadata": {},
   "outputs": [],
   "source": [
    "T, incs = solve_b(data)"
   ]
  },
  {
   "cell_type": "code",
   "execution_count": 136,
   "id": "8044fc30",
   "metadata": {},
   "outputs": [
    {
     "data": {
      "text/plain": [
       "True"
      ]
     },
     "execution_count": 136,
     "metadata": {},
     "output_type": "execute_result"
    }
   ],
   "source": [
    "(incs[T:2*T] == incs[2*T:3*T]).all()"
   ]
  },
  {
   "cell_type": "code",
   "execution_count": 137,
   "id": "aeae1866",
   "metadata": {},
   "outputs": [
    {
     "data": {
      "text/plain": [
       "True"
      ]
     },
     "execution_count": 137,
     "metadata": {},
     "output_type": "execute_result"
    }
   ],
   "source": [
    "(incs[3*T:4*T] == incs[2*T:3*T]).all()"
   ]
  },
  {
   "cell_type": "code",
   "execution_count": 139,
   "id": "e56335eb",
   "metadata": {},
   "outputs": [
    {
     "data": {
      "text/plain": [
       "0.923699421965318"
      ]
     },
     "execution_count": 139,
     "metadata": {},
     "output_type": "execute_result"
    }
   ],
   "source": [
    "(incs[:T] == incs[T:2*T]).mean()"
   ]
  },
  {
   "cell_type": "code",
   "execution_count": null,
   "id": "9ee222bd",
   "metadata": {},
   "outputs": [],
   "source": []
  },
  {
   "cell_type": "code",
   "execution_count": 89,
   "id": "8bbd349f",
   "metadata": {},
   "outputs": [],
   "source": [
    "ds = solve_b(data, steps=20_000)"
   ]
  },
  {
   "cell_type": "code",
   "execution_count": 90,
   "id": "3edbacc7",
   "metadata": {},
   "outputs": [],
   "source": [
    "from numba import njit\n",
    "\n",
    "def find_shift(x):\n",
    "    for i in range(1,len(x)):\n",
    "        if (x[:-i] == x[i:]).all():\n",
    "            return i\n",
    "\n"
   ]
  },
  {
   "cell_type": "code",
   "execution_count": 91,
   "id": "850628b2",
   "metadata": {},
   "outputs": [],
   "source": []
  },
  {
   "cell_type": "code",
   "execution_count": 92,
   "id": "c99c1513",
   "metadata": {},
   "outputs": [
    {
     "data": {
      "image/png": "[encoded data removed]",
      "text/plain": [
       "<Figure size 460.8x403.2 with 1 Axes>"
      ]
     },
     "metadata": {},
     "output_type": "display_data"
    }
   ],
   "source": [
    "plt.hist(s)\n",
    "plt.yscale('log')"
   ]
  },
  {
   "cell_type": "code",
   "execution_count": 103,
   "id": "b52a9d7d",
   "metadata": {},
   "outputs": [
    {
     "data": {
      "text/plain": [
       "array([1730, 1730, 1730, 1730])"
      ]
     },
     "execution_count": 103,
     "metadata": {},
     "output_type": "execute_result"
    }
   ],
   "source": []
  },
  {
   "cell_type": "code",
   "execution_count": 96,
   "id": "66462b4f",
   "metadata": {},
   "outputs": [
    {
     "data": {
      "text/plain": [
       "array([18138, 16408, 14678, 12948, 11218])"
      ]
     },
     "execution_count": 96,
     "metadata": {},
     "output_type": "execute_result"
    }
   ],
   "source": [
    "s[]"
   ]
  },
  {
   "cell_type": "code",
   "execution_count": 94,
   "id": "aebe91b8",
   "metadata": {},
   "outputs": [
    {
     "data": {
      "text/plain": [
       "array([1730, 1730, 1730, 1730])"
      ]
     },
     "execution_count": 94,
     "metadata": {},
     "output_type": "execute_result"
    }
   ],
   "source": [
    "np.diff(sorted(s[s > len(s)/2]))"
   ]
  },
  {
   "cell_type": "code",
   "execution_count": null,
   "id": "c945a72c",
   "metadata": {},
   "outputs": [],
   "source": []
  },
  {
   "cell_type": "code",
   "execution_count": null,
   "id": "a3fecd32",
   "metadata": {},
   "outputs": [],
   "source": []
  },
  {
   "cell_type": "code",
   "execution_count": 76,
   "id": "200ec01a",
   "metadata": {},
   "outputs": [],
   "source": [
    "F = np.fft.fft(ds)"
   ]
  },
  {
   "cell_type": "code",
   "execution_count": 80,
   "id": "173ac1af",
   "metadata": {},
   "outputs": [
    {
     "data": {
      "text/plain": [
       "<StemContainer object of 3 artists>"
      ]
     },
     "execution_count": 80,
     "metadata": {},
     "output_type": "execute_result"
    },
    {
     "data": {
      "image/png": "[encoded data removed]",
      "text/plain": [
       "<Figure size 460.8x403.2 with 1 Axes>"
      ]
     },
     "metadata": {},
     "output_type": "display_data"
    }
   ],
   "source": [
    "plt.stem(abs(F))"
   ]
  },
  {
   "cell_type": "code",
   "execution_count": 79,
   "id": "40e53750",
   "metadata": {},
   "outputs": [
    {
     "data": {
      "text/plain": [
       "array([[ 285],\n",
       "       [ 570],\n",
       "       [ 571],\n",
       "       [ 856],\n",
       "       [1142],\n",
       "       [1427],\n",
       "       [1428],\n",
       "       [1429],\n",
       "       [1713],\n",
       "       [1714],\n",
       "       [1999],\n",
       "       [2570],\n",
       "       [2856],\n",
       "       [3142],\n",
       "       [3427],\n",
       "       [3428],\n",
       "       [3713],\n",
       "       [3999],\n",
       "       [4285],\n",
       "       [4570],\n",
       "       [4571],\n",
       "       [4856],\n",
       "       [5142],\n",
       "       [5427],\n",
       "       [5428],\n",
       "       [5713],\n",
       "       [5999],\n",
       "       [6285],\n",
       "       [6570],\n",
       "       [6571],\n",
       "       [6856],\n",
       "       [7142],\n",
       "       [7428],\n",
       "       [7999],\n",
       "       [8284],\n",
       "       [8285],\n",
       "       [8569],\n",
       "       [8570],\n",
       "       [8571],\n",
       "       [8856],\n",
       "       [9142],\n",
       "       [9427],\n",
       "       [9428],\n",
       "       [9713]])"
      ]
     },
     "execution_count": 79,
     "metadata": {},
     "output_type": "execute_result"
    }
   ],
   "source": [
    "np.argwhere(abs(F[1:]) > 500)"
   ]
  },
  {
   "cell_type": "code",
   "execution_count": null,
   "id": "b4e2356b",
   "metadata": {},
   "outputs": [],
   "source": []
  },
  {
   "cell_type": "code",
   "execution_count": 48,
   "id": "f736d958",
   "metadata": {},
   "outputs": [],
   "source": [
    "find_shift(ds)"
   ]
  },
  {
   "cell_type": "code",
   "execution_count": null,
   "id": "4a986393",
   "metadata": {},
   "outputs": [],
   "source": []
  },
  {
   "cell_type": "code",
   "execution_count": 40,
   "id": "f1d5d005",
   "metadata": {},
   "outputs": [
    {
     "data": {
      "text/plain": [
       "(10000,)"
      ]
     },
     "execution_count": 40,
     "metadata": {},
     "output_type": "execute_result"
    }
   ],
   "source": [
    "ds.shape"
   ]
  },
  {
   "cell_type": "code",
   "execution_count": 41,
   "id": "d27caf63",
   "metadata": {},
   "outputs": [],
   "source": [
    "a = np.correlate(ds,ds,mode='full')"
   ]
  },
  {
   "cell_type": "code",
   "execution_count": 42,
   "id": "7d6841bd",
   "metadata": {},
   "outputs": [
    {
     "data": {
      "text/plain": [
       "(array([9999]),)"
      ]
     },
     "execution_count": 42,
     "metadata": {},
     "output_type": "execute_result"
    }
   ],
   "source": [
    "np.where(a==np.correlate(ds,ds))"
   ]
  },
  {
   "cell_type": "code",
   "execution_count": 43,
   "id": "22f520d8",
   "metadata": {},
   "outputs": [
    {
     "data": {
      "text/plain": [
       "(19999,)"
      ]
     },
     "execution_count": 43,
     "metadata": {},
     "output_type": "execute_result"
    }
   ],
   "source": [
    "a.shape"
   ]
  },
  {
   "cell_type": "code",
   "execution_count": 44,
   "id": "51ff9b00",
   "metadata": {},
   "outputs": [
    {
     "data": {
      "text/plain": [
       "array([37440])"
      ]
     },
     "execution_count": 44,
     "metadata": {},
     "output_type": "execute_result"
    }
   ],
   "source": [
    "np.correlate(ds,ds)"
   ]
  },
  {
   "cell_type": "code",
   "execution_count": null,
   "id": "216532d0",
   "metadata": {},
   "outputs": [],
   "source": []
  },
  {
   "cell_type": "code",
   "execution_count": null,
   "id": "ff54264d",
   "metadata": {},
   "outputs": [],
   "source": []
  },
  {
   "cell_type": "code",
   "execution_count": null,
   "id": "245c75fb",
   "metadata": {},
   "outputs": [],
   "source": []
  },
  {
   "cell_type": "code",
   "execution_count": null,
   "id": "4669fc2d",
   "metadata": {},
   "outputs": [],
   "source": []
  },
  {
   "cell_type": "code",
   "execution_count": null,
   "id": "475b9d51",
   "metadata": {},
   "outputs": [],
   "source": []
  },
  {
   "cell_type": "code",
   "execution_count": 9,
   "id": "113ad1a6",
   "metadata": {},
   "outputs": [],
   "source": [
    "from numba import njit"
   ]
  },
  {
   "cell_type": "code",
   "execution_count": 10,
   "id": "7627445f",
   "metadata": {},
   "outputs": [],
   "source": [
    "# @njit\n",
    "# def solve_a(data, steps=2022):\n",
    "\n",
    "#     height = np.array([1,3,3,4,2])\n",
    "\n",
    "#     chamber = np.zeros((7,1), dtype=np.uint8)\n",
    "#     maxy = -1\n",
    "    \n",
    "#     j = 0\n",
    "#     DOWN = np.array([0,-1])\n",
    "#     LEFT = np.array([-1,0])\n",
    "#     RIGHT = np.array([+1,0])\n",
    "    \n",
    "#     for i in range(steps):\n",
    "#         piece_type = i % 5\n",
    "#         if i == 0:\n",
    "#             piece = np.array([[0,0],[1,0],[2,0],[3,0]])\n",
    "#         elif i == 1:\n",
    "#             piece = np.array([[0,1],[1,0],[1,1],[1,2],[2,1]])\n",
    "#         elif i == 2:\n",
    "#             piece = np.array([[0,0],[1,0],[2,0],[2,1],[2,2]])\n",
    "#         elif i == 3:\n",
    "#             piece = np.array([[0,0],[0,1],[0,2],[0,3]])\n",
    "#         elif i == 4:\n",
    "#             piece = np.array([[0,0],[0,1],[1,0],[1,1]])\n",
    "            \n",
    "#         x, y = 2, 4 + maxy\n",
    "\n",
    "#         # pad if needed\n",
    "#         chamber_height = chamber.shape[1]\n",
    "#         if y + height[piece_type] >= chamber_height:\n",
    "#             pad = np.zeros((7,y-+height[piece_type]+chamber_height+1), np.uint8)\n",
    "#             chamber = np.hstack((chamber, pad))\n",
    "\n",
    "#         loc = np.array([[x,y]]) + piece\n",
    "        \n",
    "        \n",
    "# #         display(visualize(chamber, loc))\n",
    "\n",
    "#         while True:\n",
    "#             jet = {'<': LEFT, '>': RIGHT}[data[j]]\n",
    "#             j = (j+1) % len(data)\n",
    "            \n",
    "#             new_loc = loc + jet\n",
    "\n",
    "#             if new_loc[:,0].min() >= 0 and new_loc[:,0].max() < 7:\n",
    "#                 for x, y in new_loc:\n",
    "#                     if chamber[x,y] == 1:\n",
    "#                         break\n",
    "#                 else:\n",
    "#                     loc = new_loc\n",
    "            \n",
    "#             new_loc = loc + DOWN\n",
    "\n",
    "#             if new_loc[:,1].min() >= 0:\n",
    "#                 for x, y in new_loc:\n",
    "#                     if chamber[x,y] == 1:\n",
    "#                         break\n",
    "#                 else:\n",
    "#                     loc = new_loc\n",
    "#             else:\n",
    "#                 for x, y in loc:\n",
    "#                     chamber[x,y] = 1\n",
    "#                 maxy = max(maxy, loc[:,1].max())\n",
    "#                 break\n",
    "\n",
    "#     return 1+maxy\n",
    "                "
   ]
  },
  {
   "cell_type": "code",
   "execution_count": null,
   "id": "e24cf90b",
   "metadata": {},
   "outputs": [],
   "source": []
  }
 ],
 "metadata": {
  "kernelspec": {
   "display_name": "Python 3",
   "language": "python",
   "name": "python3"
  },
  "language_info": {
   "codemirror_mode": {
    "name": "ipython",
    "version": 3
   },
   "file_extension": ".py",
   "mimetype": "text/x-python",
   "name": "python",
   "nbconvert_exporter": "python",
   "pygments_lexer": "ipython3",
   "version": "3.8.8"
  }
 },
 "nbformat": 4,
 "nbformat_minor": 5
}
