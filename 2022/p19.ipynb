{
 "cells": [
  {
   "cell_type": "code",
   "execution_count": 13,
   "id": "5f7db684",
   "metadata": {},
   "outputs": [],
   "source": [
    "import os\n",
    "os.environ['AOC_SESSION'] = '53616c7465645f5f7c48bd1fb96588cd724b3f659228cef1a3bfe692ca019306d9a969515c558731ab8f7318033b5e2e9ad52537fccb9288a0bfa6c490cb1298u'\n",
    "\n",
    "import parse"
   ]
  },
  {
   "cell_type": "code",
   "execution_count": 14,
   "id": "b0bf26e8",
   "metadata": {},
   "outputs": [],
   "source": [
    "import re"
   ]
  },
  {
   "cell_type": "code",
   "execution_count": 15,
   "id": "9518a3a0",
   "metadata": {},
   "outputs": [],
   "source": [
    "from aocd.models import Puzzle\n",
    "\n",
    "\n",
    "def parses(input):\n",
    "    costs = []\n",
    "    # ore=0, clay=1, obsidian=2, geode=3 (robot, resource)\n",
    "    idxs = np.array([(0,0),(1,0),(2,0),(2,1),(3,0),(3,2)])\n",
    "    for line in input.strip().split('\\n'):\n",
    "        nums = re.findall(r'\\d+',line)[1:]\n",
    "        cost = np.zeros((4,4), dtype=np.int32)\n",
    "        cost[tuple(idxs.T)] = np.array(nums)\n",
    "        costs.append(cost)\n",
    "    return costs\n",
    "    \n",
    "\n",
    "puzzle = Puzzle(year=2022, day=19)\n",
    "data = parses(puzzle.input_data)"
   ]
  },
  {
   "cell_type": "code",
   "execution_count": 16,
   "id": "01760f60",
   "metadata": {},
   "outputs": [],
   "source": [
    "sample = parses(\"\"\"Blueprint 1: Each ore robot costs 4 ore. Each clay robot costs 2 ore. Each obsidian robot costs 3 ore and 14 clay. Each geode robot costs 2 ore and 7 obsidian.\n",
    "Blueprint 2: Each ore robot costs 2 ore. Each clay robot costs 3 ore. Each obsidian robot costs 3 ore and 8 clay. Each geode robot costs 3 ore and 12 obsidian.\"\"\")"
   ]
  },
  {
   "cell_type": "code",
   "execution_count": 17,
   "id": "8f3da2dd",
   "metadata": {},
   "outputs": [],
   "source": [
    "def max_geodes(blueprint, mins):\n",
    "    def H(mins, resources, robots):\n",
    "        return tuple([mins]+resources.tolist()+robots.tolist())\n",
    "    GEODE = 3\n",
    "    max_cost = blueprint.max(axis=0) \n",
    "    max_cost[GEODE] = mins \n",
    "    \n",
    "    stack = [(mins, np.array([0,0,0,0], dtype=np.int32), np.array([1,0,0,0], dtype=np.int32))]\n",
    "    \n",
    "    best_geodes = 0\n",
    "    visited = set([H(*stack[0])])\n",
    "    \n",
    "    while stack:\n",
    "        remaining, resources, robots = stack.pop()\n",
    "        best_geodes = max(best_geodes, resources[GEODE])\n",
    "        if remaining == 0:\n",
    "            continue\n",
    "        \n",
    "        # We should drop a branch that cannot generate more geodes that the best case so far\n",
    "        upper_bound = resources[GEODE] + robots[GEODE] * remaining + remaining*(remaining-1)/2\n",
    "        if upper_bound <= best_geodes:\n",
    "            continue\n",
    "        \n",
    "        for robot, cost in enumerate(blueprint):\n",
    "            new_robots = robots.copy()\n",
    "            new_robots[robot] += 1\n",
    "            # 1: We should not have more resource supplying robots than what we can spend in a turn\n",
    "            # 2: We can't wait to make something we are not collecting resources for\n",
    "            # 3: We should not build a robot we could have build the previous iteration\n",
    "            if (new_robots > max_cost).any() or not (robots >= (cost > 0)).all() or (resources-cost >= cost).all():\n",
    "                continue\n",
    "    \n",
    "            missing = cost - resources\n",
    "            # We have N turns to collect missing resources and 1 turn to make the robot\n",
    "            wait = 1 + int(max(np.ceil(missing[missing > 0] / robots[missing>0]), default=0))\n",
    "            \n",
    "            new_resources = resources + robots * wait - cost\n",
    "            \n",
    "            new = (remaining-wait, new_resources, new_robots)\n",
    "            if wait <= remaining and (h := H(*new)) not in visited:\n",
    "                visited.add(h)\n",
    "                stack.append(new)\n",
    "        \n",
    "        # no-op till the end\n",
    "        best_geodes = max(best_geodes, (resources+robots*remaining)[GEODE])\n",
    "\n",
    "    return best_geodes\n",
    "\n"
   ]
  },
  {
   "cell_type": "code",
   "execution_count": 103,
   "id": "a7f1cd46",
   "metadata": {},
   "outputs": [
    {
     "data": {
      "text/plain": [
       "array([[ 4,  0,  0,  0],\n",
       "       [ 2,  0,  0,  0],\n",
       "       [ 3, 14,  0,  0],\n",
       "       [ 2,  0,  7,  0]], dtype=int32)"
      ]
     },
     "execution_count": 103,
     "metadata": {},
     "output_type": "execute_result"
    }
   ],
   "source": [
    "sample[0]"
   ]
  },
  {
   "cell_type": "code",
   "execution_count": 161,
   "id": "f16be6b7",
   "metadata": {},
   "outputs": [],
   "source": [
    "from heapq import heappush, heappop\n",
    "\n",
    "def max_geodes(blueprint, mins):\n",
    "    blueprint = blueprint.astype(int).tolist()\n",
    "    max_cost = tuple(max(blueprint[j][i] for j in range(4)) for i in range(3)) # no geode cost\n",
    "\n",
    "    blueprint = [tuple(row[:-1]) for row in blueprint] # no geode cost\n",
    "    \n",
    "    upper_geodes = lambda x: (x+1)*x/2\n",
    "    \n",
    "    heap = [(-upper_geodes(mins-1), 0, mins, (1,0,0), (0,0,0))]\n",
    "    visited = set(heap)\n",
    "    \n",
    "    best_geodes = 0\n",
    "    \n",
    "    while heap:\n",
    "        _, geodes, remaining, robots, resources = heappop(heap)\n",
    "        if remaining == 0:\n",
    "            return geodes\n",
    "        upper = geodes + upper_geodes(remaining)\n",
    "        if upper <= best_geodes:\n",
    "            continue\n",
    "        best_geodes = max(best_geodes, geodes)\n",
    "            \n",
    "        for robot, cost in enumerate(blueprint):\n",
    "            # if we have enough robots skip\n",
    "            if robot < 3 and robots[robot] >= max_cost[robot]:\n",
    "                continue\n",
    "            # if we can't make it\n",
    "            if any( req > 0 and rob == 0 for req, rob in zip(cost, robots)):\n",
    "                continue\n",
    "            missing = tuple( c-r for c, r in zip(cost, resources))\n",
    "            wait = 1 + int( max( (math.ceil(req/rob)  for req, rob in zip(missing, robots) if req > 0), default=0))\n",
    "            # not enough time\n",
    "            if wait >= remaining:\n",
    "                continue\n",
    "            new_resources = tuple([-now+wait*prod for now, prod in zip(missing, robots)])\n",
    "            if robot < 3:\n",
    "                new_robots = tuple([r+(i==robot) for i, r in enumerate(robots)])\n",
    "                new_geodes = geodes\n",
    "            else:\n",
    "                new_robots = robots\n",
    "                new_geodes = geodes + remaining-wait\n",
    "            \n",
    "            estimate = new_geodes + upper_geodes(remaining-wait) \n",
    "            state = (-estimate, new_geodes, remaining-wait, new_robots, new_resources)\n",
    "            if state not in visited:\n",
    "                visited.add(state)\n",
    "                heappush(heap, state)\n",
    "        \n",
    "        # no-op\n",
    "        state = (-geodes, geodes, 0, robots, resources)\n",
    "        if state not in visited:\n",
    "            heappush(heap, state)\n",
    "\n",
    "    return best_geodes"
   ]
  },
  {
   "cell_type": "code",
   "execution_count": 160,
   "id": "b2108d3c",
   "metadata": {},
   "outputs": [
    {
     "data": {
      "text/plain": [
       "9"
      ]
     },
     "execution_count": 160,
     "metadata": {},
     "output_type": "execute_result"
    }
   ],
   "source": [
    "max_geodes_astar(sample[0], 24)"
   ]
  },
  {
   "cell_type": "code",
   "execution_count": null,
   "id": "4dabfbfc",
   "metadata": {},
   "outputs": [],
   "source": []
  },
  {
   "cell_type": "code",
   "execution_count": null,
   "id": "3e45e687",
   "metadata": {},
   "outputs": [],
   "source": []
  },
  {
   "cell_type": "code",
   "execution_count": 91,
   "id": "926062a5",
   "metadata": {},
   "outputs": [
    {
     "data": {
      "text/plain": [
       "[array([[ 4,  0,  0,  0],\n",
       "        [ 2,  0,  0,  0],\n",
       "        [ 3, 14,  0,  0],\n",
       "        [ 2,  0,  7,  0]], dtype=int32),\n",
       " array([[ 2,  0,  0,  0],\n",
       "        [ 3,  0,  0,  0],\n",
       "        [ 3,  8,  0,  0],\n",
       "        [ 3,  0, 12,  0]], dtype=int32)]"
      ]
     },
     "execution_count": 91,
     "metadata": {},
     "output_type": "execute_result"
    }
   ],
   "source": [
    "sample"
   ]
  },
  {
   "cell_type": "code",
   "execution_count": 92,
   "id": "a200cea0",
   "metadata": {},
   "outputs": [
    {
     "ename": "ValueError",
     "evalue": "max() arg is an empty sequence",
     "output_type": "error",
     "traceback": [
      "\u001b[0;31m---------------------------------------------------------------------------\u001b[0m",
      "\u001b[0;31mValueError\u001b[0m                                Traceback (most recent call last)",
      "\u001b[0;32m<ipython-input-92-c52c253e1d24>\u001b[0m in \u001b[0;36m<module>\u001b[0;34m\u001b[0m\n\u001b[0;32m----> 1\u001b[0;31m \u001b[0mmax_geodes_astar\u001b[0m\u001b[0;34m(\u001b[0m\u001b[0msample\u001b[0m\u001b[0;34m[\u001b[0m\u001b[0;36m0\u001b[0m\u001b[0;34m]\u001b[0m\u001b[0;34m,\u001b[0m \u001b[0;36m24\u001b[0m\u001b[0;34m)\u001b[0m\u001b[0;34m\u001b[0m\u001b[0;34m\u001b[0m\u001b[0m\n\u001b[0m",
      "\u001b[0;32m<ipython-input-90-e3aa57559c78>\u001b[0m in \u001b[0;36mmax_geodes_astar\u001b[0;34m(blueprint, mins)\u001b[0m\n\u001b[1;32m     28\u001b[0m                 \u001b[0;32mcontinue\u001b[0m\u001b[0;34m\u001b[0m\u001b[0;34m\u001b[0m\u001b[0m\n\u001b[1;32m     29\u001b[0m             \u001b[0mmissing\u001b[0m \u001b[0;34m=\u001b[0m \u001b[0mtuple\u001b[0m\u001b[0;34m(\u001b[0m \u001b[0mc\u001b[0m\u001b[0;34m-\u001b[0m\u001b[0mr\u001b[0m \u001b[0;32mfor\u001b[0m \u001b[0mc\u001b[0m\u001b[0;34m,\u001b[0m \u001b[0mr\u001b[0m \u001b[0;32min\u001b[0m \u001b[0mzip\u001b[0m\u001b[0;34m(\u001b[0m\u001b[0mcost\u001b[0m\u001b[0;34m,\u001b[0m \u001b[0mresources\u001b[0m\u001b[0;34m)\u001b[0m\u001b[0;34m)\u001b[0m\u001b[0;34m\u001b[0m\u001b[0;34m\u001b[0m\u001b[0m\n\u001b[0;32m---> 30\u001b[0;31m             \u001b[0mwait\u001b[0m \u001b[0;34m=\u001b[0m \u001b[0;36m1\u001b[0m \u001b[0;34m+\u001b[0m \u001b[0mint\u001b[0m\u001b[0;34m(\u001b[0m \u001b[0mmax\u001b[0m\u001b[0;34m(\u001b[0m \u001b[0mmath\u001b[0m\u001b[0;34m.\u001b[0m\u001b[0mceil\u001b[0m\u001b[0;34m(\u001b[0m\u001b[0mreq\u001b[0m\u001b[0;34m/\u001b[0m\u001b[0mrob\u001b[0m\u001b[0;34m)\u001b[0m  \u001b[0;32mfor\u001b[0m \u001b[0mreq\u001b[0m\u001b[0;34m,\u001b[0m \u001b[0mrob\u001b[0m \u001b[0;32min\u001b[0m \u001b[0mzip\u001b[0m\u001b[0;34m(\u001b[0m\u001b[0mmissing\u001b[0m\u001b[0;34m,\u001b[0m \u001b[0mrobots\u001b[0m\u001b[0;34m)\u001b[0m \u001b[0;32mif\u001b[0m \u001b[0mreq\u001b[0m \u001b[0;34m>\u001b[0m \u001b[0;36m0\u001b[0m\u001b[0;34m)\u001b[0m\u001b[0;34m)\u001b[0m\u001b[0;34m\u001b[0m\u001b[0;34m\u001b[0m\u001b[0m\n\u001b[0m\u001b[1;32m     31\u001b[0m             \u001b[0mnew_resources\u001b[0m \u001b[0;34m=\u001b[0m \u001b[0mtuple\u001b[0m\u001b[0;34m(\u001b[0m\u001b[0;34m[\u001b[0m\u001b[0mnow\u001b[0m\u001b[0;34m+\u001b[0m\u001b[0mwait\u001b[0m\u001b[0;34m*\u001b[0m\u001b[0mprod\u001b[0m \u001b[0;32mfor\u001b[0m \u001b[0mnow\u001b[0m\u001b[0;34m,\u001b[0m \u001b[0mprod\u001b[0m \u001b[0;32min\u001b[0m \u001b[0mzip\u001b[0m\u001b[0;34m(\u001b[0m\u001b[0mmissing\u001b[0m\u001b[0;34m,\u001b[0m \u001b[0mrobots\u001b[0m\u001b[0;34m)\u001b[0m\u001b[0;34m]\u001b[0m\u001b[0;34m)\u001b[0m\u001b[0;34m\u001b[0m\u001b[0;34m\u001b[0m\u001b[0m\n\u001b[1;32m     32\u001b[0m             \u001b[0;32mif\u001b[0m \u001b[0mrobot\u001b[0m \u001b[0;34m<\u001b[0m \u001b[0;36m3\u001b[0m\u001b[0;34m:\u001b[0m\u001b[0;34m\u001b[0m\u001b[0;34m\u001b[0m\u001b[0m\n",
      "\u001b[0;31mValueError\u001b[0m: max() arg is an empty sequence"
     ]
    }
   ],
   "source": []
  },
  {
   "cell_type": "code",
   "execution_count": 73,
   "id": "298c4e46",
   "metadata": {},
   "outputs": [],
   "source": [
    "# def max_geodes(blueprint, mins): \n",
    "#     states = [(np.array([0,0,0,0], dtype=np.int32), np.array([1,0,0,0], dtype=np.int32))]\n",
    "#     keep = 10_000\n",
    "    \n",
    "#     for t in range(mins):\n",
    "#         new_states = []\n",
    "#         for resources, robots in states:\n",
    "#             new_states.append((resources+robots, robots)) # no-op\n",
    "#             for robot, cost in enumerate(blueprint):\n",
    "#                 if (resources >= cost).all():\n",
    "#                     new_robots = robots + np.array([i==robot for i in range(4)])\n",
    "#                     new_states.append((resources-cost+robots, new_robots))\n",
    "#         states = sorted(new_states, key=lambda x: tuple((x[0]+x[1])[::-1]))[-keep:]\n",
    "\n",
    "#     return max(robots[3] for resources, robots in states)"
   ]
  },
  {
   "cell_type": "code",
   "execution_count": 162,
   "id": "25c63430",
   "metadata": {},
   "outputs": [],
   "source": [
    "def solve_a(data):\n",
    "    qs = [max_geodes(x, 24) for x in data]\n",
    "    return sum((i * q for i, q in enumerate(qs, start=1)))"
   ]
  },
  {
   "cell_type": "code",
   "execution_count": 163,
   "id": "b3cbf05b",
   "metadata": {},
   "outputs": [],
   "source": [
    "import math\n",
    "def solve_b(data):\n",
    "    return math.prod([max_geodes(x, 32) for x in data[:3]])"
   ]
  },
  {
   "cell_type": "code",
   "execution_count": 164,
   "id": "ffee388c",
   "metadata": {},
   "outputs": [],
   "source": [
    "# GT = [5, 0, 2, 10, 3, 6, 0, 11, 3, 8, 1, 0, 1, 0, 15, 0, 0, 12, 0, 2, 1, 0, 3, 14, 1, 1, 2, 0, 9, 1]\n",
    "# np.where(np.array(ps) != np.array(GT))"
   ]
  },
  {
   "cell_type": "code",
   "execution_count": 165,
   "id": "26294a12",
   "metadata": {},
   "outputs": [
    {
     "data": {
      "text/plain": [
       "33"
      ]
     },
     "execution_count": 165,
     "metadata": {},
     "output_type": "execute_result"
    }
   ],
   "source": [
    "solve_a(sample)"
   ]
  },
  {
   "cell_type": "code",
   "execution_count": 166,
   "id": "fa6be6e2",
   "metadata": {},
   "outputs": [
    {
     "data": {
      "text/plain": [
       "3472"
      ]
     },
     "execution_count": 166,
     "metadata": {},
     "output_type": "execute_result"
    }
   ],
   "source": [
    "solve_b(sample)"
   ]
  },
  {
   "cell_type": "code",
   "execution_count": 167,
   "id": "7f43fb19",
   "metadata": {},
   "outputs": [
    {
     "name": "stdout",
     "output_type": "stream",
     "text": [
      "CPU times: user 5.98 s, sys: 74.6 ms, total: 6.05 s\n",
      "Wall time: 6.1 s\n"
     ]
    },
    {
     "data": {
      "text/plain": [
       "1624"
      ]
     },
     "execution_count": 167,
     "metadata": {},
     "output_type": "execute_result"
    }
   ],
   "source": [
    "%%time\n",
    "solve_a(data)"
   ]
  },
  {
   "cell_type": "code",
   "execution_count": 168,
   "id": "aa356cff",
   "metadata": {},
   "outputs": [
    {
     "name": "stdout",
     "output_type": "stream",
     "text": [
      "CPU times: user 8.34 s, sys: 145 ms, total: 8.49 s\n",
      "Wall time: 8.56 s\n"
     ]
    },
    {
     "data": {
      "text/plain": [
       "12628"
      ]
     },
     "execution_count": 168,
     "metadata": {},
     "output_type": "execute_result"
    }
   ],
   "source": [
    "%%time\n",
    "solve_b(data)"
   ]
  },
  {
   "cell_type": "code",
   "execution_count": null,
   "id": "681d0e88",
   "metadata": {},
   "outputs": [],
   "source": []
  },
  {
   "cell_type": "code",
   "execution_count": null,
   "id": "51cf6e22",
   "metadata": {},
   "outputs": [],
   "source": []
  },
  {
   "cell_type": "code",
   "execution_count": null,
   "id": "b5998eb7",
   "metadata": {},
   "outputs": [],
   "source": [
    "solve_b(sample)"
   ]
  },
  {
   "cell_type": "code",
   "execution_count": null,
   "id": "1153e896",
   "metadata": {},
   "outputs": [],
   "source": []
  },
  {
   "cell_type": "code",
   "execution_count": 175,
   "id": "0b05c6a4",
   "metadata": {},
   "outputs": [
    {
     "data": {
      "text/plain": [
       "8"
      ]
     },
     "execution_count": 175,
     "metadata": {},
     "output_type": "execute_result"
    }
   ],
   "source": [
    "max_geodes(data[9], 24)"
   ]
  },
  {
   "cell_type": "code",
   "execution_count": 176,
   "id": "d7dab731",
   "metadata": {},
   "outputs": [
    {
     "data": {
      "text/plain": [
       "8"
      ]
     },
     "execution_count": 176,
     "metadata": {},
     "output_type": "execute_result"
    }
   ],
   "source": [
    "GT[9]"
   ]
  },
  {
   "cell_type": "code",
   "execution_count": null,
   "id": "d1aab2d9",
   "metadata": {},
   "outputs": [],
   "source": []
  },
  {
   "cell_type": "code",
   "execution_count": 177,
   "id": "02607d6f",
   "metadata": {},
   "outputs": [
    {
     "data": {
      "text/plain": [
       "14"
      ]
     },
     "execution_count": 177,
     "metadata": {},
     "output_type": "execute_result"
    }
   ],
   "source": [
    "max_geodes(data[23], 24)"
   ]
  },
  {
   "cell_type": "code",
   "execution_count": 169,
   "id": "5d5c7f8b",
   "metadata": {},
   "outputs": [
    {
     "data": {
      "text/plain": [
       "14"
      ]
     },
     "execution_count": 169,
     "metadata": {},
     "output_type": "execute_result"
    }
   ],
   "source": [
    "GT[23]"
   ]
  },
  {
   "cell_type": "code",
   "execution_count": null,
   "id": "c0191a2f",
   "metadata": {},
   "outputs": [],
   "source": []
  },
  {
   "cell_type": "code",
   "execution_count": null,
   "id": "f9f26dd3",
   "metadata": {},
   "outputs": [],
   "source": [
    "1624"
   ]
  },
  {
   "cell_type": "code",
   "execution_count": null,
   "id": "761ef333",
   "metadata": {},
   "outputs": [],
   "source": []
  },
  {
   "cell_type": "code",
   "execution_count": 126,
   "id": "4dbdc46d",
   "metadata": {},
   "outputs": [],
   "source": [
    "def solve_b(data):\n",
    "    return math.prod(parallel_max_geodes(data[:3], 32))"
   ]
  },
  {
   "cell_type": "code",
   "execution_count": 127,
   "id": "b6beb2c6",
   "metadata": {},
   "outputs": [
    {
     "data": {
      "text/plain": [
       "3410"
      ]
     },
     "execution_count": 127,
     "metadata": {},
     "output_type": "execute_result"
    }
   ],
   "source": [
    "solve_b(sample)"
   ]
  },
  {
   "cell_type": "code",
   "execution_count": 128,
   "id": "8f32d310",
   "metadata": {},
   "outputs": [
    {
     "data": {
      "text/plain": [
       "11070"
      ]
     },
     "execution_count": 128,
     "metadata": {},
     "output_type": "execute_result"
    }
   ],
   "source": [
    "solve_b(data)"
   ]
  },
  {
   "cell_type": "code",
   "execution_count": null,
   "id": "9c1fd0d4",
   "metadata": {},
   "outputs": [],
   "source": [
    "12628"
   ]
  },
  {
   "cell_type": "code",
   "execution_count": null,
   "id": "f3c0686d",
   "metadata": {},
   "outputs": [],
   "source": []
  },
  {
   "cell_type": "code",
   "execution_count": null,
   "id": "5556893f",
   "metadata": {},
   "outputs": [],
   "source": []
  },
  {
   "cell_type": "code",
   "execution_count": null,
   "id": "20144eb9",
   "metadata": {},
   "outputs": [],
   "source": []
  },
  {
   "cell_type": "code",
   "execution_count": null,
   "id": "a0276ebe",
   "metadata": {},
   "outputs": [],
   "source": []
  },
  {
   "cell_type": "code",
   "execution_count": null,
   "id": "ec863b25",
   "metadata": {},
   "outputs": [],
   "source": []
  },
  {
   "cell_type": "code",
   "execution_count": null,
   "id": "dca16003",
   "metadata": {},
   "outputs": [],
   "source": []
  },
  {
   "cell_type": "code",
   "execution_count": null,
   "id": "00d5fc97",
   "metadata": {},
   "outputs": [],
   "source": []
  },
  {
   "cell_type": "code",
   "execution_count": null,
   "id": "41375e6d",
   "metadata": {},
   "outputs": [],
   "source": []
  },
  {
   "cell_type": "code",
   "execution_count": null,
   "id": "7381b8b1",
   "metadata": {},
   "outputs": [],
   "source": []
  },
  {
   "cell_type": "code",
   "execution_count": null,
   "id": "a08404b9",
   "metadata": {},
   "outputs": [],
   "source": []
  },
  {
   "cell_type": "code",
   "execution_count": null,
   "id": "4d4a9130",
   "metadata": {},
   "outputs": [],
   "source": []
  },
  {
   "cell_type": "code",
   "execution_count": null,
   "id": "dee06c97",
   "metadata": {},
   "outputs": [],
   "source": []
  },
  {
   "cell_type": "code",
   "execution_count": null,
   "id": "e2ab9e9b",
   "metadata": {},
   "outputs": [],
   "source": []
  },
  {
   "cell_type": "code",
   "execution_count": null,
   "id": "e541ebf3",
   "metadata": {},
   "outputs": [],
   "source": []
  },
  {
   "cell_type": "code",
   "execution_count": 134,
   "id": "96326ba0",
   "metadata": {},
   "outputs": [],
   "source": [
    "from aocd.models import Puzzle\n",
    "\n",
    "puzzle = Puzzle(year=2022, day=19)\n",
    "\n",
    "def parses(data, as_tuples=True):\n",
    "    blueprints = []\n",
    "    for line in data.split('\\n'):\n",
    "        _, *recipes = line.split('Each')\n",
    "        blueprints.append({})\n",
    "        for recipe in recipes:\n",
    "            recipe = recipe.strip(' .')\n",
    "            output, inputs = parse.parse('{} robot costs {}', recipe).fixed\n",
    "            inputs = [parse.parse('{:d} {}', input).fixed for input in inputs.split(' and ')]\n",
    "            inputs = {a: n for n, a in inputs}\n",
    "            blueprints[-1][output] = inputs\n",
    "    if not as_tuples:\n",
    "        return blueprints\n",
    "    materials = ('ore', 'clay', 'obsidian', 'geode')\n",
    "    data = []\n",
    "    for blueprint in blueprints:\n",
    "        data.append([])\n",
    "        for robot in sorted(blueprint, key=materials.index):\n",
    "            cost = [0 for _ in range(4)]\n",
    "            for resource, count in  blueprint[robot].items():\n",
    "                cost[materials.index(resource)] = count\n",
    "            data[-1].append(tuple(cost))\n",
    "    return data\n",
    "\n",
    "        \n",
    "data = parses(puzzle.input_data)"
   ]
  },
  {
   "cell_type": "code",
   "execution_count": 135,
   "id": "86141218",
   "metadata": {},
   "outputs": [],
   "source": [
    "sample = parses(\"\"\"Blueprint 1: Each ore robot costs 4 ore. Each clay robot costs 2 ore. Each obsidian robot costs 3 ore and 14 clay. Each geode robot costs 2 ore and 7 obsidian.\n",
    "Blueprint 2: Each ore robot costs 2 ore. Each clay robot costs 3 ore. Each obsidian robot costs 3 ore and 8 clay. Each geode robot costs 3 ore and 12 obsidian.\"\"\")"
   ]
  },
  {
   "cell_type": "code",
   "execution_count": 136,
   "id": "4cb7d46e",
   "metadata": {},
   "outputs": [],
   "source": [
    "import operator"
   ]
  },
  {
   "cell_type": "code",
   "execution_count": 137,
   "id": "0f5bc3c4",
   "metadata": {},
   "outputs": [],
   "source": [
    "# def max_geodes(blueprint, n=24):\n",
    "#     add = lambda x, y: tuple(map(operator.add, x, y))\n",
    "#     sub = lambda x, y: tuple(map(operator.sub, x, y))\n",
    "#     gea = lambda x, y: all(map(operator.ge, x, y))\n",
    "#     cache = {}\n",
    "    \n",
    "#     def dp(remaining, robots, resources):\n",
    "#         if (remaining, robots, resources) not in cache:\n",
    "#             if remaining == 0:\n",
    "#                 geodes = resources[3]\n",
    "#             else:\n",
    "#                 geodes = 0\n",
    "#                 for robot, recipe in enumerate(blueprint):\n",
    "#                     if gea(resources, recipe):\n",
    "#                         new_resources = sub(resources, recipe)\n",
    "#                         new_resources = add(new_resources, robots)\n",
    "#                         new_robots = add(robots, [i==robot for i in range(4)])\n",
    "#                         geodes = max(geodes, dp(remaining-1, new_robots, new_resources))\n",
    "#                 # no-op\n",
    "#                 new_resources = add(resources, robots)\n",
    "#                 geodes = max(geodes, dp(remaining-1, robots, new_resources))\n",
    "#             cache[remaining, robots, resources] = geodes\n",
    "#         return cache[remaining, robots, resources]\n",
    "    \n",
    "#     dp(n, (1,0,0,0), (0,0,0,0))\n",
    "# #     return cache\n",
    "#     return dp(n, (1,0,0,0), (0,0,0,0))\n"
   ]
  },
  {
   "cell_type": "code",
   "execution_count": null,
   "id": "588141b9",
   "metadata": {},
   "outputs": [],
   "source": []
  },
  {
   "cell_type": "code",
   "execution_count": 138,
   "id": "43d326b5",
   "metadata": {},
   "outputs": [],
   "source": [
    "import math\n",
    "def max_geodes(blueprint, n=24):\n",
    "    add = lambda x, y: tuple(map(operator.add, x, y))\n",
    "    sub = lambda x, y: tuple(map(operator.sub, x, y))\n",
    "#     gea = lambda x, y: all(map(operator.ge, x, y))\n",
    "    cache = {}       \n",
    "    \n",
    "    def dp(remaining, robots, resources):\n",
    "        if (remaining, robots, resources) not in cache:\n",
    "            if remaining == 0:\n",
    "                geodes = resources[3]\n",
    "            else:\n",
    "                geodes = 0\n",
    "                for robot, recipe in enumerate(blueprint):\n",
    "                    feasible = all( prod >= (req > 0) for req, prod in zip(recipe, robots) )\n",
    "                    \n",
    "                    if feasible:\n",
    "                        required = sub(recipe, resources)\n",
    "                        waiting = 0\n",
    "                        for req, prod in zip( sub(recipe, resources), robots):\n",
    "                            if req > 0:\n",
    "                                waiting = max(waiting, math.ceil(req/prod))\n",
    "                        \n",
    "                        waiting += 1\n",
    "                        \n",
    "                        if waiting <= remaining:\n",
    "                            new_resources = add(resources, tuple((i*waiting for i in robots)))\n",
    "                            new_resources = sub(new_resources, recipe)\n",
    "                            new_robots = add(robots, [i==robot for i in range(4)])\n",
    "                            geodes = max(geodes, dp(remaining-waiting, new_robots, new_resources))\n",
    "                # no-op\n",
    "                geodes = max(geodes, remaining*robots[-1])\n",
    "            cache[remaining, robots, resources] = geodes\n",
    "        return cache[remaining, robots, resources]\n",
    "    \n",
    "    return dp(n, (1,0,0,0), (0,0,0,0))\n"
   ]
  },
  {
   "cell_type": "code",
   "execution_count": 16,
   "id": "3a99f211",
   "metadata": {},
   "outputs": [],
   "source": [
    "from concurrent.futures import ProcessPoolExecutor"
   ]
  },
  {
   "cell_type": "code",
   "execution_count": 139,
   "id": "b4b77f4b",
   "metadata": {},
   "outputs": [],
   "source": [
    "def solve_a(data):\n",
    "    with ProcessPoolExecutor(max_workers=len(data)) as executor:\n",
    "        qualities = list(executor.map(max_geodes, data))\n",
    "    return qualities\n",
    "#     return sum((i * q for i, q in enumerate(qualities, start=1)))"
   ]
  },
  {
   "cell_type": "code",
   "execution_count": 140,
   "id": "ff00e300",
   "metadata": {},
   "outputs": [
    {
     "name": "stderr",
     "output_type": "stream",
     "text": [
      "Process ForkProcess-81:\n",
      "Traceback (most recent call last):\n",
      "  File \"/home/jjgo/.conda/envs/helix/lib/python3.9/multiprocessing/process.py\", line 315, in _bootstrap\n",
      "    self.run()\n",
      "  File \"/home/jjgo/.conda/envs/helix/lib/python3.9/multiprocessing/process.py\", line 108, in run\n",
      "    self._target(*self._args, **self._kwargs)\n",
      "  File \"/home/jjgo/.conda/envs/helix/lib/python3.9/concurrent/futures/process.py\", line 237, in _process_worker\n",
      "    call_item = call_queue.get(block=True)\n",
      "  File \"/home/jjgo/.conda/envs/helix/lib/python3.9/multiprocessing/queues.py\", line 103, in get\n",
      "    res = self._recv_bytes()\n",
      "  File \"/home/jjgo/.conda/envs/helix/lib/python3.9/multiprocessing/connection.py\", line 221, in recv_bytes\n",
      "    buf = self._recv_bytes(maxlength)\n",
      "  File \"/home/jjgo/.conda/envs/helix/lib/python3.9/multiprocessing/connection.py\", line 419, in _recv_bytes\n",
      "    buf = self._recv(4)\n",
      "  File \"/home/jjgo/.conda/envs/helix/lib/python3.9/multiprocessing/connection.py\", line 384, in _recv\n",
      "    chunk = read(handle, remaining)\n",
      "KeyboardInterrupt\n"
     ]
    },
    {
     "ename": "KeyboardInterrupt",
     "evalue": "",
     "output_type": "error",
     "traceback": [
      "\u001b[0;31m---------------------------------------------------------------------------\u001b[0m",
      "\u001b[0;31mKeyboardInterrupt\u001b[0m                         Traceback (most recent call last)",
      "\u001b[0;32m/tmp/ipykernel_26566/3826057669.py\u001b[0m in \u001b[0;36m<module>\u001b[0;34m\u001b[0m\n\u001b[0;32m----> 1\u001b[0;31m \u001b[0msolve_a\u001b[0m\u001b[0;34m(\u001b[0m\u001b[0msample\u001b[0m\u001b[0;34m)\u001b[0m\u001b[0;34m\u001b[0m\u001b[0;34m\u001b[0m\u001b[0m\n\u001b[0m",
      "\u001b[0;32m/tmp/ipykernel_26566/2261595303.py\u001b[0m in \u001b[0;36msolve_a\u001b[0;34m(data)\u001b[0m\n\u001b[1;32m      1\u001b[0m \u001b[0;32mdef\u001b[0m \u001b[0msolve_a\u001b[0m\u001b[0;34m(\u001b[0m\u001b[0mdata\u001b[0m\u001b[0;34m)\u001b[0m\u001b[0;34m:\u001b[0m\u001b[0;34m\u001b[0m\u001b[0;34m\u001b[0m\u001b[0m\n\u001b[1;32m      2\u001b[0m     \u001b[0;32mwith\u001b[0m \u001b[0mProcessPoolExecutor\u001b[0m\u001b[0;34m(\u001b[0m\u001b[0mmax_workers\u001b[0m\u001b[0;34m=\u001b[0m\u001b[0mlen\u001b[0m\u001b[0;34m(\u001b[0m\u001b[0mdata\u001b[0m\u001b[0;34m)\u001b[0m\u001b[0;34m)\u001b[0m \u001b[0;32mas\u001b[0m \u001b[0mexecutor\u001b[0m\u001b[0;34m:\u001b[0m\u001b[0;34m\u001b[0m\u001b[0;34m\u001b[0m\u001b[0m\n\u001b[0;32m----> 3\u001b[0;31m         \u001b[0mqualities\u001b[0m \u001b[0;34m=\u001b[0m \u001b[0mlist\u001b[0m\u001b[0;34m(\u001b[0m\u001b[0mexecutor\u001b[0m\u001b[0;34m.\u001b[0m\u001b[0mmap\u001b[0m\u001b[0;34m(\u001b[0m\u001b[0mmax_geodes\u001b[0m\u001b[0;34m,\u001b[0m \u001b[0mdata\u001b[0m\u001b[0;34m)\u001b[0m\u001b[0;34m)\u001b[0m\u001b[0;34m\u001b[0m\u001b[0;34m\u001b[0m\u001b[0m\n\u001b[0m\u001b[1;32m      4\u001b[0m     \u001b[0;32mreturn\u001b[0m \u001b[0mqualities\u001b[0m\u001b[0;34m\u001b[0m\u001b[0;34m\u001b[0m\u001b[0m\n\u001b[1;32m      5\u001b[0m \u001b[0;31m#     return sum((i * q for i, q in enumerate(qualities, start=1)))\u001b[0m\u001b[0;34m\u001b[0m\u001b[0;34m\u001b[0m\u001b[0m\n",
      "\u001b[0;32m~/.conda/envs/helix/lib/python3.9/concurrent/futures/process.py\u001b[0m in \u001b[0;36m_chain_from_iterable_of_lists\u001b[0;34m(iterable)\u001b[0m\n\u001b[1;32m    557\u001b[0m     \u001b[0mcareful\u001b[0m \u001b[0;32mnot\u001b[0m \u001b[0mto\u001b[0m \u001b[0mkeep\u001b[0m \u001b[0mreferences\u001b[0m \u001b[0mto\u001b[0m \u001b[0myielded\u001b[0m \u001b[0mobjects\u001b[0m\u001b[0;34m.\u001b[0m\u001b[0;34m\u001b[0m\u001b[0;34m\u001b[0m\u001b[0m\n\u001b[1;32m    558\u001b[0m     \"\"\"\n\u001b[0;32m--> 559\u001b[0;31m     \u001b[0;32mfor\u001b[0m \u001b[0melement\u001b[0m \u001b[0;32min\u001b[0m \u001b[0miterable\u001b[0m\u001b[0;34m:\u001b[0m\u001b[0;34m\u001b[0m\u001b[0;34m\u001b[0m\u001b[0m\n\u001b[0m\u001b[1;32m    560\u001b[0m         \u001b[0melement\u001b[0m\u001b[0;34m.\u001b[0m\u001b[0mreverse\u001b[0m\u001b[0;34m(\u001b[0m\u001b[0;34m)\u001b[0m\u001b[0;34m\u001b[0m\u001b[0;34m\u001b[0m\u001b[0m\n\u001b[1;32m    561\u001b[0m         \u001b[0;32mwhile\u001b[0m \u001b[0melement\u001b[0m\u001b[0;34m:\u001b[0m\u001b[0;34m\u001b[0m\u001b[0;34m\u001b[0m\u001b[0m\n",
      "\u001b[0;32m~/.conda/envs/helix/lib/python3.9/concurrent/futures/_base.py\u001b[0m in \u001b[0;36mresult_iterator\u001b[0;34m()\u001b[0m\n\u001b[1;32m    607\u001b[0m                     \u001b[0;31m# Careful not to keep a reference to the popped future\u001b[0m\u001b[0;34m\u001b[0m\u001b[0;34m\u001b[0m\u001b[0m\n\u001b[1;32m    608\u001b[0m                     \u001b[0;32mif\u001b[0m \u001b[0mtimeout\u001b[0m \u001b[0;32mis\u001b[0m \u001b[0;32mNone\u001b[0m\u001b[0;34m:\u001b[0m\u001b[0;34m\u001b[0m\u001b[0;34m\u001b[0m\u001b[0m\n\u001b[0;32m--> 609\u001b[0;31m                         \u001b[0;32myield\u001b[0m \u001b[0mfs\u001b[0m\u001b[0;34m.\u001b[0m\u001b[0mpop\u001b[0m\u001b[0;34m(\u001b[0m\u001b[0;34m)\u001b[0m\u001b[0;34m.\u001b[0m\u001b[0mresult\u001b[0m\u001b[0;34m(\u001b[0m\u001b[0;34m)\u001b[0m\u001b[0;34m\u001b[0m\u001b[0;34m\u001b[0m\u001b[0m\n\u001b[0m\u001b[1;32m    610\u001b[0m                     \u001b[0;32melse\u001b[0m\u001b[0;34m:\u001b[0m\u001b[0;34m\u001b[0m\u001b[0;34m\u001b[0m\u001b[0m\n\u001b[1;32m    611\u001b[0m                         \u001b[0;32myield\u001b[0m \u001b[0mfs\u001b[0m\u001b[0;34m.\u001b[0m\u001b[0mpop\u001b[0m\u001b[0;34m(\u001b[0m\u001b[0;34m)\u001b[0m\u001b[0;34m.\u001b[0m\u001b[0mresult\u001b[0m\u001b[0;34m(\u001b[0m\u001b[0mend_time\u001b[0m \u001b[0;34m-\u001b[0m \u001b[0mtime\u001b[0m\u001b[0;34m.\u001b[0m\u001b[0mmonotonic\u001b[0m\u001b[0;34m(\u001b[0m\u001b[0;34m)\u001b[0m\u001b[0;34m)\u001b[0m\u001b[0;34m\u001b[0m\u001b[0;34m\u001b[0m\u001b[0m\n",
      "\u001b[0;32m~/.conda/envs/helix/lib/python3.9/concurrent/futures/_base.py\u001b[0m in \u001b[0;36mresult\u001b[0;34m(self, timeout)\u001b[0m\n\u001b[1;32m    439\u001b[0m                     \u001b[0;32mreturn\u001b[0m \u001b[0mself\u001b[0m\u001b[0;34m.\u001b[0m\u001b[0m__get_result\u001b[0m\u001b[0;34m(\u001b[0m\u001b[0;34m)\u001b[0m\u001b[0;34m\u001b[0m\u001b[0;34m\u001b[0m\u001b[0m\n\u001b[1;32m    440\u001b[0m \u001b[0;34m\u001b[0m\u001b[0m\n\u001b[0;32m--> 441\u001b[0;31m                 \u001b[0mself\u001b[0m\u001b[0;34m.\u001b[0m\u001b[0m_condition\u001b[0m\u001b[0;34m.\u001b[0m\u001b[0mwait\u001b[0m\u001b[0;34m(\u001b[0m\u001b[0mtimeout\u001b[0m\u001b[0;34m)\u001b[0m\u001b[0;34m\u001b[0m\u001b[0;34m\u001b[0m\u001b[0m\n\u001b[0m\u001b[1;32m    442\u001b[0m \u001b[0;34m\u001b[0m\u001b[0m\n\u001b[1;32m    443\u001b[0m                 \u001b[0;32mif\u001b[0m \u001b[0mself\u001b[0m\u001b[0;34m.\u001b[0m\u001b[0m_state\u001b[0m \u001b[0;32min\u001b[0m \u001b[0;34m[\u001b[0m\u001b[0mCANCELLED\u001b[0m\u001b[0;34m,\u001b[0m \u001b[0mCANCELLED_AND_NOTIFIED\u001b[0m\u001b[0;34m]\u001b[0m\u001b[0;34m:\u001b[0m\u001b[0;34m\u001b[0m\u001b[0;34m\u001b[0m\u001b[0m\n",
      "\u001b[0;32m~/.conda/envs/helix/lib/python3.9/threading.py\u001b[0m in \u001b[0;36mwait\u001b[0;34m(self, timeout)\u001b[0m\n\u001b[1;32m    310\u001b[0m         \u001b[0;32mtry\u001b[0m\u001b[0;34m:\u001b[0m    \u001b[0;31m# restore state no matter what (e.g., KeyboardInterrupt)\u001b[0m\u001b[0;34m\u001b[0m\u001b[0;34m\u001b[0m\u001b[0m\n\u001b[1;32m    311\u001b[0m             \u001b[0;32mif\u001b[0m \u001b[0mtimeout\u001b[0m \u001b[0;32mis\u001b[0m \u001b[0;32mNone\u001b[0m\u001b[0;34m:\u001b[0m\u001b[0;34m\u001b[0m\u001b[0;34m\u001b[0m\u001b[0m\n\u001b[0;32m--> 312\u001b[0;31m                 \u001b[0mwaiter\u001b[0m\u001b[0;34m.\u001b[0m\u001b[0macquire\u001b[0m\u001b[0;34m(\u001b[0m\u001b[0;34m)\u001b[0m\u001b[0;34m\u001b[0m\u001b[0;34m\u001b[0m\u001b[0m\n\u001b[0m\u001b[1;32m    313\u001b[0m                 \u001b[0mgotit\u001b[0m \u001b[0;34m=\u001b[0m \u001b[0;32mTrue\u001b[0m\u001b[0;34m\u001b[0m\u001b[0;34m\u001b[0m\u001b[0m\n\u001b[1;32m    314\u001b[0m             \u001b[0;32melse\u001b[0m\u001b[0;34m:\u001b[0m\u001b[0;34m\u001b[0m\u001b[0;34m\u001b[0m\u001b[0m\n",
      "\u001b[0;31mKeyboardInterrupt\u001b[0m: "
     ]
    }
   ],
   "source": [
    "solve_a(sample)"
   ]
  },
  {
   "cell_type": "code",
   "execution_count": 141,
   "id": "c94b6e85",
   "metadata": {},
   "outputs": [
    {
     "data": {
      "text/plain": [
       "[5,\n",
       " 0,\n",
       " 2,\n",
       " 10,\n",
       " 3,\n",
       " 6,\n",
       " 0,\n",
       " 11,\n",
       " 3,\n",
       " 8,\n",
       " 1,\n",
       " 0,\n",
       " 1,\n",
       " 0,\n",
       " 15,\n",
       " 0,\n",
       " 0,\n",
       " 12,\n",
       " 0,\n",
       " 2,\n",
       " 1,\n",
       " 0,\n",
       " 3,\n",
       " 14,\n",
       " 1,\n",
       " 1,\n",
       " 2,\n",
       " 0,\n",
       " 9,\n",
       " 1]"
      ]
     },
     "execution_count": 141,
     "metadata": {},
     "output_type": "execute_result"
    }
   ],
   "source": [
    "solve_a(data)"
   ]
  },
  {
   "cell_type": "code",
   "execution_count": null,
   "id": "7d9f9273",
   "metadata": {},
   "outputs": [],
   "source": []
  },
  {
   "cell_type": "code",
   "execution_count": null,
   "id": "a9bf1816",
   "metadata": {},
   "outputs": [],
   "source": []
  },
  {
   "cell_type": "code",
   "execution_count": null,
   "id": "d3d704a1",
   "metadata": {},
   "outputs": [],
   "source": []
  },
  {
   "cell_type": "code",
   "execution_count": 22,
   "id": "06909455",
   "metadata": {},
   "outputs": [],
   "source": [
    "import time"
   ]
  },
  {
   "cell_type": "code",
   "execution_count": 25,
   "id": "5a74cc21",
   "metadata": {},
   "outputs": [
    {
     "name": "stdout",
     "output_type": "stream",
     "text": [
      "1 - 0.00s - 0 - 1\n",
      "2 - 0.00s - 0 - 1\n",
      "3 - 0.00s - 0 - 2\n",
      "4 - 0.00s - 0 - 3\n",
      "5 - 0.00s - 0 - 5\n",
      "6 - 0.00s - 0 - 9\n",
      "7 - 0.00s - 0 - 16\n",
      "8 - 0.00s - 0 - 30\n",
      "9 - 0.00s - 0 - 55\n",
      "10 - 0.00s - 0 - 99\n",
      "11 - 0.00s - 0 - 207\n",
      "12 - 0.01s - 0 - 463\n",
      "13 - 0.01s - 0 - 1080\n",
      "14 - 0.03s - 0 - 2612\n",
      "15 - 0.06s - 0 - 6330\n",
      "16 - 0.14s - 0 - 15035\n",
      "17 - 0.33s - 0 - 34693\n",
      "18 - 0.80s - 0 - 77733\n",
      "19 - 1.77s - 1 - 179191\n",
      "20 - 4.65s - 2 - 439361\n",
      "21 - 11.07s - 4 - 1121276\n",
      "22 - 29.92s - 6 - 2920815\n",
      "23 - 80.75s - 9 - 7624972\n",
      "24 - 209.96s - 12 - 19574502\n"
     ]
    }
   ],
   "source": [
    "X = sample[1]\n",
    "\n",
    "for i in range(1,25):\n",
    "    start = time.time()\n",
    "    cache, res = max_geodes(X, i)\n",
    "    taken = time.time() - start\n",
    "    print(f'{i} - {taken:.2f}s - {res} - {len(cache)}')\n",
    "    "
   ]
  },
  {
   "cell_type": "code",
   "execution_count": null,
   "id": "09e7425e",
   "metadata": {},
   "outputs": [],
   "source": []
  },
  {
   "cell_type": "code",
   "execution_count": 107,
   "id": "f913abb8",
   "metadata": {},
   "outputs": [],
   "source": [
    "import math\n",
    "def max_geodes2(blueprint, thres, n=32):\n",
    "    add = lambda x, y: tuple(map(operator.add, x, y))\n",
    "    sub = lambda x, y: tuple(map(operator.sub, x, y))\n",
    "#     gea = lambda x, y: all(map(operator.ge, x, y))\n",
    "    cache = {}       \n",
    "    \n",
    "    def dp(remaining, robots, resources):\n",
    "        if (remaining, robots, resources) not in cache:\n",
    "            if remaining == 0:\n",
    "                geodes = resources[3]\n",
    "            else:\n",
    "                geodes = 0\n",
    "                for robot, recipe in enumerate(blueprint):\n",
    "                    if n-remaining >= thres and robot in (0,1):\n",
    "                        continue\n",
    "                    feasible = all( prod >= (req > 0) for req, prod in zip(recipe, robots) )\n",
    "                    \n",
    "                    if feasible:\n",
    "                        required = sub(recipe, resources)\n",
    "                        waiting = 0\n",
    "                        for req, prod in zip( sub(recipe, resources), robots):\n",
    "                            if req > 0:\n",
    "                                waiting = max(waiting, math.ceil(req/prod))\n",
    "                        \n",
    "                        waiting += 1\n",
    "                        \n",
    "                        if waiting <= remaining:\n",
    "                            new_resources = add(resources, tuple((i*waiting for i in robots)))\n",
    "                            new_resources = sub(new_resources, recipe)\n",
    "                            new_robots = add(robots, [i==robot for i in range(4)])\n",
    "                            geodes = max(geodes, dp(remaining-waiting, new_robots, new_resources))\n",
    "                # no-op\n",
    "                geodes = max(geodes, remaining*robots[-1])\n",
    "            cache[remaining, robots, resources] = geodes\n",
    "        return cache[remaining, robots, resources]\n",
    "    \n",
    "    return dp(n, (1,0,0,0), (0,0,0,0))\n"
   ]
  },
  {
   "cell_type": "code",
   "execution_count": 105,
   "id": "92ce79b1",
   "metadata": {},
   "outputs": [],
   "source": [
    "# max_geodes2(sample[0], 32)\n",
    "# max_geodes2(sample[1], 32)"
   ]
  },
  {
   "cell_type": "code",
   "execution_count": 112,
   "id": "49509a41",
   "metadata": {},
   "outputs": [
    {
     "name": "stdout",
     "output_type": "stream",
     "text": [
      "15 26\n",
      "16 28\n",
      "17 28\n",
      "18 28\n",
      "19 28\n",
      "20 28\n",
      "21 28\n"
     ]
    },
    {
     "ename": "KeyboardInterrupt",
     "evalue": "",
     "output_type": "error",
     "traceback": [
      "\u001b[0;31m---------------------------------------------------------------------------\u001b[0m",
      "\u001b[0;31mKeyboardInterrupt\u001b[0m                         Traceback (most recent call last)",
      "\u001b[0;32m/tmp/ipykernel_26566/2934496870.py\u001b[0m in \u001b[0;36m<module>\u001b[0;34m\u001b[0m\n\u001b[1;32m      1\u001b[0m \u001b[0;32mfor\u001b[0m \u001b[0mthres\u001b[0m \u001b[0;32min\u001b[0m \u001b[0mrange\u001b[0m\u001b[0;34m(\u001b[0m\u001b[0;36m15\u001b[0m\u001b[0;34m,\u001b[0m\u001b[0;36m25\u001b[0m\u001b[0;34m)\u001b[0m\u001b[0;34m:\u001b[0m\u001b[0;34m\u001b[0m\u001b[0;34m\u001b[0m\u001b[0m\n\u001b[0;32m----> 2\u001b[0;31m     \u001b[0mprint\u001b[0m\u001b[0;34m(\u001b[0m\u001b[0mthres\u001b[0m\u001b[0;34m,\u001b[0m \u001b[0mmax_geodes2\u001b[0m\u001b[0;34m(\u001b[0m\u001b[0mdata\u001b[0m\u001b[0;34m[\u001b[0m\u001b[0;36m2\u001b[0m\u001b[0;34m]\u001b[0m\u001b[0;34m,\u001b[0m \u001b[0mthres\u001b[0m\u001b[0;34m)\u001b[0m\u001b[0;34m)\u001b[0m\u001b[0;34m\u001b[0m\u001b[0;34m\u001b[0m\u001b[0m\n\u001b[0m",
      "\u001b[0;32m/tmp/ipykernel_26566/3150205784.py\u001b[0m in \u001b[0;36mmax_geodes2\u001b[0;34m(blueprint, thres, n)\u001b[0m\n\u001b[1;32m     36\u001b[0m         \u001b[0;32mreturn\u001b[0m \u001b[0mcache\u001b[0m\u001b[0;34m[\u001b[0m\u001b[0mremaining\u001b[0m\u001b[0;34m,\u001b[0m \u001b[0mrobots\u001b[0m\u001b[0;34m,\u001b[0m \u001b[0mresources\u001b[0m\u001b[0;34m]\u001b[0m\u001b[0;34m\u001b[0m\u001b[0;34m\u001b[0m\u001b[0m\n\u001b[1;32m     37\u001b[0m \u001b[0;34m\u001b[0m\u001b[0m\n\u001b[0;32m---> 38\u001b[0;31m     \u001b[0;32mreturn\u001b[0m \u001b[0mdp\u001b[0m\u001b[0;34m(\u001b[0m\u001b[0mn\u001b[0m\u001b[0;34m,\u001b[0m \u001b[0;34m(\u001b[0m\u001b[0;36m1\u001b[0m\u001b[0;34m,\u001b[0m\u001b[0;36m0\u001b[0m\u001b[0;34m,\u001b[0m\u001b[0;36m0\u001b[0m\u001b[0;34m,\u001b[0m\u001b[0;36m0\u001b[0m\u001b[0;34m)\u001b[0m\u001b[0;34m,\u001b[0m \u001b[0;34m(\u001b[0m\u001b[0;36m0\u001b[0m\u001b[0;34m,\u001b[0m\u001b[0;36m0\u001b[0m\u001b[0;34m,\u001b[0m\u001b[0;36m0\u001b[0m\u001b[0;34m,\u001b[0m\u001b[0;36m0\u001b[0m\u001b[0;34m)\u001b[0m\u001b[0;34m)\u001b[0m\u001b[0;34m\u001b[0m\u001b[0;34m\u001b[0m\u001b[0m\n\u001b[0m",
      "\u001b[0;32m/tmp/ipykernel_26566/3150205784.py\u001b[0m in \u001b[0;36mdp\u001b[0;34m(remaining, robots, resources)\u001b[0m\n\u001b[1;32m     30\u001b[0m                             \u001b[0mnew_resources\u001b[0m \u001b[0;34m=\u001b[0m \u001b[0msub\u001b[0m\u001b[0;34m(\u001b[0m\u001b[0mnew_resources\u001b[0m\u001b[0;34m,\u001b[0m \u001b[0mrecipe\u001b[0m\u001b[0;34m)\u001b[0m\u001b[0;34m\u001b[0m\u001b[0;34m\u001b[0m\u001b[0m\n\u001b[1;32m     31\u001b[0m                             \u001b[0mnew_robots\u001b[0m \u001b[0;34m=\u001b[0m \u001b[0madd\u001b[0m\u001b[0;34m(\u001b[0m\u001b[0mrobots\u001b[0m\u001b[0;34m,\u001b[0m \u001b[0;34m[\u001b[0m\u001b[0mi\u001b[0m\u001b[0;34m==\u001b[0m\u001b[0mrobot\u001b[0m \u001b[0;32mfor\u001b[0m \u001b[0mi\u001b[0m \u001b[0;32min\u001b[0m \u001b[0mrange\u001b[0m\u001b[0;34m(\u001b[0m\u001b[0;36m4\u001b[0m\u001b[0;34m)\u001b[0m\u001b[0;34m]\u001b[0m\u001b[0;34m)\u001b[0m\u001b[0;34m\u001b[0m\u001b[0;34m\u001b[0m\u001b[0m\n\u001b[0;32m---> 32\u001b[0;31m                             \u001b[0mgeodes\u001b[0m \u001b[0;34m=\u001b[0m \u001b[0mmax\u001b[0m\u001b[0;34m(\u001b[0m\u001b[0mgeodes\u001b[0m\u001b[0;34m,\u001b[0m \u001b[0mdp\u001b[0m\u001b[0;34m(\u001b[0m\u001b[0mremaining\u001b[0m\u001b[0;34m-\u001b[0m\u001b[0mwaiting\u001b[0m\u001b[0;34m,\u001b[0m \u001b[0mnew_robots\u001b[0m\u001b[0;34m,\u001b[0m \u001b[0mnew_resources\u001b[0m\u001b[0;34m)\u001b[0m\u001b[0;34m)\u001b[0m\u001b[0;34m\u001b[0m\u001b[0;34m\u001b[0m\u001b[0m\n\u001b[0m\u001b[1;32m     33\u001b[0m                 \u001b[0;31m# no-op\u001b[0m\u001b[0;34m\u001b[0m\u001b[0;34m\u001b[0m\u001b[0m\n\u001b[1;32m     34\u001b[0m                 \u001b[0mgeodes\u001b[0m \u001b[0;34m=\u001b[0m \u001b[0mmax\u001b[0m\u001b[0;34m(\u001b[0m\u001b[0mgeodes\u001b[0m\u001b[0;34m,\u001b[0m \u001b[0mremaining\u001b[0m\u001b[0;34m*\u001b[0m\u001b[0mrobots\u001b[0m\u001b[0;34m[\u001b[0m\u001b[0;34m-\u001b[0m\u001b[0;36m1\u001b[0m\u001b[0;34m]\u001b[0m\u001b[0;34m)\u001b[0m\u001b[0;34m\u001b[0m\u001b[0;34m\u001b[0m\u001b[0m\n",
      "\u001b[0;32m/tmp/ipykernel_26566/3150205784.py\u001b[0m in \u001b[0;36mdp\u001b[0;34m(remaining, robots, resources)\u001b[0m\n\u001b[1;32m     30\u001b[0m                             \u001b[0mnew_resources\u001b[0m \u001b[0;34m=\u001b[0m \u001b[0msub\u001b[0m\u001b[0;34m(\u001b[0m\u001b[0mnew_resources\u001b[0m\u001b[0;34m,\u001b[0m \u001b[0mrecipe\u001b[0m\u001b[0;34m)\u001b[0m\u001b[0;34m\u001b[0m\u001b[0;34m\u001b[0m\u001b[0m\n\u001b[1;32m     31\u001b[0m                             \u001b[0mnew_robots\u001b[0m \u001b[0;34m=\u001b[0m \u001b[0madd\u001b[0m\u001b[0;34m(\u001b[0m\u001b[0mrobots\u001b[0m\u001b[0;34m,\u001b[0m \u001b[0;34m[\u001b[0m\u001b[0mi\u001b[0m\u001b[0;34m==\u001b[0m\u001b[0mrobot\u001b[0m \u001b[0;32mfor\u001b[0m \u001b[0mi\u001b[0m \u001b[0;32min\u001b[0m \u001b[0mrange\u001b[0m\u001b[0;34m(\u001b[0m\u001b[0;36m4\u001b[0m\u001b[0;34m)\u001b[0m\u001b[0;34m]\u001b[0m\u001b[0;34m)\u001b[0m\u001b[0;34m\u001b[0m\u001b[0;34m\u001b[0m\u001b[0m\n\u001b[0;32m---> 32\u001b[0;31m                             \u001b[0mgeodes\u001b[0m \u001b[0;34m=\u001b[0m \u001b[0mmax\u001b[0m\u001b[0;34m(\u001b[0m\u001b[0mgeodes\u001b[0m\u001b[0;34m,\u001b[0m \u001b[0mdp\u001b[0m\u001b[0;34m(\u001b[0m\u001b[0mremaining\u001b[0m\u001b[0;34m-\u001b[0m\u001b[0mwaiting\u001b[0m\u001b[0;34m,\u001b[0m \u001b[0mnew_robots\u001b[0m\u001b[0;34m,\u001b[0m \u001b[0mnew_resources\u001b[0m\u001b[0;34m)\u001b[0m\u001b[0;34m)\u001b[0m\u001b[0;34m\u001b[0m\u001b[0;34m\u001b[0m\u001b[0m\n\u001b[0m\u001b[1;32m     33\u001b[0m                 \u001b[0;31m# no-op\u001b[0m\u001b[0;34m\u001b[0m\u001b[0;34m\u001b[0m\u001b[0m\n\u001b[1;32m     34\u001b[0m                 \u001b[0mgeodes\u001b[0m \u001b[0;34m=\u001b[0m \u001b[0mmax\u001b[0m\u001b[0;34m(\u001b[0m\u001b[0mgeodes\u001b[0m\u001b[0;34m,\u001b[0m \u001b[0mremaining\u001b[0m\u001b[0;34m*\u001b[0m\u001b[0mrobots\u001b[0m\u001b[0;34m[\u001b[0m\u001b[0;34m-\u001b[0m\u001b[0;36m1\u001b[0m\u001b[0;34m]\u001b[0m\u001b[0;34m)\u001b[0m\u001b[0;34m\u001b[0m\u001b[0;34m\u001b[0m\u001b[0m\n",
      "\u001b[0;32m/tmp/ipykernel_26566/3150205784.py\u001b[0m in \u001b[0;36mdp\u001b[0;34m(remaining, robots, resources)\u001b[0m\n\u001b[1;32m     30\u001b[0m                             \u001b[0mnew_resources\u001b[0m \u001b[0;34m=\u001b[0m \u001b[0msub\u001b[0m\u001b[0;34m(\u001b[0m\u001b[0mnew_resources\u001b[0m\u001b[0;34m,\u001b[0m \u001b[0mrecipe\u001b[0m\u001b[0;34m)\u001b[0m\u001b[0;34m\u001b[0m\u001b[0;34m\u001b[0m\u001b[0m\n\u001b[1;32m     31\u001b[0m                             \u001b[0mnew_robots\u001b[0m \u001b[0;34m=\u001b[0m \u001b[0madd\u001b[0m\u001b[0;34m(\u001b[0m\u001b[0mrobots\u001b[0m\u001b[0;34m,\u001b[0m \u001b[0;34m[\u001b[0m\u001b[0mi\u001b[0m\u001b[0;34m==\u001b[0m\u001b[0mrobot\u001b[0m \u001b[0;32mfor\u001b[0m \u001b[0mi\u001b[0m \u001b[0;32min\u001b[0m \u001b[0mrange\u001b[0m\u001b[0;34m(\u001b[0m\u001b[0;36m4\u001b[0m\u001b[0;34m)\u001b[0m\u001b[0;34m]\u001b[0m\u001b[0;34m)\u001b[0m\u001b[0;34m\u001b[0m\u001b[0;34m\u001b[0m\u001b[0m\n\u001b[0;32m---> 32\u001b[0;31m                             \u001b[0mgeodes\u001b[0m \u001b[0;34m=\u001b[0m \u001b[0mmax\u001b[0m\u001b[0;34m(\u001b[0m\u001b[0mgeodes\u001b[0m\u001b[0;34m,\u001b[0m \u001b[0mdp\u001b[0m\u001b[0;34m(\u001b[0m\u001b[0mremaining\u001b[0m\u001b[0;34m-\u001b[0m\u001b[0mwaiting\u001b[0m\u001b[0;34m,\u001b[0m \u001b[0mnew_robots\u001b[0m\u001b[0;34m,\u001b[0m \u001b[0mnew_resources\u001b[0m\u001b[0;34m)\u001b[0m\u001b[0;34m)\u001b[0m\u001b[0;34m\u001b[0m\u001b[0;34m\u001b[0m\u001b[0m\n\u001b[0m\u001b[1;32m     33\u001b[0m                 \u001b[0;31m# no-op\u001b[0m\u001b[0;34m\u001b[0m\u001b[0;34m\u001b[0m\u001b[0m\n\u001b[1;32m     34\u001b[0m                 \u001b[0mgeodes\u001b[0m \u001b[0;34m=\u001b[0m \u001b[0mmax\u001b[0m\u001b[0;34m(\u001b[0m\u001b[0mgeodes\u001b[0m\u001b[0;34m,\u001b[0m \u001b[0mremaining\u001b[0m\u001b[0;34m*\u001b[0m\u001b[0mrobots\u001b[0m\u001b[0;34m[\u001b[0m\u001b[0;34m-\u001b[0m\u001b[0;36m1\u001b[0m\u001b[0;34m]\u001b[0m\u001b[0;34m)\u001b[0m\u001b[0;34m\u001b[0m\u001b[0;34m\u001b[0m\u001b[0m\n",
      "\u001b[0;32m/tmp/ipykernel_26566/3150205784.py\u001b[0m in \u001b[0;36mdp\u001b[0;34m(remaining, robots, resources)\u001b[0m\n\u001b[1;32m     30\u001b[0m                             \u001b[0mnew_resources\u001b[0m \u001b[0;34m=\u001b[0m \u001b[0msub\u001b[0m\u001b[0;34m(\u001b[0m\u001b[0mnew_resources\u001b[0m\u001b[0;34m,\u001b[0m \u001b[0mrecipe\u001b[0m\u001b[0;34m)\u001b[0m\u001b[0;34m\u001b[0m\u001b[0;34m\u001b[0m\u001b[0m\n\u001b[1;32m     31\u001b[0m                             \u001b[0mnew_robots\u001b[0m \u001b[0;34m=\u001b[0m \u001b[0madd\u001b[0m\u001b[0;34m(\u001b[0m\u001b[0mrobots\u001b[0m\u001b[0;34m,\u001b[0m \u001b[0;34m[\u001b[0m\u001b[0mi\u001b[0m\u001b[0;34m==\u001b[0m\u001b[0mrobot\u001b[0m \u001b[0;32mfor\u001b[0m \u001b[0mi\u001b[0m \u001b[0;32min\u001b[0m \u001b[0mrange\u001b[0m\u001b[0;34m(\u001b[0m\u001b[0;36m4\u001b[0m\u001b[0;34m)\u001b[0m\u001b[0;34m]\u001b[0m\u001b[0;34m)\u001b[0m\u001b[0;34m\u001b[0m\u001b[0;34m\u001b[0m\u001b[0m\n\u001b[0;32m---> 32\u001b[0;31m                             \u001b[0mgeodes\u001b[0m \u001b[0;34m=\u001b[0m \u001b[0mmax\u001b[0m\u001b[0;34m(\u001b[0m\u001b[0mgeodes\u001b[0m\u001b[0;34m,\u001b[0m \u001b[0mdp\u001b[0m\u001b[0;34m(\u001b[0m\u001b[0mremaining\u001b[0m\u001b[0;34m-\u001b[0m\u001b[0mwaiting\u001b[0m\u001b[0;34m,\u001b[0m \u001b[0mnew_robots\u001b[0m\u001b[0;34m,\u001b[0m \u001b[0mnew_resources\u001b[0m\u001b[0;34m)\u001b[0m\u001b[0;34m)\u001b[0m\u001b[0;34m\u001b[0m\u001b[0;34m\u001b[0m\u001b[0m\n\u001b[0m\u001b[1;32m     33\u001b[0m                 \u001b[0;31m# no-op\u001b[0m\u001b[0;34m\u001b[0m\u001b[0;34m\u001b[0m\u001b[0m\n\u001b[1;32m     34\u001b[0m                 \u001b[0mgeodes\u001b[0m \u001b[0;34m=\u001b[0m \u001b[0mmax\u001b[0m\u001b[0;34m(\u001b[0m\u001b[0mgeodes\u001b[0m\u001b[0;34m,\u001b[0m \u001b[0mremaining\u001b[0m\u001b[0;34m*\u001b[0m\u001b[0mrobots\u001b[0m\u001b[0;34m[\u001b[0m\u001b[0;34m-\u001b[0m\u001b[0;36m1\u001b[0m\u001b[0;34m]\u001b[0m\u001b[0;34m)\u001b[0m\u001b[0;34m\u001b[0m\u001b[0;34m\u001b[0m\u001b[0m\n",
      "\u001b[0;32m/tmp/ipykernel_26566/3150205784.py\u001b[0m in \u001b[0;36mdp\u001b[0;34m(remaining, robots, resources)\u001b[0m\n\u001b[1;32m     30\u001b[0m                             \u001b[0mnew_resources\u001b[0m \u001b[0;34m=\u001b[0m \u001b[0msub\u001b[0m\u001b[0;34m(\u001b[0m\u001b[0mnew_resources\u001b[0m\u001b[0;34m,\u001b[0m \u001b[0mrecipe\u001b[0m\u001b[0;34m)\u001b[0m\u001b[0;34m\u001b[0m\u001b[0;34m\u001b[0m\u001b[0m\n\u001b[1;32m     31\u001b[0m                             \u001b[0mnew_robots\u001b[0m \u001b[0;34m=\u001b[0m \u001b[0madd\u001b[0m\u001b[0;34m(\u001b[0m\u001b[0mrobots\u001b[0m\u001b[0;34m,\u001b[0m \u001b[0;34m[\u001b[0m\u001b[0mi\u001b[0m\u001b[0;34m==\u001b[0m\u001b[0mrobot\u001b[0m \u001b[0;32mfor\u001b[0m \u001b[0mi\u001b[0m \u001b[0;32min\u001b[0m \u001b[0mrange\u001b[0m\u001b[0;34m(\u001b[0m\u001b[0;36m4\u001b[0m\u001b[0;34m)\u001b[0m\u001b[0;34m]\u001b[0m\u001b[0;34m)\u001b[0m\u001b[0;34m\u001b[0m\u001b[0;34m\u001b[0m\u001b[0m\n\u001b[0;32m---> 32\u001b[0;31m                             \u001b[0mgeodes\u001b[0m \u001b[0;34m=\u001b[0m \u001b[0mmax\u001b[0m\u001b[0;34m(\u001b[0m\u001b[0mgeodes\u001b[0m\u001b[0;34m,\u001b[0m \u001b[0mdp\u001b[0m\u001b[0;34m(\u001b[0m\u001b[0mremaining\u001b[0m\u001b[0;34m-\u001b[0m\u001b[0mwaiting\u001b[0m\u001b[0;34m,\u001b[0m \u001b[0mnew_robots\u001b[0m\u001b[0;34m,\u001b[0m \u001b[0mnew_resources\u001b[0m\u001b[0;34m)\u001b[0m\u001b[0;34m)\u001b[0m\u001b[0;34m\u001b[0m\u001b[0;34m\u001b[0m\u001b[0m\n\u001b[0m\u001b[1;32m     33\u001b[0m                 \u001b[0;31m# no-op\u001b[0m\u001b[0;34m\u001b[0m\u001b[0;34m\u001b[0m\u001b[0m\n\u001b[1;32m     34\u001b[0m                 \u001b[0mgeodes\u001b[0m \u001b[0;34m=\u001b[0m \u001b[0mmax\u001b[0m\u001b[0;34m(\u001b[0m\u001b[0mgeodes\u001b[0m\u001b[0;34m,\u001b[0m \u001b[0mremaining\u001b[0m\u001b[0;34m*\u001b[0m\u001b[0mrobots\u001b[0m\u001b[0;34m[\u001b[0m\u001b[0;34m-\u001b[0m\u001b[0;36m1\u001b[0m\u001b[0;34m]\u001b[0m\u001b[0;34m)\u001b[0m\u001b[0;34m\u001b[0m\u001b[0;34m\u001b[0m\u001b[0m\n",
      "\u001b[0;32m/tmp/ipykernel_26566/3150205784.py\u001b[0m in \u001b[0;36mdp\u001b[0;34m(remaining, robots, resources)\u001b[0m\n\u001b[1;32m     30\u001b[0m                             \u001b[0mnew_resources\u001b[0m \u001b[0;34m=\u001b[0m \u001b[0msub\u001b[0m\u001b[0;34m(\u001b[0m\u001b[0mnew_resources\u001b[0m\u001b[0;34m,\u001b[0m \u001b[0mrecipe\u001b[0m\u001b[0;34m)\u001b[0m\u001b[0;34m\u001b[0m\u001b[0;34m\u001b[0m\u001b[0m\n\u001b[1;32m     31\u001b[0m                             \u001b[0mnew_robots\u001b[0m \u001b[0;34m=\u001b[0m \u001b[0madd\u001b[0m\u001b[0;34m(\u001b[0m\u001b[0mrobots\u001b[0m\u001b[0;34m,\u001b[0m \u001b[0;34m[\u001b[0m\u001b[0mi\u001b[0m\u001b[0;34m==\u001b[0m\u001b[0mrobot\u001b[0m \u001b[0;32mfor\u001b[0m \u001b[0mi\u001b[0m \u001b[0;32min\u001b[0m \u001b[0mrange\u001b[0m\u001b[0;34m(\u001b[0m\u001b[0;36m4\u001b[0m\u001b[0;34m)\u001b[0m\u001b[0;34m]\u001b[0m\u001b[0;34m)\u001b[0m\u001b[0;34m\u001b[0m\u001b[0;34m\u001b[0m\u001b[0m\n\u001b[0;32m---> 32\u001b[0;31m                             \u001b[0mgeodes\u001b[0m \u001b[0;34m=\u001b[0m \u001b[0mmax\u001b[0m\u001b[0;34m(\u001b[0m\u001b[0mgeodes\u001b[0m\u001b[0;34m,\u001b[0m \u001b[0mdp\u001b[0m\u001b[0;34m(\u001b[0m\u001b[0mremaining\u001b[0m\u001b[0;34m-\u001b[0m\u001b[0mwaiting\u001b[0m\u001b[0;34m,\u001b[0m \u001b[0mnew_robots\u001b[0m\u001b[0;34m,\u001b[0m \u001b[0mnew_resources\u001b[0m\u001b[0;34m)\u001b[0m\u001b[0;34m)\u001b[0m\u001b[0;34m\u001b[0m\u001b[0;34m\u001b[0m\u001b[0m\n\u001b[0m\u001b[1;32m     33\u001b[0m                 \u001b[0;31m# no-op\u001b[0m\u001b[0;34m\u001b[0m\u001b[0;34m\u001b[0m\u001b[0m\n\u001b[1;32m     34\u001b[0m                 \u001b[0mgeodes\u001b[0m \u001b[0;34m=\u001b[0m \u001b[0mmax\u001b[0m\u001b[0;34m(\u001b[0m\u001b[0mgeodes\u001b[0m\u001b[0;34m,\u001b[0m \u001b[0mremaining\u001b[0m\u001b[0;34m*\u001b[0m\u001b[0mrobots\u001b[0m\u001b[0;34m[\u001b[0m\u001b[0;34m-\u001b[0m\u001b[0;36m1\u001b[0m\u001b[0;34m]\u001b[0m\u001b[0;34m)\u001b[0m\u001b[0;34m\u001b[0m\u001b[0;34m\u001b[0m\u001b[0m\n",
      "\u001b[0;32m/tmp/ipykernel_26566/3150205784.py\u001b[0m in \u001b[0;36mdp\u001b[0;34m(remaining, robots, resources)\u001b[0m\n\u001b[1;32m     30\u001b[0m                             \u001b[0mnew_resources\u001b[0m \u001b[0;34m=\u001b[0m \u001b[0msub\u001b[0m\u001b[0;34m(\u001b[0m\u001b[0mnew_resources\u001b[0m\u001b[0;34m,\u001b[0m \u001b[0mrecipe\u001b[0m\u001b[0;34m)\u001b[0m\u001b[0;34m\u001b[0m\u001b[0;34m\u001b[0m\u001b[0m\n\u001b[1;32m     31\u001b[0m                             \u001b[0mnew_robots\u001b[0m \u001b[0;34m=\u001b[0m \u001b[0madd\u001b[0m\u001b[0;34m(\u001b[0m\u001b[0mrobots\u001b[0m\u001b[0;34m,\u001b[0m \u001b[0;34m[\u001b[0m\u001b[0mi\u001b[0m\u001b[0;34m==\u001b[0m\u001b[0mrobot\u001b[0m \u001b[0;32mfor\u001b[0m \u001b[0mi\u001b[0m \u001b[0;32min\u001b[0m \u001b[0mrange\u001b[0m\u001b[0;34m(\u001b[0m\u001b[0;36m4\u001b[0m\u001b[0;34m)\u001b[0m\u001b[0;34m]\u001b[0m\u001b[0;34m)\u001b[0m\u001b[0;34m\u001b[0m\u001b[0;34m\u001b[0m\u001b[0m\n\u001b[0;32m---> 32\u001b[0;31m                             \u001b[0mgeodes\u001b[0m \u001b[0;34m=\u001b[0m \u001b[0mmax\u001b[0m\u001b[0;34m(\u001b[0m\u001b[0mgeodes\u001b[0m\u001b[0;34m,\u001b[0m \u001b[0mdp\u001b[0m\u001b[0;34m(\u001b[0m\u001b[0mremaining\u001b[0m\u001b[0;34m-\u001b[0m\u001b[0mwaiting\u001b[0m\u001b[0;34m,\u001b[0m \u001b[0mnew_robots\u001b[0m\u001b[0;34m,\u001b[0m \u001b[0mnew_resources\u001b[0m\u001b[0;34m)\u001b[0m\u001b[0;34m)\u001b[0m\u001b[0;34m\u001b[0m\u001b[0;34m\u001b[0m\u001b[0m\n\u001b[0m\u001b[1;32m     33\u001b[0m                 \u001b[0;31m# no-op\u001b[0m\u001b[0;34m\u001b[0m\u001b[0;34m\u001b[0m\u001b[0m\n\u001b[1;32m     34\u001b[0m                 \u001b[0mgeodes\u001b[0m \u001b[0;34m=\u001b[0m \u001b[0mmax\u001b[0m\u001b[0;34m(\u001b[0m\u001b[0mgeodes\u001b[0m\u001b[0;34m,\u001b[0m \u001b[0mremaining\u001b[0m\u001b[0;34m*\u001b[0m\u001b[0mrobots\u001b[0m\u001b[0;34m[\u001b[0m\u001b[0;34m-\u001b[0m\u001b[0;36m1\u001b[0m\u001b[0;34m]\u001b[0m\u001b[0;34m)\u001b[0m\u001b[0;34m\u001b[0m\u001b[0;34m\u001b[0m\u001b[0m\n",
      "\u001b[0;32m/tmp/ipykernel_26566/3150205784.py\u001b[0m in \u001b[0;36mdp\u001b[0;34m(remaining, robots, resources)\u001b[0m\n\u001b[1;32m     30\u001b[0m                             \u001b[0mnew_resources\u001b[0m \u001b[0;34m=\u001b[0m \u001b[0msub\u001b[0m\u001b[0;34m(\u001b[0m\u001b[0mnew_resources\u001b[0m\u001b[0;34m,\u001b[0m \u001b[0mrecipe\u001b[0m\u001b[0;34m)\u001b[0m\u001b[0;34m\u001b[0m\u001b[0;34m\u001b[0m\u001b[0m\n\u001b[1;32m     31\u001b[0m                             \u001b[0mnew_robots\u001b[0m \u001b[0;34m=\u001b[0m \u001b[0madd\u001b[0m\u001b[0;34m(\u001b[0m\u001b[0mrobots\u001b[0m\u001b[0;34m,\u001b[0m \u001b[0;34m[\u001b[0m\u001b[0mi\u001b[0m\u001b[0;34m==\u001b[0m\u001b[0mrobot\u001b[0m \u001b[0;32mfor\u001b[0m \u001b[0mi\u001b[0m \u001b[0;32min\u001b[0m \u001b[0mrange\u001b[0m\u001b[0;34m(\u001b[0m\u001b[0;36m4\u001b[0m\u001b[0;34m)\u001b[0m\u001b[0;34m]\u001b[0m\u001b[0;34m)\u001b[0m\u001b[0;34m\u001b[0m\u001b[0;34m\u001b[0m\u001b[0m\n\u001b[0;32m---> 32\u001b[0;31m                             \u001b[0mgeodes\u001b[0m \u001b[0;34m=\u001b[0m \u001b[0mmax\u001b[0m\u001b[0;34m(\u001b[0m\u001b[0mgeodes\u001b[0m\u001b[0;34m,\u001b[0m \u001b[0mdp\u001b[0m\u001b[0;34m(\u001b[0m\u001b[0mremaining\u001b[0m\u001b[0;34m-\u001b[0m\u001b[0mwaiting\u001b[0m\u001b[0;34m,\u001b[0m \u001b[0mnew_robots\u001b[0m\u001b[0;34m,\u001b[0m \u001b[0mnew_resources\u001b[0m\u001b[0;34m)\u001b[0m\u001b[0;34m)\u001b[0m\u001b[0;34m\u001b[0m\u001b[0;34m\u001b[0m\u001b[0m\n\u001b[0m\u001b[1;32m     33\u001b[0m                 \u001b[0;31m# no-op\u001b[0m\u001b[0;34m\u001b[0m\u001b[0;34m\u001b[0m\u001b[0m\n\u001b[1;32m     34\u001b[0m                 \u001b[0mgeodes\u001b[0m \u001b[0;34m=\u001b[0m \u001b[0mmax\u001b[0m\u001b[0;34m(\u001b[0m\u001b[0mgeodes\u001b[0m\u001b[0;34m,\u001b[0m \u001b[0mremaining\u001b[0m\u001b[0;34m*\u001b[0m\u001b[0mrobots\u001b[0m\u001b[0;34m[\u001b[0m\u001b[0;34m-\u001b[0m\u001b[0;36m1\u001b[0m\u001b[0;34m]\u001b[0m\u001b[0;34m)\u001b[0m\u001b[0;34m\u001b[0m\u001b[0;34m\u001b[0m\u001b[0m\n",
      "\u001b[0;32m/tmp/ipykernel_26566/3150205784.py\u001b[0m in \u001b[0;36mdp\u001b[0;34m(remaining, robots, resources)\u001b[0m\n\u001b[1;32m     30\u001b[0m                             \u001b[0mnew_resources\u001b[0m \u001b[0;34m=\u001b[0m \u001b[0msub\u001b[0m\u001b[0;34m(\u001b[0m\u001b[0mnew_resources\u001b[0m\u001b[0;34m,\u001b[0m \u001b[0mrecipe\u001b[0m\u001b[0;34m)\u001b[0m\u001b[0;34m\u001b[0m\u001b[0;34m\u001b[0m\u001b[0m\n\u001b[1;32m     31\u001b[0m                             \u001b[0mnew_robots\u001b[0m \u001b[0;34m=\u001b[0m \u001b[0madd\u001b[0m\u001b[0;34m(\u001b[0m\u001b[0mrobots\u001b[0m\u001b[0;34m,\u001b[0m \u001b[0;34m[\u001b[0m\u001b[0mi\u001b[0m\u001b[0;34m==\u001b[0m\u001b[0mrobot\u001b[0m \u001b[0;32mfor\u001b[0m \u001b[0mi\u001b[0m \u001b[0;32min\u001b[0m \u001b[0mrange\u001b[0m\u001b[0;34m(\u001b[0m\u001b[0;36m4\u001b[0m\u001b[0;34m)\u001b[0m\u001b[0;34m]\u001b[0m\u001b[0;34m)\u001b[0m\u001b[0;34m\u001b[0m\u001b[0;34m\u001b[0m\u001b[0m\n\u001b[0;32m---> 32\u001b[0;31m                             \u001b[0mgeodes\u001b[0m \u001b[0;34m=\u001b[0m \u001b[0mmax\u001b[0m\u001b[0;34m(\u001b[0m\u001b[0mgeodes\u001b[0m\u001b[0;34m,\u001b[0m \u001b[0mdp\u001b[0m\u001b[0;34m(\u001b[0m\u001b[0mremaining\u001b[0m\u001b[0;34m-\u001b[0m\u001b[0mwaiting\u001b[0m\u001b[0;34m,\u001b[0m \u001b[0mnew_robots\u001b[0m\u001b[0;34m,\u001b[0m \u001b[0mnew_resources\u001b[0m\u001b[0;34m)\u001b[0m\u001b[0;34m)\u001b[0m\u001b[0;34m\u001b[0m\u001b[0;34m\u001b[0m\u001b[0m\n\u001b[0m\u001b[1;32m     33\u001b[0m                 \u001b[0;31m# no-op\u001b[0m\u001b[0;34m\u001b[0m\u001b[0;34m\u001b[0m\u001b[0m\n\u001b[1;32m     34\u001b[0m                 \u001b[0mgeodes\u001b[0m \u001b[0;34m=\u001b[0m \u001b[0mmax\u001b[0m\u001b[0;34m(\u001b[0m\u001b[0mgeodes\u001b[0m\u001b[0;34m,\u001b[0m \u001b[0mremaining\u001b[0m\u001b[0;34m*\u001b[0m\u001b[0mrobots\u001b[0m\u001b[0;34m[\u001b[0m\u001b[0;34m-\u001b[0m\u001b[0;36m1\u001b[0m\u001b[0;34m]\u001b[0m\u001b[0;34m)\u001b[0m\u001b[0;34m\u001b[0m\u001b[0;34m\u001b[0m\u001b[0m\n",
      "\u001b[0;32m/tmp/ipykernel_26566/3150205784.py\u001b[0m in \u001b[0;36mdp\u001b[0;34m(remaining, robots, resources)\u001b[0m\n\u001b[1;32m     30\u001b[0m                             \u001b[0mnew_resources\u001b[0m \u001b[0;34m=\u001b[0m \u001b[0msub\u001b[0m\u001b[0;34m(\u001b[0m\u001b[0mnew_resources\u001b[0m\u001b[0;34m,\u001b[0m \u001b[0mrecipe\u001b[0m\u001b[0;34m)\u001b[0m\u001b[0;34m\u001b[0m\u001b[0;34m\u001b[0m\u001b[0m\n\u001b[1;32m     31\u001b[0m                             \u001b[0mnew_robots\u001b[0m \u001b[0;34m=\u001b[0m \u001b[0madd\u001b[0m\u001b[0;34m(\u001b[0m\u001b[0mrobots\u001b[0m\u001b[0;34m,\u001b[0m \u001b[0;34m[\u001b[0m\u001b[0mi\u001b[0m\u001b[0;34m==\u001b[0m\u001b[0mrobot\u001b[0m \u001b[0;32mfor\u001b[0m \u001b[0mi\u001b[0m \u001b[0;32min\u001b[0m \u001b[0mrange\u001b[0m\u001b[0;34m(\u001b[0m\u001b[0;36m4\u001b[0m\u001b[0;34m)\u001b[0m\u001b[0;34m]\u001b[0m\u001b[0;34m)\u001b[0m\u001b[0;34m\u001b[0m\u001b[0;34m\u001b[0m\u001b[0m\n\u001b[0;32m---> 32\u001b[0;31m                             \u001b[0mgeodes\u001b[0m \u001b[0;34m=\u001b[0m \u001b[0mmax\u001b[0m\u001b[0;34m(\u001b[0m\u001b[0mgeodes\u001b[0m\u001b[0;34m,\u001b[0m \u001b[0mdp\u001b[0m\u001b[0;34m(\u001b[0m\u001b[0mremaining\u001b[0m\u001b[0;34m-\u001b[0m\u001b[0mwaiting\u001b[0m\u001b[0;34m,\u001b[0m \u001b[0mnew_robots\u001b[0m\u001b[0;34m,\u001b[0m \u001b[0mnew_resources\u001b[0m\u001b[0;34m)\u001b[0m\u001b[0;34m)\u001b[0m\u001b[0;34m\u001b[0m\u001b[0;34m\u001b[0m\u001b[0m\n\u001b[0m\u001b[1;32m     33\u001b[0m                 \u001b[0;31m# no-op\u001b[0m\u001b[0;34m\u001b[0m\u001b[0;34m\u001b[0m\u001b[0m\n\u001b[1;32m     34\u001b[0m                 \u001b[0mgeodes\u001b[0m \u001b[0;34m=\u001b[0m \u001b[0mmax\u001b[0m\u001b[0;34m(\u001b[0m\u001b[0mgeodes\u001b[0m\u001b[0;34m,\u001b[0m \u001b[0mremaining\u001b[0m\u001b[0;34m*\u001b[0m\u001b[0mrobots\u001b[0m\u001b[0;34m[\u001b[0m\u001b[0;34m-\u001b[0m\u001b[0;36m1\u001b[0m\u001b[0;34m]\u001b[0m\u001b[0;34m)\u001b[0m\u001b[0;34m\u001b[0m\u001b[0;34m\u001b[0m\u001b[0m\n",
      "\u001b[0;32m/tmp/ipykernel_26566/3150205784.py\u001b[0m in \u001b[0;36mdp\u001b[0;34m(remaining, robots, resources)\u001b[0m\n\u001b[1;32m     30\u001b[0m                             \u001b[0mnew_resources\u001b[0m \u001b[0;34m=\u001b[0m \u001b[0msub\u001b[0m\u001b[0;34m(\u001b[0m\u001b[0mnew_resources\u001b[0m\u001b[0;34m,\u001b[0m \u001b[0mrecipe\u001b[0m\u001b[0;34m)\u001b[0m\u001b[0;34m\u001b[0m\u001b[0;34m\u001b[0m\u001b[0m\n\u001b[1;32m     31\u001b[0m                             \u001b[0mnew_robots\u001b[0m \u001b[0;34m=\u001b[0m \u001b[0madd\u001b[0m\u001b[0;34m(\u001b[0m\u001b[0mrobots\u001b[0m\u001b[0;34m,\u001b[0m \u001b[0;34m[\u001b[0m\u001b[0mi\u001b[0m\u001b[0;34m==\u001b[0m\u001b[0mrobot\u001b[0m \u001b[0;32mfor\u001b[0m \u001b[0mi\u001b[0m \u001b[0;32min\u001b[0m \u001b[0mrange\u001b[0m\u001b[0;34m(\u001b[0m\u001b[0;36m4\u001b[0m\u001b[0;34m)\u001b[0m\u001b[0;34m]\u001b[0m\u001b[0;34m)\u001b[0m\u001b[0;34m\u001b[0m\u001b[0;34m\u001b[0m\u001b[0m\n\u001b[0;32m---> 32\u001b[0;31m                             \u001b[0mgeodes\u001b[0m \u001b[0;34m=\u001b[0m \u001b[0mmax\u001b[0m\u001b[0;34m(\u001b[0m\u001b[0mgeodes\u001b[0m\u001b[0;34m,\u001b[0m \u001b[0mdp\u001b[0m\u001b[0;34m(\u001b[0m\u001b[0mremaining\u001b[0m\u001b[0;34m-\u001b[0m\u001b[0mwaiting\u001b[0m\u001b[0;34m,\u001b[0m \u001b[0mnew_robots\u001b[0m\u001b[0;34m,\u001b[0m \u001b[0mnew_resources\u001b[0m\u001b[0;34m)\u001b[0m\u001b[0;34m)\u001b[0m\u001b[0;34m\u001b[0m\u001b[0;34m\u001b[0m\u001b[0m\n\u001b[0m\u001b[1;32m     33\u001b[0m                 \u001b[0;31m# no-op\u001b[0m\u001b[0;34m\u001b[0m\u001b[0;34m\u001b[0m\u001b[0m\n\u001b[1;32m     34\u001b[0m                 \u001b[0mgeodes\u001b[0m \u001b[0;34m=\u001b[0m \u001b[0mmax\u001b[0m\u001b[0;34m(\u001b[0m\u001b[0mgeodes\u001b[0m\u001b[0;34m,\u001b[0m \u001b[0mremaining\u001b[0m\u001b[0;34m*\u001b[0m\u001b[0mrobots\u001b[0m\u001b[0;34m[\u001b[0m\u001b[0;34m-\u001b[0m\u001b[0;36m1\u001b[0m\u001b[0;34m]\u001b[0m\u001b[0;34m)\u001b[0m\u001b[0;34m\u001b[0m\u001b[0;34m\u001b[0m\u001b[0m\n",
      "\u001b[0;32m/tmp/ipykernel_26566/3150205784.py\u001b[0m in \u001b[0;36mdp\u001b[0;34m(remaining, robots, resources)\u001b[0m\n\u001b[1;32m     30\u001b[0m                             \u001b[0mnew_resources\u001b[0m \u001b[0;34m=\u001b[0m \u001b[0msub\u001b[0m\u001b[0;34m(\u001b[0m\u001b[0mnew_resources\u001b[0m\u001b[0;34m,\u001b[0m \u001b[0mrecipe\u001b[0m\u001b[0;34m)\u001b[0m\u001b[0;34m\u001b[0m\u001b[0;34m\u001b[0m\u001b[0m\n\u001b[1;32m     31\u001b[0m                             \u001b[0mnew_robots\u001b[0m \u001b[0;34m=\u001b[0m \u001b[0madd\u001b[0m\u001b[0;34m(\u001b[0m\u001b[0mrobots\u001b[0m\u001b[0;34m,\u001b[0m \u001b[0;34m[\u001b[0m\u001b[0mi\u001b[0m\u001b[0;34m==\u001b[0m\u001b[0mrobot\u001b[0m \u001b[0;32mfor\u001b[0m \u001b[0mi\u001b[0m \u001b[0;32min\u001b[0m \u001b[0mrange\u001b[0m\u001b[0;34m(\u001b[0m\u001b[0;36m4\u001b[0m\u001b[0;34m)\u001b[0m\u001b[0;34m]\u001b[0m\u001b[0;34m)\u001b[0m\u001b[0;34m\u001b[0m\u001b[0;34m\u001b[0m\u001b[0m\n\u001b[0;32m---> 32\u001b[0;31m                             \u001b[0mgeodes\u001b[0m \u001b[0;34m=\u001b[0m \u001b[0mmax\u001b[0m\u001b[0;34m(\u001b[0m\u001b[0mgeodes\u001b[0m\u001b[0;34m,\u001b[0m \u001b[0mdp\u001b[0m\u001b[0;34m(\u001b[0m\u001b[0mremaining\u001b[0m\u001b[0;34m-\u001b[0m\u001b[0mwaiting\u001b[0m\u001b[0;34m,\u001b[0m \u001b[0mnew_robots\u001b[0m\u001b[0;34m,\u001b[0m \u001b[0mnew_resources\u001b[0m\u001b[0;34m)\u001b[0m\u001b[0;34m)\u001b[0m\u001b[0;34m\u001b[0m\u001b[0;34m\u001b[0m\u001b[0m\n\u001b[0m\u001b[1;32m     33\u001b[0m                 \u001b[0;31m# no-op\u001b[0m\u001b[0;34m\u001b[0m\u001b[0;34m\u001b[0m\u001b[0m\n\u001b[1;32m     34\u001b[0m                 \u001b[0mgeodes\u001b[0m \u001b[0;34m=\u001b[0m \u001b[0mmax\u001b[0m\u001b[0;34m(\u001b[0m\u001b[0mgeodes\u001b[0m\u001b[0;34m,\u001b[0m \u001b[0mremaining\u001b[0m\u001b[0;34m*\u001b[0m\u001b[0mrobots\u001b[0m\u001b[0;34m[\u001b[0m\u001b[0;34m-\u001b[0m\u001b[0;36m1\u001b[0m\u001b[0;34m]\u001b[0m\u001b[0;34m)\u001b[0m\u001b[0;34m\u001b[0m\u001b[0;34m\u001b[0m\u001b[0m\n",
      "\u001b[0;32m/tmp/ipykernel_26566/3150205784.py\u001b[0m in \u001b[0;36mdp\u001b[0;34m(remaining, robots, resources)\u001b[0m\n\u001b[1;32m     30\u001b[0m                             \u001b[0mnew_resources\u001b[0m \u001b[0;34m=\u001b[0m \u001b[0msub\u001b[0m\u001b[0;34m(\u001b[0m\u001b[0mnew_resources\u001b[0m\u001b[0;34m,\u001b[0m \u001b[0mrecipe\u001b[0m\u001b[0;34m)\u001b[0m\u001b[0;34m\u001b[0m\u001b[0;34m\u001b[0m\u001b[0m\n\u001b[1;32m     31\u001b[0m                             \u001b[0mnew_robots\u001b[0m \u001b[0;34m=\u001b[0m \u001b[0madd\u001b[0m\u001b[0;34m(\u001b[0m\u001b[0mrobots\u001b[0m\u001b[0;34m,\u001b[0m \u001b[0;34m[\u001b[0m\u001b[0mi\u001b[0m\u001b[0;34m==\u001b[0m\u001b[0mrobot\u001b[0m \u001b[0;32mfor\u001b[0m \u001b[0mi\u001b[0m \u001b[0;32min\u001b[0m \u001b[0mrange\u001b[0m\u001b[0;34m(\u001b[0m\u001b[0;36m4\u001b[0m\u001b[0;34m)\u001b[0m\u001b[0;34m]\u001b[0m\u001b[0;34m)\u001b[0m\u001b[0;34m\u001b[0m\u001b[0;34m\u001b[0m\u001b[0m\n\u001b[0;32m---> 32\u001b[0;31m                             \u001b[0mgeodes\u001b[0m \u001b[0;34m=\u001b[0m \u001b[0mmax\u001b[0m\u001b[0;34m(\u001b[0m\u001b[0mgeodes\u001b[0m\u001b[0;34m,\u001b[0m \u001b[0mdp\u001b[0m\u001b[0;34m(\u001b[0m\u001b[0mremaining\u001b[0m\u001b[0;34m-\u001b[0m\u001b[0mwaiting\u001b[0m\u001b[0;34m,\u001b[0m \u001b[0mnew_robots\u001b[0m\u001b[0;34m,\u001b[0m \u001b[0mnew_resources\u001b[0m\u001b[0;34m)\u001b[0m\u001b[0;34m)\u001b[0m\u001b[0;34m\u001b[0m\u001b[0;34m\u001b[0m\u001b[0m\n\u001b[0m\u001b[1;32m     33\u001b[0m                 \u001b[0;31m# no-op\u001b[0m\u001b[0;34m\u001b[0m\u001b[0;34m\u001b[0m\u001b[0m\n\u001b[1;32m     34\u001b[0m                 \u001b[0mgeodes\u001b[0m \u001b[0;34m=\u001b[0m \u001b[0mmax\u001b[0m\u001b[0;34m(\u001b[0m\u001b[0mgeodes\u001b[0m\u001b[0;34m,\u001b[0m \u001b[0mremaining\u001b[0m\u001b[0;34m*\u001b[0m\u001b[0mrobots\u001b[0m\u001b[0;34m[\u001b[0m\u001b[0;34m-\u001b[0m\u001b[0;36m1\u001b[0m\u001b[0;34m]\u001b[0m\u001b[0;34m)\u001b[0m\u001b[0;34m\u001b[0m\u001b[0;34m\u001b[0m\u001b[0m\n",
      "\u001b[0;32m/tmp/ipykernel_26566/3150205784.py\u001b[0m in \u001b[0;36mdp\u001b[0;34m(remaining, robots, resources)\u001b[0m\n\u001b[1;32m     30\u001b[0m                             \u001b[0mnew_resources\u001b[0m \u001b[0;34m=\u001b[0m \u001b[0msub\u001b[0m\u001b[0;34m(\u001b[0m\u001b[0mnew_resources\u001b[0m\u001b[0;34m,\u001b[0m \u001b[0mrecipe\u001b[0m\u001b[0;34m)\u001b[0m\u001b[0;34m\u001b[0m\u001b[0;34m\u001b[0m\u001b[0m\n\u001b[1;32m     31\u001b[0m                             \u001b[0mnew_robots\u001b[0m \u001b[0;34m=\u001b[0m \u001b[0madd\u001b[0m\u001b[0;34m(\u001b[0m\u001b[0mrobots\u001b[0m\u001b[0;34m,\u001b[0m \u001b[0;34m[\u001b[0m\u001b[0mi\u001b[0m\u001b[0;34m==\u001b[0m\u001b[0mrobot\u001b[0m \u001b[0;32mfor\u001b[0m \u001b[0mi\u001b[0m \u001b[0;32min\u001b[0m \u001b[0mrange\u001b[0m\u001b[0;34m(\u001b[0m\u001b[0;36m4\u001b[0m\u001b[0;34m)\u001b[0m\u001b[0;34m]\u001b[0m\u001b[0;34m)\u001b[0m\u001b[0;34m\u001b[0m\u001b[0;34m\u001b[0m\u001b[0m\n\u001b[0;32m---> 32\u001b[0;31m                             \u001b[0mgeodes\u001b[0m \u001b[0;34m=\u001b[0m \u001b[0mmax\u001b[0m\u001b[0;34m(\u001b[0m\u001b[0mgeodes\u001b[0m\u001b[0;34m,\u001b[0m \u001b[0mdp\u001b[0m\u001b[0;34m(\u001b[0m\u001b[0mremaining\u001b[0m\u001b[0;34m-\u001b[0m\u001b[0mwaiting\u001b[0m\u001b[0;34m,\u001b[0m \u001b[0mnew_robots\u001b[0m\u001b[0;34m,\u001b[0m \u001b[0mnew_resources\u001b[0m\u001b[0;34m)\u001b[0m\u001b[0;34m)\u001b[0m\u001b[0;34m\u001b[0m\u001b[0;34m\u001b[0m\u001b[0m\n\u001b[0m\u001b[1;32m     33\u001b[0m                 \u001b[0;31m# no-op\u001b[0m\u001b[0;34m\u001b[0m\u001b[0;34m\u001b[0m\u001b[0m\n\u001b[1;32m     34\u001b[0m                 \u001b[0mgeodes\u001b[0m \u001b[0;34m=\u001b[0m \u001b[0mmax\u001b[0m\u001b[0;34m(\u001b[0m\u001b[0mgeodes\u001b[0m\u001b[0;34m,\u001b[0m \u001b[0mremaining\u001b[0m\u001b[0;34m*\u001b[0m\u001b[0mrobots\u001b[0m\u001b[0;34m[\u001b[0m\u001b[0;34m-\u001b[0m\u001b[0;36m1\u001b[0m\u001b[0;34m]\u001b[0m\u001b[0;34m)\u001b[0m\u001b[0;34m\u001b[0m\u001b[0;34m\u001b[0m\u001b[0m\n",
      "\u001b[0;32m/tmp/ipykernel_26566/3150205784.py\u001b[0m in \u001b[0;36mdp\u001b[0;34m(remaining, robots, resources)\u001b[0m\n\u001b[1;32m     30\u001b[0m                             \u001b[0mnew_resources\u001b[0m \u001b[0;34m=\u001b[0m \u001b[0msub\u001b[0m\u001b[0;34m(\u001b[0m\u001b[0mnew_resources\u001b[0m\u001b[0;34m,\u001b[0m \u001b[0mrecipe\u001b[0m\u001b[0;34m)\u001b[0m\u001b[0;34m\u001b[0m\u001b[0;34m\u001b[0m\u001b[0m\n\u001b[1;32m     31\u001b[0m                             \u001b[0mnew_robots\u001b[0m \u001b[0;34m=\u001b[0m \u001b[0madd\u001b[0m\u001b[0;34m(\u001b[0m\u001b[0mrobots\u001b[0m\u001b[0;34m,\u001b[0m \u001b[0;34m[\u001b[0m\u001b[0mi\u001b[0m\u001b[0;34m==\u001b[0m\u001b[0mrobot\u001b[0m \u001b[0;32mfor\u001b[0m \u001b[0mi\u001b[0m \u001b[0;32min\u001b[0m \u001b[0mrange\u001b[0m\u001b[0;34m(\u001b[0m\u001b[0;36m4\u001b[0m\u001b[0;34m)\u001b[0m\u001b[0;34m]\u001b[0m\u001b[0;34m)\u001b[0m\u001b[0;34m\u001b[0m\u001b[0;34m\u001b[0m\u001b[0m\n\u001b[0;32m---> 32\u001b[0;31m                             \u001b[0mgeodes\u001b[0m \u001b[0;34m=\u001b[0m \u001b[0mmax\u001b[0m\u001b[0;34m(\u001b[0m\u001b[0mgeodes\u001b[0m\u001b[0;34m,\u001b[0m \u001b[0mdp\u001b[0m\u001b[0;34m(\u001b[0m\u001b[0mremaining\u001b[0m\u001b[0;34m-\u001b[0m\u001b[0mwaiting\u001b[0m\u001b[0;34m,\u001b[0m \u001b[0mnew_robots\u001b[0m\u001b[0;34m,\u001b[0m \u001b[0mnew_resources\u001b[0m\u001b[0;34m)\u001b[0m\u001b[0;34m)\u001b[0m\u001b[0;34m\u001b[0m\u001b[0;34m\u001b[0m\u001b[0m\n\u001b[0m\u001b[1;32m     33\u001b[0m                 \u001b[0;31m# no-op\u001b[0m\u001b[0;34m\u001b[0m\u001b[0;34m\u001b[0m\u001b[0m\n\u001b[1;32m     34\u001b[0m                 \u001b[0mgeodes\u001b[0m \u001b[0;34m=\u001b[0m \u001b[0mmax\u001b[0m\u001b[0;34m(\u001b[0m\u001b[0mgeodes\u001b[0m\u001b[0;34m,\u001b[0m \u001b[0mremaining\u001b[0m\u001b[0;34m*\u001b[0m\u001b[0mrobots\u001b[0m\u001b[0;34m[\u001b[0m\u001b[0;34m-\u001b[0m\u001b[0;36m1\u001b[0m\u001b[0;34m]\u001b[0m\u001b[0;34m)\u001b[0m\u001b[0;34m\u001b[0m\u001b[0;34m\u001b[0m\u001b[0m\n",
      "\u001b[0;32m/tmp/ipykernel_26566/3150205784.py\u001b[0m in \u001b[0;36mdp\u001b[0;34m(remaining, robots, resources)\u001b[0m\n\u001b[1;32m     30\u001b[0m                             \u001b[0mnew_resources\u001b[0m \u001b[0;34m=\u001b[0m \u001b[0msub\u001b[0m\u001b[0;34m(\u001b[0m\u001b[0mnew_resources\u001b[0m\u001b[0;34m,\u001b[0m \u001b[0mrecipe\u001b[0m\u001b[0;34m)\u001b[0m\u001b[0;34m\u001b[0m\u001b[0;34m\u001b[0m\u001b[0m\n\u001b[1;32m     31\u001b[0m                             \u001b[0mnew_robots\u001b[0m \u001b[0;34m=\u001b[0m \u001b[0madd\u001b[0m\u001b[0;34m(\u001b[0m\u001b[0mrobots\u001b[0m\u001b[0;34m,\u001b[0m \u001b[0;34m[\u001b[0m\u001b[0mi\u001b[0m\u001b[0;34m==\u001b[0m\u001b[0mrobot\u001b[0m \u001b[0;32mfor\u001b[0m \u001b[0mi\u001b[0m \u001b[0;32min\u001b[0m \u001b[0mrange\u001b[0m\u001b[0;34m(\u001b[0m\u001b[0;36m4\u001b[0m\u001b[0;34m)\u001b[0m\u001b[0;34m]\u001b[0m\u001b[0;34m)\u001b[0m\u001b[0;34m\u001b[0m\u001b[0;34m\u001b[0m\u001b[0m\n\u001b[0;32m---> 32\u001b[0;31m                             \u001b[0mgeodes\u001b[0m \u001b[0;34m=\u001b[0m \u001b[0mmax\u001b[0m\u001b[0;34m(\u001b[0m\u001b[0mgeodes\u001b[0m\u001b[0;34m,\u001b[0m \u001b[0mdp\u001b[0m\u001b[0;34m(\u001b[0m\u001b[0mremaining\u001b[0m\u001b[0;34m-\u001b[0m\u001b[0mwaiting\u001b[0m\u001b[0;34m,\u001b[0m \u001b[0mnew_robots\u001b[0m\u001b[0;34m,\u001b[0m \u001b[0mnew_resources\u001b[0m\u001b[0;34m)\u001b[0m\u001b[0;34m)\u001b[0m\u001b[0;34m\u001b[0m\u001b[0;34m\u001b[0m\u001b[0m\n\u001b[0m\u001b[1;32m     33\u001b[0m                 \u001b[0;31m# no-op\u001b[0m\u001b[0;34m\u001b[0m\u001b[0;34m\u001b[0m\u001b[0m\n\u001b[1;32m     34\u001b[0m                 \u001b[0mgeodes\u001b[0m \u001b[0;34m=\u001b[0m \u001b[0mmax\u001b[0m\u001b[0;34m(\u001b[0m\u001b[0mgeodes\u001b[0m\u001b[0;34m,\u001b[0m \u001b[0mremaining\u001b[0m\u001b[0;34m*\u001b[0m\u001b[0mrobots\u001b[0m\u001b[0;34m[\u001b[0m\u001b[0;34m-\u001b[0m\u001b[0;36m1\u001b[0m\u001b[0;34m]\u001b[0m\u001b[0;34m)\u001b[0m\u001b[0;34m\u001b[0m\u001b[0;34m\u001b[0m\u001b[0m\n",
      "\u001b[0;32m/tmp/ipykernel_26566/3150205784.py\u001b[0m in \u001b[0;36mdp\u001b[0;34m(remaining, robots, resources)\u001b[0m\n\u001b[1;32m     30\u001b[0m                             \u001b[0mnew_resources\u001b[0m \u001b[0;34m=\u001b[0m \u001b[0msub\u001b[0m\u001b[0;34m(\u001b[0m\u001b[0mnew_resources\u001b[0m\u001b[0;34m,\u001b[0m \u001b[0mrecipe\u001b[0m\u001b[0;34m)\u001b[0m\u001b[0;34m\u001b[0m\u001b[0;34m\u001b[0m\u001b[0m\n\u001b[1;32m     31\u001b[0m                             \u001b[0mnew_robots\u001b[0m \u001b[0;34m=\u001b[0m \u001b[0madd\u001b[0m\u001b[0;34m(\u001b[0m\u001b[0mrobots\u001b[0m\u001b[0;34m,\u001b[0m \u001b[0;34m[\u001b[0m\u001b[0mi\u001b[0m\u001b[0;34m==\u001b[0m\u001b[0mrobot\u001b[0m \u001b[0;32mfor\u001b[0m \u001b[0mi\u001b[0m \u001b[0;32min\u001b[0m \u001b[0mrange\u001b[0m\u001b[0;34m(\u001b[0m\u001b[0;36m4\u001b[0m\u001b[0;34m)\u001b[0m\u001b[0;34m]\u001b[0m\u001b[0;34m)\u001b[0m\u001b[0;34m\u001b[0m\u001b[0;34m\u001b[0m\u001b[0m\n\u001b[0;32m---> 32\u001b[0;31m                             \u001b[0mgeodes\u001b[0m \u001b[0;34m=\u001b[0m \u001b[0mmax\u001b[0m\u001b[0;34m(\u001b[0m\u001b[0mgeodes\u001b[0m\u001b[0;34m,\u001b[0m \u001b[0mdp\u001b[0m\u001b[0;34m(\u001b[0m\u001b[0mremaining\u001b[0m\u001b[0;34m-\u001b[0m\u001b[0mwaiting\u001b[0m\u001b[0;34m,\u001b[0m \u001b[0mnew_robots\u001b[0m\u001b[0;34m,\u001b[0m \u001b[0mnew_resources\u001b[0m\u001b[0;34m)\u001b[0m\u001b[0;34m)\u001b[0m\u001b[0;34m\u001b[0m\u001b[0;34m\u001b[0m\u001b[0m\n\u001b[0m\u001b[1;32m     33\u001b[0m                 \u001b[0;31m# no-op\u001b[0m\u001b[0;34m\u001b[0m\u001b[0;34m\u001b[0m\u001b[0m\n\u001b[1;32m     34\u001b[0m                 \u001b[0mgeodes\u001b[0m \u001b[0;34m=\u001b[0m \u001b[0mmax\u001b[0m\u001b[0;34m(\u001b[0m\u001b[0mgeodes\u001b[0m\u001b[0;34m,\u001b[0m \u001b[0mremaining\u001b[0m\u001b[0;34m*\u001b[0m\u001b[0mrobots\u001b[0m\u001b[0;34m[\u001b[0m\u001b[0;34m-\u001b[0m\u001b[0;36m1\u001b[0m\u001b[0;34m]\u001b[0m\u001b[0;34m)\u001b[0m\u001b[0;34m\u001b[0m\u001b[0;34m\u001b[0m\u001b[0m\n",
      "\u001b[0;32m/tmp/ipykernel_26566/3150205784.py\u001b[0m in \u001b[0;36mdp\u001b[0;34m(remaining, robots, resources)\u001b[0m\n\u001b[1;32m     30\u001b[0m                             \u001b[0mnew_resources\u001b[0m \u001b[0;34m=\u001b[0m \u001b[0msub\u001b[0m\u001b[0;34m(\u001b[0m\u001b[0mnew_resources\u001b[0m\u001b[0;34m,\u001b[0m \u001b[0mrecipe\u001b[0m\u001b[0;34m)\u001b[0m\u001b[0;34m\u001b[0m\u001b[0;34m\u001b[0m\u001b[0m\n\u001b[1;32m     31\u001b[0m                             \u001b[0mnew_robots\u001b[0m \u001b[0;34m=\u001b[0m \u001b[0madd\u001b[0m\u001b[0;34m(\u001b[0m\u001b[0mrobots\u001b[0m\u001b[0;34m,\u001b[0m \u001b[0;34m[\u001b[0m\u001b[0mi\u001b[0m\u001b[0;34m==\u001b[0m\u001b[0mrobot\u001b[0m \u001b[0;32mfor\u001b[0m \u001b[0mi\u001b[0m \u001b[0;32min\u001b[0m \u001b[0mrange\u001b[0m\u001b[0;34m(\u001b[0m\u001b[0;36m4\u001b[0m\u001b[0;34m)\u001b[0m\u001b[0;34m]\u001b[0m\u001b[0;34m)\u001b[0m\u001b[0;34m\u001b[0m\u001b[0;34m\u001b[0m\u001b[0m\n\u001b[0;32m---> 32\u001b[0;31m                             \u001b[0mgeodes\u001b[0m \u001b[0;34m=\u001b[0m \u001b[0mmax\u001b[0m\u001b[0;34m(\u001b[0m\u001b[0mgeodes\u001b[0m\u001b[0;34m,\u001b[0m \u001b[0mdp\u001b[0m\u001b[0;34m(\u001b[0m\u001b[0mremaining\u001b[0m\u001b[0;34m-\u001b[0m\u001b[0mwaiting\u001b[0m\u001b[0;34m,\u001b[0m \u001b[0mnew_robots\u001b[0m\u001b[0;34m,\u001b[0m \u001b[0mnew_resources\u001b[0m\u001b[0;34m)\u001b[0m\u001b[0;34m)\u001b[0m\u001b[0;34m\u001b[0m\u001b[0;34m\u001b[0m\u001b[0m\n\u001b[0m\u001b[1;32m     33\u001b[0m                 \u001b[0;31m# no-op\u001b[0m\u001b[0;34m\u001b[0m\u001b[0;34m\u001b[0m\u001b[0m\n\u001b[1;32m     34\u001b[0m                 \u001b[0mgeodes\u001b[0m \u001b[0;34m=\u001b[0m \u001b[0mmax\u001b[0m\u001b[0;34m(\u001b[0m\u001b[0mgeodes\u001b[0m\u001b[0;34m,\u001b[0m \u001b[0mremaining\u001b[0m\u001b[0;34m*\u001b[0m\u001b[0mrobots\u001b[0m\u001b[0;34m[\u001b[0m\u001b[0;34m-\u001b[0m\u001b[0;36m1\u001b[0m\u001b[0;34m]\u001b[0m\u001b[0;34m)\u001b[0m\u001b[0;34m\u001b[0m\u001b[0;34m\u001b[0m\u001b[0m\n",
      "\u001b[0;32m/tmp/ipykernel_26566/3150205784.py\u001b[0m in \u001b[0;36mdp\u001b[0;34m(remaining, robots, resources)\u001b[0m\n\u001b[1;32m     30\u001b[0m                             \u001b[0mnew_resources\u001b[0m \u001b[0;34m=\u001b[0m \u001b[0msub\u001b[0m\u001b[0;34m(\u001b[0m\u001b[0mnew_resources\u001b[0m\u001b[0;34m,\u001b[0m \u001b[0mrecipe\u001b[0m\u001b[0;34m)\u001b[0m\u001b[0;34m\u001b[0m\u001b[0;34m\u001b[0m\u001b[0m\n\u001b[1;32m     31\u001b[0m                             \u001b[0mnew_robots\u001b[0m \u001b[0;34m=\u001b[0m \u001b[0madd\u001b[0m\u001b[0;34m(\u001b[0m\u001b[0mrobots\u001b[0m\u001b[0;34m,\u001b[0m \u001b[0;34m[\u001b[0m\u001b[0mi\u001b[0m\u001b[0;34m==\u001b[0m\u001b[0mrobot\u001b[0m \u001b[0;32mfor\u001b[0m \u001b[0mi\u001b[0m \u001b[0;32min\u001b[0m \u001b[0mrange\u001b[0m\u001b[0;34m(\u001b[0m\u001b[0;36m4\u001b[0m\u001b[0;34m)\u001b[0m\u001b[0;34m]\u001b[0m\u001b[0;34m)\u001b[0m\u001b[0;34m\u001b[0m\u001b[0;34m\u001b[0m\u001b[0m\n\u001b[0;32m---> 32\u001b[0;31m                             \u001b[0mgeodes\u001b[0m \u001b[0;34m=\u001b[0m \u001b[0mmax\u001b[0m\u001b[0;34m(\u001b[0m\u001b[0mgeodes\u001b[0m\u001b[0;34m,\u001b[0m \u001b[0mdp\u001b[0m\u001b[0;34m(\u001b[0m\u001b[0mremaining\u001b[0m\u001b[0;34m-\u001b[0m\u001b[0mwaiting\u001b[0m\u001b[0;34m,\u001b[0m \u001b[0mnew_robots\u001b[0m\u001b[0;34m,\u001b[0m \u001b[0mnew_resources\u001b[0m\u001b[0;34m)\u001b[0m\u001b[0;34m)\u001b[0m\u001b[0;34m\u001b[0m\u001b[0;34m\u001b[0m\u001b[0m\n\u001b[0m\u001b[1;32m     33\u001b[0m                 \u001b[0;31m# no-op\u001b[0m\u001b[0;34m\u001b[0m\u001b[0;34m\u001b[0m\u001b[0m\n\u001b[1;32m     34\u001b[0m                 \u001b[0mgeodes\u001b[0m \u001b[0;34m=\u001b[0m \u001b[0mmax\u001b[0m\u001b[0;34m(\u001b[0m\u001b[0mgeodes\u001b[0m\u001b[0;34m,\u001b[0m \u001b[0mremaining\u001b[0m\u001b[0;34m*\u001b[0m\u001b[0mrobots\u001b[0m\u001b[0;34m[\u001b[0m\u001b[0;34m-\u001b[0m\u001b[0;36m1\u001b[0m\u001b[0;34m]\u001b[0m\u001b[0;34m)\u001b[0m\u001b[0;34m\u001b[0m\u001b[0;34m\u001b[0m\u001b[0m\n",
      "\u001b[0;32m/tmp/ipykernel_26566/3150205784.py\u001b[0m in \u001b[0;36mdp\u001b[0;34m(remaining, robots, resources)\u001b[0m\n\u001b[1;32m     18\u001b[0m \u001b[0;34m\u001b[0m\u001b[0m\n\u001b[1;32m     19\u001b[0m                     \u001b[0;32mif\u001b[0m \u001b[0mfeasible\u001b[0m\u001b[0;34m:\u001b[0m\u001b[0;34m\u001b[0m\u001b[0;34m\u001b[0m\u001b[0m\n\u001b[0;32m---> 20\u001b[0;31m                         \u001b[0mrequired\u001b[0m \u001b[0;34m=\u001b[0m \u001b[0msub\u001b[0m\u001b[0;34m(\u001b[0m\u001b[0mrecipe\u001b[0m\u001b[0;34m,\u001b[0m \u001b[0mresources\u001b[0m\u001b[0;34m)\u001b[0m\u001b[0;34m\u001b[0m\u001b[0;34m\u001b[0m\u001b[0m\n\u001b[0m\u001b[1;32m     21\u001b[0m                         \u001b[0mwaiting\u001b[0m \u001b[0;34m=\u001b[0m \u001b[0;36m0\u001b[0m\u001b[0;34m\u001b[0m\u001b[0;34m\u001b[0m\u001b[0m\n\u001b[1;32m     22\u001b[0m                         \u001b[0;32mfor\u001b[0m \u001b[0mreq\u001b[0m\u001b[0;34m,\u001b[0m \u001b[0mprod\u001b[0m \u001b[0;32min\u001b[0m \u001b[0mzip\u001b[0m\u001b[0;34m(\u001b[0m \u001b[0msub\u001b[0m\u001b[0;34m(\u001b[0m\u001b[0mrecipe\u001b[0m\u001b[0;34m,\u001b[0m \u001b[0mresources\u001b[0m\u001b[0;34m)\u001b[0m\u001b[0;34m,\u001b[0m \u001b[0mrobots\u001b[0m\u001b[0;34m)\u001b[0m\u001b[0;34m:\u001b[0m\u001b[0;34m\u001b[0m\u001b[0;34m\u001b[0m\u001b[0m\n",
      "\u001b[0;32m/tmp/ipykernel_26566/3150205784.py\u001b[0m in \u001b[0;36m<lambda>\u001b[0;34m(x, y)\u001b[0m\n\u001b[1;32m      2\u001b[0m \u001b[0;32mdef\u001b[0m \u001b[0mmax_geodes2\u001b[0m\u001b[0;34m(\u001b[0m\u001b[0mblueprint\u001b[0m\u001b[0;34m,\u001b[0m \u001b[0mthres\u001b[0m\u001b[0;34m,\u001b[0m \u001b[0mn\u001b[0m\u001b[0;34m=\u001b[0m\u001b[0;36m32\u001b[0m\u001b[0;34m)\u001b[0m\u001b[0;34m:\u001b[0m\u001b[0;34m\u001b[0m\u001b[0;34m\u001b[0m\u001b[0m\n\u001b[1;32m      3\u001b[0m     \u001b[0madd\u001b[0m \u001b[0;34m=\u001b[0m \u001b[0;32mlambda\u001b[0m \u001b[0mx\u001b[0m\u001b[0;34m,\u001b[0m \u001b[0my\u001b[0m\u001b[0;34m:\u001b[0m \u001b[0mtuple\u001b[0m\u001b[0;34m(\u001b[0m\u001b[0mmap\u001b[0m\u001b[0;34m(\u001b[0m\u001b[0moperator\u001b[0m\u001b[0;34m.\u001b[0m\u001b[0madd\u001b[0m\u001b[0;34m,\u001b[0m \u001b[0mx\u001b[0m\u001b[0;34m,\u001b[0m \u001b[0my\u001b[0m\u001b[0;34m)\u001b[0m\u001b[0;34m)\u001b[0m\u001b[0;34m\u001b[0m\u001b[0;34m\u001b[0m\u001b[0m\n\u001b[0;32m----> 4\u001b[0;31m     \u001b[0msub\u001b[0m \u001b[0;34m=\u001b[0m \u001b[0;32mlambda\u001b[0m \u001b[0mx\u001b[0m\u001b[0;34m,\u001b[0m \u001b[0my\u001b[0m\u001b[0;34m:\u001b[0m \u001b[0mtuple\u001b[0m\u001b[0;34m(\u001b[0m\u001b[0mmap\u001b[0m\u001b[0;34m(\u001b[0m\u001b[0moperator\u001b[0m\u001b[0;34m.\u001b[0m\u001b[0msub\u001b[0m\u001b[0;34m,\u001b[0m \u001b[0mx\u001b[0m\u001b[0;34m,\u001b[0m \u001b[0my\u001b[0m\u001b[0;34m)\u001b[0m\u001b[0;34m)\u001b[0m\u001b[0;34m\u001b[0m\u001b[0;34m\u001b[0m\u001b[0m\n\u001b[0m\u001b[1;32m      5\u001b[0m \u001b[0;31m#     gea = lambda x, y: all(map(operator.ge, x, y))\u001b[0m\u001b[0;34m\u001b[0m\u001b[0;34m\u001b[0m\u001b[0m\n\u001b[1;32m      6\u001b[0m     \u001b[0mcache\u001b[0m \u001b[0;34m=\u001b[0m \u001b[0;34m{\u001b[0m\u001b[0;34m}\u001b[0m\u001b[0;34m\u001b[0m\u001b[0;34m\u001b[0m\u001b[0m\n",
      "\u001b[0;31mKeyboardInterrupt\u001b[0m: "
     ]
    }
   ],
   "source": [
    "for thres in range(15,25):\n",
    "    print(thres, max_geodes2(data[2], thres))"
   ]
  },
  {
   "cell_type": "code",
   "execution_count": 113,
   "id": "77c8fe10",
   "metadata": {},
   "outputs": [
    {
     "data": {
      "text/plain": [
       "12628"
      ]
     },
     "execution_count": 113,
     "metadata": {},
     "output_type": "execute_result"
    }
   ],
   "source": [
    "41 * 11 * 28"
   ]
  },
  {
   "cell_type": "code",
   "execution_count": null,
   "id": "5c3279b9",
   "metadata": {},
   "outputs": [],
   "source": []
  },
  {
   "cell_type": "code",
   "execution_count": 106,
   "id": "8342ae01",
   "metadata": {},
   "outputs": [
    {
     "data": {
      "text/plain": [
       "10332"
      ]
     },
     "execution_count": 106,
     "metadata": {},
     "output_type": "execute_result"
    }
   ],
   "source": [
    "a = \n",
    "b = max_geodes2(data[1], 32)\n",
    "c = max_geodes2(data[2], 32)\n",
    "\n",
    "a * b * c"
   ]
  },
  {
   "cell_type": "code",
   "execution_count": null,
   "id": "fce45986",
   "metadata": {},
   "outputs": [],
   "source": []
  },
  {
   "cell_type": "code",
   "execution_count": 30,
   "id": "eef1d563",
   "metadata": {},
   "outputs": [
    {
     "data": {
      "text/plain": [
       "()"
      ]
     },
     "execution_count": 30,
     "metadata": {},
     "output_type": "execute_result"
    }
   ],
   "source": [
    "7098\n",
    "7280\n",
    "8528\n",
    "9184\n"
   ]
  },
  {
   "cell_type": "code",
   "execution_count": null,
   "id": "541a2f87",
   "metadata": {},
   "outputs": [],
   "source": []
  },
  {
   "cell_type": "code",
   "execution_count": 68,
   "id": "61f056f7",
   "metadata": {},
   "outputs": [],
   "source": [
    "import math\n",
    "def max_geodes_trace(blueprint, n=24, opt=3):\n",
    "    add = lambda x, y: tuple(map(operator.add, x, y))\n",
    "    sub = lambda x, y: tuple(map(operator.sub, x, y))\n",
    "    cache = {}       \n",
    "    \n",
    "    def dp(remaining, robots, resources):\n",
    "        if (remaining, robots, resources) not in cache:\n",
    "            if remaining == 0:\n",
    "                geodes = (resources[opt], tuple())\n",
    "            else:\n",
    "                geodes = (0, tuple())\n",
    "                for robot, recipe in enumerate(blueprint):\n",
    "                    feasible = all( prod >= (req > 0) for req, prod in zip(recipe, robots) )\n",
    "                    \n",
    "                    if feasible:\n",
    "                        required = sub(recipe, resources)\n",
    "                        waiting = 0\n",
    "                        for req, prod in zip( sub(recipe, resources), robots):\n",
    "                            if req > 0:\n",
    "                                waiting = max(waiting, math.ceil(req/prod))\n",
    "                        \n",
    "                        waiting += 1\n",
    "                        \n",
    "                    \n",
    "                        if waiting <= remaining:\n",
    "                            # buy robot\n",
    "                            new_resources = add(resources, tuple((i*waiting for i in robots)))\n",
    "                            new_resources = sub(new_resources, recipe)\n",
    "                            new_robots = add(robots, [i==robot for i in range(4)])\n",
    "                            x, trace = dp(remaining-waiting, new_robots, new_resources)\n",
    "                            trace += ((robot, remaining-waiting+1, new_resources),)\n",
    "                            geodes = max(geodes, (x, trace))\n",
    "                # no-op\n",
    "                geodes = max(geodes, (remaining*robots[opt], tuple()))\n",
    "            cache[remaining, robots, resources] = geodes\n",
    "        return cache[remaining, robots, resources]\n",
    "    \n",
    "    return dp(n, (1,0,0,0), (0,0,0,0))\n"
   ]
  },
  {
   "cell_type": "code",
   "execution_count": 70,
   "id": "b8a2489c",
   "metadata": {},
   "outputs": [
    {
     "name": "stdout",
     "output_type": "stream",
     "text": [
      "9\n",
      "T=2 - clay - (1, 0, 0, 0)\n",
      "T=4 - clay - (1, 2, 0, 0)\n",
      "T=6 - clay - (1, 6, 0, 0)\n",
      "T=10 - obsidian - (2, 4, 0, 0)\n",
      "T=11 - clay - (1, 7, 1, 0)\n",
      "T=14 - obsidian - (1, 5, 4, 0)\n",
      "T=17 - geode - (2, 17, 3, 0)\n",
      "T=20 - geode - (3, 29, 2, 3)\n",
      "T=21 - obsidian - (1, 19, 4, 5)\n",
      "T=23 - geode - (1, 27, 3, 9)\n"
     ]
    }
   ],
   "source": [
    "T = 24\n",
    "q, robots = max_geodes_trace(sample[0], T, 3)\n",
    "print(q)\n",
    "materials = ('ore', 'clay', 'obsidian', 'geode')\n",
    "for what, when, avail in sorted(robots, key=lambda x: -x[1]):\n",
    "    print(f\"T={T-when} - {materials[what]} - {avail}\")"
   ]
  },
  {
   "cell_type": "code",
   "execution_count": 71,
   "id": "f203bd8b",
   "metadata": {},
   "outputs": [
    {
     "name": "stdout",
     "output_type": "stream",
     "text": [
      "5\n",
      "T=2 - ore - (1, 0, 0, 0)\n",
      "T=4 - ore - (3, 0, 0, 0)\n",
      "T=5 - ore - (4, 0, 0, 0)\n",
      "T=6 - clay - (4, 0, 0, 0)\n",
      "T=7 - clay - (4, 1, 0, 0)\n",
      "T=8 - clay - (4, 3, 0, 0)\n",
      "T=9 - clay - (4, 6, 0, 0)\n",
      "T=10 - clay - (4, 10, 0, 0)\n",
      "T=11 - clay - (4, 15, 0, 0)\n",
      "T=12 - clay - (4, 21, 0, 0)\n",
      "T=13 - obsidian - (6, 12, 0, 0)\n",
      "T=14 - ore - (8, 19, 1, 0)\n",
      "T=15 - obsidian - (11, 10, 2, 0)\n",
      "T=16 - ore - (14, 17, 4, 0)\n",
      "T=17 - obsidian - (18, 8, 6, 0)\n",
      "T=18 - ore - (22, 15, 9, 0)\n",
      "T=19 - geode - (27, 22, 3, 0)\n",
      "T=20 - ore - (32, 29, 6, 1)\n",
      "T=22 - geode - (46, 43, 3, 3)\n",
      "T=23 - obsidian - (52, 34, 6, 5)\n"
     ]
    }
   ],
   "source": [
    "T = 24\n",
    "q, robots = max_geodes_trace(data[0], T, 3)\n",
    "print(q)\n",
    "materials = ('ore', 'clay', 'obsidian', 'geode')\n",
    "for what, when, avail in sorted(robots, key=lambda x: -x[1]):\n",
    "    print(f\"T={T-when} - {materials[what]} - {avail}\")"
   ]
  },
  {
   "cell_type": "code",
   "execution_count": 77,
   "id": "22398f5f",
   "metadata": {},
   "outputs": [
    {
     "name": "stdout",
     "output_type": "stream",
     "text": [
      "0\n",
      "T=4 - clay - (1, 0, 0, 0)\n",
      "T=8 - clay - (1, 4, 0, 0)\n",
      "T=12 - clay - (1, 12, 0, 0)\n"
     ]
    }
   ],
   "source": []
  },
  {
   "cell_type": "code",
   "execution_count": null,
   "id": "29f200f9",
   "metadata": {},
   "outputs": [],
   "source": []
  },
  {
   "cell_type": "code",
   "execution_count": 76,
   "id": "9c21478c",
   "metadata": {},
   "outputs": [
    {
     "name": "stdout",
     "output_type": "stream",
     "text": [
      "1\n",
      "T=4 - ore - (1, 0, 0, 0)\n",
      "T=7 - ore - (3, 0, 0, 0)\n",
      "T=9 - clay - (5, 0, 0, 0)\n",
      "T=10 - ore - (4, 1, 0, 0)\n",
      "T=11 - clay - (4, 2, 0, 0)\n",
      "T=12 - clay - (4, 4, 0, 0)\n",
      "T=13 - clay - (4, 7, 0, 0)\n",
      "T=14 - clay - (4, 11, 0, 0)\n",
      "T=15 - clay - (4, 16, 0, 0)\n",
      "T=16 - obsidian - (4, 8, 0, 0)\n",
      "T=17 - clay - (4, 14, 1, 0)\n",
      "T=18 - obsidian - (4, 7, 2, 0)\n",
      "T=19 - ore - (4, 14, 4, 0)\n",
      "T=20 - obsidian - (5, 7, 6, 0)\n",
      "T=22 - obsidian - (11, 7, 12, 0)\n",
      "T=24 - geode - (19, 21, 4, 0)\n",
      "T=25 - obsidian - (20, 14, 8, 1)\n"
     ]
    }
   ],
   "source": [
    "T = 26\n",
    "q, robots = max_geodes_trace(data[1], T, 3)\n",
    "print(q)\n",
    "materials = ('ore', 'clay', 'obsidian', 'geode')\n",
    "for what, when, avail in sorted(robots, key=lambda x: -x[1]):\n",
    "    print(f\"T={T-when} - {materials[what]} - {avail}\")"
   ]
  },
  {
   "cell_type": "code",
   "execution_count": 74,
   "id": "03a215a1",
   "metadata": {},
   "outputs": [
    {
     "data": {
      "text/plain": [
       "[(4, 0, 0, 0), (4, 0, 0, 0), (4, 14, 0, 0), (2, 0, 16, 0)]"
      ]
     },
     "execution_count": 74,
     "metadata": {},
     "output_type": "execute_result"
    }
   ],
   "source": [
    "data[1]"
   ]
  },
  {
   "cell_type": "code",
   "execution_count": 75,
   "id": "0ddb14cb",
   "metadata": {},
   "outputs": [
    {
     "name": "stdout",
     "output_type": "stream",
     "text": [
      "2\n",
      "T=4 - ore - (1, 0, 0, 0)\n",
      "T=7 - clay - (3, 0, 0, 0)\n",
      "T=9 - clay - (3, 2, 0, 0)\n",
      "T=11 - clay - (3, 6, 0, 0)\n",
      "T=13 - clay - (3, 12, 0, 0)\n",
      "T=15 - obsidian - (3, 8, 0, 0)\n",
      "T=17 - obsidian - (3, 4, 2, 0)\n",
      "T=19 - clay - (3, 12, 6, 0)\n",
      "T=21 - geode - (4, 22, 2, 0)\n"
     ]
    }
   ],
   "source": [
    "T = 24\n",
    "q, robots = max_geodes_trace(data[2], T, 3)\n",
    "print(q)\n",
    "materials = ('ore', 'clay', 'obsidian', 'geode')\n",
    "for what, when, avail in sorted(robots, key=lambda x: -x[1]):\n",
    "    print(f\"T={T-when} - {materials[what]} - {avail}\")"
   ]
  },
  {
   "cell_type": "code",
   "execution_count": null,
   "id": "2d9e4d79",
   "metadata": {},
   "outputs": [],
   "source": [
    "T = 24\n",
    "q, robots = max_geodes_trace(data[2], T, 3)\n",
    "print(q)\n",
    "materials = ('ore', 'clay', 'obsidian', 'geode')\n",
    "for what, when, avail in sorted(robots, key=lambda x: -x[1]):\n",
    "    print(f\"T={T-when} - {materials[what]} - {avail}\")"
   ]
  },
  {
   "cell_type": "code",
   "execution_count": null,
   "id": "cccea3c6",
   "metadata": {},
   "outputs": [],
   "source": []
  },
  {
   "cell_type": "code",
   "execution_count": 64,
   "id": "9d61233c",
   "metadata": {},
   "outputs": [
    {
     "data": {
      "text/plain": [
       "[[(2, 0, 0, 0), (4, 0, 0, 0), (2, 16, 0, 0), (2, 0, 9, 0)],\n",
       " [(4, 0, 0, 0), (4, 0, 0, 0), (4, 14, 0, 0), (2, 0, 16, 0)],\n",
       " [(4, 0, 0, 0), (4, 0, 0, 0), (4, 12, 0, 0), (3, 0, 8, 0)],\n",
       " [(2, 0, 0, 0), (3, 0, 0, 0), (2, 14, 0, 0), (3, 0, 8, 0)],\n",
       " [(3, 0, 0, 0), (4, 0, 0, 0), (2, 15, 0, 0), (3, 0, 7, 0)],\n",
       " [(3, 0, 0, 0), (4, 0, 0, 0), (4, 8, 0, 0), (2, 0, 10, 0)],\n",
       " [(3, 0, 0, 0), (4, 0, 0, 0), (3, 16, 0, 0), (3, 0, 14, 0)],\n",
       " [(4, 0, 0, 0), (3, 0, 0, 0), (2, 7, 0, 0), (3, 0, 8, 0)],\n",
       " [(2, 0, 0, 0), (4, 0, 0, 0), (4, 17, 0, 0), (3, 0, 11, 0)],\n",
       " [(3, 0, 0, 0), (4, 0, 0, 0), (3, 6, 0, 0), (4, 0, 11, 0)],\n",
       " [(4, 0, 0, 0), (4, 0, 0, 0), (2, 9, 0, 0), (3, 0, 15, 0)],\n",
       " [(4, 0, 0, 0), (4, 0, 0, 0), (4, 14, 0, 0), (3, 0, 16, 0)],\n",
       " [(4, 0, 0, 0), (4, 0, 0, 0), (4, 8, 0, 0), (4, 0, 14, 0)],\n",
       " [(3, 0, 0, 0), (4, 0, 0, 0), (2, 19, 0, 0), (2, 0, 12, 0)],\n",
       " [(2, 0, 0, 0), (3, 0, 0, 0), (3, 9, 0, 0), (3, 0, 9, 0)],\n",
       " [(4, 0, 0, 0), (3, 0, 0, 0), (4, 19, 0, 0), (4, 0, 12, 0)],\n",
       " [(3, 0, 0, 0), (4, 0, 0, 0), (4, 17, 0, 0), (4, 0, 16, 0)],\n",
       " [(3, 0, 0, 0), (3, 0, 0, 0), (2, 7, 0, 0), (2, 0, 9, 0)],\n",
       " [(3, 0, 0, 0), (4, 0, 0, 0), (4, 18, 0, 0), (4, 0, 12, 0)],\n",
       " [(2, 0, 0, 0), (4, 0, 0, 0), (3, 19, 0, 0), (4, 0, 13, 0)],\n",
       " [(3, 0, 0, 0), (3, 0, 0, 0), (2, 19, 0, 0), (2, 0, 12, 0)],\n",
       " [(3, 0, 0, 0), (3, 0, 0, 0), (2, 16, 0, 0), (2, 0, 18, 0)],\n",
       " [(4, 0, 0, 0), (3, 0, 0, 0), (2, 13, 0, 0), (2, 0, 9, 0)],\n",
       " [(2, 0, 0, 0), (2, 0, 0, 0), (2, 10, 0, 0), (2, 0, 11, 0)],\n",
       " [(3, 0, 0, 0), (3, 0, 0, 0), (2, 16, 0, 0), (3, 0, 14, 0)],\n",
       " [(2, 0, 0, 0), (3, 0, 0, 0), (3, 18, 0, 0), (2, 0, 19, 0)],\n",
       " [(3, 0, 0, 0), (4, 0, 0, 0), (2, 20, 0, 0), (4, 0, 7, 0)],\n",
       " [(4, 0, 0, 0), (3, 0, 0, 0), (4, 18, 0, 0), (4, 0, 11, 0)],\n",
       " [(4, 0, 0, 0), (3, 0, 0, 0), (4, 8, 0, 0), (3, 0, 7, 0)],\n",
       " [(4, 0, 0, 0), (3, 0, 0, 0), (4, 20, 0, 0), (4, 0, 8, 0)]]"
      ]
     },
     "execution_count": 64,
     "metadata": {},
     "output_type": "execute_result"
    }
   ],
   "source": [
    "data"
   ]
  },
  {
   "cell_type": "code",
   "execution_count": null,
   "id": "dcac49bd",
   "metadata": {},
   "outputs": [],
   "source": []
  },
  {
   "cell_type": "code",
   "execution_count": null,
   "id": "b736b0a7",
   "metadata": {},
   "outputs": [],
   "source": []
  },
  {
   "cell_type": "code",
   "execution_count": 27,
   "id": "c8c3a1b2",
   "metadata": {},
   "outputs": [],
   "source": [
    "# from pyrsistent import pmap\n",
    "# from immutables import Map as pmap\n",
    "\n",
    "# def max_geodes(blueprint, n=24):\n",
    "#     cache = {}\n",
    "    \n",
    "#     def dp(remaining, robots, resources):\n",
    "#         if (remaining, robots, resources) not in cache:\n",
    "#             if remaining == 0:\n",
    "#                 geodes = resources.get('geode',0)\n",
    "#             else:\n",
    "#                 geodes = 0\n",
    "#                 for robot, recipe in blueprint.items():\n",
    "#                     new_resources = pmap({material: resources.get(material,0)-cost for material, cost in recipe.items()})\n",
    "#                     if any((r < 0 for r in new_resources.values())):\n",
    "#                         continue\n",
    "#                     new_resources = pmap({robot: count+new_resources.get(robot, 0) for robot, count in robots.items()})\n",
    "#                     new_robots = robots.set(robot, 1+robots.get(robot,0))\n",
    "#                     geodes = max(geodes, dp(remaining-1, new_robots, new_resources))\n",
    "                    \n",
    "#                 # no-op\n",
    "#                 new_resources = pmap({robot: count+resources.get(robot, 0) for robot, count in robots.items()})\n",
    "#                 geodes = max(geodes, dp(remaining-1, robots, new_resources))\n",
    "        \n",
    "#             cache[remaining, robots, resources] = geodes\n",
    "#         return cache[remaining, robots, resources]\n",
    "#     dp(n, pmap({'ore': 1}), pmap())\n",
    "#     return dp(n, pmap({'ore': 1}), pmap())\n",
    "# #     return dp(n, pmap(), pmap({'ore': 1}))"
   ]
  },
  {
   "cell_type": "code",
   "execution_count": null,
   "id": "74edf747",
   "metadata": {},
   "outputs": [],
   "source": []
  }
 ],
 "metadata": {
  "kernelspec": {
   "display_name": "Python 3",
   "language": "python",
   "name": "python3"
  },
  "language_info": {
   "codemirror_mode": {
    "name": "ipython",
    "version": 3
   },
   "file_extension": ".py",
   "mimetype": "text/x-python",
   "name": "python",
   "nbconvert_exporter": "python",
   "pygments_lexer": "ipython3",
   "version": "3.8.8"
  }
 },
 "nbformat": 4,
 "nbformat_minor": 5
}
