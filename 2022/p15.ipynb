{
 "cells": [
  {
   "cell_type": "code",
   "execution_count": 312,
   "id": "992bb07b",
   "metadata": {},
   "outputs": [],
   "source": [
    "from aocd.models import Puzzle\n",
    "\n",
    "puzzle = Puzzle(year=2022, day=15)\n",
    "\n",
    "def parses(input):\n",
    "    template = 'Sensor at x={:d}, y={:d}: closest beacon is at x={:d}, y={:d}'\n",
    "    return [parse.parse(template, line).fixed\n",
    "            for line in input.strip().split('\\n')]\n",
    "        \n",
    "data = parses(puzzle.input_data)"
   ]
  },
  {
   "cell_type": "code",
   "execution_count": 313,
   "id": "510fe60f",
   "metadata": {},
   "outputs": [],
   "source": [
    "sample = parses(\"\"\"Sensor at x=2, y=18: closest beacon is at x=-2, y=15\n",
    "Sensor at x=9, y=16: closest beacon is at x=10, y=16\n",
    "Sensor at x=13, y=2: closest beacon is at x=15, y=3\n",
    "Sensor at x=12, y=14: closest beacon is at x=10, y=16\n",
    "Sensor at x=10, y=20: closest beacon is at x=10, y=16\n",
    "Sensor at x=14, y=17: closest beacon is at x=10, y=16\n",
    "Sensor at x=8, y=7: closest beacon is at x=2, y=10\n",
    "Sensor at x=2, y=0: closest beacon is at x=2, y=10\n",
    "Sensor at x=0, y=11: closest beacon is at x=2, y=10\n",
    "Sensor at x=20, y=14: closest beacon is at x=25, y=17\n",
    "Sensor at x=17, y=20: closest beacon is at x=21, y=22\n",
    "Sensor at x=16, y=7: closest beacon is at x=15, y=3\n",
    "Sensor at x=14, y=3: closest beacon is at x=15, y=3\n",
    "Sensor at x=20, y=1: closest beacon is at x=15, y=3\"\"\")"
   ]
  },
  {
   "cell_type": "code",
   "execution_count": 314,
   "id": "a6b16877",
   "metadata": {},
   "outputs": [
    {
     "data": {
      "text/plain": [
       "[(2, 18, -2, 15),\n",
       " (9, 16, 10, 16),\n",
       " (13, 2, 15, 3),\n",
       " (12, 14, 10, 16),\n",
       " (10, 20, 10, 16),\n",
       " (14, 17, 10, 16),\n",
       " (8, 7, 2, 10),\n",
       " (2, 0, 2, 10),\n",
       " (0, 11, 2, 10),\n",
       " (20, 14, 25, 17),\n",
       " (17, 20, 21, 22),\n",
       " (16, 7, 15, 3),\n",
       " (14, 3, 15, 3),\n",
       " (20, 1, 15, 3)]"
      ]
     },
     "execution_count": 314,
     "metadata": {},
     "output_type": "execute_result"
    }
   ],
   "source": [
    "sample"
   ]
  },
  {
   "cell_type": "code",
   "execution_count": 315,
   "id": "5dd598a2",
   "metadata": {},
   "outputs": [],
   "source": [
    "def merge_intervals(intervals):\n",
    "    merged_intervals = []\n",
    "    for s, e in sorted(intervals):\n",
    "        if not merged_intervals or s > merged_intervals[-1][1] + 1:\n",
    "            merged_intervals.append([s,e])\n",
    "        else:\n",
    "            merged_intervals[-1][1] = max(merged_intervals[-1][1], e)\n",
    "    return merged_intervals"
   ]
  },
  {
   "cell_type": "code",
   "execution_count": 316,
   "id": "9deafbab",
   "metadata": {},
   "outputs": [],
   "source": [
    "def intervals_at_y(data, y):\n",
    "    intervals = []\n",
    "    for sx, sy, bx, by in data:\n",
    "        r = abs(sx-bx) + abs(sy-by)\n",
    "        ry = r - abs(sy-y)\n",
    "        if ry >= 0:\n",
    "            intervals.append([sx-ry,sx+ry])\n",
    "    return merge_intervals(intervals)"
   ]
  },
  {
   "cell_type": "code",
   "execution_count": 317,
   "id": "de79e2c9",
   "metadata": {},
   "outputs": [],
   "source": [
    "def solve_a(data, y=2_000_000):\n",
    "    intervals = intervals_at_y(data, y)\n",
    "    beacons_y = len(set(bx for _, _, bx, by in data if by==y))\n",
    "    return sum((e-s+1) for s, e in intervals) - beacons_y"
   ]
  },
  {
   "cell_type": "code",
   "execution_count": 318,
   "id": "e0794620",
   "metadata": {},
   "outputs": [
    {
     "data": {
      "text/plain": [
       "26"
      ]
     },
     "execution_count": 318,
     "metadata": {},
     "output_type": "execute_result"
    }
   ],
   "source": [
    "solve_a(sample, 10)"
   ]
  },
  {
   "cell_type": "code",
   "execution_count": 110,
   "id": "4bdd33ff",
   "metadata": {},
   "outputs": [
    {
     "ename": "KeyboardInterrupt",
     "evalue": "",
     "output_type": "error",
     "traceback": [
      "\u001b[0;31m---------------------------------------------------------------------------\u001b[0m",
      "\u001b[0;31mKeyboardInterrupt\u001b[0m                         Traceback (most recent call last)",
      "\u001b[0;32m<ipython-input-110-7cbab8ece222>\u001b[0m in \u001b[0;36m<module>\u001b[0;34m\u001b[0m\n\u001b[0;32m----> 1\u001b[0;31m \u001b[0mget_ipython\u001b[0m\u001b[0;34m(\u001b[0m\u001b[0;34m)\u001b[0m\u001b[0;34m.\u001b[0m\u001b[0mrun_cell_magic\u001b[0m\u001b[0;34m(\u001b[0m\u001b[0;34m'timeit'\u001b[0m\u001b[0;34m,\u001b[0m \u001b[0;34m''\u001b[0m\u001b[0;34m,\u001b[0m \u001b[0;34m'solve_a(data)\\n'\u001b[0m\u001b[0;34m)\u001b[0m\u001b[0;34m\u001b[0m\u001b[0;34m\u001b[0m\u001b[0m\n\u001b[0m",
      "\u001b[0;32m~/.pyenv/versions/anaconda3-2021.05/lib/python3.8/site-packages/IPython/core/interactiveshell.py\u001b[0m in \u001b[0;36mrun_cell_magic\u001b[0;34m(self, magic_name, line, cell)\u001b[0m\n\u001b[1;32m   2397\u001b[0m             \u001b[0;32mwith\u001b[0m \u001b[0mself\u001b[0m\u001b[0;34m.\u001b[0m\u001b[0mbuiltin_trap\u001b[0m\u001b[0;34m:\u001b[0m\u001b[0;34m\u001b[0m\u001b[0;34m\u001b[0m\u001b[0m\n\u001b[1;32m   2398\u001b[0m                 \u001b[0margs\u001b[0m \u001b[0;34m=\u001b[0m \u001b[0;34m(\u001b[0m\u001b[0mmagic_arg_s\u001b[0m\u001b[0;34m,\u001b[0m \u001b[0mcell\u001b[0m\u001b[0;34m)\u001b[0m\u001b[0;34m\u001b[0m\u001b[0;34m\u001b[0m\u001b[0m\n\u001b[0;32m-> 2399\u001b[0;31m                 \u001b[0mresult\u001b[0m \u001b[0;34m=\u001b[0m \u001b[0mfn\u001b[0m\u001b[0;34m(\u001b[0m\u001b[0;34m*\u001b[0m\u001b[0margs\u001b[0m\u001b[0;34m,\u001b[0m \u001b[0;34m**\u001b[0m\u001b[0mkwargs\u001b[0m\u001b[0;34m)\u001b[0m\u001b[0;34m\u001b[0m\u001b[0;34m\u001b[0m\u001b[0m\n\u001b[0m\u001b[1;32m   2400\u001b[0m             \u001b[0;32mreturn\u001b[0m \u001b[0mresult\u001b[0m\u001b[0;34m\u001b[0m\u001b[0;34m\u001b[0m\u001b[0m\n\u001b[1;32m   2401\u001b[0m \u001b[0;34m\u001b[0m\u001b[0m\n",
      "\u001b[0;32m~/.pyenv/versions/anaconda3-2021.05/lib/python3.8/site-packages/decorator.py\u001b[0m in \u001b[0;36mfun\u001b[0;34m(*args, **kw)\u001b[0m\n\u001b[1;32m    229\u001b[0m             \u001b[0;32mif\u001b[0m \u001b[0;32mnot\u001b[0m \u001b[0mkwsyntax\u001b[0m\u001b[0;34m:\u001b[0m\u001b[0;34m\u001b[0m\u001b[0;34m\u001b[0m\u001b[0m\n\u001b[1;32m    230\u001b[0m                 \u001b[0margs\u001b[0m\u001b[0;34m,\u001b[0m \u001b[0mkw\u001b[0m \u001b[0;34m=\u001b[0m \u001b[0mfix\u001b[0m\u001b[0;34m(\u001b[0m\u001b[0margs\u001b[0m\u001b[0;34m,\u001b[0m \u001b[0mkw\u001b[0m\u001b[0;34m,\u001b[0m \u001b[0msig\u001b[0m\u001b[0;34m)\u001b[0m\u001b[0;34m\u001b[0m\u001b[0;34m\u001b[0m\u001b[0m\n\u001b[0;32m--> 231\u001b[0;31m             \u001b[0;32mreturn\u001b[0m \u001b[0mcaller\u001b[0m\u001b[0;34m(\u001b[0m\u001b[0mfunc\u001b[0m\u001b[0;34m,\u001b[0m \u001b[0;34m*\u001b[0m\u001b[0;34m(\u001b[0m\u001b[0mextras\u001b[0m \u001b[0;34m+\u001b[0m \u001b[0margs\u001b[0m\u001b[0;34m)\u001b[0m\u001b[0;34m,\u001b[0m \u001b[0;34m**\u001b[0m\u001b[0mkw\u001b[0m\u001b[0;34m)\u001b[0m\u001b[0;34m\u001b[0m\u001b[0;34m\u001b[0m\u001b[0m\n\u001b[0m\u001b[1;32m    232\u001b[0m     \u001b[0mfun\u001b[0m\u001b[0;34m.\u001b[0m\u001b[0m__name__\u001b[0m \u001b[0;34m=\u001b[0m \u001b[0mfunc\u001b[0m\u001b[0;34m.\u001b[0m\u001b[0m__name__\u001b[0m\u001b[0;34m\u001b[0m\u001b[0;34m\u001b[0m\u001b[0m\n\u001b[1;32m    233\u001b[0m     \u001b[0mfun\u001b[0m\u001b[0;34m.\u001b[0m\u001b[0m__doc__\u001b[0m \u001b[0;34m=\u001b[0m \u001b[0mfunc\u001b[0m\u001b[0;34m.\u001b[0m\u001b[0m__doc__\u001b[0m\u001b[0;34m\u001b[0m\u001b[0;34m\u001b[0m\u001b[0m\n",
      "\u001b[0;32m~/.pyenv/versions/anaconda3-2021.05/lib/python3.8/site-packages/IPython/core/magic.py\u001b[0m in \u001b[0;36m<lambda>\u001b[0;34m(f, *a, **k)\u001b[0m\n\u001b[1;32m    185\u001b[0m     \u001b[0;31m# but it's overkill for just that one bit of state.\u001b[0m\u001b[0;34m\u001b[0m\u001b[0;34m\u001b[0m\u001b[0;34m\u001b[0m\u001b[0m\n\u001b[1;32m    186\u001b[0m     \u001b[0;32mdef\u001b[0m \u001b[0mmagic_deco\u001b[0m\u001b[0;34m(\u001b[0m\u001b[0marg\u001b[0m\u001b[0;34m)\u001b[0m\u001b[0;34m:\u001b[0m\u001b[0;34m\u001b[0m\u001b[0;34m\u001b[0m\u001b[0m\n\u001b[0;32m--> 187\u001b[0;31m         \u001b[0mcall\u001b[0m \u001b[0;34m=\u001b[0m \u001b[0;32mlambda\u001b[0m \u001b[0mf\u001b[0m\u001b[0;34m,\u001b[0m \u001b[0;34m*\u001b[0m\u001b[0ma\u001b[0m\u001b[0;34m,\u001b[0m \u001b[0;34m**\u001b[0m\u001b[0mk\u001b[0m\u001b[0;34m:\u001b[0m \u001b[0mf\u001b[0m\u001b[0;34m(\u001b[0m\u001b[0;34m*\u001b[0m\u001b[0ma\u001b[0m\u001b[0;34m,\u001b[0m \u001b[0;34m**\u001b[0m\u001b[0mk\u001b[0m\u001b[0;34m)\u001b[0m\u001b[0;34m\u001b[0m\u001b[0;34m\u001b[0m\u001b[0m\n\u001b[0m\u001b[1;32m    188\u001b[0m \u001b[0;34m\u001b[0m\u001b[0m\n\u001b[1;32m    189\u001b[0m         \u001b[0;32mif\u001b[0m \u001b[0mcallable\u001b[0m\u001b[0;34m(\u001b[0m\u001b[0marg\u001b[0m\u001b[0;34m)\u001b[0m\u001b[0;34m:\u001b[0m\u001b[0;34m\u001b[0m\u001b[0;34m\u001b[0m\u001b[0m\n",
      "\u001b[0;32m~/.pyenv/versions/anaconda3-2021.05/lib/python3.8/site-packages/IPython/core/magics/execution.py\u001b[0m in \u001b[0;36mtimeit\u001b[0;34m(self, line, cell, local_ns)\u001b[0m\n\u001b[1;32m   1167\u001b[0m             \u001b[0;32mfor\u001b[0m \u001b[0mindex\u001b[0m \u001b[0;32min\u001b[0m \u001b[0mrange\u001b[0m\u001b[0;34m(\u001b[0m\u001b[0;36m0\u001b[0m\u001b[0;34m,\u001b[0m \u001b[0;36m10\u001b[0m\u001b[0;34m)\u001b[0m\u001b[0;34m:\u001b[0m\u001b[0;34m\u001b[0m\u001b[0;34m\u001b[0m\u001b[0m\n\u001b[1;32m   1168\u001b[0m                 \u001b[0mnumber\u001b[0m \u001b[0;34m=\u001b[0m \u001b[0;36m10\u001b[0m \u001b[0;34m**\u001b[0m \u001b[0mindex\u001b[0m\u001b[0;34m\u001b[0m\u001b[0;34m\u001b[0m\u001b[0m\n\u001b[0;32m-> 1169\u001b[0;31m                 \u001b[0mtime_number\u001b[0m \u001b[0;34m=\u001b[0m \u001b[0mtimer\u001b[0m\u001b[0;34m.\u001b[0m\u001b[0mtimeit\u001b[0m\u001b[0;34m(\u001b[0m\u001b[0mnumber\u001b[0m\u001b[0;34m)\u001b[0m\u001b[0;34m\u001b[0m\u001b[0;34m\u001b[0m\u001b[0m\n\u001b[0m\u001b[1;32m   1170\u001b[0m                 \u001b[0;32mif\u001b[0m \u001b[0mtime_number\u001b[0m \u001b[0;34m>=\u001b[0m \u001b[0;36m0.2\u001b[0m\u001b[0;34m:\u001b[0m\u001b[0;34m\u001b[0m\u001b[0;34m\u001b[0m\u001b[0m\n\u001b[1;32m   1171\u001b[0m                     \u001b[0;32mbreak\u001b[0m\u001b[0;34m\u001b[0m\u001b[0;34m\u001b[0m\u001b[0m\n",
      "\u001b[0;32m~/.pyenv/versions/anaconda3-2021.05/lib/python3.8/site-packages/IPython/core/magics/execution.py\u001b[0m in \u001b[0;36mtimeit\u001b[0;34m(self, number)\u001b[0m\n\u001b[1;32m    167\u001b[0m         \u001b[0mgc\u001b[0m\u001b[0;34m.\u001b[0m\u001b[0mdisable\u001b[0m\u001b[0;34m(\u001b[0m\u001b[0;34m)\u001b[0m\u001b[0;34m\u001b[0m\u001b[0;34m\u001b[0m\u001b[0m\n\u001b[1;32m    168\u001b[0m         \u001b[0;32mtry\u001b[0m\u001b[0;34m:\u001b[0m\u001b[0;34m\u001b[0m\u001b[0;34m\u001b[0m\u001b[0m\n\u001b[0;32m--> 169\u001b[0;31m             \u001b[0mtiming\u001b[0m \u001b[0;34m=\u001b[0m \u001b[0mself\u001b[0m\u001b[0;34m.\u001b[0m\u001b[0minner\u001b[0m\u001b[0;34m(\u001b[0m\u001b[0mit\u001b[0m\u001b[0;34m,\u001b[0m \u001b[0mself\u001b[0m\u001b[0;34m.\u001b[0m\u001b[0mtimer\u001b[0m\u001b[0;34m)\u001b[0m\u001b[0;34m\u001b[0m\u001b[0;34m\u001b[0m\u001b[0m\n\u001b[0m\u001b[1;32m    170\u001b[0m         \u001b[0;32mfinally\u001b[0m\u001b[0;34m:\u001b[0m\u001b[0;34m\u001b[0m\u001b[0;34m\u001b[0m\u001b[0m\n\u001b[1;32m    171\u001b[0m             \u001b[0;32mif\u001b[0m \u001b[0mgcold\u001b[0m\u001b[0;34m:\u001b[0m\u001b[0;34m\u001b[0m\u001b[0;34m\u001b[0m\u001b[0m\n",
      "\u001b[0;32m<magic-timeit>\u001b[0m in \u001b[0;36minner\u001b[0;34m(_it, _timer)\u001b[0m\n",
      "\u001b[0;32m<ipython-input-108-79a32f8c0730>\u001b[0m in \u001b[0;36msolve_a\u001b[0;34m(data, y)\u001b[0m\n\u001b[1;32m      1\u001b[0m \u001b[0;32mdef\u001b[0m \u001b[0msolve_a\u001b[0m\u001b[0;34m(\u001b[0m\u001b[0mdata\u001b[0m\u001b[0;34m,\u001b[0m \u001b[0my\u001b[0m\u001b[0;34m=\u001b[0m\u001b[0;36m2_000_000\u001b[0m\u001b[0;34m)\u001b[0m\u001b[0;34m:\u001b[0m\u001b[0;34m\u001b[0m\u001b[0;34m\u001b[0m\u001b[0m\n\u001b[0;32m----> 2\u001b[0;31m     \u001b[0mintervals\u001b[0m \u001b[0;34m=\u001b[0m \u001b[0mintervals_at_y\u001b[0m\u001b[0;34m(\u001b[0m\u001b[0mdata\u001b[0m\u001b[0;34m,\u001b[0m \u001b[0my\u001b[0m\u001b[0;34m)\u001b[0m\u001b[0;34m\u001b[0m\u001b[0;34m\u001b[0m\u001b[0m\n\u001b[0m\u001b[1;32m      3\u001b[0m     \u001b[0mbeacons_y\u001b[0m \u001b[0;34m=\u001b[0m \u001b[0mlen\u001b[0m\u001b[0;34m(\u001b[0m\u001b[0mset\u001b[0m\u001b[0;34m(\u001b[0m\u001b[0mbx\u001b[0m \u001b[0;32mfor\u001b[0m \u001b[0m_\u001b[0m\u001b[0;34m,\u001b[0m \u001b[0m_\u001b[0m\u001b[0;34m,\u001b[0m \u001b[0mbx\u001b[0m\u001b[0;34m,\u001b[0m \u001b[0mby\u001b[0m \u001b[0;32min\u001b[0m \u001b[0mdata\u001b[0m \u001b[0;32mif\u001b[0m \u001b[0mby\u001b[0m\u001b[0;34m==\u001b[0m\u001b[0my\u001b[0m\u001b[0;34m)\u001b[0m\u001b[0;34m)\u001b[0m\u001b[0;34m\u001b[0m\u001b[0;34m\u001b[0m\u001b[0m\n\u001b[1;32m      4\u001b[0m     \u001b[0;32mreturn\u001b[0m \u001b[0msum\u001b[0m\u001b[0;34m(\u001b[0m\u001b[0;34m(\u001b[0m\u001b[0me\u001b[0m\u001b[0;34m-\u001b[0m\u001b[0ms\u001b[0m\u001b[0;34m+\u001b[0m\u001b[0;36m1\u001b[0m\u001b[0;34m)\u001b[0m \u001b[0;32mfor\u001b[0m \u001b[0ms\u001b[0m\u001b[0;34m,\u001b[0m \u001b[0me\u001b[0m \u001b[0;32min\u001b[0m \u001b[0mintervals\u001b[0m\u001b[0;34m)\u001b[0m \u001b[0;34m-\u001b[0m \u001b[0mbeacons_y\u001b[0m\u001b[0;34m\u001b[0m\u001b[0;34m\u001b[0m\u001b[0m\n",
      "\u001b[0;32m<ipython-input-107-a6d4cf3df940>\u001b[0m in \u001b[0;36mintervals_at_y\u001b[0;34m(data, y)\u001b[0m\n\u001b[1;32m      6\u001b[0m         \u001b[0;32mif\u001b[0m \u001b[0mry\u001b[0m \u001b[0;34m>=\u001b[0m \u001b[0;36m0\u001b[0m\u001b[0;34m:\u001b[0m\u001b[0;34m\u001b[0m\u001b[0;34m\u001b[0m\u001b[0m\n\u001b[1;32m      7\u001b[0m             \u001b[0mintervals\u001b[0m\u001b[0;34m.\u001b[0m\u001b[0mappend\u001b[0m\u001b[0;34m(\u001b[0m\u001b[0;34m[\u001b[0m\u001b[0msx\u001b[0m\u001b[0;34m-\u001b[0m\u001b[0mry\u001b[0m\u001b[0;34m,\u001b[0m\u001b[0msx\u001b[0m\u001b[0;34m+\u001b[0m\u001b[0mry\u001b[0m\u001b[0;34m]\u001b[0m\u001b[0;34m)\u001b[0m\u001b[0;34m\u001b[0m\u001b[0;34m\u001b[0m\u001b[0m\n\u001b[0;32m----> 8\u001b[0;31m     \u001b[0;32mreturn\u001b[0m \u001b[0mmerge_intervals\u001b[0m\u001b[0;34m(\u001b[0m\u001b[0mintervals\u001b[0m\u001b[0;34m)\u001b[0m\u001b[0;34m\u001b[0m\u001b[0;34m\u001b[0m\u001b[0m\n\u001b[0m",
      "\u001b[0;32m<ipython-input-106-b7b6810c834d>\u001b[0m in \u001b[0;36mmerge_intervals\u001b[0;34m(intervals)\u001b[0m\n\u001b[1;32m      1\u001b[0m \u001b[0;32mdef\u001b[0m \u001b[0mmerge_intervals\u001b[0m\u001b[0;34m(\u001b[0m\u001b[0mintervals\u001b[0m\u001b[0;34m)\u001b[0m\u001b[0;34m:\u001b[0m\u001b[0;34m\u001b[0m\u001b[0;34m\u001b[0m\u001b[0m\n\u001b[1;32m      2\u001b[0m     \u001b[0mmerged_intervals\u001b[0m \u001b[0;34m=\u001b[0m \u001b[0;34m[\u001b[0m\u001b[0;34m]\u001b[0m\u001b[0;34m\u001b[0m\u001b[0;34m\u001b[0m\u001b[0m\n\u001b[0;32m----> 3\u001b[0;31m     \u001b[0;32mfor\u001b[0m \u001b[0ms\u001b[0m\u001b[0;34m,\u001b[0m \u001b[0me\u001b[0m \u001b[0;32min\u001b[0m \u001b[0msorted\u001b[0m\u001b[0;34m(\u001b[0m\u001b[0mintervals\u001b[0m\u001b[0;34m)\u001b[0m\u001b[0;34m:\u001b[0m\u001b[0;34m\u001b[0m\u001b[0;34m\u001b[0m\u001b[0m\n\u001b[0m\u001b[1;32m      4\u001b[0m         \u001b[0;32mif\u001b[0m \u001b[0;32mnot\u001b[0m \u001b[0mmerged_intervals\u001b[0m \u001b[0;32mor\u001b[0m \u001b[0ms\u001b[0m \u001b[0;34m>\u001b[0m \u001b[0mmerged_intervals\u001b[0m\u001b[0;34m[\u001b[0m\u001b[0;34m-\u001b[0m\u001b[0;36m1\u001b[0m\u001b[0;34m]\u001b[0m\u001b[0;34m[\u001b[0m\u001b[0;36m1\u001b[0m\u001b[0;34m]\u001b[0m\u001b[0;34m:\u001b[0m\u001b[0;34m\u001b[0m\u001b[0;34m\u001b[0m\u001b[0m\n\u001b[1;32m      5\u001b[0m             \u001b[0mmerged_intervals\u001b[0m\u001b[0;34m.\u001b[0m\u001b[0mappend\u001b[0m\u001b[0;34m(\u001b[0m\u001b[0;34m[\u001b[0m\u001b[0ms\u001b[0m\u001b[0;34m,\u001b[0m\u001b[0me\u001b[0m\u001b[0;34m]\u001b[0m\u001b[0;34m)\u001b[0m\u001b[0;34m\u001b[0m\u001b[0;34m\u001b[0m\u001b[0m\n",
      "\u001b[0;31mKeyboardInterrupt\u001b[0m: "
     ]
    }
   ],
   "source": [
    "%%timeit\n",
    "solve_a(data)"
   ]
  },
  {
   "cell_type": "code",
   "execution_count": null,
   "id": "04098831",
   "metadata": {},
   "outputs": [],
   "source": []
  },
  {
   "cell_type": "code",
   "execution_count": 133,
   "id": "c909f716",
   "metadata": {},
   "outputs": [
    {
     "data": {
      "text/plain": [
       "4985193"
      ]
     },
     "execution_count": 133,
     "metadata": {},
     "output_type": "execute_result"
    }
   ],
   "source": [
    "solve_a(data)"
   ]
  },
  {
   "cell_type": "code",
   "execution_count": 134,
   "id": "c20f1d67",
   "metadata": {},
   "outputs": [
    {
     "data": {
      "text/plain": [
       "[[-264840, 5468872]]"
      ]
     },
     "execution_count": 134,
     "metadata": {},
     "output_type": "execute_result"
    }
   ],
   "source": [
    "intervals_at_y(data, 0)"
   ]
  },
  {
   "cell_type": "code",
   "execution_count": null,
   "id": "f932630f",
   "metadata": {},
   "outputs": [],
   "source": []
  },
  {
   "cell_type": "code",
   "execution_count": null,
   "id": "918b0084",
   "metadata": {},
   "outputs": [],
   "source": [
    "4_000_000"
   ]
  },
  {
   "cell_type": "code",
   "execution_count": 176,
   "id": "272fd02a",
   "metadata": {},
   "outputs": [],
   "source": [
    "def solve_b_bruteforce(data, bounds=4_000_000):\n",
    "    \n",
    "    for y in range(bounds+1):\n",
    "        intervals = intervals_at_y(data, y)\n",
    "        for s, e in intervals:\n",
    "            if s >= 0 and e <= bounds:\n",
    "                return (s-1) * 4_000_000 + y\n",
    "            if e+1 <= bounds:\n",
    "                return (e+1) * 4_000_000 + y\n",
    "            if s > bounds:\n",
    "                break"
   ]
  },
  {
   "cell_type": "code",
   "execution_count": 146,
   "id": "da97a806",
   "metadata": {},
   "outputs": [
    {
     "data": {
      "text/plain": [
       "56000011"
      ]
     },
     "execution_count": 146,
     "metadata": {},
     "output_type": "execute_result"
    }
   ],
   "source": [
    "solve_b(sample, 20)"
   ]
  },
  {
   "cell_type": "code",
   "execution_count": 148,
   "id": "f4e56fb6",
   "metadata": {},
   "outputs": [
    {
     "name": "stdout",
     "output_type": "stream",
     "text": [
      "CPU times: user 32.8 s, sys: 309 ms, total: 33.1 s\n",
      "Wall time: 33.4 s\n"
     ]
    },
    {
     "data": {
      "text/plain": [
       "11583882601918"
      ]
     },
     "execution_count": 148,
     "metadata": {},
     "output_type": "execute_result"
    }
   ],
   "source": [
    "%%time\n",
    "solve_b(data)"
   ]
  },
  {
   "cell_type": "code",
   "execution_count": 180,
   "id": "5cf109fd",
   "metadata": {},
   "outputs": [],
   "source": [
    "def solve_b_smt(data, bounds=4_000_000):\n",
    "    # We can just offload the hard work to a solver,\n",
    "    # specifying the bounds as well as the fact that \n",
    "    # the point we are looking for must like outside\n",
    "    # ALL of the diamonds defined by the sensor-beacon \n",
    "    # pairs. Runs in a similar amount of time to bruteforce\n",
    "    import z3\n",
    "    s = z3.Solver()\n",
    "    x = z3.Int('x')\n",
    "    y = z3.Int('y')\n",
    "    for v in (x,y):\n",
    "        s.add(0 <= v)\n",
    "        s.add(v <= bounds)\n",
    "    \n",
    "    def manhattan(p1, p2):\n",
    "        abs = lambda x: z3.If(x >= 0, x, -x)\n",
    "        return sum(abs(x1 - x2) for x1, x2 in zip(p1, p2))\n",
    "    \n",
    "    for sx, sy, bx, by in data:\n",
    "        r = abs(sx-bx) + abs(sy-by)\n",
    "        s.add(manhattan((x,y), (sx,sy)) > r)\n",
    "    if s.check():\n",
    "        m = s.model()\n",
    "        return m[x].as_long() * 4_000_000 + m[y].as_long()"
   ]
  },
  {
   "cell_type": "code",
   "execution_count": 207,
   "id": "8372908f",
   "metadata": {},
   "outputs": [],
   "source": [
    "ps = np.arange(14).reshape((7,2))"
   ]
  },
  {
   "cell_type": "code",
   "execution_count": 208,
   "id": "56266cb6",
   "metadata": {},
   "outputs": [
    {
     "data": {
      "text/plain": [
       "array([[ 0,  1],\n",
       "       [ 2,  3],\n",
       "       [ 4,  5],\n",
       "       [ 6,  7],\n",
       "       [ 8,  9],\n",
       "       [10, 11],\n",
       "       [12, 13]])"
      ]
     },
     "execution_count": 208,
     "metadata": {},
     "output_type": "execute_result"
    }
   ],
   "source": [
    "ps"
   ]
  },
  {
   "cell_type": "code",
   "execution_count": 212,
   "id": "d2a07a68",
   "metadata": {},
   "outputs": [
    {
     "data": {
      "text/plain": [
       "array([False,  True,  True,  True,  True, False, False])"
      ]
     },
     "execution_count": 212,
     "metadata": {},
     "output_type": "execute_result"
    }
   ],
   "source": [
    "(ps[:,0] >= 2) & ((ps[:,0] <= 10))\n",
    "(ps[:,1] >= 2) & ((ps[:,1] <= 10))"
   ]
  },
  {
   "cell_type": "code",
   "execution_count": 242,
   "id": "207e9c9e",
   "metadata": {},
   "outputs": [
    {
     "data": {
      "text/plain": [
       "[(3523437, 2746095, 3546605, 2721324),\n",
       " (282831, 991087, 743030, -87472),\n",
       " (1473740, 3283213, 1846785, 3045894),\n",
       " (1290563, 46916, 743030, -87472),\n",
       " (3999451, 15688, 3283637, -753607),\n",
       " (1139483, 2716286, 1846785, 3045894),\n",
       " (3137614, 2929987, 3392051, 3245262),\n",
       " (2667083, 2286333, 2126582, 2282363),\n",
       " (3699264, 2920959, 3546605, 2721324),\n",
       " (3280991, 2338486, 3546605, 2721324),\n",
       " (833202, 92320, 743030, -87472),\n",
       " (3961416, 2485266, 3546605, 2721324),\n",
       " (3002132, 3500345, 3392051, 3245262),\n",
       " (2482128, 2934657, 1846785, 3045894),\n",
       " (111006, 2376713, 354526, 3163958),\n",
       " (424237, 2718408, 354526, 3163958),\n",
       " (3954504, 3606495, 3392051, 3245262),\n",
       " (2275050, 2067292, 2333853, 2000000),\n",
       " (1944813, 2557878, 2126582, 2282363),\n",
       " (2227536, 2152792, 2126582, 2282363),\n",
       " (3633714, 1229193, 3546605, 2721324),\n",
       " (1446898, 1674290, 2333853, 2000000),\n",
       " (3713985, 2744503, 3546605, 2721324),\n",
       " (2281504, 3945638, 1846785, 3045894),\n",
       " (822012, 3898848, 354526, 3163958),\n",
       " (89817, 3512049, 354526, 3163958),\n",
       " (2594265, 638715, 2333853, 2000000)]"
      ]
     },
     "execution_count": 242,
     "metadata": {},
     "output_type": "execute_result"
    }
   ],
   "source": [
    "data"
   ]
  },
  {
   "cell_type": "code",
   "execution_count": 307,
   "id": "7c00f665",
   "metadata": {},
   "outputs": [],
   "source": [
    "@njit\n",
    "def solve_b_perimeter(data, bounds=4_000_000):\n",
    "    sensors = []\n",
    "    for sx, sy, bx, by in data:\n",
    "        r = abs(sx-bx) + abs(sy-by)\n",
    "        sensors.append((sx,sy,r))\n",
    "    \n",
    "    for sx, sy, r in sensors:\n",
    "        for x_sign, y_sign in [(1,1),(1,-1),(-1,1),(-1,-1)]:\n",
    "            R = r+1\n",
    "            for i in range(R):\n",
    "                x, y = sx+R*x_sign-i, sy+y_sign*i\n",
    "                if 0 <= x <= bounds and 0 <= y <= bounds:\n",
    "                    for x2, y2, r2 in sensors:\n",
    "                        if abs(x-x2) + abs(y-y2) <= r2:\n",
    "                            break\n",
    "                    else:\n",
    "                        return x * 4_000_000 + y"
   ]
  },
  {
   "cell_type": "code",
   "execution_count": 308,
   "id": "96c07a98",
   "metadata": {},
   "outputs": [],
   "source": [
    "def solve_b_smart(data, bounds=4_000_000):\n",
    "    # As there is only one missing value, it's going to be just outside the\n",
    "    # boundaries of at least two scanners (unless we're incredibly unlucky and it's\n",
    "    # right on the bounds of the 0-4_000_000 square\n",
    "    \n",
    "    # Like the perimeter solution, the idea is to only test points at the diamond \n",
    "    # perimeters. Even smarter than the perimeter solution is to only consider \n",
    "    # points at the intersection of two line segments.\n",
    "    \n",
    "    # To simplify the logic, line segments can be simplified to lines since we \n",
    "    # are going to do the scanner checks anyways\n",
    "    \n",
    "    positive_offset = [] # y = x + b\n",
    "    negative_offset = [] # y = -x + b\n",
    "    scanners = []\n",
    "    for sx, sy, bx, by in data:\n",
    "        r = abs(sx-bx) + abs(sy-by)\n",
    "        scanners.append((sx,sy,r))\n",
    "        R = r + 1\n",
    "        # lines that contain top of diamond (sx+R, sy)\n",
    "        positive_offset.append(sy-sx-R)\n",
    "        negative_offset.append(sy+sx+R)\n",
    "        # lines that contain bottom of diamond (sx-R, sy)\n",
    "        positive_offset.append(sy-sx+R)\n",
    "        negative_offset.append(sy+sx-R)\n",
    "    \n",
    "    for pos in positive_offset:\n",
    "        for neg in negative_offset:\n",
    "            x, y = (neg-pos) // 2, (pos+neg) // 2\n",
    "            if 0 <= x <= bounds and 0 <= y <= bounds:\n",
    "                if all(abs(sx-x)+abs(sy-y) > r for sx, sy, r in scanners):\n",
    "                    return x * 4_000_000 + y\n",
    "                    "
   ]
  },
  {
   "cell_type": "code",
   "execution_count": 309,
   "id": "5c8a4ac8",
   "metadata": {},
   "outputs": [
    {
     "data": {
      "text/plain": [
       "56000011"
      ]
     },
     "execution_count": 309,
     "metadata": {},
     "output_type": "execute_result"
    }
   ],
   "source": [
    "solve_b_smart(sample, 20)"
   ]
  },
  {
   "cell_type": "code",
   "execution_count": 311,
   "id": "7c53ec32",
   "metadata": {},
   "outputs": [
    {
     "data": {
      "text/plain": [
       "11583882601918"
      ]
     },
     "execution_count": 311,
     "metadata": {},
     "output_type": "execute_result"
    }
   ],
   "source": [
    "solve_b_smart(data)"
   ]
  },
  {
   "cell_type": "code",
   "execution_count": null,
   "id": "70c28c2e",
   "metadata": {},
   "outputs": [],
   "source": []
  },
  {
   "cell_type": "markdown",
   "id": "17942ee5",
   "metadata": {},
   "source": [
    "    so"
   ]
  },
  {
   "cell_type": "code",
   "execution_count": 296,
   "id": "88a39178",
   "metadata": {},
   "outputs": [
    {
     "name": "stderr",
     "output_type": "stream",
     "text": [
      "/Users/josejavier/.pyenv/versions/anaconda3-2021.05/lib/python3.8/site-packages/numba/core/ir_utils.py:2119: NumbaPendingDeprecationWarning: \u001b[1m\n",
      "Encountered the use of a type that is scheduled for deprecation: type 'reflected list' found for argument 'data' of function 'solve_b'.\n",
      "\n",
      "For more information visit https://numba.pydata.org/numba-doc/latest/reference/deprecation.html#deprecation-of-reflection-for-list-and-set-types\n",
      "\u001b[1m\n",
      "File \"<ipython-input-295-da84af07a491>\", line 2:\u001b[0m\n",
      "\u001b[1m@njit\n",
      "\u001b[1mdef solve_b(data, bounds=4_000_000):\n",
      "\u001b[0m\u001b[1m^\u001b[0m\u001b[0m\n",
      "\u001b[0m\n",
      "  warnings.warn(NumbaPendingDeprecationWarning(msg, loc=loc))\n"
     ]
    },
    {
     "data": {
      "text/plain": [
       "56000011"
      ]
     },
     "execution_count": 296,
     "metadata": {},
     "output_type": "execute_result"
    }
   ],
   "source": [
    "solve_b(sample, 20)"
   ]
  },
  {
   "cell_type": "code",
   "execution_count": 299,
   "id": "3f864007",
   "metadata": {},
   "outputs": [
    {
     "name": "stdout",
     "output_type": "stream",
     "text": [
      "CPU times: user 284 ms, sys: 2.45 ms, total: 287 ms\n",
      "Wall time: 287 ms\n"
     ]
    },
    {
     "data": {
      "text/plain": [
       "11583882601918"
      ]
     },
     "execution_count": 299,
     "metadata": {},
     "output_type": "execute_result"
    }
   ],
   "source": [
    "%%time\n",
    "solve_b(data)"
   ]
  },
  {
   "cell_type": "code",
   "execution_count": null,
   "id": "71bbaaaa",
   "metadata": {},
   "outputs": [],
   "source": []
  },
  {
   "cell_type": "code",
   "execution_count": 302,
   "id": "e69765c5",
   "metadata": {},
   "outputs": [],
   "source": [
    "from scipy.spatial.distance import cdist\n",
    "\n",
    "def solve_b(data, bounds=4_000_000):\n",
    "    sensors = []\n",
    "    radii = []\n",
    "    for sx, sy, bx, by in data:\n",
    "        r = abs(sx-bx) + abs(sy-by)\n",
    "        sensors.append((sx,sy))\n",
    "        radii.append(r)\n",
    "    sensors = np.array(sensors)\n",
    "    radii = np.array(radii)\n",
    "    \n",
    "    for (sx, sy), r in zip(sensors, radii):\n",
    "        R = r + 1\n",
    "        ramp = np.arange(R)\n",
    "        sides = [\n",
    "            (sx+R-ramp, sy+ramp),\n",
    "            (sx+R-ramp, sy-ramp),\n",
    "            (sx-R+ramp, sy+ramp),\n",
    "            (sx-R+ramp, sy-ramp),\n",
    "        ]\n",
    "        for xs, ys in sides:\n",
    "            side = np.stack([xs, ys],-1)\n",
    "            within = (side[:,0] >= 0) & (side[:,0] <= bounds) & (side[:,1] >= 0) & (side[:,1] <= bounds)\n",
    "            side = side[within]\n",
    "\n",
    "            ds = cdist(side,sensors,metric='cityblock')\n",
    "            valid = (ds > radii).all(axis=1)\n",
    "            side = side[valid]\n",
    "            if len(side) > 0:\n",
    "                x, y = side[0]\n",
    "                return x * 4_000_000 + y"
   ]
  },
  {
   "cell_type": "code",
   "execution_count": 303,
   "id": "5e7db423",
   "metadata": {},
   "outputs": [
    {
     "data": {
      "text/plain": [
       "56000011"
      ]
     },
     "execution_count": 303,
     "metadata": {},
     "output_type": "execute_result"
    }
   ],
   "source": [
    "solve_b(sample,20)"
   ]
  },
  {
   "cell_type": "code",
   "execution_count": 304,
   "id": "f89225a1",
   "metadata": {},
   "outputs": [
    {
     "name": "stdout",
     "output_type": "stream",
     "text": [
      "CPU times: user 3.63 s, sys: 1.24 s, total: 4.87 s\n",
      "Wall time: 4.91 s\n"
     ]
    },
    {
     "data": {
      "text/plain": [
       "11583882601918"
      ]
     },
     "execution_count": 304,
     "metadata": {},
     "output_type": "execute_result"
    }
   ],
   "source": [
    "%%time\n",
    "solve_b(data)"
   ]
  },
  {
   "cell_type": "code",
   "execution_count": null,
   "id": "320e7c2e",
   "metadata": {},
   "outputs": [],
   "source": []
  },
  {
   "cell_type": "code",
   "execution_count": 179,
   "id": "9fda84e3",
   "metadata": {},
   "outputs": [
    {
     "name": "stdout",
     "output_type": "stream",
     "text": [
      "[x >= 0,\n",
      " x <= 20,\n",
      " y >= 0,\n",
      " y <= 20,\n",
      " 0 +\n",
      " If(x - 2 >= 0, x - 2, -(x - 2)) +\n",
      " If(y - 18 >= 0, y - 18, -(y - 18)) >\n",
      " 7,\n",
      " 0 +\n",
      " If(x - 9 >= 0, x - 9, -(x - 9)) +\n",
      " If(y - 16 >= 0, y - 16, -(y - 16)) >\n",
      " 1,\n",
      " 0 +\n",
      " If(x - 13 >= 0, x - 13, -(x - 13)) +\n",
      " If(y - 2 >= 0, y - 2, -(y - 2)) >\n",
      " 3,\n",
      " 0 +\n",
      " If(x - 12 >= 0, x - 12, -(x - 12)) +\n",
      " If(y - 14 >= 0, y - 14, -(y - 14)) >\n",
      " 4,\n",
      " 0 +\n",
      " If(x - 10 >= 0, x - 10, -(x - 10)) +\n",
      " If(y - 20 >= 0, y - 20, -(y - 20)) >\n",
      " 4,\n",
      " 0 +\n",
      " If(x - 14 >= 0, x - 14, -(x - 14)) +\n",
      " If(y - 17 >= 0, y - 17, -(y - 17)) >\n",
      " 5,\n",
      " 0 +\n",
      " If(x - 8 >= 0, x - 8, -(x - 8)) +\n",
      " If(y - 7 >= 0, y - 7, -(y - 7)) >\n",
      " 9,\n",
      " 0 +\n",
      " If(x - 2 >= 0, x - 2, -(x - 2)) +\n",
      " If(y - 0 >= 0, y - 0, -(y - 0)) >\n",
      " 10,\n",
      " 0 +\n",
      " If(x - 0 >= 0, x - 0, -(x - 0)) +\n",
      " If(y - 11 >= 0, y - 11, -(y - 11)) >\n",
      " 3,\n",
      " 0 +\n",
      " If(x - 20 >= 0, x - 20, -(x - 20)) +\n",
      " If(y - 14 >= 0, y - 14, -(y - 14)) >\n",
      " 8,\n",
      " 0 +\n",
      " If(x - 17 >= 0, x - 17, -(x - 17)) +\n",
      " If(y - 20 >= 0, y - 20, -(y - 20)) >\n",
      " 6,\n",
      " 0 +\n",
      " If(x - 16 >= 0, x - 16, -(x - 16)) +\n",
      " If(y - 7 >= 0, y - 7, -(y - 7)) >\n",
      " 5,\n",
      " 0 +\n",
      " If(x - 14 >= 0, x - 14, -(x - 14)) +\n",
      " If(y - 3 >= 0, y - 3, -(y - 3)) >\n",
      " 1,\n",
      " 0 +\n",
      " If(x - 20 >= 0, x - 20, -(x - 20)) +\n",
      " If(y - 1 >= 0, y - 1, -(y - 1)) >\n",
      " 7]\n"
     ]
    },
    {
     "data": {
      "text/plain": [
       "56000011"
      ]
     },
     "execution_count": 179,
     "metadata": {},
     "output_type": "execute_result"
    }
   ],
   "source": [
    "solve_b_smt(sample, 20)"
   ]
  },
  {
   "cell_type": "code",
   "execution_count": 177,
   "id": "456eebe9",
   "metadata": {},
   "outputs": [
    {
     "name": "stdout",
     "output_type": "stream",
     "text": [
      "CPU times: user 32.6 s, sys: 296 ms, total: 32.9 s\n",
      "Wall time: 33.2 s\n"
     ]
    },
    {
     "data": {
      "text/plain": [
       "11583882601918"
      ]
     },
     "execution_count": 177,
     "metadata": {},
     "output_type": "execute_result"
    }
   ],
   "source": [
    "%%time\n",
    "solve_b(data)"
   ]
  },
  {
   "cell_type": "code",
   "execution_count": 149,
   "id": "f7326a35",
   "metadata": {},
   "outputs": [],
   "source": []
  },
  {
   "cell_type": "code",
   "execution_count": 150,
   "id": "bd0bfa17",
   "metadata": {},
   "outputs": [],
   "source": []
  },
  {
   "cell_type": "code",
   "execution_count": 151,
   "id": "1ff86a75",
   "metadata": {},
   "outputs": [],
   "source": [
    "\n",
    "\n",
    "\n",
    "s.add(x <= bounds)"
   ]
  },
  {
   "cell_type": "code",
   "execution_count": 153,
   "id": "847f2b1e",
   "metadata": {},
   "outputs": [],
   "source": []
  },
  {
   "cell_type": "code",
   "execution_count": null,
   "id": "f8f1f26b",
   "metadata": {},
   "outputs": [],
   "source": []
  }
 ],
 "metadata": {
  "kernelspec": {
   "display_name": "Python 3",
   "language": "python",
   "name": "python3"
  },
  "language_info": {
   "codemirror_mode": {
    "name": "ipython",
    "version": 3
   },
   "file_extension": ".py",
   "mimetype": "text/x-python",
   "name": "python",
   "nbconvert_exporter": "python",
   "pygments_lexer": "ipython3",
   "version": "3.8.8"
  }
 },
 "nbformat": 4,
 "nbformat_minor": 5
}
