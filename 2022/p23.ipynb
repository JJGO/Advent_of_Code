{
 "cells": [
  {
   "cell_type": "code",
   "execution_count": 62,
   "id": "b68891c6",
   "metadata": {},
   "outputs": [],
   "source": [
    "from aocd.models import Puzzle\n",
    "\n",
    "\n",
    "def parses(input):\n",
    "    return [ (i,j) for i, line in enumerate(input.strip().split('\\n'))\n",
    "                   for j, c in enumerate(line)\n",
    "                   if c == '#']\n",
    "    \n",
    "\n",
    "puzzle = Puzzle(year=2022, day=23)\n",
    "data = parses(puzzle.input_data)"
   ]
  },
  {
   "cell_type": "code",
   "execution_count": 63,
   "id": "013b2f1f",
   "metadata": {},
   "outputs": [],
   "source": [
    "def visualize(pos):\n",
    "    sx = int(min(z.real for z in pos))\n",
    "    ex = int(max(z.real for z in pos))+1\n",
    "    sy = int(min(z.imag for z in pos))\n",
    "    ey = int(max(z.imag for z in pos))+1\n",
    "    print(sx,ex,sy,ey)\n",
    "    viz = ''\n",
    "    for i in range(sx, ex):\n",
    "        for j in range(sy, ey):\n",
    "            viz += '#' if i+1j*j in pos else '.'\n",
    "        viz += '\\n'\n",
    "    print(viz)\n",
    "        "
   ]
  },
  {
   "cell_type": "code",
   "execution_count": 64,
   "id": "d46a4f5c",
   "metadata": {},
   "outputs": [],
   "source": [
    "sample = parses(\"\"\"\n",
    "....#..\n",
    "..###.#\n",
    "#...#.#\n",
    ".#...##\n",
    "#.###..\n",
    "##.#.##\n",
    ".#..#..\n",
    "\"\"\")"
   ]
  },
  {
   "cell_type": "code",
   "execution_count": 65,
   "id": "8e87251c",
   "metadata": {},
   "outputs": [],
   "source": [
    "# sample = parses(\"\"\".....\n",
    "# ..##.\n",
    "# ..#..\n",
    "# .....\n",
    "# ..##.\n",
    "# .....\n",
    "# \"\"\")"
   ]
  },
  {
   "cell_type": "code",
   "execution_count": 73,
   "id": "105ccfb2",
   "metadata": {},
   "outputs": [],
   "source": [
    "def add(a, b):\n",
    "    return (a[0]+b[0], a[1]+b[1])"
   ]
  },
  {
   "cell_type": "code",
   "execution_count": 77,
   "id": "816f03ca",
   "metadata": {},
   "outputs": [],
   "source": [
    "def simulate(data, steps):\n",
    "    N = len(data)\n",
    "    moves = [\n",
    "        [(-1,0), [(-1,i) for i in (-1,0,1)]],\n",
    "        [(1,0),  [(1,i) for i in (-1,0,1)]],\n",
    "        [(0,-1), [(i,-1) for i in (-1,0,1)]],\n",
    "        [(0,1),  [(i,1) for i in (-1,0,1)]],\n",
    "    ]\n",
    "    surroundings = set(sum([x for _, x in moves], start=[]))\n",
    "    positions = set(data)\n",
    "    steps = range(steps) if steps else itertools.count()\n",
    "    \n",
    "    for n in steps:\n",
    "        tentative = {}\n",
    "        for p in positions:\n",
    "            tentative[p] = p\n",
    "            if all( add(p,dp) not in positions for dp in surroundings):\n",
    "                continue\n",
    "            for i in range(4):\n",
    "                move, condition = moves[(i+n)%4]\n",
    "                if all( add(p,dp) not in positions for dp in condition):\n",
    "                    tentative[p] = add(p, move)\n",
    "                    break\n",
    "        counts = Counter(tentative.values())\n",
    "        new_positions = {p2 if counts[p2] == 1 else p \n",
    "                     for p, p2 in tentative.items()}\n",
    "        if positions == new_positions:\n",
    "            return n+1\n",
    "        positions = new_positions\n",
    "    return positions"
   ]
  },
  {
   "cell_type": "code",
   "execution_count": 78,
   "id": "73071df3",
   "metadata": {},
   "outputs": [
    {
     "data": {
      "text/plain": [
       "20"
      ]
     },
     "execution_count": 78,
     "metadata": {},
     "output_type": "execute_result"
    }
   ],
   "source": [
    "simulate(sample, None)"
   ]
  },
  {
   "cell_type": "code",
   "execution_count": 79,
   "id": "03ed549e",
   "metadata": {},
   "outputs": [
    {
     "name": "stdout",
     "output_type": "stream",
     "text": [
      "CPU times: user 10.3 s, sys: 79.6 ms, total: 10.4 s\n",
      "Wall time: 10.4 s\n"
     ]
    },
    {
     "data": {
      "text/plain": [
       "1036"
      ]
     },
     "execution_count": 79,
     "metadata": {},
     "output_type": "execute_result"
    }
   ],
   "source": [
    "%%time\n",
    "simulate(data, None)"
   ]
  },
  {
   "cell_type": "code",
   "execution_count": null,
   "id": "626248d8",
   "metadata": {},
   "outputs": [],
   "source": []
  },
  {
   "cell_type": "code",
   "execution_count": 66,
   "id": "6313184d",
   "metadata": {},
   "outputs": [],
   "source": [
    "import itertools\n",
    "from collections import Counter\n",
    "\n",
    "def simulate(data, steps):\n",
    "    N = len(data)\n",
    "    moves = [\n",
    "        (-1, [-1,-1+1j,-1-1j]),\n",
    "        (1, [1,1+1j,1-1j]),\n",
    "        (-1j, [-1j,1-1j,-1-1j]),\n",
    "        (1j, [1j,1+1j,-1+1j]),\n",
    "    ]\n",
    "    surroundings = set(sum([x for _, x in moves], start=[]))\n",
    "    positions = { i+j*1j for i,j in data}\n",
    "    steps = range(steps) if steps else itertools.count()\n",
    "\n",
    "    for n in steps:\n",
    "        tentative = {}\n",
    "        for p in positions:\n",
    "            tentative[p] = p\n",
    "            if all( (p+dp) not in positions for dp in surroundings):\n",
    "                continue\n",
    "            for i in range(4):\n",
    "                move, condition = moves[(n+i) % 4]\n",
    "                if all( (p+dp) not in positions for dp in condition ):\n",
    "                    tentative[p] = p+move\n",
    "                    break\n",
    "                    \n",
    "        counts = Counter(tentative.values())\n",
    "        new_positions = {p2 if counts[p2] == 1 else p \n",
    "                     for p, p2 in tentative.items()}\n",
    "        if positions == new_positions:\n",
    "            return n+1\n",
    "        positions = new_positions\n",
    "\n",
    "    return positions        "
   ]
  },
  {
   "cell_type": "code",
   "execution_count": 67,
   "id": "2c40cda2",
   "metadata": {},
   "outputs": [],
   "source": [
    "def solve_a(data):\n",
    "    positions = simulate(data, 10)\n",
    "    sx = int(min(z.real for z in positions))\n",
    "    ex = int(max(z.real for z in positions))+1\n",
    "    sy = int(min(z.imag for z in positions))\n",
    "    ey = int(max(z.imag for z in positions))+1\n",
    "    return (ex-sx)*(ey-sy)-len(data)"
   ]
  },
  {
   "cell_type": "code",
   "execution_count": 68,
   "id": "2cb77fb3",
   "metadata": {},
   "outputs": [
    {
     "data": {
      "text/plain": [
       "(110, 4091)"
      ]
     },
     "execution_count": 68,
     "metadata": {},
     "output_type": "execute_result"
    }
   ],
   "source": [
    "solve_a(sample), solve_a(data)"
   ]
  },
  {
   "cell_type": "code",
   "execution_count": 69,
   "id": "ce8d3cbb",
   "metadata": {},
   "outputs": [],
   "source": [
    "def solve_b(data):\n",
    "    return simulate(data, 0)"
   ]
  },
  {
   "cell_type": "code",
   "execution_count": 71,
   "id": "3880b01a",
   "metadata": {},
   "outputs": [
    {
     "data": {
      "text/plain": [
       "20"
      ]
     },
     "execution_count": 71,
     "metadata": {},
     "output_type": "execute_result"
    }
   ],
   "source": [
    "solve_b(sample)"
   ]
  },
  {
   "cell_type": "code",
   "execution_count": 72,
   "id": "46592dc5",
   "metadata": {},
   "outputs": [
    {
     "name": "stdout",
     "output_type": "stream",
     "text": [
      "CPU times: user 6.63 s, sys: 59.3 ms, total: 6.69 s\n",
      "Wall time: 6.75 s\n"
     ]
    },
    {
     "data": {
      "text/plain": [
       "1036"
      ]
     },
     "execution_count": 72,
     "metadata": {},
     "output_type": "execute_result"
    }
   ],
   "source": [
    "%%time\n",
    "solve_b(data)"
   ]
  },
  {
   "cell_type": "code",
   "execution_count": null,
   "id": "fea7d364",
   "metadata": {},
   "outputs": [],
   "source": []
  },
  {
   "cell_type": "code",
   "execution_count": null,
   "id": "04eebd70",
   "metadata": {},
   "outputs": [],
   "source": []
  },
  {
   "cell_type": "code",
   "execution_count": 124,
   "id": "72fbcb0f",
   "metadata": {},
   "outputs": [],
   "source": [
    "from collections import Counter"
   ]
  },
  {
   "cell_type": "code",
   "execution_count": 125,
   "id": "6785d494",
   "metadata": {},
   "outputs": [],
   "source": [
    "def solve_a(data, rounds=10):\n",
    "    all_ = [1,-1,1j,-1j,1+1j,1-1j,-1+1j,-1-1j]\n",
    "    moves = [\n",
    "        (-1, [-1,-1+1j,-1-1j]),\n",
    "        (1, [1,1+1j,1-1j]),\n",
    "        (-1j, [-1j,1-1j,-1-1j]),\n",
    "        (1j, [1j,1+1j,-1+1j]),\n",
    "    ]\n",
    "    pos = data\n",
    "\n",
    "    for _ in range(rounds):\n",
    "        next_ = {}\n",
    "        for x, d in pos.items():\n",
    "            next_[x] = x\n",
    "            if all(x+neigh not in pos for neigh in all_):\n",
    "                continue\n",
    "            for i in range(4):\n",
    "                move, condition = moves[(d+i)%4]\n",
    "                if all((x+neigh) not in pos for neigh in condition):\n",
    "                    next_[x] = x+move\n",
    "                    break\n",
    "        counts = Counter(next_.values())\n",
    "        new_pos = {}\n",
    "        for x, y in next_.items():\n",
    "            if counts[y] == 1:\n",
    "                new_pos[y] = (pos[x] + 1) % 4\n",
    "            else:\n",
    "                new_pos[x] = (pos[x] + 1) % 4\n",
    "        pos = new_pos\n",
    "    \n",
    "    sx = int(min(z.real for z in pos))\n",
    "    ex = int(max(z.real for z in pos))+1\n",
    "    sy = int(min(z.imag for z in pos))\n",
    "    ey = int(max(z.imag for z in pos))+1\n",
    "    return sum( i+j*1j not in pos for i, j in \n",
    "               itertools.product(range(sx,ex), range(sy,ey)) )"
   ]
  },
  {
   "cell_type": "code",
   "execution_count": null,
   "id": "fede207e",
   "metadata": {},
   "outputs": [],
   "source": []
  },
  {
   "cell_type": "code",
   "execution_count": 131,
   "id": "7d1a9459",
   "metadata": {},
   "outputs": [],
   "source": [
    "import itertools"
   ]
  },
  {
   "cell_type": "code",
   "execution_count": 134,
   "id": "ec8fd968",
   "metadata": {},
   "outputs": [],
   "source": [
    "def solve_b(data, rounds=10):\n",
    "    all_ = [1,-1,1j,-1j,1+1j,1-1j,-1+1j,-1-1j]\n",
    "    moves = [\n",
    "        (-1, [-1,-1+1j,-1-1j]),\n",
    "        (1, [1,1+1j,1-1j]),\n",
    "        (-1j, [-1j,1-1j,-1-1j]),\n",
    "        (1j, [1j,1+1j,-1+1j]),\n",
    "    ]\n",
    "    pos = data\n",
    "\n",
    "    for n in itertools.count(1):\n",
    "        next_ = {}\n",
    "        for x, d in pos.items():\n",
    "            next_[x] = x\n",
    "            if all(x+neigh not in pos for neigh in all_):\n",
    "                continue\n",
    "            for i in range(4):\n",
    "                move, condition = moves[(d+i)%4]\n",
    "                if all((x+neigh) not in pos for neigh in condition):\n",
    "                    next_[x] = x+move\n",
    "                    break\n",
    "        counts = Counter(next_.values())\n",
    "        new_pos = {}\n",
    "        for x, y in next_.items():\n",
    "            if counts[y] == 1:\n",
    "                new_pos[y] = (pos[x] + 1) % 4\n",
    "            else:\n",
    "                new_pos[x] = (pos[x] + 1) % 4\n",
    "        if new_pos.keys() == pos.keys():\n",
    "            return n\n",
    "        pos = new_pos\n",
    "    \n",
    "    sx = int(min(z.real for z in pos))\n",
    "    ex = int(max(z.real for z in pos))+1\n",
    "    sy = int(min(z.imag for z in pos))\n",
    "    ey = int(max(z.imag for z in pos))+1\n",
    "    return sum( i+j*1j not in pos for i, j in \n",
    "               itertools.product(range(sx,ex), range(sy,ey)) )"
   ]
  },
  {
   "cell_type": "code",
   "execution_count": 135,
   "id": "280007d2",
   "metadata": {},
   "outputs": [
    {
     "data": {
      "text/plain": [
       "20"
      ]
     },
     "execution_count": 135,
     "metadata": {},
     "output_type": "execute_result"
    }
   ],
   "source": [
    "solve_b(sample)"
   ]
  },
  {
   "cell_type": "code",
   "execution_count": 136,
   "id": "4ccde9a9",
   "metadata": {},
   "outputs": [
    {
     "data": {
      "text/plain": [
       "1036"
      ]
     },
     "execution_count": 136,
     "metadata": {},
     "output_type": "execute_result"
    }
   ],
   "source": [
    "solve_b(data)"
   ]
  },
  {
   "cell_type": "code",
   "execution_count": null,
   "id": "572fabc0",
   "metadata": {},
   "outputs": [],
   "source": []
  },
  {
   "cell_type": "code",
   "execution_count": null,
   "id": "454e8ed4",
   "metadata": {},
   "outputs": [],
   "source": []
  },
  {
   "cell_type": "code",
   "execution_count": 126,
   "id": "fbf29f49",
   "metadata": {},
   "outputs": [
    {
     "data": {
      "text/plain": [
       "110"
      ]
     },
     "execution_count": 126,
     "metadata": {},
     "output_type": "execute_result"
    }
   ],
   "source": [
    "solve_a(sample)"
   ]
  },
  {
   "cell_type": "code",
   "execution_count": 129,
   "id": "488f9e98",
   "metadata": {},
   "outputs": [
    {
     "data": {
      "text/plain": [
       "4091"
      ]
     },
     "execution_count": 129,
     "metadata": {},
     "output_type": "execute_result"
    }
   ],
   "source": [
    "solve_a(data)"
   ]
  },
  {
   "cell_type": "code",
   "execution_count": 114,
   "id": "e56567bb",
   "metadata": {},
   "outputs": [],
   "source": []
  },
  {
   "cell_type": "code",
   "execution_count": 115,
   "id": "88c92da5",
   "metadata": {},
   "outputs": [],
   "source": []
  },
  {
   "cell_type": "code",
   "execution_count": 116,
   "id": "b0c59fb0",
   "metadata": {},
   "outputs": [],
   "source": []
  },
  {
   "cell_type": "code",
   "execution_count": 117,
   "id": "631e90d2",
   "metadata": {},
   "outputs": [],
   "source": []
  },
  {
   "cell_type": "code",
   "execution_count": 118,
   "id": "c2acad63",
   "metadata": {},
   "outputs": [
    {
     "name": "stdout",
     "output_type": "stream",
     "text": [
      "0 6 0 5\n",
      "..#..\n",
      "....#\n",
      "#....\n",
      "....#\n",
      ".....\n",
      "..#..\n",
      "\n"
     ]
    }
   ],
   "source": [
    "visualize(pos)"
   ]
  },
  {
   "cell_type": "code",
   "execution_count": null,
   "id": "f25faf00",
   "metadata": {},
   "outputs": [],
   "source": []
  },
  {
   "cell_type": "code",
   "execution_count": 4,
   "id": "7f8664e9",
   "metadata": {},
   "outputs": [
    {
     "data": {
      "text/plain": [
       "{(0, 4),\n",
       " (1, 2),\n",
       " (1, 3),\n",
       " (1, 4),\n",
       " (1, 6),\n",
       " (2, 0),\n",
       " (2, 4),\n",
       " (2, 6),\n",
       " (3, 1),\n",
       " (3, 5),\n",
       " (3, 6),\n",
       " (4, 0),\n",
       " (4, 2),\n",
       " (4, 3),\n",
       " (4, 4),\n",
       " (5, 0),\n",
       " (5, 1),\n",
       " (5, 3),\n",
       " (5, 5),\n",
       " (5, 6),\n",
       " (6, 1),\n",
       " (6, 4)}"
      ]
     },
     "execution_count": 4,
     "metadata": {},
     "output_type": "execute_result"
    }
   ],
   "source": [
    "def visualize(positions):"
   ]
  },
  {
   "cell_type": "code",
   "execution_count": null,
   "id": "d320b076",
   "metadata": {},
   "outputs": [],
   "source": []
  }
 ],
 "metadata": {
  "kernelspec": {
   "display_name": "Python 3",
   "language": "python",
   "name": "python3"
  },
  "language_info": {
   "codemirror_mode": {
    "name": "ipython",
    "version": 3
   },
   "file_extension": ".py",
   "mimetype": "text/x-python",
   "name": "python",
   "nbconvert_exporter": "python",
   "pygments_lexer": "ipython3",
   "version": "3.8.8"
  }
 },
 "nbformat": 4,
 "nbformat_minor": 5
}
