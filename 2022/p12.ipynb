{
 "cells": [
  {
   "cell_type": "code",
   "execution_count": 16,
   "metadata": {},
   "outputs": [],
   "source": [
    "from aocd.models import Puzzle\n",
    "\n",
    "puzzle = Puzzle(year=2022, day=12)\n",
    "\n",
    "def parses(input):\n",
    "    start = end = None\n",
    "    elevation = []\n",
    "    for i, line in enumerate(input.strip().split('\\n')):\n",
    "        elevation.append([])\n",
    "        for j, c in enumerate(line):\n",
    "            if c == 'S':\n",
    "                start = (i,j)\n",
    "                c = 'a'\n",
    "            elif c == 'E':\n",
    "                end = (i,j)\n",
    "                c = 'z'\n",
    "            elevation[-1].append(ord(c) - ord('a'))\n",
    "    return elevation, start, end\n",
    "\n",
    "data = parses(puzzle.input_data)"
   ]
  },
  {
   "cell_type": "code",
   "execution_count": 19,
   "metadata": {},
   "outputs": [],
   "source": [
    "sample = parses(\"\"\"Sabqponm\n",
    "abcryxxl\n",
    "accszExk\n",
    "acctuvwj\n",
    "abdefghi\n",
    "\"\"\")"
   ]
  },
  {
   "cell_type": "code",
   "execution_count": 120,
   "metadata": {},
   "outputs": [],
   "source": [
    "from collections import deque\n",
    "def solve_a(data):\n",
    "    elevation, start, end = data\n",
    "    queue = deque([(*start, 0)])\n",
    "    N, M = len(elevation), len(elevation[0])\n",
    "    visited = set()\n",
    "    while queue:\n",
    "        i,j,steps = queue.popleft()\n",
    "        if (i, j) == end:\n",
    "            return steps\n",
    "        for i2, j2 in [(i-1,j), (i+1,j), (i,j-1), (i,j+1)]:\n",
    "            if 0 <= i2 < N and 0 <= j2 < M and (i2, j2) not in visited:\n",
    "                if elevation[i2][j2] - elevation[i][j] <= 1:\n",
    "                    visited.add((i2,j2))\n",
    "                    queue.append((i2,j2, steps+1))\n",
    "                    \n",
    "def solve_b(data):\n",
    "    elevation, start, end = data\n",
    "    queue = deque([(*end, 0)])\n",
    "    N, M = len(elevation), len(elevation[0])\n",
    "    visited = set()\n",
    "    while queue:\n",
    "        i,j,steps = queue.popleft()\n",
    "        if elevation[i][j] == 0:\n",
    "            return steps\n",
    "        for i2, j2 in [(i-1,j), (i+1,j), (i,j-1), (i,j+1)]:\n",
    "            if 0 <= i2 < N and 0 <= j2 < M and (i2, j2) not in visited:\n",
    "                if elevation[i][j] - elevation[i2][j2] <= 1:\n",
    "                    visited.add((i2,j2))\n",
    "                    queue.append((i2,j2, steps+1))"
   ]
  },
  {
   "cell_type": "code",
   "execution_count": 121,
   "metadata": {},
   "outputs": [
    {
     "data": {
      "text/plain": [
       "31"
      ]
     },
     "execution_count": 121,
     "metadata": {},
     "output_type": "execute_result"
    }
   ],
   "source": [
    "solve_a(sample)"
   ]
  },
  {
   "cell_type": "code",
   "execution_count": 122,
   "metadata": {},
   "outputs": [
    {
     "data": {
      "text/plain": [
       "420"
      ]
     },
     "execution_count": 122,
     "metadata": {},
     "output_type": "execute_result"
    }
   ],
   "source": [
    "solve_a(data)"
   ]
  },
  {
   "cell_type": "code",
   "execution_count": 123,
   "metadata": {},
   "outputs": [
    {
     "data": {
      "text/plain": [
       "29"
      ]
     },
     "execution_count": 123,
     "metadata": {},
     "output_type": "execute_result"
    }
   ],
   "source": [
    "solve_b(sample)"
   ]
  },
  {
   "cell_type": "code",
   "execution_count": 124,
   "metadata": {},
   "outputs": [
    {
     "data": {
      "text/plain": [
       "414"
      ]
     },
     "execution_count": 124,
     "metadata": {},
     "output_type": "execute_result"
    }
   ],
   "source": [
    "solve_b(data)"
   ]
  },
  {
   "cell_type": "code",
   "execution_count": null,
   "metadata": {},
   "outputs": [],
   "source": []
  },
  {
   "cell_type": "code",
   "execution_count": 97,
   "metadata": {},
   "outputs": [],
   "source": [
    "from heapq import heappush, heappop\n",
    "def solve_a(data):\n",
    "    elevation, start, end = data\n",
    "    heap = [(0, *start)]\n",
    "    visited = set([start])\n",
    "    N, M = len(elevation), len(elevation[0])\n",
    "    while heap:\n",
    "        steps, i, j = heappop(heap)\n",
    "        if (i, j) == end:\n",
    "            return steps\n",
    "        for i2, j2 in [(i-1,j), (i+1,j), (i,j-1), (i,j+1)]:\n",
    "            if 0 <= i2 < N and 0 <= j2 < M and (i2, j2) not in visited:\n",
    "                if elevation[i2][j2] - elevation[i][j] <= 1:\n",
    "                    visited.add((i2,j2))\n",
    "                    heappush(heap, (steps + 1, i2, j2))                "
   ]
  },
  {
   "cell_type": "code",
   "execution_count": null,
   "metadata": {},
   "outputs": [],
   "source": []
  },
  {
   "cell_type": "code",
   "execution_count": 98,
   "metadata": {},
   "outputs": [
    {
     "data": {
      "text/plain": [
       "31"
      ]
     },
     "execution_count": 98,
     "metadata": {},
     "output_type": "execute_result"
    }
   ],
   "source": [
    "solve_a(sample)"
   ]
  },
  {
   "cell_type": "code",
   "execution_count": 100,
   "metadata": {},
   "outputs": [
    {
     "data": {
      "text/plain": [
       "420"
      ]
     },
     "execution_count": 100,
     "metadata": {},
     "output_type": "execute_result"
    }
   ],
   "source": [
    "solve_a(data)"
   ]
  },
  {
   "cell_type": "code",
   "execution_count": 101,
   "metadata": {},
   "outputs": [],
   "source": [
    "from heapq import heappush, heappop\n",
    "def solve_b(data):\n",
    "    elevation, start, end = data\n",
    "    heap = [(0, *end)]\n",
    "    visited = set([start])\n",
    "    N, M = len(elevation), len(elevation[0])\n",
    "    while heap:\n",
    "        steps, i, j = heappop(heap)\n",
    "        if elevation[i][j] == 0:\n",
    "            return steps\n",
    "        for i2, j2 in [(i-1,j), (i+1,j), (i,j-1), (i,j+1)]:\n",
    "            if 0 <= i2 < N and 0 <= j2 < M and (i2, j2) not in visited:\n",
    "                if elevation[i][j] - elevation[i2][j2] <= 1:\n",
    "                    visited.add((i2,j2))\n",
    "                    heappush(heap, (steps + 1, i2, j2))                "
   ]
  },
  {
   "cell_type": "code",
   "execution_count": 103,
   "metadata": {},
   "outputs": [
    {
     "data": {
      "text/plain": [
       "29"
      ]
     },
     "execution_count": 103,
     "metadata": {},
     "output_type": "execute_result"
    }
   ],
   "source": [
    "solve_b(sample)"
   ]
  },
  {
   "cell_type": "code",
   "execution_count": 104,
   "metadata": {},
   "outputs": [
    {
     "data": {
      "text/plain": [
       "414"
      ]
     },
     "execution_count": 104,
     "metadata": {},
     "output_type": "execute_result"
    }
   ],
   "source": [
    "solve_b(data)"
   ]
  }
 ],
 "metadata": {
  "kernelspec": {
   "display_name": "Python 3",
   "language": "python",
   "name": "python3"
  },
  "language_info": {
   "codemirror_mode": {
    "name": "ipython",
    "version": 3
   },
   "file_extension": ".py",
   "mimetype": "text/x-python",
   "name": "python",
   "nbconvert_exporter": "python",
   "pygments_lexer": "ipython3",
   "version": "3.8.8"
  }
 },
 "nbformat": 4,
 "nbformat_minor": 4
}
