{
 "cells": [
  {
   "cell_type": "code",
   "execution_count": 166,
   "id": "d2029454",
   "metadata": {},
   "outputs": [],
   "source": [
    "from aocd.models import Puzzle\n",
    "\n",
    "puzzle = Puzzle(year=2022, day=20)\n",
    "\n",
    "def parses(input):\n",
    "    return [int(i) for i in input.strip().split('\\n')]\n",
    "data = parses(puzzle.input_data)"
   ]
  },
  {
   "cell_type": "code",
   "execution_count": 6,
   "id": "7e77697a",
   "metadata": {},
   "outputs": [],
   "source": [
    "sample = parses('1\\n2\\n-3\\n3\\n-2\\n0\\n4')"
   ]
  },
  {
   "cell_type": "code",
   "execution_count": 379,
   "id": "c66e879a",
   "metadata": {},
   "outputs": [],
   "source": [
    "from collections import deque\n"
   ]
  },
  {
   "cell_type": "code",
   "execution_count": 404,
   "id": "1d281c02",
   "metadata": {},
   "outputs": [],
   "source": [
    "q = deque([1,2,3])"
   ]
  },
  {
   "cell_type": "code",
   "execution_count": 405,
   "id": "a0f3e373",
   "metadata": {},
   "outputs": [],
   "source": [
    "q.rotate(0)"
   ]
  },
  {
   "cell_type": "code",
   "execution_count": 406,
   "id": "44a05e75",
   "metadata": {},
   "outputs": [
    {
     "data": {
      "text/plain": [
       "deque([1, 2, 3])"
      ]
     },
     "execution_count": 406,
     "metadata": {},
     "output_type": "execute_result"
    }
   ],
   "source": [
    "q"
   ]
  },
  {
   "cell_type": "code",
   "execution_count": 384,
   "id": "1678b93b",
   "metadata": {},
   "outputs": [],
   "source": [
    "q.rotate(-q.index(2))"
   ]
  },
  {
   "cell_type": "code",
   "execution_count": 385,
   "id": "7901859f",
   "metadata": {},
   "outputs": [
    {
     "data": {
      "text/plain": [
       "deque([2, 3, 1])"
      ]
     },
     "execution_count": 385,
     "metadata": {},
     "output_type": "execute_result"
    }
   ],
   "source": [
    "q"
   ]
  },
  {
   "cell_type": "code",
   "execution_count": 386,
   "id": "79583bbf",
   "metadata": {},
   "outputs": [
    {
     "data": {
      "text/plain": [
       "0.0"
      ]
     },
     "execution_count": 386,
     "metadata": {},
     "output_type": "execute_result"
    }
   ],
   "source": [
    "1j.real"
   ]
  },
  {
   "cell_type": "code",
   "execution_count": 417,
   "id": "f38c8434",
   "metadata": {},
   "outputs": [],
   "source": [
    "from collections import deque\n",
    "def mix_queue(data, rounds):\n",
    "    N = len(data)\n",
    "    values = [(n,i) for i,n in enumerate(data)]\n",
    "    queue = deque(values)\n",
    "    for _ in range(rounds):\n",
    "        for val in values:\n",
    "            j = queue.index(val)\n",
    "            queue.rotate(-j)\n",
    "            n, i = queue.popleft()\n",
    "            moves = n % (N-1)\n",
    "            queue.rotate(-moves)\n",
    "            queue.append((n,i))\n",
    "    for i, (n,_) in enumerate(queue):\n",
    "        if n == 0:\n",
    "            break\n",
    "    return sum(queue[(i+1000*j)%N][0] for j in range(1,4))\n",
    "            "
   ]
  },
  {
   "cell_type": "code",
   "execution_count": 420,
   "id": "15bfc9c2",
   "metadata": {},
   "outputs": [
    {
     "data": {
      "text/plain": [
       "9945"
      ]
     },
     "execution_count": 420,
     "metadata": {},
     "output_type": "execute_result"
    }
   ],
   "source": [
    "mix_queue(data,1)"
   ]
  },
  {
   "cell_type": "code",
   "execution_count": 419,
   "id": "69d66eb9",
   "metadata": {},
   "outputs": [
    {
     "data": {
      "text/plain": [
       "2"
      ]
     },
     "execution_count": 419,
     "metadata": {},
     "output_type": "execute_result"
    }
   ],
   "source": []
  },
  {
   "cell_type": "code",
   "execution_count": null,
   "id": "b757d151",
   "metadata": {},
   "outputs": [],
   "source": []
  },
  {
   "cell_type": "code",
   "execution_count": 373,
   "id": "33375d45",
   "metadata": {},
   "outputs": [],
   "source": [
    "def mix_indices(data, rounds):\n",
    "    N = len(data)\n",
    "    indices = list(range(N))\n",
    "    \n",
    "    for _ in range(rounds):\n",
    "        for i in range(N):\n",
    "            current_pos = indices.index(i)\n",
    "            indices.pop(current_pos)\n",
    "            next_pos = ((current_pos+data[i]) % (N-1))\n",
    "            indices.insert(next_pos, i)\n",
    "    j = indices.index(data.index(0))\n",
    "    return sum( data[indices[(j+1000*i)%N]] for i in range(1,4))\n",
    "\n",
    "def solve_a(data):\n",
    "    return mix_indices(data, 1)\n",
    "\n",
    "def solve_b(data):\n",
    "    data = [i*811589153 for i in data]\n",
    "    return mix_indices(data, 10)"
   ]
  },
  {
   "cell_type": "code",
   "execution_count": 377,
   "id": "39accfd4",
   "metadata": {},
   "outputs": [],
   "source": []
  },
  {
   "cell_type": "code",
   "execution_count": 378,
   "id": "99249608",
   "metadata": {},
   "outputs": [
    {
     "data": {
      "text/plain": [
       "3338877775442"
      ]
     },
     "execution_count": 378,
     "metadata": {},
     "output_type": "execute_result"
    }
   ],
   "source": [
    "solve_b(data)"
   ]
  },
  {
   "cell_type": "code",
   "execution_count": 369,
   "id": "c1e74e3d",
   "metadata": {},
   "outputs": [
    {
     "data": {
      "text/plain": [
       "9945"
      ]
     },
     "execution_count": 369,
     "metadata": {},
     "output_type": "execute_result"
    }
   ],
   "source": [
    "mix(data,1)"
   ]
  },
  {
   "cell_type": "code",
   "execution_count": 367,
   "id": "6f7e6d93",
   "metadata": {},
   "outputs": [
    {
     "data": {
      "text/plain": [
       "3"
      ]
     },
     "execution_count": 367,
     "metadata": {},
     "output_type": "execute_result"
    }
   ],
   "source": [
    "mix(sample,1)"
   ]
  },
  {
   "cell_type": "code",
   "execution_count": 363,
   "id": "6df00574",
   "metadata": {},
   "outputs": [
    {
     "data": {
      "text/plain": [
       "3"
      ]
     },
     "execution_count": 363,
     "metadata": {},
     "output_type": "execute_result"
    }
   ],
   "source": [
    "coordinates(mix(sample,1))"
   ]
  },
  {
   "cell_type": "code",
   "execution_count": 368,
   "id": "413282c1",
   "metadata": {},
   "outputs": [
    {
     "ename": "AttributeError",
     "evalue": "'int' object has no attribute 'index'",
     "output_type": "error",
     "traceback": [
      "\u001b[0;31m---------------------------------------------------------------------------\u001b[0m",
      "\u001b[0;31mAttributeError\u001b[0m                            Traceback (most recent call last)",
      "\u001b[0;32m<ipython-input-368-29a6ed88af4e>\u001b[0m in \u001b[0;36m<module>\u001b[0;34m\u001b[0m\n\u001b[0;32m----> 1\u001b[0;31m \u001b[0mcoordinates\u001b[0m\u001b[0;34m(\u001b[0m\u001b[0mmix\u001b[0m\u001b[0;34m(\u001b[0m\u001b[0mdata\u001b[0m\u001b[0;34m,\u001b[0m\u001b[0;36m1\u001b[0m\u001b[0;34m)\u001b[0m\u001b[0;34m)\u001b[0m\u001b[0;34m\u001b[0m\u001b[0;34m\u001b[0m\u001b[0m\n\u001b[0m",
      "\u001b[0;32m<ipython-input-361-6a6b89521242>\u001b[0m in \u001b[0;36mcoordinates\u001b[0;34m(data)\u001b[0m\n\u001b[1;32m      1\u001b[0m \u001b[0;32mdef\u001b[0m \u001b[0mcoordinates\u001b[0m\u001b[0;34m(\u001b[0m\u001b[0mdata\u001b[0m\u001b[0;34m)\u001b[0m\u001b[0;34m:\u001b[0m\u001b[0;34m\u001b[0m\u001b[0;34m\u001b[0m\u001b[0m\n\u001b[0;32m----> 2\u001b[0;31m     \u001b[0mj\u001b[0m \u001b[0;34m=\u001b[0m \u001b[0mdata\u001b[0m\u001b[0;34m.\u001b[0m\u001b[0mindex\u001b[0m\u001b[0;34m(\u001b[0m\u001b[0;36m0\u001b[0m\u001b[0;34m)\u001b[0m\u001b[0;34m\u001b[0m\u001b[0;34m\u001b[0m\u001b[0m\n\u001b[0m\u001b[1;32m      3\u001b[0m     \u001b[0;32mreturn\u001b[0m \u001b[0msum\u001b[0m\u001b[0;34m(\u001b[0m\u001b[0mdata\u001b[0m\u001b[0;34m[\u001b[0m\u001b[0;34m(\u001b[0m\u001b[0mj\u001b[0m\u001b[0;34m+\u001b[0m\u001b[0;36m1000\u001b[0m\u001b[0;34m*\u001b[0m\u001b[0mi\u001b[0m\u001b[0;34m)\u001b[0m\u001b[0;34m%\u001b[0m\u001b[0mlen\u001b[0m\u001b[0;34m(\u001b[0m\u001b[0mdata\u001b[0m\u001b[0;34m)\u001b[0m\u001b[0;34m]\u001b[0m \u001b[0;32mfor\u001b[0m \u001b[0mi\u001b[0m \u001b[0;32min\u001b[0m \u001b[0mrange\u001b[0m\u001b[0;34m(\u001b[0m\u001b[0;36m1\u001b[0m\u001b[0;34m,\u001b[0m\u001b[0;36m4\u001b[0m\u001b[0;34m)\u001b[0m\u001b[0;34m)\u001b[0m\u001b[0;34m\u001b[0m\u001b[0;34m\u001b[0m\u001b[0m\n",
      "\u001b[0;31mAttributeError\u001b[0m: 'int' object has no attribute 'index'"
     ]
    }
   ],
   "source": [
    "coordinates(mix(data,1))"
   ]
  },
  {
   "cell_type": "code",
   "execution_count": null,
   "id": "f79006d8",
   "metadata": {},
   "outputs": [],
   "source": []
  },
  {
   "cell_type": "code",
   "execution_count": 349,
   "id": "dc396bf3",
   "metadata": {},
   "outputs": [],
   "source": [
    "a = [10,20,30]"
   ]
  },
  {
   "cell_type": "code",
   "execution_count": 350,
   "id": "f90de8a1",
   "metadata": {},
   "outputs": [
    {
     "data": {
      "text/plain": [
       "10"
      ]
     },
     "execution_count": 350,
     "metadata": {},
     "output_type": "execute_result"
    }
   ],
   "source": [
    "a.pop(0)"
   ]
  },
  {
   "cell_type": "code",
   "execution_count": 351,
   "id": "c77ce2a8",
   "metadata": {},
   "outputs": [
    {
     "data": {
      "text/plain": [
       "[20, 30]"
      ]
     },
     "execution_count": 351,
     "metadata": {},
     "output_type": "execute_result"
    }
   ],
   "source": [
    "a"
   ]
  },
  {
   "cell_type": "code",
   "execution_count": 352,
   "id": "062144e5",
   "metadata": {},
   "outputs": [],
   "source": [
    "a.insert(1,10)"
   ]
  },
  {
   "cell_type": "code",
   "execution_count": 353,
   "id": "ab1fc17b",
   "metadata": {},
   "outputs": [
    {
     "data": {
      "text/plain": [
       "[20, 10, 30]"
      ]
     },
     "execution_count": 353,
     "metadata": {},
     "output_type": "execute_result"
    }
   ],
   "source": [
    "a"
   ]
  },
  {
   "cell_type": "code",
   "execution_count": null,
   "id": "9afb5c60",
   "metadata": {},
   "outputs": [],
   "source": []
  },
  {
   "cell_type": "code",
   "execution_count": null,
   "id": "e85397b2",
   "metadata": {},
   "outputs": [],
   "source": []
  },
  {
   "cell_type": "code",
   "execution_count": 311,
   "id": "3e5a4b96",
   "metadata": {},
   "outputs": [],
   "source": [
    "class ListNode:    \n",
    "    def __init__(self, val, next=None, prev=None):\n",
    "        self.val = val\n",
    "        self.next = next\n",
    "        self.prev = prev\n",
    "    def __repr__(self):\n",
    "        return repr((self.prev.val, self.val, self.next.val))\n",
    "    \n",
    "    def __eq__(self, other):\n",
    "        return repr(self) == repr(other)\n",
    "    \n",
    "    def print(node):\n",
    "        l = [node.val]\n",
    "        first = node\n",
    "        while True:\n",
    "            node = node.next\n",
    "            if node == first:\n",
    "                break\n",
    "            l.append(node.val)\n",
    "        print(l)"
   ]
  },
  {
   "cell_type": "code",
   "execution_count": 326,
   "id": "fef9be3e",
   "metadata": {},
   "outputs": [],
   "source": [
    "def mix(data, rounds):\n",
    "    class ListNode:    \n",
    "    def __init__(self, val, next=None, prev=None):\n",
    "        self.val = val\n",
    "        self.next = next\n",
    "        self.prev = prev\n",
    "        \n",
    "    N = len(data)\n",
    "    nodes = [ListNode(i) for i in data]\n",
    "    for i, _ in enumerate(data):\n",
    "        nodes[i].next = nodes[(i+1)%N]\n",
    "        nodes[i].prev = nodes[i-1]\n",
    "        \n",
    "    for _ in range(rounds):\n",
    "        for n in nodes:\n",
    "            steps = (n.val % (N-1))\n",
    "            if steps == 0: \n",
    "                continue\n",
    "            dst = n\n",
    "            for _ in range(steps):\n",
    "                dst = dst.next\n",
    "            # 8 pointers need to be changed\n",
    "            # patch n out\n",
    "            n.prev.next, n.next.prev = n.next, n.prev\n",
    "            dst_next = dst.next \n",
    "            dst.next, dst_next.prev = n, n\n",
    "            n.prev, n.next = dst, dst_next\n",
    "\n",
    "    #compute coords\n",
    "    for node in nodes:\n",
    "        if node.val == 0:\n",
    "            break\n",
    "    total = 0\n",
    "    for i in range(1,3001):\n",
    "        node = node.next\n",
    "        if i % 1000 == 0:\n",
    "            total += node.val\n",
    "    return total\n",
    "    "
   ]
  },
  {
   "cell_type": "code",
   "execution_count": 328,
   "id": "c0f3d99e",
   "metadata": {},
   "outputs": [],
   "source": [
    "def coordinates(nodes):\n",
    "    for node in nodes:\n",
    "        if node.val == 0:\n",
    "            break\n",
    "    total = 0\n",
    "    for i in range(1,3001):\n",
    "        node = node.next\n",
    "        if i % 1000 == 0:\n",
    "            total += node.val\n",
    "    return total"
   ]
  },
  {
   "cell_type": "code",
   "execution_count": 329,
   "id": "7f53412f",
   "metadata": {},
   "outputs": [],
   "source": [
    "def solve_a(data):\n",
    "    return coordinates(mix(data,1))\n",
    "        "
   ]
  },
  {
   "cell_type": "code",
   "execution_count": 330,
   "id": "50d85d58",
   "metadata": {},
   "outputs": [
    {
     "data": {
      "text/plain": [
       "9945"
      ]
     },
     "execution_count": 330,
     "metadata": {},
     "output_type": "execute_result"
    }
   ],
   "source": [
    "solve_a(data)"
   ]
  },
  {
   "cell_type": "code",
   "execution_count": 331,
   "id": "6465a99d",
   "metadata": {},
   "outputs": [],
   "source": [
    "def solve_b(data):\n",
    "    data = [i*811589153 for i in data]\n",
    "    return coordinates(mix(data,10))"
   ]
  },
  {
   "cell_type": "code",
   "execution_count": 332,
   "id": "2dc4878a",
   "metadata": {},
   "outputs": [
    {
     "data": {
      "text/plain": [
       "1623178306"
      ]
     },
     "execution_count": 332,
     "metadata": {},
     "output_type": "execute_result"
    }
   ],
   "source": [
    "solve_b(sample)"
   ]
  },
  {
   "cell_type": "code",
   "execution_count": 333,
   "id": "fe5bcb73",
   "metadata": {},
   "outputs": [
    {
     "data": {
      "text/plain": [
       "3338877775442"
      ]
     },
     "execution_count": 333,
     "metadata": {},
     "output_type": "execute_result"
    }
   ],
   "source": [
    "solve_b(data)"
   ]
  },
  {
   "cell_type": "code",
   "execution_count": null,
   "id": "22894eb5",
   "metadata": {},
   "outputs": [],
   "source": []
  },
  {
   "cell_type": "code",
   "execution_count": 305,
   "id": "1270939d",
   "metadata": {},
   "outputs": [],
   "source": [
    "def mix(data, verbose=False):\n",
    "    N = len(data)\n",
    "    nodes = [ListNode(i) for i in data]\n",
    "    for i, _ in enumerate(data):\n",
    "        nodes[i].next = nodes[(i+1)%N]\n",
    "        nodes[i].prev = nodes[i-1]\n",
    "    for n in nodes:        \n",
    "        for _ in range(abs(n.val)):\n",
    "            if n.val > 0:\n",
    "                dst = n.next\n",
    "                n_prev, dst_next = n.prev, dst.next\n",
    "                n.prev, n.next = dst, dst_next\n",
    "                dst.prev, dst.next = n_prev, n\n",
    "                n_prev.next, dst_next.prev = dst, n\n",
    "            else:\n",
    "                dst = n.prev\n",
    "                n_next, dst_prev = n.next, dst.prev\n",
    "                n.prev, n.next = dst_prev, dst\n",
    "                dst.prev, dst.next = n, n_next\n",
    "                n_next.prev, dst_prev.next = dst, n\n",
    "    return nodes\n",
    "    \n",
    "        "
   ]
  },
  {
   "cell_type": "code",
   "execution_count": 306,
   "id": "2a8a5804",
   "metadata": {},
   "outputs": [
    {
     "name": "stdout",
     "output_type": "stream",
     "text": [
      "[1, 2, -3, 3, -2, 0, 4]\n",
      "1\n",
      "[(2, 1, -3), (4, 2, 1), (1, -3, 3), (-3, 3, -2), (3, -2, 0), (-2, 0, 4), (0, 4, 2)]\n",
      "[1, -3, 3, -2, 0, 4, 2]\n",
      "2\n",
      "[(4, 1, -3), (-3, 2, 3), (1, -3, 2), (2, 3, -2), (3, -2, 0), (-2, 0, 4), (0, 4, 1)]\n",
      "[1, -3, 2, 3, -2, 0, 4]\n",
      "-3\n",
      "[(4, 1, 2), (1, 2, 3), (-2, -3, 0), (2, 3, -2), (3, -2, -3), (-3, 0, 4), (0, 4, 1)]\n",
      "[1, 2, 3, -2, -3, 0, 4]\n",
      "3\n",
      "[(4, 1, 2), (1, 2, -2), (-2, -3, 0), (0, 3, 4), (2, -2, -3), (-3, 0, 3), (3, 4, 1)]\n",
      "[1, 2, -2, -3, 0, 3, 4]\n",
      "-2\n",
      "[(-2, 1, 2), (1, 2, -3), (2, -3, 0), (0, 3, 4), (4, -2, 1), (-3, 0, 3), (3, 4, -2)]\n",
      "[1, 2, -3, 0, 3, 4, -2]\n",
      "0\n",
      "[(-2, 1, 2), (1, 2, -3), (2, -3, 0), (0, 3, 4), (4, -2, 1), (-3, 0, 3), (3, 4, -2)]\n",
      "[1, 2, -3, 0, 3, 4, -2]\n",
      "4\n",
      "[(-2, 1, 2), (1, 2, -3), (2, -3, 4), (0, 3, -2), (3, -2, 1), (4, 0, 3), (-3, 4, 0)]\n",
      "[1, 2, -3, 4, 0, 3, -2]\n"
     ]
    },
    {
     "data": {
      "text/plain": [
       "[(-2, 1, 2),\n",
       " (1, 2, -3),\n",
       " (2, -3, 4),\n",
       " (0, 3, -2),\n",
       " (3, -2, 1),\n",
       " (4, 0, 3),\n",
       " (-3, 4, 0)]"
      ]
     },
     "execution_count": 306,
     "metadata": {},
     "output_type": "execute_result"
    }
   ],
   "source": [
    "mix(sample, True)"
   ]
  },
  {
   "cell_type": "code",
   "execution_count": 307,
   "id": "a8ecdda5",
   "metadata": {},
   "outputs": [
    {
     "data": {
      "text/plain": [
       "3"
      ]
     },
     "execution_count": 307,
     "metadata": {},
     "output_type": "execute_result"
    }
   ],
   "source": [
    "solve_a(sample)"
   ]
  },
  {
   "cell_type": "code",
   "execution_count": 309,
   "id": "7d15c0c0",
   "metadata": {},
   "outputs": [
    {
     "data": {
      "text/plain": [
       "9945"
      ]
     },
     "execution_count": 309,
     "metadata": {},
     "output_type": "execute_result"
    }
   ],
   "source": [
    "solve_a(data)"
   ]
  },
  {
   "cell_type": "code",
   "execution_count": null,
   "id": "7e960039",
   "metadata": {},
   "outputs": [],
   "source": []
  },
  {
   "cell_type": "code",
   "execution_count": 308,
   "id": "0b5cf6a9",
   "metadata": {},
   "outputs": [
    {
     "data": {
      "text/plain": [
       "[(3, 1, 2), (1, 2, 3), (2, 3, 1)]"
      ]
     },
     "execution_count": 308,
     "metadata": {},
     "output_type": "execute_result"
    }
   ],
   "source": [
    "mix([1,2,3])"
   ]
  },
  {
   "cell_type": "code",
   "execution_count": null,
   "id": "56e75558",
   "metadata": {},
   "outputs": [],
   "source": []
  },
  {
   "cell_type": "code",
   "execution_count": 266,
   "id": "9961369d",
   "metadata": {},
   "outputs": [
    {
     "name": "stdout",
     "output_type": "stream",
     "text": [
      "1\n",
      "[1]\n",
      "2\n",
      "[1]\n"
     ]
    },
    {
     "data": {
      "text/plain": [
       "[(2, 1, 1), (2, 2, 2)]"
      ]
     },
     "execution_count": 266,
     "metadata": {},
     "output_type": "execute_result"
    }
   ],
   "source": [
    "mix([1,2])"
   ]
  },
  {
   "cell_type": "code",
   "execution_count": 262,
   "id": "47f58b21",
   "metadata": {},
   "outputs": [],
   "source": [
    "s1 = np.arange(1,10).tolist()"
   ]
  },
  {
   "cell_type": "code",
   "execution_count": 263,
   "id": "96edb5c2",
   "metadata": {},
   "outputs": [
    {
     "data": {
      "text/plain": [
       "[1, 2, 3, 4, 5, 6, 7, 8, 9]"
      ]
     },
     "execution_count": 263,
     "metadata": {},
     "output_type": "execute_result"
    }
   ],
   "source": [
    "s1"
   ]
  },
  {
   "cell_type": "code",
   "execution_count": null,
   "id": "8ac13bda",
   "metadata": {},
   "outputs": [],
   "source": []
  },
  {
   "cell_type": "code",
   "execution_count": 12,
   "id": "6869f2fd",
   "metadata": {},
   "outputs": [
    {
     "data": {
      "text/plain": [
       "array([ 2, -3,  3, -2,  0,  4,  1])"
      ]
     },
     "execution_count": 12,
     "metadata": {},
     "output_type": "execute_result"
    }
   ],
   "source": [
    "np.roll(sample, -1)"
   ]
  },
  {
   "cell_type": "code",
   "execution_count": 17,
   "id": "159c6299",
   "metadata": {},
   "outputs": [
    {
     "data": {
      "text/plain": [
       "iinfo(min=-32768, max=32767, dtype=int16)"
      ]
     },
     "execution_count": 17,
     "metadata": {},
     "output_type": "execute_result"
    }
   ],
   "source": [
    "np.iinfo(np.int16)"
   ]
  },
  {
   "cell_type": "code",
   "execution_count": 21,
   "id": "395489e0",
   "metadata": {},
   "outputs": [
    {
     "data": {
      "text/plain": [
       "array([ 9192,  9640, -1159, ...,  1182,  1707,  2813])"
      ]
     },
     "execution_count": 21,
     "metadata": {},
     "output_type": "execute_result"
    }
   ],
   "source": [
    "np.array(data)"
   ]
  },
  {
   "cell_type": "code",
   "execution_count": 267,
   "id": "e269f0bd",
   "metadata": {},
   "outputs": [],
   "source": []
  },
  {
   "cell_type": "code",
   "execution_count": 189,
   "id": "0a6a4063",
   "metadata": {},
   "outputs": [],
   "source": []
  },
  {
   "cell_type": "code",
   "execution_count": 265,
   "id": "3809cf51",
   "metadata": {},
   "outputs": [],
   "source": []
  },
  {
   "cell_type": "code",
   "execution_count": 257,
   "id": "69c61ea0",
   "metadata": {},
   "outputs": [],
   "source": []
  },
  {
   "cell_type": "code",
   "execution_count": 258,
   "id": "7c9f984d",
   "metadata": {},
   "outputs": [
    {
     "data": {
      "text/plain": [
       "3"
      ]
     },
     "execution_count": 258,
     "metadata": {},
     "output_type": "execute_result"
    }
   ],
   "source": [
    "solve_a(sample)"
   ]
  },
  {
   "cell_type": "code",
   "execution_count": 259,
   "id": "311682eb",
   "metadata": {},
   "outputs": [
    {
     "data": {
      "text/plain": [
       "-19628"
      ]
     },
     "execution_count": 259,
     "metadata": {},
     "output_type": "execute_result"
    }
   ],
   "source": [
    "solve_a(data)"
   ]
  },
  {
   "cell_type": "code",
   "execution_count": null,
   "id": "cc83920c",
   "metadata": {},
   "outputs": [],
   "source": []
  },
  {
   "cell_type": "code",
   "execution_count": 94,
   "id": "6460a37f",
   "metadata": {},
   "outputs": [
    {
     "data": {
      "text/plain": [
       "3530"
      ]
     },
     "execution_count": 94,
     "metadata": {},
     "output_type": "execute_result"
    }
   ],
   "source": [
    "solve_a(data)"
   ]
  },
  {
   "cell_type": "code",
   "execution_count": 96,
   "id": "cac5c2dc",
   "metadata": {},
   "outputs": [
    {
     "ename": "AttributeError",
     "evalue": "'numpy.ndarray' object has no attribute 'where'",
     "output_type": "error",
     "traceback": [
      "\u001b[0;31m---------------------------------------------------------------------------\u001b[0m",
      "\u001b[0;31mAttributeError\u001b[0m                            Traceback (most recent call last)",
      "\u001b[0;32m<ipython-input-96-ffe07d95c0d9>\u001b[0m in \u001b[0;36m<module>\u001b[0;34m\u001b[0m\n\u001b[0;32m----> 1\u001b[0;31m \u001b[0mnp\u001b[0m\u001b[0;34m.\u001b[0m\u001b[0marange\u001b[0m\u001b[0;34m(\u001b[0m\u001b[0;36m12\u001b[0m\u001b[0;34m)\u001b[0m\u001b[0;34m.\u001b[0m\u001b[0mwhere\u001b[0m\u001b[0;34m(\u001b[0m\u001b[0;36m3\u001b[0m\u001b[0;34m)\u001b[0m\u001b[0;34m\u001b[0m\u001b[0;34m\u001b[0m\u001b[0m\n\u001b[0m",
      "\u001b[0;31mAttributeError\u001b[0m: 'numpy.ndarray' object has no attribute 'where'"
     ]
    }
   ],
   "source": [
    "np.arange(12"
   ]
  },
  {
   "cell_type": "code",
   "execution_count": 136,
   "id": "083488e4",
   "metadata": {},
   "outputs": [
    {
     "data": {
      "text/plain": [
       "array([ 1,  2,  3,  4,  5,  6,  7,  8,  9, 10, 11,  0])"
      ]
     },
     "execution_count": 136,
     "metadata": {},
     "output_type": "execute_result"
    }
   ],
   "source": [
    "np.roll(np.arange(12),-1)"
   ]
  },
  {
   "cell_type": "code",
   "execution_count": 177,
   "id": "f8150b35",
   "metadata": {},
   "outputs": [],
   "source": [
    "def mix(data):\n",
    "    N = len(data)\n",
    "    values = np.array(data, dtype=np.int32)\n",
    "    order = data.copy()\n",
    "#     print(values)\n",
    "    for v in order:\n",
    "        if v == 0: continue\n",
    "        print(v, np.where(values==v))\n",
    "        i = np.where(values==v)[0].item()\n",
    "\n",
    "        j = (i + v) % N if v > 0 else (i+v-1) % N\n",
    "#         print(v,i,j)\n",
    "        if j > i:\n",
    "#             print(values[i:j+1])\n",
    "            values[i:j+1] = np.roll(values[i:j+1], -1)\n",
    "        if j < i:\n",
    "#             print(values[j:i+1])\n",
    "            values[j+1:i+1] = np.roll(values[j+1:i+1], 1)\n",
    "        \n",
    "#         k = np.where(values==1)[0].item()\n",
    "#         print(np.roll(values, -k))\n",
    "#         print(values)\n",
    "    return values"
   ]
  },
  {
   "cell_type": "code",
   "execution_count": 178,
   "id": "9e05764f",
   "metadata": {},
   "outputs": [],
   "source": [
    "def solve_a(data):\n",
    "    N = len(data)\n",
    "    values = mix(data)\n",
    "    print(np.where(values==0))\n",
    "    j = np.where(values==0)[0].item()\n",
    "    return sum((values[(j+1000*i)%N] for i in range(1,4)))"
   ]
  },
  {
   "cell_type": "code",
   "execution_count": 179,
   "id": "c6c6a8ef",
   "metadata": {},
   "outputs": [
    {
     "name": "stdout",
     "output_type": "stream",
     "text": [
      "1 (array([0]),)\n",
      "2 (array([0]),)\n",
      "-3 (array([1]),)\n",
      "3 (array([2]),)\n",
      "-2 (array([2]),)\n",
      "4 (array([5]),)\n"
     ]
    },
    {
     "data": {
      "text/plain": [
       "array([ 1,  2, -3,  4,  0,  3, -2], dtype=int32)"
      ]
     },
     "execution_count": 179,
     "metadata": {},
     "output_type": "execute_result"
    }
   ],
   "source": [
    "mix(sample)"
   ]
  },
  {
   "cell_type": "code",
   "execution_count": 180,
   "id": "7a054f10",
   "metadata": {},
   "outputs": [
    {
     "name": "stdout",
     "output_type": "stream",
     "text": [
      "1 (array([0]),)\n",
      "2 (array([0]),)\n",
      "-3 (array([1]),)\n",
      "3 (array([2]),)\n",
      "-2 (array([2]),)\n",
      "4 (array([5]),)\n",
      "(array([4]),)\n"
     ]
    },
    {
     "data": {
      "text/plain": [
       "3"
      ]
     },
     "execution_count": 180,
     "metadata": {},
     "output_type": "execute_result"
    }
   ],
   "source": [
    "solve_a(sample)"
   ]
  },
  {
   "cell_type": "code",
   "execution_count": 181,
   "id": "78fd1b2c",
   "metadata": {},
   "outputs": [
    {
     "name": "stdout",
     "output_type": "stream",
     "text": [
      "9192 (array([ 0, 98]),)\n"
     ]
    },
    {
     "ename": "ValueError",
     "evalue": "can only convert an array of size 1 to a Python scalar",
     "output_type": "error",
     "traceback": [
      "\u001b[0;31m---------------------------------------------------------------------------\u001b[0m",
      "\u001b[0;31mValueError\u001b[0m                                Traceback (most recent call last)",
      "\u001b[0;32m<ipython-input-181-96c8effa4b48>\u001b[0m in \u001b[0;36m<module>\u001b[0;34m\u001b[0m\n\u001b[0;32m----> 1\u001b[0;31m \u001b[0msolve_a\u001b[0m\u001b[0;34m(\u001b[0m\u001b[0mdata\u001b[0m\u001b[0;34m)\u001b[0m\u001b[0;34m\u001b[0m\u001b[0;34m\u001b[0m\u001b[0m\n\u001b[0m",
      "\u001b[0;32m<ipython-input-178-acbfd729af7c>\u001b[0m in \u001b[0;36msolve_a\u001b[0;34m(data)\u001b[0m\n\u001b[1;32m      1\u001b[0m \u001b[0;32mdef\u001b[0m \u001b[0msolve_a\u001b[0m\u001b[0;34m(\u001b[0m\u001b[0mdata\u001b[0m\u001b[0;34m)\u001b[0m\u001b[0;34m:\u001b[0m\u001b[0;34m\u001b[0m\u001b[0;34m\u001b[0m\u001b[0m\n\u001b[1;32m      2\u001b[0m     \u001b[0mN\u001b[0m \u001b[0;34m=\u001b[0m \u001b[0mlen\u001b[0m\u001b[0;34m(\u001b[0m\u001b[0mdata\u001b[0m\u001b[0;34m)\u001b[0m\u001b[0;34m\u001b[0m\u001b[0;34m\u001b[0m\u001b[0m\n\u001b[0;32m----> 3\u001b[0;31m     \u001b[0mvalues\u001b[0m \u001b[0;34m=\u001b[0m \u001b[0mmix\u001b[0m\u001b[0;34m(\u001b[0m\u001b[0mdata\u001b[0m\u001b[0;34m)\u001b[0m\u001b[0;34m\u001b[0m\u001b[0;34m\u001b[0m\u001b[0m\n\u001b[0m\u001b[1;32m      4\u001b[0m     \u001b[0mprint\u001b[0m\u001b[0;34m(\u001b[0m\u001b[0mnp\u001b[0m\u001b[0;34m.\u001b[0m\u001b[0mwhere\u001b[0m\u001b[0;34m(\u001b[0m\u001b[0mvalues\u001b[0m\u001b[0;34m==\u001b[0m\u001b[0;36m0\u001b[0m\u001b[0;34m)\u001b[0m\u001b[0;34m)\u001b[0m\u001b[0;34m\u001b[0m\u001b[0;34m\u001b[0m\u001b[0m\n\u001b[1;32m      5\u001b[0m     \u001b[0mj\u001b[0m \u001b[0;34m=\u001b[0m \u001b[0mnp\u001b[0m\u001b[0;34m.\u001b[0m\u001b[0mwhere\u001b[0m\u001b[0;34m(\u001b[0m\u001b[0mvalues\u001b[0m\u001b[0;34m==\u001b[0m\u001b[0;36m0\u001b[0m\u001b[0;34m)\u001b[0m\u001b[0;34m[\u001b[0m\u001b[0;36m0\u001b[0m\u001b[0;34m]\u001b[0m\u001b[0;34m.\u001b[0m\u001b[0mitem\u001b[0m\u001b[0;34m(\u001b[0m\u001b[0;34m)\u001b[0m\u001b[0;34m\u001b[0m\u001b[0;34m\u001b[0m\u001b[0m\n",
      "\u001b[0;32m<ipython-input-177-40cd4691b5bf>\u001b[0m in \u001b[0;36mmix\u001b[0;34m(data)\u001b[0m\n\u001b[1;32m      7\u001b[0m         \u001b[0;32mif\u001b[0m \u001b[0mv\u001b[0m \u001b[0;34m==\u001b[0m \u001b[0;36m0\u001b[0m\u001b[0;34m:\u001b[0m \u001b[0;32mcontinue\u001b[0m\u001b[0;34m\u001b[0m\u001b[0;34m\u001b[0m\u001b[0m\n\u001b[1;32m      8\u001b[0m         \u001b[0mprint\u001b[0m\u001b[0;34m(\u001b[0m\u001b[0mv\u001b[0m\u001b[0;34m,\u001b[0m \u001b[0mnp\u001b[0m\u001b[0;34m.\u001b[0m\u001b[0mwhere\u001b[0m\u001b[0;34m(\u001b[0m\u001b[0mvalues\u001b[0m\u001b[0;34m==\u001b[0m\u001b[0mv\u001b[0m\u001b[0;34m)\u001b[0m\u001b[0;34m)\u001b[0m\u001b[0;34m\u001b[0m\u001b[0;34m\u001b[0m\u001b[0m\n\u001b[0;32m----> 9\u001b[0;31m         \u001b[0mi\u001b[0m \u001b[0;34m=\u001b[0m \u001b[0mnp\u001b[0m\u001b[0;34m.\u001b[0m\u001b[0mwhere\u001b[0m\u001b[0;34m(\u001b[0m\u001b[0mvalues\u001b[0m\u001b[0;34m==\u001b[0m\u001b[0mv\u001b[0m\u001b[0;34m)\u001b[0m\u001b[0;34m[\u001b[0m\u001b[0;36m0\u001b[0m\u001b[0;34m]\u001b[0m\u001b[0;34m.\u001b[0m\u001b[0mitem\u001b[0m\u001b[0;34m(\u001b[0m\u001b[0;34m)\u001b[0m\u001b[0;34m\u001b[0m\u001b[0;34m\u001b[0m\u001b[0m\n\u001b[0m\u001b[1;32m     10\u001b[0m \u001b[0;34m\u001b[0m\u001b[0m\n\u001b[1;32m     11\u001b[0m         \u001b[0mj\u001b[0m \u001b[0;34m=\u001b[0m \u001b[0;34m(\u001b[0m\u001b[0mi\u001b[0m \u001b[0;34m+\u001b[0m \u001b[0mv\u001b[0m\u001b[0;34m)\u001b[0m \u001b[0;34m%\u001b[0m \u001b[0mN\u001b[0m \u001b[0;32mif\u001b[0m \u001b[0mv\u001b[0m \u001b[0;34m>\u001b[0m \u001b[0;36m0\u001b[0m \u001b[0;32melse\u001b[0m \u001b[0;34m(\u001b[0m\u001b[0mi\u001b[0m\u001b[0;34m+\u001b[0m\u001b[0mv\u001b[0m\u001b[0;34m-\u001b[0m\u001b[0;36m1\u001b[0m\u001b[0;34m)\u001b[0m \u001b[0;34m%\u001b[0m \u001b[0mN\u001b[0m\u001b[0;34m\u001b[0m\u001b[0;34m\u001b[0m\u001b[0m\n",
      "\u001b[0;31mValueError\u001b[0m: can only convert an array of size 1 to a Python scalar"
     ]
    }
   ],
   "source": [
    "solve_a(data)"
   ]
  },
  {
   "cell_type": "code",
   "execution_count": 182,
   "id": "e603866e",
   "metadata": {},
   "outputs": [
    {
     "data": {
      "text/plain": [
       "2"
      ]
     },
     "execution_count": 182,
     "metadata": {},
     "output_type": "execute_result"
    }
   ],
   "source": [
    "sum(( i == 9192 for i in data))"
   ]
  },
  {
   "cell_type": "code",
   "execution_count": 22,
   "id": "a2a7d402",
   "metadata": {},
   "outputs": [],
   "source": [
    "# def solve_a(data):\n",
    "#     data = np.array(data, dtype=np.int16)\n",
    "#     order = data.copy()\n",
    "#     for i in order:\n",
    "#         j = np.where(data == i)\n",
    "#         k = j + i\n",
    "        "
   ]
  },
  {
   "cell_type": "code",
   "execution_count": null,
   "id": "f8d8f36f",
   "metadata": {},
   "outputs": [],
   "source": []
  }
 ],
 "metadata": {
  "kernelspec": {
   "display_name": "Python 3",
   "language": "python",
   "name": "python3"
  },
  "language_info": {
   "codemirror_mode": {
    "name": "ipython",
    "version": 3
   },
   "file_extension": ".py",
   "mimetype": "text/x-python",
   "name": "python",
   "nbconvert_exporter": "python",
   "pygments_lexer": "ipython3",
   "version": "3.8.8"
  }
 },
 "nbformat": 4,
 "nbformat_minor": 5
}
