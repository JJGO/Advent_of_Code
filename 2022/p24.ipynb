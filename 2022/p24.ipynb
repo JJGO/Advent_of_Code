{
 "cells": [
  {
   "cell_type": "code",
   "execution_count": 189,
   "id": "2ed957d8",
   "metadata": {},
   "outputs": [],
   "source": [
    "from aocd.models import Puzzle\n",
    "\n",
    "\n",
    "def parses(input):\n",
    "    input = [list(line) for line in input.strip().split()]\n",
    "    return input\n",
    "    \n",
    "\n",
    "puzzle = Puzzle(year=2022, day=24)\n",
    "data = parses(puzzle.input_data)"
   ]
  },
  {
   "cell_type": "code",
   "execution_count": 190,
   "id": "7ad838cb",
   "metadata": {},
   "outputs": [],
   "source": [
    "sample = parses(\"\"\"#.######\n",
    "#>>.<^<#\n",
    "#.<..<<#\n",
    "#>v.><>#\n",
    "#<^v^^>#\n",
    "######.#\"\"\")"
   ]
  },
  {
   "cell_type": "code",
   "execution_count": 152,
   "id": "3b3f3353",
   "metadata": {},
   "outputs": [],
   "source": [
    "def add(a, b):\n",
    "    return (a[0]+b[0], a[1]+b[1])\n",
    "\n",
    "def manhattan(a, b):\n",
    "    return abs(a[0]-b[0]) + abs(a[1]-b[1])"
   ]
  },
  {
   "cell_type": "code",
   "execution_count": 153,
   "id": "c85fffae",
   "metadata": {},
   "outputs": [],
   "source": [
    "from heapq import heappop, heappush"
   ]
  },
  {
   "cell_type": "code",
   "execution_count": 154,
   "id": "6af67ca1",
   "metadata": {},
   "outputs": [],
   "source": [
    "def precompute_blizzard(data):\n",
    "    directions = np.array([(0,1),(0,-1),(1,0),(-1,0)])\n",
    "    inside = np.array(data)[1:-1,1:-1]\n",
    "    H, W = len(inside), len(inside[0])\n",
    "    winds_init = []\n",
    "    winds_dir = []\n",
    "    for i, c in enumerate('><v^'):\n",
    "        loc = np.argwhere(inside == c)\n",
    "        winds_init.append(loc)\n",
    "        winds_dir.append(np.broadcast_to(directions[i],(len(loc),2)))\n",
    "    winds_init = np.vstack(winds_init)\n",
    "    winds_dir = np.vstack(winds_dir)\n",
    "\n",
    "    T = np.lcm(H,W)\n",
    "    clear = []\n",
    "    for t in range(T):\n",
    "        winds_t = (winds_init + t * winds_dir) % np.array((H, W))\n",
    "        clear.append(\n",
    "            set([(x,y) for x in range(H) for y in range(W)]) -\n",
    "            set([(x,y) for x,y in winds_t])\n",
    "        )\n",
    "    return clear, (H, W)"
   ]
  },
  {
   "cell_type": "code",
   "execution_count": 159,
   "id": "9709195f",
   "metadata": {},
   "outputs": [],
   "source": [
    "# def solve_a(data):\n",
    "#     directions = [(0,1),(0,-1),(1,0),(-1,0)]\n",
    "#     clear, (H, W) = precompute_blizzard(data)\n",
    "    \n",
    "#     start = -1, data[0].index('.') - 1\n",
    "#     end = H, data[-1].index('.') - 1\n",
    "    \n",
    "#     visited = set([(start,)])\n",
    "    \n",
    "#     heap = [(manhattan(start, end), (start,))]\n",
    "    \n",
    "#     while heap:\n",
    "# #         print(heap[-1])\n",
    "#         cost, path = heappop(heap)\n",
    "#         t = len(path) % len(clear)\n",
    "#         *_, pos = path\n",
    "        \n",
    "#         for d in directions:\n",
    "#             next_pos = add(pos, d)\n",
    "#             if next_pos == end:\n",
    "# #                 return len(path) + 1\n",
    "#                 return path\n",
    "#             if next_pos in clear[t]:\n",
    "#                 new_path = path+(next_pos,)\n",
    "#                 new_cost = len(new_path)+manhattan(next_pos, end)\n",
    "#                 new_state = (new_cost, new_path )\n",
    "#                 if new_state not in visited:\n",
    "#                     visited.add(new_state)\n",
    "#                     heappush(heap, new_state)\n",
    "            \n",
    "#         # wait\n",
    "#         new_path = path+(pos,)\n",
    "#         heappush(heap, (cost+1, new_path))"
   ]
  },
  {
   "cell_type": "code",
   "execution_count": 160,
   "id": "2509d03a",
   "metadata": {},
   "outputs": [],
   "source": [
    "def solve_a(data):\n",
    "    directions = [(0,1),(0,-1),(1,0),(-1,0), (0,0)]\n",
    "    clear, (H, W) = precompute_blizzard(data)\n",
    "    \n",
    "    start = -1, data[0].index('.') - 1\n",
    "    end = H, data[-1].index('.') - 1\n",
    "    \n",
    "    visited = set()\n",
    "    \n",
    "    heap = [(manhattan(start, end), start, 0)]\n",
    "    T = len(clear)\n",
    "    \n",
    "    while heap:\n",
    "        cost, pos, t = heappop(heap)\n",
    "        \n",
    "        for d in directions:\n",
    "            next_pos = add(pos, d)\n",
    "            if next_pos == end:\n",
    "                return t+1\n",
    "            if next_pos in clear[(t+1) % T]:\n",
    "                new_cost = t+1+manhattan(next_pos, end)\n",
    "                new_state = (new_cost, next_pos, t+1)\n",
    "                if new_state not in visited:\n",
    "                    visited.add(new_state)\n",
    "                    heappush(heap, new_state)"
   ]
  },
  {
   "cell_type": "code",
   "execution_count": 161,
   "id": "efc110bc",
   "metadata": {},
   "outputs": [
    {
     "data": {
      "text/plain": [
       "18"
      ]
     },
     "execution_count": 161,
     "metadata": {},
     "output_type": "execute_result"
    }
   ],
   "source": [
    "solve_a(sample)"
   ]
  },
  {
   "cell_type": "code",
   "execution_count": 162,
   "id": "0eb1249a",
   "metadata": {},
   "outputs": [
    {
     "data": {
      "text/plain": [
       "260"
      ]
     },
     "execution_count": 162,
     "metadata": {},
     "output_type": "execute_result"
    }
   ],
   "source": [
    "solve_a(data)"
   ]
  },
  {
   "cell_type": "code",
   "execution_count": 167,
   "id": "069cbdf2",
   "metadata": {},
   "outputs": [],
   "source": [
    "def solve_b(data):\n",
    "\n",
    "    directions = [(0,1),(0,-1),(1,0),(-1,0), (0,0)]\n",
    "    clear, (H, W) = precompute_blizzard(data)\n",
    "    \n",
    "\n",
    "    \n",
    "    start = -1, data[0].index('.') - 1\n",
    "    end = H, data[-1].index('.') - 1\n",
    "    \n",
    "    for clear_t in clear:\n",
    "        clear_t |= set([start, end])\n",
    "        \n",
    "    T = len(clear)\n",
    "    \n",
    "    def fastest(start, end, offset):\n",
    "        visited = set()\n",
    "\n",
    "        heap = [(manhattan(start, end), start, 0)]\n",
    "\n",
    "        while heap:\n",
    "            cost, pos, t = heappop(heap)\n",
    "\n",
    "            for d in directions:\n",
    "                next_pos = add(pos, d)\n",
    "                if next_pos == end:\n",
    "                    return t+1\n",
    "                if next_pos in clear[(t+1+offset) % T]:\n",
    "                    new_cost = t+1+manhattan(next_pos, end)\n",
    "                    new_state = (new_cost, next_pos, t+1)\n",
    "                    if new_state not in visited:\n",
    "                        visited.add(new_state)\n",
    "                        heappush(heap, new_state)\n",
    "    \n",
    "    t1 = fastest(start, end, 0)\n",
    "    t2 = fastest(end, start, t1)\n",
    "    t3 = fastest(start, end, t1+t2)\n",
    "    \n",
    "    return t1+t2+t3"
   ]
  },
  {
   "cell_type": "code",
   "execution_count": 168,
   "id": "e45b19aa",
   "metadata": {},
   "outputs": [
    {
     "data": {
      "text/plain": [
       "54"
      ]
     },
     "execution_count": 168,
     "metadata": {},
     "output_type": "execute_result"
    }
   ],
   "source": [
    "solve_b(sample)"
   ]
  },
  {
   "cell_type": "code",
   "execution_count": 169,
   "id": "639da046",
   "metadata": {},
   "outputs": [
    {
     "name": "stdout",
     "output_type": "stream",
     "text": [
      "CPU times: user 4.09 s, sys: 98.3 ms, total: 4.19 s\n",
      "Wall time: 4.21 s\n"
     ]
    },
    {
     "data": {
      "text/plain": [
       "747"
      ]
     },
     "execution_count": 169,
     "metadata": {},
     "output_type": "execute_result"
    }
   ],
   "source": [
    "%%time\n",
    "solve_b(data)"
   ]
  },
  {
   "cell_type": "code",
   "execution_count": 170,
   "id": "1847bc79",
   "metadata": {},
   "outputs": [
    {
     "name": "stdout",
     "output_type": "stream",
     "text": [
      "CPU times: user 3.11 s, sys: 81.2 ms, total: 3.19 s\n",
      "Wall time: 3.21 s\n"
     ]
    }
   ],
   "source": [
    "%%time\n",
    "clear, (H, W) = precompute_blizzard(data)"
   ]
  },
  {
   "cell_type": "code",
   "execution_count": 50,
   "id": "9b9288a9",
   "metadata": {},
   "outputs": [],
   "source": [
    "# np.lcm(H,W)"
   ]
  },
  {
   "cell_type": "code",
   "execution_count": 191,
   "id": "defc5179",
   "metadata": {},
   "outputs": [],
   "source": []
  },
  {
   "cell_type": "code",
   "execution_count": 192,
   "id": "a921416b",
   "metadata": {},
   "outputs": [],
   "source": [
    "# start, end, clear_rows, clear_cols, H, W = precompute_blizzard(sample)"
   ]
  },
  {
   "cell_type": "code",
   "execution_count": 193,
   "id": "0a42ba22",
   "metadata": {},
   "outputs": [],
   "source": [
    "# sorted(clear_rows.items())"
   ]
  },
  {
   "cell_type": "code",
   "execution_count": 194,
   "id": "f4f244c6",
   "metadata": {},
   "outputs": [],
   "source": [
    "# sorted(clear_cols.items())"
   ]
  },
  {
   "cell_type": "code",
   "execution_count": 195,
   "id": "68c5ccb9",
   "metadata": {},
   "outputs": [],
   "source": [
    "# viz = ''\n",
    "# offset, t = 0, 9\n",
    "# for r in range(-1,H+1):\n",
    "#     for c in range(-1,W+1):\n",
    "\n",
    "        \n",
    "#         if empty_col and empty_row:\n",
    "#             viz += '.'\n",
    "#         else:\n",
    "#             viz += '#'\n",
    "#     viz += '\\n'\n",
    "# print(viz)"
   ]
  },
  {
   "cell_type": "code",
   "execution_count": 201,
   "id": "cf7480fd",
   "metadata": {},
   "outputs": [],
   "source": [
    "def precompute_blizzard(data):\n",
    "\n",
    "    \n",
    "    return start, end, dict(clear_rows), dict(clear_cols), H, W"
   ]
  },
  {
   "cell_type": "code",
   "execution_count": 220,
   "id": "14879bdc",
   "metadata": {},
   "outputs": [],
   "source": [
    "def solve(data, part):\n",
    "    # precompute positions without blizzard at each timestep t\n",
    "    # We decompose vertical and horizontal blizzards separately\n",
    "    # so we don't have to deal with LCM(H,W) period but with\n",
    "    # H and W separately\n",
    "    directions = np.array([(1,0),(-1,0),(0,1),(0,-1)])\n",
    "    inside = np.array(data)[1:-1,1:-1]\n",
    "    H, W = len(inside), len(inside[0])\n",
    "\n",
    "    clear_cols = defaultdict(lambda: set(range(W))) # index r, t\n",
    "    clear_rows = defaultdict(lambda: set(range(H))) # index c, t\n",
    "    \n",
    "    start = -1, data[0].index('.') - 1\n",
    "    end = H, data[-1].index('.') - 1\n",
    "    for i, c in enumerate('v^><'):\n",
    "        winds_init = np.argwhere(inside == c)\n",
    "\n",
    "        if i < 2:\n",
    "            for t in range(H):\n",
    "                for r, c in winds_init + t * directions[i]:      \n",
    "                    clear_rows[c,t].discard(r%H)\n",
    "        else:\n",
    "            for t in range(W):\n",
    "                for r, c in winds_init + t * directions[i]:      \n",
    "                    clear_cols[r,t].discard(c%W)\n",
    "\n",
    "    for r, c in (start, end):\n",
    "        for t in range(W):     \n",
    "            clear_cols[r, t] = set([c])\n",
    "        for t in range(H):\n",
    "            clear_rows[c, t] |= set([r])\n",
    "    clear_rows, clear_cols = dict(clear_rows), dict(clear_cols)\n",
    "    \n",
    "    \n",
    "    ## Perform A* three times\n",
    "    directions = [(0,1),(0,-1),(1,0),(-1,0),(0,0)] # add no-op\n",
    "\n",
    "    def fastest(start, end, offset):\n",
    "        visited = set((start, 0))\n",
    "\n",
    "        heap = [(manhattan(start, end), start, 0)]\n",
    "\n",
    "        while heap:\n",
    "            cost, pos, t = heappop(heap)\n",
    "\n",
    "            for d in directions:\n",
    "                next_pos = add(pos, d)\n",
    "                if next_pos == end:\n",
    "                    return t+1\n",
    "                r, c = next_pos\n",
    "                tr = (t+1+offset)%H\n",
    "                tc = (t+1+offset)%W\n",
    "                empty_row = (c,tr) in clear_rows and r in clear_rows[c,tr] \n",
    "                empty_col = (r,tc) in clear_cols and c in clear_cols[r,tc]\n",
    "                if empty_row and empty_col:\n",
    "                    new_cost = t+1+manhattan(next_pos, end)\n",
    "                    new_state = (new_cost, next_pos, t+1)\n",
    "                    if (next_pos, t+1) not in visited:\n",
    "                        visited.add((next_pos, t+1))\n",
    "                        heappush(heap, new_state)\n",
    "    \n",
    "    t1 = fastest(start, end, 0)\n",
    "    if part == 'a':\n",
    "        return t1\n",
    "    elif part == 'b':\n",
    "        t2 = fastest(end, start, t1)\n",
    "        t3 = fastest(start, end, t1+t2)\n",
    "\n",
    "        return t1 + t2 + t3"
   ]
  },
  {
   "cell_type": "code",
   "execution_count": 230,
   "id": "40f0d448",
   "metadata": {},
   "outputs": [
    {
     "data": {
      "text/plain": [
       "18"
      ]
     },
     "execution_count": 230,
     "metadata": {},
     "output_type": "execute_result"
    }
   ],
   "source": [
    "solve(sample, 'a')"
   ]
  },
  {
   "cell_type": "code",
   "execution_count": 231,
   "id": "a53421d8",
   "metadata": {},
   "outputs": [
    {
     "data": {
      "text/plain": [
       "54"
      ]
     },
     "execution_count": 231,
     "metadata": {},
     "output_type": "execute_result"
    }
   ],
   "source": [
    "solve(sample, 'b')"
   ]
  },
  {
   "cell_type": "code",
   "execution_count": 232,
   "id": "b01574d7",
   "metadata": {},
   "outputs": [
    {
     "data": {
      "text/plain": [
       "260"
      ]
     },
     "execution_count": 232,
     "metadata": {},
     "output_type": "execute_result"
    }
   ],
   "source": [
    "solve(data, 'a')"
   ]
  },
  {
   "cell_type": "code",
   "execution_count": 233,
   "id": "2c7fc295",
   "metadata": {},
   "outputs": [
    {
     "name": "stdout",
     "output_type": "stream",
     "text": [
      "CPU times: user 3.73 s, sys: 31.1 ms, total: 3.76 s\n",
      "Wall time: 3.79 s\n"
     ]
    },
    {
     "data": {
      "text/plain": [
       "747"
      ]
     },
     "execution_count": 233,
     "metadata": {},
     "output_type": "execute_result"
    }
   ],
   "source": [
    "%%time\n",
    "solve(data, 'b')"
   ]
  },
  {
   "cell_type": "code",
   "execution_count": null,
   "id": "2398d43f",
   "metadata": {},
   "outputs": [],
   "source": []
  },
  {
   "cell_type": "code",
   "execution_count": 197,
   "id": "1524cacf",
   "metadata": {},
   "outputs": [
    {
     "data": {
      "text/plain": [
       "(18, 23, 13, 54)"
      ]
     },
     "execution_count": 197,
     "metadata": {},
     "output_type": "execute_result"
    }
   ],
   "source": [
    "solve_b(sample)"
   ]
  },
  {
   "cell_type": "code",
   "execution_count": 187,
   "id": "7bfb78ba",
   "metadata": {},
   "outputs": [
    {
     "name": "stdout",
     "output_type": "stream",
     "text": [
      "CPU times: user 2.2 s, sys: 28.3 ms, total: 2.23 s\n",
      "Wall time: 2.24 s\n"
     ]
    },
    {
     "data": {
      "text/plain": [
       "(260, 239, 248, 747)"
      ]
     },
     "execution_count": 187,
     "metadata": {},
     "output_type": "execute_result"
    }
   ],
   "source": [
    "%%time\n",
    "solve_b(data)"
   ]
  },
  {
   "cell_type": "code",
   "execution_count": 188,
   "id": "9be08e01",
   "metadata": {},
   "outputs": [
    {
     "name": "stdout",
     "output_type": "stream",
     "text": [
      "CPU times: user 310 ms, sys: 6.56 ms, total: 316 ms\n",
      "Wall time: 314 ms\n"
     ]
    }
   ],
   "source": [
    "%%time\n",
    "_ = precompute_blizzard(data)"
   ]
  },
  {
   "cell_type": "code",
   "execution_count": 227,
   "id": "ce32d43d",
   "metadata": {},
   "outputs": [],
   "source": [
    "from collections import deque"
   ]
  },
  {
   "cell_type": "code",
   "execution_count": 229,
   "id": "d9110af9",
   "metadata": {},
   "outputs": [],
   "source": [
    "def solve(data, part):\n",
    "    # precompute positions without blizzard at each timestep t\n",
    "    # We decompose vertical and horizontal blizzards separately\n",
    "    # so we don't have to deal with LCM(H,W) period but with\n",
    "    # H and W separately\n",
    "    directions = np.array([(1,0),(-1,0),(0,1),(0,-1)])\n",
    "    inside = np.array(data)[1:-1,1:-1]\n",
    "    H, W = len(inside), len(inside[0])\n",
    "\n",
    "    clear_cols = defaultdict(lambda: set(range(W))) # index r, t\n",
    "    clear_rows = defaultdict(lambda: set(range(H))) # index c, t\n",
    "    \n",
    "    start = -1, data[0].index('.') - 1\n",
    "    end = H, data[-1].index('.') - 1\n",
    "    for i, c in enumerate('v^><'):\n",
    "        winds_init = np.argwhere(inside == c)\n",
    "\n",
    "        if i < 2:\n",
    "            for t in range(H):\n",
    "                for r, c in winds_init + t * directions[i]:      \n",
    "                    clear_rows[c,t].discard(r%H)\n",
    "        else:\n",
    "            for t in range(W):\n",
    "                for r, c in winds_init + t * directions[i]:      \n",
    "                    clear_cols[r,t].discard(c%W)\n",
    "\n",
    "    for r, c in (start, end):\n",
    "        for t in range(W):     \n",
    "            clear_cols[r, t] = set([c])\n",
    "        for t in range(H):\n",
    "            clear_rows[c, t] |= set([r])\n",
    "    clear_rows, clear_cols = dict(clear_rows), dict(clear_cols)\n",
    "    \n",
    "    \n",
    "    ## Perform A* three times\n",
    "    directions = [(0,1),(0,-1),(1,0),(-1,0),(0,0)] # add no-op\n",
    "\n",
    "    def fastest(start, end, offset):\n",
    "        visited = set((start, 0))\n",
    "\n",
    "        queue = deque([(manhattan(start, end), start, 0)])\n",
    "\n",
    "        while queue:\n",
    "            cost, pos, t = queue.popleft()\n",
    "\n",
    "            for d in directions:\n",
    "                next_pos = add(pos, d)\n",
    "                if next_pos == end:\n",
    "                    return t+1\n",
    "                r, c = next_pos\n",
    "                tr = (t+1+offset)%H\n",
    "                tc = (t+1+offset)%W\n",
    "                empty_row = (c,tr) in clear_rows and r in clear_rows[c,tr] \n",
    "                empty_col = (r,tc) in clear_cols and c in clear_cols[r,tc]\n",
    "                if empty_row and empty_col:\n",
    "                    new_cost = t+1+manhattan(next_pos, end)\n",
    "                    new_state = (new_cost, next_pos, t+1)\n",
    "                    if (next_pos, t+1) not in visited:\n",
    "                        visited.add((next_pos, t+1))\n",
    "                        queue.append(new_state)\n",
    "    \n",
    "    t1 = fastest(start, end, 0)\n",
    "    if part == 'a':\n",
    "        return t1\n",
    "    elif part == 'b':\n",
    "        t2 = fastest(end, start, t1)\n",
    "        t3 = fastest(start, end, t1+t2)\n",
    "\n",
    "        return t1 + t2 + t3"
   ]
  },
  {
   "cell_type": "code",
   "execution_count": null,
   "id": "9ef0e213",
   "metadata": {},
   "outputs": [],
   "source": []
  }
 ],
 "metadata": {
  "kernelspec": {
   "display_name": "Python 3",
   "language": "python",
   "name": "python3"
  },
  "language_info": {
   "codemirror_mode": {
    "name": "ipython",
    "version": 3
   },
   "file_extension": ".py",
   "mimetype": "text/x-python",
   "name": "python",
   "nbconvert_exporter": "python",
   "pygments_lexer": "ipython3",
   "version": "3.8.8"
  }
 },
 "nbformat": 4,
 "nbformat_minor": 5
}
