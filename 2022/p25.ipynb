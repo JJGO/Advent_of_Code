{
 "cells": [
  {
   "cell_type": "code",
   "execution_count": 72,
   "id": "243f3dc5",
   "metadata": {},
   "outputs": [],
   "source": [
    "from aocd.models import Puzzle\n",
    "\n",
    "\n",
    "def parses(input):\n",
    "    return input.strip().split('\\n')\n",
    "    \n",
    "\n",
    "puzzle = Puzzle(year=2022, day=25)\n",
    "data = parses(puzzle.input_data)"
   ]
  },
  {
   "cell_type": "code",
   "execution_count": 73,
   "id": "6da7a1b2",
   "metadata": {},
   "outputs": [
    {
     "data": {
      "text/plain": [
       "{-2: '=', 1: '1', 0: '0', 2: '2'}"
      ]
     },
     "execution_count": 73,
     "metadata": {},
     "output_type": "execute_result"
    }
   ],
   "source": [
    "dict(zip((-2,1,0,1,2), '=-0123'))"
   ]
  },
  {
   "cell_type": "code",
   "execution_count": 74,
   "id": "ebf51736",
   "metadata": {},
   "outputs": [],
   "source": [
    "from typing import List"
   ]
  },
  {
   "cell_type": "code",
   "execution_count": 91,
   "id": "eacf1d76",
   "metadata": {},
   "outputs": [],
   "source": [
    "class IntB5:\n",
    "    \n",
    "    VALUES = dict(zip('=-012', (-2,-1,0,1,2)))\n",
    "    CHARS = dict(zip((-2,-1,0,1,2), '=-012'))\n",
    "    \n",
    "    def __init__(self, digits):\n",
    "        self.digits: Tuple[int,...] = tuple(digits)\n",
    "        \n",
    "    @classmethod\n",
    "    def decode(cls, s: str) -> 'IntB5':\n",
    "        return IntB5([cls.VALUES[c] for c in s])\n",
    "    \n",
    "    def encode(self) -> str:\n",
    "        return ''.join(self.CHARS[d] for d in self.digits)\n",
    "    \n",
    "    def __add__(self, other: 'IntB5') -> 'IntB5':\n",
    "        sum_digits = []\n",
    "        carry = 0\n",
    "        for a, b in itertools.zip_longest(reversed(self.digits), \n",
    "                                          reversed(other.digits), \n",
    "                                          fillvalue=0):\n",
    "            s, carry = a+b+carry, 0\n",
    "            if s > 2:\n",
    "                s -= 5\n",
    "                carry += 1\n",
    "            elif s < -2:\n",
    "                s += 5\n",
    "                carry -= 1\n",
    "            sum_digits.append(s)\n",
    "        if carry != 0:\n",
    "            sum_digits.append(carry)\n",
    "        return IntB5(reversed(sum_digits))\n",
    "    \n",
    "    def __repr__(self):\n",
    "        return f'{self.__class__.__name__}({self.digits})'\n",
    "    \n",
    "    def __int__(self):\n",
    "        acc = 0\n",
    "        for d in self.digits:\n",
    "            acc = 5 * acc + d\n",
    "        return acc\n",
    "    \n",
    "    @classmethod\n",
    "    def fromint(cls, x):\n",
    "        digits = []\n",
    "        while x > 0:\n",
    "            # This logic is equivalent to:\n",
    "            # x,r=divmod(x,5) ; if r>2: r-=5; x+=1\n",
    "            x, r = divmod(x+2, 5)\n",
    "            digits.append(r-2)\n",
    "        return IntB5(reversed(digits))"
   ]
  },
  {
   "cell_type": "code",
   "execution_count": 92,
   "id": "1789eb5f",
   "metadata": {},
   "outputs": [],
   "source": [
    "import random"
   ]
  },
  {
   "cell_type": "code",
   "execution_count": 93,
   "id": "36c86c8d",
   "metadata": {},
   "outputs": [],
   "source": [
    "for _ in range(1000):\n",
    "    a = random.randint(0,10_000)\n",
    "    b = random.randint(0,10_000)\n",
    "    a5 = IntB5.fromint(a)\n",
    "    b5 = IntB5.fromint(b)\n",
    "    assert a+b == int( a5+b5 )"
   ]
  },
  {
   "cell_type": "code",
   "execution_count": null,
   "id": "5c418358",
   "metadata": {},
   "outputs": [],
   "source": []
  },
  {
   "cell_type": "code",
   "execution_count": 94,
   "id": "fd7c77ad",
   "metadata": {},
   "outputs": [],
   "source": [
    "sample = parses(\"\"\"1=-0-2\n",
    "12111\n",
    "2=0=\n",
    "21\n",
    "2=01\n",
    "111\n",
    "20012\n",
    "112\n",
    "1=-1=\n",
    "1-12\n",
    "12\n",
    "1=\n",
    "122\"\"\")"
   ]
  },
  {
   "cell_type": "code",
   "execution_count": 95,
   "id": "d6bee8f2",
   "metadata": {},
   "outputs": [],
   "source": [
    "def solve_a(data):\n",
    "    nums = [int(IntB5.decode(x)) for x in data]\n",
    "    return IntB5.fromint(sum(nums)).encode()"
   ]
  },
  {
   "cell_type": "code",
   "execution_count": 96,
   "id": "5ad7f8de",
   "metadata": {},
   "outputs": [
    {
     "data": {
      "text/plain": [
       "'2=-1=0'"
      ]
     },
     "execution_count": 96,
     "metadata": {},
     "output_type": "execute_result"
    }
   ],
   "source": [
    "solve_a(sample)"
   ]
  },
  {
   "cell_type": "code",
   "execution_count": 97,
   "id": "98581194",
   "metadata": {},
   "outputs": [
    {
     "data": {
      "text/plain": [
       "'20-1-0=-2=-2220=0011'"
      ]
     },
     "execution_count": 97,
     "metadata": {},
     "output_type": "execute_result"
    }
   ],
   "source": [
    "solve_a(data)"
   ]
  },
  {
   "cell_type": "code",
   "execution_count": 98,
   "id": "051b825f",
   "metadata": {},
   "outputs": [],
   "source": [
    "def solve_a(data):\n",
    "    return sum(((IntB5.decode(x)) for x in data), start=IntB5((0,))).encode()"
   ]
  },
  {
   "cell_type": "code",
   "execution_count": 99,
   "id": "23b88ac0",
   "metadata": {},
   "outputs": [
    {
     "data": {
      "text/plain": [
       "'2=-1=0'"
      ]
     },
     "execution_count": 99,
     "metadata": {},
     "output_type": "execute_result"
    }
   ],
   "source": [
    "solve_a(sample)"
   ]
  },
  {
   "cell_type": "code",
   "execution_count": 100,
   "id": "a2af7f56",
   "metadata": {},
   "outputs": [
    {
     "data": {
      "text/plain": [
       "'20-1-0=-2=-2220=0011'"
      ]
     },
     "execution_count": 100,
     "metadata": {},
     "output_type": "execute_result"
    }
   ],
   "source": [
    "solve_a(data)"
   ]
  },
  {
   "cell_type": "code",
   "execution_count": 101,
   "id": "3977a40c",
   "metadata": {},
   "outputs": [
    {
     "data": {
      "text/plain": [
       "'1=-0-2'"
      ]
     },
     "execution_count": 101,
     "metadata": {},
     "output_type": "execute_result"
    }
   ],
   "source": [
    "IntB5.fromint(1747).encode()"
   ]
  },
  {
   "cell_type": "code",
   "execution_count": 102,
   "id": "ab768620",
   "metadata": {},
   "outputs": [],
   "source": [
    "x = IntB5.decode('1=-0-2')"
   ]
  },
  {
   "cell_type": "code",
   "execution_count": 103,
   "id": "8f5db6a6",
   "metadata": {},
   "outputs": [
    {
     "data": {
      "text/plain": [
       "1747"
      ]
     },
     "execution_count": 103,
     "metadata": {},
     "output_type": "execute_result"
    }
   ],
   "source": [
    "int(x)"
   ]
  },
  {
   "cell_type": "code",
   "execution_count": 104,
   "id": "3edb8886",
   "metadata": {},
   "outputs": [
    {
     "data": {
      "text/plain": [
       "3494"
      ]
     },
     "execution_count": 104,
     "metadata": {},
     "output_type": "execute_result"
    }
   ],
   "source": [
    "int(x + x)"
   ]
  },
  {
   "cell_type": "code",
   "execution_count": 105,
   "id": "9d050413",
   "metadata": {},
   "outputs": [
    {
     "data": {
      "text/plain": [
       "3494"
      ]
     },
     "execution_count": 105,
     "metadata": {},
     "output_type": "execute_result"
    }
   ],
   "source": [
    "int(IntB5.decode((x+x).encode()))"
   ]
  },
  {
   "cell_type": "code",
   "execution_count": null,
   "id": "5ca69187",
   "metadata": {},
   "outputs": [],
   "source": []
  },
  {
   "cell_type": "code",
   "execution_count": 32,
   "id": "79e42282",
   "metadata": {},
   "outputs": [
    {
     "data": {
      "text/plain": [
       "3494"
      ]
     },
     "execution_count": 32,
     "metadata": {},
     "output_type": "execute_result"
    }
   ],
   "source": [
    "1747 * 2"
   ]
  },
  {
   "cell_type": "code",
   "execution_count": null,
   "id": "d2ea3c3f",
   "metadata": {},
   "outputs": [],
   "source": []
  }
 ],
 "metadata": {
  "kernelspec": {
   "display_name": "Python 3",
   "language": "python",
   "name": "python3"
  },
  "language_info": {
   "codemirror_mode": {
    "name": "ipython",
    "version": 3
   },
   "file_extension": ".py",
   "mimetype": "text/x-python",
   "name": "python",
   "nbconvert_exporter": "python",
   "pygments_lexer": "ipython3",
   "version": "3.8.8"
  }
 },
 "nbformat": 4,
 "nbformat_minor": 5
}
