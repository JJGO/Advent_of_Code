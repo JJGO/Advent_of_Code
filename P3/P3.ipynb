{
 "cells": [
  {
   "cell_type": "markdown",
   "metadata": {},
   "source": [
    "## P3.1"
   ]
  },
  {
   "cell_type": "code",
   "execution_count": 1,
   "metadata": {
    "ExecuteTime": {
     "end_time": "2018-10-18T20:35:59.697723Z",
     "start_time": "2018-10-18T20:35:59.694977Z"
    }
   },
   "outputs": [],
   "source": [
    "puzzle = 368078"
   ]
  },
  {
   "cell_type": "code",
   "execution_count": 36,
   "metadata": {
    "ExecuteTime": {
     "end_time": "2018-10-18T21:02:38.459791Z",
     "start_time": "2018-10-18T21:02:38.457300Z"
    }
   },
   "outputs": [],
   "source": [
    "from math import sqrt, ceil, floor"
   ]
  },
  {
   "cell_type": "code",
   "execution_count": 37,
   "metadata": {
    "ExecuteTime": {
     "end_time": "2018-10-18T21:02:38.683645Z",
     "start_time": "2018-10-18T21:02:38.680502Z"
    }
   },
   "outputs": [],
   "source": [
    "def radius(x):\n",
    "    return ceil(floor(sqrt(x-1))/2)"
   ]
  },
  {
   "cell_type": "code",
   "execution_count": 87,
   "metadata": {
    "ExecuteTime": {
     "end_time": "2018-10-18T21:12:27.137781Z",
     "start_time": "2018-10-18T21:12:27.131806Z"
    }
   },
   "outputs": [],
   "source": [
    "def distance(x):\n",
    "    if x == 1:\n",
    "        return 0\n",
    "    r = ceil(floor(sqrt(x-1))/2)    # Compute the radius, i.e. the square layer we are in\n",
    "    offset = x - (2*r-1)**2-1       # Compute the offset from the last square layer \n",
    "    offset = offset % (2*r)         # Offset is mod 2r since with 90deg the offset is now the same \n",
    "    offset = abs( (r-1) - offset)   # The closest point is at r-1 (same row/column as 1) then symmetric after that\n",
    "    return offset + r"
   ]
  },
  {
   "cell_type": "code",
   "execution_count": 88,
   "metadata": {
    "ExecuteTime": {
     "end_time": "2018-10-18T21:12:28.174217Z",
     "start_time": "2018-10-18T21:12:28.170664Z"
    }
   },
   "outputs": [
    {
     "name": "stdout",
     "output_type": "stream",
     "text": [
      "1 0\n",
      "12 3\n",
      "23 2\n",
      "1024 31\n"
     ]
    }
   ],
   "source": [
    "for i in [1, 12, 23, 1024]:\n",
    "    print(i, distance(i))"
   ]
  },
  {
   "cell_type": "code",
   "execution_count": 89,
   "metadata": {
    "ExecuteTime": {
     "end_time": "2018-10-18T21:12:28.624630Z",
     "start_time": "2018-10-18T21:12:28.619937Z"
    }
   },
   "outputs": [
    {
     "data": {
      "text/plain": [
       "371"
      ]
     },
     "execution_count": 89,
     "metadata": {},
     "output_type": "execute_result"
    }
   ],
   "source": [
    "distance(puzzle)"
   ]
  },
  {
   "cell_type": "code",
   "execution_count": null,
   "metadata": {},
   "outputs": [],
   "source": []
  },
  {
   "cell_type": "markdown",
   "metadata": {},
   "source": [
    "## P3.2"
   ]
  },
  {
   "cell_type": "code",
   "execution_count": 161,
   "metadata": {
    "ExecuteTime": {
     "end_time": "2018-10-18T21:54:14.207180Z",
     "start_time": "2018-10-18T21:54:14.196896Z"
    }
   },
   "outputs": [],
   "source": [
    "def write_spiral():\n",
    "    yield (0,0)\n",
    "    n = 1    \n",
    "    while True:\n",
    "\n",
    "        for k in range(-n+1,n+1):\n",
    "            yield (n, k)\n",
    "        for k in range(n-1,-n-1,-1):\n",
    "            yield (k, n)\n",
    "        for k in range(n-1,-n-1,-1):\n",
    "            yield (-n, k)\n",
    "        for k in range(-n+1,n+1):\n",
    "            yield (k, -n)\n",
    "        n += 1"
   ]
  },
  {
   "cell_type": "code",
   "execution_count": 132,
   "metadata": {
    "ExecuteTime": {
     "end_time": "2018-10-18T21:42:26.042506Z",
     "start_time": "2018-10-18T21:42:26.037005Z"
    }
   },
   "outputs": [],
   "source": [
    "def distance2(n):\n",
    "    g = write_spiral()\n",
    "    x = 0\n",
    "    for i in range(n):\n",
    "        x = next(g)\n",
    "    return np.sum(np.abs(x))"
   ]
  },
  {
   "cell_type": "code",
   "execution_count": 133,
   "metadata": {
    "ExecuteTime": {
     "end_time": "2018-10-18T21:42:31.434471Z",
     "start_time": "2018-10-18T21:42:31.366678Z"
    }
   },
   "outputs": [
    {
     "data": {
      "text/plain": [
       "371"
      ]
     },
     "execution_count": 133,
     "metadata": {},
     "output_type": "execute_result"
    }
   ],
   "source": [
    "distance2(puzzle)"
   ]
  },
  {
   "cell_type": "code",
   "execution_count": null,
   "metadata": {},
   "outputs": [],
   "source": []
  },
  {
   "cell_type": "code",
   "execution_count": 134,
   "metadata": {
    "ExecuteTime": {
     "end_time": "2018-10-18T21:43:56.393939Z",
     "start_time": "2018-10-18T21:43:56.391542Z"
    }
   },
   "outputs": [],
   "source": [
    "from itertools import product"
   ]
  },
  {
   "cell_type": "code",
   "execution_count": 136,
   "metadata": {
    "ExecuteTime": {
     "end_time": "2018-10-18T21:44:52.577387Z",
     "start_time": "2018-10-18T21:44:52.571683Z"
    }
   },
   "outputs": [
    {
     "data": {
      "text/plain": [
       "[(-1, -1), (-1, 0), (-1, 1), (0, -1), (0, 0), (0, 1), (1, -1), (1, 0), (1, 1)]"
      ]
     },
     "execution_count": 136,
     "metadata": {},
     "output_type": "execute_result"
    }
   ],
   "source": [
    "list(product([-1,0,1], repeat=2))"
   ]
  },
  {
   "cell_type": "code",
   "execution_count": 164,
   "metadata": {
    "ExecuteTime": {
     "end_time": "2018-10-18T21:54:19.726639Z",
     "start_time": "2018-10-18T21:54:19.718483Z"
    }
   },
   "outputs": [],
   "source": [
    "def neighbor_seq():\n",
    "    computed = {}\n",
    "    spiral = write_spiral()\n",
    "    computed[next(spiral)] = 1\n",
    "    yield 1\n",
    "    for x, y in spiral:\n",
    "        computed[(x,y)] = sum( computed[x+dx,y+dy] if (x+dx,y+dy) in computed else 0 for dx, dy in product([-1,0,1], repeat=2) )\n",
    "        yield computed[(x,y)]"
   ]
  },
  {
   "cell_type": "code",
   "execution_count": 166,
   "metadata": {
    "ExecuteTime": {
     "end_time": "2018-10-18T21:54:36.638282Z",
     "start_time": "2018-10-18T21:54:36.632676Z"
    }
   },
   "outputs": [
    {
     "data": {
      "text/plain": [
       "[1, 1, 2, 4, 5, 10, 11, 23, 25, 26]"
      ]
     },
     "execution_count": 166,
     "metadata": {},
     "output_type": "execute_result"
    }
   ],
   "source": [
    "ng = neighbor_seq()\n",
    "\n",
    "[next(ng) for i in range(10)]"
   ]
  },
  {
   "cell_type": "code",
   "execution_count": 170,
   "metadata": {
    "ExecuteTime": {
     "end_time": "2018-10-18T21:56:06.991043Z",
     "start_time": "2018-10-18T21:56:06.986899Z"
    }
   },
   "outputs": [],
   "source": [
    "def first_larger(n):\n",
    "    for i in neighbor_seq():\n",
    "        if i > n:\n",
    "            break\n",
    "    return i\n"
   ]
  },
  {
   "cell_type": "code",
   "execution_count": 171,
   "metadata": {
    "ExecuteTime": {
     "end_time": "2018-10-18T21:56:07.157700Z",
     "start_time": "2018-10-18T21:56:07.152669Z"
    }
   },
   "outputs": [
    {
     "data": {
      "text/plain": [
       "369601"
      ]
     },
     "execution_count": 171,
     "metadata": {},
     "output_type": "execute_result"
    }
   ],
   "source": [
    "first_larger(puzzle)"
   ]
  },
  {
   "cell_type": "code",
   "execution_count": null,
   "metadata": {},
   "outputs": [],
   "source": []
  }
 ],
 "metadata": {
  "kernelspec": {
   "display_name": "Python 3",
   "language": "python",
   "name": "python3"
  },
  "language_info": {
   "codemirror_mode": {
    "name": "ipython",
    "version": 3
   },
   "file_extension": ".py",
   "mimetype": "text/x-python",
   "name": "python",
   "nbconvert_exporter": "python",
   "pygments_lexer": "ipython3",
   "version": "3.6.4"
  },
  "toc": {
   "nav_menu": {},
   "number_sections": true,
   "sideBar": true,
   "skip_h1_title": false,
   "title_cell": "Table of Contents",
   "title_sidebar": "Contents",
   "toc_cell": false,
   "toc_position": {},
   "toc_section_display": true,
   "toc_window_display": false
  },
  "varInspector": {
   "cols": {
    "lenName": 16,
    "lenType": 16,
    "lenVar": 40
   },
   "kernels_config": {
    "python": {
     "delete_cmd_postfix": "",
     "delete_cmd_prefix": "del ",
     "library": "var_list.py",
     "varRefreshCmd": "print(var_dic_list())"
    },
    "r": {
     "delete_cmd_postfix": ") ",
     "delete_cmd_prefix": "rm(",
     "library": "var_list.r",
     "varRefreshCmd": "cat(var_dic_list()) "
    }
   },
   "types_to_exclude": [
    "module",
    "function",
    "builtin_function_or_method",
    "instance",
    "_Feature"
   ],
   "window_display": false
  }
 },
 "nbformat": 4,
 "nbformat_minor": 2
}
