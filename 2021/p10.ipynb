{
 "cells": [
  {
   "cell_type": "code",
   "execution_count": 2,
   "id": "9bfde0d9",
   "metadata": {},
   "outputs": [],
   "source": [
    "from aocd.models import Puzzle\n",
    "\n",
    "puzzle = Puzzle(year=2021, day=10)\n",
    "\n",
    "def parses(input):\n",
    "    return input.strip().split('\\n')\n",
    "\n",
    "data = parses(puzzle.input_data)"
   ]
  },
  {
   "cell_type": "code",
   "execution_count": 4,
   "id": "d64ff3c4",
   "metadata": {},
   "outputs": [],
   "source": [
    "sample = parses(\"\"\"[({(<(())[]>[[{[]{<()<>>\n",
    "[(()[<>])]({[<{<<[]>>(\n",
    "{([(<{}[<>[]}>{[]{[(<()>\n",
    "(((({<>}<{<{<>}{[]{[]{}\n",
    "[[<[([]))<([[{}[[()]]]\n",
    "[{[{({}]{}}([{[{{{}}([]\n",
    "{<[[]]>}<{[{[{[]{()[[[]\n",
    "[<(<(<(<{}))><([]([]()\n",
    "<{([([[(<>()){}]>(<<{{\n",
    "<{([{{}}[<[[[<>{}]]]>[]]\"\"\")"
   ]
  },
  {
   "cell_type": "code",
   "execution_count": 5,
   "id": "b41dc4d8",
   "metadata": {},
   "outputs": [
    {
     "data": {
      "text/plain": [
       "['[({(<(())[]>[[{[]{<()<>>',\n",
       " '[(()[<>])]({[<{<<[]>>(',\n",
       " '{([(<{}[<>[]}>{[]{[(<()>',\n",
       " '(((({<>}<{<{<>}{[]{[]{}',\n",
       " '[[<[([]))<([[{}[[()]]]',\n",
       " '[{[{({}]{}}([{[{{{}}([]',\n",
       " '{<[[]]>}<{[{[{[]{()[[[]',\n",
       " '[<(<(<(<{}))><([]([]()',\n",
       " '<{([([[(<>()){}]>(<<{{',\n",
       " '<{([{{}}[<[[[<>{}]]]>[]]']"
      ]
     },
     "execution_count": 5,
     "metadata": {},
     "output_type": "execute_result"
    }
   ],
   "source": [
    "sample"
   ]
  },
  {
   "cell_type": "code",
   "execution_count": 6,
   "id": "23f4bdcd",
   "metadata": {},
   "outputs": [],
   "source": []
  },
  {
   "cell_type": "code",
   "execution_count": 10,
   "id": "1323dd00",
   "metadata": {},
   "outputs": [],
   "source": [
    "matching = {'(': ')','[': ']','{': '}','<': '>'}"
   ]
  },
  {
   "cell_type": "code",
   "execution_count": 11,
   "id": "c485331c",
   "metadata": {},
   "outputs": [],
   "source": [
    "def solve_a(data):\n",
    "    points = {')': 3,']': 57,'}': 1197,'>': 25137}\n",
    "    total = 0\n",
    "    for line in data:\n",
    "        stack = []\n",
    "        for c in line:\n",
    "            if c in matching:\n",
    "                stack.append(c)\n",
    "            elif stack and matching[stack[-1]] == c:\n",
    "                stack.pop()\n",
    "            else:\n",
    "                total += points[c]\n",
    "                break\n",
    "    return total"
   ]
  },
  {
   "cell_type": "code",
   "execution_count": 12,
   "id": "8fc04a43",
   "metadata": {},
   "outputs": [
    {
     "data": {
      "text/plain": [
       "26397"
      ]
     },
     "execution_count": 12,
     "metadata": {},
     "output_type": "execute_result"
    }
   ],
   "source": [
    "solve_a(sample)"
   ]
  },
  {
   "cell_type": "code",
   "execution_count": 13,
   "id": "bbf63bf9",
   "metadata": {},
   "outputs": [
    {
     "data": {
      "text/plain": [
       "387363"
      ]
     },
     "execution_count": 13,
     "metadata": {},
     "output_type": "execute_result"
    }
   ],
   "source": [
    "solve_a(data)"
   ]
  },
  {
   "cell_type": "code",
   "execution_count": 21,
   "id": "12d84e04",
   "metadata": {},
   "outputs": [],
   "source": [
    "def solve_b(data):\n",
    "    points = {')': 1,']': 2,'}': 3,'>': 4}\n",
    "    scores = []\n",
    "    for line in data:\n",
    "        stack = []\n",
    "        for c in line:\n",
    "            if c in matching:\n",
    "                stack.append(c)\n",
    "            elif stack and matching[stack[-1]] == c:\n",
    "                stack.pop()\n",
    "            else:\n",
    "                stack = None\n",
    "                break\n",
    "        if stack:\n",
    "            total = 0\n",
    "            for c in reversed(stack):\n",
    "                total = 5*total + points[matching[c]]\n",
    "            scores.append(total)\n",
    "    return sorted(scores)[len(scores)//2]"
   ]
  },
  {
   "cell_type": "code",
   "execution_count": 22,
   "id": "55c75f07",
   "metadata": {},
   "outputs": [
    {
     "name": "stdout",
     "output_type": "stream",
     "text": [
      "288957\n",
      "5566\n",
      "1480781\n",
      "995444\n",
      "294\n"
     ]
    },
    {
     "data": {
      "text/plain": [
       "288957"
      ]
     },
     "execution_count": 22,
     "metadata": {},
     "output_type": "execute_result"
    }
   ],
   "source": [
    "solve_b(sample)"
   ]
  },
  {
   "cell_type": "code",
   "execution_count": 24,
   "id": "fef676b3",
   "metadata": {},
   "outputs": [
    {
     "name": "stdout",
     "output_type": "stream",
     "text": [
      "112410957\n",
      "8285107796\n",
      "4490914914\n",
      "4819318481\n",
      "2028118469\n",
      "5253729836\n",
      "8003483089\n",
      "4780960309\n",
      "27308038594\n",
      "3607926249\n",
      "5427744\n",
      "4734091613\n",
      "67520994\n",
      "572108421\n",
      "16493263708\n",
      "4753277867\n",
      "3171280288\n",
      "3613280197\n",
      "2048279332\n",
      "3381562192\n",
      "361193664\n",
      "3250623958\n",
      "4330777059\n",
      "21470176234\n",
      "8957604592\n",
      "1217379084\n",
      "9753747747\n",
      "598718311\n",
      "194412187\n",
      "9438270871\n",
      "648011561\n",
      "337301424\n",
      "1673539248\n",
      "36466689\n",
      "4832206\n",
      "14526702687\n",
      "20476461784\n",
      "3169709073\n",
      "231592442\n",
      "24072167959\n",
      "26693090358\n",
      "5855447741\n",
      "2815851799\n",
      "5360433311\n",
      "8278821483\n",
      "4615103968\n",
      "9558323\n",
      "27308074373\n",
      "729506094\n",
      "5936312106\n",
      "24159869547\n"
     ]
    },
    {
     "data": {
      "text/plain": [
       "4330777059"
      ]
     },
     "execution_count": 24,
     "metadata": {},
     "output_type": "execute_result"
    }
   ],
   "source": [
    "solve_b(data)"
   ]
  },
  {
   "cell_type": "code",
   "execution_count": null,
   "id": "9ed734b9",
   "metadata": {},
   "outputs": [],
   "source": []
  }
 ],
 "metadata": {
  "kernelspec": {
   "display_name": "Python 3",
   "language": "python",
   "name": "python3"
  },
  "language_info": {
   "codemirror_mode": {
    "name": "ipython",
    "version": 3
   },
   "file_extension": ".py",
   "mimetype": "text/x-python",
   "name": "python",
   "nbconvert_exporter": "python",
   "pygments_lexer": "ipython3",
   "version": "3.8.8"
  }
 },
 "nbformat": 4,
 "nbformat_minor": 5
}
