{
 "cells": [
  {
   "cell_type": "code",
   "execution_count": 105,
   "id": "24371643",
   "metadata": {},
   "outputs": [],
   "source": [
    "from aocd.models import Puzzle\n",
    "\n",
    "puzzle = Puzzle(year=2021, day=20)\n",
    "\n",
    "def parses(text):\n",
    "    mapping, image = text.strip().split('\\n\\n')\n",
    "    mapping = np.array([{'.':0, '#':1}[i] for i in mapping], dtype=np.uint8)\n",
    "    image = np.array([[{'.':0, '#':1}[i] for i in line] for line in image.split('\\n')], dtype=np.uint8)\n",
    "    return mapping, image\n",
    "\n",
    "data = parses(puzzle.input_data)"
   ]
  },
  {
   "cell_type": "code",
   "execution_count": 107,
   "id": "3eb85ec9",
   "metadata": {},
   "outputs": [],
   "source": [
    "sample = parses(\"\"\"..#.#..#####.#.#.#.###.##.....###.##.#..###.####..#####..#....#..#..##..###..######.###...####..#..#####..##..#.#####...##.#.#..#.##..#.#......#.###.######.###.####...#.##.##..#..#..#####.....#.#....###..#.##......#.....#..#..#..##..#...##.######.####.####.#.#...#.......#..#.#.#...####.##.#......#..#...##.#.##..#...##.#.##..###.#......#.#.......#.#.#.####.###.##...#.....####.#..#..#.##.#....##..#.####....##...##..#...#......#.#.......#.......##..####..#...#.#.#...##..#.#..###..#####........#..####......#..#\n",
    "\n",
    "#..#.\n",
    "#....\n",
    "##..#\n",
    "..#..\n",
    "..###\"\"\")"
   ]
  },
  {
   "cell_type": "code",
   "execution_count": 108,
   "id": "1707a7f6",
   "metadata": {},
   "outputs": [],
   "source": [
    "def render(image, chars='.#'):\n",
    "    s = \"\\n\".join( \"\".join(chars[i] for i in row) for row in image)\n",
    "    print(s)"
   ]
  },
  {
   "cell_type": "code",
   "execution_count": 139,
   "id": "8b2d8bf9",
   "metadata": {},
   "outputs": [],
   "source": [
    "from scipy.signal import correlate2d, convolve2d"
   ]
  },
  {
   "cell_type": "code",
   "execution_count": 148,
   "id": "d0b1e021",
   "metadata": {},
   "outputs": [],
   "source": [
    "def enhance(mapping, image, steps):\n",
    "    kernel = 2**np.arange(9)[::-1].reshape((3,3))\n",
    "    bg = 0\n",
    "    for _ in range(steps):\n",
    "        idx = correlate2d(image, kernel, boundary='fill', fillvalue=bg)\n",
    "        image = mapping[idx]\n",
    "        bg = mapping[[0,511][bg]]\n",
    "    return image"
   ]
  },
  {
   "cell_type": "markdown",
   "id": "2c0bbb18",
   "metadata": {},
   "source": [
    "Can also simplify it into a convolution"
   ]
  },
  {
   "cell_type": "code",
   "execution_count": 149,
   "id": "1a094f89",
   "metadata": {},
   "outputs": [],
   "source": [
    "def enhance(mapping, image, steps):\n",
    "    kernel = 2**np.arange(9).reshape((3,3))\n",
    "    bg = 0\n",
    "    for _ in range(steps):\n",
    "        idx = convolve2d(image, kernel, boundary='fill', fillvalue=bg)\n",
    "        image = mapping[idx]\n",
    "        bg = mapping[[0,511][bg]]\n",
    "    return image"
   ]
  },
  {
   "cell_type": "code",
   "execution_count": 150,
   "id": "b3c4b411",
   "metadata": {},
   "outputs": [],
   "source": [
    "def solve_a(data):\n",
    "    # if bg = 1 at end, result would be +inf\n",
    "    return enhance(*data, 2).sum()"
   ]
  },
  {
   "cell_type": "code",
   "execution_count": 151,
   "id": "8051a364",
   "metadata": {},
   "outputs": [
    {
     "data": {
      "text/plain": [
       "35"
      ]
     },
     "execution_count": 151,
     "metadata": {},
     "output_type": "execute_result"
    }
   ],
   "source": [
    "solve_a(sample)"
   ]
  },
  {
   "cell_type": "code",
   "execution_count": 152,
   "id": "dade3dcc",
   "metadata": {},
   "outputs": [
    {
     "data": {
      "text/plain": [
       "5573"
      ]
     },
     "execution_count": 152,
     "metadata": {},
     "output_type": "execute_result"
    }
   ],
   "source": [
    "solve_a(data)"
   ]
  },
  {
   "cell_type": "code",
   "execution_count": 153,
   "id": "64d4702c",
   "metadata": {},
   "outputs": [],
   "source": [
    "def solve_b(data):\n",
    "    return enhance(*data, 50).sum()"
   ]
  },
  {
   "cell_type": "code",
   "execution_count": 154,
   "id": "4522f147",
   "metadata": {},
   "outputs": [
    {
     "data": {
      "text/plain": [
       "3351"
      ]
     },
     "execution_count": 154,
     "metadata": {},
     "output_type": "execute_result"
    }
   ],
   "source": [
    "solve_b(sample)"
   ]
  },
  {
   "cell_type": "code",
   "execution_count": 155,
   "id": "880ba498",
   "metadata": {},
   "outputs": [
    {
     "data": {
      "text/plain": [
       "20097"
      ]
     },
     "execution_count": 155,
     "metadata": {},
     "output_type": "execute_result"
    }
   ],
   "source": [
    "solve_b(data)"
   ]
  },
  {
   "cell_type": "code",
   "execution_count": null,
   "id": "d6a5769b",
   "metadata": {},
   "outputs": [],
   "source": []
  },
  {
   "cell_type": "code",
   "execution_count": 81,
   "id": "f729d7fa",
   "metadata": {},
   "outputs": [],
   "source": [
    "kernel = 2**np.arange(9)[::-1].reshape((3,3))"
   ]
  },
  {
   "cell_type": "code",
   "execution_count": null,
   "id": "b45ce077",
   "metadata": {},
   "outputs": [],
   "source": []
  },
  {
   "cell_type": "code",
   "execution_count": 36,
   "id": "57d6496d",
   "metadata": {},
   "outputs": [
    {
     "data": {
      "text/plain": [
       "(array([0, 0, 1, 0, 1, 0, 0, 1, 1, 1, 1, 1, 0, 1, 0, 1, 0, 1, 0, 1, 1, 1,\n",
       "        0, 1, 1, 0, 0, 0, 0, 0, 1, 1, 1, 0, 1, 1, 0, 1, 0, 0, 1, 1, 1, 0,\n",
       "        1, 1, 1, 1, 0, 0, 1, 1, 1, 1, 1, 0, 0, 1, 0, 0, 0, 0, 1, 0, 0, 1,\n",
       "        0, 0, 1, 1, 0, 0, 1, 1, 1, 0, 0, 1, 1, 1, 1, 1, 1, 0, 1, 1, 1, 0,\n",
       "        0, 0, 1, 1, 1, 1, 0, 0, 1, 0, 0, 1, 1, 1, 1, 1, 0, 0, 1, 1, 0, 0,\n",
       "        1, 0, 1, 1, 1, 1, 1, 0, 0, 0, 1, 1, 0, 1, 0, 1, 0, 0, 1, 0, 1, 1,\n",
       "        0, 0, 1, 0, 1, 0, 0, 0, 0, 0, 0, 1, 0, 1, 1, 1, 0, 1, 1, 1, 1, 1,\n",
       "        1, 0, 1, 1, 1, 0, 1, 1, 1, 1, 0, 0, 0, 1, 0, 1, 1, 0, 1, 1, 0, 0,\n",
       "        1, 0, 0, 1, 0, 0, 1, 1, 1, 1, 1, 0, 0, 0, 0, 0, 1, 0, 1, 0, 0, 0,\n",
       "        0, 1, 1, 1, 0, 0, 1, 0, 1, 1, 0, 0, 0, 0, 0, 0, 1, 0, 0, 0, 0, 0,\n",
       "        1, 0, 0, 1, 0, 0, 1, 0, 0, 1, 1, 0, 0, 1, 0, 0, 0, 1, 1, 0, 1, 1,\n",
       "        1, 1, 1, 1, 0, 1, 1, 1, 1, 0, 1, 1, 1, 1, 0, 1, 0, 1, 0, 0, 0, 1,\n",
       "        0, 0, 0, 0, 0, 0, 0, 1, 0, 0, 1, 0, 1, 0, 1, 0, 0, 0, 1, 1, 1, 1,\n",
       "        0, 1, 1, 0, 1, 0, 0, 0, 0, 0, 0, 1, 0, 0, 1, 0, 0, 0, 1, 1, 0, 1,\n",
       "        0, 1, 1, 0, 0, 1, 0, 0, 0, 1, 1, 0, 1, 0, 1, 1, 0, 0, 1, 1, 1, 0,\n",
       "        1, 0, 0, 0, 0, 0, 0, 1, 0, 1, 0, 0, 0, 0, 0, 0, 0, 1, 0, 1, 0, 1,\n",
       "        0, 1, 1, 1, 1, 0, 1, 1, 1, 0, 1, 1, 0, 0, 0, 1, 0, 0, 0, 0, 0, 1,\n",
       "        1, 1, 1, 0, 1, 0, 0, 1, 0, 0, 1, 0, 1, 1, 0, 1, 0, 0, 0, 0, 1, 1,\n",
       "        0, 0, 1, 0, 1, 1, 1, 1, 0, 0, 0, 0, 1, 1, 0, 0, 0, 1, 1, 0, 0, 1,\n",
       "        0, 0, 0, 1, 0, 0, 0, 0, 0, 0, 1, 0, 1, 0, 0, 0, 0, 0, 0, 0, 1, 0,\n",
       "        0, 0, 0, 0, 0, 0, 1, 1, 0, 0, 1, 1, 1, 1, 0, 0, 1, 0, 0, 0, 1, 0,\n",
       "        1, 0, 1, 0, 0, 0, 1, 1, 0, 0, 1, 0, 1, 0, 0, 1, 1, 1, 0, 0, 1, 1,\n",
       "        1, 1, 1, 0, 0, 0, 0, 0, 0, 0, 0, 1, 0, 0, 1, 1, 1, 1, 0, 0, 0, 0,\n",
       "        0, 0, 1, 0, 0, 1], dtype=uint8),\n",
       " array([[1, 0, 0, 1, 0],\n",
       "        [1, 0, 0, 0, 0],\n",
       "        [1, 1, 0, 0, 1],\n",
       "        [0, 0, 1, 0, 0],\n",
       "        [0, 0, 1, 1, 1]], dtype=uint8))"
      ]
     },
     "execution_count": 36,
     "metadata": {},
     "output_type": "execute_result"
    }
   ],
   "source": [
    "def enhance(image, steps):\n",
    "    powers = 2**np.arange(9)\n",
    "    neigh_slices = list(itertools.product([slice(None,-2), slice(1,-1), slice(2,None)], repeat=2))\n",
    "    bg = 0\n",
    "    "
   ]
  },
  {
   "cell_type": "code",
   "execution_count": null,
   "id": "b99a06da",
   "metadata": {},
   "outputs": [],
   "source": []
  }
 ],
 "metadata": {
  "kernelspec": {
   "display_name": "Python 3",
   "language": "python",
   "name": "python3"
  },
  "language_info": {
   "codemirror_mode": {
    "name": "ipython",
    "version": 3
   },
   "file_extension": ".py",
   "mimetype": "text/x-python",
   "name": "python",
   "nbconvert_exporter": "python",
   "pygments_lexer": "ipython3",
   "version": "3.8.8"
  }
 },
 "nbformat": 4,
 "nbformat_minor": 5
}
