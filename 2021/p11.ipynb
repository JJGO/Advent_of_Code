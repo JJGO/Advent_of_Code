{
 "cells": [
  {
   "cell_type": "code",
   "execution_count": 101,
   "id": "7332b178",
   "metadata": {},
   "outputs": [],
   "source": [
    "from aocd.models import Puzzle\n",
    "\n",
    "puzzle = Puzzle(year=2021, day=11)\n",
    "\n",
    "def parses(input):\n",
    "    return [[int(n) for n in line] for line in input.strip().split('\\n')]\n",
    "\n",
    "data = parses(puzzle.input_data)"
   ]
  },
  {
   "cell_type": "code",
   "execution_count": 102,
   "id": "094f6644",
   "metadata": {},
   "outputs": [],
   "source": [
    "sample = parses(\"\"\"5483143223\n",
    "2745854711\n",
    "5264556173\n",
    "6141336146\n",
    "6357385478\n",
    "4167524645\n",
    "2176841721\n",
    "6882881134\n",
    "4846848554\n",
    "5283751526\"\"\")"
   ]
  },
  {
   "cell_type": "code",
   "execution_count": 103,
   "id": "b651a35b",
   "metadata": {},
   "outputs": [],
   "source": [
    "import itertools"
   ]
  },
  {
   "cell_type": "code",
   "execution_count": 104,
   "id": "3dc14bd9",
   "metadata": {},
   "outputs": [],
   "source": [
    "def run_step(energy):\n",
    "    N, M = energy.shape\n",
    "    energy += 1\n",
    "    flashes = 0\n",
    "    toflash = np.argwhere(energy > 9).tolist()\n",
    "    while toflash:\n",
    "        x, y = toflash.pop()\n",
    "        flashes += 1\n",
    "        for dx, dy in itertools.product([-1,0,1], repeat=2):\n",
    "            x2, y2 = x+dx, y+dy\n",
    "            if 0 <= x2 < N and 0 <= y2 < M and energy[x2,y2] < 10:\n",
    "                energy[x2,y2] += 1\n",
    "                if energy[x2,y2] == 10:\n",
    "                    toflash.append([x2,y2])\n",
    "    energy[energy > 9] = 0\n",
    "    return flashes"
   ]
  },
  {
   "cell_type": "code",
   "execution_count": 105,
   "id": "cd85c063",
   "metadata": {},
   "outputs": [],
   "source": [
    "def solve_a(energy, steps):\n",
    "    energy = np.array(energy)\n",
    "    return sum(run_step(energy) for k in range(steps))"
   ]
  },
  {
   "cell_type": "code",
   "execution_count": null,
   "id": "f6b50cbf",
   "metadata": {},
   "outputs": [],
   "source": []
  },
  {
   "cell_type": "code",
   "execution_count": 106,
   "id": "b691921c",
   "metadata": {},
   "outputs": [],
   "source": [
    "tiny = parses(\"\"\"11111\n",
    "19991\n",
    "19191\n",
    "19991\n",
    "11111\"\"\")"
   ]
  },
  {
   "cell_type": "code",
   "execution_count": 107,
   "id": "8a00a091",
   "metadata": {},
   "outputs": [
    {
     "data": {
      "text/plain": [
       "9"
      ]
     },
     "execution_count": 107,
     "metadata": {},
     "output_type": "execute_result"
    }
   ],
   "source": [
    "solve_a(tiny, 2)"
   ]
  },
  {
   "cell_type": "code",
   "execution_count": 108,
   "id": "5bbdabe4",
   "metadata": {},
   "outputs": [
    {
     "data": {
      "text/plain": [
       "204"
      ]
     },
     "execution_count": 108,
     "metadata": {},
     "output_type": "execute_result"
    }
   ],
   "source": [
    "solve_a(sample, 10)"
   ]
  },
  {
   "cell_type": "code",
   "execution_count": 109,
   "id": "70b7525a",
   "metadata": {},
   "outputs": [
    {
     "data": {
      "text/plain": [
       "1656"
      ]
     },
     "execution_count": 109,
     "metadata": {},
     "output_type": "execute_result"
    }
   ],
   "source": [
    "solve_a(sample, 100)"
   ]
  },
  {
   "cell_type": "code",
   "execution_count": 110,
   "id": "56961cf1",
   "metadata": {},
   "outputs": [
    {
     "data": {
      "text/plain": [
       "1757"
      ]
     },
     "execution_count": 110,
     "metadata": {},
     "output_type": "execute_result"
    }
   ],
   "source": [
    "solve_a(data, 100)"
   ]
  },
  {
   "cell_type": "code",
   "execution_count": 111,
   "id": "7e61e4ab",
   "metadata": {},
   "outputs": [],
   "source": [
    "def solve_b(energy):\n",
    "    energy = np.array(energy)\n",
    "    for k in itertools.count(1):\n",
    "        run_step(energy)\n",
    "        if (energy == 0).all():\n",
    "            return k"
   ]
  },
  {
   "cell_type": "code",
   "execution_count": null,
   "id": "272a9809",
   "metadata": {},
   "outputs": [],
   "source": []
  },
  {
   "cell_type": "code",
   "execution_count": 64,
   "id": "c67a1d09",
   "metadata": {},
   "outputs": [
    {
     "data": {
      "text/plain": [
       "195"
      ]
     },
     "execution_count": 64,
     "metadata": {},
     "output_type": "execute_result"
    }
   ],
   "source": [
    "solve_b(sample)"
   ]
  },
  {
   "cell_type": "code",
   "execution_count": 65,
   "id": "d286f7d5",
   "metadata": {},
   "outputs": [
    {
     "data": {
      "text/plain": [
       "422"
      ]
     },
     "execution_count": 65,
     "metadata": {},
     "output_type": "execute_result"
    }
   ],
   "source": [
    "solve_b(data)"
   ]
  },
  {
   "cell_type": "code",
   "execution_count": null,
   "id": "7d25185f",
   "metadata": {},
   "outputs": [],
   "source": []
  },
  {
   "cell_type": "code",
   "execution_count": null,
   "id": "a6ded0e7",
   "metadata": {},
   "outputs": [],
   "source": []
  },
  {
   "cell_type": "code",
   "execution_count": null,
   "id": "22538604",
   "metadata": {},
   "outputs": [],
   "source": []
  }
 ],
 "metadata": {
  "kernelspec": {
   "display_name": "Python 3",
   "language": "python",
   "name": "python3"
  },
  "language_info": {
   "codemirror_mode": {
    "name": "ipython",
    "version": 3
   },
   "file_extension": ".py",
   "mimetype": "text/x-python",
   "name": "python",
   "nbconvert_exporter": "python",
   "pygments_lexer": "ipython3",
   "version": "3.8.8"
  }
 },
 "nbformat": 4,
 "nbformat_minor": 5
}
