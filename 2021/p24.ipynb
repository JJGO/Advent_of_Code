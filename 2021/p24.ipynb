{
 "cells": [
  {
   "cell_type": "code",
   "execution_count": 1,
   "id": "4c81d198",
   "metadata": {},
   "outputs": [],
   "source": [
    "from aocd.models import Puzzle\n",
    "\n",
    "puzzle = Puzzle(year=2021, day=24)\n",
    "\n",
    "def parses(text):\n",
    "    program = [line.split() for line in text.strip().split('\\n')]\n",
    "    program = [(instr, tuple([r if r in 'wxyz' else int(r) for r in args])) for instr, *args in program]\n",
    "    return program\n",
    "\n",
    "data = parses(puzzle.input_data)"
   ]
  },
  {
   "cell_type": "code",
   "execution_count": 25,
   "id": "7b906245",
   "metadata": {},
   "outputs": [],
   "source": [
    "import operator"
   ]
  },
  {
   "cell_type": "code",
   "execution_count": 14,
   "id": "216e1649",
   "metadata": {},
   "outputs": [
    {
     "data": {
      "text/plain": [
       "<function _operator.mod(a, b, /)>"
      ]
     },
     "execution_count": 14,
     "metadata": {},
     "output_type": "execute_result"
    }
   ],
   "source": [
    "operator.mod"
   ]
  },
  {
   "cell_type": "code",
   "execution_count": 238,
   "id": "f7a4f43b",
   "metadata": {},
   "outputs": [],
   "source": []
  },
  {
   "cell_type": "code",
   "execution_count": 2,
   "id": "c106f3cc",
   "metadata": {},
   "outputs": [],
   "source": [
    "import operator\n",
    "def op_builder(binop):\n",
    "    def op(regs, dst, arg):\n",
    "        regs[dst] = binop(regs[dst], arg if isinstance(arg, int) else regs[arg])\n",
    "    return op\n",
    "    \n",
    "ops = {\n",
    "    'add': op_builder(operator.add),\n",
    "    'sub': op_builder(operator.sub),\n",
    "    'mul': op_builder(operator.mul),\n",
    "    'div': op_builder(operator.floordiv),\n",
    "    'mod': op_builder(operator.mod),\n",
    "    'eql': op_builder(lambda a, b: int(a == b)),\n",
    "}\n",
    "\n",
    "def simulate(program, inputs):\n",
    "    steps = len(inputs)\n",
    "    i = 0\n",
    "    regs = defaultdict(int)\n",
    "    for instr, args in program:\n",
    "        if instr == 'inp':\n",
    "            if i >= steps:\n",
    "                return regs\n",
    "            regs[args[0]] = inputs[i]\n",
    "            i += 1\n",
    "        else:\n",
    "#             print(instr, args)\n",
    "            a, b = args\n",
    "            val = b if isinstance(b, int) else regs[b]\n",
    "            if instr == 'div':\n",
    "                assert val != 0\n",
    "            if instr == 'mod':\n",
    "                assert regs[a] >= 0 and val > 0\n",
    "            ops[instr](regs, a, b)\n",
    "    return regs"
   ]
  },
  {
   "cell_type": "code",
   "execution_count": 3,
   "id": "953aa4ef",
   "metadata": {},
   "outputs": [
    {
     "data": {
      "text/plain": [
       "defaultdict(int, {'w': 9, 'x': 1, 'z': 15, 'y': 15})"
      ]
     },
     "execution_count": 3,
     "metadata": {},
     "output_type": "execute_result"
    }
   ],
   "source": [
    "simulate(data, [9])"
   ]
  },
  {
   "cell_type": "code",
   "execution_count": 337,
   "id": "80b879bc",
   "metadata": {},
   "outputs": [],
   "source": [
    "program = data"
   ]
  },
  {
   "cell_type": "code",
   "execution_count": 338,
   "id": "6cfba6b9",
   "metadata": {},
   "outputs": [],
   "source": [
    "steps = [program[18*i:18*(i+1)] for i in range(14)]\n",
    "\n",
    "vals = [tuple(step[i][1][1] for i in [4,5,15]) for step in steps]"
   ]
  },
  {
   "cell_type": "code",
   "execution_count": 381,
   "id": "981cb938",
   "metadata": {},
   "outputs": [
    {
     "data": {
      "text/plain": [
       "[(1, 11, 6),\n",
       " (1, 13, 14),\n",
       " (1, 15, 14),\n",
       " (26, -8, 10),\n",
       " (1, 13, 9),\n",
       " (1, 15, 12),\n",
       " (26, -11, 8),\n",
       " (26, -4, 13),\n",
       " (26, -15, 12),\n",
       " (1, 14, 6),\n",
       " (1, 14, 9),\n",
       " (26, -1, 15),\n",
       " (26, -8, 4),\n",
       " (26, -14, 10)]"
      ]
     },
     "execution_count": 381,
     "metadata": {},
     "output_type": "execute_result"
    }
   ],
   "source": [
    "[v[0] f]"
   ]
  },
  {
   "cell_type": "code",
   "execution_count": 379,
   "id": "79b7af29",
   "metadata": {},
   "outputs": [
    {
     "data": {
      "text/plain": [
       "defaultdict(int, {'w': 9, 'x': 1, 'z': 413, 'y': 23})"
      ]
     },
     "execution_count": 379,
     "metadata": {},
     "output_type": "execute_result"
    }
   ],
   "source": [
    "simulate(data, [9, 9])"
   ]
  },
  {
   "cell_type": "code",
   "execution_count": 446,
   "id": "0a649c06",
   "metadata": {},
   "outputs": [],
   "source": [
    "def run_step(z, w, i):\n",
    "    A, B, C = vals[i]\n",
    "    x = int((z % 26) != w - B)\n",
    "    z //= A  ## A either 1 or 26\n",
    "    z *= 25 * x + 1\n",
    "    z += (w + C) * x\n",
    "    return z"
   ]
  },
  {
   "cell_type": "code",
   "execution_count": 447,
   "id": "05e08466",
   "metadata": {},
   "outputs": [],
   "source": [
    "# for i in range(1,15):\n",
    "#     print(simulate(data, ns[:i])['z'])"
   ]
  },
  {
   "cell_type": "code",
   "execution_count": 454,
   "id": "9482ebfc",
   "metadata": {},
   "outputs": [
    {
     "data": {
      "text/plain": [
       "14"
      ]
     },
     "execution_count": 454,
     "metadata": {},
     "output_type": "execute_result"
    }
   ],
   "source": [
    "len(steps)"
   ]
  },
  {
   "cell_type": "code",
   "execution_count": 464,
   "id": "393ce9dc",
   "metadata": {},
   "outputs": [],
   "source": [
    "def solve(program, part):\n",
    "    steps = [program[18*i:18*(i+1)] for i in range(14)]\n",
    "    vals = [tuple(step[i][1][1] for i in [4,5,15]) for step in steps]\n",
    "    \n",
    "    def run_step(z, w, i):\n",
    "        A, B, C = vals[i]\n",
    "        x = int((z % 26) != w - B)\n",
    "        z //= A  ## A either 1 or 26\n",
    "        z *= 25 * x + 1\n",
    "        z += (w + C) * x\n",
    "        return z, x\n",
    "\n",
    "    stack = [(0,0, tuple())]\n",
    "    \n",
    "    while True:\n",
    "        z, i, seq = stack.pop()\n",
    "        for w in (range(1,10) if part == 'a' else range(9,0,-1)):\n",
    "            z2, x = run_step(z, w, i)\n",
    "\n",
    "            if vals[i][0] == 26 and x != 0:\n",
    "                continue\n",
    "            seq2 = seq + (w,)\n",
    "            if z2 == 0 and i == 13:\n",
    "                return int(\"\".join(map(str,seq2)))\n",
    "            elif i < 13:\n",
    "                stack.append((z2, i+1, seq2))"
   ]
  },
  {
   "cell_type": "code",
   "execution_count": 465,
   "id": "c15324cb",
   "metadata": {},
   "outputs": [
    {
     "ename": "TypeError",
     "evalue": "dfs() missing 1 required positional argument: 'part'",
     "output_type": "error",
     "traceback": [
      "\u001b[0;31m---------------------------------------------------------------------------\u001b[0m",
      "\u001b[0;31mTypeError\u001b[0m                                 Traceback (most recent call last)",
      "\u001b[0;32m<ipython-input-465-cdf4d4c1d576>\u001b[0m in \u001b[0;36m<module>\u001b[0;34m\u001b[0m\n\u001b[0;32m----> 1\u001b[0;31m \u001b[0mdfs\u001b[0m\u001b[0;34m(\u001b[0m\u001b[0mdata\u001b[0m\u001b[0;34m)\u001b[0m\u001b[0;34m\u001b[0m\u001b[0;34m\u001b[0m\u001b[0m\n\u001b[0m",
      "\u001b[0;31mTypeError\u001b[0m: dfs() missing 1 required positional argument: 'part'"
     ]
    }
   ],
   "source": [
    "dfs(data, 'a')"
   ]
  },
  {
   "cell_type": "code",
   "execution_count": 466,
   "id": "2308b181",
   "metadata": {},
   "outputs": [
    {
     "data": {
      "text/plain": [
       "92171126131911"
      ]
     },
     "execution_count": 466,
     "metadata": {},
     "output_type": "execute_result"
    }
   ],
   "source": [
    "dfs(data, 'b')"
   ]
  },
  {
   "cell_type": "code",
   "execution_count": null,
   "id": "e584de96",
   "metadata": {},
   "outputs": [],
   "source": []
  },
  {
   "cell_type": "code",
   "execution_count": 448,
   "id": "978923fa",
   "metadata": {},
   "outputs": [
    {
     "name": "stdout",
     "output_type": "stream",
     "text": [
      "1 0 11\n",
      "1 15 13\n",
      "1 23 15\n",
      "26 15 -8\n",
      "1 23 13\n",
      "1 11 15\n",
      "26 14 -11\n",
      "26 11 -4\n",
      "26 23 -15\n",
      "1 15 14\n",
      "1 15 14\n",
      "26 10 -1\n",
      "26 15 -8\n",
      "26 15 -14\n"
     ]
    }
   ],
   "source": [
    "z = 0\n",
    "for i in range(14):\n",
    "    z = run_step(z, ns[i], i)\n",
    "#     print(z)"
   ]
  },
  {
   "cell_type": "code",
   "execution_count": 453,
   "id": "0abb662f",
   "metadata": {},
   "outputs": [
    {
     "name": "stdout",
     "output_type": "stream",
     "text": [
      "1 0 11\n",
      "15\n",
      "1 15 13\n",
      "413\n",
      "1 23 15\n",
      "10755\n",
      "26 17 -8\n",
      "413\n"
     ]
    }
   ],
   "source": [
    "z = 0\n",
    "for i, n in enumerate([9, 9, 3, 9]):\n",
    "    z = run_step(z, n, i)\n",
    "    print(z)"
   ]
  },
  {
   "cell_type": "code",
   "execution_count": 435,
   "id": "0b9beb1f",
   "metadata": {},
   "outputs": [
    {
     "data": {
      "text/plain": [
       "[(1, 11, 6),\n",
       " (1, 13, 14),\n",
       " (1, 15, 14),\n",
       " (26, -8, 10),\n",
       " (1, 13, 9),\n",
       " (1, 15, 12),\n",
       " (26, -11, 8),\n",
       " (26, -4, 13),\n",
       " (26, -15, 12),\n",
       " (1, 14, 6),\n",
       " (1, 14, 9),\n",
       " (26, -1, 15),\n",
       " (26, -8, 4),\n",
       " (26, -14, 10)]"
      ]
     },
     "execution_count": 435,
     "metadata": {},
     "output_type": "execute_result"
    }
   ],
   "source": [
    "vals"
   ]
  },
  {
   "cell_type": "code",
   "execution_count": 436,
   "id": "9aed611d",
   "metadata": {},
   "outputs": [
    {
     "data": {
      "text/plain": [
       "(26, -8, 10)"
      ]
     },
     "execution_count": 436,
     "metadata": {},
     "output_type": "execute_result"
    }
   ],
   "source": [
    "vals[3]"
   ]
  },
  {
   "cell_type": "code",
   "execution_count": 432,
   "id": "cadcd7f2",
   "metadata": {},
   "outputs": [
    {
     "name": "stdout",
     "output_type": "stream",
     "text": [
      "10749\n",
      "10750\n",
      "10751\n",
      "10752\n",
      "10753\n",
      "10754\n",
      "10755\n",
      "10756\n",
      "413\n"
     ]
    }
   ],
   "source": [
    "for i in range(1,10):\n",
    "    print(run_step(10755, i, 3))"
   ]
  },
  {
   "cell_type": "code",
   "execution_count": 400,
   "id": "27514122",
   "metadata": {},
   "outputs": [
    {
     "data": {
      "text/plain": [
       "[9, 9, 1, 7, 2, 2, 3, 7, 8, 9, 1, 9, 7, 1]"
      ]
     },
     "execution_count": 400,
     "metadata": {},
     "output_type": "execute_result"
    }
   ],
   "source": [
    "ns"
   ]
  },
  {
   "cell_type": "code",
   "execution_count": 433,
   "id": "542c10fa",
   "metadata": {},
   "outputs": [
    {
     "name": "stdout",
     "output_type": "stream",
     "text": [
      "7\n",
      "8\n",
      "9\n",
      "10\n",
      "11\n",
      "12\n",
      "13\n",
      "14\n",
      "15\n"
     ]
    }
   ],
   "source": [
    "for i in range(1,10):\n",
    "    print(run_step(0, i, 0))"
   ]
  },
  {
   "cell_type": "code",
   "execution_count": 434,
   "id": "b30c8323",
   "metadata": {},
   "outputs": [
    {
     "name": "stdout",
     "output_type": "stream",
     "text": [
      "197\t198\t199\t200\t201\t202\t203\t204\t205\t\n",
      "223\t224\t225\t226\t227\t228\t229\t230\t231\t\n",
      "249\t250\t251\t252\t253\t254\t255\t256\t257\t\n",
      "275\t276\t277\t278\t279\t280\t281\t282\t283\t\n",
      "301\t302\t303\t304\t305\t306\t307\t308\t309\t\n",
      "327\t328\t329\t330\t331\t332\t333\t334\t335\t\n",
      "353\t354\t355\t356\t357\t358\t359\t360\t361\t\n",
      "379\t380\t381\t382\t383\t384\t385\t386\t387\t\n",
      "405\t406\t407\t408\t409\t410\t411\t412\t413\t\n"
     ]
    }
   ],
   "source": [
    "for z in range(7,16):\n",
    "    for i in range(1,10):\n",
    "        print(run_step(z, i, 1), end='\\t')\n",
    "    print('')"
   ]
  },
  {
   "cell_type": "code",
   "execution_count": null,
   "id": "e2ce0bd6",
   "metadata": {},
   "outputs": [],
   "source": []
  },
  {
   "cell_type": "code",
   "execution_count": null,
   "id": "f353fe75",
   "metadata": {},
   "outputs": [],
   "source": []
  },
  {
   "cell_type": "code",
   "execution_count": 274,
   "id": "5cb1248b",
   "metadata": {},
   "outputs": [
    {
     "data": {
      "text/plain": [
       "defaultdict(int, {'w': 1, 'x': 0, 'z': 0, 'y': 0})"
      ]
     },
     "execution_count": 274,
     "metadata": {},
     "output_type": "execute_result"
    }
   ],
   "source": [
    "simulate(data, [9, 9, 1, 7, 2, 2, 3, 7, 8, 9, 1, 9, 7, 1])"
   ]
  },
  {
   "cell_type": "code",
   "execution_count": 269,
   "id": "248c817b",
   "metadata": {},
   "outputs": [
    {
     "data": {
      "text/plain": [
       "14"
      ]
     },
     "execution_count": 269,
     "metadata": {},
     "output_type": "execute_result"
    }
   ],
   "source": [
    "len([9, 9, 1, 7, 2, 2, 3, 7, 8, 9, 1, 9, 7, 1])"
   ]
  },
  {
   "cell_type": "code",
   "execution_count": null,
   "id": "b9211eac",
   "metadata": {},
   "outputs": [],
   "source": []
  },
  {
   "cell_type": "code",
   "execution_count": 209,
   "id": "cd4db58d",
   "metadata": {},
   "outputs": [
    {
     "data": {
      "text/plain": [
       "[9, 9, 1, 7, 2, 2, 3, 7, 8, 9, 1, 9, 7, 1]"
      ]
     },
     "execution_count": 209,
     "metadata": {},
     "output_type": "execute_result"
    }
   ],
   "source": [
    "ns"
   ]
  },
  {
   "cell_type": "code",
   "execution_count": 495,
   "id": "79537e7b",
   "metadata": {},
   "outputs": [],
   "source": [
    "from z3 import Int, If, Optimize, Sum, Solver, ArithRef, IntNumRef, simplify"
   ]
  },
  {
   "cell_type": "code",
   "execution_count": 494,
   "id": "5e3d31c4",
   "metadata": {},
   "outputs": [
    {
     "data": {
      "text/plain": [
       "z3.z3.IntNumRef"
      ]
     },
     "execution_count": 494,
     "metadata": {},
     "output_type": "execute_result"
    }
   ],
   "source": [
    "type(simplify(If(x>0,1,-1)*0))"
   ]
  },
  {
   "cell_type": "code",
   "execution_count": 487,
   "id": "da8080d0",
   "metadata": {},
   "outputs": [],
   "source": [
    "ArithRef.__floordiv__ = ArithRef.__truediv__"
   ]
  },
  {
   "cell_type": "code",
   "execution_count": 488,
   "id": "05de4893",
   "metadata": {},
   "outputs": [],
   "source": [
    "import operator\n",
    "def op_builder(binop):\n",
    "    def op(regs, dst, arg):\n",
    "        return binop(regs[dst], arg if isinstance(arg, int) else regs[arg])\n",
    "    return op\n",
    "    \n",
    "ops = {\n",
    "    'add': op_builder(operator.add),\n",
    "    'sub': op_builder(operator.sub),\n",
    "    'mul': op_builder(operator.mul),\n",
    "    'div': op_builder(operator.floordiv),\n",
    "    'mod': op_builder(operator.mod),\n",
    "    'eql': op_builder(lambda a, b: If(a==b, 1, 0)),\n",
    "}"
   ]
  },
  {
   "cell_type": "code",
   "execution_count": 195,
   "id": "358e6a54",
   "metadata": {},
   "outputs": [],
   "source": [
    "def solve(program):\n",
    "    opt = Solver()\n",
    "    i = 0\n",
    "    regs = {k: 0 for k in 'wxyz'}\n",
    "\n",
    "    inputs = [Int(f'inp{i:02d}') for i in range(14)]\n",
    "\n",
    "    for inp in inputs:\n",
    "        opt.add( 1 <= inp)\n",
    "        opt.add( inp <= 9)\n",
    "    \n",
    "    for j, (instr, args) in enumerate(program):\n",
    "        if instr == 'inp':\n",
    "            regs[args[0]] = inputs[i]\n",
    "            i += 1\n",
    "        else:\n",
    "            a, b = args                \n",
    "            if instr == 'div':\n",
    "                if not isinstance(b, int):\n",
    "                    opt.add(regs[b] != 0)\n",
    "            if instr == 'mod':\n",
    "                opt.add(regs[a] >= 0)\n",
    "                if not isinstance(b, int):\n",
    "                    opt.add(regs[b] > 0)\n",
    "            if instr == 'mul' and args[1] == 0:\n",
    "                regs[a] = 0\n",
    "            else:\n",
    "                result = Int(f'R{j:03d}')\n",
    "                opt.add(result == ops[instr](regs, a, b))\n",
    "                regs[a] = result\n",
    "            \n",
    "    opt.add(regs['z'] == 0)\n",
    "    return opt, inputs"
   ]
  },
  {
   "cell_type": "code",
   "execution_count": 196,
   "id": "626221d8",
   "metadata": {},
   "outputs": [],
   "source": [
    "opt, inputs = solve(data)"
   ]
  },
  {
   "cell_type": "code",
   "execution_count": 197,
   "id": "18c7f071",
   "metadata": {},
   "outputs": [
    {
     "data": {
      "text/html": [
       "<b>sat</b>"
      ],
      "text/plain": [
       "sat"
      ]
     },
     "execution_count": 197,
     "metadata": {},
     "output_type": "execute_result"
    }
   ],
   "source": [
    "opt.check()"
   ]
  },
  {
   "cell_type": "code",
   "execution_count": 199,
   "id": "035a7ebd",
   "metadata": {},
   "outputs": [],
   "source": [
    "solution = opt.model()"
   ]
  },
  {
   "cell_type": "code",
   "execution_count": 200,
   "id": "d5de9381",
   "metadata": {},
   "outputs": [],
   "source": [
    "ns = [opt.model()[inp].as_long() for inp in inputs]"
   ]
  },
  {
   "cell_type": "code",
   "execution_count": 201,
   "id": "20da04a1",
   "metadata": {},
   "outputs": [
    {
     "data": {
      "text/plain": [
       "99172237891971"
      ]
     },
     "execution_count": 201,
     "metadata": {},
     "output_type": "execute_result"
    }
   ],
   "source": [
    "int(\"\".join(str(d) for d in ns))"
   ]
  },
  {
   "cell_type": "code",
   "execution_count": null,
   "id": "d9c33953",
   "metadata": {},
   "outputs": [],
   "source": []
  },
  {
   "cell_type": "code",
   "execution_count": 172,
   "id": "f010aa95",
   "metadata": {},
   "outputs": [
    {
     "data": {
      "text/plain": [
       "4"
      ]
     },
     "execution_count": 172,
     "metadata": {},
     "output_type": "execute_result"
    }
   ],
   "source": [
    "2+2"
   ]
  },
  {
   "cell_type": "code",
   "execution_count": null,
   "id": "cb8f5be6",
   "metadata": {},
   "outputs": [],
   "source": []
  },
  {
   "cell_type": "code",
   "execution_count": 160,
   "id": "3daab72b",
   "metadata": {},
   "outputs": [
    {
     "data": {
      "text/plain": [
       "['R001',\n",
       " 'R002',\n",
       " 'R003',\n",
       " 'R004',\n",
       " 'R005',\n",
       " 'R006',\n",
       " 'R007',\n",
       " 'R008',\n",
       " 'R009',\n",
       " 'R010',\n",
       " 'R011',\n",
       " 'R012',\n",
       " 'R013',\n",
       " 'R014',\n",
       " 'R015',\n",
       " 'R016',\n",
       " 'R017',\n",
       " 'R019',\n",
       " 'R020',\n",
       " 'R021',\n",
       " 'R022',\n",
       " 'R023',\n",
       " 'R024',\n",
       " 'R025',\n",
       " 'R026',\n",
       " 'R027',\n",
       " 'R028',\n",
       " 'R029',\n",
       " 'R030',\n",
       " 'R031',\n",
       " 'R032',\n",
       " 'R033',\n",
       " 'R034',\n",
       " 'R035',\n",
       " 'R037',\n",
       " 'R038',\n",
       " 'R039',\n",
       " 'R040',\n",
       " 'R041',\n",
       " 'R042',\n",
       " 'R043',\n",
       " 'R044',\n",
       " 'R045',\n",
       " 'R046',\n",
       " 'R047',\n",
       " 'R048',\n",
       " 'R049',\n",
       " 'R050',\n",
       " 'R051',\n",
       " 'R052',\n",
       " 'R053',\n",
       " 'R055',\n",
       " 'R056',\n",
       " 'R057',\n",
       " 'R058',\n",
       " 'R059',\n",
       " 'R060',\n",
       " 'R061',\n",
       " 'R062',\n",
       " 'R063',\n",
       " 'R064',\n",
       " 'R065',\n",
       " 'R066',\n",
       " 'R067',\n",
       " 'R068',\n",
       " 'R069',\n",
       " 'R070',\n",
       " 'R071',\n",
       " 'R073',\n",
       " 'R074',\n",
       " 'R075',\n",
       " 'R076',\n",
       " 'R077',\n",
       " 'R078',\n",
       " 'R079',\n",
       " 'R080',\n",
       " 'R081',\n",
       " 'R082',\n",
       " 'R083',\n",
       " 'R084',\n",
       " 'R085',\n",
       " 'R086',\n",
       " 'R087',\n",
       " 'R088',\n",
       " 'R089',\n",
       " 'R091',\n",
       " 'R092',\n",
       " 'R093',\n",
       " 'R094',\n",
       " 'R095',\n",
       " 'R096',\n",
       " 'R097',\n",
       " 'R098',\n",
       " 'R099',\n",
       " 'R100',\n",
       " 'R101',\n",
       " 'R102',\n",
       " 'R103',\n",
       " 'R104',\n",
       " 'R105',\n",
       " 'R106',\n",
       " 'R107',\n",
       " 'R109',\n",
       " 'R110',\n",
       " 'R111',\n",
       " 'R112',\n",
       " 'R113',\n",
       " 'R114',\n",
       " 'R115',\n",
       " 'R116',\n",
       " 'R117',\n",
       " 'R118',\n",
       " 'R119',\n",
       " 'R120',\n",
       " 'R121',\n",
       " 'R122',\n",
       " 'R123',\n",
       " 'R124',\n",
       " 'R125',\n",
       " 'R127',\n",
       " 'R128',\n",
       " 'R129',\n",
       " 'R130',\n",
       " 'R131',\n",
       " 'R132',\n",
       " 'R133',\n",
       " 'R134',\n",
       " 'R135',\n",
       " 'R136',\n",
       " 'R137',\n",
       " 'R138',\n",
       " 'R139',\n",
       " 'R140',\n",
       " 'R141',\n",
       " 'R142',\n",
       " 'R143',\n",
       " 'R145',\n",
       " 'R146',\n",
       " 'R147',\n",
       " 'R148',\n",
       " 'R149',\n",
       " 'R150',\n",
       " 'R151',\n",
       " 'R152',\n",
       " 'R153',\n",
       " 'R154',\n",
       " 'R155',\n",
       " 'R156',\n",
       " 'R157',\n",
       " 'R158',\n",
       " 'R159',\n",
       " 'R160',\n",
       " 'R161',\n",
       " 'R163',\n",
       " 'R164',\n",
       " 'R165',\n",
       " 'R166',\n",
       " 'R167',\n",
       " 'R168',\n",
       " 'R169',\n",
       " 'R170',\n",
       " 'R171',\n",
       " 'R172',\n",
       " 'R173',\n",
       " 'R174',\n",
       " 'R175',\n",
       " 'R176',\n",
       " 'R177',\n",
       " 'R178',\n",
       " 'R179',\n",
       " 'R181',\n",
       " 'R182',\n",
       " 'R183',\n",
       " 'R184',\n",
       " 'R185',\n",
       " 'R186',\n",
       " 'R187',\n",
       " 'R188',\n",
       " 'R189',\n",
       " 'R190',\n",
       " 'R191',\n",
       " 'R192',\n",
       " 'R193',\n",
       " 'R194',\n",
       " 'R195',\n",
       " 'R196',\n",
       " 'R197',\n",
       " 'R199',\n",
       " 'R200',\n",
       " 'R201',\n",
       " 'R202',\n",
       " 'R203',\n",
       " 'R204',\n",
       " 'R205',\n",
       " 'R206',\n",
       " 'R207',\n",
       " 'R208',\n",
       " 'R209',\n",
       " 'R210',\n",
       " 'R211',\n",
       " 'R212',\n",
       " 'R213',\n",
       " 'R214',\n",
       " 'R215',\n",
       " 'R217',\n",
       " 'R218',\n",
       " 'R219',\n",
       " 'R220',\n",
       " 'R221',\n",
       " 'R222',\n",
       " 'R223',\n",
       " 'R224',\n",
       " 'R225',\n",
       " 'R226',\n",
       " 'R227',\n",
       " 'R228',\n",
       " 'R229',\n",
       " 'R230',\n",
       " 'R231',\n",
       " 'R232',\n",
       " 'R233',\n",
       " 'R235',\n",
       " 'R236',\n",
       " 'R237',\n",
       " 'R238',\n",
       " 'R239',\n",
       " 'R240',\n",
       " 'R241',\n",
       " 'R242',\n",
       " 'R243',\n",
       " 'R244',\n",
       " 'R245',\n",
       " 'R246',\n",
       " 'R247',\n",
       " 'R248',\n",
       " 'R249',\n",
       " 'R250',\n",
       " 'R251',\n",
       " 'inp00',\n",
       " 'inp01',\n",
       " 'inp02',\n",
       " 'inp03',\n",
       " 'inp04',\n",
       " 'inp05',\n",
       " 'inp06',\n",
       " 'inp07',\n",
       " 'inp08',\n",
       " 'inp09',\n",
       " 'inp10',\n",
       " 'inp11',\n",
       " 'inp12',\n",
       " 'inp13']"
      ]
     },
     "execution_count": 160,
     "metadata": {},
     "output_type": "execute_result"
    }
   ],
   "source": [
    "sorted(str(a) for a in opt.model())"
   ]
  },
  {
   "cell_type": "code",
   "execution_count": null,
   "id": "5108c4ef",
   "metadata": {},
   "outputs": [],
   "source": []
  },
  {
   "cell_type": "code",
   "execution_count": null,
   "id": "b1a72a56",
   "metadata": {},
   "outputs": [],
   "source": []
  },
  {
   "cell_type": "code",
   "execution_count": 108,
   "id": "a1250f6d",
   "metadata": {},
   "outputs": [
    {
     "data": {
      "text/html": [
       "<b>unknown</b>"
      ],
      "text/plain": [
       "unknown"
      ]
     },
     "execution_count": 108,
     "metadata": {},
     "output_type": "execute_result"
    }
   ],
   "source": [
    "opt.check()"
   ]
  },
  {
   "cell_type": "code",
   "execution_count": null,
   "id": "ba2e1766",
   "metadata": {},
   "outputs": [],
   "source": []
  },
  {
   "cell_type": "code",
   "execution_count": null,
   "id": "5e172d1e",
   "metadata": {},
   "outputs": [],
   "source": []
  },
  {
   "cell_type": "code",
   "execution_count": 102,
   "id": "00040c14",
   "metadata": {},
   "outputs": [
    {
     "data": {
      "text/html": [
       "<b>unknown</b>"
      ],
      "text/plain": [
       "unknown"
      ]
     },
     "execution_count": 102,
     "metadata": {},
     "output_type": "execute_result"
    }
   ],
   "source": [
    "O.check()"
   ]
  },
  {
   "cell_type": "code",
   "execution_count": null,
   "id": "03f84c33",
   "metadata": {},
   "outputs": [],
   "source": [
    "from z3 import Int, If, Optimize, Sum, Solver, ArithRef, IntNumRef, simplify"
   ]
  },
  {
   "cell_type": "code",
   "execution_count": 535,
   "id": "53315867",
   "metadata": {},
   "outputs": [],
   "source": [
    "def symbolic_exec(program, inputs=[]):\n",
    "\n",
    "    s = Solver()\n",
    "    i = 0\n",
    "    regs = {k: 0 for k in 'wxyz'}\n",
    "\n",
    "    inputs = inputs + [Int(f'inp{i:02d}') for i in range(14-len(inputs))]\n",
    "\n",
    "    for inp in inputs:\n",
    "        s.add( 1 <= inp)\n",
    "        s.add( inp <= 9)\n",
    "    \n",
    "    for j, (instr, args) in enumerate(program):\n",
    "        if instr == 'inp':\n",
    "            regs[args[0]] = inputs[i]\n",
    "            i += 1\n",
    "        else:\n",
    "            a, b = args                \n",
    "            val = ops[instr](regs, a, b)\n",
    "            if not isinstance(val, int):\n",
    "                val = simplify(val)\n",
    "                if isinstance(val, IntNumRef):\n",
    "                    val = val.as_long()\n",
    "                    \n",
    "            if not isinstance(val, int):\n",
    "                result = Int(f'R{j:03d}')\n",
    "                s.add(result == val)\n",
    "                regs[a] = result\n",
    "            else:\n",
    "                regs[a] = val\n",
    "\n",
    "    s.add(regs['z'] == 0)    \n",
    "    return str(s.check()) == 'sat'"
   ]
  },
  {
   "cell_type": "code",
   "execution_count": null,
   "id": "2d28b41e",
   "metadata": {},
   "outputs": [],
   "source": []
  },
  {
   "cell_type": "code",
   "execution_count": 537,
   "id": "33e16fa2",
   "metadata": {},
   "outputs": [],
   "source": [
    "def solve_a(data):\n",
    "    digits = []\n",
    "    for i in tqdm(range(14)):\n",
    "        for n in range(9,0,-1):\n",
    "            if symbolic_exec(data, digits+[n]):\n",
    "                print(n)\n",
    "                digits.append(n)\n",
    "                break\n",
    "    return \"\".join(map(str,digits))"
   ]
  },
  {
   "cell_type": "code",
   "execution_count": null,
   "id": "3ee25059",
   "metadata": {},
   "outputs": [
    {
     "data": {
      "application/vnd.jupyter.widget-view+json": {
       "model_id": "b6534b6e65ab44a482332704466fc622",
       "version_major": 2,
       "version_minor": 0
      },
      "text/plain": [
       "  0%|          | 0/14 [00:00<?, ?it/s]"
      ]
     },
     "metadata": {},
     "output_type": "display_data"
    }
   ],
   "source": [
    "solve_a(data)"
   ]
  },
  {
   "cell_type": "markdown",
   "id": "96f98047",
   "metadata": {},
   "source": [
    "---\n",
    "\n",
    "---\n",
    "\n",
    "---\n",
    "\n",
    "---"
   ]
  },
  {
   "cell_type": "code",
   "execution_count": null,
   "id": "5c239783",
   "metadata": {},
   "outputs": [],
   "source": []
  }
 ],
 "metadata": {
  "kernelspec": {
   "display_name": "Python 3",
   "language": "python",
   "name": "python3"
  },
  "language_info": {
   "codemirror_mode": {
    "name": "ipython",
    "version": 3
   },
   "file_extension": ".py",
   "mimetype": "text/x-python",
   "name": "python",
   "nbconvert_exporter": "python",
   "pygments_lexer": "ipython3",
   "version": "3.8.8"
  }
 },
 "nbformat": 4,
 "nbformat_minor": 5
}
