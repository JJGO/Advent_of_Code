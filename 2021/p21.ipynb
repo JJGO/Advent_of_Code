{
 "cells": [
  {
   "cell_type": "code",
   "execution_count": 31,
   "id": "e83cc632",
   "metadata": {},
   "outputs": [],
   "source": [
    "from aocd.models import Puzzle\n",
    "\n",
    "puzzle = Puzzle(year=2021, day=21)\n",
    "\n",
    "def parses(text):\n",
    "    return [i[0] for i in parse.findall('position: {:d}', text)]\n",
    "\n",
    "data = parses(puzzle.input_data)"
   ]
  },
  {
   "cell_type": "code",
   "execution_count": 32,
   "id": "b55f05a9",
   "metadata": {},
   "outputs": [],
   "source": [
    "sample = parses(\"\"\"Player 1 starting position: 4\n",
    "Player 2 starting position: 8\"\"\")"
   ]
  },
  {
   "cell_type": "code",
   "execution_count": 137,
   "id": "a57d6b22",
   "metadata": {},
   "outputs": [],
   "source": [
    "def cycle(pos):\n",
    "    return 1 + (pos-1) % 10"
   ]
  },
  {
   "cell_type": "code",
   "execution_count": 152,
   "id": "bad4ed2d",
   "metadata": {},
   "outputs": [],
   "source": [
    "def solve_a(data):\n",
    "    pos1, pos2 = data\n",
    "    i = 1 \n",
    "    sc1, sc2 = 0, 0\n",
    "    for i in itertools.count()\n",
    "        pos1 = cycle(pos1 +  i + i + 1 + i + 2)\n",
    "        sc1 += pos1\n",
    "        i += 3\n",
    "        if sc1 >= 1000:\n",
    "            break\n",
    "        pos2 = cycle(pos2 +  i + i + 1 + i + 2)\n",
    "        sc2 += pos2\n",
    "        i += 3\n",
    "        if sc2 >= 1000:\n",
    "            break\n",
    "    return (i-1) * min(sc1,sc2)"
   ]
  },
  {
   "cell_type": "code",
   "execution_count": 153,
   "id": "305f7889",
   "metadata": {},
   "outputs": [
    {
     "data": {
      "text/plain": [
       "739785"
      ]
     },
     "execution_count": 153,
     "metadata": {},
     "output_type": "execute_result"
    }
   ],
   "source": [
    "solve_a(sample)"
   ]
  },
  {
   "cell_type": "code",
   "execution_count": 157,
   "id": "0ce82b76",
   "metadata": {},
   "outputs": [],
   "source": [
    "def solve_a(data):\n",
    "    pos1, pos2 = data\n",
    "    i = 1 \n",
    "    sc1, sc2 = 0, 0\n",
    "    for i in itertools.count(1,6):\n",
    "        pos1 = cycle(pos1 + i + i + 1 + i + 2)\n",
    "        sc1 += pos1\n",
    "        if sc1 >= 1000:\n",
    "            return (i+2)*sc2\n",
    "        i += 3\n",
    "        pos2 = cycle(pos2 + i + i + 1 + i + 2)\n",
    "        sc2 += pos2\n",
    "        if sc2 >= 1000:\n",
    "            return (i+2)*sc1"
   ]
  },
  {
   "cell_type": "code",
   "execution_count": 159,
   "id": "49f01e35",
   "metadata": {},
   "outputs": [
    {
     "data": {
      "text/plain": [
       "506466"
      ]
     },
     "execution_count": 159,
     "metadata": {},
     "output_type": "execute_result"
    }
   ],
   "source": [
    "solve_a(data)"
   ]
  },
  {
   "cell_type": "code",
   "execution_count": null,
   "id": "e69c7fd5",
   "metadata": {},
   "outputs": [],
   "source": []
  },
  {
   "cell_type": "code",
   "execution_count": 165,
   "id": "e88c859d",
   "metadata": {},
   "outputs": [],
   "source": [
    "def solve_b(data):\n",
    "    \"\"\"Each player is represented as dict[pos, dict[score, #ways]]\n",
    "    We update each player indenpendenly and compute products\n",
    "    of wins/loses to account for all possible universes\n",
    "    \"\"\"\n",
    "    pos1, pos2 = data\n",
    "    mem1, mem2 = {pos1: {0:1}}, {pos2: {0:1}}\n",
    "    total1, total2 = 0, 0\n",
    "    # Collapse 27 combinations into the 7 distinct moves (3..9) with counts\n",
    "    steps = Counter(map(sum, itertools.product((1,2,3), repeat=3)))\n",
    "    \n",
    "    def turn(mem):\n",
    "        # Runs turn for a single player\n",
    "        wins = 0\n",
    "        new_mem = defaultdict(lambda: defaultdict(int))\n",
    "        for pos, scores in mem.items():\n",
    "            for score, ways in scores.items():\n",
    "                positions = {cycle(pos+step): n*ways for step, n in steps.items()}\n",
    "                for new_pos, new_ways in positions.items():\n",
    "                    new_score = score + new_pos\n",
    "                    if new_score >= 21:\n",
    "                        wins += new_ways\n",
    "                    else:\n",
    "                        new_mem[new_pos][new_score] += new_ways\n",
    "        return new_mem, wins\n",
    "    \n",
    "    def count_ways(mem):\n",
    "        return sum(ways for pos, scores in mem.items() for score, ways in scores.items())\n",
    "\n",
    "    while len(mem1) != 0 and len(mem2) != 0:\n",
    "        mem1, wins1 = turn(mem1)\n",
    "        total1 += wins1 * count_ways(mem2)\n",
    "        mem2, wins2 = turn(mem2)\n",
    "        total2 += wins2 * count_ways(mem1)\n",
    "\n",
    "    return max(total1, total2)\n",
    "        \n",
    "    "
   ]
  },
  {
   "cell_type": "code",
   "execution_count": 211,
   "id": "67826ed3",
   "metadata": {},
   "outputs": [],
   "source": [
    "def solve_b(data, wincondition=21):\n",
    "    \"\"\"Each player is represented as dict[(pos, score), #ways]]\n",
    "    We update each player indenpendenly and compute products\n",
    "    of wins/loses to account for all possible universes\n",
    "    \"\"\"\n",
    "    pos1, pos2 = data\n",
    "    mem1, mem2 = {(pos1,0):1}, {(pos2,0):1}\n",
    "    total1, total2 = 0, 0\n",
    "    # Collapse 27 combinations into the 7 distinct moves (3..9) with counts\n",
    "    steps = Counter(map(sum, itertools.product((1,2,3), repeat=3)))\n",
    "    \n",
    "    def turn(mem):\n",
    "        # Runs turn for a single player\n",
    "        wins = 0\n",
    "        new_mem = defaultdict(int)\n",
    "        for (pos, score), ways in mem.items():\n",
    "            positions = {cycle(pos+step): n*ways for step, n in steps.items()}\n",
    "            for new_pos, new_ways in positions.items():\n",
    "                new_score = score + new_pos\n",
    "                if new_score >= wincondition:\n",
    "                    wins += new_ways\n",
    "                else:\n",
    "                    new_mem[new_pos,new_score] += new_ways\n",
    "        return new_mem, wins\n",
    "\n",
    "    while len(mem1) != 0 and len(mem2) != 0:\n",
    "        mem1, wins1 = turn(mem1)\n",
    "        total1 += wins1 * sum(mem2.values())\n",
    "        mem2, wins2 = turn(mem2)\n",
    "        total2 += wins2 * sum(mem1.values())\n",
    "\n",
    "    return max(total1, total2)"
   ]
  },
  {
   "cell_type": "code",
   "execution_count": 213,
   "id": "d8b20db0",
   "metadata": {},
   "outputs": [
    {
     "data": {
      "text/plain": [
       "55038535590428753856514661082323914715870927758485665656548544838675"
      ]
     },
     "execution_count": 213,
     "metadata": {},
     "output_type": "execute_result"
    }
   ],
   "source": [
    "solve_b(sample,100)"
   ]
  },
  {
   "cell_type": "code",
   "execution_count": 216,
   "id": "afa53fef",
   "metadata": {},
   "outputs": [],
   "source": [
    "# Solves Part3 as well \n",
    "# https://ol.reddit.com/r/adventofcode/comments/rlgfyi/2021_day_21_part_3_playing_the_full_game/"
   ]
  },
  {
   "cell_type": "code",
   "execution_count": 217,
   "id": "e718d39e",
   "metadata": {},
   "outputs": [
    {
     "data": {
      "text/plain": [
       "5421241233526473492719111827530073322043700685324887972643877167221582706632062890226633882867215122817094478226757831672569240814542964877955305731916648253248335858512057533670130530856541774540595494034042339999669679917631875732825766116784092779284811114399087382450717587331260789093785894799877563606482291952570043001217814381339302494119777384417342867283876524391498980886698692797031928912775846300310773961458685480293345030624886674682243872741738613990867919596644394338348577333930203953377127120984552032785093074890068515454918026316742238636555050830959764192402139432795516421795229983126452003483234264162966755183792554646664002598051928477710447862345835"
      ]
     },
     "execution_count": 217,
     "metadata": {},
     "output_type": "execute_result"
    }
   ],
   "source": [
    "solve_b(sample,1000)"
   ]
  },
  {
   "cell_type": "code",
   "execution_count": 176,
   "id": "861327ea",
   "metadata": {},
   "outputs": [],
   "source": []
  },
  {
   "cell_type": "code",
   "execution_count": null,
   "id": "a59950f9",
   "metadata": {},
   "outputs": [],
   "source": []
  },
  {
   "cell_type": "code",
   "execution_count": null,
   "id": "ffaa7694",
   "metadata": {},
   "outputs": [],
   "source": []
  },
  {
   "cell_type": "code",
   "execution_count": 171,
   "id": "4b3d61b5",
   "metadata": {},
   "outputs": [
    {
     "data": {
      "text/plain": [
       "632979211251440"
      ]
     },
     "execution_count": 171,
     "metadata": {},
     "output_type": "execute_result"
    }
   ],
   "source": [
    "solve_b(data)"
   ]
  },
  {
   "cell_type": "code",
   "execution_count": 172,
   "id": "0092049c",
   "metadata": {},
   "outputs": [
    {
     "name": "stdout",
     "output_type": "stream",
     "text": [
      "2.81 ms ± 114 µs per loop (mean ± std. dev. of 7 runs, 100 loops each)\n"
     ]
    }
   ],
   "source": [
    "%%timeit\n",
    "solve_b(sample)"
   ]
  },
  {
   "cell_type": "code",
   "execution_count": 173,
   "id": "cbfc844c",
   "metadata": {},
   "outputs": [
    {
     "name": "stdout",
     "output_type": "stream",
     "text": [
      "2.83 ms ± 46.1 µs per loop (mean ± std. dev. of 7 runs, 100 loops each)\n"
     ]
    }
   ],
   "source": [
    "%%timeit\n",
    "solve_b(data)"
   ]
  },
  {
   "cell_type": "code",
   "execution_count": null,
   "id": "de9c6cb8",
   "metadata": {},
   "outputs": [],
   "source": []
  },
  {
   "cell_type": "code",
   "execution_count": 123,
   "id": "10997eb7",
   "metadata": {},
   "outputs": [
    {
     "data": {
      "text/plain": [
       "[4, 8]"
      ]
     },
     "execution_count": 123,
     "metadata": {},
     "output_type": "execute_result"
    }
   ],
   "source": [
    "sample"
   ]
  },
  {
   "cell_type": "code",
   "execution_count": 124,
   "id": "97cc1b64",
   "metadata": {},
   "outputs": [
    {
     "data": {
      "text/plain": [
       "[8, 7]"
      ]
     },
     "execution_count": 124,
     "metadata": {},
     "output_type": "execute_result"
    }
   ],
   "source": [
    "data"
   ]
  },
  {
   "cell_type": "code",
   "execution_count": 133,
   "id": "53c05ed4",
   "metadata": {},
   "outputs": [
    {
     "data": {
      "text/plain": [
       "632979211251440"
      ]
     },
     "execution_count": 133,
     "metadata": {},
     "output_type": "execute_result"
    }
   ],
   "source": [
    "max(solve_b(data))"
   ]
  },
  {
   "cell_type": "code",
   "execution_count": 134,
   "id": "0e4bea74",
   "metadata": {},
   "outputs": [
    {
     "data": {
      "text/plain": [
       "444356092776315"
      ]
     },
     "execution_count": 134,
     "metadata": {},
     "output_type": "execute_result"
    }
   ],
   "source": [
    "max(solve_b(sample))"
   ]
  },
  {
   "cell_type": "code",
   "execution_count": 192,
   "id": "c28ab826",
   "metadata": {},
   "outputs": [
    {
     "data": {
      "text/plain": [
       "[444356092776315, 341960390180808]"
      ]
     },
     "execution_count": 192,
     "metadata": {},
     "output_type": "execute_result"
    }
   ],
   "source": [
    "# %%timeit\n",
    "\n",
    "import functools\n",
    "\n",
    "dice = [\n",
    "\ti + j + k\n",
    "\tfor i in (1, 2, 3)\n",
    "\tfor j in (1, 2, 3)\n",
    "\tfor k in (1, 2, 3)\n",
    "]\n",
    "\n",
    "@functools.lru_cache(maxsize=None)\n",
    "def search(state):\n",
    "\tscore, pos = state[0]\n",
    "\tstate = [state[1], None]\n",
    "\twins = [0, 0]\n",
    "\tfor roll in dice:\n",
    "\t\tnewpos = (pos + roll - 1) % 10 + 1\n",
    "\t\tnewscore = score + newpos\n",
    "\t\tstate[1] = (newscore, newpos)\n",
    "\t\tif newscore >= 21:\n",
    "\t\t\twins[0] += 1\n",
    "\t\telse:\n",
    "\t\t\tmyself, other = search(tuple(state))\n",
    "\t\t\twins = [wins[0] + other, wins[1] + myself]\n",
    "\treturn wins\n",
    "\n",
    "search(((0,4),(0,8)))"
   ]
  },
  {
   "cell_type": "code",
   "execution_count": 203,
   "id": "7a517460",
   "metadata": {},
   "outputs": [
    {
     "data": {
      "text/plain": [
       "786316482957123"
      ]
     },
     "execution_count": 203,
     "metadata": {},
     "output_type": "execute_result"
    }
   ],
   "source": [
    "444356092776315+341960390180808"
   ]
  },
  {
   "cell_type": "code",
   "execution_count": 207,
   "id": "b7a62908",
   "metadata": {},
   "outputs": [
    {
     "name": "stdout",
     "output_type": "stream",
     "text": [
      "228 ms ± 47.5 ms per loop (mean ± std. dev. of 7 runs, 10 loops each)\n"
     ]
    }
   ],
   "source": [
    "%%timeit\n",
    "\n",
    "@functools.lru_cache(maxsize=None)\n",
    "def count_wins(p1, p2, sc1, sc2):\n",
    "    # Given that A is at position p1 with score s1, and B is at position p2 with score s2, and A is to move,\n",
    "    # return (# of universes where player A wins, # of universes where player B wins)\n",
    "    wins1, wins2 = 0, 0\n",
    "    for step in map(sum, itertools.product((1,2,3),repeat=3)):\n",
    "        new_p1 = (p1+step-1) % 10 + 1\n",
    "        new_sc1 = sc1 + new_p1\n",
    "        if new_sc1 >= 21:\n",
    "            wins1 += 1\n",
    "        else:\n",
    "            w2, w1 = count_wins(p2, new_p1, sc2, new_sc1)\n",
    "            wins1 += w1\n",
    "            wins2 += w2\n",
    "    return wins1, wins2\n",
    "\n",
    "\n",
    "count_wins(*data,0,0)"
   ]
  },
  {
   "cell_type": "code",
   "execution_count": 202,
   "id": "3441cbc3",
   "metadata": {},
   "outputs": [
    {
     "data": {
      "text/plain": [
       "(444356092776315, 341960390180808)"
      ]
     },
     "execution_count": 202,
     "metadata": {},
     "output_type": "execute_result"
    }
   ],
   "source": []
  },
  {
   "cell_type": "code",
   "execution_count": null,
   "id": "2cccba2a",
   "metadata": {},
   "outputs": [],
   "source": []
  }
 ],
 "metadata": {
  "kernelspec": {
   "display_name": "Python 3",
   "language": "python",
   "name": "python3"
  },
  "language_info": {
   "codemirror_mode": {
    "name": "ipython",
    "version": 3
   },
   "file_extension": ".py",
   "mimetype": "text/x-python",
   "name": "python",
   "nbconvert_exporter": "python",
   "pygments_lexer": "ipython3",
   "version": "3.8.8"
  }
 },
 "nbformat": 4,
 "nbformat_minor": 5
}
