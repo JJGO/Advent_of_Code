{
 "cells": [
  {
   "cell_type": "code",
   "execution_count": 1,
   "id": "7332b178",
   "metadata": {},
   "outputs": [],
   "source": [
    "from aocd.models import Puzzle\n",
    "\n",
    "puzzle = Puzzle(year=2021, day=19)\n",
    "\n",
    "def parses(text):\n",
    "    scanners = text.strip().split('\\n\\n')\n",
    "    scanners = [[[int(i) for i in line.split(',')] for line in scanner.split('\\n')[1:]] for scanner in scanners ]\n",
    "    return [np.array(s) for s in scanners]\n",
    "\n",
    "data = parses(puzzle.input_data)"
   ]
  },
  {
   "cell_type": "code",
   "execution_count": 36,
   "id": "fd365e6e",
   "metadata": {},
   "outputs": [],
   "source": [
    "sample = parses(\"\"\"--- scanner 0 ---\n",
    "404,-588,-901\n",
    "528,-643,409\n",
    "-838,591,734\n",
    "390,-675,-793\n",
    "-537,-823,-458\n",
    "-485,-357,347\n",
    "-345,-311,381\n",
    "-661,-816,-575\n",
    "-876,649,763\n",
    "-618,-824,-621\n",
    "553,345,-567\n",
    "474,580,667\n",
    "-447,-329,318\n",
    "-584,868,-557\n",
    "544,-627,-890\n",
    "564,392,-477\n",
    "455,729,728\n",
    "-892,524,684\n",
    "-689,845,-530\n",
    "423,-701,434\n",
    "7,-33,-71\n",
    "630,319,-379\n",
    "443,580,662\n",
    "-789,900,-551\n",
    "459,-707,401\n",
    "\n",
    "--- scanner 1 ---\n",
    "686,422,578\n",
    "605,423,415\n",
    "515,917,-361\n",
    "-336,658,858\n",
    "95,138,22\n",
    "-476,619,847\n",
    "-340,-569,-846\n",
    "567,-361,727\n",
    "-460,603,-452\n",
    "669,-402,600\n",
    "729,430,532\n",
    "-500,-761,534\n",
    "-322,571,750\n",
    "-466,-666,-811\n",
    "-429,-592,574\n",
    "-355,545,-477\n",
    "703,-491,-529\n",
    "-328,-685,520\n",
    "413,935,-424\n",
    "-391,539,-444\n",
    "586,-435,557\n",
    "-364,-763,-893\n",
    "807,-499,-711\n",
    "755,-354,-619\n",
    "553,889,-390\n",
    "\n",
    "--- scanner 2 ---\n",
    "649,640,665\n",
    "682,-795,504\n",
    "-784,533,-524\n",
    "-644,584,-595\n",
    "-588,-843,648\n",
    "-30,6,44\n",
    "-674,560,763\n",
    "500,723,-460\n",
    "609,671,-379\n",
    "-555,-800,653\n",
    "-675,-892,-343\n",
    "697,-426,-610\n",
    "578,704,681\n",
    "493,664,-388\n",
    "-671,-858,530\n",
    "-667,343,800\n",
    "571,-461,-707\n",
    "-138,-166,112\n",
    "-889,563,-600\n",
    "646,-828,498\n",
    "640,759,510\n",
    "-630,509,768\n",
    "-681,-892,-333\n",
    "673,-379,-804\n",
    "-742,-814,-386\n",
    "577,-820,562\n",
    "\n",
    "--- scanner 3 ---\n",
    "-589,542,597\n",
    "605,-692,669\n",
    "-500,565,-823\n",
    "-660,373,557\n",
    "-458,-679,-417\n",
    "-488,449,543\n",
    "-626,468,-788\n",
    "338,-750,-386\n",
    "528,-832,-391\n",
    "562,-778,733\n",
    "-938,-730,414\n",
    "543,643,-506\n",
    "-524,371,-870\n",
    "407,773,750\n",
    "-104,29,83\n",
    "378,-903,-323\n",
    "-778,-728,485\n",
    "426,699,580\n",
    "-438,-605,-362\n",
    "-469,-447,-387\n",
    "509,732,623\n",
    "647,635,-688\n",
    "-868,-804,481\n",
    "614,-800,639\n",
    "595,780,-596\n",
    "\n",
    "--- scanner 4 ---\n",
    "727,592,562\n",
    "-293,-554,779\n",
    "441,611,-461\n",
    "-714,465,-776\n",
    "-743,427,-804\n",
    "-660,-479,-426\n",
    "832,-632,460\n",
    "927,-485,-438\n",
    "408,393,-506\n",
    "466,436,-512\n",
    "110,16,151\n",
    "-258,-428,682\n",
    "-393,719,612\n",
    "-211,-452,876\n",
    "808,-476,-593\n",
    "-575,615,604\n",
    "-485,667,467\n",
    "-680,325,-822\n",
    "-627,-443,-432\n",
    "872,-547,-609\n",
    "833,512,582\n",
    "807,604,487\n",
    "839,-516,451\n",
    "891,-625,532\n",
    "-652,-548,-490\n",
    "30,-46,-14\"\"\")"
   ]
  },
  {
   "cell_type": "code",
   "execution_count": 40,
   "id": "69e70cb3",
   "metadata": {},
   "outputs": [],
   "source": [
    "def righthand_rotations():\n",
    "    # Generate all 3! * 2**3 possible rotation/mirror matrices\n",
    "    # and keep the ones that are rotation since det(R) = 1\n",
    "    I = np.eye(3, dtype=int)\n",
    "    row_perms = map(np.array, itertools.permutations(range(3)))\n",
    "    signs = map(np.array, itertools.product((1,-1),repeat=3))\n",
    "    Rs = [I[p]*s for p, s in itertools.product(row_perms, signs)]\n",
    "    return [R for R in Rs if np.linalg.det(R) == 1]\n",
    "\n",
    "ROTATIONS = righthand_rotations()"
   ]
  },
  {
   "cell_type": "code",
   "execution_count": 41,
   "id": "4e4f3a3d",
   "metadata": {},
   "outputs": [],
   "source": []
  },
  {
   "cell_type": "code",
   "execution_count": 42,
   "id": "2ebd9488",
   "metadata": {},
   "outputs": [],
   "source": [
    "def valid_overlap(known, candidate):\n",
    "    known_set = set(map(tuple,known))\n",
    "    # known is absolute coordinates, candidate is relative\n",
    "    for rotation in ROTATIONS:\n",
    "        for point in known:\n",
    "            for distance in candidate:\n",
    "                potential_scanner = point -  distance @ rotation\n",
    "                potential_absolute = candidate @ rotation + potential_scanner\n",
    "                potential_set = set(map(tuple, potential_absolute))\n",
    "                if len(known_set & potential_set) >= 12:\n",
    "                    return potential_scanner, potential_absolute"
   ]
  },
  {
   "cell_type": "code",
   "execution_count": null,
   "id": "040748de",
   "metadata": {},
   "outputs": [],
   "source": []
  },
  {
   "cell_type": "code",
   "execution_count": 43,
   "id": "8f0e2b35",
   "metadata": {},
   "outputs": [],
   "source": []
  },
  {
   "cell_type": "code",
   "execution_count": 45,
   "id": "1f311573",
   "metadata": {},
   "outputs": [],
   "source": [
    "def find_absolute_positions(scanners):\n",
    "\n",
    "    locations = {0: np.array([0,0,0])}\n",
    "    absolute = {0: scanners[0]}\n",
    "    unsolved = set(range(1,len(scanners)))\n",
    "    tested = set()\n",
    "\n",
    "    while len(unsolved) > 0:\n",
    "        for known, candidate in itertools.product(absolute, unsolved):\n",
    "            if (known, candidate) not in tested:\n",
    "                tested.add((known, candidate))\n",
    "                if (sol := valid_overlap(absolute[known], scanners[candidate])) is not None:\n",
    "                    locations[candidate], absolute[candidate] = sol\n",
    "                    unsolved.remove(candidate)\n",
    "                    print(f'Found {candidate} using {known} at locations {locations[candidate]}')\n",
    "                    break\n",
    "    return locations, absolute "
   ]
  },
  {
   "cell_type": "code",
   "execution_count": 46,
   "id": "4b5ab9bc",
   "metadata": {},
   "outputs": [
    {
     "name": "stdout",
     "output_type": "stream",
     "text": [
      "Found 1 using 0 at locations [   68 -1246   -43]\n",
      "Found 3 using 1 at locations [  -92 -2380   -20]\n",
      "Found 4 using 1 at locations [  -20 -1133  1061]\n",
      "Found 2 using 4 at locations [ 1105 -1205  1229]\n",
      "3.015087127685547\n"
     ]
    }
   ],
   "source": [
    "import time\n",
    "start = time.time()\n",
    "find_absolute_positions(sample)\n",
    "print(time.time()-start)"
   ]
  },
  {
   "cell_type": "code",
   "execution_count": 47,
   "id": "245f5af1",
   "metadata": {},
   "outputs": [],
   "source": [
    "def solve_a(scanners):\n",
    "    _, absolute = find_absolute_positions(scanners)\n",
    "    return len(np.unique(np.vstack(list(absolute.values())), axis=0))"
   ]
  },
  {
   "cell_type": "code",
   "execution_count": 49,
   "id": "904269a6",
   "metadata": {},
   "outputs": [
    {
     "name": "stdout",
     "output_type": "stream",
     "text": [
      "Found 2 using 0 at locations [ -28 1245 -161]\n",
      "Found 24 using 0 at locations [1163   26 -170]\n",
      "Found 27 using 0 at locations [-1254    90  -158]\n",
      "Found 18 using 2 at locations [  -18  1355 -1280]\n",
      "Found 31 using 24 at locations [ 1146 -1193   -28]\n",
      "Found 1 using 27 at locations [-2380    15   -13]\n",
      "Found 4 using 27 at locations [-1078    63  1010]\n",
      "Found 26 using 27 at locations [-1105    28 -1236]\n",
      "Found 7 using 18 at locations [  -12  2400 -1318]\n",
      "Found 23 using 18 at locations [-1075  1190 -1385]\n",
      "Found 15 using 1 at locations [-2348   173 -1313]\n",
      "Found 32 using 1 at locations [-2450 -1024   -26]\n",
      "Found 36 using 1 at locations [-3547     0   -79]\n",
      "Found 11 using 4 at locations [-1233 -1211  1144]\n",
      "Found 12 using 4 at locations [-1092  1288  1125]\n",
      "Found 10 using 23 at locations [-2449  1277 -1238]\n",
      "Found 3 using 32 at locations [-2290 -2266  -141]\n",
      "Found 16 using 36 at locations [-4753    30  -166]\n",
      "Found 28 using 36 at locations [-3532    97  1132]\n",
      "Found 8 using 12 at locations [-1224  2573  1061]\n",
      "Found 30 using 12 at locations [-2428  1249  1069]\n",
      "Found 6 using 3 at locations [-2269 -3556   -95]\n",
      "Found 19 using 3 at locations [-1131 -2278  -172]\n",
      "Found 20 using 3 at locations [-2337 -2411  1197]\n",
      "Found 29 using 16 at locations [-4722    31  1198]\n",
      "Found 33 using 16 at locations [-6042   159  -182]\n",
      "Found 14 using 28 at locations [-3560   131  2245]\n",
      "Found 9 using 6 at locations [-2385 -3457  1117]\n",
      "Found 34 using 6 at locations [-2369 -4811   -22]\n",
      "Found 35 using 6 at locations [-1144 -3615   -89]\n",
      "Found 25 using 29 at locations [-4732   -17  2315]\n",
      "Found 22 using 33 at locations [-5936 -1062   -10]\n",
      "Found 13 using 9 at locations [-2339 -3488  2394]\n",
      "Found 17 using 9 at locations [-2334 -4684  1017]\n",
      "Found 5 using 13 at locations [-3472 -3589  2361]\n",
      "Found 21 using 13 at locations [-1256 -3495  2220]\n"
     ]
    }
   ],
   "source": [
    "x = find_absolute_positions(data)"
   ]
  },
  {
   "cell_type": "code",
   "execution_count": 27,
   "id": "276ac3be",
   "metadata": {},
   "outputs": [
    {
     "name": "stdout",
     "output_type": "stream",
     "text": [
      "Found 1 at locations [   68 -1246   -43]\n"
     ]
    },
    {
     "ename": "KeyboardInterrupt",
     "evalue": "",
     "output_type": "error",
     "traceback": [
      "\u001b[0;31m---------------------------------------------------------------------------\u001b[0m",
      "\u001b[0;31mKeyboardInterrupt\u001b[0m                         Traceback (most recent call last)",
      "\u001b[0;32m<ipython-input-27-a7566e246ac7>\u001b[0m in \u001b[0;36m<module>\u001b[0;34m\u001b[0m\n\u001b[0;32m----> 1\u001b[0;31m \u001b[0msolve_a\u001b[0m\u001b[0;34m(\u001b[0m\u001b[0msample\u001b[0m\u001b[0;34m)\u001b[0m\u001b[0;34m\u001b[0m\u001b[0;34m\u001b[0m\u001b[0m\n\u001b[0m\u001b[1;32m      2\u001b[0m \u001b[0;34m\u001b[0m\u001b[0m\n\u001b[1;32m      3\u001b[0m locs = [\n\u001b[1;32m      4\u001b[0m     \u001b[0;34m[\u001b[0m   \u001b[0;36m68\u001b[0m\u001b[0;34m,\u001b[0m \u001b[0;34m-\u001b[0m\u001b[0;36m1246\u001b[0m\u001b[0;34m,\u001b[0m   \u001b[0;34m-\u001b[0m\u001b[0;36m43\u001b[0m\u001b[0;34m]\u001b[0m\u001b[0;34m,\u001b[0m\u001b[0;34m\u001b[0m\u001b[0;34m\u001b[0m\u001b[0m\n\u001b[1;32m      5\u001b[0m     \u001b[0;34m[\u001b[0m  \u001b[0;34m-\u001b[0m\u001b[0;36m92\u001b[0m\u001b[0;34m,\u001b[0m \u001b[0;34m-\u001b[0m\u001b[0;36m2380\u001b[0m\u001b[0;34m,\u001b[0m   \u001b[0;34m-\u001b[0m\u001b[0;36m20\u001b[0m\u001b[0;34m]\u001b[0m\u001b[0;34m,\u001b[0m\u001b[0;34m\u001b[0m\u001b[0;34m\u001b[0m\u001b[0m\n",
      "\u001b[0;32m<ipython-input-14-77871e1c1a63>\u001b[0m in \u001b[0;36msolve_a\u001b[0;34m(scanners)\u001b[0m\n\u001b[1;32m      1\u001b[0m \u001b[0;32mdef\u001b[0m \u001b[0msolve_a\u001b[0m\u001b[0;34m(\u001b[0m\u001b[0mscanners\u001b[0m\u001b[0;34m)\u001b[0m\u001b[0;34m:\u001b[0m\u001b[0;34m\u001b[0m\u001b[0;34m\u001b[0m\u001b[0m\n\u001b[0;32m----> 2\u001b[0;31m     \u001b[0m_\u001b[0m\u001b[0;34m,\u001b[0m \u001b[0mabsolute\u001b[0m \u001b[0;34m=\u001b[0m \u001b[0mfind_absolute_positions\u001b[0m\u001b[0;34m(\u001b[0m\u001b[0mscanners\u001b[0m\u001b[0;34m)\u001b[0m\u001b[0;34m\u001b[0m\u001b[0;34m\u001b[0m\u001b[0m\n\u001b[0m\u001b[1;32m      3\u001b[0m     \u001b[0;32mreturn\u001b[0m \u001b[0mlen\u001b[0m\u001b[0;34m(\u001b[0m\u001b[0mnp\u001b[0m\u001b[0;34m.\u001b[0m\u001b[0munique\u001b[0m\u001b[0;34m(\u001b[0m\u001b[0mnp\u001b[0m\u001b[0;34m.\u001b[0m\u001b[0mvstack\u001b[0m\u001b[0;34m(\u001b[0m\u001b[0mlist\u001b[0m\u001b[0;34m(\u001b[0m\u001b[0mabsolute\u001b[0m\u001b[0;34m.\u001b[0m\u001b[0mvalues\u001b[0m\u001b[0;34m(\u001b[0m\u001b[0;34m)\u001b[0m\u001b[0;34m)\u001b[0m\u001b[0;34m)\u001b[0m\u001b[0;34m,\u001b[0m \u001b[0maxis\u001b[0m\u001b[0;34m=\u001b[0m\u001b[0;36m0\u001b[0m\u001b[0;34m)\u001b[0m\u001b[0;34m)\u001b[0m\u001b[0;34m\u001b[0m\u001b[0;34m\u001b[0m\u001b[0m\n",
      "\u001b[0;32m<ipython-input-17-f8e658d51bf2>\u001b[0m in \u001b[0;36mfind_absolute_positions\u001b[0;34m(scanners)\u001b[0m\n\u001b[1;32m     10\u001b[0m             \u001b[0;32mif\u001b[0m \u001b[0;34m(\u001b[0m\u001b[0mknown\u001b[0m\u001b[0;34m,\u001b[0m \u001b[0mcandidate\u001b[0m\u001b[0;34m)\u001b[0m \u001b[0;32mnot\u001b[0m \u001b[0;32min\u001b[0m \u001b[0mtested\u001b[0m\u001b[0;34m:\u001b[0m\u001b[0;34m\u001b[0m\u001b[0;34m\u001b[0m\u001b[0m\n\u001b[1;32m     11\u001b[0m                 \u001b[0mtested\u001b[0m\u001b[0;34m.\u001b[0m\u001b[0madd\u001b[0m\u001b[0;34m(\u001b[0m\u001b[0;34m(\u001b[0m\u001b[0mknown\u001b[0m\u001b[0;34m,\u001b[0m \u001b[0mcandidate\u001b[0m\u001b[0;34m)\u001b[0m\u001b[0;34m)\u001b[0m\u001b[0;34m\u001b[0m\u001b[0;34m\u001b[0m\u001b[0m\n\u001b[0;32m---> 12\u001b[0;31m                 \u001b[0;32mif\u001b[0m \u001b[0;34m(\u001b[0m\u001b[0msol\u001b[0m \u001b[0;34m:=\u001b[0m \u001b[0mvalid_overlap\u001b[0m\u001b[0;34m(\u001b[0m\u001b[0mabsolute\u001b[0m\u001b[0;34m[\u001b[0m\u001b[0mknown\u001b[0m\u001b[0;34m]\u001b[0m\u001b[0;34m,\u001b[0m \u001b[0mscanners\u001b[0m\u001b[0;34m[\u001b[0m\u001b[0mcandidate\u001b[0m\u001b[0;34m]\u001b[0m\u001b[0;34m)\u001b[0m\u001b[0;34m)\u001b[0m \u001b[0;32mis\u001b[0m \u001b[0;32mnot\u001b[0m \u001b[0;32mNone\u001b[0m\u001b[0;34m:\u001b[0m\u001b[0;34m\u001b[0m\u001b[0;34m\u001b[0m\u001b[0m\n\u001b[0m\u001b[1;32m     13\u001b[0m                     \u001b[0mlocations\u001b[0m\u001b[0;34m[\u001b[0m\u001b[0mcandidate\u001b[0m\u001b[0;34m]\u001b[0m\u001b[0;34m,\u001b[0m \u001b[0mabsolute\u001b[0m\u001b[0;34m[\u001b[0m\u001b[0mcandidate\u001b[0m\u001b[0;34m]\u001b[0m \u001b[0;34m=\u001b[0m \u001b[0msol\u001b[0m\u001b[0;34m\u001b[0m\u001b[0;34m\u001b[0m\u001b[0m\n\u001b[1;32m     14\u001b[0m                     \u001b[0munsolved\u001b[0m\u001b[0;34m.\u001b[0m\u001b[0mremove\u001b[0m\u001b[0;34m(\u001b[0m\u001b[0mcandidate\u001b[0m\u001b[0;34m)\u001b[0m\u001b[0;34m\u001b[0m\u001b[0;34m\u001b[0m\u001b[0m\n",
      "\u001b[0;32m<ipython-input-5-ddff79c01b9d>\u001b[0m in \u001b[0;36mvalid_overlap\u001b[0;34m(known, candidate)\u001b[0m\n\u001b[1;32m      8\u001b[0m                 _, counts = np.unique(np.vstack([known, potential_absolute]), \n\u001b[1;32m      9\u001b[0m                                       return_counts=True, axis=0)\n\u001b[0;32m---> 10\u001b[0;31m                 \u001b[0;32mif\u001b[0m \u001b[0;34m(\u001b[0m\u001b[0mcounts\u001b[0m \u001b[0;34m==\u001b[0m \u001b[0;36m2\u001b[0m\u001b[0;34m)\u001b[0m\u001b[0;34m.\u001b[0m\u001b[0msum\u001b[0m\u001b[0;34m(\u001b[0m\u001b[0;34m)\u001b[0m \u001b[0;34m>=\u001b[0m \u001b[0;36m12\u001b[0m\u001b[0;34m:\u001b[0m\u001b[0;34m\u001b[0m\u001b[0;34m\u001b[0m\u001b[0m\n\u001b[0m\u001b[1;32m     11\u001b[0m                     \u001b[0;32mreturn\u001b[0m \u001b[0mpotential_scanner\u001b[0m\u001b[0;34m,\u001b[0m \u001b[0mpotential_absolute\u001b[0m\u001b[0;34m\u001b[0m\u001b[0;34m\u001b[0m\u001b[0m\n",
      "\u001b[0;32m~/.pyenv/versions/anaconda3-2021.05/lib/python3.8/site-packages/numpy/core/_methods.py\u001b[0m in \u001b[0;36m_sum\u001b[0;34m(a, axis, dtype, out, keepdims, initial, where)\u001b[0m\n\u001b[1;32m     45\u001b[0m def _sum(a, axis=None, dtype=None, out=None, keepdims=False,\n\u001b[1;32m     46\u001b[0m          initial=_NoValue, where=True):\n\u001b[0;32m---> 47\u001b[0;31m     \u001b[0;32mreturn\u001b[0m \u001b[0mumr_sum\u001b[0m\u001b[0;34m(\u001b[0m\u001b[0ma\u001b[0m\u001b[0;34m,\u001b[0m \u001b[0maxis\u001b[0m\u001b[0;34m,\u001b[0m \u001b[0mdtype\u001b[0m\u001b[0;34m,\u001b[0m \u001b[0mout\u001b[0m\u001b[0;34m,\u001b[0m \u001b[0mkeepdims\u001b[0m\u001b[0;34m,\u001b[0m \u001b[0minitial\u001b[0m\u001b[0;34m,\u001b[0m \u001b[0mwhere\u001b[0m\u001b[0;34m)\u001b[0m\u001b[0;34m\u001b[0m\u001b[0;34m\u001b[0m\u001b[0m\n\u001b[0m\u001b[1;32m     48\u001b[0m \u001b[0;34m\u001b[0m\u001b[0m\n\u001b[1;32m     49\u001b[0m def _prod(a, axis=None, dtype=None, out=None, keepdims=False,\n",
      "\u001b[0;31mKeyboardInterrupt\u001b[0m: "
     ]
    }
   ],
   "source": [
    "solve_a(sample)\n"
   ]
  },
  {
   "cell_type": "code",
   "execution_count": null,
   "id": "025e3385",
   "metadata": {},
   "outputs": [],
   "source": []
  },
  {
   "cell_type": "code",
   "execution_count": 18,
   "id": "8710ba44",
   "metadata": {},
   "outputs": [
    {
     "name": "stdout",
     "output_type": "stream",
     "text": [
      "Found 2 at locations [ -28 1245 -161]\n",
      "Found 24 at locations [1163   26 -170]\n",
      "Found 27 at locations [-1254    90  -158]\n",
      "Found 18 at locations [  -18  1355 -1280]\n",
      "Found 31 at locations [ 1146 -1193   -28]\n",
      "Found 1 at locations [-2380    15   -13]\n",
      "Found 4 at locations [-1078    63  1010]\n",
      "Found 26 at locations [-1105    28 -1236]\n",
      "Found 7 at locations [  -12  2400 -1318]\n",
      "Found 23 at locations [-1075  1190 -1385]\n",
      "Found 15 at locations [-2348   173 -1313]\n",
      "Found 32 at locations [-2450 -1024   -26]\n",
      "Found 36 at locations [-3547     0   -79]\n",
      "Found 11 at locations [-1233 -1211  1144]\n",
      "Found 12 at locations [-1092  1288  1125]\n",
      "Found 10 at locations [-2449  1277 -1238]\n",
      "Found 3 at locations [-2290 -2266  -141]\n",
      "Found 16 at locations [-4753    30  -166]\n",
      "Found 28 at locations [-3532    97  1132]\n",
      "Found 8 at locations [-1224  2573  1061]\n",
      "Found 30 at locations [-2428  1249  1069]\n",
      "Found 6 at locations [-2269 -3556   -95]\n",
      "Found 19 at locations [-1131 -2278  -172]\n",
      "Found 20 at locations [-2337 -2411  1197]\n",
      "Found 29 at locations [-4722    31  1198]\n",
      "Found 33 at locations [-6042   159  -182]\n",
      "Found 14 at locations [-3560   131  2245]\n",
      "Found 9 at locations [-2385 -3457  1117]\n",
      "Found 34 at locations [-2369 -4811   -22]\n",
      "Found 35 at locations [-1144 -3615   -89]\n",
      "Found 25 at locations [-4732   -17  2315]\n",
      "Found 22 at locations [-5936 -1062   -10]\n",
      "Found 13 at locations [-2339 -3488  2394]\n",
      "Found 17 at locations [-2334 -4684  1017]\n",
      "Found 5 at locations [-3472 -3589  2361]\n",
      "Found 21 at locations [-1256 -3495  2220]\n"
     ]
    },
    {
     "data": {
      "text/plain": [
       "449"
      ]
     },
     "execution_count": 18,
     "metadata": {},
     "output_type": "execute_result"
    }
   ],
   "source": [
    "solve_a(data)"
   ]
  },
  {
   "cell_type": "code",
   "execution_count": 19,
   "id": "5f4112c5",
   "metadata": {},
   "outputs": [],
   "source": [
    "L = [\n",
    "\"[ -28 1245 -161]\",\n",
    "\" [1163   26 -170]\",\n",
    "\" [-1254    90  -158]\",\n",
    "\" [  -18  1355 -1280]\",\n",
    "\" [ 1146 -1193   -28]\",\n",
    "\"[-2380    15   -13]\",\n",
    "\"[-1078    63  1010]\",\n",
    "\" [-1105    28 -1236]\",\n",
    "\"[  -12  2400 -1318]\",\n",
    "\" [-1075  1190 -1385]\",\n",
    "\" [-2348   173 -1313]\",\n",
    "\" [-2450 -1024   -26]\",\n",
    "\" [-3547     0   -79]\",\n",
    "\" [-1233 -1211  1144]\",\n",
    "\" [-1092  1288  1125]\",\n",
    "\" [-2449  1277 -1238]\",\n",
    "\"[-2290 -2266  -141]\",\n",
    "\" [-4753    30  -166]\",\n",
    "\" [-3532    97  1132]\",\n",
    "\"[-1224  2573  1061]\",\n",
    "\" [-2428  1249  1069]\",\n",
    "\"[-2269 -3556   -95]\",\n",
    "\" [-1131 -2278  -172]\",\n",
    "\" [-2337 -2411  1197]\",\n",
    "\" [-4722    31  1198]\",\n",
    "\" [-6042   159  -182]\",\n",
    "\" [-3560   131  2245]\",\n",
    "\"[-2385 -3457  1117]\",\n",
    "\" [-2369 -4811   -22]\",\n",
    "\" [-1144 -3615   -89]\",\n",
    "\" [-4732   -17  2315]\",\n",
    "\" [-5936 -1062   -10]\",\n",
    "\" [-2339 -3488  2394]\",\n",
    "\" [-2334 -4684  1017]\",\n",
    "\"[-3472 -3589  2361]\",\n",
    "\" [-1256 -3495  2220]\",\n",
    "]"
   ]
  },
  {
   "cell_type": "code",
   "execution_count": 24,
   "id": "a08c5757",
   "metadata": {},
   "outputs": [],
   "source": [
    "def get(text):\n",
    "    return np.array([[i.fixed[0] for i in parse.findall('{:d}', line)] for line in text])"
   ]
  },
  {
   "cell_type": "code",
   "execution_count": 26,
   "id": "bea8e3ca",
   "metadata": {},
   "outputs": [],
   "source": []
  },
  {
   "cell_type": "code",
   "execution_count": 31,
   "id": "7ad3ea02",
   "metadata": {},
   "outputs": [],
   "source": [
    "\n",
    "locs = np.array([\n",
    "    [   68, -1246,   -43],\n",
    "    [  -92, -2380,   -20],\n",
    "    [  -20, -1133,  1061],\n",
    "    [ 1105, -1205,  1229],\n",
    "])"
   ]
  },
  {
   "cell_type": "code",
   "execution_count": 32,
   "id": "720ea5a6",
   "metadata": {},
   "outputs": [],
   "source": [
    "def furthest(locs):\n",
    "    return max(abs(i-j).sum() for i, j in itertools.combinations(locs, 2))\n",
    "        "
   ]
  },
  {
   "cell_type": "code",
   "execution_count": 33,
   "id": "7774a351",
   "metadata": {},
   "outputs": [
    {
     "data": {
      "text/plain": [
       "3621"
      ]
     },
     "execution_count": 33,
     "metadata": {},
     "output_type": "execute_result"
    }
   ],
   "source": [
    "furthest(locs)"
   ]
  },
  {
   "cell_type": "code",
   "execution_count": 34,
   "id": "813efa67",
   "metadata": {},
   "outputs": [
    {
     "data": {
      "text/plain": [
       "13128"
      ]
     },
     "execution_count": 34,
     "metadata": {},
     "output_type": "execute_result"
    }
   ],
   "source": [
    "locs = get(L)\n",
    "furthest(locs)"
   ]
  },
  {
   "cell_type": "code",
   "execution_count": null,
   "id": "8b06c087",
   "metadata": {},
   "outputs": [],
   "source": []
  },
  {
   "cell_type": "code",
   "execution_count": null,
   "id": "997891b7",
   "metadata": {},
   "outputs": [],
   "source": [
    "o1-d = o2 + d"
   ]
  },
  {
   "cell_type": "code",
   "execution_count": null,
   "id": "e3178b49",
   "metadata": {},
   "outputs": [],
   "source": []
  },
  {
   "cell_type": "code",
   "execution_count": null,
   "id": "42cdb6ed",
   "metadata": {},
   "outputs": [],
   "source": []
  },
  {
   "cell_type": "code",
   "execution_count": 57,
   "id": "d5bbe5d9",
   "metadata": {},
   "outputs": [],
   "source": []
  },
  {
   "cell_type": "code",
   "execution_count": null,
   "id": "bd2e5ded",
   "metadata": {},
   "outputs": [],
   "source": []
  },
  {
   "cell_type": "code",
   "execution_count": 65,
   "id": "98f76ae0",
   "metadata": {},
   "outputs": [
    {
     "data": {
      "text/plain": [
       "(25, 3)"
      ]
     },
     "execution_count": 65,
     "metadata": {},
     "output_type": "execute_result"
    }
   ],
   "source": [
    "sample[0].shape"
   ]
  },
  {
   "cell_type": "code",
   "execution_count": 67,
   "id": "ffc8d264",
   "metadata": {},
   "outputs": [
    {
     "data": {
      "text/plain": [
       "(25, 3)"
      ]
     },
     "execution_count": 67,
     "metadata": {},
     "output_type": "execute_result"
    }
   ],
   "source": [
    "sample[0].shape"
   ]
  },
  {
   "cell_type": "code",
   "execution_count": 69,
   "id": "1f58b410",
   "metadata": {},
   "outputs": [
    {
     "data": {
      "text/plain": [
       "(26, 3)"
      ]
     },
     "execution_count": 69,
     "metadata": {},
     "output_type": "execute_result"
    }
   ],
   "source": [
    "sample[2].shape"
   ]
  },
  {
   "cell_type": "code",
   "execution_count": 72,
   "id": "a4f88e88",
   "metadata": {},
   "outputs": [
    {
     "data": {
      "text/plain": [
       "(25, 26, 3)"
      ]
     },
     "execution_count": 72,
     "metadata": {},
     "output_type": "execute_result"
    }
   ],
   "source": [
    "(sample[0][:,None,:] - sample[2][None,:,:]).shape"
   ]
  },
  {
   "cell_type": "code",
   "execution_count": 73,
   "id": "3dcddfbf",
   "metadata": {},
   "outputs": [
    {
     "data": {
      "text/plain": [
       "array([0.])"
      ]
     },
     "execution_count": 73,
     "metadata": {},
     "output_type": "execute_result"
    }
   ],
   "source": [
    "np.unique(np.zeros((2,3,4)))"
   ]
  },
  {
   "cell_type": "code",
   "execution_count": 77,
   "id": "96e10f67",
   "metadata": {},
   "outputs": [
    {
     "data": {
      "text/plain": [
       "2"
      ]
     },
     "execution_count": 77,
     "metadata": {},
     "output_type": "execute_result"
    }
   ],
   "source": [
    "366 % 7"
   ]
  },
  {
   "cell_type": "code",
   "execution_count": null,
   "id": "95ca0f82",
   "metadata": {},
   "outputs": [],
   "source": [
    "@lru_cache()\n",
    "def righthand_rotations():\n",
    "    # Generate all 3! * 2**3 possible rotation/mirror matrices\n",
    "    # and keep the ones that are rotation since det(R) = 1\n",
    "    # Returns pairs of row permutation indices and signs, not matrices\n",
    "    I = np.eye(3, dtype=int)\n",
    "    row_perms = map(np.array, itertools.permutations(range(3)))\n",
    "    signs = map(np.array, itertools.product((1,-1),repeat=3))\n",
    "    return [(p,s) for p, s in itertools.product(row_perms, signs) if np.linalg.det(I[p]*s) == 1]"
   ]
  },
  {
   "cell_type": "code",
   "execution_count": 78,
   "id": "95a86a06",
   "metadata": {},
   "outputs": [],
   "source": [
    "def valid_overlap(known, candidate):\n",
    "    # known is absolute coordinates, candidate is relative/distances\n",
    "    for (perm, sign) in righthand_rotations():\n",
    "        rot_candidate = candidate[:,perm] * sign\n",
    "        # known = candidate + loc_candidate, so by substractng we get a 2d array of vectors\n",
    "        # containing the location of candidate if the i^th beacon matched the j^th distance\n",
    "        pred_locations = known[:,None,:] - rot_candidate[None,:,:]\n",
    "        loc, counts = np.unique(pred_locations.reshape(-1,3), axis=0, return_counts=True)\n",
    "        candidate_loc = loc[counts >= 12]\n",
    "        if len(candidate_loc) > 0:\n",
    "            candidate_loc = candidate_loc[0]\n",
    "            return candidate_loc, rot_candidate + candidate_loc"
   ]
  },
  {
   "cell_type": "code",
   "execution_count": 106,
   "id": "b8fe3b84",
   "metadata": {},
   "outputs": [],
   "source": [
    "def find_absolute_positions(scanners):\n",
    "\n",
    "    locations = {0: np.array([0,0,0])}\n",
    "    absolute = {0: scanners[0]}\n",
    "    unsolved = set(range(1,len(scanners)))\n",
    "    tested = set()\n",
    "\n",
    "    while len(unsolved) > 0:\n",
    "        for known, candidate in itertools.product(absolute, unsolved):\n",
    "            if (known, candidate) not in tested:\n",
    "                tested.add((known, candidate))\n",
    "                if (sol := valid_overlap(absolute[known], scanners[candidate])) is not None:\n",
    "                    locations[candidate], absolute[candidate] = sol\n",
    "                    unsolved.remove(candidate)\n",
    "                    break\n",
    "    return locations, absolute "
   ]
  },
  {
   "cell_type": "code",
   "execution_count": 107,
   "id": "f5b44ed5",
   "metadata": {},
   "outputs": [
    {
     "name": "stdout",
     "output_type": "stream",
     "text": [
      "3.8145127296447754\n"
     ]
    }
   ],
   "source": [
    "start = time.time()\n",
    "find_absolute_positions(data)\n",
    "print(time.time()-start)"
   ]
  },
  {
   "cell_type": "code",
   "execution_count": 98,
   "id": "e8b21a93",
   "metadata": {},
   "outputs": [],
   "source": [
    "def find_absolute_positions(scanners):\n",
    "\n",
    "    locations = [np.array([0,0,0])] + [None]*(len(scanners)-1)\n",
    "    absolute = [scanners[0]] + [None]*(len(scanners)-1)\n",
    "    all_absolute = scanners[0]\n",
    "    unsolved = set(range(1,len(scanners)))\n",
    "\n",
    "    while len(unsolved) > 0:\n",
    "        for candidate in unsolved:\n",
    "            if (sol := valid_overlap(all_absolute, scanners[candidate])) is not None:\n",
    "                locations[candidate], absolute[candidate] = sol\n",
    "                unsolved.remove(candidate)\n",
    "                all_absolute = np.vstack([all_absolute, absolute[candidate]])\n",
    "                break\n",
    "                \n",
    "    return locations, absolute "
   ]
  },
  {
   "cell_type": "code",
   "execution_count": 99,
   "id": "8d33c255",
   "metadata": {},
   "outputs": [
    {
     "name": "stdout",
     "output_type": "stream",
     "text": [
      "23.01850700378418\n"
     ]
    }
   ],
   "source": [
    "start = time.time()\n",
    "find_absolute_positions(data)\n",
    "print(time.time()-start)"
   ]
  },
  {
   "cell_type": "code",
   "execution_count": 105,
   "id": "af23dcc0",
   "metadata": {},
   "outputs": [],
   "source": [
    "def solve_a(scanners):\n",
    "    _, absolute = find_absolute_positions(scanners)\n",
    "    return len(np.unique(np.vstack(absolute), axis=0))"
   ]
  },
  {
   "cell_type": "code",
   "execution_count": 104,
   "id": "5cc97250",
   "metadata": {},
   "outputs": [],
   "source": [
    "def solve_b(scanners):\n",
    "    locations, _ = find_absolute_positions(scanners)\n",
    "    return max(abs(i-j).sum() for i, j in itertools.combinations(locations, 2))"
   ]
  },
  {
   "cell_type": "code",
   "execution_count": null,
   "id": "61fa2b5a",
   "metadata": {},
   "outputs": [],
   "source": [
    "start = time.time()\n",
    "solve(data)\n",
    "print(time.time()-start)"
   ]
  }
 ],
 "metadata": {
  "kernelspec": {
   "display_name": "Python 3",
   "language": "python",
   "name": "python3"
  },
  "language_info": {
   "codemirror_mode": {
    "name": "ipython",
    "version": 3
   },
   "file_extension": ".py",
   "mimetype": "text/x-python",
   "name": "python",
   "nbconvert_exporter": "python",
   "pygments_lexer": "ipython3",
   "version": "3.8.8"
  }
 },
 "nbformat": 4,
 "nbformat_minor": 5
}
