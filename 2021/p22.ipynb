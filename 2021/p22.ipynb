{
 "cells": [
  {
   "cell_type": "code",
   "execution_count": 1,
   "id": "e83cc632",
   "metadata": {},
   "outputs": [],
   "source": [
    "from aocd.models import Puzzle\n",
    "\n",
    "puzzle = Puzzle(year=2021, day=22)\n",
    "\n",
    "def parses(text):\n",
    "    lines = [(line.startswith('on'), tuple(int(i) for i in re.findall(r\"-?\\d+\", line))) for line in text.strip().split('\\n')]\n",
    "    return [(on, coords[:2], coords[2:4], coords[4:]) for on, coords in lines]\n",
    "\n",
    "data = parses(puzzle.input_data)"
   ]
  },
  {
   "cell_type": "code",
   "execution_count": 2,
   "id": "b55f05a9",
   "metadata": {},
   "outputs": [],
   "source": [
    "sample = parses(\"\"\"on x=10..12,y=10..12,z=10..12\n",
    "on x=11..13,y=11..13,z=11..13\n",
    "off x=9..11,y=9..11,z=9..11\n",
    "on x=10..10,y=10..10,z=10..10\"\"\")"
   ]
  },
  {
   "cell_type": "code",
   "execution_count": 3,
   "id": "7dadfc64",
   "metadata": {},
   "outputs": [],
   "source": [
    "def solve_a(data):\n",
    "    points = set()\n",
    "    for on, *ranges in data:\n",
    "        if all( a >= -50 and b <= 51 for a, b in ranges):\n",
    "            p = set(itertools.product(*[range(a,b+1) for (a,b) in ranges]))\n",
    "            if on:\n",
    "                points |= p\n",
    "            else:\n",
    "                points -= p\n",
    "    return len(points)\n",
    "        "
   ]
  },
  {
   "cell_type": "code",
   "execution_count": 4,
   "id": "76dbaa0f",
   "metadata": {},
   "outputs": [
    {
     "data": {
      "text/plain": [
       "39"
      ]
     },
     "execution_count": 4,
     "metadata": {},
     "output_type": "execute_result"
    }
   ],
   "source": [
    "solve_a(sample)"
   ]
  },
  {
   "cell_type": "code",
   "execution_count": 5,
   "id": "e15c4483",
   "metadata": {},
   "outputs": [],
   "source": [
    "sample2 = parses(\"\"\"on x=-20..26,y=-36..17,z=-47..7\n",
    "on x=-20..33,y=-21..23,z=-26..28\n",
    "on x=-22..28,y=-29..23,z=-38..16\n",
    "on x=-46..7,y=-6..46,z=-50..-1\n",
    "on x=-49..1,y=-3..46,z=-24..28\n",
    "on x=2..47,y=-22..22,z=-23..27\n",
    "on x=-27..23,y=-28..26,z=-21..29\n",
    "on x=-39..5,y=-6..47,z=-3..44\n",
    "on x=-30..21,y=-8..43,z=-13..34\n",
    "on x=-22..26,y=-27..20,z=-29..19\n",
    "off x=-48..-32,y=26..41,z=-47..-37\n",
    "on x=-12..35,y=6..50,z=-50..-2\n",
    "off x=-48..-32,y=-32..-16,z=-15..-5\n",
    "on x=-18..26,y=-33..15,z=-7..46\n",
    "off x=-40..-22,y=-38..-28,z=23..41\n",
    "on x=-16..35,y=-41..10,z=-47..6\n",
    "off x=-32..-23,y=11..30,z=-14..3\n",
    "on x=-49..-5,y=-3..45,z=-29..18\n",
    "off x=18..30,y=-20..-8,z=-3..13\n",
    "on x=-41..9,y=-7..43,z=-33..15\n",
    "on x=-54112..-39298,y=-85059..-49293,z=-27449..7877\n",
    "on x=967..23432,y=45373..81175,z=27513..53682\"\"\")"
   ]
  },
  {
   "cell_type": "code",
   "execution_count": 6,
   "id": "56a13e59",
   "metadata": {},
   "outputs": [
    {
     "data": {
      "text/plain": [
       "590784"
      ]
     },
     "execution_count": 6,
     "metadata": {},
     "output_type": "execute_result"
    }
   ],
   "source": [
    "solve_a(sample2)"
   ]
  },
  {
   "cell_type": "code",
   "execution_count": 7,
   "id": "73d5f753",
   "metadata": {},
   "outputs": [
    {
     "data": {
      "text/plain": [
       "588200"
      ]
     },
     "execution_count": 7,
     "metadata": {},
     "output_type": "execute_result"
    }
   ],
   "source": [
    "solve_a(data)"
   ]
  },
  {
   "cell_type": "code",
   "execution_count": 8,
   "id": "feddce52",
   "metadata": {},
   "outputs": [],
   "source": [
    "sample3 = parses(\"\"\"on x=-5..47,y=-31..22,z=-19..33\n",
    "on x=-44..5,y=-27..21,z=-14..35\n",
    "on x=-49..-1,y=-11..42,z=-10..38\n",
    "on x=-20..34,y=-40..6,z=-44..1\n",
    "off x=26..39,y=40..50,z=-2..11\n",
    "on x=-41..5,y=-41..6,z=-36..8\n",
    "off x=-43..-33,y=-45..-28,z=7..25\n",
    "on x=-33..15,y=-32..19,z=-34..11\n",
    "off x=35..47,y=-46..-34,z=-11..5\n",
    "on x=-14..36,y=-6..44,z=-16..29\n",
    "on x=-57795..-6158,y=29564..72030,z=20435..90618\n",
    "on x=36731..105352,y=-21140..28532,z=16094..90401\n",
    "on x=30999..107136,y=-53464..15513,z=8553..71215\n",
    "on x=13528..83982,y=-99403..-27377,z=-24141..23996\n",
    "on x=-72682..-12347,y=18159..111354,z=7391..80950\n",
    "on x=-1060..80757,y=-65301..-20884,z=-103788..-16709\n",
    "on x=-83015..-9461,y=-72160..-8347,z=-81239..-26856\n",
    "on x=-52752..22273,y=-49450..9096,z=54442..119054\n",
    "on x=-29982..40483,y=-108474..-28371,z=-24328..38471\n",
    "on x=-4958..62750,y=40422..118853,z=-7672..65583\n",
    "on x=55694..108686,y=-43367..46958,z=-26781..48729\n",
    "on x=-98497..-18186,y=-63569..3412,z=1232..88485\n",
    "on x=-726..56291,y=-62629..13224,z=18033..85226\n",
    "on x=-110886..-34664,y=-81338..-8658,z=8914..63723\n",
    "on x=-55829..24974,y=-16897..54165,z=-121762..-28058\n",
    "on x=-65152..-11147,y=22489..91432,z=-58782..1780\n",
    "on x=-120100..-32970,y=-46592..27473,z=-11695..61039\n",
    "on x=-18631..37533,y=-124565..-50804,z=-35667..28308\n",
    "on x=-57817..18248,y=49321..117703,z=5745..55881\n",
    "on x=14781..98692,y=-1341..70827,z=15753..70151\n",
    "on x=-34419..55919,y=-19626..40991,z=39015..114138\n",
    "on x=-60785..11593,y=-56135..2999,z=-95368..-26915\n",
    "on x=-32178..58085,y=17647..101866,z=-91405..-8878\n",
    "on x=-53655..12091,y=50097..105568,z=-75335..-4862\n",
    "on x=-111166..-40997,y=-71714..2688,z=5609..50954\n",
    "on x=-16602..70118,y=-98693..-44401,z=5197..76897\n",
    "on x=16383..101554,y=4615..83635,z=-44907..18747\n",
    "off x=-95822..-15171,y=-19987..48940,z=10804..104439\n",
    "on x=-89813..-14614,y=16069..88491,z=-3297..45228\n",
    "on x=41075..99376,y=-20427..49978,z=-52012..13762\n",
    "on x=-21330..50085,y=-17944..62733,z=-112280..-30197\n",
    "on x=-16478..35915,y=36008..118594,z=-7885..47086\n",
    "off x=-98156..-27851,y=-49952..43171,z=-99005..-8456\n",
    "off x=2032..69770,y=-71013..4824,z=7471..94418\n",
    "on x=43670..120875,y=-42068..12382,z=-24787..38892\n",
    "off x=37514..111226,y=-45862..25743,z=-16714..54663\n",
    "off x=25699..97951,y=-30668..59918,z=-15349..69697\n",
    "off x=-44271..17935,y=-9516..60759,z=49131..112598\n",
    "on x=-61695..-5813,y=40978..94975,z=8655..80240\n",
    "off x=-101086..-9439,y=-7088..67543,z=33935..83858\n",
    "off x=18020..114017,y=-48931..32606,z=21474..89843\n",
    "off x=-77139..10506,y=-89994..-18797,z=-80..59318\n",
    "off x=8476..79288,y=-75520..11602,z=-96624..-24783\n",
    "on x=-47488..-1262,y=24338..100707,z=16292..72967\n",
    "off x=-84341..13987,y=2429..92914,z=-90671..-1318\n",
    "off x=-37810..49457,y=-71013..-7894,z=-105357..-13188\n",
    "off x=-27365..46395,y=31009..98017,z=15428..76570\n",
    "off x=-70369..-16548,y=22648..78696,z=-1892..86821\n",
    "on x=-53470..21291,y=-120233..-33476,z=-44150..38147\n",
    "off x=-93533..-4276,y=-16170..68771,z=-104985..-24507\"\"\")"
   ]
  },
  {
   "cell_type": "code",
   "execution_count": 9,
   "id": "eb896296",
   "metadata": {},
   "outputs": [
    {
     "data": {
      "text/plain": [
       "474140"
      ]
     },
     "execution_count": 9,
     "metadata": {},
     "output_type": "execute_result"
    }
   ],
   "source": [
    "solve_a(sample3)"
   ]
  },
  {
   "cell_type": "code",
   "execution_count": 25,
   "id": "f9f289ff",
   "metadata": {},
   "outputs": [
    {
     "data": {
      "text/plain": [
       "(1, 2, 2, 3)"
      ]
     },
     "execution_count": 25,
     "metadata": {},
     "output_type": "execute_result"
    }
   ],
   "source": [
    "sum([(1,2),(2,3)], start=tuple())"
   ]
  },
  {
   "cell_type": "code",
   "execution_count": 142,
   "id": "c7ed541c",
   "metadata": {},
   "outputs": [],
   "source": [
    "import math\n",
    "class Rectangle:\n",
    "    \n",
    "    def __init__(self, *intervals, inclusive=False):\n",
    "        I = int(inclusive)\n",
    "        self.intervals = tuple( (a,b+I) for a,b in intervals)\n",
    "        \n",
    "    @property\n",
    "    def volume(self):\n",
    "        return math.prod(b-a for a, b in self.intervals)\n",
    "        \n",
    "    def __eq__(self, other):\n",
    "        return all(intA==intB for intA, intB in zip(self.intervals, other.intervals))\n",
    "    \n",
    "    def __hash__(self):\n",
    "        return hash(sum(self.intervals, start=tuple()))\n",
    "    \n",
    "    def __repr__(self):\n",
    "        if len(self.intervals) == 1:\n",
    "            return f'{self.__class__.__name__}({self.intervals[0]})'\n",
    "        return f'{self.__class__.__name__}{self.intervals}'\n",
    "    \n",
    "    def overlap(self, other):\n",
    "        if other is None:\n",
    "            return None\n",
    "        overlap_intervals = []\n",
    "        for (minA, maxA), (minB, maxB) in zip(self.intervals, other.intervals):\n",
    "            minC = max(minA, minB)\n",
    "            maxC = min(maxA, maxB)\n",
    "            if minC >= maxC:\n",
    "                return None\n",
    "            overlap_intervals.append((minC,maxC))\n",
    "        return Rectangle(*overlap_intervals)\n",
    "\n",
    "    # returns overlap as Rectangle or None if no overlap\n",
    "    def __and__(self, other):\n",
    "        return self.overlap(other)\n",
    "    \n",
    "    def split(self, dim, val):\n",
    "        left, right = self.intervals[dim]\n",
    "        assert left < val < right\n",
    "        split1, split2 = (left,val), (val, right)\n",
    "        r1 = Rectangle(*[interval if d != dim else split1 for d, interval in enumerate(self.intervals)])\n",
    "        r2 = Rectangle(*[interval if d != dim else split2 for d, interval in enumerate(self.intervals)])\n",
    "        return [r1,r2]\n",
    "    \n",
    "    def substract(self, other):\n",
    "        overlap = self & other\n",
    "        if overlap is None:\n",
    "            return [self] # no overlap\n",
    "        elif overlap == self:\n",
    "            return []  # other covers self\n",
    "        else:\n",
    "            # partial cover\n",
    "            for d, ((minA, maxA), (minB, maxB)) in enumerate(zip(self.intervals, other.intervals)):\n",
    "                if minB > minA:\n",
    "                    r1, r2 = self.split(d, minB)\n",
    "                    return [r1] + r2.substract(other)\n",
    "                elif maxB < maxA:\n",
    "                    r1, r2 = self.split(d, maxB)\n",
    "                    return r1.substract(other) + [r2]\n",
    "        assert False, \"Should not reach\"\n",
    "\n",
    "    # returns List[Rectangle] resulting from substracting self to other\n",
    "    def __sub__(self, other):\n",
    "        return self.substract(other)\n",
    "\n",
    "    # return List[Rectangle] representing mutually exclusive partitions from\n",
    "    # other not contained in self\n",
    "    def __add__(self, other):\n",
    "        if (overlap := self.overlap(other)):\n",
    "            return other.substract(overlap)\n",
    "        return [other]"
   ]
  },
  {
   "cell_type": "code",
   "execution_count": 95,
   "id": "93cf3825",
   "metadata": {},
   "outputs": [],
   "source": [
    "def solve_b(data):\n",
    "    positive = []\n",
    "    negative = []\n",
    "    \n",
    "    for on, *ranges in data:\n",
    "        B = Rectangle(*ranges, inclusive=True)\n",
    "        new_positive = []\n",
    "        new_negative = []\n",
    "        \n",
    "        for A in positive:\n",
    "            if overlap := A & B:\n",
    "                new_negative.append(overlap)\n",
    "        for A in negative:\n",
    "            if (overlap := A & B):\n",
    "                new_positive.append(overlap)\n",
    "        if on:\n",
    "            new_positive.append(B)\n",
    "        positive += new_positive\n",
    "        negative += new_negative\n",
    "    return sum(R.volume  for R in positive) - sum(R.volume  for R in negative)"
   ]
  },
  {
   "cell_type": "code",
   "execution_count": 96,
   "id": "f88ebbb6",
   "metadata": {},
   "outputs": [
    {
     "name": "stdout",
     "output_type": "stream",
     "text": [
      "13.4 s ± 400 ms per loop (mean ± std. dev. of 7 runs, 1 loop each)\n"
     ]
    }
   ],
   "source": [
    "%%timeit\n",
    "solve_b(data)"
   ]
  },
  {
   "cell_type": "code",
   "execution_count": null,
   "id": "d3ec9236",
   "metadata": {},
   "outputs": [],
   "source": []
  },
  {
   "cell_type": "code",
   "execution_count": 68,
   "id": "4ea294bd",
   "metadata": {},
   "outputs": [],
   "source": [
    "# GOOD ONE\n",
    "def solve_b(data):\n",
    "    rectangles = []\n",
    "    for on, *ranges in data:\n",
    "        B = Rectangle(*ranges, inclusive=True)\n",
    "        if on:\n",
    "            add = [B]\n",
    "            for A in rectangles:\n",
    "                new_add = []\n",
    "                for B in add:\n",
    "                    if (overlap := A & B):\n",
    "                        new_add += B - overlap\n",
    "                    else:\n",
    "                        new_add += [B]\n",
    "                add = new_add\n",
    "            rectangles += add\n",
    "        else:\n",
    "            new_rectangles = []\n",
    "            for A in rectangles:\n",
    "                new_rectangles += A - B\n",
    "            rectangles = new_rectangles\n",
    "    return sum(A.volume for A in rectangles)"
   ]
  },
  {
   "cell_type": "code",
   "execution_count": 77,
   "id": "78a7857b",
   "metadata": {},
   "outputs": [],
   "source": [
    "import collections"
   ]
  },
  {
   "cell_type": "code",
   "execution_count": 87,
   "id": "05b5d5d8",
   "metadata": {},
   "outputs": [],
   "source": [
    "def solve_b(data):\n",
    "    cubes = collections.Counter()\n",
    "    for on, (nx0, nx1), (ny0, ny1), (nz0, nz1) in data:\n",
    "        nsgn = 1 if on else -1\n",
    "\n",
    "        update = collections.Counter()\n",
    "        for (ex0, ex1, ey0, ey1, ez0, ez1), esgn in cubes.items():\n",
    "            ix0 = max(nx0, ex0); ix1 = min(nx1, ex1)\n",
    "            iy0 = max(ny0, ey0); iy1 = min(ny1, ey1)\n",
    "            iz0 = max(nz0, ez0); iz1 = min(nz1, ez1)\n",
    "            if ix0 <= ix1 and iy0 <= iy1 and iz0 <= iz1:\n",
    "                update[(ix0, ix1, iy0, iy1, iz0, iz1)] -= esgn\n",
    "        if nsgn > 0:\n",
    "            update[(nx0, nx1, ny0, ny1, nz0, nz1)] += nsgn\n",
    "        cubes.update(update)\n",
    "    return sum((x1 - x0 + 1) * (y1 - y0 + 1) * (z1 - z0 + 1) * sgn\n",
    "          for (x0, x1, y0, y1, z0, z1), sgn in cubes.items())"
   ]
  },
  {
   "cell_type": "code",
   "execution_count": 88,
   "id": "e787f9b0",
   "metadata": {},
   "outputs": [
    {
     "name": "stdout",
     "output_type": "stream",
     "text": [
      "1.48 s ± 20.8 ms per loop (mean ± std. dev. of 7 runs, 1 loop each)\n"
     ]
    }
   ],
   "source": [
    "%%timeit\n",
    "solve_b(data)"
   ]
  },
  {
   "cell_type": "code",
   "execution_count": null,
   "id": "2f98d953",
   "metadata": {},
   "outputs": [],
   "source": []
  },
  {
   "cell_type": "code",
   "execution_count": 146,
   "id": "362da56f",
   "metadata": {},
   "outputs": [],
   "source": [
    "def solve_b(data):\n",
    "    \n",
    "    rectangles = defaultdict(int)\n",
    "    \n",
    "    for on, *ranges in data:\n",
    "        B = Rectangle(*ranges, inclusive=True)\n",
    "        \n",
    "        new_rectangles = defaultdict(int)\n",
    "        for A, sgn in rectangles.items():\n",
    "            if overlap := A & B:\n",
    "                new_rectangles[overlap] -= sgn\n",
    "        if on:\n",
    "            new_rectangles[B] += 1\n",
    "        rectangles.update(new_rectangles) \n",
    "\n",
    "    return sum(R.volume * sgn  for R, sgn in rectangles.items())"
   ]
  },
  {
   "cell_type": "code",
   "execution_count": 148,
   "id": "1e908cbc",
   "metadata": {},
   "outputs": [
    {
     "data": {
      "text/plain": [
       "39"
      ]
     },
     "execution_count": 148,
     "metadata": {},
     "output_type": "execute_result"
    }
   ],
   "source": [
    "solve_b(sample)"
   ]
  },
  {
   "cell_type": "code",
   "execution_count": 94,
   "id": "9a531df5",
   "metadata": {},
   "outputs": [
    {
     "name": "stdout",
     "output_type": "stream",
     "text": [
      "1.51 s ± 54 ms per loop (mean ± std. dev. of 7 runs, 1 loop each)\n"
     ]
    }
   ],
   "source": [
    "%%timeit\n",
    "solve_b(data)"
   ]
  },
  {
   "cell_type": "code",
   "execution_count": null,
   "id": "e6cf4995",
   "metadata": {},
   "outputs": [],
   "source": []
  },
  {
   "cell_type": "code",
   "execution_count": 21,
   "id": "cebcd88d",
   "metadata": {},
   "outputs": [
    {
     "data": {
      "text/plain": [
       "2758514936282235"
      ]
     },
     "execution_count": 21,
     "metadata": {},
     "output_type": "execute_result"
    }
   ],
   "source": [
    "solve_b(sample3)"
   ]
  },
  {
   "cell_type": "code",
   "execution_count": 22,
   "id": "c5485506",
   "metadata": {},
   "outputs": [
    {
     "data": {
      "text/plain": [
       "1207167990362099"
      ]
     },
     "execution_count": 22,
     "metadata": {},
     "output_type": "execute_result"
    }
   ],
   "source": [
    "solve_b(data)"
   ]
  },
  {
   "cell_type": "code",
   "execution_count": 151,
   "id": "61ae6be6",
   "metadata": {},
   "outputs": [],
   "source": [
    "def solve_b(data):\n",
    "    rectangles = set()\n",
    "    for on, *ranges in data:\n",
    "        B = Rectangle(*ranges, inclusive=True)\n",
    "        if on:\n",
    "            Bs = set([B])\n",
    "            for A in rectangles:\n",
    "                Bs = set(R for B in Bs for R in B-(A&B))\n",
    "            rectangles |= Bs\n",
    "        else:\n",
    "            rectangles = set(R for A in rectangles for R in A-B)\n",
    "    return sum(A.volume for A in rectangles)"
   ]
  },
  {
   "cell_type": "code",
   "execution_count": 152,
   "id": "23bb5944",
   "metadata": {},
   "outputs": [
    {
     "data": {
      "text/plain": [
       "39"
      ]
     },
     "execution_count": 152,
     "metadata": {},
     "output_type": "execute_result"
    }
   ],
   "source": [
    "solve_b(sample)"
   ]
  },
  {
   "cell_type": "code",
   "execution_count": 154,
   "id": "c412ceb8",
   "metadata": {},
   "outputs": [
    {
     "name": "stdout",
     "output_type": "stream",
     "text": [
      "16.2 s ± 191 ms per loop (mean ± std. dev. of 7 runs, 1 loop each)\n"
     ]
    }
   ],
   "source": [
    "%%timeit\n",
    "solve_b(data)"
   ]
  },
  {
   "cell_type": "code",
   "execution_count": null,
   "id": "9c7914a5",
   "metadata": {},
   "outputs": [],
   "source": []
  },
  {
   "cell_type": "code",
   "execution_count": 155,
   "id": "6b65c74e",
   "metadata": {},
   "outputs": [],
   "source": [
    "def solve_b(data):\n",
    "    rectangles = []\n",
    "    for on, *ranges in data:\n",
    "        B = Rectangle(*ranges, inclusive=True)\n",
    "        if on:\n",
    "            Bs = [B]\n",
    "            for A in rectangles:\n",
    "                Bs = [R for B in Bs for R in B-(A&B)]\n",
    "            rectangles.extend(Bs)\n",
    "        else:\n",
    "            rectangles = [R for A in rectangles for R in A-B]\n",
    "    return sum(A.volume for A in rectangles)"
   ]
  },
  {
   "cell_type": "code",
   "execution_count": 156,
   "id": "fe103bad",
   "metadata": {},
   "outputs": [
    {
     "name": "stdout",
     "output_type": "stream",
     "text": [
      "7.63 s ± 527 ms per loop (mean ± std. dev. of 7 runs, 1 loop each)\n"
     ]
    }
   ],
   "source": [
    "%%timeit\n",
    "solve_b(data)"
   ]
  },
  {
   "cell_type": "code",
   "execution_count": null,
   "id": "370dd8e3",
   "metadata": {},
   "outputs": [],
   "source": []
  },
  {
   "cell_type": "code",
   "execution_count": 108,
   "id": "085e153c",
   "metadata": {},
   "outputs": [
    {
     "data": {
      "text/plain": [
       "[(True, (10, 12), (10, 12), (10, 12)),\n",
       " (True, (11, 13), (11, 13), (11, 13)),\n",
       " (False, (9, 11), (9, 11), (9, 11)),\n",
       " (True, (10, 10), (10, 10), (10, 10))]"
      ]
     },
     "execution_count": 108,
     "metadata": {},
     "output_type": "execute_result"
    }
   ],
   "source": [
    "sample"
   ]
  },
  {
   "cell_type": "code",
   "execution_count": null,
   "id": "a2d4bf1d",
   "metadata": {},
   "outputs": [],
   "source": []
  },
  {
   "cell_type": "code",
   "execution_count": 232,
   "id": "6902ccaa",
   "metadata": {},
   "outputs": [
    {
     "data": {
      "text/plain": [
       "[]"
      ]
     },
     "execution_count": 232,
     "metadata": {},
     "output_type": "execute_result"
    }
   ],
   "source": [
    "Rectangle([0,3],[0,3]) + Rectangle([1,2],[1,2])"
   ]
  },
  {
   "cell_type": "code",
   "execution_count": 233,
   "id": "8f9f092b",
   "metadata": {},
   "outputs": [
    {
     "name": "stdout",
     "output_type": "stream",
     "text": [
      "Rectangle((0, 3), (0, 3)) Rectangle((1, 2), (1, 2))\n",
      "Rectangle((0, 3), (0, 3)) 0 1 3\n",
      "Rectangle((1, 3), (0, 3)) Rectangle((1, 2), (1, 2))\n",
      "Rectangle((1, 3), (0, 3)) 1 2 3\n",
      "Rectangle((1, 2), (0, 3)) Rectangle((1, 2), (1, 2))\n",
      "Rectangle((1, 2), (0, 3)) 0 1 3\n",
      "Rectangle((1, 2), (1, 3)) Rectangle((1, 2), (1, 2))\n",
      "Rectangle((1, 2), (1, 3)) 1 2 3\n"
     ]
    },
    {
     "data": {
      "text/plain": [
       "[Rectangle((0, 1), (0, 3)),\n",
       " Rectangle((1, 2), (0, 1)),\n",
       " Rectangle((1, 2), (2, 3)),\n",
       " Rectangle((2, 3), (0, 3))]"
      ]
     },
     "execution_count": 233,
     "metadata": {},
     "output_type": "execute_result"
    }
   ],
   "source": [
    "Rectangle([1,2],[1,2]) + Rectangle([0,3],[0,3])"
   ]
  },
  {
   "cell_type": "code",
   "execution_count": 234,
   "id": "3411ec7c",
   "metadata": {},
   "outputs": [
    {
     "name": "stdout",
     "output_type": "stream",
     "text": [
      "Rectangle((2, 5), (2, 5)) Rectangle((2, 3), (2, 3))\n",
      "Rectangle((2, 5), (2, 5)) 2 3 5\n",
      "Rectangle((2, 3), (2, 5)) Rectangle((2, 3), (2, 3))\n",
      "Rectangle((2, 3), (2, 5)) 2 3 5\n"
     ]
    },
    {
     "data": {
      "text/plain": [
       "[Rectangle((2, 3), (3, 5)), Rectangle((3, 5), (2, 5))]"
      ]
     },
     "execution_count": 234,
     "metadata": {},
     "output_type": "execute_result"
    }
   ],
   "source": [
    "Rectangle([0,3],[0,3]) + Rectangle([2,5],[2,5])"
   ]
  },
  {
   "cell_type": "code",
   "execution_count": 235,
   "id": "bf9dd8ac",
   "metadata": {},
   "outputs": [
    {
     "name": "stdout",
     "output_type": "stream",
     "text": [
      "Rectangle((0, 5), (0, 7)) 0 3 5\n"
     ]
    },
    {
     "data": {
      "text/plain": [
       "[Rectangle((0, 3), (0, 7)), Rectangle((3, 5), (0, 7))]"
      ]
     },
     "execution_count": 235,
     "metadata": {},
     "output_type": "execute_result"
    }
   ],
   "source": [
    "Rectangle([0,5],[0,7]).split(0,3)"
   ]
  },
  {
   "cell_type": "code",
   "execution_count": null,
   "id": "aeff4cc3",
   "metadata": {},
   "outputs": [],
   "source": []
  },
  {
   "cell_type": "code",
   "execution_count": 236,
   "id": "82c5ba2e",
   "metadata": {},
   "outputs": [
    {
     "data": {
      "text/plain": [
       "True"
      ]
     },
     "execution_count": 236,
     "metadata": {},
     "output_type": "execute_result"
    }
   ],
   "source": [
    "Rectangle([0,5],[0,7]) & Rectangle([2,10],[6,10]) == Rectangle([2,5],[6,7])"
   ]
  },
  {
   "cell_type": "code",
   "execution_count": 237,
   "id": "3bb91daf",
   "metadata": {},
   "outputs": [
    {
     "data": {
      "text/plain": [
       "((0, 5), (0, 7))"
      ]
     },
     "execution_count": 237,
     "metadata": {},
     "output_type": "execute_result"
    }
   ],
   "source": [
    "Rectangle([0,5],[0,7]).intervals"
   ]
  },
  {
   "cell_type": "code",
   "execution_count": null,
   "id": "d9b2edc7",
   "metadata": {},
   "outputs": [],
   "source": []
  },
  {
   "cell_type": "code",
   "execution_count": 238,
   "id": "119f821b",
   "metadata": {},
   "outputs": [],
   "source": []
  },
  {
   "cell_type": "code",
   "execution_count": 239,
   "id": "3c6fcf02",
   "metadata": {},
   "outputs": [
    {
     "data": {
      "text/plain": [
       "39"
      ]
     },
     "execution_count": 239,
     "metadata": {},
     "output_type": "execute_result"
    }
   ],
   "source": [
    "solve_a(sample)"
   ]
  },
  {
   "cell_type": "code",
   "execution_count": null,
   "id": "b9d226f0",
   "metadata": {},
   "outputs": [],
   "source": []
  },
  {
   "cell_type": "code",
   "execution_count": null,
   "id": "28345919",
   "metadata": {},
   "outputs": [],
   "source": []
  },
  {
   "cell_type": "code",
   "execution_count": null,
   "id": "dfd9442f",
   "metadata": {},
   "outputs": [],
   "source": []
  },
  {
   "cell_type": "code",
   "execution_count": null,
   "id": "c9fa5b92",
   "metadata": {},
   "outputs": [],
   "source": []
  }
 ],
 "metadata": {
  "kernelspec": {
   "display_name": "Python 3",
   "language": "python",
   "name": "python3"
  },
  "language_info": {
   "codemirror_mode": {
    "name": "ipython",
    "version": 3
   },
   "file_extension": ".py",
   "mimetype": "text/x-python",
   "name": "python",
   "nbconvert_exporter": "python",
   "pygments_lexer": "ipython3",
   "version": "3.8.8"
  }
 },
 "nbformat": 4,
 "nbformat_minor": 5
}
