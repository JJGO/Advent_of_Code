{
 "cells": [
  {
   "cell_type": "code",
   "execution_count": 1,
   "id": "d82ef50d",
   "metadata": {},
   "outputs": [],
   "source": [
    "from aocd.models import Puzzle\n",
    "\n",
    "puzzle = Puzzle(year=2021, day=23)\n",
    "\n",
    "def parses(text):\n",
    "    return text\n",
    "\n",
    "data = parses(puzzle.input_data)"
   ]
  },
  {
   "cell_type": "code",
   "execution_count": 2,
   "id": "0599ee6d",
   "metadata": {},
   "outputs": [
    {
     "data": {
      "text/plain": [
       "47"
      ]
     },
     "execution_count": 2,
     "metadata": {},
     "output_type": "execute_result"
    }
   ],
   "source": [
    "data.index(\"A\")"
   ]
  },
  {
   "cell_type": "code",
   "execution_count": 3,
   "id": "ee41d5d6",
   "metadata": {},
   "outputs": [],
   "source": [
    "sample = parses(\"\"\"#############\n",
    "#...........#\n",
    "###B#C#B#D###\n",
    "  #A#D#C#A#\n",
    "  #########\"\"\")"
   ]
  },
  {
   "cell_type": "code",
   "execution_count": 4,
   "id": "9a34403f",
   "metadata": {},
   "outputs": [
    {
     "data": {
      "text/plain": [
       "'#############\\n#...........#\\n###D#C#D#B###\\n  #B#A#A#C#\\n  #########'"
      ]
     },
     "execution_count": 4,
     "metadata": {},
     "output_type": "execute_result"
    }
   ],
   "source": [
    "data"
   ]
  },
  {
   "cell_type": "code",
   "execution_count": 5,
   "id": "3db73f5c",
   "metadata": {},
   "outputs": [],
   "source": [
    "energies = {c:10**i for i, c in enumerate('ABCD')}"
   ]
  },
  {
   "cell_type": "code",
   "execution_count": 6,
   "id": "03731c88",
   "metadata": {},
   "outputs": [
    {
     "data": {
      "text/plain": [
       "{'A': 1, 'B': 10, 'C': 100, 'D': 1000}"
      ]
     },
     "execution_count": 6,
     "metadata": {},
     "output_type": "execute_result"
    }
   ],
   "source": [
    "energies"
   ]
  },
  {
   "cell_type": "code",
   "execution_count": null,
   "id": "8c1f59b3",
   "metadata": {},
   "outputs": [],
   "source": []
  },
  {
   "cell_type": "code",
   "execution_count": 7,
   "id": "5c4c1b01",
   "metadata": {},
   "outputs": [],
   "source": [
    "def sign(x):\n",
    "    if x > 0:\n",
    "        return 1\n",
    "    elif x < 0:\n",
    "        return -1\n",
    "    return 0"
   ]
  },
  {
   "cell_type": "code",
   "execution_count": 32,
   "id": "131cca15",
   "metadata": {},
   "outputs": [],
   "source": [
    "from functools import cached_property"
   ]
  },
  {
   "cell_type": "code",
   "execution_count": 86,
   "id": "25c7b5a9",
   "metadata": {},
   "outputs": [],
   "source": [
    "from dataclasses import dataclass\n",
    "from typing import Dict, Tuple\n",
    "import copy\n",
    "\n",
    "@dataclass\n",
    "class State:\n",
    "    positions: Dict[Tuple[int, int], str]\n",
    "    final: Dict[str, Tuple[int, int]]\n",
    "    energy: int = 0\n",
    "    maxy: int = 3\n",
    "\n",
    "    HALLWAY = set([(1, 1), (2, 1), (4, 1), (6, 1), (8, 1), (10, 1), (11, 1)])\n",
    "    ENERGIES = {\"A\": 1, \"B\": 10, \"C\": 100, \"D\": 1000}\n",
    "\n",
    "    def check_collisions(self, start, end):\n",
    "        c = self.positions[start]\n",
    "        x, y = start\n",
    "        x2, y2 = end\n",
    "        e = 0\n",
    "        # Move into hallway (if needed)\n",
    "        while y != 1:\n",
    "            y -= 1\n",
    "            if (x, y) in self.positions:\n",
    "                return None\n",
    "            e += self.ENERGIES[c]\n",
    "        # Move along the hallway (if needed)\n",
    "        while x != x2:\n",
    "            x += sign(x2 - x)\n",
    "            if (x, y) in self.positions:\n",
    "                return None\n",
    "            e += self.ENERGIES[c]\n",
    "        # Move into the Room (if needed)\n",
    "        while y != y2:\n",
    "            y += sign(y2 - y)\n",
    "            if (x, y) in self.positions:\n",
    "                return None\n",
    "            e += self.ENERGIES[c]\n",
    "        return e\n",
    "\n",
    "    def move(self, start, end):\n",
    "        if end in self.positions:\n",
    "            return None\n",
    "        if energy := self.check_collisions(start, end):\n",
    "            new_positions = self.positions.copy()\n",
    "            new_final = self.final.copy()\n",
    "            new_energy = self.energy + energy\n",
    "            new_positions[end] = new_positions.pop(start)\n",
    "            # clean if moved into final room\n",
    "            c = self.positions[start]\n",
    "            if end == self.final[c]:\n",
    "                new_positions.pop(end)\n",
    "                x, y = new_final[c]\n",
    "                if y == 2:\n",
    "                    new_final.pop(c)\n",
    "                else:\n",
    "                    new_final[c] = (x, y - 1)\n",
    "            return State(new_positions, new_final, new_energy, self.maxy)\n",
    "\n",
    "    def all_moves(self, pos):\n",
    "        c = self.positions[pos]\n",
    "        # If we can move into final position, it's optimal to do so\n",
    "        if s := self.move(pos, self.final[c]):\n",
    "            return [s]\n",
    "        # We can only choose if we haven't moved into the hallway yet\n",
    "        possible_moves = []\n",
    "        if pos not in self.HALLWAY:\n",
    "            for pos2 in self.HALLWAY:\n",
    "                if pos2 not in self.positions and (s := self.move(pos, pos2)):\n",
    "                    possible_moves.append(s)\n",
    "        return possible_moves\n",
    "\n",
    "    def children(self):\n",
    "        return sum([self.all_moves(pos) for pos in self.positions], [])\n",
    "\n",
    "    def check_initial(self):\n",
    "        # Move from initial to final positions that already correct\n",
    "        new_positions = self.positions.copy()\n",
    "        new_final = self.final.copy()\n",
    "        for k in range(self.maxy, 1, -1):\n",
    "            for c, (x, y) in list(new_final.items()):\n",
    "                if y == k and new_positions.get((x, y), None) == c:\n",
    "                    new_positions.pop((x, y))\n",
    "                    if k == 2:\n",
    "                        new_final.pop(c)\n",
    "                    else:\n",
    "                        new_final[c] = (x, k - 1)\n",
    "        return State(new_positions, new_final, self.energy, self.maxy)\n",
    "\n",
    "    @staticmethod\n",
    "    def fromstr(diagram):\n",
    "        # Parse map into\n",
    "        initial = {}\n",
    "        for j, line in enumerate(diagram.strip().split(\"\\n\")):\n",
    "            for i, v in enumerate(line):\n",
    "                if v in \"ABCD\":\n",
    "                    initial[i, j] = v\n",
    "        maxy = max(j for _, j in initial)\n",
    "        final = {c: (3 + 2 * i, maxy) for i, c in enumerate(\"ABCD\")}\n",
    "        return State(initial, final, maxy=maxy).check_initial()\n",
    "    \n",
    "    @cached_property\n",
    "    def hash(self):\n",
    "        return hash(tuple([(x, y, c) for (x, y), c in self.positions.items()]))\n",
    "\n",
    "    def __hash__(self):\n",
    "        return self.hash\n",
    "\n",
    "    def __eq__(self, other):\n",
    "        # Energy is not part of positions, otherwise we'd memoize with energy as well\n",
    "        # final can be derived from positions\n",
    "        return self.hash == other.hash\n",
    "        \n",
    "    def done(self):\n",
    "        return len(self.final) == 0\n",
    "        \n",
    "    def remaining(self):\n",
    "        return sum(y - 1 for _, y in self.final.values())\n",
    "    \n",
    "    def lower_bound_completion(self):\n",
    "        final = self.final.copy()\n",
    "        energy_lb = 0\n",
    "        for (x,y), c in self.positions.items():\n",
    "            x2, y2 = final[c]\n",
    "            movement = abs(y-1) + abs(y2-1) + abs(x-x2)\n",
    "            energy_lb += movement * self.ENERGIES[c]\n",
    "            final[c] = (x2, y2-1)\n",
    "        return energy_lb\n",
    "    \n",
    "    @cached_property\n",
    "    def cost(self):\n",
    "        return (self.energy+self.lower_bound_completion(), self.energy, self.remaining())\n",
    "\n",
    "    def __lt__(self, other):\n",
    "        return self.cost < other.cost\n",
    "\n",
    "    def render(self):\n",
    "        s = \"\"\n",
    "        for j in range(self.maxy + 2):\n",
    "            for i in range(13):\n",
    "                if (i, j) in self.positions:\n",
    "                    s += self.positions[i, j]\n",
    "                elif 2 <= j <= self.maxy and i in [3, 5, 7, 9]:\n",
    "                    c = \"ABCD\"[(i - 3) // 2]\n",
    "                    if c not in self.final or j > self.final[c][1]:\n",
    "                        s += c\n",
    "                    else:\n",
    "                        s += \".\"\n",
    "                else:\n",
    "                    s += \".\" if j == 1 and 0 < i < 12 else \"#\"\n",
    "            s += \"\\n\"\n",
    "        print(s)"
   ]
  },
  {
   "cell_type": "code",
   "execution_count": 94,
   "id": "edfe08fa",
   "metadata": {},
   "outputs": [],
   "source": [
    "def solve_a(data):\n",
    "    from heapq import heappop, heappush\n",
    "\n",
    "    heap = [State.fromstr(data)]\n",
    "    visited = defaultdict(lambda: float(\"inf\"))\n",
    "    while heap:\n",
    "        state = heappop(heap)\n",
    "        if state.done():\n",
    "            return state.energy\n",
    "        for child in state.children():\n",
    "            if child.energy < visited[child]:\n",
    "                visited[child] = child.energy\n",
    "                heappush(heap, child)\n",
    "\n",
    "\n",
    "def solve_b(data):\n",
    "    extra_rows = \"  #D#C#B#A#\\n  #D#B#A#C#\\n\"\n",
    "    data = data[:42] + extra_rows + data[42:]\n",
    "    return solve_a(data)"
   ]
  },
  {
   "cell_type": "code",
   "execution_count": 95,
   "id": "640a7ca2",
   "metadata": {},
   "outputs": [
    {
     "name": "stdout",
     "output_type": "stream",
     "text": [
      "12521\n",
      "0.12559819221496582\n"
     ]
    }
   ],
   "source": [
    "start = time.time()\n",
    "print(solve_a(sample))\n",
    "print(time.time()-start)"
   ]
  },
  {
   "cell_type": "code",
   "execution_count": 96,
   "id": "0f71fab0",
   "metadata": {},
   "outputs": [
    {
     "name": "stdout",
     "output_type": "stream",
     "text": [
      "14371\n",
      "0.17653417587280273\n"
     ]
    }
   ],
   "source": [
    "start = time.time()\n",
    "print(solve_a(data))\n",
    "print(time.time()-start)"
   ]
  },
  {
   "cell_type": "code",
   "execution_count": 97,
   "id": "c81c85f0",
   "metadata": {},
   "outputs": [
    {
     "name": "stdout",
     "output_type": "stream",
     "text": [
      "44169\n",
      "34.69020128250122\n"
     ]
    }
   ],
   "source": [
    "start = time.time()\n",
    "print(solve_b(sample))\n",
    "print(time.time()-start)"
   ]
  },
  {
   "cell_type": "code",
   "execution_count": 98,
   "id": "1ecb4818",
   "metadata": {},
   "outputs": [
    {
     "name": "stdout",
     "output_type": "stream",
     "text": [
      "40941\n",
      "1.6879541873931885\n"
     ]
    }
   ],
   "source": [
    "start = time.time()\n",
    "print(solve_b(data))\n",
    "print(time.time()-start)"
   ]
  },
  {
   "cell_type": "code",
   "execution_count": null,
   "id": "22fa1473",
   "metadata": {},
   "outputs": [],
   "source": []
  },
  {
   "cell_type": "code",
   "execution_count": null,
   "id": "44f0cd6d",
   "metadata": {},
   "outputs": [],
   "source": []
  },
  {
   "cell_type": "code",
   "execution_count": 23,
   "id": "cfc2ad1c",
   "metadata": {},
   "outputs": [],
   "source": [
    "import time"
   ]
  },
  {
   "cell_type": "code",
   "execution_count": 466,
   "id": "79729f77",
   "metadata": {},
   "outputs": [
    {
     "name": "stdout",
     "output_type": "stream",
     "text": [
      "12521\n",
      "8.376643896102905\n"
     ]
    }
   ],
   "source": [
    "start = time.time()\n",
    "print(solve_a(sample))\n",
    "print(time.time()-start)"
   ]
  },
  {
   "cell_type": "code",
   "execution_count": 467,
   "id": "0a8bedf5",
   "metadata": {},
   "outputs": [
    {
     "name": "stdout",
     "output_type": "stream",
     "text": [
      "176.0352418422699\n"
     ]
    }
   ],
   "source": [
    "start = time.time()\n",
    "solve_b(sample)\n",
    "print(time.time()-start)"
   ]
  },
  {
   "cell_type": "code",
   "execution_count": 468,
   "id": "f139d8cd",
   "metadata": {},
   "outputs": [
    {
     "name": "stdout",
     "output_type": "stream",
     "text": [
      "178.9384560585022\n"
     ]
    }
   ],
   "source": [
    "start = time.time()\n",
    "solve_b(data)\n",
    "print(time.time()-start)"
   ]
  },
  {
   "cell_type": "code",
   "execution_count": null,
   "id": "209f03cd",
   "metadata": {},
   "outputs": [],
   "source": []
  },
  {
   "cell_type": "code",
   "execution_count": null,
   "id": "acc158c0",
   "metadata": {},
   "outputs": [],
   "source": []
  },
  {
   "cell_type": "code",
   "execution_count": 28,
   "id": "7a9d64e4",
   "metadata": {},
   "outputs": [],
   "source": [
    "simple = \"\"\"#############\n",
    "#...........#\n",
    "###B#A#C#D###\n",
    "  #A#B#C#D#\n",
    "  #A#B#C#D#\n",
    "  #A#B#C#D#\n",
    "  #########\"\"\""
   ]
  },
  {
   "cell_type": "code",
   "execution_count": 29,
   "id": "eba2f188",
   "metadata": {},
   "outputs": [],
   "source": [
    "x = State.fromstr(simple)"
   ]
  },
  {
   "cell_type": "code",
   "execution_count": 30,
   "id": "2b66ec1c",
   "metadata": {},
   "outputs": [
    {
     "data": {
      "text/plain": [
       "44"
      ]
     },
     "execution_count": 30,
     "metadata": {},
     "output_type": "execute_result"
    }
   ],
   "source": [
    "x.lower_bound_completion()"
   ]
  },
  {
   "cell_type": "code",
   "execution_count": 355,
   "id": "4dad6790",
   "metadata": {},
   "outputs": [
    {
     "name": "stdout",
     "output_type": "stream",
     "text": [
      "#############\n",
      "#~~.~.~.~.~~#\n",
      "###B#C#B#D###\n",
      "  #D#C#B#A#\n",
      "  #D#B#A#C#\n",
      "  #A#D#C#A#\n",
      "  #########\n"
     ]
    }
   ],
   "source": [
    "print(solve_b(sample))"
   ]
  },
  {
   "cell_type": "code",
   "execution_count": 358,
   "id": "5800d75b",
   "metadata": {},
   "outputs": [
    {
     "data": {
      "text/plain": [
       "'#############\\n#~~.~.~.~.~~#\\n###B#C#B#D###\\n  #A#D#C#A#\\n  #########'"
      ]
     },
     "execution_count": 358,
     "metadata": {},
     "output_type": "execute_result"
    }
   ],
   "source": [
    "sample"
   ]
  },
  {
   "cell_type": "code",
   "execution_count": 356,
   "id": "fbc42889",
   "metadata": {},
   "outputs": [
    {
     "data": {
      "text/plain": [
       "'#############\\n#...........#\\n###D#C#D#B###\\n  #B#A#A#C#\\n  #########'"
      ]
     },
     "execution_count": 356,
     "metadata": {},
     "output_type": "execute_result"
    }
   ],
   "source": [
    "data"
   ]
  },
  {
   "cell_type": "code",
   "execution_count": 323,
   "id": "e8cb15a4",
   "metadata": {},
   "outputs": [
    {
     "data": {
      "text/plain": [
       "14371"
      ]
     },
     "execution_count": 323,
     "metadata": {},
     "output_type": "execute_result"
    }
   ],
   "source": [
    "solve_a(data)"
   ]
  },
  {
   "cell_type": "code",
   "execution_count": 342,
   "id": "63c75242",
   "metadata": {},
   "outputs": [
    {
     "data": {
      "text/plain": [
       "41"
      ]
     },
     "execution_count": 342,
     "metadata": {},
     "output_type": "execute_result"
    }
   ],
   "source": [
    "len(\"\"\"#############\n",
    "#...........#\n",
    "###A#B#C#D###\"\"\")"
   ]
  },
  {
   "cell_type": "code",
   "execution_count": 344,
   "id": "137998fc",
   "metadata": {},
   "outputs": [
    {
     "data": {
      "text/plain": [
       "' '"
      ]
     },
     "execution_count": 344,
     "metadata": {},
     "output_type": "execute_result"
    }
   ],
   "source": [
    "sample[42]"
   ]
  },
  {
   "cell_type": "code",
   "execution_count": 316,
   "id": "c00c6303",
   "metadata": {},
   "outputs": [
    {
     "data": {
      "text/plain": [
       "14371"
      ]
     },
     "execution_count": 316,
     "metadata": {},
     "output_type": "execute_result"
    }
   ],
   "source": [
    "solve_a(data)"
   ]
  },
  {
   "cell_type": "code",
   "execution_count": 45,
   "id": "cee23289",
   "metadata": {},
   "outputs": [],
   "source": [
    "simple = \"\"\"#############\n",
    "#...........#\n",
    "###A#B#C#D###\n",
    "  #A#B#C#D#\n",
    "  #########\"\"\""
   ]
  },
  {
   "cell_type": "code",
   "execution_count": 46,
   "id": "0dca8a9a",
   "metadata": {},
   "outputs": [
    {
     "data": {
      "text/plain": [
       "6"
      ]
     },
     "execution_count": 46,
     "metadata": {},
     "output_type": "execute_result"
    }
   ],
   "source": [
    "State.fromstr(simple).lower_bound_completion"
   ]
  },
  {
   "cell_type": "code",
   "execution_count": 16,
   "id": "367589d9",
   "metadata": {},
   "outputs": [
    {
     "ename": "TypeError",
     "evalue": "State() takes no arguments",
     "output_type": "error",
     "traceback": [
      "\u001b[0;31m---------------------------------------------------------------------------\u001b[0m",
      "\u001b[0;31mTypeError\u001b[0m                                 Traceback (most recent call last)",
      "\u001b[0;32m<ipython-input-16-fbd577e62e27>\u001b[0m in \u001b[0;36m<module>\u001b[0;34m\u001b[0m\n\u001b[0;32m----> 1\u001b[0;31m \u001b[0mx\u001b[0m \u001b[0;34m=\u001b[0m \u001b[0mState\u001b[0m\u001b[0;34m.\u001b[0m\u001b[0mfromstr\u001b[0m\u001b[0;34m(\u001b[0m\u001b[0msample\u001b[0m\u001b[0;34m)\u001b[0m\u001b[0;34m\u001b[0m\u001b[0;34m\u001b[0m\u001b[0m\n\u001b[0m",
      "\u001b[0;32m<ipython-input-14-0683a7c67d35>\u001b[0m in \u001b[0;36mfromstr\u001b[0;34m(diagram)\u001b[0m\n\u001b[1;32m    103\u001b[0m         \u001b[0mmaxy\u001b[0m \u001b[0;34m=\u001b[0m \u001b[0mmax\u001b[0m\u001b[0;34m(\u001b[0m\u001b[0mj\u001b[0m \u001b[0;32mfor\u001b[0m \u001b[0m_\u001b[0m\u001b[0;34m,\u001b[0m \u001b[0mj\u001b[0m \u001b[0;32min\u001b[0m \u001b[0minitial\u001b[0m\u001b[0;34m)\u001b[0m\u001b[0;34m\u001b[0m\u001b[0;34m\u001b[0m\u001b[0m\n\u001b[1;32m    104\u001b[0m         \u001b[0mfinal\u001b[0m \u001b[0;34m=\u001b[0m \u001b[0;34m{\u001b[0m\u001b[0mc\u001b[0m\u001b[0;34m:\u001b[0m \u001b[0;34m(\u001b[0m\u001b[0;36m3\u001b[0m \u001b[0;34m+\u001b[0m \u001b[0;36m2\u001b[0m \u001b[0;34m*\u001b[0m \u001b[0mi\u001b[0m\u001b[0;34m,\u001b[0m \u001b[0mmaxy\u001b[0m\u001b[0;34m)\u001b[0m \u001b[0;32mfor\u001b[0m \u001b[0mi\u001b[0m\u001b[0;34m,\u001b[0m \u001b[0mc\u001b[0m \u001b[0;32min\u001b[0m \u001b[0menumerate\u001b[0m\u001b[0;34m(\u001b[0m\u001b[0;34m\"ABCD\"\u001b[0m\u001b[0;34m)\u001b[0m\u001b[0;34m}\u001b[0m\u001b[0;34m\u001b[0m\u001b[0;34m\u001b[0m\u001b[0m\n\u001b[0;32m--> 105\u001b[0;31m         \u001b[0;32mreturn\u001b[0m \u001b[0mState\u001b[0m\u001b[0;34m(\u001b[0m\u001b[0minitial\u001b[0m\u001b[0;34m,\u001b[0m \u001b[0mfinal\u001b[0m\u001b[0;34m,\u001b[0m \u001b[0mmaxy\u001b[0m\u001b[0;34m=\u001b[0m\u001b[0mmaxy\u001b[0m\u001b[0;34m)\u001b[0m\u001b[0;34m.\u001b[0m\u001b[0mcheck_initial\u001b[0m\u001b[0;34m(\u001b[0m\u001b[0;34m)\u001b[0m\u001b[0;34m\u001b[0m\u001b[0;34m\u001b[0m\u001b[0m\n\u001b[0m\u001b[1;32m    106\u001b[0m \u001b[0;34m\u001b[0m\u001b[0m\n\u001b[1;32m    107\u001b[0m     \u001b[0;32mdef\u001b[0m \u001b[0m__hash__\u001b[0m\u001b[0;34m(\u001b[0m\u001b[0mself\u001b[0m\u001b[0;34m)\u001b[0m\u001b[0;34m:\u001b[0m\u001b[0;34m\u001b[0m\u001b[0;34m\u001b[0m\u001b[0m\n",
      "\u001b[0;31mTypeError\u001b[0m: State() takes no arguments"
     ]
    }
   ],
   "source": [
    "x = State.fromstr(sample)"
   ]
  },
  {
   "cell_type": "code",
   "execution_count": null,
   "id": "52568a36",
   "metadata": {},
   "outputs": [],
   "source": [
    "x."
   ]
  },
  {
   "cell_type": "code",
   "execution_count": null,
   "id": "75652265",
   "metadata": {},
   "outputs": [],
   "source": []
  },
  {
   "cell_type": "code",
   "execution_count": 227,
   "id": "b49a476a",
   "metadata": {},
   "outputs": [],
   "source": [
    "from heapq import heappop, heappush\n",
    "heap = [State.fromstr(sample)]"
   ]
  },
  {
   "cell_type": "code",
   "execution_count": 228,
   "id": "a4f8f152",
   "metadata": {},
   "outputs": [],
   "source": [
    "state = heappop(heap)\n",
    "if state.done():\n",
    "    print(state.energy)\n",
    "for child in state.children():\n",
    "    heappush(heap, child)"
   ]
  },
  {
   "cell_type": "code",
   "execution_count": 223,
   "id": "5c667d76",
   "metadata": {},
   "outputs": [
    {
     "name": "stdout",
     "output_type": "stream",
     "text": [
      "#############\n",
      "#...........#\n",
      "###B#C#B#D###\n",
      "###A#D#C#A###\n",
      "#############\n",
      "#############\n",
      "\n"
     ]
    }
   ],
   "source": [
    "state.render()"
   ]
  },
  {
   "cell_type": "code",
   "execution_count": 225,
   "id": "6bd190bf",
   "metadata": {},
   "outputs": [
    {
     "name": "stdout",
     "output_type": "stream",
     "text": [
      "#############\n",
      "#B..........#\n",
      "###.#C#B#D###\n",
      "###A#D#C#A###\n",
      "#############\n",
      "#############\n",
      "\n",
      "#############\n",
      "#.B.........#\n",
      "###.#C#B#D###\n",
      "###A#D#C#A###\n",
      "#############\n",
      "#############\n",
      "\n",
      "#############\n",
      "#...B.......#\n",
      "###.#C#B#D###\n",
      "###A#D#C#A###\n",
      "#############\n",
      "#############\n",
      "\n",
      "#############\n",
      "#.....B.....#\n",
      "###.#C#B#D###\n",
      "###A#D#C#A###\n",
      "#############\n",
      "#############\n",
      "\n",
      "#############\n",
      "#.......B...#\n",
      "###.#C#B#D###\n",
      "###A#D#C#A###\n",
      "#############\n",
      "#############\n",
      "\n",
      "#############\n",
      "#.........B.#\n",
      "###.#C#B#D###\n",
      "###A#D#C#A###\n",
      "#############\n",
      "#############\n",
      "\n",
      "#############\n",
      "#..........B#\n",
      "###.#C#B#D###\n",
      "###A#D#C#A###\n",
      "#############\n",
      "#############\n",
      "\n",
      "#############\n",
      "#.B.........#\n",
      "###B#C#.#D###\n",
      "###A#D#C#A###\n",
      "#############\n",
      "#############\n",
      "\n",
      "#############\n",
      "#.....B.....#\n",
      "###B#C#.#D###\n",
      "###A#D#C#A###\n",
      "#############\n",
      "#############\n",
      "\n",
      "#############\n",
      "#.........B.#\n",
      "###B#C#.#D###\n",
      "###A#D#C#A###\n",
      "#############\n",
      "#############\n",
      "\n",
      "#############\n",
      "#.....C.....#\n",
      "###B#.#B#D###\n",
      "###A#D#C#A###\n",
      "#############\n",
      "#############\n",
      "\n",
      "#############\n",
      "#.......C...#\n",
      "###B#.#B#D###\n",
      "###A#D#C#A###\n",
      "#############\n",
      "#############\n",
      "\n",
      "#############\n",
      "#.........C.#\n",
      "###B#.#B#D###\n",
      "###A#D#C#A###\n",
      "#############\n",
      "#############\n",
      "\n",
      "#############\n",
      "#..........C#\n",
      "###B#.#B#D###\n",
      "###A#D#C#A###\n",
      "#############\n",
      "#############\n",
      "\n",
      "#############\n",
      "#B..........#\n",
      "###B#C#.#D###\n",
      "###A#D#C#A###\n",
      "#############\n",
      "#############\n",
      "\n",
      "#############\n",
      "#C..........#\n",
      "###B#.#B#D###\n",
      "###A#D#C#A###\n",
      "#############\n",
      "#############\n",
      "\n",
      "#############\n",
      "#...B.......#\n",
      "###B#C#.#D###\n",
      "###A#D#C#A###\n",
      "#############\n",
      "#############\n",
      "\n",
      "#############\n",
      "#.C.........#\n",
      "###B#.#B#D###\n",
      "###A#D#C#A###\n",
      "#############\n",
      "#############\n",
      "\n",
      "#############\n",
      "#.......B...#\n",
      "###B#C#.#D###\n",
      "###A#D#C#A###\n",
      "#############\n",
      "#############\n",
      "\n",
      "#############\n",
      "#...C.......#\n",
      "###B#.#B#D###\n",
      "###A#D#C#A###\n",
      "#############\n",
      "#############\n",
      "\n",
      "#############\n",
      "#..........B#\n",
      "###B#C#.#D###\n",
      "###A#D#C#A###\n",
      "#############\n",
      "#############\n",
      "\n",
      "#############\n",
      "#D..........#\n",
      "###B#C#B#.###\n",
      "###A#D#C#A###\n",
      "#############\n",
      "#############\n",
      "\n",
      "#############\n",
      "#.D.........#\n",
      "###B#C#B#.###\n",
      "###A#D#C#A###\n",
      "#############\n",
      "#############\n",
      "\n",
      "#############\n",
      "#...D.......#\n",
      "###B#C#B#.###\n",
      "###A#D#C#A###\n",
      "#############\n",
      "#############\n",
      "\n",
      "#############\n",
      "#.....D.....#\n",
      "###B#C#B#.###\n",
      "###A#D#C#A###\n",
      "#############\n",
      "#############\n",
      "\n",
      "#############\n",
      "#.......D...#\n",
      "###B#C#B#.###\n",
      "###A#D#C#A###\n",
      "#############\n",
      "#############\n",
      "\n",
      "#############\n",
      "#.........D.#\n",
      "###B#C#B#.###\n",
      "###A#D#C#A###\n",
      "#############\n",
      "#############\n",
      "\n",
      "#############\n",
      "#..........D#\n",
      "###B#C#B#.###\n",
      "###A#D#C#A###\n",
      "#############\n",
      "#############\n",
      "\n"
     ]
    }
   ],
   "source": [
    "for s in heap:\n",
    "    s.render()"
   ]
  },
  {
   "cell_type": "code",
   "execution_count": null,
   "id": "a4d55742",
   "metadata": {},
   "outputs": [],
   "source": []
  },
  {
   "cell_type": "code",
   "execution_count": null,
   "id": "6d668f94",
   "metadata": {},
   "outputs": [],
   "source": []
  },
  {
   "cell_type": "code",
   "execution_count": 15,
   "id": "cfa4b18c",
   "metadata": {},
   "outputs": [
    {
     "data": {
      "text/plain": [
       "{(1, 1): '.',\n",
       " (2, 1): '.',\n",
       " (3, 1): '.',\n",
       " (4, 1): '.',\n",
       " (5, 1): '.',\n",
       " (6, 1): '.',\n",
       " (7, 1): '.',\n",
       " (8, 1): '.',\n",
       " (9, 1): '.',\n",
       " (10, 1): '.',\n",
       " (11, 1): '.',\n",
       " (3, 2): 'B',\n",
       " (5, 2): 'C',\n",
       " (7, 2): 'B',\n",
       " (9, 2): 'D',\n",
       " (3, 3): 'A',\n",
       " (5, 3): 'D',\n",
       " (7, 3): 'C',\n",
       " (9, 3): 'A'}"
      ]
     },
     "execution_count": 15,
     "metadata": {},
     "output_type": "execute_result"
    }
   ],
   "source": [
    "starting"
   ]
  },
  {
   "cell_type": "code",
   "execution_count": 23,
   "id": "b97a17d3",
   "metadata": {},
   "outputs": [],
   "source": [
    "x = parses(\"\"\"#############\n",
    "#...........#\n",
    "###A#B#C#D###\n",
    "  #A#B#C#D#\n",
    "  #########\n",
    "\"\"\")"
   ]
  },
  {
   "cell_type": "code",
   "execution_count": null,
   "id": "9ee8cd85",
   "metadata": {},
   "outputs": [],
   "source": [
    "def solve_a(positions):"
   ]
  },
  {
   "cell_type": "code",
   "execution_count": null,
   "id": "a137e47a",
   "metadata": {},
   "outputs": [],
   "source": []
  }
 ],
 "metadata": {
  "kernelspec": {
   "display_name": "Python 3",
   "language": "python",
   "name": "python3"
  },
  "language_info": {
   "codemirror_mode": {
    "name": "ipython",
    "version": 3
   },
   "file_extension": ".py",
   "mimetype": "text/x-python",
   "name": "python",
   "nbconvert_exporter": "python",
   "pygments_lexer": "ipython3",
   "version": "3.8.8"
  }
 },
 "nbformat": 4,
 "nbformat_minor": 5
}
