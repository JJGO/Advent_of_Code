{
 "cells": [
  {
   "cell_type": "code",
   "execution_count": 1,
   "id": "0fae5ae5",
   "metadata": {},
   "outputs": [],
   "source": [
    "from aocd.models import Puzzle\n",
    "\n",
    "def parses(text):\n",
    "    return [ [ '.>v'.index(c) for c in line] for line in text.strip().split('\\n')]\n",
    "#     return {(i,j): c for i, line in enumerate(text.strip().split('\\n')) for j, c in enumerate(line) if c in '>v'} \n",
    "\n",
    "puzzle = Puzzle(year=2021, day=25)\n",
    "data = parses(puzzle.input_data)"
   ]
  },
  {
   "cell_type": "code",
   "execution_count": null,
   "id": "5e078a0a",
   "metadata": {},
   "outputs": [],
   "source": []
  },
  {
   "cell_type": "code",
   "execution_count": 55,
   "id": "d7b3a6bb",
   "metadata": {},
   "outputs": [],
   "source": [
    "sample = parses(\"\"\"...>...\n",
    ".......\n",
    "......>\n",
    "v.....>\n",
    "......>\n",
    ".......\n",
    "..vvv..\"\"\")"
   ]
  },
  {
   "cell_type": "code",
   "execution_count": 56,
   "id": "48aae557",
   "metadata": {},
   "outputs": [],
   "source": [
    "sample = parses(\"\"\"v...>>.vv>\n",
    ".vv>>.vv..\n",
    ">>.>v>...v\n",
    ">>v>>.>.v.\n",
    "v>v.vv.v..\n",
    ">.>>..v...\n",
    ".vv..>.>v.\n",
    "v.v..>>v.v\n",
    "....v..v.>\"\"\")"
   ]
  },
  {
   "cell_type": "code",
   "execution_count": 36,
   "id": "d161c42a",
   "metadata": {},
   "outputs": [],
   "source": [
    "def render(data):\n",
    "    s = \"\"\n",
    "    for line in data:\n",
    "        for v in line:\n",
    "            s += '.>v'[v]\n",
    "        s += '\\n'\n",
    "    print(s)"
   ]
  },
  {
   "cell_type": "code",
   "execution_count": 61,
   "id": "8c9915ba",
   "metadata": {},
   "outputs": [],
   "source": [
    "def solve_a(state):\n",
    "    state = np.array(state)\n",
    "    EMPTY, RIGHT, DOWN = 0, 1, 2\n",
    "    \n",
    "    for i in itertools.count(1):\n",
    "        moves_right = (state == RIGHT) & (np.roll(state, -1, 1) == EMPTY)\n",
    "        state = (state * (1-moves_right)) + np.roll(moves_right, 1, 1) * RIGHT\n",
    "        \n",
    "        moves_down = (state == DOWN) & (np.roll(state, -1, 0) ==  EMPTY)\n",
    "        state = (state * (1-moves_down)) + np.roll(moves_down, 1, 0) * DOWN\n",
    "\n",
    "        if moves_right.sum() + moves_down.sum() == 0:\n",
    "            return i\n",
    "    "
   ]
  },
  {
   "cell_type": "code",
   "execution_count": 62,
   "id": "7ca71b94",
   "metadata": {},
   "outputs": [
    {
     "data": {
      "text/plain": [
       "58"
      ]
     },
     "execution_count": 62,
     "metadata": {},
     "output_type": "execute_result"
    }
   ],
   "source": [
    "solve_a(sample)"
   ]
  },
  {
   "cell_type": "code",
   "execution_count": 63,
   "id": "459fb307",
   "metadata": {},
   "outputs": [
    {
     "data": {
      "text/plain": [
       "337"
      ]
     },
     "execution_count": 63,
     "metadata": {},
     "output_type": "execute_result"
    }
   ],
   "source": [
    "solve_a(data)"
   ]
  },
  {
   "cell_type": "code",
   "execution_count": null,
   "id": "ac068b79",
   "metadata": {},
   "outputs": [],
   "source": [
    "def solve_a(state):\n",
    "    EMPTY, EAST, DOWN = 0, 1, 2\n",
    "    moves = -1\n",
    "    while moves != 0:\n",
    "        moves = 0\n",
    "        new_state = state.copy()\n",
    "        for i in range()\n",
    "        \n"
   ]
  }
 ],
 "metadata": {
  "kernelspec": {
   "display_name": "Python 3",
   "language": "python",
   "name": "python3"
  },
  "language_info": {
   "codemirror_mode": {
    "name": "ipython",
    "version": 3
   },
   "file_extension": ".py",
   "mimetype": "text/x-python",
   "name": "python",
   "nbconvert_exporter": "python",
   "pygments_lexer": "ipython3",
   "version": "3.8.8"
  }
 },
 "nbformat": 4,
 "nbformat_minor": 5
}
