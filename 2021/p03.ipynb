{
 "cells": [
  {
   "cell_type": "code",
   "execution_count": 57,
   "metadata": {},
   "outputs": [],
   "source": [
    "from aocd.models import Puzzle\n",
    "\n",
    "puzzle = Puzzle(year=2021, day=3)\n",
    "\n",
    "def parses(input):\n",
    "    return np.array([[int(i) for i in line] for line in input.strip().split()])\n",
    "\n",
    "data = parses(puzzle.input_data)"
   ]
  },
  {
   "cell_type": "code",
   "execution_count": 58,
   "metadata": {},
   "outputs": [],
   "source": [
    "sample = parses(\"\"\"00100\n",
    "11110\n",
    "10110\n",
    "10111\n",
    "10101\n",
    "01111\n",
    "00111\n",
    "11100\n",
    "10000\n",
    "11001\n",
    "00010\n",
    "01010\"\"\")"
   ]
  },
  {
   "cell_type": "code",
   "execution_count": 59,
   "metadata": {},
   "outputs": [],
   "source": [
    "def tobin(x):\n",
    "    return (2**np.arange(len(x)) * x[::-1]).sum()"
   ]
  },
  {
   "cell_type": "code",
   "execution_count": 60,
   "metadata": {},
   "outputs": [],
   "source": [
    "def parta(x):\n",
    "    N = len(x)\n",
    "    common = x.sum(0) >= N / 2\n",
    "    return tobin(common) * tobin(1-common)"
   ]
  },
  {
   "cell_type": "code",
   "execution_count": 61,
   "metadata": {},
   "outputs": [],
   "source": [
    "assert parta(sample) == 198"
   ]
  },
  {
   "cell_type": "code",
   "execution_count": 62,
   "metadata": {},
   "outputs": [
    {
     "name": "stdout",
     "output_type": "stream",
     "text": [
      "Part a already solved with same answer: 775304\n"
     ]
    }
   ],
   "source": [
    "puzzle.answer_a = parta(data)"
   ]
  },
  {
   "cell_type": "code",
   "execution_count": 63,
   "metadata": {},
   "outputs": [],
   "source": [
    "def partb(x):\n",
    "    def filtercommon(x, toggle=0):\n",
    "        for i in range(x.shape[1]):\n",
    "            if x.shape[0] == 1:\n",
    "                break\n",
    "            common =  int(x[:,i].sum() >= x.shape[0] / 2)\n",
    "            x = x[x[:,i] == common^toggle]\n",
    "        return tobin(x[0])\n",
    "\n",
    "    return filtercommon(x,0) * filtercommon(x,1)"
   ]
  },
  {
   "cell_type": "code",
   "execution_count": 52,
   "metadata": {},
   "outputs": [
    {
     "data": {
      "text/plain": [
       "230"
      ]
     },
     "execution_count": 52,
     "metadata": {},
     "output_type": "execute_result"
    }
   ],
   "source": [
    "assert partb(sample) == 230"
   ]
  },
  {
   "cell_type": "code",
   "execution_count": 53,
   "metadata": {},
   "outputs": [
    {
     "name": "stdout",
     "output_type": "stream",
     "text": [
      "Part b already solved with same answer: 1370737\n"
     ]
    }
   ],
   "source": [
    "puzzle.answer_b = partb(data)"
   ]
  },
  {
   "cell_type": "code",
   "execution_count": 3,
   "metadata": {},
   "outputs": [],
   "source": [
    "# def compute(data):\n",
    "#     data = [[int(i) for i in line] for line in data]\n",
    "#     data = np.array(data)\n",
    "#     x = data.sum(axis=0) > len(data) // 2\n",
    "#     a = \"\".join([str(i) for i in x.astype(int).tolist()])\n",
    "#     b = \"\".join([str(i) for i in (1-x).astype(int).tolist()]) \n",
    "#     return int(a, 2) * int(b, 2)\n"
   ]
  },
  {
   "cell_type": "code",
   "execution_count": 4,
   "metadata": {},
   "outputs": [],
   "source": [
    "def compute(data):\n",
    "    a,b = '', ''\n",
    "    N = len(data[0])\n",
    "    for i in range(N):\n",
    "        c = Counter(line[i] for line in data)\n",
    "        if c['0'] > c['1']:\n",
    "            a += '0'\n",
    "            b += '1'\n",
    "        else:\n",
    "            a += '1'\n",
    "            b += '0'\n",
    "    return int(a,2) * int(b,2)\n",
    "    "
   ]
  },
  {
   "cell_type": "code",
   "execution_count": 5,
   "metadata": {},
   "outputs": [],
   "source": [
    "assert compute(sample) == 198"
   ]
  },
  {
   "cell_type": "code",
   "execution_count": 6,
   "metadata": {},
   "outputs": [
    {
     "data": {
      "text/plain": [
       "775304"
      ]
     },
     "execution_count": 6,
     "metadata": {},
     "output_type": "execute_result"
    }
   ],
   "source": [
    "compute(data)"
   ]
  },
  {
   "cell_type": "code",
   "execution_count": 7,
   "metadata": {},
   "outputs": [],
   "source": [
    "puzzle.answer_a = compute(data)"
   ]
  },
  {
   "cell_type": "code",
   "execution_count": 27,
   "metadata": {},
   "outputs": [],
   "source": [
    "def compute2(data):\n",
    "    a,b = '', ''\n",
    "    N = len(data[0])\n",
    "    d = data.copy()\n",
    "\n",
    "    for i in range(N):\n",
    "        c = Counter(line[i] for line in d)\n",
    "        if c['0'] > c['1']:\n",
    "            a += '0'\n",
    "        else:\n",
    "            a += '1'\n",
    "        d = [line for line in d if line[i] == a[-1]]\n",
    "\n",
    "    d = data.copy()\n",
    "    for i in range(N):\n",
    "        if len(d) == 1:\n",
    "            b += d[0][i]\n",
    "        else:\n",
    "            c = Counter(line[i] for line in d)\n",
    "            if c['0'] <= c['1']:\n",
    "                b += '0'\n",
    "            else:\n",
    "                b += '1'\n",
    "            d = [line for line in d if line[i] == b[-1]]\n",
    "    print(int(a,2), int(b,2))\n",
    "    return int(a,2) * int(b,2)\n"
   ]
  },
  {
   "cell_type": "code",
   "execution_count": 28,
   "metadata": {},
   "outputs": [
    {
     "name": "stdout",
     "output_type": "stream",
     "text": [
      "31 0\n"
     ]
    },
    {
     "ename": "AssertionError",
     "evalue": "",
     "output_type": "error",
     "traceback": [
      "\u001b[0;31m---------------------------------------------------------------------------\u001b[0m",
      "\u001b[0;31mAssertionError\u001b[0m                            Traceback (most recent call last)",
      "\u001b[0;32m<ipython-input-28-df5dfdbb13b9>\u001b[0m in \u001b[0;36m<module>\u001b[0;34m\u001b[0m\n\u001b[0;32m----> 1\u001b[0;31m \u001b[0;32massert\u001b[0m \u001b[0mcompute2\u001b[0m\u001b[0;34m(\u001b[0m\u001b[0msample\u001b[0m\u001b[0;34m)\u001b[0m \u001b[0;34m==\u001b[0m \u001b[0;36m230\u001b[0m\u001b[0;34m\u001b[0m\u001b[0;34m\u001b[0m\u001b[0m\n\u001b[0m",
      "\u001b[0;31mAssertionError\u001b[0m: "
     ]
    }
   ],
   "source": [
    "assert compute2(sample) == 230"
   ]
  },
  {
   "cell_type": "code",
   "execution_count": 10,
   "metadata": {},
   "outputs": [
    {
     "data": {
      "text/plain": [
       "1370737"
      ]
     },
     "execution_count": 10,
     "metadata": {},
     "output_type": "execute_result"
    }
   ],
   "source": [
    "compute2(data)"
   ]
  },
  {
   "cell_type": "code",
   "execution_count": 11,
   "metadata": {},
   "outputs": [],
   "source": [
    "puzzle.answer_b = compute2(data)"
   ]
  },
  {
   "cell_type": "code",
   "execution_count": null,
   "metadata": {},
   "outputs": [],
   "source": []
  }
 ],
 "metadata": {
  "kernelspec": {
   "display_name": "Python 3",
   "language": "python",
   "name": "python3"
  },
  "language_info": {
   "codemirror_mode": {
    "name": "ipython",
    "version": 3
   },
   "file_extension": ".py",
   "mimetype": "text/x-python",
   "name": "python",
   "nbconvert_exporter": "python",
   "pygments_lexer": "ipython3",
   "version": "3.8.3"
  }
 },
 "nbformat": 4,
 "nbformat_minor": 4
}
