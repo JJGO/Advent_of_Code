{
 "cells": [
  {
   "cell_type": "code",
   "execution_count": 3,
   "id": "c30f8dc8",
   "metadata": {},
   "outputs": [],
   "source": [
    "from aocd.models import Puzzle\n",
    "\n",
    "puzzle = Puzzle(year=2021, day=9)\n",
    "\n",
    "def parses(input):\n",
    "    return [[int(i) for i in line] for line in input.strip().split('\\n')]\n",
    "\n",
    "data = parses(puzzle.input_data)"
   ]
  },
  {
   "cell_type": "code",
   "execution_count": 16,
   "id": "caeac971",
   "metadata": {},
   "outputs": [],
   "source": [
    "sample = parses(\"\"\"2199943210\n",
    "3987894921\n",
    "9856789892\n",
    "8767896789\n",
    "9899965678\"\"\")"
   ]
  },
  {
   "cell_type": "code",
   "execution_count": 84,
   "id": "7a7a52d1",
   "metadata": {},
   "outputs": [],
   "source": [
    "def solve_a(heights):\n",
    "    heights = np.array(heights, dtype=np.int32)\n",
    "    pheights = np.pad(heights,1,constant_values=10)\n",
    "    \n",
    "    local_min = np.array([\n",
    "        pheights[:-2,1:-1],\n",
    "        pheights[2:,1:-1],\n",
    "        pheights[1:-1,:-2],\n",
    "        pheights[1:-1,2:],\n",
    "    ]).min(0)\n",
    "\n",
    "    return ((1+heights) * (heights < local_min)).sum()"
   ]
  },
  {
   "cell_type": "code",
   "execution_count": 81,
   "id": "e905e9ed",
   "metadata": {},
   "outputs": [],
   "source": [
    "def solve_a(heights):\n",
    "    N, M = len(heights), len(heights[0])\n",
    "    total = 0\n",
    "    for i in range(N):\n",
    "        for j in range(M):\n",
    "            h = heights[i][j]\n",
    "            for i2, j2 in [(i+1,j),(i-1,j),(i,j+1),(i,j-1)]:\n",
    "                if 0 <= i2 < N and 0 <= j2 < M:\n",
    "                    if heights[i2][j2] <= h:\n",
    "                        break\n",
    "            else:\n",
    "                total += 1 + h\n",
    "    return total"
   ]
  },
  {
   "cell_type": "code",
   "execution_count": 85,
   "id": "75ee3c91",
   "metadata": {},
   "outputs": [
    {
     "data": {
      "text/plain": [
       "15"
      ]
     },
     "execution_count": 85,
     "metadata": {},
     "output_type": "execute_result"
    }
   ],
   "source": [
    "solve_a(sample)"
   ]
  },
  {
   "cell_type": "code",
   "execution_count": 86,
   "id": "7deb692a",
   "metadata": {},
   "outputs": [
    {
     "data": {
      "text/plain": [
       "486"
      ]
     },
     "execution_count": 86,
     "metadata": {},
     "output_type": "execute_result"
    }
   ],
   "source": [
    "solve_a(data)"
   ]
  },
  {
   "cell_type": "code",
   "execution_count": 91,
   "id": "b5f83bbb",
   "metadata": {},
   "outputs": [],
   "source": [
    "import math"
   ]
  },
  {
   "cell_type": "code",
   "execution_count": 96,
   "id": "38de1127",
   "metadata": {},
   "outputs": [],
   "source": [
    "# Classic number of islands, dfs on the implicit graph\n",
    "def solve_b(heights):\n",
    "    N, M = len(heights), len(heights[0])\n",
    "    visited = set()\n",
    "    basins = []\n",
    "    for i in range(N):\n",
    "        for j in range(M):\n",
    "            if heights[i][j] != 9 and (i,j) not in visited:\n",
    "                stack = [(i,j)]\n",
    "                visited.add((i,j))\n",
    "                basins.append(0)\n",
    "                while stack:\n",
    "                    x, y = stack.pop()\n",
    "                    basins[-1] += 1\n",
    "                    for x2, y2 in [(x+1,y),(x-1,y),(x,y+1),(x,y-1)]:\n",
    "                        if 0 <= x2 < N and 0 <= y2 < M:\n",
    "                            if heights[x2][y2] != 9 and (x2,y2) not in visited:\n",
    "                                visited.add((x2,y2))\n",
    "                                stack.append((x2,y2))\n",
    "    return math.prod(sorted(basins)[-3:])"
   ]
  },
  {
   "cell_type": "code",
   "execution_count": 94,
   "id": "933fbe07",
   "metadata": {},
   "outputs": [
    {
     "data": {
      "text/plain": [
       "1134"
      ]
     },
     "execution_count": 94,
     "metadata": {},
     "output_type": "execute_result"
    }
   ],
   "source": [
    "solve_b(sample)"
   ]
  },
  {
   "cell_type": "code",
   "execution_count": 95,
   "id": "87439b57",
   "metadata": {},
   "outputs": [
    {
     "data": {
      "text/plain": [
       "1059300"
      ]
     },
     "execution_count": 95,
     "metadata": {},
     "output_type": "execute_result"
    }
   ],
   "source": [
    "solve_b(data)"
   ]
  },
  {
   "cell_type": "code",
   "execution_count": null,
   "id": "c9d83a9d",
   "metadata": {},
   "outputs": [],
   "source": []
  },
  {
   "cell_type": "code",
   "execution_count": 11,
   "id": "778eba38",
   "metadata": {},
   "outputs": [
    {
     "data": {
      "text/plain": [
       "array([[10., 10., 10., 10., 10., 10., 10., 10., 10., 10.],\n",
       "       [10.,  0.,  0.,  0.,  0.,  0.,  0.,  0.,  0., 10.],\n",
       "       [10.,  0.,  0.,  0.,  0.,  0.,  0.,  0.,  0., 10.],\n",
       "       [10.,  0.,  0.,  0.,  0.,  0.,  0.,  0.,  0., 10.],\n",
       "       [10.,  0.,  0.,  0.,  0.,  0.,  0.,  0.,  0., 10.],\n",
       "       [10.,  0.,  0.,  0.,  0.,  0.,  0.,  0.,  0., 10.],\n",
       "       [10.,  0.,  0.,  0.,  0.,  0.,  0.,  0.,  0., 10.],\n",
       "       [10.,  0.,  0.,  0.,  0.,  0.,  0.,  0.,  0., 10.],\n",
       "       [10.,  0.,  0.,  0.,  0.,  0.,  0.,  0.,  0., 10.],\n",
       "       [10., 10., 10., 10., 10., 10., 10., 10., 10., 10.]])"
      ]
     },
     "execution_count": 11,
     "metadata": {},
     "output_type": "execute_result"
    }
   ],
   "source": [
    "heights"
   ]
  },
  {
   "cell_type": "code",
   "execution_count": 6,
   "id": "37b3bec4",
   "metadata": {},
   "outputs": [],
   "source": [
    "np.minimum?"
   ]
  },
  {
   "cell_type": "code",
   "execution_count": null,
   "id": "ca372065",
   "metadata": {},
   "outputs": [],
   "source": []
  }
 ],
 "metadata": {
  "kernelspec": {
   "display_name": "Python 3",
   "language": "python",
   "name": "python3"
  },
  "language_info": {
   "codemirror_mode": {
    "name": "ipython",
    "version": 3
   },
   "file_extension": ".py",
   "mimetype": "text/x-python",
   "name": "python",
   "nbconvert_exporter": "python",
   "pygments_lexer": "ipython3",
   "version": "3.8.8"
  }
 },
 "nbformat": 4,
 "nbformat_minor": 5
}
