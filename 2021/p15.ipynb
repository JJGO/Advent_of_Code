{
 "cells": [
  {
   "cell_type": "code",
   "execution_count": 4,
   "id": "3b946ba3",
   "metadata": {},
   "outputs": [],
   "source": [
    "import parse"
   ]
  },
  {
   "cell_type": "code",
   "execution_count": 7,
   "id": "7332b178",
   "metadata": {},
   "outputs": [],
   "source": [
    "from aocd.models import Puzzle\n",
    "\n",
    "puzzle = Puzzle(year=2021, day=15)\n",
    "\n",
    "def parses(input):\n",
    "    return [[int(i) for i in line] for line in input.strip().split('\\n')]\n",
    "\n",
    "data = parses(puzzle.input_data)"
   ]
  },
  {
   "cell_type": "code",
   "execution_count": 9,
   "id": "094f6644",
   "metadata": {},
   "outputs": [],
   "source": [
    "sample = parses(\"\"\"1163751742\n",
    "1381373672\n",
    "2136511328\n",
    "3694931569\n",
    "7463417111\n",
    "1319128137\n",
    "1359912421\n",
    "3125421639\n",
    "1293138521\n",
    "2311944581\"\"\")"
   ]
  },
  {
   "cell_type": "code",
   "execution_count": null,
   "id": "e909fa6a",
   "metadata": {},
   "outputs": [],
   "source": [
    "sample"
   ]
  },
  {
   "cell_type": "code",
   "execution_count": 12,
   "id": "afaa868a",
   "metadata": {},
   "outputs": [],
   "source": [
    "from heapq import heappop, heappush"
   ]
  },
  {
   "cell_type": "code",
   "execution_count": 40,
   "id": "b5c8c3e7",
   "metadata": {},
   "outputs": [],
   "source": [
    "def solve_a(data):\n",
    "    N,M = len(data), len(data[0])\n",
    "    heap = [(0,(0,0))]\n",
    "    visited = set()\n",
    "    while True:\n",
    "        risk, (x,y) = heappop(heap)\n",
    "        if (x,y) == (N-1,M-1):\n",
    "            return risk\n",
    "        if (x,y) in visited:\n",
    "            continue\n",
    "        visited.add((x,y))\n",
    "        \n",
    "        for x2, y2 in [(x-1,y),(x+1,y),(x,y-1),(x,y+1)]:\n",
    "            if 0 <= x2 < N and 0<= y2 < M and (x2,y2) not in visited:\n",
    "                heappush(heap, (risk+data[x2][y2],(x2,y2)))"
   ]
  },
  {
   "cell_type": "code",
   "execution_count": 41,
   "id": "23e0b7f0",
   "metadata": {},
   "outputs": [
    {
     "data": {
      "text/plain": [
       "40"
      ]
     },
     "execution_count": 41,
     "metadata": {},
     "output_type": "execute_result"
    }
   ],
   "source": [
    "solve_a(sample)"
   ]
  },
  {
   "cell_type": "code",
   "execution_count": 42,
   "id": "769c64b4",
   "metadata": {},
   "outputs": [
    {
     "data": {
      "text/plain": [
       "553"
      ]
     },
     "execution_count": 42,
     "metadata": {},
     "output_type": "execute_result"
    }
   ],
   "source": [
    "solve_a(data)"
   ]
  },
  {
   "cell_type": "code",
   "execution_count": 18,
   "id": "1a1ed9ba",
   "metadata": {},
   "outputs": [
    {
     "data": {
      "text/plain": [
       "2223"
      ]
     },
     "execution_count": 18,
     "metadata": {},
     "output_type": "execute_result"
    }
   ],
   "source": [
    "solve_a(data,10)"
   ]
  },
  {
   "cell_type": "code",
   "execution_count": 46,
   "id": "95d6e954",
   "metadata": {},
   "outputs": [],
   "source": []
  },
  {
   "cell_type": "code",
   "execution_count": 2,
   "id": "8f2a82ab",
   "metadata": {},
   "outputs": [],
   "source": [
    "def solve_b(data):\n",
    "    return None"
   ]
  },
  {
   "cell_type": "code",
   "execution_count": 3,
   "id": "d8b7a3e8",
   "metadata": {},
   "outputs": [
    {
     "ename": "NameError",
     "evalue": "name 'sample' is not defined",
     "output_type": "error",
     "traceback": [
      "\u001b[0;31m---------------------------------------------------------------------------\u001b[0m",
      "\u001b[0;31mNameError\u001b[0m                                 Traceback (most recent call last)",
      "\u001b[0;32m<ipython-input-3-05cc35cb79db>\u001b[0m in \u001b[0;36m<module>\u001b[0;34m\u001b[0m\n\u001b[0;32m----> 1\u001b[0;31m \u001b[0msolve_b\u001b[0m\u001b[0;34m(\u001b[0m\u001b[0msample\u001b[0m\u001b[0;34m)\u001b[0m\u001b[0;34m\u001b[0m\u001b[0;34m\u001b[0m\u001b[0m\n\u001b[0m",
      "\u001b[0;31mNameError\u001b[0m: name 'sample' is not defined"
     ]
    }
   ],
   "source": [
    "solve_b(sample)"
   ]
  },
  {
   "cell_type": "code",
   "execution_count": null,
   "id": "0812ff63",
   "metadata": {},
   "outputs": [],
   "source": [
    "solve_b(data)"
   ]
  },
  {
   "cell_type": "code",
   "execution_count": 36,
   "id": "03c0fcee",
   "metadata": {},
   "outputs": [],
   "source": [
    "class Cave:\n",
    "    \n",
    "    def __init__(self, data):\n",
    "        self.data = data\n",
    "        self.N = len(data)\n",
    "        self.M = len(data[0])\n",
    "    \n",
    "    def __getitem__(self, pos):\n",
    "        i, j = pos\n",
    "        di, ri = divmod(i, self.N)\n",
    "        dj, rj = divmod(j, self.M)\n",
    "        risk = self.data[ri][rj] + di + dj\n",
    "        risk = (risk-1) % 9 + 1\n",
    "        return risk\n",
    "        \n",
    "    def size(self):\n",
    "        return self.N*5, self.M*5"
   ]
  },
  {
   "cell_type": "code",
   "execution_count": null,
   "id": "06d53781",
   "metadata": {},
   "outputs": [],
   "source": []
  },
  {
   "cell_type": "code",
   "execution_count": 37,
   "id": "1e0a0abf",
   "metadata": {},
   "outputs": [],
   "source": [
    "def solve_b(data):\n",
    "    cave = Cave(data)\n",
    "    N, M = cave.size()\n",
    "    heap = [(0,(0,0))]\n",
    "    visited = set()\n",
    "    while True:\n",
    "        risk, (x,y) = heappop(heap)\n",
    "        if (x,y) == (N-1,M-1):\n",
    "            return risk\n",
    "        if (x,y) in visited:\n",
    "            continue\n",
    "        visited.add((x,y))\n",
    "        \n",
    "        for x2, y2 in [(x-1,y),(x+1,y),(x,y-1),(x,y+1)]:\n",
    "            if 0 <= x2 < N and 0<= y2 < M and (x2,y2) not in visited:\n",
    "                heappush(heap, (risk+cave[x2,y2],(x2,y2)))"
   ]
  },
  {
   "cell_type": "code",
   "execution_count": 50,
   "id": "d73ebfb7",
   "metadata": {},
   "outputs": [],
   "source": [
    "d = {}"
   ]
  },
  {
   "cell_type": "code",
   "execution_count": 51,
   "id": "43f1dbf0",
   "metadata": {},
   "outputs": [],
   "source": [
    "d[1,2] = 3"
   ]
  },
  {
   "cell_type": "code",
   "execution_count": 52,
   "id": "a0390c5e",
   "metadata": {},
   "outputs": [],
   "source": [
    "def search(cave):\n",
    "    N, M = cave.size\n",
    "    heap = [(0, (0,0))]\n",
    "    visited = set()\n",
    "    while True:\n",
    "        risk, (x,y) = heappop(heap)\n",
    "        if (x,y) not in visited:\n",
    "            visited.add((x,y))\n",
    "            if (x,y) not in cost or cost < visited[x,y]:\n",
    "                visited[x,y] = cost\n",
    "            for x2, y2 in [(x-1,y), (x+1,y), (x,y-1), (x,y+1)]:\n",
    "                if 0 <= x2 < N and 0 <= y2 < M and (x2,y2) not in visited:\n",
    "                    heappush(heap, (risk+cave[x2,y2], (x2,y2)))"
   ]
  },
  {
   "cell_type": "code",
   "execution_count": 53,
   "id": "4a94c56f",
   "metadata": {},
   "outputs": [
    {
     "data": {
      "text/plain": [
       "315"
      ]
     },
     "execution_count": 53,
     "metadata": {},
     "output_type": "execute_result"
    }
   ],
   "source": [
    "solve_b(sample)"
   ]
  },
  {
   "cell_type": "code",
   "execution_count": 54,
   "id": "cb685f29",
   "metadata": {},
   "outputs": [
    {
     "name": "stdout",
     "output_type": "stream",
     "text": [
      "1.54 s ± 31 ms per loop (mean ± std. dev. of 7 runs, 1 loop each)\n"
     ]
    }
   ],
   "source": [
    "%%timeit\n",
    "solve_b(data)"
   ]
  },
  {
   "cell_type": "code",
   "execution_count": 48,
   "id": "b84622e4",
   "metadata": {},
   "outputs": [
    {
     "name": "stdout",
     "output_type": "stream",
     "text": [
      "1.8 s ± 87.5 ms per loop (mean ± std. dev. of 7 runs, 1 loop each)\n"
     ]
    }
   ],
   "source": [
    "%%timeit\n",
    "fastsolve(data)"
   ]
  },
  {
   "cell_type": "code",
   "execution_count": 49,
   "id": "2c01dc5b",
   "metadata": {},
   "outputs": [
    {
     "data": {
      "text/plain": [
       "315"
      ]
     },
     "execution_count": 49,
     "metadata": {},
     "output_type": "execute_result"
    }
   ],
   "source": [
    "fastsolve(sample)"
   ]
  },
  {
   "cell_type": "code",
   "execution_count": null,
   "id": "78709c8c",
   "metadata": {},
   "outputs": [],
   "source": []
  }
 ],
 "metadata": {
  "kernelspec": {
   "display_name": "Python 3",
   "language": "python",
   "name": "python3"
  },
  "language_info": {
   "codemirror_mode": {
    "name": "ipython",
    "version": 3
   },
   "file_extension": ".py",
   "mimetype": "text/x-python",
   "name": "python",
   "nbconvert_exporter": "python",
   "pygments_lexer": "ipython3",
   "version": "3.8.8"
  }
 },
 "nbformat": 4,
 "nbformat_minor": 5
}
