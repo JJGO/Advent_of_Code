{
 "cells": [
  {
   "cell_type": "code",
   "execution_count": 196,
   "metadata": {},
   "outputs": [],
   "source": [
    "from aocd.models import Puzzle\n",
    "\n",
    "puzzle = Puzzle(year=2021, day=4)\n",
    "\n",
    "def parses(input):\n",
    "    draws, *boards = input.strip().split('\\n\\n')\n",
    "    draws = [int(i) for i in draws.split(',')]\n",
    "    boards = [\n",
    "        [[int(i) for i in line.split()] for line in board.split('\\n')]\n",
    "        for board in boards\n",
    "    ]\n",
    "    return np.array(draws, dtype=np.int32), np.array(boards, dtype=np.int32)\n",
    "\n",
    "data = parses(puzzle.input_data)"
   ]
  },
  {
   "cell_type": "code",
   "execution_count": 207,
   "metadata": {},
   "outputs": [
    {
     "data": {
      "text/plain": [
       "<aocd.models.User at 0x7fd9d1e867f0>"
      ]
     },
     "execution_count": 207,
     "metadata": {},
     "output_type": "execute_result"
    }
   ],
   "source": [
    "puzzle."
   ]
  },
  {
   "cell_type": "code",
   "execution_count": 197,
   "metadata": {},
   "outputs": [],
   "source": [
    "sample = parses(\"\"\"7,4,9,5,11,17,23,2,0,14,21,24,10,16,13,6,15,25,12,22,18,20,8,19,3,26,1\n",
    "\n",
    "22 13 17 11  0\n",
    " 8  2 23  4 24\n",
    "21  9 14 16  7\n",
    " 6 10  3 18  5\n",
    " 1 12 20 15 19\n",
    "\n",
    " 3 15  0  2 22\n",
    " 9 18 13 17  5\n",
    "19  8  7 25 23\n",
    "20 11 10 24  4\n",
    "14 21 16 12  6\n",
    "\n",
    "14 21 17 24  4\n",
    "10 16 15  9 19\n",
    "18  8 23 26 20\n",
    "22 11 13  6  5\n",
    " 2  0 12  3  7\"\"\")"
   ]
  },
  {
   "cell_type": "code",
   "execution_count": 198,
   "metadata": {},
   "outputs": [],
   "source": [
    "def bingo(draws, boards):\n",
    "    called = np.zeros_like(boards)\n",
    "    for n in draws:\n",
    "        called |= boards == n\n",
    "        sums = np.maximum(called.sum(2).max(1), called.sum(1).max(1))\n",
    "        if sums.max() == 5:\n",
    "            b = np.argmax(sums)\n",
    "            return n * (boards[b] * (1 - called[b])).sum()"
   ]
  },
  {
   "cell_type": "code",
   "execution_count": 199,
   "metadata": {},
   "outputs": [],
   "source": [
    "def bingo(draws, boards):\n",
    "    called = np.zeros_like(boards)\n",
    "    for n in draws:\n",
    "        called |= boards == n\n",
    "        win = called.all(1).any(1) | called.all(2).any(1)\n",
    "        if win.any():\n",
    "            b = win.argmax()\n",
    "            return n * (boards[b] * (1 - called[b])).sum()"
   ]
  },
  {
   "cell_type": "code",
   "execution_count": 200,
   "metadata": {},
   "outputs": [],
   "source": [
    "assert bingo(*sample) == 4512"
   ]
  },
  {
   "cell_type": "code",
   "execution_count": 201,
   "metadata": {},
   "outputs": [
    {
     "name": "stdout",
     "output_type": "stream",
     "text": [
      "Part a already solved with same answer: 25410\n"
     ]
    }
   ],
   "source": [
    "puzzle.answer_a = bingo(*data)"
   ]
  },
  {
   "cell_type": "code",
   "execution_count": 202,
   "metadata": {},
   "outputs": [],
   "source": [
    "def bingoall(draws, boards):\n",
    "    called = np.zeros_like(boards)\n",
    "    for n in draws:\n",
    "        called |= boards == n\n",
    "        sums = np.maximum(called.sum(2).max(1), called.sum(1).max(1))\n",
    "        if (sums == 5).sum() == len(boards):\n",
    "            return n * (boards[b] * (1 - called[b])).sum()\n",
    "        b = sums.argmin()"
   ]
  },
  {
   "cell_type": "code",
   "execution_count": 203,
   "metadata": {},
   "outputs": [],
   "source": [
    "def bingoall(draws, boards):\n",
    "    called = np.zeros_like(boards)\n",
    "    for n in draws:\n",
    "        called |= boards == n\n",
    "        win = called.all(1).any(1) | called.all(2).any(1)\n",
    "        if win.all():\n",
    "            return n * (boards[b] * (1 - called[b])).sum()\n",
    "        b = win.argmin()"
   ]
  },
  {
   "cell_type": "code",
   "execution_count": 204,
   "metadata": {},
   "outputs": [],
   "source": [
    "assert bingoall(*sample) == 1924"
   ]
  },
  {
   "cell_type": "code",
   "execution_count": 205,
   "metadata": {},
   "outputs": [
    {
     "name": "stdout",
     "output_type": "stream",
     "text": [
      "Part b already solved with same answer: 2730\n"
     ]
    }
   ],
   "source": [
    "puzzle.answer_b = bingoall(*data)"
   ]
  }
 ],
 "metadata": {
  "kernelspec": {
   "display_name": "Python 3",
   "language": "python",
   "name": "python3"
  },
  "language_info": {
   "codemirror_mode": {
    "name": "ipython",
    "version": 3
   },
   "file_extension": ".py",
   "mimetype": "text/x-python",
   "name": "python",
   "nbconvert_exporter": "python",
   "pygments_lexer": "ipython3",
   "version": "3.8.3"
  }
 },
 "nbformat": 4,
 "nbformat_minor": 4
}
