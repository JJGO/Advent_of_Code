{
 "cells": [
  {
   "cell_type": "code",
   "execution_count": 33,
   "id": "7332b178",
   "metadata": {},
   "outputs": [],
   "source": [
    "from aocd.models import Puzzle\n",
    "\n",
    "puzzle = Puzzle(year=2021, day=12)\n",
    "\n",
    "def parses(input):\n",
    "    graph = defaultdict(list)\n",
    "    for src, dst in [line.split('-') for line in input.strip().split('\\n')]:\n",
    "        if dst != 'start' and src != 'end':\n",
    "            graph[src].append(dst)\n",
    "        if src != 'start' and dst != 'end':\n",
    "            graph[dst].append(src)\n",
    "    return graph\n",
    "\n",
    "data = parses(puzzle.input_data)"
   ]
  },
  {
   "cell_type": "code",
   "execution_count": 34,
   "id": "094f6644",
   "metadata": {},
   "outputs": [],
   "source": [
    "samples = [\n",
    "\"\"\"start-A\n",
    "start-b\n",
    "A-c\n",
    "A-b\n",
    "b-d\n",
    "A-end\n",
    "b-end\"\"\",\n",
    "\"\"\"dc-end\n",
    "HN-start\n",
    "start-kj\n",
    "dc-start\n",
    "dc-HN\n",
    "LN-dc\n",
    "HN-end\n",
    "kj-sa\n",
    "kj-HN\n",
    "kj-dc\"\"\",\n",
    "\"\"\"fs-end\n",
    "he-DX\n",
    "fs-he\n",
    "start-DX\n",
    "pj-DX\n",
    "end-zg\n",
    "zg-sl\n",
    "zg-pj\n",
    "pj-he\n",
    "RW-he\n",
    "fs-DX\n",
    "pj-RW\n",
    "zg-RW\n",
    "start-pj\n",
    "he-WI\n",
    "zg-he\n",
    "pj-fs\n",
    "start-RW\"\"\"]\n",
    "samples = [parses(s) for s in samples]\n",
    "solutions_a = [10, 19, 226]"
   ]
  },
  {
   "cell_type": "code",
   "execution_count": 35,
   "id": "98abce8f",
   "metadata": {},
   "outputs": [],
   "source": [
    "def solve_a(graph):\n",
    "    valid_paths = 0\n",
    "    path_stack = [('start', 'start')]\n",
    "    seen_paths = set([hash('start')])\n",
    "    \n",
    "    while path_stack:\n",
    "        node, path = path_stack.pop()\n",
    "        for child in graph[node]:\n",
    "            if child.upper() == child or child not in path:\n",
    "                new_path = path + ',' + child\n",
    "                h = hash(new_path)\n",
    "                if h not in seen_paths:\n",
    "                    seen_paths.add(h)\n",
    "                    if child == 'end':\n",
    "                        valid_paths += 1\n",
    "                    else:\n",
    "                        path_stack.append((child, new_path))\n",
    "    return valid_paths\n",
    "                    "
   ]
  },
  {
   "cell_type": "code",
   "execution_count": 36,
   "id": "4d37d868",
   "metadata": {},
   "outputs": [
    {
     "data": {
      "text/plain": [
       "10"
      ]
     },
     "execution_count": 36,
     "metadata": {},
     "output_type": "execute_result"
    }
   ],
   "source": [
    "solve_a(samples[0])"
   ]
  },
  {
   "cell_type": "code",
   "execution_count": 37,
   "id": "7c349fce",
   "metadata": {},
   "outputs": [
    {
     "data": {
      "text/plain": [
       "19"
      ]
     },
     "execution_count": 37,
     "metadata": {},
     "output_type": "execute_result"
    }
   ],
   "source": [
    "solve_a(samples[1])"
   ]
  },
  {
   "cell_type": "code",
   "execution_count": 38,
   "id": "46646004",
   "metadata": {},
   "outputs": [
    {
     "data": {
      "text/plain": [
       "226"
      ]
     },
     "execution_count": 38,
     "metadata": {},
     "output_type": "execute_result"
    }
   ],
   "source": [
    "solve_a(samples[2])"
   ]
  },
  {
   "cell_type": "code",
   "execution_count": 39,
   "id": "86400a24",
   "metadata": {},
   "outputs": [
    {
     "data": {
      "text/plain": [
       "3708"
      ]
     },
     "execution_count": 39,
     "metadata": {},
     "output_type": "execute_result"
    }
   ],
   "source": [
    "solve_a(data)"
   ]
  },
  {
   "cell_type": "code",
   "execution_count": null,
   "id": "73c901d6",
   "metadata": {},
   "outputs": [],
   "source": []
  },
  {
   "cell_type": "code",
   "execution_count": 117,
   "id": "807203b2",
   "metadata": {},
   "outputs": [],
   "source": [
    "# No need to worry about cycles since a uppercase-cycle would\n",
    "# lead to infinite paths so it's not a valid input\n",
    "def solve(graph, part='a'):\n",
    "    valid_paths = 0\n",
    "    path_stack = [('start', 'start', part=='b')]\n",
    "    \n",
    "    while path_stack:\n",
    "        node, path, wildcard = path_stack.pop()\n",
    "        for child in graph[node]:\n",
    "            can_visit = child.isupper() or child not in path\n",
    "            if can_visit or wildcard:\n",
    "                if child == 'end':\n",
    "                    valid_paths += 1\n",
    "                else:\n",
    "                    child_wildcard = wildcard and can_visit\n",
    "                    new_path = path + ',' + child\n",
    "                    path_stack.append((child, new_path, child_wildcard))\n",
    "\n",
    "    return valid_paths                "
   ]
  },
  {
   "cell_type": "code",
   "execution_count": 118,
   "id": "a6bda461",
   "metadata": {},
   "outputs": [
    {
     "name": "stdout",
     "output_type": "stream",
     "text": [
      "225 ms ± 10.5 ms per loop (mean ± std. dev. of 7 runs, 1 loop each)\n"
     ]
    }
   ],
   "source": [
    "%%timeit\n",
    "solve(data), solve(data, 'b')"
   ]
  },
  {
   "cell_type": "code",
   "execution_count": 119,
   "id": "aeb12067",
   "metadata": {},
   "outputs": [],
   "source": [
    "def solve(graph, part=\"a\"):\n",
    "    valid_paths = 0\n",
    "    path_stack = [(\"start\", [\"start\"], part == \"b\")]\n",
    "\n",
    "    while path_stack:\n",
    "        node, path, wildcard = path_stack.pop()\n",
    "        for child in graph[node]:\n",
    "            can_visit = child.isupper() or child not in path\n",
    "            if can_visit or wildcard:\n",
    "                if child == \"end\":\n",
    "                    valid_paths += 1\n",
    "                else:\n",
    "                    child_wildcard = wildcard and can_visit\n",
    "                    new_path = path + [child]\n",
    "                    path_stack.append((child, new_path, child_wildcard))\n",
    "    return valid_paths\n"
   ]
  },
  {
   "cell_type": "code",
   "execution_count": 120,
   "id": "70639f82",
   "metadata": {},
   "outputs": [
    {
     "name": "stdout",
     "output_type": "stream",
     "text": [
      "278 ms ± 16.7 ms per loop (mean ± std. dev. of 7 runs, 1 loop each)\n"
     ]
    }
   ],
   "source": [
    "%%timeit\n",
    "solve(data), solve(data, 'b')"
   ]
  },
  {
   "cell_type": "code",
   "execution_count": null,
   "id": "5ab2972c",
   "metadata": {},
   "outputs": [],
   "source": []
  },
  {
   "cell_type": "code",
   "execution_count": 93,
   "id": "26514f59",
   "metadata": {},
   "outputs": [],
   "source": [
    "def solve(graph, part='a'):\n",
    "    valid_paths = 0\n",
    "    path_stack = [('start', 'start', part=='b')]\n",
    "    seen_paths = set([hash('start')])\n",
    "    \n",
    "    while path_stack:\n",
    "        node, path, wildcard = path_stack.pop()\n",
    "        for child in graph[node]:\n",
    "            valid = child.isupper() or child not in path\n",
    "            if valid or wildcard:\n",
    "                new_path = path + ',' + child\n",
    "                if (h := hash(new_path)) not in seen_paths:\n",
    "                    seen_paths.add(h)\n",
    "                    if child == 'end':\n",
    "                        valid_paths += 1\n",
    "                    else:\n",
    "                        child_wildcard = wildcard and valid\n",
    "                        path_stack.append((child, new_path, child_wildcard))\n",
    "    return valid_paths\n",
    "                    "
   ]
  },
  {
   "cell_type": "code",
   "execution_count": 96,
   "id": "a8ef9641",
   "metadata": {},
   "outputs": [
    {
     "data": {
      "text/plain": [
       "(3708, 93858)"
      ]
     },
     "execution_count": 96,
     "metadata": {},
     "output_type": "execute_result"
    }
   ],
   "source": [
    "solve(data), solve(data, 'b')"
   ]
  },
  {
   "cell_type": "code",
   "execution_count": null,
   "id": "c87b3468",
   "metadata": {},
   "outputs": [],
   "source": []
  },
  {
   "cell_type": "code",
   "execution_count": 92,
   "id": "e78ef26a",
   "metadata": {},
   "outputs": [
    {
     "data": {
      "text/plain": [
       "True"
      ]
     },
     "execution_count": 92,
     "metadata": {},
     "output_type": "execute_result"
    }
   ],
   "source": [
    "\"HDASD\".isupper()"
   ]
  },
  {
   "cell_type": "code",
   "execution_count": null,
   "id": "1b5aff9d",
   "metadata": {},
   "outputs": [],
   "source": []
  },
  {
   "cell_type": "code",
   "execution_count": 103,
   "id": "b651a35b",
   "metadata": {},
   "outputs": [],
   "source": [
    "import itertools"
   ]
  },
  {
   "cell_type": "code",
   "execution_count": 104,
   "id": "3dc14bd9",
   "metadata": {},
   "outputs": [],
   "source": [
    "def run_step(energy):\n",
    "    N, M = energy.shape\n",
    "    energy += 1\n",
    "    flashes = 0\n",
    "    toflash = np.argwhere(energy > 9).tolist()\n",
    "    while toflash:\n",
    "        x, y = toflash.pop()\n",
    "        flashes += 1\n",
    "        for dx, dy in itertools.product([-1,0,1], repeat=2):\n",
    "            x2, y2 = x+dx, y+dy\n",
    "            if 0 <= x2 < N and 0 <= y2 < M and energy[x2,y2] < 10:\n",
    "                energy[x2,y2] += 1\n",
    "                if energy[x2,y2] == 10:\n",
    "                    toflash.append([x2,y2])\n",
    "    energy[energy > 9] = 0\n",
    "    return flashes"
   ]
  },
  {
   "cell_type": "code",
   "execution_count": 105,
   "id": "cd85c063",
   "metadata": {},
   "outputs": [],
   "source": [
    "def solve_a(energy, steps):\n",
    "    energy = np.array(energy)\n",
    "    return sum(run_step(energy) for k in range(steps))"
   ]
  },
  {
   "cell_type": "code",
   "execution_count": null,
   "id": "f6b50cbf",
   "metadata": {},
   "outputs": [],
   "source": []
  },
  {
   "cell_type": "code",
   "execution_count": 106,
   "id": "b691921c",
   "metadata": {},
   "outputs": [],
   "source": [
    "tiny = parses(\"\"\"11111\n",
    "19991\n",
    "19191\n",
    "19991\n",
    "11111\"\"\")"
   ]
  },
  {
   "cell_type": "code",
   "execution_count": 107,
   "id": "8a00a091",
   "metadata": {},
   "outputs": [
    {
     "data": {
      "text/plain": [
       "9"
      ]
     },
     "execution_count": 107,
     "metadata": {},
     "output_type": "execute_result"
    }
   ],
   "source": [
    "solve_a(tiny, 2)"
   ]
  },
  {
   "cell_type": "code",
   "execution_count": 108,
   "id": "5bbdabe4",
   "metadata": {},
   "outputs": [
    {
     "data": {
      "text/plain": [
       "204"
      ]
     },
     "execution_count": 108,
     "metadata": {},
     "output_type": "execute_result"
    }
   ],
   "source": [
    "solve_a(sample, 10)"
   ]
  },
  {
   "cell_type": "code",
   "execution_count": 109,
   "id": "70b7525a",
   "metadata": {},
   "outputs": [
    {
     "data": {
      "text/plain": [
       "1656"
      ]
     },
     "execution_count": 109,
     "metadata": {},
     "output_type": "execute_result"
    }
   ],
   "source": [
    "solve_a(sample, 100)"
   ]
  },
  {
   "cell_type": "code",
   "execution_count": 110,
   "id": "56961cf1",
   "metadata": {},
   "outputs": [
    {
     "data": {
      "text/plain": [
       "1757"
      ]
     },
     "execution_count": 110,
     "metadata": {},
     "output_type": "execute_result"
    }
   ],
   "source": [
    "solve_a(data, 100)"
   ]
  },
  {
   "cell_type": "code",
   "execution_count": 111,
   "id": "7e61e4ab",
   "metadata": {},
   "outputs": [],
   "source": [
    "def solve_b(energy):\n",
    "    energy = np.array(energy)\n",
    "    for k in itertools.count(1):\n",
    "        run_step(energy)\n",
    "        if (energy == 0).all():\n",
    "            return k"
   ]
  },
  {
   "cell_type": "code",
   "execution_count": null,
   "id": "272a9809",
   "metadata": {},
   "outputs": [],
   "source": []
  },
  {
   "cell_type": "code",
   "execution_count": 64,
   "id": "c67a1d09",
   "metadata": {},
   "outputs": [
    {
     "data": {
      "text/plain": [
       "195"
      ]
     },
     "execution_count": 64,
     "metadata": {},
     "output_type": "execute_result"
    }
   ],
   "source": [
    "solve_b(sample)"
   ]
  },
  {
   "cell_type": "code",
   "execution_count": 65,
   "id": "d286f7d5",
   "metadata": {},
   "outputs": [
    {
     "data": {
      "text/plain": [
       "422"
      ]
     },
     "execution_count": 65,
     "metadata": {},
     "output_type": "execute_result"
    }
   ],
   "source": [
    "solve_b(data)"
   ]
  },
  {
   "cell_type": "code",
   "execution_count": null,
   "id": "7d25185f",
   "metadata": {},
   "outputs": [],
   "source": []
  },
  {
   "cell_type": "code",
   "execution_count": null,
   "id": "a6ded0e7",
   "metadata": {},
   "outputs": [],
   "source": []
  },
  {
   "cell_type": "code",
   "execution_count": null,
   "id": "22538604",
   "metadata": {},
   "outputs": [],
   "source": []
  }
 ],
 "metadata": {
  "kernelspec": {
   "display_name": "Python 3",
   "language": "python",
   "name": "python3"
  },
  "language_info": {
   "codemirror_mode": {
    "name": "ipython",
    "version": 3
   },
   "file_extension": ".py",
   "mimetype": "text/x-python",
   "name": "python",
   "nbconvert_exporter": "python",
   "pygments_lexer": "ipython3",
   "version": "3.8.8"
  }
 },
 "nbformat": 4,
 "nbformat_minor": 5
}
