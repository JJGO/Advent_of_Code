{
 "cells": [
  {
   "cell_type": "code",
   "execution_count": 4,
   "id": "3b946ba3",
   "metadata": {},
   "outputs": [],
   "source": [
    "import parse"
   ]
  },
  {
   "cell_type": "code",
   "execution_count": 81,
   "id": "7332b178",
   "metadata": {},
   "outputs": [],
   "source": [
    "from aocd.models import Puzzle\n",
    "\n",
    "puzzle = Puzzle(year=2021, day=16)\n",
    "\n",
    "data = puzzle.input_data"
   ]
  },
  {
   "cell_type": "code",
   "execution_count": null,
   "id": "033e9b10",
   "metadata": {},
   "outputs": [],
   "source": []
  },
  {
   "cell_type": "code",
   "execution_count": 175,
   "id": "5eb02a9e",
   "metadata": {},
   "outputs": [],
   "source": []
  },
  {
   "cell_type": "code",
   "execution_count": 185,
   "id": "24cb5b00",
   "metadata": {},
   "outputs": [],
   "source": [
    "import math\n",
    "from dataclasses import dataclass\n",
    "from typing import Sequence\n",
    "    \n",
    "@dataclass\n",
    "class Packet:\n",
    "    version: int\n",
    "    type_: int\n",
    "\n",
    "@dataclass\n",
    "class Literal(Packet): \n",
    "    value: int\n",
    "        \n",
    "@dataclass\n",
    "class Operator(Packet):\n",
    "    subpackets: Sequence[Packet]\n",
    "        \n",
    "    OP_FN = {\n",
    "        0: sum,\n",
    "        1: math.prod,\n",
    "        2: min,\n",
    "        3: max,\n",
    "        5: lambda x: int(x[0] > x[1]),\n",
    "        6: lambda x: int(x[0] < x[1]),\n",
    "        7: lambda x: int(x[0] == x[1]),  \n",
    "    }\n",
    "\n",
    "    @property\n",
    "    def value(self):\n",
    "        return self.OP_FN[self.type_]([s.value for s in self.subpackets])"
   ]
  },
  {
   "cell_type": "code",
   "execution_count": null,
   "id": "be75d33d",
   "metadata": {},
   "outputs": [],
   "source": []
  },
  {
   "cell_type": "code",
   "execution_count": 187,
   "id": "49e29337",
   "metadata": {},
   "outputs": [
    {
     "data": {
      "text/plain": [
       "0"
      ]
     },
     "execution_count": 187,
     "metadata": {},
     "output_type": "execute_result"
    }
   ],
   "source": [
    "s = '9C005AC2F8F0'\n",
    "Buffer(s).decode().value"
   ]
  },
  {
   "cell_type": "code",
   "execution_count": 188,
   "id": "21886671",
   "metadata": {},
   "outputs": [
    {
     "data": {
      "text/plain": [
       "144595909277"
      ]
     },
     "execution_count": 188,
     "metadata": {},
     "output_type": "execute_result"
    }
   ],
   "source": [
    "Buffer(data).decode().value"
   ]
  },
  {
   "cell_type": "code",
   "execution_count": 156,
   "id": "c5560ae8",
   "metadata": {},
   "outputs": [],
   "source": [
    "\n",
    "        \n",
    "def list2num(nums):\n",
    "    return sum(2**i*n for i,n in enumerate(reversed(nums)))\n",
    "\n",
    "class Buffer:\n",
    "    \n",
    "    def __init__(self, data):\n",
    "        self.p = 0\n",
    "        bytes_ = [int(h, 16) for h in data.strip()]\n",
    "        self.bits = [int(h&i > 0) for h in bytes_ for i in [8,4,2,1]]\n",
    "        \n",
    "    def read(self, n) -> int:\n",
    "        data = self.bits[self.p:self.p+n]\n",
    "        self.p += n\n",
    "        return list2num(data)\n",
    "    \n",
    "    def read_literal(self) -> int:\n",
    "        b, n = 1, 0\n",
    "        while b == 1:\n",
    "            b = self.read(1)\n",
    "            n = (n << 4) | self.read(4)\n",
    "        return n\n",
    "\n",
    "    def decode(self) -> 'Packet':\n",
    "        version = self.read(3)\n",
    "        type_ = self.read(3)\n",
    "        if type_ == 4:\n",
    "            val = self.read_literal()\n",
    "            return Literal(version, type_, val)\n",
    "        else:\n",
    "            length = self.read(1)\n",
    "            if length == 0:\n",
    "                end = self.read(15) + self.p # order is critical here\n",
    "                subpackets = []\n",
    "                while self.p < end:\n",
    "                    subpackets.append(self.decode())\n",
    "            else:\n",
    "                subpackets = [self.decode() for _ in range(self.read(11))]\n",
    "            return Operator(version, type_, subpackets)\n",
    "        \n"
   ]
  },
  {
   "cell_type": "code",
   "execution_count": 157,
   "id": "c060547a",
   "metadata": {},
   "outputs": [],
   "source": [
    "L = Literal\n",
    "Op = Operator"
   ]
  },
  {
   "cell_type": "code",
   "execution_count": 158,
   "id": "5231bbe3",
   "metadata": {},
   "outputs": [],
   "source": [
    "assert Buffer('D2FE28').decode() == L(6,4,2021)"
   ]
  },
  {
   "cell_type": "code",
   "execution_count": 159,
   "id": "62fcc037",
   "metadata": {},
   "outputs": [
    {
     "data": {
      "text/plain": [
       "Operator(version=1, type=6, subpackets=[Literal(version=6, type=4, value=10), Literal(version=2, type=4, value=20)])"
      ]
     },
     "execution_count": 159,
     "metadata": {},
     "output_type": "execute_result"
    }
   ],
   "source": [
    "Buffer('38006F45291200').decode() #== Op(1,6,[L])"
   ]
  },
  {
   "cell_type": "code",
   "execution_count": 160,
   "id": "629e9a76",
   "metadata": {},
   "outputs": [
    {
     "data": {
      "text/plain": [
       "Operator(version=7, type=3, subpackets=[Literal(version=2, type=4, value=1), Literal(version=4, type=4, value=2), Literal(version=1, type=4, value=3)])"
      ]
     },
     "execution_count": 160,
     "metadata": {},
     "output_type": "execute_result"
    }
   ],
   "source": [
    "Buffer('EE00D40C823060').decode()"
   ]
  },
  {
   "cell_type": "code",
   "execution_count": 161,
   "id": "68f5b3bd",
   "metadata": {},
   "outputs": [
    {
     "data": {
      "text/plain": [
       "72"
      ]
     },
     "execution_count": 161,
     "metadata": {},
     "output_type": "execute_result"
    }
   ],
   "source": [
    "len('8A004A801A8002F478') * 4"
   ]
  },
  {
   "cell_type": "code",
   "execution_count": 162,
   "id": "94005a1a",
   "metadata": {},
   "outputs": [
    {
     "data": {
      "text/plain": [
       "Operator(version=4, type=2, subpackets=[Operator(version=1, type=2, subpackets=[Operator(version=5, type=2, subpackets=[Literal(version=6, type=4, value=15)])])])"
      ]
     },
     "execution_count": 162,
     "metadata": {},
     "output_type": "execute_result"
    }
   ],
   "source": [
    "Buffer('8A004A801A8002F478').decode()"
   ]
  },
  {
   "cell_type": "code",
   "execution_count": 163,
   "id": "71aa9301",
   "metadata": {},
   "outputs": [],
   "source": [
    "def solve_a(data):\n",
    "    root = Buffer(data).decode()\n",
    "    def sumver(pkt):\n",
    "        if isinstance(pkt, Op):\n",
    "            return pkt.version + sum(sumver(p) for p in pkt.subpackets)\n",
    "        return pkt.version\n",
    "    return sumver(root)\n"
   ]
  },
  {
   "cell_type": "code",
   "execution_count": 170,
   "id": "67404a19",
   "metadata": {},
   "outputs": [],
   "source": [
    "samples_a = [\n",
    "    ('8A004A801A8002F478', 16),\n",
    "    ('620080001611562C8802118E34', 12),\n",
    "    ('C0015000016115A2E0802F182340', 23),\n",
    "    ('A0016C880162017C3686B18A3D4780', 31),\n",
    "]"
   ]
  },
  {
   "cell_type": "code",
   "execution_count": null,
   "id": "37a55a71",
   "metadata": {},
   "outputs": [],
   "source": [
    "samples_b  = [\n",
    "    ('C200B40A82', 3),\n",
    "    ('04005AC33890', 54),\n",
    "    ('880086C3E88112', 7),\n",
    "    ('CE00C43D881120', 9),\n",
    "    ('D8005AC2A8F0', 1),\n",
    "    ('F600BC2D8F', 0),\n",
    "    ('9C005AC2F8F0', 0),\n",
    "    ('9C0141080250320F1802104A08', 1),\n",
    "]"
   ]
  },
  {
   "cell_type": "code",
   "execution_count": 171,
   "id": "9883cfeb",
   "metadata": {},
   "outputs": [],
   "source": [
    "for sample, sol in samples_a:\n",
    "    assert solve_a(sample) == sol"
   ]
  },
  {
   "cell_type": "code",
   "execution_count": 172,
   "id": "2cb0a6bf",
   "metadata": {},
   "outputs": [
    {
     "data": {
      "text/plain": [
       "993"
      ]
     },
     "execution_count": 172,
     "metadata": {},
     "output_type": "execute_result"
    }
   ],
   "source": [
    "solve_a(data)"
   ]
  },
  {
   "cell_type": "code",
   "execution_count": 174,
   "id": "04f70d9b",
   "metadata": {},
   "outputs": [],
   "source": []
  }
 ],
 "metadata": {
  "kernelspec": {
   "display_name": "Python 3",
   "language": "python",
   "name": "python3"
  },
  "language_info": {
   "codemirror_mode": {
    "name": "ipython",
    "version": 3
   },
   "file_extension": ".py",
   "mimetype": "text/x-python",
   "name": "python",
   "nbconvert_exporter": "python",
   "pygments_lexer": "ipython3",
   "version": "3.8.8"
  }
 },
 "nbformat": 4,
 "nbformat_minor": 5
}
