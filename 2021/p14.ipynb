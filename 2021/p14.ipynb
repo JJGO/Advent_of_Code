{
 "cells": [
  {
   "cell_type": "code",
   "execution_count": 1,
   "id": "3b946ba3",
   "metadata": {},
   "outputs": [],
   "source": [
    "import parse\n"
   ]
  },
  {
   "cell_type": "code",
   "execution_count": 2,
   "id": "7332b178",
   "metadata": {},
   "outputs": [],
   "source": [
    "from aocd.models import Puzzle\n",
    "\n",
    "puzzle = Puzzle(year=2021, day=14)\n",
    "\n",
    "def parses(input):\n",
    "    template, rules = input.split('\\n\\n')\n",
    "    rules = {(a,b): c for a,b,c in parse.findall('{:l}{:l} -> {:l}', rules)}\n",
    "    return template, rules \n",
    "\n",
    "data = parses(puzzle.input_data)"
   ]
  },
  {
   "cell_type": "code",
   "execution_count": 3,
   "id": "094f6644",
   "metadata": {},
   "outputs": [],
   "source": [
    "sample = parses(\"\"\"NNCB\n",
    "\n",
    "CH -> B\n",
    "HH -> N\n",
    "CB -> H\n",
    "NH -> C\n",
    "HB -> C\n",
    "HC -> B\n",
    "HN -> C\n",
    "NN -> C\n",
    "BH -> H\n",
    "NC -> B\n",
    "NB -> B\n",
    "BN -> B\n",
    "BB -> N\n",
    "BC -> B\n",
    "CC -> N\n",
    "CN -> C\"\"\")"
   ]
  },
  {
   "cell_type": "code",
   "execution_count": 4,
   "id": "710ea2dd",
   "metadata": {},
   "outputs": [
    {
     "data": {
      "text/plain": [
       "('NNCB',\n",
       " {('C', 'H'): 'B',\n",
       "  ('H', 'H'): 'N',\n",
       "  ('C', 'B'): 'H',\n",
       "  ('N', 'H'): 'C',\n",
       "  ('H', 'B'): 'C',\n",
       "  ('H', 'C'): 'B',\n",
       "  ('H', 'N'): 'C',\n",
       "  ('N', 'N'): 'C',\n",
       "  ('B', 'H'): 'H',\n",
       "  ('N', 'C'): 'B',\n",
       "  ('N', 'B'): 'B',\n",
       "  ('B', 'N'): 'B',\n",
       "  ('B', 'B'): 'N',\n",
       "  ('B', 'C'): 'B',\n",
       "  ('C', 'C'): 'N',\n",
       "  ('C', 'N'): 'C'})"
      ]
     },
     "execution_count": 4,
     "metadata": {},
     "output_type": "execute_result"
    }
   ],
   "source": [
    "sample"
   ]
  },
  {
   "cell_type": "code",
   "execution_count": 8,
   "id": "6a2d1ff3",
   "metadata": {},
   "outputs": [],
   "source": [
    "import more_itertools as mi\n",
    "import math"
   ]
  },
  {
   "cell_type": "code",
   "execution_count": 14,
   "id": "55e68def",
   "metadata": {},
   "outputs": [
    {
     "data": {
      "text/plain": [
       "[('d', 2), ('a', 2), ('s', 1)]"
      ]
     },
     "execution_count": 14,
     "metadata": {},
     "output_type": "execute_result"
    }
   ],
   "source": [
    "Counter(\"dadsa\").most_common()"
   ]
  },
  {
   "cell_type": "code",
   "execution_count": 33,
   "id": "b5c8c3e7",
   "metadata": {},
   "outputs": [],
   "source": [
    "def solve_a(data, steps):\n",
    "    template, rules = data\n",
    "    for i in range(steps):\n",
    "        new = [rules[a,b] for a,b in zip(template,template[1:])]\n",
    "        template = \"\".join(mi.interleave_longest(template, new))\n",
    "    most, *_, least = Counter(template).most_common()    \n",
    "    return most[1] - least[1]"
   ]
  },
  {
   "cell_type": "code",
   "execution_count": 34,
   "id": "769c64b4",
   "metadata": {},
   "outputs": [
    {
     "data": {
      "text/plain": [
       "1588"
      ]
     },
     "execution_count": 34,
     "metadata": {},
     "output_type": "execute_result"
    }
   ],
   "source": [
    "solve_a(sample,10)"
   ]
  },
  {
   "cell_type": "code",
   "execution_count": 18,
   "id": "1a1ed9ba",
   "metadata": {},
   "outputs": [
    {
     "data": {
      "text/plain": [
       "2223"
      ]
     },
     "execution_count": 18,
     "metadata": {},
     "output_type": "execute_result"
    }
   ],
   "source": [
    "solve_a(data,10)"
   ]
  },
  {
   "cell_type": "code",
   "execution_count": 46,
   "id": "95d6e954",
   "metadata": {},
   "outputs": [],
   "source": []
  },
  {
   "cell_type": "code",
   "execution_count": 52,
   "id": "8f2a82ab",
   "metadata": {},
   "outputs": [],
   "source": []
  },
  {
   "cell_type": "code",
   "execution_count": null,
   "id": "d8b7a3e8",
   "metadata": {},
   "outputs": [],
   "source": []
  },
  {
   "cell_type": "code",
   "execution_count": 81,
   "id": "21c55800",
   "metadata": {},
   "outputs": [],
   "source": [
    "def solve_b(data, steps):\n",
    "    template, rules = data\n",
    "    counts = Counter(zip(template, template[1:]))\n",
    "    \n",
    "    for i in range(steps):\n",
    "        new_counts = defaultdict(int)\n",
    "        for (a, b), v in counts.items():\n",
    "            c = rules[(a,b)]\n",
    "            new_counts[(a,c)] += v\n",
    "            new_counts[(c,b)] += v\n",
    "        counts = new_counts\n",
    "\n",
    "    final_counts = defaultdict(int)\n",
    "    for (a, b), v in counts.items():\n",
    "        final_counts[a] += v\n",
    "        final_counts[b] += v\n",
    "    most = math.ceil(max(final_counts.values()) / 2)\n",
    "    least = math.ceil(min(final_counts.values()) / 2)\n",
    "    return most-least"
   ]
  },
  {
   "cell_type": "code",
   "execution_count": 78,
   "id": "e5154372",
   "metadata": {},
   "outputs": [
    {
     "data": {
      "text/plain": [
       "1588"
      ]
     },
     "execution_count": 78,
     "metadata": {},
     "output_type": "execute_result"
    }
   ],
   "source": [
    "solve_b(sample, 10)"
   ]
  },
  {
   "cell_type": "code",
   "execution_count": 79,
   "id": "a87272e1",
   "metadata": {},
   "outputs": [
    {
     "data": {
      "text/plain": [
       "0"
      ]
     },
     "execution_count": 79,
     "metadata": {},
     "output_type": "execute_result"
    }
   ],
   "source": [
    "solve_b(sample, 40) - 2188189693529"
   ]
  },
  {
   "cell_type": "code",
   "execution_count": 80,
   "id": "acb36917",
   "metadata": {},
   "outputs": [
    {
     "data": {
      "text/plain": [
       "2566282754493"
      ]
     },
     "execution_count": 80,
     "metadata": {},
     "output_type": "execute_result"
    }
   ],
   "source": [
    "solve_b(data, 40)"
   ]
  },
  {
   "cell_type": "code",
   "execution_count": null,
   "id": "1e0a0abf",
   "metadata": {},
   "outputs": [],
   "source": []
  }
 ],
 "metadata": {
  "kernelspec": {
   "display_name": "Python 3",
   "language": "python",
   "name": "python3"
  },
  "language_info": {
   "codemirror_mode": {
    "name": "ipython",
    "version": 3
   },
   "file_extension": ".py",
   "mimetype": "text/x-python",
   "name": "python",
   "nbconvert_exporter": "python",
   "pygments_lexer": "ipython3",
   "version": "3.8.8"
  }
 },
 "nbformat": 4,
 "nbformat_minor": 5
}
