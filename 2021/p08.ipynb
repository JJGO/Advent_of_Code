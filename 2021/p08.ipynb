{
 "cells": [
  {
   "cell_type": "code",
   "execution_count": 29,
   "metadata": {},
   "outputs": [],
   "source": [
    "from aocd.models import Puzzle\n",
    "\n",
    "puzzle = Puzzle(year=2021, day=8)\n",
    "\n",
    "def parses(input):\n",
    "    return [tuple([s.split() for s in line.split(' | ')]) for line in input.strip().split('\\n')]\n",
    "\n",
    "data = parses(puzzle.input_data)"
   ]
  },
  {
   "cell_type": "code",
   "execution_count": null,
   "metadata": {},
   "outputs": [],
   "source": []
  },
  {
   "cell_type": "code",
   "execution_count": 7,
   "metadata": {},
   "outputs": [
    {
     "name": "stdout",
     "output_type": "stream",
     "text": [
      "[(['cg', 'fadegbc', 'ecfadb', 'acdbeg', 'abgfe', 'dcegfb', 'gcad', 'bceag', 'debca', 'bgc'], ['ceafbd', 'gfedcb', 'cabedf', 'dbace']), (['bgeacd', 'ea', 'dfcab', 'fcdgbae', 'ecbgf', 'gbcadf', 'defa', 'cae', 'dcaefb', 'fabce'], ['ea', 'fdae', 'daecgb', 'cea']), (['fb', 'gafbec', 'dcabe', 'ecfdag', 'fagdcb', 'afcdb', 'cbf', 'gdfb', 'agfdc', 'acfgdbe'], ['acdgfb', 'gdcfa', 'bceda', 'bf']), (['fd', 'bcafe', 'afed', 'acbfde', 'fcbde', 'fcbgae', 'fgabdc', 'edbgfca', 'cgebd', 'dfb'], ['dbf', 'becgd', 'bfd', 'efcdb']), (['deacg', 'egfdbac', 'agefd', 'gbedc', 'gebfca', 'ac', 'gadefb', 'ace', 'fadc', 'fcdgae'], ['gabfde', 'cbdgfae', 'ca', 'eca']), (['cfaedb', 'gedfa', 'fbegd', 'dgca', 'ga', 'dfcae', 'agf', 'dfagceb', 'gdfcae', 'ecbgaf'], ['gaecfb', 'cdag', 'gfa', 'gaf']), (['ceg', 'gfdcab', 'dfacge', 'edgf', 'fecagb', 'ecdba', 'ge', 'gceda', 'fcbaged', 'cgdaf'], ['gdaecf', 'gceda', 'fbacge', 'dcagf']), (['caged', 'egbdf', 'edabfg', 'fbad', 'fagde', 'gefbcd', 'fceabg', 'afg', 'fa', 'cfdagbe'], ['bfdge', 'degca', 'fbda', 'af']), (['dac', 'egdacf', 'fcedbg', 'dabcg', 'gdfcb', 'dbaeg', 'ac', 'cfdaebg', 'cafb', 'afdbcg'], ['decagf', 'ebdag', 'bfdgce', 'fdbgec']), (['dbaec', 'edfac', 'bdgae', 'dbcegaf', 'bc', 'cba', 'aecdbf', 'cebf', 'gbacfd', 'facdge'], ['efbc', 'cab', 'ecabfdg', 'cab']), (['gfce', 'acf', 'fecda', 'egfda', 'gbcfda', 'fc', 'gcefda', 'dbcea', 'afdbge', 'dbceagf'], ['bfedgac', 'bfegda', 'fcgdab', 'fecg']), (['edfgb', 'ebf', 'be', 'gdcafe', 'degaf', 'agfbced', 'deba', 'bdafge', 'dgcbf', 'cbeagf'], ['efb', 'dbcgf', 'dgabef', 'be']), (['ebgfd', 'bfcg', 'gf', 'fcgbde', 'dfbagec', 'gefcda', 'fadbce', 'gef', 'febdc', 'edbga'], ['gf', 'dgbefc', 'gfe', 'bedfac']), (['gabfec', 'dcfage', 'febg', 'gcaeb', 'gcf', 'agbcf', 'gf', 'cbafd', 'cabged', 'cebfagd'], ['egbf', 'fg', 'gcdbea', 'dfbac']), (['fgcedb', 'fagbe', 'aecgbd', 'gbcaf', 'bef', 'fade', 'fagdecb', 'aebdg', 'ef', 'feadbg'], ['abdge', 'abfdge', 'abcgf', 'gabedc']), (['dgebfc', 'cebfa', 'dbf', 'acfbdg', 'edbafgc', 'dgfe', 'decbf', 'cdgeb', 'eadbgc', 'df'], ['bgdcefa', 'caebf', 'fbd', 'adfbgc']), (['febgd', 'fgaced', 'bfedacg', 'bfdgae', 'fdcgbe', 'fabed', 'fcbea', 'gdba', 'ad', 'dae'], ['dae', 'agbd', 'gbfdea', 'aegcfd']), (['abdgf', 'adcf', 'bfdeg', 'fa', 'gfecdba', 'fab', 'debcag', 'bcgda', 'bcafdg', 'fecgba'], ['edbfg', 'gcfdeab', 'bgfda', 'dfebg']), (['ecdba', 'bc', 'dcfeba', 'eacgdf', 'cbegfad', 'dbcf', 'begda', 'fcdae', 'cebgaf', 'cab'], ['abc', 'bc', 'ecfdab', 'cab']), (['bc', 'fabcged', 'bcafg', 'debfcg', 'gdfac', 'fgbea', 'acfged', 'bcg', 'cdba', 'dgfabc'], ['baefg', 'fbcag', 'begcfad', 'dabc']), (['egfadb', 'ce', 'fgce', 'bagdc', 'gdafce', 'edabcf', 'gefad', 'febdgca', 'aec', 'aedcg'], ['aefbdg', 'ec', 'ceadg', 'gecad']), (['daegf', 'gebf', 'acdbf', 'be', 'faedbg', 'dbe', 'eabdf', 'fdabgec', 'aebdgc', 'cdefag'], ['be', 'gfdeac', 'bdfac', 'gdbace']), (['bafgc', 'efac', 'gae', 'ecgdba', 'ebgfa', 'ea', 'degbf', 'afebcg', 'fbacdg', 'afedgbc'], ['acfe', 'age', 'dbfecag', 'bafgc']), (['gfb', 'bgacfd', 'efcbd', 'bdfeac', 'bg', 'efgcb', 'gcbfed', 'gcafe', 'begd', 'bfdgaec'], ['cbgef', 'gcfea', 'fbcdae', 'faedgbc']), (['efdbc', 'abd', 'afcbegd', 'dfcba', 'fbedga', 'ceafgd', 'cgab', 'ba', 'agdcbf', 'cdfga'], ['dcafg', 'cabdf', 'ab', 'bcga']), (['fde', 'fgadc', 'fgceb', 'eadcbfg', 'gebd', 'agfcbe', 'ed', 'fgbdce', 'cbeadf', 'egfdc'], ['bdgcfae', 'fde', 'edgb', 'gbde']), (['abdcg', 'gaebfc', 'cfadebg', 'cdfbg', 'cegbf', 'ebcgdf', 'dbf', 'fd', 'cdfe', 'fedagb'], ['dgbca', 'cgfeadb', 'gdfaeb', 'beagdf']), (['fedbc', 'gdeacfb', 'cfbgae', 'ebacdg', 'gafc', 'ca', 'bgdfae', 'geabf', 'eafcb', 'acb'], ['bafge', 'aefcgb', 'cfbae', 'defbc']), (['fdega', 'cefabd', 'fce', 'bfdegac', 'afecbg', 'fecad', 'cfadb', 'debc', 'ec', 'dfagcb'], ['dcbaf', 'gebfcda', 'fce', 'fegad']), (['fab', 'gaedb', 'cagbdf', 'fbce', 'fecgad', 'dcfeba', 'dacfe', 'fb', 'fbgaecd', 'faedb'], ['dbecfa', 'gefcdab', 'bfa', 'efbad']), (['bcega', 'gbacfe', 'aecgdbf', 'gae', 'cabgd', 'ebafc', 'edgcfa', 'ge', 'facebd', 'gefb'], ['baecf', 'efacdb', 'ebagdcf', 'fgeb']), (['fgea', 'acf', 'af', 'edbgca', 'defbc', 'fegbacd', 'bagcfe', 'ecbaf', 'gdcabf', 'gaceb'], ['aebfc', 'abgfec', 'aegf', 'dcfgab']), (['ecfgb', 'cfd', 'dbcgefa', 'fcdbe', 'debaf', 'cdgefa', 'cd', 'cfgdbe', 'acfgbe', 'bcdg'], ['bcgd', 'fdbea', 'dcfgbe', 'fcd']), (['gdfaec', 'fdcabe', 'eb', 'acbgd', 'cbe', 'bfae', 'facbdeg', 'cebda', 'bgfced', 'cfade'], ['be', 'dface', 'eabf', 'cbeda']), (['efbagd', 'ebf', 'fdceba', 'gfdae', 'dfgabec', 'dbgef', 'bf', 'fabg', 'gbcde', 'dgecaf'], ['dgbef', 'gfdeba', 'afgdeb', 'gdefb']), (['gcadbef', 'fgadc', 'cbd', 'cb', 'bcgf', 'bcfad', 'dgfcba', 'edafb', 'gfdeca', 'ebdgac'], ['bc', 'fdgcae', 'ecadgf', 'bdcega']), (['defbg', 'dgbaec', 'gbe', 'eg', 'dabfg', 'fgdaeb', 'badfgc', 'cadgbfe', 'egaf', 'debfc'], ['gbfde', 'fgebd', 'gedbf', 'egfa']), (['caf', 'gcdabe', 'bfag', 'fa', 'edfbgac', 'becafd', 'cbega', 'edcgf', 'afceg', 'faecbg'], ['bafg', 'abgfec', 'ecfbda', 'fbag']), (['egfcba', 'dafgcbe', 'cefga', 'cdbgae', 'acfgde', 'bgcfe', 'ebfdc', 'bg', 'fagb', 'bcg'], ['fcebg', 'dfegabc', 'dgecba', 'defacg']), (['bgcdefa', 'bcfged', 'bf', 'cadbgf', 'edbcf', 'fdb', 'cebgd', 'dfcea', 'gbef', 'gedbac'], ['bf', 'dfecb', 'fb', 'dgceb']), (['bdegc', 'decabgf', 'agbfce', 'bdcfg', 'eagd', 'gebadc', 'dfeacb', 'deb', 'ed', 'ebgca'], ['dgcabe', 'de', 'dgabec', 'bed']), (['eabdf', 'gedbaf', 'afcbedg', 'afcdg', 'bgd', 'gbae', 'gadfb', 'cefdbg', 'bfdcea', 'bg'], ['acdgf', 'dbafg', 'geba', 'gbd']), (['egabdfc', 'dg', 'efdcab', 'bdcef', 'dgecf', 'cfgea', 'dfg', 'cfedbg', 'bagdfc', 'gbde'], ['fadbgc', 'gcfea', 'ebdg', 'gd']), (['fcge', 'cf', 'ecbfad', 'acfedgb', 'agdef', 'fcgda', 'aefbdg', 'afc', 'cagdb', 'cdafeg'], ['cfa', 'gcadf', 'dagfce', 'acf']), (['cbadge', 'gdec', 'efagb', 'ce', 'ecb', 'bagecfd', 'gbcad', 'gabec', 'dfacbe', 'cgbfad'], ['acfgdb', 'gcdba', 'cegbad', 'fecdabg']), (['cegbaf', 'aedcg', 'acgbed', 'fadbe', 'afbcdge', 'gf', 'fge', 'gdeaf', 'dcgf', 'cegdaf'], ['ebadf', 'fagde', 'cdgf', 'baedf']), (['ebdgf', 'dcgbfe', 'cfdabe', 'afdg', 'agbefd', 'ad', 'daebg', 'cbadefg', 'ceabg', 'ade'], ['bagce', 'bfged', 'cbfged', 'gedab']), (['adbf', 'decbgf', 'dbc', 'agcdbf', 'cdeabgf', 'dcagb', 'eacgbf', 'abfgc', 'cgaed', 'bd'], ['cbd', 'dbcgfe', 'abdcg', 'cdaeg']), (['bgcaf', 'fgbae', 'edbcgfa', 'cdfba', 'cbdagf', 'cg', 'cga', 'fgdc', 'edacgb', 'bfcdae'], ['dfabce', 'bdaefc', 'dbfca', 'dgceab']), (['gbe', 'gedc', 'fdgcab', 'bdgaefc', 'eg', 'cageb', 'ebgadf', 'acbfe', 'beagdc', 'dgacb'], ['gedc', 'gbe', 'bcgea', 'gadcbf']), (['dcega', 'abgecf', 'cgeab', 'ab', 'gfedbc', 'adfbgc', 'bcgef', 'bafe', 'dcafebg', 'abc'], ['gabdcf', 'acb', 'ab', 'ab']), (['dfgebc', 'cdgef', 'bc', 'efagb', 'bfceg', 'fgedac', 'cbf', 'gcdb', 'egbacfd', 'cfdaeb'], ['dbaefc', 'agdefc', 'ecgdbaf', 'fecdga']), (['febacg', 'efgba', 'ebfdg', 'aefcb', 'ag', 'gba', 'gacfbed', 'fagc', 'edbafc', 'agbedc'], ['gab', 'ag', 'dgfbe', 'ecdgab']), (['cabf', 'fegacd', 'bf', 'ecabgdf', 'gfb', 'bdefag', 'cbdge', 'dfcbg', 'agdfc', 'gbfcda'], ['dgcfba', 'gfb', 'eadfbg', 'fcedag']), (['dc', 'fcd', 'aecgfd', 'cgfda', 'baefgd', 'cead', 'fgacbed', 'cfbdge', 'eadgf', 'fgabc'], ['fedcga', 'eagcfd', 'gcfda', 'gfdea']), (['fgbaed', 'aebdgcf', 'edabg', 'fdba', 'faecdg', 'fgaed', 'gcbed', 'ab', 'cgebfa', 'gab'], ['edbcg', 'becdg', 'ab', 'edbga']), (['agdcb', 'edfbgc', 'edbca', 'ae', 'aeb', 'aefdgcb', 'eacf', 'facedb', 'agbefd', 'ebdfc'], ['adcbegf', 'fcea', 'acedgbf', 'dcgebf']), (['ecf', 'dgfeb', 'egac', 'dacfeg', 'abcdef', 'ec', 'gfebdac', 'cdgbaf', 'cdegf', 'fcdga'], ['dcabfg', 'efc', 'ec', 'fgdecab']), (['dcega', 'def', 'cfgde', 'aegfcb', 'deabfcg', 'fd', 'defgba', 'egbdfc', 'bfcd', 'cbfeg'], ['bagdecf', 'df', 'fed', 'dcbf']), (['gecbf', 'bcdfaeg', 'cdfga', 'fgdcbe', 'gcfbae', 'eafb', 'fagcb', 'bga', 'daebcg', 'ab'], ['acgfd', 'bfaegc', 'gdafc', 'feagcb']), (['edfbg', 'df', 'dcfbae', 'edf', 'bcegf', 'egfbca', 'acgfbde', 'aegdb', 'dcgf', 'efdgbc'], ['gbcfea', 'beadg', 'dfe', 'cdfbae']), (['gdbfca', 'acebgd', 'cabdf', 'gebaf', 'becdgaf', 'ed', 'fedc', 'bdefa', 'eda', 'ebcfda'], ['bcfdag', 'fcdaeb', 'fcdab', 'ed']), (['eafdgc', 'gbdc', 'efadb', 'cd', 'abfceg', 'daebc', 'dce', 'afegcdb', 'gbace', 'becgda'], ['dgcefa', 'dabce', 'gceba', 'bgefac']), (['bdaf', 'cbgfd', 'fag', 'fgabc', 'fa', 'fcbegd', 'gedfac', 'gcaeb', 'fgdacb', 'eafbdcg'], ['af', 'gebdfc', 'bgdfc', 'fa']), (['bdafec', 'fdag', 'gbfce', 'dgc', 'dfgbca', 'dacbge', 'cfabd', 'fgdbc', 'dg', 'faedgcb'], ['gcdabe', 'cgaefdb', 'gd', 'gdfcaeb']), (['ebdcfga', 'afedcb', 'aegdcf', 'fbeg', 'cbdag', 'fg', 'adfgbe', 'ebafd', 'bdfga', 'afg'], ['adcgef', 'fadcgbe', 'gf', 'edbfag']), (['dgeacbf', 'gdaf', 'bagecd', 'dcefa', 'caedfg', 'dac', 'gcebfa', 'fgace', 'dfbce', 'da'], ['cfegda', 'ad', 'da', 'abcgde']), (['bfadecg', 'ba', 'gab', 'bafecg', 'ecab', 'dfgca', 'cgfba', 'bdcfge', 'fecgb', 'fdabge'], ['ba', 'ebac', 'aebc', 'fabcg']), (['eadcg', 'efd', 'cdbf', 'cfdea', 'cbedaf', 'egdafb', 'cfbaeg', 'fd', 'aebfc', 'adecgfb'], ['aebcf', 'fed', 'abedcf', 'aedfcb']), (['gdb', 'cbdaf', 'cdge', 'cdaebg', 'efgdba', 'egcab', 'gd', 'afebcg', 'gdbca', 'gaedcbf'], ['dgbca', 'begca', 'cbgaef', 'gceba']), (['bdfgac', 'fgadb', 'adbgc', 'fgca', 'cfgdbe', 'adbfe', 'fg', 'dgbace', 'bfg', 'dgabecf'], ['dbafe', 'gacf', 'gdacb', 'fadgb']), (['gedbfa', 'cdg', 'aecgd', 'edfgca', 'fbdcage', 'cd', 'fgdabc', 'fedc', 'dafge', 'cgbea'], ['gafde', 'bgdeaf', 'dc', 'defga']), (['fdceg', 'edfcb', 'gd', 'febgcd', 'dgfb', 'gcd', 'aefcg', 'cafebdg', 'bafdce', 'debgca'], ['gd', 'cfedb', 'defcg', 'cfadegb']), (['adbfe', 'bgcfda', 'gefda', 'gcaed', 'dagbfce', 'dbeagc', 'gaf', 'gf', 'gfdeac', 'cgfe'], ['gfec', 'ebgdac', 'eabdf', 'gcef']), (['fc', 'cdf', 'bcfdeg', 'dfgaeb', 'fcgdea', 'gafc', 'bdeca', 'fcbedag', 'faged', 'dacfe'], ['adfebg', 'ebcda', 'fdega', 'agfc']), (['deagcf', 'ebagfd', 'bgafdec', 'cd', 'cabeg', 'bcedaf', 'dec', 'cfdg', 'gadce', 'adfeg'], ['ebgac', 'cagde', 'dc', 'faedgb']), (['dcgab', 'ac', 'fabegc', 'dcaf', 'acg', 'fadbcg', 'fbgacde', 'cfdgb', 'cbgfde', 'debag'], ['dagbc', 'daegb', 'edbga', 'cag']), (['fgcead', 'edbcg', 'cfaed', 'dcgef', 'dfbgcea', 'gf', 'badcfg', 'fdcbae', 'gfd', 'fgae'], ['dfbagc', 'dfcge', 'gf', 'dfeac']), (['begcf', 'cbf', 'aebf', 'fdgacb', 'gdebac', 'ceabg', 'egabfc', 'gdcfe', 'ebgfacd', 'fb'], ['debcga', 'bgaedc', 'fdabcg', 'abgce']), (['efgbcd', 'febdga', 'bc', 'fbegd', 'befcd', 'dgafebc', 'ebc', 'fgbc', 'dgabce', 'caefd'], ['fbcg', 'ecafd', 'cdbfe', 'cgbf']), (['eafg', 'badgec', 'ecgab', 'gdcfb', 'fca', 'fa', 'cgabef', 'fcbag', 'fbeacd', 'cegfbda'], ['fa', 'cabdge', 'acgbfe', 'cdbega']), (['gdfae', 'fdagbc', 'fecgab', 'eg', 'fadec', 'abgdef', 'abgdcfe', 'dbge', 'eag', 'fgadb'], ['dbafcg', 'befdag', 'ecfdagb', 'aebdfg']), (['aegbcf', 'bfgecad', 'acgfbd', 'dabceg', 'aefbd', 'gcfd', 'bgd', 'gcbfa', 'dg', 'dagfb'], ['cdgf', 'gd', 'dfbga', 'bdafe']), (['bcgdf', 'be', 'gcdeb', 'egadc', 'bagecd', 'ebd', 'cabe', 'gdcfeab', 'badfge', 'egcafd'], ['agbdfe', 'be', 'ecab', 'ecbgd']), (['edbafc', 'fbdgce', 'befgc', 'cge', 'ebdgac', 'eg', 'bdcfe', 'egfd', 'caedgbf', 'bcafg'], ['gabfc', 'eg', 'ceg', 'cdbef']), (['cbadf', 'af', 'afc', 'baef', 'cfbdg', 'dcegfba', 'ebdac', 'dabgec', 'acbdfe', 'afecdg'], ['cdbaef', 'decba', 'bdcaf', 'dbcae']), (['ea', 'eac', 'cbgaed', 'cdbaf', 'adge', 'dgfeacb', 'bdaec', 'ecbgfa', 'dgbce', 'gdbfec'], ['cdfba', 'bcdge', 'ae', 'cabgde']), (['bgecfa', 'abegcfd', 'fgcad', 'fgdcae', 'aedc', 'dfc', 'fbdga', 'cd', 'defgcb', 'cegaf'], ['gbafec', 'egdafc', 'aced', 'acbefg']), (['becfdg', 'abgcdf', 'abgec', 'dafceg', 'gcdbf', 'bfgadec', 'af', 'fac', 'abdf', 'fcgba'], ['fac', 'abgcf', 'afbcdge', 'fgdbc']), (['cbe', 'ec', 'caefgdb', 'cbgeaf', 'ecbdag', 'bcadfg', 'cdae', 'cbgad', 'defbg', 'egdcb'], ['dace', 'ecda', 'aced', 'ebgdf']), (['aecfbg', 'cegdfab', 'fdace', 'ecd', 'cd', 'gadc', 'cgdaef', 'efgca', 'gdfebc', 'badfe'], ['cfdea', 'cd', 'eacfg', 'aecgfbd']), (['bafgdec', 'gcd', 'gacdf', 'gbcaf', 'cd', 'cgfeab', 'dgbeac', 'bcfd', 'abcgfd', 'fdage'], ['bfcd', 'dc', 'cbfd', 'dc']), (['gadfec', 'gfadbce', 'gceba', 'abcdf', 'gd', 'bdeg', 'cebgda', 'cdg', 'afbecg', 'bgdac'], ['dgbe', 'afgdce', 'egabcd', 'gedb']), (['fc', 'defc', 'cdeab', 'bdcgae', 'acebf', 'caf', 'cgefbad', 'efdbca', 'gdfacb', 'bfgea'], ['adfgcb', 'cbead', 'efbcad', 'dcagbe']), (['fecab', 'adfgbe', 'ecad', 'ca', 'adbfec', 'cab', 'cdfegba', 'gcadbf', 'gbfec', 'eadfb'], ['bgdacf', 'dgeabf', 'ca', 'cgbfe']), (['gbaefd', 'cafged', 'feac', 'cegdb', 'eafdbgc', 'ea', 'agfcd', 'dgace', 'bagdfc', 'ead'], ['ea', 'gedcb', 'ea', 'acgde']), (['cbaedf', 'dfbcga', 'cbagd', 'cbfadeg', 'fdbeag', 'bgfad', 'cdgbe', 'ca', 'acb', 'gacf'], ['fabgde', 'fgac', 'acb', 'fcag']), (['efgc', 'fg', 'agbdcf', 'bdfce', 'bacdgef', 'dgfbe', 'gdfceb', 'fbg', 'edfbac', 'eadbg'], ['dgfeb', 'cadgbf', 'egcf', 'dcfbge']), (['bdgea', 'gbcf', 'facegb', 'acdfbeg', 'ebgaf', 'dabecf', 'bf', 'gfeac', 'aegcfd', 'fba'], ['fb', 'gabfe', 'cbfg', 'bgafe']), (['fedcgab', 'fceab', 'cgab', 'egbdfa', 'cgaebf', 'cefdag', 'fca', 'fcebd', 'ac', 'begfa'], ['afc', 'adgfec', 'bfgea', 'bgeacf']), (['bfda', 'gbcadef', 'bgecd', 'dafegb', 'daefg', 'aecdfg', 'bgdfe', 'acbfeg', 'bf', 'ebf'], ['dfabge', 'bf', 'dbaf', 'bcfaeg']), (['bacdfge', 'aegdf', 'ebgdf', 'fcaeg', 'edcgfa', 'fbecga', 'ceda', 'adf', 'fabdgc', 'ad'], ['dbgef', 'fagce', 'edafcg', 'bdgfcae']), (['abdef', 'gaedcf', 'afdgeb', 'becadgf', 'edabc', 'bcdeg', 'bafcde', 'acfb', 'ca', 'cda'], ['dfgbea', 'cda', 'dca', 'adc']), (['efgd', 'fcgbea', 'gbadcef', 'dcabe', 'fe', 'aebdfg', 'fdabgc', 'abfed', 'feb', 'agdfb'], ['egfd', 'fedg', 'fdgeabc', 'eafdb']), (['dcabegf', 'gedac', 'ecgfd', 'cea', 'gfcebd', 'agdbe', 'ac', 'gcfa', 'fbeacd', 'gdecaf'], ['fegdac', 'gedab', 'dgaec', 'bfdeca']), (['bacdgf', 'dgce', 'ec', 'cafdeb', 'fcega', 'eca', 'cdafg', 'ebagf', 'degfca', 'bdfcega'], ['cae', 'fgdabc', 'decgafb', 'cfagdb']), (['gefac', 'egabcfd', 'gfc', 'baecgd', 'eabcgf', 'dafec', 'gf', 'cbage', 'acgfbd', 'egbf'], ['abcgfe', 'bceadgf', 'feacg', 'egbf']), (['gbcaf', 'dcaefb', 'gdec', 'adfeg', 'acefdbg', 'fbdage', 'cdfag', 'acefdg', 'cd', 'dca'], ['gecd', 'cgbfa', 'cafgd', 'dc']), (['fbadge', 'bdcg', 'acb', 'caebfd', 'bgead', 'gbcdea', 'caebg', 'dbgcaef', 'gfeca', 'cb'], ['acdegb', 'gabde', 'gbcae', 'abc']), (['bcd', 'agdce', 'edbagf', 'gfdecb', 'cbfa', 'bc', 'debafc', 'aedfb', 'beacdgf', 'cbead'], ['ebcfgad', 'dfgceb', 'gdaefb', 'bfca']), (['bag', 'ab', 'ebca', 'dabecg', 'agcde', 'dbfagce', 'efgcad', 'gbcdaf', 'egdab', 'egfbd'], ['gabed', 'gaecbd', 'ab', 'eagfcd']), (['gbcadf', 'cdabg', 'bd', 'dbg', 'afgbedc', 'fdgca', 'gacbe', 'adcfge', 'cfbd', 'gedabf'], ['gdb', 'dfgca', 'gfabcd', 'dacgb']), (['cfeabd', 'cabgf', 'gadfeb', 'gbadc', 'dcbgae', 'dgec', 'bdage', 'gbfcade', 'cd', 'dcb'], ['dceg', 'bedcfa', 'edgacb', 'dc']), (['bcdfg', 'gdfeab', 'abecdgf', 'edg', 'gefca', 'ecadgf', 'fedcg', 'deca', 'ed', 'gcbefa'], ['bdacfge', 'fecgbda', 'gbcafe', 'fedcg']), (['acbgfd', 'bdgcf', 'dcfga', 'fbd', 'dfbcgea', 'fb', 'dbgec', 'eafbcd', 'fbga', 'efagcd'], ['gfdca', 'bdcfg', 'dbf', 'afgced']), (['dafecb', 'acedg', 'bc', 'dgafce', 'gbeac', 'fgceabd', 'bce', 'gbefa', 'gdbc', 'dbceag'], ['agfcdeb', 'fagdce', 'afgbe', 'dfecga']), (['fgadce', 'db', 'fbadg', 'deagcfb', 'abd', 'aegbf', 'gcdbfa', 'fgdac', 'gbaedc', 'bdfc'], ['daegcf', 'faegb', 'bd', 'dba']), (['bdga', 'fbagc', 'ceadbf', 'ecgdfba', 'bfgce', 'fga', 'cbfagd', 'ga', 'cfdab', 'gecdaf'], ['fcdaeb', 'ag', 'cegabfd', 'ga']), (['fce', 'fcdg', 'adfgeb', 'cegadf', 'bafdce', 'fecga', 'fc', 'becga', 'dafebcg', 'agfde'], ['efbagcd', 'afged', 'fedgba', 'efcga']), (['cegdba', 'fb', 'bcdeg', 'fecb', 'gdeaf', 'acgfdb', 'fdb', 'fgdbe', 'cbdafeg', 'gecbdf'], ['afedg', 'bf', 'dfegb', 'fbgecad']), (['eg', 'feadcb', 'dgec', 'egf', 'afedc', 'eabgfc', 'gaedf', 'bdgaf', 'acdgbfe', 'egafdc'], ['eagfbc', 'adecf', 'egdc', 'afdge']), (['bg', 'dagfe', 'edfcabg', 'dbgcae', 'fgaedb', 'fbag', 'fdcage', 'dgb', 'bfegd', 'cbdef'], ['dbgef', 'dgfbe', 'bg', 'efbgd']), (['dabgfc', 'acefbd', 'cegad', 'cbeda', 'bac', 'adbef', 'cb', 'bcfe', 'fbgdea', 'cafbegd'], ['fadceb', 'ebfdga', 'ebcad', 'bac']), (['gfbca', 'decbfa', 'ecadbg', 'cga', 'gc', 'cfdg', 'bfcadg', 'bfeadgc', 'cfabd', 'efgba'], ['ebdfca', 'cfagb', 'degacb', 'abdfc']), (['gcbead', 'fadbge', 'befc', 'bgfceda', 'dbcea', 'cbefda', 'bfa', 'gfacd', 'bf', 'facbd'], ['abf', 'cedba', 'fba', 'dgefcab']), (['baedc', 'feag', 'begafc', 'fcagdb', 'eg', 'bagcefd', 'baceg', 'gce', 'bcgdfe', 'cfabg'], ['cgabf', 'egaf', 'ge', 'fage']), (['ecab', 'ce', 'bfcdg', 'fabgce', 'efdcag', 'cgfeb', 'gbaedf', 'dfegbca', 'cef', 'baegf'], ['cefdga', 'gdecfab', 'cfbgd', 'bcaegf']), (['beacfg', 'fg', 'efg', 'ebfcd', 'dbfgcae', 'fbga', 'bgcea', 'cefgad', 'cgbfe', 'ceagbd'], ['bdcafeg', 'baecfdg', 'fecbd', 'gef']), (['cebdfg', 'ba', 'abf', 'bdgfaec', 'aebcfg', 'gfcdb', 'dbga', 'afdcb', 'gcbadf', 'fecad'], ['gbad', 'bgdfcae', 'gfdcb', 'baf']), (['gceaf', 'ebf', 'eadb', 'abdcf', 'adfebc', 'fdbceg', 'cgafdb', 'efcab', 'cefdgab', 'be'], ['ebf', 'dbfcag', 'efb', 'feabc']), (['fgbcda', 'bceag', 'dfabge', 'fbdceg', 'fced', 'bgfdc', 'fabgdce', 'fe', 'gfe', 'cgbef'], ['abgedf', 'cfde', 'efgbc', 'gfabcd']), (['deagcf', 'bdfacg', 'fcbad', 'dca', 'gfdbc', 'ecgbadf', 'febcdg', 'dbafe', 'bcga', 'ac'], ['afdgcb', 'cbga', 'dgafce', 'adegcfb']), (['dbceg', 'bcg', 'gfbeca', 'cgfbaed', 'egfcbd', 'ebgfd', 'gcfd', 'cg', 'bdaegf', 'decab'], ['cg', 'dgfc', 'cbeda', 'dfgeb']), (['cfbed', 'bdae', 'dfcgb', 'ed', 'efbca', 'cde', 'fcbdae', 'gbcfae', 'fbdgaec', 'aefdgc'], ['dfgace', 'becafg', 'cagebf', 'fcdebag']), (['ed', 'dfce', 'dae', 'bedca', 'gfaedb', 'befdac', 'bacgd', 'eabgcf', 'bfcae', 'agdfbec'], ['bcaed', 'edacb', 'cdaeb', 'ed']), (['dagcb', 'cbge', 'daefbc', 'bgadfce', 'bc', 'cfgad', 'abdefg', 'gbdea', 'cab', 'cabegd'], ['badgc', 'ebfcgda', 'bdcfgae', 'abcgd']), (['ac', 'fgdca', 'gfbdca', 'bcgdafe', 'cefdg', 'cgbeda', 'cda', 'gaefdb', 'fbac', 'dgfba'], ['fdegba', 'egadbf', 'ca', 'bfca']), (['fedgc', 'dbcaf', 'ceb', 'adefgc', 'ebdg', 'acgbef', 'cbefdg', 'be', 'befcd', 'dcfaegb'], ['dfecb', 'gbcdef', 'eb', 'fgceab']), (['aefcd', 'fcgaeb', 'eacdgfb', 'fbcg', 'aebdgc', 'gdbeaf', 'agfbe', 'agc', 'cgaef', 'cg'], ['cga', 'gac', 'dabcfeg', 'fbdgcea']), (['af', 'bdeag', 'gfbdace', 'fga', 'bcaedg', 'cdegf', 'feab', 'eafdg', 'gfedab', 'dagcfb'], ['fgacdb', 'faedg', 'ecbdafg', 'fcedg']), (['dgafc', 'adfcebg', 'fagec', 'dacfeg', 'fgd', 'fd', 'gbdac', 'defc', 'fdaegb', 'gafbce'], ['cdagb', 'df', 'fcaebg', 'dfce']), (['bacfdg', 'dgc', 'cg', 'bcaed', 'adcgb', 'cafdeg', 'bgcf', 'dgfab', 'bgfead', 'cbfaged'], ['bdfega', 'dgfeab', 'fdgba', 'agbdc']), (['agfebd', 'cb', 'bafecg', 'efbga', 'edgac', 'gfedcb', 'cedfagb', 'afbc', 'gcb', 'acgeb'], ['bc', 'cgb', 'bc', 'cbg']), (['fgdae', 'edfbca', 'bgdf', 'gceaf', 'eabfdg', 'aebfd', 'gad', 'defbgca', 'gdceab', 'dg'], ['eacgf', 'agecbd', 'gd', 'gcabed']), (['befadcg', 'gdfa', 'afdeb', 'aebfg', 'fg', 'bcfead', 'gadfbe', 'gfe', 'cgeab', 'gfbdce'], ['adebcf', 'dcgfbea', 'deabf', 'abgec']), (['cb', 'cbg', 'gbaedc', 'efbga', 'bcafgd', 'caefdbg', 'efcdga', 'eacgd', 'bcde', 'gbcea'], ['edagc', 'cebd', 'aefbg', 'bdce']), (['cdaebfg', 'edcbg', 'cgedba', 'acbeg', 'fbdgc', 'edg', 'fagebc', 'cdea', 'ed', 'abedfg'], ['ed', 'gcbdefa', 'cgabdef', 'baecgf']), (['eafbg', 'acebgdf', 'dagcb', 'eadc', 'ecg', 'ce', 'cfbgda', 'cegba', 'dgbace', 'bfedgc'], ['edac', 'ce', 'bagcd', 'gfeba']), (['egafcd', 'gdfaceb', 'acegf', 'cgda', 'deg', 'dgfbea', 'gd', 'cdfge', 'feabcg', 'cedfb'], ['fadcegb', 'egd', 'caedgbf', 'febdc']), (['feag', 'eg', 'aebfc', 'efcadb', 'bge', 'cdbgf', 'fgbcead', 'bdegac', 'ebcfg', 'aefbcg'], ['ge', 'adcegb', 'fceagb', 'ecfba']), (['beac', 'bdgea', 'ebagdc', 'bdgafc', 'bcagd', 'age', 'bcgdeaf', 'ae', 'dfaecg', 'defbg'], ['egdacb', 'eag', 'dbcage', 'ecgadbf']), (['ca', 'agdbec', 'abc', 'dbgfca', 'gbfecd', 'cbfgd', 'acgf', 'fbdae', 'fdacb', 'ceafbgd'], ['dgfbca', 'abcdf', 'ac', 'cfgbda']), (['bgadf', 'cdgbefa', 'bagef', 'bfe', 'agfdce', 'cebg', 'ecbadf', 'gbecaf', 'eb', 'egcaf'], ['ebdcgaf', 'cebg', 'faegb', 'fgbae']), (['bfgcea', 'fdgeca', 'cae', 'gbeca', 'abcf', 'cfebagd', 'ca', 'fgdbae', 'cebgd', 'faebg'], ['gfeba', 'ca', 'fedgca', 'gcabe']), (['cage', 'dfgaebc', 'ae', 'gfbed', 'ebgaf', 'decabf', 'afbcg', 'bfacdg', 'aef', 'cbaegf'], ['debagcf', 'bfgca', 'agce', 'bgeaf']), (['bcegdf', 'cgdafb', 'abfd', 'abgcfe', 'fdg', 'gfdac', 'gefbcda', 'dgeac', 'afcgb', 'fd'], ['gdbcfe', 'cafdbge', 'gaecbf', 'dgf']), (['cgdbe', 'decba', 'bfdgcea', 'debfa', 'cfdbae', 'gafedb', 'ac', 'fbca', 'agfdec', 'cea'], ['dgecb', 'dacbe', 'edagfb', 'gfdbea']), (['gacdef', 'bfeda', 'afecd', 'gfbae', 'bdcega', 'bafgcde', 'dab', 'dfceba', 'bcfd', 'db'], ['db', 'eacdgb', 'aedbfcg', 'fcgbdea']), (['abdgcf', 'dafec', 'faedb', 'cf', 'bcfgeda', 'gefbad', 'cabfde', 'cfbe', 'afc', 'aegdc'], ['bdfega', 'afgdecb', 'fgdcba', 'gedafb']), (['aedcb', 'fce', 'bedfc', 'cfbged', 'gefb', 'bgfeacd', 'edgacf', 'ef', 'gcfdb', 'dgfabc'], ['gedfca', 'fabcdg', 'adfcge', 'cfe']), (['dbfagec', 'dabec', 'eda', 'fdcbea', 'ed', 'agdbc', 'gfbcea', 'cbefa', 'efdb', 'gfdeca'], ['ecfgdba', 'ade', 'fcagebd', 'dea']), (['dafbe', 'adfbcg', 'bfeac', 'cbe', 'bagfecd', 'cfge', 'egcdab', 'cgabf', 'ce', 'gfceab'], ['bcagef', 'afgcb', 'fcgabd', 'gcdabf']), (['agc', 'ag', 'gbaecf', 'cagbf', 'fgdcaeb', 'bdgfc', 'cefab', 'ecfagd', 'bega', 'aedfcb'], ['ebcafg', 'fbace', 'cag', 'eacfdbg']), (['ea', 'gfbda', 'eacd', 'bfced', 'eagfbc', 'aeb', 'cbfged', 'befda', 'bgafced', 'dacfeb'], ['gfbad', 'aeb', 'fdabg', 'cedfbg']), (['gcbadf', 'gbead', 'afcbde', 'gad', 'beadf', 'daefgb', 'aecgb', 'dg', 'efagdcb', 'gedf'], ['dgef', 'fegabd', 'afebd', 'dg']), (['dbc', 'fdcge', 'dabeg', 'aceb', 'cgdeb', 'afedbg', 'cdgeba', 'bdagcfe', 'bc', 'gcdbaf'], ['gcadbe', 'dcb', 'abcedg', 'edbgc']), (['bfcd', 'ebfgd', 'cgf', 'egcab', 'bfdcge', 'adfgec', 'gbefad', 'fcbegad', 'gfebc', 'cf'], ['fcdaeg', 'dbegacf', 'dbcf', 'cf']), (['bcfedga', 'df', 'dfa', 'gcaedb', 'fagcbd', 'adecbf', 'ecgaf', 'dgfb', 'gcdaf', 'bdcag'], ['gecaf', 'df', 'gfbdeca', 'df']), (['acf', 'cdfe', 'dcbegaf', 'feabd', 'ecbgfa', 'dbacg', 'aebgfd', 'bfdeac', 'dcfba', 'fc'], ['gfedba', 'fc', 'efdc', 'dfbaecg']), (['ecf', 'bgaecd', 'ecdgfb', 'adgfe', 'egcfa', 'fcbedga', 'bagec', 'gacebf', 'cafb', 'fc'], ['cfgaebd', 'aecbg', 'ecgab', 'dgbeca']), (['beagc', 'aegbdc', 'fcdeb', 'fcgbe', 'gf', 'geaf', 'acgbfd', 'fcg', 'fecgdba', 'fbgeca'], ['bgfadc', 'baedcg', 'gfc', 'gebacf']), (['gedf', 'caebfd', 'fcgea', 'bdcgae', 'age', 'acefd', 'fdcagbe', 'gacfb', 'gcefda', 'eg'], ['bedcaf', 'dgeabc', 'acgfe', 'aeg']), (['gceabfd', 'cdgba', 'cgfdae', 'cfdagb', 'begd', 'ceabg', 'ceafb', 'ge', 'gae', 'gabdce'], ['fcgaed', 'dgfcae', 'acegb', 'ebgd']), (['deg', 'cegdbf', 'dbceg', 'bdgafe', 'baegdfc', 'bcadg', 'de', 'agbecf', 'gfbec', 'ecfd'], ['fdce', 'ed', 'de', 'gedabf']), (['afgced', 'gb', 'dbg', 'gbec', 'badcfg', 'abged', 'baedf', 'eadcg', 'cafgedb', 'gdbeca'], ['fgeadc', 'bg', 'gbd', 'beadg']), (['ad', 'bdegca', 'cgabd', 'bedfgac', 'gda', 'cead', 'bfcaeg', 'gaecb', 'cdbfg', 'edgabf'], ['dfbagec', 'eacgfbd', 'cgedba', 'ad']), (['bacd', 'afgecd', 'ba', 'eadbcf', 'fdgeb', 'bgacef', 'feagcdb', 'bfdae', 'deacf', 'eba'], ['abe', 'fdebg', 'abe', 'dgafec']), (['cdafe', 'dab', 'febdga', 'fcbd', 'fceadb', 'bd', 'fecdag', 'agceb', 'abdcfeg', 'bacde'], ['dab', 'cbdafge', 'dfaec', 'dagefb']), (['ecbgad', 'cbe', 'bdef', 'dfegcb', 'dgbcf', 'agcfe', 'fgebc', 'eb', 'fdgbca', 'ebgadcf'], ['bfdgec', 'be', 'be', 'fcgea']), (['cdg', 'dabfc', 'edbfac', 'gd', 'fegac', 'dfacg', 'gfdb', 'deabcfg', 'dbacge', 'bcadgf'], ['bdcfa', 'efgca', 'cgd', 'aedgcb']), (['adcfe', 'afd', 'deagcf', 'faebc', 'ebfcagd', 'efdg', 'cbeagd', 'gabfcd', 'fd', 'cedga'], ['daf', 'dfcae', 'fd', 'egdabc']), (['dgfc', 'cabfe', 'bcg', 'abegdf', 'gdafb', 'cg', 'afbecgd', 'fcagbd', 'aedgcb', 'bfgac'], ['agefbdc', 'gdfacb', 'cg', 'cafdbg']), (['fbadge', 'bfgca', 'agf', 'dacbfge', 'bdcafe', 'bfeac', 'aegc', 'ga', 'fabgce', 'dfgcb'], ['fdebga', 'fgbcd', 'baefgc', 'geac']), (['abe', 'ebcfga', 'dgabc', 'gfcbe', 'fcadbeg', 'gafe', 'ea', 'gcabe', 'fdgbce', 'aecfbd'], ['gadbc', 'ebcag', 'ecgbf', 'gabefc']), (['gd', 'ebacfd', 'afedcgb', 'cdeabg', 'cabgd', 'gad', 'aecbd', 'ecdg', 'gdbfae', 'bacgf'], ['egdacb', 'agfdeb', 'cbafg', 'gda']), (['ec', 'dgfae', 'gfdcba', 'ced', 'dagebc', 'dcafbe', 'cadfb', 'efacd', 'edgfabc', 'cefb'], ['abdfgce', 'befc', 'edc', 'debgca']), (['ec', 'cfed', 'gbafe', 'gfecdba', 'cfdgae', 'cae', 'gfdac', 'gacbde', 'fdcagb', 'ecfag'], ['dcafeg', 'ce', 'fdbaecg', 'gaefb']), (['acge', 'fgebd', 'fcbeg', 'agfcbe', 'ce', 'bcfga', 'cbe', 'eabgfcd', 'gcdafb', 'edfbca'], ['gbafcd', 'abcgf', 'agbcdf', 'ce']), (['eafgcb', 'bface', 'dcgebfa', 'dbface', 'dc', 'ecadbg', 'acfd', 'fdebg', 'dcefb', 'bdc'], ['dacf', 'bcfega', 'cafbe', 'dc']), (['cdbgae', 'befcg', 'bgade', 'fgbeacd', 'gbdfae', 'fbdacg', 'fd', 'dfg', 'aedf', 'bfgde'], ['daefgbc', 'edfa', 'abegd', 'bfadcg']), (['dcage', 'bcae', 'agdfcb', 'efbagd', 'bdafceg', 'gfecd', 'dae', 'dbecga', 'dgcba', 'ae'], ['cdgea', 'aed', 'afbcgd', 'aed']), (['fbedcag', 'agfe', 'cbeafd', 'efgbc', 'gacbd', 'agefbc', 'af', 'cagbf', 'cedbfg', 'afc'], ['gfaebc', 'dagcb', 'febcg', 'ecgfdab']), (['abecgdf', 'cagbd', 'efbdc', 'ebfg', 'fg', 'gdfcb', 'aecdgf', 'dbgcfe', 'cbafde', 'gdf'], ['decfb', 'gfd', 'fbcgd', 'fdg']), (['ecbafd', 'ba', 'bafdeg', 'fgdba', 'dba', 'fgebd', 'cbefgd', 'bgae', 'dcgfa', 'daegcbf'], ['adb', 'bfadg', 'cbfead', 'ab']), (['egbdc', 'acbfged', 'gae', 'cdaeg', 'ga', 'agbefd', 'acgf', 'decaf', 'cdaegf', 'eafdcb'], ['agcf', 'ga', 'daegcfb', 'cedbg']), (['bafce', 'adcfeg', 'caegfb', 'cefga', 'fb', 'fab', 'bdcagfe', 'dabgef', 'bgcf', 'ebdac'], ['gface', 'bcaef', 'fab', 'fcabe']), (['gcedab', 'facgbd', 'efadg', 'edacg', 'bdafecg', 'fedgb', 'fda', 'af', 'aefc', 'gafcde'], ['dgecfa', 'ebdgac', 'fa', 'bdfeg']), (['gdba', 'gedfb', 'egfbad', 'fegadc', 'ecgfba', 'dfbec', 'gd', 'cbedfga', 'abefg', 'fdg'], ['fcadge', 'gdbef', 'fegbac', 'agbef']), (['fbdec', 'fdbceag', 'feacb', 'fbcgd', 'dcbfge', 'dec', 'efgadc', 'dcbafg', 'ed', 'dbge'], ['cabgdf', 'ceafb', 'afgdec', 'de']), (['cbgaed', 'fbagc', 'cbfd', 'bdaegf', 'bdcag', 'egdbfac', 'afgce', 'bcfadg', 'baf', 'bf'], ['fb', 'baf', 'edgafb', 'cbgda'])]\n"
     ]
    }
   ],
   "source": [
    "print(data)"
   ]
  },
  {
   "cell_type": "code",
   "execution_count": 159,
   "metadata": {},
   "outputs": [],
   "source": [
    "sample = parses('acedgfb cdfbe gcdfa fbcad dab cefabd cdfgeb eafb cagedb ab | cdfeb fcadb cdfeb cdbaf')"
   ]
  },
  {
   "cell_type": "code",
   "execution_count": 11,
   "metadata": {},
   "outputs": [
    {
     "data": {
      "text/plain": [
       "[(['acedgfb',\n",
       "   'cdfbe',\n",
       "   'gcdfa',\n",
       "   'fbcad',\n",
       "   'dab',\n",
       "   'cefabd',\n",
       "   'cdfgeb',\n",
       "   'eafb',\n",
       "   'cagedb',\n",
       "   'ab'],\n",
       "  ['cdfeb', 'fcadb', 'cdfeb', 'cdbaf'])]"
      ]
     },
     "execution_count": 11,
     "metadata": {},
     "output_type": "execute_result"
    }
   ],
   "source": [
    "sample"
   ]
  },
  {
   "cell_type": "code",
   "execution_count": 206,
   "metadata": {},
   "outputs": [],
   "source": [
    "sample2 = parses(\"\"\"be cfbegad cbdgef fgaecd cgeb fdcge agebfd fecdb fabcd edb | fdgacbe cefdb cefbgd gcbe\n",
    "edbfga begcd cbg gc gcadebf fbgde acbgfd abcde gfcbed gfec | fcgedb cgb dgebacf gc\n",
    "fgaebd cg bdaec gdafb agbcfd gdcbef bgcad gfac gcb cdgabef | cg cg fdcagb cbg\n",
    "fbegcd cbd adcefb dageb afcb bc aefdc ecdab fgdeca fcdbega | efabcd cedba gadfec cb\n",
    "aecbfdg fbg gf bafeg dbefa fcge gcbea fcaegb dgceab fcbdga | gecf egdcabf bgf bfgea\n",
    "fgeab ca afcebg bdacfeg cfaedg gcfdb baec bfadeg bafgc acf | gebdcfa ecba ca fadegcb\n",
    "dbcfg fgd bdegcaf fgec aegbdf ecdfab fbedc dacgb gdcebf gf | cefg dcbef fcge gbcadfe\n",
    "bdfegc cbegaf gecbf dfcage bdacg ed bedf ced adcbefg gebcd | ed bcgafe cdgba cbgef\n",
    "egadfb cdbfeg cegd fecab cgb gbdefca cg fgcdab egfdb bfceg | gbdfcae bgc cg cgb\n",
    "gcafb gcf dcaebfg ecagb gf abcdeg gaef cafbge fdbac fegbdc | fgae cfgab fg bagce\"\"\")"
   ]
  },
  {
   "cell_type": "code",
   "execution_count": 212,
   "metadata": {},
   "outputs": [],
   "source": [
    "def solve_a(data):\n",
    "    total = 0\n",
    "    for left, right in data:\n",
    "        relevant = [sorted(v) for v in left if len(v) in [2,4,3,7]]\n",
    "        total += sum(1 for v in right if sorted(v) in relevant)\n",
    "    return total"
   ]
  },
  {
   "cell_type": "code",
   "execution_count": 213,
   "metadata": {},
   "outputs": [
    {
     "data": {
      "text/plain": [
       "0"
      ]
     },
     "execution_count": 213,
     "metadata": {},
     "output_type": "execute_result"
    }
   ],
   "source": [
    "solve_a(sample)"
   ]
  },
  {
   "cell_type": "code",
   "execution_count": null,
   "metadata": {},
   "outputs": [],
   "source": []
  },
  {
   "cell_type": "code",
   "execution_count": 51,
   "metadata": {},
   "outputs": [
    {
     "data": {
      "text/plain": [
       "330"
      ]
     },
     "execution_count": 51,
     "metadata": {},
     "output_type": "execute_result"
    }
   ],
   "source": [
    "solve_a(data)"
   ]
  },
  {
   "cell_type": "code",
   "execution_count": null,
   "metadata": {},
   "outputs": [],
   "source": []
  },
  {
   "cell_type": "code",
   "execution_count": 3,
   "metadata": {},
   "outputs": [
    {
     "name": "stdout",
     "output_type": "stream",
     "text": [
      "cg fadegbc ecfadb acdbeg abgfe dcegfb gcad bceag debca bgc | ceafbd gfedcb cabedf dbace\n",
      "bgeacd ea dfcab fcdgbae ecbgf gbcadf defa cae dcaefb fabce | ea fdae daecgb cea\n",
      "fb gafbec dcabe ecfdag fagdcb afcdb cbf gdfb agfdc acfgdbe | acdgfb gdcfa bceda bf\n",
      "fd bcafe afed acbfde fcbde fcbgae fgabdc edbgfca cgebd dfb | dbf becgd bfd efcdb\n",
      "deacg egfdbac agefd gbedc gebfca ac gadefb ace fadc fcdgae | gabfde cbdgfae ca eca\n",
      "cfaedb gedfa fbegd dgca ga dfcae agf dfagceb gdfcae ecbgaf | gaecfb cdag gfa gaf\n",
      "ceg gfdcab dfacge edgf fecagb ecdba ge gceda fcbaged cgdaf | gdaecf gceda fbacge dcagf\n",
      "caged egbdf edabfg fbad fagde gefbcd fceabg afg fa cfdagbe | bfdge degca fbda af\n",
      "dac egdacf fcedbg dabcg gdfcb dbaeg ac cfdaebg cafb afdbcg | decagf ebdag bfdgce fdbgec\n",
      "dbaec edfac bdgae dbcegaf bc cba aecdbf cebf gbacfd facdge | efbc cab ecabfdg cab\n",
      "gfce acf fecda egfda gbcfda fc gcefda dbcea afdbge dbceagf | bfedgac bfegda fcgdab fecg\n",
      "edfgb ebf be gdcafe degaf agfbced deba bdafge dgcbf cbeagf | efb dbcgf dgabef be\n",
      "ebgfd bfcg gf fcgbde dfbagec gefcda fadbce gef febdc edbga | gf dgbefc gfe bedfac\n",
      "gabfec dcfage febg gcaeb gcf agbcf gf cbafd cabged cebfagd | egbf fg gcdbea dfbac\n",
      "fgcedb fagbe aecgbd gbcaf bef fade fagdecb aebdg ef feadbg | abdge abfdge abcgf gabedc\n",
      "dgebfc cebfa dbf acfbdg edbafgc dgfe decbf cdgeb eadbgc df | bgdcefa caebf fbd adfbgc\n",
      "febgd fgaced bfedacg bfdgae fdcgbe fabed fcbea gdba ad dae | dae agbd gbfdea aegcfd\n",
      "abdgf adcf bfdeg fa gfecdba fab debcag bcgda bcafdg fecgba | edbfg gcfdeab bgfda dfebg\n",
      "ecdba bc dcfeba eacgdf cbegfad dbcf begda fcdae cebgaf cab | abc bc ecfdab cab\n",
      "bc fabcged bcafg debfcg gdfac fgbea acfged bcg cdba dgfabc | baefg fbcag begcfad dabc\n",
      "egfadb ce fgce bagdc gdafce edabcf gefad febdgca aec aedcg | aefbdg ec ceadg gecad\n",
      "daegf gebf acdbf be faedbg dbe eabdf fdabgec aebdgc cdefag | be gfdeac bdfac gdbace\n",
      "bafgc efac gae ecgdba ebgfa ea degbf afebcg fbacdg afedgbc | acfe age dbfecag bafgc\n",
      "gfb bgacfd efcbd bdfeac bg efgcb gcbfed gcafe begd bfdgaec | cbgef gcfea fbcdae faedgbc\n",
      "efdbc abd afcbegd dfcba fbedga ceafgd cgab ba agdcbf cdfga | dcafg cabdf ab bcga\n",
      "fde fgadc fgceb eadcbfg gebd agfcbe ed fgbdce cbeadf egfdc | bdgcfae fde edgb gbde\n",
      "abdcg gaebfc cfadebg cdfbg cegbf ebcgdf dbf fd cdfe fedagb | dgbca cgfeadb gdfaeb beagdf\n",
      "fedbc gdeacfb cfbgae ebacdg gafc ca bgdfae geabf eafcb acb | bafge aefcgb cfbae defbc\n",
      "fdega cefabd fce bfdegac afecbg fecad cfadb debc ec dfagcb | dcbaf gebfcda fce fegad\n",
      "fab gaedb cagbdf fbce fecgad dcfeba dacfe fb fbgaecd faedb | dbecfa gefcdab bfa efbad\n",
      "bcega gbacfe aecgdbf gae cabgd ebafc edgcfa ge facebd gefb | baecf efacdb ebagdcf fgeb\n",
      "fgea acf af edbgca defbc fegbacd bagcfe ecbaf gdcabf gaceb | aebfc abgfec aegf dcfgab\n",
      "ecfgb cfd dbcgefa fcdbe debaf cdgefa cd cfgdbe acfgbe bcdg | bcgd fdbea dcfgbe fcd\n",
      "gdfaec fdcabe eb acbgd cbe bfae facbdeg cebda bgfced cfade | be dface eabf cbeda\n",
      "efbagd ebf fdceba gfdae dfgabec dbgef bf fabg gbcde dgecaf | dgbef gfdeba afgdeb gdefb\n",
      "gcadbef fgadc cbd cb bcgf bcfad dgfcba edafb gfdeca ebdgac | bc fdgcae ecadgf bdcega\n",
      "defbg dgbaec gbe eg dabfg fgdaeb badfgc cadgbfe egaf debfc | gbfde fgebd gedbf egfa\n",
      "caf gcdabe bfag fa edfbgac becafd cbega edcgf afceg faecbg | bafg abgfec ecfbda fbag\n",
      "egfcba dafgcbe cefga cdbgae acfgde bgcfe ebfdc bg fagb bcg | fcebg dfegabc dgecba defacg\n",
      "bgcdefa bcfged bf cadbgf edbcf fdb cebgd dfcea gbef gedbac | bf dfecb fb dgceb\n",
      "bdegc decabgf agbfce bdcfg eagd gebadc dfeacb deb ed ebgca | dgcabe de dgabec bed\n",
      "eabdf gedbaf afcbedg afcdg bgd gbae gadfb cefdbg bfdcea bg | acdgf dbafg geba gbd\n",
      "egabdfc dg efdcab bdcef dgecf cfgea dfg cfedbg bagdfc gbde | fadbgc gcfea ebdg gd\n",
      "fcge cf ecbfad acfedgb agdef fcgda aefbdg afc cagdb cdafeg | cfa gcadf dagfce acf\n",
      "cbadge gdec efagb ce ecb bagecfd gbcad gabec dfacbe cgbfad | acfgdb gcdba cegbad fecdabg\n",
      "cegbaf aedcg acgbed fadbe afbcdge gf fge gdeaf dcgf cegdaf | ebadf fagde cdgf baedf\n",
      "ebdgf dcgbfe cfdabe afdg agbefd ad daebg cbadefg ceabg ade | bagce bfged cbfged gedab\n",
      "adbf decbgf dbc agcdbf cdeabgf dcagb eacgbf abfgc cgaed bd | cbd dbcgfe abdcg cdaeg\n",
      "bgcaf fgbae edbcgfa cdfba cbdagf cg cga fgdc edacgb bfcdae | dfabce bdaefc dbfca dgceab\n",
      "gbe gedc fdgcab bdgaefc eg cageb ebgadf acbfe beagdc dgacb | gedc gbe bcgea gadcbf\n",
      "dcega abgecf cgeab ab gfedbc adfbgc bcgef bafe dcafebg abc | gabdcf acb ab ab\n",
      "dfgebc cdgef bc efagb bfceg fgedac cbf gcdb egbacfd cfdaeb | dbaefc agdefc ecgdbaf fecdga\n",
      "febacg efgba ebfdg aefcb ag gba gacfbed fagc edbafc agbedc | gab ag dgfbe ecdgab\n",
      "cabf fegacd bf ecabgdf gfb bdefag cbdge dfcbg agdfc gbfcda | dgcfba gfb eadfbg fcedag\n",
      "dc fcd aecgfd cgfda baefgd cead fgacbed cfbdge eadgf fgabc | fedcga eagcfd gcfda gfdea\n",
      "fgbaed aebdgcf edabg fdba faecdg fgaed gcbed ab cgebfa gab | edbcg becdg ab edbga\n",
      "agdcb edfbgc edbca ae aeb aefdgcb eacf facedb agbefd ebdfc | adcbegf fcea acedgbf dcgebf\n",
      "ecf dgfeb egac dacfeg abcdef ec gfebdac cdgbaf cdegf fcdga | dcabfg efc ec fgdecab\n",
      "dcega def cfgde aegfcb deabfcg fd defgba egbdfc bfcd cbfeg | bagdecf df fed dcbf\n",
      "gecbf bcdfaeg cdfga fgdcbe gcfbae eafb fagcb bga daebcg ab | acgfd bfaegc gdafc feagcb\n",
      "edfbg df dcfbae edf bcegf egfbca acgfbde aegdb dcgf efdgbc | gbcfea beadg dfe cdfbae\n",
      "gdbfca acebgd cabdf gebaf becdgaf ed fedc bdefa eda ebcfda | bcfdag fcdaeb fcdab ed\n",
      "eafdgc gbdc efadb cd abfceg daebc dce afegcdb gbace becgda | dgcefa dabce gceba bgefac\n",
      "bdaf cbgfd fag fgabc fa fcbegd gedfac gcaeb fgdacb eafbdcg | af gebdfc bgdfc fa\n",
      "bdafec fdag gbfce dgc dfgbca dacbge cfabd fgdbc dg faedgcb | gcdabe cgaefdb gd gdfcaeb\n",
      "ebdcfga afedcb aegdcf fbeg cbdag fg adfgbe ebafd bdfga afg | adcgef fadcgbe gf edbfag\n",
      "dgeacbf gdaf bagecd dcefa caedfg dac gcebfa fgace dfbce da | cfegda ad da abcgde\n",
      "bfadecg ba gab bafecg ecab dfgca cgfba bdcfge fecgb fdabge | ba ebac aebc fabcg\n",
      "eadcg efd cdbf cfdea cbedaf egdafb cfbaeg fd aebfc adecgfb | aebcf fed abedcf aedfcb\n",
      "gdb cbdaf cdge cdaebg efgdba egcab gd afebcg gdbca gaedcbf | dgbca begca cbgaef gceba\n",
      "bdfgac fgadb adbgc fgca cfgdbe adbfe fg dgbace bfg dgabecf | dbafe gacf gdacb fadgb\n",
      "gedbfa cdg aecgd edfgca fbdcage cd fgdabc fedc dafge cgbea | gafde bgdeaf dc defga\n",
      "fdceg edfcb gd febgcd dgfb gcd aefcg cafebdg bafdce debgca | gd cfedb defcg cfadegb\n",
      "adbfe bgcfda gefda gcaed dagbfce dbeagc gaf gf gfdeac cgfe | gfec ebgdac eabdf gcef\n",
      "fc cdf bcfdeg dfgaeb fcgdea gafc bdeca fcbedag faged dacfe | adfebg ebcda fdega agfc\n",
      "deagcf ebagfd bgafdec cd cabeg bcedaf dec cfdg gadce adfeg | ebgac cagde dc faedgb\n",
      "dcgab ac fabegc dcaf acg fadbcg fbgacde cfdgb cbgfde debag | dagbc daegb edbga cag\n",
      "fgcead edbcg cfaed dcgef dfbgcea gf badcfg fdcbae gfd fgae | dfbagc dfcge gf dfeac\n",
      "begcf cbf aebf fdgacb gdebac ceabg egabfc gdcfe ebgfacd fb | debcga bgaedc fdabcg abgce\n",
      "efgbcd febdga bc fbegd befcd dgafebc ebc fgbc dgabce caefd | fbcg ecafd cdbfe cgbf\n",
      "eafg badgec ecgab gdcfb fca fa cgabef fcbag fbeacd cegfbda | fa cabdge acgbfe cdbega\n",
      "gdfae fdagbc fecgab eg fadec abgdef abgdcfe dbge eag fgadb | dbafcg befdag ecfdagb aebdfg\n",
      "aegbcf bfgecad acgfbd dabceg aefbd gcfd bgd gcbfa dg dagfb | cdgf gd dfbga bdafe\n",
      "bcgdf be gcdeb egadc bagecd ebd cabe gdcfeab badfge egcafd | agbdfe be ecab ecbgd\n",
      "edbafc fbdgce befgc cge ebdgac eg bdcfe egfd caedgbf bcafg | gabfc eg ceg cdbef\n",
      "cbadf af afc baef cfbdg dcegfba ebdac dabgec acbdfe afecdg | cdbaef decba bdcaf dbcae\n",
      "ea eac cbgaed cdbaf adge dgfeacb bdaec ecbgfa dgbce gdbfec | cdfba bcdge ae cabgde\n",
      "bgecfa abegcfd fgcad fgdcae aedc dfc fbdga cd defgcb cegaf | gbafec egdafc aced acbefg\n",
      "becfdg abgcdf abgec dafceg gcdbf bfgadec af fac abdf fcgba | fac abgcf afbcdge fgdbc\n",
      "cbe ec caefgdb cbgeaf ecbdag bcadfg cdae cbgad defbg egdcb | dace ecda aced ebgdf\n",
      "aecfbg cegdfab fdace ecd cd gadc cgdaef efgca gdfebc badfe | cfdea cd eacfg aecgfbd\n",
      "bafgdec gcd gacdf gbcaf cd cgfeab dgbeac bcfd abcgfd fdage | bfcd dc cbfd dc\n",
      "gadfec gfadbce gceba abcdf gd bdeg cebgda cdg afbecg bgdac | dgbe afgdce egabcd gedb\n",
      "fc defc cdeab bdcgae acebf caf cgefbad efdbca gdfacb bfgea | adfgcb cbead efbcad dcagbe\n",
      "fecab adfgbe ecad ca adbfec cab cdfegba gcadbf gbfec eadfb | bgdacf dgeabf ca cgbfe\n",
      "gbaefd cafged feac cegdb eafdbgc ea agfcd dgace bagdfc ead | ea gedcb ea acgde\n",
      "cbaedf dfbcga cbagd cbfadeg fdbeag bgfad cdgbe ca acb gacf | fabgde fgac acb fcag\n",
      "efgc fg agbdcf bdfce bacdgef dgfbe gdfceb fbg edfbac eadbg | dgfeb cadgbf egcf dcfbge\n",
      "bdgea gbcf facegb acdfbeg ebgaf dabecf bf gfeac aegcfd fba | fb gabfe cbfg bgafe\n",
      "fedcgab fceab cgab egbdfa cgaebf cefdag fca fcebd ac begfa | afc adgfec bfgea bgeacf\n",
      "bfda gbcadef bgecd dafegb daefg aecdfg bgdfe acbfeg bf ebf | dfabge bf dbaf bcfaeg\n",
      "bacdfge aegdf ebgdf fcaeg edcgfa fbecga ceda adf fabdgc ad | dbgef fagce edafcg bdgfcae\n",
      "abdef gaedcf afdgeb becadgf edabc bcdeg bafcde acfb ca cda | dfgbea cda dca adc\n",
      "efgd fcgbea gbadcef dcabe fe aebdfg fdabgc abfed feb agdfb | egfd fedg fdgeabc eafdb\n",
      "dcabegf gedac ecgfd cea gfcebd agdbe ac gcfa fbeacd gdecaf | fegdac gedab dgaec bfdeca\n",
      "bacdgf dgce ec cafdeb fcega eca cdafg ebagf degfca bdfcega | cae fgdabc decgafb cfagdb\n",
      "gefac egabcfd gfc baecgd eabcgf dafec gf cbage acgfbd egbf | abcgfe bceadgf feacg egbf\n",
      "gbcaf dcaefb gdec adfeg acefdbg fbdage cdfag acefdg cd dca | gecd cgbfa cafgd dc\n",
      "fbadge bdcg acb caebfd bgead gbcdea caebg dbgcaef gfeca cb | acdegb gabde gbcae abc\n",
      "bcd agdce edbagf gfdecb cbfa bc debafc aedfb beacdgf cbead | ebcfgad dfgceb gdaefb bfca\n",
      "bag ab ebca dabecg agcde dbfagce efgcad gbcdaf egdab egfbd | gabed gaecbd ab eagfcd\n",
      "gbcadf cdabg bd dbg afgbedc fdgca gacbe adcfge cfbd gedabf | gdb dfgca gfabcd dacgb\n",
      "cfeabd cabgf gadfeb gbadc dcbgae dgec bdage gbfcade cd dcb | dceg bedcfa edgacb dc\n",
      "bcdfg gdfeab abecdgf edg gefca ecadgf fedcg deca ed gcbefa | bdacfge fecgbda gbcafe fedcg\n",
      "acbgfd bdgcf dcfga fbd dfbcgea fb dbgec eafbcd fbga efagcd | gfdca bdcfg dbf afgced\n",
      "dafecb acedg bc dgafce gbeac fgceabd bce gbefa gdbc dbceag | agfcdeb fagdce afgbe dfecga\n",
      "fgadce db fbadg deagcfb abd aegbf gcdbfa fgdac gbaedc bdfc | daegcf faegb bd dba\n",
      "bdga fbagc ceadbf ecgdfba bfgce fga cbfagd ga cfdab gecdaf | fcdaeb ag cegabfd ga\n",
      "fce fcdg adfgeb cegadf bafdce fecga fc becga dafebcg agfde | efbagcd afged fedgba efcga\n",
      "cegdba fb bcdeg fecb gdeaf acgfdb fdb fgdbe cbdafeg gecbdf | afedg bf dfegb fbgecad\n",
      "eg feadcb dgec egf afedc eabgfc gaedf bdgaf acdgbfe egafdc | eagfbc adecf egdc afdge\n",
      "bg dagfe edfcabg dbgcae fgaedb fbag fdcage dgb bfegd cbdef | dbgef dgfbe bg efbgd\n",
      "dabgfc acefbd cegad cbeda bac adbef cb bcfe fbgdea cafbegd | fadceb ebfdga ebcad bac\n",
      "gfbca decbfa ecadbg cga gc cfdg bfcadg bfeadgc cfabd efgba | ebdfca cfagb degacb abdfc\n",
      "gcbead fadbge befc bgfceda dbcea cbefda bfa gfacd bf facbd | abf cedba fba dgefcab\n",
      "baedc feag begafc fcagdb eg bagcefd baceg gce bcgdfe cfabg | cgabf egaf ge fage\n",
      "ecab ce bfcdg fabgce efdcag cgfeb gbaedf dfegbca cef baegf | cefdga gdecfab cfbgd bcaegf\n",
      "beacfg fg efg ebfcd dbfgcae fbga bgcea cefgad cgbfe ceagbd | bdcafeg baecfdg fecbd gef\n",
      "cebdfg ba abf bdgfaec aebcfg gfcdb dbga afdcb gcbadf fecad | gbad bgdfcae gfdcb baf\n",
      "gceaf ebf eadb abdcf adfebc fdbceg cgafdb efcab cefdgab be | ebf dbfcag efb feabc\n",
      "fgbcda bceag dfabge fbdceg fced bgfdc fabgdce fe gfe cgbef | abgedf cfde efgbc gfabcd\n",
      "deagcf bdfacg fcbad dca gfdbc ecgbadf febcdg dbafe bcga ac | afdgcb cbga dgafce adegcfb\n",
      "dbceg bcg gfbeca cgfbaed egfcbd ebgfd gcfd cg bdaegf decab | cg dgfc cbeda dfgeb\n",
      "cfbed bdae dfcgb ed efbca cde fcbdae gbcfae fbdgaec aefdgc | dfgace becafg cagebf fcdebag\n",
      "ed dfce dae bedca gfaedb befdac bacgd eabgcf bfcae agdfbec | bcaed edacb cdaeb ed\n",
      "dagcb cbge daefbc bgadfce bc cfgad abdefg gbdea cab cabegd | badgc ebfcgda bdcfgae abcgd\n",
      "ac fgdca gfbdca bcgdafe cefdg cgbeda cda gaefdb fbac dgfba | fdegba egadbf ca bfca\n",
      "fedgc dbcaf ceb adefgc ebdg acgbef cbefdg be befcd dcfaegb | dfecb gbcdef eb fgceab\n",
      "aefcd fcgaeb eacdgfb fbcg aebdgc gdbeaf agfbe agc cgaef cg | cga gac dabcfeg fbdgcea\n",
      "af bdeag gfbdace fga bcaedg cdegf feab eafdg gfedab dagcfb | fgacdb faedg ecbdafg fcedg\n",
      "dgafc adfcebg fagec dacfeg fgd fd gbdac defc fdaegb gafbce | cdagb df fcaebg dfce\n",
      "bacfdg dgc cg bcaed adcgb cafdeg bgcf dgfab bgfead cbfaged | bdfega dgfeab fdgba agbdc\n",
      "agfebd cb bafecg efbga edgac gfedcb cedfagb afbc gcb acgeb | bc cgb bc cbg\n",
      "fgdae edfbca bgdf gceaf eabfdg aebfd gad defbgca gdceab dg | eacgf agecbd gd gcabed\n",
      "befadcg gdfa afdeb aebfg fg bcfead gadfbe gfe cgeab gfbdce | adebcf dcgfbea deabf abgec\n",
      "cb cbg gbaedc efbga bcafgd caefdbg efcdga eacgd bcde gbcea | edagc cebd aefbg bdce\n",
      "cdaebfg edcbg cgedba acbeg fbdgc edg fagebc cdea ed abedfg | ed gcbdefa cgabdef baecgf\n",
      "eafbg acebgdf dagcb eadc ecg ce cfbgda cegba dgbace bfedgc | edac ce bagcd gfeba\n",
      "egafcd gdfaceb acegf cgda deg dgfbea gd cdfge feabcg cedfb | fadcegb egd caedgbf febdc\n",
      "feag eg aebfc efcadb bge cdbgf fgbcead bdegac ebcfg aefbcg | ge adcegb fceagb ecfba\n",
      "beac bdgea ebagdc bdgafc bcagd age bcgdeaf ae dfaecg defbg | egdacb eag dbcage ecgadbf\n",
      "ca agdbec abc dbgfca gbfecd cbfgd acgf fbdae fdacb ceafbgd | dgfbca abcdf ac cfgbda\n",
      "bgadf cdgbefa bagef bfe agfdce cebg ecbadf gbecaf eb egcaf | ebdcgaf cebg faegb fgbae\n",
      "bfgcea fdgeca cae gbeca abcf cfebagd ca fgdbae cebgd faebg | gfeba ca fedgca gcabe\n",
      "cage dfgaebc ae gfbed ebgaf decabf afbcg bfacdg aef cbaegf | debagcf bfgca agce bgeaf\n",
      "bcegdf cgdafb abfd abgcfe fdg gfdac gefbcda dgeac afcgb fd | gdbcfe cafdbge gaecbf dgf\n",
      "cgdbe decba bfdgcea debfa cfdbae gafedb ac fbca agfdec cea | dgecb dacbe edagfb gfdbea\n",
      "gacdef bfeda afecd gfbae bdcega bafgcde dab dfceba bcfd db | db eacdgb aedbfcg fcgbdea\n",
      "abdgcf dafec faedb cf bcfgeda gefbad cabfde cfbe afc aegdc | bdfega afgdecb fgdcba gedafb\n",
      "aedcb fce bedfc cfbged gefb bgfeacd edgacf ef gcfdb dgfabc | gedfca fabcdg adfcge cfe\n",
      "dbfagec dabec eda fdcbea ed agdbc gfbcea cbefa efdb gfdeca | ecfgdba ade fcagebd dea\n",
      "dafbe adfbcg bfeac cbe bagfecd cfge egcdab cgabf ce gfceab | bcagef afgcb fcgabd gcdabf\n",
      "agc ag gbaecf cagbf fgdcaeb bdgfc cefab ecfagd bega aedfcb | ebcafg fbace cag eacfdbg\n",
      "ea gfbda eacd bfced eagfbc aeb cbfged befda bgafced dacfeb | gfbad aeb fdabg cedfbg\n",
      "gcbadf gbead afcbde gad beadf daefgb aecgb dg efagdcb gedf | dgef fegabd afebd dg\n",
      "dbc fdcge dabeg aceb cgdeb afedbg cdgeba bdagcfe bc gcdbaf | gcadbe dcb abcedg edbgc\n",
      "bfcd ebfgd cgf egcab bfdcge adfgec gbefad fcbegad gfebc cf | fcdaeg dbegacf dbcf cf\n",
      "bcfedga df dfa gcaedb fagcbd adecbf ecgaf dgfb gcdaf bdcag | gecaf df gfbdeca df\n",
      "acf cdfe dcbegaf feabd ecbgfa dbacg aebgfd bfdeac dcfba fc | gfedba fc efdc dfbaecg\n",
      "ecf bgaecd ecdgfb adgfe egcfa fcbedga bagec gacebf cafb fc | cfgaebd aecbg ecgab dgbeca\n",
      "beagc aegbdc fcdeb fcgbe gf geaf acgbfd fcg fecgdba fbgeca | bgfadc baedcg gfc gebacf\n",
      "gedf caebfd fcgea bdcgae age acefd fdcagbe gacfb gcefda eg | bedcaf dgeabc acgfe aeg\n",
      "gceabfd cdgba cgfdae cfdagb begd ceabg ceafb ge gae gabdce | fcgaed dgfcae acegb ebgd\n",
      "deg cegdbf dbceg bdgafe baegdfc bcadg de agbecf gfbec ecfd | fdce ed de gedabf\n",
      "afgced gb dbg gbec badcfg abged baedf eadcg cafgedb gdbeca | fgeadc bg gbd beadg\n",
      "ad bdegca cgabd bedfgac gda cead bfcaeg gaecb cdbfg edgabf | dfbagec eacgfbd cgedba ad\n",
      "bacd afgecd ba eadbcf fdgeb bgacef feagcdb bfdae deacf eba | abe fdebg abe dgafec\n",
      "cdafe dab febdga fcbd fceadb bd fecdag agceb abdcfeg bacde | dab cbdafge dfaec dagefb\n",
      "ecbgad cbe bdef dfegcb dgbcf agcfe fgebc eb fdgbca ebgadcf | bfdgec be be fcgea\n",
      "cdg dabfc edbfac gd fegac dfacg gfdb deabcfg dbacge bcadgf | bdcfa efgca cgd aedgcb\n",
      "adcfe afd deagcf faebc ebfcagd efdg cbeagd gabfcd fd cedga | daf dfcae fd egdabc\n",
      "dgfc cabfe bcg abegdf gdafb cg afbecgd fcagbd aedgcb bfgac | agefbdc gdfacb cg cafdbg\n",
      "fbadge bfgca agf dacbfge bdcafe bfeac aegc ga fabgce dfgcb | fdebga fgbcd baefgc geac\n",
      "abe ebcfga dgabc gfcbe fcadbeg gafe ea gcabe fdgbce aecfbd | gadbc ebcag ecgbf gabefc\n",
      "gd ebacfd afedcgb cdeabg cabgd gad aecbd ecdg gdbfae bacgf | egdacb agfdeb cbafg gda\n",
      "ec dgfae gfdcba ced dagebc dcafbe cadfb efacd edgfabc cefb | abdfgce befc edc debgca\n",
      "ec cfed gbafe gfecdba cfdgae cae gfdac gacbde fdcagb ecfag | dcafeg ce fdbaecg gaefb\n",
      "acge fgebd fcbeg agfcbe ce bcfga cbe eabgfcd gcdafb edfbca | gbafcd abcgf agbcdf ce\n",
      "eafgcb bface dcgebfa dbface dc ecadbg acfd fdebg dcefb bdc | dacf bcfega cafbe dc\n",
      "cdbgae befcg bgade fgbeacd gbdfae fbdacg fd dfg aedf bfgde | daefgbc edfa abegd bfadcg\n",
      "dcage bcae agdfcb efbagd bdafceg gfecd dae dbecga dgcba ae | cdgea aed afbcgd aed\n",
      "fbedcag agfe cbeafd efgbc gacbd agefbc af cagbf cedbfg afc | gfaebc dagcb febcg ecgfdab\n",
      "abecgdf cagbd efbdc ebfg fg gdfcb aecdgf dbgcfe cbafde gdf | decfb gfd fbcgd fdg\n",
      "ecbafd ba bafdeg fgdba dba fgebd cbefgd bgae dcgfa daegcbf | adb bfadg cbfead ab\n",
      "egbdc acbfged gae cdaeg ga agbefd acgf decaf cdaegf eafdcb | agcf ga daegcfb cedbg\n",
      "bafce adcfeg caegfb cefga fb fab bdcagfe dabgef bgcf ebdac | gface bcaef fab fcabe\n",
      "gcedab facgbd efadg edacg bdafecg fedgb fda af aefc gafcde | dgecfa ebdgac fa bdfeg\n",
      "gdba gedfb egfbad fegadc ecgfba dfbec gd cbedfga abefg fdg | fcadge gdbef fegbac agbef\n",
      "fbdec fdbceag feacb fbcgd dcbfge dec efgadc dcbafg ed dbge | cabgdf ceafb afgdec de\n",
      "cbgaed fbagc cbfd bdaegf bdcag egdbfac afgce bcfadg baf bf | fb baf edgafb cbgda\n"
     ]
    }
   ],
   "source": [
    "print(data)"
   ]
  },
  {
   "cell_type": "code",
   "execution_count": 254,
   "metadata": {},
   "outputs": [],
   "source": [
    "def set2str(s):\n",
    "    return \"\".join(sorted(s))\n",
    "\n",
    "def list2num(nums):\n",
    "    return int(\"\".join([str(n) for n in nums]))"
   ]
  },
  {
   "cell_type": "code",
   "execution_count": 255,
   "metadata": {},
   "outputs": [],
   "source": [
    "def solve_b(data):\n",
    "    \n",
    "    total = 0\n",
    "    for left, right in data:\n",
    "\n",
    "        left = [set(v) for v in left]\n",
    "        nums = {}\n",
    "\n",
    "        nums[1] = next(v for v in left if len(v) == 2)\n",
    "        nums[7] = next(v for v in left if len(v) == 3)\n",
    "        nums[4] = next(v for v in left if len(v) == 4)\n",
    "        nums[8] = next(v for v in left if len(v) == 7)\n",
    "        nums[6] = next(v for v in left if len(v) == 6 and (v | nums[7] == nums[8]))\n",
    "        nums[9] = next(v for v in left if len(v) == 6 and nums[4].issubset(v))\n",
    "        nums[0] = next(v for v in left if len(v) == 6 and v != nums[6] and v != nums[9])\n",
    "        nums[5] = nums[6] & nums[9]\n",
    "        nums[2] = next(v for v in left if len(v) == 5 and (v | nums[5]) == nums[8])\n",
    "        nums[3] = next(v for v in left if len(v) == 5 and nums[7].issubset(v))\n",
    "\n",
    "        reverse = {set2str(v): k for k, v in nums.items()}\n",
    "        nright = [reverse[set2str(v)] for v in right]        \n",
    "        total += list2num(nright)\n",
    "        \n",
    "    return total"
   ]
  },
  {
   "cell_type": "code",
   "execution_count": 274,
   "metadata": {},
   "outputs": [],
   "source": [
    "num2segments = {\n",
    "    0: 'abcefg',\n",
    "    1: 'cf',\n",
    "    2: 'acdeg',\n",
    "    3: 'acdfg',\n",
    "    4: 'bcdf',\n",
    "    5: 'abdfg',\n",
    "    6: 'abdefg',\n",
    "    7: 'acf',\n",
    "    8: 'abcdefg',\n",
    "    9: 'abcdfg',\n",
    "}\n",
    "\n",
    "segments2num = {v:k for k, v in segments2nums.items()}"
   ]
  },
  {
   "cell_type": "code",
   "execution_count": 313,
   "metadata": {},
   "outputs": [
    {
     "data": {
      "text/plain": [
       "Counter({'a': 8, 'b': 6, 'c': 8, 'e': 4, 'f': 9, 'g': 7, 'd': 7})"
      ]
     },
     "execution_count": 313,
     "metadata": {},
     "output_type": "execute_result"
    }
   ],
   "source": [
    "Counter(\"\".join(segments2nums.keys()))"
   ]
  },
  {
   "cell_type": "code",
   "execution_count": null,
   "metadata": {},
   "outputs": [],
   "source": []
  },
  {
   "cell_type": "code",
   "execution_count": 290,
   "metadata": {},
   "outputs": [],
   "source": [
    "a, b = sample[0]"
   ]
  },
  {
   "cell_type": "code",
   "execution_count": 292,
   "metadata": {},
   "outputs": [
    {
     "data": {
      "text/plain": [
       "['acedgfb',\n",
       " 'cdfbe',\n",
       " 'gcdfa',\n",
       " 'fbcad',\n",
       " 'dab',\n",
       " 'cefabd',\n",
       " 'cdfgeb',\n",
       " 'eafb',\n",
       " 'cagedb',\n",
       " 'ab']"
      ]
     },
     "execution_count": 292,
     "metadata": {},
     "output_type": "execute_result"
    }
   ],
   "source": [
    "a"
   ]
  },
  {
   "cell_type": "code",
   "execution_count": 295,
   "metadata": {},
   "outputs": [
    {
     "data": {
      "text/plain": [
       "set()"
      ]
     },
     "execution_count": 295,
     "metadata": {},
     "output_type": "execute_result"
    }
   ],
   "source": [
    "set(map(set2str,b)) - set(map(set2str,a))"
   ]
  },
  {
   "cell_type": "code",
   "execution_count": 308,
   "metadata": {},
   "outputs": [],
   "source": [
    "def bruteforce_b(data):\n",
    "    total = 0\n",
    "    for left, right in data:\n",
    "        for perm in itertools.permutations('abcdefg'):\n",
    "            remap = {new: orig for orig, new in zip('abcdefg', perm)}\n",
    "            translated_left = [set2str(remap[c] for c in s) for s in left]\n",
    "            if all(s in segments2nums for s in translated_left):\n",
    "                translated_right = [set2str(remap[c] for c in s) for s in right]\n",
    "                total += list2num([segments2nums[v] for v in translated_right])\n",
    "                break\n",
    "    return total"
   ]
  },
  {
   "cell_type": "code",
   "execution_count": 328,
   "metadata": {},
   "outputs": [],
   "source": [
    "def bycounts_b(data):\n",
    "    total = 0\n",
    "    # How many times is each segment used, e.g a->8\n",
    "    segment_counts = Counter(\"\".join(segments2nums.keys()))\n",
    "    # Represent each digit by a hash from the sum of its segment_counts, which is unique\n",
    "    digits = {sum(segment_counts[c] for c in segments): num for segments, num in segments2nums.items()}\n",
    "    for left, right in data:\n",
    "        segment_counts = Counter(\"\".join(left))\n",
    "        mapping = {set2str(segments): digits[sum(segment_counts[c] for c in segments)] for segments in left}\n",
    "        nright = [mapping[set2str(segments)] for segments in right]\n",
    "        total += list2num(nright)\n",
    "    return total\n",
    "        \n",
    "            "
   ]
  },
  {
   "cell_type": "code",
   "execution_count": null,
   "metadata": {},
   "outputs": [],
   "source": []
  },
  {
   "cell_type": "code",
   "execution_count": 330,
   "metadata": {},
   "outputs": [
    {
     "data": {
      "text/plain": [
       "{'abcefg': 0,\n",
       " 'cf': 1,\n",
       " 'acdeg': 2,\n",
       " 'acdfg': 3,\n",
       " 'bcdf': 4,\n",
       " 'abdfg': 5,\n",
       " 'abdefg': 6,\n",
       " 'acf': 7,\n",
       " 'abcdefg': 8,\n",
       " 'abcdfg': 9}"
      ]
     },
     "execution_count": 330,
     "metadata": {},
     "output_type": "execute_result"
    }
   ],
   "source": [
    "segments2nums"
   ]
  },
  {
   "cell_type": "code",
   "execution_count": 331,
   "metadata": {},
   "outputs": [
    {
     "name": "stdout",
     "output_type": "stream",
     "text": [
      "4\n"
     ]
    }
   ],
   "source": [
    "if (x := 2 +2) > 3:\n",
    "    print(x)\n",
    "    "
   ]
  },
  {
   "cell_type": "code",
   "execution_count": null,
   "metadata": {},
   "outputs": [],
   "source": [
    "# def byelimination_b(data):\n",
    "#     total = 0\n",
    "    \n",
    "#     len2nums = defaultdict(set)\n",
    "#     for num, segments in num2segments.items():\n",
    "#         len2nums[len(segments)].add(num)\n",
    "        \n",
    "#     for left, right in data:\n",
    "#         mapping = {}\n",
    "#         left = [normalize(s) for s in left]\n",
    "\n",
    "#         while len(mapping) < 10:\n",
    "#             for s in left:\n",
    "#                 if s not in mapping:\n",
    "#                     digits = [num for num in len2nums[len(s)] if num not in mapping.values()]\n",
    "#                     # only one option trivial\n",
    "#                     if len(digits) == 1:\n",
    "#                         mapping[s] = nums2segments[digits[0]]\n",
    "#                     # otherwise we need to take into account other digits we have learned so far\n",
    "#                     else:\n",
    "#                         digits = [\n",
    "#                             d for d in digits \n",
    "#                             if all(len(set(d)&set(c)) == len() for c in mapping)\n",
    "#                         ]\n",
    "#                         if len(digits) == 1:\n",
    "#                             mapping[s] = nums2segments[digits[0]]\n",
    "                            \n",
    "                        \n",
    "                        \n",
    "            "
   ]
  },
  {
   "cell_type": "code",
   "execution_count": null,
   "metadata": {},
   "outputs": [],
   "source": []
  },
  {
   "cell_type": "code",
   "execution_count": 309,
   "metadata": {},
   "outputs": [
    {
     "data": {
      "text/plain": [
       "5353"
      ]
     },
     "execution_count": 309,
     "metadata": {},
     "output_type": "execute_result"
    }
   ],
   "source": [
    "bruteforce_b(sample)"
   ]
  },
  {
   "cell_type": "code",
   "execution_count": 310,
   "metadata": {},
   "outputs": [
    {
     "data": {
      "text/plain": [
       "1010472"
      ]
     },
     "execution_count": 310,
     "metadata": {},
     "output_type": "execute_result"
    }
   ],
   "source": [
    "bruteforce_b(data)"
   ]
  },
  {
   "cell_type": "code",
   "execution_count": 311,
   "metadata": {},
   "outputs": [
    {
     "data": {
      "text/plain": [
       "5353"
      ]
     },
     "execution_count": 311,
     "metadata": {},
     "output_type": "execute_result"
    }
   ],
   "source": [
    "solve_b(sample)"
   ]
  },
  {
   "cell_type": "code",
   "execution_count": 268,
   "metadata": {},
   "outputs": [
    {
     "data": {
      "text/plain": [
       "61229"
      ]
     },
     "execution_count": 268,
     "metadata": {},
     "output_type": "execute_result"
    }
   ],
   "source": [
    "solve_b(sample2)"
   ]
  },
  {
   "cell_type": "code",
   "execution_count": null,
   "metadata": {},
   "outputs": [],
   "source": []
  },
  {
   "cell_type": "code",
   "execution_count": 233,
   "metadata": {},
   "outputs": [],
   "source": [
    "def solve_b(data):\n",
    "    total = 0\n",
    "    for line in data:\n",
    "        \n",
    "        left, right = line\n",
    "        one = [v for v in left if len(v) == 2][0]\n",
    "        seven = [v for v in left if len(v) == 3][0]\n",
    "        four = [v for v in left if len(v) == 4][0]\n",
    "        eight = [v for v in left if len(v) == 7][0]\n",
    "        a = \"\".join(set(seven)-set(four))\n",
    "        six = [v for v in left if set(v+seven)==set(eight) and v != eight][0]\n",
    "        c = \"\".join(set(one) - set(six))\n",
    "        f = \"\".join(set(one) - set(c))\n",
    "        zeronine = [v for v in left if len(v) == 6 and v != six]\n",
    "        bd = set(four) - set(one)\n",
    "        nine = [v for v in zeronine if bd.issubset(set(v))][0]\n",
    "        zero = [v for v in zeronine if v != nine][0]\n",
    "        d = \"\".join(set(eight) - set(zero))\n",
    "        e = \"\".join(set(eight) - set(nine))\n",
    "        b = \"\".join(set(bd) - set([d]))\n",
    "        g = \"\".join(set(eight) - set(a+b+c+d+e+f))\n",
    "\n",
    "        remap = {\n",
    "            a: 'a',\n",
    "            b: 'b',\n",
    "            c: 'c',\n",
    "            d: 'd',\n",
    "            e: 'e',\n",
    "            f: 'f',\n",
    "            g: 'g',\n",
    "        }\n",
    "\n",
    "        nums = {\n",
    "            'abcefg': 0,\n",
    "            'cf': 1,\n",
    "            'acdeg': 2,\n",
    "            'acdfg': 3,\n",
    "            'bcdf': 4,\n",
    "            'abdfg': 5,\n",
    "            'abdefg': 6,\n",
    "            'acf': 7,\n",
    "            'abcdefg': 8,\n",
    "            'abcdfg': 9,\n",
    "        }\n",
    "        \n",
    "        print(remap)\n",
    "\n",
    "        nright = [''.join(sorted(remap[c] for c in v)) for v in right]\n",
    "\n",
    "        n = int(\"\".join([str(nums[i]) for i in nright]))\n",
    "\n",
    "        total += n\n",
    "    return total"
   ]
  },
  {
   "cell_type": "code",
   "execution_count": null,
   "metadata": {},
   "outputs": [],
   "source": []
  },
  {
   "cell_type": "code",
   "execution_count": 234,
   "metadata": {},
   "outputs": [
    {
     "name": "stdout",
     "output_type": "stream",
     "text": [
      "{'d': 'a', 'g': 'b', 'b': 'c', 'c': 'd', 'a': 'e', 'e': 'f', 'f': 'g'}\n",
      "{'b': 'a', 'f': 'b', 'c': 'c', 'e': 'd', 'a': 'e', 'g': 'f', 'd': 'g'}\n",
      "{'b': 'a', 'f': 'b', 'c': 'c', 'a': 'd', 'e': 'e', 'g': 'f', 'd': 'g'}\n",
      "{'d': 'a', 'f': 'b', 'b': 'c', 'a': 'd', 'g': 'e', 'c': 'f', 'e': 'g'}\n",
      "{'b': 'a', 'c': 'b', 'f': 'c', 'e': 'd', 'd': 'e', 'g': 'f', 'a': 'g'}\n",
      "{'f': 'a', 'e': 'b', 'c': 'c', 'b': 'd', 'd': 'e', 'a': 'f', 'g': 'g'}\n",
      "{'d': 'a', 'e': 'b', 'g': 'c', 'c': 'd', 'a': 'e', 'f': 'f', 'b': 'g'}\n",
      "{'c': 'a', 'f': 'b', 'd': 'c', 'b': 'd', 'a': 'e', 'e': 'f', 'g': 'g'}\n",
      "{'b': 'a', 'd': 'b', 'c': 'c', 'e': 'd', 'a': 'e', 'g': 'f', 'f': 'g'}\n",
      "{'c': 'a', 'e': 'b', 'f': 'c', 'a': 'd', 'd': 'e', 'g': 'f', 'b': 'g'}\n"
     ]
    },
    {
     "data": {
      "text/plain": [
       "61229"
      ]
     },
     "execution_count": 234,
     "metadata": {},
     "output_type": "execute_result"
    }
   ],
   "source": [
    "solve_b(sample2)"
   ]
  },
  {
   "cell_type": "code",
   "execution_count": 161,
   "metadata": {},
   "outputs": [
    {
     "data": {
      "text/plain": [
       "1010472"
      ]
     },
     "execution_count": 161,
     "metadata": {},
     "output_type": "execute_result"
    }
   ],
   "source": [
    "\n",
    "solve_b(data)"
   ]
  },
  {
   "cell_type": "code",
   "execution_count": null,
   "metadata": {},
   "outputs": [],
   "source": []
  },
  {
   "cell_type": "code",
   "execution_count": 52,
   "metadata": {},
   "outputs": [],
   "source": [
    "sample = parses('acedgfb cdfbe gcdfa fbcad dab cefabd cdfgeb eafb cagedb ab | cdfeb fcadb cdfeb cdbaf')"
   ]
  },
  {
   "cell_type": "code",
   "execution_count": 81,
   "metadata": {},
   "outputs": [],
   "source": []
  },
  {
   "cell_type": "code",
   "execution_count": 147,
   "metadata": {},
   "outputs": [],
   "source": []
  },
  {
   "cell_type": "code",
   "execution_count": 153,
   "metadata": {},
   "outputs": [],
   "source": []
  },
  {
   "cell_type": "code",
   "execution_count": 152,
   "metadata": {},
   "outputs": [
    {
     "data": {
      "text/plain": [
       "['abdfg', 'acdfg', 'abdfg', 'acdfg']"
      ]
     },
     "execution_count": 152,
     "metadata": {},
     "output_type": "execute_result"
    }
   ],
   "source": [
    "nright"
   ]
  },
  {
   "cell_type": "code",
   "execution_count": 154,
   "metadata": {},
   "outputs": [
    {
     "data": {
      "text/plain": [
       "5353"
      ]
     },
     "execution_count": 154,
     "metadata": {},
     "output_type": "execute_result"
    }
   ],
   "source": [
    "n"
   ]
  },
  {
   "cell_type": "code",
   "execution_count": null,
   "metadata": {},
   "outputs": [],
   "source": []
  },
  {
   "cell_type": "code",
   "execution_count": 140,
   "metadata": {},
   "outputs": [
    {
     "data": {
      "text/plain": [
       "('d', 'e', 'a', 'f', 'g', 'b')"
      ]
     },
     "execution_count": 140,
     "metadata": {},
     "output_type": "execute_result"
    }
   ],
   "source": [
    "a,b,c,d,e,f"
   ]
  },
  {
   "cell_type": "code",
   "execution_count": null,
   "metadata": {},
   "outputs": [],
   "source": []
  },
  {
   "cell_type": "code",
   "execution_count": null,
   "metadata": {},
   "outputs": [],
   "source": []
  },
  {
   "cell_type": "code",
   "execution_count": 83,
   "metadata": {},
   "outputs": [
    {
     "data": {
      "text/plain": [
       "['cdfbe', 'cefabd', 'cagedb']"
      ]
     },
     "execution_count": 83,
     "metadata": {},
     "output_type": "execute_result"
    }
   ],
   "source": [
    "[v for v in left if len(set(six)-set(v))==1]"
   ]
  },
  {
   "cell_type": "code",
   "execution_count": 85,
   "metadata": {},
   "outputs": [
    {
     "data": {
      "text/plain": [
       "[('c', 7), ('d', 7), ('f', 7), ('b', 7), ('a', 6), ('e', 6), ('g', 4)]"
      ]
     },
     "execution_count": 85,
     "metadata": {},
     "output_type": "execute_result"
    }
   ],
   "source": [
    "Counter(\"\".join([v for v in left if v not in [one,seven]])).most_common()"
   ]
  },
  {
   "cell_type": "code",
   "execution_count": 86,
   "metadata": {},
   "outputs": [],
   "source": []
  },
  {
   "cell_type": "code",
   "execution_count": 88,
   "metadata": {},
   "outputs": [
    {
     "data": {
      "text/plain": [
       "({'d'}, {'a'}, {'b'})"
      ]
     },
     "execution_count": 88,
     "metadata": {},
     "output_type": "execute_result"
    }
   ],
   "source": [
    "(a,c,f)"
   ]
  },
  {
   "cell_type": "code",
   "execution_count": 87,
   "metadata": {},
   "outputs": [
    {
     "data": {
      "text/plain": [
       "{'e', 'f'}"
      ]
     },
     "execution_count": 87,
     "metadata": {},
     "output_type": "execute_result"
    }
   ],
   "source": [
    "bd"
   ]
  },
  {
   "cell_type": "code",
   "execution_count": null,
   "metadata": {},
   "outputs": [],
   "source": []
  },
  {
   "cell_type": "code",
   "execution_count": null,
   "metadata": {},
   "outputs": [],
   "source": [
    "sample = parses('16,1,2,0,4,2,7,1,2,14')"
   ]
  },
  {
   "cell_type": "code",
   "execution_count": null,
   "metadata": {},
   "outputs": [],
   "source": []
  },
  {
   "cell_type": "code",
   "execution_count": null,
   "metadata": {},
   "outputs": [],
   "source": [
    "def solve_a(data):\n",
    "    return None"
   ]
  },
  {
   "cell_type": "code",
   "execution_count": null,
   "metadata": {},
   "outputs": [],
   "source": []
  },
  {
   "cell_type": "code",
   "execution_count": null,
   "metadata": {},
   "outputs": [],
   "source": [
    "solve_a(sample)"
   ]
  },
  {
   "cell_type": "code",
   "execution_count": null,
   "metadata": {},
   "outputs": [],
   "source": []
  },
  {
   "cell_type": "code",
   "execution_count": null,
   "metadata": {},
   "outputs": [],
   "source": [
    "solution_a = solve_a(data)\n",
    "print(solution_a)"
   ]
  },
  {
   "cell_type": "code",
   "execution_count": null,
   "metadata": {},
   "outputs": [],
   "source": [
    "puzzle.answer_a = solution_a"
   ]
  },
  {
   "cell_type": "code",
   "execution_count": null,
   "metadata": {},
   "outputs": [],
   "source": [
    "def solve_b(data):\n",
    "    return None"
   ]
  },
  {
   "cell_type": "code",
   "execution_count": null,
   "metadata": {},
   "outputs": [],
   "source": [
    "solve_b(sample)"
   ]
  },
  {
   "cell_type": "code",
   "execution_count": null,
   "metadata": {},
   "outputs": [],
   "source": [
    "solution_b = solve_b(data)\n",
    "print(solution_b)\n"
   ]
  },
  {
   "cell_type": "code",
   "execution_count": null,
   "metadata": {},
   "outputs": [],
   "source": [
    "puzzle.answer_b = solution_b"
   ]
  },
  {
   "cell_type": "code",
   "execution_count": null,
   "metadata": {},
   "outputs": [],
   "source": []
  },
  {
   "cell_type": "code",
   "execution_count": null,
   "metadata": {},
   "outputs": [],
   "source": []
  }
 ],
 "metadata": {
  "kernelspec": {
   "display_name": "Python 3",
   "language": "python",
   "name": "python3"
  },
  "language_info": {
   "codemirror_mode": {
    "name": "ipython",
    "version": 3
   },
   "file_extension": ".py",
   "mimetype": "text/x-python",
   "name": "python",
   "nbconvert_exporter": "python",
   "pygments_lexer": "ipython3",
   "version": "3.8.8"
  }
 },
 "nbformat": 4,
 "nbformat_minor": 4
}
