{
 "cells": [
  {
   "cell_type": "code",
   "execution_count": 234,
   "id": "52f09380",
   "metadata": {},
   "outputs": [],
   "source": [
    "from aocd.models import Puzzle\n",
    "\n",
    "puzzle = Puzzle(year=2021, day=13)\n",
    "\n",
    "\n",
    "def parses(input):\n",
    "    coords = [tuple(x) for x in parse.findall('{:d},{:d}', input)]\n",
    "    instructions = [tuple(x) for x in parse.findall('{:l}={:d}', input)]\n",
    "    return coords, instructions\n",
    "\n",
    "data = parses(puzzle.input_data)"
   ]
  },
  {
   "cell_type": "code",
   "execution_count": 224,
   "id": "964f948a",
   "metadata": {},
   "outputs": [],
   "source": [
    "import parse"
   ]
  },
  {
   "cell_type": "code",
   "execution_count": 233,
   "id": "ec9eeb23",
   "metadata": {},
   "outputs": [
    {
     "data": {
      "text/plain": [
       "[('y', 7), ('x', 5)]"
      ]
     },
     "execution_count": 233,
     "metadata": {},
     "output_type": "execute_result"
    }
   ],
   "source": [
    "[tuple(x) for x in parse.findall('{:l}={:d}', \"\"\"6,10\n",
    "0,14\n",
    "9,10\n",
    "0,3\n",
    "10,4\n",
    "4,11\n",
    "6,0\n",
    "6,12\n",
    "4,1\n",
    "0,13\n",
    "10,12\n",
    "3,4\n",
    "3,0\n",
    "8,4\n",
    "1,10\n",
    "2,14\n",
    "8,10\n",
    "9,0\n",
    "\n",
    "fold along y=7\n",
    "fold along x=5\"\"\")]"
   ]
  },
  {
   "cell_type": "code",
   "execution_count": 143,
   "id": "96f06ded",
   "metadata": {},
   "outputs": [],
   "source": [
    "sample = parses(\"\"\"6,10\n",
    "0,14\n",
    "9,10\n",
    "0,3\n",
    "10,4\n",
    "4,11\n",
    "6,0\n",
    "6,12\n",
    "4,1\n",
    "0,13\n",
    "10,12\n",
    "3,4\n",
    "3,0\n",
    "8,4\n",
    "1,10\n",
    "2,14\n",
    "8,10\n",
    "9,0\n",
    "\n",
    "fold along y=7\n",
    "fold along x=5\"\"\")"
   ]
  },
  {
   "cell_type": "code",
   "execution_count": 144,
   "id": "8d4d23d2",
   "metadata": {},
   "outputs": [
    {
     "data": {
      "text/plain": [
       "([(6, 10),\n",
       "  (0, 14),\n",
       "  (9, 10),\n",
       "  (0, 3),\n",
       "  (10, 4),\n",
       "  (4, 11),\n",
       "  (6, 0),\n",
       "  (6, 12),\n",
       "  (4, 1),\n",
       "  (0, 13),\n",
       "  (10, 12),\n",
       "  (3, 4),\n",
       "  (3, 0),\n",
       "  (8, 4),\n",
       "  (1, 10),\n",
       "  (2, 14),\n",
       "  (8, 10),\n",
       "  (9, 0)],\n",
       " [('y', 7), ('x', 5)])"
      ]
     },
     "execution_count": 144,
     "metadata": {},
     "output_type": "execute_result"
    }
   ],
   "source": [
    "sample"
   ]
  },
  {
   "cell_type": "code",
   "execution_count": 155,
   "id": "9a36cd19",
   "metadata": {},
   "outputs": [],
   "source": [
    "def render(coords, chars='.#'):\n",
    "    N = max(j for i,j in coords)\n",
    "    M = max(i for i,j in coords)\n",
    "    s = \"\"\n",
    "    for j in range(N+1):\n",
    "        for i in range(M+1):\n",
    "            s += chars[(i,j) in coords]\n",
    "        s += '\\n'\n",
    "    return s"
   ]
  },
  {
   "cell_type": "code",
   "execution_count": 156,
   "id": "8ed34bb7",
   "metadata": {},
   "outputs": [
    {
     "name": "stdout",
     "output_type": "stream",
     "text": [
      "...#..#..#.\n",
      "....#......\n",
      "...........\n",
      "#..........\n",
      "...#....#.#\n",
      "...........\n",
      "...........\n",
      "...........\n",
      "...........\n",
      "...........\n",
      ".#....#.##.\n",
      "....#......\n",
      "......#...#\n",
      "#..........\n",
      "#.#........\n",
      "\n"
     ]
    }
   ],
   "source": [
    "print(render(sample[0]))"
   ]
  },
  {
   "cell_type": "code",
   "execution_count": 157,
   "id": "14987f9e",
   "metadata": {},
   "outputs": [],
   "source": [
    "def fold(coords, instructions):\n",
    "    coords = set(coords)\n",
    "    for dim, fold in instructions:\n",
    "        d = 'xy'.index(dim)\n",
    "        for point in list(coords):\n",
    "            if point[d] == fold:\n",
    "                coords.remove(point)\n",
    "            if point[d] > fold:\n",
    "                coords.remove(point)\n",
    "                coords.add(tuple(v if i != d else 2*fold-v \n",
    "                                 for i, v in enumerate(point)))\n",
    "    return coords"
   ]
  },
  {
   "cell_type": "code",
   "execution_count": 158,
   "id": "2649a551",
   "metadata": {},
   "outputs": [],
   "source": [
    "def solve_a(data):\n",
    "    coords, instructions = data\n",
    "    return len(fold(coords, instructions[:1]))"
   ]
  },
  {
   "cell_type": "code",
   "execution_count": 159,
   "id": "134498d6",
   "metadata": {},
   "outputs": [
    {
     "data": {
      "text/plain": [
       "17"
      ]
     },
     "execution_count": 159,
     "metadata": {},
     "output_type": "execute_result"
    }
   ],
   "source": [
    "solve_a(sample)"
   ]
  },
  {
   "cell_type": "code",
   "execution_count": 160,
   "id": "32dd7d5e",
   "metadata": {},
   "outputs": [
    {
     "data": {
      "text/plain": [
       "814"
      ]
     },
     "execution_count": 160,
     "metadata": {},
     "output_type": "execute_result"
    }
   ],
   "source": [
    "solve_a(data)"
   ]
  },
  {
   "cell_type": "code",
   "execution_count": 171,
   "id": "dab07401",
   "metadata": {},
   "outputs": [],
   "source": [
    "coords = fold(*data)"
   ]
  },
  {
   "cell_type": "code",
   "execution_count": 176,
   "id": "40a1cad1",
   "metadata": {},
   "outputs": [
    {
     "data": {
      "text/plain": [
       "<matplotlib.image.AxesImage at 0x7ff0477746d0>"
      ]
     },
     "execution_count": 176,
     "metadata": {},
     "output_type": "execute_result"
    },
    {
     "data": {
      "image/png": "[encoded data removed]",
      "text/plain": [
       "<Figure size 460.8x403.2 with 1 Axes>"
      ]
     },
     "metadata": {},
     "output_type": "display_data"
    }
   ],
   "source": [
    "\n",
    "plt.imshow(im.T)"
   ]
  },
  {
   "cell_type": "code",
   "execution_count": 236,
   "id": "7b3dfbe7",
   "metadata": {},
   "outputs": [
    {
     "name": "stdout",
     "output_type": "stream",
     "text": [
      "###..####.####.#..#.###...##..####.###.\n",
      "#..#....#.#....#..#.#..#.#..#.#....#..#\n",
      "#..#...#..###..####.#..#.#..#.###..#..#\n",
      "###...#...#....#..#.###..####.#....###.\n",
      "#....#....#....#..#.#.#..#..#.#....#.#.\n",
      "#....####.####.#..#.#..#.#..#.####.#..#\n",
      "\n"
     ]
    }
   ],
   "source": [
    "print(render(fold(*data)))"
   ]
  },
  {
   "cell_type": "code",
   "execution_count": 237,
   "id": "bb8d8b2c",
   "metadata": {},
   "outputs": [
    {
     "name": "stdout",
     "output_type": "stream",
     "text": [
      "███  ████ ████ █  █ ███   ██  ████ ███ \n",
      "█  █    █ █    █  █ █  █ █  █ █    █  █\n",
      "█  █   █  ███  ████ █  █ █  █ ███  █  █\n",
      "███   █   █    █  █ ███  ████ █    ███ \n",
      "█    █    █    █  █ █ █  █  █ █    █ █ \n",
      "█    ████ ████ █  █ █  █ █  █ ████ █  █\n",
      "\n"
     ]
    }
   ],
   "source": [
    "print(render(fold(*data), chars=' █'))\n"
   ]
  },
  {
   "cell_type": "code",
   "execution_count": 164,
   "id": "7c4bfce6",
   "metadata": {},
   "outputs": [],
   "source": [
    "def solve_b(data):\n",
    "    print(render(fold(*data), chars=' █'))\n"
   ]
  },
  {
   "cell_type": "code",
   "execution_count": null,
   "id": "cf2b4872",
   "metadata": {},
   "outputs": [],
   "source": [
    "from PIL import Image\n",
    "import pytesseract"
   ]
  },
  {
   "cell_type": "code",
   "execution_count": null,
   "id": "0778f9d0",
   "metadata": {},
   "outputs": [],
   "source": [
    "def overkill_b(data):\n",
    "    coords = fold(*data)\n",
    "    N = max(i for i,j in coords)+1\n",
    "    M = max(j for i,j in coords)+1\n",
    "    im = np.zeros((N,M))\n",
    "    for x,y in coords:\n",
    "        im[x,y] = 1\n",
    "    im2 = Image.fromarray(255*(1-np.pad(im.T,2))).convert('RGB')\n",
    "    H, W = im2.size\n",
    "    imL = im2.resize((H*7,W*7),  Image.NEAREST)\n",
    "    ocr = pytesseract.image_to_string(imL).strip()\n",
    "    print(ocr)\n",
    "    return ocr"
   ]
  },
  {
   "cell_type": "code",
   "execution_count": 177,
   "id": "7e59bc75",
   "metadata": {},
   "outputs": [],
   "source": []
  },
  {
   "cell_type": "code",
   "execution_count": 179,
   "id": "60f79983",
   "metadata": {},
   "outputs": [],
   "source": []
  },
  {
   "cell_type": "code",
   "execution_count": null,
   "id": "1d45e80c",
   "metadata": {},
   "outputs": [],
   "source": []
  },
  {
   "cell_type": "code",
   "execution_count": 221,
   "id": "15fbd3b0",
   "metadata": {},
   "outputs": [],
   "source": []
  },
  {
   "cell_type": "code",
   "execution_count": 222,
   "id": "f58789c9",
   "metadata": {},
   "outputs": [
    {
     "data": {
      "text/plain": [
       "'PZEHRAER'"
      ]
     },
     "execution_count": 222,
     "metadata": {},
     "output_type": "execute_result"
    }
   ],
   "source": []
  },
  {
   "cell_type": "code",
   "execution_count": 223,
   "id": "30156a44",
   "metadata": {},
   "outputs": [
    {
     "data": {
      "image/png": "[encoded data removed]",
      "text/plain": [
       "<PIL.Image.Image image mode=RGB size=301x70 at 0x7FF02AD14160>"
      ]
     },
     "execution_count": 223,
     "metadata": {},
     "output_type": "execute_result"
    }
   ],
   "source": [
    "imL"
   ]
  },
  {
   "cell_type": "code",
   "execution_count": 165,
   "id": "c34027b8",
   "metadata": {},
   "outputs": [
    {
     "name": "stdout",
     "output_type": "stream",
     "text": [
      "█████\n",
      "█   █\n",
      "█   █\n",
      "█   █\n",
      "█████\n",
      "\n"
     ]
    }
   ],
   "source": [
    "solve_b(sample)"
   ]
  },
  {
   "cell_type": "code",
   "execution_count": 166,
   "id": "e2e51700",
   "metadata": {},
   "outputs": [
    {
     "name": "stdout",
     "output_type": "stream",
     "text": [
      "███  ████ ████ █  █ ███   ██  ████ ███ \n",
      "█  █    █ █    █  █ █  █ █  █ █    █  █\n",
      "█  █   █  ███  ████ █  █ █  █ ███  █  █\n",
      "███   █   █    █  █ ███  ████ █    ███ \n",
      "█    █    █    █  █ █ █  █  █ █    █ █ \n",
      "█    ████ ████ █  █ █  █ █  █ ████ █  █\n",
      "\n"
     ]
    }
   ],
   "source": [
    "solve_b(data)"
   ]
  },
  {
   "cell_type": "code",
   "execution_count": 75,
   "id": "583ab700",
   "metadata": {},
   "outputs": [],
   "source": [
    "class BitFont:\n",
    "    \"\"\"A BitFont provides logic for plotting pixels from a fixed-height font, using columns of bits indexed from a bytearray\"\"\"\n",
    "\n",
    "    asciiFirst = 32\n",
    "    asciiEnd = 127\n",
    "    asciiNewline = ord(\"\\n\")\n",
    "\n",
    "    def __init__(self, file):\n",
    "        self.file = open(file, \"rb\")\n",
    "        # Fonts have constant height but not all have constant width\n",
    "        self.height = int.from_bytes(self.file.read(1), \"big\")\n",
    "        self.widths = [\n",
    "            int.from_bytes(self.file.read(1), \"big\")\n",
    "            for _ in range(self.asciiFirst, self.asciiEnd)\n",
    "        ]\n",
    "        self.bounds = [\n",
    "            int.from_bytes(self.file.read(2), \"big\")\n",
    "            for _ in range(self.asciiFirst, self.asciiEnd + 1)\n",
    "        ]\n",
    "\n",
    "#     def _load_char(self, char):\n",
    "#         idx = char - self.asciiFirst\n",
    "#         start = self.bounds[idx]\n",
    "#         end = self.bounds[idx + 1]\n",
    "#         self.file.seek(start)\n",
    "#         width = self.widths[idx]\n",
    "#         data = bytearray(self.file.read(end - start))\n",
    "#         char_buf = framebuf.FrameBuffer(data, width, self.height, framebuf.MONO_HLSB)\n",
    "#         return char_buf\n",
    "\n",
    "#     def draw_char(self, char, fbuf, x, y):\n",
    "#         if isinstance(char, str):\n",
    "#             char = ord(char)\n",
    "#         assert self.asciiFirst <= char < self.asciiEnd, \"No \\b{} in face\".format(char)\n",
    "#         char_buf = self._load_char(char)\n",
    "#         fbuf.blit(char_buf, x, y, 0)\n",
    "\n",
    "#     def draw_text(self, line, fbuf, x, y):\n",
    "#         if isinstance(line, str):\n",
    "#             line = bytes(line, \"ascii\")\n",
    "#         dx, dy = 0, 0\n",
    "#         for char in line:\n",
    "#             if char == ord(\"\\n\"):\n",
    "#                 dx = 0\n",
    "#                 dy += self.height\n",
    "#             else:\n",
    "#                 self.draw_char(char, fbuf, x + dx, y + dy)\n",
    "#                 dx += self.widths[char - self.asciiFirst]\n"
   ]
  },
  {
   "cell_type": "code",
   "execution_count": 120,
   "id": "a47b3367",
   "metadata": {},
   "outputs": [],
   "source": [
    "path = '/Users/josejavier/Sync/projects/esp8266/micropython/lib/fonts/5x7.bin'\n",
    "f = BitFont(path)"
   ]
  },
  {
   "cell_type": "code",
   "execution_count": 121,
   "id": "e24d15eb",
   "metadata": {},
   "outputs": [
    {
     "data": {
      "text/plain": [
       "65"
      ]
     },
     "execution_count": 121,
     "metadata": {},
     "output_type": "execute_result"
    }
   ],
   "source": [
    "ord('A')"
   ]
  },
  {
   "cell_type": "code",
   "execution_count": 128,
   "id": "ffd506e9",
   "metadata": {},
   "outputs": [],
   "source": [
    "char = 65\n",
    "self = f"
   ]
  },
  {
   "cell_type": "code",
   "execution_count": 129,
   "id": "88e35afb",
   "metadata": {},
   "outputs": [
    {
     "data": {
      "text/plain": [
       "519"
      ]
     },
     "execution_count": 129,
     "metadata": {},
     "output_type": "execute_result"
    }
   ],
   "source": [
    "idx = char - self.asciiFirst\n",
    "start = self.bounds[idx]\n",
    "end = self.bounds[idx + 1]\n",
    "self.file.seek(start)"
   ]
  },
  {
   "cell_type": "code",
   "execution_count": 130,
   "id": "edc44d51",
   "metadata": {},
   "outputs": [],
   "source": [
    "width = self.widths[idx]\n"
   ]
  },
  {
   "cell_type": "code",
   "execution_count": 131,
   "id": "9685dc8f",
   "metadata": {},
   "outputs": [],
   "source": [
    "data = bytearray(self.file.read(end - start))\n"
   ]
  },
  {
   "cell_type": "code",
   "execution_count": 132,
   "id": "b4651e74",
   "metadata": {},
   "outputs": [
    {
     "data": {
      "text/plain": [
       "[bytearray(b'`\\x90\\x90\\xf0\\x90\\x90\\x00')]"
      ]
     },
     "execution_count": 132,
     "metadata": {},
     "output_type": "execute_result"
    }
   ],
   "source": [
    "[data]"
   ]
  },
  {
   "cell_type": "code",
   "execution_count": 135,
   "id": "fde69894",
   "metadata": {},
   "outputs": [
    {
     "data": {
      "text/plain": [
       "<matplotlib.image.AxesImage at 0x7ff04745cc70>"
      ]
     },
     "execution_count": 135,
     "metadata": {},
     "output_type": "execute_result"
    },
    {
     "data": {
      "image/png": "[encoded data removed]",
      "text/plain": [
       "<Figure size 460.8x403.2 with 1 Axes>"
      ]
     },
     "metadata": {},
     "output_type": "display_data"
    }
   ],
   "source": [
    "[[int(bool(byte & 2**i)) for i in range(7,3,-1)] for byte in data]"
   ]
  },
  {
   "cell_type": "code",
   "execution_count": 119,
   "id": "ec3c4317",
   "metadata": {},
   "outputs": [
    {
     "data": {
      "text/plain": [
       "array([  0,  96, 144, 144, 240, 144, 144], dtype=uint8)"
      ]
     },
     "execution_count": 119,
     "metadata": {},
     "output_type": "execute_result"
    }
   ],
   "source": [
    "np.frombuffer(data, dtype=np.uint8)"
   ]
  },
  {
   "cell_type": "code",
   "execution_count": 117,
   "id": "63b151f1",
   "metadata": {},
   "outputs": [
    {
     "data": {
      "text/plain": [
       "['0b0',\n",
       " '0b1100000',\n",
       " '0b10010000',\n",
       " '0b10010000',\n",
       " '0b11110000',\n",
       " '0b10010000',\n",
       " '0b10010000']"
      ]
     },
     "execution_count": 117,
     "metadata": {},
     "output_type": "execute_result"
    }
   ],
   "source": [
    "[bin(i) for i in np.frombuffer(data, dtype=np.uint8)]"
   ]
  },
  {
   "cell_type": "code",
   "execution_count": 111,
   "id": "d792c9c8",
   "metadata": {},
   "outputs": [
    {
     "data": {
      "text/plain": [
       "[[1, 1, 0, 0, 0, 0, 0],\n",
       " [1, 0, 0, 1, 0, 0, 0, 0],\n",
       " [1, 0, 0, 1, 0, 0, 0, 0],\n",
       " [1, 1, 1, 1, 0, 0, 0, 0],\n",
       " [1, 0, 0, 1, 0, 0, 0, 0],\n",
       " [1, 0, 0, 1, 0, 0, 0, 0],\n",
       " [0]]"
      ]
     },
     "execution_count": 111,
     "metadata": {},
     "output_type": "execute_result"
    }
   ],
   "source": [
    "[[int(j) for j in bin(i)[2:]] for i in np.frombuffer(data, dtype=np.uint8)]"
   ]
  },
  {
   "cell_type": "code",
   "execution_count": null,
   "id": "580e7a4e",
   "metadata": {},
   "outputs": [],
   "source": []
  }
 ],
 "metadata": {
  "kernelspec": {
   "display_name": "Python 3",
   "language": "python",
   "name": "python3"
  },
  "language_info": {
   "codemirror_mode": {
    "name": "ipython",
    "version": 3
   },
   "file_extension": ".py",
   "mimetype": "text/x-python",
   "name": "python",
   "nbconvert_exporter": "python",
   "pygments_lexer": "ipython3",
   "version": "3.8.8"
  }
 },
 "nbformat": 4,
 "nbformat_minor": 5
}
