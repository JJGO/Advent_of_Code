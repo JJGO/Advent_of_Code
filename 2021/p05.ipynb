{
 "cells": [
  {
   "cell_type": "code",
   "execution_count": 12,
   "metadata": {},
   "outputs": [],
   "source": [
    "from aocd.models import Puzzle\n",
    "\n",
    "puzzle = Puzzle(year=2021, day=5)\n",
    "\n",
    "def parses(input):\n",
    "    x = [parse.parse('{:d},{:d} -> {:d},{:d}', line).fixed for line in input.strip().split('\\n')]\n",
    "    return np.array(x)\n",
    "\n",
    "data = parses(puzzle.input_data)"
   ]
  },
  {
   "cell_type": "code",
   "execution_count": 13,
   "metadata": {},
   "outputs": [],
   "source": [
    "sample = parses(\"\"\"0,9 -> 5,9\n",
    "8,0 -> 0,8\n",
    "9,4 -> 3,4\n",
    "2,2 -> 2,1\n",
    "7,0 -> 7,4\n",
    "6,4 -> 2,0\n",
    "0,9 -> 2,9\n",
    "3,4 -> 1,4\n",
    "0,0 -> 8,8\n",
    "5,5 -> 8,2\"\"\")"
   ]
  },
  {
   "cell_type": "code",
   "execution_count": 14,
   "metadata": {},
   "outputs": [],
   "source": [
    "def overlapHV(points):\n",
    "    xmin, ymin = points.min(0).reshape(2,2).min(0)\n",
    "    xmax, ymax = points.max(0).reshape(2,2).max(0)\n",
    "    board = np.zeros(((xmax-xmin)+1,(ymax-ymin)+1))\n",
    "    points -= np.array([[xmin, ymin, xmin, ymin]])\n",
    "    for x1, y1, x2, y2 in points:\n",
    "        if x1 == x2 or y1 == y2:\n",
    "            if x1 > x2:\n",
    "                x1, x2 = x2, x1\n",
    "            if y1 > y2:\n",
    "                y1, y2 = y2, y1\n",
    "            board[x1:x2+1,y1:y2+1] += 1\n",
    "    return (board > 1).sum()"
   ]
  },
  {
   "cell_type": "code",
   "execution_count": 4,
   "metadata": {},
   "outputs": [
    {
     "data": {
      "text/plain": [
       "6005"
      ]
     },
     "execution_count": 4,
     "metadata": {},
     "output_type": "execute_result"
    }
   ],
   "source": [
    "overlapHV(data)"
   ]
  },
  {
   "cell_type": "code",
   "execution_count": 5,
   "metadata": {},
   "outputs": [
    {
     "data": {
      "text/plain": [
       "5"
      ]
     },
     "execution_count": 5,
     "metadata": {},
     "output_type": "execute_result"
    }
   ],
   "source": [
    "overlapHV(sample)"
   ]
  },
  {
   "cell_type": "code",
   "execution_count": 6,
   "metadata": {},
   "outputs": [],
   "source": [
    "def overlap(points, part='a'):\n",
    "    xmin, ymin = points.min(0).reshape(2,2).min(0)\n",
    "    xmax, ymax = points.max(0).reshape(2,2).max(0)\n",
    "    board = np.zeros(((xmax-xmin)+1,(ymax-ymin)+1))\n",
    "    points -= np.array([[xmin, ymin, xmin, ymin]])\n",
    "    for x1, y1, x2, y2 in points:\n",
    "        if (x1 == x2 or y1 == y2) or part == 'b':\n",
    "            xs = np.arange(x1,x2+1) if x1 <= x2 else np.arange(x1,x2-1,-1)\n",
    "            ys = np.arange(y1,y2+1) if y1 <= y2 else np.arange(y1,y2-1,-1)\n",
    "            board[xs,ys] += 1\n",
    "    return (board > 1).sum()"
   ]
  },
  {
   "cell_type": "code",
   "execution_count": 7,
   "metadata": {},
   "outputs": [],
   "source": [
    "\n",
    "def overlap(points, part=\"a\"):\n",
    "    board = defaultdict(int)\n",
    "    for x1, y1, x2, y2 in points:\n",
    "        if (x1 == x2 or y1 == y2) or part == \"b\":\n",
    "            if x1 < x2:\n",
    "                xs = range(x1, x2 + 1)\n",
    "            elif x1 > x2:\n",
    "                xs = range(x1, x2 - 1, -1)\n",
    "            else:\n",
    "                xs = itertools.repeat(x1)\n",
    "            if y1 < y2:\n",
    "                ys = range(y1, y2 + 1)\n",
    "            elif y1 > y2:\n",
    "                ys = range(y1, y2 - 1, -1)\n",
    "            else:\n",
    "                ys = itertools.repeat(y1)\n",
    "            for x, y in zip(xs, ys):\n",
    "                board[x, y] += 1\n",
    "    print(sum(board.values()))\n",
    "    return sum(1 for v in board.values() if v > 1)"
   ]
  },
  {
   "cell_type": "code",
   "execution_count": 8,
   "metadata": {},
   "outputs": [],
   "source": [
    "def overlap_npc(points, part='a'):\n",
    "    points = np.array(points).reshape((len(points), 2, 2))\n",
    "    allpoints = np.vstack([\n",
    "        p[0] + np.outer(np.arange(1+p.ptp(0).max()), np.sign(p[1]-p[0]))\n",
    "        for p in points if p.ptp(0).min() == 0 or part == 'b'\n",
    "    ])\n",
    "    _, counts = np.unique(allpoints, axis=0, return_counts=True)\n",
    "    return (counts > 1).sum()"
   ]
  },
  {
   "cell_type": "code",
   "execution_count": 17,
   "metadata": {},
   "outputs": [
    {
     "name": "stdout",
     "output_type": "stream",
     "text": [
      "(556,) (556,) (556,)\n",
      "True\n",
      "False\n",
      "True\n",
      "\n",
      "[380 381 382 383 384]\n",
      "[380 381 381 383 384]\n",
      "\n",
      "[386 387 388 389 390]\n",
      "[386 387 387 389 390]\n",
      "\n",
      "[392 393 394 395 396]\n",
      "[392 393 393 395 396]\n",
      "\n",
      "[398 399 400 401 402]\n",
      "[398 399 399 401 402]\n",
      "\n",
      "[404 405 406 407 408]\n",
      "[404 405 405 407 408]\n",
      "\n",
      "[410 411 412 413 414]\n",
      "[410 411 411 413 414]\n",
      "\n",
      "[416 417 418 419 420]\n",
      "[416 417 417 419 420]\n",
      "\n"
     ]
    }
   ],
   "source": [
    "x1, x2, y = 11, 566, 981\n",
    "a = np.linspace(x1, x2, x2-x1+1, dtype=np.int32)\n",
    "b = np.linspace([x1,y], [x2,y], x2-x1+1, dtype=np.int32)[:,0]\n",
    "b2 = np.linspace([x1,y], [x2,y], x2-x1+1, dtype=np.float32)[:,0].astype(np.int32)\n",
    "c = np.arange(x1, x2+1)\n",
    "\n",
    "print(a.shape, b.shape, c.shape)\n",
    "print((a == c).all())\n",
    "print((b == c).all())\n",
    "print((b2 == c).all())\n",
    "\n",
    "print()\n",
    "\n",
    "for i in np.where(b != c)[0]:\n",
    "    print(a[i-2:i+3])\n",
    "    print(b[i-2:i+3])\n",
    "    print()"
   ]
  },
  {
   "cell_type": "code",
   "execution_count": 11,
   "metadata": {},
   "outputs": [
    {
     "name": "stdout",
     "output_type": "stream",
     "text": [
      "(556,) (556,) (556,)\n",
      "True\n",
      "False\n",
      "False\n",
      "\n",
      "[380 381 382 383 384]\n",
      "[380 381 381 383 384]\n",
      "\n",
      "[386 387 388 389 390]\n",
      "[386 387 387 389 390]\n",
      "\n",
      "[392 393 394 395 396]\n",
      "[392 393 393 395 396]\n",
      "\n",
      "[398 399 400 401 402]\n",
      "[398 399 399 401 402]\n",
      "\n",
      "[404 405 406 407 408]\n",
      "[404 405 405 407 408]\n",
      "\n",
      "[410 411 412 413 414]\n",
      "[410 411 411 413 414]\n",
      "\n",
      "[416 417 418 419 420]\n",
      "[416 417 417 419 420]\n",
      "\n"
     ]
    }
   ],
   "source": [
    "x1, x2, y = 11, 566, 981\n",
    "a = np.linspace(x1, x2, x2-x1+1, dtype=np.int64)\n",
    "b = np.linspace([x1,y], [x2,y], x2-x1+1, dtype=np.int64)[:,0]\n",
    "b2 = np.linspace([x1,y], [x2,y], x2-x1+1, dtype=np.float64)[:,0].astype(np.int64)\n",
    "c = np.arange(x1, x2+1)\n",
    "\n",
    "print(a.shape, b.shape, c.shape)\n",
    "print((a == c).all())\n",
    "print((b == c).all())\n",
    "print((b2 == c).all())\n",
    "\n",
    "print()\n",
    "\n",
    "for i in np.where(b != c)[0]:\n",
    "    print(a[i-2:i+3])\n",
    "    print(b[i-2:i+3])\n",
    "    print()"
   ]
  },
  {
   "cell_type": "markdown",
   "metadata": {},
   "source": []
  },
  {
   "cell_type": "code",
   "execution_count": null,
   "metadata": {},
   "outputs": [],
   "source": []
  },
  {
   "cell_type": "code",
   "execution_count": null,
   "metadata": {},
   "outputs": [],
   "source": []
  },
  {
   "cell_type": "code",
   "execution_count": 8,
   "metadata": {},
   "outputs": [
    {
     "name": "stdout",
     "output_type": "stream",
     "text": [
      "True\n"
     ]
    }
   ],
   "source": [
    "b = np.linspace([x1,y], [x2,y], x2-x1+1, dtype=np.int32)[:,0]\n",
    "b2 = np.linspace([x1,y], [x2,y], x2-x1+1, dtype=np.float32)[:,0].astype(np.int32)\n",
    "\n",
    "print((b == b2).all())\n",
    "\n",
    "for i in np.where(b != b2)[0]:\n",
    "    print(b[i-2:i+3])\n",
    "    print(b2[i-2:i+3])\n",
    "    print()"
   ]
  },
  {
   "cell_type": "code",
   "execution_count": 9,
   "metadata": {},
   "outputs": [
    {
     "name": "stdout",
     "output_type": "stream",
     "text": [
      "True\n",
      "True\n"
     ]
    }
   ],
   "source": [
    "b = np.linspace([x1,y], [x2,y], x2-x1+1, dtype=np.int64)[:,0]\n",
    "b2 = np.linspace([x1,y], [x2,y], x2-x1+1, dtype=np.float64)[:,0].astype(np.int64)\n",
    "\n",
    "print((b == b2).all())\n",
    "print((c == b2).all())\n",
    "\n",
    "\n",
    "for i in np.where(c != b2)[0]:\n",
    "    print(c[i-2:i+3])\n",
    "    print(b2[i-2:i+3])\n",
    "    print()"
   ]
  },
  {
   "cell_type": "code",
   "execution_count": null,
   "metadata": {},
   "outputs": [],
   "source": []
  },
  {
   "cell_type": "code",
   "execution_count": 5,
   "metadata": {},
   "outputs": [
    {
     "name": "stdout",
     "output_type": "stream",
     "text": [
      "(556,) (556,) (556,)\n",
      "True\n",
      "True\n"
     ]
    }
   ],
   "source": [
    "x1, x2, y = 11, 566, 981\n",
    "a = np.linspace(x1, x2, x2-x1+1, dtype=np.float32).astype(np.int32)\n",
    "b = np.linspace([x1,y], [x2,y], x2-x1+1, dtype=np.float32)[:,0].astype(np.int32)\n",
    "c = np.arange(x1, x2+1)\n",
    "print(a.shape, b.shape, c.shape)\n",
    "print((a == c).all())\n",
    "print((b == c).all())\n",
    "\n",
    "for i in np.where(b != c)[0]:\n",
    "    print(a[i-2:i+3])\n",
    "    print(b[i-2:i+3])\n",
    "    print()"
   ]
  },
  {
   "cell_type": "code",
   "execution_count": null,
   "metadata": {},
   "outputs": [],
   "source": []
  },
  {
   "cell_type": "code",
   "execution_count": 6,
   "metadata": {},
   "outputs": [
    {
     "name": "stdout",
     "output_type": "stream",
     "text": [
      "(61,) (61,) (61,)\n",
      "True\n",
      "True\n"
     ]
    }
   ],
   "source": [
    "x1, x2, y = 40, 100, 200\n",
    "a = np.linspace(x1, x2, x2-x1+1, dtype=np.int32)\n",
    "b = np.linspace([x1,y], [x2,y], x2-x1+1, dtype=np.int32)[:,0]\n",
    "c = np.arange(x1, x2+1)\n",
    "print(a.shape, b.shape, c.shape)\n",
    "print((a == c).all())\n",
    "print((b == c).all())\n",
    "\n",
    "for i in np.where(b != c)[0]:\n",
    "    print(a[i-2:i+3])\n",
    "    print(b[i-2:i+3])\n",
    "    print()\n",
    "\n"
   ]
  },
  {
   "cell_type": "code",
   "execution_count": null,
   "metadata": {},
   "outputs": [],
   "source": []
  },
  {
   "cell_type": "code",
   "execution_count": 425,
   "metadata": {},
   "outputs": [
    {
     "name": "stderr",
     "output_type": "stream",
     "text": [
      "<ipython-input-425-6db3832f1084>:1: DeprecationWarning: elementwise comparison failed; this will raise an error in the future.\n",
      "  (np.linspace(np.array([981,566]),np.array([981,11]),567, dtype=np.int32)[:,1] == np.arange(566,10,-1)).all()\n"
     ]
    },
    {
     "ename": "AttributeError",
     "evalue": "'bool' object has no attribute 'all'",
     "output_type": "error",
     "traceback": [
      "\u001b[0;31m---------------------------------------------------------------------------\u001b[0m",
      "\u001b[0;31mAttributeError\u001b[0m                            Traceback (most recent call last)",
      "\u001b[0;32m<ipython-input-425-6db3832f1084>\u001b[0m in \u001b[0;36m<module>\u001b[0;34m\u001b[0m\n\u001b[0;32m----> 1\u001b[0;31m \u001b[0;34m(\u001b[0m\u001b[0mnp\u001b[0m\u001b[0;34m.\u001b[0m\u001b[0mlinspace\u001b[0m\u001b[0;34m(\u001b[0m\u001b[0mnp\u001b[0m\u001b[0;34m.\u001b[0m\u001b[0marray\u001b[0m\u001b[0;34m(\u001b[0m\u001b[0;34m[\u001b[0m\u001b[0;36m981\u001b[0m\u001b[0;34m,\u001b[0m\u001b[0;36m566\u001b[0m\u001b[0;34m]\u001b[0m\u001b[0;34m)\u001b[0m\u001b[0;34m,\u001b[0m\u001b[0mnp\u001b[0m\u001b[0;34m.\u001b[0m\u001b[0marray\u001b[0m\u001b[0;34m(\u001b[0m\u001b[0;34m[\u001b[0m\u001b[0;36m981\u001b[0m\u001b[0;34m,\u001b[0m\u001b[0;36m11\u001b[0m\u001b[0;34m]\u001b[0m\u001b[0;34m)\u001b[0m\u001b[0;34m,\u001b[0m\u001b[0;36m567\u001b[0m\u001b[0;34m,\u001b[0m \u001b[0mdtype\u001b[0m\u001b[0;34m=\u001b[0m\u001b[0mnp\u001b[0m\u001b[0;34m.\u001b[0m\u001b[0mint32\u001b[0m\u001b[0;34m)\u001b[0m\u001b[0;34m[\u001b[0m\u001b[0;34m:\u001b[0m\u001b[0;34m,\u001b[0m\u001b[0;36m1\u001b[0m\u001b[0;34m]\u001b[0m \u001b[0;34m==\u001b[0m \u001b[0mnp\u001b[0m\u001b[0;34m.\u001b[0m\u001b[0marange\u001b[0m\u001b[0;34m(\u001b[0m\u001b[0;36m566\u001b[0m\u001b[0;34m,\u001b[0m\u001b[0;36m10\u001b[0m\u001b[0;34m,\u001b[0m\u001b[0;34m-\u001b[0m\u001b[0;36m1\u001b[0m\u001b[0;34m)\u001b[0m\u001b[0;34m)\u001b[0m\u001b[0;34m.\u001b[0m\u001b[0mall\u001b[0m\u001b[0;34m(\u001b[0m\u001b[0;34m)\u001b[0m\u001b[0;34m\u001b[0m\u001b[0;34m\u001b[0m\u001b[0m\n\u001b[0m",
      "\u001b[0;31mAttributeError\u001b[0m: 'bool' object has no attribute 'all'"
     ]
    }
   ],
   "source": [
    "( == ).all()"
   ]
  },
  {
   "cell_type": "code",
   "execution_count": 423,
   "metadata": {},
   "outputs": [
    {
     "data": {
      "text/plain": [
       "array([[  0, 404, 404,   0],\n",
       "       [735,  73, 316,  73],\n",
       "       [981, 566, 981,  11],\n",
       "       ...,\n",
       "       [672, 152, 672, 842],\n",
       "       [468, 825, 468, 911],\n",
       "       [673, 731, 267, 325]])"
      ]
     },
     "execution_count": 423,
     "metadata": {},
     "output_type": "execute_result"
    }
   ],
   "source": [
    "data"
   ]
  },
  {
   "cell_type": "code",
   "execution_count": 3,
   "metadata": {},
   "outputs": [
    {
     "ename": "NameError",
     "evalue": "name 'p' is not defined",
     "output_type": "error",
     "traceback": [
      "\u001b[0;31m---------------------------------------------------------------------------\u001b[0m",
      "\u001b[0;31mNameError\u001b[0m                                 Traceback (most recent call last)",
      "\u001b[0;32m<ipython-input-3-7e09a61a9914>\u001b[0m in \u001b[0;36m<module>\u001b[0;34m\u001b[0m\n\u001b[0;32m----> 1\u001b[0;31m \u001b[0mnp\u001b[0m\u001b[0;34m.\u001b[0m\u001b[0marange\u001b[0m\u001b[0;34m(\u001b[0m\u001b[0;36m1\u001b[0m\u001b[0;34m+\u001b[0m\u001b[0mp\u001b[0m\u001b[0;34m.\u001b[0m\u001b[0mptp\u001b[0m\u001b[0;34m(\u001b[0m\u001b[0;36m0\u001b[0m\u001b[0;34m)\u001b[0m\u001b[0;34m.\u001b[0m\u001b[0mmax\u001b[0m\u001b[0;34m(\u001b[0m\u001b[0;34m)\u001b[0m\u001b[0;34m)\u001b[0m\u001b[0;34m\u001b[0m\u001b[0;34m\u001b[0m\u001b[0m\n\u001b[0m",
      "\u001b[0;31mNameError\u001b[0m: name 'p' is not defined"
     ]
    }
   ],
   "source": [
    "np.arange(1+p.ptp(0).max())"
   ]
  },
  {
   "cell_type": "code",
   "execution_count": 402,
   "metadata": {},
   "outputs": [
    {
     "data": {
      "text/plain": [
       "array([ 0, -1])"
      ]
     },
     "execution_count": 402,
     "metadata": {},
     "output_type": "execute_result"
    }
   ],
   "source": [
    "np.sign(p[1]-p[0])"
   ]
  },
  {
   "cell_type": "code",
   "execution_count": null,
   "metadata": {},
   "outputs": [],
   "source": []
  },
  {
   "cell_type": "code",
   "execution_count": 418,
   "metadata": {},
   "outputs": [
    {
     "name": "stdout",
     "output_type": "stream",
     "text": [
      "114149\n"
     ]
    },
    {
     "data": {
      "text/plain": [
       "6005"
      ]
     },
     "execution_count": 418,
     "metadata": {},
     "output_type": "execute_result"
    }
   ],
   "source": [
    "overlap(data)"
   ]
  },
  {
   "cell_type": "code",
   "execution_count": 365,
   "metadata": {},
   "outputs": [
    {
     "name": "stdout",
     "output_type": "stream",
     "text": [
      "206226\n"
     ]
    },
    {
     "data": {
      "text/plain": [
       "23848"
      ]
     },
     "execution_count": 365,
     "metadata": {},
     "output_type": "execute_result"
    }
   ],
   "source": [
    "overlap(data, 'b')"
   ]
  },
  {
   "cell_type": "code",
   "execution_count": null,
   "metadata": {},
   "outputs": [],
   "source": []
  },
  {
   "cell_type": "code",
   "execution_count": 393,
   "metadata": {},
   "outputs": [
    {
     "data": {
      "text/plain": [
       "array([[  0, 404, 404,   0],\n",
       "       [735,  73, 316,  73],\n",
       "       [981, 566, 981,  11]])"
      ]
     },
     "execution_count": 393,
     "metadata": {},
     "output_type": "execute_result"
    }
   ],
   "source": [
    "data[:3]"
   ]
  },
  {
   "cell_type": "code",
   "execution_count": 399,
   "metadata": {},
   "outputs": [],
   "source": [
    "p = np.array([981, 566, 981,  11]).reshape(2,2)"
   ]
  },
  {
   "cell_type": "code",
   "execution_count": null,
   "metadata": {},
   "outputs": [],
   "source": []
  },
  {
   "cell_type": "code",
   "execution_count": 376,
   "metadata": {},
   "outputs": [
    {
     "data": {
      "text/plain": [
       "array([[981, 566],\n",
       "       [981,  11]])"
      ]
     },
     "execution_count": 376,
     "metadata": {},
     "output_type": "execute_result"
    }
   ],
   "source": [
    "p"
   ]
  },
  {
   "cell_type": "code",
   "execution_count": 390,
   "metadata": {},
   "outputs": [],
   "source": [
    "_, c = np.unique(np.linspace(p[0], p[1], p.ptp(0).max(), dtype=np.int32), axis=0, return_counts=True)"
   ]
  },
  {
   "cell_type": "code",
   "execution_count": 391,
   "metadata": {},
   "outputs": [
    {
     "data": {
      "text/plain": [
       "array([1, 1, 1, 1, 1, 1, 1, 1, 1, 1, 1, 1, 1, 1, 1, 1, 1, 1, 1, 1, 1, 1,\n",
       "       1, 1, 1, 1, 1, 1, 1, 1, 1, 1, 1, 1, 1, 1, 1, 1, 1, 1, 1, 1, 1, 1,\n",
       "       1, 1, 1, 1, 1, 1, 1, 1, 1, 1, 1, 1, 1, 1, 1, 1, 1, 1, 1, 1, 1, 1,\n",
       "       1, 1, 1, 1, 1, 1, 1, 1, 1, 1, 1, 1, 1, 1, 1, 1, 1, 1, 1, 1, 1, 1,\n",
       "       1, 1, 1, 1, 1, 1, 1, 1, 1, 1, 1, 1, 1, 1, 1, 1, 1, 1, 1, 1, 1, 1,\n",
       "       1, 1, 1, 1, 1, 1, 1, 1, 1, 1, 1, 1, 1, 1, 1, 1, 1, 1, 1, 1, 1, 1,\n",
       "       1, 1, 1, 1, 1, 1, 1, 1, 1, 1, 1, 1, 1, 1, 1, 1, 1, 1, 1, 1, 1, 1,\n",
       "       1, 1, 1, 1, 1, 1, 1, 1, 1, 1, 1, 1, 1, 1, 1, 1, 1, 1, 1, 1, 1, 1,\n",
       "       1, 1, 1, 1, 1, 1, 1, 1, 1, 1, 1, 1, 1, 1, 1, 1, 1, 1, 1, 1, 1, 1,\n",
       "       1, 1, 1, 1, 1, 1, 1, 1, 1, 1, 1, 1, 1, 1, 1, 1, 1, 1, 1, 1, 1, 1,\n",
       "       1, 1, 1, 1, 1, 1, 1, 1, 1, 1, 1, 1, 1, 1, 1, 1, 1, 1, 1, 1, 1, 1,\n",
       "       1, 1, 1, 1, 1, 1, 1, 1, 1, 1, 1, 1, 1, 1, 1, 1, 1, 1, 1, 1, 1, 1,\n",
       "       1, 1, 1, 1, 1, 1, 1, 1, 1, 1, 1, 1, 1, 1, 1, 1, 1, 1, 1, 1, 1, 1,\n",
       "       1, 1, 1, 1, 1, 1, 1, 1, 1, 1, 1, 1, 1, 1, 1, 1, 1, 1, 1, 1, 1, 1,\n",
       "       1, 1, 1, 1, 1, 1, 1, 1, 1, 1, 1, 1, 1, 1, 1, 1, 1, 1, 1, 1, 1, 1,\n",
       "       1, 1, 1, 1, 1, 1, 1, 1, 1, 1, 1, 1, 1, 1, 1, 1, 1, 1, 1, 1, 1, 1,\n",
       "       1, 1, 1, 1, 1, 1, 1, 1, 1, 1, 1, 1, 1, 1, 1, 1, 1, 1, 1, 1, 1, 1,\n",
       "       1, 1, 1, 1, 1, 1, 1, 1, 1, 1, 1, 1, 1, 1, 1, 1, 1, 1, 1, 1, 1, 1,\n",
       "       1, 1, 1, 1, 1, 1, 1, 1, 1, 1, 1, 1, 1, 1, 1, 1, 1, 1, 1, 1, 1, 1,\n",
       "       1, 1, 1, 1, 1, 1, 1, 1, 1, 1, 1, 1, 1, 1, 1, 1, 1, 1, 1, 1, 1, 1,\n",
       "       1, 1, 1, 1, 1, 1, 1, 1, 1, 1, 1, 1, 1, 1, 1, 1, 1, 1, 1, 1, 1, 1,\n",
       "       1, 1, 1, 1, 1, 1, 1, 1, 1, 1, 1, 1, 1, 1, 1, 1, 1, 1, 1, 1, 1, 1,\n",
       "       1, 1, 1, 1, 1, 1, 1, 1, 1, 1, 1, 1, 1, 1, 1, 1, 1, 1, 1, 1, 1, 1,\n",
       "       1, 1, 1, 1, 1, 1, 1, 1, 1, 1, 1, 1, 1, 1, 1, 1, 1, 1, 1, 1, 1, 1,\n",
       "       1, 1, 1, 1, 1, 1, 1, 1, 1, 1, 1, 1, 1, 1, 1, 1, 1, 1, 1, 1, 1, 1,\n",
       "       1, 1, 1, 1, 1])"
      ]
     },
     "execution_count": 391,
     "metadata": {},
     "output_type": "execute_result"
    }
   ],
   "source": [
    "c"
   ]
  },
  {
   "cell_type": "code",
   "execution_count": 387,
   "metadata": {},
   "outputs": [
    {
     "data": {
      "text/plain": [
       "(array([981, 566]), array([981,  11]))"
      ]
     },
     "execution_count": 387,
     "metadata": {},
     "output_type": "execute_result"
    }
   ],
   "source": [
    "p[0], p[1]"
   ]
  },
  {
   "cell_type": "code",
   "execution_count": 388,
   "metadata": {},
   "outputs": [
    {
     "data": {
      "text/plain": [
       "556"
      ]
     },
     "execution_count": 388,
     "metadata": {},
     "output_type": "execute_result"
    }
   ],
   "source": [
    "556"
   ]
  },
  {
   "cell_type": "code",
   "execution_count": 389,
   "metadata": {},
   "outputs": [
    {
     "data": {
      "text/plain": [
       "556"
      ]
     },
     "execution_count": 389,
     "metadata": {},
     "output_type": "execute_result"
    }
   ],
   "source": [
    "np.linspace(p[0])"
   ]
  },
  {
   "cell_type": "code",
   "execution_count": null,
   "metadata": {},
   "outputs": [],
   "source": []
  },
  {
   "cell_type": "code",
   "execution_count": 374,
   "metadata": {},
   "outputs": [
    {
     "data": {
      "text/plain": [
       "array([[  0, 404, 404,   0],\n",
       "       [735,  73, 316,  73],\n",
       "       [981, 566, 981,  11]])"
      ]
     },
     "execution_count": 374,
     "metadata": {},
     "output_type": "execute_result"
    }
   ],
   "source": [
    "data[:3]"
   ]
  },
  {
   "cell_type": "code",
   "execution_count": 396,
   "metadata": {},
   "outputs": [
    {
     "name": "stdout",
     "output_type": "stream",
     "text": [
      "20\n",
      "[[0 9]\n",
      " [2 9]\n",
      " [3 4]\n",
      " [7 4]]\n",
      "Counter({1: 12, 2: 4})\n"
     ]
    },
    {
     "data": {
      "text/plain": [
       "4"
      ]
     },
     "execution_count": 396,
     "metadata": {},
     "output_type": "execute_result"
    }
   ],
   "source": [
    "overlap_npc(sample)"
   ]
  },
  {
   "cell_type": "code",
   "execution_count": 419,
   "metadata": {},
   "outputs": [
    {
     "name": "stdout",
     "output_type": "stream",
     "text": [
      "114149\n",
      "[[ 21 765]\n",
      " [ 26 334]\n",
      " [ 26 417]\n",
      " ...\n",
      " [977 677]\n",
      " [981 407]\n",
      " [981 472]]\n",
      "Counter({1: 101966, 2: 5832, 3: 173})\n"
     ]
    },
    {
     "data": {
      "text/plain": [
       "6005"
      ]
     },
     "execution_count": 419,
     "metadata": {},
     "output_type": "execute_result"
    }
   ],
   "source": [
    "overlap_npc(data)"
   ]
  },
  {
   "cell_type": "code",
   "execution_count": null,
   "metadata": {},
   "outputs": [],
   "source": []
  },
  {
   "cell_type": "code",
   "execution_count": 369,
   "metadata": {},
   "outputs": [
    {
     "name": "stdout",
     "output_type": "stream",
     "text": [
      "976\n"
     ]
    },
    {
     "data": {
      "text/plain": [
       "0"
      ]
     },
     "execution_count": 369,
     "metadata": {},
     "output_type": "execute_result"
    }
   ],
   "source": [
    "overlap(data[:3])"
   ]
  },
  {
   "cell_type": "code",
   "execution_count": null,
   "metadata": {},
   "outputs": [],
   "source": []
  }
 ],
 "metadata": {
  "kernelspec": {
   "display_name": "Python 3",
   "language": "python",
   "name": "python3"
  },
  "language_info": {
   "codemirror_mode": {
    "name": "ipython",
    "version": 3
   },
   "file_extension": ".py",
   "mimetype": "text/x-python",
   "name": "python",
   "nbconvert_exporter": "python",
   "pygments_lexer": "ipython3",
   "version": "3.8.3"
  }
 },
 "nbformat": 4,
 "nbformat_minor": 4
}
