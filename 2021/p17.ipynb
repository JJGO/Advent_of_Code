{
 "cells": [
  {
   "cell_type": "code",
   "execution_count": 125,
   "id": "3b946ba3",
   "metadata": {},
   "outputs": [],
   "source": [
    "import parse"
   ]
  },
  {
   "cell_type": "code",
   "execution_count": 126,
   "id": "7332b178",
   "metadata": {},
   "outputs": [],
   "source": [
    "from aocd.models import Puzzle\n",
    "\n",
    "puzzle = Puzzle(year=2021, day=17)\n",
    "\n",
    "def parses(text):\n",
    "    return tuple([i.fixed[0] for i in parse.findall('{:d}', text)])\n",
    "\n",
    "data = parses(puzzle.input_data)"
   ]
  },
  {
   "cell_type": "code",
   "execution_count": 127,
   "id": "033e9b10",
   "metadata": {},
   "outputs": [
    {
     "data": {
      "text/plain": [
       "(119, 176, -141, -84)"
      ]
     },
     "execution_count": 127,
     "metadata": {},
     "output_type": "execute_result"
    }
   ],
   "source": [
    "data"
   ]
  },
  {
   "cell_type": "code",
   "execution_count": 128,
   "id": "d2252edd",
   "metadata": {},
   "outputs": [],
   "source": [
    "def sign(x):\n",
    "    if x == 0:\n",
    "        return 0\n",
    "    elif x > 0:\n",
    "        return 1\n",
    "    else:\n",
    "        return -1"
   ]
  },
  {
   "cell_type": "code",
   "execution_count": 129,
   "id": "977c60c7",
   "metadata": {},
   "outputs": [],
   "source": [
    "sample = parses(\"target area: x=20..30, y=-10..-5\")"
   ]
  },
  {
   "cell_type": "code",
   "execution_count": 130,
   "id": "40124f9b",
   "metadata": {},
   "outputs": [],
   "source": [
    "def solve_a(bounds):\n",
    "    vxs = range(1,right)\n",
    "    vys = range(abs(bottom),bottom,-1)\n",
    "    maxy = float('-inf')\n",
    "    best_init = None\n",
    "    for vx, vy in itertools.product(vxs, vys):\n",
    "        x, y = 0, 0\n",
    "        init = (vx, vy)\n",
    "        local_maxy = 0\n",
    "        for t in itertools.count():\n",
    "            x = x + vx\n",
    "            y = y + vy\n",
    "            local_maxy = max(local_maxy, y)\n",
    "            vx -= sign(vx)\n",
    "            vy -= 1\n",
    "            if left <= x <= right and bottom <= y <= top:\n",
    "                return local_maxy\n",
    "            if ((x < left and vx == 0) or \n",
    "                (x > right and vx > 0) or\n",
    "                (y < bottom)):\n",
    "                break        "
   ]
  },
  {
   "cell_type": "code",
   "execution_count": 131,
   "id": "43c0aaa8",
   "metadata": {},
   "outputs": [
    {
     "data": {
      "text/plain": [
       "45"
      ]
     },
     "execution_count": 131,
     "metadata": {},
     "output_type": "execute_result"
    }
   ],
   "source": [
    "solve_a(sample)"
   ]
  },
  {
   "cell_type": "code",
   "execution_count": 132,
   "id": "c22c6a40",
   "metadata": {},
   "outputs": [
    {
     "data": {
      "text/plain": [
       "9870"
      ]
     },
     "execution_count": 132,
     "metadata": {},
     "output_type": "execute_result"
    }
   ],
   "source": [
    "solve_a(data)"
   ]
  },
  {
   "cell_type": "code",
   "execution_count": 133,
   "id": "07a3233b",
   "metadata": {},
   "outputs": [],
   "source": [
    "def solve_b(bounds):\n",
    "    left, right, bottom, top = bounds\n",
    "    vxs = range(1,right+1)\n",
    "    vys = range(10*(top-bottom),bottom-1,-1)\n",
    "    ways = 0\n",
    "    for vx, vy in itertools.product(vxs, vys):\n",
    "        x, y = 0, 0\n",
    "        init = (vx, vy)\n",
    "        local_maxy = 0\n",
    "        for t in itertools.count():\n",
    "            x = x + vx\n",
    "            y = y + vy\n",
    "            local_maxy = max(local_maxy, y)\n",
    "            vx -= sign(vx)\n",
    "            vy -= 1\n",
    "            if left <= x <= right and bottom <= y <= top:\n",
    "                ways += 1\n",
    "                break\n",
    "            if ((x < left and vx == 0) or \n",
    "                (x > right and vx > 0) or\n",
    "                (y < bottom)):\n",
    "                break       \n",
    "    return ways"
   ]
  },
  {
   "cell_type": "code",
   "execution_count": 134,
   "id": "7b332a9d",
   "metadata": {},
   "outputs": [
    {
     "data": {
      "text/plain": [
       "112"
      ]
     },
     "execution_count": 134,
     "metadata": {},
     "output_type": "execute_result"
    }
   ],
   "source": [
    "solve_b(sample)"
   ]
  },
  {
   "cell_type": "code",
   "execution_count": 135,
   "id": "689189d7",
   "metadata": {},
   "outputs": [
    {
     "data": {
      "text/plain": [
       "5523"
      ]
     },
     "execution_count": 135,
     "metadata": {},
     "output_type": "execute_result"
    }
   ],
   "source": [
    "solve_b(data)"
   ]
  },
  {
   "cell_type": "code",
   "execution_count": null,
   "id": "9b4719bb",
   "metadata": {},
   "outputs": [],
   "source": [
    "(left+right)//2"
   ]
  },
  {
   "cell_type": "code",
   "execution_count": 139,
   "id": "2ecf4d8f",
   "metadata": {},
   "outputs": [],
   "source": []
  },
  {
   "cell_type": "code",
   "execution_count": 140,
   "id": "66ba906f",
   "metadata": {},
   "outputs": [
    {
     "data": {
      "text/plain": [
       "45"
      ]
     },
     "execution_count": 140,
     "metadata": {},
     "output_type": "execute_result"
    }
   ],
   "source": [
    "fastsolve_a(sample)"
   ]
  },
  {
   "cell_type": "code",
   "execution_count": 141,
   "id": "a75c5cab",
   "metadata": {},
   "outputs": [
    {
     "data": {
      "text/plain": [
       "9870"
      ]
     },
     "execution_count": 141,
     "metadata": {},
     "output_type": "execute_result"
    }
   ],
   "source": [
    "fastsolve_a(data)"
   ]
  },
  {
   "cell_type": "code",
   "execution_count": 167,
   "id": "25c5cc4e",
   "metadata": {},
   "outputs": [
    {
     "data": {
      "text/plain": [
       "[1, 3, 6, 10, 15, 21, 28, 36, 45]"
      ]
     },
     "execution_count": 167,
     "metadata": {},
     "output_type": "execute_result"
    }
   ],
   "source": [
    "[i*(i+1)//2 for i in range(1,10)]"
   ]
  },
  {
   "cell_type": "code",
   "execution_count": null,
   "id": "7bce1f9d",
   "metadata": {},
   "outputs": [],
   "source": []
  },
  {
   "cell_type": "code",
   "execution_count": 204,
   "id": "0f3f568a",
   "metadata": {},
   "outputs": [
    {
     "data": {
      "text/plain": [
       "13"
      ]
     },
     "execution_count": 204,
     "metadata": {},
     "output_type": "execute_result"
    }
   ],
   "source": [
    "5+4+3+1"
   ]
  },
  {
   "cell_type": "code",
   "execution_count": 218,
   "id": "a1a0520a",
   "metadata": {},
   "outputs": [
    {
     "name": "stdout",
     "output_type": "stream",
     "text": [
      "3\n",
      "45\n"
     ]
    }
   ],
   "source": [
    "bounds = (42,42,-10,-1)  \n",
    "print(solve_a(bounds)) \n",
    "print(fastsolve_a(bounds))"
   ]
  },
  {
   "cell_type": "code",
   "execution_count": null,
   "id": "7ef3af85",
   "metadata": {},
   "outputs": [],
   "source": [
    "bounds = (10,10,-10,-1)  \n",
    "print(solve_a(bounds)) \n",
    "print(fastsolve_a(bounds))"
   ]
  },
  {
   "cell_type": "code",
   "execution_count": 219,
   "id": "e52ae5e7",
   "metadata": {},
   "outputs": [
    {
     "name": "stdout",
     "output_type": "stream",
     "text": [
      "36\n",
      "36\n"
     ]
    }
   ],
   "source": [
    "bounds = (45,45,-9,0)  \n",
    "print(solve_a(bounds)) \n",
    "print(fastsolve_a(bounds))"
   ]
  },
  {
   "cell_type": "code",
   "execution_count": 213,
   "id": "3b79201c",
   "metadata": {},
   "outputs": [],
   "source": [
    "tricky_sample = (42,42,-10,-1)"
   ]
  },
  {
   "cell_type": "code",
   "execution_count": null,
   "id": "b7761d43",
   "metadata": {},
   "outputs": [],
   "source": []
  },
  {
   "cell_type": "code",
   "execution_count": null,
   "id": "72e1fc2c",
   "metadata": {},
   "outputs": [],
   "source": [
    "def f(x):\n",
    "    2*x"
   ]
  },
  {
   "cell_type": "code",
   "execution_count": null,
   "id": "f40d9588",
   "metadata": {},
   "outputs": [],
   "source": [
    "x^2 + x - 2c = 0"
   ]
  },
  {
   "cell_type": "code",
   "execution_count": 188,
   "id": "751f57ea",
   "metadata": {},
   "outputs": [],
   "source": [
    "def triangular_in_interval(low, high):\n",
    "    # Solve for (x*(x+1))/2 = triangular\n",
    "    a = math.ceil((-1 + math.sqrt(1+8*low))/2)\n",
    "    b = math.floor((-1 + math.sqrt(1+8*high))/2)\n",
    "    return a == b"
   ]
  },
  {
   "cell_type": "code",
   "execution_count": null,
   "id": "f8a4d62f",
   "metadata": {},
   "outputs": [],
   "source": [
    "def solve_a(bounds):\n",
    "    left, right, bottom, top = bounds\n",
    "    # x positions are triangular number, can only reach valid \n",
    "    if not triangular_in_interval(low, high):\n",
    "        \n",
    "\n",
    "    max_vy = 0-bottom # We reach the bottom in a last step from 0\n",
    "    return max_vy*(max_vy-1)//2"
   ]
  },
  {
   "cell_type": "code",
   "execution_count": 190,
   "id": "d426d0bd",
   "metadata": {},
   "outputs": [
    {
     "data": {
      "text/plain": [
       "True"
      ]
     },
     "execution_count": 190,
     "metadata": {},
     "output_type": "execute_result"
    }
   ],
   "source": [
    "triangular_in_interval(16,21)"
   ]
  },
  {
   "cell_type": "code",
   "execution_count": 179,
   "id": "4ca3e648",
   "metadata": {},
   "outputs": [
    {
     "data": {
      "text/plain": [
       "True"
      ]
     },
     "execution_count": 179,
     "metadata": {},
     "output_type": "execute_result"
    }
   ],
   "source": [
    "triangular_in_interval(16,19)"
   ]
  },
  {
   "cell_type": "code",
   "execution_count": null,
   "id": "c9ccbb90",
   "metadata": {},
   "outputs": [],
   "source": []
  },
  {
   "cell_type": "code",
   "execution_count": 176,
   "id": "d5add290",
   "metadata": {},
   "outputs": [
    {
     "data": {
      "text/plain": [
       "(5.178908345800274, -6.178908345800274)"
      ]
     },
     "execution_count": 176,
     "metadata": {},
     "output_type": "execute_result"
    }
   ],
   "source": [
    "f(16)"
   ]
  },
  {
   "cell_type": "code",
   "execution_count": 216,
   "id": "d40c6a31",
   "metadata": {},
   "outputs": [],
   "source": [
    "def valid_velocities(bounds):\n",
    "    left, right, bottom, top = bounds\n",
    "    vxs = range(1, right + 1)\n",
    "    vys = range(abs(bottom), bottom - 1, -1)\n",
    "    for vx, vy in itertools.product(vxs, vys):\n",
    "        x, y = 0, 0\n",
    "        init = (vx, vy)\n",
    "        local_maxy = 0\n",
    "        while not ((x < left and vx == 0) or (x > right and vx > 0) or (y < bottom)):\n",
    "            x = x + vx\n",
    "            y = y + vy\n",
    "            vx -= sign(vx)\n",
    "            vy -= 1\n",
    "            local_maxy = max(local_maxy, y)\n",
    "            if left <= x <= right and bottom <= y <= top:\n",
    "                yield (init, local_maxy)\n",
    "                break\n"
   ]
  },
  {
   "cell_type": "code",
   "execution_count": 217,
   "id": "c6568aa1",
   "metadata": {},
   "outputs": [
    {
     "data": {
      "text/plain": [
       "((9, 9), 45)"
      ]
     },
     "execution_count": 217,
     "metadata": {},
     "output_type": "execute_result"
    }
   ],
   "source": [
    "next(valid_velocities((45,45,-9,0)))"
   ]
  },
  {
   "cell_type": "code",
   "execution_count": null,
   "id": "69e70cb3",
   "metadata": {},
   "outputs": [],
   "source": []
  }
 ],
 "metadata": {
  "kernelspec": {
   "display_name": "Python 3",
   "language": "python",
   "name": "python3"
  },
  "language_info": {
   "codemirror_mode": {
    "name": "ipython",
    "version": 3
   },
   "file_extension": ".py",
   "mimetype": "text/x-python",
   "name": "python",
   "nbconvert_exporter": "python",
   "pygments_lexer": "ipython3",
   "version": "3.8.8"
  }
 },
 "nbformat": 4,
 "nbformat_minor": 5
}
